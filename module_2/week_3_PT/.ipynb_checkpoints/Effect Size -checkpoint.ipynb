{
 "cells": [
  {
   "cell_type": "markdown",
   "metadata": {},
   "source": [
    "## Effect Size \n",
    "\n",
    "- Effect size is the magnitude of the difference between groups.\n",
    "\n",
    "**For example,**\n",
    "We have a class of 25 students and we've just come up with a new intervention technique that we think might improve student test scores. We need to test this new technique to see if the results are actually effective. We recruit another class of 25 students to use as a control group and give each class a pre-test. We observe that the average scores are just about equal for both the test and control group. Which means the average student(13) in our test group would be an average student in our control group without any intervention. So then we implement the intervention on our test group and not the control. Then we give both groups another test. If the intervention has no effect then we expect to get the same results, that both classes test averages are about the same. However, we observe a difference in the test score averages. So we calculate the effect size of the intervention another way to say this is \"How well did the intervention work?\" We calculate an effect size of 1.7. What does this mean? If there was an effect size of 0 that would mean if we took our average student from the test group and put him into the control groups class he would still be an average student. If we saw an effect size of .3 that means our average test class student would now be a slightly better than average student in our control group putting him at about 10th in the class. An effect size of 1.6 would put him first in the control class! We want to see an effect size of at least .3 to say there was a significant effect.  \n"
   ]
  },
  {
   "cell_type": "markdown",
   "metadata": {},
   "source": [
    "## Statistical Power \n",
    "\n",
    "Power is 1-β, where β is the probability of wrongly concluding there is no effect when one actually exists. This type of error is termed Type II error. Like statistical significance, statistical power depends upon effect size and sample size. If the effect size of the intervention is large, it is possible to detect such an effect in smaller sample numbers, whereas a smaller effect size would require larger sample sizes.\n",
    "\n",
    "Methods to increase the power of your study include:\n",
    "- using more potent interventions that have bigger effects \n",
    "- increasing the size of the sample/subjects\n",
    "- raising the α level but only if making a Type I error is highly unlikely"
   ]
  },
  {
   "cell_type": "code",
   "execution_count": null,
   "metadata": {},
   "outputs": [],
   "source": []
  }
 ],
 "metadata": {
  "kernelspec": {
   "display_name": "learn-env",
   "language": "python",
   "name": "learn-env"
  },
  "language_info": {
   "codemirror_mode": {
    "name": "ipython",
    "version": 3
   },
   "file_extension": ".py",
   "mimetype": "text/x-python",
   "name": "python",
   "nbconvert_exporter": "python",
   "pygments_lexer": "ipython3",
   "version": "3.6.6"
  },
  "toc": {
   "base_numbering": 1,
   "nav_menu": {},
   "number_sections": true,
   "sideBar": true,
   "skip_h1_title": true,
   "title_cell": "Table of Contents",
   "title_sidebar": "Contents",
   "toc_cell": false,
   "toc_position": {},
   "toc_section_display": true,
   "toc_window_display": false
  }
 },
 "nbformat": 4,
 "nbformat_minor": 2
}
