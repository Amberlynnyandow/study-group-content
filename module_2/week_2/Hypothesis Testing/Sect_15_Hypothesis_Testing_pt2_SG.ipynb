{
 "cells": [
  {
   "cell_type": "markdown",
   "metadata": {
    "colab_type": "text",
    "id": "ZM6DyjYckZl2"
   },
   "source": [
    "\n",
    "# 🗓Section 15: Hypothesis A/B Testing"
   ]
  },
  {
   "cell_type": "markdown",
   "metadata": {
    "colab_type": "text",
    "id": "EM8QVDhSUCa_"
   },
   "source": [
    "- onl01-dtsc-030220\n",
    "- 04/10/20\n",
    "\n"
   ]
  },
  {
   "cell_type": "markdown",
   "metadata": {
    "colab_type": "text",
    "id": "BWefqzWJoc_E"
   },
   "source": [
    "# Topics \n",
    " "
   ]
  },
  {
   "cell_type": "markdown",
   "metadata": {},
   "source": [
    "- Discuss Hypothesis Testing Workflow: choosing the correct hypothesis test.\n",
    "    - [CodeAcademy Hypothesis Testing Slideshow](https://drive.google.com/open?id=1p4R2KCErq_iUO-wnfDrGPukTgQDBNoc7)    \n",
    "    - `hypothesis_testing_workflow_v2-WIP.ipynb`\n",
    "- Discuss testing assumptions of selected test.\n",
    "    - What to do when we fail the assumptions?\n",
    "\n",
    "- Hands-On Hypothesis Testing with Mouse Drinking Data"
   ]
  },
  {
   "cell_type": "markdown",
   "metadata": {},
   "source": [
    "## QUESTIONS/COMMENTS/INSIGHTS?"
   ]
  },
  {
   "cell_type": "markdown",
   "metadata": {},
   "source": [
    "- "
   ]
  },
  {
   "cell_type": "markdown",
   "metadata": {},
   "source": [
    "## Resources\n",
    "**Overivews/Cheatsheets**\n",
    "- [CodeAcademy Hypothesis Testing Slideshow](https://drive.google.com/open?id=1p4R2KCErq_iUO-wnfDrGPukTgQDBNoc7)\n",
    "- [Cheatsheet: Hypothesis Testing with Scipy](https://drive.google.com/open?id=1EY4UCg20HawWlWa50M2tFauoKBQcFFAW)\n",
    "\n",
    "\n",
    "- [Choosing Between Parametric and Non-Parametric Tests](https://blog.minitab.com/blog/adventures-in-statistics-2/choosing-between-a-nonparametric-test-and-a-parametric-test)\n",
    "\n",
    "**Trustable Stat References**:\n",
    "- [Graphpad Prism's Stat Guide](https://www.graphpad.com/guides/prism/8/statistics/index.htm)\n",
    "- [LAERD Statistics Test Selector](https://statistics.laerd.com/premium/sts/index.php)\n"
   ]
  },
  {
   "cell_type": "markdown",
   "metadata": {},
   "source": [
    "## HYPOTHESIS TESTING STEPS"
   ]
  },
  {
   "cell_type": "markdown",
   "metadata": {},
   "source": [
    "- State the null and alternative hypotheses\n",
    "- Determine what kind of data/groups you have and select the correct hypothesis test.\n",
    "\n",
    "\n",
    "| What type of comparison? | Numeric Data | Categorical Data|\n",
    "| --- | --- | --- |\n",
    "|Sample vs Known Quantity/Target|1 Sample T-Test| Binomial Test|\n",
    "|2 Samples | 2 Sample T-Test| Chi-Square|\n",
    "|More than 2| ANOVA and/or Tukey | Chi Square|\n",
    "\n",
    "\n",
    "\n",
    "- Separate data in group vars.\n",
    "- Visualize data and calculate group n (size)\n",
    "- Remove any outliers (based on groups, not full column)\n",
    "- Test the assumptions of the hypothesis test you selected. \n",
    "\n",
    "- For t-tests & ANOVAs: test for the assumptions of normality and homogeneity of variance.\n",
    "\n",
    "    1. Check if sample sizes allow us to ignore assumptions, and if not:\n",
    "    2. **Test Assumption Normality**\n",
    "        - D'Agostino-Pearson's normality test<br>\n",
    "        ```scipy.stats.normaltest```\n",
    "        - Shapiro-Wilik Test<br>\n",
    "        ```scipy.stats.shapiro```<br>\n",
    "    3. **Test for Homogeneity of Variance**\n",
    "\n",
    "     - Levene's Test<br>\n",
    "    ```scipy.stats.levene```\n",
    "\n",
    "    4. **Choose appropriate test based upon the above** \n",
    "        * Select the appropriate test based on type of comparison being made, the number of groups, the type of data.\n",
    "        - Select the non-parametric equivalent of your test if you fail the assumptions from the table \n",
    "\n",
    "\n",
    "| Parametric tests (means) | Nonparametric tests (medians) |\n",
    " | --- | --- |\n",
    " | 1-sample t test | 1-sample Wilcoxon |\n",
    " | 2-sample t test | Mann-Whitney U test |\n",
    " | One-Way ANOVA | Kruskal-Wallis |"
   ]
  },
  {
   "cell_type": "markdown",
   "metadata": {},
   "source": [
    "# Statistical Tests Summary Table"
   ]
  },
  {
   "cell_type": "markdown",
   "metadata": {},
   "source": [
    "| Parametric tests (means) | Function | Nonparametric tests (medians) | Function |\n",
    " | --- | --- | --- | --- |\n",
    " | **1-sample t test** |`scipy.stats.ttest_1samp()`|  **1-sample Wilcoxon** |`scipy.stats.wilcoxon`|\n",
    " | **2-sample t test** |`scipy.stats.ttest_ind()` | **Mann-Whitney U test** |`scipy.stats.mannwhitneyu()` |\n",
    " | **One-Way ANOVA** | `scipy.stats.f_oneway()` | **Kruskal-Wallis** | `scipy.stats.kruskal` | \n",
    "| **Two-Way ANOVA** | `statsmodels.stats.formula.api.ols` + `statsmodels.stats.anova.anova_lm`\n",
    "    \n",
    "* **Perform chosen statistical test, calculate effect size, and any post-hoc tests.**\n",
    "    - To perform post-hoc pairwise comparison testing\n",
    "    - Effect size calculation\n",
    "        - Cohen's d\n",
    "\n",
    "<!---\n",
    "\n",
    "| Parametric tests (means) | Function | Nonparametric tests (medians) | Function |\n",
    " | --- | --- | --- | --- |\n",
    " | 1-sample t test |`scipy.stats.ttest_1samp()`|  1-sample Wilcoxon |`scipy.stats.wilcoxon`|\n",
    " | 2-sample t test |`scipy.stats.ttest_ind()` | Mann-Whitney U test |`scipy.stats.mannwhitneyu()` |\n",
    " | One-Way ANOVA | `scipy.stats.f_oneway()` | Kruskal-Wallis | `scipy.stats.kruskal` | \n",
    " | Factorial DOE with one factor and one blocking variable |Friedman test  | --->\n"
   ]
  },
  {
   "cell_type": "markdown",
   "metadata": {},
   "source": [
    "# Hypothesis Testing: Mouse Data"
   ]
  },
  {
   "cell_type": "code",
   "execution_count": 9,
   "metadata": {
    "ExecuteTime": {
     "end_time": "2020-04-10T16:17:25.000979Z",
     "start_time": "2020-04-10T16:17:24.992775Z"
    }
   },
   "outputs": [
    {
     "data": {
      "text/html": [
       "<img src=\"https://raw.githubusercontent.com/jirvingphd/fsds_100719_cohort_notes/master/images/sect_20_neuro_data.png\">"
      ],
      "text/plain": [
       "<IPython.core.display.HTML object>"
      ]
     },
     "execution_count": 9,
     "metadata": {},
     "output_type": "execute_result"
    }
   ],
   "source": [
    "from IPython.display import HTML\n",
    "HTML('<img src=\"https://raw.githubusercontent.com/jirvingphd/fsds_100719_cohort_notes/master/images/sect_20_neuro_data.png\">')"
   ]
  },
  {
   "cell_type": "markdown",
   "metadata": {},
   "source": [
    "#  **Stating our Hypothesis:**"
   ]
  },
  {
   "cell_type": "markdown",
   "metadata": {},
   "source": [
    "> **What question are you attempting to answer?**\n",
    "\n",
    "\n",
    "- $H_1$ : \n",
    "\n",
    "- $H_0$ :\n",
    "\n",
    "<br>"
   ]
  },
  {
   "cell_type": "markdown",
   "metadata": {},
   "source": [
    "## Hypothesis"
   ]
  },
  {
   "cell_type": "markdown",
   "metadata": {},
   "source": [
    "> Question: does stimulation of CRF Neurons in the central amygdala increase alcohol consumption?\n",
    "\n",
    "- Metric: licks for alcohol\n",
    "- Two groups: Control and Experimental (ChR2)\n",
    "\n",
    "\n",
    "- $H_1$: There is a significant difference in average licks for alcohol between control and experimental/stimulated mice across phases.\n",
    "\n",
    "- $H_0$: There is no significant difference in licks for alcohol between control and experimental/stimulated mice across phases.\n",
    "\n",
    "$\\alpha$=0.05"
   ]
  },
  {
   "cell_type": "markdown",
   "metadata": {},
   "source": [
    "### Step 1: which type of test?"
   ]
  },
  {
   "cell_type": "markdown",
   "metadata": {},
   "source": [
    "- What type of data?\n",
    "    - Numerical\n",
    "- How many groups?\n",
    "    - 2 groups\n",
    "    - 4 phases\n",
    "- We have 2 different categorical variables and continuous numerical so we are going a two-way ANOVA"
   ]
  },
  {
   "cell_type": "markdown",
   "metadata": {},
   "source": [
    "\n",
    "## Obtaining/Preprocessing Data"
   ]
  },
  {
   "cell_type": "code",
   "execution_count": 10,
   "metadata": {
    "ExecuteTime": {
     "end_time": "2020-04-10T16:21:39.823451Z",
     "start_time": "2020-04-10T16:21:36.408367Z"
    },
    "colab": {
     "base_uri": "https://localhost:8080/",
     "height": 221
    },
    "colab_type": "code",
    "id": "soGUgJ9RRJOp",
    "outputId": "e919e060-8aae-48d4-ed29-3b4637408f13"
   },
   "outputs": [],
   "source": [
    "!pip install -U fsds_100719\n",
    "from fsds_100719.imports import *\n",
    "dp.clear_output()\n",
    "\n",
    "pd.set_option('display.max_columns',0)\n",
    "pd.set_option('display.precision',3)\n",
    "plt.style.use('seaborn-notebook')"
   ]
  },
  {
   "cell_type": "code",
   "execution_count": 2,
   "metadata": {
    "ExecuteTime": {
     "end_time": "2020-04-10T15:52:20.027100Z",
     "start_time": "2020-04-10T15:52:19.975100Z"
    }
   },
   "outputs": [
    {
     "data": {
      "text/html": [
       "<div>\n",
       "<style scoped>\n",
       "    .dataframe tbody tr th:only-of-type {\n",
       "        vertical-align: middle;\n",
       "    }\n",
       "\n",
       "    .dataframe tbody tr th {\n",
       "        vertical-align: top;\n",
       "    }\n",
       "\n",
       "    .dataframe thead th {\n",
       "        text-align: right;\n",
       "    }\n",
       "</style>\n",
       "<table border=\"1\" class=\"dataframe\">\n",
       "  <thead>\n",
       "    <tr style=\"text-align: right;\">\n",
       "      <th></th>\n",
       "      <th>Mouse ID</th>\n",
       "      <th>Group</th>\n",
       "      <th>Sex</th>\n",
       "      <th>BL1</th>\n",
       "      <th>BL2</th>\n",
       "      <th>BL3</th>\n",
       "      <th>BL4</th>\n",
       "      <th>S1</th>\n",
       "      <th>S2</th>\n",
       "      <th>S3</th>\n",
       "      <th>S4</th>\n",
       "      <th>PS1</th>\n",
       "      <th>PS2</th>\n",
       "      <th>PS3</th>\n",
       "      <th>PS4</th>\n",
       "      <th>R1</th>\n",
       "      <th>R2</th>\n",
       "      <th>R3</th>\n",
       "      <th>R4</th>\n",
       "      <th>R5</th>\n",
       "      <th>R6</th>\n",
       "      <th>R7</th>\n",
       "      <th>R8</th>\n",
       "    </tr>\n",
       "  </thead>\n",
       "  <tbody>\n",
       "    <tr>\n",
       "      <td>0</td>\n",
       "      <td>Con 4</td>\n",
       "      <td>Control</td>\n",
       "      <td>F</td>\n",
       "      <td>665</td>\n",
       "      <td>863</td>\n",
       "      <td>631</td>\n",
       "      <td>629</td>\n",
       "      <td>583</td>\n",
       "      <td>801</td>\n",
       "      <td>723</td>\n",
       "      <td>707</td>\n",
       "      <td>732</td>\n",
       "      <td>680</td>\n",
       "      <td>684</td>\n",
       "      <td>485</td>\n",
       "      <td>65</td>\n",
       "      <td>301</td>\n",
       "      <td>351</td>\n",
       "      <td>441</td>\n",
       "      <td>675</td>\n",
       "      <td>554</td>\n",
       "      <td>541</td>\n",
       "      <td>545</td>\n",
       "    </tr>\n",
       "    <tr>\n",
       "      <td>1</td>\n",
       "      <td>Con 5</td>\n",
       "      <td>Control</td>\n",
       "      <td>F</td>\n",
       "      <td>859</td>\n",
       "      <td>849</td>\n",
       "      <td>685</td>\n",
       "      <td>731</td>\n",
       "      <td>854</td>\n",
       "      <td>1103</td>\n",
       "      <td>645</td>\n",
       "      <td>633</td>\n",
       "      <td>733</td>\n",
       "      <td>662</td>\n",
       "      <td>605</td>\n",
       "      <td>623</td>\n",
       "      <td>128</td>\n",
       "      <td>268</td>\n",
       "      <td>462</td>\n",
       "      <td>569</td>\n",
       "      <td>988</td>\n",
       "      <td>728</td>\n",
       "      <td>933</td>\n",
       "      <td>564</td>\n",
       "    </tr>\n",
       "    <tr>\n",
       "      <td>2</td>\n",
       "      <td>Con 6</td>\n",
       "      <td>Control</td>\n",
       "      <td>F</td>\n",
       "      <td>589</td>\n",
       "      <td>507</td>\n",
       "      <td>635</td>\n",
       "      <td>902</td>\n",
       "      <td>699</td>\n",
       "      <td>743</td>\n",
       "      <td>761</td>\n",
       "      <td>949</td>\n",
       "      <td>872</td>\n",
       "      <td>952</td>\n",
       "      <td>828</td>\n",
       "      <td>806</td>\n",
       "      <td>129</td>\n",
       "      <td>311</td>\n",
       "      <td>669</td>\n",
       "      <td>666</td>\n",
       "      <td>516</td>\n",
       "      <td>579</td>\n",
       "      <td>913</td>\n",
       "      <td>736</td>\n",
       "    </tr>\n",
       "    <tr>\n",
       "      <td>3</td>\n",
       "      <td>CON 2.1</td>\n",
       "      <td>Control</td>\n",
       "      <td>M</td>\n",
       "      <td>939</td>\n",
       "      <td>909</td>\n",
       "      <td>850</td>\n",
       "      <td>756</td>\n",
       "      <td>807</td>\n",
       "      <td>617</td>\n",
       "      <td>526</td>\n",
       "      <td>736</td>\n",
       "      <td>743</td>\n",
       "      <td>625</td>\n",
       "      <td>690</td>\n",
       "      <td>759</td>\n",
       "      <td>281</td>\n",
       "      <td>357</td>\n",
       "      <td>386</td>\n",
       "      <td>585</td>\n",
       "      <td>565</td>\n",
       "      <td>550</td>\n",
       "      <td>806</td>\n",
       "      <td>732</td>\n",
       "    </tr>\n",
       "    <tr>\n",
       "      <td>4</td>\n",
       "      <td>ChR2 2.2</td>\n",
       "      <td>ChR2</td>\n",
       "      <td>F</td>\n",
       "      <td>710</td>\n",
       "      <td>505</td>\n",
       "      <td>494</td>\n",
       "      <td>596</td>\n",
       "      <td>620</td>\n",
       "      <td>589</td>\n",
       "      <td>676</td>\n",
       "      <td>537</td>\n",
       "      <td>779</td>\n",
       "      <td>537</td>\n",
       "      <td>581</td>\n",
       "      <td>515</td>\n",
       "      <td>477</td>\n",
       "      <td>659</td>\n",
       "      <td>737</td>\n",
       "      <td>606</td>\n",
       "      <td>713</td>\n",
       "      <td>682</td>\n",
       "      <td>709</td>\n",
       "      <td>759</td>\n",
       "    </tr>\n",
       "  </tbody>\n",
       "</table>\n",
       "</div>"
      ],
      "text/plain": [
       "   Mouse ID    Group Sex  BL1  BL2  BL3  BL4  ...   R2   R3   R4   R5   R6   R7   R8\n",
       "0     Con 4  Control   F  665  863  631  629  ...  301  351  441  675  554  541  545\n",
       "1     Con 5  Control   F  859  849  685  731  ...  268  462  569  988  728  933  564\n",
       "2     Con 6  Control   F  589  507  635  902  ...  311  669  666  516  579  913  736\n",
       "3   CON 2.1  Control   M  939  909  850  756  ...  357  386  585  565  550  806  732\n",
       "4  ChR2 2.2     ChR2   F  710  505  494  596  ...  659  737  606  713  682  709  759\n",
       "\n",
       "[5 rows x 23 columns]"
      ]
     },
     "execution_count": 2,
     "metadata": {},
     "output_type": "execute_result"
    }
   ],
   "source": [
    "df = pd.read_csv('datasets/neuro_drinking_data.csv')\n",
    "df = df.drop(columns=['Batch'])\n",
    "df.head()"
   ]
  },
  {
   "cell_type": "markdown",
   "metadata": {},
   "source": [
    "### Preprocessing Data"
   ]
  },
  {
   "cell_type": "markdown",
   "metadata": {},
   "source": [
    "#### Laying Out Our Approach"
   ]
  },
  {
   "cell_type": "markdown",
   "metadata": {},
   "source": [
    "0. Rename mouse IDs and Groups (ChR2 -> Experimental)\n",
    "1. Make a **dict/lists of the column names** that should be **averaged together** (`col_dict`) based on phase of the experiment (BL,S,PS,R)\n",
    "    - Make inverse dict with key=Day, Value=Phase\n",
    "2. Make a new df of means using `col_dict`\n",
    "3. Melt the dataframe with `pd.melt` to turn the day-columns into rows. \n",
    "    - Visualize the data\n",
    "4. Prepare data for testing assumptions\n",
    "    - Make a grp dict using  `df.groupby('Group').groups` \n",
    "\n",
    "5. Remove Outliers\n",
    "6. Test Normality\n",
    "7. Test Equal Variance\n",
    "8. Select  correct test\n",
    "9. Perform hypothesis test\n",
    "10. Perform post-hoc tests\n",
    "\n",
    "<!---\n",
    "**Variables:**\n",
    "\n",
    "- `col_dict` (dict): dict of column names to be grouped together for means\n",
    "- `df_means` (df): df of col_dict column means.\n",
    "- `grps` (dict): groupby dict where keys = 'Group' column and values = row indices\n",
    "\n",
    "- `data` (dict): Dictionary of...\n",
    "    - Series of each phase by group? --->"
   ]
  },
  {
   "cell_type": "code",
   "execution_count": 11,
   "metadata": {
    "ExecuteTime": {
     "end_time": "2020-04-10T16:24:21.350637Z",
     "start_time": "2020-04-10T16:24:21.341684Z"
    }
   },
   "outputs": [
    {
     "data": {
      "text/plain": [
       "['Con 4',\n",
       " 'Con 5',\n",
       " 'Con 6',\n",
       " 'CON 2.1',\n",
       " 'ChR2 2.2',\n",
       " 'ChR2 2.4',\n",
       " 'DID CeA 3.1',\n",
       " 'DID CeA 3.2',\n",
       " 'DID CeA 3.3',\n",
       " 'DID CeA 3.4',\n",
       " 'DID CeA 3.5?',\n",
       " 'DID CeA 3.6',\n",
       " 'DID CeA 3.7',\n",
       " 'DID CeA 3.8',\n",
       " 'DID CeA 3.9',\n",
       " 'CeA-DID 4.1',\n",
       " 'CeA-DID 4.2',\n",
       " 'CeA-DID 4.3',\n",
       " 'CeA-DID 4.4',\n",
       " 'CeA-DID 4.5',\n",
       " 'CeA-DID 4.6',\n",
       " 'CeA-DID 4.8']"
      ]
     },
     "execution_count": 11,
     "metadata": {},
     "output_type": "execute_result"
    }
   ],
   "source": [
    "## Make New Mouse IDs\n",
    "mouse_ids = list(df['Mouse ID'].unique())\n",
    "mouse_ids"
   ]
  },
  {
   "cell_type": "code",
   "execution_count": 14,
   "metadata": {
    "ExecuteTime": {
     "end_time": "2020-04-10T16:26:20.029387Z",
     "start_time": "2020-04-10T16:26:20.024397Z"
    }
   },
   "outputs": [
    {
     "data": {
      "text/plain": [
       "['Mouse1',\n",
       " 'Mouse2',\n",
       " 'Mouse3',\n",
       " 'Mouse4',\n",
       " 'Mouse5',\n",
       " 'Mouse6',\n",
       " 'Mouse7',\n",
       " 'Mouse8',\n",
       " 'Mouse9',\n",
       " 'Mouse10',\n",
       " 'Mouse11',\n",
       " 'Mouse12',\n",
       " 'Mouse13',\n",
       " 'Mouse14',\n",
       " 'Mouse15',\n",
       " 'Mouse16',\n",
       " 'Mouse17',\n",
       " 'Mouse18',\n",
       " 'Mouse19',\n",
       " 'Mouse20',\n",
       " 'Mouse21',\n",
       " 'Mouse22']"
      ]
     },
     "execution_count": 14,
     "metadata": {},
     "output_type": "execute_result"
    }
   ],
   "source": [
    "## Replace old mouse IDs\n",
    "new_ids = [f\"Mouse{i}\" for i in range(1,len(mouse_ids)+1)]\n",
    "new_ids"
   ]
  },
  {
   "cell_type": "code",
   "execution_count": 15,
   "metadata": {
    "ExecuteTime": {
     "end_time": "2020-04-10T16:26:58.797148Z",
     "start_time": "2020-04-10T16:26:58.792725Z"
    }
   },
   "outputs": [
    {
     "data": {
      "text/plain": [
       "{'Con 4': 'Mouse1',\n",
       " 'Con 5': 'Mouse2',\n",
       " 'Con 6': 'Mouse3',\n",
       " 'CON 2.1': 'Mouse4',\n",
       " 'ChR2 2.2': 'Mouse5',\n",
       " 'ChR2 2.4': 'Mouse6',\n",
       " 'DID CeA 3.1': 'Mouse7',\n",
       " 'DID CeA 3.2': 'Mouse8',\n",
       " 'DID CeA 3.3': 'Mouse9',\n",
       " 'DID CeA 3.4': 'Mouse10',\n",
       " 'DID CeA 3.5?': 'Mouse11',\n",
       " 'DID CeA 3.6': 'Mouse12',\n",
       " 'DID CeA 3.7': 'Mouse13',\n",
       " 'DID CeA 3.8': 'Mouse14',\n",
       " 'DID CeA 3.9': 'Mouse15',\n",
       " 'CeA-DID 4.1': 'Mouse16',\n",
       " 'CeA-DID 4.2': 'Mouse17',\n",
       " 'CeA-DID 4.3': 'Mouse18',\n",
       " 'CeA-DID 4.4': 'Mouse19',\n",
       " 'CeA-DID 4.5': 'Mouse20',\n",
       " 'CeA-DID 4.6': 'Mouse21',\n",
       " 'CeA-DID 4.8': 'Mouse22'}"
      ]
     },
     "execution_count": 15,
     "metadata": {},
     "output_type": "execute_result"
    }
   ],
   "source": [
    "id_map = dict(zip(mouse_ids, new_ids))\n",
    "id_map"
   ]
  },
  {
   "cell_type": "code",
   "execution_count": 16,
   "metadata": {
    "ExecuteTime": {
     "end_time": "2020-04-10T16:27:17.134757Z",
     "start_time": "2020-04-10T16:27:17.127390Z"
    }
   },
   "outputs": [
    {
     "data": {
      "text/plain": [
       "array(['Mouse1', 'Mouse2', 'Mouse3', 'Mouse4', 'Mouse5', 'Mouse6',\n",
       "       'Mouse7', 'Mouse8', 'Mouse9', 'Mouse10', 'Mouse11', 'Mouse12',\n",
       "       'Mouse13', 'Mouse14', 'Mouse15', 'Mouse16', 'Mouse17', 'Mouse18',\n",
       "       'Mouse19', 'Mouse20', 'Mouse21', 'Mouse22'], dtype=object)"
      ]
     },
     "execution_count": 16,
     "metadata": {},
     "output_type": "execute_result"
    }
   ],
   "source": [
    "df['Mouse ID'] = df['Mouse ID'].map(id_map)\n",
    "df['Mouse ID'].unique()"
   ]
  },
  {
   "cell_type": "code",
   "execution_count": 18,
   "metadata": {
    "ExecuteTime": {
     "end_time": "2020-04-10T16:29:11.517013Z",
     "start_time": "2020-04-10T16:29:11.475196Z"
    }
   },
   "outputs": [
    {
     "data": {
      "text/html": [
       "<div>\n",
       "<style scoped>\n",
       "    .dataframe tbody tr th:only-of-type {\n",
       "        vertical-align: middle;\n",
       "    }\n",
       "\n",
       "    .dataframe tbody tr th {\n",
       "        vertical-align: top;\n",
       "    }\n",
       "\n",
       "    .dataframe thead th {\n",
       "        text-align: right;\n",
       "    }\n",
       "</style>\n",
       "<table border=\"1\" class=\"dataframe\">\n",
       "  <thead>\n",
       "    <tr style=\"text-align: right;\">\n",
       "      <th></th>\n",
       "      <th>Mouse ID</th>\n",
       "      <th>Group</th>\n",
       "      <th>Sex</th>\n",
       "      <th>BL1</th>\n",
       "      <th>BL2</th>\n",
       "      <th>BL3</th>\n",
       "      <th>BL4</th>\n",
       "      <th>S1</th>\n",
       "      <th>S2</th>\n",
       "      <th>S3</th>\n",
       "      <th>S4</th>\n",
       "      <th>PS1</th>\n",
       "      <th>PS2</th>\n",
       "      <th>PS3</th>\n",
       "      <th>PS4</th>\n",
       "      <th>R1</th>\n",
       "      <th>R2</th>\n",
       "      <th>R3</th>\n",
       "      <th>R4</th>\n",
       "      <th>R5</th>\n",
       "      <th>R6</th>\n",
       "      <th>R7</th>\n",
       "      <th>R8</th>\n",
       "    </tr>\n",
       "  </thead>\n",
       "  <tbody>\n",
       "    <tr>\n",
       "      <td>0</td>\n",
       "      <td>Mouse1</td>\n",
       "      <td>Control</td>\n",
       "      <td>F</td>\n",
       "      <td>665</td>\n",
       "      <td>863</td>\n",
       "      <td>631</td>\n",
       "      <td>629</td>\n",
       "      <td>583</td>\n",
       "      <td>801</td>\n",
       "      <td>723</td>\n",
       "      <td>707</td>\n",
       "      <td>732</td>\n",
       "      <td>680</td>\n",
       "      <td>684</td>\n",
       "      <td>485</td>\n",
       "      <td>65</td>\n",
       "      <td>301</td>\n",
       "      <td>351</td>\n",
       "      <td>441</td>\n",
       "      <td>675</td>\n",
       "      <td>554</td>\n",
       "      <td>541</td>\n",
       "      <td>545</td>\n",
       "    </tr>\n",
       "    <tr>\n",
       "      <td>1</td>\n",
       "      <td>Mouse2</td>\n",
       "      <td>Control</td>\n",
       "      <td>F</td>\n",
       "      <td>859</td>\n",
       "      <td>849</td>\n",
       "      <td>685</td>\n",
       "      <td>731</td>\n",
       "      <td>854</td>\n",
       "      <td>1103</td>\n",
       "      <td>645</td>\n",
       "      <td>633</td>\n",
       "      <td>733</td>\n",
       "      <td>662</td>\n",
       "      <td>605</td>\n",
       "      <td>623</td>\n",
       "      <td>128</td>\n",
       "      <td>268</td>\n",
       "      <td>462</td>\n",
       "      <td>569</td>\n",
       "      <td>988</td>\n",
       "      <td>728</td>\n",
       "      <td>933</td>\n",
       "      <td>564</td>\n",
       "    </tr>\n",
       "    <tr>\n",
       "      <td>2</td>\n",
       "      <td>Mouse3</td>\n",
       "      <td>Control</td>\n",
       "      <td>F</td>\n",
       "      <td>589</td>\n",
       "      <td>507</td>\n",
       "      <td>635</td>\n",
       "      <td>902</td>\n",
       "      <td>699</td>\n",
       "      <td>743</td>\n",
       "      <td>761</td>\n",
       "      <td>949</td>\n",
       "      <td>872</td>\n",
       "      <td>952</td>\n",
       "      <td>828</td>\n",
       "      <td>806</td>\n",
       "      <td>129</td>\n",
       "      <td>311</td>\n",
       "      <td>669</td>\n",
       "      <td>666</td>\n",
       "      <td>516</td>\n",
       "      <td>579</td>\n",
       "      <td>913</td>\n",
       "      <td>736</td>\n",
       "    </tr>\n",
       "    <tr>\n",
       "      <td>3</td>\n",
       "      <td>Mouse4</td>\n",
       "      <td>Control</td>\n",
       "      <td>M</td>\n",
       "      <td>939</td>\n",
       "      <td>909</td>\n",
       "      <td>850</td>\n",
       "      <td>756</td>\n",
       "      <td>807</td>\n",
       "      <td>617</td>\n",
       "      <td>526</td>\n",
       "      <td>736</td>\n",
       "      <td>743</td>\n",
       "      <td>625</td>\n",
       "      <td>690</td>\n",
       "      <td>759</td>\n",
       "      <td>281</td>\n",
       "      <td>357</td>\n",
       "      <td>386</td>\n",
       "      <td>585</td>\n",
       "      <td>565</td>\n",
       "      <td>550</td>\n",
       "      <td>806</td>\n",
       "      <td>732</td>\n",
       "    </tr>\n",
       "    <tr>\n",
       "      <td>4</td>\n",
       "      <td>Mouse5</td>\n",
       "      <td>Experimental</td>\n",
       "      <td>F</td>\n",
       "      <td>710</td>\n",
       "      <td>505</td>\n",
       "      <td>494</td>\n",
       "      <td>596</td>\n",
       "      <td>620</td>\n",
       "      <td>589</td>\n",
       "      <td>676</td>\n",
       "      <td>537</td>\n",
       "      <td>779</td>\n",
       "      <td>537</td>\n",
       "      <td>581</td>\n",
       "      <td>515</td>\n",
       "      <td>477</td>\n",
       "      <td>659</td>\n",
       "      <td>737</td>\n",
       "      <td>606</td>\n",
       "      <td>713</td>\n",
       "      <td>682</td>\n",
       "      <td>709</td>\n",
       "      <td>759</td>\n",
       "    </tr>\n",
       "  </tbody>\n",
       "</table>\n",
       "</div>"
      ],
      "text/plain": [
       "  Mouse ID         Group Sex  BL1  BL2  BL3  ...   R3   R4   R5   R6   R7   R8\n",
       "0   Mouse1       Control   F  665  863  631  ...  351  441  675  554  541  545\n",
       "1   Mouse2       Control   F  859  849  685  ...  462  569  988  728  933  564\n",
       "2   Mouse3       Control   F  589  507  635  ...  669  666  516  579  913  736\n",
       "3   Mouse4       Control   M  939  909  850  ...  386  585  565  550  806  732\n",
       "4   Mouse5  Experimental   F  710  505  494  ...  737  606  713  682  709  759\n",
       "\n",
       "[5 rows x 23 columns]"
      ]
     },
     "execution_count": 18,
     "metadata": {},
     "output_type": "execute_result"
    }
   ],
   "source": [
    "## Rename groups (ChR2)\n",
    "group_map = {'ChR2':'Experimental'}\n",
    "df['Group'] = df['Group'].replace(group_map)\n",
    "df.head()"
   ]
  },
  {
   "cell_type": "code",
   "execution_count": 35,
   "metadata": {
    "ExecuteTime": {
     "end_time": "2020-04-10T16:31:31.699109Z",
     "start_time": "2020-04-10T16:31:31.687714Z"
    }
   },
   "outputs": [
    {
     "data": {
      "text/plain": [
       "{'BL': ['BL1', 'BL2', 'BL3', 'BL4'],\n",
       " 'S': ['S1', 'S2', 'S3', 'S4', 'PS1', 'PS2', 'PS3', 'PS4'],\n",
       " 'PS': ['PS1', 'PS2', 'PS3', 'PS4'],\n",
       " 'R': ['R1', 'R2', 'R3', 'R4', 'R5', 'R6', 'R7', 'R8']}"
      ]
     },
     "execution_count": 35,
     "metadata": {},
     "output_type": "execute_result"
    }
   ],
   "source": [
    "## Get a dict of which cols belong to which phase\n",
    "col_dict= {}\n",
    "\n",
    "phases = ['BL','S','PS','R']\n",
    "for phase in phases:\n",
    "    columns = df.drop('Sex',axis=1).columns\n",
    "    col_dict[phase] = [col for col in columns if phase in col]\n",
    "col_dict"
   ]
  },
  {
   "cell_type": "code",
   "execution_count": 36,
   "metadata": {
    "ExecuteTime": {
     "end_time": "2020-04-10T16:32:37.623436Z",
     "start_time": "2020-04-10T16:32:37.618391Z"
    }
   },
   "outputs": [
    {
     "data": {
      "text/plain": [
       "{'BL1': 'BL',\n",
       " 'BL2': 'BL',\n",
       " 'BL3': 'BL',\n",
       " 'BL4': 'BL',\n",
       " 'S1': 'S',\n",
       " 'S2': 'S',\n",
       " 'S3': 'S',\n",
       " 'S4': 'S',\n",
       " 'PS1': 'PS',\n",
       " 'PS2': 'PS',\n",
       " 'PS3': 'PS',\n",
       " 'PS4': 'PS',\n",
       " 'R1': 'R',\n",
       " 'R2': 'R',\n",
       " 'R3': 'R',\n",
       " 'R4': 'R',\n",
       " 'R5': 'R',\n",
       " 'R6': 'R',\n",
       " 'R7': 'R',\n",
       " 'R8': 'R'}"
      ]
     },
     "execution_count": 36,
     "metadata": {},
     "output_type": "execute_result"
    }
   ],
   "source": [
    "## Make the inverse of col_dict (Key=Day, Value=Phase)\n",
    "phase_dict = {}\n",
    "for phase, colnames in col_dict.items():\n",
    "    for col in colnames:\n",
    "        phase_dict[col] = phase \n",
    "phase_dict"
   ]
  },
  {
   "cell_type": "markdown",
   "metadata": {},
   "source": [
    "### Getting Group Data For EDA & Testing"
   ]
  },
  {
   "cell_type": "code",
   "execution_count": 37,
   "metadata": {
    "ExecuteTime": {
     "end_time": "2020-04-10T16:32:49.558092Z",
     "start_time": "2020-04-10T16:32:49.518938Z"
    }
   },
   "outputs": [
    {
     "data": {
      "text/html": [
       "<div>\n",
       "<style scoped>\n",
       "    .dataframe tbody tr th:only-of-type {\n",
       "        vertical-align: middle;\n",
       "    }\n",
       "\n",
       "    .dataframe tbody tr th {\n",
       "        vertical-align: top;\n",
       "    }\n",
       "\n",
       "    .dataframe thead th {\n",
       "        text-align: right;\n",
       "    }\n",
       "</style>\n",
       "<table border=\"1\" class=\"dataframe\">\n",
       "  <thead>\n",
       "    <tr style=\"text-align: right;\">\n",
       "      <th></th>\n",
       "      <th>Mouse ID</th>\n",
       "      <th>Group</th>\n",
       "      <th>Sex</th>\n",
       "      <th>BL1</th>\n",
       "      <th>BL2</th>\n",
       "      <th>BL3</th>\n",
       "      <th>BL4</th>\n",
       "      <th>S1</th>\n",
       "      <th>S2</th>\n",
       "      <th>S3</th>\n",
       "      <th>S4</th>\n",
       "      <th>PS1</th>\n",
       "      <th>PS2</th>\n",
       "      <th>PS3</th>\n",
       "      <th>PS4</th>\n",
       "      <th>R1</th>\n",
       "      <th>R2</th>\n",
       "      <th>R3</th>\n",
       "      <th>R4</th>\n",
       "      <th>R5</th>\n",
       "      <th>R6</th>\n",
       "      <th>R7</th>\n",
       "      <th>R8</th>\n",
       "    </tr>\n",
       "  </thead>\n",
       "  <tbody>\n",
       "    <tr>\n",
       "      <td>0</td>\n",
       "      <td>Mouse1</td>\n",
       "      <td>Control</td>\n",
       "      <td>F</td>\n",
       "      <td>665</td>\n",
       "      <td>863</td>\n",
       "      <td>631</td>\n",
       "      <td>629</td>\n",
       "      <td>583</td>\n",
       "      <td>801</td>\n",
       "      <td>723</td>\n",
       "      <td>707</td>\n",
       "      <td>732</td>\n",
       "      <td>680</td>\n",
       "      <td>684</td>\n",
       "      <td>485</td>\n",
       "      <td>65</td>\n",
       "      <td>301</td>\n",
       "      <td>351</td>\n",
       "      <td>441</td>\n",
       "      <td>675</td>\n",
       "      <td>554</td>\n",
       "      <td>541</td>\n",
       "      <td>545</td>\n",
       "    </tr>\n",
       "    <tr>\n",
       "      <td>1</td>\n",
       "      <td>Mouse2</td>\n",
       "      <td>Control</td>\n",
       "      <td>F</td>\n",
       "      <td>859</td>\n",
       "      <td>849</td>\n",
       "      <td>685</td>\n",
       "      <td>731</td>\n",
       "      <td>854</td>\n",
       "      <td>1103</td>\n",
       "      <td>645</td>\n",
       "      <td>633</td>\n",
       "      <td>733</td>\n",
       "      <td>662</td>\n",
       "      <td>605</td>\n",
       "      <td>623</td>\n",
       "      <td>128</td>\n",
       "      <td>268</td>\n",
       "      <td>462</td>\n",
       "      <td>569</td>\n",
       "      <td>988</td>\n",
       "      <td>728</td>\n",
       "      <td>933</td>\n",
       "      <td>564</td>\n",
       "    </tr>\n",
       "    <tr>\n",
       "      <td>2</td>\n",
       "      <td>Mouse3</td>\n",
       "      <td>Control</td>\n",
       "      <td>F</td>\n",
       "      <td>589</td>\n",
       "      <td>507</td>\n",
       "      <td>635</td>\n",
       "      <td>902</td>\n",
       "      <td>699</td>\n",
       "      <td>743</td>\n",
       "      <td>761</td>\n",
       "      <td>949</td>\n",
       "      <td>872</td>\n",
       "      <td>952</td>\n",
       "      <td>828</td>\n",
       "      <td>806</td>\n",
       "      <td>129</td>\n",
       "      <td>311</td>\n",
       "      <td>669</td>\n",
       "      <td>666</td>\n",
       "      <td>516</td>\n",
       "      <td>579</td>\n",
       "      <td>913</td>\n",
       "      <td>736</td>\n",
       "    </tr>\n",
       "    <tr>\n",
       "      <td>3</td>\n",
       "      <td>Mouse4</td>\n",
       "      <td>Control</td>\n",
       "      <td>M</td>\n",
       "      <td>939</td>\n",
       "      <td>909</td>\n",
       "      <td>850</td>\n",
       "      <td>756</td>\n",
       "      <td>807</td>\n",
       "      <td>617</td>\n",
       "      <td>526</td>\n",
       "      <td>736</td>\n",
       "      <td>743</td>\n",
       "      <td>625</td>\n",
       "      <td>690</td>\n",
       "      <td>759</td>\n",
       "      <td>281</td>\n",
       "      <td>357</td>\n",
       "      <td>386</td>\n",
       "      <td>585</td>\n",
       "      <td>565</td>\n",
       "      <td>550</td>\n",
       "      <td>806</td>\n",
       "      <td>732</td>\n",
       "    </tr>\n",
       "    <tr>\n",
       "      <td>4</td>\n",
       "      <td>Mouse5</td>\n",
       "      <td>Experimental</td>\n",
       "      <td>F</td>\n",
       "      <td>710</td>\n",
       "      <td>505</td>\n",
       "      <td>494</td>\n",
       "      <td>596</td>\n",
       "      <td>620</td>\n",
       "      <td>589</td>\n",
       "      <td>676</td>\n",
       "      <td>537</td>\n",
       "      <td>779</td>\n",
       "      <td>537</td>\n",
       "      <td>581</td>\n",
       "      <td>515</td>\n",
       "      <td>477</td>\n",
       "      <td>659</td>\n",
       "      <td>737</td>\n",
       "      <td>606</td>\n",
       "      <td>713</td>\n",
       "      <td>682</td>\n",
       "      <td>709</td>\n",
       "      <td>759</td>\n",
       "    </tr>\n",
       "  </tbody>\n",
       "</table>\n",
       "</div>"
      ],
      "text/plain": [
       "  Mouse ID         Group Sex  BL1  BL2  BL3  ...   R3   R4   R5   R6   R7   R8\n",
       "0   Mouse1       Control   F  665  863  631  ...  351  441  675  554  541  545\n",
       "1   Mouse2       Control   F  859  849  685  ...  462  569  988  728  933  564\n",
       "2   Mouse3       Control   F  589  507  635  ...  669  666  516  579  913  736\n",
       "3   Mouse4       Control   M  939  909  850  ...  386  585  565  550  806  732\n",
       "4   Mouse5  Experimental   F  710  505  494  ...  737  606  713  682  709  759\n",
       "\n",
       "[5 rows x 23 columns]"
      ]
     },
     "execution_count": 37,
     "metadata": {},
     "output_type": "execute_result"
    }
   ],
   "source": [
    "df.head()"
   ]
  },
  {
   "cell_type": "code",
   "execution_count": 40,
   "metadata": {
    "ExecuteTime": {
     "end_time": "2020-04-10T16:38:33.994888Z",
     "start_time": "2020-04-10T16:38:33.990566Z"
    }
   },
   "outputs": [
    {
     "data": {
      "text/plain": [
       "['Mouse ID', 'Group', 'Sex']"
      ]
     },
     "execution_count": 40,
     "metadata": {},
     "output_type": "execute_result"
    }
   ],
   "source": [
    "id_cols = ['Mouse ID','Group']\n",
    "drop_cols = [*id_cols,'Sex']\n",
    "drop_cols\n"
   ]
  },
  {
   "cell_type": "code",
   "execution_count": 42,
   "metadata": {
    "ExecuteTime": {
     "end_time": "2020-04-10T16:39:55.815666Z",
     "start_time": "2020-04-10T16:39:55.809888Z"
    }
   },
   "outputs": [
    {
     "data": {
      "text/plain": [
       "Index(['BL1', 'BL2', 'BL3', 'BL4', 'S1', 'S2', 'S3', 'S4', 'PS1', 'PS2', 'PS3',\n",
       "       'PS4', 'R1', 'R2', 'R3', 'R4', 'R5', 'R6', 'R7', 'R8'],\n",
       "      dtype='object')"
      ]
     },
     "execution_count": 42,
     "metadata": {},
     "output_type": "execute_result"
    }
   ],
   "source": [
    "## Melt dataframe so the days become rows\n",
    "# id_cols = ['Mouse ID','Group']\n",
    "var_cols = df.drop(columns=drop_cols).columns\n",
    "var_cols"
   ]
  },
  {
   "cell_type": "code",
   "execution_count": 43,
   "metadata": {
    "ExecuteTime": {
     "end_time": "2020-04-10T16:40:39.742071Z",
     "start_time": "2020-04-10T16:40:39.718708Z"
    }
   },
   "outputs": [
    {
     "data": {
      "text/html": [
       "<div>\n",
       "<style scoped>\n",
       "    .dataframe tbody tr th:only-of-type {\n",
       "        vertical-align: middle;\n",
       "    }\n",
       "\n",
       "    .dataframe tbody tr th {\n",
       "        vertical-align: top;\n",
       "    }\n",
       "\n",
       "    .dataframe thead th {\n",
       "        text-align: right;\n",
       "    }\n",
       "</style>\n",
       "<table border=\"1\" class=\"dataframe\">\n",
       "  <thead>\n",
       "    <tr style=\"text-align: right;\">\n",
       "      <th></th>\n",
       "      <th>Mouse ID</th>\n",
       "      <th>Group</th>\n",
       "      <th>Day</th>\n",
       "      <th>Licks</th>\n",
       "    </tr>\n",
       "  </thead>\n",
       "  <tbody>\n",
       "    <tr>\n",
       "      <td>0</td>\n",
       "      <td>Mouse1</td>\n",
       "      <td>Control</td>\n",
       "      <td>BL1</td>\n",
       "      <td>665</td>\n",
       "    </tr>\n",
       "    <tr>\n",
       "      <td>1</td>\n",
       "      <td>Mouse2</td>\n",
       "      <td>Control</td>\n",
       "      <td>BL1</td>\n",
       "      <td>859</td>\n",
       "    </tr>\n",
       "    <tr>\n",
       "      <td>2</td>\n",
       "      <td>Mouse3</td>\n",
       "      <td>Control</td>\n",
       "      <td>BL1</td>\n",
       "      <td>589</td>\n",
       "    </tr>\n",
       "    <tr>\n",
       "      <td>3</td>\n",
       "      <td>Mouse4</td>\n",
       "      <td>Control</td>\n",
       "      <td>BL1</td>\n",
       "      <td>939</td>\n",
       "    </tr>\n",
       "    <tr>\n",
       "      <td>4</td>\n",
       "      <td>Mouse5</td>\n",
       "      <td>Experimental</td>\n",
       "      <td>BL1</td>\n",
       "      <td>710</td>\n",
       "    </tr>\n",
       "    <tr>\n",
       "      <td>...</td>\n",
       "      <td>...</td>\n",
       "      <td>...</td>\n",
       "      <td>...</td>\n",
       "      <td>...</td>\n",
       "    </tr>\n",
       "    <tr>\n",
       "      <td>435</td>\n",
       "      <td>Mouse18</td>\n",
       "      <td>Experimental</td>\n",
       "      <td>R8</td>\n",
       "      <td>880</td>\n",
       "    </tr>\n",
       "    <tr>\n",
       "      <td>436</td>\n",
       "      <td>Mouse19</td>\n",
       "      <td>Experimental</td>\n",
       "      <td>R8</td>\n",
       "      <td>1047</td>\n",
       "    </tr>\n",
       "    <tr>\n",
       "      <td>437</td>\n",
       "      <td>Mouse20</td>\n",
       "      <td>Experimental</td>\n",
       "      <td>R8</td>\n",
       "      <td>293</td>\n",
       "    </tr>\n",
       "    <tr>\n",
       "      <td>438</td>\n",
       "      <td>Mouse21</td>\n",
       "      <td>Experimental</td>\n",
       "      <td>R8</td>\n",
       "      <td>900</td>\n",
       "    </tr>\n",
       "    <tr>\n",
       "      <td>439</td>\n",
       "      <td>Mouse22</td>\n",
       "      <td>Control</td>\n",
       "      <td>R8</td>\n",
       "      <td>200</td>\n",
       "    </tr>\n",
       "  </tbody>\n",
       "</table>\n",
       "<p>440 rows × 4 columns</p>\n",
       "</div>"
      ],
      "text/plain": [
       "    Mouse ID         Group  Day  Licks\n",
       "0     Mouse1       Control  BL1    665\n",
       "1     Mouse2       Control  BL1    859\n",
       "2     Mouse3       Control  BL1    589\n",
       "3     Mouse4       Control  BL1    939\n",
       "4     Mouse5  Experimental  BL1    710\n",
       "..       ...           ...  ...    ...\n",
       "435  Mouse18  Experimental   R8    880\n",
       "436  Mouse19  Experimental   R8   1047\n",
       "437  Mouse20  Experimental   R8    293\n",
       "438  Mouse21  Experimental   R8    900\n",
       "439  Mouse22       Control   R8    200\n",
       "\n",
       "[440 rows x 4 columns]"
      ]
     },
     "execution_count": 43,
     "metadata": {},
     "output_type": "execute_result"
    }
   ],
   "source": [
    "df2 = df.melt(id_cols,value_vars=var_cols,var_name='Day',value_name='Licks')\n",
    "df2"
   ]
  },
  {
   "cell_type": "code",
   "execution_count": 44,
   "metadata": {
    "ExecuteTime": {
     "end_time": "2020-04-10T16:41:23.878476Z",
     "start_time": "2020-04-10T16:41:23.874743Z"
    }
   },
   "outputs": [
    {
     "data": {
      "text/plain": [
       "{'BL1': 'BL',\n",
       " 'BL2': 'BL',\n",
       " 'BL3': 'BL',\n",
       " 'BL4': 'BL',\n",
       " 'S1': 'S',\n",
       " 'S2': 'S',\n",
       " 'S3': 'S',\n",
       " 'S4': 'S',\n",
       " 'PS1': 'PS',\n",
       " 'PS2': 'PS',\n",
       " 'PS3': 'PS',\n",
       " 'PS4': 'PS',\n",
       " 'R1': 'R',\n",
       " 'R2': 'R',\n",
       " 'R3': 'R',\n",
       " 'R4': 'R',\n",
       " 'R5': 'R',\n",
       " 'R6': 'R',\n",
       " 'R7': 'R',\n",
       " 'R8': 'R'}"
      ]
     },
     "execution_count": 44,
     "metadata": {},
     "output_type": "execute_result"
    }
   ],
   "source": [
    "phase_dict\n"
   ]
  },
  {
   "cell_type": "code",
   "execution_count": 45,
   "metadata": {
    "ExecuteTime": {
     "end_time": "2020-04-10T16:41:49.523565Z",
     "start_time": "2020-04-10T16:41:49.498401Z"
    }
   },
   "outputs": [
    {
     "data": {
      "text/html": [
       "<div>\n",
       "<style scoped>\n",
       "    .dataframe tbody tr th:only-of-type {\n",
       "        vertical-align: middle;\n",
       "    }\n",
       "\n",
       "    .dataframe tbody tr th {\n",
       "        vertical-align: top;\n",
       "    }\n",
       "\n",
       "    .dataframe thead th {\n",
       "        text-align: right;\n",
       "    }\n",
       "</style>\n",
       "<table border=\"1\" class=\"dataframe\">\n",
       "  <thead>\n",
       "    <tr style=\"text-align: right;\">\n",
       "      <th></th>\n",
       "      <th>Mouse ID</th>\n",
       "      <th>Group</th>\n",
       "      <th>Day</th>\n",
       "      <th>Licks</th>\n",
       "      <th>Phase</th>\n",
       "    </tr>\n",
       "  </thead>\n",
       "  <tbody>\n",
       "    <tr>\n",
       "      <td>0</td>\n",
       "      <td>Mouse1</td>\n",
       "      <td>Control</td>\n",
       "      <td>BL1</td>\n",
       "      <td>665</td>\n",
       "      <td>BL</td>\n",
       "    </tr>\n",
       "    <tr>\n",
       "      <td>1</td>\n",
       "      <td>Mouse2</td>\n",
       "      <td>Control</td>\n",
       "      <td>BL1</td>\n",
       "      <td>859</td>\n",
       "      <td>BL</td>\n",
       "    </tr>\n",
       "    <tr>\n",
       "      <td>2</td>\n",
       "      <td>Mouse3</td>\n",
       "      <td>Control</td>\n",
       "      <td>BL1</td>\n",
       "      <td>589</td>\n",
       "      <td>BL</td>\n",
       "    </tr>\n",
       "    <tr>\n",
       "      <td>3</td>\n",
       "      <td>Mouse4</td>\n",
       "      <td>Control</td>\n",
       "      <td>BL1</td>\n",
       "      <td>939</td>\n",
       "      <td>BL</td>\n",
       "    </tr>\n",
       "    <tr>\n",
       "      <td>4</td>\n",
       "      <td>Mouse5</td>\n",
       "      <td>Experimental</td>\n",
       "      <td>BL1</td>\n",
       "      <td>710</td>\n",
       "      <td>BL</td>\n",
       "    </tr>\n",
       "    <tr>\n",
       "      <td>...</td>\n",
       "      <td>...</td>\n",
       "      <td>...</td>\n",
       "      <td>...</td>\n",
       "      <td>...</td>\n",
       "      <td>...</td>\n",
       "    </tr>\n",
       "    <tr>\n",
       "      <td>435</td>\n",
       "      <td>Mouse18</td>\n",
       "      <td>Experimental</td>\n",
       "      <td>R8</td>\n",
       "      <td>880</td>\n",
       "      <td>R</td>\n",
       "    </tr>\n",
       "    <tr>\n",
       "      <td>436</td>\n",
       "      <td>Mouse19</td>\n",
       "      <td>Experimental</td>\n",
       "      <td>R8</td>\n",
       "      <td>1047</td>\n",
       "      <td>R</td>\n",
       "    </tr>\n",
       "    <tr>\n",
       "      <td>437</td>\n",
       "      <td>Mouse20</td>\n",
       "      <td>Experimental</td>\n",
       "      <td>R8</td>\n",
       "      <td>293</td>\n",
       "      <td>R</td>\n",
       "    </tr>\n",
       "    <tr>\n",
       "      <td>438</td>\n",
       "      <td>Mouse21</td>\n",
       "      <td>Experimental</td>\n",
       "      <td>R8</td>\n",
       "      <td>900</td>\n",
       "      <td>R</td>\n",
       "    </tr>\n",
       "    <tr>\n",
       "      <td>439</td>\n",
       "      <td>Mouse22</td>\n",
       "      <td>Control</td>\n",
       "      <td>R8</td>\n",
       "      <td>200</td>\n",
       "      <td>R</td>\n",
       "    </tr>\n",
       "  </tbody>\n",
       "</table>\n",
       "<p>440 rows × 5 columns</p>\n",
       "</div>"
      ],
      "text/plain": [
       "    Mouse ID         Group  Day  Licks Phase\n",
       "0     Mouse1       Control  BL1    665    BL\n",
       "1     Mouse2       Control  BL1    859    BL\n",
       "2     Mouse3       Control  BL1    589    BL\n",
       "3     Mouse4       Control  BL1    939    BL\n",
       "4     Mouse5  Experimental  BL1    710    BL\n",
       "..       ...           ...  ...    ...   ...\n",
       "435  Mouse18  Experimental   R8    880     R\n",
       "436  Mouse19  Experimental   R8   1047     R\n",
       "437  Mouse20  Experimental   R8    293     R\n",
       "438  Mouse21  Experimental   R8    900     R\n",
       "439  Mouse22       Control   R8    200     R\n",
       "\n",
       "[440 rows x 5 columns]"
      ]
     },
     "execution_count": 45,
     "metadata": {},
     "output_type": "execute_result"
    }
   ],
   "source": [
    "## Make a Phase columns that uses phase dict mapped onto \"Day\"\n",
    "df2['Phase'] = df2['Day'].map(phase_dict)\n",
    "df2"
   ]
  },
  {
   "cell_type": "code",
   "execution_count": 48,
   "metadata": {
    "ExecuteTime": {
     "end_time": "2020-04-10T16:44:05.562267Z",
     "start_time": "2020-04-10T16:44:05.049148Z"
    }
   },
   "outputs": [
    {
     "data": {
      "text/plain": [
       "<matplotlib.axes._subplots.AxesSubplot at 0x1c24a3cd68>"
      ]
     },
     "execution_count": 48,
     "metadata": {},
     "output_type": "execute_result"
    },
    {
     "data": {
      "image/png": "[encoded data removed]",
      "text/plain": [
       "<Figure size 576x396 with 1 Axes>"
      ]
     },
     "metadata": {
      "needs_background": "light"
     },
     "output_type": "display_data"
    }
   ],
   "source": [
    "## Visualize Bar Plot\n",
    "sns.barplot(data=df2, x='Phase',y='Licks',hue='Group',ci=68)"
   ]
  },
  {
   "cell_type": "code",
   "execution_count": 49,
   "metadata": {
    "ExecuteTime": {
     "end_time": "2020-04-10T16:47:45.618302Z",
     "start_time": "2020-04-10T16:47:45.610557Z"
    }
   },
   "outputs": [
    {
     "data": {
      "text/plain": [
       "{'Control': Int64Index([  0,   1,   2,   3,  11,  12,  13,  14,  21,  22,\n",
       "             ...\n",
       "             417, 418, 419, 420, 421, 429, 430, 431, 432, 439],\n",
       "            dtype='int64', length=180),\n",
       " 'Experimental': Int64Index([  4,   5,   6,   7,   8,   9,  10,  15,  16,  17,\n",
       "             ...\n",
       "             425, 426, 427, 428, 433, 434, 435, 436, 437, 438],\n",
       "            dtype='int64', length=260)}"
      ]
     },
     "execution_count": 49,
     "metadata": {},
     "output_type": "execute_result"
    }
   ],
   "source": [
    "## Separate Groups into variables/dict\n",
    "grps = df2.groupby('Group').groups\n",
    "grps"
   ]
  },
  {
   "cell_type": "code",
   "execution_count": 56,
   "metadata": {
    "ExecuteTime": {
     "end_time": "2020-04-10T16:52:56.905563Z",
     "start_time": "2020-04-10T16:52:56.882274Z"
    }
   },
   "outputs": [
    {
     "name": "stdout",
     "output_type": "stream",
     "text": [
      "dict_keys(['Control', 'Experimental'])\n",
      "dict_keys(['BL', 'S', 'PS', 'R'])\n"
     ]
    }
   ],
   "source": [
    "# Get groups based on 'Group' column\n",
    "\n",
    "## Loop through grps dict \n",
    "for grp_name in grps:\n",
    "    \n",
    "    ## Initialize the group's dict entry as empty df\n",
    "    grps[grp_name] = {}\n",
    "    \n",
    "    ## Use groupby + get_group & slice out columns of interest\n",
    "    grp_df = df2.groupby(\"Group\").get_group(grp_name)[['Phase','Day','Licks']]\n",
    "    \n",
    "    ## Make each phase's data a nested dict entry\n",
    "    for phase in phases:\n",
    "        grps[grp_name][phase] = grp_df.groupby('Phase').get_group(phase)\n",
    "print(grps.keys()) \n",
    "print(grps['Control'].keys())"
   ]
  },
  {
   "cell_type": "code",
   "execution_count": 65,
   "metadata": {
    "ExecuteTime": {
     "end_time": "2020-04-10T16:56:33.344429Z",
     "start_time": "2020-04-10T16:56:33.332593Z"
    }
   },
   "outputs": [
    {
     "data": {
      "text/html": [
       "<div>\n",
       "<style scoped>\n",
       "    .dataframe tbody tr th:only-of-type {\n",
       "        vertical-align: middle;\n",
       "    }\n",
       "\n",
       "    .dataframe tbody tr th {\n",
       "        vertical-align: top;\n",
       "    }\n",
       "\n",
       "    .dataframe thead th {\n",
       "        text-align: right;\n",
       "    }\n",
       "</style>\n",
       "<table border=\"1\" class=\"dataframe\">\n",
       "  <thead>\n",
       "    <tr style=\"text-align: right;\">\n",
       "      <th></th>\n",
       "      <th>Licks</th>\n",
       "    </tr>\n",
       "  </thead>\n",
       "  <tbody>\n",
       "    <tr>\n",
       "      <td>92</td>\n",
       "      <td>620</td>\n",
       "    </tr>\n",
       "    <tr>\n",
       "      <td>93</td>\n",
       "      <td>591</td>\n",
       "    </tr>\n",
       "    <tr>\n",
       "      <td>94</td>\n",
       "      <td>882</td>\n",
       "    </tr>\n",
       "    <tr>\n",
       "      <td>95</td>\n",
       "      <td>546</td>\n",
       "    </tr>\n",
       "    <tr>\n",
       "      <td>96</td>\n",
       "      <td>759</td>\n",
       "    </tr>\n",
       "    <tr>\n",
       "      <td>97</td>\n",
       "      <td>1106</td>\n",
       "    </tr>\n",
       "    <tr>\n",
       "      <td>98</td>\n",
       "      <td>820</td>\n",
       "    </tr>\n",
       "    <tr>\n",
       "      <td>103</td>\n",
       "      <td>492</td>\n",
       "    </tr>\n",
       "    <tr>\n",
       "      <td>104</td>\n",
       "      <td>505</td>\n",
       "    </tr>\n",
       "    <tr>\n",
       "      <td>105</td>\n",
       "      <td>646</td>\n",
       "    </tr>\n",
       "    <tr>\n",
       "      <td>106</td>\n",
       "      <td>533</td>\n",
       "    </tr>\n",
       "    <tr>\n",
       "      <td>107</td>\n",
       "      <td>232</td>\n",
       "    </tr>\n",
       "    <tr>\n",
       "      <td>108</td>\n",
       "      <td>483</td>\n",
       "    </tr>\n",
       "    <tr>\n",
       "      <td>114</td>\n",
       "      <td>589</td>\n",
       "    </tr>\n",
       "    <tr>\n",
       "      <td>115</td>\n",
       "      <td>580</td>\n",
       "    </tr>\n",
       "    <tr>\n",
       "      <td>116</td>\n",
       "      <td>723</td>\n",
       "    </tr>\n",
       "    <tr>\n",
       "      <td>117</td>\n",
       "      <td>493</td>\n",
       "    </tr>\n",
       "    <tr>\n",
       "      <td>118</td>\n",
       "      <td>791</td>\n",
       "    </tr>\n",
       "    <tr>\n",
       "      <td>119</td>\n",
       "      <td>812</td>\n",
       "    </tr>\n",
       "    <tr>\n",
       "      <td>120</td>\n",
       "      <td>752</td>\n",
       "    </tr>\n",
       "    <tr>\n",
       "      <td>125</td>\n",
       "      <td>594</td>\n",
       "    </tr>\n",
       "    <tr>\n",
       "      <td>126</td>\n",
       "      <td>475</td>\n",
       "    </tr>\n",
       "    <tr>\n",
       "      <td>127</td>\n",
       "      <td>619</td>\n",
       "    </tr>\n",
       "    <tr>\n",
       "      <td>128</td>\n",
       "      <td>721</td>\n",
       "    </tr>\n",
       "    <tr>\n",
       "      <td>129</td>\n",
       "      <td>34</td>\n",
       "    </tr>\n",
       "    <tr>\n",
       "      <td>130</td>\n",
       "      <td>491</td>\n",
       "    </tr>\n",
       "    <tr>\n",
       "      <td>136</td>\n",
       "      <td>676</td>\n",
       "    </tr>\n",
       "    <tr>\n",
       "      <td>137</td>\n",
       "      <td>419</td>\n",
       "    </tr>\n",
       "    <tr>\n",
       "      <td>138</td>\n",
       "      <td>764</td>\n",
       "    </tr>\n",
       "    <tr>\n",
       "      <td>139</td>\n",
       "      <td>456</td>\n",
       "    </tr>\n",
       "    <tr>\n",
       "      <td>140</td>\n",
       "      <td>568</td>\n",
       "    </tr>\n",
       "    <tr>\n",
       "      <td>141</td>\n",
       "      <td>902</td>\n",
       "    </tr>\n",
       "    <tr>\n",
       "      <td>142</td>\n",
       "      <td>759</td>\n",
       "    </tr>\n",
       "    <tr>\n",
       "      <td>147</td>\n",
       "      <td>695</td>\n",
       "    </tr>\n",
       "    <tr>\n",
       "      <td>148</td>\n",
       "      <td>519</td>\n",
       "    </tr>\n",
       "    <tr>\n",
       "      <td>149</td>\n",
       "      <td>885</td>\n",
       "    </tr>\n",
       "    <tr>\n",
       "      <td>150</td>\n",
       "      <td>651</td>\n",
       "    </tr>\n",
       "    <tr>\n",
       "      <td>151</td>\n",
       "      <td>65</td>\n",
       "    </tr>\n",
       "    <tr>\n",
       "      <td>152</td>\n",
       "      <td>394</td>\n",
       "    </tr>\n",
       "    <tr>\n",
       "      <td>158</td>\n",
       "      <td>537</td>\n",
       "    </tr>\n",
       "    <tr>\n",
       "      <td>159</td>\n",
       "      <td>463</td>\n",
       "    </tr>\n",
       "    <tr>\n",
       "      <td>160</td>\n",
       "      <td>892</td>\n",
       "    </tr>\n",
       "    <tr>\n",
       "      <td>161</td>\n",
       "      <td>601</td>\n",
       "    </tr>\n",
       "    <tr>\n",
       "      <td>162</td>\n",
       "      <td>664</td>\n",
       "    </tr>\n",
       "    <tr>\n",
       "      <td>163</td>\n",
       "      <td>835</td>\n",
       "    </tr>\n",
       "    <tr>\n",
       "      <td>164</td>\n",
       "      <td>564</td>\n",
       "    </tr>\n",
       "    <tr>\n",
       "      <td>169</td>\n",
       "      <td>568</td>\n",
       "    </tr>\n",
       "    <tr>\n",
       "      <td>170</td>\n",
       "      <td>578</td>\n",
       "    </tr>\n",
       "    <tr>\n",
       "      <td>171</td>\n",
       "      <td>626</td>\n",
       "    </tr>\n",
       "    <tr>\n",
       "      <td>172</td>\n",
       "      <td>546</td>\n",
       "    </tr>\n",
       "    <tr>\n",
       "      <td>173</td>\n",
       "      <td>158</td>\n",
       "    </tr>\n",
       "    <tr>\n",
       "      <td>174</td>\n",
       "      <td>673</td>\n",
       "    </tr>\n",
       "  </tbody>\n",
       "</table>\n",
       "</div>"
      ],
      "text/plain": [
       "     Licks\n",
       "92     620\n",
       "93     591\n",
       "94     882\n",
       "95     546\n",
       "96     759\n",
       "97    1106\n",
       "98     820\n",
       "103    492\n",
       "104    505\n",
       "105    646\n",
       "106    533\n",
       "107    232\n",
       "108    483\n",
       "114    589\n",
       "115    580\n",
       "116    723\n",
       "117    493\n",
       "118    791\n",
       "119    812\n",
       "120    752\n",
       "125    594\n",
       "126    475\n",
       "127    619\n",
       "128    721\n",
       "129     34\n",
       "130    491\n",
       "136    676\n",
       "137    419\n",
       "138    764\n",
       "139    456\n",
       "140    568\n",
       "141    902\n",
       "142    759\n",
       "147    695\n",
       "148    519\n",
       "149    885\n",
       "150    651\n",
       "151     65\n",
       "152    394\n",
       "158    537\n",
       "159    463\n",
       "160    892\n",
       "161    601\n",
       "162    664\n",
       "163    835\n",
       "164    564\n",
       "169    568\n",
       "170    578\n",
       "171    626\n",
       "172    546\n",
       "173    158\n",
       "174    673"
      ]
     },
     "execution_count": 65,
     "metadata": {},
     "output_type": "execute_result"
    }
   ],
   "source": [
    "## Examine contents of nested dicts\n",
    "test = grps['Experimental']['S'][['Licks']]\n",
    "test"
   ]
  },
  {
   "cell_type": "code",
   "execution_count": 75,
   "metadata": {
    "ExecuteTime": {
     "end_time": "2020-04-10T16:59:26.926001Z",
     "start_time": "2020-04-10T16:59:26.921917Z"
    }
   },
   "outputs": [
    {
     "name": "stdout",
     "output_type": "stream",
     "text": [
      "0\n"
     ]
    }
   ],
   "source": [
    "## REMOVE OUTLIERS\n",
    "from scipy import stats\n",
    "## Use z-scores to remove outliers \n",
    "z_scores = np.abs(stats.zscore(test))\n",
    "# Optional (if time): Make into a function\n",
    "idx_outs = z_scores >3\n",
    "print(idx_outs.sum())\n",
    "\n",
    "# test[~idx_outs]"
   ]
  },
  {
   "cell_type": "code",
   "execution_count": 79,
   "metadata": {
    "ExecuteTime": {
     "end_time": "2020-04-10T17:01:08.313251Z",
     "start_time": "2020-04-10T17:01:08.299892Z"
    }
   },
   "outputs": [
    {
     "data": {
      "text/html": [
       "<div>\n",
       "<style scoped>\n",
       "    .dataframe tbody tr th:only-of-type {\n",
       "        vertical-align: middle;\n",
       "    }\n",
       "\n",
       "    .dataframe tbody tr th {\n",
       "        vertical-align: top;\n",
       "    }\n",
       "\n",
       "    .dataframe thead th {\n",
       "        text-align: right;\n",
       "    }\n",
       "</style>\n",
       "<table border=\"1\" class=\"dataframe\">\n",
       "  <thead>\n",
       "    <tr style=\"text-align: right;\">\n",
       "      <th></th>\n",
       "      <th>Licks</th>\n",
       "    </tr>\n",
       "  </thead>\n",
       "  <tbody>\n",
       "    <tr>\n",
       "      <td>92</td>\n",
       "      <td>620</td>\n",
       "    </tr>\n",
       "    <tr>\n",
       "      <td>93</td>\n",
       "      <td>591</td>\n",
       "    </tr>\n",
       "    <tr>\n",
       "      <td>94</td>\n",
       "      <td>882</td>\n",
       "    </tr>\n",
       "    <tr>\n",
       "      <td>95</td>\n",
       "      <td>546</td>\n",
       "    </tr>\n",
       "    <tr>\n",
       "      <td>96</td>\n",
       "      <td>759</td>\n",
       "    </tr>\n",
       "    <tr>\n",
       "      <td>97</td>\n",
       "      <td>1106</td>\n",
       "    </tr>\n",
       "    <tr>\n",
       "      <td>98</td>\n",
       "      <td>820</td>\n",
       "    </tr>\n",
       "    <tr>\n",
       "      <td>103</td>\n",
       "      <td>492</td>\n",
       "    </tr>\n",
       "    <tr>\n",
       "      <td>104</td>\n",
       "      <td>505</td>\n",
       "    </tr>\n",
       "    <tr>\n",
       "      <td>105</td>\n",
       "      <td>646</td>\n",
       "    </tr>\n",
       "    <tr>\n",
       "      <td>106</td>\n",
       "      <td>533</td>\n",
       "    </tr>\n",
       "    <tr>\n",
       "      <td>107</td>\n",
       "      <td>232</td>\n",
       "    </tr>\n",
       "    <tr>\n",
       "      <td>108</td>\n",
       "      <td>483</td>\n",
       "    </tr>\n",
       "    <tr>\n",
       "      <td>114</td>\n",
       "      <td>589</td>\n",
       "    </tr>\n",
       "    <tr>\n",
       "      <td>115</td>\n",
       "      <td>580</td>\n",
       "    </tr>\n",
       "    <tr>\n",
       "      <td>116</td>\n",
       "      <td>723</td>\n",
       "    </tr>\n",
       "    <tr>\n",
       "      <td>117</td>\n",
       "      <td>493</td>\n",
       "    </tr>\n",
       "    <tr>\n",
       "      <td>118</td>\n",
       "      <td>791</td>\n",
       "    </tr>\n",
       "    <tr>\n",
       "      <td>119</td>\n",
       "      <td>812</td>\n",
       "    </tr>\n",
       "    <tr>\n",
       "      <td>120</td>\n",
       "      <td>752</td>\n",
       "    </tr>\n",
       "    <tr>\n",
       "      <td>125</td>\n",
       "      <td>594</td>\n",
       "    </tr>\n",
       "    <tr>\n",
       "      <td>126</td>\n",
       "      <td>475</td>\n",
       "    </tr>\n",
       "    <tr>\n",
       "      <td>127</td>\n",
       "      <td>619</td>\n",
       "    </tr>\n",
       "    <tr>\n",
       "      <td>128</td>\n",
       "      <td>721</td>\n",
       "    </tr>\n",
       "    <tr>\n",
       "      <td>129</td>\n",
       "      <td>34</td>\n",
       "    </tr>\n",
       "    <tr>\n",
       "      <td>130</td>\n",
       "      <td>491</td>\n",
       "    </tr>\n",
       "    <tr>\n",
       "      <td>136</td>\n",
       "      <td>676</td>\n",
       "    </tr>\n",
       "    <tr>\n",
       "      <td>137</td>\n",
       "      <td>419</td>\n",
       "    </tr>\n",
       "    <tr>\n",
       "      <td>138</td>\n",
       "      <td>764</td>\n",
       "    </tr>\n",
       "    <tr>\n",
       "      <td>139</td>\n",
       "      <td>456</td>\n",
       "    </tr>\n",
       "    <tr>\n",
       "      <td>140</td>\n",
       "      <td>568</td>\n",
       "    </tr>\n",
       "    <tr>\n",
       "      <td>141</td>\n",
       "      <td>902</td>\n",
       "    </tr>\n",
       "    <tr>\n",
       "      <td>142</td>\n",
       "      <td>759</td>\n",
       "    </tr>\n",
       "    <tr>\n",
       "      <td>147</td>\n",
       "      <td>695</td>\n",
       "    </tr>\n",
       "    <tr>\n",
       "      <td>148</td>\n",
       "      <td>519</td>\n",
       "    </tr>\n",
       "    <tr>\n",
       "      <td>149</td>\n",
       "      <td>885</td>\n",
       "    </tr>\n",
       "    <tr>\n",
       "      <td>150</td>\n",
       "      <td>651</td>\n",
       "    </tr>\n",
       "    <tr>\n",
       "      <td>151</td>\n",
       "      <td>65</td>\n",
       "    </tr>\n",
       "    <tr>\n",
       "      <td>152</td>\n",
       "      <td>394</td>\n",
       "    </tr>\n",
       "    <tr>\n",
       "      <td>158</td>\n",
       "      <td>537</td>\n",
       "    </tr>\n",
       "    <tr>\n",
       "      <td>159</td>\n",
       "      <td>463</td>\n",
       "    </tr>\n",
       "    <tr>\n",
       "      <td>160</td>\n",
       "      <td>892</td>\n",
       "    </tr>\n",
       "    <tr>\n",
       "      <td>161</td>\n",
       "      <td>601</td>\n",
       "    </tr>\n",
       "    <tr>\n",
       "      <td>162</td>\n",
       "      <td>664</td>\n",
       "    </tr>\n",
       "    <tr>\n",
       "      <td>163</td>\n",
       "      <td>835</td>\n",
       "    </tr>\n",
       "    <tr>\n",
       "      <td>164</td>\n",
       "      <td>564</td>\n",
       "    </tr>\n",
       "    <tr>\n",
       "      <td>169</td>\n",
       "      <td>568</td>\n",
       "    </tr>\n",
       "    <tr>\n",
       "      <td>170</td>\n",
       "      <td>578</td>\n",
       "    </tr>\n",
       "    <tr>\n",
       "      <td>171</td>\n",
       "      <td>626</td>\n",
       "    </tr>\n",
       "    <tr>\n",
       "      <td>172</td>\n",
       "      <td>546</td>\n",
       "    </tr>\n",
       "    <tr>\n",
       "      <td>173</td>\n",
       "      <td>158</td>\n",
       "    </tr>\n",
       "    <tr>\n",
       "      <td>174</td>\n",
       "      <td>673</td>\n",
       "    </tr>\n",
       "  </tbody>\n",
       "</table>\n",
       "</div>"
      ],
      "text/plain": [
       "     Licks\n",
       "92     620\n",
       "93     591\n",
       "94     882\n",
       "95     546\n",
       "96     759\n",
       "97    1106\n",
       "98     820\n",
       "103    492\n",
       "104    505\n",
       "105    646\n",
       "106    533\n",
       "107    232\n",
       "108    483\n",
       "114    589\n",
       "115    580\n",
       "116    723\n",
       "117    493\n",
       "118    791\n",
       "119    812\n",
       "120    752\n",
       "125    594\n",
       "126    475\n",
       "127    619\n",
       "128    721\n",
       "129     34\n",
       "130    491\n",
       "136    676\n",
       "137    419\n",
       "138    764\n",
       "139    456\n",
       "140    568\n",
       "141    902\n",
       "142    759\n",
       "147    695\n",
       "148    519\n",
       "149    885\n",
       "150    651\n",
       "151     65\n",
       "152    394\n",
       "158    537\n",
       "159    463\n",
       "160    892\n",
       "161    601\n",
       "162    664\n",
       "163    835\n",
       "164    564\n",
       "169    568\n",
       "170    578\n",
       "171    626\n",
       "172    546\n",
       "173    158\n",
       "174    673"
      ]
     },
     "execution_count": 79,
     "metadata": {},
     "output_type": "execute_result"
    }
   ],
   "source": [
    "cleaned_data = test[~idx_outs]\n",
    "\n",
    "def remove_outliers(data):\n",
    "    \"\"\"Returns a t/f index of outliers from the dataset using Z-score>3 as cuttoff\"\"\"\n",
    "    ## Use z-scores to remove outliers \n",
    "    z_scores = np.abs(stats.zscore(data))\n",
    "    # Optional (if time): Make into a function\n",
    "    idx_outs = z_scores >3\n",
    "    return idx_outs\n",
    "idx = remove_outliers(test)\n",
    "test[~idx]"
   ]
  },
  {
   "cell_type": "code",
   "execution_count": 83,
   "metadata": {
    "ExecuteTime": {
     "end_time": "2020-04-10T17:04:27.024504Z",
     "start_time": "2020-04-10T17:04:27.014666Z"
    }
   },
   "outputs": [
    {
     "name": "stdout",
     "output_type": "stream",
     "text": [
      "dict_keys(['Control', 'Experimental'])\n",
      "dict_keys(['BL', 'S', 'PS', 'R'])\n"
     ]
    }
   ],
   "source": [
    "## Create a new dict to fill with outlier-removed data\n",
    "clean_data = {}\n",
    "\n",
    "## Loop through grps.items()\n",
    "for grp_name, grp_data in grps.items():\n",
    "    \n",
    "    ## initialize empty grp in dict\n",
    "    clean_data[grp_name] = {}\n",
    "    ## Loop through the nested dict to to pull out data \n",
    "    for phase, df_data in grp_data.items():\n",
    "        data = df_data['Licks']\n",
    "#         display(data)\n",
    "        ## Remove outliers \n",
    "        idx_outs = remove_outliers(data)\n",
    "\n",
    "        ## Fill in clean data\n",
    "        clean_data[grp_name][phase] = data[~idx_outs]\n",
    "print(clean_data.keys())\n",
    "print(clean_data['Control'].keys())"
   ]
  },
  {
   "cell_type": "code",
   "execution_count": 85,
   "metadata": {
    "ExecuteTime": {
     "end_time": "2020-04-10T17:04:55.445058Z",
     "start_time": "2020-04-10T17:04:55.441288Z"
    }
   },
   "outputs": [
    {
     "data": {
      "text/plain": [
       "<module 'scipy.stats' from '//anaconda3/envs/learn-env/lib/python3.6/site-packages/scipy/stats/__init__.py'>"
      ]
     },
     "execution_count": 85,
     "metadata": {},
     "output_type": "execute_result"
    }
   ],
   "source": []
  },
  {
   "cell_type": "code",
   "execution_count": 88,
   "metadata": {
    "ExecuteTime": {
     "end_time": "2020-04-10T17:07:51.882114Z",
     "start_time": "2020-04-10T17:07:51.847132Z"
    }
   },
   "outputs": [
    {
     "data": {
      "text/html": [
       "<div>\n",
       "<style scoped>\n",
       "    .dataframe tbody tr th:only-of-type {\n",
       "        vertical-align: middle;\n",
       "    }\n",
       "\n",
       "    .dataframe tbody tr th {\n",
       "        vertical-align: top;\n",
       "    }\n",
       "\n",
       "    .dataframe thead th {\n",
       "        text-align: right;\n",
       "    }\n",
       "</style>\n",
       "<table border=\"1\" class=\"dataframe\">\n",
       "  <thead>\n",
       "    <tr style=\"text-align: right;\">\n",
       "      <th></th>\n",
       "      <th>Group</th>\n",
       "      <th>Phase</th>\n",
       "      <th>N</th>\n",
       "      <th>Test</th>\n",
       "      <th>Stat</th>\n",
       "      <th>p</th>\n",
       "      <th>sig</th>\n",
       "    </tr>\n",
       "  </thead>\n",
       "  <tbody>\n",
       "    <tr>\n",
       "      <td>0</td>\n",
       "      <td>Control</td>\n",
       "      <td>BL</td>\n",
       "      <td>36</td>\n",
       "      <td>Normality</td>\n",
       "      <td>4.186</td>\n",
       "      <td>0.123</td>\n",
       "      <td>False</td>\n",
       "    </tr>\n",
       "    <tr>\n",
       "      <td>1</td>\n",
       "      <td>Control</td>\n",
       "      <td>S</td>\n",
       "      <td>36</td>\n",
       "      <td>Normality</td>\n",
       "      <td>1.012</td>\n",
       "      <td>0.603</td>\n",
       "      <td>False</td>\n",
       "    </tr>\n",
       "    <tr>\n",
       "      <td>2</td>\n",
       "      <td>Control</td>\n",
       "      <td>PS</td>\n",
       "      <td>36</td>\n",
       "      <td>Normality</td>\n",
       "      <td>1.708</td>\n",
       "      <td>0.426</td>\n",
       "      <td>False</td>\n",
       "    </tr>\n",
       "    <tr>\n",
       "      <td>3</td>\n",
       "      <td>Control</td>\n",
       "      <td>R</td>\n",
       "      <td>72</td>\n",
       "      <td>Normality</td>\n",
       "      <td>1.055</td>\n",
       "      <td>0.590</td>\n",
       "      <td>False</td>\n",
       "    </tr>\n",
       "    <tr>\n",
       "      <td>4</td>\n",
       "      <td>Experimental</td>\n",
       "      <td>BL</td>\n",
       "      <td>51</td>\n",
       "      <td>Normality</td>\n",
       "      <td>0.018</td>\n",
       "      <td>0.991</td>\n",
       "      <td>False</td>\n",
       "    </tr>\n",
       "    <tr>\n",
       "      <td>5</td>\n",
       "      <td>Experimental</td>\n",
       "      <td>S</td>\n",
       "      <td>52</td>\n",
       "      <td>Normality</td>\n",
       "      <td>6.349</td>\n",
       "      <td>0.042</td>\n",
       "      <td>True</td>\n",
       "    </tr>\n",
       "    <tr>\n",
       "      <td>6</td>\n",
       "      <td>Experimental</td>\n",
       "      <td>PS</td>\n",
       "      <td>52</td>\n",
       "      <td>Normality</td>\n",
       "      <td>0.993</td>\n",
       "      <td>0.609</td>\n",
       "      <td>False</td>\n",
       "    </tr>\n",
       "    <tr>\n",
       "      <td>7</td>\n",
       "      <td>Experimental</td>\n",
       "      <td>R</td>\n",
       "      <td>103</td>\n",
       "      <td>Normality</td>\n",
       "      <td>4.190</td>\n",
       "      <td>0.123</td>\n",
       "      <td>False</td>\n",
       "    </tr>\n",
       "  </tbody>\n",
       "</table>\n",
       "</div>"
      ],
      "text/plain": [
       "          Group Phase    N       Test   Stat      p    sig\n",
       "0       Control    BL   36  Normality  4.186  0.123  False\n",
       "1       Control     S   36  Normality  1.012  0.603  False\n",
       "2       Control    PS   36  Normality  1.708  0.426  False\n",
       "3       Control     R   72  Normality  1.055  0.590  False\n",
       "4  Experimental    BL   51  Normality  0.018  0.991  False\n",
       "5  Experimental     S   52  Normality  6.349  0.042   True\n",
       "6  Experimental    PS   52  Normality  0.993  0.609  False\n",
       "7  Experimental     R  103  Normality  4.190  0.123  False"
      ]
     },
     "execution_count": 88,
     "metadata": {},
     "output_type": "execute_result"
    }
   ],
   "source": [
    "## Test Assumption of Normality\n",
    "## Make empty list with headers for results\n",
    "res = [['Group','Phase','N','Test','Stat','p','sig']]\n",
    "\n",
    "## Loop through clean_data.items()\n",
    "\n",
    "## Loop through clean_data.items()\n",
    "for grp, grp_data in clean_data.items():    \n",
    "    ## Loop through the nested dict to to pull out data \n",
    "    for phase, licks in grp_data.items():\n",
    "        ## Loop through the nested dict to to pull out data \n",
    "        stat, p = stats.normaltest(licks)\n",
    "        res.append([grp,phase, len(licks),'Normality',stat, p, p<.05])\n",
    "        \n",
    "df_res = pd.DataFrame(res[1:],columns=res[0])\n",
    "df_res\n",
    "        \n",
    " \n"
   ]
  },
  {
   "cell_type": "markdown",
   "metadata": {},
   "source": [
    "### Did we pass assumption of normality?"
   ]
  },
  {
   "cell_type": "markdown",
   "metadata": {},
   "source": [
    "- "
   ]
  },
  {
   "cell_type": "code",
   "execution_count": 89,
   "metadata": {
    "ExecuteTime": {
     "end_time": "2020-04-10T17:08:38.016771Z",
     "start_time": "2020-04-10T17:08:38.014686Z"
    }
   },
   "outputs": [],
   "source": [
    "## Test for Homo of Variance\n",
    "# - Hmmm, for two way ANOVA, this ones a bit tricky\n",
    "stats.levene()"
   ]
  },
  {
   "cell_type": "markdown",
   "metadata": {},
   "source": [
    "### Hypothesis Test"
   ]
  },
  {
   "cell_type": "code",
   "execution_count": 91,
   "metadata": {
    "ExecuteTime": {
     "end_time": "2020-04-10T17:12:26.470558Z",
     "start_time": "2020-04-10T17:12:26.467927Z"
    }
   },
   "outputs": [],
   "source": [
    "## HYPOTHESIS TEST - 2 way anova with statsmodels\n",
    "import statsmodels.api as sm\n",
    "import statsmodels.stats as sts\n",
    "from statsmodels.formula.api import ols"
   ]
  },
  {
   "cell_type": "code",
   "execution_count": 94,
   "metadata": {
    "ExecuteTime": {
     "end_time": "2020-04-10T17:13:45.379587Z",
     "start_time": "2020-04-10T17:13:45.343635Z"
    }
   },
   "outputs": [
    {
     "data": {
      "text/html": [
       "<div>\n",
       "<style scoped>\n",
       "    .dataframe tbody tr th:only-of-type {\n",
       "        vertical-align: middle;\n",
       "    }\n",
       "\n",
       "    .dataframe tbody tr th {\n",
       "        vertical-align: top;\n",
       "    }\n",
       "\n",
       "    .dataframe thead th {\n",
       "        text-align: right;\n",
       "    }\n",
       "</style>\n",
       "<table border=\"1\" class=\"dataframe\">\n",
       "  <thead>\n",
       "    <tr style=\"text-align: right;\">\n",
       "      <th></th>\n",
       "      <th>df</th>\n",
       "      <th>sum_sq</th>\n",
       "      <th>mean_sq</th>\n",
       "      <th>F</th>\n",
       "      <th>PR(&gt;F)</th>\n",
       "    </tr>\n",
       "  </thead>\n",
       "  <tbody>\n",
       "    <tr>\n",
       "      <td>C(Group)</td>\n",
       "      <td>1.0</td>\n",
       "      <td>4.951e+05</td>\n",
       "      <td>495125.882</td>\n",
       "      <td>8.52</td>\n",
       "      <td>0.004</td>\n",
       "    </tr>\n",
       "    <tr>\n",
       "      <td>C(Phase)</td>\n",
       "      <td>3.0</td>\n",
       "      <td>2.179e+05</td>\n",
       "      <td>72621.048</td>\n",
       "      <td>1.25</td>\n",
       "      <td>0.291</td>\n",
       "    </tr>\n",
       "    <tr>\n",
       "      <td>C(Group):C(Phase)</td>\n",
       "      <td>3.0</td>\n",
       "      <td>8.874e+05</td>\n",
       "      <td>295784.389</td>\n",
       "      <td>5.09</td>\n",
       "      <td>0.002</td>\n",
       "    </tr>\n",
       "    <tr>\n",
       "      <td>Residual</td>\n",
       "      <td>432.0</td>\n",
       "      <td>2.510e+07</td>\n",
       "      <td>58111.036</td>\n",
       "      <td>NaN</td>\n",
       "      <td>NaN</td>\n",
       "    </tr>\n",
       "  </tbody>\n",
       "</table>\n",
       "</div>"
      ],
      "text/plain": [
       "                      df     sum_sq     mean_sq     F  PR(>F)\n",
       "C(Group)             1.0  4.951e+05  495125.882  8.52   0.004\n",
       "C(Phase)             3.0  2.179e+05   72621.048  1.25   0.291\n",
       "C(Group):C(Phase)    3.0  8.874e+05  295784.389  5.09   0.002\n",
       "Residual           432.0  2.510e+07   58111.036   NaN     NaN"
      ]
     },
     "execution_count": 94,
     "metadata": {},
     "output_type": "execute_result"
    }
   ],
   "source": [
    "## Make statsmodels formula ols model (including an interaction term)\n",
    "formula = \"Licks~C(Group)*C(Phase)\"\n",
    "model = ols(formula,df2).fit()\n",
    "## Run anova_lm on model\n",
    "results = sts.anova.anova_lm(model)\n",
    "results\n"
   ]
  },
  {
   "cell_type": "code",
   "execution_count": null,
   "metadata": {},
   "outputs": [],
   "source": []
  },
  {
   "cell_type": "markdown",
   "metadata": {},
   "source": [
    "### Remake clean dataframe for post-hoc pairwise comparisons\n",
    "- Let's figure it out together (hopefully!)\n",
    "- Worst case scenario: compare a single groups phases"
   ]
  },
  {
   "cell_type": "code",
   "execution_count": 96,
   "metadata": {
    "ExecuteTime": {
     "end_time": "2020-04-10T17:15:50.962593Z",
     "start_time": "2020-04-10T17:15:50.956613Z"
    }
   },
   "outputs": [],
   "source": [
    "def prep_data_for_tukeys(data):\n",
    "    \"\"\"Accepts a dictionary with group names as the keys \n",
    "    and pandas series as the values. \n",
    "\n",
    "    Returns a dataframe ready for tukeys test:\n",
    "    - with a 'data' column and a 'group' column for sms.stats.multicomp.pairwise_tukeyhsd \n",
    "\n",
    "    Example Use:\n",
    "    df_tukey = prep_data_for_tukeys(grp_data)\n",
    "    tukey = sms.stats.multicomp.pairwise_tukeyhsd(df_tukey['data'], df_tukey['group'])\n",
    "    tukey.summary()\n",
    "    \"\"\"\n",
    "\n",
    "    df_tukey = pd.DataFrame(columns=['data','group'])\n",
    "    for k,v in  data.items():\n",
    "        grp_df = v.rename('data').to_frame() \n",
    "        grp_df['group'] = k\n",
    "        df_tukey=pd.concat([df_tukey, grp_df],axis=0)\n",
    "\n",
    "    ## New lines added to ensure compatibility with tukey's test\n",
    "    df_tukey['group'] = df_tukey['group'].astype('str')\n",
    "    df_tukey['data'] = df_tukey['data'].astype('float')\n",
    "    return df_tukey"
   ]
  },
  {
   "cell_type": "code",
   "execution_count": 98,
   "metadata": {
    "ExecuteTime": {
     "end_time": "2020-04-10T17:17:02.396455Z",
     "start_time": "2020-04-10T17:17:02.367069Z"
    }
   },
   "outputs": [
    {
     "data": {
      "text/html": [
       "<div>\n",
       "<style scoped>\n",
       "    .dataframe tbody tr th:only-of-type {\n",
       "        vertical-align: middle;\n",
       "    }\n",
       "\n",
       "    .dataframe tbody tr th {\n",
       "        vertical-align: top;\n",
       "    }\n",
       "\n",
       "    .dataframe thead th {\n",
       "        text-align: right;\n",
       "    }\n",
       "</style>\n",
       "<table border=\"1\" class=\"dataframe\">\n",
       "  <thead>\n",
       "    <tr style=\"text-align: right;\">\n",
       "      <th></th>\n",
       "      <th>data</th>\n",
       "      <th>group</th>\n",
       "    </tr>\n",
       "  </thead>\n",
       "  <tbody>\n",
       "    <tr>\n",
       "      <td>0</td>\n",
       "      <td>665.0</td>\n",
       "      <td>BL</td>\n",
       "    </tr>\n",
       "    <tr>\n",
       "      <td>1</td>\n",
       "      <td>859.0</td>\n",
       "      <td>BL</td>\n",
       "    </tr>\n",
       "    <tr>\n",
       "      <td>2</td>\n",
       "      <td>589.0</td>\n",
       "      <td>BL</td>\n",
       "    </tr>\n",
       "    <tr>\n",
       "      <td>3</td>\n",
       "      <td>939.0</td>\n",
       "      <td>BL</td>\n",
       "    </tr>\n",
       "    <tr>\n",
       "      <td>11</td>\n",
       "      <td>494.0</td>\n",
       "      <td>BL</td>\n",
       "    </tr>\n",
       "    <tr>\n",
       "      <td>...</td>\n",
       "      <td>...</td>\n",
       "      <td>...</td>\n",
       "    </tr>\n",
       "    <tr>\n",
       "      <td>429</td>\n",
       "      <td>537.0</td>\n",
       "      <td>R</td>\n",
       "    </tr>\n",
       "    <tr>\n",
       "      <td>430</td>\n",
       "      <td>364.0</td>\n",
       "      <td>R</td>\n",
       "    </tr>\n",
       "    <tr>\n",
       "      <td>431</td>\n",
       "      <td>716.0</td>\n",
       "      <td>R</td>\n",
       "    </tr>\n",
       "    <tr>\n",
       "      <td>432</td>\n",
       "      <td>696.0</td>\n",
       "      <td>R</td>\n",
       "    </tr>\n",
       "    <tr>\n",
       "      <td>439</td>\n",
       "      <td>200.0</td>\n",
       "      <td>R</td>\n",
       "    </tr>\n",
       "  </tbody>\n",
       "</table>\n",
       "<p>180 rows × 2 columns</p>\n",
       "</div>"
      ],
      "text/plain": [
       "      data group\n",
       "0    665.0    BL\n",
       "1    859.0    BL\n",
       "2    589.0    BL\n",
       "3    939.0    BL\n",
       "11   494.0    BL\n",
       "..     ...   ...\n",
       "429  537.0     R\n",
       "430  364.0     R\n",
       "431  716.0     R\n",
       "432  696.0     R\n",
       "439  200.0     R\n",
       "\n",
       "[180 rows x 2 columns]"
      ]
     },
     "execution_count": 98,
     "metadata": {},
     "output_type": "execute_result"
    }
   ],
   "source": [
    "df_tukeys = prep_data_for_tukeys(clean_data['Control'])\n",
    "df_tukeys"
   ]
  },
  {
   "cell_type": "code",
   "execution_count": 99,
   "metadata": {
    "ExecuteTime": {
     "end_time": "2020-04-10T17:17:23.494867Z",
     "start_time": "2020-04-10T17:17:23.337840Z"
    }
   },
   "outputs": [
    {
     "data": {
      "text/html": [
       "<table class=\"simpletable\">\n",
       "<caption>Multiple Comparison of Means - Tukey HSD, FWER=0.05</caption>\n",
       "<tr>\n",
       "  <th>group1</th> <th>group2</th> <th>meandiff</th>   <th>p-adj</th>   <th>lower</th>     <th>upper</th>  <th>reject</th>\n",
       "</tr>\n",
       "<tr>\n",
       "    <td>BL</td>     <td>PS</td>   <td>-59.8889</td>  <td>0.6169</td> <td>-190.1595</td>  <td>70.3817</td>  <td>False</td>\n",
       "</tr>\n",
       "<tr>\n",
       "    <td>BL</td>      <td>R</td>   <td>-186.8333</td>  <td>0.001</td> <td>-299.651</td>  <td>-74.0157</td>  <td>True</td> \n",
       "</tr>\n",
       "<tr>\n",
       "    <td>BL</td>      <td>S</td>   <td>-52.0556</td>  <td>0.7041</td> <td>-182.3261</td>  <td>78.215</td>   <td>False</td>\n",
       "</tr>\n",
       "<tr>\n",
       "    <td>PS</td>      <td>R</td>   <td>-126.9444</td> <td>0.0206</td> <td>-239.7621</td> <td>-14.1268</td>  <td>True</td> \n",
       "</tr>\n",
       "<tr>\n",
       "    <td>PS</td>      <td>S</td>    <td>7.8333</td>     <td>0.9</td>  <td>-122.4372</td> <td>138.1039</td>  <td>False</td>\n",
       "</tr>\n",
       "<tr>\n",
       "     <td>R</td>      <td>S</td>   <td>134.7778</td>   <td>0.012</td>  <td>21.9602</td>  <td>247.5954</td>  <td>True</td> \n",
       "</tr>\n",
       "</table>"
      ],
      "text/plain": [
       "<class 'statsmodels.iolib.table.SimpleTable'>"
      ]
     },
     "execution_count": 99,
     "metadata": {},
     "output_type": "execute_result"
    }
   ],
   "source": [
    "result= sts.multicomp.pairwise_tukeyhsd(df_tukeys['data'],df_tukeys['group'])\n",
    "result.summary()"
   ]
  },
  {
   "cell_type": "code",
   "execution_count": 100,
   "metadata": {
    "ExecuteTime": {
     "end_time": "2020-04-10T17:18:46.229645Z",
     "start_time": "2020-04-10T17:18:46.118926Z"
    }
   },
   "outputs": [
    {
     "data": {
      "text/html": [
       "<table class=\"simpletable\">\n",
       "<caption>Multiple Comparison of Means - Tukey HSD, FWER=0.05</caption>\n",
       "<tr>\n",
       "  <th>group1</th> <th>group2</th> <th>meandiff</th>  <th>p-adj</th>   <th>lower</th>     <th>upper</th>  <th>reject</th>\n",
       "</tr>\n",
       "<tr>\n",
       "    <td>BL</td>     <td>PS</td>    <td>30.3318</td>   <td>0.9</td>  <td>-95.8082</td>  <td>156.4718</td>  <td>False</td>\n",
       "</tr>\n",
       "<tr>\n",
       "    <td>BL</td>      <td>R</td>    <td>43.7889</td> <td>0.7057</td> <td>-65.8028</td>  <td>153.3806</td>  <td>False</td>\n",
       "</tr>\n",
       "<tr>\n",
       "    <td>BL</td>      <td>S</td>    <td>34.0818</td> <td>0.8931</td> <td>-92.0582</td>  <td>160.2218</td>  <td>False</td>\n",
       "</tr>\n",
       "<tr>\n",
       "    <td>PS</td>      <td>R</td>    <td>13.4571</td>   <td>0.9</td>  <td>-95.4276</td>  <td>122.3417</td>  <td>False</td>\n",
       "</tr>\n",
       "<tr>\n",
       "    <td>PS</td>      <td>S</td>     <td>3.75</td>     <td>0.9</td>  <td>-121.7762</td> <td>129.2762</td>  <td>False</td>\n",
       "</tr>\n",
       "<tr>\n",
       "     <td>R</td>      <td>S</td>    <td>-9.7071</td>   <td>0.9</td>  <td>-118.5917</td>  <td>99.1776</td>  <td>False</td>\n",
       "</tr>\n",
       "</table>"
      ],
      "text/plain": [
       "<class 'statsmodels.iolib.table.SimpleTable'>"
      ]
     },
     "execution_count": 100,
     "metadata": {},
     "output_type": "execute_result"
    }
   ],
   "source": [
    "df_tukeys = prep_data_for_tukeys(clean_data['Experimental'])\n",
    "result= sts.multicomp.pairwise_tukeyhsd(df_tukeys['data'],df_tukeys['group'])\n",
    "result.summary()"
   ]
  },
  {
   "cell_type": "markdown",
   "metadata": {},
   "source": [
    "# APPENDIX"
   ]
  },
  {
   "cell_type": "code",
   "execution_count": 33,
   "metadata": {
    "ExecuteTime": {
     "end_time": "2020-04-10T16:29:11.622922Z",
     "start_time": "2020-04-10T16:29:11.618897Z"
    },
    "code_folding": []
   },
   "outputs": [],
   "source": [
    "# def Cohen_d(group1, group2):\n",
    "#     \"\"\"\n",
    "#     Compute Cohen's d.\n",
    "    \n",
    "#     Args:\n",
    "#         group1: Series or NumPy array\n",
    "#         group2: Series or NumPy array\n",
    "\n",
    "#     Returns:\n",
    "#         d (float): effect size statistic\n",
    "\n",
    "#     Interpretation:\n",
    "#     > Small effect = 0.2\n",
    "#     > Medium Effect = 0.5\n",
    "#     > Large Effect = 0.8\n",
    "#     \"\"\"\n",
    "#     diff = group1.mean() - group2.mean()\n",
    "\n",
    "#     n1, n2 = len(group1), len(group2)\n",
    "#     var1 = group1.var()\n",
    "#     var2 = group2.var()\n",
    "\n",
    "#     # Calculate the pooled threshold as shown earlier\n",
    "#     pooled_var = (n1 * var1 + n2 * var2) / (n1 + n2)\n",
    "    \n",
    "#     # Calculate Cohen's d statistic\n",
    "#     d = diff / np.sqrt(pooled_var)\n",
    "    \n",
    "#     return d"
   ]
  },
  {
   "cell_type": "markdown",
   "metadata": {},
   "source": [
    "\n"
   ]
  },
  {
   "cell_type": "markdown",
   "metadata": {},
   "source": [
    "(https://www.statsmodels.org/stable/generated/statsmodels.stats.multicomp.pairwise_tukeyhsd.html)"
   ]
  }
 ],
 "metadata": {
  "colab": {
   "collapsed_sections": [],
   "name": "Sect 18+19  with Titanic.ipynb",
   "provenance": []
  },
  "kernelspec": {
   "display_name": "Python [conda env:learn-env] *",
   "language": "python",
   "name": "conda-env-learn-env-py"
  },
  "language_info": {
   "codemirror_mode": {
    "name": "ipython",
    "version": 3
   },
   "file_extension": ".py",
   "mimetype": "text/x-python",
   "name": "python",
   "nbconvert_exporter": "python",
   "pygments_lexer": "ipython3",
   "version": "3.6.9"
  },
  "toc": {
   "base_numbering": 1,
   "nav_menu": {},
   "number_sections": false,
   "sideBar": true,
   "skip_h1_title": false,
   "title_cell": "Table of Contents",
   "title_sidebar": "Contents",
   "toc_cell": false,
   "toc_position": {},
   "toc_section_display": true,
   "toc_window_display": true
  },
  "varInspector": {
   "cols": {
    "lenName": 16,
    "lenType": 16,
    "lenVar": 40
   },
   "kernels_config": {
    "python": {
     "delete_cmd_postfix": "",
     "delete_cmd_prefix": "del ",
     "library": "var_list.py",
     "varRefreshCmd": "print(var_dic_list())"
    },
    "r": {
     "delete_cmd_postfix": ") ",
     "delete_cmd_prefix": "rm(",
     "library": "var_list.r",
     "varRefreshCmd": "cat(var_dic_list()) "
    }
   },
   "position": {
    "height": "360.85px",
    "left": "630px",
    "right": "20px",
    "top": "38px",
    "width": "480px"
   },
   "types_to_exclude": [
    "module",
    "function",
    "builtin_function_or_method",
    "instance",
    "_Feature"
   ],
   "window_display": false
  }
 },
 "nbformat": 4,
 "nbformat_minor": 1
}
