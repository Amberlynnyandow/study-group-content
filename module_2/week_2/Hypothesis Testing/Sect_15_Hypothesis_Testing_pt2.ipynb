{
 "cells": [
  {
   "cell_type": "markdown",
   "metadata": {
    "colab_type": "text",
    "id": "ZM6DyjYckZl2"
   },
   "source": [
    "\n",
    "# 🗓Section 15: Hypothesis A/B Testing"
   ]
  },
  {
   "cell_type": "markdown",
   "metadata": {
    "colab_type": "text",
    "id": "EM8QVDhSUCa_"
   },
   "source": [
    "- online-ds-pt-100719\n",
    "- 01/23/20\n",
    "\n"
   ]
  },
  {
   "cell_type": "markdown",
   "metadata": {
    "colab_type": "text",
    "id": "BWefqzWJoc_E"
   },
   "source": [
    "# Topics \n",
    " "
   ]
  },
  {
   "cell_type": "markdown",
   "metadata": {},
   "source": [
    "- Workflow: choosing the correct hypothesis test.\n",
    "    - T-Test & ANOVA Assumptions\n",
    "    - Parametric vs Non-Parametric Tests\n",
    "\n",
    "- Hands-On Hypothesis Testing"
   ]
  },
  {
   "cell_type": "markdown",
   "metadata": {},
   "source": [
    "# Statistical Power"
   ]
  },
  {
   "cell_type": "code",
   "execution_count": null,
   "metadata": {},
   "outputs": [],
   "source": []
  },
  {
   "cell_type": "markdown",
   "metadata": {},
   "source": [
    "## QUESTIONS/INSIGHTS?"
   ]
  },
  {
   "cell_type": "markdown",
   "metadata": {},
   "source": [
    "- What is power? \n",
    "\n",
    "- Tips/tricks succinctly articulate hypotheses.\n",
    "\n",
    "- When to use what test and what assumptions do those tests have?\n",
    "\n",
    "- Why do 1-sample t-tests only need an n=20 to avoid assumption of normality?\n"
   ]
  },
  {
   "cell_type": "markdown",
   "metadata": {},
   "source": [
    "## Resources\n",
    "**Overivews/Cheatsheets**\n",
    "- [CodeAcademy Hypothesis Testing Slideshow](https://drive.google.com/open?id=1p4R2KCErq_iUO-wnfDrGPukTgQDBNoc7)\n",
    "- [Cheatsheet: Hypothesis Testing with Scipy](https://drive.google.com/open?id=1EY4UCg20HawWlWa50M2tFauoKBQcFFAW)\n",
    "\n",
    "\n",
    "- [Choosing Between Parametric and Non-Parametric Tests](https://blog.minitab.com/blog/adventures-in-statistics-2/choosing-between-a-nonparametric-test-and-a-parametric-test)\n",
    "\n",
    "**Trustable Stat References**:\n",
    "- [Graphpad Prism's Stat Guide](https://www.graphpad.com/guides/prism/8/statistics/index.htm)\n",
    "- [LAERD Statistics Test Selector](https://statistics.laerd.com/premium/sts/index.php)\n"
   ]
  },
  {
   "cell_type": "markdown",
   "metadata": {
    "colab_type": "text",
    "id": "dT1toD0noc3A"
   },
   "source": []
  },
  {
   "cell_type": "markdown",
   "metadata": {},
   "source": []
  },
  {
   "cell_type": "markdown",
   "metadata": {},
   "source": [
    "# Choosing the Correct Hypothesis Test"
   ]
  },
  {
   "cell_type": "markdown",
   "metadata": {},
   "source": [
    "## STEP 1: Determine the category/type of test based on your data."
   ]
  },
  {
   "cell_type": "markdown",
   "metadata": {},
   "source": [
    "### Q1: What type of data do I have (Numeric or categorical?)"
   ]
  },
  {
   "cell_type": "markdown",
   "metadata": {},
   "source": [
    "### Q2: How many samples/groups am I comparing?"
   ]
  },
  {
   "cell_type": "markdown",
   "metadata": {},
   "source": [
    "- Using the answers to the above 2 questions: select the type of test from this table."
   ]
  },
  {
   "cell_type": "markdown",
   "metadata": {},
   "source": [
    "| What type of comparison? | Numeric Data | Categorical Data|\n",
    "| --- | --- | --- |\n",
    "|Sample vs Known Quantity/Target|1 Sample T-Test| Binomial Test|\n",
    "|2 Samples | 2 Sample T-Test| Chi-Square|\n",
    "|More than 2| ANOVA and/or Tukey | Chi Square|"
   ]
  },
  {
   "cell_type": "markdown",
   "metadata": {},
   "source": [
    "## STEP 2:  Do we meet the assumptions of the chosen test?"
   ]
  },
  {
   "cell_type": "markdown",
   "metadata": {},
   "source": [
    "### TEST ASSUMPTIONS SUMMARY\n"
   ]
  },
  {
   "cell_type": "markdown",
   "metadata": {},
   "source": [
    "> CORRECTION 01/26/20:<br>I was incorrect to say that independent 2-sample t-tests do not require outlier removal. The table below has been corrected.\n",
    "\n",
    "\n",
    "- [One-Sample T-Test](https://statistics.laerd.com/spss-tutorials/one-sample-t-test-using-spss-statistics.php)\n",
    "    - No significant outliers\n",
    "    - Normality\n",
    "\n",
    "- [Independent t-test (2-sample)](https://statistics.laerd.com/statistical-guides/independent-t-test-statistical-guide.php)\n",
    "    - No significant outliers\n",
    "    - Normality\n",
    "    - Equal Variance\n",
    "\n",
    "- [One Way ANOVA](https://statistics.laerd.com/spss-tutorials/one-way-anova-using-spss-statistics.php)\n",
    "    - No significant outliers\n",
    "    - Equal variance\n",
    "    - Normality\n",
    "\n",
    "- [Chi-Square test](https://statistics.laerd.com/spss-tutorials/chi-square-test-for-association-using-spss-statistics.php)\n",
    "    - Both variables are categorical"
   ]
  },
  {
   "cell_type": "markdown",
   "metadata": {},
   "source": [
    "### Testing Assumptions of Normality & Equal Variance"
   ]
  },
  {
   "cell_type": "markdown",
   "metadata": {},
   "source": [
    "1. **Test for Normality**\n",
    "    - D'Agostino-Pearson's normality test<br>\n",
    "    ```scipy.stats.normaltest```\n",
    "    - Shapiro-Wilik Test<br>\n",
    "    ```scipy.stats.shapiro```<br>\n",
    "    \n",
    "    \n",
    "2. **If you pass the assumption of normality: test for equal variance**\n",
    "     - Levene's Test<br>\n",
    "    ```scipy.stats.levene```\n",
    "    - **If you fail the assumption of equal variance use Welch's T-Test.** (for scipy, add `equal_var=False` to `ttest_ind`)\n",
    "    \n",
    "    \n",
    "    \n",
    "3. **If you DON'T have normal data: are your group sizes big enough to ignore normality assumption?**\n",
    "\n",
    "    - If your group N's are sufficiently large (as defined by table below). Can disregard normality assumption and continue with chosen test.\n",
    "\n",
    "\n",
    "| Parametric analyses| Sample size guidelines for nonnormal data| \n",
    "| --- | --- |\n",
    "| 1-sample t test| Greater than 20|\n",
    "| 2-sample t test| Each group should be greater than 15| \n",
    "| One-Way ANOVA|If have 2-9 groups, each group n >= 15. <br>If have 10-12 groups, each group n>20.|\n",
    "\n",
    "\n",
    "- **If you group N's are NOT large enough, select the non-parametric version of your test from the table below:**"
   ]
  },
  {
   "cell_type": "markdown",
   "metadata": {},
   "source": [
    "##### Parametric  T-Tests vs Non-Parametric Alternatives \n",
    "- [Choosing Between Parametric and Non-Parametric Tests](https://blog.minitab.com/blog/adventures-in-statistics-2/choosing-between-a-nonparametric-test-and-a-parametric-test)\n",
    " \n",
    "\n",
    "\n",
    "\n",
    "\n",
    "\n",
    "| Parametric tests (means) | Nonparametric tests (medians) |\n",
    " | --- | --- |\n",
    " | 1-sample t test | 1-sample Wilcoxon |\n",
    " | 2-sample t test | Mann-Whitney U test |\n",
    " | One-Way ANOVA | Kruskal-Wallis |\n",
    " \n",
    " "
   ]
  },
  {
   "cell_type": "markdown",
   "metadata": {},
   "source": [
    "### STEP 3: Interpret Result & Post-Hoc Tests"
   ]
  },
  {
   "cell_type": "markdown",
   "metadata": {},
   "source": [
    "- If p value is < $\\alpha$:\n",
    "    - Calculate effect size (e.g. Cohen's $d$)\n",
    "    - If you have multiple groups (i.e. ANOVA) you must **run a pairwise Tukey's test to know which groups were different.**\n",
    "- [Tukey pairwise comparison test](https://www.statsmodels.org/stable/generated/statsmodels.stats.multicomp.pairwise_tukeyhsd.html)\n",
    "    - `statsmodels.stats.multicomp.pairwise_tukeyhsd`\n"
   ]
  },
  {
   "cell_type": "markdown",
   "metadata": {},
   "source": [
    "#  **Stating our Hypothesis:**"
   ]
  },
  {
   "cell_type": "markdown",
   "metadata": {},
   "source": [
    "> **What question are you attempting to answer?**\n",
    "\n",
    "\n",
    "- $H_1$ : \n",
    "\n",
    "- $H_0$ :\n",
    "\n",
    "<br>"
   ]
  },
  {
   "cell_type": "markdown",
   "metadata": {},
   "source": [
    "## HYPOTHESIS TESTING STEPS"
   ]
  },
  {
   "cell_type": "markdown",
   "metadata": {},
   "source": [
    "- Separate data in group vars.\n",
    "- Visualize data and calculate group n (size)\n",
    "\n",
    "    \n",
    "* Select the appropriate test based on type of comparison being made, the number of groups, the type of data.\n",
    "\n",
    "\n",
    "- For t-tests: test for the assumptions of normality and homogeneity of variance.\n",
    "\n",
    "    1. Check if sample sizes allow us to ignore assumptions, and if not:\n",
    "    2. **Test Assumption Normality**\n",
    "\n",
    "    3. **Test for Homogeneity of Variance**\n",
    "\n",
    "    4. **Choose appropriate test based upon the above** \n",
    "    \n",
    "    \n",
    "* **Perform chosen statistical test, calculate effect size, and any post-hoc tests.**\n",
    "    - To perform post-hoc pairwise comparison testing\n",
    "    - Effect size calculation\n",
    "        - Cohen's d"
   ]
  },
  {
   "cell_type": "markdown",
   "metadata": {},
   "source": [
    "# Statistical Tests Summary Table"
   ]
  },
  {
   "cell_type": "markdown",
   "metadata": {},
   "source": [
    "\n",
    "\n",
    "| Parametric tests (means) | Function | Nonparametric tests (medians) | Function |\n",
    " | --- | --- | --- | --- |\n",
    " | 1-sample t test |`scipy.stats.ttest_1samp()`|  1-sample Wilcoxon |`scipy.stats.wilcoxon`|\n",
    " | 2-sample t test |`scipy.stats.ttest_ind()` | Mann-Whitney U test |`scipy.stats.mannwhitneyu()` |\n",
    " | One-Way ANOVA | `scipy.stats.f_oneway()` | Kruskal-Wallis | `scipy.stats.kruskal` | \n",
    " \n",
    " \n",
    " | Factorial DOE with one factor and one blocking variable |Friedman test  |\n"
   ]
  },
  {
   "cell_type": "markdown",
   "metadata": {},
   "source": [
    "# Hypothesis Testing: Mouse Data"
   ]
  },
  {
   "cell_type": "markdown",
   "metadata": {},
   "source": [
    "## Hypothesis\n",
    "> Question: does stimulation of CRF Neurons in the central amygdala increase alcohol consumption?\n",
    "\n",
    "- Metric: licks for alcohol\n",
    "- Two groups: Control and Experimental (ChR2)\n",
    "\n",
    "\n",
    "- $H_1$: There is a significant difference in average licks for alcohol between control and experimental/stimulated mice.\n",
    "\n",
    "- $H_0$: There is no significant difference in licks for alcohol between control and experimental/stimulated mice.\n",
    "\n",
    "$\\alpha$=0.05\n"
   ]
  },
  {
   "cell_type": "markdown",
   "metadata": {},
   "source": [
    "### Step 1: which type of test?"
   ]
  },
  {
   "cell_type": "markdown",
   "metadata": {},
   "source": [
    "- What type of data?\n",
    "    - Numerical\n",
    "- How many groups?\n",
    "    - 2 groups"
   ]
  },
  {
   "cell_type": "code",
   "execution_count": 1,
   "metadata": {
    "ExecuteTime": {
     "end_time": "2020-04-09T17:29:05.375135Z",
     "start_time": "2020-04-09T17:29:05.365134Z"
    }
   },
   "outputs": [
    {
     "data": {
      "text/html": [
       "<img src=\"https://raw.githubusercontent.com/jirvingphd/fsds_100719_cohort_notes/master/images/sect_20_neuro_data.png\">"
      ],
      "text/plain": [
       "<IPython.core.display.HTML object>"
      ]
     },
     "execution_count": 1,
     "metadata": {},
     "output_type": "execute_result"
    }
   ],
   "source": [
    "from IPython.display import HTML\n",
    "HTML('<img src=\"https://raw.githubusercontent.com/jirvingphd/fsds_100719_cohort_notes/master/images/sect_20_neuro_data.png\">')"
   ]
  },
  {
   "cell_type": "markdown",
   "metadata": {},
   "source": [
    "## Obtaining/Preprocessing Data"
   ]
  },
  {
   "cell_type": "code",
   "execution_count": 2,
   "metadata": {
    "ExecuteTime": {
     "end_time": "2020-04-09T17:29:09.726626Z",
     "start_time": "2020-04-09T17:29:05.376489Z"
    },
    "colab": {
     "base_uri": "https://localhost:8080/",
     "height": 221
    },
    "colab_type": "code",
    "id": "soGUgJ9RRJOp",
    "outputId": "e919e060-8aae-48d4-ed29-3b4637408f13"
   },
   "outputs": [],
   "source": [
    "!pip install -U fsds_100719\n",
    "from fsds_100719.imports import *\n",
    "dp.clear_output()"
   ]
  },
  {
   "cell_type": "code",
   "execution_count": 3,
   "metadata": {
    "ExecuteTime": {
     "end_time": "2020-04-09T17:29:09.730310Z",
     "start_time": "2020-04-09T17:29:09.728098Z"
    }
   },
   "outputs": [],
   "source": [
    "plt.style.use('seaborn-notebook')"
   ]
  },
  {
   "cell_type": "code",
   "execution_count": 4,
   "metadata": {
    "ExecuteTime": {
     "end_time": "2020-04-09T17:29:09.772092Z",
     "start_time": "2020-04-09T17:29:09.732392Z"
    }
   },
   "outputs": [
    {
     "data": {
      "text/html": [
       "<div>\n",
       "<style scoped>\n",
       "    .dataframe tbody tr th:only-of-type {\n",
       "        vertical-align: middle;\n",
       "    }\n",
       "\n",
       "    .dataframe tbody tr th {\n",
       "        vertical-align: top;\n",
       "    }\n",
       "\n",
       "    .dataframe thead th {\n",
       "        text-align: right;\n",
       "    }\n",
       "</style>\n",
       "<table border=\"1\" class=\"dataframe\">\n",
       "  <thead>\n",
       "    <tr style=\"text-align: right;\">\n",
       "      <th></th>\n",
       "      <th>Mouse ID</th>\n",
       "      <th>Group</th>\n",
       "      <th>Sex</th>\n",
       "      <th>BL1</th>\n",
       "      <th>BL2</th>\n",
       "      <th>BL3</th>\n",
       "      <th>BL4</th>\n",
       "      <th>S1</th>\n",
       "      <th>S2</th>\n",
       "      <th>S3</th>\n",
       "      <th>S4</th>\n",
       "      <th>PS1</th>\n",
       "      <th>PS2</th>\n",
       "      <th>PS3</th>\n",
       "      <th>PS4</th>\n",
       "      <th>R1</th>\n",
       "      <th>R2</th>\n",
       "      <th>R3</th>\n",
       "      <th>R4</th>\n",
       "      <th>R5</th>\n",
       "      <th>R6</th>\n",
       "      <th>R7</th>\n",
       "      <th>R8</th>\n",
       "    </tr>\n",
       "  </thead>\n",
       "  <tbody>\n",
       "    <tr>\n",
       "      <td>0</td>\n",
       "      <td>Con 4</td>\n",
       "      <td>Control</td>\n",
       "      <td>F</td>\n",
       "      <td>665</td>\n",
       "      <td>863</td>\n",
       "      <td>631</td>\n",
       "      <td>629</td>\n",
       "      <td>583</td>\n",
       "      <td>801</td>\n",
       "      <td>723</td>\n",
       "      <td>707</td>\n",
       "      <td>732</td>\n",
       "      <td>680</td>\n",
       "      <td>684</td>\n",
       "      <td>485</td>\n",
       "      <td>65</td>\n",
       "      <td>301</td>\n",
       "      <td>351</td>\n",
       "      <td>441</td>\n",
       "      <td>675</td>\n",
       "      <td>554</td>\n",
       "      <td>541</td>\n",
       "      <td>545</td>\n",
       "    </tr>\n",
       "    <tr>\n",
       "      <td>1</td>\n",
       "      <td>Con 5</td>\n",
       "      <td>Control</td>\n",
       "      <td>F</td>\n",
       "      <td>859</td>\n",
       "      <td>849</td>\n",
       "      <td>685</td>\n",
       "      <td>731</td>\n",
       "      <td>854</td>\n",
       "      <td>1103</td>\n",
       "      <td>645</td>\n",
       "      <td>633</td>\n",
       "      <td>733</td>\n",
       "      <td>662</td>\n",
       "      <td>605</td>\n",
       "      <td>623</td>\n",
       "      <td>128</td>\n",
       "      <td>268</td>\n",
       "      <td>462</td>\n",
       "      <td>569</td>\n",
       "      <td>988</td>\n",
       "      <td>728</td>\n",
       "      <td>933</td>\n",
       "      <td>564</td>\n",
       "    </tr>\n",
       "    <tr>\n",
       "      <td>2</td>\n",
       "      <td>Con 6</td>\n",
       "      <td>Control</td>\n",
       "      <td>F</td>\n",
       "      <td>589</td>\n",
       "      <td>507</td>\n",
       "      <td>635</td>\n",
       "      <td>902</td>\n",
       "      <td>699</td>\n",
       "      <td>743</td>\n",
       "      <td>761</td>\n",
       "      <td>949</td>\n",
       "      <td>872</td>\n",
       "      <td>952</td>\n",
       "      <td>828</td>\n",
       "      <td>806</td>\n",
       "      <td>129</td>\n",
       "      <td>311</td>\n",
       "      <td>669</td>\n",
       "      <td>666</td>\n",
       "      <td>516</td>\n",
       "      <td>579</td>\n",
       "      <td>913</td>\n",
       "      <td>736</td>\n",
       "    </tr>\n",
       "    <tr>\n",
       "      <td>3</td>\n",
       "      <td>CON 2.1</td>\n",
       "      <td>Control</td>\n",
       "      <td>M</td>\n",
       "      <td>939</td>\n",
       "      <td>909</td>\n",
       "      <td>850</td>\n",
       "      <td>756</td>\n",
       "      <td>807</td>\n",
       "      <td>617</td>\n",
       "      <td>526</td>\n",
       "      <td>736</td>\n",
       "      <td>743</td>\n",
       "      <td>625</td>\n",
       "      <td>690</td>\n",
       "      <td>759</td>\n",
       "      <td>281</td>\n",
       "      <td>357</td>\n",
       "      <td>386</td>\n",
       "      <td>585</td>\n",
       "      <td>565</td>\n",
       "      <td>550</td>\n",
       "      <td>806</td>\n",
       "      <td>732</td>\n",
       "    </tr>\n",
       "    <tr>\n",
       "      <td>4</td>\n",
       "      <td>ChR2 2.2</td>\n",
       "      <td>ChR2</td>\n",
       "      <td>F</td>\n",
       "      <td>710</td>\n",
       "      <td>505</td>\n",
       "      <td>494</td>\n",
       "      <td>596</td>\n",
       "      <td>620</td>\n",
       "      <td>589</td>\n",
       "      <td>676</td>\n",
       "      <td>537</td>\n",
       "      <td>779</td>\n",
       "      <td>537</td>\n",
       "      <td>581</td>\n",
       "      <td>515</td>\n",
       "      <td>477</td>\n",
       "      <td>659</td>\n",
       "      <td>737</td>\n",
       "      <td>606</td>\n",
       "      <td>713</td>\n",
       "      <td>682</td>\n",
       "      <td>709</td>\n",
       "      <td>759</td>\n",
       "    </tr>\n",
       "  </tbody>\n",
       "</table>\n",
       "</div>"
      ],
      "text/plain": [
       "   Mouse ID    Group Sex  BL1  BL2  BL3  BL4  ...   R2   R3   R4   R5   R6   R7   R8\n",
       "0     Con 4  Control   F  665  863  631  629  ...  301  351  441  675  554  541  545\n",
       "1     Con 5  Control   F  859  849  685  731  ...  268  462  569  988  728  933  564\n",
       "2     Con 6  Control   F  589  507  635  902  ...  311  669  666  516  579  913  736\n",
       "3   CON 2.1  Control   M  939  909  850  756  ...  357  386  585  565  550  806  732\n",
       "4  ChR2 2.2     ChR2   F  710  505  494  596  ...  659  737  606  713  682  709  759\n",
       "\n",
       "[5 rows x 23 columns]"
      ]
     },
     "execution_count": 4,
     "metadata": {},
     "output_type": "execute_result"
    }
   ],
   "source": [
    "df = pd.read_csv('datasets/neuro_drinking_data.csv')#\"/Users/jamesirving/Datasets/opto_DID_drinking_data.xlsx\",\n",
    "                   #sheet_name='lick_data')\n",
    "df = df.drop(columns=['Batch'])\n",
    "\n",
    "pd.set_option('display.max_columns',0)\n",
    "pd.set_option('display.precision',3)\n",
    "df.head()"
   ]
  },
  {
   "cell_type": "markdown",
   "metadata": {},
   "source": [
    "#### Laying Out Our Approach\n",
    "\n",
    "1. Make a **dict/lists of the column names** that should be **averaged together** (`col_dict`)\n",
    "\n",
    "2. Make a new df of means using `col_dict`\n",
    "\n",
    "3. Make a grp dict using  `df_means.groupby('Group').groups` \n",
    "\n",
    "- Visualize the two populations\n",
    "\n",
    "- Prepare for hypothesis tests\n",
    "    - Either use `grps` dict to reference the correct columsn to pass into tests\n",
    "\n",
    "<!---\n",
    "**Variables:**\n",
    "\n",
    "- `col_dict` (dict): dict of column names to be grouped together for means\n",
    "- `df_means` (df): df of col_dict column means.\n",
    "- `grps` (dict): groupby dict where keys = 'Group' column and values = row indices\n",
    "\n",
    "- `data` (dict): Dictionary of...\n",
    "    - Series of each phase by group? --->"
   ]
  },
  {
   "cell_type": "code",
   "execution_count": 5,
   "metadata": {
    "ExecuteTime": {
     "end_time": "2020-04-09T17:29:09.777179Z",
     "start_time": "2020-04-09T17:29:09.773390Z"
    }
   },
   "outputs": [
    {
     "data": {
      "text/plain": [
       "array(['Control', 'ChR2'], dtype=object)"
      ]
     },
     "execution_count": 5,
     "metadata": {},
     "output_type": "execute_result"
    }
   ],
   "source": [
    "df['Group'].unique()"
   ]
  },
  {
   "cell_type": "code",
   "execution_count": 6,
   "metadata": {
    "ExecuteTime": {
     "end_time": "2020-04-09T17:29:09.808320Z",
     "start_time": "2020-04-09T17:29:09.778342Z"
    }
   },
   "outputs": [
    {
     "data": {
      "text/html": [
       "<div>\n",
       "<style scoped>\n",
       "    .dataframe tbody tr th:only-of-type {\n",
       "        vertical-align: middle;\n",
       "    }\n",
       "\n",
       "    .dataframe tbody tr th {\n",
       "        vertical-align: top;\n",
       "    }\n",
       "\n",
       "    .dataframe thead th {\n",
       "        text-align: right;\n",
       "    }\n",
       "</style>\n",
       "<table border=\"1\" class=\"dataframe\">\n",
       "  <thead>\n",
       "    <tr style=\"text-align: right;\">\n",
       "      <th></th>\n",
       "      <th>Mouse ID</th>\n",
       "      <th>Group</th>\n",
       "      <th>Sex</th>\n",
       "      <th>BL1</th>\n",
       "      <th>BL2</th>\n",
       "      <th>BL3</th>\n",
       "      <th>BL4</th>\n",
       "      <th>S1</th>\n",
       "      <th>S2</th>\n",
       "      <th>S3</th>\n",
       "      <th>S4</th>\n",
       "      <th>PS1</th>\n",
       "      <th>PS2</th>\n",
       "      <th>PS3</th>\n",
       "      <th>PS4</th>\n",
       "      <th>R1</th>\n",
       "      <th>R2</th>\n",
       "      <th>R3</th>\n",
       "      <th>R4</th>\n",
       "      <th>R5</th>\n",
       "      <th>R6</th>\n",
       "      <th>R7</th>\n",
       "      <th>R8</th>\n",
       "    </tr>\n",
       "  </thead>\n",
       "  <tbody>\n",
       "    <tr>\n",
       "      <td>0</td>\n",
       "      <td>Con 4</td>\n",
       "      <td>Control</td>\n",
       "      <td>F</td>\n",
       "      <td>665</td>\n",
       "      <td>863</td>\n",
       "      <td>631</td>\n",
       "      <td>629</td>\n",
       "      <td>583</td>\n",
       "      <td>801</td>\n",
       "      <td>723</td>\n",
       "      <td>707</td>\n",
       "      <td>732</td>\n",
       "      <td>680</td>\n",
       "      <td>684</td>\n",
       "      <td>485</td>\n",
       "      <td>65</td>\n",
       "      <td>301</td>\n",
       "      <td>351</td>\n",
       "      <td>441</td>\n",
       "      <td>675</td>\n",
       "      <td>554</td>\n",
       "      <td>541</td>\n",
       "      <td>545</td>\n",
       "    </tr>\n",
       "    <tr>\n",
       "      <td>1</td>\n",
       "      <td>Con 5</td>\n",
       "      <td>Control</td>\n",
       "      <td>F</td>\n",
       "      <td>859</td>\n",
       "      <td>849</td>\n",
       "      <td>685</td>\n",
       "      <td>731</td>\n",
       "      <td>854</td>\n",
       "      <td>1103</td>\n",
       "      <td>645</td>\n",
       "      <td>633</td>\n",
       "      <td>733</td>\n",
       "      <td>662</td>\n",
       "      <td>605</td>\n",
       "      <td>623</td>\n",
       "      <td>128</td>\n",
       "      <td>268</td>\n",
       "      <td>462</td>\n",
       "      <td>569</td>\n",
       "      <td>988</td>\n",
       "      <td>728</td>\n",
       "      <td>933</td>\n",
       "      <td>564</td>\n",
       "    </tr>\n",
       "    <tr>\n",
       "      <td>2</td>\n",
       "      <td>Con 6</td>\n",
       "      <td>Control</td>\n",
       "      <td>F</td>\n",
       "      <td>589</td>\n",
       "      <td>507</td>\n",
       "      <td>635</td>\n",
       "      <td>902</td>\n",
       "      <td>699</td>\n",
       "      <td>743</td>\n",
       "      <td>761</td>\n",
       "      <td>949</td>\n",
       "      <td>872</td>\n",
       "      <td>952</td>\n",
       "      <td>828</td>\n",
       "      <td>806</td>\n",
       "      <td>129</td>\n",
       "      <td>311</td>\n",
       "      <td>669</td>\n",
       "      <td>666</td>\n",
       "      <td>516</td>\n",
       "      <td>579</td>\n",
       "      <td>913</td>\n",
       "      <td>736</td>\n",
       "    </tr>\n",
       "    <tr>\n",
       "      <td>3</td>\n",
       "      <td>CON 2.1</td>\n",
       "      <td>Control</td>\n",
       "      <td>M</td>\n",
       "      <td>939</td>\n",
       "      <td>909</td>\n",
       "      <td>850</td>\n",
       "      <td>756</td>\n",
       "      <td>807</td>\n",
       "      <td>617</td>\n",
       "      <td>526</td>\n",
       "      <td>736</td>\n",
       "      <td>743</td>\n",
       "      <td>625</td>\n",
       "      <td>690</td>\n",
       "      <td>759</td>\n",
       "      <td>281</td>\n",
       "      <td>357</td>\n",
       "      <td>386</td>\n",
       "      <td>585</td>\n",
       "      <td>565</td>\n",
       "      <td>550</td>\n",
       "      <td>806</td>\n",
       "      <td>732</td>\n",
       "    </tr>\n",
       "    <tr>\n",
       "      <td>4</td>\n",
       "      <td>ChR2 2.2</td>\n",
       "      <td>Experimental</td>\n",
       "      <td>F</td>\n",
       "      <td>710</td>\n",
       "      <td>505</td>\n",
       "      <td>494</td>\n",
       "      <td>596</td>\n",
       "      <td>620</td>\n",
       "      <td>589</td>\n",
       "      <td>676</td>\n",
       "      <td>537</td>\n",
       "      <td>779</td>\n",
       "      <td>537</td>\n",
       "      <td>581</td>\n",
       "      <td>515</td>\n",
       "      <td>477</td>\n",
       "      <td>659</td>\n",
       "      <td>737</td>\n",
       "      <td>606</td>\n",
       "      <td>713</td>\n",
       "      <td>682</td>\n",
       "      <td>709</td>\n",
       "      <td>759</td>\n",
       "    </tr>\n",
       "  </tbody>\n",
       "</table>\n",
       "</div>"
      ],
      "text/plain": [
       "   Mouse ID         Group Sex  BL1  BL2  BL3  ...   R3   R4   R5   R6   R7   R8\n",
       "0     Con 4       Control   F  665  863  631  ...  351  441  675  554  541  545\n",
       "1     Con 5       Control   F  859  849  685  ...  462  569  988  728  933  564\n",
       "2     Con 6       Control   F  589  507  635  ...  669  666  516  579  913  736\n",
       "3   CON 2.1       Control   M  939  909  850  ...  386  585  565  550  806  732\n",
       "4  ChR2 2.2  Experimental   F  710  505  494  ...  737  606  713  682  709  759\n",
       "\n",
       "[5 rows x 23 columns]"
      ]
     },
     "execution_count": 6,
     "metadata": {},
     "output_type": "execute_result"
    }
   ],
   "source": [
    "## Rename groups\n",
    "group_mapper = {'ChR2':'Experimental'}\n",
    "df['Group'] = df['Group'].replace(group_mapper)\n",
    "df.head()"
   ]
  },
  {
   "cell_type": "code",
   "execution_count": 7,
   "metadata": {
    "ExecuteTime": {
     "end_time": "2020-04-09T17:29:09.813707Z",
     "start_time": "2020-04-09T17:29:09.809436Z"
    }
   },
   "outputs": [
    {
     "data": {
      "text/plain": [
       "['Mouse1',\n",
       " 'Mouse2',\n",
       " 'Mouse3',\n",
       " 'Mouse4',\n",
       " 'Mouse5',\n",
       " 'Mouse6',\n",
       " 'Mouse7',\n",
       " 'Mouse8',\n",
       " 'Mouse9',\n",
       " 'Mouse10',\n",
       " 'Mouse11',\n",
       " 'Mouse12',\n",
       " 'Mouse13',\n",
       " 'Mouse14',\n",
       " 'Mouse15',\n",
       " 'Mouse16',\n",
       " 'Mouse17',\n",
       " 'Mouse18',\n",
       " 'Mouse19',\n",
       " 'Mouse20',\n",
       " 'Mouse21',\n",
       " 'Mouse22']"
      ]
     },
     "execution_count": 7,
     "metadata": {},
     "output_type": "execute_result"
    }
   ],
   "source": [
    "## Remake Mouse Index \n",
    "mouse_ids = list(df['Mouse ID'].unique())\n",
    "new_ids = [f\"Mouse{i}\" for i in range(1,len(mouse_ids)+1)]\n",
    "new_ids"
   ]
  },
  {
   "cell_type": "code",
   "execution_count": 8,
   "metadata": {
    "ExecuteTime": {
     "end_time": "2020-04-09T17:29:09.847048Z",
     "start_time": "2020-04-09T17:29:09.816062Z"
    }
   },
   "outputs": [
    {
     "data": {
      "text/html": [
       "<div>\n",
       "<style scoped>\n",
       "    .dataframe tbody tr th:only-of-type {\n",
       "        vertical-align: middle;\n",
       "    }\n",
       "\n",
       "    .dataframe tbody tr th {\n",
       "        vertical-align: top;\n",
       "    }\n",
       "\n",
       "    .dataframe thead th {\n",
       "        text-align: right;\n",
       "    }\n",
       "</style>\n",
       "<table border=\"1\" class=\"dataframe\">\n",
       "  <thead>\n",
       "    <tr style=\"text-align: right;\">\n",
       "      <th></th>\n",
       "      <th>Mouse ID</th>\n",
       "      <th>Group</th>\n",
       "      <th>Sex</th>\n",
       "      <th>BL1</th>\n",
       "      <th>BL2</th>\n",
       "      <th>BL3</th>\n",
       "      <th>BL4</th>\n",
       "      <th>S1</th>\n",
       "      <th>S2</th>\n",
       "      <th>S3</th>\n",
       "      <th>S4</th>\n",
       "      <th>PS1</th>\n",
       "      <th>PS2</th>\n",
       "      <th>PS3</th>\n",
       "      <th>PS4</th>\n",
       "      <th>R1</th>\n",
       "      <th>R2</th>\n",
       "      <th>R3</th>\n",
       "      <th>R4</th>\n",
       "      <th>R5</th>\n",
       "      <th>R6</th>\n",
       "      <th>R7</th>\n",
       "      <th>R8</th>\n",
       "    </tr>\n",
       "  </thead>\n",
       "  <tbody>\n",
       "    <tr>\n",
       "      <td>0</td>\n",
       "      <td>Mouse1</td>\n",
       "      <td>Control</td>\n",
       "      <td>F</td>\n",
       "      <td>665</td>\n",
       "      <td>863</td>\n",
       "      <td>631</td>\n",
       "      <td>629</td>\n",
       "      <td>583</td>\n",
       "      <td>801</td>\n",
       "      <td>723</td>\n",
       "      <td>707</td>\n",
       "      <td>732</td>\n",
       "      <td>680</td>\n",
       "      <td>684</td>\n",
       "      <td>485</td>\n",
       "      <td>65</td>\n",
       "      <td>301</td>\n",
       "      <td>351</td>\n",
       "      <td>441</td>\n",
       "      <td>675</td>\n",
       "      <td>554</td>\n",
       "      <td>541</td>\n",
       "      <td>545</td>\n",
       "    </tr>\n",
       "    <tr>\n",
       "      <td>1</td>\n",
       "      <td>Mouse2</td>\n",
       "      <td>Control</td>\n",
       "      <td>F</td>\n",
       "      <td>859</td>\n",
       "      <td>849</td>\n",
       "      <td>685</td>\n",
       "      <td>731</td>\n",
       "      <td>854</td>\n",
       "      <td>1103</td>\n",
       "      <td>645</td>\n",
       "      <td>633</td>\n",
       "      <td>733</td>\n",
       "      <td>662</td>\n",
       "      <td>605</td>\n",
       "      <td>623</td>\n",
       "      <td>128</td>\n",
       "      <td>268</td>\n",
       "      <td>462</td>\n",
       "      <td>569</td>\n",
       "      <td>988</td>\n",
       "      <td>728</td>\n",
       "      <td>933</td>\n",
       "      <td>564</td>\n",
       "    </tr>\n",
       "    <tr>\n",
       "      <td>2</td>\n",
       "      <td>Mouse3</td>\n",
       "      <td>Control</td>\n",
       "      <td>F</td>\n",
       "      <td>589</td>\n",
       "      <td>507</td>\n",
       "      <td>635</td>\n",
       "      <td>902</td>\n",
       "      <td>699</td>\n",
       "      <td>743</td>\n",
       "      <td>761</td>\n",
       "      <td>949</td>\n",
       "      <td>872</td>\n",
       "      <td>952</td>\n",
       "      <td>828</td>\n",
       "      <td>806</td>\n",
       "      <td>129</td>\n",
       "      <td>311</td>\n",
       "      <td>669</td>\n",
       "      <td>666</td>\n",
       "      <td>516</td>\n",
       "      <td>579</td>\n",
       "      <td>913</td>\n",
       "      <td>736</td>\n",
       "    </tr>\n",
       "    <tr>\n",
       "      <td>3</td>\n",
       "      <td>Mouse4</td>\n",
       "      <td>Control</td>\n",
       "      <td>M</td>\n",
       "      <td>939</td>\n",
       "      <td>909</td>\n",
       "      <td>850</td>\n",
       "      <td>756</td>\n",
       "      <td>807</td>\n",
       "      <td>617</td>\n",
       "      <td>526</td>\n",
       "      <td>736</td>\n",
       "      <td>743</td>\n",
       "      <td>625</td>\n",
       "      <td>690</td>\n",
       "      <td>759</td>\n",
       "      <td>281</td>\n",
       "      <td>357</td>\n",
       "      <td>386</td>\n",
       "      <td>585</td>\n",
       "      <td>565</td>\n",
       "      <td>550</td>\n",
       "      <td>806</td>\n",
       "      <td>732</td>\n",
       "    </tr>\n",
       "    <tr>\n",
       "      <td>4</td>\n",
       "      <td>Mouse5</td>\n",
       "      <td>Experimental</td>\n",
       "      <td>F</td>\n",
       "      <td>710</td>\n",
       "      <td>505</td>\n",
       "      <td>494</td>\n",
       "      <td>596</td>\n",
       "      <td>620</td>\n",
       "      <td>589</td>\n",
       "      <td>676</td>\n",
       "      <td>537</td>\n",
       "      <td>779</td>\n",
       "      <td>537</td>\n",
       "      <td>581</td>\n",
       "      <td>515</td>\n",
       "      <td>477</td>\n",
       "      <td>659</td>\n",
       "      <td>737</td>\n",
       "      <td>606</td>\n",
       "      <td>713</td>\n",
       "      <td>682</td>\n",
       "      <td>709</td>\n",
       "      <td>759</td>\n",
       "    </tr>\n",
       "  </tbody>\n",
       "</table>\n",
       "</div>"
      ],
      "text/plain": [
       "  Mouse ID         Group Sex  BL1  BL2  BL3  ...   R3   R4   R5   R6   R7   R8\n",
       "0   Mouse1       Control   F  665  863  631  ...  351  441  675  554  541  545\n",
       "1   Mouse2       Control   F  859  849  685  ...  462  569  988  728  933  564\n",
       "2   Mouse3       Control   F  589  507  635  ...  669  666  516  579  913  736\n",
       "3   Mouse4       Control   M  939  909  850  ...  386  585  565  550  806  732\n",
       "4   Mouse5  Experimental   F  710  505  494  ...  737  606  713  682  709  759\n",
       "\n",
       "[5 rows x 23 columns]"
      ]
     },
     "execution_count": 8,
     "metadata": {},
     "output_type": "execute_result"
    }
   ],
   "source": [
    "df['Mouse ID'] = df['Mouse ID'].map(dict(zip(mouse_ids,new_ids)))\n",
    "df.head()"
   ]
  },
  {
   "cell_type": "code",
   "execution_count": 9,
   "metadata": {
    "ExecuteTime": {
     "end_time": "2020-04-09T17:29:09.855239Z",
     "start_time": "2020-04-09T17:29:09.848903Z"
    }
   },
   "outputs": [
    {
     "data": {
      "text/plain": [
       "{'BL': ['BL1', 'BL2', 'BL3', 'BL4'],\n",
       " 'S': ['S1', 'S2', 'S3', 'S4', 'PS1', 'PS2', 'PS3', 'PS4'],\n",
       " 'R': ['R1', 'R2', 'R3', 'R4', 'R5', 'R6', 'R7', 'R8'],\n",
       " 'PS': ['PS1', 'PS2', 'PS3', 'PS4']}"
      ]
     },
     "execution_count": 9,
     "metadata": {},
     "output_type": "execute_result"
    }
   ],
   "source": [
    "## Get a dict of which cols belong to which phase\n",
    "col_dict = {}\n",
    "phases = ['BL','S','R','PS']\n",
    "for phase in phases:\n",
    "    col_dict[phase] = [col for col in df.drop('Sex',axis=1).columns if phase in col]\n",
    "col_dict"
   ]
  },
  {
   "cell_type": "code",
   "execution_count": 10,
   "metadata": {
    "ExecuteTime": {
     "end_time": "2020-04-09T17:29:09.873296Z",
     "start_time": "2020-04-09T17:29:09.856353Z"
    }
   },
   "outputs": [
    {
     "data": {
      "text/html": [
       "<div>\n",
       "<style scoped>\n",
       "    .dataframe tbody tr th:only-of-type {\n",
       "        vertical-align: middle;\n",
       "    }\n",
       "\n",
       "    .dataframe tbody tr th {\n",
       "        vertical-align: top;\n",
       "    }\n",
       "\n",
       "    .dataframe thead th {\n",
       "        text-align: right;\n",
       "    }\n",
       "</style>\n",
       "<table border=\"1\" class=\"dataframe\">\n",
       "  <thead>\n",
       "    <tr style=\"text-align: right;\">\n",
       "      <th></th>\n",
       "      <th>BL</th>\n",
       "      <th>S</th>\n",
       "      <th>R</th>\n",
       "      <th>PS</th>\n",
       "    </tr>\n",
       "  </thead>\n",
       "  <tbody>\n",
       "    <tr>\n",
       "      <td>0</td>\n",
       "      <td>697.00</td>\n",
       "      <td>674.375</td>\n",
       "      <td>434.125</td>\n",
       "      <td>645.25</td>\n",
       "    </tr>\n",
       "    <tr>\n",
       "      <td>1</td>\n",
       "      <td>781.00</td>\n",
       "      <td>732.250</td>\n",
       "      <td>580.000</td>\n",
       "      <td>655.75</td>\n",
       "    </tr>\n",
       "    <tr>\n",
       "      <td>2</td>\n",
       "      <td>658.25</td>\n",
       "      <td>826.250</td>\n",
       "      <td>564.875</td>\n",
       "      <td>864.50</td>\n",
       "    </tr>\n",
       "    <tr>\n",
       "      <td>3</td>\n",
       "      <td>863.50</td>\n",
       "      <td>687.875</td>\n",
       "      <td>532.750</td>\n",
       "      <td>704.25</td>\n",
       "    </tr>\n",
       "    <tr>\n",
       "      <td>4</td>\n",
       "      <td>576.25</td>\n",
       "      <td>604.250</td>\n",
       "      <td>667.750</td>\n",
       "      <td>603.00</td>\n",
       "    </tr>\n",
       "    <tr>\n",
       "      <td>5</td>\n",
       "      <td>639.25</td>\n",
       "      <td>565.875</td>\n",
       "      <td>813.125</td>\n",
       "      <td>618.50</td>\n",
       "    </tr>\n",
       "    <tr>\n",
       "      <td>6</td>\n",
       "      <td>795.75</td>\n",
       "      <td>730.500</td>\n",
       "      <td>727.500</td>\n",
       "      <td>645.75</td>\n",
       "    </tr>\n",
       "    <tr>\n",
       "      <td>7</td>\n",
       "      <td>559.50</td>\n",
       "      <td>524.625</td>\n",
       "      <td>148.000</td>\n",
       "      <td>525.25</td>\n",
       "    </tr>\n",
       "    <tr>\n",
       "      <td>8</td>\n",
       "      <td>706.25</td>\n",
       "      <td>621.625</td>\n",
       "      <td>389.500</td>\n",
       "      <td>547.75</td>\n",
       "    </tr>\n",
       "    <tr>\n",
       "      <td>9</td>\n",
       "      <td>806.50</td>\n",
       "      <td>901.875</td>\n",
       "      <td>667.375</td>\n",
       "      <td>890.00</td>\n",
       "    </tr>\n",
       "    <tr>\n",
       "      <td>10</td>\n",
       "      <td>645.25</td>\n",
       "      <td>705.000</td>\n",
       "      <td>662.625</td>\n",
       "      <td>686.25</td>\n",
       "    </tr>\n",
       "    <tr>\n",
       "      <td>11</td>\n",
       "      <td>549.00</td>\n",
       "      <td>453.250</td>\n",
       "      <td>395.875</td>\n",
       "      <td>469.25</td>\n",
       "    </tr>\n",
       "    <tr>\n",
       "      <td>12</td>\n",
       "      <td>602.00</td>\n",
       "      <td>486.875</td>\n",
       "      <td>418.875</td>\n",
       "      <td>529.75</td>\n",
       "    </tr>\n",
       "    <tr>\n",
       "      <td>13</td>\n",
       "      <td>732.50</td>\n",
       "      <td>573.750</td>\n",
       "      <td>552.000</td>\n",
       "      <td>629.25</td>\n",
       "    </tr>\n",
       "    <tr>\n",
       "      <td>14</td>\n",
       "      <td>618.00</td>\n",
       "      <td>532.500</td>\n",
       "      <td>408.500</td>\n",
       "      <td>477.75</td>\n",
       "    </tr>\n",
       "    <tr>\n",
       "      <td>15</td>\n",
       "      <td>477.25</td>\n",
       "      <td>688.000</td>\n",
       "      <td>865.000</td>\n",
       "      <td>788.75</td>\n",
       "    </tr>\n",
       "    <tr>\n",
       "      <td>16</td>\n",
       "      <td>316.00</td>\n",
       "      <td>510.875</td>\n",
       "      <td>587.125</td>\n",
       "      <td>502.50</td>\n",
       "    </tr>\n",
       "    <tr>\n",
       "      <td>17</td>\n",
       "      <td>807.50</td>\n",
       "      <td>720.625</td>\n",
       "      <td>793.250</td>\n",
       "      <td>747.25</td>\n",
       "    </tr>\n",
       "    <tr>\n",
       "      <td>18</td>\n",
       "      <td>540.25</td>\n",
       "      <td>564.625</td>\n",
       "      <td>905.875</td>\n",
       "      <td>516.50</td>\n",
       "    </tr>\n",
       "    <tr>\n",
       "      <td>19</td>\n",
       "      <td>282.75</td>\n",
       "      <td>157.250</td>\n",
       "      <td>188.625</td>\n",
       "      <td>192.25</td>\n",
       "    </tr>\n",
       "    <tr>\n",
       "      <td>20</td>\n",
       "      <td>408.25</td>\n",
       "      <td>517.250</td>\n",
       "      <td>680.000</td>\n",
       "      <td>524.25</td>\n",
       "    </tr>\n",
       "    <tr>\n",
       "      <td>21</td>\n",
       "      <td>211.00</td>\n",
       "      <td>241.375</td>\n",
       "      <td>143.750</td>\n",
       "      <td>197.50</td>\n",
       "    </tr>\n",
       "  </tbody>\n",
       "</table>\n",
       "</div>"
      ],
      "text/plain": [
       "        BL        S        R      PS\n",
       "0   697.00  674.375  434.125  645.25\n",
       "1   781.00  732.250  580.000  655.75\n",
       "2   658.25  826.250  564.875  864.50\n",
       "3   863.50  687.875  532.750  704.25\n",
       "4   576.25  604.250  667.750  603.00\n",
       "5   639.25  565.875  813.125  618.50\n",
       "6   795.75  730.500  727.500  645.75\n",
       "7   559.50  524.625  148.000  525.25\n",
       "8   706.25  621.625  389.500  547.75\n",
       "9   806.50  901.875  667.375  890.00\n",
       "10  645.25  705.000  662.625  686.25\n",
       "11  549.00  453.250  395.875  469.25\n",
       "12  602.00  486.875  418.875  529.75\n",
       "13  732.50  573.750  552.000  629.25\n",
       "14  618.00  532.500  408.500  477.75\n",
       "15  477.25  688.000  865.000  788.75\n",
       "16  316.00  510.875  587.125  502.50\n",
       "17  807.50  720.625  793.250  747.25\n",
       "18  540.25  564.625  905.875  516.50\n",
       "19  282.75  157.250  188.625  192.25\n",
       "20  408.25  517.250  680.000  524.25\n",
       "21  211.00  241.375  143.750  197.50"
      ]
     },
     "execution_count": 10,
     "metadata": {},
     "output_type": "execute_result"
    }
   ],
   "source": [
    "## Use col_dict to calculate each mouse's mean per phase\n",
    "mean_to_df = {}\n",
    "for k, cols in col_dict.items():\n",
    "    mean_to_df[k] = df[cols].mean(axis=1)\n",
    "df_means = pd.concat(mean_to_df,axis=1)\n",
    "df_means"
   ]
  },
  {
   "cell_type": "code",
   "execution_count": 11,
   "metadata": {
    "ExecuteTime": {
     "end_time": "2020-04-09T17:29:09.877329Z",
     "start_time": "2020-04-09T17:29:09.874357Z"
    }
   },
   "outputs": [
    {
     "data": {
      "text/plain": [
       "(22, 22)"
      ]
     },
     "execution_count": 11,
     "metadata": {},
     "output_type": "execute_result"
    }
   ],
   "source": [
    "len(df_means),len(df)"
   ]
  },
  {
   "cell_type": "code",
   "execution_count": 12,
   "metadata": {
    "ExecuteTime": {
     "end_time": "2020-04-09T17:29:09.896839Z",
     "start_time": "2020-04-09T17:29:09.878305Z"
    }
   },
   "outputs": [
    {
     "data": {
      "text/html": [
       "<div>\n",
       "<style scoped>\n",
       "    .dataframe tbody tr th:only-of-type {\n",
       "        vertical-align: middle;\n",
       "    }\n",
       "\n",
       "    .dataframe tbody tr th {\n",
       "        vertical-align: top;\n",
       "    }\n",
       "\n",
       "    .dataframe thead th {\n",
       "        text-align: right;\n",
       "    }\n",
       "</style>\n",
       "<table border=\"1\" class=\"dataframe\">\n",
       "  <thead>\n",
       "    <tr style=\"text-align: right;\">\n",
       "      <th></th>\n",
       "      <th>Mouse ID</th>\n",
       "      <th>Group</th>\n",
       "      <th>Sex</th>\n",
       "      <th>BL</th>\n",
       "      <th>S</th>\n",
       "      <th>R</th>\n",
       "      <th>PS</th>\n",
       "    </tr>\n",
       "  </thead>\n",
       "  <tbody>\n",
       "    <tr>\n",
       "      <td>0</td>\n",
       "      <td>Mouse1</td>\n",
       "      <td>Control</td>\n",
       "      <td>F</td>\n",
       "      <td>697.00</td>\n",
       "      <td>674.375</td>\n",
       "      <td>434.125</td>\n",
       "      <td>645.25</td>\n",
       "    </tr>\n",
       "    <tr>\n",
       "      <td>1</td>\n",
       "      <td>Mouse2</td>\n",
       "      <td>Control</td>\n",
       "      <td>F</td>\n",
       "      <td>781.00</td>\n",
       "      <td>732.250</td>\n",
       "      <td>580.000</td>\n",
       "      <td>655.75</td>\n",
       "    </tr>\n",
       "    <tr>\n",
       "      <td>2</td>\n",
       "      <td>Mouse3</td>\n",
       "      <td>Control</td>\n",
       "      <td>F</td>\n",
       "      <td>658.25</td>\n",
       "      <td>826.250</td>\n",
       "      <td>564.875</td>\n",
       "      <td>864.50</td>\n",
       "    </tr>\n",
       "    <tr>\n",
       "      <td>3</td>\n",
       "      <td>Mouse4</td>\n",
       "      <td>Control</td>\n",
       "      <td>M</td>\n",
       "      <td>863.50</td>\n",
       "      <td>687.875</td>\n",
       "      <td>532.750</td>\n",
       "      <td>704.25</td>\n",
       "    </tr>\n",
       "    <tr>\n",
       "      <td>4</td>\n",
       "      <td>Mouse5</td>\n",
       "      <td>Experimental</td>\n",
       "      <td>F</td>\n",
       "      <td>576.25</td>\n",
       "      <td>604.250</td>\n",
       "      <td>667.750</td>\n",
       "      <td>603.00</td>\n",
       "    </tr>\n",
       "    <tr>\n",
       "      <td>5</td>\n",
       "      <td>Mouse6</td>\n",
       "      <td>Experimental</td>\n",
       "      <td>F</td>\n",
       "      <td>639.25</td>\n",
       "      <td>565.875</td>\n",
       "      <td>813.125</td>\n",
       "      <td>618.50</td>\n",
       "    </tr>\n",
       "    <tr>\n",
       "      <td>6</td>\n",
       "      <td>Mouse7</td>\n",
       "      <td>Experimental</td>\n",
       "      <td>M</td>\n",
       "      <td>795.75</td>\n",
       "      <td>730.500</td>\n",
       "      <td>727.500</td>\n",
       "      <td>645.75</td>\n",
       "    </tr>\n",
       "    <tr>\n",
       "      <td>7</td>\n",
       "      <td>Mouse8</td>\n",
       "      <td>Experimental</td>\n",
       "      <td>M</td>\n",
       "      <td>559.50</td>\n",
       "      <td>524.625</td>\n",
       "      <td>148.000</td>\n",
       "      <td>525.25</td>\n",
       "    </tr>\n",
       "    <tr>\n",
       "      <td>8</td>\n",
       "      <td>Mouse9</td>\n",
       "      <td>Experimental</td>\n",
       "      <td>M</td>\n",
       "      <td>706.25</td>\n",
       "      <td>621.625</td>\n",
       "      <td>389.500</td>\n",
       "      <td>547.75</td>\n",
       "    </tr>\n",
       "    <tr>\n",
       "      <td>9</td>\n",
       "      <td>Mouse10</td>\n",
       "      <td>Experimental</td>\n",
       "      <td>M</td>\n",
       "      <td>806.50</td>\n",
       "      <td>901.875</td>\n",
       "      <td>667.375</td>\n",
       "      <td>890.00</td>\n",
       "    </tr>\n",
       "    <tr>\n",
       "      <td>10</td>\n",
       "      <td>Mouse11</td>\n",
       "      <td>Experimental</td>\n",
       "      <td>M</td>\n",
       "      <td>645.25</td>\n",
       "      <td>705.000</td>\n",
       "      <td>662.625</td>\n",
       "      <td>686.25</td>\n",
       "    </tr>\n",
       "    <tr>\n",
       "      <td>11</td>\n",
       "      <td>Mouse12</td>\n",
       "      <td>Control</td>\n",
       "      <td>M</td>\n",
       "      <td>549.00</td>\n",
       "      <td>453.250</td>\n",
       "      <td>395.875</td>\n",
       "      <td>469.25</td>\n",
       "    </tr>\n",
       "    <tr>\n",
       "      <td>12</td>\n",
       "      <td>Mouse13</td>\n",
       "      <td>Control</td>\n",
       "      <td>M</td>\n",
       "      <td>602.00</td>\n",
       "      <td>486.875</td>\n",
       "      <td>418.875</td>\n",
       "      <td>529.75</td>\n",
       "    </tr>\n",
       "    <tr>\n",
       "      <td>13</td>\n",
       "      <td>Mouse14</td>\n",
       "      <td>Control</td>\n",
       "      <td>M</td>\n",
       "      <td>732.50</td>\n",
       "      <td>573.750</td>\n",
       "      <td>552.000</td>\n",
       "      <td>629.25</td>\n",
       "    </tr>\n",
       "    <tr>\n",
       "      <td>14</td>\n",
       "      <td>Mouse15</td>\n",
       "      <td>Control</td>\n",
       "      <td>F</td>\n",
       "      <td>618.00</td>\n",
       "      <td>532.500</td>\n",
       "      <td>408.500</td>\n",
       "      <td>477.75</td>\n",
       "    </tr>\n",
       "    <tr>\n",
       "      <td>15</td>\n",
       "      <td>Mouse16</td>\n",
       "      <td>Experimental</td>\n",
       "      <td>M</td>\n",
       "      <td>477.25</td>\n",
       "      <td>688.000</td>\n",
       "      <td>865.000</td>\n",
       "      <td>788.75</td>\n",
       "    </tr>\n",
       "    <tr>\n",
       "      <td>16</td>\n",
       "      <td>Mouse17</td>\n",
       "      <td>Experimental</td>\n",
       "      <td>F</td>\n",
       "      <td>316.00</td>\n",
       "      <td>510.875</td>\n",
       "      <td>587.125</td>\n",
       "      <td>502.50</td>\n",
       "    </tr>\n",
       "    <tr>\n",
       "      <td>17</td>\n",
       "      <td>Mouse18</td>\n",
       "      <td>Experimental</td>\n",
       "      <td>F</td>\n",
       "      <td>807.50</td>\n",
       "      <td>720.625</td>\n",
       "      <td>793.250</td>\n",
       "      <td>747.25</td>\n",
       "    </tr>\n",
       "    <tr>\n",
       "      <td>18</td>\n",
       "      <td>Mouse19</td>\n",
       "      <td>Experimental</td>\n",
       "      <td>F</td>\n",
       "      <td>540.25</td>\n",
       "      <td>564.625</td>\n",
       "      <td>905.875</td>\n",
       "      <td>516.50</td>\n",
       "    </tr>\n",
       "    <tr>\n",
       "      <td>19</td>\n",
       "      <td>Mouse20</td>\n",
       "      <td>Experimental</td>\n",
       "      <td>M</td>\n",
       "      <td>282.75</td>\n",
       "      <td>157.250</td>\n",
       "      <td>188.625</td>\n",
       "      <td>192.25</td>\n",
       "    </tr>\n",
       "    <tr>\n",
       "      <td>20</td>\n",
       "      <td>Mouse21</td>\n",
       "      <td>Experimental</td>\n",
       "      <td>M</td>\n",
       "      <td>408.25</td>\n",
       "      <td>517.250</td>\n",
       "      <td>680.000</td>\n",
       "      <td>524.25</td>\n",
       "    </tr>\n",
       "    <tr>\n",
       "      <td>21</td>\n",
       "      <td>Mouse22</td>\n",
       "      <td>Control</td>\n",
       "      <td>F</td>\n",
       "      <td>211.00</td>\n",
       "      <td>241.375</td>\n",
       "      <td>143.750</td>\n",
       "      <td>197.50</td>\n",
       "    </tr>\n",
       "  </tbody>\n",
       "</table>\n",
       "</div>"
      ],
      "text/plain": [
       "   Mouse ID         Group Sex      BL        S        R      PS\n",
       "0    Mouse1       Control   F  697.00  674.375  434.125  645.25\n",
       "1    Mouse2       Control   F  781.00  732.250  580.000  655.75\n",
       "2    Mouse3       Control   F  658.25  826.250  564.875  864.50\n",
       "3    Mouse4       Control   M  863.50  687.875  532.750  704.25\n",
       "4    Mouse5  Experimental   F  576.25  604.250  667.750  603.00\n",
       "5    Mouse6  Experimental   F  639.25  565.875  813.125  618.50\n",
       "6    Mouse7  Experimental   M  795.75  730.500  727.500  645.75\n",
       "7    Mouse8  Experimental   M  559.50  524.625  148.000  525.25\n",
       "8    Mouse9  Experimental   M  706.25  621.625  389.500  547.75\n",
       "9   Mouse10  Experimental   M  806.50  901.875  667.375  890.00\n",
       "10  Mouse11  Experimental   M  645.25  705.000  662.625  686.25\n",
       "11  Mouse12       Control   M  549.00  453.250  395.875  469.25\n",
       "12  Mouse13       Control   M  602.00  486.875  418.875  529.75\n",
       "13  Mouse14       Control   M  732.50  573.750  552.000  629.25\n",
       "14  Mouse15       Control   F  618.00  532.500  408.500  477.75\n",
       "15  Mouse16  Experimental   M  477.25  688.000  865.000  788.75\n",
       "16  Mouse17  Experimental   F  316.00  510.875  587.125  502.50\n",
       "17  Mouse18  Experimental   F  807.50  720.625  793.250  747.25\n",
       "18  Mouse19  Experimental   F  540.25  564.625  905.875  516.50\n",
       "19  Mouse20  Experimental   M  282.75  157.250  188.625  192.25\n",
       "20  Mouse21  Experimental   M  408.25  517.250  680.000  524.25\n",
       "21  Mouse22       Control   F  211.00  241.375  143.750  197.50"
      ]
     },
     "execution_count": 12,
     "metadata": {},
     "output_type": "execute_result"
    }
   ],
   "source": [
    "df_means = pd.concat([df[['Mouse ID','Group','Sex']],\n",
    "                      df_means],axis=1)\n",
    "df_means"
   ]
  },
  {
   "cell_type": "markdown",
   "metadata": {},
   "source": [
    "### Getting Group Data For EDA & Testing"
   ]
  },
  {
   "cell_type": "code",
   "execution_count": 13,
   "metadata": {
    "ExecuteTime": {
     "end_time": "2020-04-09T17:29:09.913748Z",
     "start_time": "2020-04-09T17:29:09.898048Z"
    }
   },
   "outputs": [
    {
     "data": {
      "text/html": [
       "<div>\n",
       "<style scoped>\n",
       "    .dataframe tbody tr th:only-of-type {\n",
       "        vertical-align: middle;\n",
       "    }\n",
       "\n",
       "    .dataframe tbody tr th {\n",
       "        vertical-align: top;\n",
       "    }\n",
       "\n",
       "    .dataframe thead th {\n",
       "        text-align: right;\n",
       "    }\n",
       "</style>\n",
       "<table border=\"1\" class=\"dataframe\">\n",
       "  <thead>\n",
       "    <tr style=\"text-align: right;\">\n",
       "      <th></th>\n",
       "      <th>Mouse ID</th>\n",
       "      <th>Group</th>\n",
       "      <th>Sex</th>\n",
       "      <th>BL</th>\n",
       "      <th>S</th>\n",
       "      <th>R</th>\n",
       "      <th>PS</th>\n",
       "    </tr>\n",
       "  </thead>\n",
       "  <tbody>\n",
       "    <tr>\n",
       "      <td>0</td>\n",
       "      <td>Mouse1</td>\n",
       "      <td>Control</td>\n",
       "      <td>F</td>\n",
       "      <td>697.00</td>\n",
       "      <td>674.375</td>\n",
       "      <td>434.125</td>\n",
       "      <td>645.25</td>\n",
       "    </tr>\n",
       "    <tr>\n",
       "      <td>1</td>\n",
       "      <td>Mouse2</td>\n",
       "      <td>Control</td>\n",
       "      <td>F</td>\n",
       "      <td>781.00</td>\n",
       "      <td>732.250</td>\n",
       "      <td>580.000</td>\n",
       "      <td>655.75</td>\n",
       "    </tr>\n",
       "    <tr>\n",
       "      <td>2</td>\n",
       "      <td>Mouse3</td>\n",
       "      <td>Control</td>\n",
       "      <td>F</td>\n",
       "      <td>658.25</td>\n",
       "      <td>826.250</td>\n",
       "      <td>564.875</td>\n",
       "      <td>864.50</td>\n",
       "    </tr>\n",
       "    <tr>\n",
       "      <td>3</td>\n",
       "      <td>Mouse4</td>\n",
       "      <td>Control</td>\n",
       "      <td>M</td>\n",
       "      <td>863.50</td>\n",
       "      <td>687.875</td>\n",
       "      <td>532.750</td>\n",
       "      <td>704.25</td>\n",
       "    </tr>\n",
       "    <tr>\n",
       "      <td>4</td>\n",
       "      <td>Mouse5</td>\n",
       "      <td>Experimental</td>\n",
       "      <td>F</td>\n",
       "      <td>576.25</td>\n",
       "      <td>604.250</td>\n",
       "      <td>667.750</td>\n",
       "      <td>603.00</td>\n",
       "    </tr>\n",
       "  </tbody>\n",
       "</table>\n",
       "</div>"
      ],
      "text/plain": [
       "  Mouse ID         Group Sex      BL        S        R      PS\n",
       "0   Mouse1       Control   F  697.00  674.375  434.125  645.25\n",
       "1   Mouse2       Control   F  781.00  732.250  580.000  655.75\n",
       "2   Mouse3       Control   F  658.25  826.250  564.875  864.50\n",
       "3   Mouse4       Control   M  863.50  687.875  532.750  704.25\n",
       "4   Mouse5  Experimental   F  576.25  604.250  667.750  603.00"
      ]
     },
     "execution_count": 13,
     "metadata": {},
     "output_type": "execute_result"
    }
   ],
   "source": [
    "df_means.head()"
   ]
  },
  {
   "cell_type": "code",
   "execution_count": 14,
   "metadata": {
    "ExecuteTime": {
     "end_time": "2020-04-09T17:29:09.918491Z",
     "start_time": "2020-04-09T17:29:09.914884Z"
    }
   },
   "outputs": [],
   "source": [
    "df_means.to_csv('datasets/mouse_data_processed.csv',index=False)"
   ]
  },
  {
   "cell_type": "code",
   "execution_count": 15,
   "metadata": {
    "ExecuteTime": {
     "end_time": "2020-04-09T17:29:09.946944Z",
     "start_time": "2020-04-09T17:29:09.919587Z"
    }
   },
   "outputs": [
    {
     "data": {
      "text/html": [
       "<div>\n",
       "<style scoped>\n",
       "    .dataframe tbody tr th:only-of-type {\n",
       "        vertical-align: middle;\n",
       "    }\n",
       "\n",
       "    .dataframe tbody tr th {\n",
       "        vertical-align: top;\n",
       "    }\n",
       "\n",
       "    .dataframe thead th {\n",
       "        text-align: right;\n",
       "    }\n",
       "</style>\n",
       "<table border=\"1\" class=\"dataframe\">\n",
       "  <thead>\n",
       "    <tr style=\"text-align: right;\">\n",
       "      <th></th>\n",
       "      <th>Mouse ID</th>\n",
       "      <th>Group</th>\n",
       "      <th>Sex</th>\n",
       "      <th>BL1</th>\n",
       "      <th>BL2</th>\n",
       "      <th>BL3</th>\n",
       "      <th>BL4</th>\n",
       "      <th>S1</th>\n",
       "      <th>S2</th>\n",
       "      <th>S3</th>\n",
       "      <th>S4</th>\n",
       "      <th>PS1</th>\n",
       "      <th>PS2</th>\n",
       "      <th>PS3</th>\n",
       "      <th>PS4</th>\n",
       "      <th>R1</th>\n",
       "      <th>R2</th>\n",
       "      <th>R3</th>\n",
       "      <th>R4</th>\n",
       "      <th>R5</th>\n",
       "      <th>R6</th>\n",
       "      <th>R7</th>\n",
       "      <th>R8</th>\n",
       "    </tr>\n",
       "  </thead>\n",
       "  <tbody>\n",
       "    <tr>\n",
       "      <td>0</td>\n",
       "      <td>Mouse1</td>\n",
       "      <td>Control</td>\n",
       "      <td>F</td>\n",
       "      <td>665</td>\n",
       "      <td>863</td>\n",
       "      <td>631</td>\n",
       "      <td>629</td>\n",
       "      <td>583</td>\n",
       "      <td>801</td>\n",
       "      <td>723</td>\n",
       "      <td>707</td>\n",
       "      <td>732</td>\n",
       "      <td>680</td>\n",
       "      <td>684</td>\n",
       "      <td>485</td>\n",
       "      <td>65</td>\n",
       "      <td>301</td>\n",
       "      <td>351</td>\n",
       "      <td>441</td>\n",
       "      <td>675</td>\n",
       "      <td>554</td>\n",
       "      <td>541</td>\n",
       "      <td>545</td>\n",
       "    </tr>\n",
       "    <tr>\n",
       "      <td>1</td>\n",
       "      <td>Mouse2</td>\n",
       "      <td>Control</td>\n",
       "      <td>F</td>\n",
       "      <td>859</td>\n",
       "      <td>849</td>\n",
       "      <td>685</td>\n",
       "      <td>731</td>\n",
       "      <td>854</td>\n",
       "      <td>1103</td>\n",
       "      <td>645</td>\n",
       "      <td>633</td>\n",
       "      <td>733</td>\n",
       "      <td>662</td>\n",
       "      <td>605</td>\n",
       "      <td>623</td>\n",
       "      <td>128</td>\n",
       "      <td>268</td>\n",
       "      <td>462</td>\n",
       "      <td>569</td>\n",
       "      <td>988</td>\n",
       "      <td>728</td>\n",
       "      <td>933</td>\n",
       "      <td>564</td>\n",
       "    </tr>\n",
       "    <tr>\n",
       "      <td>2</td>\n",
       "      <td>Mouse3</td>\n",
       "      <td>Control</td>\n",
       "      <td>F</td>\n",
       "      <td>589</td>\n",
       "      <td>507</td>\n",
       "      <td>635</td>\n",
       "      <td>902</td>\n",
       "      <td>699</td>\n",
       "      <td>743</td>\n",
       "      <td>761</td>\n",
       "      <td>949</td>\n",
       "      <td>872</td>\n",
       "      <td>952</td>\n",
       "      <td>828</td>\n",
       "      <td>806</td>\n",
       "      <td>129</td>\n",
       "      <td>311</td>\n",
       "      <td>669</td>\n",
       "      <td>666</td>\n",
       "      <td>516</td>\n",
       "      <td>579</td>\n",
       "      <td>913</td>\n",
       "      <td>736</td>\n",
       "    </tr>\n",
       "    <tr>\n",
       "      <td>3</td>\n",
       "      <td>Mouse4</td>\n",
       "      <td>Control</td>\n",
       "      <td>M</td>\n",
       "      <td>939</td>\n",
       "      <td>909</td>\n",
       "      <td>850</td>\n",
       "      <td>756</td>\n",
       "      <td>807</td>\n",
       "      <td>617</td>\n",
       "      <td>526</td>\n",
       "      <td>736</td>\n",
       "      <td>743</td>\n",
       "      <td>625</td>\n",
       "      <td>690</td>\n",
       "      <td>759</td>\n",
       "      <td>281</td>\n",
       "      <td>357</td>\n",
       "      <td>386</td>\n",
       "      <td>585</td>\n",
       "      <td>565</td>\n",
       "      <td>550</td>\n",
       "      <td>806</td>\n",
       "      <td>732</td>\n",
       "    </tr>\n",
       "    <tr>\n",
       "      <td>4</td>\n",
       "      <td>Mouse5</td>\n",
       "      <td>Experimental</td>\n",
       "      <td>F</td>\n",
       "      <td>710</td>\n",
       "      <td>505</td>\n",
       "      <td>494</td>\n",
       "      <td>596</td>\n",
       "      <td>620</td>\n",
       "      <td>589</td>\n",
       "      <td>676</td>\n",
       "      <td>537</td>\n",
       "      <td>779</td>\n",
       "      <td>537</td>\n",
       "      <td>581</td>\n",
       "      <td>515</td>\n",
       "      <td>477</td>\n",
       "      <td>659</td>\n",
       "      <td>737</td>\n",
       "      <td>606</td>\n",
       "      <td>713</td>\n",
       "      <td>682</td>\n",
       "      <td>709</td>\n",
       "      <td>759</td>\n",
       "    </tr>\n",
       "  </tbody>\n",
       "</table>\n",
       "</div>"
      ],
      "text/plain": [
       "  Mouse ID         Group Sex  BL1  BL2  BL3  ...   R3   R4   R5   R6   R7   R8\n",
       "0   Mouse1       Control   F  665  863  631  ...  351  441  675  554  541  545\n",
       "1   Mouse2       Control   F  859  849  685  ...  462  569  988  728  933  564\n",
       "2   Mouse3       Control   F  589  507  635  ...  669  666  516  579  913  736\n",
       "3   Mouse4       Control   M  939  909  850  ...  386  585  565  550  806  732\n",
       "4   Mouse5  Experimental   F  710  505  494  ...  737  606  713  682  709  759\n",
       "\n",
       "[5 rows x 23 columns]"
      ]
     },
     "execution_count": 15,
     "metadata": {},
     "output_type": "execute_result"
    }
   ],
   "source": [
    "df.head()"
   ]
  },
  {
   "cell_type": "code",
   "execution_count": 16,
   "metadata": {
    "ExecuteTime": {
     "end_time": "2020-04-09T17:29:09.951592Z",
     "start_time": "2020-04-09T17:29:09.947978Z"
    }
   },
   "outputs": [
    {
     "data": {
      "text/plain": [
       "{'BL1': 'BL',\n",
       " 'BL2': 'BL',\n",
       " 'BL3': 'BL',\n",
       " 'BL4': 'BL',\n",
       " 'S1': 'S',\n",
       " 'S2': 'S',\n",
       " 'S3': 'S',\n",
       " 'S4': 'S',\n",
       " 'PS1': 'PS',\n",
       " 'PS2': 'PS',\n",
       " 'PS3': 'PS',\n",
       " 'PS4': 'PS',\n",
       " 'R1': 'R',\n",
       " 'R2': 'R',\n",
       " 'R3': 'R',\n",
       " 'R4': 'R',\n",
       " 'R5': 'R',\n",
       " 'R6': 'R',\n",
       " 'R7': 'R',\n",
       " 'R8': 'R'}"
      ]
     },
     "execution_count": 16,
     "metadata": {},
     "output_type": "execute_result"
    }
   ],
   "source": [
    "phase_dict = {}\n",
    "for phase,colnames in col_dict.items():\n",
    "    for col in colnames:\n",
    "        phase_dict[col] = phase\n",
    "        \n",
    "phase_dict"
   ]
  },
  {
   "cell_type": "code",
   "execution_count": null,
   "metadata": {},
   "outputs": [],
   "source": []
  },
  {
   "cell_type": "code",
   "execution_count": 17,
   "metadata": {
    "ExecuteTime": {
     "end_time": "2020-04-09T17:29:09.974380Z",
     "start_time": "2020-04-09T17:29:09.952617Z"
    }
   },
   "outputs": [
    {
     "data": {
      "text/html": [
       "<div>\n",
       "<style scoped>\n",
       "    .dataframe tbody tr th:only-of-type {\n",
       "        vertical-align: middle;\n",
       "    }\n",
       "\n",
       "    .dataframe tbody tr th {\n",
       "        vertical-align: top;\n",
       "    }\n",
       "\n",
       "    .dataframe thead th {\n",
       "        text-align: right;\n",
       "    }\n",
       "</style>\n",
       "<table border=\"1\" class=\"dataframe\">\n",
       "  <thead>\n",
       "    <tr style=\"text-align: right;\">\n",
       "      <th></th>\n",
       "      <th>Mouse ID</th>\n",
       "      <th>Group</th>\n",
       "      <th>Day</th>\n",
       "      <th>Licks</th>\n",
       "      <th>Phase</th>\n",
       "    </tr>\n",
       "  </thead>\n",
       "  <tbody>\n",
       "    <tr>\n",
       "      <td>0</td>\n",
       "      <td>Mouse1</td>\n",
       "      <td>Control</td>\n",
       "      <td>BL1</td>\n",
       "      <td>665</td>\n",
       "      <td>BL</td>\n",
       "    </tr>\n",
       "    <tr>\n",
       "      <td>1</td>\n",
       "      <td>Mouse2</td>\n",
       "      <td>Control</td>\n",
       "      <td>BL1</td>\n",
       "      <td>859</td>\n",
       "      <td>BL</td>\n",
       "    </tr>\n",
       "    <tr>\n",
       "      <td>2</td>\n",
       "      <td>Mouse3</td>\n",
       "      <td>Control</td>\n",
       "      <td>BL1</td>\n",
       "      <td>589</td>\n",
       "      <td>BL</td>\n",
       "    </tr>\n",
       "    <tr>\n",
       "      <td>3</td>\n",
       "      <td>Mouse4</td>\n",
       "      <td>Control</td>\n",
       "      <td>BL1</td>\n",
       "      <td>939</td>\n",
       "      <td>BL</td>\n",
       "    </tr>\n",
       "    <tr>\n",
       "      <td>4</td>\n",
       "      <td>Mouse5</td>\n",
       "      <td>Experimental</td>\n",
       "      <td>BL1</td>\n",
       "      <td>710</td>\n",
       "      <td>BL</td>\n",
       "    </tr>\n",
       "    <tr>\n",
       "      <td>...</td>\n",
       "      <td>...</td>\n",
       "      <td>...</td>\n",
       "      <td>...</td>\n",
       "      <td>...</td>\n",
       "      <td>...</td>\n",
       "    </tr>\n",
       "    <tr>\n",
       "      <td>435</td>\n",
       "      <td>Mouse18</td>\n",
       "      <td>Experimental</td>\n",
       "      <td>R8</td>\n",
       "      <td>880</td>\n",
       "      <td>R</td>\n",
       "    </tr>\n",
       "    <tr>\n",
       "      <td>436</td>\n",
       "      <td>Mouse19</td>\n",
       "      <td>Experimental</td>\n",
       "      <td>R8</td>\n",
       "      <td>1047</td>\n",
       "      <td>R</td>\n",
       "    </tr>\n",
       "    <tr>\n",
       "      <td>437</td>\n",
       "      <td>Mouse20</td>\n",
       "      <td>Experimental</td>\n",
       "      <td>R8</td>\n",
       "      <td>293</td>\n",
       "      <td>R</td>\n",
       "    </tr>\n",
       "    <tr>\n",
       "      <td>438</td>\n",
       "      <td>Mouse21</td>\n",
       "      <td>Experimental</td>\n",
       "      <td>R8</td>\n",
       "      <td>900</td>\n",
       "      <td>R</td>\n",
       "    </tr>\n",
       "    <tr>\n",
       "      <td>439</td>\n",
       "      <td>Mouse22</td>\n",
       "      <td>Control</td>\n",
       "      <td>R8</td>\n",
       "      <td>200</td>\n",
       "      <td>R</td>\n",
       "    </tr>\n",
       "  </tbody>\n",
       "</table>\n",
       "<p>440 rows × 5 columns</p>\n",
       "</div>"
      ],
      "text/plain": [
       "    Mouse ID         Group  Day  Licks Phase\n",
       "0     Mouse1       Control  BL1    665    BL\n",
       "1     Mouse2       Control  BL1    859    BL\n",
       "2     Mouse3       Control  BL1    589    BL\n",
       "3     Mouse4       Control  BL1    939    BL\n",
       "4     Mouse5  Experimental  BL1    710    BL\n",
       "..       ...           ...  ...    ...   ...\n",
       "435  Mouse18  Experimental   R8    880     R\n",
       "436  Mouse19  Experimental   R8   1047     R\n",
       "437  Mouse20  Experimental   R8    293     R\n",
       "438  Mouse21  Experimental   R8    900     R\n",
       "439  Mouse22       Control   R8    200     R\n",
       "\n",
       "[440 rows x 5 columns]"
      ]
     },
     "execution_count": 17,
     "metadata": {},
     "output_type": "execute_result"
    }
   ],
   "source": [
    "## Two way anova\n",
    "id_cols = ['Mouse ID','Group']\n",
    "df2 = df.melt(id_vars=id_cols,\n",
    "              value_vars=df.drop(columns=[*id_cols,'Sex']).columns,\n",
    "              var_name='Day',value_name='Licks')\n",
    "df2['Phase'] = df2['Day'].map(phase_dict)\n",
    "df2"
   ]
  },
  {
   "cell_type": "code",
   "execution_count": 18,
   "metadata": {
    "ExecuteTime": {
     "end_time": "2020-04-09T17:29:09.978482Z",
     "start_time": "2020-04-09T17:29:09.975486Z"
    }
   },
   "outputs": [
    {
     "data": {
      "text/plain": [
       "['BL', 'S', 'R', 'PS']"
      ]
     },
     "execution_count": 18,
     "metadata": {},
     "output_type": "execute_result"
    }
   ],
   "source": [
    "phases"
   ]
  },
  {
   "cell_type": "code",
   "execution_count": 29,
   "metadata": {
    "ExecuteTime": {
     "end_time": "2020-04-09T17:31:12.580129Z",
     "start_time": "2020-04-09T17:31:12.578085Z"
    }
   },
   "outputs": [],
   "source": [
    "# TO DO: OUTLIER REMOVAL"
   ]
  },
  {
   "cell_type": "code",
   "execution_count": 30,
   "metadata": {
    "ExecuteTime": {
     "end_time": "2020-04-09T17:31:13.497535Z",
     "start_time": "2020-04-09T17:31:13.477400Z"
    }
   },
   "outputs": [
    {
     "name": "stdout",
     "output_type": "stream",
     "text": [
      "dict_keys(['Control', 'Experimental'])\n"
     ]
    },
    {
     "data": {
      "text/plain": [
       "dict_keys(['BL', 'S', 'R', 'PS'])"
      ]
     },
     "execution_count": 30,
     "metadata": {},
     "output_type": "execute_result"
    }
   ],
   "source": [
    "## Check Assumptions\n",
    "\n",
    "grps = df2.groupby('Group').groups\n",
    "for grp_name in grps:\n",
    "    grps[grp_name] = {}\n",
    "    \n",
    "    grp_df = df2.groupby('Group').get_group(grp_name)[['Day','Phase','Licks']]\n",
    "    \n",
    "    for phase in phases:\n",
    "        grps[grp_name][phase] = grp_df.groupby('Phase').get_group(phase)\n",
    "        \n",
    "print(grps.keys())\n",
    "grps['Control'].keys()"
   ]
  },
  {
   "cell_type": "code",
   "execution_count": 20,
   "metadata": {
    "ExecuteTime": {
     "end_time": "2020-04-09T17:29:10.001977Z",
     "start_time": "2020-04-09T17:29:09.998389Z"
    }
   },
   "outputs": [
    {
     "data": {
      "text/plain": [
       "92      620\n",
       "93      591\n",
       "94      882\n",
       "95      546\n",
       "96      759\n",
       "97     1106\n",
       "98      820\n",
       "103     492\n",
       "104     505\n",
       "105     646\n",
       "106     533\n",
       "107     232\n",
       "108     483\n",
       "114     589\n",
       "115     580\n",
       "116     723\n",
       "117     493\n",
       "118     791\n",
       "119     812\n",
       "120     752\n",
       "125     594\n",
       "126     475\n",
       "127     619\n",
       "128     721\n",
       "129      34\n",
       "130     491\n",
       "136     676\n",
       "137     419\n",
       "138     764\n",
       "139     456\n",
       "140     568\n",
       "141     902\n",
       "142     759\n",
       "147     695\n",
       "148     519\n",
       "149     885\n",
       "150     651\n",
       "151      65\n",
       "152     394\n",
       "158     537\n",
       "159     463\n",
       "160     892\n",
       "161     601\n",
       "162     664\n",
       "163     835\n",
       "164     564\n",
       "169     568\n",
       "170     578\n",
       "171     626\n",
       "172     546\n",
       "173     158\n",
       "174     673\n",
       "Name: Licks, dtype: int64"
      ]
     },
     "execution_count": 20,
     "metadata": {},
     "output_type": "execute_result"
    }
   ],
   "source": [
    "test = grps['Experimental']['S']['Licks']\n",
    "test"
   ]
  },
  {
   "cell_type": "code",
   "execution_count": 21,
   "metadata": {
    "ExecuteTime": {
     "end_time": "2020-04-09T17:29:10.005115Z",
     "start_time": "2020-04-09T17:29:10.002880Z"
    }
   },
   "outputs": [],
   "source": [
    "import scipy as sp\n",
    "z_scores = sp.stats.zscore(test)\n",
    "idx_outliers = np.abs(z_scores)>3"
   ]
  },
  {
   "cell_type": "code",
   "execution_count": 25,
   "metadata": {
    "ExecuteTime": {
     "end_time": "2020-04-09T17:29:27.835439Z",
     "start_time": "2020-04-09T17:29:27.825867Z"
    }
   },
   "outputs": [
    {
     "data": {
      "text/plain": [
       "dict_keys(['BL', 'S', 'R', 'PS'])"
      ]
     },
     "execution_count": 25,
     "metadata": {},
     "output_type": "execute_result"
    }
   ],
   "source": [
    "clean_data = {}\n",
    "\n",
    "for grp, grp_data in grps.items():\n",
    "    clean_data[grp] = {}\n",
    "\n",
    "    for phase, data in grp_data.items():\n",
    "        licks = data['Licks']\n",
    "        z_scores = sp.stats.zscore(licks)\n",
    "        idx_outliers = np.abs(z_scores)>3\n",
    "        \n",
    "        \n",
    "        clean_data[grp][phase] = licks[~idx_outliers]\n",
    "clean_data['Control'].keys()"
   ]
  },
  {
   "cell_type": "code",
   "execution_count": 28,
   "metadata": {
    "ExecuteTime": {
     "end_time": "2020-04-09T17:29:46.976495Z",
     "start_time": "2020-04-09T17:29:46.974292Z"
    }
   },
   "outputs": [],
   "source": [
    "# pd.concat(clean_data.values())"
   ]
  },
  {
   "cell_type": "code",
   "execution_count": null,
   "metadata": {},
   "outputs": [],
   "source": []
  },
  {
   "cell_type": "code",
   "execution_count": null,
   "metadata": {
    "ExecuteTime": {
     "end_time": "2020-04-09T17:14:31.749657Z",
     "start_time": "2020-04-09T17:14:31.722726Z"
    }
   },
   "outputs": [],
   "source": [
    "import statsmodels.api as sm\n",
    "import statsmodels.stats as stats\n",
    "from statsmodels.formula.api import ols\n",
    "formula = \"Licks~C(Group)*C(Phase)\"\n",
    "model = ols(formula=formula, data=df2).fit()\n",
    "results = stats.anova.anova_lm(model)\n",
    "results"
   ]
  },
  {
   "cell_type": "code",
   "execution_count": null,
   "metadata": {
    "ExecuteTime": {
     "end_time": "2020-04-09T17:17:21.950518Z",
     "start_time": "2020-04-09T17:17:21.501597Z"
    }
   },
   "outputs": [],
   "source": [
    "sns.barplot(data=df2, x='Phase',y='Licks',hue='Group',ci=68)"
   ]
  },
  {
   "cell_type": "code",
   "execution_count": null,
   "metadata": {
    "ExecuteTime": {
     "end_time": "2020-04-09T17:18:18.430422Z",
     "start_time": "2020-04-09T17:18:18.428365Z"
    }
   },
   "outputs": [],
   "source": [
    "# help(sms)"
   ]
  },
  {
   "cell_type": "code",
   "execution_count": null,
   "metadata": {
    "ExecuteTime": {
     "end_time": "2020-04-09T17:17:36.756127Z",
     "start_time": "2020-04-09T17:17:36.754170Z"
    }
   },
   "outputs": [],
   "source": [
    "# ## Get grps \n",
    "# grps = df_means.groupby('Group').groups\n",
    "\n",
    "# for grp_name,grp_idx in grps.items():\n",
    "#     grps[grp_name] = df_means.loc[grp_idx]\n",
    "    \n",
    "# grps"
   ]
  },
  {
   "cell_type": "code",
   "execution_count": null,
   "metadata": {
    "ExecuteTime": {
     "end_time": "2020-04-09T17:17:38.958181Z",
     "start_time": "2020-04-09T17:17:38.956120Z"
    }
   },
   "outputs": [],
   "source": [
    "# from scipy.stats import sem\n",
    "# ## showing off SEM bars\n",
    "# f,ax = plt.subplots(figsize=(5,5))\n",
    "# ax.bar('Exp',grp_exp['BL'],yerr=sem(grp_exp['BL']))\n",
    "# ax.bar('Control',grp_control['BL'],yerr=sem(grp_control['BL']))"
   ]
  },
  {
   "cell_type": "code",
   "execution_count": null,
   "metadata": {
    "ExecuteTime": {
     "end_time": "2020-04-09T17:17:39.485631Z",
     "start_time": "2020-04-09T17:17:39.482953Z"
    }
   },
   "outputs": [],
   "source": [
    "# def plot_dists(grp1,grp2,col='BL',name1='Exp',name2='Control'):\n",
    "\n",
    "#     ## Defining \"gridspec_kws\" for plt.subplots()\n",
    "#     ## This will make our first plot 3 times wider than the second.\n",
    "#     gs_kw = dict(width_ratios=[3, 1])\n",
    "    \n",
    "#     fig, axes = plt.subplots(figsize=(10,4),ncols=2,\n",
    "#                              gridspec_kw=gs_kw,constrained_layout=True)\n",
    "\n",
    "#     ## Defining the data \n",
    "#     group1 = {'name':name1, \n",
    "#              'data':grp1[col],\n",
    "#              'plot_specs':{\n",
    "#                  'hist_kws':dict(color='b', lw=2,ls='-'),\n",
    "#                  'kde_kws':dict(color='b',lw=1,ls='-'),\n",
    "#                  'label':f\"{name1} (n={len(grp1[col])})\"}\n",
    "#              }\n",
    "    \n",
    "#     group2 = {'name':name2, \n",
    "#              'data':grp2[col],\n",
    "#               'plot_specs':{\n",
    "#                   'hist_kws':dict(color='orange', lw=2,ls='-'),\n",
    "#                   'kde_kws':dict(color='orange',lw=1,ls='-'),\n",
    "#                    'label':f\"{name2} (n={len(grp2[col])})\"}\n",
    "#              }\n",
    "    \n",
    "    \n",
    "#     ax=axes[0]\n",
    "#     sns.distplot(group1['data'], **group1['plot_specs'],ax=axes[0])\n",
    "#     sns.distplot(group2['data'], **group2['plot_specs'],ax=axes[0])\n",
    "#     ax.legend()\n",
    "    \n",
    "#     ax.set(ylabel=\"Density\")\n",
    "#     ax.set(xlabel='Number of Licks')\n",
    "    \n",
    "    \n",
    "#     ax = axes[1]\n",
    "#     ax.bar(group1['name'],group1['data'].mean(),\n",
    "#           yerr=sem(group1['data']))\n",
    "\n",
    "#     ax.bar(group2['name'],group2['data'].mean(),\n",
    "#           yerr=sem(group2['data']))    \n",
    "    \n",
    "#     return fig,ax"
   ]
  },
  {
   "cell_type": "code",
   "execution_count": null,
   "metadata": {
    "ExecuteTime": {
     "end_time": "2020-04-09T17:17:41.948055Z",
     "start_time": "2020-04-09T17:17:41.937354Z"
    }
   },
   "outputs": [],
   "source": [
    "# fig,ax = plot_dists(grp_control,grp_exp,col='R',name1='ChR2', name2='Control')"
   ]
  },
  {
   "cell_type": "markdown",
   "metadata": {
    "ExecuteTime": {
     "end_time": "2020-01-23T22:50:31.197808Z",
     "start_time": "2020-01-23T22:50:31.195479Z"
    }
   },
   "source": [
    "### Writing functions to test assumptions"
   ]
  },
  {
   "cell_type": "code",
   "execution_count": null,
   "metadata": {
    "ExecuteTime": {
     "end_time": "2020-04-09T17:06:43.551490Z",
     "start_time": "2020-04-09T17:06:43.506221Z"
    }
   },
   "outputs": [],
   "source": [
    "df"
   ]
  },
  {
   "cell_type": "code",
   "execution_count": null,
   "metadata": {
    "ExecuteTime": {
     "end_time": "2020-04-09T15:57:19.215186Z",
     "start_time": "2020-04-09T15:57:19.209818Z"
    }
   },
   "outputs": [],
   "source": [
    "import scipy.stats as stats\n",
    "stats.normaltest(grp_control['BL'])"
   ]
  },
  {
   "cell_type": "code",
   "execution_count": null,
   "metadata": {
    "ExecuteTime": {
     "end_time": "2020-04-09T15:57:20.103822Z",
     "start_time": "2020-04-09T15:57:20.098745Z"
    },
    "code_folding": []
   },
   "outputs": [],
   "source": [
    "def test_normality(grp_control,col='BL',alpha=0.05):\n",
    "    import scipy.stats as stats\n",
    "    stat,p =stats.normaltest(grp_control[col])\n",
    "    if p<alpha:\n",
    "        print(f\"Normal test p value of {np.round(p,3)} is < {alpha}, therefore data is NOT normal.\")\n",
    "    else:\n",
    "        print(f\"Normal test p value of {np.round(p,3)} is > {alpha}, therefore data IS normal.\")\n",
    "    return p\n",
    "\n",
    "def test_equal_variance(grp1,grp2, alpha=.05):\n",
    "    stat,p = stats.levene(grp1,grp2)\n",
    "    if p<alpha:\n",
    "        print(f\"Levene's test p value of {np.round(p,3)} is < {alpha}, therefore groups do NOT have equal variance.\")\n",
    "    else:\n",
    "        print(f\"Normal test p value of {np.round(p,3)} is > {alpha},  therefore groups DOES have equal variance.\")\n",
    "    return p\n",
    "\n",
    "\n",
    "\n",
    "# def test_assumptions(*args, normal=True,equal_var=True):\n",
    "#     pass"
   ]
  },
  {
   "cell_type": "code",
   "execution_count": null,
   "metadata": {
    "ExecuteTime": {
     "end_time": "2020-04-09T15:57:20.415379Z",
     "start_time": "2020-04-09T15:57:20.408851Z"
    }
   },
   "outputs": [],
   "source": [
    "test_normality(grp_control,col='S'), test_normality(grp_exp,col='S');"
   ]
  },
  {
   "cell_type": "code",
   "execution_count": null,
   "metadata": {
    "ExecuteTime": {
     "end_time": "2020-04-09T15:57:20.831501Z",
     "start_time": "2020-04-09T15:57:20.827192Z"
    },
    "code_folding": []
   },
   "outputs": [],
   "source": [
    "def Cohen_d(group1, group2):\n",
    "    \"\"\"\n",
    "    Compute Cohen's d.\n",
    "    \n",
    "    Args:\n",
    "        group1: Series or NumPy array\n",
    "        group2: Series or NumPy array\n",
    "\n",
    "    Returns:\n",
    "        d (float): effect size statistic\n",
    "\n",
    "    Interpretation:\n",
    "    > Small effect = 0.2\n",
    "    > Medium Effect = 0.5\n",
    "    > Large Effect = 0.8\n",
    "    \"\"\"\n",
    "    diff = group1.mean() - group2.mean()\n",
    "\n",
    "    n1, n2 = len(group1), len(group2)\n",
    "    var1 = group1.var()\n",
    "    var2 = group2.var()\n",
    "\n",
    "    # Calculate the pooled threshold as shown earlier\n",
    "    pooled_var = (n1 * var1 + n2 * var2) / (n1 + n2)\n",
    "    \n",
    "    # Calculate Cohen's d statistic\n",
    "    d = diff / np.sqrt(pooled_var)\n",
    "    \n",
    "    return d"
   ]
  },
  {
   "cell_type": "code",
   "execution_count": null,
   "metadata": {
    "ExecuteTime": {
     "end_time": "2020-04-09T15:57:22.167401Z",
     "start_time": "2020-04-09T15:57:22.147733Z"
    }
   },
   "outputs": [],
   "source": [
    "def test_assumptions(df_means,grps=None,\n",
    "                     group_col='Group',\n",
    "                     grp1='ChR2',\n",
    "                     grp2='Control',\n",
    "                     data_col='BL',\n",
    "                    plot_data=False):\n",
    "    \"\"\"MASSIVE FUNCTION PASTED IN DUE TO VERY LATE STUDY GROUP\n",
    "    WE WILL CONSTRUCT A BETTER/SIMPLER VERSION OF THIS TOGETHER IN NEXT STUDY GROUP.\"\"\"\n",
    "    \n",
    "    if grps is None:\n",
    "        grps = df_means.groupby(group_col).groups\n",
    "        \n",
    "        \n",
    "    group1 = {'name':grp1,\n",
    "              'data':df_means.loc[grps[grp1],data_col]}\n",
    "    \n",
    "    group2 = {'name':grp2,\n",
    "              'data':df_means.loc[grps[grp2],data_col]}\n",
    "    \n",
    "    results = [['Col','Test','Group(s)','Stat','p','p<.05']]\n",
    "    \n",
    "    ## Normality testing\n",
    "    stat,p = stats.normaltest(group1['data'])\n",
    "    results.append([data_col,'Normality',group1['name'],\n",
    "                  stat, p, p<.05])\n",
    "    \n",
    "    stat,p = stats.normaltest(group2['data'])    \n",
    "    results.append([data_col,'Normality',group2['name'],\n",
    "                  stat, p, p<.05])\n",
    "    ## Homo. of Variance Testing\n",
    "    stat,p = stats.levene(group1['data'],group2['data'])\n",
    "    results.append([data_col,'Equal Variance','Both',\n",
    "                  stat, p, p<.05])\n",
    "    \n",
    "    \n",
    "    ## Parametric T-Test\n",
    "    stat,p = stats.ttest_ind(group1['data'],group2['data'])\n",
    "    results.append([data_col,'T-Test 2samp','Both',stat,p,p<.05])\n",
    "    \n",
    "    ## Non-Parametric MWU\n",
    "    stat,p = stats.mannwhitneyu(group1['data'],group2['data'])\n",
    "    results.append([data_col,'Mann Whitney U','Both',stat,p,p<.05])\n",
    "    \n",
    "    ## Effect size with Cohen's d\n",
    "    d = Cohen_d(group1['data'],group2['data'])\n",
    "    results.append([data_col, \"Cohen's d\", 'Both','','',d])\n",
    "    \n",
    "#     if plot_data:\n",
    "#         plot_dists(grp, col=data_col)\n",
    "    \n",
    "    return pd.DataFrame(results[1:],columns=results[0])\n",
    "\n",
    "res = test_assumptions(df_means)\n"
   ]
  },
  {
   "cell_type": "code",
   "execution_count": null,
   "metadata": {
    "ExecuteTime": {
     "end_time": "2020-04-09T15:57:23.957819Z",
     "start_time": "2020-04-09T15:57:22.729669Z"
    },
    "scrolled": false
   },
   "outputs": [],
   "source": [
    "for phase in ['BL','S','PS','R']:\n",
    "    print('---'*30)\n",
    "\n",
    "    res = test_assumptions(df_means,data_col=phase)\n",
    "    display(res)\n",
    "    \n",
    "    fig,ax = plot_statplot(df_means, data_col=phase)\n",
    "    plt.show()\n",
    "\n",
    "# fig,ax = plot_dists(grp_control,grp_exp,col='R',name1='ChR2 Mice', name2='Control Mice')\n"
   ]
  },
  {
   "cell_type": "markdown",
   "metadata": {},
   "source": [
    "## CONCLUSION\n",
    "- Running the correct test according to the assumptions of normality and equal variance will ensure you can get the correct test result.\n",
    "\n",
    "- Notice how the last phase (R) did NOT come back as significant when we ran the t-test, but DID come back significant when we performed the Mann Whitney U instead. \n",
    "\n"
   ]
  },
  {
   "cell_type": "markdown",
   "metadata": {
    "heading_collapsed": true
   },
   "source": [
    "# APPENDIX"
   ]
  },
  {
   "cell_type": "markdown",
   "metadata": {
    "hidden": true
   },
   "source": [
    "(https://www.statsmodels.org/stable/generated/statsmodels.stats.multicomp.pairwise_tukeyhsd.html)"
   ]
  },
  {
   "cell_type": "code",
   "execution_count": null,
   "metadata": {
    "hidden": true
   },
   "outputs": [],
   "source": []
  },
  {
   "cell_type": "markdown",
   "metadata": {
    "hidden": true
   },
   "source": [
    "## Statistical Analysis Pipeline\n",
    "\n",
    "1. **Test for Normality**\n",
    "    - D'Agostino-Pearson's normality test<br>\n",
    "    ```scipy.stats.normaltest```\n",
    "    - Shapiro-Wilik Test<br>\n",
    "    ```scipy.stats.shapiro```<br>\n",
    "    \n",
    "    \n",
    "2. **Test for Homogeneity of Variance**\n",
    "\n",
    "    - Levene's Test<br>\n",
    "    ```scipy.stats.levene```\n",
    "\n",
    "\n",
    "3. **Choose appropriate test based upon 1. and 2.** <br> \n",
    "    - T Test (1-sample)\n",
    "        - `stats.ttest_1samp()`\n",
    "    - T Test (2-sample)\n",
    "        - `stats.ttest_ind()`\n",
    "        - [docs](https://docs.scipy.org/doc/scipy/reference/generated/scipy.stats.ttest_ind.html)\n",
    "    - Welch's T-Test (2-sample)\n",
    "        - `stats.ttest_ind(equal_var=False)`\n",
    "        - [docs](https://docs.scipy.org/doc/scipy/reference/generated/scipy.stats.ttest_ind.html)\n",
    "        \n",
    "    - Mann Whitney U\n",
    "        - `stats.mannwhitneyu()`\n",
    "        - [docs](https://docs.scipy.org/doc/scipy/reference/generated/scipy.stats.mannwhitneyu.html)\n",
    "    - ANOVA \n",
    "        - `stats.f_oneway()`\n",
    "        - [docs](https://docs.scipy.org/doc/scipy/reference/generated/scipy.stats.f_oneway.html)\n",
    "    - Tukey's\n",
    "     - `statsmodels.stats.multicomp.pairwise_tukeyhsd`\n",
    "     -[docs](https://www.statsmodels.org/stable/generated/statsmodels.stats.multicomp.pairwise_tukeyhsd.html)\n",
    "    \n",
    "\n",
    "4. **Calculate effect size for significant results.**\n",
    "    - Effect size: [cohen's d](https://stackoverflow.com/questions/21532471/how-to-calculate-cohens-d-in-python)\n",
    "    - Interpretation:\n",
    "        - Small effect = 0.2 ( cannot be seen by naked eye)\n",
    "        - Medium effect  = 0.5\n",
    "        - Large Effect = 0.8 (can be seen by naked eye)\n",
    "        \n",
    "5. **If significant, follow up with post-hoc tests (if have more than 2 groups)**\n",
    "    - [Tukey's](https://www.statsmodels.org/stable/generated/statsmodels.stats.multicomp.pairwise_tukeyhsd.html)\n"
   ]
  },
  {
   "cell_type": "code",
   "execution_count": null,
   "metadata": {
    "ExecuteTime": {
     "end_time": "2020-01-24T01:54:49.969660Z",
     "start_time": "2020-01-24T01:54:49.967110Z"
    },
    "code_folding": [
     0
    ],
    "hidden": true
   },
   "outputs": [],
   "source": [
    "# def test_assumptions(df_means,grps=None,\n",
    "#                      group_col='Group',\n",
    "#                      grp1='ChR2',\n",
    "#                      grp2='Control',\n",
    "#                      data_col='BL'):\n",
    "    \n",
    "#     if grps is None:\n",
    "#         grps = df_means.groupby(group_col).groups\n",
    "        \n",
    "        \n",
    "#     group1 = {'name':grp1,\n",
    "#               'data':df_means.loc[grps[grp1],data_col]}\n",
    "    \n",
    "#     group2 = {'name':grp2,\n",
    "#               'data':df_means.loc[grps[grp2],data_col]}\n",
    "    \n",
    "#     results = [['Col','Test','Group(s)','Stat','p','p<.05']]\n",
    "    \n",
    "#     ## Normality testing\n",
    "#     stat,p = stats.normaltest(group1['data'])\n",
    "#     results.append([data_col,'Normality',group1['name'],\n",
    "#                   stat, p, p<.05])\n",
    "    \n",
    "#     stat,p = stats.normaltest(group2['data'])    \n",
    "#     results.append([data_col,'Normality',group2['name'],\n",
    "#                   stat, p, p<.05])\n",
    "#     ## Homo. of Variance Testing\n",
    "#     stat,p = stats.levene(group1['data'],group2['data'])\n",
    "#     results.append([data_col,'Equal Variance','Both',\n",
    "#                   stat, p, p<.05])\n",
    "    \n",
    "#     ## Parametric T-Test\n",
    "#     stat,p = stats.ttest_ind(group1['data'],group2['data'])\n",
    "#     results.append([data_col,'T-Test 2samp','Both',stat,p,p<.05])\n",
    "    \n",
    "#     ## Non-Parametric MWU\n",
    "#     stat,p = stats.mannwhitneyu(group1['data'],group2['data'])\n",
    "#     results.append([data_col,'Mann Whitney U','Both',stat,p,p<.05])\n",
    "    \n",
    "#     ## Effect size with Cohen's d\n",
    "#     d = Cohen_d(group1['data'],group2['data'])\n",
    "#     results.append([data_col, \"Cohen's d\", 'Both','','',d])\n",
    "    \n",
    "#     return pd.DataFrame(results[1:],columns=results[0])\n",
    "\n",
    "# test_assumptions(df_means)"
   ]
  }
 ],
 "metadata": {
  "colab": {
   "collapsed_sections": [],
   "name": "Sect 18+19  with Titanic.ipynb",
   "provenance": []
  },
  "kernelspec": {
   "display_name": "Python [conda env:learn-env] *",
   "language": "python",
   "name": "conda-env-learn-env-py"
  },
  "language_info": {
   "codemirror_mode": {
    "name": "ipython",
    "version": 3
   },
   "file_extension": ".py",
   "mimetype": "text/x-python",
   "name": "python",
   "nbconvert_exporter": "python",
   "pygments_lexer": "ipython3",
   "version": "3.6.9"
  },
  "toc": {
   "base_numbering": 1,
   "nav_menu": {},
   "number_sections": false,
   "sideBar": true,
   "skip_h1_title": false,
   "title_cell": "Table of Contents",
   "title_sidebar": "Contents",
   "toc_cell": false,
   "toc_position": {},
   "toc_section_display": true,
   "toc_window_display": true
  },
  "varInspector": {
   "cols": {
    "lenName": 16,
    "lenType": 16,
    "lenVar": 40
   },
   "kernels_config": {
    "python": {
     "delete_cmd_postfix": "",
     "delete_cmd_prefix": "del ",
     "library": "var_list.py",
     "varRefreshCmd": "print(var_dic_list())"
    },
    "r": {
     "delete_cmd_postfix": ") ",
     "delete_cmd_prefix": "rm(",
     "library": "var_list.r",
     "varRefreshCmd": "cat(var_dic_list()) "
    }
   },
   "position": {
    "height": "360.85px",
    "left": "630px",
    "right": "20px",
    "top": "38px",
    "width": "480px"
   },
   "types_to_exclude": [
    "module",
    "function",
    "builtin_function_or_method",
    "instance",
    "_Feature"
   ],
   "window_display": false
  }
 },
 "nbformat": 4,
 "nbformat_minor": 1
}
