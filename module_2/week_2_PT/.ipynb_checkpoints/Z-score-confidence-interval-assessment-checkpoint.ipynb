{
 "cells": [
  {
   "cell_type": "markdown",
   "metadata": {},
   "source": [
    "# Distributions Assessment "
   ]
  },
  {
   "cell_type": "code",
   "execution_count": null,
   "metadata": {
    "ExecuteTime": {
     "end_time": "2020-07-28T20:24:48.210280Z",
     "start_time": "2020-07-28T20:24:47.748047Z"
    }
   },
   "outputs": [],
   "source": [
    "# import the necessary libraries\n",
    "import numpy as np\n",
    "from scipy import stats"
   ]
  },
  {
   "cell_type": "markdown",
   "metadata": {},
   "source": [
    "## 1. Normal Distributions\n",
    "\n",
    "Say we have check totals for all checks ever written at a TexMex restaurant.\n",
    "\n",
    "The distribution for this population of check totals happens to be normally distributed with a population mean of 20 dollars and population standard deviation of 3 dollars\n",
    "\n",
    "### 1a) Compute the z-score for a 26 dollar check.\n",
    "\n",
    "Complete the code in the function below and use it to calculate the answer"
   ]
  },
  {
   "cell_type": "code",
   "execution_count": null,
   "metadata": {
    "ExecuteTime": {
     "end_time": "2020-07-28T20:25:36.078080Z",
     "start_time": "2020-07-28T20:25:36.074879Z"
    }
   },
   "outputs": [],
   "source": [
    "def z_score(check_amt):\n",
    "    \"\"\"\n",
    "    check_amt = the amount for which we want to compute the z-score\n",
    "    \"\"\"\n",
    "    \n",
    "    score = #your code here\n",
    "    return score\n",
    "\n",
    "#Use the function here to calculate your score"
   ]
  },
  {
   "cell_type": "markdown",
   "metadata": {},
   "source": [
    "### 1b) Approximately what percentage of all checks are less than 26 dollars? Explain how you came to your answer.\n",
    "\n",
    "You can answer this using the empirical rule or this z-table."
   ]
  },
  {
   "cell_type": "markdown",
   "metadata": {
    "ExecuteTime": {
     "end_time": "2020-07-28T20:26:28.028090Z",
     "start_time": "2020-07-28T20:26:28.025770Z"
    }
   },
   "source": [
    "#your written answer here "
   ]
  },
  {
   "cell_type": "markdown",
   "metadata": {},
   "source": [
    "### 2. Confidence Intervals\n",
    "One night, a waiter gets 15 checks with a mean of 19 dollars and standard deviation of 3 dollars\n",
    "\n",
    "### 2a) Calculate the 95% confidence interval around the mean for this waitor's checks"
   ]
  },
  {
   "cell_type": "code",
   "execution_count": null,
   "metadata": {
    "ExecuteTime": {
     "end_time": "2020-07-28T20:27:11.798842Z",
     "start_time": "2020-07-28T20:27:11.796602Z"
    }
   },
   "outputs": [],
   "source": [
    "#Your code here"
   ]
  },
  {
   "cell_type": "markdown",
   "metadata": {},
   "source": [
    "### 2b) Interpret the result"
   ]
  },
  {
   "cell_type": "markdown",
   "metadata": {},
   "source": [
    "#Your written answer here "
   ]
  }
 ],
 "metadata": {
  "kernelspec": {
   "display_name": "learn-env",
   "language": "python",
   "name": "learn-env"
  },
  "language_info": {
   "codemirror_mode": {
    "name": "ipython",
    "version": 3
   },
   "file_extension": ".py",
   "mimetype": "text/x-python",
   "name": "python",
   "nbconvert_exporter": "python",
   "pygments_lexer": "ipython3",
   "version": "3.6.6"
  },
  "toc": {
   "base_numbering": 1,
   "nav_menu": {},
   "number_sections": true,
   "sideBar": true,
   "skip_h1_title": true,
   "title_cell": "Table of Contents",
   "title_sidebar": "Contents",
   "toc_cell": false,
   "toc_position": {},
   "toc_section_display": true,
   "toc_window_display": false
  }
 },
 "nbformat": 4,
 "nbformat_minor": 2
}
