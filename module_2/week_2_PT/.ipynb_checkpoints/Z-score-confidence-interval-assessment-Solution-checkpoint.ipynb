{
 "cells": [
  {
   "cell_type": "markdown",
   "metadata": {},
   "source": [
    "# Distributions Assessment Solution "
   ]
  },
  {
   "cell_type": "code",
   "execution_count": 1,
   "metadata": {
    "ExecuteTime": {
     "end_time": "2020-10-27T02:08:17.802835Z",
     "start_time": "2020-10-27T02:08:17.439450Z"
    }
   },
   "outputs": [],
   "source": [
    "# import the necessary libraries\n",
    "import numpy as np\n",
    "from scipy import stats"
   ]
  },
  {
   "cell_type": "markdown",
   "metadata": {},
   "source": [
    "## 1. Normal Distributions\n",
    "\n",
    "Say we have check totals for all checks ever written at a TexMex restaurant.\n",
    "\n",
    "The distribution for this population of check totals happens to be normally distributed with a population mean of 20 dollars and population standard deviation of 3 dollars\n",
    "\n",
    "### 1a) Compute the z-score for a 26 dollar check.\n",
    "\n",
    "Complete the code in the function below and use it to calculate the answer"
   ]
  },
  {
   "cell_type": "code",
   "execution_count": 3,
   "metadata": {
    "ExecuteTime": {
     "end_time": "2020-10-27T03:29:54.051374Z",
     "start_time": "2020-10-27T03:29:54.047565Z"
    }
   },
   "outputs": [
    {
     "name": "stdout",
     "output_type": "stream",
     "text": [
      "My check has a z-score of 2.0.\n"
     ]
    }
   ],
   "source": [
    "def z_score(check_amt):\n",
    "    \"\"\"\n",
    "    check_amt = the amount for which we want to compute the z-score\n",
    "    \"\"\"\n",
    "    return (check_amt - 20)/3\n",
    "\n",
    "print('My check has a z-score of {}.'.format(z_score(26)))\n",
    "\n"
   ]
  },
  {
   "cell_type": "markdown",
   "metadata": {
    "ExecuteTime": {
     "end_time": "2020-10-27T03:30:10.225442Z",
     "start_time": "2020-10-27T03:30:10.220954Z"
    }
   },
   "source": [
    "**According to the empirical rule, 95% of check amounts will be within about two standard deviations from the mean. A 26 dollar check amount is just at the top end of this region. Adding in the 2.5% of amounts below this region, we get 97.5%**\n",
    "\n",
    "**Looking up 2.00 in the z-table, we find the answer is 97.7%**"
   ]
  },
  {
   "cell_type": "markdown",
   "metadata": {},
   "source": [
    "### 2. Confidence Intervals\n",
    "One night, a waiter gets 15 checks with a mean of 19 dollars and standard deviation of 3 dollars\n",
    "\n",
    "### 2a) Calculate the 95% confidence interval around the mean for this waitor's checks"
   ]
  },
  {
   "cell_type": "code",
   "execution_count": 5,
   "metadata": {
    "ExecuteTime": {
     "end_time": "2020-10-27T04:11:10.962664Z",
     "start_time": "2020-10-27T04:11:10.958907Z"
    }
   },
   "outputs": [
    {
     "name": "stdout",
     "output_type": "stream",
     "text": [
      "The 95% confidence interval is  (17.48179052828669, 20.51820947171331)\n"
     ]
    }
   ],
   "source": [
    "#Your code here\n",
    "mu = 19\n",
    "std = 3\n",
    "n = 15\n",
    "\n",
    "sterr = std/(n**0.5)\n",
    "conf = (mu - 1.96*sterr, mu + 1.96*sterr)\n",
    "print('The 95% confidence interval is ', conf)"
   ]
  },
  {
   "cell_type": "markdown",
   "metadata": {},
   "source": [
    "### 2b) Interpret the result"
   ]
  },
  {
   "cell_type": "markdown",
   "metadata": {},
   "source": [
    "#Your written answer here \n",
    "\n",
    "A 95% confidence interval means that, if confidence intervals were generated over and \n",
    "over again, using the same method, 95% of the confidence intervals generated will contain \n",
    "the true population mean. \n",
    "\n",
    "In this case of looking at a single confidence interval, that means we cannot reject\n",
    "the values between 17.5 and 20.5 for estimates of the mean of checks as a whole with \n",
    "an alpha of .05\n",
    "\n",
    "INCORRECT: a .05 alpha confidence interval contains 95% of all values that samples can have.\n",
    "\n",
    "INCORRECT: a .05 alpha confidence interval contains 95% of all values in the population.\n",
    "\n",
    "INCORRECT: there is a 95% chance that the values of the checks the waiter got that \n",
    "night are between 17.5 and 20.5"
   ]
  },
  {
   "cell_type": "code",
   "execution_count": null,
   "metadata": {},
   "outputs": [],
   "source": []
  }
 ],
 "metadata": {
  "kernelspec": {
   "display_name": "learn-env",
   "language": "python",
   "name": "learn-env"
  },
  "language_info": {
   "codemirror_mode": {
    "name": "ipython",
    "version": 3
   },
   "file_extension": ".py",
   "mimetype": "text/x-python",
   "name": "python",
   "nbconvert_exporter": "python",
   "pygments_lexer": "ipython3",
   "version": "3.6.6"
  },
  "toc": {
   "base_numbering": 1,
   "nav_menu": {},
   "number_sections": true,
   "sideBar": true,
   "skip_h1_title": true,
   "title_cell": "Table of Contents",
   "title_sidebar": "Contents",
   "toc_cell": false,
   "toc_position": {},
   "toc_section_display": true,
   "toc_window_display": false
  }
 },
 "nbformat": 4,
 "nbformat_minor": 2
}
