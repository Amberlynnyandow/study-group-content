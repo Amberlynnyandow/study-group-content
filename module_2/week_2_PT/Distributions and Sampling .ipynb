{
 "cells": [
  {
   "cell_type": "markdown",
   "metadata": {
    "toc": true
   },
   "source": [
    "<h1>Table of Contents<span class=\"tocSkip\"></span></h1>\n",
    "<div class=\"toc\"><ul class=\"toc-item\"><li><span><a href=\"#Discrete-vs.-Continuous\" data-toc-modified-id=\"Discrete-vs.-Continuous-1\"><span class=\"toc-item-num\">1&nbsp;&nbsp;</span>Discrete vs. Continuous</a></span></li><li><span><a href=\"#Statistical-Distributions\" data-toc-modified-id=\"Statistical-Distributions-2\"><span class=\"toc-item-num\">2&nbsp;&nbsp;</span>Statistical Distributions</a></span><ul class=\"toc-item\"><li><span><a href=\"#PMF,-PDF-&amp;-CDF\" data-toc-modified-id=\"PMF,-PDF-&amp;-CDF-2.1\"><span class=\"toc-item-num\">2.1&nbsp;&nbsp;</span>PMF, PDF &amp; CDF</a></span><ul class=\"toc-item\"><li><span><a href=\"#Why-is-this-distinction-so-important?\" data-toc-modified-id=\"Why-is-this-distinction-so-important?-2.1.1\"><span class=\"toc-item-num\">2.1.1&nbsp;&nbsp;</span>Why is this distinction so important?</a></span></li><li><span><a href=\"#The-difference-between-PMF,-PDF-and-CDF\" data-toc-modified-id=\"The-difference-between-PMF,-PDF-and-CDF-2.1.2\"><span class=\"toc-item-num\">2.1.2&nbsp;&nbsp;</span>The difference between PMF, PDF and CDF</a></span></li></ul></li><li><span><a href=\"#Binomial-Distribution\" data-toc-modified-id=\"Binomial-Distribution-2.2\"><span class=\"toc-item-num\">2.2&nbsp;&nbsp;</span>Binomial Distribution</a></span></li><li><span><a href=\"#Standard-Normal-Distribution\" data-toc-modified-id=\"Standard-Normal-Distribution-2.3\"><span class=\"toc-item-num\">2.3&nbsp;&nbsp;</span>Standard Normal Distribution</a></span></li></ul></li><li><span><a href=\"#Sampling-&amp;-Point-Estimates\" data-toc-modified-id=\"Sampling-&amp;-Point-Estimates-3\"><span class=\"toc-item-num\">3&nbsp;&nbsp;</span>Sampling &amp; Point Estimates</a></span><ul class=\"toc-item\"><li><span><a href=\"#Z--Score\" data-toc-modified-id=\"Z--Score-3.1\"><span class=\"toc-item-num\">3.1&nbsp;&nbsp;</span>Z- Score</a></span></li><li><span><a href=\"#Confidence-Intervals\" data-toc-modified-id=\"Confidence-Intervals-3.2\"><span class=\"toc-item-num\">3.2&nbsp;&nbsp;</span>Confidence Intervals</a></span></li></ul></li></ul></div>"
   ]
  },
  {
   "cell_type": "markdown",
   "metadata": {},
   "source": [
    "# Discrete vs. Continuous "
   ]
  },
  {
   "cell_type": "markdown",
   "metadata": {},
   "source": [
    "A fundamental distinction among kinds of distributions is the distinction between discrete and continuous distributions. \n",
    "A **discrete distribution** (or variable) takes on countable values, like integers, every outcome has a positive probability.\n",
    "A **continuous distribution** takes on a continuum of values, like real numbers. It assigns probabilities to ranges of values. \n",
    "\n",
    "![](https://miro.medium.com/max/1022/1*7DwXV_h_t7_-TkLAImKBaQ.png)\n",
    "\n",
    "[More Explanation](https://mathbitsnotebook.com/Algebra1/FunctionGraphs/FNGContinuousDiscrete.html)"
   ]
  },
  {
   "cell_type": "markdown",
   "metadata": {},
   "source": [
    "# Statistical Distributions\n",
    "- PMF\n",
    "- PDF \n",
    "- CDF \n",
    "- Binomial \n",
    "- normal/standard normal \n"
   ]
  },
  {
   "cell_type": "markdown",
   "metadata": {},
   "source": [
    "## PMF, PDF & CDF"
   ]
  },
  {
   "cell_type": "code",
   "execution_count": 1,
   "metadata": {
    "ExecuteTime": {
     "end_time": "2020-07-28T22:15:36.808685Z",
     "start_time": "2020-07-28T22:15:35.784264Z"
    }
   },
   "outputs": [],
   "source": [
    "import pandas as pd \n",
    "import numpy as np\n",
    "from scipy import stats \n",
    "import matplotlib.pyplot as plt\n",
    "%matplotlib inline "
   ]
  },
  {
   "cell_type": "code",
   "execution_count": 2,
   "metadata": {
    "ExecuteTime": {
     "end_time": "2020-07-28T22:16:08.206884Z",
     "start_time": "2020-07-28T22:16:08.204187Z"
    }
   },
   "outputs": [],
   "source": [
    "sb_data = {'drink_orders' : [0, 1, 2, 3, 4, 5, 6, 7, 8, 9, 10], \n",
    "          'freq' : [4, 20, 13, 6, 4, 2, 0, 0, 0, 0, 1]}"
   ]
  },
  {
   "cell_type": "code",
   "execution_count": 3,
   "metadata": {
    "ExecuteTime": {
     "end_time": "2020-07-28T22:16:18.971548Z",
     "start_time": "2020-07-28T22:16:18.919389Z"
    }
   },
   "outputs": [
    {
     "data": {
      "text/html": [
       "<div>\n",
       "<style scoped>\n",
       "    .dataframe tbody tr th:only-of-type {\n",
       "        vertical-align: middle;\n",
       "    }\n",
       "\n",
       "    .dataframe tbody tr th {\n",
       "        vertical-align: top;\n",
       "    }\n",
       "\n",
       "    .dataframe thead th {\n",
       "        text-align: right;\n",
       "    }\n",
       "</style>\n",
       "<table border=\"1\" class=\"dataframe\">\n",
       "  <thead>\n",
       "    <tr style=\"text-align: right;\">\n",
       "      <th></th>\n",
       "      <th>drink_orders</th>\n",
       "      <th>freq</th>\n",
       "    </tr>\n",
       "  </thead>\n",
       "  <tbody>\n",
       "    <tr>\n",
       "      <th>0</th>\n",
       "      <td>0</td>\n",
       "      <td>4</td>\n",
       "    </tr>\n",
       "    <tr>\n",
       "      <th>1</th>\n",
       "      <td>1</td>\n",
       "      <td>20</td>\n",
       "    </tr>\n",
       "    <tr>\n",
       "      <th>2</th>\n",
       "      <td>2</td>\n",
       "      <td>13</td>\n",
       "    </tr>\n",
       "    <tr>\n",
       "      <th>3</th>\n",
       "      <td>3</td>\n",
       "      <td>6</td>\n",
       "    </tr>\n",
       "    <tr>\n",
       "      <th>4</th>\n",
       "      <td>4</td>\n",
       "      <td>4</td>\n",
       "    </tr>\n",
       "    <tr>\n",
       "      <th>5</th>\n",
       "      <td>5</td>\n",
       "      <td>2</td>\n",
       "    </tr>\n",
       "    <tr>\n",
       "      <th>6</th>\n",
       "      <td>6</td>\n",
       "      <td>0</td>\n",
       "    </tr>\n",
       "    <tr>\n",
       "      <th>7</th>\n",
       "      <td>7</td>\n",
       "      <td>0</td>\n",
       "    </tr>\n",
       "    <tr>\n",
       "      <th>8</th>\n",
       "      <td>8</td>\n",
       "      <td>0</td>\n",
       "    </tr>\n",
       "    <tr>\n",
       "      <th>9</th>\n",
       "      <td>9</td>\n",
       "      <td>0</td>\n",
       "    </tr>\n",
       "    <tr>\n",
       "      <th>10</th>\n",
       "      <td>10</td>\n",
       "      <td>1</td>\n",
       "    </tr>\n",
       "  </tbody>\n",
       "</table>\n",
       "</div>"
      ],
      "text/plain": [
       "    drink_orders  freq\n",
       "0              0     4\n",
       "1              1    20\n",
       "2              2    13\n",
       "3              3     6\n",
       "4              4     4\n",
       "5              5     2\n",
       "6              6     0\n",
       "7              7     0\n",
       "8              8     0\n",
       "9              9     0\n",
       "10            10     1"
      ]
     },
     "execution_count": 3,
     "metadata": {},
     "output_type": "execute_result"
    }
   ],
   "source": [
    "df = pd.DataFrame(sb_data)\n",
    "df"
   ]
  },
  {
   "cell_type": "code",
   "execution_count": 4,
   "metadata": {
    "ExecuteTime": {
     "end_time": "2020-07-28T22:16:27.397751Z",
     "start_time": "2020-07-28T22:16:27.393655Z"
    }
   },
   "outputs": [
    {
     "data": {
      "text/plain": [
       "50"
      ]
     },
     "execution_count": 4,
     "metadata": {},
     "output_type": "execute_result"
    }
   ],
   "source": [
    "df.freq.sum()"
   ]
  },
  {
   "cell_type": "code",
   "execution_count": 5,
   "metadata": {
    "ExecuteTime": {
     "end_time": "2020-07-28T22:17:08.570383Z",
     "start_time": "2020-07-28T22:17:08.561101Z"
    }
   },
   "outputs": [
    {
     "data": {
      "text/html": [
       "<div>\n",
       "<style scoped>\n",
       "    .dataframe tbody tr th:only-of-type {\n",
       "        vertical-align: middle;\n",
       "    }\n",
       "\n",
       "    .dataframe tbody tr th {\n",
       "        vertical-align: top;\n",
       "    }\n",
       "\n",
       "    .dataframe thead th {\n",
       "        text-align: right;\n",
       "    }\n",
       "</style>\n",
       "<table border=\"1\" class=\"dataframe\">\n",
       "  <thead>\n",
       "    <tr style=\"text-align: right;\">\n",
       "      <th></th>\n",
       "      <th>drink_orders</th>\n",
       "      <th>freq</th>\n",
       "      <th>r_freq</th>\n",
       "    </tr>\n",
       "  </thead>\n",
       "  <tbody>\n",
       "    <tr>\n",
       "      <th>0</th>\n",
       "      <td>0</td>\n",
       "      <td>4</td>\n",
       "      <td>0.08</td>\n",
       "    </tr>\n",
       "    <tr>\n",
       "      <th>1</th>\n",
       "      <td>1</td>\n",
       "      <td>20</td>\n",
       "      <td>0.40</td>\n",
       "    </tr>\n",
       "    <tr>\n",
       "      <th>2</th>\n",
       "      <td>2</td>\n",
       "      <td>13</td>\n",
       "      <td>0.26</td>\n",
       "    </tr>\n",
       "    <tr>\n",
       "      <th>3</th>\n",
       "      <td>3</td>\n",
       "      <td>6</td>\n",
       "      <td>0.12</td>\n",
       "    </tr>\n",
       "    <tr>\n",
       "      <th>4</th>\n",
       "      <td>4</td>\n",
       "      <td>4</td>\n",
       "      <td>0.08</td>\n",
       "    </tr>\n",
       "    <tr>\n",
       "      <th>5</th>\n",
       "      <td>5</td>\n",
       "      <td>2</td>\n",
       "      <td>0.04</td>\n",
       "    </tr>\n",
       "    <tr>\n",
       "      <th>6</th>\n",
       "      <td>6</td>\n",
       "      <td>0</td>\n",
       "      <td>0.00</td>\n",
       "    </tr>\n",
       "    <tr>\n",
       "      <th>7</th>\n",
       "      <td>7</td>\n",
       "      <td>0</td>\n",
       "      <td>0.00</td>\n",
       "    </tr>\n",
       "    <tr>\n",
       "      <th>8</th>\n",
       "      <td>8</td>\n",
       "      <td>0</td>\n",
       "      <td>0.00</td>\n",
       "    </tr>\n",
       "    <tr>\n",
       "      <th>9</th>\n",
       "      <td>9</td>\n",
       "      <td>0</td>\n",
       "      <td>0.00</td>\n",
       "    </tr>\n",
       "    <tr>\n",
       "      <th>10</th>\n",
       "      <td>10</td>\n",
       "      <td>1</td>\n",
       "      <td>0.02</td>\n",
       "    </tr>\n",
       "  </tbody>\n",
       "</table>\n",
       "</div>"
      ],
      "text/plain": [
       "    drink_orders  freq  r_freq\n",
       "0              0     4    0.08\n",
       "1              1    20    0.40\n",
       "2              2    13    0.26\n",
       "3              3     6    0.12\n",
       "4              4     4    0.08\n",
       "5              5     2    0.04\n",
       "6              6     0    0.00\n",
       "7              7     0    0.00\n",
       "8              8     0    0.00\n",
       "9              9     0    0.00\n",
       "10            10     1    0.02"
      ]
     },
     "execution_count": 5,
     "metadata": {},
     "output_type": "execute_result"
    }
   ],
   "source": [
    "df['r_freq'] = df['freq'].divide(50)\n",
    "df"
   ]
  },
  {
   "cell_type": "code",
   "execution_count": 6,
   "metadata": {
    "ExecuteTime": {
     "end_time": "2020-07-28T22:17:35.222524Z",
     "start_time": "2020-07-28T22:17:35.038074Z"
    }
   },
   "outputs": [
    {
     "data": {
      "text/plain": [
       "<BarContainer object of 11 artists>"
      ]
     },
     "execution_count": 6,
     "metadata": {},
     "output_type": "execute_result"
    },
    {
     "data": {
      "image/png": "[encoded data removed]",
      "text/plain": [
       "<Figure size 432x288 with 1 Axes>"
      ]
     },
     "metadata": {
      "needs_background": "light"
     },
     "output_type": "display_data"
    }
   ],
   "source": [
    "plt.bar(df['drink_orders'], df['freq'])"
   ]
  },
  {
   "cell_type": "markdown",
   "metadata": {},
   "source": [
    "### Why is this distinction so important? "
   ]
  },
  {
   "cell_type": "markdown",
   "metadata": {},
   "source": [
    "A continuous distribution like the wait times of the 50 Starbucks customers would not be helpful. They would vary too much the distribution would be all over the place. Since we have an endless number of possibilities for the continuous random variables we need to consider alternate ways of calculating/visualizing those types of probabilities.\n",
    "\n",
    "![](https://raw.githubusercontent.com/learn-co-students/dsc-probability-density-function-onl01-dtsc-ft-030220/master/images/pdf2.jpg)"
   ]
  },
  {
   "cell_type": "markdown",
   "metadata": {},
   "source": [
    "### The difference between PMF, PDF and CDF "
   ]
  },
  {
   "cell_type": "markdown",
   "metadata": {},
   "source": [
    "![alt text](https://bokeh.pydata.org/en/0.8.2/_images/charts_histogram_cdf.png)"
   ]
  },
  {
   "cell_type": "markdown",
   "metadata": {},
   "source": [
    "A probability mass function (PMF)— also called a frequency function— gives you probabilities for discrete random variables. “Random variables” are variables from experiments like dice rolls, choosing a number out of a hat, or getting a high score on a test. The “discrete” part means that there’s a set number of outcomes. For example, you can only roll a 1,2,3,4,5, or 6 on a die.\n",
    "\n",
    "Its counterpart is the probability density function, which gives probabilities for continuous random variables. There are too many variables so each variables probabilty is zero or almost zero. So we use intervals in this case. \n",
    "\n",
    "You can use the CDF to figure out probabilities above a certain value, below a certain value, or between two values. For example, if you had a CDF that showed weights of cats, you can use it to figure out:\n",
    "\n",
    "- The probability of a cat weighing more than 11 pounds.\n",
    "- The probability of a cat weighing less than 11 pounds.\n",
    "- The probability of a cat weighing between 11 and 15 pounds.\n",
    "\n",
    "In the case of the above scenario, it would be important for, say, a veterinary pharmaceutical company knowing the probability of cats weighing a certain amount in order to produce the right volume of medications that cater to certain weights."
   ]
  },
  {
   "cell_type": "markdown",
   "metadata": {},
   "source": [
    "## Binomial Distribution "
   ]
  },
  {
   "cell_type": "markdown",
   "metadata": {},
   "source": [
    "## Standard Normal Distribution "
   ]
  },
  {
   "cell_type": "markdown",
   "metadata": {},
   "source": [
    "<img src='https://github.com/learn-co-students/dsc-0-09-12-gaussian-distributions-online-ds-ft-031119/blob/master/normalsd.jpg?raw=true' width=700/>\n",
    "\n",
    "[Practice](https://www.intmath.com/counting-probability/normal-distribution-graph-interactive.php)"
   ]
  },
  {
   "cell_type": "markdown",
   "metadata": {},
   "source": [
    "![alt text](https://trello-attachments.s3.amazonaws.com/5c9820e82b57e23871ddad9a/5c982e562847357b452cccd7/4bb7f068f92283d8ce096d7b4cabbfce/skew1.jpeg)"
   ]
  },
  {
   "cell_type": "markdown",
   "metadata": {},
   "source": [
    "# Sampling & Point Estimates "
   ]
  },
  {
   "cell_type": "markdown",
   "metadata": {},
   "source": [
    "> The sample statistic is calculated from the sample data and the population parameter is inferred (or estimated) from this sample statistic. Let me say that again: Statistics are calculated, parameters are estimated. - James Jones"
   ]
  },
  {
   "cell_type": "markdown",
   "metadata": {},
   "source": [
    "**Know the differences - Population v Sample Terminology**\n",
    "\n",
    "Characteristics of populations are called *parameters*<br/>\n",
    "Characteristics of a sample are called *statistics*\n",
    "\n",
    "![](https://media.cheggcdn.com/media/7ac/7ac1a812-3b41-4873-8413-b6a7b8fab530/CL-26481V_image_006.png)\n",
    "\n",
    "\n",
    "\n",
    "Let's work through an example to understand this topic better. We will be using an API to download wage and classification information for 500 random employees out of the total 12,401 City of Seattle Employees as of October 2019."
   ]
  },
  {
   "cell_type": "code",
   "execution_count": 1,
   "metadata": {
    "ExecuteTime": {
     "end_time": "2020-10-23T22:39:29.710682Z",
     "start_time": "2020-10-23T22:39:28.875633Z"
    }
   },
   "outputs": [],
   "source": [
    "import pandas as pd\n",
    "from matplotlib import pyplot as plt\n",
    "import requests\n",
    "import random\n",
    "\n",
    "total_employees = 12401\n",
    "sample_size = 500"
   ]
  },
  {
   "cell_type": "markdown",
   "metadata": {},
   "source": [
    "Call the API to Retrieve the City of Seattle Wage Data.\n",
    "Randomly select 500 employees of the 12,401. \n",
    "\n",
    "You may find this helpful: https://dev.socrata.com/docs/queries/."
   ]
  },
  {
   "cell_type": "code",
   "execution_count": 2,
   "metadata": {
    "ExecuteTime": {
     "end_time": "2020-10-23T22:44:02.493937Z",
     "start_time": "2020-10-23T22:44:02.011906Z"
    }
   },
   "outputs": [
    {
     "data": {
      "text/plain": [
       "[{'department': 'Police Department',\n",
       "  'last_name': 'Aagard',\n",
       "  'first_name': 'Lori',\n",
       "  'job_title': 'Pol Lieut',\n",
       "  'hourly_rate': '80.07'},\n",
       " {'department': 'Police Department',\n",
       "  'last_name': 'Aakervik',\n",
       "  'first_name': 'Dag',\n",
       "  'job_title': 'Pol Ofcr-Detective',\n",
       "  'hourly_rate': '60.84'},\n",
       " {'department': 'Parks & Recreation',\n",
       "  'last_name': 'Aamot',\n",
       "  'first_name': 'Allison',\n",
       "  'job_title': 'Rec Attendant *',\n",
       "  'hourly_rate': '17.35'},\n",
       " {'department': 'Seattle Public Utilities',\n",
       "  'last_name': 'Aar',\n",
       "  'first_name': 'Abdimallik',\n",
       "  'job_title': 'Civil Engrng Spec,Sr',\n",
       "  'hourly_rate': '54.07'},\n",
       " {'department': 'Parks & Recreation',\n",
       "  'last_name': 'Aban',\n",
       "  'first_name': 'Eduardo',\n",
       "  'job_title': 'Civil Engr,Sr',\n",
       "  'hourly_rate': '58.36'}]"
      ]
     },
     "execution_count": 2,
     "metadata": {},
     "output_type": "execute_result"
    }
   ],
   "source": [
    "#Make a request to the API\n",
    "url = \"https://data.seattle.gov/resource/2khk-5ukd.json\"\n",
    "\n",
    "# make a request\n",
    "response = requests.get(url=url)\n",
    "\n",
    "# inspect results (optional)\n",
    "response.json()[0:5]"
   ]
  },
  {
   "cell_type": "code",
   "execution_count": 9,
   "metadata": {
    "ExecuteTime": {
     "end_time": "2020-07-28T22:47:25.110839Z",
     "start_time": "2020-07-28T22:47:24.800750Z"
    }
   },
   "outputs": [
    {
     "data": {
      "text/plain": [
       "[{'department': 'Police Department',\n",
       "  'last_name': 'Aagard',\n",
       "  'first_name': 'Lori',\n",
       "  'job_title': 'Pol Lieut',\n",
       "  'hourly_rate': '80.07'}]"
      ]
     },
     "execution_count": 9,
     "metadata": {},
     "output_type": "execute_result"
    }
   ],
   "source": [
    "#Limit request to obtain one single employee\n",
    "\n",
    "# create parameters that will be used in the GET request\n",
    "params = {\"$limit\": 1}\n",
    "\n",
    "# make a request\n",
    "f\n",
    "# inspect results (optional)\n",
    "response.json()"
   ]
  },
  {
   "cell_type": "code",
   "execution_count": 10,
   "metadata": {
    "ExecuteTime": {
     "end_time": "2020-07-28T22:48:40.367135Z",
     "start_time": "2020-07-28T22:48:40.107258Z"
    }
   },
   "outputs": [
    {
     "data": {
      "text/plain": [
       "[{'department': 'Seattle Center',\n",
       "  'last_name': 'Adams',\n",
       "  'first_name': 'Danny',\n",
       "  'job_title': 'Janitor-SC/Parks/SPU',\n",
       "  'hourly_rate': '23.28'}]"
      ]
     },
     "execution_count": 10,
     "metadata": {},
     "output_type": "execute_result"
    }
   ],
   "source": [
    "#Pick the 50th employee\n",
    "\n",
    "# create parameters that will be used in the GET request\n",
    "# note: default offset is 0 so the 50th record would be offset by 49\n",
    "#       this is because offset is zero-indexed (just like Python!)\n",
    "params = {\"$limit\": 1, \"$offset\": 49}\n",
    "\n",
    "# make a request\n",
    "response = requests.get(url=url, params=params)\n",
    "\n",
    "# inspect results (optional)\n",
    "response.json()"
   ]
  },
  {
   "cell_type": "markdown",
   "metadata": {},
   "source": [
    "**Pick one single random employee**\n",
    "\n",
    "Note: use random.sample() to create a list of unique random integers. Then index that list to retrieve a random integer. Use that integer with the $offset parameter to help you retrieve a random employee"
   ]
  },
  {
   "cell_type": "code",
   "execution_count": 11,
   "metadata": {
    "ExecuteTime": {
     "end_time": "2020-07-28T22:49:34.929520Z",
     "start_time": "2020-07-28T22:49:34.646563Z"
    }
   },
   "outputs": [
    {
     "name": "stdout",
     "output_type": "stream",
     "text": [
      "The random integer is 2532\n"
     ]
    },
    {
     "data": {
      "text/plain": [
       "[{'department': 'Seattle Center',\n",
       "  'last_name': 'Davis',\n",
       "  'first_name': 'Ryan',\n",
       "  'job_title': 'Events Booking Rep,Sr',\n",
       "  'hourly_rate': '43.62'}]"
      ]
     },
     "execution_count": 11,
     "metadata": {},
     "output_type": "execute_result"
    }
   ],
   "source": [
    "# set random seed for a determinstic random number (optional)\n",
    "random.seed(2019)\n",
    "\n",
    "# create the list of one random integer\n",
    "random_int = random.sample(population=range(0, total_employees),\n",
    "                           k=1)\n",
    "\n",
    "# print value of random_int[0] to screen (optional)\n",
    "print(f\"The random integer is {random_int[0]}\")\n",
    "\n",
    "params = {\"$limit\": 1, \"$offset\": random_int[0]}\n",
    "\n",
    "# make a request\n",
    "response = requests.get(url=url, params=params)\n",
    "\n",
    "# inspect results (optional)\n",
    "response.json()"
   ]
  },
  {
   "cell_type": "code",
   "execution_count": 3,
   "metadata": {
    "ExecuteTime": {
     "end_time": "2020-10-23T22:55:20.744925Z",
     "start_time": "2020-10-23T22:53:24.283143Z"
    }
   },
   "outputs": [],
   "source": [
    "#Pick 500 random employees\n",
    "#Note: store this list as city_wages\n",
    "random.seed(2019)\n",
    "\n",
    "random_ints = random.sample(population=range(total_employees),\n",
    "                            k=sample_size)\n",
    "city_wages = []\n",
    "\n",
    "for random_int in random_ints:\n",
    "    params = {\"$limit\": 1, \n",
    "              \"$offset\": random_int}\n",
    "    request = requests.get(url=url, params=params)\n",
    "    city_wages.extend(request.json())\n"
   ]
  },
  {
   "cell_type": "code",
   "execution_count": 5,
   "metadata": {
    "ExecuteTime": {
     "end_time": "2020-10-23T23:01:15.470426Z",
     "start_time": "2020-10-23T23:01:15.439813Z"
    }
   },
   "outputs": [
    {
     "data": {
      "text/html": [
       "<div>\n",
       "<style scoped>\n",
       "    .dataframe tbody tr th:only-of-type {\n",
       "        vertical-align: middle;\n",
       "    }\n",
       "\n",
       "    .dataframe tbody tr th {\n",
       "        vertical-align: top;\n",
       "    }\n",
       "\n",
       "    .dataframe thead th {\n",
       "        text-align: right;\n",
       "    }\n",
       "</style>\n",
       "<table border=\"1\" class=\"dataframe\">\n",
       "  <thead>\n",
       "    <tr style=\"text-align: right;\">\n",
       "      <th></th>\n",
       "      <th>department</th>\n",
       "      <th>first_name</th>\n",
       "      <th>hourly_rate</th>\n",
       "      <th>job_title</th>\n",
       "      <th>last_name</th>\n",
       "    </tr>\n",
       "  </thead>\n",
       "  <tbody>\n",
       "    <tr>\n",
       "      <th>0</th>\n",
       "      <td>Arts &amp; Culture</td>\n",
       "      <td>Lovell</td>\n",
       "      <td>33.4</td>\n",
       "      <td>Bldg/Facilities Opns Supv</td>\n",
       "      <td>Davis</td>\n",
       "    </tr>\n",
       "    <tr>\n",
       "      <th>1</th>\n",
       "      <td>Information Technology</td>\n",
       "      <td>Steven</td>\n",
       "      <td>59.289</td>\n",
       "      <td>Info Technol Prof B-BU</td>\n",
       "      <td>Gould</td>\n",
       "    </tr>\n",
       "    <tr>\n",
       "      <th>2</th>\n",
       "      <td>Finance &amp; Admin Services</td>\n",
       "      <td>Presley</td>\n",
       "      <td>61.92</td>\n",
       "      <td>StratAdvsr2,Exempt</td>\n",
       "      <td>Palmer</td>\n",
       "    </tr>\n",
       "    <tr>\n",
       "      <th>3</th>\n",
       "      <td>Fire Department</td>\n",
       "      <td>Diana</td>\n",
       "      <td>54.27</td>\n",
       "      <td>Fireftr-Dispatcher-84 Hrs</td>\n",
       "      <td>Delashmutt</td>\n",
       "    </tr>\n",
       "    <tr>\n",
       "      <th>4</th>\n",
       "      <td>Seattle Public Utilities</td>\n",
       "      <td>Jatajia</td>\n",
       "      <td>27.2</td>\n",
       "      <td>Util Act Rep I</td>\n",
       "      <td>Gray</td>\n",
       "    </tr>\n",
       "  </tbody>\n",
       "</table>\n",
       "</div>"
      ],
      "text/plain": [
       "                 department first_name hourly_rate                  job_title  \\\n",
       "0            Arts & Culture     Lovell        33.4  Bldg/Facilities Opns Supv   \n",
       "1    Information Technology     Steven      59.289     Info Technol Prof B-BU   \n",
       "2  Finance & Admin Services    Presley       61.92         StratAdvsr2,Exempt   \n",
       "3           Fire Department      Diana       54.27  Fireftr-Dispatcher-84 Hrs   \n",
       "4  Seattle Public Utilities    Jatajia        27.2             Util Act Rep I   \n",
       "\n",
       "    last_name  \n",
       "0       Davis  \n",
       "1       Gould  \n",
       "2      Palmer  \n",
       "3  Delashmutt  \n",
       "4        Gray  "
      ]
     },
     "execution_count": 5,
     "metadata": {},
     "output_type": "execute_result"
    }
   ],
   "source": [
    "#Transform city_wages into a DataFrame (city_wages_df) and \n",
    "#calculate the mean hourly_rate from your random sample\n",
    "\n",
    "city_wages_df = pd.DataFrame(city_wages)\n",
    "city_wages_df.head()\n"
   ]
  },
  {
   "cell_type": "code",
   "execution_count": 6,
   "metadata": {
    "ExecuteTime": {
     "end_time": "2020-10-23T23:01:18.184527Z",
     "start_time": "2020-10-23T23:01:18.177916Z"
    }
   },
   "outputs": [
    {
     "data": {
      "text/plain": [
       "45.70335347368421"
      ]
     },
     "execution_count": 6,
     "metadata": {},
     "output_type": "execute_result"
    }
   ],
   "source": [
    "city_wages_df[\"hourly_rate\"].astype(float).mean()"
   ]
  },
  {
   "cell_type": "code",
   "execution_count": 7,
   "metadata": {
    "ExecuteTime": {
     "end_time": "2020-10-23T23:01:22.298286Z",
     "start_time": "2020-10-23T23:01:22.288818Z"
    }
   },
   "outputs": [
    {
     "data": {
      "text/plain": [
       "0    18.23\n",
       "dtype: float64"
      ]
     },
     "execution_count": 7,
     "metadata": {},
     "output_type": "execute_result"
    }
   ],
   "source": [
    "city_wages_df[\"hourly_rate\"].astype(float).mode()"
   ]
  },
  {
   "cell_type": "code",
   "execution_count": 8,
   "metadata": {
    "ExecuteTime": {
     "end_time": "2020-10-23T23:01:36.624733Z",
     "start_time": "2020-10-23T23:01:36.619432Z"
    }
   },
   "outputs": [
    {
     "data": {
      "text/plain": [
       "45.96"
      ]
     },
     "execution_count": 8,
     "metadata": {},
     "output_type": "execute_result"
    }
   ],
   "source": [
    "city_wages_df[\"hourly_rate\"].astype(float).median()"
   ]
  },
  {
   "cell_type": "code",
   "execution_count": 11,
   "metadata": {
    "ExecuteTime": {
     "end_time": "2020-10-23T23:03:36.107296Z",
     "start_time": "2020-10-23T23:03:35.926225Z"
    }
   },
   "outputs": [
    {
     "data": {
      "text/plain": [
       "Text(0.5, 1.0, 'Distribution of Hourly rates amongst Seattle City Employees')"
      ]
     },
     "execution_count": 11,
     "metadata": {},
     "output_type": "execute_result"
    },
    {
     "data": {
      "image/png": "[encoded data removed]",
      "text/plain": [
       "<Figure size 432x288 with 1 Axes>"
      ]
     },
     "metadata": {
      "needs_background": "light"
     },
     "output_type": "display_data"
    }
   ],
   "source": [
    "#Make a visualization that shows the distribution of hourly_rate\n",
    "\n",
    "fig, ax = plt.subplots()\n",
    "\n",
    "city_wages_df['hourly_rate'].astype(float).hist(ax=ax)\n",
    "ax.set_xlabel(\"Hourly Rate\")\n",
    "ax.set_ylabel(\"Frequency\")\n",
    "ax.set_title(\"Distribution of Hourly rates amongst Seattle City Employees\")"
   ]
  },
  {
   "cell_type": "markdown",
   "metadata": {},
   "source": [
    "## Z- Score \n",
    "**The area under the whole of a normal distribution curve is 1, or 100 percent. The  𝑧 -table helps by telling us what percentage is under the curve up to any particular point. The z-table works from the idea that a score found on the table shows the probability of a random variable falling to the left of the score (some tables also show the area to some z-score to the right of the mean). The normal distribution, the basis of z-scores, is a cumulative distribution function:**\n",
    "$$z = \\frac{x-\\mu}{\\sigma}$$ Which is just the number of std deviations from mean."
   ]
  },
  {
   "cell_type": "markdown",
   "metadata": {},
   "source": [
    "## Confidence Intervals \n",
    "\n",
    "Sample statistics are imperfect representations of the true population values, it is often appropriate to state these estimates with confidence intervals.\n",
    "\n",
    "* The larger my sample, the more confident I may be about the sample's representativeness for the whole population;\n",
    "\n",
    "* The larger I make the interval, the more confident I may be about the true population value falling within it.\n",
    "\n",
    "**EXAMPLE:**\n",
    "Suppose David Attenborough takes several hundred measurements of parrot beak lengths in the Ganges river basin and calculates an average beak length of 9cm. He reports this measure by saying that the 90%-confidence interval is (8.6, 9.4).\n",
    "![](https://www.greatcompanions.com/images/migrated/health-beak-problems.jpg)\n",
    "\n",
    "This does NOT mean that the true population mean beak length has a 90% chance of being somewhere between 8.6cm and 9.4cm. After all, the true mean either falls in that range or it doesn't. The notion of probability here doesn't seem to make much sense. Rather, what our correspondent means is that, if we were to conduct the same measuring experiment many times, constructing intervals in the same way, we should expect 90% of those intervals to contain the true population mean."
   ]
  },
  {
   "cell_type": "markdown",
   "metadata": {},
   "source": [
    "**See Assessment for practice with z-scores and confidence intervals** "
   ]
  }
 ],
 "metadata": {
  "kernelspec": {
   "display_name": "learn-env",
   "language": "python",
   "name": "learn-env"
  },
  "language_info": {
   "codemirror_mode": {
    "name": "ipython",
    "version": 3
   },
   "file_extension": ".py",
   "mimetype": "text/x-python",
   "name": "python",
   "nbconvert_exporter": "python",
   "pygments_lexer": "ipython3",
   "version": "3.6.6"
  },
  "toc": {
   "base_numbering": 1,
   "nav_menu": {},
   "number_sections": true,
   "sideBar": true,
   "skip_h1_title": false,
   "title_cell": "Table of Contents",
   "title_sidebar": "Contents",
   "toc_cell": true,
   "toc_position": {},
   "toc_section_display": true,
   "toc_window_display": true
  }
 },
 "nbformat": 4,
 "nbformat_minor": 2
}
