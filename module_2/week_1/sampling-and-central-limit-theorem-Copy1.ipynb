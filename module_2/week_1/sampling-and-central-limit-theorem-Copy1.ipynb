{
 "cells": [
  {
   "cell_type": "markdown",
   "metadata": {},
   "source": [
    "# Goals for today\n",
    "- Understand the central limit theorem and why it's important for statistical analysis\n",
    "- Understand sampling \n",
    "- Understand confidence intervals\n"
   ]
  },
  {
   "cell_type": "markdown",
   "metadata": {},
   "source": [
    "# Central Limit Theorem\n",
    "**The central limit theorem states that if you have a population with mean μ and standard deviation σ and take sufficiently large random samples from the population with replacement(why??), then the distribution of the sample means will be approximately normally distributed**"
   ]
  },
  {
   "cell_type": "markdown",
   "metadata": {},
   "source": [
    "![](images/central-limit-theorem.png)"
   ]
  },
  {
   "cell_type": "markdown",
   "metadata": {},
   "source": [
    "Essentially tells us that as we take more samples from the population, we would approach the true population mean."
   ]
  },
  {
   "cell_type": "markdown",
   "metadata": {},
   "source": [
    "We can compare our one sample and compare it to our predicted population mean (from the distribution of sample means usually)."
   ]
  },
  {
   "cell_type": "markdown",
   "metadata": {},
   "source": [
    "If our sample mean is very different, we are either very lucky/unlucky or there is something fundamentally different about our sample!\n",
    "\n",
    "![](images/something-is-different.png)"
   ]
  },
  {
   "cell_type": "markdown",
   "metadata": {},
   "source": [
    "# Our View of the World Isn't Perfect"
   ]
  },
  {
   "cell_type": "markdown",
   "metadata": {},
   "source": [
    "We don't have **perfect** information; life doesn't have an answer key\n",
    "\n",
    "<br/>\n",
    "\n",
    "![no answer in the back of the book meme](images/no-answers-in-back-of-book.jpg)"
   ]
  },
  {
   "cell_type": "markdown",
   "metadata": {},
   "source": [
    "## Why can't we we look at the whole population?"
   ]
  },
  {
   "cell_type": "markdown",
   "metadata": {},
   "source": [
    "1. Expensive\n",
    "2. Unrealistic\n",
    "3. We don't need it to gain insights!"
   ]
  },
  {
   "cell_type": "markdown",
   "metadata": {},
   "source": [
    "## A scenario\n",
    "[Video Explanation](https://www.youtube.com/watch?v=jvoxEYmQHNM)"
   ]
  },
  {
   "cell_type": "markdown",
   "metadata": {},
   "source": [
    "# Sampling"
   ]
  },
  {
   "cell_type": "markdown",
   "metadata": {},
   "source": [
    "From a sample, we can get **point estimates**: estimates of the population parameters(a value that describes a characteristic of an entire population, such as the population mean)."
   ]
  },
  {
   "cell_type": "markdown",
   "metadata": {},
   "source": [
    "- Each sample will have it's own mean\n",
    "- Showing each sample mean, we will get a normal distribution!"
   ]
  },
  {
   "cell_type": "markdown",
   "metadata": {},
   "source": [
    "Let's look at an example taken from the ubiquitous Iris dataset. This histogram represents the distributions of sepal length:\n",
    "\n",
    "\n",
    "[probgif](http://localhost:8888/view/seattle_beta/distributions_and_clt_seattle-ds/img/probability-basics.gif)"
   ]
  },
  {
   "cell_type": "markdown",
   "metadata": {
    "ExecuteTime": {
     "end_time": "2020-04-03T15:03:29.768757Z",
     "start_time": "2020-04-03T15:03:29.764650Z"
    }
   },
   "source": [
    "##### Population v Sample Terminology\n",
    "Characteristics of populations are called *parameters*\n",
    "\n",
    "Characteristics of a sample are called *statistics*\n",
    "\n",
    "![](https://media.cheggcdn.com/media/7ac/7ac1a812-3b41-4873-8413-b6a7b8fab530/CL-26481V_image_006.png)"
   ]
  },
  {
   "cell_type": "markdown",
   "metadata": {},
   "source": [
    "## Coding some samples"
   ]
  },
  {
   "cell_type": "code",
   "execution_count": null,
   "metadata": {
    "ExecuteTime": {
     "end_time": "2020-04-03T14:47:43.613703Z",
     "start_time": "2020-04-03T14:47:43.080899Z"
    }
   },
   "outputs": [],
   "source": [
    "import pandas as pd\n",
    "import numpy as np\n",
    "\n",
    "df = pd.read_csv('data/titanic.csv')"
   ]
  },
  {
   "cell_type": "code",
   "execution_count": null,
   "metadata": {
    "ExecuteTime": {
     "end_time": "2020-04-03T14:47:44.544644Z",
     "start_time": "2020-04-03T14:47:44.514977Z"
    }
   },
   "outputs": [],
   "source": [
    "display(df.info())\n",
    "df.head()"
   ]
  },
  {
   "cell_type": "code",
   "execution_count": null,
   "metadata": {
    "ExecuteTime": {
     "end_time": "2020-04-03T14:47:45.420323Z",
     "start_time": "2020-04-03T14:47:45.415083Z"
    }
   },
   "outputs": [],
   "source": [
    "all_ages = df['Age'].dropna()\n",
    "mean = all_ages.mean()\n",
    "print(f'There are {all_ages.size} people, average age is {mean :.1f}')"
   ]
  },
  {
   "cell_type": "code",
   "execution_count": null,
   "metadata": {
    "ExecuteTime": {
     "end_time": "2020-04-03T14:47:46.583293Z",
     "start_time": "2020-04-03T14:47:46.576741Z"
    }
   },
   "outputs": [],
   "source": [
    "# Take a random sample\n",
    "sample = all_ages.sample(n=100)#, random_state=27) #Take a sample of 100 people\n",
    "mean_s = sample.mean()\n",
    "\n",
    "calc_percent_error = lambda pop_mean, sample_mean: np.abs(sample_mean - pop_mean) / pop_mean\n",
    "    \n",
    "percent_err = calc_percent_error(mean, mean_s)\n",
    "\n",
    "print(f'The sample mean was {mean_s:.1f} with a percent error of {percent_err*100:.2f}%')"
   ]
  },
  {
   "cell_type": "code",
   "execution_count": null,
   "metadata": {
    "ExecuteTime": {
     "end_time": "2020-04-03T14:47:48.841088Z",
     "start_time": "2020-04-03T14:47:47.577731Z"
    }
   },
   "outputs": [],
   "source": [
    "import matplotlib.pyplot as plt\n",
    "import seaborn as sns\n",
    "%matplotlib inline\n",
    "\n",
    "# Repeatedly take samples and plot out sample means\n",
    "sample_means = []\n",
    "for i in range(10**3):\n",
    "    sample = all_ages.sample(n=30) \n",
    "    sample_means.append(sample.mean()) # Calculate the sample mean\n",
    "\n",
    "\n",
    "plt.hist(sample_means, bins=250);\n",
    "\n"
   ]
  },
  {
   "cell_type": "code",
   "execution_count": null,
   "metadata": {
    "ExecuteTime": {
     "end_time": "2020-04-03T14:47:50.144605Z",
     "start_time": "2020-04-03T14:47:50.141231Z"
    }
   },
   "outputs": [],
   "source": [
    "mean_of_means = np.mean(sample_means)\n",
    "\n",
    "print(f'The mean of sample means was {mean_of_means:.3f} vs the actual population mean {mean:.3f}')"
   ]
  },
  {
   "cell_type": "code",
   "execution_count": null,
   "metadata": {
    "ExecuteTime": {
     "end_time": "2020-04-03T14:47:51.612954Z",
     "start_time": "2020-04-03T14:47:51.609346Z"
    }
   },
   "outputs": [],
   "source": [
    "print(f'Percent error: {100*calc_percent_error(mean, mean_of_means):.2f}%')"
   ]
  },
  {
   "cell_type": "markdown",
   "metadata": {},
   "source": [
    "### Confidence Interval Interpretation \n",
    "![](https://thepsychologist.bps.org.uk/sites/thepsychologist.bps.org.uk/files/methodsfig1.jpg)\n",
    "**A confidence interval is just an interval that covers 95% of the sample means. Because the interval covers 95% of the sample means we know that anything outside of it occurs less than 5% of the time. If we relate this to p-values, the p-value of anything outside of the confidence interval is <.05% and thus is statistically significant.** \n",
    "\n",
    "\"we found our 95% confidence interval for ages to be from 26.3 and 28.3\"\n",
    "\n",
    "OR\n",
    "\n",
    "\"we are 95% confident that the average age falls between 26.3 and 28.3\""
   ]
  },
  {
   "cell_type": "code",
   "execution_count": null,
   "metadata": {},
   "outputs": [],
   "source": []
  }
 ],
 "metadata": {
  "kernelspec": {
   "display_name": "Python 3",
   "language": "python",
   "name": "python3"
  },
  "language_info": {
   "codemirror_mode": {
    "name": "ipython",
    "version": 3
   },
   "file_extension": ".py",
   "mimetype": "text/x-python",
   "name": "python",
   "nbconvert_exporter": "python",
   "pygments_lexer": "ipython3",
   "version": "3.6.6"
  },
  "toc": {
   "base_numbering": 1,
   "nav_menu": {},
   "number_sections": true,
   "sideBar": true,
   "skip_h1_title": false,
   "title_cell": "Table of Contents",
   "title_sidebar": "Contents",
   "toc_cell": false,
   "toc_position": {},
   "toc_section_display": true,
   "toc_window_display": false
  },
  "varInspector": {
   "cols": {
    "lenName": 16,
    "lenType": 16,
    "lenVar": 40
   },
   "kernels_config": {
    "python": {
     "delete_cmd_postfix": "",
     "delete_cmd_prefix": "del ",
     "library": "var_list.py",
     "varRefreshCmd": "print(var_dic_list())"
    },
    "r": {
     "delete_cmd_postfix": ") ",
     "delete_cmd_prefix": "rm(",
     "library": "var_list.r",
     "varRefreshCmd": "cat(var_dic_list()) "
    }
   },
   "types_to_exclude": [
    "module",
    "function",
    "builtin_function_or_method",
    "instance",
    "_Feature"
   ],
   "window_display": false
  }
 },
 "nbformat": 4,
 "nbformat_minor": 2
}
