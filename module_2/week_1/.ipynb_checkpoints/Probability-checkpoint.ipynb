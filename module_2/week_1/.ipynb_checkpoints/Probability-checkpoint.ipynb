{
 "cells": [
  {
   "cell_type": "markdown",
   "metadata": {
    "toc": true
   },
   "source": [
    "<h1>Table of Contents<span class=\"tocSkip\"></span></h1>\n",
    "<div class=\"toc\"><ul class=\"toc-item\"><li><span><a href=\"#Inferential-Statistics\" data-toc-modified-id=\"Inferential-Statistics-1\"><span class=\"toc-item-num\">1&nbsp;&nbsp;</span>Inferential Statistics</a></span></li><li><span><a href=\"#Review-Set-Theory\" data-toc-modified-id=\"Review-Set-Theory-2\"><span class=\"toc-item-num\">2&nbsp;&nbsp;</span>Review Set Theory</a></span></li><li><span><a href=\"#Classical-Probability\" data-toc-modified-id=\"Classical-Probability-3\"><span class=\"toc-item-num\">3&nbsp;&nbsp;</span>Classical Probability</a></span><ul class=\"toc-item\"><li><ul class=\"toc-item\"><li><span><a href=\"#Terminology\" data-toc-modified-id=\"Terminology-3.0.1\"><span class=\"toc-item-num\">3.0.1&nbsp;&nbsp;</span>Terminology</a></span></li></ul></li></ul></li><li><span><a href=\"#Handwritten-example---axiom-3\" data-toc-modified-id=\"Handwritten-example---axiom-3-4\"><span class=\"toc-item-num\">4&nbsp;&nbsp;</span>Handwritten example - axiom 3</a></span><ul class=\"toc-item\"><li><ul class=\"toc-item\"><li><span><a href=\"#Handwritten-Example-2\" data-toc-modified-id=\"Handwritten-Example-2-4.0.1\"><span class=\"toc-item-num\">4.0.1&nbsp;&nbsp;</span>Handwritten Example 2</a></span></li><li><span><a href=\"#Python-Example\" data-toc-modified-id=\"Python-Example-4.0.2\"><span class=\"toc-item-num\">4.0.2&nbsp;&nbsp;</span>Python Example</a></span></li><li><span><a href=\"#Warm-up-Problem:-Die-Roll\" data-toc-modified-id=\"Warm-up-Problem:-Die-Roll-4.0.3\"><span class=\"toc-item-num\">4.0.3&nbsp;&nbsp;</span>Warm-up Problem: Die Roll</a></span></li><li><span><a href=\"#Good.-Let's-do-a-few-more\" data-toc-modified-id=\"Good.-Let's-do-a-few-more-4.0.4\"><span class=\"toc-item-num\">4.0.4&nbsp;&nbsp;</span>Good. Let's do a few more</a></span></li></ul></li></ul></li><li><span><a href=\"#Permutations\" data-toc-modified-id=\"Permutations-5\"><span class=\"toc-item-num\">5&nbsp;&nbsp;</span>Permutations</a></span></li><li><span><a href=\"#Combinations\" data-toc-modified-id=\"Combinations-6\"><span class=\"toc-item-num\">6&nbsp;&nbsp;</span>Combinations</a></span><ul class=\"toc-item\"><li><ul class=\"toc-item\"><li><ul class=\"toc-item\"><li><span><a href=\"#Examples\" data-toc-modified-id=\"Examples-6.0.0.1\"><span class=\"toc-item-num\">6.0.0.1&nbsp;&nbsp;</span>Examples</a></span></li><li><span><a href=\"#Card-Problems\" data-toc-modified-id=\"Card-Problems-6.0.0.2\"><span class=\"toc-item-num\">6.0.0.2&nbsp;&nbsp;</span>Card Problems</a></span></li></ul></li></ul></li></ul></li><li><span><a href=\"#Conditional-Probability\" data-toc-modified-id=\"Conditional-Probability-7\"><span class=\"toc-item-num\">7&nbsp;&nbsp;</span>Conditional Probability</a></span></li></ul></div>"
   ]
  },
  {
   "cell_type": "markdown",
   "metadata": {},
   "source": [
    "# Inferential Statistics \n",
    "1. What is it?\n",
    "2. How is it different from descriptive statistics?\n",
    "2. Why do we need it? "
   ]
  },
  {
   "cell_type": "markdown",
   "metadata": {},
   "source": [
    "![](http://www.z-table.com/uploads/2/1/7/9/21795380/205552900.jpg)"
   ]
  },
  {
   "cell_type": "markdown",
   "metadata": {},
   "source": [
    "![](https://miro.medium.com/max/1164/1*WD8uN3s7_eo1peVehPZAVA.jpeg)"
   ]
  },
  {
   "cell_type": "markdown",
   "metadata": {},
   "source": [
    "Earlier we looked at descriptive statistics: starting with a dataset and making various observations (overall shape, histogram, outliers, etc.) as well as calculations of quantities that can characterize the dataset as a whole (mean, median, mode, variance, standard deviation, quartiles, percentiles, etc.).\n",
    "\n",
    "To make the move into inferential statistics, we need to imagine now that we don't have (or anyway cannot measure) all the data of interest.\n",
    "\n",
    "And this is, of course, the typical situation. Consider:\n",
    "\n",
    "* A zoologist wanting to know the typical lifespan of a Siberian tiger\n",
    "* A cosmologist wanting to know the mass of a normal white dwarf star\n",
    "* A businesswoman wanting to know how many M&M's her customers should expect to find in their Party Size bags\n",
    "* A botanist wanting to know how tall California redwoods usually grow\n",
    "\n",
    "The zoologist could, in principle:\n",
    "\n",
    "Keep track of every currently existing Siberian tiger;\n",
    "record their (more or less) exact ages at their moments of death;\n",
    "add up those ages and divide by the number of tigers to calculate an average lifespan\n",
    "––But only in principle. In all of these situations, there is no realistic or practical opportunity to check each relevant data point.\n",
    "\n",
    "What we can do, however, is to check some of the data points we want to check. That is, we'll draw a sample of data from our population of interest. We can then use the techniques of descriptive statistics to characterize our sample.\n",
    "\n",
    "Does this help? The hope, of course, is that our sample will be representative of the population as a whole, which would justify our using facts about the sample to infer things about the population as a whole. But naturally we'll expect a certain amount of error: If I take the mean of a sample, $\\bar{x}$ and project it as an estimate of the mean of the whole population, $\\mu$, the estimate is bound to be imperfect.\n",
    "\n",
    "Inferential statistics makes all this precise. Some of this gets fairly technical, hence the need for a whole unit on it!\n",
    "\n",
    "**Quick discussion question:**\n",
    "\n",
    "<details open>\n",
    "<summary>Can anyone give an example of how inferential statistics is being used in the news today?</summary>\n",
    "<br>\n",
    "1. emergency preparedness<br/>\n",
    "2. predicting illness/spread of infection <br/>\n",
    "3. political campaigns\n",
    "</details>"
   ]
  },
  {
   "cell_type": "markdown",
   "metadata": {},
   "source": [
    "# Review Set Theory \n",
    "\n",
    "1. What is it? \n",
    "2. Why do we need it? "
   ]
  },
  {
   "cell_type": "markdown",
   "metadata": {},
   "source": [
    "**1. What is it?**<br/>\n",
    "A set is a collection of some items (elements). We often use capital letters to denote a set. To define a set we can simply list all the elements in curly brackets. \n",
    "\n",
    "**For example:** to define a set **A** that consists of the two elements ♣ and ♢, we write **A**={♣,♢}. To say that ♢ belongs to **A**, we write **♢∈A**, where \"∈\" is pronounced \"belongs to.\" To say that an element does not belong to a set, we use ∉. For example, we may write **♡∉A**."
   ]
  },
  {
   "cell_type": "markdown",
   "metadata": {},
   "source": [
    "![](https://i.pinimg.com/originals/11/3d/46/113d4693d4edf453430927b4558f6640.jpg)"
   ]
  },
  {
   "cell_type": "markdown",
   "metadata": {},
   "source": [
    "**The symbols \"|\" and \":\" are pronounced \"such that.\"**\n",
    "\n",
    "A={x|x satisfies some property} <br/>\n",
    "**or**<br/>\n",
    "A={x:x satisfies some property}\n",
    "\n"
   ]
  },
  {
   "cell_type": "markdown",
   "metadata": {},
   "source": [
    "**If the set C is defined as C={x|x∈ℤ,−2≤x<10}, then C={−2,−1,0,⋯,9}.**"
   ]
  },
  {
   "cell_type": "markdown",
   "metadata": {},
   "source": [
    "**Inclusion-exclusion principle:**\n",
    "Note that if you want to know how many elements are in set *A* versus set  *B*, you can't simply sum up the elements, because they have elements in common.\n",
    "\n",
    "In combinational mathematics, the inclusion-exclusion principle is a counting technique that solves this problem.\n",
    "\n",
    "When having two sets, the method for counting the number of elements in the union of two finite sets is given by:\n",
    "\n",
    "|A∪B|=|A|+|B|−|A∩B|,\n",
    "\n",
    "|A∪B∪C|=|A|+|B|+|C|−|A∩B|−|A∩C|−|B∩C|+|A∩B∩C|.\n"
   ]
  },
  {
   "cell_type": "markdown",
   "metadata": {},
   "source": [
    "<details open>\n",
    "    \n",
    "![](https://upload.wikimedia.org/wikipedia/commons/c/c4/Inclusion-exclusion.png)\n",
    "</details>"
   ]
  },
  {
   "cell_type": "markdown",
   "metadata": {},
   "source": [
    "**2. Why do we need it?**<br/> \n",
    "In order to understand/calculate probability we need a unifying theory to describe the data or sets that we're analyzing. "
   ]
  },
  {
   "cell_type": "markdown",
   "metadata": {},
   "source": [
    "# Classical Probability \n",
    "\n",
    "In 1814, Pierre-Simon Laplace wrote:\n",
    "\n",
    "> Probability theory is nothing but common sense reduced to calculation. ... [Probability] is thus simply a fraction whose numerator is the number of favorable cases and whose denominator is the number of all the cases possible ... when nothing leads us to expect that any one of these cases should occur more than any other.\n",
    "\n",
    "*Pierre-Simon, marquis de Laplace was a French scholar and polymath whose work was important to the development of engineering, mathematics, statistics, physics, astronomy, and philosophy.*"
   ]
  },
  {
   "cell_type": "markdown",
   "metadata": {},
   "source": [
    "### Terminology\n",
    "\n",
    "**Outcome:** A result of a random experiment.<br/>\n",
    "**Universal Set:** $\\Omega$ <br/>\n",
    "**Sample Space:** The set of all possible outcomes. <br/>\n",
    "**Event:** A subset of the sample space."
   ]
  },
  {
   "cell_type": "markdown",
   "metadata": {},
   "source": [
    "**Axioms of Probability:**\n",
    "\n",
    "**1:** For any event A, P(A)≥0.\n",
    "\n",
    "**2:** Probability of the sample space S is P(S)=1.\n",
    "\n",
    "**3:** If A1,A2,A3,⋯ are disjoint events, then P(A1∪A2∪A3⋯)=P(A1)+P(A2)+P(A3)+⋯\n",
    "\n",
    "The basic idea is that if some events are disjoint (i.e., there is no overlap between them), then the probability of their union must be the summations of their probabilities."
   ]
  },
  {
   "cell_type": "markdown",
   "metadata": {},
   "source": [
    "# Handwritten example - axiom 3  \n",
    "In a presidential election, there are four candidates. Call them A, B, C, and D. Based on our polling analysis, we estimate that A has a 20 percent chance of winning the election, while B has a 40 percent chance of winning. What is the probability that A or B win the election?\n",
    "\n",
    "Notice that the events that {A wins}, {B wins}, {C wins}, and {D wins} are disjoint since more than one of them cannot occur at the same time. For example, if A wins, then B cannot win. From the third axiom of probability, the probability of the union of two disjoint events is the summation of individual probabilities. Therefore,\n",
    "\n",
    "P(A wins or B wins)\t=P({A wins}∪{B wins})<br/>\n",
    "=P({A wins})+P({B wins})<br/>\n",
    "=0.2+0.4<br/>\n",
    "=0.6\n",
    "\n",
    "*It is worth noting that we often write P(1) instead of P({1}) to simplify the notation, but we should emphasize that probability is defined for sets (events) not for individual outcomes. Thus, when we write P(2)=16, what we really mean is that P({2})=16.*"
   ]
  },
  {
   "cell_type": "markdown",
   "metadata": {},
   "source": [
    "### Handwritten Example 2\n",
    "1. There is a 60 percent chance that it will rain today.\n",
    "2. There is a 50 percent chance that it will rain tomorrow.\n",
    "3. There is a 30 percent chance that it does not rain either day.\n",
    "\n",
    "\n",
    "<details open>\n",
    "1. P(today)=0.6,<br/>\n",
    "2. P(tomorrow)=0.5,<br/>\n",
    "3. P(todayc∩tomorrowc)=0.3\n",
    "</details>"
   ]
  },
  {
   "cell_type": "markdown",
   "metadata": {},
   "source": [
    "### Python Example "
   ]
  },
  {
   "cell_type": "code",
   "execution_count": 1,
   "metadata": {
    "ExecuteTime": {
     "end_time": "2020-04-01T01:04:48.455048Z",
     "start_time": "2020-04-01T01:04:48.444212Z"
    }
   },
   "outputs": [],
   "source": [
    "from fractions import Fraction\n",
    "\n",
    "def P(event, space): \n",
    "    \"The probability of an event, given a sample space.\"\n",
    "    return Fraction(cases(favorable(event, space)), \n",
    "                    cases(space))\n",
    "\n",
    "favorable = set.intersection # Outcomes that are in the event and in the sample space\n",
    "cases     = len              # The number of cases is the length, or size, of a set"
   ]
  },
  {
   "cell_type": "markdown",
   "metadata": {},
   "source": [
    "### Warm-up Problem: Die Roll\n",
    "What's the probability of rolling an even number with a single six-sided fair die? Mathematicians traditionally use a single capital letter to denote a sample space; I'll use D for the die:"
   ]
  },
  {
   "cell_type": "code",
   "execution_count": 2,
   "metadata": {
    "ExecuteTime": {
     "end_time": "2020-04-01T01:08:30.294663Z",
     "start_time": "2020-04-01T01:08:30.283176Z"
    }
   },
   "outputs": [
    {
     "data": {
      "text/plain": [
       "Fraction(1, 2)"
      ]
     },
     "execution_count": 2,
     "metadata": {},
     "output_type": "execute_result"
    }
   ],
   "source": [
    "D     = {1, 2, 3, 4, 5, 6} # a sample space\n",
    "even  = {   2,    4,    6} # an event\n",
    "\n",
    "P(even, D)"
   ]
  },
  {
   "cell_type": "markdown",
   "metadata": {},
   "source": [
    "### Good. Let's do a few more"
   ]
  },
  {
   "cell_type": "code",
   "execution_count": 3,
   "metadata": {
    "ExecuteTime": {
     "end_time": "2020-04-01T01:14:00.656583Z",
     "start_time": "2020-04-01T01:14:00.653196Z"
    }
   },
   "outputs": [],
   "source": [
    "prime = {2, 3, 5, 7, 11, 13}\n",
    "odd   = {1, 3, 5, 7, 9, 11, 13}"
   ]
  },
  {
   "cell_type": "code",
   "execution_count": 4,
   "metadata": {
    "ExecuteTime": {
     "end_time": "2020-04-01T01:14:15.953624Z",
     "start_time": "2020-04-01T01:14:15.949159Z"
    }
   },
   "outputs": [
    {
     "data": {
      "text/plain": [
       "Fraction(1, 2)"
      ]
     },
     "execution_count": 4,
     "metadata": {},
     "output_type": "execute_result"
    }
   ],
   "source": [
    "P(odd, D)"
   ]
  },
  {
   "cell_type": "code",
   "execution_count": 5,
   "metadata": {
    "ExecuteTime": {
     "end_time": "2020-04-01T01:14:43.590163Z",
     "start_time": "2020-04-01T01:14:43.585949Z"
    }
   },
   "outputs": [
    {
     "data": {
      "text/plain": [
       "Fraction(5, 6)"
      ]
     },
     "execution_count": 5,
     "metadata": {},
     "output_type": "execute_result"
    }
   ],
   "source": [
    "P((even | prime), D) # The probability of an even or prime die roll"
   ]
  },
  {
   "cell_type": "code",
   "execution_count": 6,
   "metadata": {
    "ExecuteTime": {
     "end_time": "2020-04-01T01:16:15.049466Z",
     "start_time": "2020-04-01T01:16:15.045429Z"
    }
   },
   "outputs": [
    {
     "data": {
      "text/plain": [
       "Fraction(1, 3)"
      ]
     },
     "execution_count": 6,
     "metadata": {},
     "output_type": "execute_result"
    }
   ],
   "source": [
    "P((odd & prime), D) # The probability of an odd prime die roll"
   ]
  },
  {
   "cell_type": "markdown",
   "metadata": {},
   "source": [
    "# Permutations\n",
    "**An ordering of objects.** \n",
    "1. How many different ways can you could order the letters CAT?\n",
    "$n!$\n",
    "2. How many different ways can you order only 2 of the letters in CAT? \n",
    "$P_{k}^{n}= \\dfrac{n!}{(n-k)!}$\n",
    "3. What about repeats? How many different ways could we rewrite the letters in Mississippi? Divide out the duplicates. \n",
    "\n"
   ]
  },
  {
   "cell_type": "markdown",
   "metadata": {},
   "source": [
    "# Combinations\n",
    "**Order is not important** \n",
    "$C_{k}^{n}= \\dfrac{n!}{(n-k)!*k!}$"
   ]
  },
  {
   "cell_type": "markdown",
   "metadata": {
    "ExecuteTime": {
     "end_time": "2020-04-01T15:09:28.790371Z",
     "start_time": "2020-04-01T15:09:28.788291Z"
    }
   },
   "source": [
    "#### Examples "
   ]
  },
  {
   "cell_type": "markdown",
   "metadata": {},
   "source": [
    "**1.** If there are 10 people on a committee. How many ways are there of choosing a President, Vice President and Secretary? \n",
    "\n",
    "**2.** If there are 30 people on your tennis team, how many ways could you choose 2 co-captains? \n",
    "\n",
    "**3.** If a board has 10 women and 7 men, how many ways can you form a committee containing 4 members such that:<br/> \n",
    "    **a.** All 4 are men? <br/>\n",
    "    **b.** 2 are men 2 are women?<br/>\n",
    "    **c.** At least 1 is a woman? "
   ]
  },
  {
   "cell_type": "markdown",
   "metadata": {},
   "source": [
    "#### Card Problems\n",
    "\n",
    "1. Count the number of possible five-card hands that can be dealt from a standard deck of 52 cards\n",
    "2. Count the number of ways that a particular type of poker hand can occur\n",
    "3. The probability of being dealt any particular type of hand is equal to the number of ways it can occur divided by the total number of possible five-card hands.\n",
    "\n",
    "Consider dealing a hand of five playing cards. An individual card has a rank and suit, like 'J♥' for the Jack of Hearts, and a deck has 52 cards:<br/>\n",
    "[Unicode documentation](https://www.linuxtopia.org/online_books/programming_books/introduction_to_python/python_tut_17.html)"
   ]
  },
  {
   "cell_type": "code",
   "execution_count": 7,
   "metadata": {
    "ExecuteTime": {
     "end_time": "2020-04-01T01:18:12.376363Z",
     "start_time": "2020-04-01T01:18:12.370748Z"
    }
   },
   "outputs": [
    {
     "data": {
      "text/plain": [
       "52"
      ]
     },
     "execution_count": 7,
     "metadata": {},
     "output_type": "execute_result"
    }
   ],
   "source": [
    "suits = u'♥♠♦♣' \n",
    "ranks = u'AKQJT98765432'\n",
    "deck  = [r + s for r in ranks for s in suits]\n",
    "len(deck)"
   ]
  },
  {
   "cell_type": "code",
   "execution_count": 8,
   "metadata": {
    "ExecuteTime": {
     "end_time": "2020-04-01T01:21:50.599689Z",
     "start_time": "2020-04-01T01:21:50.595254Z"
    }
   },
   "outputs": [
    {
     "data": {
      "text/plain": [
       "'A♥'"
      ]
     },
     "execution_count": 8,
     "metadata": {},
     "output_type": "execute_result"
    }
   ],
   "source": [
    "deck[0]"
   ]
  },
  {
   "cell_type": "markdown",
   "metadata": {},
   "source": [
    "Now I want to define Hands as the sample space of all 5-card combinations from deck. The function *itertools.combinations* does most of the work; we than concatenate each combination into a space-separated string:"
   ]
  },
  {
   "cell_type": "code",
   "execution_count": 9,
   "metadata": {
    "ExecuteTime": {
     "end_time": "2020-04-01T01:25:13.874421Z",
     "start_time": "2020-04-01T01:25:12.754343Z"
    }
   },
   "outputs": [
    {
     "data": {
      "text/plain": [
       "2598960"
      ]
     },
     "execution_count": 9,
     "metadata": {},
     "output_type": "execute_result"
    }
   ],
   "source": [
    "import itertools\n",
    "\n",
    "def combos(items, n):\n",
    "    \"All combinations of n items; each combo as a space-separated str.\"\n",
    "    return set(map(' '.join, itertools.combinations(items, n)))\n",
    "\n",
    "Hands = combos(deck, 5)\n",
    "len(Hands)"
   ]
  },
  {
   "cell_type": "markdown",
   "metadata": {},
   "source": [
    "There are too many hands to look at them all but we can look at a sample."
   ]
  },
  {
   "cell_type": "code",
   "execution_count": 10,
   "metadata": {
    "ExecuteTime": {
     "end_time": "2020-04-01T01:25:33.220467Z",
     "start_time": "2020-04-01T01:25:33.015783Z"
    }
   },
   "outputs": [
    {
     "data": {
      "text/plain": [
       "['K♠ T♠ 6♥ 6♠ 4♣',\n",
       " 'Q♥ J♠ 8♣ 5♣ 4♠',\n",
       " 'Q♥ 7♣ 5♠ 4♠ 2♠',\n",
       " 'A♣ K♦ J♣ 8♥ 4♣',\n",
       " '8♠ 7♠ 7♦ 7♣ 5♦',\n",
       " 'A♣ 6♣ 5♥ 4♠ 2♣',\n",
       " 'Q♦ J♥ J♠ 8♣ 3♠']"
      ]
     },
     "execution_count": 10,
     "metadata": {},
     "output_type": "execute_result"
    }
   ],
   "source": [
    "import random\n",
    "random.sample(Hands, 7)"
   ]
  },
  {
   "cell_type": "code",
   "execution_count": 11,
   "metadata": {
    "ExecuteTime": {
     "end_time": "2020-04-01T01:26:25.928231Z",
     "start_time": "2020-04-01T01:26:25.924664Z"
    }
   },
   "outputs": [
    {
     "data": {
      "text/plain": [
       "['K♠', 'J♠', '3♠', 'T♣', '8♣', '6♥', '3♦']"
      ]
     },
     "execution_count": 11,
     "metadata": {},
     "output_type": "execute_result"
    }
   ],
   "source": [
    "random.sample(deck, 7)"
   ]
  },
  {
   "cell_type": "markdown",
   "metadata": {},
   "source": [
    "Now we can answer questions like what's the probability of being dealt a flush (5 cards of the same suit) **:**"
   ]
  },
  {
   "cell_type": "markdown",
   "metadata": {},
   "source": [
    "1. 52C5 = 52! / 5!(52 - 5)! = 52! / 5!47! = 2,598,960\n",
    "2. Next, count the number of ways that five cards from a 52-card deck can be arranged to produce a flush. It requires two independent choices to produce a flush:\n",
    "\n",
    "- Choose the rank of each card in the hand. A playing card can have a rank of 2, 3, 4, 5, 6, 7, 8, 9, 10, jack, queen, king, or ace. That's 13 distinct ranks. So, we choose five ranks from a set of 13 ranks. The number of ways to do this is 13C5.\n",
    "\n",
    "- Choose one suit for the hand. There are four suits, from which we choose one. The number of ways to do this is 4C1.\n",
    "\n",
    "- The number of ways to produce a flush is equal to the product of the number of ways to make each independent choice. Therefore,\n",
    "\n",
    "flush = 13C5 * 4C1\n",
    "\n",
    "flush = 1,287 * 4 = 5,148\n",
    "\n",
    "Now, what do we need to do to get the probability of getting a flush? "
   ]
  },
  {
   "cell_type": "code",
   "execution_count": 12,
   "metadata": {
    "ExecuteTime": {
     "end_time": "2020-04-01T01:29:27.614594Z",
     "start_time": "2020-04-01T01:29:24.500556Z"
    }
   },
   "outputs": [
    {
     "data": {
      "text/plain": [
       "Fraction(33, 16660)"
      ]
     },
     "execution_count": 12,
     "metadata": {},
     "output_type": "execute_result"
    }
   ],
   "source": [
    "flush = {hand for hand in Hands if any(hand.count(suit) == 5 for suit in suits)}\n",
    "\n",
    "P(flush, Hands)"
   ]
  },
  {
   "cell_type": "code",
   "execution_count": null,
   "metadata": {},
   "outputs": [],
   "source": []
  }
 ],
 "metadata": {
  "kernelspec": {
   "display_name": "learn-env",
   "language": "python",
   "name": "learn-env"
  },
  "toc": {
   "base_numbering": 1,
   "nav_menu": {},
   "number_sections": true,
   "sideBar": true,
   "skip_h1_title": false,
   "title_cell": "Table of Contents",
   "title_sidebar": "Contents",
   "toc_cell": true,
   "toc_position": {},
   "toc_section_display": true,
   "toc_window_display": false
  }
 },
 "nbformat": 4,
 "nbformat_minor": 2
}
