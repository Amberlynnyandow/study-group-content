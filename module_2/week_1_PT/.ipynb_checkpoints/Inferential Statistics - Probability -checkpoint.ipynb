{
 "cells": [
  {
   "cell_type": "markdown",
   "metadata": {},
   "source": [
    "# Inferential Statistics \n",
    "1. What is it?\n",
    "2. How is it different from descriptive statistics?\n",
    "2. Why do we need it? \n",
    "\n",
    "![](http://www.z-table.com/uploads/2/1/7/9/21795380/205552900.jpg)\n",
    "\n",
    "![](https://miro.medium.com/max/1164/1*WD8uN3s7_eo1peVehPZAVA.jpeg)"
   ]
  },
  {
   "cell_type": "markdown",
   "metadata": {},
   "source": [
    "Earlier we looked at descriptive statistics: starting with a dataset and making various observations (overall shape, histogram, outliers, etc.) as well as calculations of quantities that can characterize the dataset as a whole (mean, median, mode, variance, standard deviation, quartiles, percentiles, etc.).\n",
    "\n",
    "To make the move into inferential statistics, we need to imagine now that we don't have (or anyway cannot measure) all the data of interest.\n",
    "\n",
    "And this is, of course, the typical situation. Consider:\n",
    "\n",
    "- A zoologist wanting to know the typical lifespan of a Siberian tiger\n",
    "- A cosmologist wanting to know the mass of a normal white dwarf star\n",
    "- A businesswoman wanting to know how many M&M's her customers should expect to find in their Party Size bags\n",
    "- A botanist wanting to know how tall California redwoods usually grow\n",
    "\n",
    "The zoologist could, in principle:\n",
    "\n",
    "Keep track of every currently existing Siberian tiger; record their (more or less) exact ages at their moments of death; add up those ages and divide by the number of tigers to calculate an average lifespan ––But only in principle. In all of these situations, there is no realistic or practical opportunity to check each relevant data point.\n",
    "\n",
    "![](https://pictures-of-cats.org/wp-content/uploads/2012/09/bengal-tiger-size-weight-1.jpg)\n",
    "\n",
    "What we can do, however, is to check some of the data points we want to check. That is, we'll draw a sample of data from our population of interest. We can then use the techniques of descriptive statistics to characterize our sample.\n",
    "\n",
    "Does this help? The hope, of course, is that our sample will be representative of the population as a whole, which would justify our using facts about the sample to infer things about the population as a whole. But naturally we'll expect a certain amount of error: If I take the mean of a sample,  𝑥¯  and project it as an estimate of the mean of the whole population,  𝜇 , the estimate is bound to be imperfect.\n",
    "\n",
    "Inferential statistics makes all this precise. Some of this gets fairly technical, hence the need for a whole unit on it!"
   ]
  },
  {
   "cell_type": "markdown",
   "metadata": {},
   "source": [
    "**Quick discussion question:**\n",
    "\n",
    "<details open>\n",
    "<summary>Can anyone give an example of how inferential statistics is being used in the news today?</summary>\n",
    "<br>\n",
    "1. emergency preparedness<br/>\n",
    "2. predicting illness/spread of infection <br/>\n",
    "3. political campaigns\n",
    "</details>"
   ]
  },
  {
   "cell_type": "markdown",
   "metadata": {},
   "source": [
    "# Review Set Theory \n",
    "<details open>\n",
    "<summary>Be sure to review terminology on set theory. When we are talking about events in probability, we are talking about the set of events.</summary>\n",
    "<br>\n",
    "**1. What is it?**<br/>\n",
    "A set is a collection of some items (elements). We often use capital letters to denote a set. To define a set we can simply list all the elements in curly brackets. \n",
    "\n",
    "**For example:** to define a set **A** that consists of the two elements ♣ and ♢, we write **A**={♣,♢}. To say that ♢ belongs to **A**, we write **♢∈A**, where \"∈\" is pronounced \"belongs to.\" To say that an element does not belong to a set, we use ∉. For example, we may write **♡∉A**.\n",
    "<br>\n",
    "**The symbols \"|\" and \":\" are pronounced \"such that.\"**\n",
    "\n",
    "A={x|x satisfies some property} <br/>\n",
    "**or**<br/>\n",
    "A={x:x satisfies some property}\n",
    "\n",
    "**If the set C is defined as C={x|x∈ℤ,−2≤x<10}, then C={−2,−1,0,⋯,9}.**\n",
    "\n",
    "**Inclusion-exclusion principle:**\n",
    "Note that if you want to know how many elements are in set *A* versus set  *B*, you can't simply sum up the elements, because they have elements in common.\n",
    "\n",
    "In combinational mathematics, the inclusion-exclusion principle is a counting technique that solves this problem.\n",
    "\n",
    "When having two sets, the method for counting the number of elements in the union of two finite sets is given by:\n",
    "\n",
    "|A∪B|=|A|+|B|−|A∩B|,\n",
    "\n",
    "|A∪B∪C|=|A|+|B|+|C|−|A∩B|−|A∩C|−|B∩C|+|A∩B∩C|.\n",
    "\n",
    "### Terminology\n",
    "\n",
    "**Outcome:** A result of a random experiment.<br/>\n",
    "**Universal Set:** $\\Omega$ <br/>\n",
    "**Sample Space:** The set of all possible outcomes. <br/>\n",
    "**Event:** A subset of the sample space. \n",
    "\n",
    "</details>"
   ]
  },
  {
   "cell_type": "markdown",
   "metadata": {},
   "source": [
    "## Probability Practice "
   ]
  },
  {
   "cell_type": "code",
   "execution_count": null,
   "metadata": {
    "ExecuteTime": {
     "end_time": "2020-07-20T22:19:22.536930Z",
     "start_time": "2020-07-20T22:19:22.530436Z"
    }
   },
   "outputs": [],
   "source": [
    "from fractions import Fraction\n",
    "\n",
    "def P(event, space): \n",
    "    \"The probability of an event, given a sample space.\"\n",
    "    return Fraction(cases(favorable(event, space)), \n",
    "                    cases(space))\n",
    "\n",
    "favorable = set.intersection # Outcomes that are in the event and in the sample space\n",
    "cases     = len              # The number of cases is the length, or size, of a set"
   ]
  },
  {
   "cell_type": "markdown",
   "metadata": {},
   "source": [
    "### Warm-up Problem: Die Roll\n",
    "What's the probability of rolling an even number with a single six-sided fair die? Mathematicians traditionally use a single capital letter to denote a sample space; I'll use D for the die:"
   ]
  },
  {
   "cell_type": "code",
   "execution_count": null,
   "metadata": {
    "ExecuteTime": {
     "end_time": "2020-07-20T22:20:41.951539Z",
     "start_time": "2020-07-20T22:20:41.941403Z"
    }
   },
   "outputs": [],
   "source": [
    "D     = {1, 2, 3, 4, 5, 6} # a sample space\n",
    "even  = {   2,    4,    6} # an event\n",
    "\n",
    "P(even, D)"
   ]
  },
  {
   "cell_type": "markdown",
   "metadata": {},
   "source": [
    "### Good. Let's do a few more"
   ]
  },
  {
   "cell_type": "code",
   "execution_count": null,
   "metadata": {
    "ExecuteTime": {
     "end_time": "2020-07-20T22:21:48.915774Z",
     "start_time": "2020-07-20T22:21:48.913156Z"
    }
   },
   "outputs": [],
   "source": [
    "prime = {2, 3, 5, 7, 11, 13}\n",
    "odd   = {1, 3, 5, 7, 9, 11, 13}"
   ]
  },
  {
   "cell_type": "code",
   "execution_count": null,
   "metadata": {
    "ExecuteTime": {
     "end_time": "2020-07-20T22:24:24.791970Z",
     "start_time": "2020-07-20T22:24:24.788474Z"
    }
   },
   "outputs": [],
   "source": [
    "P(odd, D)"
   ]
  },
  {
   "cell_type": "code",
   "execution_count": null,
   "metadata": {
    "ExecuteTime": {
     "end_time": "2020-07-20T22:24:44.317545Z",
     "start_time": "2020-07-20T22:24:44.313675Z"
    }
   },
   "outputs": [],
   "source": [
    "P((even | prime), D) # The probability of an even or prime die roll"
   ]
  },
  {
   "cell_type": "code",
   "execution_count": null,
   "metadata": {
    "ExecuteTime": {
     "end_time": "2020-07-20T22:24:59.981161Z",
     "start_time": "2020-07-20T22:24:59.977000Z"
    }
   },
   "outputs": [],
   "source": [
    "P((odd & prime), D) # The probability of an odd prime die roll"
   ]
  },
  {
   "cell_type": "markdown",
   "metadata": {},
   "source": [
    "**This is classic probability. The desired outcomes divided by the total number of outcomes. When dealing with classical probability keep in mind whether you have an independent or dependent event. We calculate the chances of 2 or more independent events by multiplying the probabilities of each event. For dependent events, we do the same except we must consider what event happened prior to the desired event.** "
   ]
  },
  {
   "cell_type": "markdown",
   "metadata": {},
   "source": [
    "### Card Example - Conditional Probability "
   ]
  },
  {
   "cell_type": "markdown",
   "metadata": {},
   "source": [
    "**What is the probability of drawing 2 Kings from a deck? This is a conditional probability problem. We use the following formula for conditional probability problems.**\n",
    "\n",
    "![](https://www.mathsisfun.com/data/images/probability-independent-formula1.svg)"
   ]
  },
  {
   "cell_type": "code",
   "execution_count": null,
   "metadata": {},
   "outputs": [],
   "source": []
  },
  {
   "cell_type": "markdown",
   "metadata": {},
   "source": [
    "**A derivative of the formula above is the following:** \n",
    "![](https://www.mathsisfun.com/data/images/probability-independent-formula2.gif)"
   ]
  },
  {
   "cell_type": "markdown",
   "metadata": {},
   "source": [
    "**Use the formula above to solve the following problem. 70% of your friends like Chocolate, and 35% like Chocolate AND like vanilla.**\n",
    "\n",
    "**What percent of those who like Chocolate also like vanilla?**"
   ]
  },
  {
   "cell_type": "code",
   "execution_count": null,
   "metadata": {},
   "outputs": [],
   "source": []
  },
  {
   "cell_type": "markdown",
   "metadata": {},
   "source": [
    "### Another example: \n",
    "You are in a free throw competition and you get $100 if you can make 1 basket. There are 2 options. First option is, you take 2 shots with a 2/3 probability of making it. The second option is, you take 3 shots with a 1/2 probability of making it. Which option do you choose? "
   ]
  },
  {
   "cell_type": "code",
   "execution_count": null,
   "metadata": {},
   "outputs": [],
   "source": []
  },
  {
   "cell_type": "markdown",
   "metadata": {},
   "source": [
    "## Permutations\n",
    "**An ordering of objects.** \n",
    "1. How many different ways can you could order the letters CAT?\n",
    "$n!$\n",
    "2. How many different ways can you order only 2 of the letters in CAT? \n",
    "$P_{k}^{n}= \\dfrac{n!}{(n-k)!}$\n",
    "3. What about repeats? How many different ways could we rewrite the letters in Mississippi? Divide out the duplicates. "
   ]
  },
  {
   "cell_type": "markdown",
   "metadata": {},
   "source": [
    "## Combinations\n",
    "**Order is not important** \n",
    "$C_{k}^{n}= \\dfrac{n!}{(n-k)!*k!}$"
   ]
  },
  {
   "cell_type": "markdown",
   "metadata": {},
   "source": [
    "#### Examples \n",
    "**1.** If there are 10 people on a committee. How many ways are there of choosing a President, Vice President and Secretary? \n",
    "\n",
    "**2.** If there are 30 people on your tennis team, how many ways could you choose 2 co-captains? \n",
    "\n",
    "**3.** If a board has 10 women and 7 men, how many ways can you form a committee containing 4 members such that:<br/> \n",
    "    **a.** All 4 are men? <br/>\n",
    "    **b.** 2 are men 2 are women?<br/>\n",
    "    **c.** At least 1 is a woman? "
   ]
  },
  {
   "cell_type": "markdown",
   "metadata": {},
   "source": [
    "#### Card Problems\n",
    "\n",
    "1. Count the number of possible five-card hands that can be dealt from a standard deck of 52 cards\n",
    "2. Count the number of ways that a particular type of poker hand can occur\n",
    "3. The probability of being dealt any particular type of hand is equal to the number of ways it can occur divided by the total number of possible five-card hands.\n",
    "\n",
    "Consider dealing a hand of five playing cards. An individual card has a rank and suit, like 'J♥' for the Jack of Hearts, and a deck has 52 cards:<br/>\n",
    "[Unicode documentation](https://www.linuxtopia.org/online_books/programming_books/introduction_to_python/python_tut_17.html)"
   ]
  },
  {
   "cell_type": "markdown",
   "metadata": {},
   "source": [
    "**What's the probability of being dealt a flush (5 cards of the same suit)** **:**"
   ]
  },
  {
   "cell_type": "code",
   "execution_count": null,
   "metadata": {
    "ExecuteTime": {
     "end_time": "2020-07-21T21:38:19.979688Z",
     "start_time": "2020-07-21T21:38:19.976233Z"
    }
   },
   "outputs": [],
   "source": [
    "suits = u'♥♠♦♣' \n",
    "ranks = u'AKQJT98765432'\n",
    "deck  = [r + s for r in ranks for s in suits]\n",
    "len(deck)"
   ]
  }
 ],
 "metadata": {
  "kernelspec": {
   "display_name": "learn-env",
   "language": "python",
   "name": "learn-env"
  },
  "language_info": {
   "codemirror_mode": {
    "name": "ipython",
    "version": 3
   },
   "file_extension": ".py",
   "mimetype": "text/x-python",
   "name": "python",
   "nbconvert_exporter": "python",
   "pygments_lexer": "ipython3",
   "version": "3.6.6"
  },
  "toc": {
   "base_numbering": 1,
   "nav_menu": {},
   "number_sections": true,
   "sideBar": true,
   "skip_h1_title": true,
   "title_cell": "Table of Contents",
   "title_sidebar": "Contents",
   "toc_cell": false,
   "toc_position": {},
   "toc_section_display": true,
   "toc_window_display": false
  }
 },
 "nbformat": 4,
 "nbformat_minor": 2
}
