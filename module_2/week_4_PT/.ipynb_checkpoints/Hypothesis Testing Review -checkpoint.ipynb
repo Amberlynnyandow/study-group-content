{
 "cells": [
  {
   "cell_type": "markdown",
   "metadata": {},
   "source": [
    "# Summarizing Hypothesis Testing \n"
   ]
  },
  {
   "cell_type": "markdown",
   "metadata": {
    "heading_collapsed": true
   },
   "source": [
    "## Example\n",
    "\n",
    "You are working for a TexMex restaurant that recently introduced queso to its menu.\n",
    "\n",
    "We have random samples of 1000 \"no queso\" order check totals and 1000 \"queso\" order check totals for orders made by different customers.\n",
    "\n",
    "In the cell below, we load the sample data into the arrays no_queso and queso for the \"no queso\" and \"queso\" order check totals. Then, we create histograms of the distribution of the check amounts for the \"no queso\" and \"queso\" samples.\n",
    "\n",
    "The restaurant owners want to know if customers who order queso spend significantly more or significantly less than customers who do not order queso."
   ]
  },
  {
   "cell_type": "code",
   "execution_count": null,
   "metadata": {
    "ExecuteTime": {
     "end_time": "2020-08-11T18:44:36.846363Z",
     "start_time": "2020-08-11T18:44:36.843272Z"
    },
    "hidden": true
   },
   "outputs": [],
   "source": [
    "# import the necessary libraries\n",
    "\n",
    "#data manip\n",
    "import numpy as np\n",
    "import pandas as pd \n",
    "import scipy.stats \n",
    "import statsmodels.api as sm\n",
    "\n",
    "import matplotlib.pyplot as plt\n",
    "%matplotlib inline\n",
    "\n",
    "#object import / export\n",
    "import pickle\n",
    "\n",
    "\n"
   ]
  },
  {
   "cell_type": "markdown",
   "metadata": {
    "hidden": true
   },
   "source": [
    "The assumption of normality is an important assumption for many statistical tests; you assume you are sampling from a normally distributed population. If you are not then you must attempt to make the data fit a normal distribution OR use another continuous distribution(more to come on this when we get to regression)\n",
    "\n",
    "**1. Check for normality using a histogram, QQ-plot and Kolmogorov-Smirnov test.** "
   ]
  },
  {
   "cell_type": "code",
   "execution_count": null,
   "metadata": {
    "ExecuteTime": {
     "end_time": "2020-08-11T18:28:38.312987Z",
     "start_time": "2020-08-11T18:28:38.094098Z"
    },
    "hidden": true
   },
   "outputs": [],
   "source": [
    "# Histogram check for normality \n",
    "# load the sample data \n",
    "no_queso = pickle.load(open(\"no_queso.pkl\", \"rb\"))\n",
    "queso = pickle.load(open(\"queso.pkl\", \"rb\"))\n",
    "\n",
    "# plot histograms\n",
    "\n",
    "fig, (ax1, ax2) = plt.subplots(1, 2, figsize=(12, 4))\n",
    "\n",
    "ax1.set_title('Sample of Non-Queso Check Totals')\n",
    "ax1.set_xlabel('Amount')\n",
    "ax1.set_ylabel('Frequency')\n",
    "ax1.hist(no_queso, bins=20)\n",
    "\n",
    "ax2.set_title('Sample of Queso Check Totals')\n",
    "ax2.set_xlabel('Amount')\n",
    "ax2.set_ylabel('Frequency')\n",
    "ax2.hist(queso, bins=20)\n",
    "plt.show()"
   ]
  },
  {
   "cell_type": "markdown",
   "metadata": {
    "heading_collapsed": true,
    "hidden": true
   },
   "source": [
    "### What is a QQ-Plot? "
   ]
  },
  {
   "cell_type": "markdown",
   "metadata": {
    "hidden": true
   },
   "source": [
    "The purpose of Q Q plots is to find out if two sets of data come from the same type of distribution. It is used to assess normality. \n",
    "\n",
    "[How to read a QQ-plot](https://www.statisticshowto.com/q-q-plots/)"
   ]
  },
  {
   "cell_type": "code",
   "execution_count": null,
   "metadata": {
    "ExecuteTime": {
     "end_time": "2020-08-11T18:45:02.345217Z",
     "start_time": "2020-08-11T18:45:02.200450Z"
    },
    "hidden": true
   },
   "outputs": [],
   "source": [
    "#plot QQ \n",
    "#fig = sm.qqplot(queso)\n",
    "#plt.show()\n",
    "scipy.stats.probplot(queso, dist=\"norm\", plot=plt)"
   ]
  },
  {
   "cell_type": "markdown",
   "metadata": {
    "heading_collapsed": true,
    "hidden": true
   },
   "source": [
    "### What is a Kolmogorov-Smirnov test? \n",
    "\n",
    "The Kolmogorov-Smirnov Goodness of Fit Test (K-S test) compares your data with a known distribution and lets you know if they have the same distribution. .It’s also used to check the assumption of normality in Analysis of Variance. \n",
    "\n",
    "Perform the K-S test against a normal distribution with mean = 0 and sd = 3\n",
    "If p < .05 we can reject the null hypothesis and conclude our sample distribution is not identical to a normal distribution"
   ]
  },
  {
   "cell_type": "code",
   "execution_count": null,
   "metadata": {
    "ExecuteTime": {
     "end_time": "2020-08-11T18:56:36.272219Z",
     "start_time": "2020-08-11T18:56:36.266126Z"
    },
    "hidden": true
   },
   "outputs": [],
   "source": [
    "stats.kstest(queso, 'norm', args=(0,3))"
   ]
  },
  {
   "cell_type": "markdown",
   "metadata": {
    "hidden": true
   },
   "source": [
    "<details>\n",
    "    <summary>1.3 What if our samples were not of equal size and variance? What could be done? </summary> \n",
    "    \n",
    "<text> The Welch's T-Test(instead of the classic students t-test) could be substituted. The main difference is how the Welch's T calculates degrees of freedom. \n",
    "\n",
    " $ \\Large t = \\frac{\\bar{X_1}-\\bar{X_2}}{\\sqrt{\\frac{s_1^2}{N_1} + \\frac{s_2^2}{N_2}}} = \\frac{\\bar{X_1}-\\bar{X_2}}{\\sqrt{se_1^2+se_2^2}}$\n",
    "where  \n",
    "\n",
    "* $\\bar{X_i}$ - mean of sample i\n",
    "* $s_i^2$ - variance of sample i\n",
    "* $N_i$ - sample size of sample i  \n",
    "\n",
    "</text>\n",
    "</details>"
   ]
  },
  {
   "cell_type": "markdown",
   "metadata": {
    "heading_collapsed": true,
    "hidden": true
   },
   "source": [
    "### **2. Now that we've confirmed our samples are normal and have equal variance, run a statistical test on the two samples. Use a significance level of $\\alpha = 0.05$.** "
   ]
  },
  {
   "cell_type": "markdown",
   "metadata": {
    "hidden": true
   },
   "source": [
    "<details>\n",
    "    <summary>2.1 Describe the null $H_{0}$ and alternative hypotheses $H_{A}$ for this test. </summary> \n",
    "<code> \n",
    "Null hypothesis: Customers who order queso spend the same as those who do not order queso. \n",
    "Alternative hypothesis: Customers who order queso do not spend the same as those who do not order queso. \n",
    "</code>\n",
    "</details>"
   ]
  },
  {
   "cell_type": "markdown",
   "metadata": {
    "hidden": true
   },
   "source": [
    "<details>\n",
    "    <summary>2.2 What type of statistical test(Z, T or F) should we run and why? </summary> \n",
    "    \n",
    "<text> A two-tailed t-test because t-test are typically used when we need to determine if there is a statistically significant difference between two independent sample groups. We do not know the populations SD so z-test may not be the best choice. However, n>30 so we could use a z-test. F-tests are used in ANOVA when we have 3 or more groups to compare. \n",
    "\n",
    "</text>\n",
    "</details>"
   ]
  },
  {
   "cell_type": "markdown",
   "metadata": {
    "hidden": true
   },
   "source": [
    "<details>\n",
    "    <summary>2.3 What does it mean to make Type I and Type II errors in this context? </summary> \n",
    "<code> \n",
    "Type I: (Rejecting the null hypothesis given it's true): Saying queso customers' total check amounts are different \n",
    "than non-queso customers' total check amounts when they are the same.\n",
    "\n",
    "Type II: (Failing to reject the null hypothesis given it's false): Saying queso customers' total check amounts are \n",
    "the same as non-queso customers' total check amounts when they are different.\n",
    "</code>\n",
    "</details>"
   ]
  },
  {
   "cell_type": "markdown",
   "metadata": {
    "hidden": true
   },
   "source": [
    "<details>\n",
    "    <summary>2.4 What does statistical power have to do with type errors? </summary> \n",
    "<code> \n",
    "The statistical power of a study (sometimes called sensitivity) is how likely the study is to distinguish an actual effect from one of chance. It’s the likelihood that the test is correctly rejecting the null hypothesis (i.e. “proving” your hypothesis). For example, a study that has an 80% power means that the study has an 80% chance of the test having significant results.\n",
    "\n",
    "![](https://www.statisticshowto.com/wp-content/uploads/2015/04/statistical-power.png)\n",
    "</code>\n",
    "</details>"
   ]
  },
  {
   "cell_type": "code",
   "execution_count": null,
   "metadata": {
    "ExecuteTime": {
     "end_time": "2020-08-11T21:48:55.863744Z",
     "start_time": "2020-08-11T21:48:55.856670Z"
    },
    "hidden": true
   },
   "outputs": [],
   "source": [
    "# Run a two-tailed t-test\n",
    "print(stats.ttest_ind(no_queso, queso))\n",
    "print()\n",
    "# compute the critical t-statistics for the rejection region\n",
    "critical_t = (stats.t.ppf(0.025, df=999), stats.t.ppf(0.975, df=999))\n",
    "print(critical_t)"
   ]
  },
  {
   "cell_type": "markdown",
   "metadata": {
    "hidden": true
   },
   "source": [
    "<details>\n",
    "    <summary>2.5  Can you reject the null hypothesis at a significance level of $\\alpha = 0.05$? </summary> \n",
    "<text> We have enough evidence to reject the null hypothesis \n",
    "at a significance level of alpha = 0.05. We obtain a p-value\n",
    "much smaller than 0.025 (two-tailed test). \n",
    "    \n",
    "Alternatively: \n",
    "our t-statistic is smaller than the critical t-statistic.\n",
    "\n",
    "Both answers (p-value or critical t-statistic) are valid\n",
    "\n",
    "</text>\n",
    "</details>"
   ]
  },
  {
   "cell_type": "code",
   "execution_count": null,
   "metadata": {
    "ExecuteTime": {
     "end_time": "2020-08-11T21:33:57.959919Z",
     "start_time": "2020-08-11T21:33:57.956661Z"
    },
    "hidden": true
   },
   "outputs": [],
   "source": [
    "sample_mean_no_queso = np.mean(no_queso)\n",
    "sample_mean_queso = np.mean(queso)\n",
    "sample_std = np.std(no_queso)"
   ]
  },
  {
   "cell_type": "code",
   "execution_count": null,
   "metadata": {
    "ExecuteTime": {
     "end_time": "2020-08-11T21:31:12.999815Z",
     "start_time": "2020-08-11T21:31:12.818574Z"
    },
    "hidden": true
   },
   "outputs": [],
   "source": [
    "import seaborn as sns\n",
    "plt.figure(figsize=(15, 8))\n",
    "sns.distplot(no_queso, hist=False, label='sample distribution', color='rebeccapurple')\n",
    "plt.axvline(x=sample_mean_no_queso, color='rebeccapurple', linestyle='--', label=\"sample mean from orders with no queso\")\n",
    "plt.axvline(x=sample_mean_queso, color='orange', linestyle='--', label='sample mean with queso')\n",
    "plt.xlabel(\"check totals of no queso orders\", labelpad=14)\n",
    "plt.ylabel(\"probability of occurence\", labelpad=14)\n",
    "plt.title(\"Check totals with No Queso\")\n",
    "plt.legend();"
   ]
  }
 ],
 "metadata": {
  "kernelspec": {
   "display_name": "learn-env",
   "language": "python",
   "name": "learn-env"
  },
  "language_info": {
   "codemirror_mode": {
    "name": "ipython",
    "version": 3
   },
   "file_extension": ".py",
   "mimetype": "text/x-python",
   "name": "python",
   "nbconvert_exporter": "python",
   "pygments_lexer": "ipython3",
   "version": "3.6.6"
  },
  "toc": {
   "base_numbering": 1,
   "nav_menu": {},
   "number_sections": true,
   "sideBar": true,
   "skip_h1_title": true,
   "title_cell": "Table of Contents",
   "title_sidebar": "Contents",
   "toc_cell": false,
   "toc_position": {},
   "toc_section_display": true,
   "toc_window_display": false
  }
 },
 "nbformat": 4,
 "nbformat_minor": 2
}
