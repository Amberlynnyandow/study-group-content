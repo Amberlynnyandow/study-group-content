{
 "cells": [
  {
   "cell_type": "markdown",
   "metadata": {},
   "source": [
    "# Summarizing Hypothesis Testing \n"
   ]
  },
  {
   "cell_type": "markdown",
   "metadata": {},
   "source": [
    "## Example\n",
    "\n",
    "You are working for a TexMex restaurant that recently introduced queso to its menu.\n",
    "\n",
    "We have random samples of 1000 \"no queso\" order check totals and 1000 \"queso\" order check totals for orders made by different customers.\n",
    "\n",
    "In the cell below, we load the sample data into the arrays no_queso and queso for the \"no queso\" and \"queso\" order check totals. Then, we create histograms of the distribution of the check amounts for the \"no queso\" and \"queso\" samples.\n",
    "\n",
    "The restaurant owners want to know if customers who order queso spend significantly more or significantly less than customers who do not order queso."
   ]
  },
  {
   "cell_type": "code",
   "execution_count": 6,
   "metadata": {
    "ExecuteTime": {
     "end_time": "2020-08-11T22:27:02.724949Z",
     "start_time": "2020-08-11T22:27:02.721519Z"
    }
   },
   "outputs": [],
   "source": [
    "# import the necessary libraries\n",
    "\n",
    "#data manip\n",
    "import numpy as np\n",
    "import pandas as pd \n",
    "import scipy.stats as stats\n",
    "import statsmodels.api as sm\n",
    "\n",
    "import matplotlib.pyplot as plt\n",
    "%matplotlib inline\n",
    "\n",
    "#object import / export\n",
    "import pickle\n",
    "\n",
    "\n"
   ]
  },
  {
   "cell_type": "markdown",
   "metadata": {},
   "source": [
    "The assumption of normality is an important assumption for many statistical tests; you assume you are sampling from a normally distributed population. If you are not then you must attempt to make the data fit a normal distribution OR use another continuous distribution(more to come on this when we get to regression)\n",
    "\n",
    "**1. Check for normality using a histogram, QQ-plot and Kolmogorov-Smirnov test.** "
   ]
  },
  {
   "cell_type": "code",
   "execution_count": 2,
   "metadata": {
    "ExecuteTime": {
     "end_time": "2020-08-11T22:15:40.899725Z",
     "start_time": "2020-08-11T22:15:40.624431Z"
    }
   },
   "outputs": [
    {
     "data": {
      "image/png": "[encoded data removed]",
      "text/plain": [
       "<Figure size 864x288 with 2 Axes>"
      ]
     },
     "metadata": {
      "needs_background": "light"
     },
     "output_type": "display_data"
    }
   ],
   "source": [
    "# Histogram check for normality \n",
    "# load the sample data \n",
    "no_queso = pickle.load(open(\"no_queso.pkl\", \"rb\"))\n",
    "queso = pickle.load(open(\"queso.pkl\", \"rb\"))\n",
    "\n",
    "# plot histograms\n",
    "\n",
    "fig, (ax1, ax2) = plt.subplots(1, 2, figsize=(12, 4))\n",
    "\n",
    "ax1.set_title('Sample of Non-Queso Check Totals')\n",
    "ax1.set_xlabel('Amount')\n",
    "ax1.set_ylabel('Frequency')\n",
    "ax1.hist(no_queso, bins=20)\n",
    "\n",
    "ax2.set_title('Sample of Queso Check Totals')\n",
    "ax2.set_xlabel('Amount')\n",
    "ax2.set_ylabel('Frequency')\n",
    "ax2.hist(queso, bins=20)\n",
    "plt.show()"
   ]
  },
  {
   "cell_type": "markdown",
   "metadata": {},
   "source": [
    "### What is a QQ-Plot? "
   ]
  },
  {
   "cell_type": "markdown",
   "metadata": {},
   "source": [
    "The purpose of Q Q plots is to find out if two sets of data come from the same type of distribution. It is used to assess normality. \n",
    "\n",
    "[How to read a QQ-plot](https://www.statisticshowto.com/q-q-plots/)"
   ]
  },
  {
   "cell_type": "code",
   "execution_count": 4,
   "metadata": {
    "ExecuteTime": {
     "end_time": "2020-08-11T22:24:00.078048Z",
     "start_time": "2020-08-11T22:23:59.899879Z"
    }
   },
   "outputs": [
    {
     "data": {
      "text/plain": [
       "((array([-3.19758950e+00, -2.93237785e+00, -2.78437841e+00, -2.67999560e+00,\n",
       "         -2.59855946e+00, -2.53139899e+00, -2.47402263e+00, -2.42379214e+00,\n",
       "         -2.37902149e+00, -2.33856546e+00, -2.30160949e+00, -2.26755284e+00,\n",
       "         -2.23593934e+00, -2.20641415e+00, -2.17869564e+00, -2.15255643e+00,\n",
       "         -2.12781017e+00, -2.10430217e+00, -2.08190261e+00, -2.06050135e+00,\n",
       "         -2.04000420e+00, -2.02032992e+00, -2.00140792e+00, -1.98317650e+00,\n",
       "         -1.96558137e+00, -1.94857451e+00, -1.93211325e+00, -1.91615948e+00,\n",
       "         -1.90067901e+00, -1.88564107e+00, -1.87101783e+00, -1.85678408e+00,\n",
       "         -1.84291686e+00, -1.82939524e+00, -1.81620005e+00, -1.80331371e+00,\n",
       "         -1.79072004e+00, -1.77840415e+00, -1.76635224e+00, -1.75455157e+00,\n",
       "         -1.74299028e+00, -1.73165738e+00, -1.72054262e+00, -1.70963644e+00,\n",
       "         -1.69892989e+00, -1.68841463e+00, -1.67808281e+00, -1.66792707e+00,\n",
       "         -1.65794051e+00, -1.64811661e+00, -1.63844924e+00, -1.62893261e+00,\n",
       "         -1.61956127e+00, -1.61033003e+00, -1.60123402e+00, -1.59226859e+00,\n",
       "         -1.58342935e+00, -1.57471213e+00, -1.56611295e+00, -1.55762804e+00,\n",
       "         -1.54925381e+00, -1.54098684e+00, -1.53282387e+00, -1.52476177e+00,\n",
       "         -1.51679758e+00, -1.50892845e+00, -1.50115166e+00, -1.49346462e+00,\n",
       "         -1.48586482e+00, -1.47834989e+00, -1.47091753e+00, -1.46356555e+00,\n",
       "         -1.45629184e+00, -1.44909437e+00, -1.44197119e+00, -1.43492043e+00,\n",
       "         -1.42794030e+00, -1.42102906e+00, -1.41418503e+00, -1.40740661e+00,\n",
       "         -1.40069224e+00, -1.39404044e+00, -1.38744975e+00, -1.38091878e+00,\n",
       "         -1.37444619e+00, -1.36803067e+00, -1.36167098e+00, -1.35536588e+00,\n",
       "         -1.34911421e+00, -1.34291482e+00, -1.33676663e+00, -1.33066855e+00,\n",
       "         -1.32461956e+00, -1.31861865e+00, -1.31266485e+00, -1.30675722e+00,\n",
       "         -1.30089485e+00, -1.29507686e+00, -1.28930237e+00, -1.28357055e+00,\n",
       "         -1.27788060e+00, -1.27223172e+00, -1.26662315e+00, -1.26105415e+00,\n",
       "         -1.25552398e+00, -1.25003194e+00, -1.24457735e+00, -1.23915954e+00,\n",
       "         -1.23377786e+00, -1.22843168e+00, -1.22312038e+00, -1.21784337e+00,\n",
       "         -1.21260004e+00, -1.20738985e+00, -1.20221223e+00, -1.19706664e+00,\n",
       "         -1.19195255e+00, -1.18686944e+00, -1.18181682e+00, -1.17679419e+00,\n",
       "         -1.17180107e+00, -1.16683699e+00, -1.16190151e+00, -1.15699416e+00,\n",
       "         -1.15211453e+00, -1.14726217e+00, -1.14243667e+00, -1.13763763e+00,\n",
       "         -1.13286465e+00, -1.12811734e+00, -1.12339532e+00, -1.11869822e+00,\n",
       "         -1.11402566e+00, -1.10937731e+00, -1.10475280e+00, -1.10015180e+00,\n",
       "         -1.09557397e+00, -1.09101899e+00, -1.08648653e+00, -1.08197628e+00,\n",
       "         -1.07748793e+00, -1.07302119e+00, -1.06857575e+00, -1.06415133e+00,\n",
       "         -1.05974765e+00, -1.05536442e+00, -1.05100137e+00, -1.04665824e+00,\n",
       "         -1.04233476e+00, -1.03803068e+00, -1.03374574e+00, -1.02947970e+00,\n",
       "         -1.02523232e+00, -1.02100335e+00, -1.01679256e+00, -1.01259972e+00,\n",
       "         -1.00842461e+00, -1.00426700e+00, -1.00012668e+00, -9.96003439e-01,\n",
       "         -9.91897058e-01, -9.87807334e-01, -9.83734067e-01, -9.79677056e-01,\n",
       "         -9.75636106e-01, -9.71611024e-01, -9.67601623e-01, -9.63607717e-01,\n",
       "         -9.59629122e-01, -9.55665660e-01, -9.51717154e-01, -9.47783430e-01,\n",
       "         -9.43864319e-01, -9.39959651e-01, -9.36069261e-01, -9.32192988e-01,\n",
       "         -9.28330671e-01, -9.24482153e-01, -9.20647280e-01, -9.16825898e-01,\n",
       "         -9.13017857e-01, -9.09223011e-01, -9.05441213e-01, -9.01672321e-01,\n",
       "         -8.97916193e-01, -8.94172691e-01, -8.90441678e-01, -8.86723020e-01,\n",
       "         -8.83016583e-01, -8.79322237e-01, -8.75639853e-01, -8.71969305e-01,\n",
       "         -8.68310468e-01, -8.64663218e-01, -8.61027434e-01, -8.57402996e-01,\n",
       "         -8.53789787e-01, -8.50187690e-01, -8.46596591e-01, -8.43016376e-01,\n",
       "         -8.39446935e-01, -8.35888157e-01, -8.32339934e-01, -8.28802160e-01,\n",
       "         -8.25274728e-01, -8.21757535e-01, -8.18250479e-01, -8.14753457e-01,\n",
       "         -8.11266372e-01, -8.07789123e-01, -8.04321614e-01, -8.00863750e-01,\n",
       "         -7.97415434e-01, -7.93976575e-01, -7.90547079e-01, -7.87126857e-01,\n",
       "         -7.83715817e-01, -7.80313872e-01, -7.76920933e-01, -7.73536915e-01,\n",
       "         -7.70161733e-01, -7.66795301e-01, -7.63437536e-01, -7.60088358e-01,\n",
       "         -7.56747683e-01, -7.53415433e-01, -7.50091527e-01, -7.46775888e-01,\n",
       "         -7.43468439e-01, -7.40169103e-01, -7.36877804e-01, -7.33594468e-01,\n",
       "         -7.30319022e-01, -7.27051392e-01, -7.23791507e-01, -7.20539295e-01,\n",
       "         -7.17294687e-01, -7.14057613e-01, -7.10828003e-01, -7.07605791e-01,\n",
       "         -7.04390909e-01, -7.01183291e-01, -6.97982871e-01, -6.94789584e-01,\n",
       "         -6.91603367e-01, -6.88424155e-01, -6.85251886e-01, -6.82086498e-01,\n",
       "         -6.78927930e-01, -6.75776120e-01, -6.72631010e-01, -6.69492539e-01,\n",
       "         -6.66360648e-01, -6.63235280e-01, -6.60116377e-01, -6.57003883e-01,\n",
       "         -6.53897740e-01, -6.50797893e-01, -6.47704287e-01, -6.44616868e-01,\n",
       "         -6.41535581e-01, -6.38460373e-01, -6.35391191e-01, -6.32327983e-01,\n",
       "         -6.29270697e-01, -6.26219281e-01, -6.23173684e-01, -6.20133858e-01,\n",
       "         -6.17099750e-01, -6.14071313e-01, -6.11048498e-01, -6.08031256e-01,\n",
       "         -6.05019539e-01, -6.02013299e-01, -5.99012491e-01, -5.96017067e-01,\n",
       "         -5.93026981e-01, -5.90042188e-01, -5.87062643e-01, -5.84088300e-01,\n",
       "         -5.81119115e-01, -5.78155045e-01, -5.75196045e-01, -5.72242074e-01,\n",
       "         -5.69293087e-01, -5.66349043e-01, -5.63409899e-01, -5.60475614e-01,\n",
       "         -5.57546147e-01, -5.54621458e-01, -5.51701504e-01, -5.48786247e-01,\n",
       "         -5.45875647e-01, -5.42969663e-01, -5.40068258e-01, -5.37171392e-01,\n",
       "         -5.34279026e-01, -5.31391124e-01, -5.28507646e-01, -5.25628557e-01,\n",
       "         -5.22753817e-01, -5.19883391e-01, -5.17017243e-01, -5.14155335e-01,\n",
       "         -5.11297632e-01, -5.08444099e-01, -5.05594699e-01, -5.02749399e-01,\n",
       "         -4.99908163e-01, -4.97070957e-01, -4.94237747e-01, -4.91408498e-01,\n",
       "         -4.88583178e-01, -4.85761752e-01, -4.82944188e-01, -4.80130452e-01,\n",
       "         -4.77320513e-01, -4.74514337e-01, -4.71711893e-01, -4.68913149e-01,\n",
       "         -4.66118073e-01, -4.63326634e-01, -4.60538801e-01, -4.57754542e-01,\n",
       "         -4.54973827e-01, -4.52196626e-01, -4.49422908e-01, -4.46652644e-01,\n",
       "         -4.43885803e-01, -4.41122356e-01, -4.38362274e-01, -4.35605527e-01,\n",
       "         -4.32852086e-01, -4.30101924e-01, -4.27355010e-01, -4.24611318e-01,\n",
       "         -4.21870818e-01, -4.19133483e-01, -4.16399284e-01, -4.13668196e-01,\n",
       "         -4.10940189e-01, -4.08215237e-01, -4.05493313e-01, -4.02774389e-01,\n",
       "         -4.00058440e-01, -3.97345439e-01, -3.94635359e-01, -3.91928175e-01,\n",
       "         -3.89223860e-01, -3.86522388e-01, -3.83823735e-01, -3.81127874e-01,\n",
       "         -3.78434779e-01, -3.75744427e-01, -3.73056792e-01, -3.70371848e-01,\n",
       "         -3.67689572e-01, -3.65009939e-01, -3.62332924e-01, -3.59658504e-01,\n",
       "         -3.56986653e-01, -3.54317348e-01, -3.51650566e-01, -3.48986282e-01,\n",
       "         -3.46324472e-01, -3.43665115e-01, -3.41008186e-01, -3.38353661e-01,\n",
       "         -3.35701519e-01, -3.33051736e-01, -3.30404290e-01, -3.27759157e-01,\n",
       "         -3.25116316e-01, -3.22475743e-01, -3.19837417e-01, -3.17201315e-01,\n",
       "         -3.14567416e-01, -3.11935698e-01, -3.09306138e-01, -3.06678715e-01,\n",
       "         -3.04053407e-01, -3.01430193e-01, -2.98809052e-01, -2.96189962e-01,\n",
       "         -2.93572903e-01, -2.90957852e-01, -2.88344790e-01, -2.85733695e-01,\n",
       "         -2.83124547e-01, -2.80517325e-01, -2.77912008e-01, -2.75308576e-01,\n",
       "         -2.72707009e-01, -2.70107286e-01, -2.67509388e-01, -2.64913294e-01,\n",
       "         -2.62318984e-01, -2.59726438e-01, -2.57135637e-01, -2.54546561e-01,\n",
       "         -2.51959189e-01, -2.49373504e-01, -2.46789484e-01, -2.44207112e-01,\n",
       "         -2.41626367e-01, -2.39047230e-01, -2.36469683e-01, -2.33893705e-01,\n",
       "         -2.31319279e-01, -2.28746384e-01, -2.26175004e-01, -2.23605117e-01,\n",
       "         -2.21036707e-01, -2.18469754e-01, -2.15904240e-01, -2.13340146e-01,\n",
       "         -2.10777454e-01, -2.08216145e-01, -2.05656202e-01, -2.03097605e-01,\n",
       "         -2.00540338e-01, -1.97984381e-01, -1.95429717e-01, -1.92876328e-01,\n",
       "         -1.90324196e-01, -1.87773302e-01, -1.85223630e-01, -1.82675162e-01,\n",
       "         -1.80127879e-01, -1.77581765e-01, -1.75036802e-01, -1.72492971e-01,\n",
       "         -1.69950256e-01, -1.67408640e-01, -1.64868105e-01, -1.62328633e-01,\n",
       "         -1.59790208e-01, -1.57252812e-01, -1.54716428e-01, -1.52181038e-01,\n",
       "         -1.49646627e-01, -1.47113177e-01, -1.44580670e-01, -1.42049091e-01,\n",
       "         -1.39518421e-01, -1.36988645e-01, -1.34459745e-01, -1.31931705e-01,\n",
       "         -1.29404507e-01, -1.26878136e-01, -1.24352575e-01, -1.21827806e-01,\n",
       "         -1.19303813e-01, -1.16780581e-01, -1.14258092e-01, -1.11736329e-01,\n",
       "         -1.09215277e-01, -1.06694919e-01, -1.04175238e-01, -1.01656219e-01,\n",
       "         -9.91378445e-02, -9.66200987e-02, -9.41029651e-02, -9.15864277e-02,\n",
       "         -8.90704701e-02, -8.65550762e-02, -8.40402299e-02, -8.15259149e-02,\n",
       "         -7.90121153e-02, -7.64988148e-02, -7.39859974e-02, -7.14736472e-02,\n",
       "         -6.89617480e-02, -6.64502838e-02, -6.39392387e-02, -6.14285967e-02,\n",
       "         -5.89183419e-02, -5.64084582e-02, -5.38989299e-02, -5.13897409e-02,\n",
       "         -4.88808755e-02, -4.63723177e-02, -4.38640516e-02, -4.13560616e-02,\n",
       "         -3.88483316e-02, -3.63408459e-02, -3.38335886e-02, -3.13265441e-02,\n",
       "         -2.88196964e-02, -2.63130298e-02, -2.38065286e-02, -2.13001769e-02,\n",
       "         -1.87939590e-02, -1.62878591e-02, -1.37818616e-02, -1.12759505e-02,\n",
       "         -8.77011034e-03, -6.26432519e-03, -3.75857938e-03, -1.25285717e-03,\n",
       "          1.25285717e-03,  3.75857938e-03,  6.26432519e-03,  8.77011034e-03,\n",
       "          1.12759505e-02,  1.37818616e-02,  1.62878591e-02,  1.87939590e-02,\n",
       "          2.13001769e-02,  2.38065286e-02,  2.63130298e-02,  2.88196964e-02,\n",
       "          3.13265441e-02,  3.38335886e-02,  3.63408459e-02,  3.88483316e-02,\n",
       "          4.13560616e-02,  4.38640516e-02,  4.63723177e-02,  4.88808755e-02,\n",
       "          5.13897409e-02,  5.38989299e-02,  5.64084582e-02,  5.89183419e-02,\n",
       "          6.14285967e-02,  6.39392387e-02,  6.64502838e-02,  6.89617480e-02,\n",
       "          7.14736472e-02,  7.39859974e-02,  7.64988148e-02,  7.90121153e-02,\n",
       "          8.15259149e-02,  8.40402299e-02,  8.65550762e-02,  8.90704701e-02,\n",
       "          9.15864277e-02,  9.41029651e-02,  9.66200987e-02,  9.91378445e-02,\n",
       "          1.01656219e-01,  1.04175238e-01,  1.06694919e-01,  1.09215277e-01,\n",
       "          1.11736329e-01,  1.14258092e-01,  1.16780581e-01,  1.19303813e-01,\n",
       "          1.21827806e-01,  1.24352575e-01,  1.26878136e-01,  1.29404507e-01,\n",
       "          1.31931705e-01,  1.34459745e-01,  1.36988645e-01,  1.39518421e-01,\n",
       "          1.42049091e-01,  1.44580670e-01,  1.47113177e-01,  1.49646627e-01,\n",
       "          1.52181038e-01,  1.54716428e-01,  1.57252812e-01,  1.59790208e-01,\n",
       "          1.62328633e-01,  1.64868105e-01,  1.67408640e-01,  1.69950256e-01,\n",
       "          1.72492971e-01,  1.75036802e-01,  1.77581765e-01,  1.80127879e-01,\n",
       "          1.82675162e-01,  1.85223630e-01,  1.87773302e-01,  1.90324196e-01,\n",
       "          1.92876328e-01,  1.95429717e-01,  1.97984381e-01,  2.00540338e-01,\n",
       "          2.03097605e-01,  2.05656202e-01,  2.08216145e-01,  2.10777454e-01,\n",
       "          2.13340146e-01,  2.15904240e-01,  2.18469754e-01,  2.21036707e-01,\n",
       "          2.23605117e-01,  2.26175004e-01,  2.28746384e-01,  2.31319279e-01,\n",
       "          2.33893705e-01,  2.36469683e-01,  2.39047230e-01,  2.41626367e-01,\n",
       "          2.44207112e-01,  2.46789484e-01,  2.49373504e-01,  2.51959189e-01,\n",
       "          2.54546561e-01,  2.57135637e-01,  2.59726438e-01,  2.62318984e-01,\n",
       "          2.64913294e-01,  2.67509388e-01,  2.70107286e-01,  2.72707009e-01,\n",
       "          2.75308576e-01,  2.77912008e-01,  2.80517325e-01,  2.83124547e-01,\n",
       "          2.85733695e-01,  2.88344790e-01,  2.90957852e-01,  2.93572903e-01,\n",
       "          2.96189962e-01,  2.98809052e-01,  3.01430193e-01,  3.04053407e-01,\n",
       "          3.06678715e-01,  3.09306138e-01,  3.11935698e-01,  3.14567416e-01,\n",
       "          3.17201315e-01,  3.19837417e-01,  3.22475743e-01,  3.25116316e-01,\n",
       "          3.27759157e-01,  3.30404290e-01,  3.33051736e-01,  3.35701519e-01,\n",
       "          3.38353661e-01,  3.41008186e-01,  3.43665115e-01,  3.46324472e-01,\n",
       "          3.48986282e-01,  3.51650566e-01,  3.54317348e-01,  3.56986653e-01,\n",
       "          3.59658504e-01,  3.62332924e-01,  3.65009939e-01,  3.67689572e-01,\n",
       "          3.70371848e-01,  3.73056792e-01,  3.75744427e-01,  3.78434779e-01,\n",
       "          3.81127874e-01,  3.83823735e-01,  3.86522388e-01,  3.89223860e-01,\n",
       "          3.91928175e-01,  3.94635359e-01,  3.97345439e-01,  4.00058440e-01,\n",
       "          4.02774389e-01,  4.05493313e-01,  4.08215237e-01,  4.10940189e-01,\n",
       "          4.13668196e-01,  4.16399284e-01,  4.19133483e-01,  4.21870818e-01,\n",
       "          4.24611318e-01,  4.27355010e-01,  4.30101924e-01,  4.32852086e-01,\n",
       "          4.35605527e-01,  4.38362274e-01,  4.41122356e-01,  4.43885803e-01,\n",
       "          4.46652644e-01,  4.49422908e-01,  4.52196626e-01,  4.54973827e-01,\n",
       "          4.57754542e-01,  4.60538801e-01,  4.63326634e-01,  4.66118073e-01,\n",
       "          4.68913149e-01,  4.71711893e-01,  4.74514337e-01,  4.77320513e-01,\n",
       "          4.80130452e-01,  4.82944188e-01,  4.85761752e-01,  4.88583178e-01,\n",
       "          4.91408498e-01,  4.94237747e-01,  4.97070957e-01,  4.99908163e-01,\n",
       "          5.02749399e-01,  5.05594699e-01,  5.08444099e-01,  5.11297632e-01,\n",
       "          5.14155335e-01,  5.17017243e-01,  5.19883391e-01,  5.22753817e-01,\n",
       "          5.25628557e-01,  5.28507646e-01,  5.31391124e-01,  5.34279026e-01,\n",
       "          5.37171392e-01,  5.40068258e-01,  5.42969663e-01,  5.45875647e-01,\n",
       "          5.48786247e-01,  5.51701504e-01,  5.54621458e-01,  5.57546147e-01,\n",
       "          5.60475614e-01,  5.63409899e-01,  5.66349043e-01,  5.69293087e-01,\n",
       "          5.72242074e-01,  5.75196045e-01,  5.78155045e-01,  5.81119115e-01,\n",
       "          5.84088300e-01,  5.87062643e-01,  5.90042188e-01,  5.93026981e-01,\n",
       "          5.96017067e-01,  5.99012491e-01,  6.02013299e-01,  6.05019539e-01,\n",
       "          6.08031256e-01,  6.11048498e-01,  6.14071313e-01,  6.17099750e-01,\n",
       "          6.20133858e-01,  6.23173684e-01,  6.26219281e-01,  6.29270697e-01,\n",
       "          6.32327983e-01,  6.35391191e-01,  6.38460373e-01,  6.41535581e-01,\n",
       "          6.44616868e-01,  6.47704287e-01,  6.50797893e-01,  6.53897740e-01,\n",
       "          6.57003883e-01,  6.60116377e-01,  6.63235280e-01,  6.66360648e-01,\n",
       "          6.69492539e-01,  6.72631010e-01,  6.75776120e-01,  6.78927930e-01,\n",
       "          6.82086498e-01,  6.85251886e-01,  6.88424155e-01,  6.91603367e-01,\n",
       "          6.94789584e-01,  6.97982871e-01,  7.01183291e-01,  7.04390909e-01,\n",
       "          7.07605791e-01,  7.10828003e-01,  7.14057613e-01,  7.17294687e-01,\n",
       "          7.20539295e-01,  7.23791507e-01,  7.27051392e-01,  7.30319022e-01,\n",
       "          7.33594468e-01,  7.36877804e-01,  7.40169103e-01,  7.43468439e-01,\n",
       "          7.46775888e-01,  7.50091527e-01,  7.53415433e-01,  7.56747683e-01,\n",
       "          7.60088358e-01,  7.63437536e-01,  7.66795301e-01,  7.70161733e-01,\n",
       "          7.73536915e-01,  7.76920933e-01,  7.80313872e-01,  7.83715817e-01,\n",
       "          7.87126857e-01,  7.90547079e-01,  7.93976575e-01,  7.97415434e-01,\n",
       "          8.00863750e-01,  8.04321614e-01,  8.07789123e-01,  8.11266372e-01,\n",
       "          8.14753457e-01,  8.18250479e-01,  8.21757535e-01,  8.25274728e-01,\n",
       "          8.28802160e-01,  8.32339934e-01,  8.35888157e-01,  8.39446935e-01,\n",
       "          8.43016376e-01,  8.46596591e-01,  8.50187690e-01,  8.53789787e-01,\n",
       "          8.57402996e-01,  8.61027434e-01,  8.64663218e-01,  8.68310468e-01,\n",
       "          8.71969305e-01,  8.75639853e-01,  8.79322237e-01,  8.83016583e-01,\n",
       "          8.86723020e-01,  8.90441678e-01,  8.94172691e-01,  8.97916193e-01,\n",
       "          9.01672321e-01,  9.05441213e-01,  9.09223011e-01,  9.13017857e-01,\n",
       "          9.16825898e-01,  9.20647280e-01,  9.24482153e-01,  9.28330671e-01,\n",
       "          9.32192988e-01,  9.36069261e-01,  9.39959651e-01,  9.43864319e-01,\n",
       "          9.47783430e-01,  9.51717154e-01,  9.55665660e-01,  9.59629122e-01,\n",
       "          9.63607717e-01,  9.67601623e-01,  9.71611024e-01,  9.75636106e-01,\n",
       "          9.79677056e-01,  9.83734067e-01,  9.87807334e-01,  9.91897058e-01,\n",
       "          9.96003439e-01,  1.00012668e+00,  1.00426700e+00,  1.00842461e+00,\n",
       "          1.01259972e+00,  1.01679256e+00,  1.02100335e+00,  1.02523232e+00,\n",
       "          1.02947970e+00,  1.03374574e+00,  1.03803068e+00,  1.04233476e+00,\n",
       "          1.04665824e+00,  1.05100137e+00,  1.05536442e+00,  1.05974765e+00,\n",
       "          1.06415133e+00,  1.06857575e+00,  1.07302119e+00,  1.07748793e+00,\n",
       "          1.08197628e+00,  1.08648653e+00,  1.09101899e+00,  1.09557397e+00,\n",
       "          1.10015180e+00,  1.10475280e+00,  1.10937731e+00,  1.11402566e+00,\n",
       "          1.11869822e+00,  1.12339532e+00,  1.12811734e+00,  1.13286465e+00,\n",
       "          1.13763763e+00,  1.14243667e+00,  1.14726217e+00,  1.15211453e+00,\n",
       "          1.15699416e+00,  1.16190151e+00,  1.16683699e+00,  1.17180107e+00,\n",
       "          1.17679419e+00,  1.18181682e+00,  1.18686944e+00,  1.19195255e+00,\n",
       "          1.19706664e+00,  1.20221223e+00,  1.20738985e+00,  1.21260004e+00,\n",
       "          1.21784337e+00,  1.22312038e+00,  1.22843168e+00,  1.23377786e+00,\n",
       "          1.23915954e+00,  1.24457735e+00,  1.25003194e+00,  1.25552398e+00,\n",
       "          1.26105415e+00,  1.26662315e+00,  1.27223172e+00,  1.27788060e+00,\n",
       "          1.28357055e+00,  1.28930237e+00,  1.29507686e+00,  1.30089485e+00,\n",
       "          1.30675722e+00,  1.31266485e+00,  1.31861865e+00,  1.32461956e+00,\n",
       "          1.33066855e+00,  1.33676663e+00,  1.34291482e+00,  1.34911421e+00,\n",
       "          1.35536588e+00,  1.36167098e+00,  1.36803067e+00,  1.37444619e+00,\n",
       "          1.38091878e+00,  1.38744975e+00,  1.39404044e+00,  1.40069224e+00,\n",
       "          1.40740661e+00,  1.41418503e+00,  1.42102906e+00,  1.42794030e+00,\n",
       "          1.43492043e+00,  1.44197119e+00,  1.44909437e+00,  1.45629184e+00,\n",
       "          1.46356555e+00,  1.47091753e+00,  1.47834989e+00,  1.48586482e+00,\n",
       "          1.49346462e+00,  1.50115166e+00,  1.50892845e+00,  1.51679758e+00,\n",
       "          1.52476177e+00,  1.53282387e+00,  1.54098684e+00,  1.54925381e+00,\n",
       "          1.55762804e+00,  1.56611295e+00,  1.57471213e+00,  1.58342935e+00,\n",
       "          1.59226859e+00,  1.60123402e+00,  1.61033003e+00,  1.61956127e+00,\n",
       "          1.62893261e+00,  1.63844924e+00,  1.64811661e+00,  1.65794051e+00,\n",
       "          1.66792707e+00,  1.67808281e+00,  1.68841463e+00,  1.69892989e+00,\n",
       "          1.70963644e+00,  1.72054262e+00,  1.73165738e+00,  1.74299028e+00,\n",
       "          1.75455157e+00,  1.76635224e+00,  1.77840415e+00,  1.79072004e+00,\n",
       "          1.80331371e+00,  1.81620005e+00,  1.82939524e+00,  1.84291686e+00,\n",
       "          1.85678408e+00,  1.87101783e+00,  1.88564107e+00,  1.90067901e+00,\n",
       "          1.91615948e+00,  1.93211325e+00,  1.94857451e+00,  1.96558137e+00,\n",
       "          1.98317650e+00,  2.00140792e+00,  2.02032992e+00,  2.04000420e+00,\n",
       "          2.06050135e+00,  2.08190261e+00,  2.10430217e+00,  2.12781017e+00,\n",
       "          2.15255643e+00,  2.17869564e+00,  2.20641415e+00,  2.23593934e+00,\n",
       "          2.26755284e+00,  2.30160949e+00,  2.33856546e+00,  2.37902149e+00,\n",
       "          2.42379214e+00,  2.47402263e+00,  2.53139899e+00,  2.59855946e+00,\n",
       "          2.67999560e+00,  2.78437841e+00,  2.93237785e+00,  3.19758950e+00]),\n",
       "  array([13.65052983, 14.4987349 , 14.70664829, 15.09364988, 15.18547407,\n",
       "         15.32107239, 15.35081524, 15.36369287, 15.38147285, 15.47326799,\n",
       "         15.70179675, 15.71204331, 15.71881468, 15.78648817, 15.81530616,\n",
       "         15.91993266, 15.9201895 , 15.94821923, 15.99526861, 16.01040124,\n",
       "         16.06107024, 16.10376764, 16.1661313 , 16.21401625, 16.22403651,\n",
       "         16.24816954, 16.24816954, 16.25030032, 16.33174117, 16.37639605,\n",
       "         16.37639605, 16.3833706 , 16.40103934, 16.40204624, 16.47338878,\n",
       "         16.4794471 , 16.48150259, 16.49329313, 16.49856557, 16.51006966,\n",
       "         16.51384518, 16.51952363, 16.59747742, 16.601003  , 16.61245092,\n",
       "         16.61634703, 16.63953781, 16.64798818, 16.65095777, 16.65095777,\n",
       "         16.67634877, 16.72610791, 16.77753117, 16.7841584 , 16.82874324,\n",
       "         16.84027528, 16.8682708 , 16.90464287, 16.94184721, 16.99262414,\n",
       "         17.01662189, 17.0339164 , 17.0339164 , 17.05632705, 17.07061971,\n",
       "         17.09880661, 17.10317666, 17.10981075, 17.10981075, 17.1109657 ,\n",
       "         17.14702068, 17.16705618, 17.17078739, 17.17283382, 17.18424366,\n",
       "         17.18448771, 17.199091  , 17.19994945, 17.25002509, 17.25594907,\n",
       "         17.27160448, 17.27199941, 17.28909476, 17.29383971, 17.29812065,\n",
       "         17.29812065, 17.29910567, 17.36377603, 17.37821403, 17.37843656,\n",
       "         17.39493344, 17.41674665, 17.43657168, 17.44553049, 17.45753631,\n",
       "         17.46722283, 17.4898486 , 17.49252748, 17.49962667, 17.50314276,\n",
       "         17.5160751 , 17.52817973, 17.54324992, 17.54711271, 17.54919364,\n",
       "         17.56899826, 17.5692611 , 17.5692611 , 17.56954684, 17.57739078,\n",
       "         17.58186154, 17.62079155, 17.62452806, 17.64383574, 17.6962692 ,\n",
       "         17.6962692 , 17.71050818, 17.72285286, 17.7363711 , 17.74711185,\n",
       "         17.75009037, 17.75694069, 17.76005414, 17.78066931, 17.78196518,\n",
       "         17.83650495, 17.83729608, 17.83763262, 17.8447982 , 17.84767381,\n",
       "         17.85653041, 17.85816881, 17.86654363, 17.87309423, 17.89098667,\n",
       "         17.89189522, 17.89578386, 17.90054703, 17.90352529, 17.90575468,\n",
       "         17.91411413, 17.93310059, 17.93516634, 17.94112246, 17.94997658,\n",
       "         17.9611555 , 17.96339801, 17.96384414, 17.98480622, 17.99108531,\n",
       "         17.9923129 , 17.99687604, 18.02325418, 18.03331872, 18.03756583,\n",
       "         18.03756583, 18.04219898, 18.04365436, 18.04729258, 18.05346712,\n",
       "         18.05415836, 18.07205753, 18.08263316, 18.08716661, 18.09462322,\n",
       "         18.0979636 , 18.10425805, 18.10598406, 18.11280655, 18.13748402,\n",
       "         18.14054427, 18.14262334, 18.14543642, 18.14583535, 18.1505547 ,\n",
       "         18.15316729, 18.15591149, 18.16258478, 18.16995217, 18.17821538,\n",
       "         18.1881541 , 18.2040921 , 18.21490686, 18.21725314, 18.22079415,\n",
       "         18.23249589, 18.24855671, 18.26106361, 18.26641224, 18.27013345,\n",
       "         18.27922856, 18.28537357, 18.29757387, 18.31038397, 18.32325892,\n",
       "         18.32606905, 18.32710658, 18.32718178, 18.33812042, 18.34131014,\n",
       "         18.34207135, 18.36359133, 18.37770676, 18.4109398 , 18.4171497 ,\n",
       "         18.41960531, 18.42342418, 18.43288561, 18.43394938, 18.43856718,\n",
       "         18.44516158, 18.48954461, 18.50444977, 18.50981279, 18.50981279,\n",
       "         18.59078333, 18.59339512, 18.5947252 , 18.59618475, 18.60695855,\n",
       "         18.60695855, 18.60887343, 18.61553304, 18.62273965, 18.63921122,\n",
       "         18.63921122, 18.65440447, 18.65650714, 18.66021184, 18.66021184,\n",
       "         18.66046632, 18.66636158, 18.66749225, 18.66749225, 18.6773417 ,\n",
       "         18.67761435, 18.68021741, 18.68021741, 18.69344514, 18.7009033 ,\n",
       "         18.71995485, 18.73421447, 18.74785501, 18.75254767, 18.75926711,\n",
       "         18.76584477, 18.78500536, 18.7860022 , 18.82128713, 18.82378226,\n",
       "         18.82896889, 18.83041053, 18.83156974, 18.85086118, 18.86548483,\n",
       "         18.86548483, 18.86938861, 18.87204771, 18.8742956 , 18.87444134,\n",
       "         18.87776179, 18.8868536 , 18.88929966, 18.89007699, 18.8910575 ,\n",
       "         18.90349804, 18.90532298, 18.91783233, 18.93245569, 18.93245569,\n",
       "         18.93520138, 18.93826138, 18.9612321 , 18.9612321 , 18.97044156,\n",
       "         18.97651979, 18.98029002, 18.98528729, 18.98768013, 18.99592205,\n",
       "         18.99700805, 19.00317116, 19.01705905, 19.02025688, 19.02306321,\n",
       "         19.02344986, 19.02598209, 19.03429324, 19.04249772, 19.04649928,\n",
       "         19.04649928, 19.04662155, 19.05591169, 19.05591169, 19.05728898,\n",
       "         19.06992393, 19.07443731, 19.07630939, 19.07994235, 19.0801575 ,\n",
       "         19.08205955, 19.08388913, 19.08393323, 19.09241117, 19.09333362,\n",
       "         19.0988345 , 19.1006225 , 19.11325502, 19.12104412, 19.12650135,\n",
       "         19.12781092, 19.12892417, 19.13340171, 19.1658763 , 19.16883799,\n",
       "         19.17287725, 19.17761289, 19.1777378 , 19.18011333, 19.18246573,\n",
       "         19.18295455, 19.1832676 , 19.1832676 , 19.19088728, 19.19692644,\n",
       "         19.20709949, 19.20883218, 19.21525375, 19.2190581 , 19.22964799,\n",
       "         19.23658427, 19.23814882, 19.2460241 , 19.25306231, 19.2551301 ,\n",
       "         19.25531862, 19.25574627, 19.2591765 , 19.26100229, 19.27811563,\n",
       "         19.27907654, 19.28041082, 19.28093942, 19.29728342, 19.29787829,\n",
       "         19.29883772, 19.30098219, 19.30369414, 19.3065353 , 19.31470961,\n",
       "         19.3259543 , 19.33255256, 19.33255256, 19.33668698, 19.34856394,\n",
       "         19.35517059, 19.3586181 , 19.35927524, 19.36549187, 19.37510654,\n",
       "         19.38576206, 19.38687908, 19.39509475, 19.40076903, 19.40552902,\n",
       "         19.40707469, 19.40859415, 19.41317788, 19.42296697, 19.42331651,\n",
       "         19.42906851, 19.4379886 , 19.44617163, 19.45120616, 19.45631603,\n",
       "         19.45654531, 19.45964952, 19.46044487, 19.46352326, 19.46843419,\n",
       "         19.48400873, 19.4990573 , 19.50033489, 19.51053114, 19.51304723,\n",
       "         19.52557581, 19.54663533, 19.54697551, 19.55986114, 19.56810266,\n",
       "         19.57466072, 19.57907895, 19.58476377, 19.58882193, 19.60064071,\n",
       "         19.60468402, 19.60781268, 19.61491472, 19.61608943, 19.6213881 ,\n",
       "         19.6232313 , 19.62981045, 19.63113194, 19.63168764, 19.63185319,\n",
       "         19.65984473, 19.66298341, 19.66615297, 19.6686264 , 19.6722011 ,\n",
       "         19.67530943, 19.67860475, 19.6839419 , 19.68620814, 19.68620814,\n",
       "         19.68645148, 19.68645148, 19.6934558 , 19.6945075 , 19.69953301,\n",
       "         19.70407449, 19.70528257, 19.70988598, 19.71015327, 19.71115976,\n",
       "         19.71313218, 19.72641691, 19.73249942, 19.73319075, 19.7411647 ,\n",
       "         19.74289088, 19.74507657, 19.74628006, 19.764585  , 19.764585  ,\n",
       "         19.77519506, 19.78308784, 19.78308784, 19.78961922, 19.78961922,\n",
       "         19.79411903, 19.79876508, 19.81486762, 19.81546362, 19.81546362,\n",
       "         19.81770793, 19.82917331, 19.83801381, 19.8432444 , 19.8475618 ,\n",
       "         19.84797688, 19.8484696 , 19.87768883, 19.88957927, 19.88995219,\n",
       "         19.8915414 , 19.89241165, 19.89938391, 19.90409443, 19.90418185,\n",
       "         19.90871793, 19.90871793, 19.91049334, 19.91551368, 19.9176511 ,\n",
       "         19.92051962, 19.92571877, 19.93942711, 19.94238963, 19.94707797,\n",
       "         19.94976102, 19.9607514 , 19.96386502, 19.96401525, 19.97119623,\n",
       "         19.97195319, 19.98014856, 19.98014856, 19.98362438, 19.9882093 ,\n",
       "         19.99376256, 19.99834542, 20.00153461, 20.00228993, 20.00366664,\n",
       "         20.00768734, 20.01792608, 20.03075902, 20.03536139, 20.03975463,\n",
       "         20.04834391, 20.0491104 , 20.08087223, 20.08114747, 20.08114747,\n",
       "         20.08372887, 20.08609148, 20.08901165, 20.09435277, 20.1060308 ,\n",
       "         20.1061543 , 20.11274454, 20.11299704, 20.12169836, 20.1236503 ,\n",
       "         20.12840299, 20.12898218, 20.13113424, 20.13813882, 20.14066682,\n",
       "         20.14703346, 20.14761855, 20.15068564, 20.16732761, 20.16732761,\n",
       "         20.1789019 , 20.17980042, 20.18055906, 20.18105556, 20.18691496,\n",
       "         20.18828654, 20.19226479, 20.19752536, 20.19752536, 20.23673182,\n",
       "         20.23701121, 20.24924989, 20.25149904, 20.26477705, 20.26613608,\n",
       "         20.26613608, 20.26654267, 20.29258474, 20.29389022, 20.2950183 ,\n",
       "         20.29514194, 20.29717932, 20.31398513, 20.31953737, 20.31989896,\n",
       "         20.32616936, 20.32778694, 20.32961264, 20.33391071, 20.34058307,\n",
       "         20.34321203, 20.35900477, 20.36246988, 20.36246988, 20.37132995,\n",
       "         20.37712582, 20.38053994, 20.38778033, 20.39453233, 20.39577071,\n",
       "         20.39577071, 20.39915474, 20.40229779, 20.40539691, 20.4066734 ,\n",
       "         20.40735078, 20.41139425, 20.41139425, 20.42511018, 20.42581548,\n",
       "         20.42681288, 20.42974054, 20.43231609, 20.43460754, 20.44320326,\n",
       "         20.44860212, 20.46642083, 20.48477647, 20.48828564, 20.48908252,\n",
       "         20.49207597, 20.49545383, 20.49878098, 20.50562962, 20.50562962,\n",
       "         20.5074394 , 20.50855506, 20.50877402, 20.51241827, 20.51360657,\n",
       "         20.51896899, 20.52946671, 20.53307236, 20.54849079, 20.55088483,\n",
       "         20.56080375, 20.56657047, 20.57020357, 20.57613202, 20.57881021,\n",
       "         20.57883631, 20.57943082, 20.58261075, 20.58414814, 20.58491577,\n",
       "         20.58978241, 20.59376312, 20.59388838, 20.60310088, 20.60563315,\n",
       "         20.6057742 , 20.60870978, 20.61203212, 20.61261137, 20.6180478 ,\n",
       "         20.62030415, 20.62082989, 20.62263197, 20.62452759, 20.62578142,\n",
       "         20.63118259, 20.63165872, 20.63376744, 20.63885532, 20.63951352,\n",
       "         20.64173559, 20.64342418, 20.64676199, 20.65193432, 20.65308473,\n",
       "         20.65465371, 20.66044909, 20.66400815, 20.66519602, 20.6666365 ,\n",
       "         20.67377304, 20.68395412, 20.68960377, 20.69665364, 20.70179038,\n",
       "         20.70302146, 20.70524743, 20.71293788, 20.71401158, 20.72643163,\n",
       "         20.73350415, 20.74096877, 20.76208262, 20.76257442, 20.76705029,\n",
       "         20.78766339, 20.79143843, 20.7919327 , 20.79221652, 20.79586952,\n",
       "         20.81132916, 20.81840909, 20.82732358, 20.82975202, 20.83252303,\n",
       "         20.83488683, 20.83968986, 20.84818309, 20.8493497 , 20.8493497 ,\n",
       "         20.84970536, 20.87643084, 20.88263201, 20.89018538, 20.8902807 ,\n",
       "         20.89109634, 20.89972931, 20.90796685, 20.91098711, 20.9114624 ,\n",
       "         20.91594254, 20.91836855, 20.91836855, 20.9185071 , 20.92298103,\n",
       "         20.92964808, 20.93288403, 20.94028492, 20.94271629, 20.94359305,\n",
       "         20.94525277, 20.95466293, 20.95833266, 20.96269579, 20.96689128,\n",
       "         20.98923772, 20.99637717, 20.99978111, 21.00831033, 21.00955642,\n",
       "         21.0130074 , 21.03559139, 21.0392079 , 21.0414223 , 21.04487844,\n",
       "         21.04487844, 21.05339355, 21.05635221, 21.06875426, 21.073227  ,\n",
       "         21.08215324, 21.0853786 , 21.08621077, 21.08783648, 21.10190156,\n",
       "         21.10844997, 21.11294117, 21.11865856, 21.12151814, 21.12417904,\n",
       "         21.12502229, 21.13945092, 21.15302059, 21.15765604, 21.16412219,\n",
       "         21.17159538, 21.17960352, 21.18240471, 21.18469295, 21.19421907,\n",
       "         21.21704286, 21.22178592, 21.22226908, 21.2350903 , 21.24123726,\n",
       "         21.24125195, 21.25370119, 21.25437638, 21.27382898, 21.27382898,\n",
       "         21.27452176, 21.27645076, 21.27880171, 21.28573356, 21.28573356,\n",
       "         21.28746377, 21.28746377, 21.31614782, 21.31614782, 21.31722025,\n",
       "         21.31727164, 21.32028684, 21.32520234, 21.32542327, 21.32846532,\n",
       "         21.33284223, 21.33284223, 21.33367039, 21.33750742, 21.34613048,\n",
       "         21.35496297, 21.35950272, 21.36281221, 21.36281221, 21.38091834,\n",
       "         21.38196436, 21.38622493, 21.40406524, 21.41422366, 21.4196737 ,\n",
       "         21.4196737 , 21.42078998, 21.42244685, 21.42301789, 21.42394592,\n",
       "         21.42731132, 21.42927489, 21.43064125, 21.43618496, 21.43658038,\n",
       "         21.4435538 , 21.45633716, 21.46508589, 21.47822153, 21.48803377,\n",
       "         21.4949787 , 21.50133943, 21.50564386, 21.51295982, 21.51295982,\n",
       "         21.51570579, 21.51594258, 21.52045044, 21.5205384 , 21.52561791,\n",
       "         21.52847065, 21.53190947, 21.55415381, 21.5567301 , 21.5567301 ,\n",
       "         21.57381295, 21.58683557, 21.58996627, 21.60580612, 21.61113189,\n",
       "         21.61485414, 21.61661465, 21.61985995, 21.62042257, 21.62178997,\n",
       "         21.62178997, 21.63024792, 21.63142065, 21.63384959, 21.65946296,\n",
       "         21.66363473, 21.66562787, 21.66578432, 21.66578432, 21.66708958,\n",
       "         21.66708958, 21.67715224, 21.67836288, 21.68889707, 21.70866146,\n",
       "         21.71466632, 21.71852028, 21.71901472, 21.73263734, 21.73463244,\n",
       "         21.73806396, 21.76540611, 21.77491467, 21.79538821, 21.81199257,\n",
       "         21.82606171, 21.82853152, 21.82853152, 21.83591558, 21.84284635,\n",
       "         21.85997954, 21.86009634, 21.86300018, 21.86954717, 21.87372741,\n",
       "         21.87428236, 21.87513283, 21.88434331, 21.88823055, 21.89434111,\n",
       "         21.89765853, 21.90448086, 21.9077587 , 21.93242378, 21.93839651,\n",
       "         21.93978227, 21.94639976, 21.99011064, 22.00915209, 22.01486567,\n",
       "         22.01631367, 22.02073651, 22.02507957, 22.02801213, 22.02979156,\n",
       "         22.03461388, 22.04059674, 22.04598303, 22.05636236, 22.05636236,\n",
       "         22.08307659, 22.10246444, 22.10632748, 22.10790621, 22.12602132,\n",
       "         22.12602132, 22.1323641 , 22.14506588, 22.16345175, 22.17041827,\n",
       "         22.20487025, 22.22829263, 22.23586773, 22.23599675, 22.25052899,\n",
       "         22.25681716, 22.27038408, 22.27134112, 22.27703692, 22.30128895,\n",
       "         22.33759272, 22.33804642, 22.34704416, 22.34968951, 22.36895813,\n",
       "         22.37173724, 22.38626703, 22.38819793, 22.42730007, 22.45204671,\n",
       "         22.48134541, 22.48590901, 22.48656577, 22.49307249, 22.50460259,\n",
       "         22.50615622, 22.5123332 , 22.51846791, 22.52692609, 22.54690789,\n",
       "         22.56501617, 22.58323058, 22.58509101, 22.58565173, 22.61895511,\n",
       "         22.62092976, 22.62507086, 22.65256716, 22.65297613, 22.66725549,\n",
       "         22.66725549, 22.68131733, 22.69304789, 22.69980868, 22.70021032,\n",
       "         22.7131654 , 22.7158868 , 22.72444395, 22.76556738, 22.77034996,\n",
       "         22.77136929, 22.77170096, 22.77170096, 22.78370445, 22.7958576 ,\n",
       "         22.79863397, 22.82605049, 22.84590928, 22.85714407, 22.86933435,\n",
       "         22.88399426, 22.89099303, 22.9090713 , 22.92266704, 22.93027699,\n",
       "         22.93895422, 22.94704798, 23.00237347, 23.01753675, 23.05116118,\n",
       "         23.06923449, 23.06999193, 23.07694575, 23.08598432, 23.10132113,\n",
       "         23.11120961, 23.11579547, 23.13122232, 23.14509976, 23.15748962,\n",
       "         23.16827985, 23.18098639, 23.18272129, 23.1918496 , 23.20604822,\n",
       "         23.206395  , 23.22723663, 23.24789576, 23.29801202, 23.30142363,\n",
       "         23.30625413, 23.33674881, 23.43777789, 23.50562156, 23.53721728,\n",
       "         23.54636246, 23.57397681, 23.57572768, 23.60430993, 23.60883165,\n",
       "         23.68799761, 23.77357026, 23.78290383, 23.81906803, 23.86234975,\n",
       "         23.88819448, 23.94936132, 23.99491885, 23.99491885, 23.99983332,\n",
       "         24.0022939 , 24.03099683, 24.07779873, 24.09779885, 24.15181034,\n",
       "         24.18523658, 24.19270936, 24.20955096, 24.25792231, 24.28880413,\n",
       "         24.41773973, 24.43706903, 24.52706282, 24.52842952, 24.52842952,\n",
       "         24.57158486, 24.72339676, 25.12164216, 26.19381896, 26.28028481])),\n",
       " (1.9321042896839868, 20.047532509358607, 0.9993946699920891))"
      ]
     },
     "execution_count": 4,
     "metadata": {},
     "output_type": "execute_result"
    },
    {
     "data": {
      "image/png": "[encoded data removed]",
      "text/plain": [
       "<Figure size 432x288 with 1 Axes>"
      ]
     },
     "metadata": {
      "needs_background": "light"
     },
     "output_type": "display_data"
    }
   ],
   "source": [
    "#plot QQ \n",
    "#fig = sm.qqplot(queso)\n",
    "#plt.show()\n",
    "scipy.stats.probplot(no_queso, dist=\"norm\", plot=plt)"
   ]
  },
  {
   "cell_type": "markdown",
   "metadata": {},
   "source": [
    "### What is a Kolmogorov-Smirnov test? \n",
    "\n",
    "The Kolmogorov-Smirnov Goodness of Fit Test (K-S test) compares your data with a known distribution and lets you know if they have the same distribution. .It’s also used to check the assumption of normality in Analysis of Variance. \n",
    "\n",
    "Perform the K-S test against a normal distribution with mean = 0 and sd = 3\n",
    "If p < .05 we can reject the null hypothesis and conclude our sample distribution is not identical to a normal distribution"
   ]
  },
  {
   "cell_type": "code",
   "execution_count": 7,
   "metadata": {
    "ExecuteTime": {
     "end_time": "2020-08-11T22:27:08.736069Z",
     "start_time": "2020-08-11T22:27:08.730291Z"
    }
   },
   "outputs": [
    {
     "data": {
      "text/plain": [
       "KstestResult(statistic=0.999999999188678, pvalue=0.0)"
      ]
     },
     "execution_count": 7,
     "metadata": {},
     "output_type": "execute_result"
    }
   ],
   "source": [
    "stats.kstest(queso, 'norm', args=(0,3))"
   ]
  },
  {
   "cell_type": "markdown",
   "metadata": {},
   "source": [
    "<details>\n",
    "    <summary>1.3 What if our samples were not of equal size and variance? What could be done? </summary> \n",
    "    \n",
    "<text> The Welch's T-Test(instead of the classic students t-test) could be substituted. The main difference is how the Welch's T calculates degrees of freedom. \n",
    "\n",
    " $ \\Large t = \\frac{\\bar{X_1}-\\bar{X_2}}{\\sqrt{\\frac{s_1^2}{N_1} + \\frac{s_2^2}{N_2}}} = \\frac{\\bar{X_1}-\\bar{X_2}}{\\sqrt{se_1^2+se_2^2}}$\n",
    "where  \n",
    "\n",
    "* $\\bar{X_i}$ - mean of sample i\n",
    "* $s_i^2$ - variance of sample i\n",
    "* $N_i$ - sample size of sample i  \n",
    "\n",
    "</text>\n",
    "</details>"
   ]
  },
  {
   "cell_type": "markdown",
   "metadata": {},
   "source": [
    "### **2. Now that we've confirmed our samples are normal and have equal variance, run a statistical test on the two samples. Use a significance level of $\\alpha = 0.05$.** "
   ]
  },
  {
   "cell_type": "markdown",
   "metadata": {},
   "source": [
    "<details>\n",
    "    <summary>2.1 Describe the null $H_{0}$ and alternative hypotheses $H_{A}$ for this test. </summary> \n",
    "<code> \n",
    "Null hypothesis: Customers who order queso spend the same as those who do not order queso. \n",
    "Alternative hypothesis: Customers who order queso do not spend the same as those who do not order queso. \n",
    "</code>\n",
    "</details>"
   ]
  },
  {
   "cell_type": "markdown",
   "metadata": {},
   "source": [
    "<details>\n",
    "    <summary>2.2 What type of statistical test(Z, T or F) should we run and why? </summary> \n",
    "    \n",
    "<text> A two-tailed t-test because t-test are typically used when we need to determine if there is a statistically significant difference between two independent sample groups. We do not know the populations SD so z-test may not be the best choice. However, n>30 so we could use a z-test. F-tests are used in ANOVA when we have 3 or more groups to compare. \n",
    "\n",
    "</text>\n",
    "</details>"
   ]
  },
  {
   "cell_type": "markdown",
   "metadata": {},
   "source": [
    "<details>\n",
    "    <summary>2.3 What does it mean to make Type I and Type II errors in this context? </summary> \n",
    "<code> \n",
    "Type I: (Rejecting the null hypothesis given it's true): Saying queso customers' total check amounts are different \n",
    "than non-queso customers' total check amounts when they are the same.\n",
    "\n",
    "Type II: (Failing to reject the null hypothesis given it's false): Saying queso customers' total check amounts are \n",
    "the same as non-queso customers' total check amounts when they are different.\n",
    "</code>\n",
    "</details>"
   ]
  },
  {
   "cell_type": "markdown",
   "metadata": {},
   "source": [
    "<details>\n",
    "    <summary>2.4 What does statistical power have to do with type errors? </summary> \n",
    "<code> \n",
    "The statistical power of a study (sometimes called sensitivity OR Recall) is how likely the study is to distinguish an actual effect from one of chance. It’s the likelihood that the test is correctly rejecting the null hypothesis (i.e. “proving” your hypothesis). For example, a study that has an 80% power means that the study has an 80% chance of the test having significant results.\n",
    "\n",
    "![](https://www.statisticshowto.com/wp-content/uploads/2015/04/statistical-power.png)\n",
    "</code>\n",
    "</details>"
   ]
  },
  {
   "cell_type": "code",
   "execution_count": 8,
   "metadata": {
    "ExecuteTime": {
     "end_time": "2020-08-11T22:49:41.234756Z",
     "start_time": "2020-08-11T22:49:41.229435Z"
    }
   },
   "outputs": [
    {
     "name": "stdout",
     "output_type": "stream",
     "text": [
      "Ttest_indResult(statistic=-45.16857748646329, pvalue=1.29670967092511e-307)\n",
      "\n",
      "(-1.962341461133449, 1.9623414611334487)\n"
     ]
    }
   ],
   "source": [
    "# Run a two-tailed t-test\n",
    "print(stats.ttest_ind(no_queso, queso))\n",
    "print()\n",
    "# compute the critical t-statistics for the rejection region\n",
    "critical_t = (stats.t.ppf(0.025, df=999), stats.t.ppf(0.975, df=999))\n",
    "print(critical_t)"
   ]
  },
  {
   "cell_type": "markdown",
   "metadata": {},
   "source": [
    "<details>\n",
    "    <summary>2.5  Can you reject the null hypothesis at a significance level of $\\alpha = 0.05$? </summary> \n",
    "<text> We have enough evidence to reject the null hypothesis \n",
    "at a significance level of alpha = 0.05. We obtain a p-value\n",
    "much smaller than 0.025 (two-tailed test). \n",
    "    \n",
    "Alternatively: \n",
    "our t-statistic is smaller than the critical t-statistic.\n",
    "\n",
    "Both answers (p-value or critical t-statistic) are valid\n",
    "\n",
    "</text>\n",
    "</details>"
   ]
  },
  {
   "cell_type": "code",
   "execution_count": 9,
   "metadata": {
    "ExecuteTime": {
     "end_time": "2020-08-11T23:00:29.324708Z",
     "start_time": "2020-08-11T23:00:29.321701Z"
    }
   },
   "outputs": [],
   "source": [
    "sample_mean_no_queso = np.mean(no_queso)\n",
    "sample_mean_queso = np.mean(queso)\n",
    "sample_std = np.std(no_queso)"
   ]
  },
  {
   "cell_type": "code",
   "execution_count": 10,
   "metadata": {
    "ExecuteTime": {
     "end_time": "2020-08-11T23:00:30.354154Z",
     "start_time": "2020-08-11T23:00:30.044303Z"
    }
   },
   "outputs": [
    {
     "name": "stderr",
     "output_type": "stream",
     "text": [
      "/Users/amberyandow/anaconda3/envs/learn-env/lib/python3.6/site-packages/scipy/stats/stats.py:1713: FutureWarning: Using a non-tuple sequence for multidimensional indexing is deprecated; use `arr[tuple(seq)]` instead of `arr[seq]`. In the future this will be interpreted as an array index, `arr[np.array(seq)]`, which will result either in an error or a different result.\n",
      "  return np.add.reduce(sorted[indexer] * weights, axis=axis) / sumval\n"
     ]
    },
    {
     "data": {
      "image/png": "[encoded data removed]",
      "text/plain": [
       "<Figure size 1080x576 with 1 Axes>"
      ]
     },
     "metadata": {
      "needs_background": "light"
     },
     "output_type": "display_data"
    }
   ],
   "source": [
    "import seaborn as sns\n",
    "plt.figure(figsize=(15, 8))\n",
    "sns.distplot(no_queso, hist=False, label='sample distribution', color='rebeccapurple')\n",
    "plt.axvline(x=sample_mean_no_queso, color='rebeccapurple', linestyle='--', label=\"sample mean from orders with no queso\")\n",
    "plt.axvline(x=sample_mean_queso, color='orange', linestyle='--', label='sample mean with queso')\n",
    "plt.xlabel(\"check totals of no queso orders\", labelpad=14)\n",
    "plt.ylabel(\"probability of occurence\", labelpad=14)\n",
    "plt.title(\"Check totals with No Queso\")\n",
    "plt.legend();"
   ]
  },
  {
   "cell_type": "code",
   "execution_count": null,
   "metadata": {},
   "outputs": [],
   "source": []
  }
 ],
 "metadata": {
  "kernelspec": {
   "display_name": "learn-env",
   "language": "python",
   "name": "learn-env"
  },
  "language_info": {
   "codemirror_mode": {
    "name": "ipython",
    "version": 3
   },
   "file_extension": ".py",
   "mimetype": "text/x-python",
   "name": "python",
   "nbconvert_exporter": "python",
   "pygments_lexer": "ipython3",
   "version": "3.6.6"
  },
  "toc": {
   "base_numbering": 1,
   "nav_menu": {},
   "number_sections": true,
   "sideBar": true,
   "skip_h1_title": true,
   "title_cell": "Table of Contents",
   "title_sidebar": "Contents",
   "toc_cell": false,
   "toc_position": {},
   "toc_section_display": true,
   "toc_window_display": false
  }
 },
 "nbformat": 4,
 "nbformat_minor": 2
}
