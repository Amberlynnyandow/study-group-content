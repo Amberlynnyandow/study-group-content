{
 "cells": [
  {
   "cell_type": "markdown",
   "metadata": {},
   "source": [
    "<h1>Summary Stats -Table of Contents<span class=\"tocSkip\"></span></h1>\n",
    "<div class=\"toc\"><ul class=\"toc-item\"><li><span><a href=\"#Central-Tendency\" data-toc-modified-id=\"Central-Tendency-1\"><span class=\"toc-item-num\">1&nbsp;&nbsp;</span>Central Tendency</a></span><ul class=\"toc-item\"><li><span><a href=\"#Mean\" data-toc-modified-id=\"Mean-1.1\"><span class=\"toc-item-num\">1.1&nbsp;&nbsp;</span>Mean</a></span><ul class=\"toc-item\"><li><span><a href=\"#🧠-Knowledge-Check:-Coding-from-scratch\" data-toc-modified-id=\"🧠-Knowledge-Check:-Coding-from-scratch-1.1.1\"><span class=\"toc-item-num\">1.1.1&nbsp;&nbsp;</span>🧠 Knowledge Check: Coding from scratch</a></span></li></ul></li><li><span><a href=\"#Median\" data-toc-modified-id=\"Median-1.2\"><span class=\"toc-item-num\">1.2&nbsp;&nbsp;</span>Median</a></span></li></ul></li><li><span><a href=\"#Dispersion\" data-toc-modified-id=\"Dispersion-2\"><span class=\"toc-item-num\">2&nbsp;&nbsp;</span>Dispersion</a></span><ul class=\"toc-item\"><li><span><a href=\"#Variance-and-Standard-Deviation\" data-toc-modified-id=\"Variance-and-Standard-Deviation-2.1\"><span class=\"toc-item-num\">2.1&nbsp;&nbsp;</span>Variance and Standard Deviation</a></span><ul class=\"toc-item\"><li><span><a href=\"#🧠-Knowledge-Check:-Why-do-we-square-it?\" data-toc-modified-id=\"🧠-Knowledge-Check:-Why-do-we-square-it?-2.1.1\"><span class=\"toc-item-num\">2.1.1&nbsp;&nbsp;</span>🧠 Knowledge Check: Why do we square it?</a></span></li><li><span><a href=\"#Coding-it\" data-toc-modified-id=\"Coding-it-2.1.2\"><span class=\"toc-item-num\">2.1.2&nbsp;&nbsp;</span>Coding it</a></span></li></ul></li><li><span><a href=\"#Visualizing\" data-toc-modified-id=\"Visualizing-2.2\"><span class=\"toc-item-num\">2.2&nbsp;&nbsp;</span>Visualizing</a></span></li></ul></li><li><span><a href=\"#Covariance-&amp;-Correlation\" data-toc-modified-id=\"Covariance-&amp;-Correlation-3\"><span class=\"toc-item-num\">3&nbsp;&nbsp;</span>Covariance &amp; Correlation</a></span><ul class=\"toc-item\"><li><span><a href=\"#Covariance-is-Variance-Between-2-Variables\" data-toc-modified-id=\"Covariance-is-Variance-Between-2-Variables-3.1\"><span class=\"toc-item-num\">3.1&nbsp;&nbsp;</span>Covariance is Variance Between 2 Variables</a></span></li><li><span><a href=\"#Correlation-is-Covariance-Scaled\" data-toc-modified-id=\"Correlation-is-Covariance-Scaled-3.2\"><span class=\"toc-item-num\">3.2&nbsp;&nbsp;</span>Correlation is Covariance Scaled</a></span></li></ul></li></ul></div>"
   ]
  },
  {
   "cell_type": "code",
   "execution_count": 2,
   "metadata": {},
   "outputs": [],
   "source": [
    "'''Each pyplot function makes some change to a figure: e.g., \n",
    "creates a figure, creates a plotting area in a figure, \n",
    "plots some lines in a plotting area, decorates the plot with labels, etc.'''\n",
    "import matplotlib.pyplot as plt \n",
    "import numpy as np\n",
    "%matplotlib inline "
   ]
  },
  {
   "cell_type": "markdown",
   "metadata": {},
   "source": [
    "# Central Tendency\n",
    "- First type of summary measure."
   ]
  },
  {
   "cell_type": "markdown",
   "metadata": {},
   "source": [
    "We want to be able to \"summarize\" the data as an overall value (Beware of _[datasaurus set](https://www.autodeskresearch.com/publications/samestats)_)"
   ]
  },
  {
   "cell_type": "code",
   "execution_count": 3,
   "metadata": {},
   "outputs": [
    {
     "data": {
      "image/png": "[encoded data removed]",
      "text/plain": [
       "<Figure size 432x288 with 1 Axes>"
      ]
     },
     "metadata": {
      "needs_background": "light"
     },
     "output_type": "display_data"
    }
   ],
   "source": [
    "x = [54, 54, 54, 55, 56, 57, 57, 58, 58, 60, 60, 54, 54, 54, 55, 56, 57, 57, \n",
    "     58, 58, 60]\n",
    "plt.hist(x, bins=5)\n",
    "plt.title(\"Retirement Ages\")\n",
    "plt.show()"
   ]
  },
  {
   "cell_type": "markdown",
   "metadata": {},
   "source": [
    "## Mean \n",
    "- Average or a sample or population. Must only be used on interval data. Sensitive to outliers. "
   ]
  },
  {
   "cell_type": "code",
   "execution_count": 6,
   "metadata": {},
   "outputs": [
    {
     "data": {
      "text/plain": [
       "56.476190476190474"
      ]
     },
     "execution_count": 6,
     "metadata": {},
     "output_type": "execute_result"
    }
   ],
   "source": [
    "x_mean = np.mean(x)\n",
    "x_mean"
   ]
  },
  {
   "cell_type": "code",
   "execution_count": 5,
   "metadata": {},
   "outputs": [
    {
     "data": {
      "image/png": "[encoded data removed]",
      "text/plain": [
       "<Figure size 432x288 with 1 Axes>"
      ]
     },
     "metadata": {
      "needs_background": "light"
     },
     "output_type": "display_data"
    }
   ],
   "source": [
    "plt.hist(x, bins=5)\n",
    "plt.axvline(x_mean, color='red')\n",
    "plt.title(\"Retirement Ages\")\n",
    "plt.show()"
   ]
  },
  {
   "cell_type": "markdown",
   "metadata": {},
   "source": [
    "### 🧠 Knowledge Check: Coding from scratch\n",
    "How would you code this from scratch?"
   ]
  },
  {
   "cell_type": "code",
   "execution_count": 9,
   "metadata": {},
   "outputs": [],
   "source": [
    "def mean(x):\n",
    "    print(sum(x)/len(x))"
   ]
  },
  {
   "cell_type": "code",
   "execution_count": 10,
   "metadata": {},
   "outputs": [
    {
     "name": "stdout",
     "output_type": "stream",
     "text": [
      "56.476190476190474\n"
     ]
    }
   ],
   "source": [
    "mean(x)"
   ]
  },
  {
   "cell_type": "markdown",
   "metadata": {},
   "source": [
    "<details>\n",
    "    <summary>Example Solution</summary> \n",
    "<code> \n",
    "def mean(x):\n",
    "    return sum(x)/len(x)\n",
    "</code>\n",
    "</details>"
   ]
  },
  {
   "cell_type": "markdown",
   "metadata": {},
   "source": [
    "## Median\n",
    "- The middle value. Helpful if a dataset has many outliers. "
   ]
  },
  {
   "cell_type": "code",
   "execution_count": 12,
   "metadata": {},
   "outputs": [
    {
     "data": {
      "text/plain": [
       "57.0"
      ]
     },
     "execution_count": 12,
     "metadata": {},
     "output_type": "execute_result"
    }
   ],
   "source": [
    "x_median = np.median(x)\n",
    "x_median"
   ]
  },
  {
   "cell_type": "code",
   "execution_count": 14,
   "metadata": {},
   "outputs": [
    {
     "data": {
      "image/png": "[encoded data removed]",
      "text/plain": [
       "<Figure size 432x288 with 1 Axes>"
      ]
     },
     "metadata": {
      "needs_background": "light"
     },
     "output_type": "display_data"
    }
   ],
   "source": [
    "plt.hist(x, bins=5)\n",
    "plt.axvline(x_mean, color='red')\n",
    "plt.axvline(x_median, color='yellow')\n",
    "plt.title(\"Retirement Ages\")\n",
    "plt.show()"
   ]
  },
  {
   "cell_type": "markdown",
   "metadata": {},
   "source": [
    "> More robust than the mean"
   ]
  },
  {
   "cell_type": "code",
   "execution_count": 15,
   "metadata": {},
   "outputs": [
    {
     "name": "stdout",
     "output_type": "stream",
     "text": [
      "Means: 59.36363636363637 56.476190476190474\n",
      "Median: 57.0 57.0\n"
     ]
    }
   ],
   "source": [
    "# Adding in an outlier\n",
    "outlier = 120\n",
    "x_mean_outlier = np.mean(x+[outlier])\n",
    "print('Means:', x_mean_outlier, x_mean)\n",
    "\n",
    "x_median_outlier = np.median(x+[outlier])\n",
    "print('Median:', x_median_outlier,x_median)"
   ]
  },
  {
   "cell_type": "code",
   "execution_count": 16,
   "metadata": {},
   "outputs": [
    {
     "data": {
      "image/png": "[encoded data removed]",
      "text/plain": [
       "<Figure size 432x288 with 1 Axes>"
      ]
     },
     "metadata": {
      "needs_background": "light"
     },
     "output_type": "display_data"
    }
   ],
   "source": [
    "plt.hist(x, bins=5)\n",
    "plt.axvline(x_mean_outlier, color='red')\n",
    "plt.axvline(x_mean, color='red', linestyle='--')\n",
    "plt.axvline(x_median_outlier, color='yellow')\n",
    "plt.axvline(x_median, color='yellow', linestyle='--')\n",
    "plt.title(\"Retirement Ages\")\n",
    "plt.show()"
   ]
  },
  {
   "cell_type": "markdown",
   "metadata": {},
   "source": [
    "# Dispersion\n",
    "- Second type of summary measure \n",
    "- This can tell you how much the values differ from each other or how spread out the values are. How would you measure that?"
   ]
  },
  {
   "cell_type": "markdown",
   "metadata": {},
   "source": [
    "## Variance and Standard Deviation\n",
    "\n",
    "![](https://www.biologyforlife.com/uploads/2/2/3/9/22392738/sd2_orig.png)"
   ]
  },
  {
   "cell_type": "markdown",
   "metadata": {},
   "source": [
    "Variance (standard deviation squared) is the average of the squared differences from the Mean. It will show the spread of the values. Below is our formula:\n",
    "\n",
    "$$ \\sigma^2 = \\frac{1}{N} \\sum{(x-\\bar{x})^2}$$"
   ]
  },
  {
   "cell_type": "markdown",
   "metadata": {},
   "source": [
    "### 🧠 Knowledge Check: Why do we square it?\n",
    "[math is fun](https://www.mathsisfun.com/data/standard-deviation.html#WhySquare)"
   ]
  },
  {
   "cell_type": "code",
   "execution_count": 17,
   "metadata": {},
   "outputs": [],
   "source": [
    "# An example of how this could be written\n",
    "def variance(number_list):\n",
    "    avg = mean(number_list)\n",
    "    var = sum((x_n - avg)**2 for x_n in x) / len(number_list)\n",
    "    return var"
   ]
  },
  {
   "cell_type": "code",
   "execution_count": 18,
   "metadata": {},
   "outputs": [
    {
     "name": "stdout",
     "output_type": "stream",
     "text": [
      "56.476190476190474\n"
     ]
    },
    {
     "ename": "TypeError",
     "evalue": "unsupported operand type(s) for -: 'int' and 'NoneType'",
     "output_type": "error",
     "traceback": [
      "\u001b[0;31m---------------------------------------------------------------------------\u001b[0m",
      "\u001b[0;31mTypeError\u001b[0m                                 Traceback (most recent call last)",
      "\u001b[0;32m<ipython-input-18-fb964e795e81>\u001b[0m in \u001b[0;36m<module>\u001b[0;34m\u001b[0m\n\u001b[0;32m----> 1\u001b[0;31m \u001b[0mvariance\u001b[0m\u001b[0;34m(\u001b[0m\u001b[0mx\u001b[0m\u001b[0;34m)\u001b[0m\u001b[0;34m\u001b[0m\u001b[0;34m\u001b[0m\u001b[0m\n\u001b[0m",
      "\u001b[0;32m<ipython-input-17-8f7e9720beac>\u001b[0m in \u001b[0;36mvariance\u001b[0;34m(number_list)\u001b[0m\n\u001b[1;32m      2\u001b[0m \u001b[0;32mdef\u001b[0m \u001b[0mvariance\u001b[0m\u001b[0;34m(\u001b[0m\u001b[0mnumber_list\u001b[0m\u001b[0;34m)\u001b[0m\u001b[0;34m:\u001b[0m\u001b[0;34m\u001b[0m\u001b[0;34m\u001b[0m\u001b[0m\n\u001b[1;32m      3\u001b[0m     \u001b[0mavg\u001b[0m \u001b[0;34m=\u001b[0m \u001b[0mmean\u001b[0m\u001b[0;34m(\u001b[0m\u001b[0mnumber_list\u001b[0m\u001b[0;34m)\u001b[0m\u001b[0;34m\u001b[0m\u001b[0;34m\u001b[0m\u001b[0m\n\u001b[0;32m----> 4\u001b[0;31m     \u001b[0mvar\u001b[0m \u001b[0;34m=\u001b[0m \u001b[0msum\u001b[0m\u001b[0;34m(\u001b[0m\u001b[0;34m(\u001b[0m\u001b[0mx_n\u001b[0m \u001b[0;34m-\u001b[0m \u001b[0mavg\u001b[0m\u001b[0;34m)\u001b[0m\u001b[0;34m**\u001b[0m\u001b[0;36m2\u001b[0m \u001b[0;32mfor\u001b[0m \u001b[0mx_n\u001b[0m \u001b[0;32min\u001b[0m \u001b[0mx\u001b[0m\u001b[0;34m)\u001b[0m \u001b[0;34m/\u001b[0m \u001b[0mlen\u001b[0m\u001b[0;34m(\u001b[0m\u001b[0mnumber_list\u001b[0m\u001b[0;34m)\u001b[0m\u001b[0;34m\u001b[0m\u001b[0;34m\u001b[0m\u001b[0m\n\u001b[0m\u001b[1;32m      5\u001b[0m     \u001b[0;32mreturn\u001b[0m \u001b[0mvar\u001b[0m\u001b[0;34m\u001b[0m\u001b[0;34m\u001b[0m\u001b[0m\n",
      "\u001b[0;32m<ipython-input-17-8f7e9720beac>\u001b[0m in \u001b[0;36m<genexpr>\u001b[0;34m(.0)\u001b[0m\n\u001b[1;32m      2\u001b[0m \u001b[0;32mdef\u001b[0m \u001b[0mvariance\u001b[0m\u001b[0;34m(\u001b[0m\u001b[0mnumber_list\u001b[0m\u001b[0;34m)\u001b[0m\u001b[0;34m:\u001b[0m\u001b[0;34m\u001b[0m\u001b[0;34m\u001b[0m\u001b[0m\n\u001b[1;32m      3\u001b[0m     \u001b[0mavg\u001b[0m \u001b[0;34m=\u001b[0m \u001b[0mmean\u001b[0m\u001b[0;34m(\u001b[0m\u001b[0mnumber_list\u001b[0m\u001b[0;34m)\u001b[0m\u001b[0;34m\u001b[0m\u001b[0;34m\u001b[0m\u001b[0m\n\u001b[0;32m----> 4\u001b[0;31m     \u001b[0mvar\u001b[0m \u001b[0;34m=\u001b[0m \u001b[0msum\u001b[0m\u001b[0;34m(\u001b[0m\u001b[0;34m(\u001b[0m\u001b[0mx_n\u001b[0m \u001b[0;34m-\u001b[0m \u001b[0mavg\u001b[0m\u001b[0;34m)\u001b[0m\u001b[0;34m**\u001b[0m\u001b[0;36m2\u001b[0m \u001b[0;32mfor\u001b[0m \u001b[0mx_n\u001b[0m \u001b[0;32min\u001b[0m \u001b[0mx\u001b[0m\u001b[0;34m)\u001b[0m \u001b[0;34m/\u001b[0m \u001b[0mlen\u001b[0m\u001b[0;34m(\u001b[0m\u001b[0mnumber_list\u001b[0m\u001b[0;34m)\u001b[0m\u001b[0;34m\u001b[0m\u001b[0;34m\u001b[0m\u001b[0m\n\u001b[0m\u001b[1;32m      5\u001b[0m     \u001b[0;32mreturn\u001b[0m \u001b[0mvar\u001b[0m\u001b[0;34m\u001b[0m\u001b[0;34m\u001b[0m\u001b[0m\n",
      "\u001b[0;31mTypeError\u001b[0m: unsupported operand type(s) for -: 'int' and 'NoneType'"
     ]
    }
   ],
   "source": [
    "variance(x)"
   ]
  },
  {
   "cell_type": "markdown",
   "metadata": {},
   "source": [
    "## Visualizations \n",
    "* Histograms\n",
    "* Box plots \n",
    "* Violin Plots"
   ]
  },
  {
   "cell_type": "code",
   "execution_count": 21,
   "metadata": {},
   "outputs": [],
   "source": [
    "import seaborn as sb\n",
    "\n",
    "def draw_3_plots(nums):\n",
    "    fig = plt.figure(figsize=(16,16))\n",
    "    fig.subplots_adjust(hspace=0.1, wspace=0.4)\n",
    "\n",
    "    # We'll draw this out all at once\n",
    "    for i in range(1, 4):\n",
    "        ax = fig.add_subplot(2, 3, i)\n",
    "        if i % 3 == 1:\n",
    "            plt.hist(nums, bins=3)\n",
    "        elif i % 3 == 2:\n",
    "            plt.boxplot(nums)\n",
    "        else:\n",
    "            sb.violinplot(nums)\n"
   ]
  },
  {
   "cell_type": "code",
   "execution_count": 20,
   "metadata": {},
   "outputs": [
    {
     "name": "stdout",
     "output_type": "stream",
     "text": [
      "[54, 54, 54, 55, 56, 57, 57, 58, 58, 60, 60, 54, 54, 54, 55, 56, 57, 57, 58, 58, 60]\n"
     ]
    }
   ],
   "source": [
    "print(x)"
   ]
  },
  {
   "cell_type": "code",
   "execution_count": 22,
   "metadata": {},
   "outputs": [
    {
     "data": {
      "image/png": "[encoded data removed]",
      "text/plain": [
       "<Figure size 1152x1152 with 3 Axes>"
      ]
     },
     "metadata": {
      "needs_background": "light"
     },
     "output_type": "display_data"
    }
   ],
   "source": [
    "draw_3_plots(x)"
   ]
  },
  {
   "cell_type": "code",
   "execution_count": 23,
   "metadata": {},
   "outputs": [
    {
     "data": {
      "image/png": "[encoded data removed]",
      "text/plain": [
       "<Figure size 1152x1152 with 3 Axes>"
      ]
     },
     "metadata": {
      "needs_background": "light"
     },
     "output_type": "display_data"
    }
   ],
   "source": [
    "# With an outlier\n",
    "draw_3_plots(x+[110])"
   ]
  },
  {
   "cell_type": "markdown",
   "metadata": {},
   "source": [
    "# Covariance & Correlation\n",
    "- Third type of summary measure, the measure of association. This measures the relationships between the elements. \n",
    "- We'll cover this in more detail when we go over [linear regression](../../DataScienceBasics/LinearRegression/linear_regressions_and_simple_relatiohsips.ipynb). Covariance is used to determine how much two random variables vary together, whereas correlation is used to determine when a change in one variable can result in a change in another.\n",
    "    \n",
    "    **Think about Sales, Profits and Labor**"
   ]
  },
  {
   "cell_type": "markdown",
   "metadata": {},
   "source": [
    "## Covariance is Variance Between 2 Variables\n",
    "$$\\sigma_{XY} = \\dfrac{1}{n}\\displaystyle\\sum_{i=1}^{n}(x_i -\\mu_x)(y_i - \\mu_y)$$"
   ]
  },
  {
   "cell_type": "markdown",
   "metadata": {},
   "source": [
    "## Correlation is Covariance - Scaled \n",
    "Multiple ways though a common one is Pearson's $r$ coefficient\n",
    "\n",
    "$$ r = \\frac{\\sum_{i=1}^{n}(x_i -\\mu_x)(y_i - \\mu_y)} {\\sqrt{\\sum_{i=1}^{n}(x_i - \\mu_x)^2 \\sum_{i=1}^{n}(y_i-\\mu_y)^2}}$$"
   ]
  },
  {
   "cell_type": "code",
   "execution_count": null,
   "metadata": {},
   "outputs": [],
   "source": []
  }
 ],
 "metadata": {
  "kernelspec": {
   "display_name": "learn-env",
   "language": "python",
   "name": "learn-env"
  },
  "language_info": {
   "codemirror_mode": {
    "name": "ipython",
    "version": 3
   },
   "file_extension": ".py",
   "mimetype": "text/x-python",
   "name": "python",
   "nbconvert_exporter": "python",
   "pygments_lexer": "ipython3",
   "version": "3.7.3"
  }
 },
 "nbformat": 4,
 "nbformat_minor": 2
}
