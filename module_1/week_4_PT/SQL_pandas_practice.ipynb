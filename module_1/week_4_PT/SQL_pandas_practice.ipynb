{
 "cells": [
  {
   "cell_type": "markdown",
   "metadata": {},
   "source": [
    "## SQL/Pandas - Practice \n",
    "[Good resource for common SQL conventions](https://wiki.easyvista.com/xwiki/bin/view/Documentation/SQL+rules)\n",
    "\n",
    "[Awesome Netflix article on the roles of a Data Scientist](https://netflixtechblog.com/notebook-innovation-591ee3221233)\n",
    "\n",
    "**Basic SQL commands:**\n",
    "- Construct SQL queries\n",
    "- Use JOIN to merge tables along logical columns\n",
    "- Grouping Data with SQL\n",
    "- Construct SQL queries\n",
    "\n",
    "SELECT\n",
    "\n",
    "FROM\n",
    "\n",
    "WHERE\n",
    "\n",
    "GROUP BY\n",
    "\n",
    "ORDER BY\n",
    "\n",
    "LIMIT\n",
    "\n",
    "**Options for each:**\n",
    "\n",
    "Select: DISTINCT, using AS to rename columns, single number aggregates, COUNT() to count, * for \"all\"\n",
    "\n",
    "From: also uses aliasing with AS\n",
    "\n",
    "Where: =, BETWEEN, IN, wildcards with %, AND, OR, NOT pattern matching with LIKE and ILIKE\n",
    "\n",
    "Order by: ASC and DESC\n",
    "\n",
    "Limit: #\n",
    "\n",
    "**Here are some SELECT statements. We truncate results with LIMIT, and filter them with WHERE. We use DISTINCT to remove duplicated results.**\n",
    "\n",
    "|                      SQL                     |                 Pandas                |\n",
    "|:--------------------------------------------:|:-------------------------------------:|\n",
    "| select * from airports                       | airports                              |\n",
    "| select * from airports limit 3               | airports.head(3)                      |\n",
    "| select id from airports where ident = 'KLAX' | airports[airports.ident == 'KLAX'].id |\n",
    "| select distinct type from airport            | airports.type.unique()                |\n"
   ]
  },
  {
   "cell_type": "code",
   "execution_count": null,
   "metadata": {
    "ExecuteTime": {
     "end_time": "2020-06-23T21:30:26.405788Z",
     "start_time": "2020-06-23T21:30:25.871514Z"
    }
   },
   "outputs": [],
   "source": [
    "import pandas as pd\n",
    "import sqlite3\n",
    "\n",
    "con = sqlite3.connect('flights.db')\n",
    "cursor = con.cursor()\n"
   ]
  },
  {
   "cell_type": "markdown",
   "metadata": {},
   "source": [
    "## Question 1: Selecting with multiple conditions \n",
    "**Select all airports that are of the 'seaplane_base' type in the 'US-CA' region. Do this in SQL and Pandas.**\n"
   ]
  },
  {
   "cell_type": "code",
   "execution_count": null,
   "metadata": {},
   "outputs": [],
   "source": []
  },
  {
   "cell_type": "code",
   "execution_count": null,
   "metadata": {},
   "outputs": [],
   "source": []
  },
  {
   "cell_type": "markdown",
   "metadata": {},
   "source": [
    "## Question 2: Order By \n",
    "**Select all from airport-frequency where airport_indent = 'KLAX' and put in descending order. Do this in SQL and Pandas.** "
   ]
  },
  {
   "cell_type": "code",
   "execution_count": null,
   "metadata": {},
   "outputs": [],
   "source": []
  },
  {
   "cell_type": "code",
   "execution_count": null,
   "metadata": {},
   "outputs": [],
   "source": []
  },
  {
   "cell_type": "markdown",
   "metadata": {},
   "source": [
    "## Question 3: In - Not In \n",
    "**Select all from airports where type is in 'heliport' and 'balloonport'. Also, do the opposite, instead of in - do not in.** "
   ]
  },
  {
   "cell_type": "code",
   "execution_count": null,
   "metadata": {},
   "outputs": [],
   "source": []
  },
  {
   "cell_type": "code",
   "execution_count": null,
   "metadata": {},
   "outputs": [],
   "source": []
  },
  {
   "cell_type": "markdown",
   "metadata": {},
   "source": [
    "## Question 4: Group By\n",
    "**Select 'iso_country' and 'type' from airports, then group by these columns AND order by these columns. You might want to look up the difference between SQL and Pandas for the method count().**"
   ]
  },
  {
   "cell_type": "code",
   "execution_count": null,
   "metadata": {},
   "outputs": [],
   "source": []
  },
  {
   "cell_type": "code",
   "execution_count": null,
   "metadata": {},
   "outputs": [],
   "source": []
  },
  {
   "cell_type": "markdown",
   "metadata": {},
   "source": [
    "## Question 5: Join \n",
    "\n",
    "**(INNER) JOIN:** Returns records that have matching values in both tables<br>\n",
    "**LEFT (OUTER) JOIN:** Returns all records from the left table, and the matched records from the right table<br>\n",
    "**RIGHT (OUTER) JOIN:** Returns all records from the right table, and the matched records from the left table<br>\n",
    "**FULL (OUTER) JOIN:** Returns all records when there is a match in either left or right table\n",
    "\n",
    "![](https://i.pinimg.com/originals/bc/0c/8b/bc0c8ba4d12051502a68bade9bba4bc5.png)\n",
    "\n",
    "**How can we join all 3 of our dfs? In SQL and Pandas.** "
   ]
  },
  {
   "cell_type": "code",
   "execution_count": null,
   "metadata": {},
   "outputs": [],
   "source": []
  },
  {
   "cell_type": "code",
   "execution_count": null,
   "metadata": {},
   "outputs": [],
   "source": []
  }
 ],
 "metadata": {
  "kernelspec": {
   "display_name": "learn-env",
   "language": "python",
   "name": "learn-env"
  },
  "language_info": {
   "codemirror_mode": {
    "name": "ipython",
    "version": 3
   },
   "file_extension": ".py",
   "mimetype": "text/x-python",
   "name": "python",
   "nbconvert_exporter": "python",
   "pygments_lexer": "ipython3",
   "version": "3.6.6"
  },
  "toc": {
   "base_numbering": 1,
   "nav_menu": {},
   "number_sections": true,
   "sideBar": true,
   "skip_h1_title": true,
   "title_cell": "Table of Contents",
   "title_sidebar": "Contents",
   "toc_cell": false,
   "toc_position": {},
   "toc_section_display": true,
   "toc_window_display": false
  }
 },
 "nbformat": 4,
 "nbformat_minor": 2
}
