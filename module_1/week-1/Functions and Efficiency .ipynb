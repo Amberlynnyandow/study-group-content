{
 "cells": [
  {
   "cell_type": "markdown",
   "metadata": {
    "toc": true
   },
   "source": [
    "<h1>Table of Contents<span class=\"tocSkip\"></span></h1>\n",
    "<div class=\"toc\"><ul class=\"toc-item\"><li><span><a href=\"#Functions-and-Efficiency\" data-toc-modified-id=\"Functions-and-Efficiency-1\"><span class=\"toc-item-num\">1&nbsp;&nbsp;</span>Functions and Efficiency</a></span><ul class=\"toc-item\"><li><span><a href=\"#Objective\" data-toc-modified-id=\"Objective-1.1\"><span class=\"toc-item-num\">1.1&nbsp;&nbsp;</span>Objective</a></span><ul class=\"toc-item\"><li><span><a href=\"#List-Comprehensions\" data-toc-modified-id=\"List-Comprehensions-1.1.1\"><span class=\"toc-item-num\">1.1.1&nbsp;&nbsp;</span>List Comprehensions</a></span></li><li><span><a href=\"#Nested-Structures\" data-toc-modified-id=\"Nested-Structures-1.1.2\"><span class=\"toc-item-num\">1.1.2&nbsp;&nbsp;</span>Nested Structures</a></span></li><li><span><a href=\"#Functions\" data-toc-modified-id=\"Functions-1.1.3\"><span class=\"toc-item-num\">1.1.3&nbsp;&nbsp;</span>Functions</a></span></li><li><span><a href=\"#Lambda-Expressions\" data-toc-modified-id=\"Lambda-Expressions-1.1.4\"><span class=\"toc-item-num\">1.1.4&nbsp;&nbsp;</span>Lambda Expressions</a></span></li></ul></li></ul></li></ul></div>"
   ]
  },
  {
   "cell_type": "markdown",
   "metadata": {},
   "source": [
    "# Functions and Efficiency "
   ]
  },
  {
   "cell_type": "markdown",
   "metadata": {},
   "source": [
    "## Objective\n",
    "Learn how to write functions and understand the tools available in python to write more efficient code\n",
    "\n",
    "* List Comprehensions  \n",
    "* Nested structures \n",
    "* Functions "
   ]
  },
  {
   "cell_type": "markdown",
   "metadata": {},
   "source": [
    "### List Comprehensions \n",
    "\n",
    "List comprehensions are generally more compact and faster than normal functions and loops for creating lists. They consist of brackets containing the expression, which is executed for each element along with the for loop to iterate over each element.\n",
    "\n",
    "* *__list comprehension with a conditional statement__* \n",
    "\n",
    "[ expression for item in list if conditional ]\n",
    "\n",
    "'''Give me that for this collection in this situation'''"
   ]
  },
  {
   "cell_type": "code",
   "execution_count": null,
   "metadata": {},
   "outputs": [],
   "source": [
    "'''Lets take these 2 lists and write a program that returns a list that\n",
    "   contains only the elements that are common between the 2 lists\n",
    "   (no duplicates)'''\n",
    "\n",
    "thor_2_cast = ['Chris Hemsworth', 'Natalie Portman', 'Tom Hiddleston',\n",
    "               'Kat Dennings', 'Anthony Hopkins','Jaimie Alexander',\n",
    "               'Idris Elba']\n",
    "ragnarok_cast = ['Chris Hemsworth', 'Tessa Thompson', 'Cate Blanchett',\n",
    "                 'Tom Hiddleston', 'Mark Ruffalo', 'Jeff Goldblum',\n",
    "                 'Karl Urban', 'Idris Elba', 'Anthony Hopkins']"
   ]
  },
  {
   "cell_type": "code",
   "execution_count": null,
   "metadata": {},
   "outputs": [],
   "source": [
    "#both_casts = []\n",
    "\n",
    "#for x in thor_2_cast:\n",
    "    #if x in ragnarok_cast:\n",
    "        #both_casts.append(x)\n",
    "        \n",
    "#print(both_casts)"
   ]
  },
  {
   "cell_type": "code",
   "execution_count": null,
   "metadata": {},
   "outputs": [],
   "source": [
    "both_casts = list(set(thor_2_cast) & set(ragnarok_cast))\n",
    "both_casts"
   ]
  },
  {
   "cell_type": "code",
   "execution_count": 1,
   "metadata": {
    "ExecuteTime": {
     "end_time": "2020-08-19T23:41:38.166045Z",
     "start_time": "2020-08-19T23:40:55.302516Z"
    }
   },
   "outputs": [
    {
     "name": "stdout",
     "output_type": "stream",
     "text": [
      "Collecting plotly\n",
      "  Downloading plotly-4.9.0-py2.py3-none-any.whl (12.9 MB)\n",
      "\u001b[K     |████████████████████████████████| 12.9 MB 2.3 MB/s eta 0:00:01\n",
      "\u001b[?25hCollecting retrying>=1.3.3\n",
      "  Downloading retrying-1.3.3.tar.gz (10 kB)\n",
      "Requirement already satisfied: six in /Users/amberyandow/anaconda3/lib/python3.7/site-packages (from plotly) (1.12.0)\n",
      "Building wheels for collected packages: retrying\n",
      "  Building wheel for retrying (setup.py) ... \u001b[?25ldone\n",
      "\u001b[?25h  Created wheel for retrying: filename=retrying-1.3.3-py3-none-any.whl size=11429 sha256=5770e3e098d27a39255c28228bed0e6b170a7830a9fcc0ad6c3069fe6ecb0666\n",
      "  Stored in directory: /Users/amberyandow/Library/Caches/pip/wheels/f9/8d/8d/f6af3f7f9eea3553bc2fe6d53e4b287dad18b06a861ac56ddf\n",
      "Successfully built retrying\n",
      "Installing collected packages: retrying, plotly\n",
      "Successfully installed plotly-4.9.0 retrying-1.3.3\n",
      "\u001b[33mWARNING: You are using pip version 20.1; however, version 20.2.2 is available.\n",
      "You should consider upgrading via the '/Users/amberyandow/anaconda3/bin/python -m pip install --upgrade pip' command.\u001b[0m\n"
     ]
    }
   ],
   "source": [
    "!pip install plotly"
   ]
  },
  {
   "cell_type": "code",
   "execution_count": null,
   "metadata": {},
   "outputs": [],
   "source": [
    "both_casts = [x for x in thor_2_cast if x in ragnarok_cast]\n",
    "print(both_casts)"
   ]
  },
  {
   "cell_type": "markdown",
   "metadata": {},
   "source": [
    "### Nested Structures \n",
    "\n",
    "This is how we can store more information while still maintaining structure. "
   ]
  },
  {
   "cell_type": "code",
   "execution_count": 1,
   "metadata": {
    "ExecuteTime": {
     "end_time": "2020-09-01T20:41:08.557916Z",
     "start_time": "2020-09-01T20:41:08.549611Z"
    }
   },
   "outputs": [],
   "source": [
    "players = {\n",
    "    'L. Messi': {\n",
    "        'age': 31,\n",
    "        'nationality': 'Argentina',\n",
    "        'teams': ['Barcelona']\n",
    "    },\n",
    "    'Cristiano Ronaldo': {\n",
    "        'age': 33,\n",
    "        'nationality': 'Portugal',\n",
    "        'teams': ['Juventus', 'Real Madrid', 'Manchester United']\n",
    "    },\n",
    "    'Neymar Jr': {\n",
    "        'age': 26,\n",
    "        'nationality': 'Brazil',\n",
    "        'teams': ['Santos', 'Barcelona', 'Paris Saint-German']\n",
    "    },\n",
    "    'De Gea': {\n",
    "        'age': 27,\n",
    "        'nationality': 'Spain',\n",
    "        'teams': ['Atletico Madrid', 'Manchester United']\n",
    "    },\n",
    "    'K. De Bruyne': {\n",
    "        'age': 27,\n",
    "        'nationality': 'Belgium',\n",
    "        'teams': ['Chelsea', 'Manchester City']\n",
    "    }\n",
    "}"
   ]
  },
  {
   "cell_type": "code",
   "execution_count": 2,
   "metadata": {
    "ExecuteTime": {
     "end_time": "2020-09-01T20:41:09.334170Z",
     "start_time": "2020-09-01T20:41:09.331299Z"
    }
   },
   "outputs": [
    {
     "name": "stdout",
     "output_type": "stream",
     "text": [
      "Spain\n"
     ]
    }
   ],
   "source": [
    "#How can we print De Gea'/s nationality?\n",
    "print(players['De Gea']['nationality'])"
   ]
  },
  {
   "cell_type": "markdown",
   "metadata": {},
   "source": [
    "Create a list of all the keys in the players dictionary. Store the list of player names in a variable called player_names to use in the next question."
   ]
  },
  {
   "cell_type": "code",
   "execution_count": 3,
   "metadata": {
    "ExecuteTime": {
     "end_time": "2020-09-01T20:41:12.217257Z",
     "start_time": "2020-09-01T20:41:12.208811Z"
    }
   },
   "outputs": [
    {
     "data": {
      "text/plain": [
       "['L. Messi', 'Cristiano Ronaldo', 'Neymar Jr', 'De Gea', 'K. De Bruyne']"
      ]
     },
     "execution_count": 3,
     "metadata": {},
     "output_type": "execute_result"
    }
   ],
   "source": [
    "player_names = list(players.keys())\n",
    "player_names"
   ]
  },
  {
   "cell_type": "markdown",
   "metadata": {},
   "source": [
    "Now that we have each players name, let's use that information to create a list of tuples containing each player's name along with their nationality. Store the list in a variable called player_nationalities."
   ]
  },
  {
   "cell_type": "code",
   "execution_count": 4,
   "metadata": {
    "ExecuteTime": {
     "end_time": "2020-09-01T20:42:12.336543Z",
     "start_time": "2020-09-01T20:42:12.333035Z"
    }
   },
   "outputs": [
    {
     "data": {
      "text/plain": [
       "[('L. Messi', 'Argentina'),\n",
       " ('Cristiano Ronaldo', 'Portugal'),\n",
       " ('Neymar Jr', 'Brazil'),\n",
       " ('De Gea', 'Spain'),\n",
       " ('K. De Bruyne', 'Belgium')]"
      ]
     },
     "execution_count": 4,
     "metadata": {},
     "output_type": "execute_result"
    }
   ],
   "source": [
    "player_nationalities = [(name, players[name]['nationality'])\n",
    "                        for name in player_names] \n",
    "player_nationalities "
   ]
  },
  {
   "cell_type": "markdown",
   "metadata": {},
   "source": [
    "### Functions \n",
    "A function is a peice of code written to carry out a specified task. The function may or may not require multiple inputs and the function can return something but it doesn't have to. \n",
    "\n",
    "**1.** Use the keyword def to declare the function and follow this up with the function name.\\\n",
    "**2.** Add parameters to the function: they should be within the parentheses of the function. End your line with a colon.\\\n",
    "**3.** Add statements that the functions should execute.\\\n",
    "**4.** End your function with a return statement if the function should output something. Without the return statement, your function will return a None type object\n",
    "\n",
    "**Parameter** - a variable defined by a method that receives a value when the method is called. Parameters are in a methods definition. \n",
    "\n",
    "**Arguments** - the actual values passed to a method when it's invoked"
   ]
  },
  {
   "cell_type": "code",
   "execution_count": null,
   "metadata": {},
   "outputs": [],
   "source": [
    "#standard greeting function \n",
    "def my_greeting():\n",
    "    print('Greetings from Amber')\n",
    "    \n",
    "my_greeting()"
   ]
  },
  {
   "cell_type": "code",
   "execution_count": null,
   "metadata": {},
   "outputs": [],
   "source": [
    "#function that takes 2 arguments that are added together \n",
    "def add_func():\n",
    "    return x + y \n",
    "\n",
    "add_func(5, 5)"
   ]
  },
  {
   "cell_type": "markdown",
   "metadata": {},
   "source": [
    "Here we have a list of names, first write a function that will take in 1 argument, name, and it will return the name only if it's shorter than 8 characters. Then use the filter() method to produce a new list titled short_names with all the names from our original names list that are less than 8 characters in length. Can anyone write a lambda function that does the same thing?? \n"
   ]
  },
  {
   "cell_type": "code",
   "execution_count": 5,
   "metadata": {
    "ExecuteTime": {
     "end_time": "2020-09-01T21:14:20.020134Z",
     "start_time": "2020-09-01T21:14:20.018036Z"
    }
   },
   "outputs": [],
   "source": [
    "names = [\"Benjamin\", \"Bernadette\", \"Brian\", \"Betty\", \"Bella\", \n",
    "         \"Brunhilda\", \"Bruno\"]"
   ]
  },
  {
   "cell_type": "code",
   "execution_count": 6,
   "metadata": {
    "ExecuteTime": {
     "end_time": "2020-09-01T21:14:20.629387Z",
     "start_time": "2020-09-01T21:14:20.626731Z"
    }
   },
   "outputs": [],
   "source": [
    "def is_short(name):\n",
    "    return len(name) < 8"
   ]
  },
  {
   "cell_type": "code",
   "execution_count": 7,
   "metadata": {
    "ExecuteTime": {
     "end_time": "2020-09-01T21:14:43.635058Z",
     "start_time": "2020-09-01T21:14:43.632225Z"
    }
   },
   "outputs": [
    {
     "data": {
      "text/plain": [
       "True"
      ]
     },
     "execution_count": 7,
     "metadata": {},
     "output_type": "execute_result"
    }
   ],
   "source": [
    "is_short(names)"
   ]
  },
  {
   "cell_type": "code",
   "execution_count": 8,
   "metadata": {
    "ExecuteTime": {
     "end_time": "2020-09-01T21:15:17.707176Z",
     "start_time": "2020-09-01T21:15:17.703860Z"
    }
   },
   "outputs": [
    {
     "name": "stdout",
     "output_type": "stream",
     "text": [
      "['Brian', 'Betty', 'Bella', 'Bruno']\n"
     ]
    }
   ],
   "source": [
    "short_names = list(filter(is_short, names))\n",
    "print(short_names)"
   ]
  },
  {
   "cell_type": "code",
   "execution_count": null,
   "metadata": {},
   "outputs": [],
   "source": [
    "short_names = list(filter(lambda name: len(name) < 8, names))\n",
    "short_names"
   ]
  },
  {
   "cell_type": "markdown",
   "metadata": {},
   "source": [
    "### Lambda Expressions \n",
    "\n",
    "Lambda expressions are functions that do not have a name. They are useful if you want to write a quick 'throw away'function that will not be of use later on in your code. I would like you to take this list of names and first write a function that uses filter() to create a new list, short_names, that are fewer than 8 characters long. Once you write \n",
    "the function try to write a lambda expression that does the same thing."
   ]
  },
  {
   "cell_type": "markdown",
   "metadata": {},
   "source": [
    "Now, define a function called get_players_on_team that returns a list of the names of all the players who have played on a given team.\n",
    "\n",
    "Your function should take two arguments:\n",
    "\n",
    "a dictionary of player information\n",
    "a string of the team you are trying to find the players for\n",
    "Be sure that your function has a return statement."
   ]
  },
  {
   "cell_type": "code",
   "execution_count": null,
   "metadata": {},
   "outputs": [],
   "source": [
    "def get_players_on_team(dict_,team_name):\n",
    "    player_list = []\n",
    "    for player in dict_:\n",
    "        if team_name in dict_[player]['teams']:\n",
    "            player_list.append(player)\n",
    "    return player_list"
   ]
  },
  {
   "cell_type": "code",
   "execution_count": null,
   "metadata": {},
   "outputs": [],
   "source": [
    "players_on_manchester_united = get_players_on_team(players,'Manchester United')\n",
    "print(players_on_manchester_united) # should return 'Cristiano Ronaldo', 'De Gea'"
   ]
  }
 ],
 "metadata": {
  "kernelspec": {
   "display_name": "learn-env",
   "language": "python",
   "name": "learn-env"
  },
  "language_info": {
   "codemirror_mode": {
    "name": "ipython",
    "version": 3
   },
   "file_extension": ".py",
   "mimetype": "text/x-python",
   "name": "python",
   "nbconvert_exporter": "python",
   "pygments_lexer": "ipython3",
   "version": "3.6.6"
  },
  "toc": {
   "base_numbering": 1,
   "nav_menu": {},
   "number_sections": true,
   "sideBar": true,
   "skip_h1_title": false,
   "title_cell": "Table of Contents",
   "title_sidebar": "Contents",
   "toc_cell": true,
   "toc_position": {},
   "toc_section_display": true,
   "toc_window_display": false
  }
 },
 "nbformat": 4,
 "nbformat_minor": 2
}
