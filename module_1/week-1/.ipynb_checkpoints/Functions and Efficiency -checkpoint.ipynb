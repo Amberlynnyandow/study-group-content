{
 "cells": [
  {
   "cell_type": "markdown",
   "metadata": {
    "toc": true
   },
   "source": [
    "<h1>Table of Contents<span class=\"tocSkip\"></span></h1>\n",
    "<div class=\"toc\"><ul class=\"toc-item\"><li><span><a href=\"#Functions-and-Efficiency\" data-toc-modified-id=\"Functions-and-Efficiency-1\"><span class=\"toc-item-num\">1&nbsp;&nbsp;</span>Functions and Efficiency</a></span><ul class=\"toc-item\"><li><span><a href=\"#Objective\" data-toc-modified-id=\"Objective-1.1\"><span class=\"toc-item-num\">1.1&nbsp;&nbsp;</span>Objective</a></span><ul class=\"toc-item\"><li><span><a href=\"#List-Comprehensions\" data-toc-modified-id=\"List-Comprehensions-1.1.1\"><span class=\"toc-item-num\">1.1.1&nbsp;&nbsp;</span>List Comprehensions</a></span></li><li><span><a href=\"#Nested-Structures\" data-toc-modified-id=\"Nested-Structures-1.1.2\"><span class=\"toc-item-num\">1.1.2&nbsp;&nbsp;</span>Nested Structures</a></span></li><li><span><a href=\"#Functions\" data-toc-modified-id=\"Functions-1.1.3\"><span class=\"toc-item-num\">1.1.3&nbsp;&nbsp;</span>Functions</a></span></li><li><span><a href=\"#Lambda-Expressions\" data-toc-modified-id=\"Lambda-Expressions-1.1.4\"><span class=\"toc-item-num\">1.1.4&nbsp;&nbsp;</span>Lambda Expressions</a></span></li></ul></li></ul></li></ul></div>"
   ]
  },
  {
   "cell_type": "markdown",
   "metadata": {},
   "source": [
    "# Functions and Efficiency "
   ]
  },
  {
   "cell_type": "markdown",
   "metadata": {},
   "source": [
    "## Objective\n",
    "Learn how to write functions and understand the tools available in python to write more efficient code\n",
    "\n",
    "* List Comprehensions  \n",
    "* Nested structures \n",
    "* Functions "
   ]
  },
  {
   "cell_type": "markdown",
   "metadata": {},
   "source": [
    "### List Comprehensions \n",
    "\n",
    "List comprehensions are generally more compact and faster than normal functions and loops for creating lists. They consist of brackets containing the expression, which is executed for each element along with the for loop to iterate over each element.\n",
    "\n",
    "* *__list comprehension with a conditional statement__* \n",
    "\n",
    "[ expression for item in list if conditional ]\n",
    "\n",
    "'''Give me that for this collection in this situation'''"
   ]
  },
  {
   "cell_type": "code",
   "execution_count": 1,
   "metadata": {},
   "outputs": [],
   "source": [
    "'''Lets take these 2 lists and write a program that returns a list that\n",
    "   contains only the elements that are common between the 2 lists\n",
    "   (no duplicates)'''\n",
    "\n",
    "thor_2_cast = ['Chris Hemsworth', 'Natalie Portman', 'Tom Hiddleston',\n",
    "               'Kat Dennings', 'Anthony Hopkins','Jaimie Alexander',\n",
    "               'Idris Elba']\n",
    "ragnarok_cast = ['Chris Hemsworth', 'Tessa Thompson', 'Cate Blanchett',\n",
    "                 'Tom Hiddleston', 'Mark Ruffalo', 'Jeff Goldblum',\n",
    "                 'Karl Urban', 'Idris Elba', 'Anthony Hopkins']"
   ]
  },
  {
   "cell_type": "code",
   "execution_count": null,
   "metadata": {},
   "outputs": [],
   "source": [
    "#both_casts = []\n",
    "\n",
    "#for x in thor_2_cast:\n",
    "    #if x in ragnarok_cast:\n",
    "        #both_casts.append(x)\n",
    "        \n",
    "#print(both_casts)"
   ]
  },
  {
   "cell_type": "code",
   "execution_count": null,
   "metadata": {},
   "outputs": [],
   "source": [
    "both_casts = list(set(thor_2_cast) & set(ragnarok_cast))\n",
    "both_casts"
   ]
  },
  {
   "cell_type": "code",
   "execution_count": 2,
   "metadata": {},
   "outputs": [
    {
     "name": "stdout",
     "output_type": "stream",
     "text": [
      "['Chris Hemsworth', 'Tom Hiddleston', 'Anthony Hopkins', 'Idris Elba']\n"
     ]
    }
   ],
   "source": [
    "both_casts = [x for x in thor_2_cast if x in ragnarok_cast]\n",
    "print(both_casts)"
   ]
  },
  {
   "cell_type": "markdown",
   "metadata": {},
   "source": [
    "### Nested Structures \n",
    "\n",
    "This is how we can store more information while still maintaining structure. "
   ]
  },
  {
   "cell_type": "code",
   "execution_count": 3,
   "metadata": {},
   "outputs": [],
   "source": [
    "players = {\n",
    "    'L. Messi': {\n",
    "        'age': 31,\n",
    "        'nationality': 'Argentina',\n",
    "        'teams': ['Barcelona']\n",
    "    },\n",
    "    'Cristiano Ronaldo': {\n",
    "        'age': 33,\n",
    "        'nationality': 'Portugal',\n",
    "        'teams': ['Juventus', 'Real Madrid', 'Manchester United']\n",
    "    },\n",
    "    'Neymar Jr': {\n",
    "        'age': 26,\n",
    "        'nationality': 'Brazil',\n",
    "        'teams': ['Santos', 'Barcelona', 'Paris Saint-German']\n",
    "    },\n",
    "    'De Gea': {\n",
    "        'age': 27,\n",
    "        'nationality': 'Spain',\n",
    "        'teams': ['Atletico Madrid', 'Manchester United']\n",
    "    },\n",
    "    'K. De Bruyne': {\n",
    "        'age': 27,\n",
    "        'nationality': 'Belgium',\n",
    "        'teams': ['Chelsea', 'Manchester City']\n",
    "    }\n",
    "}"
   ]
  },
  {
   "cell_type": "code",
   "execution_count": 11,
   "metadata": {},
   "outputs": [
    {
     "name": "stdout",
     "output_type": "stream",
     "text": [
      "Spain\n"
     ]
    }
   ],
   "source": [
    "#How can we print De Gea'/s nationality?\n",
    "print(players['De Gea']['nationality'])"
   ]
  },
  {
   "cell_type": "markdown",
   "metadata": {},
   "source": [
    "Create a list of all the keys in the players dictionary. Store the list of player names in a variable called player_names to use in the next question."
   ]
  },
  {
   "cell_type": "code",
   "execution_count": 14,
   "metadata": {},
   "outputs": [
    {
     "data": {
      "text/plain": [
       "['L. Messi', 'Cristiano Ronaldo', 'Neymar Jr', 'De Gea', 'K. De Bruyne']"
      ]
     },
     "execution_count": 14,
     "metadata": {},
     "output_type": "execute_result"
    }
   ],
   "source": [
    "player_names = list(players.keys())\n",
    "player_names"
   ]
  },
  {
   "cell_type": "markdown",
   "metadata": {},
   "source": [
    "Now that we have each players name, let's use that information to create a list of tuples containing each player's name along with their nationality. Store the list in a variable called player_nationalities."
   ]
  },
  {
   "cell_type": "code",
   "execution_count": 15,
   "metadata": {},
   "outputs": [
    {
     "data": {
      "text/plain": [
       "[('L. Messi', 'Argentina'),\n",
       " ('Cristiano Ronaldo', 'Portugal'),\n",
       " ('Neymar Jr', 'Brazil'),\n",
       " ('De Gea', 'Spain'),\n",
       " ('K. De Bruyne', 'Belgium')]"
      ]
     },
     "execution_count": 15,
     "metadata": {},
     "output_type": "execute_result"
    }
   ],
   "source": [
    "player_nationalities = [(name, players[name]['nationality'])\n",
    "                        for name in player_names] \n",
    "player_nationalities "
   ]
  },
  {
   "cell_type": "markdown",
   "metadata": {},
   "source": [
    "### Functions \n",
    "A function is a peice of code written to carry out a specified task. The function may or may not require multiple inputs and the function can return something but it doesn't have to. \n",
    "\n",
    "**1.** Use the keyword def to declare the function and follow this up with the function name.\\\n",
    "**2.** Add parameters to the function: they should be within the parentheses of the function. End your line with a colon.\\\n",
    "**3.** Add statements that the functions should execute.\\\n",
    "**4.** End your function with a return statement if the function should output something. Without the return statement, your function will return a None type object\n",
    "\n",
    "**Parameter** - a variable defined by a method that receives a value when the method is called. Parameters are in a methods definition. \n",
    "\n",
    "**Arguments** - the actual values passed to a method when it's invoked"
   ]
  },
  {
   "cell_type": "code",
   "execution_count": 17,
   "metadata": {},
   "outputs": [
    {
     "name": "stdout",
     "output_type": "stream",
     "text": [
      "Greetings from Amber\n"
     ]
    }
   ],
   "source": [
    "#standard greeting function \n",
    "def my_greeting():\n",
    "    print('Greetings from Amber')\n",
    "    \n",
    "my_greeting()"
   ]
  },
  {
   "cell_type": "code",
   "execution_count": 19,
   "metadata": {},
   "outputs": [
    {
     "data": {
      "text/plain": [
       "10"
      ]
     },
     "execution_count": 19,
     "metadata": {},
     "output_type": "execute_result"
    }
   ],
   "source": [
    "#function that takes 2 arguments that are added together \n",
    "def add_func():\n",
    "    return x + y \n",
    "\n",
    "add_func(5, 5)"
   ]
  },
  {
   "cell_type": "markdown",
   "metadata": {},
   "source": [
    "Here we have a list of names, first write a function that will take in 1 argument, name, and it will return the name only if it's shorter than 8 characters. Then use the filter() method to produce a new list titled short_names with all the names from our original names list that are less than 8 characters in length. Can anyone write a lambda function that does the same thing?? \n"
   ]
  },
  {
   "cell_type": "code",
   "execution_count": 20,
   "metadata": {},
   "outputs": [],
   "source": [
    "names = [\"Benjamin\", \"Bernadette\", \"Brian\", \"Betty\", \"Bella\", \n",
    "         \"Brunhilda\", \"Bruno\"]"
   ]
  },
  {
   "cell_type": "code",
   "execution_count": 21,
   "metadata": {},
   "outputs": [],
   "source": [
    "def is_short(name):\n",
    "    return len(name) < 8"
   ]
  },
  {
   "cell_type": "code",
   "execution_count": 23,
   "metadata": {},
   "outputs": [
    {
     "name": "stdout",
     "output_type": "stream",
     "text": [
      "['Brian', 'Betty', 'Bella', 'Bruno']\n"
     ]
    }
   ],
   "source": [
    "short_names = list(filter(is_short, names))\n",
    "print(short_names)"
   ]
  },
  {
   "cell_type": "code",
   "execution_count": 25,
   "metadata": {},
   "outputs": [
    {
     "data": {
      "text/plain": [
       "['Brian', 'Betty', 'Bella', 'Bruno']"
      ]
     },
     "execution_count": 25,
     "metadata": {},
     "output_type": "execute_result"
    }
   ],
   "source": [
    "short_names = list(filter(lambda name: len(name) < 8, names))\n",
    "short_names"
   ]
  },
  {
   "cell_type": "markdown",
   "metadata": {},
   "source": [
    "### Lambda Expressions \n",
    "\n",
    "Lambda expressions are functions that do not have a name. They are useful if you want to write a quick 'throw away'function that will not be of use later on in your code. I would like you to take this list of names and first write a function that uses filter() to create a new list, short_names, that are fewer than 8 characters long. Once you write \n",
    "the function try to write a lambda expression that does the same thing."
   ]
  },
  {
   "cell_type": "markdown",
   "metadata": {},
   "source": [
    "Now, define a function called get_players_on_team that returns a list of the names of all the players who have played on a given team.\n",
    "\n",
    "Your function should take two arguments:\n",
    "\n",
    "a dictionary of player information\n",
    "a string of the team you are trying to find the players for\n",
    "Be sure that your function has a return statement."
   ]
  },
  {
   "cell_type": "code",
   "execution_count": null,
   "metadata": {},
   "outputs": [],
   "source": [
    "def get_players_on_team(dict_,team_name):\n",
    "    player_list = []\n",
    "    for player in dict_:\n",
    "        if team_name in dict_[player]['teams']:\n",
    "            player_list.append(player)\n",
    "    return player_list"
   ]
  },
  {
   "cell_type": "code",
   "execution_count": null,
   "metadata": {},
   "outputs": [],
   "source": [
    "players_on_manchester_united = get_players_on_team(players,'Manchester United')\n",
    "print(players_on_manchester_united) # should return 'Cristiano Ronaldo', 'De Gea'"
   ]
  }
 ],
 "metadata": {
  "kernelspec": {
   "display_name": "Python 3",
   "language": "python",
   "name": "python3"
  },
  "language_info": {
   "codemirror_mode": {
    "name": "ipython",
    "version": 3
   },
   "file_extension": ".py",
   "mimetype": "text/x-python",
   "name": "python",
   "nbconvert_exporter": "python",
   "pygments_lexer": "ipython3",
   "version": "3.6.6"
  },
  "toc": {
   "base_numbering": 1,
   "nav_menu": {},
   "number_sections": true,
   "sideBar": true,
   "skip_h1_title": false,
   "title_cell": "Table of Contents",
   "title_sidebar": "Contents",
   "toc_cell": true,
   "toc_position": {},
   "toc_section_display": true,
   "toc_window_display": false
  }
 },
 "nbformat": 4,
 "nbformat_minor": 2
}
