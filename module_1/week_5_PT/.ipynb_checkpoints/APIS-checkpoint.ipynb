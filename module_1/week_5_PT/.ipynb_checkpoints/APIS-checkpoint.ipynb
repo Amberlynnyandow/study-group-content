{
 "cells": [
  {
   "cell_type": "markdown",
   "metadata": {
    "ExecuteTime": {
     "end_time": "2020-09-14T19:48:26.254926Z",
     "start_time": "2020-09-14T19:48:26.249393Z"
    }
   },
   "source": [
    "## <center>APIs \n",
    "An API is a set of programming code that enables data transmission between one software product and another\n",
    "\n",
    "![](https://content.altexsoft.com/media/2019/06/https-lh6-googleusercontent-com-_nyclktg8po_wx5-.png)\n",
    "\n",
    "### Examples\n",
    "\n",
    "**APIs make life easier for Developers** \n",
    "\n",
    "* If you want to embed a web browser to show one or more web pages, for example, you don’t have to program your own web browser from scratch just for your application. You use the WKWebView API to embed a WebKit (Safari) browser object in your application.\n",
    "\n",
    "* If you want to capture photos or video from the iPhone’s camera, you don’t have to write your own camera interface. You use the camera API to embed the iPhone’s built-in camera in your app. If APIs didn’t exist to make this easy, app developers would have to create their own camera software and interpret the camera hardware’s inputs\n",
    "\n",
    "**APIs control access to resources:**\n",
    "\n",
    "* APIs are also used to control access to hardware devices and software functions that an application may not necessarily have permission to use. That’s why APIs often play a big role in security.\n",
    "\n",
    "**APIs are used for communication between services:**\n",
    "\n",
    "* Ever see a Google Maps object embedded on a website? That website is using the Google Maps API to embed that map.\n"
   ]
  },
  {
   "cell_type": "markdown",
   "metadata": {},
   "source": [
    "## Parts on an API\n",
    "\n",
    "* **Access Permissions**\n",
    "    + User allowed to ask?\n",
    "* **API Call/Request**\n",
    "    + Code used to make API call to implement complicated tasks/features\n",
    "    + *Methods*: what questions can we ask?\n",
    "    + *Parameters*: more info to be sent\n",
    "* **Repsonse**\n",
    "    + Result of request \n",
    "    \n",
    "[HTTP status codes](https://restfulapi.net/http-status-codes/)\n",
    "\n",
    "[EXAMPLE - LEARN.CO](https://learn.co/tracks/module-1-data-science-career-2-1/intro-to-data-with-python-and-sql/section-09-json-and-apis/http-request-response-cycle-lab)"
   ]
  },
  {
   "cell_type": "code",
   "execution_count": null,
   "metadata": {},
   "outputs": [],
   "source": []
  }
 ],
 "metadata": {
  "kernelspec": {
   "display_name": "learn-env",
   "language": "python",
   "name": "learn-env"
  },
  "language_info": {
   "codemirror_mode": {
    "name": "ipython",
    "version": 3
   },
   "file_extension": ".py",
   "mimetype": "text/x-python",
   "name": "python",
   "nbconvert_exporter": "python",
   "pygments_lexer": "ipython3",
   "version": "3.6.6"
  },
  "toc": {
   "base_numbering": 1,
   "nav_menu": {},
   "number_sections": true,
   "sideBar": true,
   "skip_h1_title": true,
   "title_cell": "Table of Contents",
   "title_sidebar": "Contents",
   "toc_cell": false,
   "toc_position": {},
   "toc_section_display": true,
   "toc_window_display": false
  }
 },
 "nbformat": 4,
 "nbformat_minor": 2
}
