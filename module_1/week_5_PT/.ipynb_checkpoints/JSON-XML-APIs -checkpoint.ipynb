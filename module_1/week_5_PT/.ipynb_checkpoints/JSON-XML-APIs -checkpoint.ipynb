{
 "cells": [
  {
   "cell_type": "markdown",
   "metadata": {},
   "source": [
    "# JSON-XML-APIs-RECURSION\n",
    "\n",
    "**Objectives:** \n",
    "* Understand the structural differences between JSON, XML and Python \n",
    "* Manipulate some JSON and XML data in jupyter notebooks with pandas \n",
    "* Introduce Recursion and APIs "
   ]
  },
  {
   "cell_type": "markdown",
   "metadata": {},
   "source": [
    "## JSON - Java Script Object Notation \n",
    "\n",
    "*  JSON is simply a way of representing data independent of a platform — this means that it is something like a PDF or a txt file \n",
    "\n",
    "* Proponents say, JSON files take up less space, are faster(more easily parsed by web-browsers) and easier to work with than XML files"
   ]
  },
  {
   "cell_type": "markdown",
   "metadata": {},
   "source": [
    "                        JSON VS. PYTHON \n",
    "\n",
    "|JavaScript|JS Example               |Python Equivalent|Python Example           |\n",
    "|----------|-------------------------|-----------------|-------------------------|\n",
    "|Objects   |`{'key0':'v12','v':1}`   |Dictionaries     |`{'key0':'v12','v':1}`   |\n",
    "|Arrays    |`[1, 'one', 'two', 3, 5]`|Lists            |`[1, 'one', 'two', 3, 5]`|\n",
    "|Strings   |`'One'` or `\"Two\"`       |Strings          |`'One'` or `\"Two\"`       |\n",
    "|Numbers   |`1234.5` or `8675309`    |Numbers          |`1234.5` or `8675309`    |  \n",
    "|Boolean   |`true` or `false`        |Boolean          |`True` or `False`        |\n",
    "|Null Value|`null`                   |None Value       |`None`                   |"
   ]
  },
  {
   "cell_type": "code",
   "execution_count": null,
   "metadata": {
    "ExecuteTime": {
     "end_time": "2020-06-25T16:25:43.280238Z",
     "start_time": "2020-06-25T16:25:43.275614Z"
    }
   },
   "outputs": [],
   "source": [
    "#example \n",
    "gattaca = open(\"gattaca.txt\")\n",
    "print(gattaca.read())"
   ]
  },
  {
   "cell_type": "markdown",
   "metadata": {},
   "source": [
    "### How would this look in XML?\n",
    "\n",
    "* The increased size has to do with the end tags repeating the opening tags\n",
    "\n",
    "```XML\n",
    "<movie>\n",
    "    <title>Gattaca</title>\n",
    "    <release_year>1997</release_year>\n",
    "    <good_reviews>1</good_reviews>\n",
    "    <won_oscar>0</won_oscar>\n",
    "    <actors>\n",
    "        <actor>Ethan Hawke</actor>\n",
    "        <actor>Uma Thurman</actor>\n",
    "        <actor>Jude Law</actor>\n",
    "        <actor>Loren Dean</actor>\n",
    "    </actors>\n",
    "    <budget/>\n",
    "    <credits>\n",
    "        <director>Andrew Niccol</director>\n",
    "        <writer>Andrew Niccol</writer>\n",
    "        <composer>Michael Nyman</composer>\n",
    "    </credits>\n",
    "</movie>\n",
    "```\n",
    "\n",
    "* XML is a software/hardware independent tool used to transport and store data. "
   ]
  },
  {
   "cell_type": "markdown",
   "metadata": {},
   "source": [
    "## Reading JSON files"
   ]
  },
  {
   "cell_type": "code",
   "execution_count": null,
   "metadata": {
    "ExecuteTime": {
     "end_time": "2020-06-25T17:06:12.766498Z",
     "start_time": "2020-06-25T17:06:12.764562Z"
    }
   },
   "outputs": [],
   "source": [
    "#Import JSON library. Also, import Pandas."
   ]
  },
  {
   "cell_type": "code",
   "execution_count": null,
   "metadata": {
    "ExecuteTime": {
     "end_time": "2020-06-25T17:06:37.769641Z",
     "start_time": "2020-06-25T17:06:37.767232Z"
    }
   },
   "outputs": [],
   "source": [
    "#Load JSON from file. \n",
    "#This file contains song data from Spotify on Old Town Road by Lil Nas X."
   ]
  },
  {
   "cell_type": "code",
   "execution_count": null,
   "metadata": {
    "ExecuteTime": {
     "end_time": "2020-06-25T17:06:55.430438Z",
     "start_time": "2020-06-25T17:06:55.428113Z"
    }
   },
   "outputs": [],
   "source": [
    "#Print out data."
   ]
  },
  {
   "cell_type": "code",
   "execution_count": null,
   "metadata": {
    "ExecuteTime": {
     "end_time": "2020-06-25T17:07:09.444714Z",
     "start_time": "2020-06-25T17:07:09.442345Z"
    }
   },
   "outputs": [],
   "source": [
    "#Check type of data, get keys."
   ]
  },
  {
   "cell_type": "code",
   "execution_count": null,
   "metadata": {
    "ExecuteTime": {
     "end_time": "2020-06-25T17:07:29.760633Z",
     "start_time": "2020-06-25T17:07:29.758143Z"
    }
   },
   "outputs": [],
   "source": [
    "#Explore 'track' by printing it out, checking its type and keys."
   ]
  },
  {
   "cell_type": "code",
   "execution_count": null,
   "metadata": {
    "ExecuteTime": {
     "end_time": "2020-06-25T17:07:46.218920Z",
     "start_time": "2020-06-25T17:07:46.215776Z"
    }
   },
   "outputs": [],
   "source": [
    "#What key is the song in?"
   ]
  },
  {
   "cell_type": "markdown",
   "metadata": {},
   "source": [
    "| ID | Key   |\n",
    "|------|------|\n",
    "| 0 | C |\n",
    "1 |\tC♯ \n",
    "2  | D \n",
    "3  | D♯\n",
    "4  | E \n",
    "5  | F \n",
    "6  | F♯\n",
    "7  | G\n",
    "8  | G♯\n",
    "9  | A\n",
    "10 | A♯\t\n",
    "11 | B \t"
   ]
  },
  {
   "cell_type": "code",
   "execution_count": null,
   "metadata": {
    "ExecuteTime": {
     "end_time": "2020-06-25T17:08:16.701711Z",
     "start_time": "2020-06-25T17:08:16.699313Z"
    }
   },
   "outputs": [],
   "source": [
    "#How long is the song?"
   ]
  },
  {
   "cell_type": "code",
   "execution_count": null,
   "metadata": {
    "ExecuteTime": {
     "end_time": "2020-06-25T17:08:26.599062Z",
     "start_time": "2020-06-25T17:08:26.596541Z"
    }
   },
   "outputs": [],
   "source": [
    "#Load the 'track' data into a DataFrame."
   ]
  },
  {
   "cell_type": "markdown",
   "metadata": {},
   "source": [
    "## Writing JSON"
   ]
  },
  {
   "cell_type": "code",
   "execution_count": null,
   "metadata": {
    "ExecuteTime": {
     "end_time": "2020-06-25T17:09:14.192599Z",
     "start_time": "2020-06-25T17:09:14.190125Z"
    }
   },
   "outputs": [],
   "source": [
    "#Create a JSON string with a couple different songs and some info about them (artist, title, genres)."
   ]
  },
  {
   "cell_type": "code",
   "execution_count": null,
   "metadata": {
    "ExecuteTime": {
     "end_time": "2020-06-25T17:09:28.304935Z",
     "start_time": "2020-06-25T17:09:28.302581Z"
    }
   },
   "outputs": [],
   "source": [
    "#Load the JSON string."
   ]
  },
  {
   "cell_type": "code",
   "execution_count": null,
   "metadata": {
    "ExecuteTime": {
     "end_time": "2020-06-25T17:09:39.790865Z",
     "start_time": "2020-06-25T17:09:39.788406Z"
    }
   },
   "outputs": [],
   "source": [
    "#Save the JSON to file."
   ]
  },
  {
   "cell_type": "code",
   "execution_count": null,
   "metadata": {
    "ExecuteTime": {
     "end_time": "2020-06-25T17:10:06.721135Z",
     "start_time": "2020-06-25T17:10:06.718775Z"
    }
   },
   "outputs": [],
   "source": [
    "#Load the JSON from file into a Pandas DataFrame."
   ]
  },
  {
   "cell_type": "markdown",
   "metadata": {},
   "source": [
    "## Reading XML"
   ]
  },
  {
   "cell_type": "code",
   "execution_count": null,
   "metadata": {
    "ExecuteTime": {
     "end_time": "2020-06-25T17:27:56.370848Z",
     "start_time": "2020-06-25T17:27:56.369013Z"
    }
   },
   "outputs": [],
   "source": [
    "#Import ElementTree"
   ]
  },
  {
   "cell_type": "code",
   "execution_count": null,
   "metadata": {
    "ExecuteTime": {
     "end_time": "2020-06-25T17:28:11.346356Z",
     "start_time": "2020-06-25T17:28:11.344365Z"
    }
   },
   "outputs": [],
   "source": [
    "#Parse the 'playlist.xml' file and get the root."
   ]
  },
  {
   "cell_type": "code",
   "execution_count": null,
   "metadata": {},
   "outputs": [],
   "source": [
    "#Print out the children."
   ]
  },
  {
   "cell_type": "code",
   "execution_count": null,
   "metadata": {},
   "outputs": [],
   "source": [
    "#Print out the children of one of the children."
   ]
  },
  {
   "cell_type": "code",
   "execution_count": null,
   "metadata": {},
   "outputs": [],
   "source": [
    "#Print out the tag and text of each of the nodes of the first track."
   ]
  },
  {
   "cell_type": "code",
   "execution_count": null,
   "metadata": {},
   "outputs": [],
   "source": [
    "#Convert the XML to a DataFrame."
   ]
  },
  {
   "cell_type": "markdown",
   "metadata": {},
   "source": [
    "## <center>Activity\n",
    "    \n",
    "**Using the 'old_town_road.json' and 'playlist.xml' files and what you have learned above, do the following:**\n"
   ]
  },
  {
   "cell_type": "code",
   "execution_count": null,
   "metadata": {},
   "outputs": [],
   "source": [
    "#Create a DataFrame of the different segments of Old Town Road"
   ]
  },
  {
   "cell_type": "code",
   "execution_count": null,
   "metadata": {},
   "outputs": [],
   "source": [
    "#Find the longest segment and the loudest segment."
   ]
  },
  {
   "cell_type": "code",
   "execution_count": null,
   "metadata": {},
   "outputs": [],
   "source": []
  },
  {
   "cell_type": "code",
   "execution_count": null,
   "metadata": {},
   "outputs": [],
   "source": []
  },
  {
   "cell_type": "code",
   "execution_count": null,
   "metadata": {},
   "outputs": [],
   "source": []
  },
  {
   "cell_type": "code",
   "execution_count": null,
   "metadata": {},
   "outputs": [],
   "source": [
    "#How many bars are in the song?"
   ]
  },
  {
   "cell_type": "code",
   "execution_count": null,
   "metadata": {},
   "outputs": [],
   "source": [
    "#What's the average length of a bar?"
   ]
  },
  {
   "cell_type": "code",
   "execution_count": null,
   "metadata": {},
   "outputs": [],
   "source": [
    "#Extract the 7th song from the playlist in 'playlist.xml',\n",
    "#compose a JSON string for the song and save it as a new JSON file."
   ]
  },
  {
   "cell_type": "code",
   "execution_count": null,
   "metadata": {},
   "outputs": [],
   "source": []
  },
  {
   "cell_type": "code",
   "execution_count": null,
   "metadata": {},
   "outputs": [],
   "source": []
  },
  {
   "cell_type": "code",
   "execution_count": null,
   "metadata": {},
   "outputs": [],
   "source": []
  },
  {
   "cell_type": "markdown",
   "metadata": {},
   "source": [
    "## <center>APIs \n",
    "An API is a set of programming code that enables data transmission between one software product and another\n",
    "\n",
    "![](https://content.altexsoft.com/media/2019/06/https-lh6-googleusercontent-com-_nyclktg8po_wx5-.png)\n",
    "\n",
    "### Examples\n",
    "\n",
    "**APIs make life easier for Developers** \n",
    "\n",
    "* If you want to embed a web browser to show one or more web pages, for example, you don’t have to program your own web browser from scratch just for your application. You use the WKWebView API to embed a WebKit (Safari) browser object in your application.\n",
    "\n",
    "* If you want to capture photos or video from the iPhone’s camera, you don’t have to write your own camera interface. You use the camera API to embed the iPhone’s built-in camera in your app. If APIs didn’t exist to make this easy, app developers would have to create their own camera software and interpret the camera hardware’s inputs\n",
    "\n",
    "**APIs control access to resources:**\n",
    "\n",
    "* APIs are also used to control access to hardware devices and software functions that an application may not necessarily have permission to use. That’s why APIs often play a big role in security.\n",
    "\n",
    "**APIs are used for communication between services:**\n",
    "\n",
    "* Ever see a Google Maps object embedded on a website? That website is using the Google Maps API to embed that map.\n",
    "\n",
    "\n"
   ]
  },
  {
   "cell_type": "markdown",
   "metadata": {},
   "source": [
    "## Parts on an API\n",
    "\n",
    "* **Access Permissions**\n",
    "    + User allowed to ask?\n",
    "* **API Call/Request**\n",
    "    + Code used to make API call to implement complicated tasks/features\n",
    "    + *Methods*: what questions can we ask?\n",
    "    + *Parameters*: more info to be sent\n",
    "* **Repsonse**\n",
    "    + Result of request \n",
    "    \n",
    "[HTTP status codes](https://restfulapi.net/http-status-codes/)\n",
    "\n",
    "[EXAMPLE - LEARN.CO](https://learn.co/tracks/module-1-data-science-career-2-1/intro-to-data-with-python-and-sql/section-09-json-and-apis/http-request-response-cycle-lab)"
   ]
  },
  {
   "cell_type": "markdown",
   "metadata": {},
   "source": [
    "## Recursion\n",
    "\n",
    "\"Recursion is a computer programming technique involving the use of a procedure, subroutine, function, or algorithm that calls itself in a step having a termination condition so that successive repetitions are processed up to the critical step where the condition is met at which time the rest of each repetition is processed from the last one called to the first\". - [SparkNotes](https://www.sparknotes.com/cs/recursion/whatisrecursion/section1/)\n",
    "\n",
    "Write a function to check if a given string is a palindrome."
   ]
  },
  {
   "cell_type": "code",
   "execution_count": null,
   "metadata": {
    "ExecuteTime": {
     "end_time": "2020-06-25T17:19:28.893340Z",
     "start_time": "2020-06-25T17:19:28.891192Z"
    }
   },
   "outputs": [],
   "source": [
    "def is_palindrome(text):\n",
    "    pass"
   ]
  },
  {
   "cell_type": "code",
   "execution_count": null,
   "metadata": {
    "ExecuteTime": {
     "end_time": "2020-06-25T17:19:43.367966Z",
     "start_time": "2020-06-25T17:19:43.366050Z"
    }
   },
   "outputs": [],
   "source": [
    "#Test function on palindrome and non-palindrome."
   ]
  },
  {
   "cell_type": "code",
   "execution_count": null,
   "metadata": {
    "ExecuteTime": {
     "end_time": "2020-06-25T17:19:57.252662Z",
     "start_time": "2020-06-25T17:19:57.250800Z"
    }
   },
   "outputs": [],
   "source": [
    "#Now make a recursive version of the function and test it out.\n",
    "def is_palindrome_rec(text):\n",
    "    pass"
   ]
  },
  {
   "cell_type": "markdown",
   "metadata": {},
   "source": [
    "Create a giant string of letters and compare the time to run both functions."
   ]
  },
  {
   "cell_type": "code",
   "execution_count": null,
   "metadata": {},
   "outputs": [],
   "source": []
  },
  {
   "cell_type": "markdown",
   "metadata": {},
   "source": [
    "What about a more efficient version without recursion?"
   ]
  },
  {
   "cell_type": "code",
   "execution_count": null,
   "metadata": {
    "ExecuteTime": {
     "end_time": "2020-06-25T17:21:21.522986Z",
     "start_time": "2020-06-25T17:21:21.520411Z"
    }
   },
   "outputs": [],
   "source": [
    "def is_palindrome_better(t):\n",
    "    \n",
    "    pass"
   ]
  },
  {
   "cell_type": "code",
   "execution_count": null,
   "metadata": {
    "ExecuteTime": {
     "end_time": "2020-06-25T17:21:23.194005Z",
     "start_time": "2020-06-25T17:21:23.085445Z"
    }
   },
   "outputs": [],
   "source": [
    "now = time.time()\n",
    "print(is_palindrome_better(text))\n",
    "print(time.time()-now)"
   ]
  },
  {
   "cell_type": "code",
   "execution_count": null,
   "metadata": {},
   "outputs": [],
   "source": []
  }
 ],
 "metadata": {
  "kernelspec": {
   "display_name": "learn-env",
   "language": "python",
   "name": "learn-env"
  },
  "language_info": {
   "codemirror_mode": {
    "name": "ipython",
    "version": 3
   },
   "file_extension": ".py",
   "mimetype": "text/x-python",
   "name": "python",
   "nbconvert_exporter": "python",
   "pygments_lexer": "ipython3",
   "version": "3.6.6"
  },
  "toc": {
   "base_numbering": 1,
   "nav_menu": {},
   "number_sections": true,
   "sideBar": true,
   "skip_h1_title": true,
   "title_cell": "Table of Contents",
   "title_sidebar": "Contents",
   "toc_cell": false,
   "toc_position": {},
   "toc_section_display": true,
   "toc_window_display": false
  }
 },
 "nbformat": 4,
 "nbformat_minor": 2
}
