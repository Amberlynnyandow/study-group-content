{
 "cells": [
  {
   "cell_type": "markdown",
   "metadata": {},
   "source": [
    "# PokemonGo DB with Mongo DB "
   ]
  },
  {
   "cell_type": "markdown",
   "metadata": {},
   "source": [
    "Start by running mongod in your terminal and import the following libraries "
   ]
  },
  {
   "cell_type": "code",
   "execution_count": null,
   "metadata": {
    "ExecuteTime": {
     "end_time": "2020-06-23T20:36:13.884663Z",
     "start_time": "2020-06-23T20:36:13.192870Z"
    }
   },
   "outputs": [],
   "source": [
    "import sqlite3 \n",
    "import pandas as pd\n",
    "import requests\n",
    "import json\n",
    "import pymongo"
   ]
  },
  {
   "cell_type": "markdown",
   "metadata": {},
   "source": [
    "**Connect to Mongo, create a database and a collection.**"
   ]
  },
  {
   "cell_type": "code",
   "execution_count": null,
   "metadata": {
    "ExecuteTime": {
     "end_time": "2020-06-23T20:36:49.136271Z",
     "start_time": "2020-06-23T20:36:49.131969Z"
    }
   },
   "outputs": [],
   "source": [
    "client = pymongo.MongoClient(host=\"localhost\", port=27017)\n",
    "poke_db = client['pokemon_db']\n",
    "poke_collection = poke_db['pokemon_collection']"
   ]
  },
  {
   "cell_type": "markdown",
   "metadata": {},
   "source": [
    "**Create an entry and insert it into the collection.**"
   ]
  },
  {
   "cell_type": "code",
   "execution_count": null,
   "metadata": {
    "ExecuteTime": {
     "end_time": "2020-06-23T20:37:28.009280Z",
     "start_time": "2020-06-23T20:37:28.004409Z"
    }
   },
   "outputs": [],
   "source": [
    "pikachu = {'name': 'Pikachu', 'primary_type': 'Electric', 'secondary_type': 'None', 'level':25}\n",
    "results = poke_collection.insert_one(pikachu)"
   ]
  },
  {
   "cell_type": "markdown",
   "metadata": {},
   "source": [
    "**Run a query to find all items in the collection.**"
   ]
  },
  {
   "cell_type": "code",
   "execution_count": null,
   "metadata": {},
   "outputs": [],
   "source": []
  },
  {
   "cell_type": "markdown",
   "metadata": {},
   "source": [
    "**Insert multiple entries at once.**"
   ]
  },
  {
   "cell_type": "code",
   "execution_count": null,
   "metadata": {
    "ExecuteTime": {
     "end_time": "2020-06-23T20:38:41.255521Z",
     "start_time": "2020-06-23T20:38:41.251631Z"
    }
   },
   "outputs": [],
   "source": [
    "charmander = {'name': 'Charmander', 'primary_type': 'Fire', 'secondary_type': 'None', 'level':12}\n",
    "bulbasaur = {'name': 'Bulbasaur',  'primary_type': 'Grass', 'secondary_type': 'Poison', 'level':10}\n",
    "squirtle = {'name': 'Squirtle',  'primary_type': 'Water', 'secondary_type': 'None', 'level':8}\n",
    "\n",
    "starters_list = [charmander, bulbasaur, squirtle]\n",
    "\n",
    "results = poke_collection.insert_many(starters_list)"
   ]
  },
  {
   "cell_type": "markdown",
   "metadata": {},
   "source": [
    "**Query just the names of all the entered Pokemon without the IDs.**"
   ]
  },
  {
   "cell_type": "code",
   "execution_count": null,
   "metadata": {},
   "outputs": [],
   "source": []
  },
  {
   "cell_type": "markdown",
   "metadata": {},
   "source": [
    "**Query the Pokemon with a level less than 20. You may need the reference manual** [here](https://docs.mongodb.com/manual/reference/operator/query/#query-selectors)"
   ]
  },
  {
   "cell_type": "code",
   "execution_count": null,
   "metadata": {},
   "outputs": [],
   "source": []
  },
  {
   "cell_type": "markdown",
   "metadata": {},
   "source": [
    "1. **Delete Pikachu.** \n",
    "\n",
    "2. **Delete all entries without a secondary type.**\n",
    "\n",
    "3. **Delete the entire collection.**"
   ]
  },
  {
   "cell_type": "code",
   "execution_count": null,
   "metadata": {},
   "outputs": [],
   "source": []
  },
  {
   "cell_type": "code",
   "execution_count": null,
   "metadata": {},
   "outputs": [],
   "source": []
  },
  {
   "cell_type": "code",
   "execution_count": null,
   "metadata": {},
   "outputs": [],
   "source": []
  },
  {
   "cell_type": "markdown",
   "metadata": {},
   "source": [
    "## ETL \n",
    "### Extract data from API \n",
    "Documentation - https://pokeapi.co/docs/v2.html"
   ]
  },
  {
   "cell_type": "markdown",
   "metadata": {},
   "source": [
    "**Create a base URL.**"
   ]
  },
  {
   "cell_type": "code",
   "execution_count": null,
   "metadata": {
    "ExecuteTime": {
     "end_time": "2020-06-23T20:43:52.822209Z",
     "start_time": "2020-06-23T20:43:52.820156Z"
    }
   },
   "outputs": [],
   "source": [
    "base_url = 'https://pokeapi.co/api/v2'"
   ]
  },
  {
   "cell_type": "markdown",
   "metadata": {},
   "source": [
    "**Create URL to get info on Pikachu. Make request to URL and check response keys.**"
   ]
  },
  {
   "cell_type": "code",
   "execution_count": null,
   "metadata": {},
   "outputs": [],
   "source": []
  },
  {
   "cell_type": "markdown",
   "metadata": {},
   "source": [
    "**Get the name, primary type, and secondary type.**"
   ]
  },
  {
   "cell_type": "code",
   "execution_count": null,
   "metadata": {},
   "outputs": [],
   "source": []
  },
  {
   "cell_type": "markdown",
   "metadata": {},
   "source": [
    "**Now we want to find the types Pikachu is weak to. Using the '/type' endpoint, find info on the electric type.**"
   ]
  },
  {
   "cell_type": "code",
   "execution_count": null,
   "metadata": {},
   "outputs": [],
   "source": []
  },
  {
   "cell_type": "markdown",
   "metadata": {},
   "source": [
    "**Check the 'damage_relations' dictionary.**"
   ]
  },
  {
   "cell_type": "code",
   "execution_count": null,
   "metadata": {},
   "outputs": [],
   "source": []
  },
  {
   "cell_type": "markdown",
   "metadata": {},
   "source": [
    "**Grab the types supereffective against electric from the 'double_damage_from' key. Iterate through to get the weaknesses.**"
   ]
  },
  {
   "cell_type": "code",
   "execution_count": null,
   "metadata": {},
   "outputs": [],
   "source": []
  },
  {
   "cell_type": "code",
   "execution_count": null,
   "metadata": {},
   "outputs": [],
   "source": []
  },
  {
   "cell_type": "markdown",
   "metadata": {},
   "source": [
    "## BONUS ACTIVITY \n",
    "\n",
    "Professor Oak has tasked you with compiling info on Pokemon. Using the PokeAPI, extract data on all 151 original Pokemon and load that data into a Mongo database.\n",
    "\n",
    "You should include the following info for each Pokemon:\n",
    "\n",
    "- Name\n",
    "- Height\n",
    "- Weight\n",
    "- Primary type\n",
    "- Secondary Type\n",
    "- Weaknesses\n",
    "- Moves\n",
    "\n",
    "**Note:** For weaknesses, make sure you look at both the primary type and secondary type. The list should only contain each weaknesses once even if both the primary and secondary types share a weaknesses (maybe use a Python set).\n",
    "\n",
    "**Hint:** The first 151 Pokemon have IDs from 1-151. You can use that to collect info on each one in a loop."
   ]
  },
  {
   "cell_type": "code",
   "execution_count": null,
   "metadata": {},
   "outputs": [],
   "source": []
  },
  {
   "cell_type": "code",
   "execution_count": null,
   "metadata": {},
   "outputs": [],
   "source": []
  }
 ],
 "metadata": {
  "kernelspec": {
   "display_name": "learn-env",
   "language": "python",
   "name": "learn-env"
  },
  "language_info": {
   "codemirror_mode": {
    "name": "ipython",
    "version": 3
   },
   "file_extension": ".py",
   "mimetype": "text/x-python",
   "name": "python",
   "nbconvert_exporter": "python",
   "pygments_lexer": "ipython3",
   "version": "3.6.6"
  },
  "toc": {
   "base_numbering": 1,
   "nav_menu": {},
   "number_sections": true,
   "sideBar": true,
   "skip_h1_title": true,
   "title_cell": "Table of Contents",
   "title_sidebar": "Contents",
   "toc_cell": false,
   "toc_position": {},
   "toc_section_display": true,
   "toc_window_display": false
  }
 },
 "nbformat": 4,
 "nbformat_minor": 2
}
