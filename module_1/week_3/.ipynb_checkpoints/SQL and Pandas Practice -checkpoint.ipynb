{
 "cells": [
  {
   "cell_type": "markdown",
   "metadata": {},
   "source": [
    "## SQL/Pandas - Practice \n",
    "**Here are some SELECT statements. We truncate results with LIMIT, and filter them with WHERE. We use DISTINCT to remove duplicated results.**\n",
    "\n",
    "|                      SQL                     |                 Pandas                |\n",
    "|:--------------------------------------------:|:-------------------------------------:|\n",
    "| select * from airports                       | airports                              |\n",
    "| select * from airports limit 3               | airports.head(3)                      |\n",
    "| select id from airports where ident = 'KLAX' | airports[airports.ident == 'KLAX'].id |\n",
    "| select distinct type from airport            | airports.type.unique()                |\n"
   ]
  },
  {
   "cell_type": "code",
   "execution_count": null,
   "metadata": {},
   "outputs": [],
   "source": [
    "import pandas as pd\n",
    "\n",
    "airports = pd.read_csv('path')\n",
    "freq = pd.read_csv('path')\n",
    "runways = pd.read_csv('path')"
   ]
  },
  {
   "cell_type": "markdown",
   "metadata": {},
   "source": [
    "## Question 1: Selecting with multiple conditions \n",
    "**Select all airports that are of the 'seaplane_base' type in the 'US-CA' region. Do this in SQL and Pandas.**\n"
   ]
  },
  {
   "cell_type": "code",
   "execution_count": null,
   "metadata": {},
   "outputs": [],
   "source": []
  },
  {
   "cell_type": "code",
   "execution_count": null,
   "metadata": {},
   "outputs": [],
   "source": []
  },
  {
   "cell_type": "markdown",
   "metadata": {},
   "source": [
    "## Question 2: Order By \n",
    "**Select all from airport-frequency where airport_indent = 'KLAX' and put in descending order. Do this in SQL and Pandas.** "
   ]
  },
  {
   "cell_type": "code",
   "execution_count": null,
   "metadata": {},
   "outputs": [],
   "source": []
  },
  {
   "cell_type": "code",
   "execution_count": null,
   "metadata": {},
   "outputs": [],
   "source": []
  },
  {
   "cell_type": "markdown",
   "metadata": {},
   "source": [
    "## Question 3: In - Not In \n",
    "**Select all from airports where type is in 'heliport' and 'balloonport'. Also, do the opposite, instead of in - do not in.** "
   ]
  },
  {
   "cell_type": "code",
   "execution_count": null,
   "metadata": {},
   "outputs": [],
   "source": []
  },
  {
   "cell_type": "code",
   "execution_count": null,
   "metadata": {},
   "outputs": [],
   "source": []
  },
  {
   "cell_type": "markdown",
   "metadata": {},
   "source": [
    "## Question 4: Group By\n",
    "**Select 'iso_country' and 'type' from airports, then group by these columns AND order by these columns. You might want to look up the difference between SQL and Pandas for the method count().**"
   ]
  },
  {
   "cell_type": "code",
   "execution_count": null,
   "metadata": {},
   "outputs": [],
   "source": []
  },
  {
   "cell_type": "code",
   "execution_count": null,
   "metadata": {},
   "outputs": [],
   "source": []
  },
  {
   "cell_type": "markdown",
   "metadata": {},
   "source": [
    "## Question 5: Join \n",
    "\n",
    "**(INNER) JOIN:** Returns records that have matching values in both tables<br>\n",
    "**LEFT (OUTER) JOIN:** Returns all records from the left table, and the matched records from the right table<br>\n",
    "**RIGHT (OUTER) JOIN:** Returns all records from the right table, and the matched records from the left table<br>\n",
    "**FULL (OUTER) JOIN:** Returns all records when there is a match in either left or right table\n",
    "\n",
    "![](https://i.pinimg.com/originals/bc/0c/8b/bc0c8ba4d12051502a68bade9bba4bc5.png)\n",
    "\n",
    "**How can we join all 3 of our dfs? In SQL and Pandas.** "
   ]
  },
  {
   "cell_type": "code",
   "execution_count": null,
   "metadata": {},
   "outputs": [],
   "source": []
  },
  {
   "cell_type": "code",
   "execution_count": null,
   "metadata": {},
   "outputs": [],
   "source": []
  }
 ],
 "metadata": {
  "kernelspec": {
   "display_name": "learn-env",
   "language": "python",
   "name": "learn-env"
  },
  "language_info": {
   "codemirror_mode": {
    "name": "ipython",
    "version": 3
   },
   "file_extension": ".py",
   "mimetype": "text/x-python",
   "name": "python",
   "nbconvert_exporter": "python",
   "pygments_lexer": "ipython3",
   "version": "3.7.3"
  }
 },
 "nbformat": 4,
 "nbformat_minor": 2
}
