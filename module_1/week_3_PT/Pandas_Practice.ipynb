{
 "cells": [
  {
   "cell_type": "markdown",
   "metadata": {},
   "source": [
    "# Pandas Practice - Groupby/"
   ]
  },
  {
   "cell_type": "markdown",
   "metadata": {},
   "source": [
    "> Table_name.groupby(['Group'])['Feature'].aggregation()\n",
    "\n",
    "**Table_name**: this would be the name of the DataFrame, the source of the data you are working on.<br>\n",
    "**groupby:** the group by in Python is for sorting data based on different criteria. In this case, the condition is Group.<br>\n",
    "**Feature:** the part of the data or feature you want to be inserted in the computation.<br>\n",
    "**aggregation():** the specific function name or aggregation you wish to execute with this operation.\n",
    "- mean(): Compute mean of groups\n",
    "- sum(): Compute sum of group values\n",
    "- size(): Compute group sizes\n",
    "- count(): Compute count of group\n",
    "- std(): Standard deviation of groups\n",
    "- var(): Compute variance of groups\n",
    "- sem(): Standard error of the mean of groups\n",
    "- describe(): Generates descriptive statistics\n",
    "- first(): Compute first of group values\n",
    "- last(): Compute last of group values\n",
    "- nth() : Take nth value, or a subset if n is a list\n",
    "- min(): Compute min of group values\n",
    "- max(): Compute max of group values"
   ]
  },
  {
   "cell_type": "code",
   "execution_count": null,
   "metadata": {
    "ExecuteTime": {
     "end_time": "2020-09-02T23:41:36.893248Z",
     "start_time": "2020-09-02T23:41:36.161615Z"
    }
   },
   "outputs": [],
   "source": [
    "import pandas as pd\n",
    "import numpy as np\n",
    "import matplotlib.pyplot as plt\n",
    "%matplotlib inline \n"
   ]
  },
  {
   "cell_type": "code",
   "execution_count": null,
   "metadata": {
    "ExecuteTime": {
     "end_time": "2020-09-02T23:43:10.972292Z",
     "start_time": "2020-09-02T23:43:10.816496Z"
    }
   },
   "outputs": [],
   "source": [
    "df = pd.read_csv('http://bit.ly/drinksbycountry')\n",
    "df.head(10)"
   ]
  },
  {
   "cell_type": "code",
   "execution_count": null,
   "metadata": {
    "ExecuteTime": {
     "end_time": "2020-09-02T23:43:33.882093Z",
     "start_time": "2020-09-02T23:43:33.867343Z"
    }
   },
   "outputs": [],
   "source": [
    "df.info()"
   ]
  },
  {
   "cell_type": "code",
   "execution_count": null,
   "metadata": {
    "ExecuteTime": {
     "end_time": "2020-09-02T23:46:19.018512Z",
     "start_time": "2020-09-02T23:46:19.014902Z"
    }
   },
   "outputs": [],
   "source": [
    "#What is the average wine_servings across the globe?  \n",
    "df['wine_servings'].mean()"
   ]
  },
  {
   "cell_type": "code",
   "execution_count": null,
   "metadata": {
    "ExecuteTime": {
     "end_time": "2020-09-02T23:50:03.310108Z",
     "start_time": "2020-09-02T23:50:03.300946Z"
    }
   },
   "outputs": [],
   "source": [
    "df.nunique() #what does this do?"
   ]
  },
  {
   "cell_type": "code",
   "execution_count": null,
   "metadata": {
    "ExecuteTime": {
     "end_time": "2020-09-02T23:52:41.420306Z",
     "start_time": "2020-09-02T23:52:41.407351Z"
    }
   },
   "outputs": [],
   "source": [
    "#whats the average wine_servings per continent?\n",
    "df.groupby('continent').wine_servings.mean()"
   ]
  },
  {
   "cell_type": "code",
   "execution_count": null,
   "metadata": {
    "ExecuteTime": {
     "end_time": "2020-09-02T23:54:55.492668Z",
     "start_time": "2020-09-02T23:54:55.229891Z"
    }
   },
   "outputs": [],
   "source": [
    "#Create a bar graph of the average drinks per continent \n",
    "df.groupby('continent').mean().plot(kind='bar')"
   ]
  },
  {
   "cell_type": "code",
   "execution_count": null,
   "metadata": {
    "ExecuteTime": {
     "end_time": "2020-09-03T00:01:44.203307Z",
     "start_time": "2020-09-03T00:01:44.189010Z"
    }
   },
   "outputs": [],
   "source": [
    "#map - best used for mapping strings into ints\n",
    "df['num_continent'] = df['continent'].map({'Asia':0, 'Europe':1})\n",
    "df.head()"
   ]
  },
  {
   "cell_type": "code",
   "execution_count": null,
   "metadata": {
    "ExecuteTime": {
     "end_time": "2020-09-03T00:08:47.714226Z",
     "start_time": "2020-09-03T00:08:47.683191Z"
    }
   },
   "outputs": [],
   "source": [
    "#apply - applies a function to each element in a series or df. \n",
    "df.loc[:, ['beer_servings', 'wine_servings']].apply(np.argmax, axis=1)"
   ]
  },
  {
   "cell_type": "code",
   "execution_count": null,
   "metadata": {},
   "outputs": [],
   "source": []
  }
 ],
 "metadata": {
  "kernelspec": {
   "display_name": "learn-env",
   "language": "python",
   "name": "learn-env"
  },
  "language_info": {
   "codemirror_mode": {
    "name": "ipython",
    "version": 3
   },
   "file_extension": ".py",
   "mimetype": "text/x-python",
   "name": "python",
   "nbconvert_exporter": "python",
   "pygments_lexer": "ipython3",
   "version": "3.6.6"
  },
  "toc": {
   "base_numbering": 1,
   "nav_menu": {},
   "number_sections": true,
   "sideBar": true,
   "skip_h1_title": true,
   "title_cell": "Table of Contents",
   "title_sidebar": "Contents",
   "toc_cell": false,
   "toc_position": {},
   "toc_section_display": true,
   "toc_window_display": false
  }
 },
 "nbformat": 4,
 "nbformat_minor": 2
}
