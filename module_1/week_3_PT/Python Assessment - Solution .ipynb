{
 "cells": [
  {
   "cell_type": "markdown",
   "metadata": {},
   "source": [
    "# Python Nested Structures Assessment Solution\n",
    "\n",
    ">**Below, I've defined a dictionary with soccer player names as _keys_ for nested dictionaries containing information about each players age, nationality, and a list of teams they have played for. Use this object to answer the following questions.** \n",
    "\n",
    ">**I will push the solution to this assessment later today BUT do not pull down the solution until you've given this a solid attempt! It can be very tempting to simply look at the solution. Spend at least 60mins trying to answer the following questions and then look at the solution. Happy coding!**"
   ]
  },
  {
   "cell_type": "code",
   "execution_count": 1,
   "metadata": {
    "ExecuteTime": {
     "end_time": "2020-06-22T14:53:40.741632Z",
     "start_time": "2020-06-22T14:53:40.729119Z"
    }
   },
   "outputs": [],
   "source": [
    "players = {\n",
    "    'L. Messi': {\n",
    "\t\t'age': 31,\n",
    "\t\t'nationality': 'Argentina',\n",
    "\t\t'teams': ['Barcelona']\n",
    "\t},\n",
    "\t'Cristiano Ronaldo': {\n",
    "\t\t'age': 33,\n",
    "\t\t'nationality': 'Portugal',\n",
    "\t\t'teams': ['Juventus', 'Real Madrid', 'Manchester United']\n",
    "\t},\n",
    "\t'Neymar Jr': {\n",
    "\t\t'age': 26,\n",
    "\t\t'nationality': 'Brazil',\n",
    "\t\t'teams': ['Santos', 'Barcelona', 'Paris Saint-German']\n",
    "\t},\n",
    "\t'De Gea': {\n",
    "\t\t'age': 27,\n",
    "\t\t'nationality': 'Spain',\n",
    "\t\t'teams': ['Atletico Madrid', 'Manchester United']\n",
    "\t},\n",
    "\t'K. De Bruyne': {\n",
    "\t\t'age': 27,\n",
    "\t\t'nationality': 'Belgium',\n",
    "\t\t'teams': ['Chelsea', 'Manchester City']\n",
    "\t}\n",
    "}"
   ]
  },
  {
   "cell_type": "markdown",
   "metadata": {},
   "source": [
    "**1) Create a list of all the keys in the players dictionary. Use python's documentation on dictionaries for help if needed. Store the list of player names in a variable called player_names to use in the next question.**"
   ]
  },
  {
   "cell_type": "code",
   "execution_count": 2,
   "metadata": {
    "ExecuteTime": {
     "end_time": "2020-06-22T14:54:23.032352Z",
     "start_time": "2020-06-22T14:54:23.029608Z"
    }
   },
   "outputs": [],
   "source": [
    "# Get the list of all player names from the dictionary\n",
    "player_names = list(players.keys())"
   ]
  },
  {
   "cell_type": "code",
   "execution_count": 3,
   "metadata": {
    "ExecuteTime": {
     "end_time": "2020-06-22T14:54:23.808450Z",
     "start_time": "2020-06-22T14:54:23.805005Z"
    }
   },
   "outputs": [
    {
     "name": "stdout",
     "output_type": "stream",
     "text": [
      "['L. Messi', 'Cristiano Ronaldo', 'Neymar Jr', 'De Gea', 'K. De Bruyne']\n"
     ]
    }
   ],
   "source": [
    "print(player_names)"
   ]
  },
  {
   "cell_type": "markdown",
   "metadata": {},
   "source": [
    "**2) Great! Now that we have each players name, let's use that information to create a list of tuples containing each player's name along with their nationality. Store the list in a variable called player_nationalities**"
   ]
  },
  {
   "cell_type": "code",
   "execution_count": 4,
   "metadata": {
    "ExecuteTime": {
     "end_time": "2020-06-22T14:54:42.896942Z",
     "start_time": "2020-06-22T14:54:42.894125Z"
    }
   },
   "outputs": [],
   "source": [
    "# Generate list of tuples such that the first element in the tuple is \n",
    "# a players name and the second is their nationality \n",
    "# Ex: [('L. Messi', 'Argentina'), ('Christiano Ronaldo', 'Portugal'), ...]\n",
    "player_nationalities = [(name, players[name]['nationality']) for name in player_names]"
   ]
  },
  {
   "cell_type": "code",
   "execution_count": 5,
   "metadata": {
    "ExecuteTime": {
     "end_time": "2020-06-22T14:54:43.510545Z",
     "start_time": "2020-06-22T14:54:43.507058Z"
    }
   },
   "outputs": [
    {
     "name": "stdout",
     "output_type": "stream",
     "text": [
      "[('L. Messi', 'Argentina'), ('Cristiano Ronaldo', 'Portugal'), ('Neymar Jr', 'Brazil'), ('De Gea', 'Spain'), ('K. De Bruyne', 'Belgium')]\n"
     ]
    }
   ],
   "source": [
    "print(player_nationalities)"
   ]
  },
  {
   "cell_type": "markdown",
   "metadata": {},
   "source": [
    "**3) Now, define a function called get_players_on_team that returns a list of the names of all the players who have played on a given team.**\n",
    "\n",
    "**Your function should take two arguments:**\n",
    "\n",
    "**a dictionary of player information\n",
    "a string of the team you are trying to find the players for\n",
    "Be sure that your function has a return statement.**"
   ]
  },
  {
   "cell_type": "code",
   "execution_count": 6,
   "metadata": {
    "ExecuteTime": {
     "end_time": "2020-06-22T14:55:03.952473Z",
     "start_time": "2020-06-22T14:55:03.949284Z"
    }
   },
   "outputs": [],
   "source": [
    "# Define your get_players_on_team function here.\n",
    "def get_players_on_team(dict_,team_name):\n",
    "    player_list = []\n",
    "    for player in dict_:\n",
    "        if team_name in dict_[player]['teams']:\n",
    "            player_list.append(player)\n",
    "    return player_list"
   ]
  },
  {
   "cell_type": "code",
   "execution_count": 7,
   "metadata": {
    "ExecuteTime": {
     "end_time": "2020-06-22T14:55:04.691747Z",
     "start_time": "2020-06-22T14:55:04.687655Z"
    }
   },
   "outputs": [
    {
     "name": "stdout",
     "output_type": "stream",
     "text": [
      "['Cristiano Ronaldo', 'De Gea']\n"
     ]
    }
   ],
   "source": [
    "players_on_manchester_united = get_players_on_team(players,'Manchester United')\n",
    "print(players_on_manchester_united)"
   ]
  },
  {
   "cell_type": "code",
   "execution_count": null,
   "metadata": {},
   "outputs": [],
   "source": []
  }
 ],
 "metadata": {
  "kernelspec": {
   "display_name": "learn-env",
   "language": "python",
   "name": "learn-env"
  },
  "language_info": {
   "codemirror_mode": {
    "name": "ipython",
    "version": 3
   },
   "file_extension": ".py",
   "mimetype": "text/x-python",
   "name": "python",
   "nbconvert_exporter": "python",
   "pygments_lexer": "ipython3",
   "version": "3.6.6"
  },
  "toc": {
   "base_numbering": 1,
   "nav_menu": {},
   "number_sections": true,
   "sideBar": true,
   "skip_h1_title": true,
   "title_cell": "Table of Contents",
   "title_sidebar": "Contents",
   "toc_cell": false,
   "toc_position": {},
   "toc_section_display": true,
   "toc_window_display": false
  }
 },
 "nbformat": 4,
 "nbformat_minor": 2
}
