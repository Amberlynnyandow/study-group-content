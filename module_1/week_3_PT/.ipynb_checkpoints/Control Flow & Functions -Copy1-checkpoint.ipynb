{
 "cells": [
  {
   "cell_type": "markdown",
   "metadata": {},
   "source": [
    "### Be sure to Review Python Basics - you should be familiar with the following:\n",
    "* Data types(strings, integers, floats, booleans, lists, dictionaries, tuples and sets) \n",
    "* Control Flow(if statements, Else/Elif statements, For loops) "
   ]
  },
  {
   "cell_type": "markdown",
   "metadata": {},
   "source": [
    "## Methods\n",
    "\n",
    "A method is a function that belongs to an object. And in Python, most things are objects! Naturally, the methods that belong to a particular object can vary depending on the object's datatype.\n",
    "\n",
    "### String Methods\n",
    "\n",
    "Here are some useful methods for strings:\n",
    "\n",
    "- ```.upper()```: converts a string to uppercase\n",
    "- ```.lower()```: converts a string to lowercase\n",
    "- ```.capitalize()```: makes the first letter of a string a capital"
   ]
  },
  {
   "cell_type": "code",
   "execution_count": 1,
   "metadata": {
    "ExecuteTime": {
     "end_time": "2020-06-09T22:19:45.986423Z",
     "start_time": "2020-06-09T22:19:45.982768Z"
    }
   },
   "outputs": [],
   "source": [
    "first_name = 'greg'\n",
    "last_name = 'damico'"
   ]
  },
  {
   "cell_type": "markdown",
   "metadata": {},
   "source": [
    "**Exercise: How would you print them together with first and last name capitalized?** "
   ]
  },
  {
   "cell_type": "code",
   "execution_count": 9,
   "metadata": {
    "ExecuteTime": {
     "end_time": "2020-06-09T22:26:36.313121Z",
     "start_time": "2020-06-09T22:26:36.310255Z"
    }
   },
   "outputs": [
    {
     "name": "stdout",
     "output_type": "stream",
     "text": [
      "Greg Damico\n"
     ]
    }
   ],
   "source": [
    "print(f\"{first_name} {last_name}\".title())"
   ]
  },
  {
   "cell_type": "markdown",
   "metadata": {},
   "source": [
    "### f-Strings \n",
    "- f-Strings are a convenient way to bring variables into strings."
   ]
  },
  {
   "cell_type": "code",
   "execution_count": null,
   "metadata": {
    "ExecuteTime": {
     "end_time": "2020-06-09T16:59:38.168590Z",
     "start_time": "2020-06-09T16:59:38.165258Z"
    }
   },
   "outputs": [],
   "source": []
  },
  {
   "cell_type": "markdown",
   "metadata": {},
   "source": [
    "## List Methods\n",
    "\n",
    "Here are some useful methods for lists:\n",
    "\n",
    "* append(): adds an element to the end of a list\n",
    "* pop(): removes an element from the list\n",
    "* extend(): adds multiple elements to the end of a list\n",
    "* index(): returns (first) place in list where argument is found\n",
    "* remove(): removes element by value\n",
    "\n",
    "**Question: What's the difference between .remove() and del?**\n",
    "\n"
   ]
  },
  {
   "cell_type": "code",
   "execution_count": 15,
   "metadata": {
    "ExecuteTime": {
     "end_time": "2020-06-09T22:27:42.741509Z",
     "start_time": "2020-06-09T22:27:42.738712Z"
    }
   },
   "outputs": [],
   "source": [
    "list_1 = [1, 2, 4]\n",
    "\n",
    "list_2 = [8, 16]"
   ]
  },
  {
   "cell_type": "code",
   "execution_count": 16,
   "metadata": {
    "ExecuteTime": {
     "end_time": "2020-06-09T22:28:09.861209Z",
     "start_time": "2020-06-09T22:28:09.858788Z"
    }
   },
   "outputs": [],
   "source": [
    "del list_1[]\n"
   ]
  },
  {
   "cell_type": "code",
   "execution_count": 17,
   "metadata": {
    "ExecuteTime": {
     "end_time": "2020-06-09T22:28:22.599870Z",
     "start_time": "2020-06-09T22:28:22.595478Z"
    }
   },
   "outputs": [
    {
     "data": {
      "text/plain": [
       "[1, 4]"
      ]
     },
     "execution_count": 17,
     "metadata": {},
     "output_type": "execute_result"
    }
   ],
   "source": [
    "list_1"
   ]
  },
  {
   "cell_type": "markdown",
   "metadata": {},
   "source": [
    "**Since we're discussing indexing let's use a list comprehension to create a new list that we can use for slicing practice** \n",
    "\n",
    "\n",
    "A _slice_ is a subset of list elements. In the case of lists, a single slice will always be of contiguous elements. Slice notation takes the form - my_list[start:stop:step]"
   ]
  },
  {
   "cell_type": "code",
   "execution_count": 18,
   "metadata": {
    "ExecuteTime": {
     "end_time": "2020-06-09T22:31:03.848712Z",
     "start_time": "2020-06-09T22:31:03.846380Z"
    }
   },
   "outputs": [],
   "source": [
    "#use for loop first \n",
    "word = 'abcdefghi'\n",
    "char_list = []"
   ]
  },
  {
   "cell_type": "code",
   "execution_count": 19,
   "metadata": {
    "ExecuteTime": {
     "end_time": "2020-06-09T22:31:57.940290Z",
     "start_time": "2020-06-09T22:31:57.937221Z"
    }
   },
   "outputs": [
    {
     "data": {
      "text/plain": [
       "['a', 'b', 'c', 'd', 'e', 'f', 'g', 'h', 'i']"
      ]
     },
     "execution_count": 19,
     "metadata": {},
     "output_type": "execute_result"
    }
   ],
   "source": [
    "for letter in word:\n",
    "    char_list.append(letter)\n",
    "\n",
    "char_list"
   ]
  },
  {
   "cell_type": "code",
   "execution_count": 23,
   "metadata": {
    "ExecuteTime": {
     "end_time": "2020-06-09T22:36:25.192531Z",
     "start_time": "2020-06-09T22:36:25.189250Z"
    }
   },
   "outputs": [
    {
     "data": {
      "text/plain": [
       "['a', 'b', 'c', 'd', 'e', 'f', 'g', 'h', 'i']"
      ]
     },
     "execution_count": 23,
     "metadata": {},
     "output_type": "execute_result"
    }
   ],
   "source": [
    "#Use a list comprehension to create a list containing the letters a-i\n",
    "my_list = [x for x in word]\n",
    "my_list"
   ]
  },
  {
   "cell_type": "code",
   "execution_count": 31,
   "metadata": {
    "ExecuteTime": {
     "end_time": "2020-06-09T22:40:43.753867Z",
     "start_time": "2020-06-09T22:40:43.750936Z"
    }
   },
   "outputs": [
    {
     "data": {
      "text/plain": [
       "['f', 'e']"
      ]
     },
     "execution_count": 31,
     "metadata": {},
     "output_type": "execute_result"
    }
   ],
   "source": [
    "#practice indexing \n",
    "my_list[5:3:-1]"
   ]
  },
  {
   "cell_type": "markdown",
   "metadata": {},
   "source": [
    "**Exercise: How do we return [‘f’, ‘e’] using a slice?**"
   ]
  },
  {
   "cell_type": "markdown",
   "metadata": {},
   "source": [
    "## Dictionary Methods\n",
    "Here are some useful methods for dictionaries:\n",
    "\n",
    "- .keys(): returns an array of the dictionary's keys\n",
    "- .values(): returns an array of the dictionary's values\n",
    "- .items(): returns an array of key-value tuples"
   ]
  },
  {
   "cell_type": "code",
   "execution_count": 32,
   "metadata": {
    "ExecuteTime": {
     "end_time": "2020-06-09T22:43:26.444296Z",
     "start_time": "2020-06-09T22:43:26.442082Z"
    }
   },
   "outputs": [],
   "source": [
    "zoo = {1: 'giraffe', 2: 'elephant', 3: 'monkey'}"
   ]
  },
  {
   "cell_type": "code",
   "execution_count": 33,
   "metadata": {
    "ExecuteTime": {
     "end_time": "2020-06-09T22:44:19.383136Z",
     "start_time": "2020-06-09T22:44:19.380063Z"
    }
   },
   "outputs": [
    {
     "name": "stdout",
     "output_type": "stream",
     "text": [
      "dict_keys([1, 2, 3])\n",
      "dict_values(['giraffe', 'elephant', 'monkey'])\n"
     ]
    }
   ],
   "source": [
    "#how can we access the keys and values in this dictionary? \n",
    "print(zoo.keys())\n",
    "print(zoo.values())"
   ]
  },
  {
   "cell_type": "code",
   "execution_count": 37,
   "metadata": {
    "ExecuteTime": {
     "end_time": "2020-06-09T22:46:54.644084Z",
     "start_time": "2020-06-09T22:46:54.641290Z"
    }
   },
   "outputs": [
    {
     "name": "stdout",
     "output_type": "stream",
     "text": [
      "giraffe\n",
      "elephant\n",
      "monkey\n"
     ]
    }
   ],
   "source": [
    "#How do we use a for loop? \n",
    "for x in zoo:\n",
    "    print(zoo[x])"
   ]
  },
  {
   "cell_type": "markdown",
   "metadata": {},
   "source": [
    "## Functions\n",
    "This aspect of Python is incredibly useful! Writing your own functions can save you a TON of work - by automating it."
   ]
  },
  {
   "cell_type": "code",
   "execution_count": 40,
   "metadata": {
    "ExecuteTime": {
     "end_time": "2020-06-09T22:50:49.880578Z",
     "start_time": "2020-06-09T22:50:49.878256Z"
    }
   },
   "outputs": [],
   "source": [
    "#Build a function that will take an input string and add '-totally' to the end of it.\n",
    "def add_totally(string):\n",
    "    return string + '-totally'"
   ]
  },
  {
   "cell_type": "code",
   "execution_count": 41,
   "metadata": {
    "ExecuteTime": {
     "end_time": "2020-06-09T22:50:50.622808Z",
     "start_time": "2020-06-09T22:50:50.619417Z"
    }
   },
   "outputs": [
    {
     "data": {
      "text/plain": [
       "'Really? -totally'"
      ]
     },
     "execution_count": 41,
     "metadata": {},
     "output_type": "execute_result"
    }
   ],
   "source": [
    "add_totally('Really? ')"
   ]
  },
  {
   "cell_type": "code",
   "execution_count": 46,
   "metadata": {
    "ExecuteTime": {
     "end_time": "2020-06-09T23:05:38.739492Z",
     "start_time": "2020-06-09T23:05:38.736263Z"
    }
   },
   "outputs": [],
   "source": [
    "#write a function for reverse words - Great Job --> taerG boJ\n",
    "def spin_words(s):\n",
    "    my_list = s.split(' ')\n",
    "    my_list2 = []\n",
    "    for word in my_list:\n",
    "        my_list2.append(word[::-1])\n",
    "    return f' '.join(my_list2)    \n",
    "       \n",
    "    \n",
    "        \n",
    "    "
   ]
  },
  {
   "cell_type": "code",
   "execution_count": 49,
   "metadata": {
    "ExecuteTime": {
     "end_time": "2020-06-09T23:07:19.091867Z",
     "start_time": "2020-06-09T23:07:19.088087Z"
    }
   },
   "outputs": [
    {
     "data": {
      "text/plain": [
       "'taerG boJ'"
      ]
     },
     "execution_count": 49,
     "metadata": {},
     "output_type": "execute_result"
    }
   ],
   "source": [
    "spin_words('Great Job')"
   ]
  },
  {
   "cell_type": "code",
   "execution_count": 48,
   "metadata": {
    "ExecuteTime": {
     "end_time": "2020-06-09T23:07:15.641172Z",
     "start_time": "2020-06-09T23:07:15.639003Z"
    }
   },
   "outputs": [],
   "source": [
    "def spin_words(str):\n",
    "    return ' '.join(s[::-1] for s in str.split(' '))"
   ]
  },
  {
   "cell_type": "code",
   "execution_count": null,
   "metadata": {},
   "outputs": [],
   "source": []
  }
 ],
 "metadata": {
  "kernelspec": {
   "display_name": "learn-env",
   "language": "python",
   "name": "learn-env"
  },
  "language_info": {
   "codemirror_mode": {
    "name": "ipython",
    "version": 3
   },
   "file_extension": ".py",
   "mimetype": "text/x-python",
   "name": "python",
   "nbconvert_exporter": "python",
   "pygments_lexer": "ipython3",
   "version": "3.6.6"
  },
  "toc": {
   "base_numbering": 1,
   "nav_menu": {},
   "number_sections": true,
   "sideBar": true,
   "skip_h1_title": true,
   "title_cell": "Table of Contents",
   "title_sidebar": "Contents",
   "toc_cell": false,
   "toc_position": {},
   "toc_section_display": true,
   "toc_window_display": false
  }
 },
 "nbformat": 4,
 "nbformat_minor": 2
}
