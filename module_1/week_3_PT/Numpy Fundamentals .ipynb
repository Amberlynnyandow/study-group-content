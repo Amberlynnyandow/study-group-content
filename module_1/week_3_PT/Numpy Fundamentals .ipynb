{
 "cells": [
  {
   "cell_type": "markdown",
   "metadata": {
    "toc": true
   },
   "source": [
    "<h1>Table of Contents<span class=\"tocSkip\"></span></h1>\n",
    "<div class=\"toc\"><ul class=\"toc-item\"><li><span><a href=\"#1.-Importing-Python-Libraries\" data-toc-modified-id=\"1.-Importing-Python-Libraries-1\"><span class=\"toc-item-num\">1&nbsp;&nbsp;</span>1. Importing Python Libraries</a></span></li><li><span><a href=\"#Numpy-Arrays-vs.-Python-Lists\" data-toc-modified-id=\"Numpy-Arrays-vs.-Python-Lists-2\"><span class=\"toc-item-num\">2&nbsp;&nbsp;</span>Numpy Arrays vs. Python Lists</a></span></li><li><span><a href=\"#Numpy-Data-Types\" data-toc-modified-id=\"Numpy-Data-Types-3\"><span class=\"toc-item-num\">3&nbsp;&nbsp;</span>Numpy Data Types</a></span></li><li><span><a href=\"#Other-ways-to-create-Numpy-arrays\" data-toc-modified-id=\"Other-ways-to-create-Numpy-arrays-4\"><span class=\"toc-item-num\">4&nbsp;&nbsp;</span>Other ways to create Numpy arrays</a></span></li><li><span><a href=\"#Applying-Operations-to-Arrays\" data-toc-modified-id=\"Applying-Operations-to-Arrays-5\"><span class=\"toc-item-num\">5&nbsp;&nbsp;</span>Applying Operations to Arrays</a></span></li><li><span><a href=\"#Reshaping\" data-toc-modified-id=\"Reshaping-6\"><span class=\"toc-item-num\">6&nbsp;&nbsp;</span>Reshaping</a></span></li><li><span><a href=\"#Slicing\" data-toc-modified-id=\"Slicing-7\"><span class=\"toc-item-num\">7&nbsp;&nbsp;</span>Slicing</a></span></li><li><span><a href=\"#Broadcasting\" data-toc-modified-id=\"Broadcasting-8\"><span class=\"toc-item-num\">8&nbsp;&nbsp;</span>Broadcasting</a></span></li><li><span><a href=\"#Exercises\" data-toc-modified-id=\"Exercises-9\"><span class=\"toc-item-num\">9&nbsp;&nbsp;</span>Exercises</a></span></li></ul></div>"
   ]
  },
  {
   "cell_type": "markdown",
   "metadata": {},
   "source": [
    "## 1. Importing Python Libraries\n",
    "\n",
    "Part of the reason why Python is such a powerful tool for data science is that other people have written and optimized functions and wrapped them into **libraries** that we can bring into our own work.\n",
    "\n",
    "![numpy](https://raw.githubusercontent.com/donnemartin/data-science-ipython-notebooks/master/images/numpy.png)\n",
    "\n",
    "[NumPy](https://www.numpy.org/) is the fundamental package for scientific computing with Python. It's most known for its efficiency when working with arrays. Today we'll cover some basic array manipulations in Numpy.\n",
    "\n",
    "**Attributes of arrays:** Determining the size, shape, memory consumption, and data types of arrays\n",
    "\n",
    "**Indexing of arrays:** Getting and setting the value of individual array elements\n",
    "\n",
    "**Slicing of arrays:** Getting and setting smaller subarrays within a larger array\n",
    "\n",
    "**Reshaping of arrays:** Changing the shape of a given array\n",
    "\n",
    "**Joining and splitting of arrays:** Combining multiple arrays into one, and splitting one array into many\n",
    "\n",
    "\n",
    "To use a package in your current workspace type `import` followed by the name of the library as shown below."
   ]
  },
  {
   "cell_type": "code",
   "execution_count": 1,
   "metadata": {
    "ExecuteTime": {
     "end_time": "2020-10-05T20:39:25.539233Z",
     "start_time": "2020-10-05T20:39:22.258072Z"
    }
   },
   "outputs": [],
   "source": [
    "import numpy as np"
   ]
  },
  {
   "cell_type": "markdown",
   "metadata": {},
   "source": [
    "That worked because numpy is [included with Anaconda](https://docs.anaconda.com/anaconda/packages/py3.7_osx-64/), so numpy was installed when you installed Anaconda. Other packages will need to be installed before you can use them. Many packages have standard import aliases. We effect this aliasing by using the Python keyword `as`. For numpy, the standard alias is `np`."
   ]
  },
  {
   "cell_type": "markdown",
   "metadata": {},
   "source": [
    "![](https://qph.fs.quoracdn.net/main-qimg-8868f07e6ddb4f294bad22ca348d1e2d)"
   ]
  },
  {
   "cell_type": "markdown",
   "metadata": {},
   "source": [
    "## Numpy Arrays vs. Python Lists \n",
    "\n",
    "An array is a data structure that stores values of same data type. In Python, this is the main difference between arrays and lists. While python lists can contain values corresponding to different data types, arrays in python can only contain values corresponding to same data type.\n",
    "\n",
    "**Advantages of Numpy**\n",
    "1. It's faster. You don't need for loops to iterate over the array like you do with lists and there is only 1 data type in each array so Python doesn't need to spend time type checking.\n",
    "2. Uses less memory. Python list objects are pointers with 4B/pointer and 16B+ for numerical objects. Arrays have no pointers and the type and itemsize is the same for each column. "
   ]
  },
  {
   "cell_type": "code",
   "execution_count": null,
   "metadata": {
    "ExecuteTime": {
     "end_time": "2020-09-02T23:19:31.957359Z",
     "start_time": "2020-09-02T23:19:31.951709Z"
    }
   },
   "outputs": [],
   "source": [
    "my_list = [5, 10, 15]\n",
    "\n",
    "my_array = np.array([5, 10, 15])\n",
    "\n",
    "print(my_list)\n",
    "print(my_array)"
   ]
  },
  {
   "cell_type": "code",
   "execution_count": null,
   "metadata": {
    "ExecuteTime": {
     "end_time": "2020-09-02T23:22:50.979052Z",
     "start_time": "2020-09-02T23:22:50.975303Z"
    }
   },
   "outputs": [],
   "source": [
    "#how would we multiply each item in our list by 3? Use %timeit\n"
   ]
  },
  {
   "cell_type": "code",
   "execution_count": null,
   "metadata": {
    "ExecuteTime": {
     "end_time": "2020-09-02T23:21:13.882943Z",
     "start_time": "2020-09-02T23:21:13.878412Z"
    }
   },
   "outputs": [],
   "source": [
    "#how about our array? \n"
   ]
  },
  {
   "cell_type": "markdown",
   "metadata": {},
   "source": [
    "## Numpy Data Types\n",
    "\n",
    "[Free Python Data Science Handbook by Jake VanderPlas](https://jakevdp.github.io/PythonDataScienceHandbook/02.01-understanding-data-types.html)\n",
    "\n"
   ]
  },
  {
   "cell_type": "markdown",
   "metadata": {},
   "source": [
    "## Other ways to create Numpy arrays"
   ]
  },
  {
   "cell_type": "code",
   "execution_count": null,
   "metadata": {
    "ExecuteTime": {
     "end_time": "2020-09-02T23:26:26.186425Z",
     "start_time": "2020-09-02T23:26:26.180952Z"
    }
   },
   "outputs": [],
   "source": [
    "#To create an array of strings\n",
    "str_array = np.char.array(['Bob', 'Bill', 'Joe'])\n",
    "str_array"
   ]
  },
  {
   "cell_type": "code",
   "execution_count": null,
   "metadata": {
    "ExecuteTime": {
     "end_time": "2020-09-02T23:27:08.747903Z",
     "start_time": "2020-09-02T23:27:08.743785Z"
    }
   },
   "outputs": [],
   "source": [
    "#arange creates an array from 1-20 taking steps of 2\n",
    "my_array = np.arange(1, 20, 2)\n",
    "my_array"
   ]
  },
  {
   "cell_type": "code",
   "execution_count": 3,
   "metadata": {
    "ExecuteTime": {
     "end_time": "2020-10-05T20:41:18.581091Z",
     "start_time": "2020-10-05T20:41:18.577393Z"
    }
   },
   "outputs": [
    {
     "data": {
      "text/plain": [
       "array([ 1.  ,  5.75, 10.5 , 15.25, 20.  ])"
      ]
     },
     "execution_count": 3,
     "metadata": {},
     "output_type": "execute_result"
    }
   ],
   "source": [
    "#linspace creates a floating point array from 1-20 with 5 elements\n",
    "my_array = np.linspace(1, 20, 5)\n",
    "my_array"
   ]
  },
  {
   "cell_type": "code",
   "execution_count": null,
   "metadata": {
    "ExecuteTime": {
     "end_time": "2020-09-02T23:28:04.341776Z",
     "start_time": "2020-09-02T23:28:04.337728Z"
    }
   },
   "outputs": [],
   "source": [
    "#creating a multidimensional array\n",
    "multi_array = np.array([(1,2,3), (4,5,6), (7,8,9)])\n",
    "multi_array"
   ]
  },
  {
   "cell_type": "code",
   "execution_count": 5,
   "metadata": {
    "ExecuteTime": {
     "end_time": "2020-10-05T20:43:10.509013Z",
     "start_time": "2020-10-05T20:43:10.505699Z"
    }
   },
   "outputs": [
    {
     "data": {
      "text/plain": [
       "array([[0.31753978, 0.99454767, 0.74343604],\n",
       "       [0.34522305, 0.28349619, 0.76094476]])"
      ]
     },
     "execution_count": 5,
     "metadata": {},
     "output_type": "execute_result"
    }
   ],
   "source": [
    "#creating an array of random floats from 0-1\n",
    "rand_array = np.random.random((2,3))\n",
    "rand_array"
   ]
  },
  {
   "cell_type": "code",
   "execution_count": null,
   "metadata": {
    "ExecuteTime": {
     "end_time": "2020-09-02T23:31:21.352638Z",
     "start_time": "2020-09-02T23:31:21.348474Z"
    }
   },
   "outputs": [],
   "source": [
    "#creating an array of random integers\n",
    "rand_array = np.random.randint(0,10,5)\n",
    "rand_array"
   ]
  },
  {
   "cell_type": "markdown",
   "metadata": {},
   "source": [
    "## Applying Operations to Arrays\n",
    "* array.min(), .max()\n",
    "* array.mean(), .var(), .std()"
   ]
  },
  {
   "cell_type": "code",
   "execution_count": null,
   "metadata": {},
   "outputs": [],
   "source": [
    "rand_array. #tab"
   ]
  },
  {
   "cell_type": "markdown",
   "metadata": {},
   "source": [
    "## Reshaping "
   ]
  },
  {
   "cell_type": "code",
   "execution_count": null,
   "metadata": {
    "ExecuteTime": {
     "end_time": "2020-08-31T18:47:11.760549Z",
     "start_time": "2020-08-31T18:47:11.698568Z"
    }
   },
   "outputs": [],
   "source": [
    "print(my_array)"
   ]
  },
  {
   "cell_type": "code",
   "execution_count": null,
   "metadata": {
    "ExecuteTime": {
     "end_time": "2020-06-10T22:57:24.114446Z",
     "start_time": "2020-06-10T22:57:24.108734Z"
    }
   },
   "outputs": [],
   "source": [
    "my_array = my_array.reshape(5,2)  "
   ]
  },
  {
   "cell_type": "code",
   "execution_count": null,
   "metadata": {
    "ExecuteTime": {
     "end_time": "2020-06-10T22:57:26.847162Z",
     "start_time": "2020-06-10T22:57:26.843670Z"
    }
   },
   "outputs": [],
   "source": [
    "my_array.size "
   ]
  },
  {
   "cell_type": "code",
   "execution_count": null,
   "metadata": {
    "ExecuteTime": {
     "end_time": "2020-06-10T22:57:28.800026Z",
     "start_time": "2020-06-10T22:57:28.796302Z"
    }
   },
   "outputs": [],
   "source": [
    "my_array.shape #what happened here? "
   ]
  },
  {
   "cell_type": "code",
   "execution_count": null,
   "metadata": {
    "ExecuteTime": {
     "end_time": "2020-06-10T22:57:58.373286Z",
     "start_time": "2020-06-10T22:57:58.370067Z"
    }
   },
   "outputs": [],
   "source": [
    "my_array.dtype"
   ]
  },
  {
   "cell_type": "code",
   "execution_count": null,
   "metadata": {
    "ExecuteTime": {
     "end_time": "2020-06-10T22:58:07.446950Z",
     "start_time": "2020-06-10T22:58:07.444149Z"
    }
   },
   "outputs": [],
   "source": [
    "my_array.itemsize "
   ]
  },
  {
   "cell_type": "code",
   "execution_count": null,
   "metadata": {
    "ExecuteTime": {
     "end_time": "2020-06-10T23:00:13.277960Z",
     "start_time": "2020-06-10T23:00:13.275198Z"
    }
   },
   "outputs": [],
   "source": [
    "print(my_array)"
   ]
  },
  {
   "cell_type": "code",
   "execution_count": null,
   "metadata": {
    "ExecuteTime": {
     "end_time": "2020-06-10T23:00:39.199736Z",
     "start_time": "2020-06-10T23:00:39.195238Z"
    }
   },
   "outputs": [],
   "source": [
    "my_array.sum(axis=0) #1 is vertical 0 is horizontal"
   ]
  },
  {
   "cell_type": "markdown",
   "metadata": {},
   "source": [
    "## Slicing "
   ]
  },
  {
   "cell_type": "code",
   "execution_count": null,
   "metadata": {
    "ExecuteTime": {
     "end_time": "2020-09-02T23:34:39.603918Z",
     "start_time": "2020-09-02T23:34:39.600616Z"
    }
   },
   "outputs": [],
   "source": [
    "#create an array x of integers ranging from 0-10\n",
    "x = np.array(range(0,11))\n",
    "x"
   ]
  },
  {
   "cell_type": "code",
   "execution_count": null,
   "metadata": {
    "ExecuteTime": {
     "end_time": "2020-09-02T23:35:02.292890Z",
     "start_time": "2020-09-02T23:35:02.289724Z"
    }
   },
   "outputs": [],
   "source": [
    "#print the last 5 elements \n",
    "x[6:]"
   ]
  },
  {
   "cell_type": "code",
   "execution_count": null,
   "metadata": {
    "ExecuteTime": {
     "end_time": "2020-09-02T23:36:07.480881Z",
     "start_time": "2020-09-02T23:36:07.476850Z"
    }
   },
   "outputs": [],
   "source": [
    "#print every other element starting at index 1\n",
    "x[1::2]"
   ]
  },
  {
   "cell_type": "markdown",
   "metadata": {},
   "source": [
    "## Broadcasting \n",
    "The term broadcasting describes how numpy treats arrays with different shapes during arithmetic operations. Subject to certain constraints, the smaller array is “broadcast” across the larger array so that they have compatible shapes.\n",
    "Two arrays can be broadcast together if their dimensions have the same value or if one of the dimensions have a value of 1."
   ]
  },
  {
   "cell_type": "code",
   "execution_count": null,
   "metadata": {},
   "outputs": [],
   "source": [
    "a = np.array([10, 20, 30]) #1x3 dimension array\n",
    "b = 5\n",
    "print(a)\n",
    "print(b)"
   ]
  },
  {
   "cell_type": "code",
   "execution_count": null,
   "metadata": {},
   "outputs": [],
   "source": [
    "c = a + b\n",
    "print(c)"
   ]
  },
  {
   "cell_type": "code",
   "execution_count": null,
   "metadata": {},
   "outputs": [],
   "source": [
    "a = np.array([[10, 20, 30], [40, 50, 60]]) #2d array\n",
    "print(a)\n",
    "print(b)\n"
   ]
  },
  {
   "cell_type": "code",
   "execution_count": null,
   "metadata": {},
   "outputs": [],
   "source": [
    "c = a + b\n",
    "print(c)"
   ]
  },
  {
   "cell_type": "code",
   "execution_count": null,
   "metadata": {},
   "outputs": [],
   "source": [
    "v = np.array([12, 24, 36])   \n",
    "w = np.array([45, 55])     \n",
    "  \n",
    "# To compute an outer product we first  \n",
    "# reshape v to a column vector of shape 3x1 \n",
    "# then broadcast it against w to yield an output \n",
    "# of shape 3x2 which is the outer product of v and w \n",
    "print(np.reshape(v, (3, 1)) * w) \n"
   ]
  },
  {
   "cell_type": "code",
   "execution_count": null,
   "metadata": {},
   "outputs": [],
   "source": [
    "x = np.array([[12, 22, 33], [45, 55, 66]]) \n",
    "  \n",
    "# x has shape  2x3 and v has shape (3, ) \n",
    "# so they broadcast to 2x3, \n",
    "print(x + v) \n",
    "\n",
    "# Add a vector to each column of a matrix X has \n",
    "# shape 2x3 and w has shape (2, ) If we transpose x \n",
    "# then it has shape 3x2 and can be broadcast against w  \n",
    "# to yield a result of shape 3x2. \n",
    "  \n",
    "# Transposing this yields the final result  \n",
    "# of shape  2x3 which is the matrix. \n",
    "print((x.T + w).T) "
   ]
  },
  {
   "cell_type": "code",
   "execution_count": null,
   "metadata": {},
   "outputs": [],
   "source": [
    "# Another solution is to reshape w to be a column \n",
    "# vector of shape 2X1 we can then broadcast it  \n",
    "# directly against X to produce the same output. \n",
    "print(x + np.reshape(w, (2, 1))) "
   ]
  },
  {
   "cell_type": "code",
   "execution_count": null,
   "metadata": {},
   "outputs": [],
   "source": [
    "# Multiply a matrix by a constant, X has shape  2x3. \n",
    "# Numpy treats scalars as arrays of shape();  \n",
    "# these can be broadcast together to shape 2x3. \n",
    "print(x * 2) "
   ]
  },
  {
   "cell_type": "markdown",
   "metadata": {},
   "source": [
    "## Exercises "
   ]
  },
  {
   "cell_type": "markdown",
   "metadata": {},
   "source": [
    "1. Calculate the following using numpy:\n",
    "$\\cos\\left(\\frac{\\pi}{3}\\right)$\n",
    "$\\cosh\\left(\\frac{\\pi}{3}\\right)$"
   ]
  },
  {
   "cell_type": "code",
   "execution_count": null,
   "metadata": {},
   "outputs": [],
   "source": []
  },
  {
   "cell_type": "markdown",
   "metadata": {},
   "source": [
    "2. Write a function that will return the logarithm of the standard deviation of an input array."
   ]
  },
  {
   "cell_type": "code",
   "execution_count": null,
   "metadata": {},
   "outputs": [],
   "source": []
  },
  {
   "cell_type": "code",
   "execution_count": null,
   "metadata": {},
   "outputs": [],
   "source": []
  }
 ],
 "metadata": {
  "kernelspec": {
   "display_name": "learn-env",
   "language": "python",
   "name": "learn-env"
  },
  "language_info": {
   "codemirror_mode": {
    "name": "ipython",
    "version": 3
   },
   "file_extension": ".py",
   "mimetype": "text/x-python",
   "name": "python",
   "nbconvert_exporter": "python",
   "pygments_lexer": "ipython3",
   "version": "3.6.6"
  },
  "toc": {
   "base_numbering": 1,
   "nav_menu": {},
   "number_sections": true,
   "sideBar": true,
   "skip_h1_title": false,
   "title_cell": "Table of Contents",
   "title_sidebar": "Contents",
   "toc_cell": true,
   "toc_position": {},
   "toc_section_display": true,
   "toc_window_display": false
  }
 },
 "nbformat": 4,
 "nbformat_minor": 2
}
