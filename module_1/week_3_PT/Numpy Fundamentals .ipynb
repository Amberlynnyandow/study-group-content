{
 "cells": [
  {
   "cell_type": "markdown",
   "metadata": {
    "toc": true
   },
   "source": [
    "<h1>Table of Contents<span class=\"tocSkip\"></span></h1>\n",
    "<div class=\"toc\"><ul class=\"toc-item\"><li><span><a href=\"#1.-Importing-Python-Libraries\" data-toc-modified-id=\"1.-Importing-Python-Libraries-1\"><span class=\"toc-item-num\">1&nbsp;&nbsp;</span>1. Importing Python Libraries</a></span></li><li><span><a href=\"#Numpy-Arrays-vs.-Python-Lists\" data-toc-modified-id=\"Numpy-Arrays-vs.-Python-Lists-2\"><span class=\"toc-item-num\">2&nbsp;&nbsp;</span>Numpy Arrays vs. Python Lists</a></span></li><li><span><a href=\"#Numpy-Data-Types\" data-toc-modified-id=\"Numpy-Data-Types-3\"><span class=\"toc-item-num\">3&nbsp;&nbsp;</span>Numpy Data Types</a></span></li><li><span><a href=\"#Other-ways-to-create-Numpy-arrays\" data-toc-modified-id=\"Other-ways-to-create-Numpy-arrays-4\"><span class=\"toc-item-num\">4&nbsp;&nbsp;</span>Other ways to create Numpy arrays</a></span></li><li><span><a href=\"#Applying-Operations-to-Arrays\" data-toc-modified-id=\"Applying-Operations-to-Arrays-5\"><span class=\"toc-item-num\">5&nbsp;&nbsp;</span>Applying Operations to Arrays</a></span></li><li><span><a href=\"#Reshaping\" data-toc-modified-id=\"Reshaping-6\"><span class=\"toc-item-num\">6&nbsp;&nbsp;</span>Reshaping</a></span></li><li><span><a href=\"#Slicing\" data-toc-modified-id=\"Slicing-7\"><span class=\"toc-item-num\">7&nbsp;&nbsp;</span>Slicing</a></span></li><li><span><a href=\"#Broadcasting\" data-toc-modified-id=\"Broadcasting-8\"><span class=\"toc-item-num\">8&nbsp;&nbsp;</span>Broadcasting</a></span></li></ul></div>"
   ]
  },
  {
   "cell_type": "markdown",
   "metadata": {},
   "source": [
    "## 1. Importing Python Libraries\n",
    "\n",
    "Part of the reason why Python is such a powerful tool for data science is that other people have written and optimized functions and wrapped them into **libraries** that we can bring into our own work.\n",
    "\n",
    "![numpy](https://raw.githubusercontent.com/donnemartin/data-science-ipython-notebooks/master/images/numpy.png)\n",
    "\n",
    "[NumPy](https://www.numpy.org/) is the fundamental package for scientific computing with Python. It's most known for its efficiency when working with arrays. Today we'll cover some basic array manipulations in Numpy.\n",
    "\n",
    "**Attributes of arrays:** Determining the size, shape, memory consumption, and data types of arrays\n",
    "\n",
    "**Indexing of arrays:** Getting and setting the value of individual array elements\n",
    "\n",
    "**Slicing of arrays:** Getting and setting smaller subarrays within a larger array\n",
    "\n",
    "**Reshaping of arrays:** Changing the shape of a given array\n",
    "\n",
    "**Joining and splitting of arrays:** Combining multiple arrays into one, and splitting one array into many\n",
    "\n",
    "\n",
    "To use a package in your current workspace type `import` followed by the name of the library as shown below."
   ]
  },
  {
   "cell_type": "code",
   "execution_count": 1,
   "metadata": {
    "ExecuteTime": {
     "end_time": "2020-06-23T23:42:45.627080Z",
     "start_time": "2020-06-23T23:42:45.389197Z"
    }
   },
   "outputs": [],
   "source": [
    "import numpy as np"
   ]
  },
  {
   "cell_type": "markdown",
   "metadata": {},
   "source": [
    "That worked because numpy is [included with Anaconda](https://docs.anaconda.com/anaconda/packages/py3.7_osx-64/), so numpy was installed when you installed Anaconda. Other packages will need to be installed before you can use them. Many packages have standard import aliases. We effect this aliasing by using the Python keyword `as`. For numpy, the standard alias is `np`."
   ]
  },
  {
   "cell_type": "markdown",
   "metadata": {},
   "source": [
    "![](https://qph.fs.quoracdn.net/main-qimg-8868f07e6ddb4f294bad22ca348d1e2d)"
   ]
  },
  {
   "cell_type": "markdown",
   "metadata": {},
   "source": [
    "## Numpy Arrays vs. Python Lists \n",
    "\n",
    "An array is a data structure that stores values of same data type. In Python, this is the main difference between arrays and lists. While python lists can contain values corresponding to different data types, arrays in python can only contain values corresponding to same data type.\n",
    "\n",
    "**Advantages of Numpy**\n",
    "1. It's faster. You don't need for loops to iterate over the array like you do with lists and there is only 1 data type in each array so Python doesn't need to spend time type checking.\n",
    "2. Uses less memory. Python list objects are pointers with 4B/pointer and 16B+ for numerical objects. Arrays have no pointers and the type and itemsize is the same for each column. "
   ]
  },
  {
   "cell_type": "code",
   "execution_count": 18,
   "metadata": {
    "ExecuteTime": {
     "end_time": "2020-06-10T22:55:26.001550Z",
     "start_time": "2020-06-10T22:55:25.998683Z"
    }
   },
   "outputs": [
    {
     "name": "stdout",
     "output_type": "stream",
     "text": [
      "[5, 10, 15]\n",
      "[ 5 10 15]\n"
     ]
    }
   ],
   "source": [
    "my_list = [5, 10, 15]\n",
    "\n",
    "my_array = np.array([5, 10, 15])\n",
    "\n",
    "print(my_list)\n",
    "print(my_array)"
   ]
  },
  {
   "cell_type": "code",
   "execution_count": 6,
   "metadata": {
    "ExecuteTime": {
     "end_time": "2020-06-10T22:42:58.043579Z",
     "start_time": "2020-06-10T22:42:58.040189Z"
    }
   },
   "outputs": [
    {
     "data": {
      "text/plain": [
       "[3375, 27000, 91125]"
      ]
     },
     "execution_count": 6,
     "metadata": {},
     "output_type": "execute_result"
    }
   ],
   "source": [
    "#how would we multiply each item in our list by 3? Use %timeit\n",
    "for i in range(len(my_list)):\n",
    "    my_list[i] **= 3\n",
    "my_list"
   ]
  },
  {
   "cell_type": "code",
   "execution_count": 9,
   "metadata": {
    "ExecuteTime": {
     "end_time": "2020-06-10T22:44:08.087794Z",
     "start_time": "2020-06-10T22:44:08.084080Z"
    }
   },
   "outputs": [
    {
     "data": {
      "text/plain": [
       "array([ 45,  90, 135])"
      ]
     },
     "execution_count": 9,
     "metadata": {},
     "output_type": "execute_result"
    }
   ],
   "source": [
    "#how about our array? \n",
    "my_array *= 3\n",
    "my_array"
   ]
  },
  {
   "cell_type": "markdown",
   "metadata": {},
   "source": [
    "## Numpy Data Types\n",
    "\n",
    "[Free Python Data Science Handbook by Jake VanderPlas](https://jakevdp.github.io/PythonDataScienceHandbook/02.01-understanding-data-types.html)\n",
    "\n"
   ]
  },
  {
   "cell_type": "markdown",
   "metadata": {},
   "source": [
    "## Other ways to create Numpy arrays"
   ]
  },
  {
   "cell_type": "code",
   "execution_count": 10,
   "metadata": {
    "ExecuteTime": {
     "end_time": "2020-06-10T22:50:15.916595Z",
     "start_time": "2020-06-10T22:50:15.913062Z"
    }
   },
   "outputs": [
    {
     "data": {
      "text/plain": [
       "chararray(['Bob', 'Bill', 'Joe'], dtype='<U4')"
      ]
     },
     "execution_count": 10,
     "metadata": {},
     "output_type": "execute_result"
    }
   ],
   "source": [
    "#To create an array of strings\n",
    "str_array = np.char.array(['Bob', 'Bill', 'Joe'])\n",
    "str_array"
   ]
  },
  {
   "cell_type": "code",
   "execution_count": 11,
   "metadata": {
    "ExecuteTime": {
     "end_time": "2020-06-10T22:50:52.095912Z",
     "start_time": "2020-06-10T22:50:52.092868Z"
    }
   },
   "outputs": [
    {
     "data": {
      "text/plain": [
       "array([ 1,  3,  5,  7,  9, 11, 13, 15, 17, 19])"
      ]
     },
     "execution_count": 11,
     "metadata": {},
     "output_type": "execute_result"
    }
   ],
   "source": [
    "#arange creates an array from 1-20 taking steps of 2\n",
    "my_array = np.arange(1, 20, 2)\n",
    "my_array"
   ]
  },
  {
   "cell_type": "code",
   "execution_count": 8,
   "metadata": {
    "ExecuteTime": {
     "end_time": "2020-06-23T23:43:58.256650Z",
     "start_time": "2020-06-23T23:43:58.251099Z"
    }
   },
   "outputs": [
    {
     "data": {
      "text/plain": [
       "array([ 1.  ,  3.25,  5.5 ,  7.75, 10.  ])"
      ]
     },
     "execution_count": 8,
     "metadata": {},
     "output_type": "execute_result"
    }
   ],
   "source": [
    "#linspace creates a floating point array from 1-20 with 5 elements\n",
    "my_array = np.linspace(1, 10, 5)\n",
    "my_array"
   ]
  },
  {
   "cell_type": "code",
   "execution_count": 14,
   "metadata": {
    "ExecuteTime": {
     "end_time": "2020-06-10T22:51:55.554637Z",
     "start_time": "2020-06-10T22:51:55.551573Z"
    }
   },
   "outputs": [
    {
     "data": {
      "text/plain": [
       "array([[1, 2, 3],\n",
       "       [4, 5, 6],\n",
       "       [7, 8, 9]])"
      ]
     },
     "execution_count": 14,
     "metadata": {},
     "output_type": "execute_result"
    }
   ],
   "source": [
    "#creating a multidimensional array\n",
    "multi_array = np.array([(1,2,3), (4,5,6), (7,8,9)])\n",
    "multi_array"
   ]
  },
  {
   "cell_type": "code",
   "execution_count": 15,
   "metadata": {
    "ExecuteTime": {
     "end_time": "2020-06-10T22:52:23.313105Z",
     "start_time": "2020-06-10T22:52:23.308375Z"
    }
   },
   "outputs": [
    {
     "data": {
      "text/plain": [
       "array([[0.44719978, 0.81517598, 0.83896162],\n",
       "       [0.55687741, 0.00148095, 0.11826794]])"
      ]
     },
     "execution_count": 15,
     "metadata": {},
     "output_type": "execute_result"
    }
   ],
   "source": [
    "#creating an array of random floats from 0-1\n",
    "#np.set_printoptions\n",
    "rand_array = np.random.random((2,3))\n",
    "rand_array"
   ]
  },
  {
   "cell_type": "code",
   "execution_count": 16,
   "metadata": {
    "ExecuteTime": {
     "end_time": "2020-06-10T22:53:09.758100Z",
     "start_time": "2020-06-10T22:53:09.753339Z"
    }
   },
   "outputs": [
    {
     "data": {
      "text/plain": [
       "array([4, 7, 4, 8, 2])"
      ]
     },
     "execution_count": 16,
     "metadata": {},
     "output_type": "execute_result"
    }
   ],
   "source": [
    "#creating an array of random integers\n",
    "rand_array = np.random.randint(0,10,5)\n",
    "rand_array"
   ]
  },
  {
   "cell_type": "markdown",
   "metadata": {},
   "source": [
    "## Applying Operations to Arrays\n",
    "* array.min(), .max()\n",
    "* array.mean(), .var(), .std()"
   ]
  },
  {
   "cell_type": "code",
   "execution_count": null,
   "metadata": {},
   "outputs": [],
   "source": [
    "rand_array. #tab"
   ]
  },
  {
   "cell_type": "markdown",
   "metadata": {},
   "source": [
    "## Reshaping "
   ]
  },
  {
   "cell_type": "code",
   "execution_count": 23,
   "metadata": {
    "ExecuteTime": {
     "end_time": "2020-06-10T22:55:54.312568Z",
     "start_time": "2020-06-10T22:55:54.309578Z"
    }
   },
   "outputs": [
    {
     "name": "stdout",
     "output_type": "stream",
     "text": [
      "[ 1.    5.75 10.5  15.25 20.  ]\n"
     ]
    }
   ],
   "source": [
    "print(my_array)"
   ]
  },
  {
   "cell_type": "code",
   "execution_count": 30,
   "metadata": {
    "ExecuteTime": {
     "end_time": "2020-06-10T22:57:24.114446Z",
     "start_time": "2020-06-10T22:57:24.108734Z"
    }
   },
   "outputs": [
    {
     "ename": "ValueError",
     "evalue": "cannot reshape array of size 5 into shape (5,2)",
     "output_type": "error",
     "traceback": [
      "\u001b[0;31m---------------------------------------------------------------------------\u001b[0m",
      "\u001b[0;31mValueError\u001b[0m                                Traceback (most recent call last)",
      "\u001b[0;32m<ipython-input-30-dc536166910f>\u001b[0m in \u001b[0;36m<module>\u001b[0;34m()\u001b[0m\n\u001b[0;32m----> 1\u001b[0;31m \u001b[0mmy_array\u001b[0m \u001b[0;34m=\u001b[0m \u001b[0mmy_array\u001b[0m\u001b[0;34m.\u001b[0m\u001b[0mreshape\u001b[0m\u001b[0;34m(\u001b[0m\u001b[0;36m5\u001b[0m\u001b[0;34m,\u001b[0m\u001b[0;36m2\u001b[0m\u001b[0;34m)\u001b[0m\u001b[0;34m\u001b[0m\u001b[0m\n\u001b[0m",
      "\u001b[0;31mValueError\u001b[0m: cannot reshape array of size 5 into shape (5,2)"
     ]
    }
   ],
   "source": [
    "my_array = my_array.reshape(5,2)  "
   ]
  },
  {
   "cell_type": "code",
   "execution_count": 31,
   "metadata": {
    "ExecuteTime": {
     "end_time": "2020-06-10T22:57:26.847162Z",
     "start_time": "2020-06-10T22:57:26.843670Z"
    }
   },
   "outputs": [
    {
     "data": {
      "text/plain": [
       "5"
      ]
     },
     "execution_count": 31,
     "metadata": {},
     "output_type": "execute_result"
    }
   ],
   "source": [
    "my_array.size "
   ]
  },
  {
   "cell_type": "code",
   "execution_count": 32,
   "metadata": {
    "ExecuteTime": {
     "end_time": "2020-06-10T22:57:28.800026Z",
     "start_time": "2020-06-10T22:57:28.796302Z"
    }
   },
   "outputs": [
    {
     "data": {
      "text/plain": [
       "(1, 5)"
      ]
     },
     "execution_count": 32,
     "metadata": {},
     "output_type": "execute_result"
    }
   ],
   "source": [
    "my_array.shape #what happened here? "
   ]
  },
  {
   "cell_type": "code",
   "execution_count": 33,
   "metadata": {
    "ExecuteTime": {
     "end_time": "2020-06-10T22:57:58.373286Z",
     "start_time": "2020-06-10T22:57:58.370067Z"
    }
   },
   "outputs": [
    {
     "data": {
      "text/plain": [
       "dtype('float64')"
      ]
     },
     "execution_count": 33,
     "metadata": {},
     "output_type": "execute_result"
    }
   ],
   "source": [
    "my_array.dtype"
   ]
  },
  {
   "cell_type": "code",
   "execution_count": 34,
   "metadata": {
    "ExecuteTime": {
     "end_time": "2020-06-10T22:58:07.446950Z",
     "start_time": "2020-06-10T22:58:07.444149Z"
    }
   },
   "outputs": [
    {
     "data": {
      "text/plain": [
       "8"
      ]
     },
     "execution_count": 34,
     "metadata": {},
     "output_type": "execute_result"
    }
   ],
   "source": [
    "my_array.itemsize "
   ]
  },
  {
   "cell_type": "code",
   "execution_count": 35,
   "metadata": {
    "ExecuteTime": {
     "end_time": "2020-06-10T23:00:13.277960Z",
     "start_time": "2020-06-10T23:00:13.275198Z"
    }
   },
   "outputs": [
    {
     "name": "stdout",
     "output_type": "stream",
     "text": [
      "[[ 1.    5.75 10.5  15.25 20.  ]]\n"
     ]
    }
   ],
   "source": [
    "print(my_array)"
   ]
  },
  {
   "cell_type": "code",
   "execution_count": 36,
   "metadata": {
    "ExecuteTime": {
     "end_time": "2020-06-10T23:00:39.199736Z",
     "start_time": "2020-06-10T23:00:39.195238Z"
    }
   },
   "outputs": [
    {
     "data": {
      "text/plain": [
       "array([ 1.  ,  5.75, 10.5 , 15.25, 20.  ])"
      ]
     },
     "execution_count": 36,
     "metadata": {},
     "output_type": "execute_result"
    }
   ],
   "source": [
    "my_array.sum(axis=0) #1 is vertical 0 is horizontal"
   ]
  },
  {
   "cell_type": "markdown",
   "metadata": {},
   "source": [
    "## Slicing "
   ]
  },
  {
   "cell_type": "code",
   "execution_count": 39,
   "metadata": {
    "ExecuteTime": {
     "end_time": "2020-06-10T23:03:18.704289Z",
     "start_time": "2020-06-10T23:03:18.700892Z"
    }
   },
   "outputs": [
    {
     "data": {
      "text/plain": [
       "array([ 0,  1,  2,  3,  4,  5,  6,  7,  8,  9, 10])"
      ]
     },
     "execution_count": 39,
     "metadata": {},
     "output_type": "execute_result"
    }
   ],
   "source": [
    "#create an array x of integers ranging from 0-10\n",
    "x = np.array(range(0,11))\n",
    "x"
   ]
  },
  {
   "cell_type": "code",
   "execution_count": 41,
   "metadata": {
    "ExecuteTime": {
     "end_time": "2020-06-10T23:04:22.885465Z",
     "start_time": "2020-06-10T23:04:22.882616Z"
    }
   },
   "outputs": [
    {
     "data": {
      "text/plain": [
       "array([ 6,  7,  8,  9, 10])"
      ]
     },
     "execution_count": 41,
     "metadata": {},
     "output_type": "execute_result"
    }
   ],
   "source": [
    "#print the last 5 elements \n",
    "x[6:]"
   ]
  },
  {
   "cell_type": "code",
   "execution_count": 43,
   "metadata": {
    "ExecuteTime": {
     "end_time": "2020-06-10T23:04:58.233709Z",
     "start_time": "2020-06-10T23:04:58.230506Z"
    }
   },
   "outputs": [
    {
     "data": {
      "text/plain": [
       "array([1, 3, 5, 7, 9])"
      ]
     },
     "execution_count": 43,
     "metadata": {},
     "output_type": "execute_result"
    }
   ],
   "source": [
    "#print every other element starting at index 1\n",
    "x[1::2]"
   ]
  },
  {
   "cell_type": "code",
   "execution_count": null,
   "metadata": {},
   "outputs": [],
   "source": []
  },
  {
   "cell_type": "markdown",
   "metadata": {},
   "source": [
    "## Broadcasting \n",
    "The term broadcasting describes how numpy treats arrays with different shapes during arithmetic operations. Subject to certain constraints, the smaller array is “broadcast” across the larger array so that they have compatible shapes.\n",
    "Two arrays can be broadcast together if their dimensions have the same value or if one of the dimensions have a value of 1."
   ]
  },
  {
   "cell_type": "code",
   "execution_count": null,
   "metadata": {},
   "outputs": [],
   "source": [
    "a = np.array([10, 20, 30]) #1x3 dimension array\n",
    "b = 5\n",
    "print(a)\n",
    "print(b)"
   ]
  },
  {
   "cell_type": "code",
   "execution_count": null,
   "metadata": {},
   "outputs": [],
   "source": [
    "c = a + b\n",
    "print(c)"
   ]
  },
  {
   "cell_type": "code",
   "execution_count": null,
   "metadata": {},
   "outputs": [],
   "source": [
    "a = np.array([[10, 20, 30], [40, 50, 60]]) #2d array\n",
    "print(a)\n",
    "print(b)\n"
   ]
  },
  {
   "cell_type": "code",
   "execution_count": null,
   "metadata": {},
   "outputs": [],
   "source": [
    "c = a + b\n",
    "print(c)"
   ]
  },
  {
   "cell_type": "code",
   "execution_count": null,
   "metadata": {},
   "outputs": [],
   "source": [
    "v = np.array([12, 24, 36])   \n",
    "w = np.array([45, 55])     \n",
    "  \n",
    "# To compute an outer product we first  \n",
    "# reshape v to a column vector of shape 3x1 \n",
    "# then broadcast it against w to yield an output \n",
    "# of shape 3x2 which is the outer product of v and w \n",
    "print(np.reshape(v, (3, 1)) * w) \n"
   ]
  },
  {
   "cell_type": "code",
   "execution_count": null,
   "metadata": {},
   "outputs": [],
   "source": [
    "x = np.array([[12, 22, 33], [45, 55, 66]]) \n",
    "  \n",
    "# x has shape  2x3 and v has shape (3, ) \n",
    "# so they broadcast to 2x3, \n",
    "print(x + v) \n",
    "\n",
    "# Add a vector to each column of a matrix X has \n",
    "# shape 2x3 and w has shape (2, ) If we transpose x \n",
    "# then it has shape 3x2 and can be broadcast against w  \n",
    "# to yield a result of shape 3x2. \n",
    "  \n",
    "# Transposing this yields the final result  \n",
    "# of shape  2x3 which is the matrix. \n",
    "print((x.T + w).T) "
   ]
  },
  {
   "cell_type": "code",
   "execution_count": null,
   "metadata": {},
   "outputs": [],
   "source": [
    "# Another solution is to reshape w to be a column \n",
    "# vector of shape 2X1 we can then broadcast it  \n",
    "# directly against X to produce the same output. \n",
    "print(x + np.reshape(w, (2, 1))) "
   ]
  },
  {
   "cell_type": "code",
   "execution_count": null,
   "metadata": {},
   "outputs": [],
   "source": [
    "# Multiply a matrix by a constant, X has shape  2x3. \n",
    "# Numpy treats scalars as arrays of shape();  \n",
    "# these can be broadcast together to shape 2x3. \n",
    "print(x * 2) "
   ]
  },
  {
   "cell_type": "code",
   "execution_count": null,
   "metadata": {},
   "outputs": [],
   "source": []
  }
 ],
 "metadata": {
  "kernelspec": {
   "display_name": "learn-env",
   "language": "python",
   "name": "learn-env"
  },
  "language_info": {
   "codemirror_mode": {
    "name": "ipython",
    "version": 3
   },
   "file_extension": ".py",
   "mimetype": "text/x-python",
   "name": "python",
   "nbconvert_exporter": "python",
   "pygments_lexer": "ipython3",
   "version": "3.6.6"
  },
  "toc": {
   "base_numbering": 1,
   "nav_menu": {},
   "number_sections": true,
   "sideBar": true,
   "skip_h1_title": false,
   "title_cell": "Table of Contents",
   "title_sidebar": "Contents",
   "toc_cell": true,
   "toc_position": {},
   "toc_section_display": true,
   "toc_window_display": false
  }
 },
 "nbformat": 4,
 "nbformat_minor": 2
}
