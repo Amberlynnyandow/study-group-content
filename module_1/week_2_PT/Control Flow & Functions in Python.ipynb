{
 "cells": [
  {
   "cell_type": "markdown",
   "metadata": {},
   "source": [
    "### Be sure to Review Python Basics - you should be familiar with the following:\n",
    "* Data types(strings, integers, floats, booleans, lists, dictionaries, tuples and sets) \n",
    "* Control Flow(if statements, Else/Elif statements, For loops) "
   ]
  },
  {
   "cell_type": "markdown",
   "metadata": {},
   "source": [
    "## Methods\n",
    "\n",
    "A method is a function that belongs to an object. And in Python, most things are objects! Naturally, the methods that belong to a particular object can vary depending on the object's datatype.\n",
    "\n",
    "### String Methods\n",
    "\n",
    "Here are some useful methods for strings:\n",
    "\n",
    "- ```.upper()```: converts a string to uppercase\n",
    "- ```.lower()```: converts a string to lowercase\n",
    "- ```.capitalize()```: makes the first letter of a string a capital"
   ]
  },
  {
   "cell_type": "code",
   "execution_count": null,
   "metadata": {
    "ExecuteTime": {
     "end_time": "2020-06-09T22:19:45.986423Z",
     "start_time": "2020-06-09T22:19:45.982768Z"
    }
   },
   "outputs": [],
   "source": [
    "first_name = 'greg'\n",
    "last_name = 'damico'"
   ]
  },
  {
   "cell_type": "markdown",
   "metadata": {},
   "source": [
    "**Exercise: How would you print them together with first and last name capitalized?** "
   ]
  },
  {
   "cell_type": "code",
   "execution_count": null,
   "metadata": {
    "ExecuteTime": {
     "end_time": "2020-06-09T22:26:36.313121Z",
     "start_time": "2020-06-09T22:26:36.310255Z"
    }
   },
   "outputs": [],
   "source": []
  },
  {
   "cell_type": "markdown",
   "metadata": {},
   "source": [
    "### f-Strings \n",
    "- f-Strings are a convenient way to bring variables into strings."
   ]
  },
  {
   "cell_type": "code",
   "execution_count": null,
   "metadata": {
    "ExecuteTime": {
     "end_time": "2020-06-09T16:59:38.168590Z",
     "start_time": "2020-06-09T16:59:38.165258Z"
    }
   },
   "outputs": [],
   "source": []
  },
  {
   "cell_type": "markdown",
   "metadata": {},
   "source": [
    "## List Methods\n",
    "\n",
    "Here are some useful methods for lists:\n",
    "\n",
    "* append(): adds an element to the end of a list\n",
    "* pop(): removes an element from the list\n",
    "* extend(): adds multiple elements to the end of a list\n",
    "* index(): returns (first) place in list where argument is found\n",
    "* remove(): removes element by value\n",
    "\n",
    "**Question: What's the difference between .remove() and del?**\n",
    "\n"
   ]
  },
  {
   "cell_type": "code",
   "execution_count": null,
   "metadata": {
    "ExecuteTime": {
     "end_time": "2020-06-09T22:27:42.741509Z",
     "start_time": "2020-06-09T22:27:42.738712Z"
    }
   },
   "outputs": [],
   "source": [
    "list_1 = [1, 2, 4]\n",
    "\n",
    "list_2 = [8, 16]"
   ]
  },
  {
   "cell_type": "code",
   "execution_count": null,
   "metadata": {
    "ExecuteTime": {
     "end_time": "2020-06-09T22:28:09.861209Z",
     "start_time": "2020-06-09T22:28:09.858788Z"
    }
   },
   "outputs": [],
   "source": [
    "\n"
   ]
  },
  {
   "cell_type": "code",
   "execution_count": null,
   "metadata": {
    "ExecuteTime": {
     "end_time": "2020-06-09T22:28:22.599870Z",
     "start_time": "2020-06-09T22:28:22.595478Z"
    }
   },
   "outputs": [],
   "source": []
  },
  {
   "cell_type": "markdown",
   "metadata": {},
   "source": [
    "### List Comprehensions \n",
    "\n",
    "List comprehensions are generally more compact and faster than normal functions and loops for creating lists. They consist of brackets containing the expression, which is executed for each element along with the for loop to iterate over each element.\n",
    "\n",
    "* *__list comprehension with a conditional statement__* \n",
    "\n",
    "[ expression for item in list if conditional ]\n",
    "\n",
    "'''Give me that for this collection in this situation'''"
   ]
  },
  {
   "cell_type": "markdown",
   "metadata": {},
   "source": [
    "**Since we're discussing indexing let's use a list comprehension to create a new list that we can use for slicing practice** \n",
    "\n",
    "\n",
    "A _slice_ is a subset of list elements. In the case of lists, a single slice will always be of contiguous elements. Slice notation takes the form - my_list[start:stop:step]"
   ]
  },
  {
   "cell_type": "code",
   "execution_count": null,
   "metadata": {
    "ExecuteTime": {
     "end_time": "2020-06-09T22:31:03.848712Z",
     "start_time": "2020-06-09T22:31:03.846380Z"
    }
   },
   "outputs": [],
   "source": [
    "#use for loop first \n",
    "word = 'abcdefghi'\n",
    "char_list = []"
   ]
  },
  {
   "cell_type": "code",
   "execution_count": null,
   "metadata": {
    "ExecuteTime": {
     "end_time": "2020-06-09T22:31:57.940290Z",
     "start_time": "2020-06-09T22:31:57.937221Z"
    }
   },
   "outputs": [],
   "source": []
  },
  {
   "cell_type": "code",
   "execution_count": null,
   "metadata": {
    "ExecuteTime": {
     "end_time": "2020-06-09T22:36:25.192531Z",
     "start_time": "2020-06-09T22:36:25.189250Z"
    }
   },
   "outputs": [],
   "source": [
    "#Use a list comprehension to create a list containing the letters a-i\n"
   ]
  },
  {
   "cell_type": "markdown",
   "metadata": {},
   "source": [
    "**Exercise: How do we return [‘f’, ‘e’] using a slice?**"
   ]
  },
  {
   "cell_type": "code",
   "execution_count": null,
   "metadata": {
    "ExecuteTime": {
     "end_time": "2020-06-09T22:40:43.753867Z",
     "start_time": "2020-06-09T22:40:43.750936Z"
    }
   },
   "outputs": [],
   "source": [
    "#practice indexing \n"
   ]
  },
  {
   "cell_type": "markdown",
   "metadata": {},
   "source": [
    "**Another List Example:**\n",
    "\n",
    "Lets take these 2 lists and write a program that returns a list that\n",
    "contains only the elements that are common between the 2 lists(no duplicates)"
   ]
  },
  {
   "cell_type": "code",
   "execution_count": null,
   "metadata": {},
   "outputs": [],
   "source": [
    "thor_2_cast = ['Chris Hemsworth', 'Natalie Portman', 'Tom Hiddleston',\n",
    "               'Kat Dennings', 'Anthony Hopkins','Jaimie Alexander',\n",
    "               'Idris Elba']\n",
    "ragnarok_cast = ['Chris Hemsworth', 'Tessa Thompson', 'Cate Blanchett',\n",
    "                 'Tom Hiddleston', 'Mark Ruffalo', 'Jeff Goldblum',\n",
    "                 'Karl Urban', 'Idris Elba', 'Anthony Hopkins']"
   ]
  },
  {
   "cell_type": "code",
   "execution_count": null,
   "metadata": {},
   "outputs": [],
   "source": []
  },
  {
   "cell_type": "markdown",
   "metadata": {},
   "source": [
    "## Dictionary Methods\n",
    "Here are some useful methods for dictionaries:\n",
    "\n",
    "- .keys(): returns an array of the dictionary's keys\n",
    "- .values(): returns an array of the dictionary's values\n",
    "- .items(): returns an array of key-value tuples"
   ]
  },
  {
   "cell_type": "code",
   "execution_count": null,
   "metadata": {
    "ExecuteTime": {
     "end_time": "2020-06-09T22:43:26.444296Z",
     "start_time": "2020-06-09T22:43:26.442082Z"
    }
   },
   "outputs": [],
   "source": [
    "zoo = {1: 'giraffe', 2: 'elephant', 3: 'monkey'}"
   ]
  },
  {
   "cell_type": "code",
   "execution_count": null,
   "metadata": {
    "ExecuteTime": {
     "end_time": "2020-06-09T22:44:19.383136Z",
     "start_time": "2020-06-09T22:44:19.380063Z"
    }
   },
   "outputs": [],
   "source": [
    "#how can we access the keys and values in this dictionary? \n"
   ]
  },
  {
   "cell_type": "code",
   "execution_count": null,
   "metadata": {
    "ExecuteTime": {
     "end_time": "2020-06-09T22:46:54.644084Z",
     "start_time": "2020-06-09T22:46:54.641290Z"
    }
   },
   "outputs": [],
   "source": [
    "#How do we use a for loop? \n"
   ]
  },
  {
   "cell_type": "markdown",
   "metadata": {},
   "source": [
    "### Nested Structures \n",
    "\n",
    "This is how we can store more information while still maintaining structure. "
   ]
  },
  {
   "cell_type": "code",
   "execution_count": null,
   "metadata": {},
   "outputs": [],
   "source": [
    "players = {\n",
    "    'L. Messi': {\n",
    "        'age': 31,\n",
    "        'nationality': 'Argentina',\n",
    "        'teams': ['Barcelona']\n",
    "    },\n",
    "    'Cristiano Ronaldo': {\n",
    "        'age': 33,\n",
    "        'nationality': 'Portugal',\n",
    "        'teams': ['Juventus', 'Real Madrid', 'Manchester United']\n",
    "    },\n",
    "    'Neymar Jr': {\n",
    "        'age': 26,\n",
    "        'nationality': 'Brazil',\n",
    "        'teams': ['Santos', 'Barcelona', 'Paris Saint-German']\n",
    "    },\n",
    "    'De Gea': {\n",
    "        'age': 27,\n",
    "        'nationality': 'Spain',\n",
    "        'teams': ['Atletico Madrid', 'Manchester United']\n",
    "    },\n",
    "    'K. De Bruyne': {\n",
    "        'age': 27,\n",
    "        'nationality': 'Belgium',\n",
    "        'teams': ['Chelsea', 'Manchester City']\n",
    "    }\n",
    "}"
   ]
  },
  {
   "cell_type": "code",
   "execution_count": null,
   "metadata": {},
   "outputs": [],
   "source": [
    "#How can we print De Gea'/s nationality?"
   ]
  },
  {
   "cell_type": "markdown",
   "metadata": {},
   "source": [
    "**Create a list of all the keys in the players dictionary. Store the list of player names in a variable called player_names to use in the next question.**"
   ]
  },
  {
   "cell_type": "code",
   "execution_count": null,
   "metadata": {},
   "outputs": [],
   "source": []
  },
  {
   "cell_type": "markdown",
   "metadata": {},
   "source": [
    "**Now that we have each players name, let's use that information to create a list of tuples containing each player's name along with their nationality. Store the list in a variable called player_nationalities.**"
   ]
  },
  {
   "cell_type": "code",
   "execution_count": null,
   "metadata": {},
   "outputs": [],
   "source": []
  },
  {
   "cell_type": "markdown",
   "metadata": {},
   "source": [
    "**Now, define a function called get_players_on_team that returns a list of the names of all the players who have played on a given team.**\n",
    "\n",
    "Your function should take two arguments:\n",
    "\n",
    "**a dictionary of player information a string of the team you are trying to find the players for Be sure that your function has a return statement.**"
   ]
  },
  {
   "cell_type": "code",
   "execution_count": null,
   "metadata": {},
   "outputs": [],
   "source": []
  },
  {
   "cell_type": "markdown",
   "metadata": {},
   "source": [
    "## Functions\n",
    "This aspect of Python is incredibly useful! Writing your own functions can save you a TON of work - by automating it."
   ]
  },
  {
   "cell_type": "code",
   "execution_count": null,
   "metadata": {
    "ExecuteTime": {
     "end_time": "2020-06-09T22:50:49.880578Z",
     "start_time": "2020-06-09T22:50:49.878256Z"
    }
   },
   "outputs": [],
   "source": [
    "#Build a function that will take an input string and add '-totally' to the end of it.\n"
   ]
  },
  {
   "cell_type": "code",
   "execution_count": null,
   "metadata": {
    "ExecuteTime": {
     "end_time": "2020-06-09T22:50:50.622808Z",
     "start_time": "2020-06-09T22:50:50.619417Z"
    }
   },
   "outputs": [],
   "source": []
  },
  {
   "cell_type": "code",
   "execution_count": null,
   "metadata": {
    "ExecuteTime": {
     "end_time": "2020-06-09T23:05:38.739492Z",
     "start_time": "2020-06-09T23:05:38.736263Z"
    }
   },
   "outputs": [],
   "source": [
    "#write a function for reverse words - Great Job --> taerG boJ\n",
    "\n",
    "       \n",
    "    \n",
    "        \n",
    "    "
   ]
  },
  {
   "cell_type": "code",
   "execution_count": null,
   "metadata": {
    "ExecuteTime": {
     "end_time": "2020-06-09T23:07:19.091867Z",
     "start_time": "2020-06-09T23:07:19.088087Z"
    }
   },
   "outputs": [],
   "source": []
  },
  {
   "cell_type": "code",
   "execution_count": null,
   "metadata": {
    "ExecuteTime": {
     "end_time": "2020-06-09T23:07:15.641172Z",
     "start_time": "2020-06-09T23:07:15.639003Z"
    }
   },
   "outputs": [],
   "source": []
  },
  {
   "cell_type": "code",
   "execution_count": null,
   "metadata": {},
   "outputs": [],
   "source": []
  }
 ],
 "metadata": {
  "kernelspec": {
   "display_name": "learn-env",
   "language": "python",
   "name": "learn-env"
  },
  "language_info": {
   "codemirror_mode": {
    "name": "ipython",
    "version": 3
   },
   "file_extension": ".py",
   "mimetype": "text/x-python",
   "name": "python",
   "nbconvert_exporter": "python",
   "pygments_lexer": "ipython3",
   "version": "3.6.6"
  },
  "toc": {
   "base_numbering": 1,
   "nav_menu": {},
   "number_sections": true,
   "sideBar": true,
   "skip_h1_title": true,
   "title_cell": "Table of Contents",
   "title_sidebar": "Contents",
   "toc_cell": false,
   "toc_position": {},
   "toc_section_display": true,
   "toc_window_display": false
  }
 },
 "nbformat": 4,
 "nbformat_minor": 2
}
