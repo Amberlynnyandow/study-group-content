{
 "cells": [
  {
   "cell_type": "markdown",
   "metadata": {},
   "source": [
    "# Module 1 Project Introduction "
   ]
  },
  {
   "cell_type": "markdown",
   "metadata": {},
   "source": [
    "## The Project Description \n",
    "\n",
    "> Microsoft sees all the big companies creating original video content, and they want to get in on the fun. They have decided to create a new movie studio, but the problem is they don’t know anything about creating movies. They have hired you to help them better understand the movie industry. Your team is charged with doing data analysis and creating a presentation that explores what type of films are currently doing the best at the box office. You must then translate those findings into actionable insights that the CEO can use when deciding what type of films they should be creating."
   ]
  },
  {
   "cell_type": "markdown",
   "metadata": {},
   "source": [
    "## The Projects Deliverables \n"
   ]
  },
  {
   "cell_type": "markdown",
   "metadata": {},
   "source": [
    "### A well documented Jupyter Notebook \n",
    "\n",
    "For each group, you will turn in 1 Jupyter Notebook. The project manager will fork the [Project Repo](https://learn.co/tracks/module-1-data-science-career-2-1/module-1-final-project/final-project/module-1-final-project) and then each member will clone that fork. Members will use [Pull Requests](https://www.atlassian.com/git/tutorials/making-a-pull-request) to add to the notebook. See the documentation for more on pull requests. "
   ]
  },
  {
   "cell_type": "markdown",
   "metadata": {},
   "source": [
    "#### What does a well documented notebook look like? \n",
    "**1.** It follows the [CRISP-DM](https://en.wikipedia.org/wiki/Cross-industry_standard_process_for_data_mining) Methodology or the OSEMN Methodology. ![](https://miro.medium.com/max/1326/1*QdzXTgiEa66qarHB1TvwsA.png)\n",
    "\n",
    "**2.** The notebook is clean & well-organized\n",
    "    - Use Markdowns to explain what you're trying to achieve/investigate\n",
    "    - Use functions! Don't repeat yourself!\n",
    "    - Document what you're doing (comments, docstrings, etc)\n",
    "    \n",
    "**Document: \"a comment a day, will keep long debugging sessions at bay\"**\n",
    "\n",
    "**3.** Your visuals represent the relationships of the variables in your data. They tell a story. \n"
   ]
  },
  {
   "cell_type": "markdown",
   "metadata": {},
   "source": [
    "### An organized README.md file in the repo\n",
    "\n",
    "The README.md file is like the condensed version of your notebook OR a slightly more detailed version of an outline. "
   ]
  },
  {
   "cell_type": "markdown",
   "metadata": {},
   "source": [
    "### A Keynote/PowerPoint/Google Slides presentation \n",
    "\n",
    "The presentation should be betweeen 5-8mins giving a high-level overview of your methodology and at least 3 recommendations for non-technical stakeholders driven by analysis. Make sure to also add and commit this pdf of your non-technical presentation to your repository with a file name of presentation.pdf"
   ]
  },
  {
   "cell_type": "markdown",
   "metadata": {},
   "source": [
    "### A Video Walkthrough of your non-technical presentation \n",
    "\n",
    "Some common video recording tools used are Zoom, Quicktime, and Nimbus. After you record your presentation, publish it on a service like YouTube or Google Drive, you will need a link to the video to submit your project."
   ]
  },
  {
   "cell_type": "markdown",
   "metadata": {},
   "source": [
    "### A Blog Post\n",
    "\n",
    "You can write about any aspect of the project you like. It can be a project summary or a synopsis of a specific aspect of the project. Think about what you learned during this project and write about it. Create a Medium account or use the Learn.co Plateform. Just be sure to link your blog to your learn.co account.  "
   ]
  },
  {
   "cell_type": "markdown",
   "metadata": {},
   "source": [
    "## Grading \n",
    "\n",
    "**1.** Follow the [Rubric](https://docs.google.com/spreadsheets/d/1NypnrwQH80SRIngxd9dmGI_EjwC0tzMBmxLhGBNz0GM/edit?usp=sharing)\n",
    "\n",
    "**2.** Leveling up! \n",
    "    - Web-scrape or use API's to get more data"
   ]
  },
  {
   "cell_type": "markdown",
   "metadata": {},
   "source": [
    "## TIPS \n",
    "![](http://blog.clickdimensions.com/wp-content/uploads/2018/09/BlogFeatureImage-Tips-and-Tricks-for-Using-the-New-ClickDimensions-Drag-and-Drop-2.0-Email-Editor-01.png)"
   ]
  },
  {
   "cell_type": "markdown",
   "metadata": {},
   "source": [
    "### How to think about the problem? \n",
    "\n",
    "What types of questions should you be asking? First, who hired you? What is their goal? Then, how can you help them accomplish this goal? "
   ]
  },
  {
   "cell_type": "markdown",
   "metadata": {},
   "source": [
    "### Visualizations \n",
    "\n",
    "Good visuals are essential for this project! The visuals you use should be directly related to your recommendations. \n",
    "\n"
   ]
  },
  {
   "cell_type": "markdown",
   "metadata": {},
   "source": [
    "#### Resources for Visualizations \n",
    "- [Use this visual vocabulary for determining what visual works best](https://gramener.github.io/visual-vocabulary-vega/)\n",
    "- [Explanation of all matplotlib plots](https://www.machinelearningplus.com/plots/top-50-matplotlib-visualizations-the-master-plots-python/)\n",
    "\n",
    "**AVOID VISUALS LIKE THIS**\n",
    "![](http://1.bp.blogspot.com/-dmSRsEpMneg/Tab2bVZJTJI/AAAAAAAABEM/3_56yy02XMU/s1600/wnts20110414bar.png)"
   ]
  },
  {
   "cell_type": "markdown",
   "metadata": {},
   "source": [
    "### Previous Student Mod1 Projects \n",
    "\n",
    "- https://github.com/Jesse989/movie-analysis\n",
    "- https://github.com/shsobieski/Build-a-Better-Blockbuster \n",
    "- https://github.com/jkundycki/dsc-mod-1-project-v2-1-online-ds-ft-120919"
   ]
  },
  {
   "cell_type": "code",
   "execution_count": null,
   "metadata": {},
   "outputs": [],
   "source": []
  }
 ],
 "metadata": {
  "kernelspec": {
   "display_name": "learn-env",
   "language": "python",
   "name": "learn-env"
  },
  "language_info": {
   "codemirror_mode": {
    "name": "ipython",
    "version": 3
   },
   "file_extension": ".py",
   "mimetype": "text/x-python",
   "name": "python",
   "nbconvert_exporter": "python",
   "pygments_lexer": "ipython3",
   "version": "3.6.6"
  },
  "toc": {
   "base_numbering": 1,
   "nav_menu": {},
   "number_sections": true,
   "sideBar": true,
   "skip_h1_title": true,
   "title_cell": "Table of Contents",
   "title_sidebar": "Contents",
   "toc_cell": false,
   "toc_position": {},
   "toc_section_display": true,
   "toc_window_display": false
  }
 },
 "nbformat": 4,
 "nbformat_minor": 2
}
