{
 "cells": [
  {
   "cell_type": "markdown",
   "metadata": {},
   "source": [
    "# K- Nearest Neighbors(KNNs) "
   ]
  },
  {
   "cell_type": "markdown",
   "metadata": {},
   "source": [
    "## What are KNNs? \n",
    "- **KNNs are a non-parametric, lazy learning algorithm. What does this mean?** \n",
    "- *Non-parametric - no underlying assumptions about the distribution of data* \n",
    "- *Lazy-learners - No training is necessary!  This makes training super fast but testing is slower and also costly. \n",
    "\n",
    "![](http://res.cloudinary.com/dyd911kmh/image/upload/f_auto,q_auto:best/v1531424125/KNN_final_a1mrv9.png)\n",
    "\n",
    "**The algorithm can be summarized as:**\n",
    "1. A positive integer k is specified, along with a new sample\n",
    "2. We select the k entries in our database which are closest to the new sample\n",
    "3. We find the most common classification of these entries(voting)\n",
    "4. This is the classification we give to the new sample\n",
    "\n",
    "**A few other features of KNN:**\n",
    "* KNN stores the entire training dataset which it uses as its representation.\n",
    "* KNN does not learn any model.\n",
    "* KNN makes predictions just-in-time by calculating the similarity between an input sample and each training instance.\n",
    "\n",
    "**Note:** KNN performs better with a low number of features. The more features you have the more data you need. You increase the dimensions everytime you add another feature. Increase in dimension also leads to the problem of overfitting. To avoid overfitting, the needed data will need to grow exponentially as you increase the number of dimensions. This problem of higher dimension is known as the Curse of Dimensionality."
   ]
  },
  {
   "cell_type": "markdown",
   "metadata": {},
   "source": [
    "### What are distance metrics? \n",
    "- the formulas that can be used to measure the distance between our variables \n",
    "\n",
    "![](https://miro.medium.com/max/1400/1*FlMiuoENrq52tMV4S6LSZg.png)\n",
    "\n",
    "* Euclidean and Manhattan distance is best used for continuous variables \n"
   ]
  },
  {
   "cell_type": "markdown",
   "metadata": {},
   "source": [
    "## Applying KNN Algorithm to Diabetes Dataset "
   ]
  },
  {
   "cell_type": "code",
   "execution_count": 1,
   "metadata": {
    "ExecuteTime": {
     "end_time": "2020-05-14T16:27:52.450288Z",
     "start_time": "2020-05-14T16:27:51.690237Z"
    }
   },
   "outputs": [
    {
     "data": {
      "text/html": [
       "<div>\n",
       "<style scoped>\n",
       "    .dataframe tbody tr th:only-of-type {\n",
       "        vertical-align: middle;\n",
       "    }\n",
       "\n",
       "    .dataframe tbody tr th {\n",
       "        vertical-align: top;\n",
       "    }\n",
       "\n",
       "    .dataframe thead th {\n",
       "        text-align: right;\n",
       "    }\n",
       "</style>\n",
       "<table border=\"1\" class=\"dataframe\">\n",
       "  <thead>\n",
       "    <tr style=\"text-align: right;\">\n",
       "      <th></th>\n",
       "      <th>Pregnancies</th>\n",
       "      <th>Glucose</th>\n",
       "      <th>BloodPressure</th>\n",
       "      <th>SkinThickness</th>\n",
       "      <th>Insulin</th>\n",
       "      <th>BMI</th>\n",
       "      <th>DiabetesPedigreeFunction</th>\n",
       "      <th>Age</th>\n",
       "      <th>Outcome</th>\n",
       "    </tr>\n",
       "  </thead>\n",
       "  <tbody>\n",
       "    <tr>\n",
       "      <th>0</th>\n",
       "      <td>6</td>\n",
       "      <td>148</td>\n",
       "      <td>72</td>\n",
       "      <td>35</td>\n",
       "      <td>0</td>\n",
       "      <td>33.6</td>\n",
       "      <td>0.627</td>\n",
       "      <td>50</td>\n",
       "      <td>1</td>\n",
       "    </tr>\n",
       "    <tr>\n",
       "      <th>1</th>\n",
       "      <td>1</td>\n",
       "      <td>85</td>\n",
       "      <td>66</td>\n",
       "      <td>29</td>\n",
       "      <td>0</td>\n",
       "      <td>26.6</td>\n",
       "      <td>0.351</td>\n",
       "      <td>31</td>\n",
       "      <td>0</td>\n",
       "    </tr>\n",
       "    <tr>\n",
       "      <th>2</th>\n",
       "      <td>8</td>\n",
       "      <td>183</td>\n",
       "      <td>64</td>\n",
       "      <td>0</td>\n",
       "      <td>0</td>\n",
       "      <td>23.3</td>\n",
       "      <td>0.672</td>\n",
       "      <td>32</td>\n",
       "      <td>1</td>\n",
       "    </tr>\n",
       "    <tr>\n",
       "      <th>3</th>\n",
       "      <td>1</td>\n",
       "      <td>89</td>\n",
       "      <td>66</td>\n",
       "      <td>23</td>\n",
       "      <td>94</td>\n",
       "      <td>28.1</td>\n",
       "      <td>0.167</td>\n",
       "      <td>21</td>\n",
       "      <td>0</td>\n",
       "    </tr>\n",
       "    <tr>\n",
       "      <th>4</th>\n",
       "      <td>0</td>\n",
       "      <td>137</td>\n",
       "      <td>40</td>\n",
       "      <td>35</td>\n",
       "      <td>168</td>\n",
       "      <td>43.1</td>\n",
       "      <td>2.288</td>\n",
       "      <td>33</td>\n",
       "      <td>1</td>\n",
       "    </tr>\n",
       "  </tbody>\n",
       "</table>\n",
       "</div>"
      ],
      "text/plain": [
       "   Pregnancies  Glucose  BloodPressure  SkinThickness  Insulin   BMI  \\\n",
       "0            6      148             72             35        0  33.6   \n",
       "1            1       85             66             29        0  26.6   \n",
       "2            8      183             64              0        0  23.3   \n",
       "3            1       89             66             23       94  28.1   \n",
       "4            0      137             40             35      168  43.1   \n",
       "\n",
       "   DiabetesPedigreeFunction  Age  Outcome  \n",
       "0                     0.627   50        1  \n",
       "1                     0.351   31        0  \n",
       "2                     0.672   32        1  \n",
       "3                     0.167   21        0  \n",
       "4                     2.288   33        1  "
      ]
     },
     "execution_count": 1,
     "metadata": {},
     "output_type": "execute_result"
    }
   ],
   "source": [
    "#load libraries \n",
    "import numpy as np\n",
    "import pandas as pd\n",
    "import matplotlib.pyplot as plt\n",
    "%matplotlib inline \n",
    "plt.style.use('ggplot')\n",
    "\n",
    "#load the dataset\n",
    "df = pd.read_csv('diabetes.csv')\n",
    "\n",
    "#Print the first 5 rows of the dataframe.\n",
    "df.head()"
   ]
  },
  {
   "cell_type": "code",
   "execution_count": 2,
   "metadata": {
    "ExecuteTime": {
     "end_time": "2020-05-14T16:28:46.926297Z",
     "start_time": "2020-05-14T16:28:46.896354Z"
    }
   },
   "outputs": [
    {
     "name": "stdout",
     "output_type": "stream",
     "text": [
      "<class 'pandas.core.frame.DataFrame'>\n",
      "RangeIndex: 768 entries, 0 to 767\n",
      "Data columns (total 9 columns):\n",
      "Pregnancies                 768 non-null int64\n",
      "Glucose                     768 non-null int64\n",
      "BloodPressure               768 non-null int64\n",
      "SkinThickness               768 non-null int64\n",
      "Insulin                     768 non-null int64\n",
      "BMI                         768 non-null float64\n",
      "DiabetesPedigreeFunction    768 non-null float64\n",
      "Age                         768 non-null int64\n",
      "Outcome                     768 non-null int64\n",
      "dtypes: float64(2), int64(7)\n",
      "memory usage: 54.1 KB\n",
      "None\n",
      "-------------------------------------------------------------------------\n",
      "                          count        mean         std     min       25%  \\\n",
      "Pregnancies               768.0    3.845052    3.369578   0.000   1.00000   \n",
      "Glucose                   768.0  120.894531   31.972618   0.000  99.00000   \n",
      "BloodPressure             768.0   69.105469   19.355807   0.000  62.00000   \n",
      "SkinThickness             768.0   20.536458   15.952218   0.000   0.00000   \n",
      "Insulin                   768.0   79.799479  115.244002   0.000   0.00000   \n",
      "BMI                       768.0   31.992578    7.884160   0.000  27.30000   \n",
      "DiabetesPedigreeFunction  768.0    0.471876    0.331329   0.078   0.24375   \n",
      "Age                       768.0   33.240885   11.760232  21.000  24.00000   \n",
      "Outcome                   768.0    0.348958    0.476951   0.000   0.00000   \n",
      "\n",
      "                               50%        75%     max  \n",
      "Pregnancies                 3.0000    6.00000   17.00  \n",
      "Glucose                   117.0000  140.25000  199.00  \n",
      "BloodPressure              72.0000   80.00000  122.00  \n",
      "SkinThickness              23.0000   32.00000   99.00  \n",
      "Insulin                    30.5000  127.25000  846.00  \n",
      "BMI                        32.0000   36.60000   67.10  \n",
      "DiabetesPedigreeFunction    0.3725    0.62625    2.42  \n",
      "Age                        29.0000   41.00000   81.00  \n",
      "Outcome                     0.0000    1.00000    1.00  \n"
     ]
    }
   ],
   "source": [
    "print(df.info())\n",
    "print('-'*73)\n",
    "print(df.describe().T)"
   ]
  },
  {
   "cell_type": "code",
   "execution_count": 3,
   "metadata": {
    "ExecuteTime": {
     "end_time": "2020-05-14T16:32:23.503793Z",
     "start_time": "2020-05-14T16:32:23.494541Z"
    }
   },
   "outputs": [
    {
     "name": "stdout",
     "output_type": "stream",
     "text": [
      "Pregnancies                   0\n",
      "Glucose                       5\n",
      "BloodPressure                35\n",
      "SkinThickness               227\n",
      "Insulin                     374\n",
      "BMI                          11\n",
      "DiabetesPedigreeFunction      0\n",
      "Age                           0\n",
      "Outcome                       0\n",
      "dtype: int64\n"
     ]
    }
   ],
   "source": [
    "#replace 0 with NaNs because they will be easier to replace and detect\n",
    "df[['Glucose','BloodPressure','SkinThickness','Insulin','BMI']] = df[['Glucose','BloodPressure','SkinThickness','Insulin','BMI']].replace(0,np.NaN)\n",
    "## showing the count of Nans\n",
    "print(df.isnull().sum())"
   ]
  },
  {
   "cell_type": "markdown",
   "metadata": {},
   "source": [
    "\n",
    "![](https://static.diffen.com/uploadz/6/61/mean-median.png)"
   ]
  },
  {
   "cell_type": "code",
   "execution_count": 4,
   "metadata": {
    "ExecuteTime": {
     "end_time": "2020-05-14T16:34:46.694558Z",
     "start_time": "2020-05-14T16:34:45.535940Z"
    }
   },
   "outputs": [
    {
     "data": {
      "text/plain": [
       "array([[<matplotlib.axes._subplots.AxesSubplot object at 0x11de4feb8>,\n",
       "        <matplotlib.axes._subplots.AxesSubplot object at 0x11e0f6f28>,\n",
       "        <matplotlib.axes._subplots.AxesSubplot object at 0x11e13b1d0>],\n",
       "       [<matplotlib.axes._subplots.AxesSubplot object at 0x11e167780>,\n",
       "        <matplotlib.axes._subplots.AxesSubplot object at 0x11e19ad30>,\n",
       "        <matplotlib.axes._subplots.AxesSubplot object at 0x11e1d7320>],\n",
       "       [<matplotlib.axes._subplots.AxesSubplot object at 0x11e2068d0>,\n",
       "        <matplotlib.axes._subplots.AxesSubplot object at 0x11e23ceb8>,\n",
       "        <matplotlib.axes._subplots.AxesSubplot object at 0x11e23cef0>]],\n",
       "      dtype=object)"
      ]
     },
     "execution_count": 4,
     "metadata": {},
     "output_type": "execute_result"
    },
    {
     "data": {
      "image/png": "[encoded data removed]",
      "text/plain": [
       "<Figure size 720x576 with 9 Axes>"
      ]
     },
     "metadata": {
      "needs_background": "light"
     },
     "output_type": "display_data"
    }
   ],
   "source": [
    "df.hist(figsize=(10,8))"
   ]
  },
  {
   "cell_type": "code",
   "execution_count": 7,
   "metadata": {
    "ExecuteTime": {
     "end_time": "2020-05-14T16:36:53.146372Z",
     "start_time": "2020-05-14T16:36:52.028981Z"
    }
   },
   "outputs": [
    {
     "data": {
      "text/plain": [
       "array([[<matplotlib.axes._subplots.AxesSubplot object at 0x11de4ffd0>,\n",
       "        <matplotlib.axes._subplots.AxesSubplot object at 0x11e79a2e8>,\n",
       "        <matplotlib.axes._subplots.AxesSubplot object at 0x11e7bc898>],\n",
       "       [<matplotlib.axes._subplots.AxesSubplot object at 0x11e7eae48>,\n",
       "        <matplotlib.axes._subplots.AxesSubplot object at 0x11e825438>,\n",
       "        <matplotlib.axes._subplots.AxesSubplot object at 0x11e8529e8>],\n",
       "       [<matplotlib.axes._subplots.AxesSubplot object at 0x11e883f98>,\n",
       "        <matplotlib.axes._subplots.AxesSubplot object at 0x11e8be5c0>,\n",
       "        <matplotlib.axes._subplots.AxesSubplot object at 0x11e8be5f8>]],\n",
       "      dtype=object)"
      ]
     },
     "execution_count": 7,
     "metadata": {},
     "output_type": "execute_result"
    },
    {
     "data": {
      "image/png": "[encoded data removed]",
      "text/plain": [
       "<Figure size 720x576 with 9 Axes>"
      ]
     },
     "metadata": {
      "needs_background": "light"
     },
     "output_type": "display_data"
    }
   ],
   "source": [
    "df['Glucose'].fillna(df['Glucose'].mean(), inplace = True)\n",
    "df['BloodPressure'].fillna(df['BloodPressure'].mean(), inplace = True)\n",
    "df['SkinThickness'].fillna(df['SkinThickness'].median(), inplace = True)\n",
    "df['Insulin'].fillna(df['Insulin'].median(), inplace = True)\n",
    "df['BMI'].fillna(df['BMI'].median(), inplace = True)\n",
    "#df.hist(figsize=(10, 8))\n"
   ]
  },
  {
   "cell_type": "code",
   "execution_count": 9,
   "metadata": {
    "ExecuteTime": {
     "end_time": "2020-05-14T16:39:12.230536Z",
     "start_time": "2020-05-14T16:39:12.225965Z"
    }
   },
   "outputs": [],
   "source": [
    "#create numpy arrays for predictors and target variables \n",
    "X = df.drop('Outcome',axis=1).values\n",
    "y = df['Outcome'].values"
   ]
  },
  {
   "cell_type": "code",
   "execution_count": 10,
   "metadata": {
    "ExecuteTime": {
     "end_time": "2020-05-14T16:40:07.862875Z",
     "start_time": "2020-05-14T16:40:06.999028Z"
    }
   },
   "outputs": [],
   "source": [
    "#importing train_test_split\n",
    "from sklearn.model_selection import train_test_split\n",
    "\n",
    "X_train,X_test,y_train,y_test = train_test_split(X,y,test_size=0.4,\n",
    "                                                 random_state=42, stratify=y)"
   ]
  },
  {
   "cell_type": "code",
   "execution_count": 12,
   "metadata": {
    "ExecuteTime": {
     "end_time": "2020-05-14T16:50:37.553573Z",
     "start_time": "2020-05-14T16:50:37.391819Z"
    }
   },
   "outputs": [],
   "source": [
    "#import KNeighborsClassifier\n",
    "from sklearn.neighbors import KNeighborsClassifier\n",
    "\n",
    "#Setup arrays to store training and test accuracies\n",
    "neighbors = np.arange(1,9)\n",
    "train_accuracy =np.empty(len(neighbors))\n",
    "test_accuracy = np.empty(len(neighbors))\n",
    "\n",
    "for i,k in enumerate(neighbors):\n",
    "    #Setup a knn classifier with k neighbors\n",
    "    knn = KNeighborsClassifier(n_neighbors=k)\n",
    "    \n",
    "    #Fit the model\n",
    "    knn.fit(X_train, y_train)\n",
    "    \n",
    "    #Compute accuracy on the training set\n",
    "    train_accuracy[i] = knn.score(X_train, y_train)\n",
    "    \n",
    "    #Compute accuracy on the test set\n",
    "    test_accuracy[i] = knn.score(X_test, y_test) "
   ]
  },
  {
   "cell_type": "code",
   "execution_count": 13,
   "metadata": {
    "ExecuteTime": {
     "end_time": "2020-05-14T16:56:05.077607Z",
     "start_time": "2020-05-14T16:56:04.924925Z"
    }
   },
   "outputs": [
    {
     "data": {
      "image/png": "[encoded data removed]",
      "text/plain": [
       "<Figure size 432x288 with 1 Axes>"
      ]
     },
     "metadata": {
      "needs_background": "light"
     },
     "output_type": "display_data"
    }
   ],
   "source": [
    "#Generate plot\n",
    "plt.title('KNN - number of neighbors')\n",
    "plt.plot(neighbors, test_accuracy, label='Testing Accuracy')\n",
    "plt.plot(neighbors, train_accuracy, label='Training accuracy')\n",
    "plt.legend()\n",
    "plt.xlabel('Number of neighbors')\n",
    "plt.ylabel('Accuracy')\n",
    "plt.show()\n"
   ]
  },
  {
   "cell_type": "code",
   "execution_count": 16,
   "metadata": {
    "ExecuteTime": {
     "end_time": "2020-05-14T16:57:45.772632Z",
     "start_time": "2020-05-14T16:57:45.770060Z"
    }
   },
   "outputs": [],
   "source": [
    "#Setup a knn classifier with optimal k neighbors\n",
    "knn = KNeighborsClassifier(n_neighbors=6)"
   ]
  },
  {
   "cell_type": "code",
   "execution_count": 17,
   "metadata": {
    "ExecuteTime": {
     "end_time": "2020-05-14T16:57:46.427518Z",
     "start_time": "2020-05-14T16:57:46.412251Z"
    }
   },
   "outputs": [
    {
     "data": {
      "text/plain": [
       "0.8065217391304348"
      ]
     },
     "execution_count": 17,
     "metadata": {},
     "output_type": "execute_result"
    }
   ],
   "source": [
    "#Fit the model\n",
    "knn.fit(X_train,y_train)\n",
    "\n",
    "#Get accuracy. Note: In case of classification algorithms score method represents accuracy.\n",
    "knn.score(X_train,y_train)"
   ]
  },
  {
   "cell_type": "markdown",
   "metadata": {},
   "source": [
    "## Evaluating the model "
   ]
  },
  {
   "cell_type": "code",
   "execution_count": 18,
   "metadata": {
    "ExecuteTime": {
     "end_time": "2020-05-14T16:58:12.114674Z",
     "start_time": "2020-05-14T16:58:12.103707Z"
    }
   },
   "outputs": [],
   "source": [
    "#let us get the predictions using the classifier we had fit above\n",
    "y_pred = knn.predict(X_test)"
   ]
  },
  {
   "cell_type": "code",
   "execution_count": 19,
   "metadata": {
    "ExecuteTime": {
     "end_time": "2020-05-14T16:58:28.634022Z",
     "start_time": "2020-05-14T16:58:28.623931Z"
    }
   },
   "outputs": [
    {
     "name": "stdout",
     "output_type": "stream",
     "text": [
      "----------------------------------------\n",
      "Accuracy Score:\n",
      "0.724025974025974\n",
      "----------------------------------------\n",
      "Confusion Matrix:\n",
      "[[167  34]\n",
      " [ 51  56]]\n",
      "----------------------------------------\n",
      "Classification Matrix:\n",
      "              precision    recall  f1-score   support\n",
      "\n",
      "           0       0.77      0.83      0.80       201\n",
      "           1       0.62      0.52      0.57       107\n",
      "\n",
      "    accuracy                           0.72       308\n",
      "   macro avg       0.69      0.68      0.68       308\n",
      "weighted avg       0.72      0.72      0.72       308\n",
      "\n"
     ]
    }
   ],
   "source": [
    "from sklearn.metrics import accuracy_score, confusion_matrix, classification_report\n",
    "\n",
    "print('-'*40)\n",
    "print('Accuracy Score:')\n",
    "print(accuracy_score(y_test, y_pred))\n",
    "\n",
    "print('-'*40)\n",
    "print('Confusion Matrix:')\n",
    "print(confusion_matrix(y_test, y_pred))\n",
    "\n",
    "print('-'*40)\n",
    "print('Classification Matrix:')\n",
    "print(classification_report(y_test, y_pred))"
   ]
  },
  {
   "cell_type": "code",
   "execution_count": 20,
   "metadata": {
    "ExecuteTime": {
     "end_time": "2020-05-14T17:00:39.186017Z",
     "start_time": "2020-05-14T17:00:39.145694Z"
    }
   },
   "outputs": [
    {
     "data": {
      "text/html": [
       "<div>\n",
       "<style scoped>\n",
       "    .dataframe tbody tr th:only-of-type {\n",
       "        vertical-align: middle;\n",
       "    }\n",
       "\n",
       "    .dataframe tbody tr th {\n",
       "        vertical-align: top;\n",
       "    }\n",
       "\n",
       "    .dataframe thead th {\n",
       "        text-align: right;\n",
       "    }\n",
       "</style>\n",
       "<table border=\"1\" class=\"dataframe\">\n",
       "  <thead>\n",
       "    <tr style=\"text-align: right;\">\n",
       "      <th>Predicted</th>\n",
       "      <th>0</th>\n",
       "      <th>1</th>\n",
       "      <th>All</th>\n",
       "    </tr>\n",
       "    <tr>\n",
       "      <th>True</th>\n",
       "      <th></th>\n",
       "      <th></th>\n",
       "      <th></th>\n",
       "    </tr>\n",
       "  </thead>\n",
       "  <tbody>\n",
       "    <tr>\n",
       "      <th>0</th>\n",
       "      <td>167</td>\n",
       "      <td>34</td>\n",
       "      <td>201</td>\n",
       "    </tr>\n",
       "    <tr>\n",
       "      <th>1</th>\n",
       "      <td>51</td>\n",
       "      <td>56</td>\n",
       "      <td>107</td>\n",
       "    </tr>\n",
       "    <tr>\n",
       "      <th>All</th>\n",
       "      <td>218</td>\n",
       "      <td>90</td>\n",
       "      <td>308</td>\n",
       "    </tr>\n",
       "  </tbody>\n",
       "</table>\n",
       "</div>"
      ],
      "text/plain": [
       "Predicted    0   1  All\n",
       "True                   \n",
       "0          167  34  201\n",
       "1           51  56  107\n",
       "All        218  90  308"
      ]
     },
     "execution_count": 20,
     "metadata": {},
     "output_type": "execute_result"
    }
   ],
   "source": [
    "#another way to create a confusion matrix\n",
    "pd.crosstab(y_test, y_pred, rownames=['True'], \n",
    "            colnames=['Predicted'], margins=True)"
   ]
  },
  {
   "cell_type": "code",
   "execution_count": 21,
   "metadata": {
    "ExecuteTime": {
     "end_time": "2020-05-14T17:01:44.609459Z",
     "start_time": "2020-05-14T17:01:44.604176Z"
    }
   },
   "outputs": [],
   "source": [
    "from sklearn.metrics import roc_auc_score, roc_curve \n",
    "\n",
    "y_pred_proba = knn.predict_proba(X_test)[:,1]"
   ]
  },
  {
   "cell_type": "code",
   "execution_count": 23,
   "metadata": {
    "ExecuteTime": {
     "end_time": "2020-05-14T17:01:59.172494Z",
     "start_time": "2020-05-14T17:01:59.043023Z"
    }
   },
   "outputs": [
    {
     "data": {
      "image/png": "[encoded data removed]",
      "text/plain": [
       "<Figure size 432x288 with 1 Axes>"
      ]
     },
     "metadata": {
      "needs_background": "light"
     },
     "output_type": "display_data"
    }
   ],
   "source": [
    "fpr, tpr, thresholds = roc_curve(y_test, y_pred_proba)\n",
    "\n",
    "plt.plot([0,1],[0,1],'k--')\n",
    "plt.plot(fpr,tpr, label='Knn')\n",
    "plt.xlabel('fpr')\n",
    "plt.ylabel('tpr')\n",
    "plt.title('Knn(n_neighbors=6) ROC curve')\n",
    "plt.show()"
   ]
  },
  {
   "cell_type": "code",
   "execution_count": 24,
   "metadata": {
    "ExecuteTime": {
     "end_time": "2020-05-14T17:02:15.732244Z",
     "start_time": "2020-05-14T17:02:15.728167Z"
    }
   },
   "outputs": [
    {
     "data": {
      "text/plain": [
       "0.7426651787790022"
      ]
     },
     "execution_count": 24,
     "metadata": {},
     "output_type": "execute_result"
    }
   ],
   "source": [
    "#Area under ROC curve\n",
    "roc_auc_score(y_test,y_pred_proba)"
   ]
  },
  {
   "cell_type": "markdown",
   "metadata": {},
   "source": [
    "## Hyperparameter Tuning and Scaling "
   ]
  },
  {
   "cell_type": "code",
   "execution_count": 25,
   "metadata": {
    "ExecuteTime": {
     "end_time": "2020-05-14T17:03:35.383048Z",
     "start_time": "2020-05-14T17:03:35.372445Z"
    }
   },
   "outputs": [
    {
     "data": {
      "text/html": [
       "<div>\n",
       "<style scoped>\n",
       "    .dataframe tbody tr th:only-of-type {\n",
       "        vertical-align: middle;\n",
       "    }\n",
       "\n",
       "    .dataframe tbody tr th {\n",
       "        vertical-align: top;\n",
       "    }\n",
       "\n",
       "    .dataframe thead th {\n",
       "        text-align: right;\n",
       "    }\n",
       "</style>\n",
       "<table border=\"1\" class=\"dataframe\">\n",
       "  <thead>\n",
       "    <tr style=\"text-align: right;\">\n",
       "      <th></th>\n",
       "      <th>0</th>\n",
       "      <th>1</th>\n",
       "      <th>2</th>\n",
       "      <th>3</th>\n",
       "      <th>4</th>\n",
       "      <th>5</th>\n",
       "      <th>6</th>\n",
       "      <th>7</th>\n",
       "    </tr>\n",
       "  </thead>\n",
       "  <tbody>\n",
       "    <tr>\n",
       "      <th>0</th>\n",
       "      <td>0.948187</td>\n",
       "      <td>-0.796316</td>\n",
       "      <td>0.307662</td>\n",
       "      <td>0.374502</td>\n",
       "      <td>-0.579047</td>\n",
       "      <td>1.237119</td>\n",
       "      <td>1.131969</td>\n",
       "      <td>-0.112431</td>\n",
       "    </tr>\n",
       "    <tr>\n",
       "      <th>1</th>\n",
       "      <td>0.948187</td>\n",
       "      <td>1.965260</td>\n",
       "      <td>0.948660</td>\n",
       "      <td>-0.946963</td>\n",
       "      <td>0.717397</td>\n",
       "      <td>0.500701</td>\n",
       "      <td>0.304397</td>\n",
       "      <td>1.522594</td>\n",
       "    </tr>\n",
       "    <tr>\n",
       "      <th>2</th>\n",
       "      <td>0.645504</td>\n",
       "      <td>-0.566185</td>\n",
       "      <td>0.147412</td>\n",
       "      <td>-1.307362</td>\n",
       "      <td>0.255298</td>\n",
       "      <td>-0.383002</td>\n",
       "      <td>0.699308</td>\n",
       "      <td>0.662054</td>\n",
       "    </tr>\n",
       "    <tr>\n",
       "      <th>3</th>\n",
       "      <td>-0.565227</td>\n",
       "      <td>-0.960695</td>\n",
       "      <td>-1.615333</td>\n",
       "      <td>0.014103</td>\n",
       "      <td>-0.142620</td>\n",
       "      <td>-0.353545</td>\n",
       "      <td>-0.987778</td>\n",
       "      <td>-0.972971</td>\n",
       "    </tr>\n",
       "    <tr>\n",
       "      <th>4</th>\n",
       "      <td>1.856235</td>\n",
       "      <td>0.255713</td>\n",
       "      <td>0.307662</td>\n",
       "      <td>-0.106031</td>\n",
       "      <td>-0.181128</td>\n",
       "      <td>0.500701</td>\n",
       "      <td>-0.584155</td>\n",
       "      <td>0.489946</td>\n",
       "    </tr>\n",
       "  </tbody>\n",
       "</table>\n",
       "</div>"
      ],
      "text/plain": [
       "          0         1         2         3         4         5         6  \\\n",
       "0  0.948187 -0.796316  0.307662  0.374502 -0.579047  1.237119  1.131969   \n",
       "1  0.948187  1.965260  0.948660 -0.946963  0.717397  0.500701  0.304397   \n",
       "2  0.645504 -0.566185  0.147412 -1.307362  0.255298 -0.383002  0.699308   \n",
       "3 -0.565227 -0.960695 -1.615333  0.014103 -0.142620 -0.353545 -0.987778   \n",
       "4  1.856235  0.255713  0.307662 -0.106031 -0.181128  0.500701 -0.584155   \n",
       "\n",
       "          7  \n",
       "0 -0.112431  \n",
       "1  1.522594  \n",
       "2  0.662054  \n",
       "3 -0.972971  \n",
       "4  0.489946  "
      ]
     },
     "execution_count": 25,
     "metadata": {},
     "output_type": "execute_result"
    }
   ],
   "source": [
    "# Import StandardScaler\n",
    "from sklearn.preprocessing import StandardScaler\n",
    "\n",
    "# Instantiate StandardScaler\n",
    "scaler = StandardScaler()\n",
    "\n",
    "# Transform the training and test sets\n",
    "scaled_data_train = scaler.fit_transform(X_train)\n",
    "scaled_data_test = scaler.transform(X_test)\n",
    "\n",
    "# Convert into a DataFrame\n",
    "scaled_df_train = pd.DataFrame(scaled_data_train)\n",
    "scaled_df_train.head()"
   ]
  },
  {
   "cell_type": "code",
   "execution_count": 26,
   "metadata": {
    "ExecuteTime": {
     "end_time": "2020-05-14T17:06:11.424943Z",
     "start_time": "2020-05-14T17:06:11.422464Z"
    }
   },
   "outputs": [],
   "source": [
    "#import GridSearchCV\n",
    "from sklearn.model_selection import GridSearchCV\n",
    "\n",
    "#In case of classifier like knn the parameter to be tuned is n_neighbors\n",
    "param_grid = {'n_neighbors':np.arange(1,50)}\n"
   ]
  },
  {
   "cell_type": "code",
   "execution_count": 27,
   "metadata": {
    "ExecuteTime": {
     "end_time": "2020-05-14T17:09:19.954657Z",
     "start_time": "2020-05-14T17:09:19.039264Z"
    }
   },
   "outputs": [
    {
     "name": "stderr",
     "output_type": "stream",
     "text": [
      "/Users/amberyandow/anaconda3/lib/python3.7/site-packages/sklearn/model_selection/_search.py:813: DeprecationWarning: The default of the `iid` parameter will change from True to False in version 0.22 and will be removed in 0.24. This will change numeric results when test-set sizes are unequal.\n",
      "  DeprecationWarning)\n"
     ]
    }
   ],
   "source": [
    "#add cross validation hyperparameter\n",
    "knn = KNeighborsClassifier()\n",
    "knn_cv= GridSearchCV(knn,param_grid,cv=5)\n",
    "knn_cv.fit(scaled_data_train, y_train)\n",
    "# Predict on the test set\n",
    "test_preds = knn_cv.predict(scaled_data_test)"
   ]
  },
  {
   "cell_type": "markdown",
   "metadata": {},
   "source": [
    "## Re-evaluate after tuning "
   ]
  },
  {
   "cell_type": "code",
   "execution_count": 28,
   "metadata": {
    "ExecuteTime": {
     "end_time": "2020-05-14T17:10:58.758551Z",
     "start_time": "2020-05-14T17:10:58.755985Z"
    }
   },
   "outputs": [
    {
     "name": "stdout",
     "output_type": "stream",
     "text": [
      "0.7760869565217391\n",
      "{'n_neighbors': 11}\n"
     ]
    }
   ],
   "source": [
    "print(knn_cv.best_score_)\n",
    "print(knn_cv.best_params_)"
   ]
  },
  {
   "cell_type": "markdown",
   "metadata": {},
   "source": [
    "## Review - Pros and Cons of KNNs \n",
    "\n",
    "**Pros:**\n",
    "- No assumptions about data — useful, for example, for nonlinear data\n",
    "- Simple algorithm — to explain and understand/interpret\n",
    "- High accuracy (relatively) — it is pretty high but not competitive in comparison to better supervised learning models\n",
    "- Versatile — useful for classification or regression\n",
    "\n",
    "**Cons:**\n",
    "- Computationally expensive — because the algorithm stores all of the training data\n",
    "- High memory requirement\n",
    "- Stores all (or almost all) of the training data\n",
    "- Prediction stage might be slow (with big N)\n",
    "- Sensitive to irrelevant features and the scale of the data\n"
   ]
  },
  {
   "cell_type": "code",
   "execution_count": null,
   "metadata": {},
   "outputs": [],
   "source": []
  }
 ],
 "metadata": {
  "kernelspec": {
   "display_name": "learn-env",
   "language": "python",
   "name": "learn-env"
  },
  "language_info": {
   "codemirror_mode": {
    "name": "ipython",
    "version": 3
   },
   "file_extension": ".py",
   "mimetype": "text/x-python",
   "name": "python",
   "nbconvert_exporter": "python",
   "pygments_lexer": "ipython3",
   "version": "3.6.6"
  },
  "toc": {
   "base_numbering": 1,
   "nav_menu": {},
   "number_sections": true,
   "sideBar": true,
   "skip_h1_title": true,
   "title_cell": "Table of Contents",
   "title_sidebar": "Contents",
   "toc_cell": false,
   "toc_position": {},
   "toc_section_display": true,
   "toc_window_display": false
  }
 },
 "nbformat": 4,
 "nbformat_minor": 2
}
