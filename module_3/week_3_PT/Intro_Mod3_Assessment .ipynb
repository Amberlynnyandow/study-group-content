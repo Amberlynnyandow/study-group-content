{
 "cells": [
  {
   "cell_type": "markdown",
   "metadata": {},
   "source": [
    "## Intro to Mod3 Assessment \n",
    "\n",
    "In the cells below, we are importing relevant modules that you might need later on. We also load and prepare the dataset for you."
   ]
  },
  {
   "cell_type": "code",
   "execution_count": null,
   "metadata": {
    "ExecuteTime": {
     "end_time": "2020-10-07T21:04:40.807313Z",
     "start_time": "2020-10-07T21:04:31.811329Z"
    }
   },
   "outputs": [],
   "source": [
    "# Run this cell without changes\n",
    "import pandas as pd\n",
    "import itertools\n",
    "import seaborn as sns\n",
    "import matplotlib.pyplot as plt\n",
    "%matplotlib inline\n",
    "import numpy as np\n",
    "from sklearn.linear_model import Lasso, Ridge\n",
    "from sklearn.metrics import mean_squared_error\n",
    "from sklearn.linear_model import LinearRegression\n",
    "from sklearn.model_selection import train_test_split\n",
    "from sklearn.preprocessing import PolynomialFeatures"
   ]
  },
  {
   "cell_type": "code",
   "execution_count": null,
   "metadata": {
    "ExecuteTime": {
     "end_time": "2020-10-07T21:06:55.367569Z",
     "start_time": "2020-10-07T21:06:55.073775Z"
    }
   },
   "outputs": [],
   "source": [
    "# Run this cell without changes\n",
    "data = pd.read_csv('https://raw.githubusercontent.com/learn-co-curriculum/dsc-linear-regression-extensions-topic-questions/master/raw_data/advertising.csv?token=AK7GP7ESOX3D7HWLIXREPAS7Q5UFE').drop('Unnamed: 0',axis=1)\n",
    "data.describe()"
   ]
  },
  {
   "cell_type": "markdown",
   "metadata": {},
   "source": [
    "**1. Drop the 'sales' column, use the correct axis and set this line of code = to X then set the 'sales' column = y** "
   ]
  },
  {
   "cell_type": "code",
   "execution_count": null,
   "metadata": {},
   "outputs": [],
   "source": []
  },
  {
   "cell_type": "markdown",
   "metadata": {},
   "source": [
    "**2.Split the data into training and test sets and set the random state to 2019**"
   ]
  },
  {
   "cell_type": "code",
   "execution_count": null,
   "metadata": {},
   "outputs": [],
   "source": []
  },
  {
   "cell_type": "markdown",
   "metadata": {},
   "source": [
    "**3. Write a function to calculate train and test error for different polynomial degrees.**\n",
    "\n",
    "This function should:\n",
    "\n",
    "- take degree as a parameter that will be used to create polynomial features to be used in a linear regression model\n",
    "\n",
    "- create a PolynomialFeatures object for each degree and fit a linear regression model using the transformed data\n",
    "\n",
    "- calculate the mean square error for each level of polynomial\n",
    "\n",
    "- return the train_error and test_error"
   ]
  },
  {
   "cell_type": "code",
   "execution_count": null,
   "metadata": {
    "ExecuteTime": {
     "end_time": "2020-10-08T00:48:43.818594Z",
     "start_time": "2020-10-08T00:48:43.815722Z"
    }
   },
   "outputs": [],
   "source": [
    "def polynomial_regression(degree):\n",
    "    \"\"\"\n",
    "    Calculate train and test error for a linear regression with polynomial features.\n",
    "    (Hint: use PolynomialFeatures)\n",
    "    \n",
    "    input: Polynomial degree\n",
    "    output: Mean squared error for train and test set\n",
    "    \"\"\"\n",
    "    # Your code here\n",
    "    \n",
    "    # Replace None with appropriate code\n",
    "    train_error = None\n",
    "    test_error = None\n",
    "    return train_error, test_error"
   ]
  },
  {
   "cell_type": "markdown",
   "metadata": {},
   "source": [
    "**Try out your new function below**"
   ]
  },
  {
   "cell_type": "code",
   "execution_count": null,
   "metadata": {
    "ExecuteTime": {
     "end_time": "2020-10-08T00:49:29.605346Z",
     "start_time": "2020-10-08T00:49:29.601562Z"
    }
   },
   "outputs": [],
   "source": [
    "# Run this cell without changes\n",
    "polynomial_regression(3)"
   ]
  },
  {
   "cell_type": "code",
   "execution_count": null,
   "metadata": {
    "ExecuteTime": {
     "end_time": "2020-10-08T00:49:41.231668Z",
     "start_time": "2020-10-08T00:49:41.228152Z"
    }
   },
   "outputs": [],
   "source": [
    "# Run this cell without changes\n",
    "polynomial_regression(4)"
   ]
  },
  {
   "cell_type": "markdown",
   "metadata": {},
   "source": [
    "**Check your answers**\n",
    "\n",
    "Approximate MSE for degree 3:\n",
    "\n",
    "Train: 0.242<br/>\n",
    "Test: 0.153\n",
    "\n",
    "Approximate MSE for degree 4:\n",
    "\n",
    "Train: 0.182<br/>\n",
    "Test: 1.95"
   ]
  },
  {
   "cell_type": "markdown",
   "metadata": {},
   "source": [
    "## Gradient Descent \n",
    "![](https://raw.githubusercontent.com/learn-co-curriculum/dsc-module-4-assessment/master/visuals/gd.png?token=AK7GP7CTM6NL57MVOGOCBL27Q6PSO)"
   ]
  },
  {
   "cell_type": "markdown",
   "metadata": {},
   "source": [
    "**Q1:**Using the gradient descent visual from above, explain why the distance between each step is getting smaller as more steps occur with gradient descent."
   ]
  },
  {
   "cell_type": "markdown",
   "metadata": {},
   "source": []
  },
  {
   "cell_type": "markdown",
   "metadata": {},
   "source": [
    "**Q2:**What is the purpose of a learning rate in gradient descent? Explain how a very small and a very large learning rate would affect the gradient descent."
   ]
  },
  {
   "cell_type": "markdown",
   "metadata": {},
   "source": []
  },
  {
   "cell_type": "markdown",
   "metadata": {},
   "source": [
    "## Confusion Matices \n",
    "![](https://raw.githubusercontent.com/learn-co-curriculum/dsc-module-4-assessment/master/visuals/cnf_matrix.png?token=AK7GP7FXCGFQNG7ZYH2GNA27Q6P3E)"
   ]
  },
  {
   "cell_type": "markdown",
   "metadata": {},
   "source": [
    "**Q1.** Using the confusion matrix up above, calculate precision, recall, and F-1 score."
   ]
  },
  {
   "cell_type": "code",
   "execution_count": null,
   "metadata": {
    "ExecuteTime": {
     "end_time": "2020-10-08T01:03:56.127601Z",
     "start_time": "2020-10-08T01:03:56.125354Z"
    }
   },
   "outputs": [],
   "source": [
    "#Calculate using python here"
   ]
  },
  {
   "cell_type": "markdown",
   "metadata": {},
   "source": [
    "**Q2.** What is a real life example of when you would care more about recall than precision? Make sure to include information about errors in your explanation."
   ]
  },
  {
   "cell_type": "code",
   "execution_count": null,
   "metadata": {},
   "outputs": [],
   "source": []
  },
  {
   "cell_type": "markdown",
   "metadata": {},
   "source": [
    "**Q3.** What is an example of when you would care more about precision than recall? Make sure to include information about errors in your explanation."
   ]
  },
  {
   "cell_type": "code",
   "execution_count": null,
   "metadata": {},
   "outputs": [],
   "source": []
  }
 ],
 "metadata": {
  "kernelspec": {
   "display_name": "learn-env",
   "language": "python",
   "name": "learn-env"
  },
  "language_info": {
   "codemirror_mode": {
    "name": "ipython",
    "version": 3
   },
   "file_extension": ".py",
   "mimetype": "text/x-python",
   "name": "python",
   "nbconvert_exporter": "python",
   "pygments_lexer": "ipython3",
   "version": "3.6.6"
  },
  "toc": {
   "base_numbering": 1,
   "nav_menu": {},
   "number_sections": true,
   "sideBar": true,
   "skip_h1_title": true,
   "title_cell": "Table of Contents",
   "title_sidebar": "Contents",
   "toc_cell": false,
   "toc_position": {},
   "toc_section_display": true,
   "toc_window_display": false
  }
 },
 "nbformat": 4,
 "nbformat_minor": 2
}
