{
 "cells": [
  {
   "cell_type": "markdown",
   "metadata": {
    "toc": true
   },
   "source": [
    "<h1>Table of Contents<span class=\"tocSkip\"></span></h1>\n",
    "<div class=\"toc\"><ul class=\"toc-item\"><li><span><a href=\"#Intro-to-Object-Oriented-Programming-in-Python---What-is-it?\" data-toc-modified-id=\"Intro-to-Object-Oriented-Programming-in-Python---What-is-it?-1\"><span class=\"toc-item-num\">1&nbsp;&nbsp;</span>Intro to Object Oriented Programming in Python - What is it?</a></span><ul class=\"toc-item\"><li><span><a href=\"#Creating-a-Class-and-Instances(objects)\" data-toc-modified-id=\"Creating-a-Class-and-Instances(objects)-1.1\"><span class=\"toc-item-num\">1.1&nbsp;&nbsp;</span>Creating a Class and Instances(objects)</a></span></li><li><span><a href=\"#An-Object's-Attributes:-Methods,-Variables,-Self\" data-toc-modified-id=\"An-Object's-Attributes:-Methods,-Variables,-Self-1.2\"><span class=\"toc-item-num\">1.2&nbsp;&nbsp;</span>An Object's Attributes: Methods, Variables, Self</a></span><ul class=\"toc-item\"><li><span><a href=\"#Class-methods-are-functions-that-belong-to-the-Class/mold\" data-toc-modified-id=\"Class-methods-are-functions-that-belong-to-the-Class/mold-1.2.1\"><span class=\"toc-item-num\">1.2.1&nbsp;&nbsp;</span>Class methods are functions that belong to the Class/mold</a></span></li></ul></li><li><span><a href=\"#Introducing-Self\" data-toc-modified-id=\"Introducing-Self-1.3\"><span class=\"toc-item-num\">1.3&nbsp;&nbsp;</span>Introducing Self</a></span></li><li><span><a href=\"#Practice\" data-toc-modified-id=\"Practice-1.4\"><span class=\"toc-item-num\">1.4&nbsp;&nbsp;</span>Practice</a></span></li></ul></li></ul></div>"
   ]
  },
  {
   "cell_type": "markdown",
   "metadata": {},
   "source": [
    "# Intro to Object Oriented Programming in Python - What is it? \n",
    "So far in this course we've learned how to create objects from the built-in classes that are provided by python. This includes ints, strs and lists. In addition, you have learned how to organize your programs into a series of functions that process/manipulate your data. This is known as procedural programming. Now, your gonna learn a bit about object oriented programming, that allows you to create your own objects and procedures from classes you design. OOP is useful because it speeds up development and makes your code more reusable.\n",
    "\n",
    "![](https://cdn.ttgtmedia.com/rms/onlineimages/whatis-object_oriented_programming_half_column_desktop.png)\n",
    "\n",
    "Python is an object-oriented programming language. You'll hear people say that \"everything is an object\" in Python. What does this mean?\n",
    "\n",
    "Go back to the idea of a function for a moment. A function is a kind of abstraction whereby an algorithm is made repeatable. So instead of coding a number squared plus 10:"
   ]
  },
  {
   "cell_type": "code",
   "execution_count": null,
   "metadata": {
    "ExecuteTime": {
     "end_time": "2020-05-04T16:07:30.697993Z",
     "start_time": "2020-05-04T16:07:30.694118Z"
    }
   },
   "outputs": [],
   "source": [
    "print(3**2 + 10)\n",
    "print(4**2 + 10)\n",
    "print(5**2 + 10)"
   ]
  },
  {
   "cell_type": "markdown",
   "metadata": {},
   "source": [
    "Or even this: "
   ]
  },
  {
   "cell_type": "code",
   "execution_count": null,
   "metadata": {
    "ExecuteTime": {
     "end_time": "2020-05-04T16:08:35.843829Z",
     "start_time": "2020-05-04T16:08:35.840442Z"
    }
   },
   "outputs": [],
   "source": [
    "for x in range(3, 6):\n",
    "    print(x**2 + 10)"
   ]
  },
  {
   "cell_type": "markdown",
   "metadata": {},
   "source": [
    "I would just write this: "
   ]
  },
  {
   "cell_type": "code",
   "execution_count": null,
   "metadata": {
    "ExecuteTime": {
     "end_time": "2020-05-04T16:09:51.696242Z",
     "start_time": "2020-05-04T16:09:51.693895Z"
    }
   },
   "outputs": [],
   "source": [
    "def square_add_ten(x):\n",
    "    return x**2 + 10"
   ]
  },
  {
   "cell_type": "markdown",
   "metadata": {},
   "source": [
    "Now imagine a further abstraction: Before, creating a function was about making a certain algorithm available to different inputs. Now I want to make that function available to different objects.\n",
    "\n",
    "An object is what we get out of this further abstraction. Each object is an instance of a class that defines a bundle of attributes and functions (now, as proprietary to the object type, called methods), the point being that every object of that class will automatically have those proprietary attributes and methods.\n",
    "\n",
    "When we say that everything in Python is an object, we really mean that everything is an object – even the attributes and methods of objects are themselves objects with their own type information:\n",
    "\n",
    "Consider:"
   ]
  },
  {
   "cell_type": "code",
   "execution_count": null,
   "metadata": {
    "ExecuteTime": {
     "end_time": "2020-05-04T16:12:07.125184Z",
     "start_time": "2020-05-04T16:12:07.122485Z"
    }
   },
   "outputs": [],
   "source": [
    "x = 3"
   ]
  },
  {
   "cell_type": "markdown",
   "metadata": {},
   "source": [
    "By setting x equal to an integer, I'm imbuing x with the attributes(define the type of data that an object can store) and methods(define the tasks that an object can perform. Often methods provide a way to modify the attributes of an object) of the integer class."
   ]
  },
  {
   "cell_type": "code",
   "execution_count": null,
   "metadata": {
    "ExecuteTime": {
     "end_time": "2020-05-04T16:13:05.132700Z",
     "start_time": "2020-05-04T16:13:05.129069Z"
    }
   },
   "outputs": [],
   "source": [
    "x.bit_length()"
   ]
  },
  {
   "cell_type": "markdown",
   "metadata": {},
   "source": [
    "In object-oriented programming languages like Python, an object is an entity that contains data along with associated metadata and/or functionality. In Python everything is an object, which means every entity has some metadata (called attributes) and associated functionality (called methods). These attributes and methods are accessed via the dot syntax.\n",
    "\n",
    "Think of OOP's use of objects and classes like a blueprint. \n",
    "<img src='https://www.assignmenthelp.net/assignment_help/images/class-oops.jpg' width=75%/>"
   ]
  },
  {
   "cell_type": "markdown",
   "metadata": {},
   "source": [
    "## Creating a Class and Instances(objects) \n"
   ]
  },
  {
   "cell_type": "code",
   "execution_count": null,
   "metadata": {
    "ExecuteTime": {
     "end_time": "2020-05-05T15:00:53.825519Z",
     "start_time": "2020-05-05T15:00:53.823124Z"
    }
   },
   "outputs": [],
   "source": [
    "## Essentially a blank template since we never defined any attributes\n",
    "class Robot(): #explain class definition \n",
    "    pass"
   ]
  },
  {
   "cell_type": "code",
   "execution_count": null,
   "metadata": {
    "ExecuteTime": {
     "end_time": "2020-05-05T15:00:55.123766Z",
     "start_time": "2020-05-05T15:00:55.120987Z"
    }
   },
   "outputs": [],
   "source": [
    "# Give it life by creating an object from the class using the \n",
    "# class name followed by a set of parenthesis\n",
    "my_robot = Robot()\n",
    "my_robot.name = 'Wall-E' #attributes \n",
    "my_robot.height = 100  # cm\n",
    "\n",
    "your_robot = Robot()\n",
    "your_robot.name = 'Rob'\n",
    "your_robot.height = 200 # cm"
   ]
  },
  {
   "cell_type": "code",
   "execution_count": null,
   "metadata": {
    "ExecuteTime": {
     "end_time": "2020-05-05T15:03:00.900456Z",
     "start_time": "2020-05-05T15:03:00.896757Z"
    }
   },
   "outputs": [],
   "source": [
    "# They live!!!!!\n",
    "print(my_robot.name,':', my_robot.height)\n",
    "print(your_robot.name,':', your_robot.height)"
   ]
  },
  {
   "cell_type": "code",
   "execution_count": null,
   "metadata": {
    "ExecuteTime": {
     "end_time": "2020-05-04T16:31:09.909441Z",
     "start_time": "2020-05-04T16:31:09.851013Z"
    }
   },
   "outputs": [],
   "source": [
    "# Uh oh, we didn't give it this attribute\n",
    "print(my_robot.purpose)"
   ]
  },
  {
   "cell_type": "code",
   "execution_count": null,
   "metadata": {
    "ExecuteTime": {
     "end_time": "2020-05-04T16:32:38.507855Z",
     "start_time": "2020-05-04T16:32:38.505091Z"
    }
   },
   "outputs": [],
   "source": [
    "#adding an attribute to our robot class \n",
    "class Robot():\n",
    "    purpose = 'To always protect humans'"
   ]
  },
  {
   "cell_type": "code",
   "execution_count": null,
   "metadata": {
    "ExecuteTime": {
     "end_time": "2020-05-04T16:33:35.919108Z",
     "start_time": "2020-05-04T16:33:35.915987Z"
    }
   },
   "outputs": [],
   "source": [
    "# Give it life!\n",
    "my_robot = Robot()\n",
    "my_robot.name = 'Wall-E'\n",
    "my_robot.height = 100  # cm\n",
    "\n",
    "your_robot = Robot()\n",
    "your_robot.name = 'Rob'\n",
    "your_robot.height = 200 # cm"
   ]
  },
  {
   "cell_type": "code",
   "execution_count": null,
   "metadata": {
    "ExecuteTime": {
     "end_time": "2020-05-04T16:33:37.648060Z",
     "start_time": "2020-05-04T16:33:37.645585Z"
    }
   },
   "outputs": [],
   "source": [
    "print('What is your purpose?\\n')\n",
    "print(my_robot.purpose)"
   ]
  },
  {
   "cell_type": "code",
   "execution_count": null,
   "metadata": {
    "ExecuteTime": {
     "end_time": "2020-05-04T16:33:58.952730Z",
     "start_time": "2020-05-04T16:33:58.948770Z"
    }
   },
   "outputs": [],
   "source": [
    "# Rogue robot!!!\n",
    "evil_robot = Robot()\n",
    "evil_robot.name = 'Lore'\n",
    "evil_robot.purpose = 'TO KILL ALL HUMANS!!!'\n",
    "\n",
    "print('What is your name and your purpose?\\n')\n",
    "print(f'My name is {evil_robot.name} and my purpose is {evil_robot.purpose}')"
   ]
  },
  {
   "cell_type": "code",
   "execution_count": null,
   "metadata": {
    "ExecuteTime": {
     "end_time": "2020-05-04T16:35:13.709699Z",
     "start_time": "2020-05-04T16:35:13.706057Z"
    }
   },
   "outputs": [],
   "source": [
    "# Who's taller?\n",
    "\n",
    "# Tie defaults to my bot 😁\n",
    "tall_bot = my_robot if my_robot.height >= your_robot.height else your_robot\n",
    "\n",
    "# Alternative code\n",
    "## if my_robot.height >= your_robot.height:\n",
    "##     tall_bot = my_robot\n",
    "## else:\n",
    "##     tall_bot = your_robot\n",
    "\n",
    "print(f'{tall_bot.name} is the tallest bot at {tall_bot.height} cm')"
   ]
  },
  {
   "cell_type": "code",
   "execution_count": null,
   "metadata": {
    "ExecuteTime": {
     "end_time": "2020-05-04T16:36:03.807989Z",
     "start_time": "2020-05-04T16:36:03.804922Z"
    }
   },
   "outputs": [],
   "source": [
    "# You guys taking up my (memory) space\n",
    "print('Where are you (in memory)?')\n",
    "print(my_robot)\n",
    "print(your_robot)"
   ]
  },
  {
   "cell_type": "code",
   "execution_count": null,
   "metadata": {
    "ExecuteTime": {
     "end_time": "2020-05-04T16:36:34.881314Z",
     "start_time": "2020-05-04T16:36:34.877174Z"
    }
   },
   "outputs": [],
   "source": [
    "# Are you the same..?\n",
    "print(f'Are you the same (using ==)? {my_robot == your_robot}')\n",
    "print(f'Are you the same (using is)? {my_robot is your_robot}')\n",
    "print(f'Are you yourself? {my_robot == my_robot}')"
   ]
  },
  {
   "cell_type": "markdown",
   "metadata": {},
   "source": [
    "## An Object's Attributes: Methods, Variables, Self \n",
    "How do objects vary?\n",
    "With VARIables. "
   ]
  },
  {
   "cell_type": "code",
   "execution_count": null,
   "metadata": {
    "ExecuteTime": {
     "end_time": "2020-05-04T16:39:58.963852Z",
     "start_time": "2020-05-04T16:39:58.961314Z"
    }
   },
   "outputs": [],
   "source": [
    "class Robot():\n",
    "    name = None\n",
    "    material = 'Metal'\n",
    "    is_electric = True\n",
    "    num_of_arms = 2"
   ]
  },
  {
   "cell_type": "code",
   "execution_count": null,
   "metadata": {
    "ExecuteTime": {
     "end_time": "2020-05-04T16:40:01.689600Z",
     "start_time": "2020-05-04T16:40:01.685834Z"
    }
   },
   "outputs": [],
   "source": [
    "walle = Robot()\n",
    "\n",
    "print(f'''\n",
    "name: {walle.name}\n",
    "material: {walle.material}\n",
    "is_electric: {walle.is_electric}\n",
    "num_of_arms: {walle.num_of_arms}\n",
    "''')\n",
    "  "
   ]
  },
  {
   "cell_type": "code",
   "execution_count": null,
   "metadata": {
    "ExecuteTime": {
     "end_time": "2020-05-04T16:40:31.083920Z",
     "start_time": "2020-05-04T16:40:31.079533Z"
    }
   },
   "outputs": [],
   "source": [
    "# Changing an attribute\n",
    "walle.name = 'Wall-E'\n",
    "# Adding a new attribute\n",
    "walle.is_solar = True\n",
    "\n",
    "print(f'''\n",
    "name: {walle.name}\n",
    "material: {walle.material}\n",
    "is_electric: {walle.is_electric}\n",
    "num_of_arms: {walle.num_of_arms}\n",
    "''')\n",
    "  \n",
    "print(f'is_solar: {walle.is_solar}')"
   ]
  },
  {
   "cell_type": "markdown",
   "metadata": {},
   "source": [
    "### Class methods are functions that belong to the Class/mold "
   ]
  },
  {
   "cell_type": "code",
   "execution_count": null,
   "metadata": {
    "ExecuteTime": {
     "end_time": "2020-05-05T15:38:53.342799Z",
     "start_time": "2020-05-05T15:38:53.338734Z"
    }
   },
   "outputs": [],
   "source": [
    "class Robot():\n",
    "\n",
    "    laws_of_robotics = [\n",
    "        '1. First Law:\tA robot may not injure a human being or, through inaction, allow a human being to come to harm.',\n",
    "        '2. Second Law:\tA robot must obey the orders given it by human beings except where such orders would conflict with the First Law.',\n",
    "        '3. Third Law:\tA robot must protect its own existence as long as such protection does not conflict with the First or Second Laws.'\n",
    "    ]\n",
    "  \n",
    "    def print_laws():\n",
    "        for law in Robot.laws_of_robotics:\n",
    "            print(law)\n",
    "\n",
    "      \n",
    "    def print_n_law(n):\n",
    "        # Check the law exists\n",
    "        if n < 1 or n > 3:\n",
    "            print('The #{n} law doesn\\'t exist')\n",
    "            return\n",
    "\n",
    "        print(Robot.laws_of_robotics[n-1])\n",
    "    "
   ]
  },
  {
   "cell_type": "code",
   "execution_count": null,
   "metadata": {
    "ExecuteTime": {
     "end_time": "2020-05-05T15:38:55.273644Z",
     "start_time": "2020-05-05T15:38:55.270000Z"
    }
   },
   "outputs": [],
   "source": [
    "Robot.laws_of_robotics"
   ]
  },
  {
   "cell_type": "code",
   "execution_count": null,
   "metadata": {
    "ExecuteTime": {
     "end_time": "2020-05-05T15:39:03.815322Z",
     "start_time": "2020-05-05T15:39:03.812198Z"
    }
   },
   "outputs": [],
   "source": [
    "Robot.print_laws()"
   ]
  },
  {
   "cell_type": "code",
   "execution_count": null,
   "metadata": {
    "ExecuteTime": {
     "end_time": "2020-05-04T16:42:54.181254Z",
     "start_time": "2020-05-04T16:42:54.178014Z"
    }
   },
   "outputs": [],
   "source": [
    "Robot.print_n_law(2)"
   ]
  },
  {
   "cell_type": "code",
   "execution_count": null,
   "metadata": {
    "ExecuteTime": {
     "end_time": "2020-05-05T15:11:53.897903Z",
     "start_time": "2020-05-05T15:11:53.895583Z"
    }
   },
   "outputs": [],
   "source": [
    "# Note what happens with Wall-e\n",
    "walle = Robot()"
   ]
  },
  {
   "cell_type": "code",
   "execution_count": null,
   "metadata": {
    "ExecuteTime": {
     "end_time": "2020-05-05T15:12:01.598955Z",
     "start_time": "2020-05-05T15:12:01.593273Z"
    }
   },
   "outputs": [],
   "source": [
    "# Has the laws built in \n",
    "walle.laws_of_robotics"
   ]
  },
  {
   "cell_type": "code",
   "execution_count": null,
   "metadata": {
    "ExecuteTime": {
     "end_time": "2020-05-05T15:48:01.315069Z",
     "start_time": "2020-05-05T15:48:01.309542Z"
    }
   },
   "outputs": [],
   "source": [
    "# Let's have Wall-E print out those laws too! (Wait, can he do that...?)\n",
    "walle.print_laws()"
   ]
  },
  {
   "cell_type": "markdown",
   "metadata": {},
   "source": [
    "What happened? - https://pythonexamples.org/python-typeerror-method-takes-0-positional-arguments-but-1-was-given/"
   ]
  },
  {
   "cell_type": "markdown",
   "metadata": {},
   "source": [
    "## Introducing Self \n",
    "Self is really a reference to the instantiated object itSELF  "
   ]
  },
  {
   "cell_type": "code",
   "execution_count": null,
   "metadata": {},
   "outputs": [],
   "source": [
    "class Robot():\n",
    "    name = None\n",
    "    material = 'Metal'\n",
    "    is_electric = True\n",
    "    num_of_arms = 2\n",
    "\n",
    "    # These methods belong to the Object (its self)\n",
    "    def speak(self):\n",
    "        print(f'I am {self.name}!')\n",
    "\n",
    "    def add_numbers(self, num0, num1):\n",
    "        total = num0 + num1\n",
    "        return total"
   ]
  },
  {
   "cell_type": "code",
   "execution_count": null,
   "metadata": {},
   "outputs": [],
   "source": [
    "walle = Robot()\n",
    "\n",
    "print(f'''\n",
    "name: {walle.name}\n",
    "material: {walle.material}\n",
    "is_electric: {walle.is_electric}\n",
    "num_of_arms: {walle.num_of_arms}\n",
    "''')\n",
    "\n",
    "walle.speak()\n",
    "walle.add_numbers(100,1)"
   ]
  },
  {
   "cell_type": "code",
   "execution_count": null,
   "metadata": {
    "ExecuteTime": {
     "end_time": "2020-05-04T16:49:22.632871Z",
     "start_time": "2020-05-04T16:49:22.629818Z"
    }
   },
   "outputs": [],
   "source": [
    "# Changing an attribute\n",
    "walle.name = 'Wall-E'\n",
    "walle.speak()"
   ]
  },
  {
   "cell_type": "code",
   "execution_count": null,
   "metadata": {
    "ExecuteTime": {
     "end_time": "2020-05-04T16:49:43.279861Z",
     "start_time": "2020-05-04T16:49:43.276629Z"
    }
   },
   "outputs": [],
   "source": [
    "# Changing how Wall-E talks (a little more advanced)\n",
    "walle.speak = lambda : print('Wwaaaalllll-eeeee!!!')\n",
    "walle.speak()"
   ]
  },
  {
   "cell_type": "markdown",
   "metadata": {},
   "source": [
    "## Practice \n",
    "\n",
    "Let's create a class named “Temperature” that has one attribute temp. The constructor of the class initiates the temp attributes using __init__ function. Two methods are defined as “convert_to_fahrenheit” and “convert_to_fahrenheit” to convert the temperatures. Once the class has been defined, we take inputs from the user as the temperature in Celcius and Fahrenheit  An instance of the class “Temperature” is created as “temp1” and “temp2 and the method is invoked to display the output in the converted form of temperature."
   ]
  },
  {
   "cell_type": "code",
   "execution_count": null,
   "metadata": {},
   "outputs": [],
   "source": []
  }
 ],
 "metadata": {
  "kernelspec": {
   "display_name": "learn-env",
   "language": "python",
   "name": "learn-env"
  },
  "language_info": {
   "codemirror_mode": {
    "name": "ipython",
    "version": 3
   },
   "file_extension": ".py",
   "mimetype": "text/x-python",
   "name": "python",
   "nbconvert_exporter": "python",
   "pygments_lexer": "ipython3",
   "version": "3.7.3"
  },
  "toc": {
   "base_numbering": 1,
   "nav_menu": {},
   "number_sections": true,
   "sideBar": true,
   "skip_h1_title": false,
   "title_cell": "Table of Contents",
   "title_sidebar": "Contents",
   "toc_cell": true,
   "toc_position": {},
   "toc_section_display": true,
   "toc_window_display": true
  }
 },
 "nbformat": 4,
 "nbformat_minor": 2
}
