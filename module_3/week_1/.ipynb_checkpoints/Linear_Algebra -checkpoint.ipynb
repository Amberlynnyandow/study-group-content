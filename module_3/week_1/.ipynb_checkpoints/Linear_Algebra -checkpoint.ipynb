{
 "cells": [
  {
   "cell_type": "markdown",
   "metadata": {},
   "source": [
    "# Linear Algebra \n",
    "\n",
    "In linear algebra data is represented in the form of linear equations. These linear equations are in turn represented in the form of matrices and vectors.\n",
    "\n",
    "The number of variables as well as the number of equations may vary depending upon the condition, but the representation is in form of matrices and vectors."
   ]
  },
  {
   "cell_type": "markdown",
   "metadata": {},
   "source": [
    "A linear equation in three variables represents a plane. More technically, a plane is a flat geometric object which extends up to infinity.\n",
    "\n",
    "As in the case of a line, finding solutions to 3 variables linear equation means we want to find the intersection of those planes. Now can you imagine, in how many ways a set of three planes can intersect? Let me help you out. There are 4 possible cases –\n",
    "\n",
    "* No intersection at all.\n",
    "* Planes intersect in a line.\n",
    "* They can intersect in a plane.\n",
    "* All the three planes intersect at a point.\n",
    "\n",
    "![](https://cdn.analyticsvidhya.com/wp-content/uploads/2017/05/23123901/LA-2.png)"
   ]
  },
  {
   "cell_type": "code",
   "execution_count": null,
   "metadata": {},
   "outputs": [],
   "source": []
  }
 ],
 "metadata": {
  "kernelspec": {
   "display_name": "learn-env",
   "language": "python",
   "name": "learn-env"
  },
  "language_info": {
   "codemirror_mode": {
    "name": "ipython",
    "version": 3
   },
   "file_extension": ".py",
   "mimetype": "text/x-python",
   "name": "python",
   "nbconvert_exporter": "python",
   "pygments_lexer": "ipython3",
   "version": "3.7.3"
  },
  "toc": {
   "base_numbering": 1,
   "nav_menu": {},
   "number_sections": true,
   "sideBar": true,
   "skip_h1_title": true,
   "title_cell": "Table of Contents",
   "title_sidebar": "Contents",
   "toc_cell": false,
   "toc_position": {},
   "toc_section_display": true,
   "toc_window_display": false
  }
 },
 "nbformat": 4,
 "nbformat_minor": 2
}
