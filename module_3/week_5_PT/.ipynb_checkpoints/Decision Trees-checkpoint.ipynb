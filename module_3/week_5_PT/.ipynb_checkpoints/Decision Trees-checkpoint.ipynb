{
 "cells": [
  {
   "cell_type": "markdown",
   "metadata": {},
   "source": [
    "# Decision Trees "
   ]
  },
  {
   "cell_type": "markdown",
   "metadata": {},
   "source": [
    "A decision tree is like going to a doctor who asks a series of questions to determine the cause of your symptoms.\n",
    "\n",
    "**Let's Play 20 Questions** \n",
    "\n",
    "**What are some other real life examples(like our doctor) where our society uses a decision tree mentality to come to an answer?** \n",
    "\n"
   ]
  },
  {
   "cell_type": "markdown",
   "metadata": {},
   "source": [
    "## Entropy and Information Gain \n",
    "The goal is to have our ultimate classes be fully \"ordered\" (for a binary dependent variable, we'd have the 1's in one group and the 0's in the other). So one way to assess the value of a split is to measure how disordered our groups are, and there is a notion of entropy that measures precisely this.\n",
    "\n",
    "The entropy of the whole dataset is given by:\n",
    "\n",
    "$\\large E = -\\Sigma^n_i p_i\\log_2(p_i)$,\n",
    "\n",
    "where $p_i$ is the probability of belonging to the $i$th group, where $n$ is the number of groups (i.e. target values).\n",
    "\n",
    "Entropy will always be between 0 and 1. The closer to 1, the more disordered your group.\n",
    "\n",
    "Let's use the math library's log() function to look at this:\n",
    "[Powerpoint presentation](https://docs.google.com/presentation/d/1kXs3Mi9a3w87J6tzs2sWyxW8kq2eaRQTBgUPKvuf8x8/edit#slide=id.p9)\n"
   ]
  },
  {
   "cell_type": "code",
   "execution_count": null,
   "metadata": {
    "ExecuteTime": {
     "end_time": "2020-10-21T16:31:52.491029Z",
     "start_time": "2020-10-21T16:31:49.226727Z"
    }
   },
   "outputs": [],
   "source": [
    "#if we start with a 50/50 distribution \n",
    "from math import log\n",
    "import numpy as np \n",
    "entropy = -0.5 * log(0.5, 2) - 0.5 * log(0.5, 2)\n",
    "entropy"
   ]
  },
  {
   "cell_type": "code",
   "execution_count": null,
   "metadata": {
    "ExecuteTime": {
     "end_time": "2020-10-21T16:31:53.254543Z",
     "start_time": "2020-10-21T16:31:53.250674Z"
    }
   },
   "outputs": [],
   "source": [
    "#tree will detect a feature that can split into 30/70\n",
    "entropy = -0.3 * log(0.3, 2) - 0.7 * log(0.7, 2)\n",
    "entropy"
   ]
  },
  {
   "cell_type": "markdown",
   "metadata": {},
   "source": [
    "For a given split, the information gain is simply the entropy of the parent group less the entropy of the split.\n",
    "\n",
    "For a given parent, then, we maximize our model's performance by minimizing the split's entropy.\n",
    "\n",
    "What we'd like to do then is:\n",
    "\n",
    "to look at the entropies of all possible splits, and\n",
    "to choose the split with the lowest entropy.\n",
    "In practice there are far too many splits for it to be practical for a person to calculate all these different entropies ...\n",
    "\n",
    "... but we can make computers do these calculations for us!"
   ]
  },
  {
   "cell_type": "markdown",
   "metadata": {},
   "source": [
    "**Gini Impurity**\n",
    "\n",
    "An alternative metric to entropy comes from the work of Corrado Gini. The Gini Impurity is defined as:\n",
    "\n",
    "$\\large G = 1 - \\Sigma_ip_i^2$, or, equivalently, $\\large G = \\Sigma_ip_i(1-p_i)$.\n",
    "\n",
    "where, again, $p_i$ is the probability of belonging to the $i$th group.\n",
    "\n",
    "Gini Impurity will always be between 0 and 0.5. The closer to 0.5, the more disordered your group."
   ]
  },
  {
   "cell_type": "code",
   "execution_count": null,
   "metadata": {
    "ExecuteTime": {
     "end_time": "2020-10-21T16:31:55.490334Z",
     "start_time": "2020-10-21T16:31:55.486442Z"
    }
   },
   "outputs": [],
   "source": [
    "#gini with 30/70 split \n",
    "1 - (0.7**2 + 0.3**2)"
   ]
  },
  {
   "cell_type": "markdown",
   "metadata": {},
   "source": [
    "### Let's practice with some data "
   ]
  },
  {
   "cell_type": "code",
   "execution_count": null,
   "metadata": {
    "ExecuteTime": {
     "end_time": "2020-10-21T18:24:25.231748Z",
     "start_time": "2020-10-21T18:24:25.223657Z"
    }
   },
   "outputs": [],
   "source": [
    "import pandas as pd\n",
    "import matplotlib.pyplot as plt \n",
    "%matplotlib inline \n",
    "from sklearn.tree import DecisionTreeClassifier \n",
    "from sklearn.model_selection import train_test_split \n",
    "from sklearn.metrics import accuracy_score, confusion_matrix, classification_report\n",
    "\n",
    "df = pd.read_csv('diabetes.csv')"
   ]
  },
  {
   "cell_type": "code",
   "execution_count": null,
   "metadata": {
    "ExecuteTime": {
     "end_time": "2020-10-21T18:24:25.996807Z",
     "start_time": "2020-10-21T18:24:25.987221Z"
    }
   },
   "outputs": [],
   "source": [
    "df.head()"
   ]
  },
  {
   "cell_type": "code",
   "execution_count": null,
   "metadata": {
    "ExecuteTime": {
     "end_time": "2020-10-21T18:24:26.512624Z",
     "start_time": "2020-10-21T18:24:26.509370Z"
    }
   },
   "outputs": [],
   "source": [
    "#I'm adding a categorical feature \n",
    "df['chest_pain'] = np.random.randint(0,2,size=len(df))\n"
   ]
  },
  {
   "cell_type": "code",
   "execution_count": null,
   "metadata": {
    "ExecuteTime": {
     "end_time": "2020-10-21T18:24:27.080913Z",
     "start_time": "2020-10-21T18:24:27.073592Z"
    }
   },
   "outputs": [],
   "source": [
    "df.info()"
   ]
  },
  {
   "cell_type": "code",
   "execution_count": null,
   "metadata": {
    "ExecuteTime": {
     "end_time": "2020-10-21T18:24:28.084772Z",
     "start_time": "2020-10-21T18:24:28.076470Z"
    }
   },
   "outputs": [],
   "source": [
    "CPandHD = df.loc[(df['chest_pain'] == 1) & (df['Outcome'] == 1)]\n",
    "CPandNHD = df.loc[(df['chest_pain'] == 1) & (df['Outcome'] == 0)]\n",
    "NCPandHD = df.loc[(df['chest_pain'] == 0) & (df['Outcome'] == 1)]\n",
    "NCPandNHD = df.loc[(df['chest_pain'] == 0) & (df['Outcome'] == 0)]"
   ]
  },
  {
   "cell_type": "code",
   "execution_count": null,
   "metadata": {
    "ExecuteTime": {
     "end_time": "2020-10-21T18:24:28.616041Z",
     "start_time": "2020-10-21T18:24:28.612483Z"
    }
   },
   "outputs": [],
   "source": [
    "print(len(CPandHD))\n",
    "print(len(CPandNHD))\n",
    "print(len(NCPandHD))\n",
    "print(len(NCPandNHD))"
   ]
  },
  {
   "cell_type": "code",
   "execution_count": null,
   "metadata": {
    "ExecuteTime": {
     "end_time": "2020-10-21T18:24:29.183426Z",
     "start_time": "2020-10-21T18:24:29.179794Z"
    }
   },
   "outputs": [],
   "source": [
    "#lets calculate gini impurity for each leaf node \n",
    "NCP_leaf = 1 - (253/(253+143))**2 - (143/(143+253))**2\n",
    "CP_leaf = 1 - (125/(125+247))**2 - (247/(247+125))**2\n",
    "print(f\"{NCP_leaf} is the gini impurity for the no chest pain leaf\")\n",
    "print(f\"{CP_leaf} is the gini impurity for the no chest pain leaf\")"
   ]
  },
  {
   "cell_type": "markdown",
   "metadata": {},
   "source": [
    "Now, we need to calculate the total gini impurity for this root node to determine if it should be used as the root. "
   ]
  },
  {
   "cell_type": "code",
   "execution_count": null,
   "metadata": {
    "ExecuteTime": {
     "end_time": "2020-10-21T18:24:30.469191Z",
     "start_time": "2020-10-21T18:24:30.462746Z"
    }
   },
   "outputs": [],
   "source": [
    "#calculating total gini impurity for chest pain \n",
    "total_giniCP = ((len(NCPandHD&NCPandNHD)/768)*.4614) + ((len(CPandHD&CPandNHD)/768)*.4462)\n",
    "total_giniCP\n"
   ]
  },
  {
   "cell_type": "markdown",
   "metadata": {},
   "source": [
    "This process is done for each of our features and the feature with the lowest gini impurity score will become the root node. "
   ]
  },
  {
   "cell_type": "code",
   "execution_count": null,
   "metadata": {
    "ExecuteTime": {
     "end_time": "2020-10-21T18:24:32.119504Z",
     "start_time": "2020-10-21T18:24:32.115649Z"
    }
   },
   "outputs": [],
   "source": [
    "#create numpy arrays for predictors and target variables \n",
    "X = df.drop('Outcome',axis=1).values\n",
    "y = df['Outcome'].values"
   ]
  },
  {
   "cell_type": "code",
   "execution_count": null,
   "metadata": {
    "ExecuteTime": {
     "end_time": "2020-10-21T18:24:32.684197Z",
     "start_time": "2020-10-21T18:24:32.680970Z"
    }
   },
   "outputs": [],
   "source": [
    "# Split dataset into training set and test set\n",
    "X_train, X_test, y_train, y_test = train_test_split(X, y, test_size=0.3, random_state=1)"
   ]
  },
  {
   "cell_type": "code",
   "execution_count": null,
   "metadata": {
    "ExecuteTime": {
     "end_time": "2020-10-21T18:24:33.217950Z",
     "start_time": "2020-10-21T18:24:33.211743Z"
    }
   },
   "outputs": [],
   "source": [
    "# Create Decision Tree classifer object\n",
    "clf = DecisionTreeClassifier()\n",
    "\n",
    "# Train Decision Tree Classifer\n",
    "clf = clf.fit(X_train,y_train)\n",
    "\n",
    "#Predict the response for test dataset\n",
    "y_pred = clf.predict(X_test)"
   ]
  },
  {
   "cell_type": "code",
   "execution_count": null,
   "metadata": {
    "ExecuteTime": {
     "end_time": "2020-10-21T18:24:34.360228Z",
     "start_time": "2020-10-21T18:24:34.350378Z"
    }
   },
   "outputs": [],
   "source": [
    "print('-'*40)\n",
    "print('Accuracy Score:')\n",
    "print(accuracy_score(y_test, y_pred))\n",
    "\n",
    "print('-'*40)\n",
    "print('Confusion Matrix:')\n",
    "print(confusion_matrix(y_test, y_pred))\n",
    "\n",
    "print('-'*40)\n",
    "print('Classification Matrix:')\n",
    "print(classification_report(y_test, y_pred))"
   ]
  },
  {
   "cell_type": "code",
   "execution_count": null,
   "metadata": {
    "ExecuteTime": {
     "end_time": "2020-10-21T18:24:48.322440Z",
     "start_time": "2020-10-21T18:24:48.317508Z"
    }
   },
   "outputs": [],
   "source": [
    "tn, fp, fn, tp = confusion_matrix(y_test, y_pred).ravel()\n",
    "tn, fp, fn, tp"
   ]
  },
  {
   "cell_type": "code",
   "execution_count": null,
   "metadata": {
    "ExecuteTime": {
     "end_time": "2020-05-18T20:17:00.326884Z",
     "start_time": "2020-05-18T20:17:00.323518Z"
    }
   },
   "outputs": [],
   "source": [
    "#brew install graphviz\n",
    "#pip install -U pydotplus\n",
    "\n",
    "#For installing graphviz on windows use the url below \n",
    "#https://bobswift.atlassian.net/wiki/spaces/GVIZ/pages/20971549/How+to+install+Graphviz+software"
   ]
  },
  {
   "cell_type": "markdown",
   "metadata": {},
   "source": [
    "### Visualizing the Tree \n",
    "\n",
    "**You will likely need to run the cell above before you can use the following code. Export_graphviz converts our classifier into a dot file and pydotplus converts the dot file in a png which can then be displayed into the notebook.** "
   ]
  },
  {
   "cell_type": "code",
   "execution_count": null,
   "metadata": {
    "ExecuteTime": {
     "end_time": "2020-05-20T18:40:02.637263Z",
     "start_time": "2020-05-20T18:39:58.635810Z"
    }
   },
   "outputs": [],
   "source": [
    "from sklearn.tree import export_graphviz\n",
    "from sklearn.externals.six import StringIO  \n",
    "from IPython.display import Image  \n",
    "import pydotplus\n",
    "\n",
    "col_names = ['Pregnancies', 'Glucose', 'BloodPressure', 'SkinThickness',\n",
    "             'Insulin', 'BMI', 'DiabetesPedigreeFunction', 'Age']\n",
    "dot_data = StringIO()\n",
    "export_graphviz(clf, out_file=dot_data,  \n",
    "                filled=True, rounded=True,\n",
    "                special_characters=True,feature_names = col_names,class_names=['0','1'])\n",
    "graph = pydotplus.graph_from_dot_data(dot_data.getvalue())  \n",
    "graph.write_png('diabetes.png')\n",
    "Image(graph.create_png())"
   ]
  },
  {
   "cell_type": "markdown",
   "metadata": {},
   "source": [
    "**This unpruned tree is not very interpretable. Let's prune these trees and see if we get a better output.** "
   ]
  },
  {
   "cell_type": "markdown",
   "metadata": {},
   "source": [
    "## Hyperparameter Tuning \n",
    "\n",
    "![](https://miro.medium.com/max/1136/1*3MDxpY_pIMs0yb4dc55KpQ.jpeg)\n",
    "\n",
    "[Great Medium Article that thoroughly goes over each hyperparameter](https://towardsdatascience.com/how-to-tune-a-decision-tree-f03721801680)"
   ]
  },
  {
   "cell_type": "code",
   "execution_count": null,
   "metadata": {
    "ExecuteTime": {
     "end_time": "2020-05-20T18:47:48.488573Z",
     "start_time": "2020-05-20T18:47:48.482827Z"
    }
   },
   "outputs": [],
   "source": [
    "# Create Decision Tree classifer object\n",
    "clf = DecisionTreeClassifier(max_depth=3)\n",
    "\n",
    "# Train Decision Tree Classifer\n",
    "clf = clf.fit(X_train,y_train)\n",
    "\n",
    "#Predict the response for test dataset\n",
    "y_pred = clf.predict(X_test)\n"
   ]
  },
  {
   "cell_type": "code",
   "execution_count": null,
   "metadata": {
    "ExecuteTime": {
     "end_time": "2020-05-20T18:47:49.455788Z",
     "start_time": "2020-05-20T18:47:49.443446Z"
    }
   },
   "outputs": [],
   "source": [
    "print('-'*40)\n",
    "print('Accuracy Score:')\n",
    "print(accuracy_score(y_test, y_pred))\n",
    "\n",
    "print('-'*40)\n",
    "print('Confusion Matrix:')\n",
    "print(confusion_matrix(y_test, y_pred))\n",
    "\n",
    "print('-'*40)\n",
    "print('Classification Matrix:')\n",
    "print(classification_report(y_test, y_pred))"
   ]
  },
  {
   "cell_type": "code",
   "execution_count": null,
   "metadata": {
    "ExecuteTime": {
     "end_time": "2020-05-20T18:48:07.319486Z",
     "start_time": "2020-05-20T18:48:06.206747Z"
    }
   },
   "outputs": [],
   "source": [
    "dot_data = StringIO()\n",
    "export_graphviz(clf, out_file=dot_data,  \n",
    "                filled=True, rounded=True,\n",
    "                special_characters=True,feature_names = col_names,class_names=['0','1'])\n",
    "graph = pydotplus.graph_from_dot_data(dot_data.getvalue())  \n",
    "graph.write_png('diabetes.png')\n",
    "Image(graph.create_png())"
   ]
  },
  {
   "cell_type": "markdown",
   "metadata": {},
   "source": [
    "## Feature Selection "
   ]
  },
  {
   "cell_type": "code",
   "execution_count": null,
   "metadata": {
    "ExecuteTime": {
     "end_time": "2020-05-20T18:55:37.321618Z",
     "start_time": "2020-05-20T18:55:37.317153Z"
    }
   },
   "outputs": [],
   "source": [
    "top_feats = clf.feature_importances_\n",
    "top_feats\n"
   ]
  },
  {
   "cell_type": "code",
   "execution_count": null,
   "metadata": {
    "ExecuteTime": {
     "end_time": "2020-05-20T18:55:58.090927Z",
     "start_time": "2020-05-20T18:55:57.956297Z"
    }
   },
   "outputs": [],
   "source": [
    "import numpy as np\n",
    "# creating list of column names\n",
    "feat_names=list(col_names)\n",
    "\n",
    "# Sort feature importances in descending order\n",
    "indices = np.argsort(top_feats)[::-1]\n",
    "\n",
    "# Rearrange feature names so they match the sorted feature importances\n",
    "names = [feat_names[i] for i in indices]\n",
    "\n",
    "# Create plot\n",
    "plt.figure()\n",
    "\n",
    "# Create plot title\n",
    "plt.title(\"Feature Importance\")\n",
    "\n",
    "# Add bars\n",
    "plt.bar(range(X_train.shape[1]), top_feats[indices])\n",
    "\n",
    "# Add feature names as x-axis labels\n",
    "plt.xticks(range(X_train.shape[1]), names, rotation=90)\n",
    "\n",
    "# Show plot\n",
    "plt.show()"
   ]
  },
  {
   "cell_type": "markdown",
   "metadata": {},
   "source": [
    "## Pros & Cons \n",
    "[Scikit-Learn](https://scikit-learn.org/stable/modules/tree.html#tree)\n",
    "\n",
    "**Pros**\n",
    "- East to interpret \n",
    "- Easily capture non-linear patterns \n",
    "- No need to normalize columns \n",
    "- feature engineering/importance \n",
    "- Non-parametric/no assumptions \n",
    "\n",
    "**Cons**\n",
    "- Sensitive to noisy data(tends to overfit), can be reduced with tuning \n",
    "- Sensitive to variance, can be reduced by bagging/boosting \n",
    "- Biased when you have imbalanced data(can be fixed with smote) "
   ]
  },
  {
   "cell_type": "code",
   "execution_count": null,
   "metadata": {},
   "outputs": [],
   "source": []
  }
 ],
 "metadata": {
  "kernelspec": {
   "display_name": "learn-env",
   "language": "python",
   "name": "learn-env"
  },
  "language_info": {
   "codemirror_mode": {
    "name": "ipython",
    "version": 3
   },
   "file_extension": ".py",
   "mimetype": "text/x-python",
   "name": "python",
   "nbconvert_exporter": "python",
   "pygments_lexer": "ipython3",
   "version": "3.6.6"
  },
  "toc": {
   "base_numbering": 1,
   "nav_menu": {},
   "number_sections": true,
   "sideBar": true,
   "skip_h1_title": true,
   "title_cell": "Table of Contents",
   "title_sidebar": "Contents",
   "toc_cell": false,
   "toc_position": {},
   "toc_section_display": true,
   "toc_window_display": false
  }
 },
 "nbformat": 4,
 "nbformat_minor": 2
}
