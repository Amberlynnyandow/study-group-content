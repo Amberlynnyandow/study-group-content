{
 "cells": [
  {
   "cell_type": "markdown",
   "metadata": {},
   "source": [
    "# Ensembles: From Decision Trees to Extra Trees\n",
    "\n",
    "## Learning Objectives\n",
    "* Get an overview of Ensembling techniques \n",
    "* Understand what bagging is in Random Forests and apply it in SKlearn to our diabetes data \n",
    "* Understand what Boosting is an apply it to the 3 most common boosting algorithms - Adaboost, Gradient Boost and XGboost "
   ]
  },
  {
   "cell_type": "code",
   "execution_count": 2,
   "metadata": {
    "ExecuteTime": {
     "end_time": "2020-05-21T18:19:29.704559Z",
     "start_time": "2020-05-21T18:19:28.140922Z"
    }
   },
   "outputs": [],
   "source": [
    "#import the diabetes data \n",
    "import pandas as pd\n",
    "import numpy as np\n",
    "import matplotlib.pyplot as plt \n",
    "%matplotlib inline \n",
    "from sklearn.model_selection import train_test_split \n",
    "from sklearn.metrics import accuracy_score, confusion_matrix, classification_report, f1_score\n",
    "\n",
    "df = pd.read_csv('/Users/amberyandow/Downloads/diabetes.csv')"
   ]
  },
  {
   "cell_type": "code",
   "execution_count": 3,
   "metadata": {
    "ExecuteTime": {
     "end_time": "2020-05-21T18:19:41.886649Z",
     "start_time": "2020-05-21T18:19:41.879202Z"
    }
   },
   "outputs": [],
   "source": [
    "#create numpy arrays for predictors and target variables \n",
    "X = df.drop('Outcome',axis=1).values\n",
    "y = df['Outcome'].values"
   ]
  },
  {
   "cell_type": "code",
   "execution_count": 4,
   "metadata": {
    "ExecuteTime": {
     "end_time": "2020-05-21T18:19:52.377610Z",
     "start_time": "2020-05-21T18:19:52.374191Z"
    }
   },
   "outputs": [],
   "source": [
    "# Split dataset into training set and test set\n",
    "X_train, X_test, y_train, y_test = train_test_split(X, y, test_size=0.3, random_state=1)"
   ]
  },
  {
   "cell_type": "markdown",
   "metadata": {},
   "source": [
    "## Ensemble Methods: Overview\n",
    "Ensemble Methods take advantage of the \"wisdom of crowds\" where the average of multiple independent estimates is usually more consistently accurate than the individual estimates.\n",
    "\n",
    "### Simple Ensemble Techniques - How do we use the wisdom of the crowd? \n",
    "\n",
    "1. **Max Voting** - The max voting method is generally used for classification problems. In this technique, multiple models are used to make predictions for each data point. The predictions by each model are considered as a ‘vote’. The predictions which we get from the majority of the models are used as the final prediction.\n",
    "\n",
    "For example, when you asked 5 of your colleagues to rate your movie (out of 5); we’ll assume three of them rated it as 4 while two of them gave it a 5. Since the majority gave a rating of 4, the final rating will be taken as 4. You can consider this as taking the mode of all the predictions.\n",
    "\n",
    "2. **Averaging** - Similar to the max voting technique, multiple predictions are made for each data point in averaging. In this method, we take an average of predictions from all the models and use it to make the final prediction. Averaging can be used for making predictions in regression problems or while calculating probabilities for classification problems.\n",
    "\n",
    "3. **Weighted Averaging** - This is an extension of the averaging method. All models are assigned different weights defining the importance of each model for prediction. For instance, if two of your colleagues are critics, while others have no prior experience in this field, then the answers by these two friends are given more importance as compared to the other people.\n",
    "\n",
    "\n",
    "### Examples of Ensembles \n",
    "\n",
    "* Bootstrap Aggregation(Bagging):\n",
    "    * Random Forests\n",
    "* Gradient Boosting algorithms:\n",
    "    * Adaboost\n",
    "    * Gradient Boosted Trees(GBM)\n",
    "    * XGBoost \n",
    "\n"
   ]
  },
  {
   "cell_type": "markdown",
   "metadata": {},
   "source": [
    "## Bagging \n",
    "\n",
    "The idea behind **bagging** is combining the results of multiple models (for instance, all decision trees) to get a generalized result. Here’s a question: If you create all the models on the same set of data and combine it, will it be useful? There is a high chance that these models will give the same result since they are getting the same input. So how can we solve this problem? One of the techniques is bootstrapping.\n",
    "\n",
    "**Bootstrapping** is a sampling technique in which we create subsets of observations from the original dataset, with replacement. The size of the subsets is the same as the size of the original set.\n",
    "\n",
    "**Bagging (or Bootstrap Aggregating)** technique uses these subsets (bags) to get a fair idea of the distribution (complete set). The size of subsets created for bagging may be less than the original set.\n",
    "![](https://cdn.analyticsvidhya.com/wp-content/uploads/2018/05/image20-768x289.png)\n",
    "\n",
    "\n",
    "Multiple subsets are created from the original dataset, selecting observations with replacement.\n",
    "A base model (weak model) is created on each of these subsets.\n",
    "The models run in parallel and are independent of each other.\n",
    "The final predictions are determined by combining the predictions from all the models.\n",
    "![](https://cdn.analyticsvidhya.com/wp-content/uploads/2018/05/Screenshot-from-2018-05-08-13-11-49-768x580.png)"
   ]
  },
  {
   "cell_type": "markdown",
   "metadata": {},
   "source": [
    "## Random Forest\n",
    "Random Forest is another ensemble machine learning algorithm that follows the bagging technique. It is an extension of the bagging estimator algorithm. The base estimators in random forest are decision trees. Unlike bagging meta estimator, random forest randomly selects a set of features which are used to decide the best split at each node of the decision tree.\n",
    "\n",
    "Looking at it step-by-step, this is what a random forest model does:\n",
    "\n",
    "1. Random subsets are created from the original dataset (bootstrapping).\n",
    "2. At each node in the decision tree, only a random set of features are considered to decide the best split.\n",
    "3. A decision tree model is fitted on each of the subsets.\n",
    "4. The final prediction is calculated by averaging the predictions from all decision trees.\n",
    "\n",
    "**Note:** *The decision trees in random forest can be built on a subset of data and features. Particularly, the sklearn model of random forest uses all features for decision tree and a subset of features are randomly selected for splitting at each node.*\n",
    "\n",
    "To sum up, Random forest randomly selects data points and features, and builds multiple trees (Forest) .\n",
    "\n",
    "### Hyperparameters to tune \n",
    "\n",
    "* **n_estimators:**\n",
    "It defines the number of decision trees to be created in a random forest.\n",
    "Generally, a higher number makes the predictions stronger and more stable, but a very large number can result in higher training time.\n",
    "\n",
    "* **criterion:**\n",
    "It defines the function that is to be used for splitting.\n",
    "The function measures the quality of a split for each feature and chooses the best split.\n",
    "\n",
    "* **max_features :**\n",
    "It defines the maximum number of features allowed for the split in each decision tree.\n",
    "Increasing max features usually improve performance but a very high number can decrease the diversity of each tree.\n",
    "\n",
    "* **max_depth:**\n",
    "Random forest has multiple decision trees. This parameter defines the maximum depth of the trees.\n",
    "\n",
    "* **min_samples_split:**\n",
    "Used to define the minimum number of samples required in a leaf node before a split is attempted.\n",
    "If the number of samples is less than the required number, the node is not split.\n",
    "\n",
    "* **min_samples_leaf:** \n",
    "This defines the minimum number of samples required to be at a leaf node.\n",
    "Smaller leaf size makes the model more prone to capturing noise in train data.\n",
    "\n",
    "* **max_leaf_nodes:** \n",
    "This parameter specifies the maximum number of leaf nodes for each tree.\n",
    "The tree stops splitting when the number of leaf nodes becomes equal to the max leaf node."
   ]
  },
  {
   "cell_type": "code",
   "execution_count": 5,
   "metadata": {
    "ExecuteTime": {
     "end_time": "2020-05-21T18:33:07.063027Z",
     "start_time": "2020-05-21T18:33:06.900837Z"
    }
   },
   "outputs": [
    {
     "name": "stdout",
     "output_type": "stream",
     "text": [
      "Accuracy on training set: 0.862\n",
      "Accuracy on test set: 0.792\n"
     ]
    }
   ],
   "source": [
    "#applying Random forest to diabetes data \n",
    "from sklearn.ensemble import RandomForestClassifier\n",
    "rf = RandomForestClassifier(max_depth=5, n_estimators=100, random_state=0)\n",
    "rf.fit(X_train, y_train)\n",
    "print(\"Accuracy on training set: {:.3f}\".format(rf.score(X_train, y_train)))\n",
    "print(\"Accuracy on test set: {:.3f}\".format(rf.score(X_test, y_test)))"
   ]
  },
  {
   "cell_type": "code",
   "execution_count": 6,
   "metadata": {
    "ExecuteTime": {
     "end_time": "2020-05-21T18:34:49.674207Z",
     "start_time": "2020-05-21T18:34:49.559217Z"
    }
   },
   "outputs": [
    {
     "name": "stdout",
     "output_type": "stream",
     "text": [
      "Accuracy on training set: 1.000\n",
      "Accuracy on test set: 0.784\n"
     ]
    }
   ],
   "source": [
    "#applying Random forest to diabetes data \n",
    "from sklearn.ensemble import RandomForestClassifier\n",
    "rf1 = RandomForestClassifier(n_estimators=100, random_state=0)\n",
    "rf1.fit(X_train, y_train)\n",
    "print(\"Accuracy on training set: {:.3f}\".format(rf1.score(X_train, y_train)))\n",
    "print(\"Accuracy on test set: {:.3f}\".format(rf1.score(X_test, y_test)))"
   ]
  },
  {
   "cell_type": "code",
   "execution_count": 8,
   "metadata": {
    "ExecuteTime": {
     "end_time": "2020-05-21T18:36:24.665123Z",
     "start_time": "2020-05-21T18:36:24.652173Z"
    }
   },
   "outputs": [
    {
     "data": {
      "text/plain": [
       "array([0.07036002, 0.30393263, 0.0642749 , 0.05550042, 0.06474974,\n",
       "       0.19354403, 0.11355328, 0.13408497])"
      ]
     },
     "execution_count": 8,
     "metadata": {},
     "output_type": "execute_result"
    }
   ],
   "source": [
    "col_names = ['Pregnancies', 'Glucose', 'BloodPressure', 'SkinThickness',\n",
    "             'Insulin', 'BMI', 'DiabetesPedigreeFunction', 'Age']\n",
    "top_feats = rf.feature_importances_\n",
    "top_feats"
   ]
  },
  {
   "cell_type": "code",
   "execution_count": null,
   "metadata": {
    "ExecuteTime": {
     "end_time": "2020-05-21T18:00:18.290056Z",
     "start_time": "2020-05-21T18:00:18.270242Z"
    }
   },
   "outputs": [],
   "source": [
    "rf_pred = rf.predict(X_test) #predictions \n",
    "score = f1_score(rf_pred, y_test) # F1 score \n",
    "rf_acc = accuracy_score(rf_pred, y_test) #Accuracy \n",
    "\n",
    "rf_eval = ['rf', score, rf_acc]\n",
    "models = pd.DataFrame([rf_eval])\n",
    "models"
   ]
  },
  {
   "cell_type": "code",
   "execution_count": 9,
   "metadata": {
    "ExecuteTime": {
     "end_time": "2020-05-21T18:36:27.829370Z",
     "start_time": "2020-05-21T18:36:27.686025Z"
    }
   },
   "outputs": [
    {
     "data": {
      "image/png": "[encoded data removed]",
      "text/plain": [
       "<Figure size 432x288 with 1 Axes>"
      ]
     },
     "metadata": {
      "needs_background": "light"
     },
     "output_type": "display_data"
    }
   ],
   "source": [
    "# creating list of column names\n",
    "feat_names=list(col_names)\n",
    "\n",
    "# Sort feature importances in descending order\n",
    "indices = np.argsort(top_feats)[::-1]\n",
    "\n",
    "# Rearrange feature names so they match the sorted feature importances\n",
    "names = [feat_names[i] for i in indices]\n",
    "\n",
    "# Create plot\n",
    "plt.figure()\n",
    "\n",
    "# Create plot title\n",
    "plt.title(\"Feature Importance\")\n",
    "\n",
    "# Add bars\n",
    "plt.bar(range(X_train.shape[1]), top_feats[indices])\n",
    "\n",
    "# Add feature names as x-axis labels\n",
    "plt.xticks(range(X_train.shape[1]), names, rotation=90)\n",
    "\n",
    "# Show plot\n",
    "plt.show()"
   ]
  },
  {
   "cell_type": "markdown",
   "metadata": {},
   "source": [
    "### Pros and Cons of Random forests \n",
    "**Pros:**\n",
    "* Strong performance because this is an ensemble algorithm, the model is naturally resistant to noise and variance in the data, and generally tends to perform quite well.\n",
    "\n",
    "* Interpretability: each tree in the random forest is a Glass-Box Model (meaning that the model is interpretable, allowing us to see how it arrived at a certain decision), the overall random forest is, as well!\n",
    "\n",
    "**Cons:**\n",
    "* Computational complexity: On large datasets, the runtime can be quite slow compared to other algorithms.\n",
    "\n",
    "* Memory usage: Random forests tend to have a larger memory footprint that other models. It's not uncommon to see random forests that were trained on large datasets have memory footprints in the tens, or even hundreds of MB."
   ]
  },
  {
   "cell_type": "markdown",
   "metadata": {},
   "source": [
    "## Boosting \n",
    "Boosting is a sequential process, where each subsequent model attempts to correct the errors of the previous model. The succeeding models are dependent on the previous model. Let’s understand the way boosting works in the below steps.\n",
    "\n",
    "1. A subset is created from the original dataset.\n",
    "2. Initially, all data points are given equal weights.\n",
    "3. A base model is created on this subset.\n",
    "4. This model is used to make predictions on the whole dataset.\n",
    "![](https://cdn.analyticsvidhya.com/wp-content/uploads/2015/11/dd1-e1526989432375.png)\n",
    "\n",
    "5. Errors are calculated using the actual values and predicted values.\n",
    "6. The observations which are incorrectly predicted, are given higher weights.(Here, the three misclassified blue-plus points will be given higher weights)\n",
    "7. Another model is created and predictions are made on the dataset.(This model tries to correct the errors from the previous model)\n",
    "![](https://cdn.analyticsvidhya.com/wp-content/uploads/2015/11/dd2-e1526989487878.png)\n",
    "\n",
    "8. Similarly, multiple models are created, each correcting the errors of the previous model.\n",
    "9. The final model (strong learner) is the weighted mean of all the models (weak learners).\n",
    "![](https://www.analyticsvidhya.com/wp-content/uploads/2015/11/boosting10-300x205.png)\n",
    "\n",
    "Thus, the boosting algorithm combines a number of weak learners to form a strong learner. The individual models would not perform well on the entire dataset, but they work well for some part of the dataset. Thus, each model actually boosts the performance of the ensemble.\n",
    "![](https://cdn.analyticsvidhya.com/wp-content/uploads/2015/11/dd4-e1526551014644.png)"
   ]
  },
  {
   "cell_type": "markdown",
   "metadata": {},
   "source": [
    "### AdaBoost \n",
    "[Thorough post on AdaBoost](https://www.datacamp.com/community/tutorials/adaboost-classifier-python)\n",
    "Adaptive boosting or AdaBoost is one of the simplest boosting algorithms. Usually, decision trees are used for modelling. Multiple sequential models are created, each correcting the errors from the last model. AdaBoost assigns weights to the observations which are incorrectly predicted and the subsequent model works to predict these values correctly.\n",
    "\n",
    "**Below are the steps for performing the AdaBoost algorithm:**\n",
    "\n",
    "1. Initially, all observations in the dataset are given equal weights.\n",
    "2. A model is built on a subset of data.\n",
    "3. Using this model, predictions are made on the whole dataset.\n",
    "4. Errors are calculated by comparing the predictions and actual values.\n",
    "5. While creating the next model, higher weights are given to the data points which were predicted incorrectly.\n",
    "6. Weights can be determined using the error value. For instance, higher the error more is the weight assigned to the observation.\n",
    "7. This process is repeated until the error function does not change, or the maximum limit of the number of estimators is reached.\n",
    "\n",
    "#### Hyperparameters \n",
    "**base_estimators:** \n",
    "    * It helps to specify the type of base estimator, that is, the machine learning algorithm to be used as base learner.\n",
    "    \n",
    "**n_estimators:**\n",
    "    * It defines the number of base estimators.\n",
    "    * The default value is 10, but you should keep a higher value to get better performance.\n",
    "    \n",
    "**learning_rate:** \n",
    "    * This parameter controls the contribution of the estimators in the final combination.\n",
    "    * There is a trade-off between learning_rate and n_estimators.\n",
    "    \n",
    "**max_depth:**\n",
    "    * Defines the maximum depth of the individual estimator.\n",
    "    * Tune this parameter for best performance."
   ]
  },
  {
   "cell_type": "code",
   "execution_count": 10,
   "metadata": {
    "ExecuteTime": {
     "end_time": "2020-05-21T18:46:22.319598Z",
     "start_time": "2020-05-21T18:46:22.258037Z"
    }
   },
   "outputs": [
    {
     "data": {
      "text/plain": [
       "0.7835497835497836"
      ]
     },
     "execution_count": 10,
     "metadata": {},
     "output_type": "execute_result"
    }
   ],
   "source": [
    "#applying Adaboost \n",
    "from sklearn.ensemble import AdaBoostClassifier\n",
    "model = AdaBoostClassifier(random_state=1)\n",
    "model.fit(X_train, y_train)\n",
    "model.score(X_test,y_test)"
   ]
  },
  {
   "cell_type": "markdown",
   "metadata": {},
   "source": [
    "### Gradient Boosting(GBM) \n",
    "Gradient Boosting or GBM is another ensemble machine learning algorithm that works for both regression and classification problems. GBM uses the boosting technique, combining a number of weak learners to form a strong learner. Regression trees used as a base learner, each subsequent tree in series is built on the errors calculated by the previous tree.\n",
    "\n",
    "We will use a simple example to understand the GBM algorithm. We have to predict the age of a group of people using the below data:\n",
    "![](https://cdn.analyticsvidhya.com/wp-content/uploads/2018/05/image-17-768x334.png)\n",
    "\n",
    "1. The mean age is assumed to be the predicted value for all observations in the dataset.\n",
    "2. The errors are calculated using this mean prediction and actual values of age.\n",
    "![](https://cdn.analyticsvidhya.com/wp-content/uploads/2018/05/image-18-768x318.png)\n",
    "\n",
    "3. A tree model is created using the errors calculated above as target variable. Our objective is to find the best split to minimize the error.\n",
    "4. The predictions by this model are combined with the predictions 1.\n",
    "![](https://cdn.analyticsvidhya.com/wp-content/uploads/2018/06/gbm2-768x345.png)\n",
    "\n",
    "5. This value calculated above is the new prediction.\n",
    "6. New errors are calculated using this predicted value and actual value.\n",
    "![](https://cdn.analyticsvidhya.com/wp-content/uploads/2018/06/gbm3.png)\n",
    "\n",
    "7. Steps 2 to 6 are repeated till the maximum number of iterations is reached (or error function does not change)."
   ]
  },
  {
   "cell_type": "code",
   "execution_count": 11,
   "metadata": {
    "ExecuteTime": {
     "end_time": "2020-05-21T18:50:23.710134Z",
     "start_time": "2020-05-21T18:50:23.637930Z"
    }
   },
   "outputs": [
    {
     "data": {
      "text/plain": [
       "0.7619047619047619"
      ]
     },
     "execution_count": 11,
     "metadata": {},
     "output_type": "execute_result"
    }
   ],
   "source": [
    "#apply GBM to diabetes data \n",
    "from sklearn.ensemble import GradientBoostingClassifier\n",
    "model= GradientBoostingClassifier(learning_rate=0.01,random_state=1)\n",
    "model.fit(X_train, y_train)\n",
    "model.score(X_test,y_test)"
   ]
  },
  {
   "cell_type": "markdown",
   "metadata": {},
   "source": [
    "### XGBoost\n",
    "XGBoost (extreme Gradient Boosting) is an advanced implementation of the gradient boosting algorithm. XGBoost has proved to be a highly effective ML algorithm, extensively used in machine learning competitions and hackathons. XGBoost has high predictive power and is almost 10 times faster than the other gradient boosting techniques. It also includes a variety of regularization which reduces overfitting and improves overall performance. Hence it is also known as ‘regularized boosting‘ technique.\n",
    "\n",
    "**Pros of XGBoost:** \n",
    "\n",
    "1. Regularization:\n",
    "    * Standard GBM implementation has no regularisation like XGBoost.\n",
    "    * Thus XGBoost also helps to reduce overfitting.\n",
    "    \n",
    "2. Parallel Processing:\n",
    "    * XGBoost implements parallel processing and is faster than GBM .\n",
    "    * XGBoost also supports implementation on Hadoop.\n",
    "    \n",
    "3. High Flexibility:\n",
    "    * XGBoost allows users to define custom optimization objectives and evaluation criteria adding a whole new dimension to the model.\n",
    "    \n",
    "4. Handling Missing Values:\n",
    "    * XGBoost has an in-built routine to handle missing values.\n",
    "    \n",
    "5. Tree Pruning:\n",
    "    * XGBoost makes splits up to the max_depth specified and then starts pruning the tree backwards and removes splits beyond which there is no positive gain.\n",
    "    \n",
    "6. Built-in Cross-Validation:\n",
    "    * XGBoost allows a user to run a cross-validation at each iteration of the boosting process and thus it is easy to get the exact optimum number of boosting iterations in a single run.\n",
    "    \n",
    "#### Hyperparameters to tune: \n",
    "\n",
    "* **nthread:**\n",
    "    * This is used for parallel processing and the number of cores in the system should be entered..If you wish to run on all cores, do not input this value. The algorithm will detect it automatically.\n",
    "\n",
    "* **eta:**\n",
    "    * Analogous to learning rate in GBM.\n",
    "    * Makes the model more robust by shrinking the weights on each step.\n",
    "\n",
    "* **min_child_weight:** \n",
    "    * Defines the minimum sum of weights of all observations required in a child.\n",
    "    * Used to control over-fitting. Higher values prevent a model from learning relations which might be highly specific to the particular sample selected for a tree.\n",
    "    \n",
    "* **max_depth:** \n",
    "    * It is used to define the maximum depth.\n",
    "    * Higher depth will allow the model to learn relations very specific to a particular sample.\n",
    "    \n",
    "* **max_leaf_nodes:** \n",
    "    * The maximum number of terminal nodes or leaves in a tree.\n",
    "    * Can be defined in place of max_depth. Since binary trees are created, a depth of ‘n’ would produce a maximum of 2^n leaves.\n",
    "    * If this is defined, GBM will ignore max_depth.\n",
    "    \n",
    "* **gamma:** \n",
    "    * A node is split only when the resulting split gives a positive reduction in the loss function. Gamma specifies the minimum loss reduction required to make a split.\n",
    "    * Makes the algorithm conservative. The values can vary depending on the loss function and should be tuned.\n",
    "\n",
    "* **subsample:**\n",
    "    * Same as the subsample of GBM. Denotes the fraction of observations to be randomly sampled for each tree.\n",
    "    * Lower values make the algorithm more conservative and prevent overfitting but values that are too small might lead to under-fitting.\n",
    "\n",
    "* **colsample_bytree:** \n",
    "    * It is similar to max_features in GBM.\n",
    "    * Denotes the fraction of columns to be randomly sampled for each tree."
   ]
  },
  {
   "cell_type": "code",
   "execution_count": 12,
   "metadata": {
    "ExecuteTime": {
     "end_time": "2020-05-21T18:57:08.075775Z",
     "start_time": "2020-05-21T18:57:07.998813Z"
    }
   },
   "outputs": [
    {
     "data": {
      "text/plain": [
       "0.7748917748917749"
      ]
     },
     "execution_count": 12,
     "metadata": {},
     "output_type": "execute_result"
    }
   ],
   "source": [
    "#applying boosting techniques to diabetes data \n",
    "import xgboost as xgb\n",
    "model=xgb.XGBClassifier(random_state=1,learning_rate=0.01)\n",
    "model.fit(X_train, y_train)\n",
    "model.score(X_test,y_test)"
   ]
  },
  {
   "cell_type": "code",
   "execution_count": null,
   "metadata": {
    "ExecuteTime": {
     "end_time": "2020-05-21T17:18:23.248505Z",
     "start_time": "2020-05-21T17:18:04.512539Z"
    }
   },
   "outputs": [],
   "source": [
    "#conda install py-xgboost"
   ]
  },
  {
   "cell_type": "code",
   "execution_count": null,
   "metadata": {},
   "outputs": [],
   "source": []
  }
 ],
 "metadata": {
  "kernelspec": {
   "display_name": "learn-env",
   "language": "python",
   "name": "learn-env"
  },
  "language_info": {
   "codemirror_mode": {
    "name": "ipython",
    "version": 3
   },
   "file_extension": ".py",
   "mimetype": "text/x-python",
   "name": "python",
   "nbconvert_exporter": "python",
   "pygments_lexer": "ipython3",
   "version": "3.7.3"
  },
  "toc": {
   "base_numbering": 1,
   "nav_menu": {},
   "number_sections": true,
   "sideBar": true,
   "skip_h1_title": true,
   "title_cell": "Table of Contents",
   "title_sidebar": "Contents",
   "toc_cell": false,
   "toc_position": {},
   "toc_section_display": true,
   "toc_window_display": false
  }
 },
 "nbformat": 4,
 "nbformat_minor": 2
}
