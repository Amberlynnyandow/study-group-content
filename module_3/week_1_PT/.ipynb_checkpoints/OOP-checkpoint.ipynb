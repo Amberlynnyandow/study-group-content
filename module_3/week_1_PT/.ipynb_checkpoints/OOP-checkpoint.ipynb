{
 "cells": [
  {
   "cell_type": "markdown",
   "metadata": {
    "toc": true
   },
   "source": [
    "<h1>Table of Contents<span class=\"tocSkip\"></span></h1>\n",
    "<div class=\"toc\"><ul class=\"toc-item\"><li><span><a href=\"#Intro-to-Object-Oriented-Programming-in-Python---What-is-it?\" data-toc-modified-id=\"Intro-to-Object-Oriented-Programming-in-Python---What-is-it?-1\"><span class=\"toc-item-num\">1&nbsp;&nbsp;</span>Intro to Object Oriented Programming in Python - What is it?</a></span><ul class=\"toc-item\"><li><span><a href=\"#Creating-a-Class-and-Instances(objects)\" data-toc-modified-id=\"Creating-a-Class-and-Instances(objects)-1.1\"><span class=\"toc-item-num\">1.1&nbsp;&nbsp;</span>Creating a Class and Instances(objects)</a></span></li><li><span><a href=\"#An-Object's-Attributes:-Methods,-Variables,-Self\" data-toc-modified-id=\"An-Object's-Attributes:-Methods,-Variables,-Self-1.2\"><span class=\"toc-item-num\">1.2&nbsp;&nbsp;</span>An Object's Attributes: Methods, Variables, Self</a></span><ul class=\"toc-item\"><li><span><a href=\"#Class-methods-are-functions-that-belong-to-the-Class/mold\" data-toc-modified-id=\"Class-methods-are-functions-that-belong-to-the-Class/mold-1.2.1\"><span class=\"toc-item-num\">1.2.1&nbsp;&nbsp;</span>Class methods are functions that belong to the Class/mold</a></span></li></ul></li><li><span><a href=\"#Introducing-Self\" data-toc-modified-id=\"Introducing-Self-1.3\"><span class=\"toc-item-num\">1.3&nbsp;&nbsp;</span>Introducing Self</a></span></li><li><span><a href=\"#Practice\" data-toc-modified-id=\"Practice-1.4\"><span class=\"toc-item-num\">1.4&nbsp;&nbsp;</span>Practice</a></span></li></ul></li></ul></div>"
   ]
  },
  {
   "cell_type": "markdown",
   "metadata": {},
   "source": [
    "# Intro to Object Oriented Programming in Python - What is it? \n",
    "So far in this course we've learned how to create objects from the built-in classes that are provided by python. This includes ints, strs and lists. In addition, you have learned how to organize your programs into a series of functions that process/manipulate your data. This is known as procedural programming. Now, your gonna learn a bit about object oriented programming, that allows you to create your own objects and procedures from classes you design. OOP is useful because it speeds up development and makes your code more reusable.\n",
    "\n",
    "![](https://cdn.ttgtmedia.com/rms/onlineimages/whatis-object_oriented_programming_half_column_desktop.png)\n",
    "\n",
    "Python is an object-oriented programming language. You'll hear people say that \"everything is an object\" in Python. What does this mean?\n",
    "\n",
    "Go back to the idea of a function for a moment. A function is a kind of abstraction whereby an algorithm is made repeatable. So instead of coding a number squared plus 10:"
   ]
  },
  {
   "cell_type": "code",
   "execution_count": 1,
   "metadata": {
    "ExecuteTime": {
     "end_time": "2020-12-14T18:31:02.412085Z",
     "start_time": "2020-12-14T18:31:02.405680Z"
    }
   },
   "outputs": [
    {
     "name": "stdout",
     "output_type": "stream",
     "text": [
      "19\n",
      "26\n",
      "35\n"
     ]
    }
   ],
   "source": [
    "print(3**2 + 10)\n",
    "print(4**2 + 10)\n",
    "print(5**2 + 10)"
   ]
  },
  {
   "cell_type": "markdown",
   "metadata": {},
   "source": [
    "Or even this: "
   ]
  },
  {
   "cell_type": "code",
   "execution_count": 2,
   "metadata": {
    "ExecuteTime": {
     "end_time": "2020-12-14T18:31:03.791505Z",
     "start_time": "2020-12-14T18:31:03.788165Z"
    }
   },
   "outputs": [
    {
     "name": "stdout",
     "output_type": "stream",
     "text": [
      "19\n",
      "26\n",
      "35\n"
     ]
    }
   ],
   "source": [
    "for x in range(3, 6):\n",
    "    print(x**2 + 10)"
   ]
  },
  {
   "cell_type": "markdown",
   "metadata": {},
   "source": [
    "I would just write this: "
   ]
  },
  {
   "cell_type": "code",
   "execution_count": 3,
   "metadata": {
    "ExecuteTime": {
     "end_time": "2020-12-14T18:31:05.088501Z",
     "start_time": "2020-12-14T18:31:05.086197Z"
    }
   },
   "outputs": [],
   "source": [
    "def square_add_ten(x):\n",
    "    return x**2 + 10"
   ]
  },
  {
   "cell_type": "markdown",
   "metadata": {},
   "source": [
    "Now imagine a further abstraction: Before, creating a function was about making a certain algorithm available to different inputs. Now I want to make that function available to different objects.\n",
    "\n",
    "An object is what we get out of this further abstraction. Each object is an instance of a class that defines a bundle of attributes and functions (now, as proprietary to the object type, called methods), the point being that every object of that class will automatically have those proprietary attributes and methods.\n",
    "\n",
    "When we say that everything in Python is an object, we really mean that everything is an object – even the attributes and methods of objects are themselves objects with their own type information:\n",
    "\n",
    "Consider:"
   ]
  },
  {
   "cell_type": "code",
   "execution_count": 4,
   "metadata": {
    "ExecuteTime": {
     "end_time": "2020-12-14T18:31:06.537908Z",
     "start_time": "2020-12-14T18:31:06.535776Z"
    }
   },
   "outputs": [],
   "source": [
    "x = 3"
   ]
  },
  {
   "cell_type": "markdown",
   "metadata": {},
   "source": [
    "By setting x equal to an integer, I'm imbuing x with the attributes(define the type of data that an object can store) and methods(define the tasks that an object can perform. Often methods provide a way to modify the attributes of an object) of the integer class."
   ]
  },
  {
   "cell_type": "code",
   "execution_count": 5,
   "metadata": {
    "ExecuteTime": {
     "end_time": "2020-12-14T18:31:07.939791Z",
     "start_time": "2020-12-14T18:31:07.931099Z"
    }
   },
   "outputs": [
    {
     "data": {
      "text/plain": [
       "2"
      ]
     },
     "execution_count": 5,
     "metadata": {},
     "output_type": "execute_result"
    }
   ],
   "source": [
    "x.bit_length()"
   ]
  },
  {
   "cell_type": "markdown",
   "metadata": {},
   "source": [
    "In object-oriented programming languages like Python, an object is an entity that contains data along with associated metadata and/or functionality. In Python everything is an object, which means every entity has some metadata (called attributes) and associated functionality (called methods). These attributes and methods are accessed via the dot syntax.\n",
    "\n",
    "Think of OOP's use of objects and classes like a blueprint. \n",
    "<img src='https://www.assignmenthelp.net/assignment_help/images/class-oops.jpg' width=75%/>"
   ]
  },
  {
   "cell_type": "markdown",
   "metadata": {},
   "source": [
    "## Creating a Class and Instances(objects) \n"
   ]
  },
  {
   "cell_type": "code",
   "execution_count": 6,
   "metadata": {
    "ExecuteTime": {
     "end_time": "2020-12-14T18:31:11.051656Z",
     "start_time": "2020-12-14T18:31:11.049115Z"
    }
   },
   "outputs": [],
   "source": [
    "## Essentially a blank template since we never defined any attributes\n",
    "class Robot(): #explain class definition \n",
    "    pass"
   ]
  },
  {
   "cell_type": "code",
   "execution_count": 7,
   "metadata": {
    "ExecuteTime": {
     "end_time": "2020-12-14T18:31:12.330931Z",
     "start_time": "2020-12-14T18:31:12.327921Z"
    }
   },
   "outputs": [],
   "source": [
    "# Give it life by creating an object from the class using the \n",
    "# class name followed by a set of parenthesis\n",
    "my_robot = Robot()\n",
    "my_robot.name = 'Wall-E' #attributes \n",
    "my_robot.height = 100  # cm\n",
    "\n",
    "your_robot = Robot()\n",
    "your_robot.name = 'Bob'\n",
    "your_robot.height = 200 # cm"
   ]
  },
  {
   "cell_type": "code",
   "execution_count": 8,
   "metadata": {
    "ExecuteTime": {
     "end_time": "2020-12-14T18:31:13.421617Z",
     "start_time": "2020-12-14T18:31:13.418409Z"
    }
   },
   "outputs": [
    {
     "name": "stdout",
     "output_type": "stream",
     "text": [
      "Wall-E : 100\n",
      "Bob : 200\n"
     ]
    }
   ],
   "source": [
    "# They live!!!!!\n",
    "print(my_robot.name,':', my_robot.height)\n",
    "print(your_robot.name,':', your_robot.height)"
   ]
  },
  {
   "cell_type": "code",
   "execution_count": 9,
   "metadata": {
    "ExecuteTime": {
     "end_time": "2020-12-14T18:31:14.692689Z",
     "start_time": "2020-12-14T18:31:14.689498Z"
    }
   },
   "outputs": [],
   "source": [
    "class Robot:\n",
    "    def __init__(self, name, height):\n",
    "        self.name = name\n",
    "        self.height = height"
   ]
  },
  {
   "cell_type": "code",
   "execution_count": 10,
   "metadata": {
    "ExecuteTime": {
     "end_time": "2020-12-14T18:31:17.526004Z",
     "start_time": "2020-12-14T18:31:17.523278Z"
    }
   },
   "outputs": [],
   "source": [
    "my_robot = Robot(\"Wall-E\", 100)"
   ]
  },
  {
   "cell_type": "code",
   "execution_count": 11,
   "metadata": {
    "ExecuteTime": {
     "end_time": "2020-12-14T18:31:18.258614Z",
     "start_time": "2020-12-14T18:31:18.256192Z"
    }
   },
   "outputs": [],
   "source": [
    "your_robot = Robot('Bob', None)"
   ]
  },
  {
   "cell_type": "code",
   "execution_count": 12,
   "metadata": {
    "ExecuteTime": {
     "end_time": "2020-12-14T18:31:18.973153Z",
     "start_time": "2020-12-14T18:31:18.969587Z"
    }
   },
   "outputs": [
    {
     "name": "stdout",
     "output_type": "stream",
     "text": [
      "<__main__.Robot object at 0x7ffe22d54940>\n",
      "Wall-E\n",
      "100\n"
     ]
    }
   ],
   "source": [
    "print(my_robot)\n",
    "print(my_robot.name)\n",
    "print(my_robot.height)"
   ]
  },
  {
   "cell_type": "code",
   "execution_count": 13,
   "metadata": {
    "ExecuteTime": {
     "end_time": "2020-12-14T18:31:32.563132Z",
     "start_time": "2020-12-14T18:31:32.457837Z"
    }
   },
   "outputs": [
    {
     "ename": "AttributeError",
     "evalue": "'Robot' object has no attribute 'purpose'",
     "output_type": "error",
     "traceback": [
      "\u001b[0;31m---------------------------------------------------------------------------\u001b[0m",
      "\u001b[0;31mAttributeError\u001b[0m                            Traceback (most recent call last)",
      "\u001b[0;32m<ipython-input-13-17cc43eb6f1c>\u001b[0m in \u001b[0;36m<module>\u001b[0;34m()\u001b[0m\n\u001b[1;32m      1\u001b[0m \u001b[0;31m# Uh oh, we didn't give it this attribute\u001b[0m\u001b[0;34m\u001b[0m\u001b[0;34m\u001b[0m\u001b[0m\n\u001b[0;32m----> 2\u001b[0;31m \u001b[0mprint\u001b[0m\u001b[0;34m(\u001b[0m\u001b[0mmy_robot\u001b[0m\u001b[0;34m.\u001b[0m\u001b[0mpurpose\u001b[0m\u001b[0;34m)\u001b[0m\u001b[0;34m\u001b[0m\u001b[0m\n\u001b[0m",
      "\u001b[0;31mAttributeError\u001b[0m: 'Robot' object has no attribute 'purpose'"
     ]
    }
   ],
   "source": [
    "# Uh oh, we didn't give it this attribute\n",
    "print(my_robot.purpose)"
   ]
  },
  {
   "cell_type": "code",
   "execution_count": 14,
   "metadata": {
    "ExecuteTime": {
     "end_time": "2020-12-14T18:31:34.853580Z",
     "start_time": "2020-12-14T18:31:34.850990Z"
    }
   },
   "outputs": [],
   "source": [
    "#adding an attribute to our robot class \n",
    "class Robot():\n",
    "    purpose = 'To always protect humans'"
   ]
  },
  {
   "cell_type": "code",
   "execution_count": 15,
   "metadata": {
    "ExecuteTime": {
     "end_time": "2020-12-14T18:31:41.052818Z",
     "start_time": "2020-12-14T18:31:41.050070Z"
    }
   },
   "outputs": [],
   "source": [
    "# Give it life!\n",
    "my_robot = Robot()\n",
    "my_robot.name = 'Wall-E'\n",
    "my_robot.height = 100  # cm\n",
    "\n",
    "your_robot = Robot()\n",
    "your_robot.name = 'Bob'\n",
    "your_robot.height = 200 # cm"
   ]
  },
  {
   "cell_type": "code",
   "execution_count": 16,
   "metadata": {
    "ExecuteTime": {
     "end_time": "2020-12-14T18:31:43.679186Z",
     "start_time": "2020-12-14T18:31:43.675415Z"
    }
   },
   "outputs": [
    {
     "name": "stdout",
     "output_type": "stream",
     "text": [
      "What is your purpose?\n",
      "\n",
      "To always protect humans\n"
     ]
    }
   ],
   "source": [
    "print('What is your purpose?\\n')\n",
    "print(your_robot.purpose)"
   ]
  },
  {
   "cell_type": "code",
   "execution_count": 17,
   "metadata": {
    "ExecuteTime": {
     "end_time": "2020-12-14T18:31:45.509353Z",
     "start_time": "2020-12-14T18:31:45.506194Z"
    }
   },
   "outputs": [
    {
     "name": "stdout",
     "output_type": "stream",
     "text": [
      "What is your name and your purpose?\n",
      "\n",
      "My name is Lore and my purpose is TO KILL ALL HUMANS!!!\n"
     ]
    }
   ],
   "source": [
    "# Rogue robot!!!\n",
    "evil_robot = Robot()\n",
    "evil_robot.name = 'Lore'\n",
    "evil_robot.purpose = 'TO KILL ALL HUMANS!!!'\n",
    "\n",
    "print('What is your name and your purpose?\\n')\n",
    "print(f'My name is {evil_robot.name} and my purpose is {evil_robot.purpose}')"
   ]
  },
  {
   "cell_type": "code",
   "execution_count": 18,
   "metadata": {
    "ExecuteTime": {
     "end_time": "2020-12-14T18:31:50.231442Z",
     "start_time": "2020-12-14T18:31:50.227975Z"
    }
   },
   "outputs": [
    {
     "name": "stdout",
     "output_type": "stream",
     "text": [
      "Bob is the tallest bot at 200 cm\n"
     ]
    }
   ],
   "source": [
    "# Who's taller?\n",
    "\n",
    "# Tie defaults to my bot 😁\n",
    "tall_bot = my_robot if my_robot.height >= your_robot.height else your_robot\n",
    "\n",
    "# Alternative code\n",
    "## if my_robot.height >= your_robot.height:\n",
    "##     tall_bot = my_robot\n",
    "## else:\n",
    "##     tall_bot = your_robot\n",
    "\n",
    "print(f'{tall_bot.name} is the tallest bot at {tall_bot.height} cm')"
   ]
  },
  {
   "cell_type": "code",
   "execution_count": 19,
   "metadata": {
    "ExecuteTime": {
     "end_time": "2020-12-14T18:31:57.977437Z",
     "start_time": "2020-12-14T18:31:57.973869Z"
    }
   },
   "outputs": [
    {
     "name": "stdout",
     "output_type": "stream",
     "text": [
      "Where are you (in memory)?\n",
      "<__main__.Robot object at 0x7ffe22db08d0>\n",
      "<__main__.Robot object at 0x7ffe22d54080>\n"
     ]
    }
   ],
   "source": [
    "# You guys taking up my (memory) space\n",
    "print('Where are you (in memory)?')\n",
    "print(my_robot)\n",
    "print(your_robot)"
   ]
  },
  {
   "cell_type": "markdown",
   "metadata": {},
   "source": [
    "The _is_ keyword is used to test if two variables refer to the same object. The test returns True if the two objects are the same object. The test returns False if they are not the same object, even if the two objects are 100% equal. Use the == operator to test if two variables are equal."
   ]
  },
  {
   "cell_type": "code",
   "execution_count": 21,
   "metadata": {
    "ExecuteTime": {
     "end_time": "2020-12-14T18:36:13.690031Z",
     "start_time": "2020-12-14T18:36:13.685822Z"
    }
   },
   "outputs": [
    {
     "name": "stdout",
     "output_type": "stream",
     "text": [
      "Are you the same (using ==)? False\n",
      "Are you the same (using is)? False\n",
      "Are you yourself? True\n"
     ]
    }
   ],
   "source": [
    "# Are you the same..? \n",
    "print(f'Are you the same (using ==)? {my_robot == your_robot}')\n",
    "print(f'Are you the same (using is)? {my_robot is your_robot}')\n",
    "print(f'Are you yourself? {my_robot == my_robot}')"
   ]
  },
  {
   "cell_type": "markdown",
   "metadata": {},
   "source": [
    "## An Object's Attributes: Methods, Variables, Self \n",
    "How do objects vary?\n",
    "With VARIables. "
   ]
  },
  {
   "cell_type": "code",
   "execution_count": 22,
   "metadata": {
    "ExecuteTime": {
     "end_time": "2020-12-14T18:36:15.517684Z",
     "start_time": "2020-12-14T18:36:15.514678Z"
    }
   },
   "outputs": [],
   "source": [
    "class Robot():\n",
    "    name = None\n",
    "    material = 'Metal'\n",
    "    is_electric = True\n",
    "    num_of_arms = 2"
   ]
  },
  {
   "cell_type": "code",
   "execution_count": 23,
   "metadata": {
    "ExecuteTime": {
     "end_time": "2020-12-14T18:36:16.399634Z",
     "start_time": "2020-12-14T18:36:16.391817Z"
    }
   },
   "outputs": [
    {
     "ename": "NameError",
     "evalue": "name 'walle' is not defined",
     "output_type": "error",
     "traceback": [
      "\u001b[0;31m---------------------------------------------------------------------------\u001b[0m",
      "\u001b[0;31mNameError\u001b[0m                                 Traceback (most recent call last)",
      "\u001b[0;32m<ipython-input-23-8becb81146f4>\u001b[0m in \u001b[0;36m<module>\u001b[0;34m()\u001b[0m\n\u001b[1;32m      6\u001b[0m \u001b[0mis_electric\u001b[0m\u001b[0;34m:\u001b[0m \u001b[0;34m{\u001b[0m\u001b[0mwalle\u001b[0m\u001b[0;34m.\u001b[0m\u001b[0mis_electric\u001b[0m\u001b[0;34m}\u001b[0m\u001b[0;34m\u001b[0m\u001b[0m\n\u001b[1;32m      7\u001b[0m \u001b[0mnum_of_arms\u001b[0m\u001b[0;34m:\u001b[0m \u001b[0;34m{\u001b[0m\u001b[0mwalle\u001b[0m\u001b[0;34m.\u001b[0m\u001b[0mnum_of_arms\u001b[0m\u001b[0;34m}\u001b[0m\u001b[0;34m\u001b[0m\u001b[0m\n\u001b[0;32m----> 8\u001b[0;31m ''')\n\u001b[0m\u001b[1;32m      9\u001b[0m \u001b[0;34m\u001b[0m\u001b[0m\n",
      "\u001b[0;31mNameError\u001b[0m: name 'walle' is not defined"
     ]
    }
   ],
   "source": [
    "robot1 = Robot()\n",
    "\n",
    "print(f'''\n",
    "name: {walle.name}\n",
    "material: {walle.material}\n",
    "is_electric: {walle.is_electric}\n",
    "num_of_arms: {walle.num_of_arms}\n",
    "''')\n",
    "  "
   ]
  },
  {
   "cell_type": "code",
   "execution_count": 24,
   "metadata": {
    "ExecuteTime": {
     "end_time": "2020-12-14T18:36:49.348041Z",
     "start_time": "2020-12-14T18:36:49.344226Z"
    }
   },
   "outputs": [
    {
     "name": "stdout",
     "output_type": "stream",
     "text": [
      "\n",
      "name: Wall-E\n",
      "material: Metal\n",
      "is_electric: True\n",
      "num_of_arms: 2\n",
      "\n",
      "is_solar: True\n"
     ]
    }
   ],
   "source": [
    "# Changing an attribute\n",
    "robot1.name = 'Wall-E'\n",
    "# Adding a new attribute\n",
    "robot1.is_solar = True\n",
    "\n",
    "print(f'''\n",
    "name: {robot1.name}\n",
    "material: {robot1.material}\n",
    "is_electric: {robot1.is_electric}\n",
    "num_of_arms: {robot1.num_of_arms}\n",
    "''')\n",
    "  \n",
    "print(f'is_solar: {robot1.is_solar}')"
   ]
  },
  {
   "cell_type": "markdown",
   "metadata": {},
   "source": [
    "### Class methods are functions that belong to the Class/mold "
   ]
  },
  {
   "cell_type": "code",
   "execution_count": 56,
   "metadata": {
    "ExecuteTime": {
     "end_time": "2020-12-14T18:45:22.607175Z",
     "start_time": "2020-12-14T18:45:22.603430Z"
    }
   },
   "outputs": [],
   "source": [
    "class Robot():\n",
    "\n",
    "    laws_of_robotics = [\n",
    "        '1. First Law: A robot may not injure a human being or, through inaction, allow a human being to come to harm.',\n",
    "        '2. Second Law: A robot must obey the orders given it by human beings except where such orders would conflict with the First Law.',\n",
    "        '3. Third Law: A robot must protect its own existence as long as such protection does not conflict with the First or Second Laws.'\n",
    "    ]\n",
    "  \n",
    "    def print_laws():\n",
    "        for law in Robot.laws_of_robotics:\n",
    "            print(law)\n",
    "\n",
    "      \n",
    "    def print_n_law(n):\n",
    "        # Check the law exists\n",
    "        if n < 1 or n > 3:\n",
    "            print('The #{n} law doesn\\'t exist')\n",
    "            return\n",
    "\n",
    "        print(Robot.laws_of_robotics[n-1])\n",
    "    "
   ]
  },
  {
   "cell_type": "code",
   "execution_count": 57,
   "metadata": {
    "ExecuteTime": {
     "end_time": "2020-12-14T18:45:24.525784Z",
     "start_time": "2020-12-14T18:45:24.522388Z"
    }
   },
   "outputs": [
    {
     "data": {
      "text/plain": [
       "['1. First Law: A robot may not injure a human being or, through inaction, allow a human being to come to harm.',\n",
       " '2. Second Law: A robot must obey the orders given it by human beings except where such orders would conflict with the First Law.',\n",
       " '3. Third Law: A robot must protect its own existence as long as such protection does not conflict with the First or Second Laws.']"
      ]
     },
     "execution_count": 57,
     "metadata": {},
     "output_type": "execute_result"
    }
   ],
   "source": [
    "Robot.laws_of_robotics"
   ]
  },
  {
   "cell_type": "code",
   "execution_count": 64,
   "metadata": {
    "ExecuteTime": {
     "end_time": "2020-12-14T18:47:10.937378Z",
     "start_time": "2020-12-14T18:47:10.934809Z"
    }
   },
   "outputs": [
    {
     "name": "stdout",
     "output_type": "stream",
     "text": [
      "1. First Law: A robot may not injure a human being or, through inaction, allow a human being to come to harm.\n",
      "2. Second Law: A robot must obey the orders given it by human beings except where such orders would conflict with the First Law.\n",
      "3. Third Law: A robot must protect its own existence as long as such protection does not conflict with the First or Second Laws.\n"
     ]
    }
   ],
   "source": [
    "Robot.print_laws()"
   ]
  },
  {
   "cell_type": "code",
   "execution_count": 60,
   "metadata": {
    "ExecuteTime": {
     "end_time": "2020-12-14T18:46:46.518951Z",
     "start_time": "2020-12-14T18:46:46.515509Z"
    }
   },
   "outputs": [
    {
     "name": "stdout",
     "output_type": "stream",
     "text": [
      "2. Second Law: A robot must obey the orders given it by human beings except where such orders would conflict with the First Law.\n"
     ]
    }
   ],
   "source": [
    "Robot.print_n_law(2)"
   ]
  },
  {
   "cell_type": "code",
   "execution_count": 61,
   "metadata": {
    "ExecuteTime": {
     "end_time": "2020-12-14T18:46:48.478920Z",
     "start_time": "2020-12-14T18:46:48.476369Z"
    }
   },
   "outputs": [],
   "source": [
    "# Note what happens with Wall-e\n",
    "walle = Robot()"
   ]
  },
  {
   "cell_type": "code",
   "execution_count": 62,
   "metadata": {
    "ExecuteTime": {
     "end_time": "2020-12-14T18:46:49.652165Z",
     "start_time": "2020-12-14T18:46:49.649252Z"
    }
   },
   "outputs": [
    {
     "data": {
      "text/plain": [
       "['1. First Law: A robot may not injure a human being or, through inaction, allow a human being to come to harm.',\n",
       " '2. Second Law: A robot must obey the orders given it by human beings except where such orders would conflict with the First Law.',\n",
       " '3. Third Law: A robot must protect its own existence as long as such protection does not conflict with the First or Second Laws.']"
      ]
     },
     "execution_count": 62,
     "metadata": {},
     "output_type": "execute_result"
    }
   ],
   "source": [
    "# Has the laws built in \n",
    "walle.laws_of_robotics"
   ]
  },
  {
   "cell_type": "code",
   "execution_count": 63,
   "metadata": {
    "ExecuteTime": {
     "end_time": "2020-12-14T18:46:50.342611Z",
     "start_time": "2020-12-14T18:46:50.339534Z"
    }
   },
   "outputs": [
    {
     "name": "stdout",
     "output_type": "stream",
     "text": [
      "1. First Law: A robot may not injure a human being or, through inaction, allow a human being to come to harm.\n",
      "2. Second Law: A robot must obey the orders given it by human beings except where such orders would conflict with the First Law.\n",
      "3. Third Law: A robot must protect its own existence as long as such protection does not conflict with the First or Second Laws.\n"
     ]
    }
   ],
   "source": [
    "# Let's have Wall-E print out those laws too! (Wait, can he do that...?)\n",
    "walle.print_laws()"
   ]
  },
  {
   "cell_type": "markdown",
   "metadata": {},
   "source": [
    "What happened? - https://pythonexamples.org/python-typeerror-method-takes-0-positional-arguments-but-1-was-given/"
   ]
  },
  {
   "cell_type": "markdown",
   "metadata": {},
   "source": [
    "## Introducing Self \n",
    "Self is really a reference to the instantiated object itSELF. \n",
    "\n",
    "* Variable set outside __init__ belong to the class. They're shared by all instances.\n",
    "\n",
    "* Variables created inside __init__ (and all other method functions) and prefaced with self. belong to the object instance."
   ]
  },
  {
   "cell_type": "code",
   "execution_count": 65,
   "metadata": {
    "ExecuteTime": {
     "end_time": "2020-12-14T18:54:04.853238Z",
     "start_time": "2020-12-14T18:54:04.850509Z"
    }
   },
   "outputs": [],
   "source": [
    "class Robot:\n",
    "    \n",
    "    def __init__(self, name, material, is_electric, num_of_arms):\n",
    "        self.name = name\n",
    "        self.material = material\n",
    "        self.is_electric = is_electric\n",
    "        self.num_of_arms = num_of_arms\n",
    "        \n",
    "# These methods belong to the Object (itself)\n",
    "    def speak(self):\n",
    "        print(f'I am {self.name}!')\n",
    "\n",
    "    def add_numbers(self, num0, num1):\n",
    "        total = num0 + num1\n",
    "        return total"
   ]
  },
  {
   "cell_type": "code",
   "execution_count": 66,
   "metadata": {
    "ExecuteTime": {
     "end_time": "2020-12-14T18:55:52.244683Z",
     "start_time": "2020-12-14T18:55:52.241987Z"
    }
   },
   "outputs": [
    {
     "name": "stdout",
     "output_type": "stream",
     "text": [
      "<__main__.Robot object at 0x7ffe22e08ac8>\n"
     ]
    }
   ],
   "source": [
    "walle = Robot('Walle', 'metal', 'yes', 2)\n",
    "print(walle)"
   ]
  },
  {
   "cell_type": "code",
   "execution_count": 67,
   "metadata": {
    "ExecuteTime": {
     "end_time": "2020-12-14T18:57:48.633370Z",
     "start_time": "2020-12-14T18:57:48.628747Z"
    }
   },
   "outputs": [
    {
     "name": "stdout",
     "output_type": "stream",
     "text": [
      "\n",
      "name: Walle\n",
      "material: metal\n",
      "is_electric: yes\n",
      "num_of_arms: 2\n",
      "\n",
      "I am Walle!\n"
     ]
    },
    {
     "data": {
      "text/plain": [
       "101"
      ]
     },
     "execution_count": 67,
     "metadata": {},
     "output_type": "execute_result"
    }
   ],
   "source": [
    "print(f'''\n",
    "name: {walle.name}\n",
    "material: {walle.material}\n",
    "is_electric: {walle.is_electric}\n",
    "num_of_arms: {walle.num_of_arms}\n",
    "''')\n",
    "\n",
    "walle.speak()\n",
    "walle.add_numbers(100,1)"
   ]
  },
  {
   "cell_type": "code",
   "execution_count": 68,
   "metadata": {
    "ExecuteTime": {
     "end_time": "2020-12-14T18:58:02.898701Z",
     "start_time": "2020-12-14T18:58:02.895792Z"
    }
   },
   "outputs": [
    {
     "name": "stdout",
     "output_type": "stream",
     "text": [
      "I am Wall-E!\n"
     ]
    }
   ],
   "source": [
    "# Changing an attribute\n",
    "walle.name = 'Wall-E'\n",
    "walle.speak()"
   ]
  },
  {
   "cell_type": "code",
   "execution_count": 69,
   "metadata": {
    "ExecuteTime": {
     "end_time": "2020-12-14T18:58:06.129004Z",
     "start_time": "2020-12-14T18:58:06.125642Z"
    }
   },
   "outputs": [
    {
     "name": "stdout",
     "output_type": "stream",
     "text": [
      "Wwaaaalllll-eeeee!!!\n"
     ]
    }
   ],
   "source": [
    "# Changing how Wall-E talks (a little more advanced)\n",
    "walle.speak = lambda : print('Wwaaaalllll-eeeee!!!')\n",
    "walle.speak()"
   ]
  },
  {
   "cell_type": "markdown",
   "metadata": {},
   "source": [
    "## Practice \n",
    "\n",
    "Let's create a class named “Temperature” that has one attribute 'temp'. The initiater of the class initiates the temp attributes using __init__ function. Two methods are defined as “convert_to_fahrenheit” and “convert_to_celcius” to convert the temperatures. Once the class has been defined, we take inputs from the user as the temperature in Celcius and Fahrenheit.  An instance of the class “Temperature” is created as “temp1” and “temp2 and the method is invoked to display the output in the converted form of temperature."
   ]
  },
  {
   "cell_type": "code",
   "execution_count": null,
   "metadata": {},
   "outputs": [],
   "source": [
    "class Temperature:\n",
    "    temp = 0 \n",
    "    \n",
    "# define 3 functions, __init__, convert to celcius and convert to fahrenheit\n",
    "\n"
   ]
  },
  {
   "cell_type": "code",
   "execution_count": null,
   "metadata": {},
   "outputs": [],
   "source": [
    "input_temp = float(input(\"Input temperature in celsius: \"))\n",
    "temp1 = Temperature(input_temp)\n",
    "print(temp1.convert_to_fahrenheit())\n",
    " \n",
    "input_temp = float(input(\"Input temperature in fahrenheit: \"))\n",
    "temp1 = Temperature(input_temp)\n",
    "print(temp1.convert_to_celsius())"
   ]
  }
 ],
 "metadata": {
  "kernelspec": {
   "display_name": "learn-env",
   "language": "python",
   "name": "learn-env"
  },
  "language_info": {
   "codemirror_mode": {
    "name": "ipython",
    "version": 3
   },
   "file_extension": ".py",
   "mimetype": "text/x-python",
   "name": "python",
   "nbconvert_exporter": "python",
   "pygments_lexer": "ipython3",
   "version": "3.6.6"
  },
  "toc": {
   "base_numbering": 1,
   "nav_menu": {},
   "number_sections": true,
   "sideBar": true,
   "skip_h1_title": false,
   "title_cell": "Table of Contents",
   "title_sidebar": "Contents",
   "toc_cell": true,
   "toc_position": {
    "height": "calc(100% - 180px)",
    "left": "10px",
    "top": "150px",
    "width": "227.667px"
   },
   "toc_section_display": true,
   "toc_window_display": true
  }
 },
 "nbformat": 4,
 "nbformat_minor": 2
}
