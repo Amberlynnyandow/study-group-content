{
 "cells": [
  {
   "cell_type": "markdown",
   "metadata": {},
   "source": [
    "# Time Series Review \n",
    "\n",
    "Time series is a sequence of observations recorded at regular time intervals. Intervals can range from: \n",
    "- Annually \n",
    "- Quarterly \n",
    "- Monthly \n",
    "- Weekly\n",
    "- Daily \n",
    "- Hourly\n",
    "- By minutes and even seconds \n",
    "\n",
    "**Trend** - observed when there is an increasing or decreasing slope observed in the time series.\n",
    "**Seasonality** - observed when there is a distinct repeated pattern observed between regular intervals due to seasonal factors. \n",
    "**Cyclical pattern** - observed when the rise and fall pattern in the series does not happen in fixed calendar-based intervals - don't confuse seasonality with cyclic behavior. "
   ]
  },
  {
   "cell_type": "code",
   "execution_count": null,
   "metadata": {},
   "outputs": [],
   "source": []
  }
 ],
 "metadata": {
  "kernelspec": {
   "display_name": "learn-env",
   "language": "python",
   "name": "learn-env"
  },
  "language_info": {
   "codemirror_mode": {
    "name": "ipython",
    "version": 3
   },
   "file_extension": ".py",
   "mimetype": "text/x-python",
   "name": "python",
   "nbconvert_exporter": "python",
   "pygments_lexer": "ipython3",
   "version": "3.6.6"
  },
  "toc": {
   "base_numbering": 1,
   "nav_menu": {},
   "number_sections": true,
   "sideBar": true,
   "skip_h1_title": true,
   "title_cell": "Table of Contents",
   "title_sidebar": "Contents",
   "toc_cell": false,
   "toc_position": {},
   "toc_section_display": true,
   "toc_window_display": false
  }
 },
 "nbformat": 4,
 "nbformat_minor": 2
}
