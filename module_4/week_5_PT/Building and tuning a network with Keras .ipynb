{
 "cells": [
  {
   "cell_type": "markdown",
   "metadata": {},
   "source": [
    "# Let's Build & Regularize a Network with Keras \n",
    "\n",
    "![](https://qph.fs.quoracdn.net/main-qimg-d7f6c824d566e3f626fea25d01d39d13)\n",
    "\n",
    "Keras, a neural network API, is now fully integrated within TensorFlow. What does that mean?\n",
    "It means you have a choice between using the high-level Keras API, or the low-level TensorFlow API. High-level APIs provide more functionality within a single command and are easier to use (in comparison with low-level APIs), which makes them usable even for non-tech people. The low-level APIs allow the advanced programmer to manipulate functions within a module at a very granular level, thus allowing custom implementation for novel solutions."
   ]
  },
  {
   "cell_type": "code",
   "execution_count": 1,
   "metadata": {
    "ExecuteTime": {
     "end_time": "2020-12-15T20:23:08.008810Z",
     "start_time": "2020-12-15T20:23:04.313109Z"
    }
   },
   "outputs": [
    {
     "name": "stderr",
     "output_type": "stream",
     "text": [
      "Using TensorFlow backend.\n"
     ]
    }
   ],
   "source": [
    "import numpy as np\n",
    "import pandas as pd\n",
    "from sklearn.model_selection import train_test_split\n",
    "from sklearn.preprocessing import StandardScaler\n",
    "from keras.models import Sequential\n",
    "from keras.layers import Dense\n",
    "from matplotlib import pyplot as plt\n",
    "%matplotlib inline"
   ]
  },
  {
   "cell_type": "code",
   "execution_count": 2,
   "metadata": {
    "ExecuteTime": {
     "end_time": "2020-12-15T20:23:08.038655Z",
     "start_time": "2020-12-15T20:23:08.010706Z"
    }
   },
   "outputs": [
    {
     "data": {
      "text/html": [
       "<div>\n",
       "<style scoped>\n",
       "    .dataframe tbody tr th:only-of-type {\n",
       "        vertical-align: middle;\n",
       "    }\n",
       "\n",
       "    .dataframe tbody tr th {\n",
       "        vertical-align: top;\n",
       "    }\n",
       "\n",
       "    .dataframe thead th {\n",
       "        text-align: right;\n",
       "    }\n",
       "</style>\n",
       "<table border=\"1\" class=\"dataframe\">\n",
       "  <thead>\n",
       "    <tr style=\"text-align: right;\">\n",
       "      <th></th>\n",
       "      <th>fixed acidity</th>\n",
       "      <th>volatile acidity</th>\n",
       "      <th>citric acid</th>\n",
       "      <th>residual sugar</th>\n",
       "      <th>chlorides</th>\n",
       "      <th>free sulfur dioxide</th>\n",
       "      <th>total sulfur dioxide</th>\n",
       "      <th>density</th>\n",
       "      <th>pH</th>\n",
       "      <th>sulphates</th>\n",
       "      <th>alcohol</th>\n",
       "      <th>quality</th>\n",
       "      <th>red_wine</th>\n",
       "    </tr>\n",
       "  </thead>\n",
       "  <tbody>\n",
       "    <tr>\n",
       "      <th>0</th>\n",
       "      <td>7.4</td>\n",
       "      <td>0.70</td>\n",
       "      <td>0.00</td>\n",
       "      <td>1.9</td>\n",
       "      <td>0.076</td>\n",
       "      <td>11.0</td>\n",
       "      <td>34.0</td>\n",
       "      <td>0.9978</td>\n",
       "      <td>3.51</td>\n",
       "      <td>0.56</td>\n",
       "      <td>9.4</td>\n",
       "      <td>5</td>\n",
       "      <td>1</td>\n",
       "    </tr>\n",
       "    <tr>\n",
       "      <th>1</th>\n",
       "      <td>7.8</td>\n",
       "      <td>0.88</td>\n",
       "      <td>0.00</td>\n",
       "      <td>2.6</td>\n",
       "      <td>0.098</td>\n",
       "      <td>25.0</td>\n",
       "      <td>67.0</td>\n",
       "      <td>0.9968</td>\n",
       "      <td>3.20</td>\n",
       "      <td>0.68</td>\n",
       "      <td>9.8</td>\n",
       "      <td>5</td>\n",
       "      <td>1</td>\n",
       "    </tr>\n",
       "    <tr>\n",
       "      <th>2</th>\n",
       "      <td>7.8</td>\n",
       "      <td>0.76</td>\n",
       "      <td>0.04</td>\n",
       "      <td>2.3</td>\n",
       "      <td>0.092</td>\n",
       "      <td>15.0</td>\n",
       "      <td>54.0</td>\n",
       "      <td>0.9970</td>\n",
       "      <td>3.26</td>\n",
       "      <td>0.65</td>\n",
       "      <td>9.8</td>\n",
       "      <td>5</td>\n",
       "      <td>1</td>\n",
       "    </tr>\n",
       "    <tr>\n",
       "      <th>3</th>\n",
       "      <td>11.2</td>\n",
       "      <td>0.28</td>\n",
       "      <td>0.56</td>\n",
       "      <td>1.9</td>\n",
       "      <td>0.075</td>\n",
       "      <td>17.0</td>\n",
       "      <td>60.0</td>\n",
       "      <td>0.9980</td>\n",
       "      <td>3.16</td>\n",
       "      <td>0.58</td>\n",
       "      <td>9.8</td>\n",
       "      <td>6</td>\n",
       "      <td>1</td>\n",
       "    </tr>\n",
       "    <tr>\n",
       "      <th>4</th>\n",
       "      <td>7.4</td>\n",
       "      <td>0.70</td>\n",
       "      <td>0.00</td>\n",
       "      <td>1.9</td>\n",
       "      <td>0.076</td>\n",
       "      <td>11.0</td>\n",
       "      <td>34.0</td>\n",
       "      <td>0.9978</td>\n",
       "      <td>3.51</td>\n",
       "      <td>0.56</td>\n",
       "      <td>9.4</td>\n",
       "      <td>5</td>\n",
       "      <td>1</td>\n",
       "    </tr>\n",
       "  </tbody>\n",
       "</table>\n",
       "</div>"
      ],
      "text/plain": [
       "   fixed acidity  volatile acidity  citric acid  residual sugar  chlorides  \\\n",
       "0            7.4              0.70         0.00             1.9      0.076   \n",
       "1            7.8              0.88         0.00             2.6      0.098   \n",
       "2            7.8              0.76         0.04             2.3      0.092   \n",
       "3           11.2              0.28         0.56             1.9      0.075   \n",
       "4            7.4              0.70         0.00             1.9      0.076   \n",
       "\n",
       "   free sulfur dioxide  total sulfur dioxide  density    pH  sulphates  \\\n",
       "0                 11.0                  34.0   0.9978  3.51       0.56   \n",
       "1                 25.0                  67.0   0.9968  3.20       0.68   \n",
       "2                 15.0                  54.0   0.9970  3.26       0.65   \n",
       "3                 17.0                  60.0   0.9980  3.16       0.58   \n",
       "4                 11.0                  34.0   0.9978  3.51       0.56   \n",
       "\n",
       "   alcohol  quality  red_wine  \n",
       "0      9.4        5         1  \n",
       "1      9.8        5         1  \n",
       "2      9.8        5         1  \n",
       "3      9.8        6         1  \n",
       "4      9.4        5         1  "
      ]
     },
     "execution_count": 2,
     "metadata": {},
     "output_type": "execute_result"
    }
   ],
   "source": [
    "wine = pd.read_csv('wine.csv')\n",
    "wine.head()"
   ]
  },
  {
   "cell_type": "code",
   "execution_count": 3,
   "metadata": {
    "ExecuteTime": {
     "end_time": "2020-12-15T20:23:08.043509Z",
     "start_time": "2020-12-15T20:23:08.040507Z"
    }
   },
   "outputs": [],
   "source": [
    "X = wine.drop('quality', axis=1)\n",
    "y = wine.quality"
   ]
  },
  {
   "cell_type": "code",
   "execution_count": 4,
   "metadata": {
    "ExecuteTime": {
     "end_time": "2020-12-15T20:23:08.049606Z",
     "start_time": "2020-12-15T20:23:08.045165Z"
    }
   },
   "outputs": [
    {
     "data": {
      "text/plain": [
       "6    2836\n",
       "5    2138\n",
       "7    1079\n",
       "4     216\n",
       "8     193\n",
       "3      30\n",
       "9       5\n",
       "Name: quality, dtype: int64"
      ]
     },
     "execution_count": 4,
     "metadata": {},
     "output_type": "execute_result"
    }
   ],
   "source": [
    "wine['quality'].value_counts()"
   ]
  },
  {
   "cell_type": "code",
   "execution_count": 5,
   "metadata": {
    "ExecuteTime": {
     "end_time": "2020-12-15T20:23:08.062965Z",
     "start_time": "2020-12-15T20:23:08.050825Z"
    }
   },
   "outputs": [],
   "source": [
    "X_train, X_test, y_train, y_test = train_test_split(X, y,\n",
    "                                                    random_state=11, stratify=y)\n",
    "ss = StandardScaler()\n",
    "X_train_s = ss.fit_transform(X_train).astype(np.int32) #why 2 seperate lines of code here? \n",
    "X_test_s = ss.transform(X_test).astype(np.int32)"
   ]
  },
  {
   "cell_type": "markdown",
   "metadata": {},
   "source": [
    "Remember that we’ll use our data to train our model, so we’ll want our StandardScaler object to register and proceed with the Mean and Standard Deviation of our train set and transform our test group using it. fit_transform() is used on the training data so that we can scale the training data and also learn the scaling parameters of that data. Here, the model built by us will learn the mean and variance of the features of the training set. These learned parameters are then used to scale our test data. The fit method is calculating the mean and variance of each of the features present in our data. The transform method is transforming all the features using the respective mean and variance.\n",
    "\n",
    "The ‘stratify’ parameter comes into handy so that the proportion of values in the sample produced in our test group will be the same as the proportion of values provided to parameter stratify. This results especially useful when working around classification problems, since if we don’t provide this parameter with an array-like object, we may end with a non-representative distribution of our target classes in our test group"
   ]
  },
  {
   "cell_type": "markdown",
   "metadata": {},
   "source": [
    "## Building a Network\n",
    "\n",
    "**Sequential** - We start by instantiating a Sequential model, which represents a linear stack of layers. The Sequential constructor takes an array of Keras Layers. Since we’re just building a standard feedforward network, we only need the Dense layer, which is your regular fully-connected (dense) network layer.\n",
    "\n",
    "**Input data** - The number of rows in your training data is not part of the input shape of the network because the training process feeds the network one sample per batch\n",
    "\n",
    "**Activation Function** - ![](https://cdn.analyticsvidhya.com/wp-content/uploads/2017/10/17123344/act.png)"
   ]
  },
  {
   "cell_type": "code",
   "execution_count": 6,
   "metadata": {
    "ExecuteTime": {
     "end_time": "2020-12-15T20:23:08.068260Z",
     "start_time": "2020-12-15T20:23:08.064587Z"
    }
   },
   "outputs": [
    {
     "data": {
      "text/plain": [
       "(4872, 12)"
      ]
     },
     "execution_count": 6,
     "metadata": {},
     "output_type": "execute_result"
    }
   ],
   "source": [
    "X_train_s.shape"
   ]
  },
  {
   "cell_type": "code",
   "execution_count": 7,
   "metadata": {
    "ExecuteTime": {
     "end_time": "2020-12-15T20:23:08.085591Z",
     "start_time": "2020-12-15T20:23:08.070378Z"
    }
   },
   "outputs": [],
   "source": [
    "model = Sequential()\n",
    "\n",
    "n_input = X_train_s.shape[1]\n",
    "\n",
    "model.add(Dense(n_input, activation='relu'))\n",
    "model.add(Dense(1))"
   ]
  },
  {
   "cell_type": "markdown",
   "metadata": {},
   "source": [
    "## Compile the Network\n",
    "\n",
    "**Compiling** the model uses the efficient numerical libraries under the covers (the so-called backend) such as Theano or TensorFlow. When compiling, we must specify some additional properties required when training the network. Remember training a network means finding the best set of weights to map inputs to outputs in our dataset. We must specify the **loss function** to use to evaluate a set of weights, the optimizer is used to search through different weights for the network and any optional metrics we would like to collect and report during training. Lets define the **optimizer** as the efficient stochastic gradient descent algorithm “adam“. This is a popular version of gradient descent because it automatically tunes itself and gives good results in a wide range of problems"
   ]
  },
  {
   "cell_type": "code",
   "execution_count": 8,
   "metadata": {
    "ExecuteTime": {
     "end_time": "2020-12-15T20:23:08.098691Z",
     "start_time": "2020-12-15T20:23:08.088400Z"
    }
   },
   "outputs": [],
   "source": [
    "model.compile(optimizer='adam', loss='mean_squared_error', metrics=['accuracy'])"
   ]
  },
  {
   "cell_type": "markdown",
   "metadata": {},
   "source": [
    "## Fit the Keras Network\n",
    "\n",
    "We can train or fit our model on our loaded data by calling the fit() function on the model.\n",
    "\n",
    "Training occurs over epochs and each epoch is split into batches.\n",
    "\n",
    "- Epoch: One pass through all of the rows in the training dataset.<br/>\n",
    "- Batch: One or more samples considered by the model within an epoch before weights are updated.\n",
    "\n",
    "One epoch is comprised of one or more batches, based on the chosen batch size and the model is fit for many epochs."
   ]
  },
  {
   "cell_type": "code",
   "execution_count": 9,
   "metadata": {
    "ExecuteTime": {
     "end_time": "2020-12-15T20:23:11.808169Z",
     "start_time": "2020-12-15T20:23:08.101290Z"
    }
   },
   "outputs": [
    {
     "name": "stdout",
     "output_type": "stream",
     "text": [
      "Train on 4872 samples, validate on 1625 samples\n",
      "Epoch 1/30\n",
      "4872/4872 [==============================] - 0s 53us/step - loss: 34.2208 - accuracy: 0.0000e+00 - val_loss: 28.6071 - val_accuracy: 0.0000e+00\n",
      "Epoch 2/30\n",
      "4872/4872 [==============================] - 0s 22us/step - loss: 23.8087 - accuracy: 0.0012 - val_loss: 19.0003 - val_accuracy: 0.0049\n",
      "Epoch 3/30\n",
      "4872/4872 [==============================] - 0s 22us/step - loss: 14.9459 - accuracy: 0.0183 - val_loss: 11.4313 - val_accuracy: 0.0418\n",
      "Epoch 4/30\n",
      "4872/4872 [==============================] - 0s 21us/step - loss: 9.1086 - accuracy: 0.0644 - val_loss: 7.2336 - val_accuracy: 0.1015\n",
      "Epoch 5/30\n",
      "4872/4872 [==============================] - 0s 21us/step - loss: 6.0107 - accuracy: 0.1377 - val_loss: 4.9321 - val_accuracy: 0.1625\n",
      "Epoch 6/30\n",
      "4872/4872 [==============================] - 0s 21us/step - loss: 4.1460 - accuracy: 0.1849 - val_loss: 3.4037 - val_accuracy: 0.2265\n",
      "Epoch 7/30\n",
      "4872/4872 [==============================] - 0s 21us/step - loss: 2.9177 - accuracy: 0.2229 - val_loss: 2.4417 - val_accuracy: 0.2431\n",
      "Epoch 8/30\n",
      "4872/4872 [==============================] - 0s 22us/step - loss: 2.1199 - accuracy: 0.2674 - val_loss: 1.8406 - val_accuracy: 0.2991\n",
      "Epoch 9/30\n",
      "4872/4872 [==============================] - 0s 21us/step - loss: 1.6231 - accuracy: 0.3218 - val_loss: 1.4691 - val_accuracy: 0.3600\n",
      "Epoch 10/30\n",
      "4872/4872 [==============================] - 0s 21us/step - loss: 1.3136 - accuracy: 0.3666 - val_loss: 1.2299 - val_accuracy: 0.3932\n",
      "Epoch 11/30\n",
      "4872/4872 [==============================] - 0s 21us/step - loss: 1.1138 - accuracy: 0.3859 - val_loss: 1.0686 - val_accuracy: 0.4006\n",
      "Epoch 12/30\n",
      "4872/4872 [==============================] - 0s 22us/step - loss: 0.9703 - accuracy: 0.3998 - val_loss: 0.9435 - val_accuracy: 0.4105\n",
      "Epoch 13/30\n",
      "4872/4872 [==============================] - 0s 21us/step - loss: 0.8624 - accuracy: 0.4146 - val_loss: 0.8559 - val_accuracy: 0.4215\n",
      "Epoch 14/30\n",
      "4872/4872 [==============================] - 0s 21us/step - loss: 0.7838 - accuracy: 0.4257 - val_loss: 0.7939 - val_accuracy: 0.4295\n",
      "Epoch 15/30\n",
      "4872/4872 [==============================] - 0s 21us/step - loss: 0.7262 - accuracy: 0.4618 - val_loss: 0.7476 - val_accuracy: 0.4652\n",
      "Epoch 16/30\n",
      "4872/4872 [==============================] - 0s 21us/step - loss: 0.6864 - accuracy: 0.4737 - val_loss: 0.7170 - val_accuracy: 0.4665\n",
      "Epoch 17/30\n",
      "4872/4872 [==============================] - 0s 22us/step - loss: 0.6569 - accuracy: 0.4826 - val_loss: 0.7019 - val_accuracy: 0.4658\n",
      "Epoch 18/30\n",
      "4872/4872 [==============================] - 0s 21us/step - loss: 0.6382 - accuracy: 0.4817 - val_loss: 0.6837 - val_accuracy: 0.4591\n",
      "Epoch 19/30\n",
      "4872/4872 [==============================] - 0s 21us/step - loss: 0.6248 - accuracy: 0.4809 - val_loss: 0.6799 - val_accuracy: 0.4775\n",
      "Epoch 20/30\n",
      "4872/4872 [==============================] - 0s 21us/step - loss: 0.6147 - accuracy: 0.4809 - val_loss: 0.6652 - val_accuracy: 0.4702\n",
      "Epoch 21/30\n",
      "4872/4872 [==============================] - 0s 21us/step - loss: 0.6074 - accuracy: 0.4803 - val_loss: 0.6596 - val_accuracy: 0.4708\n",
      "Epoch 22/30\n",
      "4872/4872 [==============================] - 0s 22us/step - loss: 0.6011 - accuracy: 0.4877 - val_loss: 0.6549 - val_accuracy: 0.4726\n",
      "Epoch 23/30\n",
      "4872/4872 [==============================] - 0s 22us/step - loss: 0.5963 - accuracy: 0.4862 - val_loss: 0.6568 - val_accuracy: 0.4720\n",
      "Epoch 24/30\n",
      "4872/4872 [==============================] - 0s 22us/step - loss: 0.5916 - accuracy: 0.4840 - val_loss: 0.6522 - val_accuracy: 0.4757\n",
      "Epoch 25/30\n",
      "4872/4872 [==============================] - 0s 21us/step - loss: 0.5885 - accuracy: 0.4852 - val_loss: 0.6465 - val_accuracy: 0.4671\n",
      "Epoch 26/30\n",
      "4872/4872 [==============================] - 0s 21us/step - loss: 0.5848 - accuracy: 0.4920 - val_loss: 0.6459 - val_accuracy: 0.4658\n",
      "Epoch 27/30\n",
      "4872/4872 [==============================] - 0s 23us/step - loss: 0.5813 - accuracy: 0.4885 - val_loss: 0.6367 - val_accuracy: 0.4738\n",
      "Epoch 28/30\n",
      "4872/4872 [==============================] - 0s 23us/step - loss: 0.5771 - accuracy: 0.4914 - val_loss: 0.6321 - val_accuracy: 0.4720\n",
      "Epoch 29/30\n",
      "4872/4872 [==============================] - 0s 21us/step - loss: 0.5748 - accuracy: 0.4895 - val_loss: 0.6289 - val_accuracy: 0.4812\n",
      "Epoch 30/30\n",
      "4872/4872 [==============================] - 0s 22us/step - loss: 0.5716 - accuracy: 0.4965 - val_loss: 0.6281 - val_accuracy: 0.4818\n"
     ]
    }
   ],
   "source": [
    "history = model.fit(X_train_s, np.array(y_train),\n",
    "                    validation_data=(X_test_s, np.array(y_test)),\n",
    "                   epochs=30, batch_size=None)"
   ]
  },
  {
   "cell_type": "code",
   "execution_count": 10,
   "metadata": {
    "ExecuteTime": {
     "end_time": "2020-12-15T20:23:11.814141Z",
     "start_time": "2020-12-15T20:23:11.809574Z"
    }
   },
   "outputs": [
    {
     "name": "stdout",
     "output_type": "stream",
     "text": [
      "[array([[ 0.13722321, -0.05551608,  0.23465654, -0.32241097, -0.08069859,\n",
      "         0.4518031 , -0.3972103 , -0.12202615,  0.10408445, -0.13549623,\n",
      "         0.0455407 ,  0.06222934],\n",
      "       [ 0.18476863, -0.10775808, -0.1419984 ,  0.14754495, -0.06759905,\n",
      "        -0.04918666, -0.10088715, -0.11770914, -0.3551582 ,  0.43051332,\n",
      "         0.0635159 , -0.02776854],\n",
      "       [ 0.12750642, -0.139017  ,  0.225768  ,  0.10507587, -0.30873436,\n",
      "         0.18391007, -0.44236773, -0.03597161, -0.24666429,  0.0149674 ,\n",
      "         0.3644605 , -0.5068492 ],\n",
      "       [-0.24244474, -0.13479777, -0.23814493, -0.10186958, -0.44996902,\n",
      "         0.460439  ,  0.8476452 ,  0.04993294, -0.60199386, -0.17051147,\n",
      "         0.63235813,  0.51753646],\n",
      "       [-0.09712061,  0.16863112, -0.08610834, -0.06392995, -0.0932858 ,\n",
      "         0.00722571,  0.12371682,  0.29593518, -0.04052496,  0.07274561,\n",
      "         0.0870937 ,  0.19568112],\n",
      "       [-0.15208724, -0.05319371, -0.2615273 , -0.2731462 , -0.16669658,\n",
      "         0.41668406,  0.0978243 ,  0.37595096, -0.1778317 ,  0.5535161 ,\n",
      "         0.4442126 , -0.3271085 ],\n",
      "       [-0.376991  ,  0.11510573,  0.08735997, -0.3571221 ,  0.00720647,\n",
      "         0.41641492, -0.6353483 ,  0.02590778,  0.19757535, -0.06692443,\n",
      "         0.30549076,  0.14369792],\n",
      "       [-0.43325445,  0.12657088, -0.05887319, -0.1119699 ,  0.34960505,\n",
      "         0.00981347, -0.4105279 ,  0.32860398,  0.5212721 , -0.10218257,\n",
      "        -0.09540541,  0.01103453],\n",
      "       [ 0.4419842 ,  0.03023933,  0.05499379,  0.26936325, -0.0307016 ,\n",
      "        -0.08645452,  0.43631658,  0.26912588, -0.10221697,  0.04127892,\n",
      "        -0.39908072,  0.24867336],\n",
      "       [ 0.2763496 , -0.0933629 , -0.22350478, -0.28310463,  0.08502349,\n",
      "        -0.04981635,  0.18787824,  0.31313086,  0.02266923,  0.14996122,\n",
      "        -0.25615364, -0.03051617],\n",
      "       [ 0.29451498,  0.043606  , -0.01949408, -0.07110191, -0.01418808,\n",
      "         0.2971538 ,  0.38423344,  0.21196766, -0.27515432, -0.03304299,\n",
      "         0.2296503 ,  0.2343469 ],\n",
      "       [ 0.08031414, -0.308467  , -0.50892836,  0.2091342 , -0.5248595 ,\n",
      "        -0.37682334, -0.10482586, -0.00960079, -0.6219302 , -0.3820591 ,\n",
      "         0.55163926, -0.24893694]], dtype=float32), array([ 1.2391846 , -0.26242012, -0.25105697, -0.18340658, -0.11162573,\n",
      "       -0.31099004,  1.427283  , -0.25590423,  1.4551874 , -0.20477886,\n",
      "        1.0716314 , -0.248553  ], dtype=float32)]\n",
      "[array([[ 0.97947747],\n",
      "       [-0.37893724],\n",
      "       [-0.3458162 ],\n",
      "       [-0.25830618],\n",
      "       [-0.48439765],\n",
      "       [-0.5333839 ],\n",
      "       [ 0.68285865],\n",
      "       [-0.16490254],\n",
      "       [ 1.1904364 ],\n",
      "       [-0.21735287],\n",
      "       [ 1.1790097 ],\n",
      "       [-0.59331924]], dtype=float32), array([0.7075584], dtype=float32)]\n"
     ]
    }
   ],
   "source": [
    "#weights\n",
    "for layer in model.layers:\n",
    "    print(layer.get_weights())"
   ]
  },
  {
   "cell_type": "code",
   "execution_count": 11,
   "metadata": {
    "ExecuteTime": {
     "end_time": "2020-12-15T20:23:11.931393Z",
     "start_time": "2020-12-15T20:23:11.815395Z"
    }
   },
   "outputs": [
    {
     "name": "stdout",
     "output_type": "stream",
     "text": [
      "dict_keys(['val_loss', 'val_accuracy', 'loss', 'accuracy'])\n"
     ]
    },
    {
     "data": {
      "image/png": "[encoded data removed]",
      "text/plain": [
       "<Figure size 432x288 with 1 Axes>"
      ]
     },
     "metadata": {
      "needs_background": "light"
     },
     "output_type": "display_data"
    }
   ],
   "source": [
    "#plt.plot(history.history['loss'], label='Train loss')\n",
    "#plt.plot(history.history['val_loss'], label='Test loss')\n",
    "#plt.legend();\n",
    "\n",
    "print(history.history.keys())\n",
    "plt.plot(history.history['accuracy'])\n",
    "plt.plot(history.history['val_accuracy'])\n",
    "plt.title('model accuracy')\n",
    "plt.ylabel('accuracy')\n",
    "plt.xlabel('epoch')\n",
    "plt.legend(['train', 'test'], loc='upper left')\n",
    "plt.show()"
   ]
  },
  {
   "cell_type": "code",
   "execution_count": 12,
   "metadata": {
    "ExecuteTime": {
     "end_time": "2020-12-15T20:23:11.962367Z",
     "start_time": "2020-12-15T20:23:11.932797Z"
    }
   },
   "outputs": [
    {
     "data": {
      "text/plain": [
       "1009.435519695282"
      ]
     },
     "execution_count": 12,
     "metadata": {},
     "output_type": "execute_result"
    }
   ],
   "source": [
    "#looking at the loss \n",
    "sum(abs(np.array(model.predict(X_test_s).T) - np.array(y_test))[0])"
   ]
  },
  {
   "cell_type": "markdown",
   "metadata": {},
   "source": [
    "## Adding Regularization\n",
    "\n",
    "Networks are prone to overfitting. Regularization is a technique which makes slight modifications to the learning algorithm such that the model generalizes better. \n",
    "**L2 & L1 regularization**\n",
    "\n",
    "L1 and L2 are the most common types of regularization. These update the general cost function by adding another term known as the regularization term.\n",
    "\n",
    "Cost function = Loss (say, binary cross entropy) + Regularization term\n",
    "\n",
    "Due to the addition of this regularization term, the values of weight matrices decrease because it assumes that a neural network with smaller weight matrices leads to simpler models. Therefore, it will also reduce overfitting to quite an extent.\n",
    "\n",
    "However, this regularization term differs in L1 and L2.\n",
    "\n",
    "In L2, we have:\n",
    "![](https://cdn.analyticsvidhya.com/wp-content/uploads/2018/04/Screen-Shot-2018-04-04-at-1.59.54-AM.png)\n",
    "\n",
    "Here, lambda is the regularization parameter. It is the hyperparameter whose value is optimized for better results. L2 regularization is also known as weight decay as it forces the weights to decay towards zero (but not exactly zero).\n",
    "\n",
    "In L1, we have:\n",
    "![](https://cdn.analyticsvidhya.com/wp-content/uploads/2018/04/Screen-Shot-2018-04-04-at-1.59.57-AM.png)\n",
    "\n",
    "\n",
    "In this, we penalize the absolute value of the weights. Unlike L2, the weights may be reduced to zero here. Hence, it is very useful when we are trying to compress our model. Otherwise, we usually prefer L2 over it.\n",
    "\n",
    "_From_ [analytics vidhya](https://www.analyticsvidhya.com/blog/2018/04/fundamentals-deep-learning-regularization-techniques/#:~:text=If%20you've%20built%20a,the%20unseen%20data%20as%20well.)"
   ]
  },
  {
   "cell_type": "code",
   "execution_count": 13,
   "metadata": {
    "ExecuteTime": {
     "end_time": "2020-12-15T20:23:11.977598Z",
     "start_time": "2020-12-15T20:23:11.966732Z"
    }
   },
   "outputs": [],
   "source": [
    "from keras import regularizers"
   ]
  },
  {
   "cell_type": "code",
   "execution_count": 14,
   "metadata": {
    "ExecuteTime": {
     "end_time": "2020-12-15T20:23:17.037505Z",
     "start_time": "2020-12-15T20:23:11.979402Z"
    }
   },
   "outputs": [
    {
     "name": "stdout",
     "output_type": "stream",
     "text": [
      "Train on 4872 samples, validate on 1625 samples\n",
      "Epoch 1/42\n",
      "4872/4872 [==============================] - 0s 59us/step - loss: 29.5322 - accuracy: 0.0000e+00 - val_loss: 23.1232 - val_accuracy: 0.0000e+00\n",
      "Epoch 2/42\n",
      "4872/4872 [==============================] - 0s 23us/step - loss: 17.1525 - accuracy: 0.0142 - val_loss: 12.0743 - val_accuracy: 0.0455\n",
      "Epoch 3/42\n",
      "4872/4872 [==============================] - 0s 22us/step - loss: 8.2460 - accuracy: 0.0835 - val_loss: 5.5378 - val_accuracy: 0.1397\n",
      "Epoch 4/42\n",
      "4872/4872 [==============================] - 0s 22us/step - loss: 3.9915 - accuracy: 0.1880 - val_loss: 3.1270 - val_accuracy: 0.2314\n",
      "Epoch 5/42\n",
      "4872/4872 [==============================] - 0s 22us/step - loss: 2.6229 - accuracy: 0.2703 - val_loss: 2.3135 - val_accuracy: 0.3015\n",
      "Epoch 6/42\n",
      "4872/4872 [==============================] - 0s 22us/step - loss: 2.0457 - accuracy: 0.2997 - val_loss: 1.8540 - val_accuracy: 0.3335\n",
      "Epoch 7/42\n",
      "4872/4872 [==============================] - 0s 22us/step - loss: 1.6743 - accuracy: 0.3372 - val_loss: 1.5448 - val_accuracy: 0.3809\n",
      "Epoch 8/42\n",
      "4872/4872 [==============================] - 0s 21us/step - loss: 1.4059 - accuracy: 0.3836 - val_loss: 1.3195 - val_accuracy: 0.4105\n",
      "Epoch 9/42\n",
      "4872/4872 [==============================] - 0s 22us/step - loss: 1.2063 - accuracy: 0.4101 - val_loss: 1.1517 - val_accuracy: 0.4338\n",
      "Epoch 10/42\n",
      "4872/4872 [==============================] - 0s 22us/step - loss: 1.0593 - accuracy: 0.4302 - val_loss: 1.0345 - val_accuracy: 0.4455\n",
      "Epoch 11/42\n",
      "4872/4872 [==============================] - 0s 22us/step - loss: 0.9561 - accuracy: 0.4405 - val_loss: 0.9548 - val_accuracy: 0.4542\n",
      "Epoch 12/42\n",
      "4872/4872 [==============================] - 0s 23us/step - loss: 0.8859 - accuracy: 0.4565 - val_loss: 0.8988 - val_accuracy: 0.4702\n",
      "Epoch 13/42\n",
      "4872/4872 [==============================] - 0s 21us/step - loss: 0.8378 - accuracy: 0.4758 - val_loss: 0.8664 - val_accuracy: 0.4831\n",
      "Epoch 14/42\n",
      "4872/4872 [==============================] - 0s 22us/step - loss: 0.8050 - accuracy: 0.4871 - val_loss: 0.8389 - val_accuracy: 0.4911\n",
      "Epoch 15/42\n",
      "4872/4872 [==============================] - 0s 22us/step - loss: 0.7804 - accuracy: 0.4914 - val_loss: 0.8207 - val_accuracy: 0.4929\n",
      "Epoch 16/42\n",
      "4872/4872 [==============================] - 0s 22us/step - loss: 0.7618 - accuracy: 0.4889 - val_loss: 0.8091 - val_accuracy: 0.4917\n",
      "Epoch 17/42\n",
      "4872/4872 [==============================] - 0s 22us/step - loss: 0.7483 - accuracy: 0.4922 - val_loss: 0.7994 - val_accuracy: 0.4812\n",
      "Epoch 18/42\n",
      "4872/4872 [==============================] - 0s 22us/step - loss: 0.7364 - accuracy: 0.4918 - val_loss: 0.7836 - val_accuracy: 0.4862\n",
      "Epoch 19/42\n",
      "4872/4872 [==============================] - 0s 22us/step - loss: 0.7264 - accuracy: 0.4930 - val_loss: 0.7765 - val_accuracy: 0.4880\n",
      "Epoch 20/42\n",
      "4872/4872 [==============================] - 0s 22us/step - loss: 0.7166 - accuracy: 0.4908 - val_loss: 0.7634 - val_accuracy: 0.4855\n",
      "Epoch 21/42\n",
      "4872/4872 [==============================] - 0s 22us/step - loss: 0.7073 - accuracy: 0.4889 - val_loss: 0.7567 - val_accuracy: 0.4948\n",
      "Epoch 22/42\n",
      "4872/4872 [==============================] - 0s 22us/step - loss: 0.6999 - accuracy: 0.4943 - val_loss: 0.7545 - val_accuracy: 0.4886\n",
      "Epoch 23/42\n",
      "4872/4872 [==============================] - 0s 22us/step - loss: 0.6922 - accuracy: 0.4901 - val_loss: 0.7462 - val_accuracy: 0.4911\n",
      "Epoch 24/42\n",
      "4872/4872 [==============================] - 0s 22us/step - loss: 0.6864 - accuracy: 0.4928 - val_loss: 0.7421 - val_accuracy: 0.4923\n",
      "Epoch 25/42\n",
      "4872/4872 [==============================] - 0s 22us/step - loss: 0.6793 - accuracy: 0.4943 - val_loss: 0.7299 - val_accuracy: 0.4849\n",
      "Epoch 26/42\n",
      "4872/4872 [==============================] - 0s 23us/step - loss: 0.6751 - accuracy: 0.4922 - val_loss: 0.7321 - val_accuracy: 0.4948\n",
      "Epoch 27/42\n",
      "4872/4872 [==============================] - 0s 25us/step - loss: 0.6711 - accuracy: 0.4990 - val_loss: 0.7249 - val_accuracy: 0.4972\n",
      "Epoch 28/42\n",
      "4872/4872 [==============================] - 0s 22us/step - loss: 0.6673 - accuracy: 0.4990 - val_loss: 0.7221 - val_accuracy: 0.4837\n",
      "Epoch 29/42\n",
      "4872/4872 [==============================] - 0s 22us/step - loss: 0.6621 - accuracy: 0.4945 - val_loss: 0.7176 - val_accuracy: 0.4837\n",
      "Epoch 30/42\n",
      "4872/4872 [==============================] - 0s 22us/step - loss: 0.6589 - accuracy: 0.4988 - val_loss: 0.7141 - val_accuracy: 0.4886\n",
      "Epoch 31/42\n",
      "4872/4872 [==============================] - 0s 22us/step - loss: 0.6571 - accuracy: 0.5004 - val_loss: 0.7069 - val_accuracy: 0.4843\n",
      "Epoch 32/42\n",
      "4872/4872 [==============================] - 0s 22us/step - loss: 0.6531 - accuracy: 0.5008 - val_loss: 0.7066 - val_accuracy: 0.4911\n",
      "Epoch 33/42\n",
      "4872/4872 [==============================] - 0s 22us/step - loss: 0.6529 - accuracy: 0.4992 - val_loss: 0.7032 - val_accuracy: 0.4886\n",
      "Epoch 34/42\n",
      "4872/4872 [==============================] - 0s 21us/step - loss: 0.6485 - accuracy: 0.4955 - val_loss: 0.7005 - val_accuracy: 0.4880\n",
      "Epoch 35/42\n",
      "4872/4872 [==============================] - 0s 22us/step - loss: 0.6482 - accuracy: 0.4992 - val_loss: 0.6964 - val_accuracy: 0.4929\n",
      "Epoch 36/42\n",
      "4872/4872 [==============================] - 0s 23us/step - loss: 0.6454 - accuracy: 0.5023 - val_loss: 0.6922 - val_accuracy: 0.4892\n",
      "Epoch 37/42\n",
      "4872/4872 [==============================] - 0s 21us/step - loss: 0.6425 - accuracy: 0.5000 - val_loss: 0.6942 - val_accuracy: 0.4898\n",
      "Epoch 38/42\n",
      "4872/4872 [==============================] - 0s 22us/step - loss: 0.6419 - accuracy: 0.4986 - val_loss: 0.6933 - val_accuracy: 0.4837\n",
      "Epoch 39/42\n",
      "4872/4872 [==============================] - 0s 21us/step - loss: 0.6412 - accuracy: 0.5018 - val_loss: 0.6908 - val_accuracy: 0.4862\n",
      "Epoch 40/42\n",
      "4872/4872 [==============================] - 0s 21us/step - loss: 0.6374 - accuracy: 0.4984 - val_loss: 0.6876 - val_accuracy: 0.4892\n",
      "Epoch 41/42\n",
      "4872/4872 [==============================] - 0s 21us/step - loss: 0.6371 - accuracy: 0.5010 - val_loss: 0.6875 - val_accuracy: 0.4874\n",
      "Epoch 42/42\n",
      "4872/4872 [==============================] - 0s 22us/step - loss: 0.6350 - accuracy: 0.4953 - val_loss: 0.6824 - val_accuracy: 0.4880\n"
     ]
    }
   ],
   "source": [
    "model_r = Sequential()\n",
    "\n",
    "n_input = X_train_s.shape[1]\n",
    "\n",
    "model_r.add(Dense(n_input, activation='relu',\n",
    "                 kernel_regularizer=regularizers.l2(0.01))) #define regularization parameter \n",
    "model_r.add(Dense(1,\n",
    "                 kernel_regularizer=regularizers.l2(0.01)))\n",
    "\n",
    "model_r.compile(optimizer='adam', loss='mean_squared_error', metrics=['accuracy'])\n",
    "\n",
    "history_r = model_r.fit(X_train_s, np.array(y_train),\n",
    "                        validation_data=(X_test_s, np.array(y_test)),\n",
    "                       epochs=42, batch_size=None)"
   ]
  },
  {
   "cell_type": "code",
   "execution_count": 15,
   "metadata": {
    "ExecuteTime": {
     "end_time": "2020-12-15T20:23:17.139173Z",
     "start_time": "2020-12-15T20:23:17.038835Z"
    }
   },
   "outputs": [
    {
     "name": "stdout",
     "output_type": "stream",
     "text": [
      "dict_keys(['val_loss', 'val_accuracy', 'loss', 'accuracy'])\n"
     ]
    },
    {
     "data": {
      "image/png": "[encoded data removed]",
      "text/plain": [
       "<Figure size 432x288 with 1 Axes>"
      ]
     },
     "metadata": {
      "needs_background": "light"
     },
     "output_type": "display_data"
    }
   ],
   "source": [
    "#plt.plot(history_r.history['loss'], label='Training loss')\n",
    "#plt.plot(history_r.history['val_loss'], label='Testing loss')\n",
    "#plt.legend();\n",
    "\n",
    "print(history_r.history.keys())\n",
    "plt.plot(history_r.history['accuracy'])\n",
    "plt.plot(history_r.history['val_accuracy'])\n",
    "plt.title('model accuracy')\n",
    "plt.ylabel('accuracy')\n",
    "plt.xlabel('epoch')\n",
    "plt.legend(['train', 'test'], loc='upper left')\n",
    "plt.show()"
   ]
  },
  {
   "cell_type": "markdown",
   "metadata": {},
   "source": [
    "### Examining Our Predictions"
   ]
  },
  {
   "cell_type": "code",
   "execution_count": 16,
   "metadata": {
    "ExecuteTime": {
     "end_time": "2020-12-15T20:23:17.156384Z",
     "start_time": "2020-12-15T20:23:17.140828Z"
    }
   },
   "outputs": [
    {
     "data": {
      "text/plain": [
       "array([[5.56],\n",
       "       [5.51],\n",
       "       [4.99],\n",
       "       [5.78],\n",
       "       [4.97],\n",
       "       [5.8 ],\n",
       "       [5.58],\n",
       "       [5.03],\n",
       "       [5.53],\n",
       "       [5.93]], dtype=float32)"
      ]
     },
     "execution_count": 16,
     "metadata": {},
     "output_type": "execute_result"
    }
   ],
   "source": [
    "model_r.predict(X_test_s[:10]).round(2)"
   ]
  },
  {
   "cell_type": "code",
   "execution_count": 17,
   "metadata": {
    "ExecuteTime": {
     "end_time": "2020-12-15T20:23:17.161296Z",
     "start_time": "2020-12-15T20:23:17.157606Z"
    }
   },
   "outputs": [
    {
     "data": {
      "text/plain": [
       "930     5\n",
       "143     5\n",
       "1037    5\n",
       "4212    5\n",
       "1032    5\n",
       "5236    7\n",
       "4651    7\n",
       "4       5\n",
       "1091    6\n",
       "1536    6\n",
       "Name: quality, dtype: int64"
      ]
     },
     "execution_count": 17,
     "metadata": {},
     "output_type": "execute_result"
    }
   ],
   "source": [
    "y_test[:10]"
   ]
  },
  {
   "cell_type": "code",
   "execution_count": 18,
   "metadata": {
    "ExecuteTime": {
     "end_time": "2020-12-15T20:23:17.184758Z",
     "start_time": "2020-12-15T20:23:17.162624Z"
    }
   },
   "outputs": [
    {
     "data": {
      "text/plain": [
       "array([[5.560858 , 5.5069447, 4.993162 , ..., 6.027299 , 5.303109 ,\n",
       "        6.3079147]], dtype=float32)"
      ]
     },
     "execution_count": 18,
     "metadata": {},
     "output_type": "execute_result"
    }
   ],
   "source": [
    "model_r.predict(X_test_s).T"
   ]
  },
  {
   "cell_type": "code",
   "execution_count": 19,
   "metadata": {
    "ExecuteTime": {
     "end_time": "2020-12-15T20:23:17.202084Z",
     "start_time": "2020-12-15T20:23:17.186097Z"
    }
   },
   "outputs": [
    {
     "data": {
      "text/plain": [
       "array([ 0.56085777,  0.50694466, -0.00683784, ...,  1.02729893,\n",
       "        0.30310917,  0.30791473])"
      ]
     },
     "execution_count": 19,
     "metadata": {},
     "output_type": "execute_result"
    }
   ],
   "source": [
    "(np.array(model_r.predict(X_test_s).T) - np.array(y_test))[0]"
   ]
  },
  {
   "cell_type": "code",
   "execution_count": 20,
   "metadata": {
    "ExecuteTime": {
     "end_time": "2020-12-15T20:23:17.219772Z",
     "start_time": "2020-12-15T20:23:17.203718Z"
    }
   },
   "outputs": [
    {
     "data": {
      "text/plain": [
       "986.0076513290405"
      ]
     },
     "execution_count": 20,
     "metadata": {},
     "output_type": "execute_result"
    }
   ],
   "source": [
    "sum(abs(np.array(model_r.predict(X_test_s).T) - np.array(y_test))[0])"
   ]
  },
  {
   "cell_type": "markdown",
   "metadata": {},
   "source": [
    "## Dropout\n",
    "\n",
    "Here's a new regularization idea: Turn some neurons off during training. We'll assign probabilities of 'dropout' and then let fate decide.\n",
    "So what does dropout do? At every iteration, it randomly selects some nodes and removes them along with all of their incoming and outgoing connections as shown below.\n",
    "![](https://cdn.analyticsvidhya.com/wp-content/uploads/2018/04/Screen-Shot-2018-04-03-at-11.52.06-PM.png)\n",
    "\n",
    "So each iteration has a different set of nodes and this results in a different set of outputs. It can also be thought of as an ensemble technique in machine learning.\n",
    "\n",
    "Ensemble models usually perform better than a single model as they capture more randomness. Similarly, dropout also performs better than a normal neural network model.\n"
   ]
  },
  {
   "cell_type": "code",
   "execution_count": 21,
   "metadata": {
    "ExecuteTime": {
     "end_time": "2020-12-15T20:23:17.223036Z",
     "start_time": "2020-12-15T20:23:17.221120Z"
    }
   },
   "outputs": [],
   "source": [
    "from keras.layers import Dropout"
   ]
  },
  {
   "cell_type": "code",
   "execution_count": 22,
   "metadata": {
    "ExecuteTime": {
     "end_time": "2020-12-15T20:23:22.474144Z",
     "start_time": "2020-12-15T20:23:17.224627Z"
    }
   },
   "outputs": [
    {
     "name": "stdout",
     "output_type": "stream",
     "text": [
      "Train on 4872 samples, validate on 1625 samples\n",
      "Epoch 1/42\n",
      "4872/4872 [==============================] - 0s 59us/step - loss: 30.3152 - val_loss: 22.6822\n",
      "Epoch 2/42\n",
      "4872/4872 [==============================] - 0s 24us/step - loss: 17.0813 - val_loss: 11.6018\n",
      "Epoch 3/42\n",
      "4872/4872 [==============================] - 0s 22us/step - loss: 9.2796 - val_loss: 5.6594\n",
      "Epoch 4/42\n",
      "4872/4872 [==============================] - 0s 22us/step - loss: 5.6885 - val_loss: 3.2587\n",
      "Epoch 5/42\n",
      "4872/4872 [==============================] - 0s 22us/step - loss: 4.2934 - val_loss: 2.4219\n",
      "Epoch 6/42\n",
      "4872/4872 [==============================] - 0s 23us/step - loss: 3.8013 - val_loss: 1.9595\n",
      "Epoch 7/42\n",
      "4872/4872 [==============================] - 0s 22us/step - loss: 3.3262 - val_loss: 1.6585\n",
      "Epoch 8/42\n",
      "4872/4872 [==============================] - 0s 22us/step - loss: 2.8574 - val_loss: 1.4219\n",
      "Epoch 9/42\n",
      "4872/4872 [==============================] - 0s 23us/step - loss: 2.8369 - val_loss: 1.2441\n",
      "Epoch 10/42\n",
      "4872/4872 [==============================] - 0s 22us/step - loss: 2.5684 - val_loss: 1.0921\n",
      "Epoch 11/42\n",
      "4872/4872 [==============================] - 0s 22us/step - loss: 2.2571 - val_loss: 0.9663\n",
      "Epoch 12/42\n",
      "4872/4872 [==============================] - 0s 23us/step - loss: 2.1488 - val_loss: 0.8791\n",
      "Epoch 13/42\n",
      "4872/4872 [==============================] - 0s 22us/step - loss: 2.0386 - val_loss: 0.8272\n",
      "Epoch 14/42\n",
      "4872/4872 [==============================] - 0s 22us/step - loss: 1.9383 - val_loss: 0.7924\n",
      "Epoch 15/42\n",
      "4872/4872 [==============================] - 0s 22us/step - loss: 1.8080 - val_loss: 0.7594\n",
      "Epoch 16/42\n",
      "4872/4872 [==============================] - 0s 23us/step - loss: 1.7978 - val_loss: 0.7327\n",
      "Epoch 17/42\n",
      "4872/4872 [==============================] - 0s 22us/step - loss: 1.7340 - val_loss: 0.6957\n",
      "Epoch 18/42\n",
      "4872/4872 [==============================] - 0s 23us/step - loss: 1.6671 - val_loss: 0.6822\n",
      "Epoch 19/42\n",
      "4872/4872 [==============================] - 0s 22us/step - loss: 1.6104 - val_loss: 0.6706\n",
      "Epoch 20/42\n",
      "4872/4872 [==============================] - 0s 23us/step - loss: 1.6136 - val_loss: 0.6598\n",
      "Epoch 21/42\n",
      "4872/4872 [==============================] - 0s 22us/step - loss: 1.5716 - val_loss: 0.6390\n",
      "Epoch 22/42\n",
      "4872/4872 [==============================] - 0s 22us/step - loss: 1.5431 - val_loss: 0.6609\n",
      "Epoch 23/42\n",
      "4872/4872 [==============================] - 0s 22us/step - loss: 1.5082 - val_loss: 0.6459\n",
      "Epoch 24/42\n",
      "4872/4872 [==============================] - 0s 23us/step - loss: 1.4911 - val_loss: 0.6328\n",
      "Epoch 25/42\n",
      "4872/4872 [==============================] - 0s 23us/step - loss: 1.4274 - val_loss: 0.6538\n",
      "Epoch 26/42\n",
      "4872/4872 [==============================] - 0s 22us/step - loss: 1.4380 - val_loss: 0.6613\n",
      "Epoch 27/42\n",
      "4872/4872 [==============================] - 0s 22us/step - loss: 1.4071 - val_loss: 0.6588\n",
      "Epoch 28/42\n",
      "4872/4872 [==============================] - 0s 23us/step - loss: 1.4197 - val_loss: 0.6412\n",
      "Epoch 29/42\n",
      "4872/4872 [==============================] - 0s 22us/step - loss: 1.3796 - val_loss: 0.6309\n",
      "Epoch 30/42\n",
      "4872/4872 [==============================] - 0s 23us/step - loss: 1.3216 - val_loss: 0.6489\n",
      "Epoch 31/42\n",
      "4872/4872 [==============================] - 0s 22us/step - loss: 1.3325 - val_loss: 0.6357\n",
      "Epoch 32/42\n",
      "4872/4872 [==============================] - 0s 23us/step - loss: 1.3144 - val_loss: 0.6416\n",
      "Epoch 33/42\n",
      "4872/4872 [==============================] - 0s 23us/step - loss: 1.2585 - val_loss: 0.6357\n",
      "Epoch 34/42\n",
      "4872/4872 [==============================] - 0s 23us/step - loss: 1.2587 - val_loss: 0.6285\n",
      "Epoch 35/42\n",
      "4872/4872 [==============================] - 0s 22us/step - loss: 1.2148 - val_loss: 0.6412\n",
      "Epoch 36/42\n",
      "4872/4872 [==============================] - 0s 22us/step - loss: 1.1942 - val_loss: 0.6352\n",
      "Epoch 37/42\n",
      "4872/4872 [==============================] - 0s 23us/step - loss: 1.1954 - val_loss: 0.6391\n",
      "Epoch 38/42\n",
      "4872/4872 [==============================] - 0s 22us/step - loss: 1.1875 - val_loss: 0.6330\n",
      "Epoch 39/42\n",
      "4872/4872 [==============================] - 0s 22us/step - loss: 1.1470 - val_loss: 0.6410\n",
      "Epoch 40/42\n",
      "4872/4872 [==============================] - 0s 22us/step - loss: 1.1329 - val_loss: 0.6315\n",
      "Epoch 41/42\n",
      "4872/4872 [==============================] - 0s 23us/step - loss: 1.1019 - val_loss: 0.6374\n",
      "Epoch 42/42\n",
      "4872/4872 [==============================] - 0s 27us/step - loss: 1.1561 - val_loss: 0.6286\n"
     ]
    }
   ],
   "source": [
    "model_d = Sequential()\n",
    "\n",
    "n_input = X_train_s.shape[1]\n",
    "\n",
    "model_d.add(Dense(n_input, activation='relu'))\n",
    "model_d.add(Dropout(0.2)) #probability of how many nodes to be dropped\n",
    "model_d.add(Dense(1))\n",
    "\n",
    "model_d.compile(optimizer='adam', loss='mean_squared_error')\n",
    "\n",
    "history_d = model_d.fit(X_train_s, np.array(y_train),\n",
    "                        validation_data=(X_test_s, np.array(y_test)),\n",
    "                        epochs=42, batch_size=None)"
   ]
  },
  {
   "cell_type": "code",
   "execution_count": 23,
   "metadata": {
    "ExecuteTime": {
     "end_time": "2020-12-15T20:23:22.592245Z",
     "start_time": "2020-12-15T20:23:22.478380Z"
    }
   },
   "outputs": [
    {
     "data": {
      "image/png": "[encoded data removed]",
      "text/plain": [
       "<Figure size 432x288 with 1 Axes>"
      ]
     },
     "metadata": {
      "needs_background": "light"
     },
     "output_type": "display_data"
    }
   ],
   "source": [
    "plt.plot(history_d.history['loss'], label='Training loss')\n",
    "plt.plot(history_d.history['val_loss'], label='Testing loss')\n",
    "plt.legend();"
   ]
  },
  {
   "cell_type": "code",
   "execution_count": 24,
   "metadata": {
    "ExecuteTime": {
     "end_time": "2020-12-15T20:23:22.647907Z",
     "start_time": "2020-12-15T20:23:22.594563Z"
    }
   },
   "outputs": [
    {
     "data": {
      "text/plain": [
       "1003.7761964797974"
      ]
     },
     "execution_count": 24,
     "metadata": {},
     "output_type": "execute_result"
    }
   ],
   "source": [
    "sum(abs(np.array(model_d.predict(X_test_s).T) - np.array(y_test))[0])"
   ]
  },
  {
   "cell_type": "markdown",
   "metadata": {},
   "source": [
    "## Early Stopping\n",
    "\n",
    "Another idea is to try to terminate the training process early, even before some pre-specified number of epochs.\n",
    "Early stopping is a kind of cross-validation strategy where we keep one part of the training set as the validation set. When we see that the performance on the validation set is getting worse, we immediately stop the training on the model.\n",
    "\n",
    "![](https://cdn.analyticsvidhya.com/wp-content/uploads/2018/04/Screen-Shot-2018-04-04-at-12.31.56-AM.png)\n",
    "\n",
    "We stop training at the dotted line becasue thats when the network begins to overfit on the training data \n"
   ]
  },
  {
   "cell_type": "code",
   "execution_count": 25,
   "metadata": {
    "ExecuteTime": {
     "end_time": "2020-12-15T20:23:22.651333Z",
     "start_time": "2020-12-15T20:23:22.649395Z"
    }
   },
   "outputs": [],
   "source": [
    "from keras.callbacks import EarlyStopping"
   ]
  },
  {
   "cell_type": "code",
   "execution_count": 26,
   "metadata": {
    "ExecuteTime": {
     "end_time": "2020-12-15T20:23:25.519036Z",
     "start_time": "2020-12-15T20:23:22.653007Z"
    }
   },
   "outputs": [
    {
     "name": "stdout",
     "output_type": "stream",
     "text": [
      "Train on 4872 samples, validate on 1625 samples\n",
      "Epoch 1/40\n",
      "4872/4872 [==============================] - 0s 47us/step - loss: 25.3597 - val_loss: 19.0110\n",
      "Epoch 2/40\n",
      "4872/4872 [==============================] - 0s 21us/step - loss: 13.9790 - val_loss: 9.7294\n",
      "Epoch 3/40\n",
      "4872/4872 [==============================] - 0s 20us/step - loss: 6.8927 - val_loss: 4.8292\n",
      "Epoch 4/40\n",
      "4872/4872 [==============================] - 0s 21us/step - loss: 3.8005 - val_loss: 2.9997\n",
      "Epoch 5/40\n",
      "4872/4872 [==============================] - 0s 21us/step - loss: 2.5748 - val_loss: 2.1389\n",
      "Epoch 6/40\n",
      "4872/4872 [==============================] - 0s 21us/step - loss: 1.9062 - val_loss: 1.6185\n",
      "Epoch 7/40\n",
      "4872/4872 [==============================] - 0s 21us/step - loss: 1.4915 - val_loss: 1.3018\n",
      "Epoch 8/40\n",
      "4872/4872 [==============================] - 0s 21us/step - loss: 1.2268 - val_loss: 1.0882\n",
      "Epoch 9/40\n",
      "4872/4872 [==============================] - 0s 21us/step - loss: 1.0459 - val_loss: 0.9543\n",
      "Epoch 10/40\n",
      "4872/4872 [==============================] - 0s 21us/step - loss: 0.9117 - val_loss: 0.8549\n",
      "Epoch 11/40\n",
      "4872/4872 [==============================] - 0s 21us/step - loss: 0.8252 - val_loss: 0.7943\n",
      "Epoch 12/40\n",
      "4872/4872 [==============================] - 0s 21us/step - loss: 0.7645 - val_loss: 0.7523\n",
      "Epoch 13/40\n",
      "4872/4872 [==============================] - 0s 20us/step - loss: 0.7191 - val_loss: 0.7183\n",
      "Epoch 14/40\n",
      "4872/4872 [==============================] - 0s 21us/step - loss: 0.6867 - val_loss: 0.6965\n",
      "Epoch 15/40\n",
      "4872/4872 [==============================] - 0s 20us/step - loss: 0.6641 - val_loss: 0.6828\n",
      "Epoch 16/40\n",
      "4872/4872 [==============================] - 0s 20us/step - loss: 0.6464 - val_loss: 0.6725\n",
      "Epoch 17/40\n",
      "4872/4872 [==============================] - 0s 20us/step - loss: 0.6325 - val_loss: 0.6591\n",
      "Epoch 18/40\n",
      "4872/4872 [==============================] - 0s 21us/step - loss: 0.6212 - val_loss: 0.6524\n",
      "Epoch 19/40\n",
      "4872/4872 [==============================] - 0s 20us/step - loss: 0.6144 - val_loss: 0.6480\n",
      "Epoch 20/40\n",
      "4872/4872 [==============================] - 0s 20us/step - loss: 0.6062 - val_loss: 0.6466\n",
      "Epoch 21/40\n",
      "4872/4872 [==============================] - 0s 20us/step - loss: 0.6010 - val_loss: 0.6449\n",
      "Epoch 22/40\n",
      "4872/4872 [==============================] - 0s 20us/step - loss: 0.5956 - val_loss: 0.6397\n",
      "Epoch 23/40\n",
      "4872/4872 [==============================] - 0s 20us/step - loss: 0.5913 - val_loss: 0.6315\n",
      "Epoch 24/40\n",
      "4872/4872 [==============================] - 0s 23us/step - loss: 0.5878 - val_loss: 0.6360\n",
      "Epoch 00024: early stopping\n"
     ]
    }
   ],
   "source": [
    "model_es = Sequential()\n",
    "\n",
    "n_input = X_train_s.shape[1]\n",
    "n_hidden = n_input\n",
    "\n",
    "model_es.add(Dense(n_hidden, input_dim=n_input, activation='relu'))\n",
    "model_es.add(Dense(1))\n",
    "\n",
    "model_es.compile(optimizer='adam', loss='mean_squared_error')\n",
    "\n",
    "early_stop = EarlyStopping(monitor='val_loss', min_delta=1e-08, patience=0, verbose=1,\n",
    "                           mode='auto')\n",
    "\n",
    "callbacks_list = [early_stop]\n",
    "\n",
    "history_es = model_es.fit(X_train_s, np.array(y_train),\n",
    "                          validation_data=(X_test_s, np.array(y_test)),\n",
    "                         epochs=40, batch_size=None, callbacks=callbacks_list)"
   ]
  },
  {
   "cell_type": "code",
   "execution_count": 27,
   "metadata": {
    "ExecuteTime": {
     "end_time": "2020-12-15T20:23:25.631502Z",
     "start_time": "2020-12-15T20:23:25.520499Z"
    }
   },
   "outputs": [
    {
     "data": {
      "image/png": "[encoded data removed]",
      "text/plain": [
       "<Figure size 432x288 with 1 Axes>"
      ]
     },
     "metadata": {
      "needs_background": "light"
     },
     "output_type": "display_data"
    }
   ],
   "source": [
    "plt.plot(history_es.history['loss'], label='Training loss')\n",
    "plt.plot(history_es.history['val_loss'], label='Testing loss')\n",
    "plt.legend();"
   ]
  },
  {
   "cell_type": "code",
   "execution_count": 28,
   "metadata": {
    "ExecuteTime": {
     "end_time": "2020-12-15T20:23:25.666041Z",
     "start_time": "2020-12-15T20:23:25.633160Z"
    }
   },
   "outputs": [
    {
     "data": {
      "text/plain": [
       "1010.1317129135132"
      ]
     },
     "execution_count": 28,
     "metadata": {},
     "output_type": "execute_result"
    }
   ],
   "source": [
    "sum(abs(np.array(model_es.predict(X_test_s).T) - np.array(y_test))[0])"
   ]
  },
  {
   "cell_type": "markdown",
   "metadata": {},
   "source": [
    "## Exercise\n",
    "\n",
    "Build your own network *with some sort of regularization built in* to predict digits using sklearn's `load_digits` dataset!\n",
    "\n",
    "The imports you need are in the next cell.\n",
    "\n",
    "Here are a couple hints and leading questions:\n",
    "\n",
    "1. You'll need to use `to_categorical()` on your target. (What does this function do?)\n",
    "2. What should your output layer look like? How many neurons should it have and what should your activation function be there?\n",
    "3. When we compile this network, what loss function should we use?\n",
    "4. When we compile this network, we can add a list of metrics, such as `['acc']`."
   ]
  },
  {
   "cell_type": "code",
   "execution_count": 29,
   "metadata": {
    "ExecuteTime": {
     "end_time": "2020-12-15T20:23:25.689327Z",
     "start_time": "2020-12-15T20:23:25.667672Z"
    }
   },
   "outputs": [],
   "source": [
    "from sklearn.datasets import load_digits\n",
    "from keras.utils import to_categorical"
   ]
  },
  {
   "cell_type": "code",
   "execution_count": 30,
   "metadata": {
    "ExecuteTime": {
     "end_time": "2020-12-15T20:23:25.753886Z",
     "start_time": "2020-12-15T20:23:25.690685Z"
    }
   },
   "outputs": [
    {
     "name": "stdout",
     "output_type": "stream",
     "text": [
      "[[ 0.  0.  5. ...  0.  0.  0.]\n",
      " [ 0.  0.  0. ... 10.  0.  0.]\n",
      " [ 0.  0.  0. ... 16.  9.  0.]\n",
      " ...\n",
      " [ 0.  0.  1. ...  6.  0.  0.]\n",
      " [ 0.  0.  2. ... 12.  0.  0.]\n",
      " [ 0.  0. 10. ... 12.  1.  0.]]\n",
      "[0 1 2 ... 8 9 8]\n",
      ".. _digits_dataset:\n",
      "\n",
      "Optical recognition of handwritten digits dataset\n",
      "--------------------------------------------------\n",
      "\n",
      "**Data Set Characteristics:**\n",
      "\n",
      "    :Number of Instances: 5620\n",
      "    :Number of Attributes: 64\n",
      "    :Attribute Information: 8x8 image of integer pixels in the range 0..16.\n",
      "    :Missing Attribute Values: None\n",
      "    :Creator: E. Alpaydin (alpaydin '@' boun.edu.tr)\n",
      "    :Date: July; 1998\n",
      "\n",
      "This is a copy of the test set of the UCI ML hand-written digits datasets\n",
      "https://archive.ics.uci.edu/ml/datasets/Optical+Recognition+of+Handwritten+Digits\n",
      "\n",
      "The data set contains images of hand-written digits: 10 classes where\n",
      "each class refers to a digit.\n",
      "\n",
      "Preprocessing programs made available by NIST were used to extract\n",
      "normalized bitmaps of handwritten digits from a preprinted form. From a\n",
      "total of 43 people, 30 contributed to the training set and different 13\n",
      "to the test set. 32x32 bitmaps are divided into nonoverlapping blocks of\n",
      "4x4 and the number of on pixels are counted in each block. This generates\n",
      "an input matrix of 8x8 where each element is an integer in the range\n",
      "0..16. This reduces dimensionality and gives invariance to small\n",
      "distortions.\n",
      "\n",
      "For info on NIST preprocessing routines, see M. D. Garris, J. L. Blue, G.\n",
      "T. Candela, D. L. Dimmick, J. Geist, P. J. Grother, S. A. Janet, and C.\n",
      "L. Wilson, NIST Form-Based Handprint Recognition System, NISTIR 5469,\n",
      "1994.\n",
      "\n",
      ".. topic:: References\n",
      "\n",
      "  - C. Kaynak (1995) Methods of Combining Multiple Classifiers and Their\n",
      "    Applications to Handwritten Digit Recognition, MSc Thesis, Institute of\n",
      "    Graduate Studies in Science and Engineering, Bogazici University.\n",
      "  - E. Alpaydin, C. Kaynak (1998) Cascading Classifiers, Kybernetika.\n",
      "  - Ken Tang and Ponnuthurai N. Suganthan and Xi Yao and A. Kai Qin.\n",
      "    Linear dimensionalityreduction using relevance weighted LDA. School of\n",
      "    Electrical and Electronic Engineering Nanyang Technological University.\n",
      "    2005.\n",
      "  - Claudio Gentile. A New Approximate Maximal Margin Classification\n",
      "    Algorithm. NIPS. 2000.\n"
     ]
    }
   ],
   "source": [
    "data = load_digits()\n",
    "print(data.data)\n",
    "print(data.target)\n",
    "print(data.DESCR)"
   ]
  },
  {
   "cell_type": "code",
   "execution_count": 31,
   "metadata": {
    "ExecuteTime": {
     "end_time": "2020-12-15T20:23:25.850741Z",
     "start_time": "2020-12-15T20:23:25.755291Z"
    }
   },
   "outputs": [
    {
     "data": {
      "image/png": "[encoded data removed]",
      "text/plain": [
       "<Figure size 288x288 with 1 Axes>"
      ]
     },
     "metadata": {
      "needs_background": "light"
     },
     "output_type": "display_data"
    }
   ],
   "source": [
    "plt.matshow(data.images[0]);"
   ]
  },
  {
   "cell_type": "code",
   "execution_count": null,
   "metadata": {},
   "outputs": [],
   "source": []
  }
 ],
 "metadata": {
  "kernelspec": {
   "display_name": "learn-env",
   "language": "python",
   "name": "learn-env"
  },
  "language_info": {
   "codemirror_mode": {
    "name": "ipython",
    "version": 3
   },
   "file_extension": ".py",
   "mimetype": "text/x-python",
   "name": "python",
   "nbconvert_exporter": "python",
   "pygments_lexer": "ipython3",
   "version": "3.6.6"
  },
  "toc": {
   "base_numbering": 1,
   "nav_menu": {},
   "number_sections": true,
   "sideBar": true,
   "skip_h1_title": true,
   "title_cell": "Table of Contents",
   "title_sidebar": "Contents",
   "toc_cell": false,
   "toc_position": {},
   "toc_section_display": true,
   "toc_window_display": false
  }
 },
 "nbformat": 4,
 "nbformat_minor": 2
}
