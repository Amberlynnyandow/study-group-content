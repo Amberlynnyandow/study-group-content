{
 "cells": [
  {
   "cell_type": "markdown",
   "metadata": {},
   "source": [
    "# Let's Build & Regularize a Network with Keras \n",
    "\n",
    "![](https://qph.fs.quoracdn.net/main-qimg-d7f6c824d566e3f626fea25d01d39d13)\n",
    "\n",
    "Keras, a neural network API, is now fully integrated within TensorFlow. What does that mean?\n",
    "It means you have a choice between using the high-level Keras API, or the low-level TensorFlow API. High-level APIs provide more functionality within a single command and are easier to use (in comparison with low-level APIs), which makes them usable even for non-tech people. The low-level APIs allow the advanced programmer to manipulate functions within a module at a very granular level, thus allowing custom implementation for novel solutions."
   ]
  },
  {
   "cell_type": "code",
   "execution_count": 1,
   "metadata": {
    "ExecuteTime": {
     "end_time": "2021-03-17T23:22:58.532055Z",
     "start_time": "2021-03-17T23:22:54.336449Z"
    }
   },
   "outputs": [
    {
     "name": "stderr",
     "output_type": "stream",
     "text": [
      "Using TensorFlow backend.\n"
     ]
    }
   ],
   "source": [
    "import numpy as np\n",
    "import pandas as pd\n",
    "from sklearn.model_selection import train_test_split\n",
    "from sklearn.preprocessing import StandardScaler\n",
    "from keras.models import Sequential\n",
    "from keras.layers import Dense\n",
    "from matplotlib import pyplot as plt\n",
    "%matplotlib inline"
   ]
  },
  {
   "cell_type": "code",
   "execution_count": 2,
   "metadata": {
    "ExecuteTime": {
     "end_time": "2021-03-17T23:22:58.571967Z",
     "start_time": "2021-03-17T23:22:58.534609Z"
    }
   },
   "outputs": [
    {
     "data": {
      "text/html": [
       "<div>\n",
       "<style scoped>\n",
       "    .dataframe tbody tr th:only-of-type {\n",
       "        vertical-align: middle;\n",
       "    }\n",
       "\n",
       "    .dataframe tbody tr th {\n",
       "        vertical-align: top;\n",
       "    }\n",
       "\n",
       "    .dataframe thead th {\n",
       "        text-align: right;\n",
       "    }\n",
       "</style>\n",
       "<table border=\"1\" class=\"dataframe\">\n",
       "  <thead>\n",
       "    <tr style=\"text-align: right;\">\n",
       "      <th></th>\n",
       "      <th>fixed acidity</th>\n",
       "      <th>volatile acidity</th>\n",
       "      <th>citric acid</th>\n",
       "      <th>residual sugar</th>\n",
       "      <th>chlorides</th>\n",
       "      <th>free sulfur dioxide</th>\n",
       "      <th>total sulfur dioxide</th>\n",
       "      <th>density</th>\n",
       "      <th>pH</th>\n",
       "      <th>sulphates</th>\n",
       "      <th>alcohol</th>\n",
       "      <th>quality</th>\n",
       "      <th>red_wine</th>\n",
       "    </tr>\n",
       "  </thead>\n",
       "  <tbody>\n",
       "    <tr>\n",
       "      <th>0</th>\n",
       "      <td>7.4</td>\n",
       "      <td>0.70</td>\n",
       "      <td>0.00</td>\n",
       "      <td>1.9</td>\n",
       "      <td>0.076</td>\n",
       "      <td>11.0</td>\n",
       "      <td>34.0</td>\n",
       "      <td>0.9978</td>\n",
       "      <td>3.51</td>\n",
       "      <td>0.56</td>\n",
       "      <td>9.4</td>\n",
       "      <td>5</td>\n",
       "      <td>1</td>\n",
       "    </tr>\n",
       "    <tr>\n",
       "      <th>1</th>\n",
       "      <td>7.8</td>\n",
       "      <td>0.88</td>\n",
       "      <td>0.00</td>\n",
       "      <td>2.6</td>\n",
       "      <td>0.098</td>\n",
       "      <td>25.0</td>\n",
       "      <td>67.0</td>\n",
       "      <td>0.9968</td>\n",
       "      <td>3.20</td>\n",
       "      <td>0.68</td>\n",
       "      <td>9.8</td>\n",
       "      <td>5</td>\n",
       "      <td>1</td>\n",
       "    </tr>\n",
       "    <tr>\n",
       "      <th>2</th>\n",
       "      <td>7.8</td>\n",
       "      <td>0.76</td>\n",
       "      <td>0.04</td>\n",
       "      <td>2.3</td>\n",
       "      <td>0.092</td>\n",
       "      <td>15.0</td>\n",
       "      <td>54.0</td>\n",
       "      <td>0.9970</td>\n",
       "      <td>3.26</td>\n",
       "      <td>0.65</td>\n",
       "      <td>9.8</td>\n",
       "      <td>5</td>\n",
       "      <td>1</td>\n",
       "    </tr>\n",
       "    <tr>\n",
       "      <th>3</th>\n",
       "      <td>11.2</td>\n",
       "      <td>0.28</td>\n",
       "      <td>0.56</td>\n",
       "      <td>1.9</td>\n",
       "      <td>0.075</td>\n",
       "      <td>17.0</td>\n",
       "      <td>60.0</td>\n",
       "      <td>0.9980</td>\n",
       "      <td>3.16</td>\n",
       "      <td>0.58</td>\n",
       "      <td>9.8</td>\n",
       "      <td>6</td>\n",
       "      <td>1</td>\n",
       "    </tr>\n",
       "    <tr>\n",
       "      <th>4</th>\n",
       "      <td>7.4</td>\n",
       "      <td>0.70</td>\n",
       "      <td>0.00</td>\n",
       "      <td>1.9</td>\n",
       "      <td>0.076</td>\n",
       "      <td>11.0</td>\n",
       "      <td>34.0</td>\n",
       "      <td>0.9978</td>\n",
       "      <td>3.51</td>\n",
       "      <td>0.56</td>\n",
       "      <td>9.4</td>\n",
       "      <td>5</td>\n",
       "      <td>1</td>\n",
       "    </tr>\n",
       "  </tbody>\n",
       "</table>\n",
       "</div>"
      ],
      "text/plain": [
       "   fixed acidity  volatile acidity  citric acid  residual sugar  chlorides  \\\n",
       "0            7.4              0.70         0.00             1.9      0.076   \n",
       "1            7.8              0.88         0.00             2.6      0.098   \n",
       "2            7.8              0.76         0.04             2.3      0.092   \n",
       "3           11.2              0.28         0.56             1.9      0.075   \n",
       "4            7.4              0.70         0.00             1.9      0.076   \n",
       "\n",
       "   free sulfur dioxide  total sulfur dioxide  density    pH  sulphates  \\\n",
       "0                 11.0                  34.0   0.9978  3.51       0.56   \n",
       "1                 25.0                  67.0   0.9968  3.20       0.68   \n",
       "2                 15.0                  54.0   0.9970  3.26       0.65   \n",
       "3                 17.0                  60.0   0.9980  3.16       0.58   \n",
       "4                 11.0                  34.0   0.9978  3.51       0.56   \n",
       "\n",
       "   alcohol  quality  red_wine  \n",
       "0      9.4        5         1  \n",
       "1      9.8        5         1  \n",
       "2      9.8        5         1  \n",
       "3      9.8        6         1  \n",
       "4      9.4        5         1  "
      ]
     },
     "execution_count": 2,
     "metadata": {},
     "output_type": "execute_result"
    }
   ],
   "source": [
    "wine = pd.read_csv('wine.csv')\n",
    "wine.head()"
   ]
  },
  {
   "cell_type": "code",
   "execution_count": 3,
   "metadata": {
    "ExecuteTime": {
     "end_time": "2021-03-17T23:22:58.580234Z",
     "start_time": "2021-03-17T23:22:58.575763Z"
    }
   },
   "outputs": [],
   "source": [
    "X = wine.drop('quality', axis=1)\n",
    "y = wine.quality"
   ]
  },
  {
   "cell_type": "code",
   "execution_count": 4,
   "metadata": {
    "ExecuteTime": {
     "end_time": "2021-03-17T23:22:58.587902Z",
     "start_time": "2021-03-17T23:22:58.582334Z"
    }
   },
   "outputs": [
    {
     "data": {
      "text/plain": [
       "6    2836\n",
       "5    2138\n",
       "7    1079\n",
       "4     216\n",
       "8     193\n",
       "3      30\n",
       "9       5\n",
       "Name: quality, dtype: int64"
      ]
     },
     "execution_count": 4,
     "metadata": {},
     "output_type": "execute_result"
    }
   ],
   "source": [
    "wine['quality'].value_counts()"
   ]
  },
  {
   "cell_type": "code",
   "execution_count": 5,
   "metadata": {
    "ExecuteTime": {
     "end_time": "2021-03-17T23:22:58.610758Z",
     "start_time": "2021-03-17T23:22:58.589294Z"
    }
   },
   "outputs": [],
   "source": [
    "X_train, X_test, y_train, y_test = train_test_split(X, y,\n",
    "                                                    random_state=11, stratify=y)\n",
    "ss = StandardScaler()\n",
    "X_train_s = ss.fit_transform(X_train).astype(np.int32) #why 2 seperate lines of code here? \n",
    "X_test_s = ss.transform(X_test).astype(np.int32)"
   ]
  },
  {
   "cell_type": "markdown",
   "metadata": {},
   "source": [
    "Remember that we’ll use our data to train our model, so we’ll want our StandardScaler object to register and proceed with the Mean and Standard Deviation of our train set and transform our test group using it. fit_transform() is used on the training data so that we can scale the training data and also learn the scaling parameters of that data. Here, the model built by us will learn the mean and variance of the features of the training set. These learned parameters are then used to scale our test data. The fit method is calculating the mean and variance of each of the features present in our data. The transform method is transforming all the features using the respective mean and variance.\n",
    "\n",
    "The ‘stratify’ parameter comes into handy so that the proportion of values in the sample produced in our test group will be the same as the proportion of values provided to parameter stratify. This results especially useful when working around classification problems, since if we don’t provide this parameter with an array-like object, we may end with a non-representative distribution of our target classes in our test group"
   ]
  },
  {
   "cell_type": "markdown",
   "metadata": {},
   "source": [
    "## Building a Network\n",
    "\n",
    "**Sequential** - We start by instantiating a Sequential model, which represents a linear stack of layers. The Sequential constructor takes an array of Keras Layers. Since we’re just building a standard feedforward network, we only need the Dense layer, which is your regular fully-connected (dense) network layer. A dense layer simply means that each neuron receives input from all the neurons in the previous layer.\n",
    "\n",
    "**Input data** - The number of rows in your training data is not part of the input shape of the network because the training process feeds the network one sample per batch\n",
    "\n",
    "**Activation Function** - ![](https://cdn.analyticsvidhya.com/wp-content/uploads/2017/10/17123344/act.png)"
   ]
  },
  {
   "cell_type": "code",
   "execution_count": 6,
   "metadata": {
    "ExecuteTime": {
     "end_time": "2021-03-17T23:22:58.617916Z",
     "start_time": "2021-03-17T23:22:58.613214Z"
    }
   },
   "outputs": [
    {
     "data": {
      "text/plain": [
       "(4872, 12)"
      ]
     },
     "execution_count": 6,
     "metadata": {},
     "output_type": "execute_result"
    }
   ],
   "source": [
    "X_train_s.shape"
   ]
  },
  {
   "cell_type": "code",
   "execution_count": 7,
   "metadata": {
    "ExecuteTime": {
     "end_time": "2021-03-17T23:22:58.641460Z",
     "start_time": "2021-03-17T23:22:58.620972Z"
    }
   },
   "outputs": [],
   "source": [
    "model = Sequential()\n",
    "\n",
    "n_input = X_train_s.shape[1]\n",
    "\n",
    "model.add(Dense(n_input, activation='relu'))\n",
    "model.add(Dense(1))"
   ]
  },
  {
   "cell_type": "markdown",
   "metadata": {},
   "source": [
    "## Compile the Network\n",
    "\n",
    "**Compiling** the model uses the efficient numerical libraries under the covers (the so-called backend) such as Theano or TensorFlow. When compiling, we must specify some additional properties required when training the network. Remember training a network means finding the best set of weights to map inputs to outputs in our dataset. We must specify the **loss function** to use to evaluate a set of weights, the optimizer is used to search through different weights for the network and any optional metrics we would like to collect and report during training. Lets define the **optimizer** as the efficient stochastic gradient descent algorithm “adam“. This is a popular version of gradient descent because it automatically tunes itself and gives good results in a wide range of problems"
   ]
  },
  {
   "cell_type": "code",
   "execution_count": 8,
   "metadata": {
    "ExecuteTime": {
     "end_time": "2021-03-17T23:22:58.656304Z",
     "start_time": "2021-03-17T23:22:58.646219Z"
    }
   },
   "outputs": [],
   "source": [
    "model.compile(optimizer='adam', loss='mean_squared_error', metrics=['accuracy'])"
   ]
  },
  {
   "cell_type": "markdown",
   "metadata": {},
   "source": [
    "## Fit the Keras Network\n",
    "\n",
    "We can train or fit our model on our loaded data by calling the fit() function on the model.\n",
    "\n",
    "Training occurs over epochs and each epoch is split into batches.\n",
    "\n",
    "- Epoch: One pass through all of the rows in the training dataset.<br/>\n",
    "- Batch: One or more samples considered by the model within an epoch before weights are updated.\n",
    "\n",
    "One epoch is comprised of one or more batches, based on the chosen batch size and the model is fit for many epochs."
   ]
  },
  {
   "cell_type": "code",
   "execution_count": 9,
   "metadata": {
    "ExecuteTime": {
     "end_time": "2021-03-17T23:23:04.538841Z",
     "start_time": "2021-03-17T23:22:58.659493Z"
    }
   },
   "outputs": [
    {
     "name": "stdout",
     "output_type": "stream",
     "text": [
      "Train on 4872 samples, validate on 1625 samples\n",
      "Epoch 1/30\n",
      "4872/4872 [==============================] - 0s 66us/step - loss: 30.0453 - accuracy: 0.0010 - val_loss: 24.7199 - val_accuracy: 0.0037\n",
      "Epoch 2/30\n",
      "4872/4872 [==============================] - 0s 33us/step - loss: 19.6926 - accuracy: 0.0135 - val_loss: 14.8697 - val_accuracy: 0.0338\n",
      "Epoch 3/30\n",
      "4872/4872 [==============================] - 0s 32us/step - loss: 10.3400 - accuracy: 0.0628 - val_loss: 6.6264 - val_accuracy: 0.1255\n",
      "Epoch 4/30\n",
      "4872/4872 [==============================] - 0s 32us/step - loss: 4.3679 - accuracy: 0.1780 - val_loss: 3.0773 - val_accuracy: 0.2252\n",
      "Epoch 5/30\n",
      "4872/4872 [==============================] - 0s 30us/step - loss: 2.4536 - accuracy: 0.2726 - val_loss: 2.2137 - val_accuracy: 0.2985\n",
      "Epoch 6/30\n",
      "4872/4872 [==============================] - 0s 30us/step - loss: 1.8965 - accuracy: 0.3081 - val_loss: 1.7816 - val_accuracy: 0.3305\n",
      "Epoch 7/30\n",
      "4872/4872 [==============================] - 0s 35us/step - loss: 1.5659 - accuracy: 0.3405 - val_loss: 1.4840 - val_accuracy: 0.3692\n",
      "Epoch 8/30\n",
      "4872/4872 [==============================] - 0s 35us/step - loss: 1.3329 - accuracy: 0.3787 - val_loss: 1.2702 - val_accuracy: 0.3982\n",
      "Epoch 9/30\n",
      "4872/4872 [==============================] - 0s 32us/step - loss: 1.1532 - accuracy: 0.3970 - val_loss: 1.1065 - val_accuracy: 0.4172\n",
      "Epoch 10/30\n",
      "4872/4872 [==============================] - 0s 30us/step - loss: 1.0135 - accuracy: 0.4044 - val_loss: 0.9883 - val_accuracy: 0.4320\n",
      "Epoch 11/30\n",
      "4872/4872 [==============================] - 0s 35us/step - loss: 0.9109 - accuracy: 0.4138 - val_loss: 0.8992 - val_accuracy: 0.4418\n",
      "Epoch 12/30\n",
      "4872/4872 [==============================] - 0s 35us/step - loss: 0.8304 - accuracy: 0.4259 - val_loss: 0.8313 - val_accuracy: 0.4585\n",
      "Epoch 13/30\n",
      "4872/4872 [==============================] - 0s 32us/step - loss: 0.7706 - accuracy: 0.4397 - val_loss: 0.7825 - val_accuracy: 0.4745\n",
      "Epoch 14/30\n",
      "4872/4872 [==============================] - 0s 35us/step - loss: 0.7273 - accuracy: 0.4612 - val_loss: 0.7444 - val_accuracy: 0.4874\n",
      "Epoch 15/30\n",
      "4872/4872 [==============================] - 0s 35us/step - loss: 0.6972 - accuracy: 0.4834 - val_loss: 0.7222 - val_accuracy: 0.4880\n",
      "Epoch 16/30\n",
      "4872/4872 [==============================] - 0s 36us/step - loss: 0.6730 - accuracy: 0.4912 - val_loss: 0.7036 - val_accuracy: 0.4874\n",
      "Epoch 17/30\n",
      "4872/4872 [==============================] - 0s 39us/step - loss: 0.6545 - accuracy: 0.4899 - val_loss: 0.6877 - val_accuracy: 0.4818\n",
      "Epoch 18/30\n",
      "4872/4872 [==============================] - 0s 39us/step - loss: 0.6420 - accuracy: 0.4901 - val_loss: 0.6814 - val_accuracy: 0.4775\n",
      "Epoch 19/30\n",
      "4872/4872 [==============================] - 0s 36us/step - loss: 0.6310 - accuracy: 0.4949 - val_loss: 0.6714 - val_accuracy: 0.4911\n",
      "Epoch 20/30\n",
      "4872/4872 [==============================] - 0s 34us/step - loss: 0.6220 - accuracy: 0.4955 - val_loss: 0.6631 - val_accuracy: 0.4892\n",
      "Epoch 21/30\n",
      "4872/4872 [==============================] - 0s 39us/step - loss: 0.6139 - accuracy: 0.4943 - val_loss: 0.6602 - val_accuracy: 0.4843\n",
      "Epoch 22/30\n",
      "4872/4872 [==============================] - 0s 41us/step - loss: 0.6068 - accuracy: 0.4967 - val_loss: 0.6522 - val_accuracy: 0.4898\n",
      "Epoch 23/30\n",
      "4872/4872 [==============================] - ETA: 0s - loss: 0.5978 - accuracy: 0.49 - 0s 41us/step - loss: 0.6012 - accuracy: 0.4953 - val_loss: 0.6503 - val_accuracy: 0.4892\n",
      "Epoch 24/30\n",
      "4872/4872 [==============================] - 0s 39us/step - loss: 0.5958 - accuracy: 0.4955 - val_loss: 0.6426 - val_accuracy: 0.4917\n",
      "Epoch 25/30\n",
      "4872/4872 [==============================] - 0s 37us/step - loss: 0.5911 - accuracy: 0.5004 - val_loss: 0.6421 - val_accuracy: 0.4972\n",
      "Epoch 26/30\n",
      "4872/4872 [==============================] - 0s 36us/step - loss: 0.5871 - accuracy: 0.5021 - val_loss: 0.6372 - val_accuracy: 0.4942\n",
      "Epoch 27/30\n",
      "4872/4872 [==============================] - 0s 37us/step - loss: 0.5847 - accuracy: 0.5018 - val_loss: 0.6358 - val_accuracy: 0.4942\n",
      "Epoch 28/30\n",
      "4872/4872 [==============================] - 0s 39us/step - loss: 0.5810 - accuracy: 0.5033 - val_loss: 0.6383 - val_accuracy: 0.4898\n",
      "Epoch 29/30\n",
      "4872/4872 [==============================] - 0s 33us/step - loss: 0.5793 - accuracy: 0.4988 - val_loss: 0.6367 - val_accuracy: 0.4960\n",
      "Epoch 30/30\n",
      "4872/4872 [==============================] - 0s 34us/step - loss: 0.5763 - accuracy: 0.4992 - val_loss: 0.6364 - val_accuracy: 0.4874\n"
     ]
    }
   ],
   "source": [
    "history = model.fit(X_train_s, np.array(y_train),\n",
    "                    validation_data=(X_test_s, np.array(y_test)),\n",
    "                   epochs=30, batch_size=None)"
   ]
  },
  {
   "cell_type": "code",
   "execution_count": 10,
   "metadata": {
    "ExecuteTime": {
     "end_time": "2021-03-17T23:23:04.546341Z",
     "start_time": "2021-03-17T23:23:04.540507Z"
    }
   },
   "outputs": [
    {
     "name": "stdout",
     "output_type": "stream",
     "text": [
      "[array([[-0.3250939 , -0.09903624,  0.21558145, -0.17635845,  0.10321287,\n",
      "         0.16371593,  0.1186095 , -0.03951772,  0.40096986, -0.18468809,\n",
      "        -0.30288544, -0.1546325 ],\n",
      "       [ 0.10970099, -0.34785253, -0.31967407,  0.10248102,  0.3172117 ,\n",
      "        -0.0644388 ,  0.09793624,  0.5166459 , -0.151551  , -0.00787815,\n",
      "        -0.03659868,  0.16027302],\n",
      "       [ 0.34215143, -0.43448338, -0.38847688,  0.15934224,  0.50670743,\n",
      "         0.26849926, -0.07667372, -0.23138116,  0.31531757,  0.41268033,\n",
      "         0.4590392 ,  0.1324885 ],\n",
      "       [-0.29198095,  0.02525117,  0.45621434, -0.1092868 , -0.05500028,\n",
      "        -0.00535137, -0.377764  ,  0.401419  , -0.0520162 ,  0.3401823 ,\n",
      "        -0.00206359, -0.20024544],\n",
      "       [-0.36878604,  0.02995628,  0.14929226,  0.09180104, -0.20635061,\n",
      "        -0.58113354,  0.2791452 ,  0.07463899,  0.01884113, -0.08335418,\n",
      "        -0.03472344, -0.09868296],\n",
      "       [-0.45587355, -0.2105173 ,  0.2524062 ,  0.28344545,  0.06389812,\n",
      "         0.03911204, -0.13989347, -0.03873837, -0.08645795,  0.1585755 ,\n",
      "         0.06480274, -0.12482214],\n",
      "       [-0.37828356,  0.27467278,  0.19102329,  0.08549846, -0.44520304,\n",
      "        -0.00857645, -0.04813189, -0.6517287 , -0.06005617,  0.11546647,\n",
      "        -0.59526825,  0.12151007],\n",
      "       [-0.06132749, -0.22549346,  0.30270833, -0.6974847 ,  0.55689085,\n",
      "        -0.16574495,  0.66526717,  0.302578  , -0.01122902,  0.35250336,\n",
      "        -0.25427663,  0.49874392],\n",
      "       [ 0.27485976, -0.49565086,  0.0498731 ,  0.31862533,  0.2541695 ,\n",
      "         0.35426632, -0.03134302,  0.01758292,  0.25361973,  0.14965919,\n",
      "         0.14586091, -0.16053113],\n",
      "       [-0.32062778, -0.16644558,  0.02652251, -0.23820561, -0.03986892,\n",
      "         0.08540846,  0.34359103, -0.35562405, -0.10502632,  0.28190622,\n",
      "         0.3190843 ,  0.34044448],\n",
      "       [-0.2492248 ,  0.04644194,  0.03238367,  0.12161934, -0.02329806,\n",
      "         0.65304947, -0.0496734 , -0.1794546 , -0.16841643,  0.23977505,\n",
      "         0.44042605, -0.33826086],\n",
      "       [ 0.25851396, -0.1910525 ,  0.5339182 , -0.60231996, -0.45668006,\n",
      "        -0.4529515 , -0.22217892, -0.22588675, -0.16997886,  0.02320117,\n",
      "        -0.16043906,  0.61948997]], dtype=float32), array([-0.09763327,  1.2598044 ,  0.8353301 ,  0.9760461 , -0.25395438,\n",
      "        0.90915966, -0.3750871 ,  1.2247565 ,  0.9951693 , -0.31895825,\n",
      "        1.0919244 ,  0.7740306 ], dtype=float32)]\n",
      "[array([[-0.5486713 ],\n",
      "       [ 0.7188738 ],\n",
      "       [ 0.7260485 ],\n",
      "       [ 0.62819165],\n",
      "       [-0.28183445],\n",
      "       [ 0.48366886],\n",
      "       [-0.54608613],\n",
      "       [ 0.46729612],\n",
      "       [ 0.51304424],\n",
      "       [-0.68960613],\n",
      "       [ 0.8958932 ],\n",
      "       [ 0.9688549 ]], dtype=float32), array([0.53589964], dtype=float32)]\n"
     ]
    }
   ],
   "source": [
    "#weights\n",
    "for layer in model.layers:\n",
    "    print(layer.get_weights())"
   ]
  },
  {
   "cell_type": "code",
   "execution_count": 11,
   "metadata": {
    "ExecuteTime": {
     "end_time": "2021-03-17T23:23:04.738509Z",
     "start_time": "2021-03-17T23:23:04.548363Z"
    }
   },
   "outputs": [
    {
     "name": "stdout",
     "output_type": "stream",
     "text": [
      "dict_keys(['val_loss', 'val_accuracy', 'loss', 'accuracy'])\n"
     ]
    },
    {
     "data": {
      "image/png": "[encoded data removed]",
      "text/plain": [
       "<Figure size 432x288 with 1 Axes>"
      ]
     },
     "metadata": {
      "needs_background": "light"
     },
     "output_type": "display_data"
    }
   ],
   "source": [
    "#plt.plot(history.history['loss'], label='Train loss')\n",
    "#plt.plot(history.history['val_loss'], label='Test loss')\n",
    "#plt.legend();\n",
    "\n",
    "print(history.history.keys())\n",
    "plt.plot(history.history['accuracy'])\n",
    "plt.plot(history.history['val_accuracy'])\n",
    "plt.title('model accuracy')\n",
    "plt.ylabel('accuracy')\n",
    "plt.xlabel('epoch')\n",
    "plt.legend(['train', 'test'], loc='upper left')\n",
    "plt.show()"
   ]
  },
  {
   "cell_type": "code",
   "execution_count": 12,
   "metadata": {
    "ExecuteTime": {
     "end_time": "2021-03-17T23:23:04.788083Z",
     "start_time": "2021-03-17T23:23:04.740118Z"
    }
   },
   "outputs": [
    {
     "data": {
      "text/plain": [
       "1003.4324507713318"
      ]
     },
     "execution_count": 12,
     "metadata": {},
     "output_type": "execute_result"
    }
   ],
   "source": [
    "#looking at the loss \n",
    "sum(abs(np.array(model.predict(X_test_s).T) - np.array(y_test))[0])"
   ]
  },
  {
   "cell_type": "markdown",
   "metadata": {},
   "source": [
    "## Adding Regularization\n",
    "\n",
    "Networks are prone to overfitting. Regularization is a technique which makes slight modifications to the learning algorithm such that the model generalizes better. \n",
    "**L2 & L1 regularization**\n",
    "\n",
    "L1 and L2 are the most common types of regularization. These update the general cost function by adding another term known as the regularization term.\n",
    "\n",
    "Cost function = Loss (say, binary cross entropy) + Regularization term\n",
    "\n",
    "Due to the addition of this regularization term, the values of weight matrices decrease because it assumes that a neural network with smaller weight matrices leads to simpler models. Therefore, it will also reduce overfitting to quite an extent.\n",
    "\n",
    "However, this regularization term differs in L1 and L2.\n",
    "\n",
    "In L2, we have:\n",
    "![](https://cdn.analyticsvidhya.com/wp-content/uploads/2018/04/Screen-Shot-2018-04-04-at-1.59.54-AM.png)\n",
    "\n",
    "Here, lambda is the regularization parameter. It is the hyperparameter whose value is optimized for better results. L2 regularization is also known as weight decay as it forces the weights to decay towards zero (but not exactly zero).\n",
    "\n",
    "In L1, we have:\n",
    "![](https://cdn.analyticsvidhya.com/wp-content/uploads/2018/04/Screen-Shot-2018-04-04-at-1.59.57-AM.png)\n",
    "\n",
    "\n",
    "In this, we penalize the absolute value of the weights. Unlike L2, the weights may be reduced to zero here. Hence, it is very useful when we are trying to compress our model. Otherwise, we usually prefer L2 over it.\n",
    "\n",
    "_From_ [analytics vidhya](https://www.analyticsvidhya.com/blog/2018/04/fundamentals-deep-learning-regularization-techniques/#:~:text=If%20you've%20built%20a,the%20unseen%20data%20as%20well.)"
   ]
  },
  {
   "cell_type": "code",
   "execution_count": 13,
   "metadata": {
    "ExecuteTime": {
     "end_time": "2021-03-17T23:23:04.793205Z",
     "start_time": "2021-03-17T23:23:04.790038Z"
    }
   },
   "outputs": [],
   "source": [
    "from keras import regularizers"
   ]
  },
  {
   "cell_type": "code",
   "execution_count": 14,
   "metadata": {
    "ExecuteTime": {
     "end_time": "2021-03-17T23:23:12.297479Z",
     "start_time": "2021-03-17T23:23:04.797039Z"
    }
   },
   "outputs": [
    {
     "name": "stdout",
     "output_type": "stream",
     "text": [
      "Train on 4872 samples, validate on 1625 samples\n",
      "Epoch 1/42\n",
      "4872/4872 [==============================] - 0s 77us/step - loss: 22.4038 - accuracy: 0.0029 - val_loss: 15.8671 - val_accuracy: 0.0092\n",
      "Epoch 2/42\n",
      "4872/4872 [==============================] - 0s 30us/step - loss: 10.8226 - accuracy: 0.0470 - val_loss: 7.2160 - val_accuracy: 0.0892\n",
      "Epoch 3/42\n",
      "4872/4872 [==============================] - 0s 32us/step - loss: 5.1857 - accuracy: 0.1521 - val_loss: 4.0010 - val_accuracy: 0.1988\n",
      "Epoch 4/42\n",
      "4872/4872 [==============================] - 0s 31us/step - loss: 3.2474 - accuracy: 0.2254 - val_loss: 2.8051 - val_accuracy: 0.2726\n",
      "Epoch 5/42\n",
      "4872/4872 [==============================] - 0s 31us/step - loss: 2.3927 - accuracy: 0.2761 - val_loss: 2.1736 - val_accuracy: 0.3126\n",
      "Epoch 6/42\n",
      "4872/4872 [==============================] - 0s 30us/step - loss: 1.8716 - accuracy: 0.3245 - val_loss: 1.7567 - val_accuracy: 0.3557\n",
      "Epoch 7/42\n",
      "4872/4872 [==============================] - 0s 29us/step - loss: 1.5255 - accuracy: 0.3754 - val_loss: 1.4631 - val_accuracy: 0.4105\n",
      "Epoch 8/42\n",
      "4872/4872 [==============================] - 0s 32us/step - loss: 1.2764 - accuracy: 0.4126 - val_loss: 1.2531 - val_accuracy: 0.4332\n",
      "Epoch 9/42\n",
      "4872/4872 [==============================] - 0s 31us/step - loss: 1.1002 - accuracy: 0.4278 - val_loss: 1.0975 - val_accuracy: 0.4437\n",
      "Epoch 10/42\n",
      "4872/4872 [==============================] - 0s 34us/step - loss: 0.9795 - accuracy: 0.4497 - val_loss: 0.9909 - val_accuracy: 0.4597\n",
      "Epoch 11/42\n",
      "4872/4872 [==============================] - 0s 32us/step - loss: 0.8944 - accuracy: 0.4596 - val_loss: 0.9209 - val_accuracy: 0.4640\n",
      "Epoch 12/42\n",
      "4872/4872 [==============================] - 0s 31us/step - loss: 0.8360 - accuracy: 0.4817 - val_loss: 0.8694 - val_accuracy: 0.4880\n",
      "Epoch 13/42\n",
      "4872/4872 [==============================] - 0s 33us/step - loss: 0.7961 - accuracy: 0.4906 - val_loss: 0.8388 - val_accuracy: 0.4800\n",
      "Epoch 14/42\n",
      "4872/4872 [==============================] - 0s 36us/step - loss: 0.7693 - accuracy: 0.4920 - val_loss: 0.8161 - val_accuracy: 0.4757\n",
      "Epoch 15/42\n",
      "4872/4872 [==============================] - 0s 34us/step - loss: 0.7470 - accuracy: 0.4969 - val_loss: 0.7965 - val_accuracy: 0.4788\n",
      "Epoch 16/42\n",
      "4872/4872 [==============================] - 0s 30us/step - loss: 0.7329 - accuracy: 0.5023 - val_loss: 0.7887 - val_accuracy: 0.4818\n",
      "Epoch 17/42\n",
      "4872/4872 [==============================] - 0s 31us/step - loss: 0.7196 - accuracy: 0.5002 - val_loss: 0.7762 - val_accuracy: 0.4862\n",
      "Epoch 18/42\n",
      "4872/4872 [==============================] - 0s 32us/step - loss: 0.7101 - accuracy: 0.4998 - val_loss: 0.7621 - val_accuracy: 0.4862\n",
      "Epoch 19/42\n",
      "4872/4872 [==============================] - 0s 33us/step - loss: 0.7008 - accuracy: 0.5004 - val_loss: 0.7620 - val_accuracy: 0.4855\n",
      "Epoch 20/42\n",
      "4872/4872 [==============================] - 0s 32us/step - loss: 0.6961 - accuracy: 0.5021 - val_loss: 0.7510 - val_accuracy: 0.4905\n",
      "Epoch 21/42\n",
      "4872/4872 [==============================] - 0s 35us/step - loss: 0.6899 - accuracy: 0.5000 - val_loss: 0.7472 - val_accuracy: 0.4843\n",
      "Epoch 22/42\n",
      "4872/4872 [==============================] - 0s 33us/step - loss: 0.6861 - accuracy: 0.4961 - val_loss: 0.7377 - val_accuracy: 0.4898\n",
      "Epoch 23/42\n",
      "4872/4872 [==============================] - 0s 30us/step - loss: 0.6797 - accuracy: 0.5004 - val_loss: 0.7380 - val_accuracy: 0.4831\n",
      "Epoch 24/42\n",
      "4872/4872 [==============================] - 0s 35us/step - loss: 0.6749 - accuracy: 0.5000 - val_loss: 0.7369 - val_accuracy: 0.4831\n",
      "Epoch 25/42\n",
      "4872/4872 [==============================] - 0s 34us/step - loss: 0.6740 - accuracy: 0.5027 - val_loss: 0.7251 - val_accuracy: 0.4911\n",
      "Epoch 26/42\n",
      "4872/4872 [==============================] - 0s 38us/step - loss: 0.6681 - accuracy: 0.5057 - val_loss: 0.7279 - val_accuracy: 0.4929\n",
      "Epoch 27/42\n",
      "4872/4872 [==============================] - 0s 34us/step - loss: 0.6655 - accuracy: 0.4969 - val_loss: 0.7192 - val_accuracy: 0.4862\n",
      "Epoch 28/42\n",
      "4872/4872 [==============================] - 0s 44us/step - loss: 0.6618 - accuracy: 0.4996 - val_loss: 0.7180 - val_accuracy: 0.4923\n",
      "Epoch 29/42\n",
      "4872/4872 [==============================] - 0s 35us/step - loss: 0.6587 - accuracy: 0.5016 - val_loss: 0.7135 - val_accuracy: 0.4862\n",
      "Epoch 30/42\n",
      "4872/4872 [==============================] - 0s 34us/step - loss: 0.6565 - accuracy: 0.4975 - val_loss: 0.7060 - val_accuracy: 0.4825\n",
      "Epoch 31/42\n",
      "4872/4872 [==============================] - 0s 43us/step - loss: 0.6537 - accuracy: 0.4975 - val_loss: 0.7061 - val_accuracy: 0.4911\n",
      "Epoch 32/42\n",
      "4872/4872 [==============================] - 0s 35us/step - loss: 0.6520 - accuracy: 0.4945 - val_loss: 0.7029 - val_accuracy: 0.4880\n",
      "Epoch 33/42\n",
      "4872/4872 [==============================] - 0s 36us/step - loss: 0.6501 - accuracy: 0.5000 - val_loss: 0.6983 - val_accuracy: 0.4874\n",
      "Epoch 34/42\n",
      "4872/4872 [==============================] - 0s 33us/step - loss: 0.6466 - accuracy: 0.5010 - val_loss: 0.7004 - val_accuracy: 0.4960\n",
      "Epoch 35/42\n",
      "4872/4872 [==============================] - 0s 31us/step - loss: 0.6457 - accuracy: 0.5025 - val_loss: 0.6999 - val_accuracy: 0.4855\n",
      "Epoch 36/42\n",
      "4872/4872 [==============================] - 0s 32us/step - loss: 0.6426 - accuracy: 0.5055 - val_loss: 0.6943 - val_accuracy: 0.4942\n",
      "Epoch 37/42\n",
      "4872/4872 [==============================] - 0s 30us/step - loss: 0.6418 - accuracy: 0.4994 - val_loss: 0.6966 - val_accuracy: 0.4923\n",
      "Epoch 38/42\n",
      "4872/4872 [==============================] - 0s 29us/step - loss: 0.6411 - accuracy: 0.5021 - val_loss: 0.6925 - val_accuracy: 0.4843\n",
      "Epoch 39/42\n",
      "4872/4872 [==============================] - 0s 31us/step - loss: 0.6392 - accuracy: 0.5012 - val_loss: 0.6897 - val_accuracy: 0.4985\n",
      "Epoch 40/42\n",
      "4872/4872 [==============================] - 0s 29us/step - loss: 0.6370 - accuracy: 0.5031 - val_loss: 0.6942 - val_accuracy: 0.4812\n",
      "Epoch 41/42\n",
      "4872/4872 [==============================] - 0s 30us/step - loss: 0.6361 - accuracy: 0.5008 - val_loss: 0.6879 - val_accuracy: 0.4855\n",
      "Epoch 42/42\n",
      "4872/4872 [==============================] - 0s 29us/step - loss: 0.6354 - accuracy: 0.4986 - val_loss: 0.6964 - val_accuracy: 0.4905\n"
     ]
    }
   ],
   "source": [
    "model_r = Sequential()\n",
    "\n",
    "n_input = X_train_s.shape[1]\n",
    "\n",
    "model_r.add(Dense(n_input, activation='relu',\n",
    "                 kernel_regularizer=regularizers.l2(0.01))) #define regularization parameter \n",
    "model_r.add(Dense(1,\n",
    "                 kernel_regularizer=regularizers.l2(0.01)))\n",
    "\n",
    "model_r.compile(optimizer='adam', loss='mean_squared_error', metrics=['accuracy'])\n",
    "\n",
    "history_r = model_r.fit(X_train_s, np.array(y_train),\n",
    "                        validation_data=(X_test_s, np.array(y_test)),\n",
    "                       epochs=42, batch_size=None)"
   ]
  },
  {
   "cell_type": "code",
   "execution_count": 15,
   "metadata": {
    "ExecuteTime": {
     "end_time": "2021-03-17T23:23:12.440129Z",
     "start_time": "2021-03-17T23:23:12.299064Z"
    }
   },
   "outputs": [
    {
     "name": "stdout",
     "output_type": "stream",
     "text": [
      "dict_keys(['val_loss', 'val_accuracy', 'loss', 'accuracy'])\n"
     ]
    },
    {
     "data": {
      "image/png": "[encoded data removed]",
      "text/plain": [
       "<Figure size 432x288 with 1 Axes>"
      ]
     },
     "metadata": {
      "needs_background": "light"
     },
     "output_type": "display_data"
    }
   ],
   "source": [
    "#plt.plot(history_r.history['loss'], label='Training loss')\n",
    "#plt.plot(history_r.history['val_loss'], label='Testing loss')\n",
    "#plt.legend();\n",
    "\n",
    "print(history_r.history.keys())\n",
    "plt.plot(history_r.history['accuracy'])\n",
    "plt.plot(history_r.history['val_accuracy'])\n",
    "plt.title('model accuracy')\n",
    "plt.ylabel('accuracy')\n",
    "plt.xlabel('epoch')\n",
    "plt.legend(['train', 'test'], loc='upper left')\n",
    "plt.show()"
   ]
  },
  {
   "cell_type": "markdown",
   "metadata": {},
   "source": [
    "### Examining Our Predictions"
   ]
  },
  {
   "cell_type": "code",
   "execution_count": 16,
   "metadata": {
    "ExecuteTime": {
     "end_time": "2021-03-17T23:23:12.463499Z",
     "start_time": "2021-03-17T23:23:12.441796Z"
    }
   },
   "outputs": [
    {
     "data": {
      "text/plain": [
       "array([[5.84],\n",
       "       [5.63],\n",
       "       [5.13],\n",
       "       [5.91],\n",
       "       [5.21],\n",
       "       [5.88],\n",
       "       [5.56],\n",
       "       [5.06],\n",
       "       [5.68],\n",
       "       [6.12]], dtype=float32)"
      ]
     },
     "execution_count": 16,
     "metadata": {},
     "output_type": "execute_result"
    }
   ],
   "source": [
    "model_r.predict(X_test_s[:10]).round(2)"
   ]
  },
  {
   "cell_type": "code",
   "execution_count": 17,
   "metadata": {
    "ExecuteTime": {
     "end_time": "2021-03-17T23:23:12.469310Z",
     "start_time": "2021-03-17T23:23:12.465308Z"
    }
   },
   "outputs": [
    {
     "data": {
      "text/plain": [
       "930     5\n",
       "143     5\n",
       "1037    5\n",
       "4212    5\n",
       "1032    5\n",
       "5236    7\n",
       "4651    7\n",
       "4       5\n",
       "1091    6\n",
       "1536    6\n",
       "Name: quality, dtype: int64"
      ]
     },
     "execution_count": 17,
     "metadata": {},
     "output_type": "execute_result"
    }
   ],
   "source": [
    "y_test[:10]"
   ]
  },
  {
   "cell_type": "code",
   "execution_count": 33,
   "metadata": {
    "ExecuteTime": {
     "end_time": "2021-03-17T23:46:35.262959Z",
     "start_time": "2021-03-17T23:46:35.258497Z"
    }
   },
   "outputs": [
    {
     "data": {
      "text/plain": [
       "array([[5.8413997, 5.633885 , 5.134214 , 5.9062133, 5.205521 , 5.876562 ,\n",
       "        5.5642138, 5.0588493, 5.681613 , 6.115461 ]], dtype=float32)"
      ]
     },
     "execution_count": 33,
     "metadata": {},
     "output_type": "execute_result"
    }
   ],
   "source": [
    "model_r.predict(X_test_s[:10]).T"
   ]
  },
  {
   "cell_type": "code",
   "execution_count": 19,
   "metadata": {
    "ExecuteTime": {
     "end_time": "2021-03-17T23:23:12.533781Z",
     "start_time": "2021-03-17T23:23:12.507568Z"
    }
   },
   "outputs": [
    {
     "data": {
      "text/plain": [
       "array([0.84139967, 0.63388491, 0.13421392, ..., 1.08057499, 0.43895626,\n",
       "       0.35336399])"
      ]
     },
     "execution_count": 19,
     "metadata": {},
     "output_type": "execute_result"
    }
   ],
   "source": [
    "(np.array(model_r.predict(X_test_s).T) - np.array(y_test))[0] #WHy is this useful? "
   ]
  },
  {
   "cell_type": "code",
   "execution_count": 20,
   "metadata": {
    "ExecuteTime": {
     "end_time": "2021-03-17T23:23:12.563384Z",
     "start_time": "2021-03-17T23:23:12.537894Z"
    }
   },
   "outputs": [
    {
     "data": {
      "text/plain": [
       "999.1465768814087"
      ]
     },
     "execution_count": 20,
     "metadata": {},
     "output_type": "execute_result"
    }
   ],
   "source": [
    "sum(abs(np.array(model_r.predict(X_test_s).T) - np.array(y_test))[0])"
   ]
  },
  {
   "cell_type": "markdown",
   "metadata": {},
   "source": [
    "## Dropout\n",
    "\n",
    "Here's a new regularization idea: Turn some neurons off during training. We'll assign probabilities of 'dropout' and then let fate decide.\n",
    "So what does dropout do? At every iteration, it randomly selects some nodes and removes them along with all of their incoming and outgoing connections as shown below.\n",
    "![](https://cdn.analyticsvidhya.com/wp-content/uploads/2018/04/Screen-Shot-2018-04-03-at-11.52.06-PM.png)\n",
    "\n",
    "So each iteration has a different set of nodes and this results in a different set of outputs. It can also be thought of as an ensemble technique in machine learning.\n",
    "\n",
    "Ensemble models usually perform better than a single model as they capture more randomness. Similarly, dropout also performs better than a normal neural network model.\n"
   ]
  },
  {
   "cell_type": "code",
   "execution_count": 21,
   "metadata": {
    "ExecuteTime": {
     "end_time": "2021-03-17T23:23:12.569336Z",
     "start_time": "2021-03-17T23:23:12.565501Z"
    }
   },
   "outputs": [],
   "source": [
    "from keras.layers import Dropout"
   ]
  },
  {
   "cell_type": "code",
   "execution_count": 22,
   "metadata": {
    "ExecuteTime": {
     "end_time": "2021-03-17T23:23:20.600472Z",
     "start_time": "2021-03-17T23:23:12.573061Z"
    }
   },
   "outputs": [
    {
     "name": "stdout",
     "output_type": "stream",
     "text": [
      "Train on 4872 samples, validate on 1625 samples\n",
      "Epoch 1/42\n",
      "4872/4872 [==============================] - 0s 79us/step - loss: 26.3137 - val_loss: 19.5252\n",
      "Epoch 2/42\n",
      "4872/4872 [==============================] - 0s 39us/step - loss: 14.6648 - val_loss: 9.4620\n",
      "Epoch 3/42\n",
      "4872/4872 [==============================] - 0s 38us/step - loss: 7.5349 - val_loss: 4.4343\n",
      "Epoch 4/42\n",
      "4872/4872 [==============================] - 0s 37us/step - loss: 4.9840 - val_loss: 2.9384\n",
      "Epoch 5/42\n",
      "4872/4872 [==============================] - 0s 39us/step - loss: 4.0793 - val_loss: 2.3203\n",
      "Epoch 6/42\n",
      "4872/4872 [==============================] - 0s 38us/step - loss: 3.4174 - val_loss: 1.9075\n",
      "Epoch 7/42\n",
      "4872/4872 [==============================] - 0s 38us/step - loss: 3.0547 - val_loss: 1.6255\n",
      "Epoch 8/42\n",
      "4872/4872 [==============================] - 0s 39us/step - loss: 2.7288 - val_loss: 1.4019\n",
      "Epoch 9/42\n",
      "4872/4872 [==============================] - 0s 36us/step - loss: 2.5672 - val_loss: 1.1882\n",
      "Epoch 10/42\n",
      "4872/4872 [==============================] - 0s 36us/step - loss: 2.3292 - val_loss: 1.0514\n",
      "Epoch 11/42\n",
      "4872/4872 [==============================] - 0s 35us/step - loss: 2.1663 - val_loss: 0.9440\n",
      "Epoch 12/42\n",
      "4872/4872 [==============================] - 0s 36us/step - loss: 2.0479 - val_loss: 0.8770\n",
      "Epoch 13/42\n",
      "4872/4872 [==============================] - 0s 34us/step - loss: 1.8835 - val_loss: 0.8220\n",
      "Epoch 14/42\n",
      "4872/4872 [==============================] - 0s 34us/step - loss: 1.8629 - val_loss: 0.7622\n",
      "Epoch 15/42\n",
      "4872/4872 [==============================] - 0s 33us/step - loss: 1.8176 - val_loss: 0.7454\n",
      "Epoch 16/42\n",
      "4872/4872 [==============================] - 0s 36us/step - loss: 1.7396 - val_loss: 0.7208\n",
      "Epoch 17/42\n",
      "4872/4872 [==============================] - 0s 44us/step - loss: 1.6442 - val_loss: 0.7086\n",
      "Epoch 18/42\n",
      "4872/4872 [==============================] - 0s 36us/step - loss: 1.5443 - val_loss: 0.6894\n",
      "Epoch 19/42\n",
      "4872/4872 [==============================] - 0s 35us/step - loss: 1.5636 - val_loss: 0.6666\n",
      "Epoch 20/42\n",
      "4872/4872 [==============================] - 0s 35us/step - loss: 1.5276 - val_loss: 0.6705\n",
      "Epoch 21/42\n",
      "4872/4872 [==============================] - 0s 34us/step - loss: 1.4920 - val_loss: 0.6537\n",
      "Epoch 22/42\n",
      "4872/4872 [==============================] - 0s 34us/step - loss: 1.4756 - val_loss: 0.6670\n",
      "Epoch 23/42\n",
      "4872/4872 [==============================] - 0s 34us/step - loss: 1.4208 - val_loss: 0.6406\n",
      "Epoch 24/42\n",
      "4872/4872 [==============================] - 0s 33us/step - loss: 1.4015 - val_loss: 0.6726\n",
      "Epoch 25/42\n",
      "4872/4872 [==============================] - 0s 32us/step - loss: 1.3532 - val_loss: 0.6430\n",
      "Epoch 26/42\n",
      "4872/4872 [==============================] - 0s 35us/step - loss: 1.3474 - val_loss: 0.6396\n",
      "Epoch 27/42\n",
      "4872/4872 [==============================] - 0s 34us/step - loss: 1.2845 - val_loss: 0.6410\n",
      "Epoch 28/42\n",
      "4872/4872 [==============================] - 0s 33us/step - loss: 1.2695 - val_loss: 0.6317\n",
      "Epoch 29/42\n",
      "4872/4872 [==============================] - 0s 35us/step - loss: 1.2780 - val_loss: 0.6344\n",
      "Epoch 30/42\n",
      "4872/4872 [==============================] - 0s 35us/step - loss: 1.2682 - val_loss: 0.6412\n",
      "Epoch 31/42\n",
      "4872/4872 [==============================] - 0s 35us/step - loss: 1.2765 - val_loss: 0.6316\n",
      "Epoch 32/42\n",
      "4872/4872 [==============================] - 0s 34us/step - loss: 1.2042 - val_loss: 0.6310\n",
      "Epoch 33/42\n",
      "4872/4872 [==============================] - 0s 33us/step - loss: 1.2242 - val_loss: 0.6281\n",
      "Epoch 34/42\n",
      "4872/4872 [==============================] - 0s 34us/step - loss: 1.1887 - val_loss: 0.6277\n",
      "Epoch 35/42\n",
      "4872/4872 [==============================] - 0s 34us/step - loss: 1.1025 - val_loss: 0.6211\n",
      "Epoch 36/42\n",
      "4872/4872 [==============================] - 0s 34us/step - loss: 1.1600 - val_loss: 0.6284\n",
      "Epoch 37/42\n",
      "4872/4872 [==============================] - 0s 34us/step - loss: 1.1375 - val_loss: 0.6290\n",
      "Epoch 38/42\n",
      "4872/4872 [==============================] - 0s 35us/step - loss: 1.1221 - val_loss: 0.6268\n",
      "Epoch 39/42\n",
      "4872/4872 [==============================] - 0s 34us/step - loss: 1.0958 - val_loss: 0.6203\n",
      "Epoch 40/42\n",
      "4872/4872 [==============================] - 0s 35us/step - loss: 1.0526 - val_loss: 0.6270\n",
      "Epoch 41/42\n",
      "4872/4872 [==============================] - 0s 34us/step - loss: 1.0233 - val_loss: 0.6286\n",
      "Epoch 42/42\n",
      "4872/4872 [==============================] - 0s 35us/step - loss: 1.0381 - val_loss: 0.6209\n"
     ]
    }
   ],
   "source": [
    "model_d = Sequential()\n",
    "\n",
    "n_input = X_train_s.shape[1]\n",
    "\n",
    "model_d.add(Dense(n_input, activation='relu'))\n",
    "model_d.add(Dropout(0.2)) #probability of how many nodes to be dropped\n",
    "model_d.add(Dense(1))\n",
    "\n",
    "model_d.compile(optimizer='adam', loss='mean_squared_error')\n",
    "\n",
    "history_d = model_d.fit(X_train_s, np.array(y_train),\n",
    "                        validation_data=(X_test_s, np.array(y_test)),\n",
    "                        epochs=42, batch_size=None)"
   ]
  },
  {
   "cell_type": "code",
   "execution_count": 23,
   "metadata": {
    "ExecuteTime": {
     "end_time": "2021-03-17T23:23:20.754248Z",
     "start_time": "2021-03-17T23:23:20.605685Z"
    }
   },
   "outputs": [
    {
     "data": {
      "image/png": "[encoded data removed]",
      "text/plain": [
       "<Figure size 432x288 with 1 Axes>"
      ]
     },
     "metadata": {
      "needs_background": "light"
     },
     "output_type": "display_data"
    }
   ],
   "source": [
    "plt.plot(history_d.history['loss'], label='Training loss')\n",
    "plt.plot(history_d.history['val_loss'], label='Testing loss')\n",
    "plt.legend();"
   ]
  },
  {
   "cell_type": "code",
   "execution_count": 24,
   "metadata": {
    "ExecuteTime": {
     "end_time": "2021-03-17T23:23:20.818623Z",
     "start_time": "2021-03-17T23:23:20.756465Z"
    }
   },
   "outputs": [
    {
     "data": {
      "text/plain": [
       "1003.4087238311768"
      ]
     },
     "execution_count": 24,
     "metadata": {},
     "output_type": "execute_result"
    }
   ],
   "source": [
    "sum(abs(np.array(model_d.predict(X_test_s).T) - np.array(y_test))[0])"
   ]
  },
  {
   "cell_type": "markdown",
   "metadata": {},
   "source": [
    "## Early Stopping\n",
    "\n",
    "Another idea is to try to terminate the training process early, even before some pre-specified number of epochs.\n",
    "Early stopping is a kind of cross-validation strategy where we keep one part of the training set as the validation set. When we see that the performance on the validation set is getting worse, we immediately stop the training on the model.\n",
    "\n",
    "![](https://cdn.analyticsvidhya.com/wp-content/uploads/2018/04/Screen-Shot-2018-04-04-at-12.31.56-AM.png)\n",
    "\n",
    "We stop training at the dotted line becasue thats when the network begins to overfit on the training data \n"
   ]
  },
  {
   "cell_type": "code",
   "execution_count": 25,
   "metadata": {
    "ExecuteTime": {
     "end_time": "2021-03-17T23:23:20.822933Z",
     "start_time": "2021-03-17T23:23:20.820298Z"
    }
   },
   "outputs": [],
   "source": [
    "from keras.callbacks import EarlyStopping"
   ]
  },
  {
   "cell_type": "code",
   "execution_count": 26,
   "metadata": {
    "ExecuteTime": {
     "end_time": "2021-03-17T23:23:25.017911Z",
     "start_time": "2021-03-17T23:23:20.825646Z"
    }
   },
   "outputs": [
    {
     "name": "stdout",
     "output_type": "stream",
     "text": [
      "Train on 4872 samples, validate on 1625 samples\n",
      "Epoch 1/40\n",
      "4872/4872 [==============================] - 0s 60us/step - loss: 29.1735 - val_loss: 23.3297\n",
      "Epoch 2/40\n",
      "4872/4872 [==============================] - 0s 29us/step - loss: 17.5355 - val_loss: 12.3353\n",
      "Epoch 3/40\n",
      "4872/4872 [==============================] - 0s 29us/step - loss: 8.7477 - val_loss: 6.0772\n",
      "Epoch 4/40\n",
      "4872/4872 [==============================] - 0s 29us/step - loss: 4.6631 - val_loss: 3.5338\n",
      "Epoch 5/40\n",
      "4872/4872 [==============================] - 0s 28us/step - loss: 3.0097 - val_loss: 2.4531\n",
      "Epoch 6/40\n",
      "4872/4872 [==============================] - 0s 28us/step - loss: 2.1909 - val_loss: 1.8826\n",
      "Epoch 7/40\n",
      "4872/4872 [==============================] - 0s 28us/step - loss: 1.7200 - val_loss: 1.5406\n",
      "Epoch 8/40\n",
      "4872/4872 [==============================] - 0s 29us/step - loss: 1.4236 - val_loss: 1.3120\n",
      "Epoch 9/40\n",
      "4872/4872 [==============================] - 0s 29us/step - loss: 1.2118 - val_loss: 1.1392\n",
      "Epoch 10/40\n",
      "4872/4872 [==============================] - 0s 28us/step - loss: 1.0551 - val_loss: 1.0085\n",
      "Epoch 11/40\n",
      "4872/4872 [==============================] - 0s 30us/step - loss: 0.9310 - val_loss: 0.9058\n",
      "Epoch 12/40\n",
      "4872/4872 [==============================] - 0s 30us/step - loss: 0.8338 - val_loss: 0.8309\n",
      "Epoch 13/40\n",
      "4872/4872 [==============================] - 0s 30us/step - loss: 0.7647 - val_loss: 0.7730\n",
      "Epoch 14/40\n",
      "4872/4872 [==============================] - 0s 31us/step - loss: 0.7145 - val_loss: 0.7305\n",
      "Epoch 15/40\n",
      "4872/4872 [==============================] - 0s 29us/step - loss: 0.6768 - val_loss: 0.7009\n",
      "Epoch 16/40\n",
      "4872/4872 [==============================] - 0s 29us/step - loss: 0.6505 - val_loss: 0.6789\n",
      "Epoch 17/40\n",
      "4872/4872 [==============================] - 0s 30us/step - loss: 0.6315 - val_loss: 0.6641\n",
      "Epoch 18/40\n",
      "4872/4872 [==============================] - 0s 30us/step - loss: 0.6182 - val_loss: 0.6548\n",
      "Epoch 19/40\n",
      "4872/4872 [==============================] - 0s 29us/step - loss: 0.6063 - val_loss: 0.6480\n",
      "Epoch 20/40\n",
      "4872/4872 [==============================] - 0s 34us/step - loss: 0.5976 - val_loss: 0.6377\n",
      "Epoch 21/40\n",
      "4872/4872 [==============================] - 0s 33us/step - loss: 0.5910 - val_loss: 0.6319\n",
      "Epoch 22/40\n",
      "4872/4872 [==============================] - 0s 32us/step - loss: 0.5842 - val_loss: 0.6275\n",
      "Epoch 23/40\n",
      "4872/4872 [==============================] - 0s 30us/step - loss: 0.5786 - val_loss: 0.6231\n",
      "Epoch 24/40\n",
      "4872/4872 [==============================] - 0s 32us/step - loss: 0.5758 - val_loss: 0.6185\n",
      "Epoch 25/40\n",
      "4872/4872 [==============================] - 0s 31us/step - loss: 0.5711 - val_loss: 0.6189\n",
      "Epoch 00025: early stopping\n"
     ]
    }
   ],
   "source": [
    "model_es = Sequential()\n",
    "\n",
    "n_input = X_train_s.shape[1]\n",
    "n_hidden = n_input\n",
    "\n",
    "model_es.add(Dense(n_hidden, input_dim=n_input, activation='relu'))\n",
    "model_es.add(Dense(1))\n",
    "\n",
    "model_es.compile(optimizer='adam', loss='mean_squared_error')\n",
    "\n",
    "early_stop = EarlyStopping(monitor='val_loss', min_delta=1e-08, patience=0, verbose=1,\n",
    "                           mode='auto')\n",
    "\n",
    "callbacks_list = [early_stop]\n",
    "\n",
    "history_es = model_es.fit(X_train_s, np.array(y_train),\n",
    "                          validation_data=(X_test_s, np.array(y_test)),\n",
    "                         epochs=40, batch_size=None, callbacks=callbacks_list)"
   ]
  },
  {
   "cell_type": "code",
   "execution_count": 27,
   "metadata": {
    "ExecuteTime": {
     "end_time": "2021-03-17T23:23:25.180342Z",
     "start_time": "2021-03-17T23:23:25.019589Z"
    }
   },
   "outputs": [
    {
     "data": {
      "image/png": "[encoded data removed]",
      "text/plain": [
       "<Figure size 432x288 with 1 Axes>"
      ]
     },
     "metadata": {
      "needs_background": "light"
     },
     "output_type": "display_data"
    }
   ],
   "source": [
    "plt.plot(history_es.history['loss'], label='Training loss')\n",
    "plt.plot(history_es.history['val_loss'], label='Testing loss')\n",
    "plt.legend();"
   ]
  },
  {
   "cell_type": "code",
   "execution_count": 28,
   "metadata": {
    "ExecuteTime": {
     "end_time": "2021-03-17T23:23:25.225549Z",
     "start_time": "2021-03-17T23:23:25.182881Z"
    }
   },
   "outputs": [
    {
     "data": {
      "text/plain": [
       "996.3541021347046"
      ]
     },
     "execution_count": 28,
     "metadata": {},
     "output_type": "execute_result"
    }
   ],
   "source": [
    "sum(abs(np.array(model_es.predict(X_test_s).T) - np.array(y_test))[0])"
   ]
  },
  {
   "cell_type": "markdown",
   "metadata": {},
   "source": [
    "## Exercise\n",
    "\n",
    "Build your own network *with some sort of regularization built in* to predict digits using sklearn's `load_digits` dataset!\n",
    "\n",
    "The imports you need are in the next cell.\n",
    "\n",
    "Here are a couple hints and leading questions:\n",
    "\n",
    "1. You'll need to use `to_categorical()` on your target. (What does this function do?)\n",
    "2. What should your output layer look like? How many neurons should it have and what should your activation function be there?\n",
    "3. When we compile this network, what loss function should we use?\n",
    "4. When we compile this network, we can add a list of metrics, such as `['acc']`."
   ]
  },
  {
   "cell_type": "code",
   "execution_count": 29,
   "metadata": {
    "ExecuteTime": {
     "end_time": "2021-03-17T23:23:25.262050Z",
     "start_time": "2021-03-17T23:23:25.227690Z"
    }
   },
   "outputs": [],
   "source": [
    "from sklearn.datasets import load_digits\n",
    "from keras.utils import to_categorical"
   ]
  },
  {
   "cell_type": "code",
   "execution_count": 30,
   "metadata": {
    "ExecuteTime": {
     "end_time": "2021-03-17T23:23:25.356259Z",
     "start_time": "2021-03-17T23:23:25.264592Z"
    }
   },
   "outputs": [
    {
     "name": "stdout",
     "output_type": "stream",
     "text": [
      "[[ 0.  0.  5. ...  0.  0.  0.]\n",
      " [ 0.  0.  0. ... 10.  0.  0.]\n",
      " [ 0.  0.  0. ... 16.  9.  0.]\n",
      " ...\n",
      " [ 0.  0.  1. ...  6.  0.  0.]\n",
      " [ 0.  0.  2. ... 12.  0.  0.]\n",
      " [ 0.  0. 10. ... 12.  1.  0.]]\n",
      "[0 1 2 ... 8 9 8]\n",
      ".. _digits_dataset:\n",
      "\n",
      "Optical recognition of handwritten digits dataset\n",
      "--------------------------------------------------\n",
      "\n",
      "**Data Set Characteristics:**\n",
      "\n",
      "    :Number of Instances: 5620\n",
      "    :Number of Attributes: 64\n",
      "    :Attribute Information: 8x8 image of integer pixels in the range 0..16.\n",
      "    :Missing Attribute Values: None\n",
      "    :Creator: E. Alpaydin (alpaydin '@' boun.edu.tr)\n",
      "    :Date: July; 1998\n",
      "\n",
      "This is a copy of the test set of the UCI ML hand-written digits datasets\n",
      "https://archive.ics.uci.edu/ml/datasets/Optical+Recognition+of+Handwritten+Digits\n",
      "\n",
      "The data set contains images of hand-written digits: 10 classes where\n",
      "each class refers to a digit.\n",
      "\n",
      "Preprocessing programs made available by NIST were used to extract\n",
      "normalized bitmaps of handwritten digits from a preprinted form. From a\n",
      "total of 43 people, 30 contributed to the training set and different 13\n",
      "to the test set. 32x32 bitmaps are divided into nonoverlapping blocks of\n",
      "4x4 and the number of on pixels are counted in each block. This generates\n",
      "an input matrix of 8x8 where each element is an integer in the range\n",
      "0..16. This reduces dimensionality and gives invariance to small\n",
      "distortions.\n",
      "\n",
      "For info on NIST preprocessing routines, see M. D. Garris, J. L. Blue, G.\n",
      "T. Candela, D. L. Dimmick, J. Geist, P. J. Grother, S. A. Janet, and C.\n",
      "L. Wilson, NIST Form-Based Handprint Recognition System, NISTIR 5469,\n",
      "1994.\n",
      "\n",
      ".. topic:: References\n",
      "\n",
      "  - C. Kaynak (1995) Methods of Combining Multiple Classifiers and Their\n",
      "    Applications to Handwritten Digit Recognition, MSc Thesis, Institute of\n",
      "    Graduate Studies in Science and Engineering, Bogazici University.\n",
      "  - E. Alpaydin, C. Kaynak (1998) Cascading Classifiers, Kybernetika.\n",
      "  - Ken Tang and Ponnuthurai N. Suganthan and Xi Yao and A. Kai Qin.\n",
      "    Linear dimensionalityreduction using relevance weighted LDA. School of\n",
      "    Electrical and Electronic Engineering Nanyang Technological University.\n",
      "    2005.\n",
      "  - Claudio Gentile. A New Approximate Maximal Margin Classification\n",
      "    Algorithm. NIPS. 2000.\n"
     ]
    }
   ],
   "source": [
    "data = load_digits()\n",
    "print(data.data)\n",
    "print(data.target)\n",
    "print(data.DESCR)"
   ]
  },
  {
   "cell_type": "code",
   "execution_count": 31,
   "metadata": {
    "ExecuteTime": {
     "end_time": "2021-03-17T23:23:25.489358Z",
     "start_time": "2021-03-17T23:23:25.358470Z"
    }
   },
   "outputs": [
    {
     "data": {
      "image/png": "[encoded data removed]",
      "text/plain": [
       "<Figure size 288x288 with 1 Axes>"
      ]
     },
     "metadata": {
      "needs_background": "light"
     },
     "output_type": "display_data"
    }
   ],
   "source": [
    "plt.matshow(data.images[0]);"
   ]
  },
  {
   "cell_type": "code",
   "execution_count": null,
   "metadata": {},
   "outputs": [],
   "source": []
  }
 ],
 "metadata": {
  "kernelspec": {
   "display_name": "learn-env",
   "language": "python",
   "name": "learn-env"
  },
  "language_info": {
   "codemirror_mode": {
    "name": "ipython",
    "version": 3
   },
   "file_extension": ".py",
   "mimetype": "text/x-python",
   "name": "python",
   "nbconvert_exporter": "python",
   "pygments_lexer": "ipython3",
   "version": "3.6.6"
  },
  "toc": {
   "base_numbering": 1,
   "nav_menu": {},
   "number_sections": true,
   "sideBar": true,
   "skip_h1_title": true,
   "title_cell": "Table of Contents",
   "title_sidebar": "Contents",
   "toc_cell": false,
   "toc_position": {},
   "toc_section_display": true,
   "toc_window_display": false
  }
 },
 "nbformat": 4,
 "nbformat_minor": 2
}
