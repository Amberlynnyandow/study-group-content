{
 "cells": [
  {
   "cell_type": "markdown",
   "metadata": {},
   "source": [
    "# NLP Modeling \n",
    "\n",
    "1. Get your raw text into a pandas dataframe\n",
    "2. Tokenize the text - splitting a phrase, sentence, paragraph, or an entire text document into smaller units, such as individual words or terms. Each of these smaller units are called tokens. \n",
    "3. Clean the text - this includes removing stopwords, punctuation and stems or lemmatizing \n",
    "4. Vectorize the text - convert the text to numeric form \n",
    "5. Fit/train an ML and/or deep learning model \n"
   ]
  },
  {
   "cell_type": "code",
   "execution_count": 1,
   "metadata": {
    "ExecuteTime": {
     "end_time": "2020-12-21T23:25:53.258523Z",
     "start_time": "2020-12-21T23:25:51.932040Z"
    }
   },
   "outputs": [
    {
     "data": {
      "text/html": [
       "<div>\n",
       "<style scoped>\n",
       "    .dataframe tbody tr th:only-of-type {\n",
       "        vertical-align: middle;\n",
       "    }\n",
       "\n",
       "    .dataframe tbody tr th {\n",
       "        vertical-align: top;\n",
       "    }\n",
       "\n",
       "    .dataframe thead th {\n",
       "        text-align: right;\n",
       "    }\n",
       "</style>\n",
       "<table border=\"1\" class=\"dataframe\">\n",
       "  <thead>\n",
       "    <tr style=\"text-align: right;\">\n",
       "      <th></th>\n",
       "      <th>name</th>\n",
       "      <th>real_name</th>\n",
       "      <th>full_name</th>\n",
       "      <th>overall_score</th>\n",
       "      <th>history_text</th>\n",
       "      <th>powers_text</th>\n",
       "      <th>intelligence_score</th>\n",
       "      <th>strength_score</th>\n",
       "      <th>speed_score</th>\n",
       "      <th>durability_score</th>\n",
       "      <th>...</th>\n",
       "      <th>has_flight</th>\n",
       "      <th>has_accelerated_healing</th>\n",
       "      <th>has_weapons_master</th>\n",
       "      <th>has_intelligence</th>\n",
       "      <th>has_reflexes</th>\n",
       "      <th>has_super_speed</th>\n",
       "      <th>has_durability</th>\n",
       "      <th>has_stamina</th>\n",
       "      <th>has_agility</th>\n",
       "      <th>has_super_strength</th>\n",
       "    </tr>\n",
       "  </thead>\n",
       "  <tbody>\n",
       "    <tr>\n",
       "      <th>0</th>\n",
       "      <td>3-D Man</td>\n",
       "      <td>Delroy Garrett, Jr.</td>\n",
       "      <td>Delroy Garrett, Jr.</td>\n",
       "      <td>6</td>\n",
       "      <td>Delroy Garrett, Jr. grew up to become a track star and competed in the Olympic Games. After he t...</td>\n",
       "      <td>NaN</td>\n",
       "      <td>85</td>\n",
       "      <td>30</td>\n",
       "      <td>60</td>\n",
       "      <td>60</td>\n",
       "      <td>...</td>\n",
       "      <td>0.0</td>\n",
       "      <td>0.0</td>\n",
       "      <td>0.0</td>\n",
       "      <td>0.0</td>\n",
       "      <td>0.0</td>\n",
       "      <td>1.0</td>\n",
       "      <td>0.0</td>\n",
       "      <td>0.0</td>\n",
       "      <td>0.0</td>\n",
       "      <td>1.0</td>\n",
       "    </tr>\n",
       "    <tr>\n",
       "      <th>1</th>\n",
       "      <td>514A (Gotham)</td>\n",
       "      <td>Bruce Wayne</td>\n",
       "      <td>NaN</td>\n",
       "      <td>10</td>\n",
       "      <td>He was one of the many prisoners of Indian Hill to be transferred to another facility upstate on...</td>\n",
       "      <td>NaN</td>\n",
       "      <td>100</td>\n",
       "      <td>20</td>\n",
       "      <td>30</td>\n",
       "      <td>50</td>\n",
       "      <td>...</td>\n",
       "      <td>0.0</td>\n",
       "      <td>0.0</td>\n",
       "      <td>0.0</td>\n",
       "      <td>0.0</td>\n",
       "      <td>1.0</td>\n",
       "      <td>0.0</td>\n",
       "      <td>1.0</td>\n",
       "      <td>0.0</td>\n",
       "      <td>0.0</td>\n",
       "      <td>1.0</td>\n",
       "    </tr>\n",
       "    <tr>\n",
       "      <th>2</th>\n",
       "      <td>A-Bomb</td>\n",
       "      <td>Richard Milhouse Jones</td>\n",
       "      <td>Richard Milhouse Jones</td>\n",
       "      <td>20</td>\n",
       "      <td>Richard \"Rick\" Jones was orphaned at a young age, and after being expelled from several orphana...</td>\n",
       "      <td>On rare occasions, and through unusual circumstances, Jones has been able to tap into a myster...</td>\n",
       "      <td>80</td>\n",
       "      <td>100</td>\n",
       "      <td>80</td>\n",
       "      <td>100</td>\n",
       "      <td>...</td>\n",
       "      <td>0.0</td>\n",
       "      <td>1.0</td>\n",
       "      <td>0.0</td>\n",
       "      <td>0.0</td>\n",
       "      <td>1.0</td>\n",
       "      <td>1.0</td>\n",
       "      <td>1.0</td>\n",
       "      <td>1.0</td>\n",
       "      <td>1.0</td>\n",
       "      <td>1.0</td>\n",
       "    </tr>\n",
       "    <tr>\n",
       "      <th>3</th>\n",
       "      <td>Aa</td>\n",
       "      <td>Aa</td>\n",
       "      <td>NaN</td>\n",
       "      <td>12</td>\n",
       "      <td>Aa is one of the more passive members of the Pumice People race of Stoneworld. When Hal Jordan a...</td>\n",
       "      <td>NaN</td>\n",
       "      <td>80</td>\n",
       "      <td>50</td>\n",
       "      <td>55</td>\n",
       "      <td>45</td>\n",
       "      <td>...</td>\n",
       "      <td>0.0</td>\n",
       "      <td>0.0</td>\n",
       "      <td>0.0</td>\n",
       "      <td>0.0</td>\n",
       "      <td>0.0</td>\n",
       "      <td>0.0</td>\n",
       "      <td>0.0</td>\n",
       "      <td>0.0</td>\n",
       "      <td>0.0</td>\n",
       "      <td>0.0</td>\n",
       "    </tr>\n",
       "    <tr>\n",
       "      <th>4</th>\n",
       "      <td>Aaron Cash</td>\n",
       "      <td>Aaron Cash</td>\n",
       "      <td>Aaron Cash</td>\n",
       "      <td>5</td>\n",
       "      <td>Aaron Cash is the head of security at Arkham Asylum. He has a hook for a hand after his real han...</td>\n",
       "      <td>NaN</td>\n",
       "      <td>80</td>\n",
       "      <td>10</td>\n",
       "      <td>25</td>\n",
       "      <td>40</td>\n",
       "      <td>...</td>\n",
       "      <td>0.0</td>\n",
       "      <td>0.0</td>\n",
       "      <td>1.0</td>\n",
       "      <td>0.0</td>\n",
       "      <td>0.0</td>\n",
       "      <td>0.0</td>\n",
       "      <td>0.0</td>\n",
       "      <td>0.0</td>\n",
       "      <td>0.0</td>\n",
       "      <td>0.0</td>\n",
       "    </tr>\n",
       "  </tbody>\n",
       "</table>\n",
       "<p>5 rows × 81 columns</p>\n",
       "</div>"
      ],
      "text/plain": [
       "            name               real_name               full_name  \\\n",
       "0        3-D Man     Delroy Garrett, Jr.     Delroy Garrett, Jr.   \n",
       "1  514A (Gotham)             Bruce Wayne                     NaN   \n",
       "2         A-Bomb  Richard Milhouse Jones  Richard Milhouse Jones   \n",
       "3             Aa                      Aa                     NaN   \n",
       "4     Aaron Cash              Aaron Cash              Aaron Cash   \n",
       "\n",
       "  overall_score  \\\n",
       "0             6   \n",
       "1            10   \n",
       "2            20   \n",
       "3            12   \n",
       "4             5   \n",
       "\n",
       "                                                                                          history_text  \\\n",
       "0  Delroy Garrett, Jr. grew up to become a track star and competed in the Olympic Games. After he t...   \n",
       "1  He was one of the many prisoners of Indian Hill to be transferred to another facility upstate on...   \n",
       "2   Richard \"Rick\" Jones was orphaned at a young age, and after being expelled from several orphana...   \n",
       "3  Aa is one of the more passive members of the Pumice People race of Stoneworld. When Hal Jordan a...   \n",
       "4  Aaron Cash is the head of security at Arkham Asylum. He has a hook for a hand after his real han...   \n",
       "\n",
       "                                                                                           powers_text  \\\n",
       "0                                                                                                  NaN   \n",
       "1                                                                                                  NaN   \n",
       "2    On rare occasions, and through unusual circumstances, Jones has been able to tap into a myster...   \n",
       "3                                                                                                  NaN   \n",
       "4                                                                                                  NaN   \n",
       "\n",
       "   intelligence_score  strength_score  speed_score  durability_score  \\\n",
       "0                  85              30           60                60   \n",
       "1                 100              20           30                50   \n",
       "2                  80             100           80               100   \n",
       "3                  80              50           55                45   \n",
       "4                  80              10           25                40   \n",
       "\n",
       "         ...          has_flight  has_accelerated_healing has_weapons_master  \\\n",
       "0        ...                 0.0                      0.0                0.0   \n",
       "1        ...                 0.0                      0.0                0.0   \n",
       "2        ...                 0.0                      1.0                0.0   \n",
       "3        ...                 0.0                      0.0                0.0   \n",
       "4        ...                 0.0                      0.0                1.0   \n",
       "\n",
       "  has_intelligence has_reflexes has_super_speed has_durability has_stamina  \\\n",
       "0              0.0          0.0             1.0            0.0         0.0   \n",
       "1              0.0          1.0             0.0            1.0         0.0   \n",
       "2              0.0          1.0             1.0            1.0         1.0   \n",
       "3              0.0          0.0             0.0            0.0         0.0   \n",
       "4              0.0          0.0             0.0            0.0         0.0   \n",
       "\n",
       "  has_agility has_super_strength  \n",
       "0         0.0                1.0  \n",
       "1         0.0                1.0  \n",
       "2         1.0                1.0  \n",
       "3         0.0                0.0  \n",
       "4         0.0                0.0  \n",
       "\n",
       "[5 rows x 81 columns]"
      ]
     },
     "execution_count": 1,
     "metadata": {},
     "output_type": "execute_result"
    }
   ],
   "source": [
    "import numpy as np \n",
    "import pandas as pd \n",
    "pd.set_option('display.max_colwidth', 100)\n",
    "\n",
    "from matplotlib import pyplot\n",
    "import numpy as np\n",
    "%matplotlib inline\n",
    "\n",
    "import re\n",
    "import string\n",
    "import nltk\n",
    "\n",
    "from sklearn.feature_extraction.text import CountVectorizer\n",
    "from sklearn.feature_extraction.text import TfidfVectorizer\n",
    "\n",
    "from sklearn.ensemble import RandomForestClassifier\n",
    "from sklearn.model_selection import KFold, cross_val_score\n",
    "from sklearn.model_selection import train_test_split\n",
    "\n",
    "\n",
    "df = pd.read_csv(\"/Users/amberyandow/Downloads/superheroes_nlp_dataset.csv\")\n",
    "df.head()"
   ]
  },
  {
   "cell_type": "code",
   "execution_count": 2,
   "metadata": {
    "ExecuteTime": {
     "end_time": "2020-12-21T23:27:20.156969Z",
     "start_time": "2020-12-21T23:27:20.140508Z"
    }
   },
   "outputs": [
    {
     "name": "stdout",
     "output_type": "stream",
     "text": [
      "<class 'pandas.core.frame.DataFrame'>\n",
      "RangeIndex: 1450 entries, 0 to 1449\n",
      "Data columns (total 81 columns):\n",
      "name                                1448 non-null object\n",
      "real_name                           1301 non-null object\n",
      "full_name                           956 non-null object\n",
      "overall_score                       1450 non-null object\n",
      "history_text                        1360 non-null object\n",
      "powers_text                         1086 non-null object\n",
      "intelligence_score                  1450 non-null int64\n",
      "strength_score                      1450 non-null int64\n",
      "speed_score                         1450 non-null int64\n",
      "durability_score                    1450 non-null int64\n",
      "power_score                         1450 non-null int64\n",
      "combat_score                        1450 non-null int64\n",
      "superpowers                         1450 non-null object\n",
      "alter_egos                          1450 non-null object\n",
      "aliases                             1450 non-null object\n",
      "place_of_birth                      788 non-null object\n",
      "first_appearance                    1247 non-null object\n",
      "creator                             1311 non-null object\n",
      "alignment                           1368 non-null object\n",
      "occupation                          1014 non-null object\n",
      "base                                878 non-null object\n",
      "teams                               1450 non-null object\n",
      "relatives                           901 non-null object\n",
      "gender                              1305 non-null object\n",
      "type_race                           1043 non-null object\n",
      "height                              1448 non-null object\n",
      "weight                              1448 non-null object\n",
      "eye_color                           1186 non-null object\n",
      "hair_color                          1202 non-null object\n",
      "skin_color                          173 non-null object\n",
      "img                                 1363 non-null object\n",
      "has_electrokinesis                  1383 non-null float64\n",
      "has_energy_constructs               1383 non-null float64\n",
      "has_mind_control_resistance         1383 non-null float64\n",
      "has_matter_manipulation             1383 non-null float64\n",
      "has_telepathy_resistance            1383 non-null float64\n",
      "has_mind_control                    1383 non-null float64\n",
      "has_enhanced_hearing                1383 non-null float64\n",
      "has_dimensional_travel              1383 non-null float64\n",
      "has_element_control                 1383 non-null float64\n",
      "has_size_changing                   1383 non-null float64\n",
      "has_fire_resistance                 1383 non-null float64\n",
      "has_fire_control                    1383 non-null float64\n",
      "has_dexterity                       1383 non-null float64\n",
      "has_reality_warping                 1383 non-null float64\n",
      "has_illusions                       1383 non-null float64\n",
      "has_energy_beams                    1383 non-null float64\n",
      "has_peak_human_condition            1383 non-null float64\n",
      "has_shapeshifting                   1383 non-null float64\n",
      "has_heat_resistance                 1383 non-null float64\n",
      "has_jump                            1383 non-null float64\n",
      "has_self-sustenance                 1383 non-null float64\n",
      "has_energy_absorption               1383 non-null float64\n",
      "has_cold_resistance                 1383 non-null float64\n",
      "has_magic                           1383 non-null float64\n",
      "has_telekinesis                     1383 non-null float64\n",
      "has_toxin_and_disease_resistance    1383 non-null float64\n",
      "has_telepathy                       1383 non-null float64\n",
      "has_regeneration                    1383 non-null float64\n",
      "has_immortality                     1383 non-null float64\n",
      "has_teleportation                   1383 non-null float64\n",
      "has_force_fields                    1383 non-null float64\n",
      "has_energy_manipulation             1383 non-null float64\n",
      "has_endurance                       1383 non-null float64\n",
      "has_longevity                       1383 non-null float64\n",
      "has_weapon-based_powers             1383 non-null float64\n",
      "has_energy_blasts                   1383 non-null float64\n",
      "has_enhanced_senses                 1383 non-null float64\n",
      "has_invulnerability                 1383 non-null float64\n",
      "has_stealth                         1383 non-null float64\n",
      "has_marksmanship                    1383 non-null float64\n",
      "has_flight                          1383 non-null float64\n",
      "has_accelerated_healing             1383 non-null float64\n",
      "has_weapons_master                  1383 non-null float64\n",
      "has_intelligence                    1383 non-null float64\n",
      "has_reflexes                        1383 non-null float64\n",
      "has_super_speed                     1383 non-null float64\n",
      "has_durability                      1383 non-null float64\n",
      "has_stamina                         1383 non-null float64\n",
      "has_agility                         1383 non-null float64\n",
      "has_super_strength                  1383 non-null float64\n",
      "dtypes: float64(50), int64(6), object(25)\n",
      "memory usage: 917.7+ KB\n",
      "None\n"
     ]
    }
   ],
   "source": [
    "print(df.info())"
   ]
  },
  {
   "cell_type": "code",
   "execution_count": 3,
   "metadata": {
    "ExecuteTime": {
     "end_time": "2020-12-21T23:28:05.203463Z",
     "start_time": "2020-12-21T23:28:05.194134Z"
    }
   },
   "outputs": [
    {
     "data": {
      "text/html": [
       "<div>\n",
       "<style scoped>\n",
       "    .dataframe tbody tr th:only-of-type {\n",
       "        vertical-align: middle;\n",
       "    }\n",
       "\n",
       "    .dataframe tbody tr th {\n",
       "        vertical-align: top;\n",
       "    }\n",
       "\n",
       "    .dataframe thead th {\n",
       "        text-align: right;\n",
       "    }\n",
       "</style>\n",
       "<table border=\"1\" class=\"dataframe\">\n",
       "  <thead>\n",
       "    <tr style=\"text-align: right;\">\n",
       "      <th></th>\n",
       "      <th>name</th>\n",
       "      <th>history_text</th>\n",
       "      <th>creator</th>\n",
       "      <th>alignment</th>\n",
       "    </tr>\n",
       "  </thead>\n",
       "  <tbody>\n",
       "    <tr>\n",
       "      <th>0</th>\n",
       "      <td>3-D Man</td>\n",
       "      <td>Delroy Garrett, Jr. grew up to become a track star and competed in the Olympic Games. After he t...</td>\n",
       "      <td>Marvel Comics</td>\n",
       "      <td>Good</td>\n",
       "    </tr>\n",
       "    <tr>\n",
       "      <th>1</th>\n",
       "      <td>514A (Gotham)</td>\n",
       "      <td>He was one of the many prisoners of Indian Hill to be transferred to another facility upstate on...</td>\n",
       "      <td>DC Comics</td>\n",
       "      <td>NaN</td>\n",
       "    </tr>\n",
       "    <tr>\n",
       "      <th>2</th>\n",
       "      <td>A-Bomb</td>\n",
       "      <td>Richard \"Rick\" Jones was orphaned at a young age, and after being expelled from several orphana...</td>\n",
       "      <td>Marvel Comics</td>\n",
       "      <td>Good</td>\n",
       "    </tr>\n",
       "    <tr>\n",
       "      <th>3</th>\n",
       "      <td>Aa</td>\n",
       "      <td>Aa is one of the more passive members of the Pumice People race of Stoneworld. When Hal Jordan a...</td>\n",
       "      <td>DC Comics</td>\n",
       "      <td>Good</td>\n",
       "    </tr>\n",
       "    <tr>\n",
       "      <th>4</th>\n",
       "      <td>Aaron Cash</td>\n",
       "      <td>Aaron Cash is the head of security at Arkham Asylum. He has a hook for a hand after his real han...</td>\n",
       "      <td>DC Comics</td>\n",
       "      <td>Good</td>\n",
       "    </tr>\n",
       "  </tbody>\n",
       "</table>\n",
       "</div>"
      ],
      "text/plain": [
       "            name  \\\n",
       "0        3-D Man   \n",
       "1  514A (Gotham)   \n",
       "2         A-Bomb   \n",
       "3             Aa   \n",
       "4     Aaron Cash   \n",
       "\n",
       "                                                                                          history_text  \\\n",
       "0  Delroy Garrett, Jr. grew up to become a track star and competed in the Olympic Games. After he t...   \n",
       "1  He was one of the many prisoners of Indian Hill to be transferred to another facility upstate on...   \n",
       "2   Richard \"Rick\" Jones was orphaned at a young age, and after being expelled from several orphana...   \n",
       "3  Aa is one of the more passive members of the Pumice People race of Stoneworld. When Hal Jordan a...   \n",
       "4  Aaron Cash is the head of security at Arkham Asylum. He has a hook for a hand after his real han...   \n",
       "\n",
       "         creator alignment  \n",
       "0  Marvel Comics      Good  \n",
       "1      DC Comics       NaN  \n",
       "2  Marvel Comics      Good  \n",
       "3      DC Comics      Good  \n",
       "4      DC Comics      Good  "
      ]
     },
     "execution_count": 3,
     "metadata": {},
     "output_type": "execute_result"
    }
   ],
   "source": [
    "df = df[['name', 'history_text', 'creator', 'alignment']]\n",
    "df.head()"
   ]
  },
  {
   "cell_type": "code",
   "execution_count": 4,
   "metadata": {
    "ExecuteTime": {
     "end_time": "2020-12-21T23:28:11.094238Z",
     "start_time": "2020-12-21T23:28:11.040129Z"
    }
   },
   "outputs": [
    {
     "name": "stdout",
     "output_type": "stream",
     "text": [
      "<class 'pandas.core.frame.DataFrame'>\n",
      "Int64Index: 1167 entries, 0 to 1449\n",
      "Data columns (total 4 columns):\n",
      "name            1167 non-null object\n",
      "history_text    1167 non-null object\n",
      "creator         1167 non-null object\n",
      "alignment       1167 non-null object\n",
      "dtypes: object(4)\n",
      "memory usage: 45.6+ KB\n"
     ]
    }
   ],
   "source": [
    "df.dropna(inplace=True)\n",
    "df.info()"
   ]
  },
  {
   "cell_type": "code",
   "execution_count": 5,
   "metadata": {
    "ExecuteTime": {
     "end_time": "2020-12-21T23:31:08.133734Z",
     "start_time": "2020-12-21T23:31:08.128389Z"
    }
   },
   "outputs": [
    {
     "data": {
      "text/plain": [
       "Good       690\n",
       "Bad        383\n",
       "Neutral     94\n",
       "Name: alignment, dtype: int64"
      ]
     },
     "execution_count": 5,
     "metadata": {},
     "output_type": "execute_result"
    }
   ],
   "source": [
    "df.alignment.value_counts()"
   ]
  },
  {
   "cell_type": "markdown",
   "metadata": {},
   "source": [
    "## Create a pipeline to clean our text \n",
    "\n",
    "1. Remove punctuation\n",
    "2. Tokenization\n",
    "3. Remove stopwords\n",
    "4. Lemmatize/Stem"
   ]
  },
  {
   "cell_type": "code",
   "execution_count": 6,
   "metadata": {
    "ExecuteTime": {
     "end_time": "2020-12-21T23:32:38.321788Z",
     "start_time": "2020-12-21T23:32:38.315961Z"
    }
   },
   "outputs": [
    {
     "data": {
      "text/plain": [
       "'!\"#$%&\\'()*+,-./:;<=>?@[\\\\]^_`{|}~'"
      ]
     },
     "execution_count": 6,
     "metadata": {},
     "output_type": "execute_result"
    }
   ],
   "source": [
    "stopwords = nltk.corpus.stopwords.words('english')\n",
    "ps = nltk.PorterStemmer()\n",
    "string.punctuation"
   ]
  },
  {
   "cell_type": "code",
   "execution_count": 7,
   "metadata": {
    "ExecuteTime": {
     "end_time": "2020-12-21T23:40:02.296607Z",
     "start_time": "2020-12-21T23:39:52.223458Z"
    }
   },
   "outputs": [],
   "source": [
    "def clean_history(history):\n",
    "    history = \"\".join([word for word in history if word not in string.punctuation])\n",
    "    tokens = re.split('\\W+', history)\n",
    "    history = [ps.stem(word) for word in tokens if word not in stopwords]\n",
    "    return history\n",
    "\n",
    "df['history_clean'] = df['history_text'].apply(lambda x: clean_history(x.lower()))\n",
    "\n"
   ]
  },
  {
   "cell_type": "code",
   "execution_count": 8,
   "metadata": {
    "ExecuteTime": {
     "end_time": "2020-12-21T23:40:07.016177Z",
     "start_time": "2020-12-21T23:40:07.005347Z"
    }
   },
   "outputs": [
    {
     "data": {
      "text/html": [
       "<div>\n",
       "<style scoped>\n",
       "    .dataframe tbody tr th:only-of-type {\n",
       "        vertical-align: middle;\n",
       "    }\n",
       "\n",
       "    .dataframe tbody tr th {\n",
       "        vertical-align: top;\n",
       "    }\n",
       "\n",
       "    .dataframe thead th {\n",
       "        text-align: right;\n",
       "    }\n",
       "</style>\n",
       "<table border=\"1\" class=\"dataframe\">\n",
       "  <thead>\n",
       "    <tr style=\"text-align: right;\">\n",
       "      <th></th>\n",
       "      <th>name</th>\n",
       "      <th>history_text</th>\n",
       "      <th>creator</th>\n",
       "      <th>alignment</th>\n",
       "      <th>history_clean</th>\n",
       "    </tr>\n",
       "  </thead>\n",
       "  <tbody>\n",
       "    <tr>\n",
       "      <th>0</th>\n",
       "      <td>3-D Man</td>\n",
       "      <td>Delroy Garrett, Jr. grew up to become a track star and competed in the Olympic Games. After he t...</td>\n",
       "      <td>Marvel Comics</td>\n",
       "      <td>Good</td>\n",
       "      <td>[delroy, garrett, jr, grew, becom, track, star, compet, olymp, game, test, posit, steroid, lost,...</td>\n",
       "    </tr>\n",
       "    <tr>\n",
       "      <th>2</th>\n",
       "      <td>A-Bomb</td>\n",
       "      <td>Richard \"Rick\" Jones was orphaned at a young age, and after being expelled from several orphana...</td>\n",
       "      <td>Marvel Comics</td>\n",
       "      <td>Good</td>\n",
       "      <td>[, richard, rick, jone, orphan, young, age, expel, sever, orphanag, disciplinari, reason, place,...</td>\n",
       "    </tr>\n",
       "    <tr>\n",
       "      <th>3</th>\n",
       "      <td>Aa</td>\n",
       "      <td>Aa is one of the more passive members of the Pumice People race of Stoneworld. When Hal Jordan a...</td>\n",
       "      <td>DC Comics</td>\n",
       "      <td>Good</td>\n",
       "      <td>[aa, one, passiv, member, pumic, peopl, race, stoneworld, hal, jordan, attempt, restart, green, ...</td>\n",
       "    </tr>\n",
       "    <tr>\n",
       "      <th>4</th>\n",
       "      <td>Aaron Cash</td>\n",
       "      <td>Aaron Cash is the head of security at Arkham Asylum. He has a hook for a hand after his real han...</td>\n",
       "      <td>DC Comics</td>\n",
       "      <td>Good</td>\n",
       "      <td>[aaron, cash, head, secur, arkham, asylum, hook, hand, real, hand, eaten, killer, croc]</td>\n",
       "    </tr>\n",
       "    <tr>\n",
       "      <th>5</th>\n",
       "      <td>Aayla Secura</td>\n",
       "      <td>ayla Secura was a Rutian Twi'lek Jedi Knight (and onetime apprentice to Quinlan Vos) who served ...</td>\n",
       "      <td>George Lucas</td>\n",
       "      <td>Good</td>\n",
       "      <td>[ayla, secura, rutian, twilek, jedi, knight, onetim, apprentic, quinlan, vo, serv, clone, war, f...</td>\n",
       "    </tr>\n",
       "  </tbody>\n",
       "</table>\n",
       "</div>"
      ],
      "text/plain": [
       "           name  \\\n",
       "0       3-D Man   \n",
       "2        A-Bomb   \n",
       "3            Aa   \n",
       "4    Aaron Cash   \n",
       "5  Aayla Secura   \n",
       "\n",
       "                                                                                          history_text  \\\n",
       "0  Delroy Garrett, Jr. grew up to become a track star and competed in the Olympic Games. After he t...   \n",
       "2   Richard \"Rick\" Jones was orphaned at a young age, and after being expelled from several orphana...   \n",
       "3  Aa is one of the more passive members of the Pumice People race of Stoneworld. When Hal Jordan a...   \n",
       "4  Aaron Cash is the head of security at Arkham Asylum. He has a hook for a hand after his real han...   \n",
       "5  ayla Secura was a Rutian Twi'lek Jedi Knight (and onetime apprentice to Quinlan Vos) who served ...   \n",
       "\n",
       "         creator alignment  \\\n",
       "0  Marvel Comics      Good   \n",
       "2  Marvel Comics      Good   \n",
       "3      DC Comics      Good   \n",
       "4      DC Comics      Good   \n",
       "5   George Lucas      Good   \n",
       "\n",
       "                                                                                         history_clean  \n",
       "0  [delroy, garrett, jr, grew, becom, track, star, compet, olymp, game, test, posit, steroid, lost,...  \n",
       "2  [, richard, rick, jone, orphan, young, age, expel, sever, orphanag, disciplinari, reason, place,...  \n",
       "3  [aa, one, passiv, member, pumic, peopl, race, stoneworld, hal, jordan, attempt, restart, green, ...  \n",
       "4              [aaron, cash, head, secur, arkham, asylum, hook, hand, real, hand, eaten, killer, croc]  \n",
       "5  [ayla, secura, rutian, twilek, jedi, knight, onetim, apprentic, quinlan, vo, serv, clone, war, f...  "
      ]
     },
     "execution_count": 8,
     "metadata": {},
     "output_type": "execute_result"
    }
   ],
   "source": [
    "df.head()"
   ]
  },
  {
   "cell_type": "markdown",
   "metadata": {},
   "source": [
    "## Vectorizing History Text: TF-IDF"
   ]
  },
  {
   "cell_type": "code",
   "execution_count": 9,
   "metadata": {
    "ExecuteTime": {
     "end_time": "2020-12-22T00:02:55.210054Z",
     "start_time": "2020-12-22T00:02:44.612832Z"
    }
   },
   "outputs": [
    {
     "name": "stdout",
     "output_type": "stream",
     "text": [
      "(1167, 21671)\n",
      "['', '0', '002', '0068', '01', '03', '030', '071', '08', '084', '09', '1', '10', '100', '1000', '10000', '100000', '1000000', '1000000000', '100feet', '100thfloor', '100year', '101', '1014', '103', '105', '107th', '1090', '10ft', '10th', '10yearold', '11', '1165', '117', '118', '1191', '11th', '11yearold', '12', '120', '1200', '12000', '121', '122', '1257', '12th', '13', '132', '1383', '13foot', '13th', '14', '1400', '1417', '142', '145', '1459', '1476', '1479', '14yearsold', '15', '150', '1500', '15000', '1503', '1513', '152', '1524', '154600706', '1576', '1591', '15yearold', '16', '1600', '1602', '1610', '1630', '1666', '167', '168', '1691', '1692', '1698', '16bit', '16th', '17', '170000', '170000year', '1748', '1792', '1797', '17th', '17thcenturi', '18', '1800', '18000', '180degre', '180lb', '1820', '183', '1839', '183rd', '1854', '1860', '1865', '1868', '1872', '1873', '1880', '1882', '1888', '1890', '1892', '1895', '1897', '1899', '18th', '19', '1900', '1901', '1902', '1908', '1910', '1912', '1913', '1914', '1915', '1916', '1917', '1920', '1920and', '1920x1200', '1921', '1925', '1926', '1928', '1929', '1930', '1932', '1933', '1934', '1935', '1936', '1937', '1938', '1939', '1940', '1941', '1941when', '1942', '1943', '1944', '1945', '1946', '1947', '1948', '194858', '1949', '195', '1950', '1951', '1952', '1953', '1954', '1955', '1956', '1957', '1958', '1959', '1960', '1961', '1962', '1963', '1964', '1965', '1967', '1968', '1969', '1970', '1971', '1972', '1973', '1974', '1975', '1976', '1977', '1978', '1979', '198', '1980', '1981', '1982', '1983', '1984', '1985', '1986', '1987', '1988', '1989', '1990', '1991', '1992', '1993', '1995', '1996', '19961997', '1997', '1998', '19982003', '1999', '199x', '19th', '1P', '1after', '1jpg', '1st', '2', '20', '200', '2000', '20000', '200000', '2001', '2002', '2003', '20032009', '2004', '2005', '2005hbi', '2006', '2006edit', '2007', '2009', '2010', '2011', '2012', '2012hbi', '2013', '2014', '2015', '2016', '20160622', '2017', '2018', '2020', '2023', '2027', '2029', '2044', '206', '2091', '2099', '20th', '21', '210', '2151', '2166', '21st', '21xx', '22', '221b', '2256', '22nd', '23', '2336', '2338', '2341', '2345', '2348', '2360', '23rd', '24', '240', '242', '245000', '246', '2463', '25', '250', '25th', '26', '27', '2730', '276', '27th', '28000', '281', '2813', '2814', '2828', '29', '2920', '2930', '2931', '2950', '297', '29th', '2edit', '2hbi', '2nd', '2s', '3', '30', '300', '3000', '300stori', '300th', '3019', '3035', '3052', '30th', '31st', '32', '3235', '327th', '3306', '34', '343', '344', '34th', '3500', '35000', '35th', '36', '3601', '360degre', '3653', '366', '369', '3952', '3D', '3edit', '3hbi', '3x29yz4a', '4', '40', '400', '4000', '40000', '40th', '40thcenturi', '41', '42', '42nd', '43', '438', '44', '45', '450', '459', '46', '48', '489', '49', '4edit', '4th', '4x4', '5', '50', '500', '5000', '50000000', '50state', '51', '52', '520', '53', '54', '544', '56', '5882', '5dimension', '5s', '5th', '6', '60', '600', '60searli', '615', '616', '617', '62', '62diana', '63', '63100', '64000', '64th', '65', '650', '657', '66', '666', '6700', '6s', '6th', '7', '70', '700', '7000', '72', '72diana', '73', '74', '75', '75th', '76', '7677', '7734', '7eleven', '7th', '8', '80', '800', '80hour', '82', '83', '850', '85300', '853rd', '879', '88', '89100', '893', '89p13', '8bit', '8th', '9', '90', '900', '9000000000', '9010', '904', '908', '91', '910', '911', '914', '95', '97', '98', '99', '99minut', '9howev', '9s', '9th', 'A', 'AC', 'AD', 'AI', 'AJ', 'AM', 'AS', 'Aa', 'Al', 'Am', 'An', 'As', 'At', 'B', 'B4', 'BB', 'BC', 'BW', 'Ba', 'Be', 'Bl', 'By', 'C', 'C4', 'CA', 'CB', 'CC', 'CD', 'Co', 'D', 'DA', 'DC', 'DH', 'DI', 'DJ', 'DL', 'DP', 'DR', 'DW', 'De', 'Do', 'Dr', 'Du', 'E', 'EX', 'Ed', 'El', 'En', 'Es', 'Eä', 'F', 'FF', 'Fa', 'Fi', 'Fu', 'G', 'GI', 'GL', 'GW', 'Gi', 'Go', 'Gs', 'H', 'HC', 'HF', 'HG', 'HQ', 'HR', 'He', 'Ho', 'Hs', 'I', 'ID', 'II', 'IL', 'IN', 'IQ', 'IT', 'IV', 'IX', 'Id', 'If', 'Il', 'Im', 'In', 'Is', 'It', 'Ix', 'J', 'JD', 'JE', 'JJ', 'JT', 'Jr', 'K', 'KT', 'L', 'LA', 'LR', 'La', 'Le', 'Li', 'Lo', 'Lt', 'M', 'M4', 'M9', 'MJ', 'MK', 'MO', 'MY', 'Ma', 'Mk', 'Mr', 'Ms', 'Mt', 'My', 'N', 'N1', 'N2', 'NY', 'Na', 'No', 'Nr', 'O', 'OF', 'OK', 'OR', 'OX', 'OZ', 'Oa', 'Of', 'On', 'Or', 'Oz', 'PC', 'PD', 'PE', 'PI', 'PJ', 'PR', 'Pa', 'Ph', 'Pi', 'Po', 'Q', 'R', 'RD', 'Ra', 'Rs', 'S', 'S3', 'SS', 'Si', 'So', 'Sr', 'St', 'T', 'TA', 'TE', 'TO', 'TV', 'TX', 'To', 'U', 'UK', 'UN', 'US', 'Un', 'Us', 'V', 'V3', 'VI', 'VJ', 'Ve', 'Vs', 'W', 'WW', 'We', 'Ws', 'Wu', 'X', 'X1', 'X4', 'X5', 'X6', 'X7', 'XS', 'Xi', 'Xs', 'Y', 'Yu', 'Z', 'Z2', 'Z3', 'Z9', 'ZX', 'Zo', 'Zs', 'aa', 'aab', 'aakon', 'aan', 'aaron', 'aaronson', 'aback', 'abandon', 'abat', 'abattoir', 'abbatoir', 'abbi', 'abbott', 'abccd', 'abcess', 'abdic', 'abdol', 'abdomen', 'abduct', 'abducte', 'abductor', 'abe', 'abel', 'abeloth', 'aberforth', 'aberr', 'aberrationcr', 'abet', 'abhor', 'abi', 'abid', 'abigail', 'abil', 'abilisk', 'abilitiesattack', 'abin', 'abira', 'abject', 'abl', 'ablaz', 'ablebodi', 'ablo', 'abner', 'abnorm', 'aboard', 'abod', 'abomb', 'abomin', 'abonsam', 'aborigin', 'abort', 'abound', 'about', 'abov', 'aboveaverag', 'abovehuman', 'abra', 'abraham', 'abraxa', 'abroad', 'abrupt', 'abruptli', 'abscond', 'absenc', 'absencehippolyta', 'absent', 'absolut', 'absolv', 'absorb', 'absorpt', 'abstract', 'abu', 'abund', 'abus', 'abysm', 'abyss', 'academ', 'academi', 'academia', 'acanti', 'acced', 'acceler', 'accept', 'acceptedbefor', 'acceptserik', 'access', 'accessori', 'accid', 'accident', 'accidenti', 'acclaim', 'acclim', 'accommod', 'accompain', 'accompani', 'accomplic', 'accomplish', 'accord', 'accordingli', 'accost', 'account', 'accredit', 'accumul', 'accur', 'accuraci', 'accurs', 'accus', 'accustom', 'ace', 'ach', 'acheb', 'acheron', 'achiev', 'achievewhil', 'achil', 'achiltarian', 'achm', 'acid', 'acidia', 'acidresist', 'acknowledg', 'aclass', 'aclin', 'acolyt', 'acorn', 'acp', 'acquaint', 'acquiesc', 'acquir', 'acquisit', 'acquit', 'acquitt', 'acr', 'acrimoni', 'acrobat', 'acronym', 'acrophobia', 'acropoli', 'across', 'act', 'action', 'actionori', 'activ', 'activist', 'actor', 'actress', 'actual', 'actuat', 'acuiti', 'acumen', 'acut', 'ad', 'ada', 'adair', 'adam', 'adamantium', 'adamantiumlac', 'adamantli', 'adapt', 'adaptoid', 'adaptold', 'add', 'adder', 'addict', 'addit', 'addl', 'address', 'addtion', 'ade', 'adelin', 'adept', 'adequ', 'adg', 'adher', 'adhes', 'adhoc', 'adirondack', 'adjac', 'adjust', 'adler', 'adm', 'administ', 'administr', 'administrationlex', 'admir', 'admiringli', 'admiss', 'admit', 'admittedli', 'admonish', 'ado', 'adolesc', 'adolf', 'adopt', 'ador', 'adorn', 'adren', 'adrenalin', 'adress', 'adrian', 'adriana', 'adrianna', 'adrienn', 'adrift', 'adul', 'adult', 'adulthood', 'adultlook', 'advanc', 'advancehbi', 'advantag', 'advent', 'adventur', 'adventureedit', 'adventurehbi', 'adventurerh', 'adventurist', 'advers', 'adversari', 'advertis', 'advic', 'advis', 'advisor', 'advisorfamili', 'advoc', 'aegaeon', 'aegi', 'aelfyr', 'aelkh', 'aentaro', 'aeona', 'aeri', 'aerial', 'aerialist', 'aero', 'aerob', 'aeronaut', 'aeroplan', 'aerospac', 'aesir', 'aesthet', 'aether', 'aetherpronounc', 'afar', 'affair', 'affect', 'affection', 'affili', 'affin', 'affirm', 'affix', 'affliat', 'afflict', 'affluent', 'afford', 'afghani', 'afghanistan', 'aficionado', 'aflam', 'aforement', 'afoul', 'afraid', 'africa', 'african', 'africanamerican', 'after', 'aftereffect', 'afterimag', 'afterlif', 'aftermath', 'afternoon', 'aftershock', 'afterward', 'afterwhich', 'afterword', 'afteward', 'again', 'againjessica', 'againoff', 'againor', 'against', 'againsth', 'againwhich', 'agamemno', 'agamemnon', 'agamotto', 'agarashima', 'agartha', 'agatha', 'age', 'agehi', 'ageless', 'agemotto', 'agenc', 'agenda', 'agent', 'agentbut', 'ageold', 'ager', 'agesold', 'aggamon', 'aggrav', 'aggreg', 'aggress', 'aggressor', 'agil', 'agit', 'ago', 'agon', 'agoni', 'agoraphobia', 'agre', 'agreedupon', 'agreement', 'agricultur', 'agua', 'aguila', 'agwel', 'ahab', 'ahard1', 'ahchto', 'ahead', 'ahkton', 'ahmet', 'ahold', 'ai', 'aickman', 'aid', 'aida', 'aidedecamp', 'aidlat', 'aiguil', 'ail', 'ailev', 'ailment', 'aim', 'aimless', 'aimlessli', 'ainet', 'ainur', 'air', 'airbas', 'airborn', 'aircraft', 'airgun', 'airi', 'airlift', 'airlock', 'airman', 'airmen', 'airplan', 'airport', 'airship', 'airwalk', 'airway', 'airworthi', 'aisl', 'ajax', 'aka', 'akahiro', 'akat', 'akatsuki', 'akiba', 'akihira', 'akihiro', 'akiko', 'akin', 'akira', 'akita', 'akkaba', 'akvar', 'al', 'ala', 'alabama', 'aladon', 'alamo', 'alamogordo', 'alan', 'alani', 'alanna', 'alar', 'alarm', 'alaska', 'alaskan', 'alaskanbas', 'alastair', 'albani', 'albatross', 'albeit', 'albert', 'alberta', 'alberto', 'albino', 'albu', 'album', 'alcatraz', 'alchem', 'alchemax', 'alchemi', 'alchemist', 'alcohol', 'alcov', 'alderaan', 'aldo', 'aldrich', 'aldrif', 'aldu', 'alec', 'alecto', 'aleist', 'alejandra', 'aleksand', 'aleksei', 'alert', 'aletheia', 'alex', 'alexand', 'alexandr', 'alexandra', 'alexandria', 'alexandrova', 'alexi', 'alexia', 'alf', 'alfeo', 'alfr', 'algeria', 'algorithm', 'algrim', 'ali', 'alia', 'alias', 'alibi', 'alic', 'alicia', 'alien', 'alienborn', 'alienlik', 'alienmachin', 'align', 'alik', 'alin', 'alioth', 'alison', 'alistair', 'aliv', 'aliya', 'alkali', 'alkhema', 'all', 'allamerican', 'allan', 'allat', 'allboy', 'allconsum', 'alldiffer', 'alldormammu', 'alleg', 'allegedli', 'allegi', 'allegra', 'allen', 'allend', 'allenth', 'allenthawn', 'allerdyc', 'allerg', 'allevi', 'alley', 'alleyway', 'allfath', 'allfemal', 'allgod', 'allhear', 'alli', 'allianc', 'allianceh', 'allig', 'alligatorlik', 'allin', 'allison', 'allmighti', 'allnew', 'alloc', 'allot', 'allout', 'allow', 'allows', 'alloy', 'allpow', 'allr', 'allse', 'allsion', 'allstar', 'alltim', 'allud', 'allur', 'allura', 'allus', 'allvillain', 'allwat', 'allwinn', 'allwomen', 'alma', 'almanian', 'almerac', 'almighti', 'almost', 'almosthuman', 'alomar', 'alon', 'along', 'alongin', 'alongsid', 'alonzo', 'aloof', 'alot', 'aloud', 'alow', 'aloysiu', 'alp', 'alpha', 'alphan', 'alphonso', 'alqualondë', 'alraun', 'alreadi', 'alreadygrow', 'alreadyincreas', 'alright', 'alsibar', 'also', 'alsopowerless', 'altamont', 'altar', 'altaïr', 'alter', 'alterc', 'alterego', 'altern', 'alternativer', 'althea', 'although', 'altin', 'altogeth', 'altruism', 'altruist', 'alucard', 'alumni', 'alumnu', 'alura', 'alveu', 'alvin', 'alway', 'alyosha', 'alzheim', 'alí', 'alġūl', 'amadeu', 'amahl', 'amalgam', 'aman', 'amanda', 'amanw', 'amaquelin', 'amass', 'amateur', 'amatsumikaboshi', 'amaya', 'amaz', 'amazingli', 'amazo', 'amazon', 'amazonatlantean', 'amazonian', 'amazonsbut', 'ambassador', 'amber', 'ambient', 'ambigu', 'ambit', 'ambiti', 'ambra', 'ambul', 'ambur', 'ambush', 'amegakur', 'amelia', 'amelior', 'amend', 'amenhotep', 'america', 'america14', 'america2', 'american', 'americanbas', 'amertek', 'amethyst', 'ami', 'amiabl', 'amiba', 'amic', 'amid', 'amidala', 'amidst', 'amik', 'amiko', 'amir', 'amiss', 'amka', 'ammo', 'ammor', 'ammunit', 'amnes', 'amnesia', 'amnesiac', 'amnesti', 'amo', 'amok', 'amon', 'among', 'amongst', 'amor', 'amora', 'amount', 'amp', 'amphibi', 'amphibian', 'amphitheat', 'amphora', 'ampli', 'amplif', 'amplifi', 'amput', 'amputateddespond', 'ampute', 'amra', 'amrod', 'amsterdam', 'amuk', 'amulet', 'amundsen', 'amus', 'amygdala', 'ana', 'anachron', 'anachronaut', 'anaconda', 'anagram', 'anahid', 'anakin', 'analog', 'analys', 'analysi', 'analyst', 'analyt', 'analyz', 'anansi', 'anarchi', 'anarchist', 'anarki', 'anasta', 'anathema', 'anatoli', 'anatom', 'anatomi', 'anbu', 'ancestor', 'ancestori', 'ancestr', 'ancestri', 'anchor', 'anchorag', 'ancient', 'and', 'ander', 'anderson', 'anderssen', 'andi', 'ando', 'andor', 'andrea', 'andrew', 'android', 'andromeda', 'anem', 'anesthet', 'aneurysm', 'anew', 'angar', 'angband', 'angel', 'angela', 'angeldust', 'angelfac', 'angelhuman', 'angelica', 'angelo', 'angelu', 'anger', 'angl', 'anglia', 'anglicis', 'angmar', 'angmo', 'angri', 'angrier', 'angrili', 'angst', 'angstrom', 'anguish', 'ani', 'anihiluss', 'aniihilu', 'anim', 'anima', 'animalbas', 'animalist', 'animallik', 'animalmen', 'animen', 'animos', 'aningan', 'ankh', 'ankhshap', 'ankl', 'ann', 'anna', 'annale', 'annataz', 'annett', 'annex', 'anni', 'annihil', 'annihilu', 'anniversari', 'announc', 'annoy', 'annual', 'annul', 'annunak', 'annunaki', 'anomal', 'anomali', 'anonym', 'anor', 'anoth', 'anskar', 'answer', 'ant', 'antagon', 'antagonist', 'antarct', 'antarctica', 'antebellum', 'antenna', 'anther', 'anthil', 'anthites', 'anthoni', 'anthro', 'anthropologist', 'anthropomorph', 'anthropomorpho', 'anti', 'antialien', 'antiapocalyps', 'antibiohazard', 'antibiot', 'antibodi', 'antibow', 'antic', 'anticap', 'antichrist', 'anticip', 'anticlimact', 'anticoagul', 'antidemon', 'antidot', 'antielectron', 'antigay', 'antigrav', 'antiguo', 'antihero', 'antihuman', 'antijedi', 'antilif', 'antimatt', 'antimet', 'antimonitor', 'antimonitortth', 'antimus', 'antimut', 'antinew', 'antiop', 'antiparticl', 'antipathi', 'antiphalanx', 'antiqu', 'antir', 'antireach', 'antiregistr', 'antisigma', 'antisoci', 'antispawn', 'antisup', 'antisuperhero', 'antisuperhuman', 'antisuperman', 'antiterror', 'antithesi', 'antititan', 'antitoxin', 'antitrust', 'antiumbrella', 'antivenom', 'antivir', 'antiviru', 'antiwar', 'antman', 'antoinett', 'anton', 'antonio', 'anu', 'anubi', 'anung', 'anvil', 'anwar', 'anxieti', 'anxiou', 'anya', 'anybodi', 'anymor', 'anyon', 'anyth', 'anytim', 'anyway', 'anywhen', 'anywher', 'aoa', 'apach', 'apart', 'apartheid', 'apathet', 'apathi', 'ape', 'apeman', 'apertur', 'aphrodit', 'apicultur', 'apocalyps', 'apocalypt', 'apocryph', 'apokolip', 'apokolipsth', 'apokolipt', 'apokoliptian', 'apollo', 'apolog', 'apologet', 'apologis', 'apostl', 'apoto', 'app', 'appal', 'appar', 'apparantli', 'apparatu', 'apparel', 'apparentlyresurrect', 'apparit', 'apparnetli', 'appeal', 'appear', 'appearancea', 'appeas', 'appel', 'appellaxian', 'appendag', 'apper', 'appetit', 'appl', 'applaud', 'applaxian', 'appleg', 'appleton', 'appli', 'applic', 'appoint', 'appreci', 'apprehend', 'apprehens', 'apprentic', 'apprenticeship', 'approach', 'appropri', 'approv', 'approxim', 'aprhodit', 'april', 'apt', 'aptitud', 'aptli', 'aqua', 'aquababi', 'aquacav', 'aquadog', 'aquagirl', 'aqualad', 'aquaman', 'aquaria', 'aquarian', 'aquarium', 'aquat', 'aquawar', 'aqueo', 'aquista', 'aquon', 'ar', 'arab', 'arabian', 'arac', 'arachn', 'arachnaught', 'arachnid', 'arachnidlik', 'aragorn', 'aragoth', 'araki', 'aramilla', 'arataz', 'arathaza', 'arathorn', 'araña', 'arbi', 'arbit', 'arbogast', 'arc', 'arcad', 'arcadia', 'arcadian', 'arcan', 'arch', 'archaeolog', 'archaeologist', 'archangel', 'archbishop', 'archenemi', 'archeolog', 'archer', 'archeri', 'archfo', 'archi', 'archimed', 'architecht', 'architect', 'archiv', 'archnemesi', 'archriv', 'archvillain', 'arclight', 'arcolog', 'arctic', 'arcturu', 'arda', 'ardant', 'ardeen', 'ardent', 'ardina', 'arduou', 'are', 'area', 'arena', 'arent', 'aresbefor', 'aresdonna', 'aresevil', 'aress', 'argent', 'argentina', 'argo', 'argonaut', 'argor', 'argosi', 'argu', 'arguabl', 'argument', 'ari', 'ariana', 'arianna', 'arid', 'ariel', 'arin', 'arion', 'aris', 'arisen', 'arishem', 'arisia', 'aristotl', 'ariv', 'ariz', 'arizecr', 'arizona', 'ark', 'arkadi', 'arkadin', 'arkham', 'arkhamit', 'arkillo', 'arklay', 'arkon', 'arlington', 'arm', 'armada', 'armadillo', 'armadillotyp', 'armageddon', 'armagh', 'armament', 'armand', 'armando', 'armbrust', 'armenian', 'armi', 'armitag', 'armivolkoff', 'armor', 'armorbound', 'armorhowev', 'armori', 'armorlik', 'armorpl', 'armorr', 'armorwield', 'armour', 'armrest', 'armsdeal', 'armstech', 'armstrong', 'armstrongnow', 'arnim', 'arno', 'arnold', 'arnor', 'arnu', 'aron', 'arondight', 'aros', 'around', 'arous', 'arraign', 'arrang', 'array', 'arrempt', 'arrest', 'arriv', 'arrivalson', 'arrog', 'arrogantli', 'arrow', 'arrowblack', 'arrowcav', 'arrowett', 'arrowhead', 'arroyo', 'arryn', 'arsen', 'arson', 'art', 'artbook', 'artemi', 'artemison', 'artemiss', 'arthrit', 'arthro', 'arthur', 'arti', 'artic', 'articl', 'articleno', 'articul', 'artif', 'artifact', 'artifici', 'artificiallydesign', 'artisan', 'artist', 'artoo', 'artwork', 'artysgran', 'aryan', 'asai', 'asbesto', 'ascend', 'ascens', 'ascertain', 'asexu', 'asgard', 'asgardian', 'ash', 'ashak', 'ashalanti', 'asham', 'ashara', 'ashburi', 'ashema', 'ashford', 'ashfordown', 'ashley', 'ashor', 'ashram', 'ashwood', 'asi', 'asia', 'asian', 'asid', 'ask', 'askani', 'askanison', 'askari', 'askew', 'asleep', 'asmodeu', 'asmund', 'asneed', 'asp', 'asparagu', 'aspect', 'aspir', 'asquith', 'ass', 'assail', 'assassin', 'assassinlon', 'assault', 'assembl', 'assemblag', 'assert', 'assess', 'asset', 'assign', 'assimil', 'assist', 'associ', 'assort', 'assuag', 'assum', 'assumpt', 'assur', 'astaroth', 'asteroid', 'asteroth', 'asthmat', 'astirh', 'astonish', 'astonishingli', 'astound', 'astra', 'astral', 'astrild', 'astromech', 'astronaut', 'astronom', 'astronomi', 'astrophys', 'astrophysicist', 'astrov', 'astrovik', 'asuka', 'asuma', 'asylum', 'asylumamygdala', 'asylumsom', 'atagonist', 'atcu', 'ate', 'ater', 'atheism', 'atheist', 'athena', 'athenian', 'athlet', 'atillan', 'atla', 'atlan', 'atlanna', 'atlanson', 'atlant', 'atlanta', 'atlantean', 'atlanteanamazon', 'atlanterra', 'atlanti', 'atlantiss', 'atlasdecid', 'atlass', 'atlena', 'atleza', 'atm', 'atmogun', 'atmospher', 'atol', 'atom', 'atomica', 'atomsmash', 'aton', 'atop', 'atrium', 'atroc', 'atrocitu', 'atrocituss', 'atsuko', 'attach', 'attack', 'attain', 'attempt', 'attemptthi', 'attend', 'attende', 'attent', 'attentionamygdala', 'attentionwhor', 'attilan', 'attir', 'attitud', 'attorney', 'attract', 'attribut', 'attuma', 'attun', 'atyp', 'aubrey', 'auction', 'audac', 'audaci', 'audienc', 'audio', 'audit', 'auditor', 'auditori', 'auditorium', 'audmilla', 'aug', 'augment', 'august', 'augustin', 'augustyn', 'aulin', 'aulë', 'aunt', 'aunti', 'aura', 'auran', 'auron', 'aurora', 'aurra', 'auschwitz', 'auspic', 'austin', 'australia', 'australian', 'austria', 'austrian', 'authent', 'author', 'autist', 'auto', 'autobiograph', 'autobiographi', 'autobot', 'autogenocid', 'autograph', 'autom', 'automat', 'automaton', 'automechan', 'automobil', 'autonom', 'autonomi', 'autopsi', 'autumn', 'avail', 'avalanch', 'avalon', 'avaric', 'avarrish', 'avatar', 'avathar', 'ave', 'aveng', 'avengersdefend', 'avengershamm', 'avengerssh', 'avengersxmen', 'avenu', 'averag', 'averi', 'avernu', 'avers', 'avert', 'avia', 'aviat', 'avid', 'avidli', 'avil', 'avneg', 'avoid', 'avram', 'avril', 'aw', 'await', 'awak', 'awaken', 'awar', 'award', 'awash', 'away', 'awc', 'awe', 'awesom', 'awestruck', 'awhil', 'awkward', 'awkwardli', 'awok', 'awoken', 'awri', 'ax', 'axe', 'axel', 'axeman', 'axi', 'axiscr', 'axl', 'axlon', 'axman', 'axonnkarr', 'aydin', 'ayesha', 'ayla', 'azarath', 'azazel', 'azbat', 'azbrian', 'azeuz', 'azimuth', 'azkaban', 'azmodu', 'azrael', 'aztar', 'aztec', 'azur', 'b', 'b00m', 'b12', 'b13', 'b52', 'baa', 'baal', 'baba', 'babayaga', 'babbag', 'babbl', 'babciu', 'babe', 'babel', 'babi', 'babidi', 'babylon', 'babysat', 'babysit', 'babysitt', 'bach', 'bachelor', 'bachelorett', 'back', 'backbon', 'backchannel', 'backend', 'backer', 'backfir', 'background', 'backhand', 'backlash', 'backpag', 'backplot', 'backseat', 'backslid', 'backstag', 'backstori', 'backup', 'backward', 'backwat', 'bacteri', 'bacteria', 'bad', 'badboy', 'bade', 'badg', 'badli', 'badmouth', 'badnik', 'badoon', 'bae', 'baelish', 'baffler', 'bag', 'bagalia', 'baggag', 'baggin', 'baghdad', 'bahama', 'bail', 'bailey', 'bailiff', 'bain', 'bait', 'bake', 'baker', 'bakuto', 'balanc', 'balazo', 'balconi', 'bald', 'balder', 'baldi', 'baldwin', 'baldwinspeedbal', 'balgravia', 'baligiest', 'balk', 'balkan', 'balkatar', 'ball', 'ballard', 'ballcatch', 'ballerina', 'ballist', 'balloon', 'ballostro', 'balrog', 'baltag', 'baluur', 'bambi', 'bamf', 'ban', 'bana', 'banamighdal', 'banamishdal', 'banana', 'banapur', 'bancon', 'band', 'bandag', 'bandit', 'bando', 'bane', 'bang', 'bangda', 'bani', 'banish', 'bank', 'banker', 'bankrol', 'bankrupt', 'bankruptci', 'banner', 'bannermain', 'bannist', 'banquet', 'banshe', 'bantam', 'banter', 'baphomet', 'bar', 'baraba', 'baraka', 'baran', 'baratheon', 'barb', 'barbar', 'barbara', 'barbari', 'barbarian', 'barbaricscientif', 'barbera', 'barbi', 'bard', 'barda', 'bardock', 'bare', 'baredo', 'barest', 'barg', 'bargain', 'bargainbas', 'barim', 'barista', 'bark', 'barlow', 'barn', 'barnacl', 'barnel', 'barnett', 'barney', 'baro', 'baron', 'baroncit', 'barracuda', 'barrag', 'barrel', 'barren', 'barri', 'barrier', 'barrington', 'barristan', 'barsalini', 'bart', 'bartend', 'barter', 'bartino', 'bartley', 'barton', 'baryon', 'base', 'basebal', 'baselin', 'basement', 'bash', 'basi', 'basic', 'basil', 'basilia', 'basiliaand', 'basilisk', 'basin', 'basket', 'basketbal', 'bass', 'bassdrak', 'bassnium', 'basss', 'bast', 'bastard', 'bastion', 'bat', 'batarang', 'batbunk', 'batcav', 'batch', 'batclan', 'batcow', 'batfamili', 'batgirl', 'batgod', 'bath', 'bathroom', 'batlash', 'batlik', 'batman', 'batmanbatpng', 'batmen', 'batmit', 'batmobil', 'batplan', 'batroc', 'batrocket', 'batrop', 'batsi', 'batsign', 'batson', 'batsuit', 'battalion', 'batter', 'batteredbut', 'batteri', 'batterypow', 'batterytransform', 'battl', 'battleax', 'battlefield', 'battlefront', 'battleground', 'battlehbi', 'battleravag', 'battleship', 'battlestar', 'battlesuit', 'battletothedeath', 'battleworld', 'batvehicl', 'batw', 'batwoman', 'bauer', 'bavarian', 'baxter', 'bay', 'bayonet', 'bayou', 'baz', 'bazin', 'bb8', 'bbi', 'bclass', 'be', 'bea', 'beach', 'beachhead', 'beacon', 'beak', 'beaker', 'beal', 'beam', 'bean', 'bear', 'bearabl', 'beard', 'bearer', 'beas', 'beast', 'beastial', 'beastli', 'beastmen', 'beat', 'beatdown', 'beaten', 'beatric', 'beatriz', 'beatup', 'beau', 'beaubier', 'beaumont', 'beauti', 'beautia', 'beaver', 'becam', 'becamecit', 'becaus', 'beck', 'beckett', 'becki', 'beckman', 'beckon', 'becom', 'become1', 'bed', 'bedevil', 'bedlam', 'bedridden', 'bedrock', 'bedroom', 'bedsid', 'bee', 'beef', 'beehiv', 'beelin', 'beelzeboul', 'beelzebub', 'beep', 'beer', 'beetl', 'befal', 'befallen', 'befel', 'befor', 'beforealison', 'beforehand', 'befriend', 'beg', 'began', 'beggar', 'begin', 'beginn', 'begrudgingli', 'begun', 'behalf', 'behav', 'behavior', 'behaviour', 'behead', 'behemoth', 'behest', 'behind', 'behold', 'beholden', 'beingshowev', 'bek', 'bekka', 'belasco', 'belatedli', 'beleagu', 'belem', 'beleriand', 'belgium', 'beli', 'belief', 'believ', 'belinskya', 'belittl', 'bell', 'bella', 'bellatrix', 'bellevu', 'bellhop', 'belli', 'belling', 'belloc', 'bellona', 'bellow', 'belmond', 'belmont', 'belnad', 'beloit', 'belong', 'belov', 'belova', 'below', 'belt', 'beltan', 'ben', 'bench', 'benchpress', 'bend', 'bender', 'bendix', 'beneath', 'benedicto', 'benefactor', 'benefici', 'benefit', 'benetech', 'benevol', 'bengal', 'benign', 'benjamin', 'benji', 'bennet', 'bennett', 'benson', 'bent', 'bentley', 'benton', 'bequeath', 'berat', 'bere', 'bereav', 'bereft', 'beret', 'beric', 'berkana', 'berkhart', 'berkshir', 'berlin', 'bermuda', 'bernadeth', 'bernard', 'bernhard', 'berni', 'berra', 'berserk', 'bertha', 'berthold', 'bertinelli', 'bertrand', 'bertron', 'berzerk', 'beseech', 'beset', 'besid', 'besieg', 'beskar', 'best', 'bestfriend', 'bestfrozon', 'besti', 'bestial', 'bestiamorph', 'bestla', 'bestman', 'bestow', 'bestsel', 'bet', 'beta', 'beth', 'bethani', 'bethlehem', 'bethmora', 'betray', 'betroth', 'betsi', 'bett', 'better', 'betti', 'between', 'bevan', 'beverli', 'bevi', 'bewild', 'bewilder', 'bewitch', 'beyond', 'bff', 'bg60', 'bgtzlian', 'bhutan', 'bialya', 'bianca', 'bibbo', 'bibbow', 'bibbowski', 'bibeast', 'bibl', 'biblic', 'bicker', 'bicycl', 'bid', 'bidder', 'bide', 'bidonvil', 'bidor', 'bifrost', 'big', 'bigdaddi', 'bigfoot', 'bigg', 'bigger', 'biggest', 'bigot', 'bigotri', 'bigtim', 'bike', 'biker', 'bill', 'billboard', 'billboy', 'billh', 'billi', 'billion', 'billionair', 'billiondollar', 'billionth', 'billiontoon', 'bin', 'binari', 'bind', 'bing', 'bink', 'bio', 'biobelt', 'biochem', 'biochemist', 'biochemistri', 'biochip', 'biodefens', 'bioelectr', 'bioenergi', 'bioengin', 'biograph', 'biographi', 'biohazard', 'biolizard', 'biolog', 'biologist', 'biomed', 'biomet', 'biomolecular', 'bionic', 'biophys', 'bioplasm', 'bioplast', 'biopsi', 'biorestor', 'bioscienc', 'biosentinel', 'bioshop', 'biospher', 'biostasi', 'biot', 'biotech', 'biotechnolog', 'biowar', 'biowarfar', 'bioweapon', 'biped', 'bird', 'birdboy', 'birdbrain', 'birdgirl', 'birdi', 'birdlik', 'birdman', 'birdshap', 'birkin', 'birmingham', 'birth', 'birthday', 'birthgiven', 'birthmark', 'birthplac', 'birthright', 'bishop', 'bison', 'bist', 'bit', 'bite', 'bitten', 'bitter', 'bitterli', 'bittersweet', 'bivolo', 'bizarr', 'bizarro', 'bizarrobrainiac', 'bizarrogirl', 'bizarrojla', 'bizarroluthor', 'bizzaro', 'black', 'blackagar', 'blackandwhit', 'blackbeard', 'blackbird', 'blackedout', 'blacken', 'blackest', 'blackfir', 'blackfoot', 'blackfyr', 'blackgat', 'blackguard', 'blackhawk', 'blackheart', 'blackheath', 'blackhol', 'blacki', 'blacklash', 'blacklight', 'blacklist', 'blackmail', 'blackmarket', 'blackop', 'blackout', 'blacksmith', 'blacksnak', 'blacksuit', 'blackw', 'blackwatch', 'blackwel', 'bladder', 'blade', 'blair', 'blak', 'blake', 'blame', 'blameless', 'blanc', 'blanco', 'bland', 'blank', 'blanket', 'blaquesmith', 'blart', 'blasphemi', 'blast', 'blastaar', 'blastarr', 'blaster', 'blastsit', 'blatant', 'blaze', 'bleach', 'bleak', 'bleed', 'bleez', 'blend', 'bless', 'bletchley', 'blew', 'bli', 'blight', 'blimp', 'blind', 'blindfold', 'blindli', 'blindsid', 'blindspot', 'bling', 'blink', 'blinkbomb', 'bliss', 'blister', 'blitz', 'blitzkrieg', 'blitzschlag', 'blizzack', 'blizzard', 'bloat', 'blob', 'bloc', 'bloch', 'block', 'blockad', 'blockbust', 'blocker', 'blond', 'blondhair', 'blonski', 'blood', 'bloodax', 'bloodbroth', 'bloodcraz', 'bloodfil', 'bloodhawk', 'bloodi', 'bloodlin', 'bloodlust', 'bloodsh', 'bloodsport', 'bloodston', 'bloodstorm', 'bloodsuck', 'bloodthirst', 'bloodthirsti', 'bloodtox', 'bloodwraith', 'bloodwynd', 'bloom', 'blossom', 'blow', 'blown', 'blowout', 'blubberi', 'bludgeon', 'bludhaven', 'blue', 'bluebird', 'blueprint', 'blueskin', 'bluewhit', 'bluf', 'bluff', 'bluish', 'blunder', 'blunt', 'blur', 'blurri', 'blüdhaven', 'bnee', 'bo', 'board', 'boarder', 'boardman', 'boast', 'boat', 'boathous', 'boatload', 'bob', 'bobbi', 'bobo', 'boch', 'bode', 'bodi', 'bodili', 'bodkin', 'bodog', 'bodybend', 'bodybuild', 'bodyguard', 'bodyslid', 'bodysuit', 'bodyswap', 'bodywid', 'bog', 'bogan', 'bogu', 'bohusk', 'boi', 'boil', 'bokk', 'bokor', 'bold', 'boldli', 'bolivar', 'bolland', 'bollar', 'bolovax', 'bolovaxian', 'bolster', 'bolt', 'boltagon', 'boltengrav', 'bomb', 'bombard', 'bombay', 'bomber', 'bombshel', 'bond', 'bondsman', 'bone', 'bonepl', 'boness', 'bonett', 'bonfir', 'bong', 'bonnet', 'bonusi', 'boo', 'boobi', 'boobytrap', 'boodikka', 'boogeyman', 'book', 'bookburn', 'bookish', 'bookkeep', 'boom', 'boomboom', 'boomer', 'boomerang', 'boomtub', 'boon', 'boost', 'booster', 'boot', 'booth', 'bootleg', 'booz', 'bor', 'bora', 'borazzon', 'bordeaux', 'border', 'borderlin', 'bore', 'borea', 'boreal', 'boreali', 'boredom', 'borg', 'borgia', 'bori', 'born', 'boro', 'borrow', 'boschelli', 'boshtok', 'bosnia', 'bosqueverd', 'boss', 'bossman', 'bosss', 'bostaff', 'boston', 'bot', 'botan', 'botanist', 'botch', 'both', 'bother', 'bottl', 'bottom', 'bottomless', 'boudoir', 'boudreaux', 'bought', 'boulder', 'bouldercrush', 'bounc', 'bouncer', 'bounci', 'bound', 'boundari', 'boundless', 'bounti', 'bountyhunt', 'bout', 'bova', 'bovo', 'bow', 'bowel', 'bowen', 'boweri', 'bowl', 'bowser', 'box', 'boxbot', 'boxer', 'boy', 'boyd', 'boyflamebird', 'boyfriend', 'boyhood', 'boyl', 'boylen', 'boysearch', 'bprd', 'braal', 'braavo', 'braavosi', 'braavosthough', 'bracelet', 'braclet', 'brad', 'bradburi', 'braddock', 'bradley', 'braeden', 'brag', 'brain', 'braincas', 'brainchild', 'braindamag', 'braindead', 'braini', 'brainiac', 'brainless', 'brainpan', 'brainpow', 'brainstorm', 'brainwash', 'brainwav', 'brake', 'bran', 'branch', 'brand', 'brandenberg', 'brandi', 'brandish', 'brandnew', 'brandon', 'brandt', 'brandybuck', 'brannon', 'brant', 'branwil', 'brash', 'brashear', 'brashli', 'brass', 'brat', 'bratpack', 'brauner', 'bravado', 'brave', 'braveri', 'braverman', 'bravo', 'brawl', 'brawn', 'brazen', 'brazier', 'brazil', 'brazilian', 'bre', 'breach', 'breacher', 'breachspac', 'bread', 'break', 'breakdown', 'breaker', 'breakfast', 'breakin', 'breakout', 'breakthrough', 'breakup', 'breakworld', 'breast', 'breath', 'breather', 'bred', 'bree', 'breed', 'brenda', 'brendan', 'brent', 'brentwood', 'brethren', 'brevet', 'brevlov', 'brew', 'brian', 'bribe', 'brice', 'brick', 'brickman', 'brickster', 'bride', 'bridg', 'bridgeman', 'bridl', 'brief', 'briefcas', 'briefli', 'brien', 'brienn', 'brig', 'brigad', 'brigadi', 'brigand', 'bright', 'brightest', 'brightwat', 'brightwind', 'brigid', 'brik', 'brillianc', 'brilliant', 'brim', 'brimston', 'brine', 'bring', 'bringer', 'brink', 'brion', 'brisban', 'bristol', 'britain', 'britan', 'britania', 'britannia', 'british', 'britishbas', 'britishborn', 'briton', 'brittan', 'brittl', 'brix', 'brize', 'brnc', 'bro', 'broad', 'broadcast', 'broader', 'broadsword', 'broadway', 'brock', 'brockton', 'brode', 'broderick', 'broen', 'broke', 'broken', 'brokenheart', 'brokeout', 'broker', 'brokk', 'brolin', 'brollin', 'bromfield', 'bromhead', 'bromwich', 'bronx', 'bronz', 'broo', 'brooch', 'brood', 'brook', 'brooklyn', 'broom', 'brothel', 'brother', 'brotherhood', 'brotherhoodedit', 'brotherinlaw', 'brotherli', 'brothersinarm', 'brought', 'broughtout', 'brouhaha', 'brow', 'brown', 'brownhair', 'brownish', 'brownston', 'broxton', 'brubak', 'bruce', 'bruckner', 'bruis', 'brujeria', 'brujería', 'brukner', 'brunett', 'brunnhild', 'brunnhilda', 'bruno', 'brunt', 'brush', 'brushfir', 'brussel', 'brutaal', 'brutal', 'brutallyoppress', 'brute', 'brutish', 'bruttenholm', 'brutu', 'bryant', 'bsaa', 'bu', 'bub', 'bubasti', 'bubbl', 'bubon', 'buchanan', 'buck', 'bucki', 'buckl', 'bucklen', 'buckman', 'bud', 'buddhism', 'buddhist', 'buddi', 'buff', 'buffalo', 'buffer', 'buffi', 'buffooneri', 'buffyvers', 'buford', 'bug', 'bugala', 'bugey', 'bugl', 'bugman', 'build', 'builder', 'buildup', 'built', 'builtin', 'builtup', 'bukharin', 'bulb', 'bulgaria', 'bulk', 'bulki', 'bulkier', 'bull', 'bulldog', 'bullet', 'bulletfir', 'bulletin', 'bulletman', 'bulletproof', 'bulletproofvest', 'bulli', 'bullit', 'bullock', 'bullsey', 'bulma', 'bum', 'bumbl', 'bumblebe', 'bumbleboy', 'bump', 'bunch', 'bundl', 'bunk', 'bunker', 'buoy', 'burden', 'bureau', 'bureaucrat', 'burg', 'burgeon', 'burger', 'burgess', 'burglar', 'burglari', 'buri', 'burial', 'burk', 'burlesqu', 'burlow', 'burman', 'burn', 'burnedout', 'burner', 'burnsid', 'burnt', 'burr', 'burrough', 'burrow', 'burst', 'burstein', 'burt', 'burton', 'burtram', 'buscema', 'bushido', 'bushman', 'bushmast', 'bushwhack', 'busi', 'businessman', 'businessmen', 'businesswoman', 'bust', 'buster', 'busti', 'but', 'butch', 'butcher', 'butcherredpng', 'butler', 'butt', 'butterbal', 'buttingin', 'button', 'buu', 'buy', 'buyer', 'buyout', 'buzz', 'buzzer', 'bwana', 'bylan', 'bypass', 'byproduct', 'byrn', 'byron', 'byrrah', 'bystand', 'byth', 'bzzkjoh', 'c', 'c19663', 'c3po', 'cab', 'cabal', 'cabba', 'cabbi', 'cabe', 'cabin', 'cabinet', 'cabl', 'cabrini', 'cach', 'cacophon', 'cad', 'cadav', 'cadet', 'cadmu', 'cadr', 'caduceu', 'caedu', 'caesar', 'caesarlik', 'cafe', 'cafeteria', 'cage', 'caiera', 'cain', 'cairn', 'cairo', 'caitlin', 'caitlyn', 'cajun', 'cake', 'caketri', 'cal', 'calabraxi', 'calabres', 'calabria', 'calam', 'calamit', 'calaton', 'calatonian', 'calcif', 'calcul', 'calcuttan', 'caldecott', 'calder', 'caldwel', 'caleb', 'calendar', 'calgari', 'calib', 'caliban', 'calibr', 'caliburn', 'california', 'californiabas', 'californian', 'caligula', 'calisto', 'call', 'callasanto', 'callgirl', 'calli', 'callingref', 'calliop', 'callisto', 'callosanto', 'callou', 'callous', 'callsign', 'calm', 'calmer', 'calmli', 'calogero', 'calrissian', 'calsye', 'calvari', 'calvert', 'calvin', 'calypso', 'camaraderi', 'cambodia', 'cambridg', 'came', 'camelot', 'cameo', 'camera', 'cameron', 'cameto', 'cammi', 'camouflag', 'camp', 'campaign', 'campbel', 'campi', 'campsit', 'campssom', 'campu', 'canaan', 'canada', 'canadaí', 'canadian', 'canal', 'canari', 'canarsi', 'canarycaptain', 'canaver', 'cancel', 'cancer', 'cancerridden', 'cancervers', 'candac', 'candi', 'candid', 'candidaci', 'candl', 'candler', 'candora', 'cane', 'cani', 'canid', 'canin', 'canist', 'cannib', 'cannon', 'cannonbal', 'cannot', 'canon', 'cant', 'canticu', 'canton', 'cantor', 'cantwel', 'canva', 'canyon', 'canít', 'cap', 'cap13', 'capabl', 'capac', 'capain', 'capax', 'cape', 'capeless', 'caper', 'capillari', 'capistan', 'capit', 'capitol', 'capitán', 'capon', 'cappi', 'capsul', 'captain', 'captiv', 'captor', 'captur', 'capturebatman', 'capturebot', 'capturewhen', 'caputo', 'capzemo', 'car', 'caraka', 'caramanga', 'caranthir', 'carapax', 'caravan', 'carbid', 'carbin', 'carbon', 'carbonadium', 'carboni', 'carcinogen', 'carcrash', 'carcrush', 'card', 'cardboard', 'cardiac', 'cardin', 'care', 'career', 'careerat', 'careerif', 'carefre', 'carefullyplac', 'careless', 'carelessli', 'careliu', 'caretak', 'carezzi', 'cargg', 'cargil', 'cargo', 'caribbean', 'caricatur', 'carina', 'carjack', 'carl', 'carla', 'carli', 'carlin', 'carlton', 'carlyl', 'carlysl', 'carmen', 'carmichael', 'carmilla', 'carmin', 'carmonti', 'carnag', 'carnal', 'carnegi', 'carniv', 'carnivor', 'carol', 'carolin', 'carolina', 'carolyn', 'carosella', 'carp', 'carpassia', 'carpathian', 'carpent', 'carpet', 'carr', 'carradin', 'carri', 'carrier', 'carrion', 'carrol', 'carrot', 'carson', 'cart', 'cartel', 'carter', 'cartman', 'cartoon', 'cartoonist', 'cartridg', 'carv', 'cascad', 'case', 'casebook', 'cash', 'cashier', 'casino', 'casinopoli', 'casiolena', 'casket', 'casqu', 'cassamento', 'cassandra', 'cassera', 'cassi', 'cassian', 'cassidi', 'cassiemak', 'cassiopeia', 'cassiu', 'cast', 'castaway', 'castebound', 'casterli', 'castiel', 'castiglion', 'castingbut', 'castl', 'castlelik', 'castlevania', 'castor', 'casual', 'casualti', 'cat', 'cataclysm', 'catacomb', 'catalog', 'catalyt', 'catalyz', 'catamaran', 'cataphylaxi', 'catapult', 'catastroph', 'cataton', 'catch', 'categor', 'catelyn', 'cater', 'caterpillar', 'catfish', 'catgirl', 'cathedr', 'catherin', 'cathexi', 'cathol', 'catiana', 'catlik', 'catman', 'catmask', 'catpeopl', 'catsey', 'catshead', 'catsoul', 'catspaw', 'catsuit', 'cattl', 'catwoman', 'catwomen', 'caucasian', 'caucasu', 'caught', 'caul', 'caulder', 'cauldron', 'caulfila', 'caulifla', 'caus', 'cauter', 'caution', 'cautionari', 'cautiou', 'cautious', 'cavali', 'cavallo', 'cave', 'caveat', 'cavedwel', 'cavein', 'cavendish', 'cavern', 'cavernx', 'caviti', 'cavorit', 'cayden', 'cbi', 'cci', 'ccil', 'ccpd', 'ceas', 'ceasefir', 'cebulski', 'cecilia', 'cede', 'cedric', 'ceil', 'celebr', 'celegorm', 'celesti', 'cell', 'cellar', 'cellblock', 'cellmat', 'cello', 'cellphon', 'cellular', 'celsiu', 'celtic', 'cement', 'cemetari', 'cemeteri', 'centaurian', 'centenni', 'center', 'centervil', 'centiped', 'centr', 'central', 'centuri', 'centurieslong', 'centuriesold', 'centurion', 'ceo', 'ceram', 'cerberu', 'cerdia', 'cerdian', 'cerebr', 'cerebra', 'cerebro', 'cerebru', 'cerement', 'ceremoni', 'ceris', 'cersei', 'certain', 'certainli', 'certainti', 'certif', 'cervantez', 'cesspit', 'cesspool', 'cesti', 'cetewayo', 'cha', 'chafe', 'chaffeur', 'chagrin', 'chain', 'chainsaw', 'chainswond', 'chair', 'chairlik', 'chairman', 'chairmanship', 'chairperson', 'chairwoman', 'chak', 'chaka', 'chakra', 'chalic', 'chalkboard', 'challeng', 'chamber', 'chamberlin', 'chameleon', 'champ', 'champa', 'champion', 'championpool', 'championship', 'champjet', 'chan', 'chanc', 'chancellor', 'chandeli', 'chandilar', 'chandler', 'chandra', 'chang', 'changel', 'channel', 'chant', 'chanteus', 'chantinel', 'chao', 'chaosbring', 'chaotic', 'chaotix', 'chapel', 'chaperon', 'chapman', 'chapter', 'char', 'charact', 'character', 'characterist', 'characteristics82', 'charad', 'charax', 'charaxa', 'charcoal', 'charg', 'charger', 'chariot', 'charismat', 'charit', 'chariti', 'charl', 'charlemagn', 'charless', 'charli', 'charlott', 'charlton', 'charm', 'charmain', 'chart', 'charter', 'charteri', 'charyb', 'charybdi', 'chase', 'chaselon', 'chasm', 'chassi', 'chast', 'chastis', 'chat', 'chato', 'chauffeur', 'chauvenist', 'chauvinist', 'chayara', 'che', 'cheap', 'cheat', 'cheater', 'check', 'checkedon', 'checkin', 'checkmat', 'chee', 'cheek', 'cheer', 'cheerlead', 'chees', 'cheetah', 'cheetahalthough', 'chef', 'chekhov', 'chelsea', 'chemic', 'chemist', 'chemistri', 'chemistro', 'chemo', 'chen', 'cheney', 'cherryh', 'cherubim', 'cheryl', 'chesapeak', 'cheshir', 'chess', 'chessmen', 'chest', 'chestburst', 'chester', 'chesterfield', 'chestplat', 'chestth', 'chevali', 'chew', 'chewbacca', 'cheyenn', 'chi', 'chiantang', 'chiaotzu', 'chicago', 'chichi', 'chicken', 'chicksand', 'chide', 'chief', 'chiefli', 'chieftain', 'child', 'childaft', 'childbirth', 'childhood', 'childish', 'childishli', 'childless', 'childlik', 'children', 'children23', 'childslav', 'childthey', 'chili', 'chill', 'chillblain', 'chiller', 'chimera', 'chimichanga', 'chimp', 'chimpanze', 'chin', 'china', 'chines', 'chineseamerican', 'ching', 'chip', 'chipmunk', 'chitauri', 'chivalri', 'chlorokinet', 'cho', 'choco', 'chocol', 'chod', 'choi', 'choic', 'choir', 'choke', 'choker', 'chondu', 'choos', 'chooser', 'chop', 'chopper', 'chore', 'choru', 'chose', 'chosen', 'chow', 'chp', 'chri', 'chrissi', 'christ', 'christen', 'christian', 'christin', 'christina', 'christinaemploy', 'christma', 'christmason', 'christoph', 'christopher2', 'chroma', 'chrome', 'chromesteel', 'chromo', 'chromosom', 'chronal', 'chronexu', 'chronic', 'chronicl', 'chrono', 'chronoflash', 'chronolog', 'chronomanc', 'chronopoli', 'chronospher', 'chronosteel', 'chronoton', 'chronu', 'chrysali', 'chthon', 'chu', 'chuck', 'chuckl', 'chuma', 'chun', 'chunk', 'church', 'churchil', 'churchyard', 'chute', 'chyre', 'chō', 'cia', 'ciasponsor', 'cid', 'ciel', 'cigarett', 'cimarron', 'cin', 'cindi', 'cinemat', 'cipher', 'circ', 'circa', 'circedonna', 'circl', 'circlewhil', 'circu', 'circuit', 'circuitri', 'circul', 'circular', 'circulatori', 'circumst', 'circumstanti', 'circumv', 'circuss', 'cisco', 'cissi', 'citadel', 'citat', 'cite', 'citi', 'citizen', 'citizenri', 'citizenship', 'citizenv', 'cityshrink', 'cityst', 'civic', 'civil', 'civilain', 'civilian', 'civilizationbut', 'clad', 'claim', 'claimant', 'clair', 'clairvoy', 'clamber', 'clan', 'clandestin', 'clang', 'clanmat', 'clapper', 'clare', 'claremont', 'clarenc', 'claric', 'claridg', 'clarifi', 'clarion', 'clariss', 'clariti', 'clark', 'clash', 'clasp', 'class', 'classic', 'classif', 'classifi', 'classmat', 'classroom', 'clau', 'claud', 'claudett', 'claudia', 'claudio', 'claustrophobia', 'claw', 'clawhook', 'clawlik', 'clawwield', 'clay', 'clayfac', 'clayton', 'clea', 'clean', 'cleaner', 'cleanli', 'cleans', 'cleanshaven', 'cleanup', 'clear', 'clearanc', 'clearey', 'clearli', 'cleaver', 'cleft', 'cleftchin', 'clegan', 'cleito', 'clement', 'clench', 'cleric', 'clerk', 'cleveland', 'clever', 'cleverli', 'clich', 'click', 'client', 'clientel', 'cliff', 'cliffhang', 'clifford', 'clifton', 'climact', 'climat', 'climatron', 'climax', 'climb', 'cling', 'clinic', 'clint', 'clinton', 'cliqu', 'clive', 'cloak', 'clobberin', 'cloc', 'clock', 'clone', 'cloness', 'close', 'closecontact', 'closedcircuit', 'closer', 'closest', 'closet', 'closeup', 'closey', 'closur', 'cloth', 'clotheslin', 'cloud', 'clown', 'clownprinc', 'clu', 'club', 'clue', 'cluemast', 'clumsi', 'cluster', 'clutch', 'clutter', 'clyde', 'clytemnestra', 'cm', 'co', 'coach', 'coagul', 'coal', 'coalesc', 'coalit', 'coast', 'coastal', 'coat', 'coax', 'cobalt', 'cobb', 'cobbl', 'cobblepot', 'cobler', 'cobra', 'cocain', 'cochran', 'cocki', 'cockpit', 'cockroach', 'coconspir', 'coconut', 'cocoon', 'cocott', 'cocreat', 'code', 'codebreak', 'codec', 'codenam', 'codenumb', 'codeon', 'codevelop', 'codex', 'codi', 'coe', 'coeponym', 'coerc', 'coercion', 'coexist', 'coffe', 'coffer', 'coffin', 'cofound', 'cog', 'cogliostro', 'cognit', 'cohabit', 'coheadmast', 'cohen', 'coher', 'cohes', 'cohort', 'coin', 'coincid', 'coincident', 'coinflip', 'col', 'colcord', 'cold', 'coldblood', 'coldcast', 'coldfir', 'coldgener', 'coldheart', 'coldli', 'coldproduc', 'cole', 'colead', 'colin', 'coll', 'collabor', 'collaboratorfriend', 'collaps', 'collar', 'colleagu', 'collect', 'collectivexorn', 'collector', 'colleen', 'colleg', 'collegelevel', 'collid', 'collin', 'collis', 'colloqui', 'cologn', 'colombia', 'colombian', 'colon', 'colonel', 'coloni', 'colonist', 'color', 'colorado', 'colorless', 'colorsedit', 'coloss', 'colossu', 'colour', 'colt', 'colu', 'coluan', 'columbia', 'columbu', 'column', 'columnist', 'colussu', 'coma', 'comalik', 'comanch', 'comatos', 'combat', 'combatdur', 'combatgarb', 'combatnot', 'combattr', 'combin', 'combo', 'combust', 'come', 'comeback', 'comedian', 'comenc', 'comer', 'comet', 'cometbi', 'comfort', 'comic', 'comin', 'comingl', 'comission', 'comlink', 'commanch', 'command', 'commando', 'commandostyl', 'commemor', 'commenc', 'commend', 'comment', 'commerc', 'commerci', 'commingl', 'commiser', 'commision', 'commiss', 'commissari', 'commission', 'commit', 'committe', 'committedmadison', 'commlink', 'common', 'commonlaw', 'commonli', 'commot', 'commun', 'communion', 'communiqu', 'communist', 'communityrel', 'commut', 'compact', 'compani', 'companion', 'companionship', 'compar', 'comparison', 'compart', 'compass', 'compassion', 'compat', 'compatriot', 'compel', 'compens', 'compet', 'competit', 'competitor', 'compil', 'complac', 'complain', 'complaint', 'complement', 'complet', 'complex', 'compli', 'complianc', 'compliant', 'complic', 'compliment', 'compon', 'compos', 'composit', 'composur', 'compound', 'comprehend', 'comprehens', 'compress', 'compris', 'compromis', 'compromisedalison', 'compuls', 'compulsori', 'compunct', 'comput', 'computer', 'computerdur', 'computerfil', 'computerlik', 'comrad', 'con', 'conal', 'conan', 'conceal', 'conced', 'conceit', 'conceiv', 'concentr', 'concept', 'conceptphys', 'concern', 'concert', 'conch', 'concierg', 'conclav', 'conclud', 'conclus', 'concoct', 'concord', 'concret', 'concubin', 'concurr', 'concuss', 'condemn', 'condescend', 'condiment', 'condit', 'condon', 'condren', 'conduct', 'conduit', 'confeder', 'confederaci', 'confer', 'confess', 'confessor', 'confid', 'confidant', 'confin', 'confirm', 'confisc', 'conflict', 'confluenc', 'confound', 'confront', 'confus', 'cong', 'congenit', 'conglomer', 'congo', 'congorilla', 'congratul', 'congreg', 'congress', 'congression', 'congressman', 'conjoin', 'conjunct', 'conjur', 'connect', 'connecticut', 'connelli', 'conner', 'conni', 'connor', 'conquer', 'conquerlord', 'conqueror', 'conquest', 'conqur', 'conscienc', 'consciou', 'conscious', 'consciousnesss', 'conscript', 'consensu', 'consent', 'consequ', 'conserv', 'consid', 'consider', 'consign', 'consist', 'consol', 'consolid', 'consort', 'conspir', 'conspiraci', 'constabulari', 'constanc', 'constant', 'constantin', 'constantinopl', 'constantli', 'constel', 'constitu', 'constitut', 'constrain', 'constraint', 'constrictor', 'constru', 'construct', 'constructsmetallo', 'consult', 'consum', 'consumm', 'consumpt', 'contact', 'contagi', 'contagion', 'contain', 'containedpulver', 'contamin', 'contempl', 'contemporari', 'contempt', 'contemptu', 'contend', 'content', 'contentsshow', 'contessa', 'contest', 'contesta', 'contestand', 'contestartemi', 'contesthippolyta', 'context', 'contient', 'contin', 'conting', 'continu', 'continuum', 'contortionist', 'contract', 'contractor', 'contradict', 'contrail', 'contrapt', 'contrari', 'contrast', 'contraxia', 'contraxian', 'contribut', 'contrit', 'contriv', 'control', 'controlsgovern', 'controversi', 'conundrum', 'convalesc', 'conven', 'conveni', 'convent', 'converg', 'convers', 'convert', 'convey', 'convict', 'convinc', 'convoc', 'convoy', 'convuls', 'conway', 'cook', 'cooki', 'cookiecutt', 'cool', 'coolant', 'cooler', 'coolheaded', 'cooli', 'coon', 'coopedup', 'cooper', 'cooperstown', 'coopt', 'coordin', 'coowner', 'cop', 'cope', 'copi', 'copiedat', 'copilot', 'copper', 'copperhead', 'copperjacket', 'copycat', 'copyright', 'coral', 'corbeau', 'corben', 'corbray', 'cord', 'cordial', 'core', 'corellia', 'corellian', 'cork', 'corn', 'corneliu', 'corner', 'cornwal', 'coron', 'corona', 'corp', 'corpor', 'corps', 'corps2', 'corpsmen', 'corpswomen', 'corral', 'correct', 'correctli', 'correl', 'correspond', 'corrigan', 'corros', 'corrupt', 'corsair', 'corsi', 'cortana', 'cortenid', 'cortex', 'cortez', 'corté', 'corul', 'corusc', 'coruscantidentifi', 'corvett', 'corvin', 'corvu', 'cosmaspur', 'cosmet', 'cosmic', 'cosmicallyempow', 'cosmiclevel', 'cosmicpow', 'cosmo', 'cosmolog', 'cosmonaut', 'cosmosshak', 'cospeci', 'cost', 'costa', 'costli', 'costum', 'cotati', 'coteri', 'cotton', 'cottonmouth', 'couch', 'cough', 'could', 'couldnt', 'coulson', 'council', 'councillor', 'councilor', 'counsel', 'counselingcounsel', 'counsellor', 'counselor', 'count', 'countdown', 'counter', 'counteract', 'counterattack', 'counterearth', 'counterexampl', 'counterfeit', 'counterintellig', 'countermeasur', 'countermov', 'counterpart', 'counterproduct', 'counterstrik', 'counterteam', 'counterterror', 'counterterrorist', 'countess', 'counti', 'countless', 'countri', 'countrysid', 'countrywomen', 'coup', 'coupdegrac', 'coupl', 'courag', 'courier', 'cours', 'coursework', 'court', 'courtesi', 'courthous', 'courtley', 'courtney', 'courtroom', 'courtship', 'courtyard', 'cousin', 'cove', 'coven', 'cover', 'coverag', 'coveredup', 'covert', 'covertli', 'covertoper', 'coverup', 'covet', 'cow', 'coward', 'cowardic', 'cowardli', 'cowboy', 'cower', 'cowgirl', 'cowhit', 'cowl', 'cowork', 'cox', 'coy', 'coyot', 'cpa', 'cpo', 'cpr', 'cpu', 'cqc', 'cr', 'crabmeat', 'crabrant', 'crack', 'crackajack', 'crackdown', 'cracker', 'crackerjack', 'crackersdinah', 'crackl', 'cradl', 'craft', 'crafti', 'craftsmanship', 'craftsmen', 'craig', 'craigslist', 'cramp', 'crane', 'cranepennyworth', 'cranial', 'cranium', 'crank', 'crap', 'crash', 'crashland', 'crate', 'crater', 'crave', 'crawfish', 'crawford', 'crawl', 'crawler', 'crawley', 'cray', 'craze', 'crazi', 'crazyim', 'crazywhen', 'crea', 'cream', 'creat', 'createmut', 'creation', 'creation1', 'creation3', 'creativ', 'creator', 'creatur', 'credenti', 'credibl', 'credit', 'credo', 'creed', 'creee', 'creek', 'creel', 'creep', 'creeper', 'creepi', 'cremat', 'creot', 'crescent', 'cressen', 'crest', 'crevass', 'crevic', 'crew', 'crewmat', 'crewmen', 'cri', 'crib', 'cribi', 'crichton', 'crime', 'crimeboss', 'crimebust', 'crimefight', 'crimeinfest', 'crimeintrigu', 'crimelord', 'crimemast', 'crimepurg', 'crimerel', 'crimesh', 'crimetight', 'crimin', 'criminalsynd', 'criminolog', 'criminologist', 'crimson', 'crippl', 'crise', 'crisi', 'critic', 'critter', 'crminin', 'crobeau', 'croc', 'crock', 'crocodil', 'croix', 'cromagnon', 'cromwel', 'cron', 'cronal', 'crone', 'croni', 'crono', 'cronqvist', 'cronu', 'crook', 'crop', 'cross', 'cross5', 'crossbon', 'crosscountri', 'crossexamin', 'crossfir', 'crossmatch', 'crossmoor', 'crossmor', 'crossov', 'crossreal', 'crossroad', 'crossspeci', 'crosstim', 'crouch', 'crow', 'crowbar', 'crowd', 'crowley', 'crown', 'croyden', 'crucial', 'crucibl', 'crucifi', 'crucifixion', 'crude', 'cruel', 'cruelli', 'cruelti', 'cruis', 'cruiser', 'crumbl', 'crummi', 'crunch', 'crusad', 'crusadeand', 'crush', 'crusher', 'crushston', 'crust', 'crustacean', 'cruz', 'cryo', 'cryochest', 'cryogen', 'cryokinet', 'cryonic', 'cryosleep', 'cryostasi', 'crypt', 'cryptic', 'crystal', 'crystalia', 'crystallin', 'crystallographi', 'crystl', 'crèche', 'csa', 'csection', 'csi', 'csynthes', 'cte', 'cub', 'cuba', 'cuban', 'cube', 'cubic', 'cubot', 'cuckoo', 'cue', 'cuf', 'cujo', 'cul', 'cull', 'culloden', 'culmin', 'culp', 'culprit', 'cult', 'cultist', 'cultiv', 'cultlead', 'cultur', 'culver', 'cum', 'cumbersom', 'cun', 'cuold', 'cup', 'cupid', 'cur', 'curar', 'curat', 'curb', 'cure', 'curfew', 'curi', 'curio', 'curios', 'curiou', 'curious', 'curl', 'current', 'curri', 'curs', 'cursori', 'curt', 'curtail', 'curti', 'curtiss', 'curtli', 'curufin', 'curv', 'custer', 'custodi', 'custodian', 'custom', 'customari', 'custommad', 'customtailor', 'cut', 'cutback', 'cutdown', 'cutlass', 'cutler', 'cutscen', 'cutter', 'cutthroat', 'cutup', 'cvcitat', 'cviru', 'cyan', 'cyanidebas', 'cyber', 'cyberdyn', 'cyberelf', 'cyberfac', 'cyberhar', 'cyberion', 'cybermanc', 'cybermorph', 'cybernet', 'cyberneticallyenhanc', 'cyberneticnanotech', 'cyberpath', 'cybersamurai', 'cyberspac', 'cybertek', 'cybiot', 'cyborg', 'cycl', 'cyclic', 'cyclon', 'cyclop', 'cyclopss', 'cyclotron', 'cygnu', 'cygor', 'cylind', 'cynic', 'cynosur', 'cynthia', 'cypher', 'cypru', 'cyrax', 'cyru', 'cython', 'cytorrak', 'cyttorak', 'czar', 'czarnia', 'czarnian', 'czech', 'czechoslovakia', 'czonk', 'da', 'daala', 'daap', 'dabbl', 'dabbler', 'dad', 'daddi', 'daedalu', 'daemian', 'daemo', 'daemonicu', 'daemonit', 'daeneri', 'dagger', 'dagobah', 'dagornuingiliath', 'dai', 'daili', 'daimio', 'daimon', 'dairi', 'daisi', 'daken', 'dakimh', 'dakota', 'dale', 'dalla', 'dalli', 'dalton', 'daltri', 'dam', 'dama', 'damag', 'damashi', 'damask', 'damballah', 'damek', 'damian', 'damien', 'damion', 'dammit', 'damn', 'damnat', 'damocl', 'damon', 'dampen', 'dan', 'dana', 'danann', 'danc', 'dancanto', 'dancer', 'dandesh', 'dane', 'danger', 'dangl', 'dani', 'daniel', 'danko', 'danni', 'dant', 'danver', 'danverssupergirl', 'danzan', 'danzō', 'daoin', 'daphn', 'darami', 'darc', 'dare', 'daredevil', 'dareth', 'dargin', 'dargo', 'darhk', 'dark', 'darkchild', 'darkchyld', 'darkcloth', 'darken', 'darker', 'darkest', 'darkforc', 'darkhawk', 'darkhold', 'darkholm', 'darkl', 'darkli', 'darklight', 'darklord', 'darklov', 'darklyt', 'darkman', 'darkmoor', 'darkoth', 'darkseid', 'darkson', 'darksoul', 'darkspin', 'darkstar', 'darkwithin', 'darkwolf', 'darkworld', 'darl', 'darla', 'darpa', 'darrel', 'darren', 'darrion', 'dart', 'darth', 'darwin', 'dascylla', 'dash', 'dashiel', 'dasilva', 'data', 'databank', 'databas', 'datahub', 'date', 'dathomir', 'dathomirian', 'daughter', 'daugther', 'daunt', 'dava', 'davan', 'dave', 'davenport', 'davi', 'daviano', 'david', 'davo', 'davoss', 'dawg', 'dawn', 'dawnsilk', 'dawson', 'dax', 'daxam', 'daxamit', 'daximit', 'day', 'daydream', 'daylight', 'dayn', 'daysa', 'daysold', 'dayspr', 'daytoday', 'dayton', 'daytripp', 'daze', 'dazzl', 'dazzler', 'dbari', 'dc', 'dcand', 'dcnu', 'dcu', 'dday', 'ddi', 'de', 'deacon', 'deactiv', 'dead', 'deadend', 'deadli', 'deadliest', 'deadlin', 'deadman', 'deadnot', 'deadpan', 'deadpool', 'deadpoolí', 'deadshot', 'deadwhil', 'deaf', 'deafen', 'deag', 'deal', 'dealer', 'dealt', 'dean', 'deapdool', 'dear', 'dearden', 'dearest', 'dearli', 'death', 'death4', 'deathangel', 'deatharchangel', 'deathb', 'deathbird', 'deathblow', 'deathcard', 'deathcri', 'deathgod', 'deathgoku', 'deathgrin', 'deathh', 'deathinspir', 'deathless', 'deathli', 'deathlik', 'deathlock', 'deathlok', 'deathmark', 'deathray', 'deathspawn', 'deathstalk', 'deathstorm', 'deathstrik', 'deathstrok', 'deaththro', 'deathtrap', 'deathurg', 'deathwalk', 'deathworship', 'deathí', 'deauxma', 'debacl', 'debat', 'debaucher', 'debbi', 'debilit', 'deborah', 'debri', 'debrief', 'debrii', 'debt', 'debunk', 'debut', 'debutant', 'decad', 'decapit', 'decathlon', 'decay', 'deceas', 'deceased7', 'deceaseduntil', 'deced', 'deceit', 'deceiv', 'decemb', 'decenc', 'decent', 'decept', 'decepticon', 'deceptions8', 'decid', 'decide', 'decim', 'deciph', 'decis', 'decisionther', 'deck', 'declan', 'declar', 'declassifi', 'declin', 'decod', 'decommiss', 'decompos', 'deconstruct', 'decor', 'decourum', 'decoy', 'decre', 'decreas', 'decrypt', 'decyph', 'dedic', 'deduc', 'deduct', 'deed', 'deegan', 'deem', 'deep', 'deepdish', 'deepen', 'deeper', 'deepest', 'deepli', 'deepspac', 'deer', 'deerfield', 'defac', 'default', 'defeat', 'defeat1', 'defeat17', 'defeatedmaxima', 'defect', 'defector', 'defenc', 'defend', 'defendersdoctor', 'defendersmisti', 'defens', 'defenseless', 'defensetrain', 'defer', 'defet', 'defi', 'defianc', 'defiant', 'defiantli', 'defibril', 'deficit', 'defin', 'definit', 'deflect', 'deform', 'defunct', 'defunctatthattim', 'defus', 'degaton', 'degen', 'degener', 'degrad', 'degre', 'dehaviland', 'dehydr', 'deimo', 'deirdr', 'deiti', 'deitiesdid', 'deject', 'deke', 'delacroix', 'deladi', 'delay', 'delayn', 'deleg', 'delet', 'delfino', 'delft', 'delgado', 'delia', 'deliber', 'delic', 'delici', 'delight', 'delightedli', 'delilah', 'delinqu', 'deliri', 'delirium', 'deliv', 'deliver', 'deliveri', 'dell', 'delo', 'delphi', 'delphin', 'delroy', 'delta', 'deltit', 'delud', 'delug', 'delus', 'delusion', 'delv', 'demand', 'demara', 'demean', 'demeanor', 'demeanour', 'demens', 'dement', 'dementor', 'demerit', 'demet', 'demigod', 'demis', 'demiseiron', 'demiurg', 'demiurgo', 'demo', 'democraci', 'democrat', 'demogoblin', 'demogorg', 'demograph', 'demolish', 'demolit', 'demolitionman', 'demon', 'demonand', 'demonfath', 'demonfil', 'demongod', 'demonhunt', 'demonicu', 'demoninfest', 'demonlik', 'demonolog', 'demonologist', 'demonsat', 'demonspawn', 'demonste', 'demonstr', 'demonworship', 'demor', 'demot', 'den', 'dendrit', 'deni', 'deniabl', 'denial', 'denigr', 'denizen', 'denni', 'denounc', 'dens', 'densiti', 'dent', 'dental', 'dentist', 'denunci', 'denver', 'deo', 'deodato', 'depaolo', 'depart', 'departur', 'depatur', 'depend', 'depict', 'deplet', 'deplor', 'deploy', 'deport', 'depos', 'deposit', 'depot', 'depow', 'depower', 'depr', 'depress', 'depressionera', 'depriv', 'deprogram', 'depth', 'deput', 'deputi', 'derang', 'derbi', 'derek', 'derelict', 'derid', 'deriv', 'derogatori', 'derri', 'desaad', 'desak', 'descend', 'descent', 'describ', 'descript', 'desdemona', 'desecr', 'desert', 'deserv', 'desicc', 'design', 'desintegr', 'desipt', 'desir', 'desk', 'desmond', 'desol', 'desoto', 'despair', 'desper', 'desperatli', 'despero', 'despis', 'despit', 'despond', 'despot', 'despotelli', 'dessert', 'dessic', 'destabil', 'destin', 'destini', 'destitut', 'destroy', 'destroyedit', 'destroyerí', 'destruct', 'detach', 'detail', 'detain', 'detaine', 'detat', 'detect', 'detector', 'detent', 'deter', 'deterior', 'determin', 'determinist', 'deterr', 'dethron', 'deton', 'detriment', 'detritu', 'detroit', 'detsroy', 'devarim', 'devast', 'develop', 'devem', 'deviant', 'devic', 'devil', 'devilhulk', 'devilish', 'devilman', 'devilmen', 'devilslay', 'devilspawn', 'devin', 'deviou', 'devis', 'devlin', 'devlor', 'devo', 'devoid', 'devolv', 'devot', 'devote', 'devour', 'devout', 'devoutli', 'dewitt', 'dex', 'dexter', 'dez', 'dh', 'dhabar', 'dharkon', 'dhasha', 'dhaven', 'dherain', 'dhutsien', 'diabl', 'diablo', 'diablon', 'diabol', 'diagnos', 'diagnosi', 'dial', 'dialog', 'dialogu', 'diametr', 'diamond', 'diamondback', 'diamondhead', 'diamondlik', 'diamondmassachusett', 'dian', 'diana', 'dianaartemi', 'dianaboston', 'dianahav', 'dianath', 'diari', 'diatrib', 'diaz', 'dibacco', 'dibney', 'dibni', 'dice', 'dichotomi', 'dick', 'dicka', 'dickerson', 'dictat', 'dictatorship', 'did', 'didnt', 'die', 'die21', 'diego', 'diet', 'dietwic', 'differ', 'differencestempest', 'differenti', 'differentsex', 'difficult', 'difficulti', 'diffid', 'diffus', 'dig', 'digest', 'digger', 'diggl', 'diggori', 'digit', 'dignitari', 'digniti', 'dilapid', 'dilat', 'dilbi', 'dilemma', 'dilettant', 'dilig', 'dillard', 'dillon', 'dilut', 'dimens', 'dimension', 'dimensionallydisplac', 'dimensionhop', 'dimensionhopp', 'dimensiontravel', 'diminish', 'diminut', 'dimitri', 'dimli', 'dimpl', 'dimunit', 'dimwit', 'dinah', 'diner', 'dinner', 'dino', 'dinosaur', 'diod', 'diogen', 'dion', 'dionysu', 'dip', 'diplomat', 'dipper', 'dippershap', 'dire', 'direct', 'directli', 'directlythat', 'director', 'directoreven', 'directorship', 'dirg', 'dirk', 'dirt', 'dirti', 'disabl', 'disabus', 'disaffect', 'disagr', 'disagre', 'disallow', 'disappar', 'disappear', 'disappoint', 'disapprov', 'disarm', 'disarray', 'disassembl', 'disassoci', 'disast', 'disaster', 'disastr', 'disavow', 'disband', 'disbelief', 'disc', 'disca', 'discard', 'discern', 'discharg', 'discipl', 'disciplin', 'disciplinari', 'disciplinarian', 'disclos', 'disclosur', 'discolor', 'discolos', 'discomfort', 'disconcert', 'disconnect', 'disconsol', 'discont', 'discord', 'discorpor', 'discothequ', 'discov', 'discover', 'discoveri', 'discredit', 'discret', 'discrimin', 'discu', 'discuss', 'disdain', 'diseas', 'disembark', 'disembodi', 'disench', 'disenfranchis', 'disentegr', 'disfigur', 'disgrac', 'disgruntl', 'disguis', 'disgusis', 'disgust', 'dish', 'dishearten', 'dishonor', 'disillus', 'disillusion', 'disinherit', 'disintegr', 'disinterest', 'disk', 'dislik', 'dislodg', 'dismal', 'dismantl', 'dismay', 'dismemb', 'dismiss', 'disney', 'disobedi', 'disobey', 'disolv', 'disord', 'disori', 'disorient', 'disown', 'dispar', 'disparag', 'dispatch', 'dispel', 'dispens', 'dispers', 'displac', 'display', 'displeas', 'displeasur', 'dispos', 'disposit', 'disprov', 'disput', 'disqualifi', 'disregard', 'disreput', 'disrespect', 'disrupt', 'dissapear', 'dissappear', 'dissatifi', 'dissatisfact', 'dissatisfi', 'dissect', 'dissens', 'dissent', 'dissid', 'dissip', 'dissoci', 'dissolut', 'dissolv', 'dissuad', 'distanc', 'distant', 'distantli', 'distast', 'distemp', 'distinct', 'distinguish', 'distort', 'distract', 'distraught', 'distress', 'distribut', 'distributor', 'district', 'distrust', 'disturb', 'disun', 'disus', 'ditch', 'ditkovich', 'ditzi', 'diva', 'dive', 'diver', 'diverg', 'divergencecounterpart', 'divergenttimestream', 'divers', 'divert', 'divid', 'divin', 'divis', 'divorc', 'divulg', 'dix', 'dizzi', 'django', 'djinn', 'dken', 'dlite', 'dman', 'dmitri', 'dmz', 'dna', 'dna7', 'dnalien', 'dnedia', 'do', 'doc', 'dock', 'docket', 'doctor', 'doctrin', 'document', 'dodd', 'dodg', 'dodgson', 'dodon', 'dodson', 'doe', 'doelamal', 'doesnt', 'dog', 'dogpool', 'dogsl', 'dohaeri', 'doing7', 'dolan', 'dole', 'doll', 'dollar', 'dolllik', 'dollmak', 'dollotron', 'dolor', 'dolphin', 'dom', 'domain', 'dome', 'domest', 'domin', 'dominatrix', 'domingo', 'dominion', 'domino', 'dominoshap', 'dominu', 'domitian', 'domo', 'domu', 'don', 'donalbain', 'donald', 'donat', 'dondarrion', 'dondo', 'done', 'donkey', 'donna', 'donner', 'donni', 'donor', 'donovan', 'dont', 'dontaskdonttel', 'dontrel', 'doofu', 'dooku', 'dooley', 'doom', 'doombot', 'doomlik', 'doomsday', 'doomsdaylik', 'doop', 'door', 'doorbel', 'doorman', 'doorstep', 'doorway', 'doppelang', 'doppelgang', 'doppelgäng', 'dopplegang', 'doppler', 'dora', 'dorado', 'dori', 'dorian', 'dorm', 'dorma', 'dormammu', 'dormanc', 'dormant', 'dormitori', 'dorothi', 'dorranc', 'dorri', 'dosag', 'dose', 'dosuroku', 'dot', 'doubl', 'doubleag', 'doublecross', 'doubleedg', 'doublemajor', 'doubleshift', 'doublesid', 'doubt', 'doubtless', 'doug', 'dough', 'dougla', 'douglass', 'dous', 'dove', 'dowd', 'down', 'downfal', 'downhowev', 'download', 'downplay', 'downpour', 'downright', 'downstair', 'downtim', 'downtoearth', 'downtown', 'downtrodden', 'downward', 'dowri', 'dows', 'dox', 'doyl', 'dozen', 'dr', 'draaga', 'draco', 'dracula', 'draft', 'drag', 'drago', 'dragon', 'dragoncat', 'dragonglass', 'dragonlik', 'dragonmeka', 'dragonston', 'dragoon', 'dragout', 'drain', 'drak', 'drake', 'drakil', 'drakon', 'drakonmega', 'drama', 'dramat', 'dran', 'dran21', 'drank', 'drano', 'draper', 'drastic', 'draw', 'drawback', 'drawer', 'drawn', 'drawout', 'drax', 'drc', 'dread', 'dreadnaught', 'dreadnought', 'dreadpool', 'dream', 'dreamdemon', 'dreamer', 'dreamh', 'dreamless', 'dreamlik', 'dreamqueen', 'dreamscap', 'dreamston', 'dreamt', 'dreamtim', 'dreamworld', 'dreari', 'drebin', 'dregz', 'dreiberg', 'dreibergnit', 'drench', 'drenkov', 'dresden', 'dress', 'drew', 'dri', 'drift', 'drifter', 'drill', 'drin', 'drink', 'drinkabl', 'drip', 'drive', 'drivel', 'driven', 'driver', 'drkhawk', 'drmargaretalexandra', 'droid', 'drolta', 'dromedan', 'drone', 'droom', 'drop', 'drope', 'dropship', 'drought', 'drove', 'drown', 'druek', 'drug', 'drugaddict', 'drugdeal', 'druglord', 'drugs1', 'drugsmuggl', 'druid', 'drum', 'drumm', 'drunk', 'drunkard', 'drunken', 'drunkenli', 'drydock', 'dryer', 'dryli', 'dryminext', 'dspayr', 'du', 'dual', 'dualiti', 'duan', 'dub', 'dubai', 'dubbilex', 'dubiou', 'dublin', 'dubrovna', 'ducard', 'ducass', 'duchamp', 'duchess', 'duck', 'duckworld', 'ducttap', 'dud', 'dudley', 'due', 'duel', 'duela', 'duffel', 'dug', 'dugan', 'dui', 'duke', 'dull', 'dum', 'duma', 'dumb', 'dumbest', 'dumbledor', 'dummi', 'dump', 'dumpl', 'dumpster', 'dumpti', 'dunami', 'duncan', 'dungeon', 'dunstan', 'dunwitch', 'duo', 'dupe', 'dupin', 'duplic', 'dupont', 'dupre', 'duquesn', 'durabl', 'duranium', 'durant', 'durasteel', 'durat', 'dure', 'duress', 'durgo', 'durham', 'durlan', 'duro', 'dust', 'duster', 'dusti', 'dutch', 'dutchman', 'duti', 'dvon', 'dvorah', 'dwarf', 'dwarfish', 'dwarfstar', 'dwarv', 'dwarven', 'dwell', 'dweller', 'dwelleratlantean', 'dwellerindark', 'dwight', 'dwindl', 'dx1118', 'dy', 'dyam', 'dybbuk', 'dyer', 'dykkor', 'dynam', 'dynamit', 'dynamo', 'dynasti', 'dyne', 'dysfunct', 'dyslexia', 'dyson', 'dyspo', 'dystop', 'dystopia', 'dystopian', 'dyvyn', 'dzerchenko', 'dúnedain', 'e', 'e001', 'e10000', 'e10000b', 'e102', 'e121', 'e123', 'each', 'eager', 'eagerli', 'eagl', 'ear', 'earli', 'earlier', 'earliest', 'early2003', 'earlymid', 'earn', 'earth', 'earth001', 'earth1', 'earth111', 'earth11113', 'earth1116', 'earth1191', 'earth12101', 'earth15', 'earth1610', 'earth19', 'earth2', 'earth21205', 'earth22', 'earth247', 'earth295', 'earth3', 'earth311', 'earth3145', 'earth4290001', 'earth4935', 'earth51', 'earth616', 'earth6311', 'earth6706', 'earth689', 'earth691', 'earth7', 'earth712', 'earth7528', 'earth8', 'earth833', 'earth8810', 'earth982', 'earth998', 'earthaft', 'earthbas', 'earthborn', 'earthbound', 'earthboundag', 'earthbut', 'earthfour', 'earthgov', 'earthl', 'earthli', 'earthmad', 'earthmar', 'earthmov', 'earthon', 'earthprim', 'earthquak', 'earthrealm', 'earthrealmjpg', 'earthshak', 'earthshatt', 'earthspirit', 'earthth', 'earththre', 'earththreepow', 'earthto', 'earthtrn640', 'earthtwo', 'earthward', 'earthx', 'eas', 'easi', 'easier', 'easiest', 'easili', 'east', 'eastasian', 'easter', 'eastern', 'easterneuropean', 'eastwatchbythesea', 'easygo', 'eat', 'eaten', 'eater', 'eavesdrop', 'eazi', 'ebb', 'ebersol', 'ebli', 'ebola', 'ebolabas', 'eboni', 'eccentr', 'ecclesia', 'echh', 'echidna', 'echo', 'echoloc', 'echou', 'eck', 'eclips', 'eclipso', 'eclipt', 'ecolog', 'econom', 'economi', 'ecosystem', 'ecoterrorist', 'ecstaci', 'ecstasi', 'ecstat', 'ectoplasm', 'eddard', 'eddi', 'eden', 'edenjon', 'edenlik', 'edg', 'edgar', 'edgerton', 'edgi', 'edict', 'edison', 'edit', 'edith', 'editor', 'editori', 'editorinchief', 'edmond', 'edmur', 'edna', 'edonia', 'educ', 'edward', 'edwin', 'eekway', 'eel', 'eeri', 'eether', 'effect', 'effectivli', 'effectwa', 'effex', 'effici', 'effort', 'effortlessli', 'effronteri', 'eg', 'egan', 'egg', 'egghead', 'eggman', 'eggmanland', 'eggpawn', 'eggrobo', 'ego', 'egoprim', 'egotist', 'egypt', 'egyptian', 'eh', 'ehr', 'eidet', 'eidolon', 'eiffel', 'eight', 'eighteen', 'eighteenth', 'eighth', 'eighti', 'eightissu', 'eighttail', 'eil', 'eileen', 'einherjar', 'eisendorf', 'eisenhardt', 'eisley', 'eitc', 'either', 'eitri', 'eject', 'ekaterina', 'ekron', 'el', 'elabor', 'elain', 'elaps', 'elast', 'elastigirl', 'elatedh', 'elb', 'elba', 'elbola', 'elbow', 'eldaliéva', 'eldar', 'elder', 'elderli', 'eldest', 'eldrich', 'eldritch', 'elect', 'electorngyro', 'electr', 'electricallycharg', 'electricitybas', 'electricut', 'electrifi', 'electro', 'electrocut', 'electrocution', 'electromagnet', 'electron', 'electropsion', 'electroshock', 'electrostat', 'elegantli', 'elektra', 'elektro', 'element', 'elementari', 'elena', 'eleph', 'elev', 'eleven', 'eleventh', 'elf', 'elflik', 'elfqueen', 'elgo', 'eli', 'elia', 'eliass', 'elicit', 'eliha', 'elihu', 'elijah', 'elimin', 'eliminant', 'elis', 'elisa', 'elisabetha', 'elit', 'elitist', 'elixir', 'eliza', 'elizabeth', 'elizabethanera', 'elkin', 'ell', 'ella', 'ellen', 'elleri', 'elli', 'elliot', 'elliott', 'ellsworth', 'elm', 'elmo', 'elmut', 'elong', 'elop', 'elpi', 'elpizo', 'els', 'elsa', 'elsewher', 'elsiede', 'elspeth', 'elua', 'elud', 'elus', 'elv', 'elvi', 'elys', 'elysiu', 'elysium', 'emaci', 'email', 'eman', 'emancip', 'embark', 'embarrass', 'embasi', 'embassi', 'embattl', 'embed', 'embellish', 'ember', 'embezzl', 'embitt', 'emblazon', 'emblem', 'embodi', 'embolden', 'embrac', 'embracehi', 'embrey', 'embroil', 'embryo', 'emeg', 'emerald', 'emerg', 'emeri', 'emerl', 'emerson', 'emigr', 'emil', 'emili', 'emilio', 'emir', 'emissari', 'emit', 'emma', 'emmanuel', 'emmerich', 'emmett', 'emmissari', 'emot', 'emotioncharg', 'emotionless', 'emotionmanipul', 'emp', 'empanel', 'empath', 'empathet', 'empathi', 'empathosaur', 'emperor', 'emphat', 'empir', 'emplat', 'employ', 'employe', 'emporium', 'empow', 'empoweredarmor', 'empress', 'empti', 'emptyhand', 'empyrean', 'emul', 'en', 'enabl', 'enact', 'enamor', 'enamour', 'encamp', 'encapsul', 'encas', 'enchant', 'enchantress', 'enclav', 'enclos', 'encod', 'encompass', 'encount', 'encourag', 'encroach', 'encrypt', 'encycloped', 'end', 'endang', 'endanger', 'endear', 'endeavor', 'endeavour', 'endedup', 'endgam', 'ending87878png', 'endless', 'endlessli', 'endo', 'endor', 'endors', 'endoskelet', 'endoskeleton', 'endoskeletonbas', 'endow', 'endsong', 'endur', 'enemi', 'enemiesjeffri', 'energ', 'energet', 'energi', 'energya', 'energyb', 'energybas', 'energyblast', 'energydupl', 'energyent', 'energyflux', 'energyform', 'energyhar', 'energyhi', 'energymanipul', 'energymass', 'energyregul', 'enerv', 'enfant', 'enforc', 'enforcerhitman', 'engag', 'engagementan', 'engend', 'engimat', 'engin', 'england', 'english', 'englishborn', 'englishman', 'engrav', 'engross', 'engulf', 'enhanc', 'enid', 'enid1', 'enigma', 'enigmat', 'enjoy', 'enjoymentout', 'enlarg', 'enlighten', 'enlist', 'enmiti', 'enoch', 'enorm', 'enough', 'enrag', 'enrico', 'enrol', 'ensabahnur', 'ensahabnur', 'ensign', 'enslav', 'ensnar', 'ensorcel', 'ensu', 'ensur', 'entail', 'entangl', 'enter', 'enterpris', 'enterprisesown', 'entertain', 'enthral', 'enthusiasm', 'enthusiast', 'entic', 'entir', 'entireti', 'entiti', 'entitl', 'entomb', 'entomologist', 'entourag', 'entrail', 'entranc', 'entrap', 'entreat', 'entrench', 'entrepreneur', 'entrepreneuri', 'entri', 'entrieskeep', 'entrop', 'entropi', 'entrpeneur', 'entrust', 'enucl', 'envelop', 'envi', 'enviou', 'environ', 'environment', 'environmentalist', 'environmentallyfriendli', 'envis', 'eobar', 'eobard', 'eon', 'ephemer', 'epic', 'epicentr', 'epicí', 'epidermold', 'epilogu', 'epion', 'epiphani', 'episod', 'epitaph', 'epoch', 'eponym', 'epow', 'equal', 'equat', 'equatori', 'equinox', 'equip', 'equiti', 'equival', 'equu', 'er', 'era', 'erad', 'eraedit', 'erali', 'eras', 'erasur', 'erazor', 'ercol', 'erdel', 'erect', 'ereshkig', 'erg1', 'ergo', 'eri', 'eric', 'erica', 'erich', 'erik', 'erista', 'erlang', 'ermac', 'ermey', 'ernest', 'erni', 'ero', 'erod', 'errand', 'errant', 'errat', 'errol', 'erron', 'error', 'errupt', 'erskin', 'erso', 'erstaz', 'erstwhil', 'erthold', 'eru', 'erupt', 'ervil', 'erwin', 'eryni', 'escal', 'escap', 'escapad', 'escape', 'escapeh', 'escarlata', 'eschew', 'escort', 'eskimo', 'esm', 'esophagu', 'espa', 'especi', 'espio', 'espionag', 'espous', 'essart', 'essay', 'essen', 'essenc', 'essenti', 'essex', 'esso', 'estaban', 'establish', 'estat', 'esteem', 'esther', 'estim', 'estrang', 'esu', 'esva', 'eta', 'etc', 'etch', 'etern', 'eternia', 'ethan', 'ether', 'ethic', 'ethiopia', 'ethnic', 'etiquett', 'eton', 'etrigan', 'etta', 'euboea', 'eudia', 'eugen', 'eugenix', 'eulog', 'euphor', 'euphoria', 'euphorian', 'eurasia', 'eurayl', 'eurocirqu', 'europ', 'europeamerica', 'european', 'eurth', 'euru', 'euthan', 'euthanasia', 'eva', 'evacu', 'evacue', 'evad', 'evalu', 'evan', 'evangelin', 'evangelist', 'evaniercit', 'evanstonillinoi', 'evapor', 'evas', 'eve', 'evelin', 'evelyn', 'even', 'evenli', 'event', 'eventaulli', 'eventu', 'ever', 'everett', 'everexpand', 'everflust', 'everglad', 'evergrow', 'everi', 'everincreas', 'everoptimist', 'everpres', 'everybodi', 'everyday', 'everyman', 'everyon', 'everyth', 'everytim', 'everywher', 'evi', 'evid', 'evidenc', 'evidens', 'evil', 'evil16', 'evildo', 'evilfor', 'evilhawk', 'evilhawkdarkhawk', 'evilli', 'evilsupermanpng', 'evilund', 'evok', 'evolut', 'evolutionari', 'evolv', 'ewok', 'ex', 'exacerb', 'exact', 'exactli', 'exagger', 'exam', 'examin', 'exampl', 'exasper', 'exbox', 'exboyfriend', 'excal', 'excalibur', 'excalibursonicv13', 'excav', 'exceed', 'exceedingli', 'excel', 'excella', 'excello', 'excelsior', 'except', 'excerpt', 'excess', 'exchang', 'excit', 'exclaim', 'exclud', 'exclus', 'excommun', 'excon', 'excop', 'excrewman', 'excruci', 'excurs', 'excus', 'execut', 'execution', 'executioneramerica', 'exemplar', 'exempt', 'exercis', 'exert', 'exet', 'exfiance', 'exfiancé', 'exfuri', 'exgirlfriend', 'exgovern', 'exgreen', 'exhaust', 'exheavyweight', 'exhibit', 'exhil', 'exhilar', 'exhort', 'exhum', 'exhusband', 'exil', 'exist', 'existencedinah', 'existenti', 'exit', 'exitar', 'exkgb', 'exlead', 'exlov', 'exmast', 'exmemb', 'exmut', 'exoarmor', 'exobiolog', 'exodu', 'exoner', 'exorc', 'exorcis', 'exorcist', 'exoskelet', 'exoskeleton', 'exosuit', 'exot', 'exotica', 'expand', 'expans', 'expartn', 'expartnerincrim', 'expect', 'expedit', 'expel', 'expend', 'expens', 'experi', 'experienc', 'experiment', 'experimente', 'expert', 'expertis', 'expertli', 'expir', 'expla', 'explain', 'explan', 'explicitli', 'explicitlyst', 'explod', 'explodeal', 'exploit', 'explor', 'exploratori', 'explorership', 'explos', 'explosionand', 'expo', 'exponenti', 'export', 'expos', 'exposur', 'express', 'expressli', 'expuls', 'expung', 'exsecret', 'exsidekick', 'exsoldi', 'exspi', 'extant', 'exteamm', 'extechop', 'exteenagesuperhero', 'extend', 'extens', 'extensivesh', 'extent', 'exterior', 'extermin', 'extern', 'exthunderbolt', 'extinct', 'extinctionlevel', 'extinguish', 'extirpia', 'extort', 'extra', 'extract', 'extractor', 'extracurricular', 'extradimension', 'extradiment', 'extradit', 'extragalact', 'extranorm', 'extraordinari', 'extraordinarili', 'extrapol', 'extrapow', 'extraterrestri', 'extrem', 'extremelyelderli', 'extremi', 'extremisenhanc', 'extremist', 'extrovert', 'exud', 'exumbrella', 'exwcaer', 'exwif', 'eyam', 'eye', 'eyebeam', 'eyeblast', 'eyebrow', 'eyepatch', 'eyesight', 'eyetoey', 'ezekiel', 'ezili', 'ezio', 'f014', 'fabian', 'fabl', 'fabric', 'facad', 'face', 'facebeetl', 'facecamo', 'facecov', 'facedoff', 'facehugg', 'faceless', 'faceoff', 'facepaint', 'facet', 'facetofac', 'facial', 'facil', 'facilit', 'faclil', 'facsimil', 'fact', 'faction', 'facto', 'factor', 'factori', 'faculti', 'fade', 'faeri', 'fahrenheit', 'fail', 'failsaf', 'failur', 'faint', 'faintli', 'fair', 'fairbairn', 'fairchild', 'fairground', 'fairli', 'fairlyodin', 'faith', 'faithheal', 'faizul', 'fake', 'fakeexplos', 'fakeout', 'falcon', 'fall', 'fallen', 'fallout', 'fallvil', 'fals', 'falsifi', 'falsworth', 'falter', 'faltin', 'fame', 'famili', 'familiar', 'familiarlook', 'familyfrancin', 'famin', 'famou', 'famous', 'fan', 'fanat', 'fanatic', 'fanboy', 'fanboyish', 'fanci', 'fancier', 'fandom', 'fandral', 'fang', 'fanletamen', 'fantas', 'fantasi', 'fantasma', 'fantast', 'fantasticar', 'fantomex', 'faora', 'far', 'faraday', 'fare', 'farewel', 'farflung', 'farley', 'farm', 'farmer', 'farmhous', 'farmland', 'faro', 'faroff', 'farouk', 'farpoint', 'farrel', 'farther', 'farthest', 'faruka', 'fasaud', 'fascin', 'fascism', 'fascist', 'fashima', 'fashion', 'fasion', 'fast', 'faster', 'fastest', 'fastforward', 'fasttrack', 'fat', 'fatal', 'fate', 'fatechild', 'fatgirl', 'father', 'father1', 'father242526', 'father8', 'fatheratlan', 'fatherdaught', 'fatherfigur', 'fatherinlaw', 'fathermagneto', 'fatherí', 'fathom', 'fatigu', 'fatman', 'fault', 'faulti', 'faust', 'faustu', 'faux', 'favor', 'favorit', 'favour', 'favourit', 'fawcett', 'fay', 'faáad', 'fbi', 'fealti', 'fear', 'fearless', 'fearmong', 'fearmonst', 'fearsom', 'fearsuppress', 'feasibl', 'feast', 'feat', 'feather', 'featur', 'featureless', 'feb', 'februari', 'fed', 'feder', 'federico', 'fedup', 'fee', 'feed', 'feedback', 'feel', 'feelinga', 'feelingseventu', 'feet', 'fefnir', 'feign', 'feisti', 'feitheran', 'felic', 'felicia', 'felin', 'felinehumanoid', 'felix', 'fell', 'fellow', 'fellowmut', 'fellowship', 'felon', 'feloni', 'felt', 'felucia', 'femal', 'feminin', 'feminist', 'femizon', 'femizonia', 'femm', 'fen', 'fenc', 'fencer', 'fend', 'fengtu', 'fenri', 'fenwick', 'fera', 'feral', 'ferallik', 'fergus', 'fermin', 'fernu', 'feroc', 'feroci', 'ferporr', 'ferrari', 'ferrel', 'ferret', 'ferrett', 'ferri', 'ferro', 'ferrouz', 'fertil', 'fervor', 'fester', 'festiv', 'fetch', 'fetish', 'fetison', 'fett', 'fetu', 'fetus', 'feud', 'fever', 'feverishli', 'fewer', 'fey', 'ff', 'fianc', 'fiancé', 'fiasco', 'fiber', 'fibrif', 'fiction', 'fiddler', 'field', 'fieldbas', 'fieldston', 'fiend', 'fiendish', 'fierc', 'fiercest', 'fieri', 'fieryhead', 'fierytemp', 'fifteen', 'fifth', 'fifti', 'fight', 'fightand', 'fightbattl', 'fighter', 'fightorflight', 'figment', 'figur', 'figurehead', 'figurin', 'file', 'fill', 'fillian', 'film', 'fin', 'final', 'finalhazard', 'financ', 'financi', 'finarfin', 'find', 'findi', 'fine', 'finer', 'finest', 'fing', 'finger', 'fingernail', 'fingerprint', 'fingertip', 'fingolfin', 'fingon', 'finish', 'finn', 'finwë', 'fiona', 'fire', 'firearm', 'firebal', 'firebird', 'firebrand', 'firefight', 'firefist', 'firefli', 'firehawk', 'fireheart', 'fireit', 'firelord', 'fireman', 'firenz', 'firepow', 'firestar', 'firestom', 'firestorm', 'firestrik', 'firewatch', 'firework', 'firm', 'firma', 'firmer', 'firmli', 'first', 'firstborn', 'firsthand', 'firsttim', 'firstyear', 'firtf', 'fischer', 'fish', 'fisher', 'fisherman', 'fishermen', 'fishgod', 'fishi', 'fisk', 'fission', 'fissur', 'fist', 'fistfight', 'fisticuff', 'fisto', 'fit', 'fitz', 'fitzgerald', 'fitzroy', 'five', 'fivestar', 'fivethousand', 'fiveyear', 'fix', 'fixat', 'fixer', 'fixit', 'fixtur', 'fiyero', 'flabbergast', 'flag', 'flagboy', 'flagg', 'flagship', 'flagsmash', 'flail', 'flake', 'flame', 'flamebird', 'flamel', 'flamemeis', 'flameretard', 'flamethrow', 'flamewield', 'flamingo', 'flap', 'flare', 'flarkin', 'flash', 'flashback', 'flashburn', 'flashdoctor', 'flashfrozen', 'flashi', 'flashpoint', 'flashsavagesavitarkobra', 'flashthey', 'flask', 'flass', 'flat', 'flatli', 'flatten', 'flatwar', 'flavia', 'flaw', 'flawless', 'flawlessli', 'fleck', 'fled', 'fledg', 'fledgl', 'flee', 'fleet', 'fleischtung', 'flerken', 'flesh', 'fleshalt', 'fleshi', 'fleshshap', 'fletcher', 'flew', 'flexibl', 'fli', 'flick', 'flicker', 'flickey', 'flicki', 'flier', 'flight', 'flinch', 'fling', 'flint', 'flip', 'flirt', 'flirtat', 'flirtati', 'flit', 'float', 'flock', 'flood', 'floodgat', 'floor', 'flop', 'flophous', 'flora', 'floral', 'flore', 'florenc', 'florent', 'florentin', 'florida', 'florist', 'floron', 'flounder', 'flourish', 'flow', 'flower', 'flowlight', 'flown', 'floyd', 'flu', 'fluctuat', 'fluent', 'fluid', 'fluke', 'flung', 'flunk', 'flunki', 'flush', 'fluster', 'flux', 'fly1', 'flyer', 'flyingoff', 'flynn', 'flyover', 'flyx', 'foam', 'focal', 'focu', 'focus', 'focuss', 'fodder', 'foe', 'foesin', 'fog', 'foggi', 'foil', 'fold', 'folder', 'foley', 'folk', 'folklor', 'folley', 'folli', 'folliag', 'follow', 'fom', 'foment', 'fomor', 'fond', 'fondest', 'fong', 'fongji', 'font', 'fontain', 'fonti', 'food', 'fool', 'foolish', 'foolishli', 'foolkil', 'foom', 'foosbal', 'foostep', 'foot', 'footag', 'footagenathan', 'footbal', 'foothold', 'footprint', 'footstep', 'for', 'foray', 'forbad', 'forbear', 'forbid', 'forbidden', 'forbush', 'forc', 'forcea', 'forceattun', 'forceenergi', 'forcef', 'forcefield', 'forcejinn', 'forceonli', 'forceopen', 'forcesedit', 'forcesensit', 'forcibl', 'fore', 'forearm', 'forebod', 'forecast', 'foreck', 'foreclosur', 'forefront', 'forego', 'forehead', 'foreign', 'foreman', 'foremost', 'forens', 'forerunn', 'forese', 'foreseen', 'foreshadow', 'foresightedli', 'foreskin', 'forest', 'forestal', 'foretel', 'forethought', 'foretold', 'forev', 'forevermor', 'forfeit', 'forg', 'forgav', 'forgemast', 'forger', 'forgeri', 'forget', 'forgiv', 'forgiven', 'forgot', 'forgotten', 'fork', 'form', 'formal', 'formaldehyd', 'formalthough', 'formalwear', 'format', 'formeno', 'former', 'formerli', 'formervillain', 'formgiven', 'formid', 'forml', 'formless', 'formul', 'formula', 'forrest', 'forsak', 'forsaken', 'forseen', 'forson', 'forsook', 'fort', 'forth', 'forthcom', 'forti', 'fortifi', 'fortress', 'fortressbi', 'fortresss', 'fortressth', 'fortuit', 'fortun', 'fortunato', 'fortunetel', 'forum', 'forward', 'fossil', 'foster', 'foswel', 'fought', 'foughtoff', 'foul', 'found', 'foundat', 'founder', 'founderlead', 'foundl', 'foundout', 'foundri', 'fountain', 'fountainhead', 'four', 'four27', 'fourarm', 'fourhead', 'foursaken', 'foursom', 'fourteen', 'fourth', 'fouryearlong', 'fox', 'foxal', 'foxdi', 'foxhound', 'foxhunt', 'foxx', 'fractal', 'fraction', 'fractur', 'fragil', 'fragment', 'frail', 'frailti', 'frame', 'framework', 'fran', 'franc', 'franchis', 'franci', 'francin', 'francisco', 'franco', 'frank', 'frankenstein', 'franki', 'frankli', 'franklin', 'frankliní', 'fransisco', 'frantic', 'fraser', 'frat', 'fratern', 'fraud', 'fraudul', 'fray', 'frazier', 'freak', 'freaki', 'freakish', 'freakshow', 'fred', 'fredd', 'freddi', 'frederick', 'free', 'freeagent', 'freed', 'freedom', 'freefal', 'freeforal', 'freehold', 'freelanc', 'freeli', 'freeman', 'freemason', 'freemen', 'freespirit', 'freeway', 'freewil', 'freez', 'freeza', 'freezar', 'freezegun', 'freezer', 'freight', 'freighter', 'freind', 'french', 'frenchalgerian', 'frenchi', 'frenzi', 'frequenc', 'frequent', 'fresh', 'freshli', 'freshman', 'freshmen', 'freyja', 'fri', 'frick', 'frickett', 'friction', 'friday', 'fridg', 'friedland', 'friedman', 'friedrich', 'friend', 'friend1', 'friendli', 'friendship', 'frieza', 'frigga', 'fright', 'frighten', 'frighteningli', 'frigid', 'fring', 'fritz', 'frivol', 'frizzi', 'fro', 'frodo', 'frog', 'froggi', 'frogman', 'frogmen', 'from', 'front', 'frontal', 'frontier', 'frontiersman', 'frontièr', 'frontlin', 'frontpag', 'frontrow', 'frost', 'frostbitecrippl', 'frostbitten', 'frown', 'froze', 'frozen', 'frozon', 'fruit', 'fruition', 'fruitless', 'fruitlessli', 'frustrat', 'frye', 'ft', 'fubuki', 'fuck', 'fudg', 'fudo', 'fuel', 'fugit', 'fuhrer', 'fujikawa', 'fulfil', 'full', 'fuller', 'fullest', 'fullfac', 'fullfledg', 'fullforc', 'fullgrown', 'fulli', 'fullmembership', 'fullon', 'fullretir', 'fullscal', 'fulltim', 'fullwel', 'fullygrown', 'fulton', 'fumbl', 'fume', 'fun', 'funaro', 'function', 'fund', 'fundament', 'fundamentalist', 'funer', 'fungu', 'fungusbas', 'funhous', 'funk', 'funnel', 'funnest', 'funni', 'funnier', 'fur', 'furi', 'furiou', 'furious', 'furlough', 'furnac', 'furnish', 'furniss', 'further', 'furtherhard', 'furthermor', 'fury', 'furydemigod', 'fuse', 'fusion', 'fustig', 'futil', 'futur', 'futurea', 'futurejust', 'futureself', 'futureteamm', 'futurew', 'futurist', 'fuwa', 'fëanor', 'fëanorse', 'führer', 'g', 'ga', 'gaara', 'gaaz', 'gabe', 'gabi', 'gabriel', 'gadget', 'gadgetbi', 'gadgetri', 'gadreel', 'gaea', 'gaelic', 'gag', 'gageradcliff', 'gahck', 'gaia', 'gain', 'gakid', 'gala', 'galact', 'galactiac', 'galactipool', 'galactu', 'galactuslik', 'galactuss', 'galador', 'galadorian', 'galatin', 'galatu', 'galavan', 'galaxi', 'galaxybut', 'galaxyclass', 'galaxywid', 'galeem', 'galenkor', 'galin', 'gallagh', 'galleri', 'galleria', 'gallow', 'galvan', 'gambit', 'gambl', 'gambler', 'game', 'gamemast', 'gamemna', 'gameplay', 'gamesman', 'gamesmast', 'gamma', 'gammaboost', 'gammaemitt', 'gammairradi', 'gammamut', 'gammapow', 'gammaray', 'gammaspawn', 'gammatron', 'gammenon', 'gamora', 'gand', 'gandalf', 'gandolfi', 'gang', 'gangbust', 'gangfight', 'gangland', 'ganglead', 'gangren', 'gangster', 'gangwar', 'gann', 'ganondorf', 'ganthet', 'ganym', 'ganymed', 'ganyrog', 'gap', 'gape', 'gar', 'garag', 'garamdon', 'garb', 'garbag', 'garbl', 'garden', 'gardendal', 'gardner', 'gareth', 'garfield', 'gargan', 'gargantu', 'gargoyl', 'gari', 'garish', 'garland', 'garma', 'garmadon', 'garment', 'garner', 'garokk', 'garrett', 'garrick', 'garrington', 'garrison', 'garrok', 'garryn', 'gart', 'garth', 'garzon', 'gase', 'gaseou', 'gasolin', 'gass', 'gate', 'gatecrash', 'gateway', 'gatewaywith', 'gath', 'gather', 'gaug', 'gaunlet', 'gaunt', 'gauntlet', 'gauntletwield', 'gave', 'gavin', 'gavyn', 'gawain', 'gay', 'gayl', 'gaze', 'gazett', 'gazzo', 'gcpd', 'gear', 'gearhead', 'gearjockey', 'geech', 'geek', 'gehenna', 'geist', 'gekko', 'gelatin', 'gell', 'gellert', 'gem', 'gemini', 'gemma', 'gemston', 'gena', 'gender', 'gene', 'genebatch', 'genecid', 'genefit', 'genegin', 'gener', 'generationsedit', 'generationwhil', 'genesi', 'genesisian', 'genet', 'geneticallycr', 'geneticallymodifi', 'geneticist', 'genetix', 'geneva', 'geneviev', 'geni', 'genisvel', 'geniu', 'genius', 'geniusbuttimidandbankruptphysicist', 'geniuslevel', 'geniuss', 'genocid', 'genom', 'genosha', 'genoshan', 'genotyp', 'genoves', 'genr', 'gentek', 'gentl', 'gentleman', 'gentlemen', 'gentler', 'gentli', 'gentrifi', 'genuin', 'geoff', 'geoffrey', 'geoforc', 'geometr', 'geonosi', 'geophys', 'geophysicist', 'geordi', 'georg', 'georgi', 'georgia', 'geosynchron', 'geotherm', 'geotronik', 'geptun', 'gerald', 'gerard', 'gerber', 'gerd', 'germ', 'german', 'germani', 'germanoccupi', 'gerold', 'gestalt', 'gestapo', 'gestat', 'gestur', 'get', 'getaway', 'getti', 'geyser', 'ghaur', 'ghazakhanian', 'ghelmer', 'ghetto', 'ghost', 'ghostfreak', 'ghostli', 'ghostlik', 'ghostphon', 'ghul', 'giant', 'giantess', 'giantman', 'giantsiz', 'giardi', 'gibbon', 'gibár', 'giddi', 'gideon', 'gift', 'giftto', 'gig', 'giga', 'gigan', 'gigant', 'giganta', 'giganto', 'gigantrix', 'gigawatt', 'gigi', 'gijimu', 'gijimuad', 'gila', 'gilatnu', 'gilbert', 'gild', 'gildishpan', 'gile', 'gill', 'gillen', 'gillian', 'gilmor', 'gilmour', 'gilotina', 'gilraen', 'gilzean', 'gim', 'gimmick', 'ginetta', 'ginger', 'gingo', 'gingold', 'ginni', 'ginyu', 'gionn', 'girder', 'girdl', 'girescu', 'girl', 'girldiana', 'girlfriend', 'girlsbrew', 'giurescu', 'give', 'given', 'giveup', 'giza', 'gizoid', 'gl', 'glacier', 'glad', 'glade', 'gladiat', 'gladiatori', 'gladiatorstyl', 'gladiatrix', 'gladli', 'glaiv', 'glamor', 'glamour', 'glanc', 'gland', 'glasgow', 'glass', 'glassesmask', 'glasswal', 'glastonburi', 'glc', 'glean', 'gleefulli', 'glenco', 'glenda', 'glenn', 'glenvil', 'glide', 'glider', 'gliderw', 'glimps', 'glitch', 'glitter', 'gloat', 'glob', 'global', 'globe', 'globetrot', 'globul', 'gloomi', 'glori', 'gloria', 'glorian', 'gloriou', 'glove', 'glow', 'glu', 'glum', 'glyph', 'gmerl', 'gnort', 'go', 'goad', 'goal', 'goalsh', 'goatboy', 'goatdemon', 'gobi', 'goblet', 'goblin', 'goblinlik', 'goblyin', 'goblyn', 'god', 'godb', 'goddess', 'gode', 'godfath', 'godfear', 'godfrey', 'godhood', 'godli', 'godlik', 'godsey', 'godship', 'godsin', 'godslay', 'godson', 'godss', 'godsth', 'godwatch', 'godwav', 'godworld', 'godzilla', 'goe', 'gofer', 'gog', 'goggl', 'gohan', 'gohen', 'goingson', 'goku', 'golan', 'gold', 'goldbug', 'golden', 'goldenblad', 'goldeney', 'goldstar', 'golem', 'golgotha', 'goliath', 'goliathin', 'gomez', 'gomi', 'gomorrah', 'gomurr', 'gon', 'gondor', 'gone', 'gone24', 'gonshi', 'gonzal', 'good', 'goodalign', 'goodand', 'goodbut', 'goodby', 'goodintent', 'goodlook', 'goodman', 'goodnesss', 'goodwil', 'goof', 'goofi', 'googam', 'googoo', 'goon', 'goop', 'goos', 'gordon', 'gordski', 'gore', 'gorgilla', 'gorgon', 'gori', 'gorilla', 'gorjoon', 'gormuu', 'gorn', 'goro', 'gosamyr', 'goshasei', 'gosset', 'gossett', 'got', 'goten', 'gotham', 'gothic', 'gothmog', 'goto', 'gotten', 'gotterdamerung', 'goug', 'goven', 'gover', 'govern', 'government', 'governmentapprov', 'governmentchart', 'governmentcontest', 'governmentcontrol', 'governmentfund', 'governmentregist', 'governmentrun', 'governmentsanct', 'governmentsponsor', 'governmentsubsid', 'governor', 'gown', 'gozzl', 'grab', 'grace', 'gracious', 'graczia', 'grade', 'gradual', 'graduat', 'graffiti', 'graft', 'graham', 'grail', 'grain', 'granbi', 'grand', 'grandaunt', 'grandchild', 'grandchildren', 'granddaught', 'grandfath', 'grandios', 'grandmast', 'grandmoth', 'grandniec', 'grandpa', 'grandpar', 'grandson', 'grandstand', 'granger', 'granit', 'granni', 'grant', 'graphic', 'grappl', 'grappler', 'grasp', 'grassgreen', 'grata', 'grate', 'gratitud', 'grave', 'gravea', 'gravemind', 'graven', 'graverobb', 'graveyard', 'gravit', 'graviti', 'graviton', 'gravitonium', 'gravitydefi', 'gravityedit', 'graxo', 'gray', 'graydon', 'graymalkin', 'grayskul', 'grayson', 'grayven', 'graze', 'greas', 'greasiest', 'great', 'greater', 'greatest', 'greatgrandchildren', 'greatgrandfath', 'greatgrandson', 'greatgreatgrandson', 'greatgreatuncl', 'greatli', 'greatnieceof', 'greatsword', 'greec', 'greed', 'greedi', 'greedli', 'greedo', 'greek', 'green', 'greenblu', 'greenfac', 'greenhair', 'greenhous', 'greenskin', 'greenskyn', 'greentown', 'greenwich', 'greenworld', 'greer', 'greet', 'greg', 'gregor', 'gregorivich', 'greithoth', 'grell', 'gremlin', 'grenad', 'greta', 'gretchen', 'gretl', 'greviou', 'grew', 'grey', 'greyash', 'greyston', 'grid', 'gridwork', 'grief', 'grieffuel', 'griefstricken', 'griev', 'grievanc', 'grievou', 'grievous', 'griffin', 'griffith', 'grifter', 'grigori', 'grill', 'grim', 'grimm', 'grimmer', 'grimoir', 'grimorium', 'grimorum', 'grin', 'grind', 'grindelwald', 'grip', 'grist', 'gritti', 'grizzli', 'grobe', 'grocer', 'groceri', 'grodd', 'grogg', 'groggi', 'groggili', 'groom', 'groot', 'grope', 'grossli', 'grotesk', 'grotesqu', 'grotto', 'grottu', 'ground', 'groundbreak', 'groundhog', 'groundno', 'groundonli', 'groundskeep', 'group', 'groupi', 'grove', 'grow', 'growl', 'grown', 'grownup', 'growth', 'gru', 'grudg', 'grudgingli', 'gruel', 'gruell', 'gruesom', 'gruff', 'gruler', 'grumech', 'grundi', 'grundypng', 'grunkl', 'gryaznova', 'gryffindor', 'gryphon', 'gsptlsnz', 'guantanamo', 'guarante', 'guarantor', 'guard', 'guardian', 'guardianship', 'guardsman', 'guardsmen', 'guarino', 'guatemala', 'guerilla', 'guerrilla', 'guess', 'guest', 'guevaralik', 'guid', 'guidanc', 'guido', 'guil', 'guild', 'guilt', 'guiltborn', 'guilti', 'guiltridden', 'guiltwrack', 'guinea', 'guis', 'guitar', 'gulf', 'gulka', 'gullibl', 'gulltown', 'gulyadkin', 'gum', 'gun', 'gunan', 'gunfight', 'gunfir', 'gungan', 'gunman', 'gunmen', 'gunn', 'gunner', 'gunpoint', 'gunrun', 'gunrunn', 'gunship', 'gunshot', 'gunsiz', 'gunther', 'gurlukovich', 'gurthri', 'gust', 'gustav', 'gustava', 'gut', 'guthri', 'gutter', 'guy', 'gvw', 'gwen', 'gwendolyn', 'gym', 'gymnasium', 'gymnast', 'gypsi', 'gyrich', 'ha', 'haaa', 'haan', 'haazareth', 'habit', 'hacienda', 'hack', 'hacker', 'hackett', 'hacksaw', 'had', 'haddad', 'hade', 'hademar', 'hadi', 'hadnt', 'haelar', 'hagen', 'hager', 'hagg', 'haggard', 'haggl', 'hagoromo', 'hagreev', 'haifa', 'haiku', 'hail', 'hair', 'hairdryer', 'hairi', 'hairless', 'hairsbreadth', 'haithian', 'haiti', 'haitian', 'hakuba', 'hal', 'hala', 'haldor', 'hale', 'haleena', 'haley', 'half', 'halfbat', 'halfblood', 'halfbre', 'halfbroth', 'halfburi', 'halfcat', 'halfcelesti', 'halfdemon', 'halfelv', 'halffunct', 'halfghanagan', 'halfgorilla', 'halfheart', 'halfhop', 'halfhuman', 'halfindustri', 'halfjokingli', 'halfkre', 'halflif', 'halfman', 'halfmemori', 'halfmountainlion', 'halfnak', 'halfrhino', 'halfshirt', 'halfsibl', 'halfsist', 'halftrack', 'halftruth', 'halfverd', 'halfwat', 'halfway', 'halfworld', 'hali', 'hall', 'hallail', 'haller', 'hallesi', 'halley', 'halli', 'hallmark', 'hallow', 'halloween', 'hallucin', 'hallucinogen', 'hallucinogensthey', 'hallway', 'halo', 'halt', 'halv', 'halwan', 'ham', 'hamburg', 'hamil', 'hamilton', 'hamir', 'hamlet', 'hamman', 'hammer', 'hammerhead', 'hammock', 'hammond', 'hamper', 'hampshir', 'hampstead', 'hampton', 'hamura', 'han', 'hancock', 'hand', 'handblast', 'handcuf', 'handcuff', 'handedli', 'handgun', 'handheld', 'handi', 'handicap', 'handili', 'handiwork', 'handkerchief', 'handl', 'handler', 'handov', 'handprint', 'handpuppet', 'handsiz', 'handsom', 'handtohand', 'hang', 'hangar', 'hanger', 'hangman', 'hangout', 'hank', 'hann', 'hannib', 'hanscom', 'hanumachin', 'hanzo', 'hapgood', 'haphazard', 'haphephobia', 'hapless', 'happen', 'happeneda', 'happersen', 'happi', 'happier', 'happiest', 'happili', 'happygolucki', 'har', 'harada', 'harass', 'harbin', 'harbing', 'harbor', 'harbour', 'hard', 'hardbal', 'hardcor', 'hardearn', 'harden', 'harder', 'hardest', 'hardi', 'hardli', 'hardlin', 'hardnos', 'hardofhear', 'hardship', 'hardtoget', 'hardwar', 'hardwat', 'hardwork', 'harebrain', 'harem', 'hargrov', 'hark', 'harken', 'harker', 'harlan', 'harleen', 'harlem', 'harlequin', 'harley', 'harm', 'harmless', 'harmlessli', 'harmon', 'harmoni', 'harnisch', 'harold', 'harper', 'harpi', 'harpoon', 'harpuia', 'harpylik', 'harra', 'harrald', 'harrenh', 'harri', 'harridan', 'harrier', 'harrierclass', 'harriet', 'harrison', 'harrow', 'harsh', 'harsher', 'harshli', 'hart', 'hartley', 'hartwig', 'harvard', 'harvest', 'harvey', 'hasashi', 'hasbeen', 'hashav', 'hashirama', 'hashshashin', 'hasnt', 'hast', 'hasten', 'hasti', 'hat', 'hatak', 'hatch', 'hatchet', 'hatchetman', 'hate', 'hatemong', 'hater', 'hateray', 'hathsetvand', 'hatr', 'hatter', 'hatut', 'haukin', 'haukka', 'haul', 'haunt', 'hauntbi', 'haupenstein', 'haupstein', 'havania', 'have', 'haven', 'havenrock', 'havent', 'havoc', 'havok', 'havokl', 'hawaii', 'hawk', 'hawkey', 'hawkeyeasgoliath', 'hawkgirl', 'hawkin', 'hawkman', 'hawkwoman', 'hawley', 'hay', 'hayden', 'hayn', 'haywir', 'hazard', 'haze', 'hazi', 'hazmat', 'hbomb', 'hbr', 'hcf', 'he', 'head', 'headach', 'headband', 'headbang', 'headbut', 'headfirst', 'headgear', 'headhunt', 'headlin', 'headlok', 'headluk', 'headmast', 'headmen', 'headmistress', 'headon', 'headphon', 'headpool', 'headquart', 'headset', 'headship', 'headsman', 'headston', 'headstrong', 'headtohead', 'heal', 'healed10', 'healer', 'health', 'healthi', 'healthier', 'heap', 'hear', 'heard', 'heart', 'heartach', 'heartbeat', 'heartbreak', 'heartbroken', 'heartland', 'heartless', 'heartshap', 'heat', 'heatblast', 'heathen', 'heather', 'heatseek', 'heatvis', 'heatwav', 'heaven', 'heavenli', 'heavenspan', 'heavi', 'heavier', 'heavili', 'heavilyfortifi', 'heavydrink', 'heavyhand', 'heavyhitt', 'heavyweight', 'hecat', 'hecatomb', 'hecatombwith', 'hecatonchir', 'hecht', 'hectic', 'hector', 'hed', 'hedg', 'hedgehog', 'hedgehoghbi', 'hedi', 'hedonist', 'hee', 'heed', 'heel', 'heffner', 'hefti', 'hegeman', 'heggra', 'heidelberg', 'height', 'heighten', 'heik', 'heimdal', 'heinlein', 'heinou', 'heinrich', 'heir', 'heiress', 'heiroglyph', 'heist', 'hel', 'hela', 'helcaraxë', 'held', 'helen', 'helena', 'helfern', 'helga', 'helicarri', 'helicopt', 'helio', 'heliop', 'heliport', 'helium', 'helix', 'hell', 'hellbeast', 'hellbent', 'hellblaz', 'hellborn', 'hellbound', 'hellboy', 'hellcarri', 'hellcat', 'hellen', 'heller', 'hellfern', 'hellfir', 'hellgrant', 'hellhous', 'hellion', 'hellish', 'helllord', 'hellman', 'hello', 'hellphyr', 'hellphyrpossess', 'hellrais', 'hells', 'hellscout', 'hellspawn', 'hellstorm', 'hellstrom', 'hellverin', 'helm', 'helmet', 'helmetlik', 'helmut', 'helmuth', 'helmy1', 'help', 'helpa', 'helpbaron', 'helpless', 'helplessli', 'helptoni', 'hels', 'helzing', 'hem', 'heman', 'hemingway', 'hemispher', 'henc', 'henceforth', 'henchman', 'henchmen', 'henchwoman', 'hendri', 'heniou', 'henri', 'henshaw', 'hepat', 'hephaestu', 'hephaestuss', 'hephestu', 'hepzibah', 'her', 'hera', 'heracl', 'herald', 'heraldbut', 'heraldexpress', 'heraldless', 'herb', 'herbal', 'herbert', 'herbut', 'hercit', 'hercul', 'herd', 'here', 'hereaft', 'hereditari', 'heresi', 'heret', 'heretoforeunseen', 'herit', 'heritag', 'herlinda', 'herm', 'herman', 'hermann', 'hermeswho', 'hermion', 'hermit', 'hermonia', 'hernot', 'hero', 'heroeshbi', 'heroesmachin', 'herohunt', 'heroic', 'heroin', 'heroism', 'heromonst', 'heroteam', 'herperson', 'herrera', 'herself', 'herselv', 'hershortli', 'herth', 'heru', 'hesit', 'hesita', 'hesitantli', 'hestia', 'hetacomb', 'heven', 'hex', 'hexapu', 'hexapus', 'hexcast', 'heyday', 'heywood', 'hezlet', 'hfh', 'hi', 'hiatu', 'hibern', 'hick', 'hid', 'hidalgo', 'hidden', 'hide', 'hideaway', 'hideki', 'hidelik', 'hideou', 'hideous', 'hideout', 'hideoutbird', 'hierarchi', 'higgin', 'high', 'highaltitud', 'highcalib', 'highclass', 'highcommand', 'higher', 'higherlevel', 'higherup', 'highest', 'highestrank', 'highfath', 'highfrequ', 'highgarden', 'highk', 'highland', 'highlevel', 'highli', 'highlight', 'highmast', 'highpitch', 'highpow', 'highrank', 'highschool', 'highsecur', 'highspe', 'hightech', 'hightow', 'highvoltag', 'highwat', 'highway', 'highwaybi', 'highwayman', 'hijack', 'hike', 'hilari', 'hilda', 'hill', 'hilliard', 'him', 'him19', 'him2', 'him9', 'himaft', 'himalaya', 'himalayan', 'himand', 'himbesti', 'himbut', 'himh', 'himkil', 'himon', 'himself', 'himself11', 'himself3', 'himselform', 'himselfsay', 'himwho', 'hinata', 'hinder', 'hindsight', 'hindu', 'hinduism', 'hine', 'hint', 'hip', 'hiphop', 'hippolyta', 'hippoylta', 'hiram', 'hirano', 'hire', 'hirewhil', 'hiro', 'hiroamin', 'hiroim', 'hirokala', 'hiroshi', 'hiroshima', 'hiruzen', 'hisako', 'hisher', 'hispan', 'histor', 'histori', 'historian', 'historyinclud', 'hit', 'hitandrun', 'hitch', 'hitchhik', 'hitech', 'hitgirl', 'hitherto', 'hitler', 'hitlist', 'hitman', 'hitmen', 'hitmonkey', 'hitter', 'hitwoman', 'hiv', 'hive', 'hiyshi', 'hlythri', 'hm', 'hoan', 'hoard', 'hoax', 'hob', 'hobart', 'hobbi', 'hobbit', 'hobgoblin', 'hobo', 'hoc', 'hockey', 'hockeymask', 'hodg', 'hodomur', 'hoffman', 'hogan', 'hogarth', 'hoggish', 'hogti', 'hogun', 'hogwart', 'hokag', 'hokum', 'hokuto', 'hol', 'holcroft', 'hold', 'holden', 'holder', 'hole', 'holi', 'holiday', 'holiest', 'holland', 'hollenbeck', 'holli', 'holliday', 'holliway', 'hollow', 'hollowpen', 'hollywood', 'holm', 'holmess', 'holocamouflag', 'holocaust', 'holocron', 'holodrama', 'holoempath', 'hologram', 'holograph', 'holonet', 'holorecord', 'holt', 'homag', 'home', 'homeaquagirl', 'homebas', 'homecom', 'homegrown', 'homeland', 'homeless', 'homemad', 'homemak', 'homeown', 'homeroom', 'homesick', 'homestead', 'hometown', 'homework', 'homeworld', 'homicid', 'homo', 'homonculu', 'homosapien', 'homosexu', 'homunculi', 'homunculu', 'homunculuss', 'honan', 'hondo', 'hone', 'honest', 'honesti', 'honestli', 'honeycombpattern', 'honeymoon', 'hong', 'hongkong', 'honor', 'honorari', 'honorbound', 'honour', 'hood', 'hook', 'hooker', 'hooper', 'hooti', 'hoover', 'hoovervil', 'hope', 'hopeless', 'hopelessli', 'hopscotch', 'horac', 'horcrux', 'hord', 'horgan', 'horizon', 'horizont', 'hormon', 'hormoneh', 'horn', 'hornet', 'horrend', 'horribl', 'horrid', 'horrif', 'horrifi', 'horror', 'hors', 'horselik', 'horseman', 'horsemen', 'horseracewatch', 'horsevalinorand', 'horstbaden', 'hortli', 'horton', 'horu', 'hose', 'hoshi', 'hoshigaki', 'hoskin', 'hospic', 'hospiceí', 'hospit', 'hospitalanoth', 'host', 'hostag', 'hostel', 'hoster', 'hostess', 'hostil', 'hot', 'hotel', 'hoth', 'hothead', 'hotlin', 'hotload', 'hottemp', 'hottest', 'hound', 'houngan', 'hour', 'hourman', 'hous', 'household', 'housekeep', 'housewif', 'houston', 'hover', 'hoverboard', 'hoverchair', 'hovercraft', 'how', 'howard', 'howev', 'howeverdiana', 'howl', 'howland', 'howler', 'howlett', 'howver', 'hr421', 'hrimhari', 'hronmeer', 'hroth', 'hsu', 'hsuin', 'htrae', 'httpsvillainsfandomcomwikithedevast', 'httpwwwmarvelcomuniversenamorita', 'huac', 'huang', 'hub', 'hubcap', 'hubert', 'hubri', 'huddl', 'hudson', 'hue', 'hug', 'huge', 'hugh', 'hugo', 'hulk', 'hulkbust', 'hulkedout', 'hulkl', 'hulkless', 'hulklik', 'hulkpool', 'hull', 'human', 'humanalien', 'humanatlantean', 'humaniora', 'humanitarian', 'humanityprotect', 'humankind', 'humanlevel', 'humanlik', 'humanlook', 'humanmut', 'humanoid', 'humans', 'humansid', 'humanthough', 'humber', 'humbl', 'humbug', 'humil', 'humili', 'humiliatingli', 'humor', 'humour', 'humpti', 'humu', 'hunan', 'hunch', 'hundr', 'hung', 'hungan', 'hungari', 'hungarian', 'hunger', 'hungri', 'hunk', 'hunkel', 'hunt', 'huntara', 'hunter', 'huntergather', 'hunterprey', 'hunterí', 'huntress', 'huntsman', 'huph', 'hurl', 'huron', 'hurri', 'hurrican', 'hurricaneforc', 'hurt', 'hurtl', 'hurut', 'husband', 'hush', 'hushhush', 'husk', 'huski', 'hustler', 'hutt', 'huul', 'hweapon', 'hyalt', 'hyatt', 'hyborean', 'hyborian', 'hybrasil', 'hybrid', 'hyde', 'hydra', 'hydraabteilung', 'hydrant', 'hydraul', 'hydrogen', 'hydroman', 'hydrostat', 'hyena', 'hylthri', 'hyoh', 'hyper', 'hyperact', 'hyperadren', 'hyperag', 'hyperalloy', 'hyperbol', 'hyperborea', 'hyperborean', 'hyperclan', 'hyperevolv', 'hyperextend', 'hypergoon', 'hyperion', 'hyperkinesi', 'hyperreligi', 'hypersensit', 'hyperspac', 'hyperspe', 'hypnosi', 'hypnot', 'hypnotherapi', 'hypnotist', 'hypoderm', 'hypothes', 'hypothesi', 'hypothet', 'hyppokri', 'hyster', 'hysteria', 'hyūga', 'hōō', 'ian', 'ibli', 'ibnlaahad', 'icaru', 'ice', 'iceberg', 'icecap', 'iceform', 'iceman', 'icepow', 'ich', 'ichiki', 'ichirō', 'ici', 'icicl', 'icon', 'iconographi', 'icthyo', 'id', 'idaho', 'idea', 'ideal', 'idealist', 'iden', 'idend', 'ident', 'identif', 'identifi', 'identity10', 'ideolog', 'idhistori', 'idi', 'idiot', 'idirectli', 'iditarod', 'idlock', 'idol', 'idyl', 'idylist', 'idyllist', 'ie', 'iedit', 'iera', 'ifrit', 'igl', 'ignit', 'ignobl', 'ignor', 'igor', 'ii', 'iiedit', 'iii', 'iii4', 'ikari', 'ikor', 'ikthalon', 'ilaney', 'ill', 'illconceiv', 'illeg', 'illegitim', 'illfat', 'illgotten', 'illicit', 'illinoi', 'illiter', 'illog', 'illprepar', 'illtemp', 'illumina', 'illuminati', 'illus', 'illusionari', 'illusionist', 'illusori', 'illustr', 'illyana', 'ilona', 'ilord', 'ilsa', 'iluminado', 'iluthin', 'ilúvatar', 'imag', 'imageri', 'imagin', 'imaginari', 'imaya', 'imbal', 'imbecil', 'imbib', 'imbu', 'imei', 'imit', 'imman', 'immatur', 'immeasur', 'immedi', 'immemori', 'immens', 'immers', 'immigr', 'immin', 'immobil', 'immol', 'immor', 'immort', 'immortali', 'immortu', 'immun', 'imogen', 'imp', 'impact', 'impactbi', 'impair', 'impal', 'impart', 'impass', 'impati', 'impeach', 'imped', 'impend', 'impenetr', 'imper', 'imperfect', 'imperfectli', 'imperi', 'imperiec', 'imperiex', 'imperiexprob', 'imperil', 'imperium', 'imperliaist', 'imperson', 'impervi', 'implac', 'implant', 'implement', 'impli', 'implic', 'implicitli', 'implik', 'impliy', 'implod', 'implor', 'implos', 'implus', 'import', 'importantli', 'impos', 'imposs', 'impost', 'imposterin', 'impostor', 'impostur', 'impot', 'impoverish', 'impract', 'impregn', 'impress', 'imprint', 'impris', 'imprison', 'improb', 'impromptu', 'improv', 'improvis', 'impuls', 'impun', 'impur', 'imra', 'inabl', 'inact', 'inadequ', 'inadequaci', 'inadvert', 'inadvertantli', 'inafun', 'inan', 'inanim', 'inanna', 'inappropri', 'inbattl', 'inbetween', 'inbound', 'inc', 'incan', 'incand', 'incandesc', 'incant', 'incap', 'incapacit', 'incarcer', 'incarn', 'incendiari', 'incens', 'incent', 'incess', 'incestu', 'inch', 'incharg', 'incid', 'incident', 'incident1', 'inciner', 'incit', 'inclin', 'includ', 'inclus', 'incognito', 'incoher', 'incom', 'incompat', 'incompet', 'incomplet', 'incomprehens', 'inconsider', 'inconsist', 'inconspic', 'inconvenienc', 'incorpor', 'incorrect', 'incorrectli', 'incostum', 'increas', 'increasingli', 'incred', 'incrimin', 'incub', 'incubu', 'inculc', 'incurs', 'inde', 'indebt', 'indecipher', 'indecis', 'indefinit', 'indel', 'indelicato', 'indent', 'independ', 'indepth', 'indestruct', 'index', 'indi', 'india', 'indian', 'indiana', 'indic', 'indict', 'indiffer', 'indign', 'indignantli', 'indigo', 'indigo1', 'indirectli', 'indiscret', 'indiscrimin', 'indispens', 'indistinguish', 'individu', 'indoctrin', 'indonesia', 'indoor', 'indri', 'induc', 'induct', 'indulg', 'industri', 'industrialist', 'inebri', 'ined', 'ineffect', 'ineffectu', 'ineluct', 'inept', 'inequ', 'inert', 'inerti', 'inertia', 'inevit', 'inexor', 'inexperi', 'inexperienc', 'inexplic', 'infact', 'infam', 'infami', 'infanc', 'infant', 'infantri', 'infatu', 'infect', 'infecti', 'infectia', 'inferior', 'infern', 'inferno', 'inferno42', 'infertil', 'infest', 'infidel', 'infight', 'infiltr', 'infin', 'infinit', 'infinitesm', 'infinityman', 'infirm', 'infirmari', 'inflam', 'inflex', 'inflict', 'influenc', 'influenti', 'influx', 'info', 'inform', 'informationsilk', 'infrar', 'infrastructur', 'inful', 'infuri', 'infus', 'ingam', 'ingeni', 'ingenu', 'ingest', 'ingrain', 'ingrat', 'ingrati', 'ingredi', 'inhabit', 'inhabitants19', 'inhal', 'inher', 'inherit', 'inheritor', 'inheritoruntil', 'inhibit', 'inhibitor', 'inhuman', 'inhumanli', 'initi', 'inject', 'injector', 'injunct', 'injur', 'injuri', 'injustic', 'ink', 'inkblot', 'inki', 'inkl', 'inkos', 'inlcud', 'inlov', 'inmat', 'inn', 'innat', 'inner', 'innermost', 'innoc', 'innocentwild', 'innov', 'innumer', 'ino', 'inocul', 'inord', 'inplac', 'input', 'inquir', 'inquiri', 'inquisit', 'inquisitor', 'inr', 'insan', 'insati', 'inscrib', 'inscript', 'insect', 'insectivorid', 'insectlik', 'insectoid', 'insectovorid', 'insecur', 'insemin', 'insensit', 'insepar', 'insert', 'insid', 'insideout', 'insidi', 'insight', 'insignia', 'insignific', 'insinu', 'insist', 'insol', 'inspect', 'inspector', 'inspir', 'instabl', 'instal', 'instanc', 'instant', 'instantan', 'instantli', 'instat', 'instead', 'instig', 'instil', 'instinct', 'instinctu', 'institut', 'institution', 'instruct', 'instructor', 'instrument', 'insu', 'insubordin', 'insuffici', 'insul', 'insult', 'insur', 'insuranceprotect', 'insurg', 'insuricar', 'intact', 'intak', 'intang', 'integr', 'intel', 'intellect', 'intellectu', 'intellig', 'intelligenceregul', 'intelligencia', 'intend', 'intens', 'intensifi', 'intent', 'inter', 'interac', 'interact', 'interag', 'interbreed', 'interced', 'intercept', 'intercours', 'interdict', 'interdimension', 'interest', 'interestedin', 'interestingli', 'interf', 'interfac', 'interfer', 'intergalact', 'intergang', 'interim', 'interior', 'interlac', 'interlock', 'interlop', 'intermingl', 'intermitt', 'intermur', 'intern', 'internationallyrenown', 'internet', 'internship', 'interog', 'interperson', 'interplanetari', 'interpol', 'interpret', 'interrog', 'interrupt', 'intersect', 'interspeci', 'interstellar', 'intertwin', 'interunivers', 'interupt', 'interv', 'interven', 'intervent', 'interview', 'intervin', 'inteview', 'inti', 'intim', 'intimaci', 'intimid', 'intimit', 'intoler', 'intox', 'intranet', 'intric', 'intrigu', 'intrins', 'introduc', 'introduct', 'introductori', 'introspect', 'introvert', 'intrud', 'intuit', 'inuit', 'inund', 'inupiat', 'inutero', 'invad', 'invalid', 'invalu', 'invari', 'invas', 'invent', 'inventor', 'inventori', 'invers', 'invert', 'invest', 'investig', 'investigatewhen', 'invinc', 'invis', 'invisibilti', 'invit', 'invok', 'involuntari', 'involuntarili', 'involv', 'invulner', 'invunch', 'inward', 'inwardli', 'inwudu', 'inza', 'ioland', 'ion', 'ionic', 'iosif', 'iowa', 'ipod', 'iqula', 'iran', 'iraq', 'iraqi', 'irat', 'ire', 'ireland', 'iren', 'irena', 'irey', 'iri', 'irimë', 'iris', 'irish', 'iriss', 'irk', 'iron', 'ironclad', 'ironheart', 'ironi', 'ironss', 'iroquoi', 'irradi', 'irrat', 'irration', 'irrefut', 'irregular', 'irrelev', 'irremov', 'irrepar', 'irresist', 'irrespons', 'irrevers', 'irrevoc', 'irrig', 'irrit', 'iruka', 'irv', 'irwin', 'isaac', 'isabel', 'isabella', 'ishima', 'isi', 'isildur', 'isiss', 'iskelior', 'isl', 'isla', 'island', 'islandb', 'islandif', 'islandn', 'islandprovid', 'islandsh', 'isley', 'islington', 'isnt', 'iso8', 'isol', 'isolationist', 'isotop', 'isra', 'israel', 'issu', 'istanbul', 'istari', 'it', 'itachi', 'itali', 'italian', 'itd', 'item', 'iter', 'ithicon', 'itsu', 'itthi', 'ivan', 'ivanov', 'ivanova', 'ive', 'ivi', 'ivo', 'iwantsex', 'iwht', 'ix', 'ixion', 'izaya', 'izumi', 'izzi', 'j586', 'jab', 'jabari', 'jabba', 'jace', 'jacen', 'jack', 'jackal', 'jackdaw', 'jacket', 'jacki', 'jackjack', 'jackson', 'jacob', 'jacobi', 'jacqu', 'jacquelin', 'jade', 'jaeger', 'jaffar', 'jagi', 'jaguar', 'jah', 'jahad', 'jahf', 'jai', 'jail', 'jailbreak', 'jailer', 'jailtim', 'jaim', 'jain', 'jaina', 'jake', 'jakeem', 'jakku', 'jakob', 'jakou', 'jallakuntilliokan', 'jam', 'jamaan', 'jamaica', 'jamal', 'jambo', 'jame', 'jameson', 'jamess', 'jami', 'jammer', 'jan', 'jane', 'janeiro', 'janet', 'janeway', 'janey', 'jango', 'janic', 'janin', 'janitor', 'janko', 'jansen', 'janu', 'januari', 'japan', 'japanes', 'jar', 'jardin', 'jare', 'jarella', 'jargon', 'jarlson', 'jarnbjorn', 'jarrod', 'jarvi', 'jasmin', 'jason', 'jasper', 'jaunt', 'java', 'javelin', 'javier', 'jaw', 'jawa', 'jawdrop', 'jax', 'jaxur', 'jay', 'jayna', 'jazz', 'jealou', 'jealous', 'jealousi', 'jean', 'jeanett', 'jeanluc', 'jeann', 'jeannemari', 'jeannett', 'jeanpaul', 'jeb', 'jedi', 'jeep', 'jeff', 'jefferson', 'jeffrey', 'jeffri', 'jehan', 'jekyl', 'jellyfish', 'jellyfishlik', 'jemma', 'jenkin', 'jenni', 'jennif', 'jensen', 'jenskot', 'jeopard', 'jeopardi', 'jeremi', 'jeremiah', 'jericho', 'jerold', 'jerom', 'jerri', 'jersey', 'jervi', 'jeryn', 'jess', 'jessica', 'jessán', 'jester', 'jesu', 'jesuit', 'jet', 'jetpack', 'jettison', 'jew', 'jewel', 'jeweliu', 'jewelri', 'jewish', 'jeyn', 'jfk', 'jiay', 'jigsaw', 'jihad', 'jill', 'jillian', 'jilt', 'jim', 'jim6', 'jimain', 'jimez', 'jimmi', 'jimmybut', 'jinchuriki', 'jinchūriki', 'jinmen', 'jinn', 'jinx', 'jip', 'jiraiya', 'jiren', 'jitter', 'jiujitsu', 'jiw', 'jiwevixen', 'jjonah', 'jla', 'jlajsa', 'jle', 'jli', 'joan', 'joann', 'joanna', 'joanthan', 'job', 'jobless', 'jobsher', 'jobson', 'jocasta', 'jock', 'joe', 'joey', 'jog', 'johann', 'johannesburg', 'john', 'johnathan', 'johnni', 'johnsmey', 'johnson', 'join', 'joint', 'jointli', 'joke', 'joker', 'jokerwho', 'jokerworld', 'jokingli', 'jolt', 'jon', 'jona', 'jonah', 'jonathan', 'jonathon', 'jone', 'joness', 'joneswa', 'jonin', 'jonn', 'jono', 'jonothan', 'jonothon', 'jonson', 'jonzz', 'joon', 'joost', 'jordan', 'jorel', 'jorgenson', 'jormungand', 'jose', 'josef', 'joseph', 'josh', 'joshua', 'josiah', 'josin', 'jost', 'joto', 'jotunheim', 'journal', 'journalist', 'journalistdetect', 'journey', 'jove', 'joy', 'joyboy', 'joyc', 'joyous', 'joyrid', 'joystick', 'jr', 'jron', 'jrr', 'jsa', 'json', 'juan', 'jubil', 'jubile', 'juda', 'judd', 'jude', 'judg', 'judgement', 'judgment', 'judi', 'judith', 'judo', 'judomast', 'judson', 'juggernaut', 'juggl', 'juilana', 'jujitsu', 'jukei', 'juli', 'julia', 'julian', 'juliana', 'julien', 'juliet', 'juliu', 'jumbl', 'jump', 'jumper', 'jumpstart', 'jumpsuit', 'jun', 'junctur', 'jundland', 'june', 'jungl', 'junichiro', 'junior', 'junip', 'junk', 'junkpil', 'junkyard', 'junzo', 'jupit', 'juri', 'jurisdict', 'juror', 'juspeczyk', 'just', 'justic', 'justifi', 'justin', 'justreturn', 'jut', 'jutsu', 'juvenil', 'juxtapos', 'juyo', 'jyn', 'jōnin', 'k2so', 'kaa', 'kaballah', 'kabuto', 'kaczmarek', 'kadabra', 'kadar', 'kade', 'kadmon', 'kaeciliu', 'kafka', 'kaga', 'kage', 'kageumbra', 'kaguya', 'kahina', 'kahn', 'kahndaq', 'kahser', 'kai', 'kaim', 'kain', 'kaio', 'kaioh', 'kaioken', 'kaishek', 'kakalio', 'kakaranatharian', 'kakaranthara', 'kakarot', 'kakarotto', 'kakarrot', 'kakashi', 'kako', 'kakosi', 'kal', 'kalamari', 'kale', 'kalel', 'kali', 'kalibak', 'kaliklak', 'kaliph', 'kalista', 'kall', 'kallark', 'kallig', 'kalmaku', 'kalthea', 'kaluu', 'kamar', 'kamara', 'kamartaj', 'kamehameha', 'kamek', 'kamekeri', 'kamikaz', 'kamo', 'kampuchea', 'kamuu', 'kan', 'kanassa', 'kanata', 'kancer', 'kandor', 'kandorian', 'kane', 'kang', 'kangnebula', 'kangnow', 'kanjarro', 'kannit', 'kano', 'kansa', 'kanto', 'kapat', 'kapatel', 'kapeteliss', 'kapitalist', 'kaptain', 'kar', 'kara', 'karakai', 'karammjeev', 'karat', 'karathen', 'karen', 'kari', 'karia', 'karima', 'karin', 'karindu', 'karka', 'karkul', 'karl', 'karla', 'karma', 'karn', 'karnak', 'karnilla', 'karoccan', 'karpov', 'karra', 'karshon', 'kasatka', 'kase', 'kasiu', 'kaslak', 'kasler', 'kasper', 'kasumi', 'kat', 'katana', 'katar', 'katarina', 'katarr', 'katarthan', 'kataru', 'kate', 'katha', 'katharta', 'katherin', 'kathleen', 'kathryn', 'kati', 'katma', 'kato', 'katopesla', 'katsuyori', 'katsyu', 'kavita', 'kawamoto', 'kay', 'kaytoo', 'kaytuesso', 'kazar', 'kazekag', 'kbel', 'kcpd', 'kearson', 'keaton', 'keen', 'keener', 'keep', 'keeper', 'keepsak', 'keewazi', 'keeyah', 'kefla', 'kehaan', 'keith', 'keldor', 'kelex', 'kell', 'keller', 'kelley', 'kelli', 'kelsey', 'kem', 'keml', 'kemp', 'kempt', 'ken', 'kendal', 'kendra', 'kenji', 'kennedi', 'kennescook', 'kenneth', 'kenni', 'kenobi', 'kenoh', 'kenojuak', 'kensaku', 'kenshiro', 'kenshirō', 'kenskau', 'kent', 'kentucki', 'kenway', 'kenya', 'kept', 'kerlsil', 'kerma', 'kerridg', 'kesel', 'kessler', 'kestrel', 'ket', 'ketch', 'kethanol', 'kettol', 'kevin', 'kevlar', 'key', 'keyboard', 'keychain', 'keypad', 'keyston', 'keystonebas', 'keyword', 'kg', 'kgb', 'kgbeast', 'khadir', 'khaki', 'khan', 'khandaq', 'khanpng', 'khataar', 'khemadam', 'khiron', 'khlθg', 'khonshu', 'khord', 'khufu', 'khund', 'khundia', 'khundian', 'khym', 'ki', 'kia', 'kiadimundi', 'kibosh', 'kick', 'kickass', 'kickasss', 'kickbox', 'kickstart', 'kid', 'kidder', 'kiden', 'kidnap', 'kidnapp', 'kidney', 'kidpool', 'kierrok', 'kig', 'kijujuan', 'kildar', 'kilgor', 'kilgrav', 'kiligrav', 'kilimanjaro', 'kill', 'killassassin', 'killbrew', 'killebrew', 'killer', 'killeronli', 'killgrav', 'killian', 'killmong', 'killpow', 'killteam', 'kilo', 'kilogram', 'kilowatt', 'kilowog', 'kim', 'kimbal', 'kimiyo', 'kimora', 'kimura', 'kimyo', 'kin', 'kincaid', 'kind', 'kinder', 'kinder20', 'kindergarten', 'kindheart', 'kindl', 'kindli', 'kindr', 'kinet', 'king', 'king1', 'kingdom', 'kingjon', 'kinglat', 'kingpin', 'kingpiní', 'kingsguard', 'kingship', 'kingslay', 'kingston', 'kingswood', 'kinney', 'kinross', 'kinship', 'kinslay', 'kinsmen', 'kinsolv', 'kintaro', 'kinvara', 'kio', 'kira', 'kirbi', 'kirbyinspir', 'kirigakur', 'kirino', 'kirk', 'kisam', 'kisch', 'kischin', 'kismet', 'kiss', 'kit', 'kitana', 'kitchen', 'kite', 'kitti', 'kittihawk', 'kitzb', 'kiwi', 'kiyo', 'klarion', 'klau', 'klaue', 'klaw', 'klaww', 'klein', 'kleinenshvitz', 'kleinstock', 'klempt', 'klonu', 'kltpzyxm', 'klum', 'km', 'knee', 'kneecap', 'kneehigh', 'kneel', 'kneesfiona', 'knelt', 'knew', 'knife', 'knight', 'knightedit', 'knightfal', 'knighthood', 'knightress', 'knightthey', 'knightw', 'knive', 'knock', 'knockdown', 'knockedout', 'knockknock', 'knockout', 'knot', 'knottop', 'know', 'knowher', 'knowhere6', 'knowhow', 'knowital', 'knowl', 'knowledg', 'knowman', 'known', 'knownsavitar', 'knox', 'knuckl', 'knucklebon', 'knuckless', 'knyazev', 'kobald', 'kobayashi', 'kobik', 'kobra', 'koenig', 'koi', 'koitsukai', 'kojima', 'koko', 'kolinsin', 'koliseum', 'kollector', 'komandr', 'kombat', 'komet', 'komodo', 'konan', 'konel', 'kong', 'konieczni', 'konoha', 'konohagakur', 'konohamaru', 'konquest', 'koo', 'kooch', 'kooki', 'koopa', 'koopal', 'kopetski', 'kopski', 'kor', 'koraththano', 'korbal', 'korbinit', 'korbonit', 'kord', 'kordax', 'korea', 'korean', 'koreanamerican', 'korel', 'korg', 'kori', 'koriandr', 'korrek', 'korriban', 'korugan', 'korugar', 'korvac', 'korvu', 'korvuss', 'koryak', 'koshchei', 'koshū', 'kosmo', 'kosmosian', 'kotal', 'koth', 'kourier', 'kouta', 'kovac', 'kovacss', 'kowtow', 'kozo', 'kozu', 'krag', 'krahn', 'kraken', 'krakoa', 'krakor', 'kramer', 'krang', 'krann', 'krato', 'krau', 'krauser', 'kraven', 'kravenlat', 'kravinnof', 'kravinoff', 'kray', 'kree', 'kreelar', 'kreeshiar', 'kreeskrul', 'kreewarrior', 'kreon', 'kril', 'krill', 'krillin', 'kro', 'kroenen', 'krokwel', 'krol', 'kron', 'krona', 'kronan', 'kronika', 'krono', 'kropp', 'krosaki', 'krowler', 'krueger', 'kruel', 'kruen', 'krugarr', 'kruun', 'krux', 'krypto', 'krypton', 'kryptonian', 'kryptonianhuman', 'kryptonit', 'kryptoniteencrust', 'kryptonitetip', 'kryptzarro', 'krystalin', 'kryze', 'kthara', 'ktor', 'kuanyin', 'kuasa', 'kubik', 'kubrick', 'kucharski', 'kuei', 'kulan', 'kulla', 'kumogakur', 'kun', 'kung', 'kungfu', 'kunlun', 'kunoichi', 'kunshi', 'kuomintang', 'kuragari', 'kurfurstendamm', 'kurio', 'kurrth', 'kurrumburra', 'kurs', 'kurt', 'kurti', 'kurtiss', 'kurtz', 'kurtzberg', 'kurtzjess', 'kush', 'kushna', 'kuttler', 'kuurth', 'kuwait', 'kvch', 'kwame', 'kwang', 'kwannon', 'kwesi', 'kworri', 'kyle', 'kyllian', 'kyln', 'kylo', 'kymaera', 'kymellian', 'kyodai', 'kyoto', 'kí', 'la', 'lab', 'label', 'labor', 'laboratori', 'labour', 'labyrinth', 'lacaroo', 'lace', 'lachais', 'laci', 'lack', 'lackey', 'lacklust', 'lacost', 'lacquer', 'lad', 'ladder', 'ladi', 'laforg', 'lafroyg', 'lago', 'lagoon', 'laguz', 'lagzia', 'laid', 'laidback', 'lain', 'lair', 'laira', 'lak', 'lake', 'lal', 'lallor', 'lama', 'lamar', 'lambert', 'lame', 'lament', 'lammoth', 'lamp', 'lan', 'lana', 'lanc', 'lancelot', 'land', 'landau', 'lander', 'landhold', 'landladi', 'landlord', 'landmark', 'landmast', 'landmin', 'lando', 'landon', 'landown', 'landscap', 'lane', 'lanek', 'lang', 'langdon', 'langkowski', 'langley', 'langowki', 'langowski', 'langram', 'langstrom', 'languag', 'languish', 'lanieg', 'lannist', 'lanothian', 'lans', 'lansinar', 'lantern', 'lanternhelp', 'lanternsilv', 'lanthian', 'lao', 'lap', 'lapd', 'lapdog', 'laps', 'lar', 'lara', 'larael', 'laraperez', 'lardner', 'larfleez', 'larg', 'larger', 'largerscal', 'largescal', 'largest', 'lariat', 'larkhil', 'laron', 'larri', 'larsen', 'larva', 'laser', 'lasercannon', 'lasersunfortun', 'lash', 'lashina', 'lass', 'lasso', 'last', 'lastditch', 'lastli', 'lasvegasnikicom', 'latch', 'late', 'late2002', 'latent', 'later', 'latest', 'latex', 'latino', 'latnern', 'latter', 'latveria', 'latverian', 'laud', 'laufey', 'laugh', 'laughingstock', 'laughter', 'launch', 'launcher', 'launder', 'laundromat', 'laura', 'laureat', 'laurel', 'lauren', 'laurenc', 'lauri', 'lava', 'lavafil', 'laveau', 'lavecchia', 'lavoisin', 'law', 'lawabid', 'lawbreak', 'lawenforc', 'lawless', 'lawman', 'lawn', 'lawrenc', 'lawson', 'lawsuit', 'lawton', 'lawyer', 'laxiti', 'lay', 'layer', 'layla', 'laylow', 'laynia', 'lazaer', 'lazar', 'lazara', 'lazaru', 'lazaruss', 'lazerfist', 'lazi', 'lb', 'lcd', 'le', 'leach', 'lead', 'leader', 'leadership', 'leaf', 'leagu', 'leaguer', 'leah', 'leak', 'lean', 'leap', 'leaper', 'leapt', 'learn', 'learnt', 'leas', 'leash', 'least', 'leather', 'leatherclad', 'leatheri', 'leav', 'leaven', 'lebanon', 'lebeau', 'lecard', 'lectur', 'led', 'ledg', 'ledger', 'lee', 'leech', 'leechedoff', 'leed', 'leena', 'left', 'leftbehind', 'leftov', 'leftw', 'leg', 'legaci', 'legal', 'legault', 'legend', 'legendari', 'legion', 'legionnair', 'legionnir', 'legislatur', 'legitim', 'legitimaci', 'lego', 'legola', 'lehigh', 'lehnsherr', 'lei', 'leia', 'leiabut', 'leibowitz', 'leigh', 'leiko', 'leila', 'leipzig', 'leir', 'leisur', 'leloup', 'lem', 'lemar', 'lemari', 'lemmon', 'lemno', 'lemon', 'lemonad', 'lemuel', 'lemuria', 'lemurian', 'len', 'lena', 'lenabrainiac', 'lend', 'length', 'lengthen', 'lengthi', 'leni', 'leniac', 'leningrad', 'lennox', 'lens', 'lensherr', 'lent', 'lentz', 'lenz', 'leo', 'leodi', 'leon', 'leonard', 'leopard', 'leopold', 'leper', 'lequar', 'leria', 'leron', 'leroy', 'lesbian', 'lesli', 'less', 'lesscosm', 'lessen', 'lesser', 'lesson', 'lesspow', 'lest', 'lester', 'lestrang', 'let', 'lethal', 'lethargi', 'letout', 'letsshak', 'letter', 'leukemia', 'levantin', 'level', 'levelhead', 'leverag', 'leviathan', 'lew', 'lewi', 'lex', 'lexbot', 'lexcorp', 'ley', 'leylin', 'liabil', 'liaison', 'liam', 'lian', 'lianna', 'liantha', 'liar', 'libat', 'liber', 'liberalthink', 'liberti', 'libido', 'libra', 'librari', 'librarian', 'libya', 'libyan', 'libérat', 'licens', 'lick', 'lid', 'lie', 'lieber', 'liefeld', 'liekara', 'lieu', 'lieuten', 'life', 'lifealt', 'lifeambit', 'lifebear', 'lifeboat', 'lifecycl', 'lifedrain', 'lifeenergi', 'lifeforc', 'lifeform', 'lifeguard', 'lifeit', 'lifeless', 'lifelik', 'lifelong', 'lifelov', 'lifemodel', 'lifepod', 'lifer', 'lifesav', 'lifese', 'lifesh', 'lifespan', 'lifeston', 'lifestyl', 'lifesupport', 'lifesustain', 'lifeth', 'lifethreaten', 'lifetim', 'lifeweb', 'lifewitch', 'lift', 'lifter', 'light', 'light2', 'lightbas', 'lightbring', 'lightchild', 'lighten', 'lighter', 'lightheart', 'lighthous', 'lightli', 'lightmast', 'lightn', 'lightningcharg', 'lightpow', 'lightray', 'lightsab', 'lightspe', 'lightweight', 'lightyear', 'likabl', 'like', 'likelihood', 'likemind', 'liken', 'likewis', 'lil', 'lila', 'lilandra', 'lili', 'lilin', 'lilith', 'lillian', 'lilliman', 'limb', 'limbo', 'limbolik', 'limborealm', 'limehous', 'limelight', 'limit', 'limitless', 'limo', 'limousin', 'limp', 'limpet', 'lin', 'linag', 'linchpin', 'lincoln', 'linda', 'lindakara', 'lindel', 'linderman', 'lindi', 'lindsay', 'lindsey', 'line', 'lineag', 'lineman', 'liner', 'lineup', 'linger', 'lingeri', 'linguist', 'link', 'linka', 'linkag', 'lion', 'lionel', 'lip', 'lipstick', 'lipton', 'liquefi', 'liquid', 'liquor', 'lisa', 'list', 'listen', 'lit', 'litani', 'liter', 'literatur', 'litharg', 'lithium', 'litterbug', 'littl', 'littlefing', 'littletre', 'liu', 'liuchow', 'liueten', 'live', 'liveact', 'liver', 'liverpool', 'livewir', 'livid', 'liz', 'lizard', 'lizardform', 'lizardhybrid', 'lizardlik', 'lizardmen', 'lizewski', 'lkz', 'llama', 'llan', 'llewellyn', 'lloyd', 'llyra', 'llyron', 'lmd', 'lnternat', 'lo', 'loa', 'load', 'loan', 'loath', 'lob', 'lobbi', 'lobe', 'lobo', 'lobotom', 'lobotomi', 'lobotomis', 'lobster', 'loc', 'local', 'locat', 'locatiobn', 'loch', 'lock', 'locker', 'locket', 'lockhart', 'lockhaven', 'lockhe', 'lockjaw', 'lockley', 'lockup', 'loco', 'locomot', 'locu', 'locust', 'lodeston', 'lodg', 'lodger', 'loeb', 'loft', 'log', 'logan', 'logarra', 'logic', 'logist', 'logo', 'logomanc', 'loi', 'loiss', 'loiswhich', 'loki', 'lokipossess', 'lokiwa', 'lokií', 'lol', 'loma', 'lomass', 'lombard', 'lomer', 'london', 'londonalison', 'lone', 'loneli', 'loner', 'lonesom', 'lonestar', 'long', 'longa', 'longassoci', 'longbottom', 'longdead', 'longdeserv', 'longdestroy', 'longdist', 'longdorm', 'longer', 'longest', 'longev', 'longheld', 'longliv', 'longlost', 'longo', 'longrang', 'longshot', 'longsinc', 'longstand', 'longsuppress', 'longterm', 'longthought', 'longtim', 'longunrequit', 'lonni', 'look', 'lookalik', 'lookout', 'loom', 'loomworld', 'looni', 'loont', 'loop', 'loophol', 'loos', 'looseknit', 'looser', 'loot', 'looter', 'lopez', 'lord', 'lordship', 'lore', 'lorelei', 'loren', 'lorena', 'lori', 'lorina', 'lorna', 'lorvan', 'lorz', 'lorzod', 'lose', 'loser', 'losgar', 'loss', 'lost', 'lot', 'lotho', 'lotion', 'lotteri', 'lotu', 'lou', 'loud', 'louder', 'loudli', 'loudmouth', 'loui', 'louis', 'louisiana', 'loung', 'loup', 'lous', 'lousi', 'lousiana', 'louvr', 'love', 'loveabl', 'lovecraftian', 'lovefor', 'loveh', 'loveinterest', 'loveless', 'lover', 'loverturnedenemi', 'lovewith', 'lovosno', 'low', 'lowdown', 'lowel', 'lower', 'lowest', 'lowlevel', 'lowli', 'loword', 'lowpaid', 'lowprofil', 'lowrank', 'loyal', 'loyalist', 'loyalti', 'loyd', 'lron', 'lsd', 'lsh', 'lsv', 'ltd', 'lubisch', 'lubric', 'luca', 'lucass', 'luchino', 'luci', 'lucia', 'luciano', 'lucid', 'lucif', 'luciu', 'luck', 'lucki', 'luckili', 'luckless', 'luckman', 'lucr', 'ludwig', 'luggag', 'lugman', 'luigi', 'luke', 'lukin', 'luku', 'luma', 'lumin', 'lumina', 'luminari', 'luminesc', 'lumiya', 'lumley', 'lumpkin', 'lun', 'luna', 'lunair', 'lunar', 'lunartrigg', 'lunat', 'lunatica', 'lunatik', 'lunch', 'lung', 'luornu', 'lupe', 'lupin', 'lure', 'lurk', 'lurker', 'lurmen', 'lush', 'lust', 'luther', 'luthor', 'luthorcorp', 'lux', 'luxuri', 'lw', 'lwss', 'ly', 'lyanna', 'lycan', 'lydi', 'lyja', 'lyko', 'lyla', 'lyle', 'lylla', 'lymphoma', 'lynaugh', 'lynch', 'lynx', 'lyon', 'lyra', 'lysa', 'lysandra', 'lyssa', 'lytton', 'm1shawhan', 'm1shawhanad', 'maaldoria', 'maalecaandra', 'maalefaak', 'maarzon', 'mabel', 'mac', 'macabr', 'macaqu', 'macau', 'macbeth', 'mace', 'macendal', 'macgargan', 'mach', 'mach1', 'mach3', 'mach4', 'machet', 'machi', 'machin', 'machineri', 'machinesmith', 'machinist', 'machiv', 'macho', 'machu', 'mack', 'mackenzi', 'maclain', 'macon', 'macpherran', 'macreadi', 'macro', 'mactaggart', 'mactaggert', 'mad', 'madam', 'madara', 'madcap', 'madden', 'madder', 'maddi', 'maddick', 'maddog', 'maddox', 'made', 'madelein', 'madelin', 'madelyn', 'madeunawar', 'madison', 'madman', 'madmen', 'madnar', 'madness5', 'madonna', 'madr', 'madra', 'madripoor', 'madrox', 'madwoman', 'maedhro', 'maeli', 'maelstrom', 'maester', 'maestro', 'maev', 'mafia', 'mafiamad', 'mafioso', 'mafiososbut', 'magala', 'magan', 'magazin', 'magda', 'magdala', 'magdalena', 'mage', 'mageddon', 'magellan', 'maggi', 'maggia', 'maggiafact', 'maggot', 'maggott', 'magi', 'magic', 'magicabsorb', 'magican', 'magician', 'magicianso', 'magicicada', 'magick', 'magicmeta', 'magicus', 'magik', 'maginaryworld', 'magiqu', 'magist', 'magistr', 'magistrati', 'magistrum', 'maglor', 'magma', 'magnat', 'magnesium', 'magnet', 'magneticallypolar', 'magneticallypow', 'magneto', 'magnetofath', 'magnetoimpostor', 'magnetospher', 'magnetrix', 'magnifi', 'magnific', 'magnitud', 'magnu', 'magnum', 'magnuss', 'magnusson', 'magog', 'magpi', 'magu', 'maguss', 'maha', 'mahapralaya', 'mahkizmo', 'mahtan', 'mahunt', 'maid', 'maiden', 'mail', 'mailbox', 'mailman', 'mailroom', 'maim', 'main', 'mainfram', 'mainland', 'mainli', 'mainlin', 'mainstay', 'mainstream', 'maintain', 'mainten', 'majesti', 'majestor', 'majestrix', 'majin', 'major', 'makanik', 'makasai', 'make', 'maker', 'makeshift', 'makeup', 'maki', 'makimura', 'makkari', 'makluan', 'makluantrain', 'maksai', 'makulan', 'malachi', 'malachor', 'maladi', 'malaya', 'malcolm', 'malcont', 'malden', 'male', 'malebolgia', 'malekith', 'malevol', 'malfoy', 'malfunct', 'malibu', 'malic', 'malicepolari', 'malici', 'malick', 'malign', 'mall', 'mallah', 'malleabl', 'mallen', 'mallon', 'mallori', 'mallu', 'malon', 'malrey', 'malt', 'malu', 'maluss', 'mama', 'mamba', 'mamiya', 'mammal', 'mammomax', 'mammon', 'mammoth', 'man', 'manacl', 'manadrin', 'manag', 'manbat', 'manbatlik', 'manbeast', 'manbul', 'mancha', 'manchest', 'manchu', 'mancraft', 'mandalor', 'mandalorian', 'mandarin', 'mandat', 'mandatori', 'mandeja', 'mander', 'manderazur', 'mandi', 'mando', 'mandoss', 'mandragora', 'manelli', 'maneuv', 'maneuver', 'manfredi', 'manga', 'mangel', 'mangl', 'mangler', 'mangog', 'manh', 'manhat', 'manhattan', 'manhattanit', 'manhol', 'manhood', 'manhunt', 'manhunterkil', 'manhunterwork', 'manhuntress', 'mani', 'mania', 'maniac', 'manic', 'manifest', 'manipul', 'manit', 'manitowoc', 'mankil', 'mankind', 'manlizard', 'mann', 'mannequin', 'manner', 'manni', 'mannit', 'manor', 'manpow', 'manserv', 'mansion', 'manslaught', 'manslay', 'manstalk', 'manta', 'mantain', 'mantalik', 'mantel', 'manth', 'manthingshap', 'manti', 'mantl', 'mantra', 'manual', 'manuel', 'manufactur', 'manufacturer', 'manuscript', 'manwolf', 'manyfac', 'map', 'mapleleaf', 'mapmak', 'mar', 'mara', 'marani', 'maraud', 'marbl', 'marc', 'marcello', 'march', 'marci', 'marco', 'marcu', 'mardon', 'marduk', 'marg', 'margali', 'margaret', 'margin', 'mari', 'maria', 'mariah', 'marian', 'mariana', 'mariann', 'marianna', 'marietta', 'marijuana', 'mariko', 'marilla', 'marin', 'marina', 'marini', 'mario', 'marion', 'marionett', 'marit', 'maritani', 'maritorn', 'maritza', 'mariu', 'marj', 'marjori', 'mark', 'marker', 'market', 'marketingplan', 'marko', 'markov', 'markovia', 'markovian', 'marksman', 'marksmanship', 'marku', 'marla', 'marlen', 'marli', 'marliz', 'marlo', 'marmoragard', 'marnot', 'maroni', 'maroon', 'marov', 'marquez', 'marr', 'marri', 'marriag', 'marrina', 'marrow', 'marsail', 'marsh', 'marsha', 'marshal', 'marston', 'martain', 'martha', 'marti', 'martial', 'martian', 'martiansit', 'martin', 'martina', 'martiniqu', 'martynec', 'martyr', 'maru', 'marv', 'marvel', 'marvin', 'marya', 'maryjan', 'maryland', 'marylin', 'masa', 'masahashi', 'masako', 'masami', 'masamun', 'mascot', 'mask', 'maskactiv', 'maskhunt', 'mason', 'masonri', 'masqu', 'masquerad', 'mass', 'massachusett', 'massachusettsacademi', 'massacr', 'massag', 'masshallucin', 'massimo', 'massiv', 'massproduc', 'mast', 'master', 'masteri', 'mastermind', 'masterpiec', 'masterson', 'mastodon', 'masyaf', 'matango', 'matani', 'match', 'mate', 'mateo', 'mater', 'materi', 'materialist', 'matern', 'math', 'mathemat', 'mathew', 'mathia', 'mathiass', 'mati', 'matriarch', 'matricul', 'matrix', 'matron', 'matronli', 'matsu', 'matsumoto', 'matsuo', 'matsuya', 'matt', 'matteo', 'matter', 'mattermanipul', 'mattertransform', 'matthew', 'mattho', 'matti', 'matto', 'matur', 'maul', 'maura', 'maureen', 'mauvai', 'maverick', 'mavericksigma', 'maveth', 'maw', 'max', 'maxam', 'maxi', 'maxilin', 'maxim', 'maxima', 'maximoff', 'maximu', 'maximum', 'maximumsecur', 'maximusdesign', 'maximuss', 'maxin', 'maxwel', 'maxx', 'may', 'maya', 'mayan', 'mayb', 'maybel', 'mayday', 'mayer', 'mayersomeon', 'mayfair', 'mayfield', 'mayfli', 'mayflybut', 'mayhem', 'mayland', 'mayor', 'mayoralti', 'maz', 'maze', 'mazuri', 'maîtr', 'mba', 'mbaku', 'mbangawi', 'mcbride', 'mccabe', 'mccaffrey', 'mccarran', 'mccarthi', 'mccoy', 'mcculloch', 'mcdonald', 'mcdougal', 'mcdowel', 'mcgee', 'mcgill', 'mcginni', 'mcgraw', 'mchanga', 'mciver', 'mckeen', 'mckenzi', 'mcmurdo', 'mcnee', 'mcnider', 'mcu', 'mcvey', 'mday', 'meachum', 'meachumcolleen', 'meadowlak', 'meager', 'meal', 'mean', 'meander', 'meaning', 'meaningless', 'meanstreak', 'meant', 'meantim', 'meanwhil', 'mear', 'measur', 'meat', 'meatmarket', 'mech', 'mecha', 'mechadoom', 'mechamag', 'mechan', 'mechaniloid', 'mechansim', 'mecharhino', 'med', 'medal', 'medallion', 'meddl', 'medermad', 'media', 'mediafriendli', 'mediasavvi', 'mediat', 'medic', 'medicallyinduc', 'medicalnin', 'medicin', 'mediev', 'medina', 'medit', 'mediterranean', 'medium', 'medlab', 'medphyl', 'medusa', 'medusalith', 'meek', 'meen', 'meet', 'meetra', 'meg', 'mega', 'megacruis', 'megacrusi', 'megaera', 'megalo', 'megalomaniac', 'megamerg', 'megan', 'megapow', 'megatak', 'meggan', 'megloman', 'mehen', 'meil', 'meister', 'mekano', 'mekt', 'melancholi', 'meland', 'melani', 'meld', 'mele', 'melinda', 'melisandr', 'melissa', 'melita', 'melkor', 'mellow', 'melodi', 'meloni', 'melt', 'meltdown', 'melter', 'meltmassif', 'member', 'membership', 'memento', 'memoir', 'memor', 'memorabilia', 'memori', 'memoriam', 'memoriesfl', 'men', 'menac', 'menalipp', 'mend', 'mendel', 'mendez', 'mendoza', 'mengelesqu', 'menial', 'mental', 'mentalist', 'mentallo', 'mentallopossess', 'mentallycontrol', 'mentallyinfluenc', 'mentiod', 'mention', 'mento', 'mentor', 'mentorship', 'mentorteach', 'mentorí', 'menu', 'meowser', 'meowthra', 'mephil', 'mephista', 'mephisto', 'mephitisoid', 'mera', 'meranno', 'merc', 'mercanari', 'mercantil', 'merced', 'mercenari', 'mercenaryforhir', 'mercer', 'merchandis', 'merchant', 'merci', 'merciless', 'mercilessli', 'mercuri', 'mercuryinfus', 'mercwithamouth', 'mercykil', 'merdoc', 'mere', 'meredith', 'merg', 'merger', 'meriadoc', 'meridian', 'merikenjo', 'merit', 'merlin', 'merlina', 'merlyn', 'mermaid', 'mermenlik', 'merrick', 'merriem', 'merro', 'merryweath', 'merton', 'meryl', 'mesh', 'mesmer', 'mesmero', 'meson', 'mesopotamian', 'mess', 'messag', 'messedup', 'messeng', 'messi', 'messiah', 'messian', 'messina', 'messnerloeb', 'met', 'met1', 'meta', 'metabol', 'metagen', 'metagorilla', 'metahuman', 'metal', 'metaldisintegr', 'metalhead', 'metallo', 'metallurgi', 'metamophosi', 'metamorph', 'metamorpho', 'metaphor', 'metaphys', 'metaplagu', 'metellu', 'meteor', 'meteorit', 'meteortech', 'meteotech', 'meter', 'meth', 'methiop', 'method', 'methodolog', 'metor', 'metro', 'metron', 'metropoli', 'metropolisand', 'metropoliss', 'metropolitan', 'metrovil', 'mettl', 'mewl', 'mexican', 'mexico', 'meyer', 'mgann', 'mgh', 'mghharvest', 'mhuruuk', 'mi13', 'mi5', 'mi6', 'mia', 'miago', 'miami', 'micah', 'mice', 'michael', 'michel', 'michelangelo', 'michigan', 'mick', 'mickey', 'micro', 'microb', 'microchip', 'microforc', 'micron', 'micronaut', 'microscal', 'microscannerinvit', 'microscop', 'microtransistor', 'microvers', 'microwav', 'microwavebas', 'mid', 'mid1920', 'mid1930', 'mid1950', 'mid1980', 'mid19th', 'mid30th', 'mida', 'midair', 'midatlant', 'midclass', 'middl', 'middleag', 'middleearth', 'middleschool', 'midflight', 'midgard', 'midgardearth', 'midguard', 'midland', 'midlat', 'midlif', 'midnight', 'midnit', 'midprocedur', 'midst', 'midtown', 'midway', 'midwest', 'midwestern', 'midwesternbas', 'midwif', 'midwiferi', 'miek', 'mig', 'might', 'mighti', 'mightiest', 'mightyadam', 'migrain', 'migrat', 'migratori', 'miguel', 'mikaal', 'mikaboshi', 'mikal', 'mikalek', 'mike', 'mikel', 'mikhail', 'miki', 'mikiko', 'miko', 'milaj', 'milan', 'milburi', 'mild', 'mildli', 'mildmann', 'mile', 'mileena', 'milici', 'milit', 'militar', 'militari', 'militarist', 'militia', 'militiamen', 'milk', 'milki', 'mill', 'millbrook', 'millenia', 'millenium', 'millennia', 'millennialong', 'millenniaold', 'millennium', 'miller', 'milli', 'milligan', 'million', 'millionair', 'millionar', 'milo', 'milton', 'milwaukeechicago', 'mimet', 'mimi', 'mimic', 'mimick', 'mina', 'minato', 'mind', 'mindalt', 'mindcontrol', 'minddomin', 'minde', 'mindfir', 'mindi', 'mindinfluenc', 'mindless', 'mindon', 'mindor', 'mindorian', 'mindprob', 'mindread', 'mindset', 'mindstar', 'mindtransf', 'mindwip', 'mine', 'miner', 'minerva', 'minett', 'mini', 'miniatur', 'minicap', 'minim', 'minimum', 'minineutron', 'minion', 'miniseri', 'minist', 'ministri', 'miniteleport', 'miniwar', 'minor', 'minoru', 'minu', 'minut', 'minuteman', 'minutemen', 'minvera', 'mira', 'miracl', 'miraclo', 'miracloinduc', 'miracul', 'mirag', 'mirakuruenhanc', 'miraluka', 'miranda', 'mire', 'miriam', 'mirror', 'mirrorkeyston', 'mirth', 'miscalcul', 'miscarri', 'miscarriag', 'miscast', 'mischief', 'mischiev', 'misconcept', 'misconduct', 'miscreant', 'misde', 'misdeeds26', 'misdiagnos', 'misdirect', 'miser', 'miseri', 'miserli', 'misfit', 'misfortun', 'misgiv', 'misguid', 'mishap', 'misinform', 'misinterpret', 'misjudg', 'misl', 'mislead', 'misplac', 'misread', 'miss', 'missil', 'missingnin', 'missingth', 'mission', 'missionari', 'missionedit', 'missions7', 'missionsso', 'mississippi', 'missouri', 'misspok', 'mist', 'mistak', 'mistaken', 'mistakenli', 'mister', 'misti', 'mistook', 'mistreat', 'mistress', 'mistrust', 'misunderstand', 'misunderstood', 'misus', 'mit', 'mitchel', 'mithra', 'mithrandir', 'mithrim', 'mitig', 'mitochondri', 'mix', 'mixmatch', 'mixtur', 'miyagi', 'mizen', 'mjolnir', 'mjölnir', 'mk11', 'mk9png', 'mkd', 'mkii', 'mkraan', 'mkrann', 'mksmjpg', 'mkvdcujpg', 'mlf', 'mm', 'mmz', 'mmz2', 'mnagalah', 'mnemon', 'mnemosyn', 'mo', 'mob', 'mobil', 'mobiu', 'mobster', 'mock', 'mockingbird', 'mockingli', 'mocktrial', 'mod', 'modam', 'mode', 'model', 'moder', 'modern', 'modernday', 'modernera', 'moderntim', 'modest', 'modesti', 'modif', 'modifi', 'modok', 'modr', 'modt', 'modu', 'modul', 'mogo', 'mogol', 'mogul', 'mohawk', 'mohind', 'moira', 'moisten', 'moistur', 'mojav', 'mojo', 'mojovers', 'mojoworld', 'mokk', 'mold', 'mole', 'molecul', 'molecular', 'molecularli', 'molest', 'molli', 'moloch', 'moloid', 'molt', 'molten', 'molybdenumcobalt', 'mom', 'moment', 'momentari', 'momentarili', 'momentum', 'mommi', 'mon', 'mona', 'monaco', 'monaghan', 'monarch', 'monarchi', 'monasteri', 'monday', 'mondo', 'mondu', 'monel', 'monet', 'monetari', 'money', 'moneyhungri', 'monger', 'mongrain', 'mongrel', 'mongul', 'monica', 'monick', 'monik', 'moniqu', 'monitor', 'monk', 'monkey', 'monkeyk', 'monna', 'monolith', 'monomania', 'monomaniac', 'monopol', 'monopoli', 'monorail', 'monoton', 'monotoni', 'monro', 'monsieur', 'monster', 'monsterbut', 'monstersit', 'monstrobot', 'monstroid', 'monstros', 'monstrou', 'montag', 'montana', 'montenegro', 'monteriggioni', 'montesi', 'montez', 'montezuma', 'montgomeri', 'month', 'monthli', 'months30', 'monthslong', 'monti', 'montoya', 'montreal', 'monument', 'mood', 'moodi', 'moodragon', 'moodshift', 'moomji', 'moon', 'moonboy', 'mooncopt', 'moondragon', 'mooney', 'moonlight', 'moonlit', 'moonshad', 'moonsiz', 'moonstar', 'moonston', 'moor', 'moord', 'mope', 'mopup', 'morakov', 'moral', 'moralist', 'moran', 'morass', 'morbidli', 'morbiu', 'mordecai', 'morder', 'mordo', 'mordor', 'mordr', 'mordru', 'more', 'moreadvanc', 'moreau', 'moreov', 'morg', 'morgain', 'morgan', 'morgana', 'morganton', 'morghuli', 'morgoth', 'morgu', 'mori', 'moria', 'moriarti', 'morley', 'morlock', 'morlun', 'morn', 'morningstar', 'morocco', 'moros', 'morph', 'morpheu', 'morphin', 'morphogenet', 'morrat', 'morrel', 'morri', 'morrigan', 'morrison', 'morro', 'morrow', 'mors', 'mort', 'mortak', 'mortal', 'mortgag', 'morti', 'morticoccu', 'mortifi', 'mortim', 'mosaic', 'moscow', 'mose', 'mosqu', 'mosquito', 'mosquitu', 'mossad', 'most', 'mostli', 'mostlyabandon', 'motaro', 'motel', 'moth', 'mother', 'motherfigur', 'motherkatherin', 'mothership', 'mothersist', 'motherwho', 'mothma', 'motier', 'motif', 'motion', 'motiv', 'motley', 'motor', 'motorbik', 'motorcycl', 'motorcyclerid', 'motorhead', 'motto', 'mould', 'mound', 'mount', 'mountain', 'mountjoy', 'mourn', 'mous', 'mousephantom', 'mouth', 'mouthtomouth', 'move', 'movement', 'mover', 'movi', 'mow', 'moxon', 'mozart', 'mph', 'mplate', 'mr', 'mrcharl', 'mri', 'mrinn', 'msx', 'much', 'muchaco', 'muchdeserv', 'muchloath', 'muchneed', 'mucu', 'mud', 'mudb', 'mudth', 'muffl', 'mug', 'mugger', 'muggleborn', 'mugglesupport', 'mugwump', 'muir', 'mule', 'muller', 'mullet', 'multiarm', 'multibillion', 'multibillionair', 'multifacet', 'multifront', 'multihero', 'multilay', 'multimillionair', 'multin', 'multipart', 'multipl', 'multiplex', 'multipli', 'multisensori', 'multispeci', 'multistori', 'multitud', 'multivac', 'multivers', 'multiversesav', 'mumbai', 'mummer', 'mummi', 'mundan', 'munich', 'munit', 'munni', 'munro', 'murakami', 'mural', 'muramasa', 'muramasai', 'murder', 'murderu', 'murderwold', 'murderworld', 'murdock', 'murkatesh', 'murphi', 'murray', 'musashi', 'muscl', 'musclebound', 'muscular', 'musculatur', 'muse', 'musenda', 'museum', 'museumworld', 'mush', 'mushroom', 'music', 'musician', 'muslim', 'musou', 'muspel', 'must', 'muster', 'mustv', 'mutagen', 'mutant', 'mutantdetect', 'mutantdomin', 'mutantfriendli', 'mutantharvest', 'mutanthat', 'mutanthood', 'mutanthuman', 'mutanthunt', 'mutantkil', 'mutantkind', 'mutantrel', 'mutantsupremacist', 'mutantthem', 'mutat', 'mute', 'mutha', 'muti', 'mutil', 'mutini', 'muto', 'mutt', 'mutter', 'mutual', 'muz', 'muñoz', 'mvp', 'mxi', 'mxyzptlk', 'mxyztplk', 'myandr', 'mycroft', 'myer', 'myndi', 'myndian', 'myostatin', 'myr', 'myra', 'myriad', 'myriah', 'myrnn', 'myron', 'myspac', 'mystech', 'mysteri', 'mysterio', 'mysterion', 'mysterymen', 'mystic', 'mysticallyempow', 'mystiqu', 'mystral', 'myth', 'mythic', 'mytholog', 'ménage', 'míriel', 'n', 'n313', 'nab', 'naboo', 'nabooh', 'nabu', 'nada', 'nadeem', 'nadia', 'nadir', 'nag', 'nagan', 'nagasaki', 'nagato', 'naiad', 'nail', 'naiv', 'naiveti', 'nakamura', 'nake', 'nale', 'name', 'namek', 'nameless', 'namesak', 'nameslayerinterruptedslay', 'namikaz', 'namor', 'namora', 'namorita', 'nanda', 'nanit', 'naniteinfect', 'nanitemut', 'nanni', 'nannit', 'nanobot', 'nanocellular', 'nanofib', 'nanomachin', 'nanonyt', 'nanotech', 'nanotechnolog', 'nanoviru', 'nanto', 'naomi', 'nap', 'napalm', 'napapa', 'napier', 'napoleon', 'nappa', 'nara', 'narciss', 'narcolept', 'narcot', 'narr', 'narrat', 'narrow', 'narrowli', 'naruto', 'narutoth', 'narwhal', 'narya', 'nasa', 'nascent', 'nastasha', 'nasti', 'nastirh', 'nastra', 'nata', 'natalia', 'natasha', 'natasi', 'natchio', 'nate', 'nathan', 'nathaniel', 'nation', 'nationalist', 'nationwid', 'nativ', 'nato', 'natsumi', 'natu', 'natual', 'natur', 'naught', 'nautilu', 'navajo', 'naval', 'navel', 'navi', 'navig', 'nayland', 'naylorbaldwin', 'naysay', 'nazareth', 'naze', 'nazeadversari', 'nazgûl', 'nazi', 'naïv', 'naďv', 'nd', 'ndaré', 'ndipaya', 'neal', 'near', 'nearanim', 'nearbi', 'nearcatatonia', 'nearconst', 'nearcosm', 'neardeath', 'neardestruct', 'nearer', 'nearest', 'nearfat', 'nearfer', 'nearfev', 'nearfost', 'nearimmort', 'nearinescap', 'nearinfinit', 'nearinvulner', 'nearli', 'nearlight', 'nearlydestroy', 'nearmad', 'nearmindless', 'nearperfect', 'nearsuperhuman', 'neartakeov', 'nearunbreak', 'nearunstopp', 'nearveget', 'neat', 'nebraska', 'nebraskacolorado', 'nebula', 'nebulon', 'necess', 'necessari', 'necessarili', 'necessit', 'neck', 'necklac', 'necktoneck', 'necrom', 'necromanc', 'necromancess', 'necromon', 'necroplasm', 'necropoli', 'necropolitan', 'necropsi', 'necrosha', 'necrot', 'necrotoxin', 'ned', 'need', 'neededwhil', 'needham', 'needi', 'needl', 'needless', 'needtoknow', 'nefari', 'nefaria', 'neg', 'nega', 'negaband', 'negabomb', 'negaman', 'negason', 'negat', 'negawisp', 'neglect', 'neglig', 'negoti', 'neig', 'neighbor', 'neighborhood', 'neil', 'neither', 'neji', 'nekoboh', 'nekobohalison', 'nekra', 'nekron', 'nel', 'nelson', 'nelvanna', 'nemes', 'nemesi', 'nemesiss', 'nemo', 'neo', 'neocrusad', 'neon', 'neonazi', 'neophyt', 'nepal', 'nephew', 'neptun', 'neptunia', 'neramani', 'nerdanel', 'nereel', 'nereu', 'nergal', 'nerkkod', 'nero', 'neron', 'nerv', 'nervou', 'nervous', 'ness', 'nest', 'nestl', 'net', 'nether', 'netherland', 'netherlord', 'netherspawn', 'netherworld', 'netherworldli', 'network', 'neural', 'neuraldisrupt', 'neuralnet', 'neurodegen', 'neuroga', 'neurologyexempt', 'neuros', 'neurosurgeon', 'neurosurgeri', 'neurot', 'neurotechnolog', 'neurotoxin', 'neutral', 'neutromist', 'neutron', 'neuvo', 'nevada', 'never', 'neverend', 'neverland', 'nevermind', 'nevertheless', 'nevil', 'new', 'newag', 'newborn', 'newcastl', 'newcom', 'newel', 'newer', 'newest', 'newfirestorm', 'newfound', 'newhero', 'newli', 'newlyactiv', 'newlybuilt', 'newlycr', 'newlyempow', 'newlyform', 'newlyfound', 'newlyfre', 'newlygain', 'newlyinduct', 'newlypow', 'newlyrebuilt', 'newlyrefurbish', 'newlyregrown', 'newlyrestor', 'newlyresurrect', 'newlyreviv', 'newlystart', 'newlyw', 'newmark', 'news', 'newscast', 'newspap', 'newstim', 'newt', 'nexplor', 'next', 'nextdoorneighbor', 'nextgener', 'nextwav', 'nexu', 'nexuscr', 'nezhno', 'ngarai', 'ngassi', 'ngo', 'ngoc', 'nguyen', 'niall', 'nicaragua', 'nice', 'nichayko', 'nichol', 'nichola', 'nick', 'nicknam', 'nicodemu', 'nicol', 'nicola', 'nicolosi', 'niec', 'niel', 'niffiehelm', 'niffleheim', 'niganda', 'nigel', 'nigh', 'nighmyst', 'night', 'night23', 'nightbroth', 'nightbut', 'nightclub', 'nightcrawl', 'nightgaunt', 'nighthawk', 'nightli', 'nightmar', 'nightmaremanipul', 'nightmaresdream', 'nightmarish', 'nightshad', 'nightshadesh', 'nightsid', 'nightsist', 'nightslay', 'nightspot', 'nighttim', 'nightw', 'nightwolf', 'nighuncontain', 'nigrisshi', 'nigtcrawl', 'nihil', 'nihilist', 'nihilisticfeel', 'nihilu', 'niima', 'nijo', 'nike', 'niki', 'nil', 'nile', 'nilrat', 'nimrod', 'nimrodseri', 'nimu', 'nina', 'nine', 'ninepenni', 'ninetail', 'nineteen', 'nineteenth', 'nineti', 'ninja', 'ninjago', 'ninjalord', 'ninjitsu', 'ninth', 'nirvana', 'nisanti', 'nite', 'niteowl', 'nitro', 'nitroburn', 'nitrogen', 'nitumb', 'nivena', 'nix', 'nixon', 'njadaka', 'njobu', 'nkvdemon', 'nn', 'noah', 'nobel', 'nobil', 'nobl', 'nobleborn', 'nobleman', 'nobodi', 'nobu', 'noburo', 'nocturn', 'nocturna', 'nocturnu', 'nohitt', 'nohm', 'noir', 'nois', 'nok', 'nokil', 'nolan', 'noleski', 'nolong', 'nom', 'nomad', 'nomanisan', 'nomin', 'non', 'nonaggress', 'nonam', 'nonbelief', 'noncanon', 'nonconstruct', 'noncontemporari', 'none', 'nonetheless', 'noneuropean', 'nonexist', 'nonfound', 'nonfunct', 'nonhero', 'noninhuman', 'noninterfer', 'nonleth', 'nonlinear', 'nonmaggia', 'nonmanipul', 'nonmask', 'nonmemb', 'nonmut', 'nonmyst', 'nonnatur', 'nonnetwork', 'nonorgan', 'nonpatriot', 'nonpow', 'nonprofit', 'nonrequisit', 'nonsens', 'nonstop', 'nonsuperhero', 'nonteam', 'nonteamm', 'nonviol', 'noon', 'noonien', 'noos', 'nopriz', 'nor', 'nora', 'norad', 'norbert', 'nord', 'nordic', 'norm', 'normal', 'normalci', 'normallook', 'normals', 'norman', 'normandi', 'normi', 'norn', 'nornheim', 'norrin', 'norriss', 'norrisss', 'nors', 'norsefir', 'north', 'northbut', 'northeast', 'northeastern', 'northern', 'northfield', 'northstar', 'northward', 'northwest', 'norton', 'norvel', 'norway', 'norwegian', 'nose', 'noseble', 'noshow', 'nostalgia', 'nostromo', 'not', 'notabl', 'notch', 'note', 'notebook', 'noteworthi', 'noth', 'nothing', 'notic', 'notifi', 'notion', 'notori', 'notorieti', 'notorious', 'nottinghamshir', 'nourish', 'nova', 'novacontrol', 'novel', 'novelist', 'novelti', 'novemb', 'novic', 'noviti', 'now', 'nowabandon', 'nowdead', 'nowdefunct', 'nowempti', 'nowenhanc', 'nowenlighten', 'nowestrang', 'nowgigant', 'nowgrown', 'nowher', 'nowlan', 'nowliquid', 'nowmindless', 'nowpow', 'nowpowerless', 'nowraw', 'nowredeem', 'nowrenegad', 'nowrogu', 'nowsavag', 'nowsignatur', 'nowveget', 'nowwith', 'nox', 'nsa', 'nth', 'nuada', 'nuclear', 'nucleararm', 'nuclearsaf', 'nucleu', 'nude', 'nudg', 'nuidi', 'nuisanc', 'nuke', 'nuliajuk', 'null', 'nullifi', 'nullitor', 'numb', 'number', 'numer', 'numero', 'nuptial', 'nur', 'nural', 'nuremberg', 'nurs', 'nurseassist', 'nursephys', 'nurseri', 'nuso', 'nut', 'nutrient', 'nutrit', 'nutritionist', 'nuwa', 'nxt', 'nya', 'nyc', 'nyglar', 'nykonn', 'nymphlik', 'nypd', 'nyssa', 'nyssa1', 'nyx', 'númenórean', 'oa', 'oafish', 'oan', 'oann', 'oath', 'obadiah', 'obatala', 'obeah', 'obedi', 'obelisk', 'oberhaus', 'oberon', 'obes', 'obey', 'obito', 'obiwan', 'object', 'oblig', 'obliter', 'oblivi', 'oblivion', 'obnoxi', 'obrian', 'obscen', 'obscur', 'observ', 'observatori', 'obsess', 'obsidian', 'obsidianfolk', 'obsolet', 'obssess', 'obstacl', 'obstin', 'obstruct', 'obtain', 'obviou', 'obvious', 'occas', 'occasion', 'occass', 'occipit', 'occlum', 'occult', 'occultist', 'occup', 'occupi', 'occupiedunit', 'occur', 'occurr', 'ocean', 'oceandwel', 'oceango', 'oceanid', 'oceanograph', 'ocelot', 'ock', 'oclock', 'oconnel', 'ocsh', 'octaviu', 'octaviuss', 'octavuss', 'octnov', 'octob', 'octocamo', 'octopu', 'octopuss', 'odd', 'oddli', 'odekirk', 'odessa', 'odiamond', 'odin', 'odinforc', 'odinpow', 'odinsdottir', 'odinsleep', 'odinson', 'odinsword', 'odiní', 'odonnel', 'odym', 'odyssey', 'oe', 'oess', 'off', 'offcours', 'offend', 'offens', 'offer', 'offguard', 'offhand', 'offic', 'offici', 'offlimit', 'offlin', 'offplanet', 'offscreen', 'offset', 'offshoot', 'offshor', 'offspr', 'oflynn', 'often', 'oftenbizarr', 'ofvolstagg', 'og', 'ogdru', 'ogdrujahad', 'oge', 'ogilvi', 'ognat', 'ogr', 'ogradi', 'ogran', 'ogun', 'ohara', 'oheim', 'ohio', 'ohirn', 'ohnaka', 'oia', 'oil', 'oilix', 'oilrich', 'okaara', 'okamura', 'okay', 'okinawa', 'oklahoma', 'okoy', 'ol', 'olasz', 'old', 'older', 'oldest', 'oldher', 'oldstrong', 'olga', 'oliv', 'olivi', 'olivia', 'olleru', 'olli', 'olnar', 'olsen', 'olson', 'olwë', 'olymp', 'olympia', 'olympian', 'olympiclevel', 'olympu', 'olórin', 'omac', 'omacsther', 'omaha', 'omaka', 'omar', 'omega', 'omegaclass', 'omegadrom', 'omegah', 'omen', 'omicron', 'omin', 'omit', 'omni', 'omnicid', 'omnidroid', 'omniman', 'omnipot', 'omnisci', 'omnitrix', 'omnivers', 'omniwav', 'omochao', 'omphalu', 'onaga', 'onandoff', 'onboard', 'onc', 'oncampu', 'oncefam', 'oncememb', 'oncemor', 'oncenotori', 'oncepacifi', 'oncologist', 'oncom', 'one', 'oneaboveal', 'onedimension', 'onedimensionaltempor', 'oneera', 'oneey', 'onehundr', 'oneman', 'onenight', 'oneninefourzero', 'oneonon', 'onepercent', 'oneseat', 'oneshot', 'onesid', 'onetail', 'onethird', 'onetim', 'onetrack', 'oneup', 'oneway', 'onewoman', 'oneyear', 'oneí', 'onfoot', 'ongo', 'ongulian', 'oni', 'onimi', 'onli', 'onlin', 'onlook', 'onomatopoeia', 'onpanel', 'onscreen', 'onset', 'onslaught', 'onslaughtasxavi', 'onstag', 'onto', 'onu', 'onward', 'onyx', 'oolong', 'ooz', 'op', 'opal', 'open', 'openarm', 'opencircuit', 'openli', 'oper', 'opera', 'operandi', 'operationsa', 'opinion', 'opium', 'oppo', 'oppon', 'opportun', 'opportunist', 'oppos', 'opposit', 'oppress', 'oppressor', 'opress', 'opt', 'optic', 'optim', 'optimist', 'optimu', 'optimum', 'option', 'optitron', 'opul', 'oracl', 'orang', 'orangeandblu', 'orangecostum', 'oratori', 'orb', 'orbit', 'orbot', 'orc', 'orca', 'orchestr', 'orchid', 'ord', 'ordain', 'ordeal', 'ordealhad', 'order', 'orderli', 'ordin', 'ordinari', 'ordinarili', 'ordnanc', 'oreilli', 'org', 'organ', 'organa', 'organis', 'organiz', 'organizationí', 'orgin', 'orient', 'origan', 'origin', 'origina', 'orign', 'orik', 'orin', 'orini', 'orion', 'orisha', 'orka', 'orko', 'orlean', 'orm', 'ornament', 'ornitholog', 'orochimaru', 'ororo', 'orphan', 'orphanag', 'orphanmak', 'orpheu', 'orrgo', 'orson', 'ortega', 'orthodox', 'orthographi', 'orvax', 'orvil', 'osborn', 'osch', 'oscillotron', 'oscorp', 'osgood', 'oshtekk', 'osiri', 'osito', 'oss', 'ossif', 'ossë', 'ostenisbl', 'ostens', 'osterman', 'ostrac', 'oswald', 'oswel', 'ot', 'otacon', 'other', 'otherdimens', 'otherdimension', 'otherdimertsion', 'otherearth', 'otherrealm', 'otherrealmwa', 'otherwis', 'otherwiseinvulner', 'otherworld', 'otherworldli', 'otmu', 'ottawa', 'otter', 'otto', 'ought', 'oumland', 'ounc', 'our', 'ourobor', 'oust', 'out', 'outag', 'outback', 'outbid', 'outboard', 'outbreak', 'outburst', 'outcast', 'outclass', 'outcom', 'outcri', 'outdat', 'outdiana', 'outdon', 'outdoor', 'outer', 'outerspac', 'outfit', 'outflew', 'outfought', 'outgo', 'outgrew', 'outgrow', 'outing', 'outlast', 'outlaw', 'outlet', 'outlin', 'outliv', 'outlook', 'outmaneuv', 'outmatch', 'outnumb', 'outofcontrol', 'outoftown', 'outofwhack', 'outpost', 'outrac', 'outrag', 'outrank', 'outreach', 'outrid', 'outright', 'outrun', 'outset', 'outsid', 'outskirt', 'outsmart', 'outspoken', 'outstand', 'outstretch', 'outward', 'outwardli', 'outweigh', 'outwit', 'outworld', 'oval', 'oven', 'over', 'overaft', 'overal', 'overambiti', 'overand', 'overarch', 'overbear', 'overboard', 'overcam', 'overcharg', 'overcom', 'overcompens', 'overdos', 'overeag', 'overexert', 'overflow', 'overgirl', 'overgrown', 'overgrowth', 'overh', 'overhawk', 'overhead', 'overhear', 'overheard', 'overjoy', 'overkil', 'overlap', 'overli', 'overload', 'overlook', 'overlord', 'overmast', 'overmind', 'overnight', 'overpatriot', 'overpow', 'overpowered18', 'overprotect', 'overr', 'overran', 'overrid', 'overridden', 'overrod', 'overrul', 'overrun', 'overs', 'oversaw', 'overse', 'oversea', 'overseen', 'overshadow', 'oversight', 'overstay', 'overstep', 'overtak', 'overtaken', 'overthrew', 'overthrow', 'overthrown', 'overtim', 'overtkil', 'overtli', 'overton', 'overtur', 'overturn', 'overus', 'overweight', 'overwhelm', 'overwork', 'overworld', 'overwritten', 'overwrot', 'overzeal', 'ovin', 'ovoid', 'ovoidian', 'owe', 'owen', 'owl', 'owlman', 'owlshap', 'own', 'owner', 'ownership', 'ox', 'oxford', 'oxley', 'oxygen', 'oya', 'oyakata', 'oyama', 'oysna', 'ozark', 'ozymandia', 'pa', 'pace', 'pacemak', 'pacemakerlik', 'pachyceph', 'pacif', 'pacifi', 'pacifist', 'pack', 'packag', 'packer', 'packet', 'paco', 'pact', 'pad', 'padawan', 'paddington', 'paedophil', 'pagan', 'page', 'paibok', 'paid', 'paig', 'pain', 'painlessli', 'paint', 'painter', 'pair', 'paji', 'pakistan', 'pakistani', 'pal', 'palac', 'paladin', 'palama', 'pale', 'palermo', 'palli', 'palm', 'palmer', 'palpatin', 'pamela', 'pan', 'panchia', 'pandem', 'pandemonium', 'pandora', 'panel', 'panessa', 'pangalact', 'panic', 'panick', 'panicki', 'panoptichron', 'panoram', 'panshin', 'pant', 'pantha', 'pantheon', 'panther', 'panya', 'papa', 'papanoida', 'paper', 'paperwork', 'parachut', 'parad', 'parademon', 'paradis', 'paradiselik', 'paradox', 'paragon', 'parallax', 'parallaxpossess', 'parallel', 'paralysi', 'paralyz', 'paramed', 'paramesh', 'paramet', 'paramilitari', 'paramount', 'paramour', 'paranoia', 'paranoid', 'paranorm', 'parapaleg', 'parapeleg', 'paraphernalia', 'parapleg', 'parapsycholog', 'parasit', 'parasitessh', 'parasycholog', 'paratroop', 'parbat', 'parcel', 'pardon', 'pare', 'parent', 'parentag', 'parentshowev', 'paretti', 'pari', 'pariah', 'parishion', 'parisi', 'parisian', 'park', 'parker', 'parkerss', 'parkman', 'parkup', 'parlay', 'parley', 'parliament', 'parlor', 'parlour', 'parnel', 'parodi', 'parol', 'parr', 'parrelastigirl', 'parrington', 'parrmr', 'parrot', 'part', 'partak', 'parti', 'partial', 'particip', 'particl', 'particul', 'particular', 'particularli', 'partier', 'partli', 'partner', 'partnerincrim', 'partnership', 'partook', 'parttim', 'partvampir', 'partygo', 'partyhbi', 'partyth', 'paso', 'pass', 'passabl', 'passag', 'passcod', 'passeng', 'passi', 'passingout', 'passion', 'passiv', 'passport', 'password', 'past', 'past8', 'pasti', 'pastich', 'pastor', 'pat', 'patan', 'patch', 'patent', 'patern', 'path', 'pathet', 'pathogen', 'patholog', 'pathway', 'patienc', 'patient', 'patientsa', 'patriarch', 'patricia', 'patrick', 'patriot', 'patrioticthem', 'patrol', 'patrolman', 'patron', 'patronag', 'patronu', 'patsi', 'pattern', 'patterson', 'patti', 'paul', 'paula', 'pauli', 'paulin', 'paulo', 'paulson', 'paus', 'pave', 'pavlov', 'pawn', 'paxton', 'pay', 'payback', 'paycheck', 'payg', 'payload', 'payment', 'payrol', 'peac', 'peacekeep', 'peacelov', 'peacemak', 'peach', 'peak', 'pearl', 'peasant', 'peculiarlook', 'pederast', 'pedophil', 'peel', 'peeper', 'peer', 'peev', 'peg', 'pegasu', 'peggi', 'pel', 'pelagia', 'pelagian', 'pelennor', 'peliali', 'pelican', 'pellet', 'pelt', 'pelvi', 'pemberton', 'pen', 'penal', 'penanc', 'penchant', 'pend', 'pendant', 'penetr', 'penetraitor', 'penetraitorí', 'penguin', 'penicillin', 'peninsula', 'penit', 'penitent', 'penitentiari', 'penitraitor', 'penn', 'pennanc', 'penni', 'penniless', 'pennsylvania', 'pennyworth', 'pentagon', 'pentagonguid', 'pentagram', 'pentagramshap', 'penthesileia', 'penthesleia', 'penthous', 'penultim', 'peopl', 'pep', 'pepper', 'per', 'perceiv', 'percent', 'percept', 'perci', 'perciev', 'perciv', 'perenni', 'perez', 'perfect', 'perfectli', 'perform', 'performanceenhanc', 'perfum', 'perhap', 'peril', 'perimet', 'period', 'perish', 'perjur', 'perman', 'permiss', 'permit', 'permut', 'pernel', 'perpetr', 'perpetu', 'perpetuallydepress', 'perplex', 'perri', 'persecut', 'persecutor', 'persephon', 'persev', 'persever', 'persia', 'persian', 'persist', 'person', 'persona', 'personalitywal', 'personif', 'personifc', 'personifi', 'personnel', 'personí', 'perspect', 'persuad', 'persuas', 'pertain', 'perus', 'pervers', 'pervert', 'pester', 'pestil', 'pestilencepossess', 'pet', 'petabyt', 'pete', 'peter', 'peterson', 'petit', 'petra', 'petrelli', 'petrifi', 'petrol', 'petrovna', 'petruccio', 'petti', 'pettigrew', 'pettit', 'pettrovich', 'petyr', 'peyton', 'pezzini', 'peña', 'pfeiffer', 'pg67aw', 'phaedra', 'phaethon', 'phage', 'phalanx', 'phalkon', 'phantazia', 'phantom', 'phantominfest', 'phantompossess', 'pharaoh', 'pharaon', 'pharmaceut', 'phase', 'phd', 'phdsfollow', 'phenomen', 'phenomena', 'phenomenon', 'pheromon', 'phi', 'phil', 'philadelphia', 'philand', 'philanthrop', 'philanthropi', 'philanthropist', 'philip', 'philippu', 'philli', 'phillip', 'phillipu', 'phillipusinclud', 'philosoph', 'philosophi', 'phimist', 'phinea', 'phlebiac', 'phobic', 'phobo', 'phoeb', 'phoenix', 'phoenix2', 'phoenixlik', 'phoenixpossess', 'phone', 'phoni', 'photo', 'photograph', 'photographi', 'photojournalist', 'photon', 'phrase', 'phyff', 'phyla', 'phylavel', 'phylli', 'physic', 'physician', 'physicist', 'physiolog', 'physiqu', 'phytia', 'phyzzon', 'piano', 'picard', 'piccolo', 'pick', 'pickl', 'pickpocket', 'picnic', 'pico', 'pictur', 'pie', 'piec', 'piecem', 'piefac', 'pier', 'pierc', 'pierrot', 'pierto', 'pieter', 'pietro', 'pig', 'pigeon', 'piggi', 'piggyback', 'pigtail', 'pike', 'piko', 'pile', 'pileup', 'pilfer', 'pilgrim', 'pilgrimag', 'pill', 'pillag', 'pillar', 'pilot', 'pimp', 'pin', 'pinbal', 'pine', 'pineda', 'pinehearst', 'pink', 'pinkerton', 'pinki', 'pino', 'pinpoint', 'pinup', 'pioneer', 'piotr', 'pip', 'pipe', 'piper', 'piqu', 'piraci', 'piranha', 'pirat', 'piratethem', 'pirina', 'pisa', 'piss', 'pistol', 'pit', 'pitch', 'pitcher', 'piti', 'pittsburgh', 'pivot', 'pixal', 'pixi', 'pizad', 'pizza', 'pla', 'place', 'placehold', 'placeit', 'placement', 'plaga', 'plageosaur', 'plagu', 'plagueosau', 'plain', 'plaincloth', 'plaintiff', 'plan', 'plane', 'plane64', 'planerid', 'planet', 'planetari', 'planetaryscal', 'planetdestroy', 'planetdevour', 'planetfileacotilletta2wwhulkjpg', 'planetkil', 'planetmov', 'planetoid', 'planets', 'planetsid', 'planetwid', 'planetí', 'planner', 'planpng', 'plansstat', 'plant', 'plantat', 'plantb', 'plantbas', 'plantbodi', 'planteer', 'planthuman', 'plantlif', 'plantlik', 'plantman', 'plantmonst', 'plantreplica', 'plantwid', 'plaqu', 'plasma', 'plastex', 'plastic', 'plastiqu', 'plastomorph', 'plate', 'plateau', 'platform', 'platinum', 'plato', 'platoon', 'platz', 'plausibl', 'play', 'playabl', 'playboy', 'player', 'playground', 'playmat', 'playth', 'plaza', 'plea', 'plead', 'pleas', 'pleasant', 'pleasantli', 'pleasantri', 'pleasur', 'pled', 'pledg', 'plethora', 'pletu', 'pli', 'pliabl', 'pliead', 'plight', 'pliskin', 'plissken', 'plod', 'plodex', 'plokta', 'plot', 'plotter', 'ploy', 'plu', 'pluck', 'plug', 'plumber', 'plummet', 'plumper', 'plunder', 'plung', 'plush', 'pluto', 'plymouth', 'pm', 'pmc', 'pneumonia', 'poacher', 'pocket', 'pocketdimens', 'pod', 'podium', 'poem', 'poignant', 'poindext', 'point', 'pointblank', 'pointedli', 'pointer', 'pointi', 'pointless', 'poirsenu', 'pois', 'poison', 'poke', 'pokolistan', 'pokolistanian', 'poland', 'polar', 'polari', 'polarismalic', 'polariss', 'pole', 'polemachu', 'polestar', 'polic', 'policeman', 'policemen', 'polici', 'policymak', 'polish', 'polit', 'politic', 'politician', 'polli', 'pollut', 'pollux', 'poln', 'polyalloy', 'polyest', 'polygon', 'polymath', 'polymimet', 'polynesia', 'polywat', 'pond', 'ponder', 'pool', 'poor', 'poorhous', 'poorli', 'poozer', 'pop', 'popcorn', 'popul', 'populac', 'popular', 'populist', 'porch', 'porcupin', 'pore', 'porker', 'porm', 'pornograph', 'porsch', 'port', 'portal', 'portent', 'porter', 'portion', 'portli', 'portrait', 'portray', 'portug', 'pose', 'poseidon', 'poseidoni', 'posh', 'posit', 'positivematt', 'positron', 'poss', 'posses', 'possess', 'possessor', 'possessorí', 'possibl', 'possiblefutur', 'possiblyresurrect', 'possum', 'post', 'post911', 'postal', 'postapocalypt', 'postapocalypticdystopian', 'postbatman', 'postchildbirth', 'postcivil', 'postcredit', 'postcrisi', 'postdoom', 'postdragon', 'poster', 'postgradu', 'posthum', 'posthypnot', 'postinferno', 'postman', 'postmodern', 'postpon', 'postretir', 'postur', 'postwar', 'postwwii', 'pot', 'potara', 'potent', 'potenti', 'potion', 'potionmak', 'potomac', 'potsdamm', 'pott', 'potter', 'pouch', 'pounci', 'pound', 'pour', 'poverti', 'povertystricken', 'powder', 'powel', 'power', 'powerabsorb', 'powerbas', 'powercopi', 'powerdampen', 'powerenhanc', 'powerheighten', 'powerhous', 'powerhungri', 'powerless', 'powerlock', 'powerlord', 'powermad', 'powerneutr', 'powernot', 'powerobject', 'poweron', 'powers1', 'powers15', 'powerseek', 'powerset', 'powerto', 'powerup', 'pownal', 'powr8', 'pox', 'pozhar', 'practic', 'practis', 'practition', 'praetor', 'prairi', 'prais', 'pralaya', 'prank', 'prashard', 'pratt', 'praxagora', 'praxeum', 'pray', 'prayer', 'prayersdiana', 'pre', 'prea', 'preach', 'preacher', 'preadolesc', 'prebuilt', 'precari', 'precataclysm', 'precaut', 'preced', 'precinct', 'preciou', 'preciouston', 'precipit', 'precis', 'precoci', 'precognit', 'precrisi', 'precursor', 'predalien', 'predat', 'predatori', 'predecessor', 'predestin', 'predetermin', 'predica', 'predict', 'predominantli', 'preemin', 'preemptiv', 'preexist', 'prefectur', 'prefer', 'preflashpoint', 'pregnanc', 'pregnant', 'prehensil', 'prehistor', 'prehistori', 'preinstal', 'prejudic', 'prelud', 'prematur', 'preme', 'premier', 'premis', 'premonit', 'prenat', 'prentiss', 'prentisss', 'preoccupi', 'preorder', 'prep', 'prepar', 'preparatori', 'preprogram', 'prepubesc', 'prequel', 'presbyterian', 'prescrib', 'prescript', 'presenc', 'present', 'presentday', 'preserv', 'presid', 'presidenti', 'presley', 'press', 'pressur', 'prester', 'prestigi', 'presum', 'preteen', 'pretenc', 'pretend', 'pretens', 'preternatur', 'pretext', 'pretori', 'pretti', 'prevail', 'prevent', 'previou', 'previous', 'previouslyseen', 'preworld', 'prey', 'preyi', 'prez', 'pri', 'price', 'priceless', 'pricilla', 'pride', 'priest', 'priestcisco', 'priestess', 'priestlord', 'prim', 'primal', 'primari', 'primarili', 'primarilyyellow', 'primatech', 'prime', 'primer', 'primev', 'primit', 'primordi', 'primotur', 'primros', 'primu', 'primuss', 'princ', 'princess', 'princesss', 'princeton', 'princip', 'principl', 'print', 'prior', 'priorit', 'prioriti', 'prisca', 'priscilla', 'prism', 'prison', 'prisonerofwar', 'pritchett', 'privaci', 'privat', 'privatefund', 'privateinvestig', 'privi', 'privileg', 'prix', 'priya', 'prize', 'prizewin', 'pro', 'proactiv', 'probabl', 'probationari', 'probe', 'problem', 'problemat', 'problemridden', 'probono', 'proccess', 'proce', 'proced', 'procedur', 'proceed', 'process', 'processor', 'processth', 'processwal', 'proclaim', 'proclam', 'proctor', 'procur', 'prod', 'prodigi', 'produc', 'product', 'producttest', 'prof', 'profess', 'profession', 'profession19', 'professor', 'professorfirestorm', 'professorship', 'proffet', 'profici', 'proficieni', 'profil', 'profit', 'profound', 'profus', 'progen', 'progeni', 'progenitor', 'progenitorenhanc', 'program', 'programm', 'progress', 'prohibit', 'prohibitioncloth', 'prohuman', 'project', 'projectil', 'projector', 'proletarian', 'prolong', 'prom', 'prometheu', 'promin', 'promis', 'promiscu', 'promisess', 'promontori', 'promot', 'prompt', 'promptli', 'promut', 'prone', 'prong', 'pronounc', 'proof', 'prop', 'propag', 'propaganda', 'propel', 'propens', 'proper', 'properli', 'properti', 'propheci', 'prophes', 'prophesi', 'prophet', 'prophetess', 'proport', 'proportion', 'propos', 'proposit', 'proprietor', 'proprietorship', 'propuls', 'prorata', 'proregistr', 'prosecut', 'prosecutioncag', 'prosecutor', 'prosh', 'prosilican', 'prosilicu', 'prospect', 'prosper', 'prosthes', 'prosthet', 'prostitut', 'prot', 'protagonist', 'protect', 'protector', 'protectress', 'proteg', 'protein', 'protest', 'protestor', 'proteu', 'proteuss', 'prothero', 'proto', 'protocol', 'proton', 'prototyp', 'protract', 'protrud', 'protégé', 'proud', 'proudli', 'proudstar', 'prove', 'proven', 'proverbi', 'provid', 'provinc', 'provinci', 'provis', 'provoc', 'provok', 'prower', 'prowess', 'prowl', 'proxi', 'proxim', 'proxima', 'pru', 'prudenc', 'pryde', 'pryor', 'pryorsumm', 'prysm', 'pscyhobut', 'pseudoderm', 'pseudohulk', 'pseudonym', 'pseudovampir', 'psi', 'psiblock', 'psiborg', 'psijudg', 'psimon', 'psion', 'psionex', 'psionic', 'psipow', 'psishield', 'psiwar', 'psiwav', 'psp', 'psych', 'psychedel', 'psycheglob', 'psychemagnitron', 'psychiatr', 'psychiatri', 'psychiatrist', 'psychic', 'psychicknif', 'psycho', 'psycholog', 'psychologist', 'psychoman', 'psychopath', 'psychopir', 'psychopomp', 'psychopr', 'psychosi', 'psychosomat', 'psychot', 'psychotherapi', 'psylock', 'ptah', 'pterodactyl', 'ptsd', 'puar', 'pub', 'puberti', 'public', 'publicist', 'publicli', 'publish', 'puceanu', 'puck', 'puckett', 'pucklat', 'puddin', 'puddl', 'puent', 'puerto', 'puff', 'puffurl', 'puishannt', 'pull', 'pulp', 'puls', 'pulsar', 'pulsewav', 'pulver', 'puma', 'pumic', 'pumicepeopl', 'pummel', 'pump', 'pumpkin', 'pun', 'punch', 'puncher', 'punchlin', 'punctur', 'punish', 'punit', 'punk', 'punkchic', 'punt', 'pup', 'pupil', 'puppet', 'puppi', 'purcel', 'purchas', 'pure', 'purg', 'purgatori', 'purifi', 'puritan', 'puriti', 'purpl', 'purplehair', 'purplesuit', 'purpos', 'purposeless', 'purs', 'pursu', 'pursuer', 'pursui', 'pursuit', 'push', 'pushkin', 'pushup', 'put', 'puttylik', 'puzzl', 'puzzler', 'pycel', 'pyg', 'pyko', 'pym', 'pyramid', 'pyre', 'pyreu', 'pyro', 'pyrokinesi', 'pyrokinet', 'pyromania', 'pyromaniac', 'pyroplasm', 'pyrotechn', 'pythagora', 'pythia', 'père', 'pérez', 'quad', 'quadrant', 'quadrillion', 'quadrupl', 'quadruplet', 'quaith', 'quak', 'qualif', 'qualifi', 'qualiti', 'qualm', 'quan', 'quanhooga', 'quanstar', 'quantiti', 'quantum', 'quarantin', 'quark', 'quarrel', 'quarri', 'quarter', 'quartermain', 'quartermast', 'quartet', 'quartz', 'quasar', 'quashi', 'quasihero', 'quasiindepend', 'quasimodo', 'quasioffici', 'quasipriest', 'quasirenaiss', 'quasison', 'quasistellar', 'quatermain', 'quebec', 'queen', 'queengreen', 'queenth', 'queequeg', 'quelin', 'quell', 'quentin', 'queri', 'querl', 'quest', 'question', 'queue', 'quexul', 'quick', 'quicker', 'quickest', 'quickli', 'quicksand', 'quicksilv', 'quidditch', 'quiet', 'quietli', 'quigon', 'quill', 'quiller', 'quilt', 'quincey', 'quinci', 'quinjet', 'quinlan', 'quinn', 'quintet', 'quintopartn', 'quinzel', 'quir', 'quirk', 'quislet', 'quisp', 'quit', 'quiver', 'quiz', 'quo', 'quod', 'quon', 'quot', 'quota', 'quote1', 'quote2', 'qurac', 'québec', 'qward', 'qwardian', 'qwerti', 'qwsp', 'qyre', 'r2d2', 'ra', 'raatko', 'rabbi', 'rabbit', 'rabbler', 'rabid', 'raccoon', 'race', 'racecar', 'racer', 'racetrack', 'rachel', 'racial', 'racism', 'racist', 'rack', 'racket', 'rackham', 'radam', 'radar', 'radcliff', 'radd', 'radiant', 'radiat', 'radiationproof', 'radic', 'radio', 'radioact', 'radiohead', 'radiologist', 'radion', 'radiosilenc', 'raditz', 'radiu', 'rae', 'rafael', 'rafe', 'raft', 'rag', 'rage', 'ragland', 'ragman', 'ragna', 'ragnarock', 'ragnarok', 'ragnarök', 'ragtag', 'rahn', 'rahul', 'raid', 'raidbut', 'raiden', 'raider', 'raikag', 'rail', 'railroad', 'rain', 'raina', 'rainbow', 'raincoat', 'raini', 'rainuma', 'rais', 'rajah', 'rajak', 'rajaki', 'rakagor', 'rake', 'rakk', 'ralf', 'ralli', 'ralph', 'ralston', 'ram', 'rama', 'ramad', 'ramatut', 'rambeau', 'rambl', 'rames', 'ramif', 'ramirez', 'ramon', 'ramonda', 'rampag', 'rampant', 'ramrod', 'rams', 'ramsey', 'ran', 'ranark', 'ranc', 'ranch', 'rancisi', 'ranck', 'rand', 'randal', 'randkai', 'randmeachum', 'randolph', 'random', 'randomli', 'randor', 'rang', 'rangda', 'ranger', 'rangeweapon', 'rank', 'rankin', 'rankl', 'ranksunbeknown', 'rann', 'rannian', 'rannthanagar', 'ransack', 'ransom', 'rant', 'ranx', 'ranzz', 'rao', 'raobomb', 'raof', 'raoh', 'raoul', 'rap', 'rape', 'raphael', 'rapid', 'rapidfir', 'rapidli', 'rapidlydeterior', 'rapist', 'rapport', 'raptor', 'raptur', 'rare', 'rasa', 'rasber', 'rash', 'rashli', 'raskin', 'raspi', 'rasputin', 'rat', 'ratcatch', 'rate', 'rath', 'ratha', 'rathaway', 'rather', 'ratio', 'ration', 'ratonhnhakéton', 'rattl', 'ravag', 'ravan', 'rave', 'raven', 'ravenclaw', 'ravencroft', 'ravenwood', 'ravin', 'ravonna', 'raw', 'rawhid', 'rawlin', 'raxalu', 'raxton', 'ray', 'raya', 'raygun', 'raymond', 'raymondarkadin', 'rayner', 'rayrel', 'raza', 'raze', 'razer', 'razor', 'razorback', 'razorblad', 'razorfist', 'raʾ', 'rbutton', 'rcmp', 'rcx', 'reabsorb', 'reacclim', 'reach', 'reacquir', 'react', 'reaction', 'reactionari', 'reactiv', 'reactor', 'reactron', 'read', 'reader', 'readi', 'readili', 'readjust', 'readmit', 'reaffirm', 'reag', 'real', 'realis', 'realist', 'realiti', 'realityalt', 'realityfix', 'realityhop', 'realitymanipul', 'realityreshap', 'realityth', 'realitytv', 'realitywarp', 'realiz', 'realli', 'reallif', 'realm', 'realmdream', 'realti', 'realtim', 'reanim', 'reap', 'reaper', 'reappear', 'rear', 'reardon', 'rearrang', 'reason', 'reassembl', 'reassert', 'reassign', 'reassimil', 'reassum', 'reassur', 'reattach', 'reaver', 'reawaken', 'reb', 'rebar', 'rebecca', 'rebel', 'rebeli', 'rebelli', 'rebellion', 'rebirth', 'rebond', 'reboot', 'reborn', 'rebottl', 'rebound', 'rebrand', 'rebuf', 'rebuff', 'rebuild', 'rebuilt', 'rebuk', 'recal', 'recalibr', 'recant', 'recap', 'recapitul', 'recaptur', 'receiv', 'received1', 'recent', 'recentlyescap', 'recentlyform', 'recentlyrais', 'recentlyreactiv', 'recentlyrejuven', 'recept', 'receptacl', 'receptor', 'recess', 'rechannel', 'recharc', 'recharg', 'rechristen', 'reciev', 'recip', 'recipi', 'reciproc', 'recit', 'reckless', 'recklessli', 'reckon', 'reclaim', 'reclus', 'recogn', 'recognis', 'recognit', 'recogniz', 'recoil', 'recollect', 'recombin', 'recommend', 'recon', 'reconcil', 'reconcili', 'reconciliatori', 'reconfigur', 'reconfirm', 'reconnaiss', 'reconnect', 'reconsid', 'reconstitut', 'reconstruct', 'reconven', 'recooper', 'record', 'recount', 'recoup', 'recov', 'recovereddur', 'recoveri', 'recreat', 'recruit', 'rectifi', 'recuper', 'recur', 'recurr', 'recycl', 'red', 'redandblu', 'redandyellow', 'redbird', 'redblu', 'redbreast', 'redcostum', 'redd', 'reddi', 'reddish', 'reded', 'redeem', 'redempt', 'redesign', 'redesignrec', 'redfield', 'redhair', 'redhand', 'redhead', 'redip', 'redirect', 'redirrect', 'rediscov', 'rediscoveri', 'redress', 'redshirt', 'redsun', 'redub', 'reduc', 'reduct', 'redund', 'redw', 'reec', 'reed', 'reeduc', 'reeeealli', 'reef', 'reel', 'reelect', 'reemerg', 'reempow', 'reempower', 'reena', 'reenact', 'reencount', 'reenerg', 'reenlarg', 'reenlist', 'reenrol', 'reenter', 'reentri', 'rees', 'reestablish', 'reeva', 'reexamin', 'reexert', 'refer', 'referenc', 'refin', 'reflect', 'reflex', 'refocus', 'reform', 'refrain', 'refriger', 'refug', 'refuge', 'refus', 'refut', 'regain', 'regal', 'regan', 'regard', 'regardless', 'regath', 'regen', 'regenc', 'regener', 'regent', 'regim', 'regimen', 'regiment', 'reginald', 'region', 'regist', 'registr', 'regress', 'regret', 'regrew', 'regroup', 'regrow', 'regrown', 'regul', 'regular', 'regularli', 'regurgit', 'rehabilit', 'rehir', 'rei', 'reich', 'reichskristallnacht', 'reichsmen', 'reichsminist', 'reichsrail', 'reid', 'reign', 'reignfir', 'reignit', 'reilli', 'reimagin', 'reimprison', 'rein', 'reincarcer', 'reincarn', 'reinforc', 'reinhabit', 'reinhardt', 'reinjur', 'reinstat', 'reintegr', 'reinvent', 'reinvert', 'reinvigor', 'reiter', 'reject', 'rejoin', 'rejuven', 'rekindl', 'rel', 'relaps', 'relat', 'relationship', 'relationship1', 'relaunch', 'relax', 'relay', 'releas', 'releg', 'relent', 'relentless', 'relev', 'reli', 'reliabl', 'reliant', 'relic', 'relief', 'reliev', 'religi', 'religion', 'relinquish', 'relish', 'reliv', 'reloc', 'reluct', 'reluctantli', 'remad', 'remain', 'remaind', 'remainssh', 'remak', 'reman', 'remand', 'remanifest', 'remark', 'remarri', 'remask', 'rematch', 'remateri', 'remedi', 'rememb', 'remembr', 'remerg', 'remi', 'remind', 'reminisc', 'remiss', 'remnant', 'remodel', 'remont', 'remorath', 'remors', 'remorseless', 'remot', 'remotelykidnap', 'remov', 'remove', 'remowa', 'remu', 'ren', 'rena', 'renaiss', 'renaissanceera', 'renam', 'renata', 'render', 'renderd', 'rendezv', 'rendit', 'rene', 'reneg', 'renegad', 'renew', 'renkitōza', 'renli', 'reno', 'renounc', 'renov', 'renown', 'renso', 'rent', 'rené', 'reoccur', 'reopen', 'reorgan', 'reoutfit', 'rep', 'repaid', 'repair', 'repairman', 'repar', 'repatri', 'repay', 'repeal', 'repeat', 'repeatedli', 'repel', 'repent', 'repercuss', 'repetit', 'replac', 'replay', 'replenish', 'repli', 'replic', 'replica', 'repliforc', 'reploid', 'repopul', 'report', 'reportedli', 'reposit', 'repow', 'reprehens', 'repres', 'represent', 'repress', 'reprimand', 'repris', 'reproduc', 'reproduct', 'reprogram', 'reptil', 'reptilian', 'reptilianhumanoid', 'republ', 'republican', 'repuls', 'repulsor', 'repurpos', 'reput', 'request', 'requiem', 'requir', 'requit', 'rerecruit', 'rescind', 'rescu', 'rescuer', 'reseal', 'research', 'resembl', 'resent', 'reserv', 'reservist', 'reservoir', 'reset', 'resettl', 'reshap', 'resheath', 'resid', 'residenti', 'residu', 'resign', 'resili', 'resist', 'resit', 'resiz', 'resolut', 'resolv', 'resolvedmer', 'reson', 'resort', 'resound', 'resourc', 'respark', 'respawn', 'respect', 'respecteveri', 'respit', 'respond', 'respons', 'ressourc', 'ressurrect', 'rest', 'restart', 'restat', 'restaur', 'restless', 'restor', 'restrain', 'restraint', 'restrict', 'restroom', 'restructur', 'restwel', 'result', 'resum', 'resumpt', 'resurfac', 'resurg', 'resurrect', 'resuscit', 'retail', 'retain', 'retak', 'retaken', 'retali', 'retard', 'retcon', 'retel', 'rethink', 'retic', 'retina', 'retir', 'retook', 'retool', 'retort', 'retrac', 'retract', 'retrain', 'retreat', 'retribut', 'retriev', 'retroact', 'retrograd', 'retrovers', 'return', 'returnsaqualad', 'reuben', 'reuint', 'reunifi', 'reunion', 'reunit', 'reus', 'reusabl', 'rev', 'rev9', 'reva', 'revamp', 'revanch', 'reve', 'reveal', 'revel', 'revel7', 'revello', 'revelri', 'reveng', 'revengeseek', 'revenu', 'rever', 'reverand', 'reverb', 'reverber', 'reverbium', 'reverend', 'revers', 'reverseengin', 'reverseflash', 'reverseguardian', 'reverseh', 'revert', 'review', 'revis', 'revisit', 'revit', 'reviv', 'revivaland', 'reviveson', 'revok', 'revolt', 'revolut', 'revolution', 'revolutionari', 'revolutionaryterrorist', 'revolv', 'revuls', 'reward', 'rewardwith', 'reweav', 'rewind', 'rewip', 'rewir', 'rewrit', 'rewritten', 'rewrot', 'rex', 'rex2000', 'rexton', 'rey', 'reynold', 'rhaegar', 'rhane', 'rhapsodi', 'rhea', 'rhetor', 'rhine', 'rhino', 'rhinocero', 'rhllor', 'rhode', 'rhodey', 'rhonda', 'rhyme', 'rib', 'ribbon', 'ribcag', 'rican', 'ricardo', 'rice', 'rich', 'richard', 'richardson', 'richardsstorm', 'richer', 'richest', 'richmond', 'richochet', 'richter', 'rick', 'ricker', 'ricki', 'rico', 'ricochet', 'rictor', 'rid', 'riddl', 'riddler', 'ride', 'rider', 'ridersedit', 'ridg', 'ridicul', 'ridilin', 'rife', 'rifl', 'rift', 'rig', 'rigel', 'rigel3', 'rigellian', 'rigger', 'right', 'righteou', 'righteous', 'rightextremist', 'righthand', 'rightli', 'rightw', 'rigidli', 'rigor', 'riker', 'rikki', 'riley', 'rim', 'rimworld', 'rinaldo', 'rinehart', 'ring', 'ringer', 'ringlead', 'ringless', 'ringmast', 'ringnam', 'ringsedit', 'ringwraith', 'rintrah', 'rio', 'riot', 'rioter', 'rip', 'ripcord', 'ripe', 'ripjaw', 'ripper', 'rippl', 'riptid', 'risant', 'rise', 'risen', 'risk', 'riskand', 'riski', 'risqu', 'rita', 'ritchi', 'rite', 'ritual', 'rival', 'rivalri', 'rivalsedit', 'rivendel', 'river', 'river2', 'riverappar', 'riverrun', 'rivet', 'rkill', 'rnr', 'roach', 'road', 'roadblock', 'roadrunn', 'roadsid', 'roam', 'roanok', 'roar', 'roarer', 'roark', 'roarshack', 'rob', 'robber', 'robberi', 'robberieswhil', 'robbi', 'robbin', 'robe', 'robern', 'robert', 'roberta', 'robertaland', 'roberto', 'robertson', 'robertss', 'robin', 'robinson', 'robo', 'robomechan', 'robomow', 'robot', 'robotic', 'roboticist', 'roboticlik', 'robotman', 'robotnik', 'robotnikland', 'rocca', 'roch', 'rock', 'rocker', 'rocket', 'rocketenhanc', 'rocketpropel', 'rockfort', 'rocki', 'rocklik', 'rockman', 'rockpaperscissor', 'rockstar', 'rockwel', 'rod', 'roddenberri', 'rode', 'rodent', 'roderick', 'rodger', 'rodian', 'rodor', 'rodrigo', 'rodriguez', 'rodunn', 'roerich', 'roger', 'rogu', 'roguish', 'rohkar', 'rok', 'roland', 'role', 'roleplay', 'roll', 'rollercoast', 'rom', 'roma', 'roman', 'romanc', 'romanenko', 'romangreek', 'romani', 'romania', 'romanoff', 'romanov', 'romant', 'rome', 'romeo', 'rommbu', 'romulu', 'ron', 'ronald', 'ronan', 'rond', 'ronin', 'ronni', 'roof', 'rooftop', 'rooftopsboost', 'rook', 'rooki', 'rookshir', 'room', 'room1', 'roommat', 'roosevelt', 'root', 'rootless', 'rope', 'rori', 'rorschach', 'rosa', 'rosali', 'rosalina', 'rosalind', 'rosalinda', 'rosco', 'rose', 'rosemari', 'rosenberg', 'rosewel', 'rosewood', 'roshi', 'rosi', 'ross', 'rosss', 'roster', 'rosushido', 'rot', 'rotat', 'rotatatron', 'roth', 'rothstein', 'rottwel', 'rotwel', 'roug', 'rough', 'roughli', 'roughous', 'roulett', 'round', 'roundedup', 'rourk', 'rous', 'roustabout', 'rout', 'routin', 'rove', 'rovo', 'row', 'rowdi', 'rowena', 'rowland', 'roxi', 'roxxon', 'roxxonheath', 'roy', 'royal', 'royalti', 'royc', 'rozz', 'rpd', 'rpg', 'rpg7', 'rrh', 'rs150', 'ru', 'rub', 'rubber', 'rubbl', 'rube', 'rubi', 'ruch', 'rucku', 'rude', 'rudi', 'rudimentari', 'rudolph', 'rudolpho', 'ruffer', 'rug', 'ruin', 'ruinsbi', 'ruinskoryak', 'rule', 'ruler', 'rulersal', 'rulership', 'rumbl', 'rumekistan', 'rumiko', 'rummag', 'rumor', 'run', 'runaway', 'rundin', 'rundown', 'rune', 'runestaff', 'runin', 'runner', 'runnersedit', 'runoff', 'rupe', 'rupert', 'ruprect', 'ruptur', 'rural', 'rusch', 'ruse', 'rush', 'rushedit', 'rushmor', 'rusk', 'russ', 'russel', 'russia', 'russian', 'russo', 'russoti', 'rustam', 'rusti', 'rut', 'ruthless', 'ruthlessli', 'ruthven', 'rutian', 'rutland', 'ruvé', 'ryan', 'rybik', 'ryding', 'ryhno', 'ryke', 'ryker', 'rynda', 'ryo', 'ryu', 'ryuken', 'ryuko', 'ryut', 'ryutski', 'rúmil', 's300', 'sa', 'saanxi', 'saarek', 'sabah', 'sabahnur', 'sabbath', 'saber', 'sabina', 'sabl', 'sabotag', 'saboteur', 'sabr', 'sabra', 'sabretooth', 'sachiko', 'sack', 'sacorria', 'sacorrian', 'sacr', 'sacrament', 'sacrfic', 'sacrif', 'sacrific', 'sacrifici', 'sacrilegi', 'sad', 'sadat', 'sadden', 'sadhd', 'sadi', 'sadist', 'sadli', 'saduhem', 'safari', 'safe', 'safeguard', 'safehous', 'safehouseluk', 'safekeep', 'safer', 'safest', 'safeti', 'saft', 'saga', 'sage', 'sagess', 'sageth', 'sahara', 'saher', 'sai', 'said', 'saigon', 'saiko', 'sail', 'sailor', 'saint', 'sainteannedebeaupré', 'saintecloud', 'saintli', 'saitama', 'saiyajin', 'saiyan', 'saiyin', 'sakaar', 'sake', 'sakki', 'sakura', 'sakutia', 'sal', 'salak', 'salakk', 'salamand', 'salamandra', 'salamndra', 'salari', 'salazar', 'sale', 'salem', 'saligia', 'salin', 'saliva', 'salli', 'salliss', 'salom', 'salon', 'saloon', 'salt', 'saltwat', 'salvador', 'salvag', 'salvagedbut', 'salvaj', 'salvat', 'sam', 'sama', 'samantha', 'samaritan', 'samedar', 'samedi', 'samemuch', 'samira', 'sammi', 'samothrac', 'samothraceian', 'sampl', 'sampson', 'samson', 'samuel', 'samurai', 'samuraitrain', 'san', 'sanatorium', 'sanchez', 'sanction', 'sanctiti', 'sanctorum', 'sanctuari', 'sanctum', 'sand', 'sandal', 'sandalphon', 'sandcreatur', 'sander', 'sandi', 'sandií', 'sandman', 'sandor', 'sandov', 'sandra', 'sandsmark', 'sandstorm', 'sandwat', 'sane', 'sanest', 'sangtre', 'sanitarium', 'saniti', 'sanjit', 'sank', 'sankara', 'sankser', 'sannin', 'sansker', 'santa', 'santana', 'santiago', 'santo', 'saonel', 'sap', 'sapien', 'sapper', 'sapph', 'sapphir', 'sara', 'saracon', 'sarah', 'sarasaland', 'sarcast', 'sarce', 'sarcophogu', 'sardath', 'sardon', 'sarg', 'sarga', 'sargon', 'saripha', 'saroyan', 'sartor', 'saruman', 'sarutobi', 'sasaki', 'sasha', 'saskatchewan', 'sasquatch', 'sass', 'sassi', 'sasuk', 'sat', 'satan', 'satana', 'satanist', 'satannish', 'satanu', 'sate', 'satellit', 'satiat', 'satin', 'satisfact', 'satisfactori', 'satisfi', 'satsu', 'sattelit', 'satur', 'saturday', 'saturn', 'saturnyn', 'satyr', 'saucer', 'saugerti', 'saul', 'saunder', 'saunter', 'saurian', 'saurid', 'sauron', 'savag', 'savageri', 'savannah', 'savant', 'savat', 'save', 'savin', 'savior', 'savitar', 'savoth', 'savothian', 'savvi', 'saw', 'saw14', 'sawedoff', 'sawyer', 'say', 'sayian', 'sayōnara', 'saza', 'sazia', 'sb', 'sborsc', 'sc3', 'scabbard', 'scald', 'scale', 'scaledback', 'scalegeographi', 'scali', 'scalpel', 'scam', 'scan', 'scandal', 'scandia', 'scanner', 'scapegoat', 'scar', 'scarab', 'scarc', 'scarcrow', 'scare', 'scarebeast', 'scarecrow', 'scarecrowit', 'scarf', 'scarfac', 'scari', 'scarlatti', 'scarlet', 'scarlett', 'scath', 'scatter', 'scaveng', 'scenario', 'scene', 'scene04', 'scent', 'scepter', 'sceptic', 'sceptr', 'schaeffer', 'schamballah', 'scharf', 'schaub', 'schedul', 'schemat', 'scheme', 'scheme25', 'schemes24', 'schexnayd', 'schism', 'schist', 'schizophren', 'schizophrenia', 'schlicht', 'schmidt', 'schmitt', 'schneider', 'scholar', 'scholarli', 'scholarship', 'scholast', 'school', 'schooldenni', 'schoolgateway', 'schoolhous', 'schoolmat', 'schoolteach', 'schoolyard', 'schorr', 'schott', 'schuffler', 'schultz', 'schutzstaffel', 'schuyler', 'scienc', 'sciencel', 'scientif', 'scientist', 'scientistturnedlizard', 'scifi', 'scimitar', 'scintilla', 'scissor', 'scitech', 'scof', 'scoff', 'scold', 'scoobi', 'scoop', 'scooter', 'scope', 'scorch', 'score', 'scorn', 'scorpia', 'scorpio', 'scorpion', 'scorpionlik', 'scotland', 'scotswoman', 'scott', 'scotti', 'scottish', 'scoundrel', 'scour', 'scourg', 'scout', 'scoutship', 'scrambl', 'scrambler', 'scrap', 'scrape', 'scrapper', 'scratch', 'scratchedsid', 'scrawni', 'scream', 'screamer', 'screen', 'screen1png', 'screenshhot', 'screenwrit', 'screw', 'screwdriv', 'screwup', 'scrgp', 'scrhd', 'scri', 'scribe', 'scrier', 'script', 'scroll', 'scrounger', 'scrutini', 'scudder', 'scuffl', 'sculpt', 'sculptress', 'sculptur', 'scum', 'scurri', 'scurvi', 'scuttl', 'scyar', 'scylla', 'scyth', 'sea', 'seab', 'seaboard', 'seacoast', 'seadwel', 'seafar', 'seagat', 'seaiz', 'seak', 'seal', 'sealevel', 'seali', 'sealif', 'seamu', 'sean', 'seanc', 'sear', 'search', 'seasnak', 'season', 'seat', 'seattl', 'seaworth', 'sebastian', 'seced', 'secess', 'seclud', 'seclus', 'second', 'secondari', 'secondgener', 'secondguess', 'secondincommand', 'secondlongest', 'secondoldest', 'secondstring', 'secondyoungest', 'secreci', 'secret', 'secretari', 'secretli', 'sect', 'section', 'sector', 'secur', 'secura', 'sed', 'sedat', 'sedona', 'seduc', 'seduct', 'see', 'seed', 'seedi', 'seedl', 'seek', 'seeker', 'seem', 'seemingli', 'seemli', 'seen', 'seep', 'seer', 'seera', 'seeth', 'sefton', 'segason', 'seghetti', 'segment', 'seig', 'seismic', 'seismoharmon', 'seiz', 'seizur', 'sekot', 'sektor', 'selach', 'selb', 'selbi', 'seldom', 'select', 'selen', 'selena', 'self', 'selfabus', 'selfaggrand', 'selfappoint', 'selfawar', 'selfbuilt', 'selfcent', 'selfconfid', 'selfconsci', 'selfcontrol', 'selfdeclar', 'selfdefens', 'selfdestruct', 'selfdeton', 'selfdisciplin', 'selfdiscoveri', 'selfdoubt', 'selfelect', 'selfexil', 'selfhelp', 'selfhood', 'selfimag', 'selfimpos', 'selfish', 'selfishli', 'selfless', 'selflessli', 'selfmutil', 'selfproclaim', 'selfprofess', 'selfrepair', 'selfrespect', 'selfsabotag', 'selfsacrific', 'selfsatisfact', 'selfserv', 'selfstyl', 'selfsustain', 'selfteleport', 'selftitl', 'selfworth', 'selima', 'selina', 'selinda', 'sell', 'sellsword', 'selmi', 'selv', 'selvig', 'selys', 'semblanc', 'semest', 'semiact', 'semicanon', 'semidemon', 'semifin', 'semihumanoidleonin', 'semipopular', 'semiregular', 'semiretir', 'semisenti', 'semiseri', 'semitr', 'semivis', 'semper', 'semtex', 'senat', 'send', 'sendai', 'sender', 'senior', 'senju', 'sens', 'sensat', 'sensei', 'senseless', 'sensia', 'sensit', 'sensor', 'sensori', 'sensu', 'sensuou', 'sent', 'sentenc', 'sentienc', 'sentiencerec', 'sentient', 'sentiment', 'sentinel', 'sentinelturnedmagneto', 'sentri', 'senyu', 'separ', 'separatist', 'seper', 'sept', 'septemb', 'sepulchr', 'sequenc', 'sequest', 'sequoia', 'ser', 'serafina', 'seraph', 'serbia', 'serbian', 'seren', 'serengeti', 'serg', 'sergeant', 'sergei', 'seri', 'serial', 'seriesedit', 'seriou', 'serious', 'seriousmind', 'sermon', 'seronot', 'serpent', 'serpentin', 'serpentina', 'serpentsh', 'sersi', 'serum', 'serumbeliev', 'serv', 'serval', 'servant', 'server', 'servic', 'servil', 'servitor', 'servitud', 'seryan', 'session', 'set', 'setback', 'seth', 'setoff', 'sett', 'setter', 'settingup', 'settl', 'settlement', 'setup', 'sev', 'seven', 'sevenfac', 'sevenfoot', 'sevenpoint', 'seventeen', 'seventeenthey', 'seventhdimension', 'seventi', 'seventyeight', 'sevenyear', 'sevenyearold', 'sever', 'severli', 'severt', 'severu', 'sevil', 'sew', 'sewag', 'seward', 'sewer', 'sex', 'sexi', 'sexism', 'sexton', 'sexual', 'seygel', 'seymour', 'sfpd', 'sfu', 'sgt', 'sha', 'shaara', 'shack', 'shackl', 'shackleton', 'shade', 'shadi', 'shadier', 'shadiest', 'shado', 'shadow', 'shadowcat', 'shadowcatcolossu', 'shadowdemon', 'shadowi', 'shadowkeep', 'shadowknight', 'shadowland', 'shadowlunat', 'shadowmanipul', 'shadowpact', 'shadowqueen', 'shadowspawn', 'shadowstorm', 'shaffran', 'shaft', 'shaggi', 'shaharazath', 'shahra', 'shaitan', 'shakani', 'shakari', 'shake', 'shakedown', 'shaken', 'shakey', 'shaki', 'shakti', 'shall', 'shallab', 'shallot', 'shallow', 'sham', 'shaman', 'shambl', 'shame', 'shamu', 'shang', 'shangchi', 'shangchií', 'shanghai', 'shango', 'shannon', 'shannonwho', 'shanoa', 'shanti', 'shantytown', 'shanzar', 'shao', 'shaolao', 'shaolin', 'shapandar', 'shapanka', 'shape', 'shapechang', 'shapeless', 'shaper', 'shapeshift', 'shapiro', 'sharaman', 'shard', 'share', 'sharingan', 'shark', 'sharkgirl', 'sharon', 'sharp', 'sharpen', 'sharra', 'shasheen', 'shatter', 'shatterstar', 'shave', 'shaver', 'shaw', 'shayera', 'shayeri', 'shazam', 'shdb', 'she', 'shear', 'sheath', 'shebat', 'shed', 'shedemon', 'shedragon', 'sheen', 'sheenarian', 'sheep', 'sheeprocket', 'sheer', 'sheet', 'sheeva', 'shehulk', 'sheila', 'sheild', 'shelf', 'shell', 'shelley', 'shelli', 'shellshock', 'shelter', 'sheme', 'shen', 'shenanigan', 'shepard', 'shepherd', 'sherawat', 'sheridan', 'sheriff', 'sherlock', 'sherman', 'sherwood', 'shetani', 'sheva', 'shi', 'shialmar', 'shiar', 'shield', 'shieldlicens', 'shiera', 'shift', 'shigamatsu', 'shika', 'shikamaru', 'shima', 'shimmer', 'shimrra', 'shimtar', 'shimura', 'shin', 'shine', 'shingen', 'shinhan', 'shinkansen', 'shinken', 'shinnok', 'shinobi', 'shinto', 'ship', 'shipment', 'shipw', 'shipwreck', 'shipwright', 'shire', 'shireen', 'shirk', 'shirle', 'shirrair', 'shirt', 'shiruta', 'shit', 'shiv', 'shiva', 'shiver', 'shlottman', 'shmidt', 'shock', 'shocker', 'shockingli', 'shockwav', 'shoe', 'shoehorn', 'shogun', 'shokan', 'shola', 'shomron', 'shondra', 'shone', 'shook', 'shoot', 'shooter', 'shootfirst', 'shootout', 'shop', 'shopper', 'shore', 'shorn', 'short', 'shortag', 'shortcircuit', 'shortcom', 'shorten', 'shorter', 'shorthand', 'shortli', 'shortliv', 'shorttemp', 'shostakov', 'shot', 'shotdown', 'shotgun', 'shoulao', 'should', 'shoulder', 'shoulderlength', 'shouldnt', 'shouldv', 'shout', 'shove', 'show', 'showcas', 'showdown', 'showedup', 'shower', 'showgirl', 'shown', 'shownaft', 'shox', 'shpd', 'shrank', 'shrapnel', 'shred', 'shrewish', 'shriek', 'shrike', 'shrine', 'shrink', 'shrivel', 'shron', 'shroud', 'shrug', 'shrunk', 'shrunken', 'shu', 'shuffl', 'shufflehbi', 'shujinko', 'shukaku', 'shumagorath', 'shun', 'shunt', 'shura', 'shuri', 'shuriken', 'shut', 'shutoff', 'shuttl', 'shyli', 'shyness', 'si', 'siames', 'siberforc', 'siberia', 'sibl', 'siblinglik', 'sicili', 'siciliano', 'sick', 'sick3', 'sickb', 'sicken', 'sickl', 'sickli', 'side', 'sidearm', 'sidebysid', 'sideeffect', 'sidekick', 'sidelin', 'sider', 'sideshow', 'sidestep', 'sidetrack', 'sidewind', 'sidg', 'sidh', 'sidiou', 'sidl', 'sidney', 'sidri', 'sieg', 'siegel', 'siegfri', 'sieglind', 'siegmund', 'sierra', 'sif', 'sifan', 'sigh', 'sight', 'sigil', 'sigma', 'sign', 'signa', 'signal', 'signalman', 'signatur', 'signifi', 'signific', 'significantli', 'signpol', 'sigourney', 'sigurd', 'sila', 'silenc', 'silencesil', 'silent', 'silhouett', 'silicon', 'silk', 'silkcut', 'silkspinn', 'silli', 'silmaril', 'silo', 'silver', 'silverback', 'silverburgh', 'silverclaw', 'silverey', 'silverhand', 'silverman', 'silvio', 'sim', 'simbel', 'simian', 'similar', 'similarli', 'similarlook', 'similiar', 'simmon', 'simogyn', 'simon', 'simpl', 'simpler', 'simpli', 'simplic', 'simplifi', 'simposon', 'simpson', 'simul', 'simulacrum', 'simuloid', 'simultan', 'sin', 'sinc', 'sincer', 'sinclair', 'sincong', 'sindarin', 'sindel', 'sindella', 'sineat', 'sinesto', 'sinestro', 'sing', 'singapor', 'singer', 'singersongwrit', 'singh', 'singl', 'singlehandedli', 'singlemind', 'singular', 'singultim', 'sinif', 'sinist', 'sink', 'sinner', 'sinsh', 'sint', 'sinthea', 'siobhan', 'sion', 'siphon', 'siphonedoff', 'sir', 'sire', 'siredam', 'siren', 'siri', 'siridar', 'siriu', 'siryn', 'sister', 'sisterhood', 'sisterinlaw', 'sit', 'sitcom', 'site', 'sith', 'situat', 'situp', 'sivana', 'sivanaborn', 'six', 'sixarm', 'sixfing', 'sixstori', 'sixteen', 'sixteenyearold', 'sixteenyearsold', 'sixth', 'sixthdimension', 'sixti', 'sixtysix', 'sixtytrillion', 'sixyearold', 'sizabl', 'size', 'sizeabandon', 'sizealt', 'sizechang', 'skaar', 'skaarn', 'skach', 'skadi', 'skardon', 'skarlet', 'skartheim', 'skate', 'skateboard', 'skater', 'skeet', 'skeeter', 'skeever', 'skelet', 'skeleton', 'skeletonhead', 'skeletor', 'skeptic', 'sketch', 'sketchi', 'skew', 'skewer', 'ski', 'skid', 'skill', 'skimask', 'skimpi', 'skin', 'skincontrol', 'skinless', 'skinlik', 'skinner', 'skinonskin', 'skintight', 'skip', 'skiptrac', 'skirmish', 'skirt', 'skoll', 'skornheim', 'skornn', 'skornn6', 'skreet', 'skrull', 'skrullpregn', 'skull', 'skull1112', 'skullfac', 'skullfir', 'skullhead', 'skulllukin', 'skullship', 'skunkbear', 'skurg', 'skuttlebutt', 'sky', 'skyblu', 'skybolt', 'skycharg', 'skycraft', 'skydiv', 'skye', 'skyfal', 'skylin', 'skyman', 'skynet', 'skyris', 'skyscrap', 'skywalk', 'slab', 'slabsid', 'slade', 'slag', 'slain', 'slam', 'slander', 'slang', 'slant', 'slap', 'slapstick', 'slash', 'slasher', 'slate', 'slater', 'slatteri', 'slaughter', 'slaughterhous', 'slave', 'slaver', 'slaveri', 'slay', 'slayback', 'slayer', 'slaymast', 'sleazoid', 'sledg', 'sledgehamm', 'sleep', 'sleeper', 'sleepwalk', 'sleev', 'sleez', 'slender', 'slept', 'slew', 'slice', 'slick', 'slickest', 'slid', 'slide', 'slideshow', 'slideway', 'slight', 'slightli', 'slim', 'slime', 'sling', 'slinger', 'slingshot', 'slip', 'slipshod', 'slipstream', 'slit', 'slither', 'sliver', 'slix', 'slizzath', 'sloan', 'slob', 'slorenia', 'slorenian', 'slot', 'slovakian', 'slow', 'slower', 'slowest', 'slowli', 'slowwit', 'slug', 'sluggo', 'slugsnakelik', 'sluj', 'slum', 'slumber', 'slump', 'slung', 'slur', 'slw', 'slyfox', 'slyli', 'slym', 'slytherin', 'smack', 'small', 'smaller', 'smallerh', 'smallers', 'smallest', 'smallfolk', 'smalltim', 'smalltown', 'smallvil', 'smart', 'smarter', 'smartest', 'smartmouth', 'smartphon', 'smash', 'smasher', 'smashtrol', 'smear', 'smell', 'smile', 'smiley', 'smileyfac', 'smirk', 'smite', 'smith', 'smither', 'smithereen', 'smitten', 'smitti', 'smoak', 'smog', 'smoke', 'smokeinduc', 'smokescreen', 'smokestack', 'smoki', 'smolder', 'smooch', 'smooth', 'smother', 'smuggl', 'smuggler', 'smyth', 'snack', 'snag', 'snagjenni', 'snake', 'snakeey', 'snakeroot', 'snakethem', 'snakeworm', 'snakey', 'snap', 'snape', 'snapper', 'snare', 'snark', 'snart', 'snartcaptain', 'snatch', 'sneak', 'sneaker', 'sneaki', 'sneer', 'snip', 'sniper', 'snitch', 'snobberi', 'snobbi', 'snooper', 'snoopi', 'snow', 'snowbird', 'snowbirdwa', 'snowdrift', 'snowflak', 'snowi', 'snowman', 'snowmanlik', 'snowmen', 'snowstorm', 'snuck', 'snuf', 'snuff', 'snug', 'so', 'so2', 'soak', 'soap', 'soar', 'sob', 'sobek', 'sobel', 'sobibor', 'sobrieti', 'sobut', 'socal', 'soccer', 'social', 'socialist', 'socialit', 'societ', 'societi', 'societyh', 'sociologist', 'sociopath', 'sock', 'socket', 'socko', 'socom', 'socu', 'soda', 'sodam', 'sodom', 'soeur', 'sofen', 'sofia', 'soft', 'softbal', 'soften', 'softwar', 'soggi', 'soil', 'sojourn', 'sokovia', 'sokovian', 'sol', 'solac', 'solar', 'solari', 'solarr', 'sold', 'soldier', 'soldierforhir', 'sole', 'soleada', 'soleanna', 'soleil', 'soleiyu', 'solemn', 'solesurviv', 'soli', 'solid', 'solidif', 'solidifi', 'solidu', 'solidvis', 'solitari', 'soliton', 'solitud', 'soliz', 'solli', 'solo', 'solomon', 'solovar', 'solut', 'solv', 'solvent', 'soma', 'somalia', 'somalian', 'somat', 'somber', 'sombr', 'sombrero', 'some', 'somebodi', 'somecit', 'someday', 'somehow', 'someon', 'somer', 'somersault', 'someth', 'sometim', 'sometimegirlfriend', 'someway', 'somewhat', 'somewher', 'sominu', 'somnambul', 'somnambulist', 'somon', 'son', 'sonar', 'sonderkommando', 'sondheim', 'sondran', 'song', 'songa', 'songbird', 'sonia', 'sonic', 'soniccn', 'sonicforc', 'sonicscream', 'sonicvsblaz', 'sonni', 'sonu', 'sonya', 'soon', 'sooner', 'soong', 'soongtyp', 'soontob', 'soontobedestroy', 'sooth', 'soothingli', 'sop', 'sophi', 'sophia', 'sophist', 'sora', 'soranik', 'sorcer', 'sorcererk', 'sorceress', 'sorceri', 'sorceror', 'sorceryrel', 'sorcessess', 'sordid', 'sore', 'sorenson', 'soria', 'sorri', 'sorrow', 'sort', 'sortof', 'soso', 'soteira', 'sothought', 'sought', 'soul', 'soulfir', 'soulgem', 'soulless', 'soulmat', 'soulsearch', 'soulself', 'soulsteal', 'soulsword', 'soultak', 'sound', 'soundbodi', 'soundli', 'soundproof', 'soundtransduc', 'sour', 'sourc', 'sourcebook', 'south', 'southeast', 'southeastern', 'souther', 'southern', 'southernmost', 'southth', 'southwest', 'souvenir', 'sovereign', 'sovereignti', 'soviet', 'sovietera', 'sow', 'spa', 'space', 'space1', 'spacea', 'spacebend', 'spaceclauric', 'spacecraft', 'spacedolphin', 'spacefar', 'spacehog', 'spaceknight', 'spacelost', 'spaceman', 'spaceport', 'spacer', 'spaceship', 'spacest', 'spacesuit', 'spacetim', 'spaceway', 'spacewheel', 'spacialbend', 'spade', 'spagonia', 'spain', 'spald', 'span', 'spaniard', 'spanish', 'spar', 'sparda', 'spare', 'sparingli', 'spark', 'sparki', 'sparkl', 'sparrow', 'spars', 'sparta', 'spartan', 'spartax', 'spartoi', 'spat', 'spatial', 'spawn', 'speak', 'spear', 'spearhead', 'speci', 'special', 'specialeffect', 'specialist', 'speciallydesign', 'speciallyformul', 'speciallytrain', 'specialti', 'specif', 'specimen', 'spectacular', 'spectacularli', 'spectat', 'specter', 'spector', 'spectorcorp', 'spectr', 'spectral', 'spectrum', 'specul', 'sped', 'speech', 'speechless', 'speed', 'speedacolyt', 'speedbal', 'speedballlik', 'speedblitz', 'speedboat', 'speedboyz', 'speedenhanc', 'speeder', 'speedfreak', 'speedfreek', 'speedi', 'speedier', 'speedlend', 'speedninja', 'speedsteal', 'speedster', 'speedsterdeliveryman', 'speedstream', 'speedsuit', 'speedtyp', 'speedway', 'spell', 'spelunk', 'spenc', 'spencer', 'spend', 'spent', 'sphere', 'spheric', 'sphinx', 'sphinxshap', 'spi', 'spice', 'spider', 'spiderarmi', 'spidercid', 'spiderclon', 'spidergirl', 'spidergwen', 'spiderhuman', 'spiderinfest', 'spiderisland', 'spiderkid', 'spiderlik', 'spiderman', 'spiderman28', 'spidermanthey', 'spidermanx', 'spidermen', 'spiderpow', 'spidersens', 'spiderslay', 'spidertotem', 'spidertrac', 'spideruk', 'spidervers', 'spidervillain', 'spiderwoman', 'spiderwomen', 'spidey', 'spike', 'spiki', 'spill', 'spillgat', 'spin', 'spinal', 'spine', 'spinebend', 'spineless', 'spiner', 'spinjitzu', 'spinner', 'spinoff', 'spinosa', 'spiral', 'spire', 'spirit', 'spiritu', 'spiritualist', 'spirituallyattun', 'spiritualmyst', 'spirtual', 'spit', 'spite', 'spitfir', 'spivot', 'splash', 'splasher', 'splatter', 'splice', 'splinter', 'split', 'splitlip', 'splitup', 'spock', 'spoil', 'spoiler', 'spokan', 'spoke', 'spoken', 'spokesmodel', 'spongi', 'sponsor', 'sponsorship', 'spontan', 'spook', 'spool', 'spoor', 'sporad', 'spore', 'sport', 'sporthunt', 'sportsmanship', 'sportsmast', 'spot', 'spotlight', 'spoughtth', 'spous', 'spout', 'spragg', 'sprain', 'sprang', 'sprawl', 'spray', 'spraypaint', 'spread', 'spree', 'spreekil', 'spri', 'spring', 'springdal', 'sprinkler', 'sprint', 'sprintbut', 'sprite', 'sprixi', 'sprout', 'sprung', 'spun', 'spur', 'spurn', 'spyder', 'spyke', 'spymast', 'spyro', 'squabbl', 'squad', 'squadron', 'squalid', 'squalor', 'squander', 'squar', 'squark', 'squat', 'squatter', 'squawk', 'squeez', 'squelch', 'squid', 'squidboy', 'squir', 'squirrel', 'squirt', 'squish', 'sr', 'srank', 'src', 'sreng', 'srohimm', 'srzgc', 'ss03', 'ss8', 'ssangyong', 'sshieldscar', 'sshieldwear', 'ssr', 'sssesthugar', 'sssv', 'stab', 'stabil', 'stabilis', 'stabl', 'staci', 'stack', 'stadium', 'staf', 'staff', 'staffmemb', 'stage', 'stagg', 'stagger', 'staggroff', 'stagnant', 'stagnat', 'stain', 'stair', 'staircas', 'stairwel', 'stake', 'stalagmit', 'stalem', 'stalk', 'stalker', 'stall', 'stalwart', 'stamford', 'stamina', 'stamp', 'stamped', 'stan', 'stanc', 'stancioff', 'stand', 'standalon', 'standard', 'standbi', 'standoff', 'standoffish', 'standstil', 'stane', 'stanford', 'stanley', 'stanni', 'stanniss', 'star', 'starband', 'starbit', 'starblood', 'starbolt', 'starbrand', 'starbreak', 'starbuck', 'starburst', 'starcor', 'starcrack', 'stardom', 'stardriv', 'stardust', 'stare', 'starfal', 'starfir', 'starfleet', 'starforc', 'starfox', 'stargaz', 'stargirl', 'stargod', 'stargrav', 'starhawk', 'starjamm', 'starjammersaft', 'stark', 'starkağr', 'starkfujikawa', 'starkil', 'starl', 'starlet', 'starlight', 'starlin', 'starlord', 'starman', 'starr', 'starro', 'starse', 'starshark', 'starship', 'starsmor', 'starspan', 'starspangl', 'starsuit', 'start', 'startl', 'starv', 'starvat', 'stasi', 'stat', 'state', 'stated8', 'statement', 'stateof', 'stateoftheart', 'statesid', 'statesman', 'static', 'station', 'statist', 'staton', 'statu', 'statuepng', 'statuesbi', 'statuesfind', 'statur', 'staunch', 'stave', 'stavro', 'stay', 'stayon', 'stayout', 'stayput', 'stayth', 'stb', 'stead', 'steadfast', 'steadfastli', 'steadi', 'steadili', 'steak', 'steal', 'stealth', 'stealthi', 'stealthili', 'steam', 'steed', 'steel', 'steelat', 'steelcorp', 'steelhawk', 'steeljacket', 'steelshod', 'steelwork', 'steer', 'stefan', 'stein', 'steinmanhan', 'stel', 'stellar', 'stellarax', 'stellarium', 'stem', 'step', 'stepbroth', 'stepdad', 'stepdaught', 'stepfath', 'stepford', 'steph', 'stephani', 'stephen', 'stepmoth', 'steppedin', 'steppenwolf', 'stepsist', 'stepson', 'sterano', 'stereo', 'stereotyp', 'steril', 'sterilityinduc', 'sterl', 'stern', 'sternberg', 'sternli', 'steroid', 'steve', 'steven', 'stevi', 'stewardship', 'stewart', 'stick', 'stickbal', 'sticker', 'stickfigur', 'sticki', 'stifl', 'stigma', 'stiletto', 'still', 'stillborn', 'stillfrozen', 'stillgriev', 'stillliv', 'stillman', 'stillpowerless', 'stillwel', 'stiltman', 'stimul', 'stimuli', 'sting', 'stingare', 'stingareecaptain', 'stinger', 'stingray', 'stinkfli', 'stint', 'stipul', 'stir', 'stirk', 'stock', 'stockbrok', 'stockhold', 'stockpil', 'stoic', 'stoke', 'stokess', 'stole', 'stolen', 'stomach', 'stomp', 'stompa', 'stone', 'stoneal', 'stonechat', 'stoneheng', 'stonekeep', 'stonelik', 'stoner', 'stonewal', 'stoneworld', 'stoni', 'stonian', 'stood', 'stoog', 'stooli', 'stoop', 'stop', 'storag', 'store', 'storehous', 'stori', 'stork', 'storm', 'stormblüd', 'stormbreak', 'stormcast', 'stormdaught', 'stormhappen', 'stormi', 'stormtroop', 'storybi', 'storybook', 'storylin', 'storytel', 'storywis', 'stow', 'stowaway', 'straaten', 'strack', 'straddl', 'straggl', 'straight', 'straighten', 'straighter', 'strain', 'strait', 'strand', 'strang', 'stranger', 'strangest', 'strangl', 'strangler', 'strap', 'strass', 'strateg', 'strategi', 'strategist', 'stratojet', 'stratospher', 'strauss', 'straw', 'stray', 'streak', 'streaki', 'stream', 'streamlin', 'street', 'streetgang', 'streetlevel', 'streetsmart', 'streetwis', 'strength', 'strengthaug', 'strengthen', 'strenuou', 'stress', 'stretch', 'strewn', 'stricken', 'stricker', 'strict', 'strictli', 'stride', 'strife', 'strike', 'strikeforc', 'strikeit', 'striker', 'string', 'strip', 'stripe', 'stripesi', 'stripon', 'stripper', 'strive', 'strobe', 'stroke', 'stroll', 'strom', 'stromm', 'strong', 'strongarm', 'stronger', 'strongest', 'strongestbeliev', 'stronghold', 'strongli', 'strongman', 'strongwil', 'strontia', 'strontian', 'strontium', 'stroud', 'strove', 'struck', 'strucker', 'structur', 'struggl', 'strung', 'strut', 'stryfe', 'stryfetroop', 'stryker', 'stu', 'stuart', 'stubborn', 'stubbornli', 'stubbornnev', 'stuck', 'stud', 'student', 'studi', 'studio', 'studiou', 'stuf', 'stuff', 'stumbl', 'stump', 'stun', 'stungun', 'stunner', 'stunt', 'stuntman', 'stuntmen', 'stuntwoman', 'stupend', 'stupid', 'stupor', 'sturdier', 'sturmabteilung', 'sturmbannführ', 'stutter', 'stuttgart', 'styker', 'style', 'stylish', 'styliz', 'styx', 'su', 'suander', 'suarez', 'suav', 'sub', 'subatom', 'subatomica', 'subbas', 'subboss', 'subcommitte', 'subcon', 'subconsci', 'subcutan', 'subdivis', 'subdu', 'subhuman', 'subhypnot', 'subject', 'subjug', 'sublim', 'sublimin', 'submachin', 'submann', 'submarin', 'submerg', 'submers', 'submicroscop', 'submiss', 'submit', 'subordin', 'suboro', 'subplot', 'subproject', 'subroutin', 'subscrib', 'subsequ', 'subservi', 'subset', 'subsid', 'subsidiari', 'subsist', 'subspac', 'subspeci', 'substanc', 'substandard', 'substanti', 'substitut', 'subsum', 'subsuperson', 'subterfug', 'subterranean', 'subtl', 'subtli', 'subup', 'suburb', 'subvers', 'subvert', 'subway', 'subzero', 'succe', 'succeed', 'succes', 'success', 'successor', 'succubi', 'succubu', 'succumb', 'such', 'suck', 'sucker', 'suckerpunch', 'suctionfing', 'sudan', 'sudden', 'suddenli', 'sudi', 'sue', 'suffer', 'suffici', 'suffoc', 'suffus', 'sugar', 'suggest', 'suicid', 'suicidebycop', 'suisan', 'suit', 'suitabl', 'sulfur', 'sulli', 'sullivan', 'sulphur', 'sum', 'sumaket', 'sumerian', 'summa', 'summar', 'summari', 'summarili', 'summer', 'summerlong', 'summit', 'summon', 'sumo', 'sumowrestl', 'sun', 'suna', 'sunagakur', 'sunbath', 'sundanc', 'sundari', 'sunday', 'sunder', 'sunderland', 'sundown', 'suneat', 'sunfir', 'sung', 'sunglass', 'sunk', 'sunken', 'sunless', 'sunlight', 'sunni', 'sunnydal', 'sunris', 'sunset', 'sunspot', 'sunsteal', 'sunston', 'sunstreak', 'sup', 'super', 'superadaptoid', 'superadaptoida', 'superag', 'superap', 'superb', 'superbanshe', 'superboy', 'superboyprim', 'superboyss', 'supercanin', 'supercharg', 'supercollid', 'supercomput', 'superconcentr', 'superconduct', 'supercorp', 'supercrim', 'supercrimin', 'superdestroy', 'superdog', 'supereffect', 'superfici', 'superfin', 'superflu', 'superfreak', 'superfunctionari', 'supergang', 'supergeniu', 'supergirl', 'supergroup', 'superguardian', 'superh', 'superhero', 'superheroin', 'superheroregistr', 'superhuman', 'superhumanli', 'superhumanori', 'superia', 'superintend', 'superior', 'superman', 'superman2', 'supermanbatman', 'supermanlik', 'supermanprim', 'supermantwo', 'supermarin', 'supermax', 'supermen', 'supermetabol', 'supermind', 'supernatur', 'supernaturallyting', 'supernova', 'superop', 'superpatriot', 'superpil', 'superpow', 'superprison', 'supersatur', 'supersciencemag', 'supersed', 'supersentri', 'superserum', 'superskrul', 'superskrulllangkowski', 'supersoldi', 'superson', 'superspe', 'superspeedpow', 'superspeedrel', 'superspi', 'supersquad', 'superstit', 'superstiti', 'superstrength', 'superstrong', 'supersuit', 'supertank', 'superteam', 'superthug', 'supertough', 'supertown', 'supervillain', 'supervillains1', 'supervillian', 'supervis', 'supervisor', 'superweapon', 'superwoman', 'suposedli', 'suppl', 'supplant', 'supplement', 'suppli', 'supplic', 'supplier', 'support', 'supportth', 'suppos', 'supposedli', 'suppress', 'supra', 'suprem', 'supremaci', 'supremacist', 'supris', 'sur', 'sure', 'suresh', 'sureshot', 'sureti', 'surfac', 'surfacedwel', 'surfaceth', 'surfboard', 'surfer', 'surferedit', 'surferto', 'surg', 'surgeon', 'surgeri', 'surgic', 'surik', 'surivor', 'surli', 'surmis', 'surnam', 'surpass', 'surplu', 'surpris', 'surprisingli', 'surreal', 'surrend', 'surreptiti', 'surridg', 'surrog', 'surround', 'surtur', 'surturwhen', 'surveil', 'survey', 'surviv', 'survivalist', 'survivor', 'survivour', 'susan', 'suscept', 'susi', 'suspect', 'suspend', 'suspens', 'suspensor', 'suspici', 'suspicion', 'sussurrata', 'sustain', 'sutain', 'sutter', 'sutton', 'suwan', 'suzanna', 'suzi', 'svartalfheim', 'sven', 'swabada', 'swagman', 'swainsvil', 'swallow', 'swam', 'swamp', 'swampland', 'swan', 'swann', 'swaní', 'swap', 'swarm', 'swashbuckl', 'swat', 'sway', 'swear', 'sweat', 'sweatshop', 'sweeney', 'sweep', 'sweet', 'sweeten', 'sweetheart', 'sweettalk', 'swell', 'swept', 'swerv', 'swift', 'swiftfli', 'swiftli', 'swim', 'swimmer', 'swimmercanoeist', 'swimsuit', 'swindl', 'swine', 'swing', 'swirl', 'swirli', 'swiss', 'switch', 'switchblad', 'switzerland', 'switzler', 'swoop', 'swoopin', 'sword', 'swordfight', 'swordman', 'swordmast', 'swordplay', 'swordsman', 'swordsmen', 'swordsmith', 'swordwield', 'swore', 'sworn', 'swung', 'sybil', 'sydney', 'sylar', 'sylbert', 'sylvania', 'sylvest', 'sym', 'symbioship', 'symbiosi', 'symbiot', 'symbioteinfect', 'symbol', 'symmetr', 'sympath', 'sympathet', 'sympathi', 'symptom', 'synaps', 'synapt', 'synch', 'syndic', 'syndrom', 'syndromelik', 'synesthet', 'syng', 'synn', 'synnar', 'synonym', 'synraith', 'synthes', 'synthesi', 'synthet', 'synthezoid', 'synthoid', 'synthoste', 'synthozoid', 'sypha', 'syphon', 'syphonn', 'system', 'systemat', 'sytsevich', 'szardo', 'szasz', 'szgani', 'sōke', 't002', 't1000', 't1001', 't800', 't850', 'taanu', 'tab', 'tabitha', 'tabl', 'tablet', 'tabloid', 'taboo', 'tabula', 'tabur', 'tabuu', 'tabyss', 'tachyon', 'tack', 'tackl', 'tacowhiz', 'tacowhizdiana', 'tact', 'tactic', 'tactician', 'tactigon', 'tag', 'taggert', 'tahuantinsuyu', 'tai', 'taijutsu', 'tail', 'tailor', 'taint', 'taiseiden', 'taiwanes', 'takahama', 'takashi', 'take', 'taken', 'takenin', 'takeoff', 'takeov', 'taki', 'takiguchi', 'takion', 'takodana', 'takrongalto', 'tal', 'talan', 'talbot', 'tale', 'talent', 'talentth', 'talia', 'taliban', 'talisman', 'talk', 'tall', 'taller', 'talli', 'talo', 'talon', 'talzin', 'tam', 'tamalpai', 'tamara', 'tamaran', 'tamaranean', 'tamaranian', 'tamareanian', 'tamarind', 'tambor', 'tame', 'tamper', 'tan', 'tana', 'tanaka', 'tanami', 'tanaraq', 'tancredo', 'tandem', 'tandi', 'tanel', 'tanghal', 'tangibl', 'tangier', 'tangl', 'tania', 'tank', 'tanker', 'tanktop', 'tanner', 'tanooki', 'tantamount', 'tantrum', 'tantu', 'tanuki', 'tanya', 'tao', 'tap', 'tapcaf', 'tape', 'tapeworm', 'tar', 'tara', 'taraki', 'tarantula', 'tarantulalik', 'tare', 'taren', 'targaryen', 'target', 'tarianna', 'tarkata', 'tarkatan', 'tarnish', 'tarot', 'tartaru', 'tartflavor', 'tarth', 'taryn', 'taser', 'tasha', 'task', 'taskforc', 'taski', 'taskmast', 'tast', 'tasti', 'tat', 'tatanga', 'tatooin', 'tatsu', 'tatsuo', 'tatter', 'tatto', 'tattoo', 'tattoobut', 'taught', 'taughtlearn', 'taunt', 'tavern', 'tax', 'taxi', 'taxidermi', 'taylor', 'tazza', 'tchaila', 'tchaka', 'tchalla', 'tcheru', 'tcl', 'tea', 'teach', 'teacher', 'teagu', 'team', 'teamedup', 'teammat', 'teamup', 'teamwork', 'teamx', 'tear', 'teas', 'teasdal', 'teban', 'teben', 'tech', 'techcom', 'technarch', 'technarchi', 'technet', 'techni', 'technic', 'technician', 'techniqu', 'techno', 'technoanarchist', 'technoform', 'technolog', 'technologicallyadvanc', 'technologist', 'technologyearth', 'technologywhich', 'technomag', 'technomagick', 'technoorgan', 'technopathi', 'technopsycho', 'technosmith', 'technoviru', 'techonlog', 'techosmith', 'techthem', 'techtron', 'tecton', 'ted', 'teddi', 'teekl', 'teem', 'teen', 'teenag', 'teenhero', 'teeter', 'teeth', 'tef', 'tefé', 'telecast', 'telecom', 'telecommun', 'telegram', 'telekinesi', 'telekinet', 'telemetr', 'telepath', 'telepathi', 'telephon', 'teleport', 'teleportationcap', 'telepres', 'teleri', 'telescop', 'televis', 'televisionseri', 'tell', 'teller', 'telltal', 'tellu', 'telo', 'temp', 'temper', 'tempera', 'temperament', 'temperarili', 'temperatur', 'tempest', 'templ', 'templar', 'templat', 'tempor', 'temporallydisplac', 'temporari', 'temporarili', 'tempt', 'temptat', 'temptress', 'tempu', 'temugin', 'temujin', 'ten', 'tenac', 'tenant', 'tend', 'tendenc', 'tender', 'tendra', 'tendril', 'tenebra', 'tenement', 'teney', 'tenfold', 'teng', 'tengu', 'tengwar', 'tennesse', 'tennet', 'tenni', 'tennyson', 'tens', 'tensei', 'tension', 'tensionfil', 'tent', 'tentacl', 'tentail', 'tenth', 'tentim', 'tenur', 'tenzil', 'tepid', 'teptow', 'terdu', 'term', 'termid', 'termin', 'terminatrix', 'termineu', 'terminolog', 'terminu', 'terminusmachin', 'termit', 'terra', 'terraform', 'terrain', 'terran', 'terranc', 'terrax', 'terrenc', 'terrestri', 'terri', 'terribl', 'terrif', 'terrifi', 'terrifiedwith', 'terrigen', 'terrigenesi', 'terril', 'territori', 'terror', 'terrordom', 'terrorist', 'terrorrist', 'tertiari', 'tess1', 'tessa', 'tesseract', 'tesson', 'test', 'testament', 'testfir', 'testicl', 'testifi', 'testimoni', 'testtub', 'tetch', 'tethadam', 'tether', 'tetrapleg', 'tevat', 'texa', 'texan', 'text', 'th', 'thaddeu', 'thadeu', 'thahn', 'thakorr', 'thal', 'thame', 'thanagar', 'thanagarian', 'thanato', 'thanaton', 'thane', 'thank', 'thanksgiv', 'thankyou', 'thano', 'thanosi', 'thanoss', 'thanosthano', 'thanotopsia', 'thar', 'thara', 'tharnn', 'that', 'thaw', 'thawn', 'thawnereverseflash', 'thayer', 'the', 'thea', 'theart', 'theater', 'theatr', 'theatric', 'theft', 'theif', 'their', 'thelma', 'them', 'theme', 'themselv', 'themso', 'themyscara', 'themyscira', 'themysciradisrupt', 'themysciran', 'themyscirian', 'then', 'thena', 'thenal', 'thenboyfriend', 'thenceforth', 'thenceo', 'thencompani', 'thencrippl', 'thencurr', 'theneditor', 'thengirlfriend', 'thenheadmast', 'thenhuman', 'thenhunt', 'theninebri', 'thenlead', 'thenlov', 'thenmast', 'thenpatriarch', 'thenreform', 'thenteenag', 'thenwhit', 'theo', 'theodor', 'theoneaboveal', 'theoret', 'theori', 'theoriz', 'theorya', 'therapeut', 'therapi', 'therapist', 'there', 'therea', 'thereaft', 'therebi', 'therefor', 'theresa', 'therethi', 'thermodynam', 'thermonuclear', 'thermostat', 'theron', 'theroux', 'these', 'theseu', 'thesi', 'thesili', 'thessali', 'theta', 'they', 'theyd', 'theyll', 'theyr', 'theyv', 'thi', 'thick', 'thickrim', 'thief', 'thiena', 'thier', 'thierna', 'thiev', 'thieveri', 'thigh', 'thin', 'thing', 'think', 'thinker', 'thinktank', 'thinli', 'thinner', 'third', 'thirdparti', 'thirdstori', 'thirdyear', 'thirst', 'thirteen', 'thirteenth', 'thirteenyearold', 'thirti', 'thirtieth', 'thirtysix', 'thirtythre', 'thog', 'thoma', 'thomass', 'thompkin', 'thompson', 'thor', 'thoran', 'thorazin', 'thorn', 'thorni', 'thornn', 'thornton', 'thoro', 'thorough', 'thoroughli', 'thorp', 'thorí', 'those', 'though', 'thought', 'thousand', 'thousandfold', 'thrall', 'thrash', 'thrasher', 'thrawrt', 'thread', 'threat', 'threaten', 'three', 'threedimension', 'threehit', 'threehundr', 'threepio', 'threesom', 'threetail', 'threeway', 'threeyear', 'threnodi', 'threshold', 'threw', 'thrice', 'thrill', 'thrillkil', 'thrive', 'throat', 'throe', 'throne', 'thronelik', 'throneworld', 'throng', 'throttl', 'through', 'throughout', 'throw', 'throwdown', 'thrown', 'thrust', 'thu', 'thug', 'thuggish', 'thule', 'thumb', 'thunder', 'thunderbal', 'thunderbird', 'thunderbolt', 'thunderclap', 'thunderid', 'thunderstorm', 'thunderstrik', 'thundra', 'thurian', 'thurman', 'thursday', 'thusli', 'thuviskaroth', 'thwart', 'thyphoid', 'thyroid', 'théoden', 'thögal', 'tiamat', 'tiana', 'tiara', 'tibet', 'tibetan', 'tick', 'ticket', 'tickl', 'tidal', 'tide', 'tie', 'tiedup', 'tiein', 'tien', 'tienamen', 'tienshinhan', 'tier', 'tiger', 'tight', 'tighten', 'tighter', 'tightli', 'tigorr', 'tigr', 'tigra', 'tigri', 'tijuana', 'tikal', 'tiki', 'tilbi', 'tilda', 'tile', 'till', 'tim', 'timandra', 'timber', 'time', 'time36', 'timebrok', 'timecontrol', 'timedisplac', 'timefram', 'timein', 'timeintens', 'timejump', 'timekeep', 'timelin', 'timeloop', 'timemanipul', 'timeoff', 'timeout', 'timepoint', 'timepool', 'timeport', 'timer', 'timeshift', 'timeship', 'timeskip', 'timeslid', 'timeslip', 'timespac', 'timespinn', 'timestream', 'timetim', 'timetoss', 'timetravel', 'timetripp', 'timid', 'timothi', 'timper', 'timwhenev', 'tina', 'tinglylik', 'tini', 'tinker', 'tinya', 'tip', 'tipoff', 'tire', 'tirelessli', 'tirgovist', 'tirion', 'tisiphon', 'tissu', 'titan', 'titania', 'titanian', 'titanium', 'titanomech', 'titl', 'tito', 'titu', 'tivan', 'tiwaz', 'tkorr', 'tlano', 'toad', 'toadi', 'toadland', 'toadmen', 'toadstool', 'toadsworth', 'toast', 'toastmast', 'tobi', 'tobia', 'tobirama', 'tockman', 'tod', 'today', 'todayaft', 'todd', 'toddi', 'toddler', 'toddlerag', 'toe', 'togeth', 'toiler', 'toilet', 'tojean', 'token', 'toki', 'tokyo', 'told', 'toler', 'tolkien', 'toll', 'tolliv', 'tolliverí', 'tom', 'toma', 'tomahawk', 'tomar', 'tomarr', 'tomaz', 'tomb', 'tombston', 'tome', 'tommi', 'tommygun', 'tomorrow', 'tompkin', 'tomá', 'ton', 'tone', 'tong', 'tongu', 'toni', 'too', 'took', 'tookov', 'tool', 'toom', 'tooth', 'toothless', 'top', 'topaz', 'topic', 'toplevel', 'toplin', 'topman', 'topo', 'toppl', 'toppo', 'toprank', 'topsecret', 'tor', 'torch', 'tore', 'tork', 'torment', 'tormentor', 'torn', 'tornado', 'tornado1', 'tornado11', 'toro', 'toronto', 'torpedo', 'torr', 'torrent', 'torso', 'tortois', 'tortur', 'toss', 'tot', 'total', 'totalitarian', 'totem', 'toth', 'totum', 'touch', 'tough', 'toughen', 'toughest', 'tour', 'tourist', 'tourmenet', 'tournament', 'tourney', 'tow', 'toward', 'tower', 'toweraveng', 'town', 'townhous', 'townsfolk', 'townspeopl', 'toxic', 'toxin', 'toxxin', 'toy', 'toyboy', 'toymak', 'toyman', 'toyn', 'toynbe', 'toystor', 'tp', 'trace', 'tracer', 'traci', 'track', 'trackdown', 'tracker', 'tractor', 'trade', 'trademark', 'trader', 'tradit', 'traffic', 'traffick', 'tragedi', 'tragg', 'tragic', 'trago', 'trail', 'trailer', 'train', 'traine', 'trainer', 'trait', 'traitor', 'trajectori', 'trampl', 'tran', 'tranc', 'tranform', 'tranquil', 'transact', 'transbelvia', 'transcend', 'transceptor', 'transcontinent', 'transdimension', 'transduc', 'transfer', 'transfigur', 'transform', 'transfus', 'transgress', 'transia', 'transian', 'transigen', 'transistor', 'transit', 'translat', 'transliter', 'transluc', 'transmiss', 'transmit', 'transmitt', 'transmod', 'transmut', 'transnorm', 'transpar', 'transpir', 'transplant', 'transpond', 'transport', 'transpos', 'transspaci', 'transtempor', 'transylvania', 'trantoul', 'trap', 'trap9', 'trapez', 'trapper', 'trapster', 'trash', 'trashtalk', 'trask', 'trauma', 'traumat', 'travel', 'travers', 'travesti', 'travi', 'tray', 'traya', 'trayc', 'traynor', 'trayu', 'treacher', 'treacheri', 'tread', 'treadmil', 'treason', 'treasur', 'treasuri', 'treat', 'treatabl', 'treati', 'treatment', 'treblinka', 'tree', 'treealong', 'treeroot', 'trek', 'tremayn', 'trembl', 'tremend', 'tremont', 'tremor', 'trench', 'trenchaft', 'trenchcoat', 'trepid', 'trespass', 'tress', 'trestl', 'trevi', 'trevor', 'tri', 'triad', 'trial', 'triangl', 'triathlon', 'tribal', 'tribb', 'tribe', 'tribepeopl', 'tribesman', 'tribesmen', 'tribun', 'tribut', 'tricel', 'trick', 'trickeri', 'trickshot', 'trickster', 'tricyclerid', 'trident', 'tridentarthur', 'triest', 'trigger', 'trigon', 'trikon', 'trillion', 'trilog', 'trim', 'trina', 'trini', 'triniti', 'trinket', 'trio', 'trip', 'tripl', 'triplehead', 'triplet', 'triplic', 'triplin', 'tripoli', 'tripolym', 'tripwir', 'trisentinel', 'trish', 'triskel', 'triskelion', 'tristan', 'tristess', 'tristian', 'tritium', 'triton', 'tritonang', 'tritoni', 'tritonian', 'tritonisal', 'triumph', 'triumphant', 'triumvir', 'triun', 'trivial', 'triwizard', 'trixi', 'trogg', 'troi', 'troia', 'trojan', 'troll', 'trollbridg', 'trolley', 'tromett', 'troop', 'trooper', 'troops2', 'troopsbi', 'trophi', 'tropic', 'troubl', 'troublemak', 'troubleth', 'trounc', 'troup', 'trovaya', 'trove', 'troy', 'troyjan', 'truax', 'truce', 'truck', 'trucker', 'truckerturnedspac', 'truckmount', 'true', 'truest', 'truffaut', 'trui', 'trujillo', 'truli', 'trulli', 'truman', 'trump', 'trumpetplay', 'trunk', 'trust', 'truste', 'trusti', 'trustworthi', 'truth', 'tryout', 'tryst', 'tshirt', 'tsunad', 'tsunami', 'tsung', 'tsurayaba', 'tsuringrad', 'tsuzana', 'tuan', 'tuatha', 'tub', 'tube', 'tuber', 'tucson', 'tui', 'tuition', 'tuko', 'tula', 'tulip', 'tulka', 'tulli', 'tulpa7', 'tulsa', 'tumbalt', 'tumbl', 'tumolo', 'tumor', 'tumorscar', 'tumulo', 'tumultu', 'tundra', 'tune', 'tung', 'tunic', 'tunisia', 'tunnel', 'tupper', 'turbin', 'turbo', 'turbul', 'turf', 'turgenev', 'turhan', 'turkey', 'turkish', 'turmoil', 'turn', 'turnbul', 'turncoat', 'turnedout', 'turner', 'turningpoint', 'turnofthecenturi', 'turnpik', 'turpin', 'turtl', 'tuscan', 'tuskege', 'tusken', 'tussl', 'tutakmun', 'tutelag', 'tutor', 'tuuru', 'tuxedo', 'tv', 'tveronica', 'tviru', 'twain', 'tweak', 'twelfth', 'twelv', 'twelveyear', 'twelveyearold', 'twenti', 'twentieth', 'twentiethcenturi', 'twentyfirst', 'twentyfour', 'twentysecond', 'twentythre', 'twice', 'twicenam', 'twig', 'twilek', 'twilight', 'twin', 'twirl', 'twist', 'twister', 'twitch', 'two', 'twocenturyold', 'twofac', 'twofifth', 'twofold', 'twogun', 'twohead', 'twoman', 'twomarvel', 'twomonth', 'twoontwo', 'twotail', 'twoyoungmen', 'tx', 'tx55', 'tyannan', 'tyconria', 'tycoon', 'tyger', 'tyler', 'tyme', 'type', 'typefac', 'typhoid', 'typhon', 'typhoon', 'typic', 'typolog', 'tyrann', 'tyranni', 'tyrannosaur', 'tyrannosauru', 'tyrannu', 'tyrant', 'tyrel', 'tyrion', 'tyrk', 'tyrmean', 'tyro', 'tyron', 'tywin', 'tzadqiel', 'tzu', 'tzuent', 'uae', 'ualac', 'uatu', 'uaw', 'ubc', 'uber', 'ubu', 'uchiha', 'ucla', 'udonta', 'uemeur', 'uggha', 'ugli', 'ugo', 'uh', 'uk', 'ukiyo', 'ukrain', 'ula', 'ulik', 'ulterior', 'ultim', 'ultimaton', 'ultimatum', 'ultimo', 'ultra', 'ultraa', 'ultraconductor', 'ultraforc', 'ultragirl', 'ultragirlgroot', 'ultrahigh', 'ultrahumanit', 'ultraman', 'ultramarin', 'ultrason', 'ultrasound', 'ultraspe', 'ultrastereotyp', 'ultravers', 'ultraviolet', 'ultron', 'ultronviru', 'ulyss', 'uman', 'umar', 'umbil', 'umbrella', 'umbridg', 'umen', 'umf013', 'umino', 'un', 'una', 'unab', 'unabl', 'unaccept', 'unaccount', 'unaccustom', 'unaffect', 'unaffili', 'unag', 'unanim', 'unansw', 'unapologet', 'unappreci', 'unattend', 'unauthor', 'unauthoris', 'unawar', 'unbal', 'unbalanc', 'unbeat', 'unbeknown', 'unbeknownst', 'unbeliev', 'unborn', 'unbrainwash', 'unbreak', 'unbridg', 'uncanni', 'uncaptur', 'uncar', 'uncegila', 'uncertain', 'uncertainti', 'unchalleng', 'unchang', 'uncharacterist', 'unchart', 'uncheck', 'uncivil', 'uncl', 'unclear', 'uncleinlaw', 'uncomfort', 'uncommon', 'unconci', 'uncondit', 'unconfirm', 'unconnect', 'unconsci', 'unconscious3', 'unconsciousshortli', 'unconsumm', 'uncontrol', 'unconvent', 'unconvinc', 'uncorrupt', 'uncov', 'uncreat', 'undamag', 'undaunt', 'undead', 'undeni', 'under', 'underag', 'underappreci', 'underchild', 'underconstruct', 'undercov', 'underdevelop', 'underestim', 'underfund', 'undergo', 'undergon', 'undergradu', 'underground', 'underl', 'underli', 'underlin', 'undermin', 'underneath', 'undersea', 'understand', 'understood', 'undertak', 'undertaken', 'undertook', 'underw', 'underwat', 'underway', 'underwear', 'underworld', 'undeserv', 'undesir', 'undet', 'undetermin', 'undevelop', 'undi', 'undid', 'undisclos', 'undisguis', 'undistinguish', 'undisturb', 'undo', 'undocu', 'undon', 'undoubtedli', 'undress', 'unearth', 'unearthli', 'uneas', 'uneasi', 'unemploy', 'unend', 'uneth', 'unexpect', 'unexpectedli', 'unexplain', 'unexplor', 'unfair', 'unfairli', 'unfaith', 'unfamiliar', 'unfathom', 'unfavor', 'unfaz', 'unfeel', 'unfinish', 'unfit', 'unfold', 'unforese', 'unforeseen', 'unfortun', 'unfortunatli', 'unfreez', 'unfriendli', 'unfulfil', 'ungara', 'ungaran', 'ungodli', 'ungoli', 'ungrat', 'unground', 'unhappi', 'unhappili', 'unharm', 'unhind', 'unhing', 'unholi', 'unhurt', 'unhypnot', 'unicorn', 'unicron', 'unidentifi', 'unif', 'unifi', 'uniform', 'uniformli', 'unimagin', 'unimind', 'unimpress', 'uninfect', 'uninhabit', 'uninhibit', 'uninjur', 'uninspir', 'unintend', 'unintent', 'uninterest', 'union', 'unipar', 'unipow', 'uniqu', 'unit', 'unitarian', 'uniti', 'unitl', 'univers', 'universemenac', 'universewid', 'universo', 'unjust', 'unjustli', 'unkil', 'unknow', 'unknowingli', 'unknown', 'unknownsourc', 'unleash', 'unleashededit', 'unleashedsh', 'unless', 'unlight', 'unlik', 'unlimit', 'unliv', 'unload', 'unlock', 'unlov', 'unmad', 'unmark', 'unmarri', 'unmask', 'unmatch', 'unmen', 'unmerg', 'unmolest', 'unmov', 'unnam', 'unnatur', 'unnot', 'unnthinnk', 'uno', 'unoccupi', 'unoffici', 'unoppos', 'unordinari', 'unorgan', 'unorthodox', 'unpaid', 'unparallel', 'unpleas', 'unpopular', 'unpreced', 'unpredict', 'unprepar', 'unpronounc', 'unprotect', 'unprovok', 'unpunish', 'unquest', 'unquestioningli', 'unrat', 'unravel', 'unreach', 'unrealist', 'unreason', 'unrecogniz', 'unrecord', 'unregist', 'unrel', 'unremark', 'unrepent', 'unreport', 'unrequit', 'unresolv', 'unrest', 'unrestor', 'unretir', 'unrev', 'unriv', 'unsatisfactori', 'unsatisfi', 'unsc', 'unscar', 'unscath', 'unschedul', 'unscom', 'unscratch', 'unscrupul', 'unsecur', 'unseen', 'unselfish', 'unshaken', 'unsheath', 'unshield', 'unskil', 'unsmask', 'unsolv', 'unsophist', 'unspeak', 'unspecifi', 'unspoken', 'unsponsor', 'unstabl', 'unsteadi', 'unstopp', 'unsuccess', 'unsucess', 'unsuit', 'unsur', 'unsurpris', 'unsurprisingli', 'unsuspect', 'untaint', 'untap', 'unternet', 'untest', 'unthink', 'unti', 'untidi', 'until', 'untim', 'unto', 'untold', 'untouch', 'untrac', 'untrain', 'untru', 'unu', 'unus', 'unuscion', 'unusu', 'unveil', 'unwant', 'unwarr', 'unwil', 'unwilling', 'unwillingli', 'unwit', 'unwittingli', 'unworldli', 'unworthi', 'unyield', 'uorboro', 'up', 'up1', 'upandcom', 'upbeat', 'upbring', 'upcom', 'updat', 'upgrad', 'upheav', 'uphold', 'upload', 'upon', 'upper', 'uppercut', 'upperhand', 'upris', 'uproot', 'upset', 'upshot', 'upsid', 'upstag', 'upstair', 'upstart', 'upstat', 'upturn', 'upward', 'ural', 'uranium', 'urass', 'urban', 'urchin', 'urg', 'urgent', 'uriah', 'urich', 'uriel', 'uroboro', 'uroboru', 'urrulian', 'ursa', 'ursula', 'urthona', 'uru', 'uruguay', 'urzkartaga', 'urzkartagan', 'us', 'usa', 'usabl', 'usag', 'uscanadian', 'use', 'useabl', 'usedit', 'useless', 'user', 'userfriendli', 'usher', 'usmc', 'usng', 'uss', 'ussr', 'ustordynski', 'usual', 'usurp', 'utah', 'utero', 'uteru', 'utgardloki', 'util', 'utilitarian', 'utopia', 'utopian', 'utsugi', 'utter', 'utterli', 'uub', 'uuh', 'uzbekistan', 'uzumaki', 'uzumakii', 'v', 'v10', 'vaapad', 'vacant', 'vacat', 'vaccin', 'vachon', 'vacil', 'vacuum', 'vader', 'vagabond', 'vagranc', 'vagrant', 'vagu', 'vain', 'vainli', 'val', 'vala', 'valachia', 'valar', 'valdez', 'valdimir', 'vale', 'valencia', 'valentin', 'valentina', 'valeri', 'valeria', 'valeska', 'valestra', 'valet', 'valhalla', 'valiant', 'valid', 'validu', 'valinor', 'valka', 'valkryi', 'valkyri', 'valkyrior', 'vall', 'valley', 'valor', 'valu', 'valuabl', 'valv', 'valyrian', 'vamp', 'vampir', 'vampirecorvinu', 'vampiresth', 'vampirewithasoul', 'van', 'vanaheim', 'vanc', 'vancouv', 'vandal', 'vandar', 'vandoom', 'vanessa', 'vanguard', 'vanilla', 'vanir', 'vanish', 'vaniti', 'vanko', 'vanquish', 'vanya', 'vapor', 'vapors', 'varga', 'vari', 'variabl', 'varianc', 'variant', 'variat', 'varieti', 'variou', 'various', 'varna', 'varykino', 'varyss', 'vase', 'vasili', 'vast', 'vastli', 'vastor', 'vat', 'vatgrown', 'vatican', 'vaud', 'vaudevil', 'vault', 'vayla', 'vbattalion', 'vector', 'veer', 'vega', 'veget', 'vegeta', 'vegetarian', 'vegito', 'vehement', 'vehicl', 'veidt', 'veil', 'vein', 'velasquez', 'vell', 'veloc', 'velocibiolog', 'velocipod', 'venal', 'vendetta', 'vendettalevel', 'vendor', 'vener', 'veng', 'vengeanc', 'vengeanceseek', 'vengenc', 'venic', 'venom', 'venomm', 'vent', 'ventail', 'ventriloquist', 'ventur', 'ventura', 'venu', 'venusian', 'ver', 'vera', 'verank', 'verbal', 'verd', 'verdict', 'verg', 'vergil', 'veri', 'verifi', 'verit', 'vermi', 'vermin', 'vermont', 'verna', 'vernet', 'vernichtungslag', 'vernon', 'veronica', 'vers', 'version', 'vertic', 'vertigo', 'verum', 'verv', 'vess', 'vessel', 'vessí', 'vest', 'vestig', 'vestin', 'vestri', 'veteran', 'veterinari', 'vex', 'via', 'viabl', 'vial', 'vibe', 'vibranium', 'vibraniumalloy', 'vibrat', 'vibrationallycharg', 'vibratori', 'vibro', 'vic', 'vica', 'vice', 'viceroy', 'viceversa', 'vicin', 'viciou', 'vicious', 'vicker', 'vicki', 'victim', 'victimless', 'victimí', 'victor', 'victori', 'victoria', 'victorian', 'victoriu', 'vidar', 'vide', 'video', 'videotap', 'viderdoom', 'vie', 'vienna', 'viet', 'vietnam', 'vietnames', 'view', 'viewer', 'viewpoint', 'vigil', 'vigilant', 'vigilantehero', 'vigma', 'vigor', 'vigorh', 'vii', 'vik', 'vike', 'viktor', 'vile', 'vilgax', 'vili', 'villa', 'villag', 'villai', 'villain', 'villaini', 'villainss', 'villan', 'villian', 'viltrumit', 'vinc', 'vincent', 'vindic', 'vindict', 'vine', 'vinni', 'vinnitsa', 'vinson', 'vintag', 'violat', 'violatorclown', 'violenc', 'violent', 'violet', 'viper', 'virago', 'viral', 'virgil', 'virgin', 'virginia', 'virginian', 'virman', 'virolog', 'virtu', 'virtual', 'viru', 'virus', 'virusprogram', 'visa', 'visag', 'visalia', 'viscou', 'viscount', 'viscous', 'viseryss', 'vishanti', 'visibl', 'vision', 'visionari', 'visit', 'visitor', 'visor', 'vist', 'vista', 'visual', 'vita', 'vital', 'vitamin', 'vitana', 'vito', 'vivian', 'vivid', 'vivisect', 'vixen', 'vizier', 'vizsla', 'vlad', 'vladimir', 'vladivostok', 'vlana', 'vlatava', 'vlava', 'vlc', 'vo', 'vocal', 'vodun', 'voght', 'voi', 'voic', 'voicecit', 'voiceturn', 'void', 'voidnaut', 'vol', 'vol2', 'volanti', 'volatil', 'volcan', 'volcano', 'volcanum', 'vold', 'voldemort', 'volker', 'voll', 'volstagg', 'volt', 'voltag', 'volthoom', 'voltzmann', 'volum', 'volunt', 'voluntari', 'voluntarili', 'voluptu', 'vomit', 'von', 'vong', 'voodoo', 'voodoosorcer', 'voraci', 'vore', 'vormir', 'vortex', 'vortuma', 'vostok', 'vote', 'vouch', 'vow', 'voyag', 'vrax', 'vril', 'vs', 'vulcan', 'vulcann', 'vulko', 'vulner', 'vultan', 'vultur', 'vulturion', 'vundabar', 'vung', 'vuon', 'vy', 'vyrra', 'wa', 'waddl', 'wade', 'wage', 'wager', 'wagner', 'wai', 'wail', 'wainscroft', 'waist', 'wait', 'waitress', 'wakanda', 'wakandan', 'wake', 'wal', 'walayla', 'waldo', 'wale', 'walk', 'walkabout', 'walkedin', 'walker', 'wall', 'wallac', 'wallcrawl', 'waller', 'wallet', 'walli', 'wallonli', 'wallow', 'wallsonli', 'wallyboth', 'walru', 'walsh', 'walter', 'walton', 'wand', 'wanda', 'wander', 'wanderlust', 'wane', 'wannab', 'wannabe', 'want', 'war', 'warbird', 'warbound', 'warbow', 'warclon', 'warcrimin', 'ward', 'warden', 'wardrob', 'wardrobeit', 'warehous', 'warera', 'warfar', 'warhawk', 'warhead', 'wari', 'warissu', 'warkil', 'warli', 'warlik', 'warlock', 'warlord', 'warm', 'warmli', 'warmup', 'warn', 'warp', 'warpath', 'warpedoff', 'warpi', 'warrant', 'warren', 'warrior', 'warriorgoddess', 'warsaw', 'warsedit', 'warship', 'warskrul', 'warstar', 'wart', 'warth', 'wartim', 'wartorn', 'waru', 'warultra', 'warwear', 'warwold', 'warwolf', 'warwolv', 'warworld', 'warzon', 'wash', 'washington', 'washout', 'wasnt', 'wasp', 'wass', 'wast', 'wasteland', 'watch', 'watchband', 'watchdog', 'watchedon', 'watchedov', 'watcher', 'watchlik', 'watchmak', 'watchmen', 'watchmenvers', 'watchtow', 'water', 'waterbear', 'waterbik', 'waterbreath', 'waterfal', 'waterfowl', 'waterfront', 'wateri', 'watkin', 'watson', 'watt', 'wauer', 'wave', 'wavefront', 'waverid', 'wax', 'way', 'wayfar', 'wayfind', 'waylaid', 'waylay', 'waylon', 'wayn', 'waynepow', 'wayopen', 'wayward', 'wayword', 'wazzo', 'wca', 'we', 'weak', 'weaken', 'weaker', 'weakest', 'weakli', 'wealth', 'wealthi', 'wealthiest', 'wean', 'weapon', 'weaponbut', 'weaponri', 'weaponwield', 'wear', 'wearer', 'weari', 'weasel', 'weasley', 'weather', 'weathercontrol', 'weathermanipul', 'weathertop', 'weav', 'weaver', 'web', 'webb', 'webcam', 'webdummi', 'webfluid', 'webhead', 'weblin', 'webshoot', 'websit', 'websling', 'webspinn', 'webster', 'wed', 'wedg', 'wedlock', 'weed', 'week', 'weekend', 'weekendsonli', 'weekli', 'weeklong', 'weekshowev', 'ween', 'weep', 'weigh', 'weight', 'weil', 'weird', 'weirder', 'weisbogg', 'weisman', 'welcom', 'welfar', 'well', 'wellb', 'wellbalanc', 'welldeserv', 'welldocu', 'wellington', 'wellintent', 'wellknown', 'wellmean', 'wellorgan', 'wellplan', 'wellreceiv', 'wellrespect', 'wellsh', 'wellss', 'welshborn', 'welvath', 'wench', 'wendel', 'wendi', 'wendigo', 'weng', 'went', 'wentoff', 'wenton', 'wentthrough', 'wept', 'were', 'werehog', 'werejaguar', 'werent', 'werethi', 'werewolf', 'werewolv', 'werner', 'wesel', 'wesker', 'wesley', 'west', 'westallen', 'westchest', 'westenra', 'wester', 'westerland', 'western', 'westero', 'westfield', 'westlak', 'westlakedarkman', 'westopoli', 'westopolisbi', 'westth', 'wet', 'wexu', 'wey', 'weyland', 'whack', 'whackjob', 'whale', 'whalelik', 'whaler', 'what', 'whatev', 'whatsisnam', 'whatsoev', 'wheel', 'wheelchair', 'wheelchairbound', 'wheeler', 'when', 'whenc', 'whenev', 'whent', 'where', 'wherea', 'whereabout', 'wherebi', 'wherein', 'whereupon', 'wherev', 'whether', 'whi', 'which', 'whichev', 'while', 'whilst', 'whim', 'whimper', 'whimsic', 'whip', 'whiplash', 'whirl', 'whirldemon', 'whirlwind', 'whisk', 'whisker', 'whisper', 'whistl', 'whistler', 'whitbi', 'white', 'whiteandblackstrip', 'whitecloud', 'whitehal', 'whitehot', 'whiteman', 'whiterob', 'whith', 'whitman', 'whitmor', 'whitney', 'whittl', 'whizzer', 'who', 'whoberi', 'whoever', 'whole', 'wholeheartedli', 'wholesal', 'wholl', 'wholli', 'whore', 'whose', 'whosoev', 'whwhere', 'wicca', 'wiccan', 'wick', 'wicked', 'wickedli', 'wicker', 'wide', 'wideawak', 'widen', 'widespread', 'widget', 'widow', 'wield', 'wielder', 'wife', 'wifelat', 'wifetob', 'wig', 'wiggl', 'wight', 'wii', 'wiki', 'wild', 'wildboy', 'wildcard', 'wildcat', 'wildebeest', 'wildebot', 'wilder', 'wildfir', 'wildheart', 'wildli', 'wildlif', 'wildmutt', 'wildprid', 'wildsid', 'wildstar', 'wildstorm', 'wildway', 'wile', 'wilhelm', 'wili', 'wilkin', 'will', 'willam', 'willi', 'william', 'williamsburg', 'willing', 'willingli', 'willothewisp', 'willow', 'willowdal', 'willpow', 'willsap', 'wilma', 'wilson', 'wilsoní', 'wimp', 'win', 'winath', 'winathian', 'winchest', 'wind', 'winda', 'windfal', 'windflight', 'window', 'windowless', 'windsh', 'windshield', 'windsor', 'windswept', 'windward', 'wine', 'wing', 'wingat', 'winger', 'wingfoot', 'wingman', 'wingspan', 'wink', 'winn', 'winner', 'winslow', 'winston', 'winter', 'winterfel', 'wintergreen', 'wintri', 'winumb', 'winzeldorf', 'wipe', 'wipeout', 'wire', 'wireless', 'wisconsin', 'wisdom', 'wise', 'wisecrack', 'wisemen', 'wiser', 'wish', 'wisp', 'wit', 'witch', 'witchblad', 'witchboy', 'witchcraft', 'witchk', 'witchqueen', 'with', 'withdraw', 'withdrawn', 'withdrew', 'wither', 'withersppon', 'withheld', 'withhi', 'withhold', 'within', 'without', 'withstand', 'withstood', 'witht', 'witter', 'witti', 'wittman', 'wive', 'wiz', 'wizard', 'wizardri', 'wizengamot', 'wladyslav', 'wmd', 'wobbl', 'woke', 'woken', 'wolf', 'wolfb', 'wolfgang', 'wolfl', 'wolflik', 'wolfman', 'wolfsban', 'wolv', 'wolverin', 'wolverinelik', 'woman', 'womanrestor', 'womanthat', 'womb', 'women', 'wond', 'wonder', 'wonderland', 'wong', 'wongchu', 'wont', 'woo', 'wood', 'woodcarv', 'wooden', 'woodland', 'woodru', 'woodstock', 'woolli', 'woozi', 'word', 'wordlessli', 'wordsworth', 'wore', 'worf', 'worhti', 'work', 'workahol', 'workaround', 'worker', 'workload', 'workmen', 'workon', 'workout', 'workplac', 'workshop', 'workweek', 'world', 'world8', 'worlda', 'worldconsum', 'worlddestroy', 'worlddevour', 'worldeat', 'worldedit', 'worldfam', 'worldli', 'worldmind', 'worldrenown', 'worldsav', 'worldshatt', 'worldship', 'worldview', 'worldwatch', 'worldwid', 'worldyou', 'worm', 'wormhol', 'worn', 'worri', 'wors', 'worsen', 'worship', 'worshipp', 'worst', 'worth', 'worthi', 'worthington', 'worthless', 'worthwhil', 'worthyofnot', 'would', 'wouldb', 'wouldnt', 'wouldnít', 'wouldv', 'wouldwouldnt', 'wound', 'woundedsh', 'woven', 'wp', 'wrack', 'wraith', 'wraithform', 'wraithlik', 'wraithworld', 'wrap', 'wrath', 'wreak', 'wreck', 'wreckag', 'wrecker', 'wrench', 'wrest', 'wrestl', 'wrestler', 'wri', 'wright', 'wrist', 'write', 'writein', 'writeoff', 'writer', 'written', 'wrong', 'wrongdo', 'wrongdoer', 'wrongli', 'wrongwhatev', 'wrote', 'wrought', 'wtih', 'wu', 'wulfric', 'wundagor', 'wundarr', 'wunderkind', 'wusan', 'wwbtv', 'wwii', 'wwiiera', 'wwiii', 'wyatt', 'wye', 'wyern', 'wyli', 'wyndham', 'wyngard', 'wynn', 'wyvern', 'x23', 'x233par', 'x51', 'x5anime251', 'x5edit', 'x6edit', 'x7edit', 'x8edit', 'xakku', 'xalli', 'xan', 'xanadu', 'xandar', 'xandarian', 'xander', 'xantharian', 'xao', 'xartan', 'xaru', 'xauron', 'xavier', 'xaviermarko', 'xbabi', 'xbrig', 'xcell', 'xclub', 'xcorp', 'xcorpor', 'xcution', 'xday', 'xebel', 'xelement', 'xenomorph', 'xenophobia', 'xerx', 'xfactor', 'xforc', 'xforcer', 'xgene', 'xhoss', 'xhume', 'xhunter', 'xian', 'xii', 'xixabangma', 'xjet', 'xk8', 'xkid', 'xlab', 'xlr8', 'xman', 'xmansion', 'xmanth', 'xmen', 'xmendazzl', 'xmenlongshot', 'xnation', 'xorn', 'xorneto', 'xranch', 'xray', 'xse', 'xshape', 'xstatix', 'xtermin', 'xternal', 'xtitl', 'xtreme', 'xudar', 'xue', 'xwing', 'xwomen', 'xxiii', 'xxiv', 'xxx', 'xzone', 'xí', 'y2k', 'yacht', 'yacker', 'yaga', 'yagzan', 'yahiko', 'yahweh', 'yakushi', 'yakuza', 'yamanaka', 'yamashiro', 'yamcha', 'yandroth', 'yang', 'yangsi', 'yangtz', 'yank', 'yann', 'yaofei', 'yar', 'yard', 'yarva', 'yashida', 'yat', 'yautja', 'yavanna', 'yavin', 'yawara', 'ye', 'year', 'year3', 'yearalthough', 'yearli', 'yearlong', 'yearn', 'yearold', 'yearsmonth', 'yearsold', 'yee', 'yelena', 'yell', 'yellow', 'yellowjacket', 'yellowring', 'yen', 'yesterday', 'yet', 'yeti', 'yetilik', 'yggdrasil', 'yield', 'yin', 'ying', 'yinsen', 'yinyang', 'ym', 'ymen', 'ymir', 'yod', 'yoda', 'yoga', 'yogi', 'yolk', 'yondaim', 'yondu', 'yonrogg', 'york', 'york29', 'yorkbas', 'yorkin', 'yoru', 'yoshi', 'yoshioka', 'you', 'youd', 'youll', 'young', 'youngblood', 'younger', 'youngest', 'younghunt', 'youngster', 'your', 'youth', 'youthey', 'youtub', 'youv', 'yoyo', 'ypre', 'ysmault', 'yuan', 'yuc', 'yuga', 'yugoslavian', 'yukio', 'yukon', 'yule', 'yuri', 'yuria', 'yuriko', 'yurrd', 'yuti', 'yuuzhan', 'yverdonm', 'yvett', 'yyou', 'z3079', 'z95', 'zabrak', 'zach', 'zaffer', 'zahgurim', 'zail', 'zair', 'zaitsev', 'zaladan', 'zam', 'zamaron', 'zamaronianpng', 'zambesi', 'zambesiborn', 'zander', 'zandia', 'zandt', 'zane', 'zaniac', 'zann', 'zano', 'zanzibar', 'zapper', 'zaran', 'zaratho', 'zarek', 'zarrko', 'zartra', 'zatanna', 'zatara', 'zath', 'zator', 'zauber', 'zauriel', 'zavok', 'zazz', 'zbuster', 'zciti', 'zead', 'zeal', 'zealand', 'zealot', 'zealou', 'zebediah', 'zebra', 'zed', 'zedd', 'zeena', 'zehoberei', 'zehuti', 'zeitkrieg', 'zeke', 'zelda', 'zemo', 'zemo22', 'zen', 'zenergi', 'zenn', 'zennla', 'zennon', 'zeno', 'zenwhoberi', 'zeraz', 'zero', 'zeroedit', 'zeromr', 'zeropoint', 'zeropos', 'zerosom', 'zeta', 'zetabeam', 'zeti', 'zeu', 'zeulniz', 'zeuss', 'zfighter', 'zhang', 'zhao', 'zharan', 'zheredna', 'zhutanian', 'zigzag', 'zik', 'zillo', 'zinco', 'zinda', 'znox', 'zoann', 'zod', 'zodiac', 'zoe', 'zohar', 'zoiray', 'zola', 'zolomon', 'zolomonzoom', 'zom', 'zoma', 'zombi', 'zombielik', 'zombifi', 'zomom', 'zonama', 'zone', 'zoner', 'zoo', 'zoolog', 'zoologist', 'zoom', 'zor', 'zoran', 'zorel', 'zorl', 'zota', 'zouma', 'zsaber', 'zsaji', 'zsasz', 'zucco', 'zuel', 'zuggernaut', 'zugir', 'zumac', 'zura', 'zurenarrh', 'zurrenarrh', 'zyx', 'zzzax', 'éowyn', 'ñoldor', 'ākādo', 'ďkidí', 'ōtsutsuki', 'ţepeş', 'ǣmortal', 'ˈnaɪəlɨ', 'Σ', 'ε', 'звезда', 'крылова', 'ланья', 'петровна', 'сергеевна', 'тёмная', 'الساحر', 'الغول', 'رأس', 'アーカード', '拳王', '駄犬']\n"
     ]
    }
   ],
   "source": [
    "tfidf_vect = TfidfVectorizer(analyzer=clean_history)\n",
    "X_tfidf = tfidf_vect.fit_transform(df['history_text'])\n",
    "print(X_tfidf.shape)\n",
    "print(tfidf_vect.get_feature_names())"
   ]
  },
  {
   "cell_type": "markdown",
   "metadata": {},
   "source": [
    "#### Vectorizers output sparse matrices\n",
    "\n",
    "_**Sparse Matrix**: A matrix in which most entries are 0. In the interest of efficient storage, a sparse matrix will be stored by only storing the locations of the non-zero elements._"
   ]
  },
  {
   "cell_type": "code",
   "execution_count": 10,
   "metadata": {
    "ExecuteTime": {
     "end_time": "2020-12-22T00:02:55.312723Z",
     "start_time": "2020-12-22T00:02:55.211813Z"
    }
   },
   "outputs": [
    {
     "data": {
      "text/html": [
       "<div>\n",
       "<style scoped>\n",
       "    .dataframe tbody tr th:only-of-type {\n",
       "        vertical-align: middle;\n",
       "    }\n",
       "\n",
       "    .dataframe tbody tr th {\n",
       "        vertical-align: top;\n",
       "    }\n",
       "\n",
       "    .dataframe thead th {\n",
       "        text-align: right;\n",
       "    }\n",
       "</style>\n",
       "<table border=\"1\" class=\"dataframe\">\n",
       "  <thead>\n",
       "    <tr style=\"text-align: right;\">\n",
       "      <th></th>\n",
       "      <th></th>\n",
       "      <th>0</th>\n",
       "      <th>002</th>\n",
       "      <th>0068</th>\n",
       "      <th>01</th>\n",
       "      <th>03</th>\n",
       "      <th>030</th>\n",
       "      <th>071</th>\n",
       "      <th>08</th>\n",
       "      <th>084</th>\n",
       "      <th>...</th>\n",
       "      <th>ланья</th>\n",
       "      <th>петровна</th>\n",
       "      <th>сергеевна</th>\n",
       "      <th>тёмная</th>\n",
       "      <th>الساحر</th>\n",
       "      <th>الغول</th>\n",
       "      <th>رأس</th>\n",
       "      <th>アーカード</th>\n",
       "      <th>拳王</th>\n",
       "      <th>駄犬</th>\n",
       "    </tr>\n",
       "  </thead>\n",
       "  <tbody>\n",
       "    <tr>\n",
       "      <th>0</th>\n",
       "      <td>0.000000</td>\n",
       "      <td>0.0</td>\n",
       "      <td>0.0</td>\n",
       "      <td>0.0</td>\n",
       "      <td>0.0</td>\n",
       "      <td>0.0</td>\n",
       "      <td>0.0</td>\n",
       "      <td>0.0</td>\n",
       "      <td>0.0</td>\n",
       "      <td>0.0</td>\n",
       "      <td>...</td>\n",
       "      <td>0.0</td>\n",
       "      <td>0.0</td>\n",
       "      <td>0.0</td>\n",
       "      <td>0.0</td>\n",
       "      <td>0.0</td>\n",
       "      <td>0.0</td>\n",
       "      <td>0.0</td>\n",
       "      <td>0.0</td>\n",
       "      <td>0.0</td>\n",
       "      <td>0.0</td>\n",
       "    </tr>\n",
       "    <tr>\n",
       "      <th>1</th>\n",
       "      <td>0.013703</td>\n",
       "      <td>0.0</td>\n",
       "      <td>0.0</td>\n",
       "      <td>0.0</td>\n",
       "      <td>0.0</td>\n",
       "      <td>0.0</td>\n",
       "      <td>0.0</td>\n",
       "      <td>0.0</td>\n",
       "      <td>0.0</td>\n",
       "      <td>0.0</td>\n",
       "      <td>...</td>\n",
       "      <td>0.0</td>\n",
       "      <td>0.0</td>\n",
       "      <td>0.0</td>\n",
       "      <td>0.0</td>\n",
       "      <td>0.0</td>\n",
       "      <td>0.0</td>\n",
       "      <td>0.0</td>\n",
       "      <td>0.0</td>\n",
       "      <td>0.0</td>\n",
       "      <td>0.0</td>\n",
       "    </tr>\n",
       "    <tr>\n",
       "      <th>2</th>\n",
       "      <td>0.000000</td>\n",
       "      <td>0.0</td>\n",
       "      <td>0.0</td>\n",
       "      <td>0.0</td>\n",
       "      <td>0.0</td>\n",
       "      <td>0.0</td>\n",
       "      <td>0.0</td>\n",
       "      <td>0.0</td>\n",
       "      <td>0.0</td>\n",
       "      <td>0.0</td>\n",
       "      <td>...</td>\n",
       "      <td>0.0</td>\n",
       "      <td>0.0</td>\n",
       "      <td>0.0</td>\n",
       "      <td>0.0</td>\n",
       "      <td>0.0</td>\n",
       "      <td>0.0</td>\n",
       "      <td>0.0</td>\n",
       "      <td>0.0</td>\n",
       "      <td>0.0</td>\n",
       "      <td>0.0</td>\n",
       "    </tr>\n",
       "    <tr>\n",
       "      <th>3</th>\n",
       "      <td>0.000000</td>\n",
       "      <td>0.0</td>\n",
       "      <td>0.0</td>\n",
       "      <td>0.0</td>\n",
       "      <td>0.0</td>\n",
       "      <td>0.0</td>\n",
       "      <td>0.0</td>\n",
       "      <td>0.0</td>\n",
       "      <td>0.0</td>\n",
       "      <td>0.0</td>\n",
       "      <td>...</td>\n",
       "      <td>0.0</td>\n",
       "      <td>0.0</td>\n",
       "      <td>0.0</td>\n",
       "      <td>0.0</td>\n",
       "      <td>0.0</td>\n",
       "      <td>0.0</td>\n",
       "      <td>0.0</td>\n",
       "      <td>0.0</td>\n",
       "      <td>0.0</td>\n",
       "      <td>0.0</td>\n",
       "    </tr>\n",
       "    <tr>\n",
       "      <th>4</th>\n",
       "      <td>0.000000</td>\n",
       "      <td>0.0</td>\n",
       "      <td>0.0</td>\n",
       "      <td>0.0</td>\n",
       "      <td>0.0</td>\n",
       "      <td>0.0</td>\n",
       "      <td>0.0</td>\n",
       "      <td>0.0</td>\n",
       "      <td>0.0</td>\n",
       "      <td>0.0</td>\n",
       "      <td>...</td>\n",
       "      <td>0.0</td>\n",
       "      <td>0.0</td>\n",
       "      <td>0.0</td>\n",
       "      <td>0.0</td>\n",
       "      <td>0.0</td>\n",
       "      <td>0.0</td>\n",
       "      <td>0.0</td>\n",
       "      <td>0.0</td>\n",
       "      <td>0.0</td>\n",
       "      <td>0.0</td>\n",
       "    </tr>\n",
       "  </tbody>\n",
       "</table>\n",
       "<p>5 rows × 21671 columns</p>\n",
       "</div>"
      ],
      "text/plain": [
       "               0  002  0068   01   03  030  071   08  084 ...   ланья  \\\n",
       "0  0.000000  0.0  0.0   0.0  0.0  0.0  0.0  0.0  0.0  0.0 ...     0.0   \n",
       "1  0.013703  0.0  0.0   0.0  0.0  0.0  0.0  0.0  0.0  0.0 ...     0.0   \n",
       "2  0.000000  0.0  0.0   0.0  0.0  0.0  0.0  0.0  0.0  0.0 ...     0.0   \n",
       "3  0.000000  0.0  0.0   0.0  0.0  0.0  0.0  0.0  0.0  0.0 ...     0.0   \n",
       "4  0.000000  0.0  0.0   0.0  0.0  0.0  0.0  0.0  0.0  0.0 ...     0.0   \n",
       "\n",
       "   петровна  сергеевна  тёмная  الساحر  الغول  رأس  アーカード   拳王   駄犬  \n",
       "0       0.0        0.0     0.0     0.0    0.0  0.0    0.0  0.0  0.0  \n",
       "1       0.0        0.0     0.0     0.0    0.0  0.0    0.0  0.0  0.0  \n",
       "2       0.0        0.0     0.0     0.0    0.0  0.0    0.0  0.0  0.0  \n",
       "3       0.0        0.0     0.0     0.0    0.0  0.0    0.0  0.0  0.0  \n",
       "4       0.0        0.0     0.0     0.0    0.0  0.0    0.0  0.0  0.0  \n",
       "\n",
       "[5 rows x 21671 columns]"
      ]
     },
     "execution_count": 10,
     "metadata": {},
     "output_type": "execute_result"
    }
   ],
   "source": [
    "X_tfidf_df = pd.DataFrame(X_tfidf.toarray())\n",
    "X_tfidf_df.columns = tfidf_vect.get_feature_names()\n",
    "X_tfidf_df.head()"
   ]
  },
  {
   "cell_type": "markdown",
   "metadata": {},
   "source": [
    "## Feature Engineering "
   ]
  },
  {
   "cell_type": "code",
   "execution_count": 11,
   "metadata": {
    "ExecuteTime": {
     "end_time": "2020-12-22T00:02:55.342382Z",
     "start_time": "2020-12-22T00:02:55.314708Z"
    }
   },
   "outputs": [
    {
     "data": {
      "text/html": [
       "<div>\n",
       "<style scoped>\n",
       "    .dataframe tbody tr th:only-of-type {\n",
       "        vertical-align: middle;\n",
       "    }\n",
       "\n",
       "    .dataframe tbody tr th {\n",
       "        vertical-align: top;\n",
       "    }\n",
       "\n",
       "    .dataframe thead th {\n",
       "        text-align: right;\n",
       "    }\n",
       "</style>\n",
       "<table border=\"1\" class=\"dataframe\">\n",
       "  <thead>\n",
       "    <tr style=\"text-align: right;\">\n",
       "      <th></th>\n",
       "      <th>name</th>\n",
       "      <th>history_text</th>\n",
       "      <th>creator</th>\n",
       "      <th>alignment</th>\n",
       "      <th>history_clean</th>\n",
       "      <th>history_len</th>\n",
       "    </tr>\n",
       "  </thead>\n",
       "  <tbody>\n",
       "    <tr>\n",
       "      <th>0</th>\n",
       "      <td>3-D Man</td>\n",
       "      <td>Delroy Garrett, Jr. grew up to become a track star and competed in the Olympic Games. After he t...</td>\n",
       "      <td>Marvel Comics</td>\n",
       "      <td>Good</td>\n",
       "      <td>[delroy, garrett, jr, grew, becom, track, star, compet, olymp, game, test, posit, steroid, lost,...</td>\n",
       "      <td>426</td>\n",
       "    </tr>\n",
       "    <tr>\n",
       "      <th>2</th>\n",
       "      <td>A-Bomb</td>\n",
       "      <td>Richard \"Rick\" Jones was orphaned at a young age, and after being expelled from several orphana...</td>\n",
       "      <td>Marvel Comics</td>\n",
       "      <td>Good</td>\n",
       "      <td>[, richard, rick, jone, orphan, young, age, expel, sever, orphanag, disciplinari, reason, place,...</td>\n",
       "      <td>4849</td>\n",
       "    </tr>\n",
       "    <tr>\n",
       "      <th>3</th>\n",
       "      <td>Aa</td>\n",
       "      <td>Aa is one of the more passive members of the Pumice People race of Stoneworld. When Hal Jordan a...</td>\n",
       "      <td>DC Comics</td>\n",
       "      <td>Good</td>\n",
       "      <td>[aa, one, passiv, member, pumic, peopl, race, stoneworld, hal, jordan, attempt, restart, green, ...</td>\n",
       "      <td>4933</td>\n",
       "    </tr>\n",
       "    <tr>\n",
       "      <th>4</th>\n",
       "      <td>Aaron Cash</td>\n",
       "      <td>Aaron Cash is the head of security at Arkham Asylum. He has a hook for a hand after his real han...</td>\n",
       "      <td>DC Comics</td>\n",
       "      <td>Good</td>\n",
       "      <td>[aaron, cash, head, secur, arkham, asylum, hook, hand, real, hand, eaten, killer, croc]</td>\n",
       "      <td>98</td>\n",
       "    </tr>\n",
       "    <tr>\n",
       "      <th>5</th>\n",
       "      <td>Aayla Secura</td>\n",
       "      <td>ayla Secura was a Rutian Twi'lek Jedi Knight (and onetime apprentice to Quinlan Vos) who served ...</td>\n",
       "      <td>George Lucas</td>\n",
       "      <td>Good</td>\n",
       "      <td>[ayla, secura, rutian, twilek, jedi, knight, onetim, apprentic, quinlan, vo, serv, clone, war, f...</td>\n",
       "      <td>637</td>\n",
       "    </tr>\n",
       "  </tbody>\n",
       "</table>\n",
       "</div>"
      ],
      "text/plain": [
       "           name  \\\n",
       "0       3-D Man   \n",
       "2        A-Bomb   \n",
       "3            Aa   \n",
       "4    Aaron Cash   \n",
       "5  Aayla Secura   \n",
       "\n",
       "                                                                                          history_text  \\\n",
       "0  Delroy Garrett, Jr. grew up to become a track star and competed in the Olympic Games. After he t...   \n",
       "2   Richard \"Rick\" Jones was orphaned at a young age, and after being expelled from several orphana...   \n",
       "3  Aa is one of the more passive members of the Pumice People race of Stoneworld. When Hal Jordan a...   \n",
       "4  Aaron Cash is the head of security at Arkham Asylum. He has a hook for a hand after his real han...   \n",
       "5  ayla Secura was a Rutian Twi'lek Jedi Knight (and onetime apprentice to Quinlan Vos) who served ...   \n",
       "\n",
       "         creator alignment  \\\n",
       "0  Marvel Comics      Good   \n",
       "2  Marvel Comics      Good   \n",
       "3      DC Comics      Good   \n",
       "4      DC Comics      Good   \n",
       "5   George Lucas      Good   \n",
       "\n",
       "                                                                                         history_clean  \\\n",
       "0  [delroy, garrett, jr, grew, becom, track, star, compet, olymp, game, test, posit, steroid, lost,...   \n",
       "2  [, richard, rick, jone, orphan, young, age, expel, sever, orphanag, disciplinari, reason, place,...   \n",
       "3  [aa, one, passiv, member, pumic, peopl, race, stoneworld, hal, jordan, attempt, restart, green, ...   \n",
       "4              [aaron, cash, head, secur, arkham, asylum, hook, hand, real, hand, eaten, killer, croc]   \n",
       "5  [ayla, secura, rutian, twilek, jedi, knight, onetim, apprentic, quinlan, vo, serv, clone, war, f...   \n",
       "\n",
       "   history_len  \n",
       "0          426  \n",
       "2         4849  \n",
       "3         4933  \n",
       "4           98  \n",
       "5          637  "
      ]
     },
     "execution_count": 11,
     "metadata": {},
     "output_type": "execute_result"
    }
   ],
   "source": [
    "df['history_len'] = df['history_text'].apply(lambda x: len(x) - x.count(\" \")) #subtracting whitespace\n",
    "df.head()"
   ]
  },
  {
   "cell_type": "code",
   "execution_count": 12,
   "metadata": {
    "ExecuteTime": {
     "end_time": "2020-12-22T00:02:56.238606Z",
     "start_time": "2020-12-22T00:02:55.803108Z"
    }
   },
   "outputs": [
    {
     "name": "stderr",
     "output_type": "stream",
     "text": [
      "/Users/amberyandow/anaconda3/envs/learn-env/lib/python3.6/site-packages/matplotlib/axes/_axes.py:6521: MatplotlibDeprecationWarning: \n",
      "The 'normed' kwarg was deprecated in Matplotlib 2.1 and will be removed in 3.1. Use 'density' instead.\n",
      "  alternative=\"'density'\", removal=\"3.1\")\n"
     ]
    },
    {
     "data": {
      "image/png": "[encoded data removed]",
      "text/plain": [
       "<Figure size 432x288 with 1 Axes>"
      ]
     },
     "metadata": {
      "needs_background": "light"
     },
     "output_type": "display_data"
    }
   ],
   "source": [
    "bins = np.linspace(0, 5000, 100)\n",
    "pyplot.hist(df[df['alignment'] == 'Good']['history_len'], bins, alpha=0.5, normed=True, label='Good')\n",
    "pyplot.hist(df[df['alignment'] == 'Bad']['history_len'], bins, alpha=0.5, normed=True, label='Bad')\n",
    "pyplot.legend(loc='upper right')\n",
    "pyplot.show()"
   ]
  },
  {
   "cell_type": "code",
   "execution_count": 13,
   "metadata": {
    "ExecuteTime": {
     "end_time": "2020-12-22T00:02:57.947961Z",
     "start_time": "2020-12-22T00:02:57.611607Z"
    }
   },
   "outputs": [
    {
     "data": {
      "text/html": [
       "<div>\n",
       "<style scoped>\n",
       "    .dataframe tbody tr th:only-of-type {\n",
       "        vertical-align: middle;\n",
       "    }\n",
       "\n",
       "    .dataframe tbody tr th {\n",
       "        vertical-align: top;\n",
       "    }\n",
       "\n",
       "    .dataframe thead th {\n",
       "        text-align: right;\n",
       "    }\n",
       "</style>\n",
       "<table border=\"1\" class=\"dataframe\">\n",
       "  <thead>\n",
       "    <tr style=\"text-align: right;\">\n",
       "      <th></th>\n",
       "      <th>name</th>\n",
       "      <th>history_text</th>\n",
       "      <th>creator</th>\n",
       "      <th>alignment</th>\n",
       "      <th>history_clean</th>\n",
       "      <th>history_len</th>\n",
       "      <th>percent_punct</th>\n",
       "    </tr>\n",
       "  </thead>\n",
       "  <tbody>\n",
       "    <tr>\n",
       "      <th>0</th>\n",
       "      <td>3-D Man</td>\n",
       "      <td>Delroy Garrett, Jr. grew up to become a track star and competed in the Olympic Games. After he t...</td>\n",
       "      <td>Marvel Comics</td>\n",
       "      <td>Good</td>\n",
       "      <td>[delroy, garrett, jr, grew, becom, track, star, compet, olymp, game, test, posit, steroid, lost,...</td>\n",
       "      <td>426</td>\n",
       "      <td>3.5</td>\n",
       "    </tr>\n",
       "    <tr>\n",
       "      <th>2</th>\n",
       "      <td>A-Bomb</td>\n",
       "      <td>Richard \"Rick\" Jones was orphaned at a young age, and after being expelled from several orphana...</td>\n",
       "      <td>Marvel Comics</td>\n",
       "      <td>Good</td>\n",
       "      <td>[, richard, rick, jone, orphan, young, age, expel, sever, orphanag, disciplinari, reason, place,...</td>\n",
       "      <td>4849</td>\n",
       "      <td>3.0</td>\n",
       "    </tr>\n",
       "    <tr>\n",
       "      <th>3</th>\n",
       "      <td>Aa</td>\n",
       "      <td>Aa is one of the more passive members of the Pumice People race of Stoneworld. When Hal Jordan a...</td>\n",
       "      <td>DC Comics</td>\n",
       "      <td>Good</td>\n",
       "      <td>[aa, one, passiv, member, pumic, peopl, race, stoneworld, hal, jordan, attempt, restart, green, ...</td>\n",
       "      <td>4933</td>\n",
       "      <td>3.0</td>\n",
       "    </tr>\n",
       "    <tr>\n",
       "      <th>4</th>\n",
       "      <td>Aaron Cash</td>\n",
       "      <td>Aaron Cash is the head of security at Arkham Asylum. He has a hook for a hand after his real han...</td>\n",
       "      <td>DC Comics</td>\n",
       "      <td>Good</td>\n",
       "      <td>[aaron, cash, head, secur, arkham, asylum, hook, hand, real, hand, eaten, killer, croc]</td>\n",
       "      <td>98</td>\n",
       "      <td>2.0</td>\n",
       "    </tr>\n",
       "    <tr>\n",
       "      <th>5</th>\n",
       "      <td>Aayla Secura</td>\n",
       "      <td>ayla Secura was a Rutian Twi'lek Jedi Knight (and onetime apprentice to Quinlan Vos) who served ...</td>\n",
       "      <td>George Lucas</td>\n",
       "      <td>Good</td>\n",
       "      <td>[ayla, secura, rutian, twilek, jedi, knight, onetim, apprentic, quinlan, vo, serv, clone, war, f...</td>\n",
       "      <td>637</td>\n",
       "      <td>2.2</td>\n",
       "    </tr>\n",
       "  </tbody>\n",
       "</table>\n",
       "</div>"
      ],
      "text/plain": [
       "           name  \\\n",
       "0       3-D Man   \n",
       "2        A-Bomb   \n",
       "3            Aa   \n",
       "4    Aaron Cash   \n",
       "5  Aayla Secura   \n",
       "\n",
       "                                                                                          history_text  \\\n",
       "0  Delroy Garrett, Jr. grew up to become a track star and competed in the Olympic Games. After he t...   \n",
       "2   Richard \"Rick\" Jones was orphaned at a young age, and after being expelled from several orphana...   \n",
       "3  Aa is one of the more passive members of the Pumice People race of Stoneworld. When Hal Jordan a...   \n",
       "4  Aaron Cash is the head of security at Arkham Asylum. He has a hook for a hand after his real han...   \n",
       "5  ayla Secura was a Rutian Twi'lek Jedi Knight (and onetime apprentice to Quinlan Vos) who served ...   \n",
       "\n",
       "         creator alignment  \\\n",
       "0  Marvel Comics      Good   \n",
       "2  Marvel Comics      Good   \n",
       "3      DC Comics      Good   \n",
       "4      DC Comics      Good   \n",
       "5   George Lucas      Good   \n",
       "\n",
       "                                                                                         history_clean  \\\n",
       "0  [delroy, garrett, jr, grew, becom, track, star, compet, olymp, game, test, posit, steroid, lost,...   \n",
       "2  [, richard, rick, jone, orphan, young, age, expel, sever, orphanag, disciplinari, reason, place,...   \n",
       "3  [aa, one, passiv, member, pumic, peopl, race, stoneworld, hal, jordan, attempt, restart, green, ...   \n",
       "4              [aaron, cash, head, secur, arkham, asylum, hook, hand, real, hand, eaten, killer, croc]   \n",
       "5  [ayla, secura, rutian, twilek, jedi, knight, onetim, apprentic, quinlan, vo, serv, clone, war, f...   \n",
       "\n",
       "   history_len  percent_punct  \n",
       "0          426            3.5  \n",
       "2         4849            3.0  \n",
       "3         4933            3.0  \n",
       "4           98            2.0  \n",
       "5          637            2.2  "
      ]
     },
     "execution_count": 13,
     "metadata": {},
     "output_type": "execute_result"
    }
   ],
   "source": [
    "def count_punct(text):\n",
    "    count = sum([1 for char in text if char in string.punctuation])\n",
    "    return round(count/(len(text) - text.count(\" \")), 3) * 100\n",
    "\n",
    "df['percent_punct'] = df['history_text'].apply(lambda x: count_punct(x))\n",
    "df.head()"
   ]
  },
  {
   "cell_type": "code",
   "execution_count": 14,
   "metadata": {
    "ExecuteTime": {
     "end_time": "2020-12-22T00:02:59.118601Z",
     "start_time": "2020-12-22T00:02:58.831202Z"
    }
   },
   "outputs": [
    {
     "name": "stderr",
     "output_type": "stream",
     "text": [
      "/Users/amberyandow/anaconda3/envs/learn-env/lib/python3.6/site-packages/matplotlib/axes/_axes.py:6521: MatplotlibDeprecationWarning: \n",
      "The 'normed' kwarg was deprecated in Matplotlib 2.1 and will be removed in 3.1. Use 'density' instead.\n",
      "  alternative=\"'density'\", removal=\"3.1\")\n"
     ]
    },
    {
     "data": {
      "image/png": "[encoded data removed]",
      "text/plain": [
       "<Figure size 432x288 with 1 Axes>"
      ]
     },
     "metadata": {
      "needs_background": "light"
     },
     "output_type": "display_data"
    }
   ],
   "source": [
    "bins = np.linspace(0, 10, 60)\n",
    "pyplot.hist(df[df['alignment'] == 'Good']['percent_punct'], bins, alpha=0.5, normed=True, label='Good')\n",
    "pyplot.hist(df[df['alignment'] == 'Bad']['percent_punct'], bins, alpha=0.5, normed=True, label='Bad')\n",
    "pyplot.legend(loc='upper right')\n",
    "pyplot.show()"
   ]
  },
  {
   "cell_type": "code",
   "execution_count": null,
   "metadata": {
    "ExecuteTime": {
     "end_time": "2020-12-21T21:35:17.099178Z",
     "start_time": "2020-12-21T21:35:16.936394Z"
    }
   },
   "outputs": [],
   "source": [
    "bins = np.linspace(0, 4000, 50)\n",
    "\n",
    "pyplot.hist(df['history_len'], bins)\n",
    "pyplot.title(\"History Length Distribution\")\n",
    "pyplot.show()"
   ]
  },
  {
   "cell_type": "code",
   "execution_count": null,
   "metadata": {
    "ExecuteTime": {
     "end_time": "2020-12-21T21:35:18.020500Z",
     "start_time": "2020-12-21T21:35:17.870491Z"
    }
   },
   "outputs": [],
   "source": [
    "bins = np.linspace(0, 10, 50)\n",
    "\n",
    "pyplot.hist(df['percent_punct'], bins)\n",
    "pyplot.title(\"History Length Distribution\")\n",
    "pyplot.show()"
   ]
  },
  {
   "cell_type": "code",
   "execution_count": null,
   "metadata": {
    "ExecuteTime": {
     "end_time": "2020-12-21T21:35:21.148396Z",
     "start_time": "2020-12-21T21:35:20.374629Z"
    }
   },
   "outputs": [],
   "source": [
    "for i in [1, 2, 3, 4, 5]:\n",
    "    pyplot.hist((df['history_len'])**(1/i), bins=50)\n",
    "    pyplot.title(\"Transformation: 1/{}\".format(str(i)))\n",
    "    pyplot.show()"
   ]
  },
  {
   "cell_type": "code",
   "execution_count": null,
   "metadata": {
    "ExecuteTime": {
     "end_time": "2020-12-21T21:35:24.751453Z",
     "start_time": "2020-12-21T21:35:24.747675Z"
    }
   },
   "outputs": [],
   "source": [
    "df['history_len'] = round(df['history_len']**(1/i), 2)"
   ]
  },
  {
   "cell_type": "code",
   "execution_count": null,
   "metadata": {
    "ExecuteTime": {
     "end_time": "2020-12-21T21:36:12.314899Z",
     "start_time": "2020-12-21T21:36:11.683995Z"
    }
   },
   "outputs": [],
   "source": [
    "X_tfidf_df.info()"
   ]
  },
  {
   "cell_type": "code",
   "execution_count": null,
   "metadata": {
    "ExecuteTime": {
     "end_time": "2020-12-21T21:39:48.484648Z",
     "start_time": "2020-12-21T21:39:47.942575Z"
    }
   },
   "outputs": [],
   "source": [
    "X = pd.concat([df['history_len'], df['percent_punct'], X_tfidf_df], axis=1)\n",
    "X.head()"
   ]
  },
  {
   "cell_type": "code",
   "execution_count": null,
   "metadata": {
    "ExecuteTime": {
     "end_time": "2020-12-21T21:40:02.942791Z",
     "start_time": "2020-12-21T21:40:02.373926Z"
    }
   },
   "outputs": [],
   "source": [
    "X.isna().sum()"
   ]
  },
  {
   "cell_type": "code",
   "execution_count": null,
   "metadata": {
    "ExecuteTime": {
     "end_time": "2020-12-21T21:43:59.343155Z",
     "start_time": "2020-12-21T21:43:56.633302Z"
    }
   },
   "outputs": [],
   "source": [
    "rf = RandomForestClassifier(n_jobs=-1)\n",
    "k_fold = KFold(n_splits=5)\n",
    "cross_val_score(rf, X_tfidf_df, df['alignment'], cv=k_fold, scoring='accuracy', n_jobs=-1)"
   ]
  },
  {
   "cell_type": "markdown",
   "metadata": {},
   "source": [
    "## RNNs \n",
    "\n",
    "#### TF-IDF\n",
    "\n",
    "![](https://image.slidesharecdn.com/9bc43139-1398-4c31-a9cf-ed08dd37ef13-150521205535-lva1-app6891/95/text-mining-association-rules-and-decision-tree-learning-26-638.jpg?cb=1432241853)\n",
    "\n",
    "#### Word-to-Vec\n",
    "![](https://cdn.analyticsvidhya.com/wp-content/uploads/2019/07/img_8.png)\n",
    "\n",
    "#### Recurrent Neural Networks \n",
    "![](https://www.nexmo.com/wp-content/uploads/2020/10/Recurrent-neural-network.png)"
   ]
  },
  {
   "cell_type": "code",
   "execution_count": null,
   "metadata": {},
   "outputs": [],
   "source": []
  }
 ],
 "metadata": {
  "kernelspec": {
   "display_name": "learn-env",
   "language": "python",
   "name": "learn-env"
  },
  "language_info": {
   "codemirror_mode": {
    "name": "ipython",
    "version": 3
   },
   "file_extension": ".py",
   "mimetype": "text/x-python",
   "name": "python",
   "nbconvert_exporter": "python",
   "pygments_lexer": "ipython3",
   "version": "3.6.6"
  },
  "toc": {
   "base_numbering": 1,
   "nav_menu": {},
   "number_sections": true,
   "sideBar": true,
   "skip_h1_title": true,
   "title_cell": "Table of Contents",
   "title_sidebar": "Contents",
   "toc_cell": false,
   "toc_position": {},
   "toc_section_display": true,
   "toc_window_display": false
  }
 },
 "nbformat": 4,
 "nbformat_minor": 2
}
