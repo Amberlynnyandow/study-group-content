{
 "cells": [
  {
   "cell_type": "markdown",
   "metadata": {},
   "source": [
    "# NLP Modeling \n",
    "\n",
    "1. Get your raw text into a pandas dataframe\n",
    "2. Tokenize the text - splitting a phrase, sentence, paragraph, or an entire text document into smaller units, such as individual words or terms. Each of these smaller units are called tokens. \n",
    "3. Clean the text - this includes removing stopwords, punctuation and stems or lemmatizing \n",
    "4. Vectorize the text - convert the text to numeric form \n",
    "5. Fit/train an ML and/or deep learning model \n"
   ]
  },
  {
   "cell_type": "code",
   "execution_count": 1,
   "metadata": {
    "ExecuteTime": {
     "end_time": "2021-01-07T20:10:17.368537Z",
     "start_time": "2021-01-07T20:10:16.243982Z"
    }
   },
   "outputs": [
    {
     "data": {
      "text/html": [
       "<div>\n",
       "<style scoped>\n",
       "    .dataframe tbody tr th:only-of-type {\n",
       "        vertical-align: middle;\n",
       "    }\n",
       "\n",
       "    .dataframe tbody tr th {\n",
       "        vertical-align: top;\n",
       "    }\n",
       "\n",
       "    .dataframe thead th {\n",
       "        text-align: right;\n",
       "    }\n",
       "</style>\n",
       "<table border=\"1\" class=\"dataframe\">\n",
       "  <thead>\n",
       "    <tr style=\"text-align: right;\">\n",
       "      <th></th>\n",
       "      <th>name</th>\n",
       "      <th>real_name</th>\n",
       "      <th>full_name</th>\n",
       "      <th>overall_score</th>\n",
       "      <th>history_text</th>\n",
       "      <th>powers_text</th>\n",
       "      <th>intelligence_score</th>\n",
       "      <th>strength_score</th>\n",
       "      <th>speed_score</th>\n",
       "      <th>durability_score</th>\n",
       "      <th>...</th>\n",
       "      <th>has_flight</th>\n",
       "      <th>has_accelerated_healing</th>\n",
       "      <th>has_weapons_master</th>\n",
       "      <th>has_intelligence</th>\n",
       "      <th>has_reflexes</th>\n",
       "      <th>has_super_speed</th>\n",
       "      <th>has_durability</th>\n",
       "      <th>has_stamina</th>\n",
       "      <th>has_agility</th>\n",
       "      <th>has_super_strength</th>\n",
       "    </tr>\n",
       "  </thead>\n",
       "  <tbody>\n",
       "    <tr>\n",
       "      <th>0</th>\n",
       "      <td>3-D Man</td>\n",
       "      <td>Delroy Garrett, Jr.</td>\n",
       "      <td>Delroy Garrett, Jr.</td>\n",
       "      <td>6</td>\n",
       "      <td>Delroy Garrett, Jr. grew up to become a track star and competed in the Olympic Games. After he t...</td>\n",
       "      <td>NaN</td>\n",
       "      <td>85</td>\n",
       "      <td>30</td>\n",
       "      <td>60</td>\n",
       "      <td>60</td>\n",
       "      <td>...</td>\n",
       "      <td>0.0</td>\n",
       "      <td>0.0</td>\n",
       "      <td>0.0</td>\n",
       "      <td>0.0</td>\n",
       "      <td>0.0</td>\n",
       "      <td>1.0</td>\n",
       "      <td>0.0</td>\n",
       "      <td>0.0</td>\n",
       "      <td>0.0</td>\n",
       "      <td>1.0</td>\n",
       "    </tr>\n",
       "    <tr>\n",
       "      <th>1</th>\n",
       "      <td>514A (Gotham)</td>\n",
       "      <td>Bruce Wayne</td>\n",
       "      <td>NaN</td>\n",
       "      <td>10</td>\n",
       "      <td>He was one of the many prisoners of Indian Hill to be transferred to another facility upstate on...</td>\n",
       "      <td>NaN</td>\n",
       "      <td>100</td>\n",
       "      <td>20</td>\n",
       "      <td>30</td>\n",
       "      <td>50</td>\n",
       "      <td>...</td>\n",
       "      <td>0.0</td>\n",
       "      <td>0.0</td>\n",
       "      <td>0.0</td>\n",
       "      <td>0.0</td>\n",
       "      <td>1.0</td>\n",
       "      <td>0.0</td>\n",
       "      <td>1.0</td>\n",
       "      <td>0.0</td>\n",
       "      <td>0.0</td>\n",
       "      <td>1.0</td>\n",
       "    </tr>\n",
       "    <tr>\n",
       "      <th>2</th>\n",
       "      <td>A-Bomb</td>\n",
       "      <td>Richard Milhouse Jones</td>\n",
       "      <td>Richard Milhouse Jones</td>\n",
       "      <td>20</td>\n",
       "      <td>Richard \"Rick\" Jones was orphaned at a young age, and after being expelled from several orphana...</td>\n",
       "      <td>On rare occasions, and through unusual circumstances, Jones has been able to tap into a myster...</td>\n",
       "      <td>80</td>\n",
       "      <td>100</td>\n",
       "      <td>80</td>\n",
       "      <td>100</td>\n",
       "      <td>...</td>\n",
       "      <td>0.0</td>\n",
       "      <td>1.0</td>\n",
       "      <td>0.0</td>\n",
       "      <td>0.0</td>\n",
       "      <td>1.0</td>\n",
       "      <td>1.0</td>\n",
       "      <td>1.0</td>\n",
       "      <td>1.0</td>\n",
       "      <td>1.0</td>\n",
       "      <td>1.0</td>\n",
       "    </tr>\n",
       "    <tr>\n",
       "      <th>3</th>\n",
       "      <td>Aa</td>\n",
       "      <td>Aa</td>\n",
       "      <td>NaN</td>\n",
       "      <td>12</td>\n",
       "      <td>Aa is one of the more passive members of the Pumice People race of Stoneworld. When Hal Jordan a...</td>\n",
       "      <td>NaN</td>\n",
       "      <td>80</td>\n",
       "      <td>50</td>\n",
       "      <td>55</td>\n",
       "      <td>45</td>\n",
       "      <td>...</td>\n",
       "      <td>0.0</td>\n",
       "      <td>0.0</td>\n",
       "      <td>0.0</td>\n",
       "      <td>0.0</td>\n",
       "      <td>0.0</td>\n",
       "      <td>0.0</td>\n",
       "      <td>0.0</td>\n",
       "      <td>0.0</td>\n",
       "      <td>0.0</td>\n",
       "      <td>0.0</td>\n",
       "    </tr>\n",
       "    <tr>\n",
       "      <th>4</th>\n",
       "      <td>Aaron Cash</td>\n",
       "      <td>Aaron Cash</td>\n",
       "      <td>Aaron Cash</td>\n",
       "      <td>5</td>\n",
       "      <td>Aaron Cash is the head of security at Arkham Asylum. He has a hook for a hand after his real han...</td>\n",
       "      <td>NaN</td>\n",
       "      <td>80</td>\n",
       "      <td>10</td>\n",
       "      <td>25</td>\n",
       "      <td>40</td>\n",
       "      <td>...</td>\n",
       "      <td>0.0</td>\n",
       "      <td>0.0</td>\n",
       "      <td>1.0</td>\n",
       "      <td>0.0</td>\n",
       "      <td>0.0</td>\n",
       "      <td>0.0</td>\n",
       "      <td>0.0</td>\n",
       "      <td>0.0</td>\n",
       "      <td>0.0</td>\n",
       "      <td>0.0</td>\n",
       "    </tr>\n",
       "  </tbody>\n",
       "</table>\n",
       "<p>5 rows × 81 columns</p>\n",
       "</div>"
      ],
      "text/plain": [
       "            name               real_name               full_name  \\\n",
       "0        3-D Man     Delroy Garrett, Jr.     Delroy Garrett, Jr.   \n",
       "1  514A (Gotham)             Bruce Wayne                     NaN   \n",
       "2         A-Bomb  Richard Milhouse Jones  Richard Milhouse Jones   \n",
       "3             Aa                      Aa                     NaN   \n",
       "4     Aaron Cash              Aaron Cash              Aaron Cash   \n",
       "\n",
       "  overall_score  \\\n",
       "0             6   \n",
       "1            10   \n",
       "2            20   \n",
       "3            12   \n",
       "4             5   \n",
       "\n",
       "                                                                                          history_text  \\\n",
       "0  Delroy Garrett, Jr. grew up to become a track star and competed in the Olympic Games. After he t...   \n",
       "1  He was one of the many prisoners of Indian Hill to be transferred to another facility upstate on...   \n",
       "2   Richard \"Rick\" Jones was orphaned at a young age, and after being expelled from several orphana...   \n",
       "3  Aa is one of the more passive members of the Pumice People race of Stoneworld. When Hal Jordan a...   \n",
       "4  Aaron Cash is the head of security at Arkham Asylum. He has a hook for a hand after his real han...   \n",
       "\n",
       "                                                                                           powers_text  \\\n",
       "0                                                                                                  NaN   \n",
       "1                                                                                                  NaN   \n",
       "2    On rare occasions, and through unusual circumstances, Jones has been able to tap into a myster...   \n",
       "3                                                                                                  NaN   \n",
       "4                                                                                                  NaN   \n",
       "\n",
       "   intelligence_score  strength_score  speed_score  durability_score  \\\n",
       "0                  85              30           60                60   \n",
       "1                 100              20           30                50   \n",
       "2                  80             100           80               100   \n",
       "3                  80              50           55                45   \n",
       "4                  80              10           25                40   \n",
       "\n",
       "         ...          has_flight  has_accelerated_healing has_weapons_master  \\\n",
       "0        ...                 0.0                      0.0                0.0   \n",
       "1        ...                 0.0                      0.0                0.0   \n",
       "2        ...                 0.0                      1.0                0.0   \n",
       "3        ...                 0.0                      0.0                0.0   \n",
       "4        ...                 0.0                      0.0                1.0   \n",
       "\n",
       "  has_intelligence has_reflexes has_super_speed has_durability has_stamina  \\\n",
       "0              0.0          0.0             1.0            0.0         0.0   \n",
       "1              0.0          1.0             0.0            1.0         0.0   \n",
       "2              0.0          1.0             1.0            1.0         1.0   \n",
       "3              0.0          0.0             0.0            0.0         0.0   \n",
       "4              0.0          0.0             0.0            0.0         0.0   \n",
       "\n",
       "  has_agility has_super_strength  \n",
       "0         0.0                1.0  \n",
       "1         0.0                1.0  \n",
       "2         1.0                1.0  \n",
       "3         0.0                0.0  \n",
       "4         0.0                0.0  \n",
       "\n",
       "[5 rows x 81 columns]"
      ]
     },
     "execution_count": 1,
     "metadata": {},
     "output_type": "execute_result"
    }
   ],
   "source": [
    "import numpy as np \n",
    "import pandas as pd \n",
    "pd.set_option('display.max_colwidth', 100)\n",
    "\n",
    "from matplotlib import pyplot\n",
    "import numpy as np\n",
    "%matplotlib inline\n",
    "\n",
    "import re\n",
    "import string\n",
    "import nltk\n",
    "\n",
    "from sklearn.feature_extraction.text import CountVectorizer\n",
    "from sklearn.feature_extraction.text import TfidfVectorizer\n",
    "\n",
    "from sklearn.ensemble import RandomForestClassifier\n",
    "from sklearn.model_selection import KFold, cross_val_score\n",
    "from sklearn.model_selection import train_test_split\n",
    "\n",
    "\n",
    "df = pd.read_csv(\"/Users/amberyandow/Downloads/superheroes_nlp_dataset.csv\")\n",
    "df.head()"
   ]
  },
  {
   "cell_type": "code",
   "execution_count": 2,
   "metadata": {
    "ExecuteTime": {
     "end_time": "2021-01-07T20:10:17.382256Z",
     "start_time": "2021-01-07T20:10:17.370231Z"
    }
   },
   "outputs": [
    {
     "name": "stdout",
     "output_type": "stream",
     "text": [
      "<class 'pandas.core.frame.DataFrame'>\n",
      "RangeIndex: 1450 entries, 0 to 1449\n",
      "Data columns (total 81 columns):\n",
      "name                                1448 non-null object\n",
      "real_name                           1301 non-null object\n",
      "full_name                           956 non-null object\n",
      "overall_score                       1450 non-null object\n",
      "history_text                        1360 non-null object\n",
      "powers_text                         1086 non-null object\n",
      "intelligence_score                  1450 non-null int64\n",
      "strength_score                      1450 non-null int64\n",
      "speed_score                         1450 non-null int64\n",
      "durability_score                    1450 non-null int64\n",
      "power_score                         1450 non-null int64\n",
      "combat_score                        1450 non-null int64\n",
      "superpowers                         1450 non-null object\n",
      "alter_egos                          1450 non-null object\n",
      "aliases                             1450 non-null object\n",
      "place_of_birth                      788 non-null object\n",
      "first_appearance                    1247 non-null object\n",
      "creator                             1311 non-null object\n",
      "alignment                           1368 non-null object\n",
      "occupation                          1014 non-null object\n",
      "base                                878 non-null object\n",
      "teams                               1450 non-null object\n",
      "relatives                           901 non-null object\n",
      "gender                              1305 non-null object\n",
      "type_race                           1043 non-null object\n",
      "height                              1448 non-null object\n",
      "weight                              1448 non-null object\n",
      "eye_color                           1186 non-null object\n",
      "hair_color                          1202 non-null object\n",
      "skin_color                          173 non-null object\n",
      "img                                 1363 non-null object\n",
      "has_electrokinesis                  1383 non-null float64\n",
      "has_energy_constructs               1383 non-null float64\n",
      "has_mind_control_resistance         1383 non-null float64\n",
      "has_matter_manipulation             1383 non-null float64\n",
      "has_telepathy_resistance            1383 non-null float64\n",
      "has_mind_control                    1383 non-null float64\n",
      "has_enhanced_hearing                1383 non-null float64\n",
      "has_dimensional_travel              1383 non-null float64\n",
      "has_element_control                 1383 non-null float64\n",
      "has_size_changing                   1383 non-null float64\n",
      "has_fire_resistance                 1383 non-null float64\n",
      "has_fire_control                    1383 non-null float64\n",
      "has_dexterity                       1383 non-null float64\n",
      "has_reality_warping                 1383 non-null float64\n",
      "has_illusions                       1383 non-null float64\n",
      "has_energy_beams                    1383 non-null float64\n",
      "has_peak_human_condition            1383 non-null float64\n",
      "has_shapeshifting                   1383 non-null float64\n",
      "has_heat_resistance                 1383 non-null float64\n",
      "has_jump                            1383 non-null float64\n",
      "has_self-sustenance                 1383 non-null float64\n",
      "has_energy_absorption               1383 non-null float64\n",
      "has_cold_resistance                 1383 non-null float64\n",
      "has_magic                           1383 non-null float64\n",
      "has_telekinesis                     1383 non-null float64\n",
      "has_toxin_and_disease_resistance    1383 non-null float64\n",
      "has_telepathy                       1383 non-null float64\n",
      "has_regeneration                    1383 non-null float64\n",
      "has_immortality                     1383 non-null float64\n",
      "has_teleportation                   1383 non-null float64\n",
      "has_force_fields                    1383 non-null float64\n",
      "has_energy_manipulation             1383 non-null float64\n",
      "has_endurance                       1383 non-null float64\n",
      "has_longevity                       1383 non-null float64\n",
      "has_weapon-based_powers             1383 non-null float64\n",
      "has_energy_blasts                   1383 non-null float64\n",
      "has_enhanced_senses                 1383 non-null float64\n",
      "has_invulnerability                 1383 non-null float64\n",
      "has_stealth                         1383 non-null float64\n",
      "has_marksmanship                    1383 non-null float64\n",
      "has_flight                          1383 non-null float64\n",
      "has_accelerated_healing             1383 non-null float64\n",
      "has_weapons_master                  1383 non-null float64\n",
      "has_intelligence                    1383 non-null float64\n",
      "has_reflexes                        1383 non-null float64\n",
      "has_super_speed                     1383 non-null float64\n",
      "has_durability                      1383 non-null float64\n",
      "has_stamina                         1383 non-null float64\n",
      "has_agility                         1383 non-null float64\n",
      "has_super_strength                  1383 non-null float64\n",
      "dtypes: float64(50), int64(6), object(25)\n",
      "memory usage: 917.7+ KB\n",
      "None\n"
     ]
    }
   ],
   "source": [
    "print(df.info())"
   ]
  },
  {
   "cell_type": "code",
   "execution_count": 3,
   "metadata": {
    "ExecuteTime": {
     "end_time": "2021-01-07T20:10:17.391135Z",
     "start_time": "2021-01-07T20:10:17.384201Z"
    }
   },
   "outputs": [
    {
     "data": {
      "text/html": [
       "<div>\n",
       "<style scoped>\n",
       "    .dataframe tbody tr th:only-of-type {\n",
       "        vertical-align: middle;\n",
       "    }\n",
       "\n",
       "    .dataframe tbody tr th {\n",
       "        vertical-align: top;\n",
       "    }\n",
       "\n",
       "    .dataframe thead th {\n",
       "        text-align: right;\n",
       "    }\n",
       "</style>\n",
       "<table border=\"1\" class=\"dataframe\">\n",
       "  <thead>\n",
       "    <tr style=\"text-align: right;\">\n",
       "      <th></th>\n",
       "      <th>name</th>\n",
       "      <th>history_text</th>\n",
       "      <th>creator</th>\n",
       "      <th>alignment</th>\n",
       "    </tr>\n",
       "  </thead>\n",
       "  <tbody>\n",
       "    <tr>\n",
       "      <th>0</th>\n",
       "      <td>3-D Man</td>\n",
       "      <td>Delroy Garrett, Jr. grew up to become a track star and competed in the Olympic Games. After he t...</td>\n",
       "      <td>Marvel Comics</td>\n",
       "      <td>Good</td>\n",
       "    </tr>\n",
       "    <tr>\n",
       "      <th>1</th>\n",
       "      <td>514A (Gotham)</td>\n",
       "      <td>He was one of the many prisoners of Indian Hill to be transferred to another facility upstate on...</td>\n",
       "      <td>DC Comics</td>\n",
       "      <td>NaN</td>\n",
       "    </tr>\n",
       "    <tr>\n",
       "      <th>2</th>\n",
       "      <td>A-Bomb</td>\n",
       "      <td>Richard \"Rick\" Jones was orphaned at a young age, and after being expelled from several orphana...</td>\n",
       "      <td>Marvel Comics</td>\n",
       "      <td>Good</td>\n",
       "    </tr>\n",
       "    <tr>\n",
       "      <th>3</th>\n",
       "      <td>Aa</td>\n",
       "      <td>Aa is one of the more passive members of the Pumice People race of Stoneworld. When Hal Jordan a...</td>\n",
       "      <td>DC Comics</td>\n",
       "      <td>Good</td>\n",
       "    </tr>\n",
       "    <tr>\n",
       "      <th>4</th>\n",
       "      <td>Aaron Cash</td>\n",
       "      <td>Aaron Cash is the head of security at Arkham Asylum. He has a hook for a hand after his real han...</td>\n",
       "      <td>DC Comics</td>\n",
       "      <td>Good</td>\n",
       "    </tr>\n",
       "  </tbody>\n",
       "</table>\n",
       "</div>"
      ],
      "text/plain": [
       "            name  \\\n",
       "0        3-D Man   \n",
       "1  514A (Gotham)   \n",
       "2         A-Bomb   \n",
       "3             Aa   \n",
       "4     Aaron Cash   \n",
       "\n",
       "                                                                                          history_text  \\\n",
       "0  Delroy Garrett, Jr. grew up to become a track star and competed in the Olympic Games. After he t...   \n",
       "1  He was one of the many prisoners of Indian Hill to be transferred to another facility upstate on...   \n",
       "2   Richard \"Rick\" Jones was orphaned at a young age, and after being expelled from several orphana...   \n",
       "3  Aa is one of the more passive members of the Pumice People race of Stoneworld. When Hal Jordan a...   \n",
       "4  Aaron Cash is the head of security at Arkham Asylum. He has a hook for a hand after his real han...   \n",
       "\n",
       "         creator alignment  \n",
       "0  Marvel Comics      Good  \n",
       "1      DC Comics       NaN  \n",
       "2  Marvel Comics      Good  \n",
       "3      DC Comics      Good  \n",
       "4      DC Comics      Good  "
      ]
     },
     "execution_count": 3,
     "metadata": {},
     "output_type": "execute_result"
    }
   ],
   "source": [
    "df = df[['name', 'history_text', 'creator', 'alignment']]\n",
    "df.head()"
   ]
  },
  {
   "cell_type": "code",
   "execution_count": 4,
   "metadata": {
    "ExecuteTime": {
     "end_time": "2021-01-07T20:10:17.442833Z",
     "start_time": "2021-01-07T20:10:17.393621Z"
    }
   },
   "outputs": [
    {
     "name": "stdout",
     "output_type": "stream",
     "text": [
      "<class 'pandas.core.frame.DataFrame'>\n",
      "Int64Index: 1167 entries, 0 to 1449\n",
      "Data columns (total 4 columns):\n",
      "name            1167 non-null object\n",
      "history_text    1167 non-null object\n",
      "creator         1167 non-null object\n",
      "alignment       1167 non-null object\n",
      "dtypes: object(4)\n",
      "memory usage: 45.6+ KB\n"
     ]
    }
   ],
   "source": [
    "df.dropna(inplace=True)\n",
    "df.info()"
   ]
  },
  {
   "cell_type": "code",
   "execution_count": 5,
   "metadata": {
    "ExecuteTime": {
     "end_time": "2021-01-07T20:10:17.451728Z",
     "start_time": "2021-01-07T20:10:17.445185Z"
    }
   },
   "outputs": [
    {
     "data": {
      "text/plain": [
       "Good       690\n",
       "Bad        383\n",
       "Neutral     94\n",
       "Name: alignment, dtype: int64"
      ]
     },
     "execution_count": 5,
     "metadata": {},
     "output_type": "execute_result"
    }
   ],
   "source": [
    "df.alignment.value_counts()"
   ]
  },
  {
   "cell_type": "markdown",
   "metadata": {},
   "source": [
    "## Create a pipeline to clean our text \n",
    "\n",
    "1. Remove punctuation\n",
    "2. Tokenization\n",
    "3. Remove stopwords\n",
    "4. Lemmatize/Stem"
   ]
  },
  {
   "cell_type": "code",
   "execution_count": 6,
   "metadata": {
    "ExecuteTime": {
     "end_time": "2021-01-07T20:10:17.459408Z",
     "start_time": "2021-01-07T20:10:17.453676Z"
    }
   },
   "outputs": [
    {
     "data": {
      "text/plain": [
       "'!\"#$%&\\'()*+,-./:;<=>?@[\\\\]^_`{|}~'"
      ]
     },
     "execution_count": 6,
     "metadata": {},
     "output_type": "execute_result"
    }
   ],
   "source": [
    "stopwords = nltk.corpus.stopwords.words('english')\n",
    "ps = nltk.PorterStemmer()\n",
    "wn = nltk.WordNetLemmatizer()\n",
    "string.punctuation"
   ]
  },
  {
   "cell_type": "code",
   "execution_count": 7,
   "metadata": {
    "ExecuteTime": {
     "end_time": "2021-01-07T20:10:21.922401Z",
     "start_time": "2021-01-07T20:10:17.461168Z"
    }
   },
   "outputs": [],
   "source": [
    "def clean_history(history):\n",
    "    history = \"\".join([word for word in history if word not in string.punctuation])\n",
    "    tokens = re.split('\\W+', history)\n",
    "    history = [wn.lemmatize(word) for word in tokens if word not in stopwords]\n",
    "    return history\n",
    "\n",
    "df['history_clean'] = df['history_text'].apply(lambda x: clean_history(x.lower()))\n",
    "\n"
   ]
  },
  {
   "cell_type": "code",
   "execution_count": 8,
   "metadata": {
    "ExecuteTime": {
     "end_time": "2021-01-07T20:10:21.936828Z",
     "start_time": "2021-01-07T20:10:21.926149Z"
    }
   },
   "outputs": [
    {
     "data": {
      "text/html": [
       "<div>\n",
       "<style scoped>\n",
       "    .dataframe tbody tr th:only-of-type {\n",
       "        vertical-align: middle;\n",
       "    }\n",
       "\n",
       "    .dataframe tbody tr th {\n",
       "        vertical-align: top;\n",
       "    }\n",
       "\n",
       "    .dataframe thead th {\n",
       "        text-align: right;\n",
       "    }\n",
       "</style>\n",
       "<table border=\"1\" class=\"dataframe\">\n",
       "  <thead>\n",
       "    <tr style=\"text-align: right;\">\n",
       "      <th></th>\n",
       "      <th>name</th>\n",
       "      <th>history_text</th>\n",
       "      <th>creator</th>\n",
       "      <th>alignment</th>\n",
       "      <th>history_clean</th>\n",
       "    </tr>\n",
       "  </thead>\n",
       "  <tbody>\n",
       "    <tr>\n",
       "      <th>0</th>\n",
       "      <td>3-D Man</td>\n",
       "      <td>Delroy Garrett, Jr. grew up to become a track star and competed in the Olympic Games. After he t...</td>\n",
       "      <td>Marvel Comics</td>\n",
       "      <td>Good</td>\n",
       "      <td>[delroy, garrett, jr, grew, become, track, star, competed, olympic, game, tested, positive, ster...</td>\n",
       "    </tr>\n",
       "    <tr>\n",
       "      <th>2</th>\n",
       "      <td>A-Bomb</td>\n",
       "      <td>Richard \"Rick\" Jones was orphaned at a young age, and after being expelled from several orphana...</td>\n",
       "      <td>Marvel Comics</td>\n",
       "      <td>Good</td>\n",
       "      <td>[, richard, rick, jones, orphaned, young, age, expelled, several, orphanage, disciplinary, reaso...</td>\n",
       "    </tr>\n",
       "    <tr>\n",
       "      <th>3</th>\n",
       "      <td>Aa</td>\n",
       "      <td>Aa is one of the more passive members of the Pumice People race of Stoneworld. When Hal Jordan a...</td>\n",
       "      <td>DC Comics</td>\n",
       "      <td>Good</td>\n",
       "      <td>[aa, one, passive, member, pumice, people, race, stoneworld, hal, jordan, attempted, restart, gr...</td>\n",
       "    </tr>\n",
       "    <tr>\n",
       "      <th>4</th>\n",
       "      <td>Aaron Cash</td>\n",
       "      <td>Aaron Cash is the head of security at Arkham Asylum. He has a hook for a hand after his real han...</td>\n",
       "      <td>DC Comics</td>\n",
       "      <td>Good</td>\n",
       "      <td>[aaron, cash, head, security, arkham, asylum, hook, hand, real, hand, eaten, killer, croc]</td>\n",
       "    </tr>\n",
       "    <tr>\n",
       "      <th>5</th>\n",
       "      <td>Aayla Secura</td>\n",
       "      <td>ayla Secura was a Rutian Twi'lek Jedi Knight (and onetime apprentice to Quinlan Vos) who served ...</td>\n",
       "      <td>George Lucas</td>\n",
       "      <td>Good</td>\n",
       "      <td>[ayla, secura, rutian, twilek, jedi, knight, onetime, apprentice, quinlan, vos, served, clone, w...</td>\n",
       "    </tr>\n",
       "  </tbody>\n",
       "</table>\n",
       "</div>"
      ],
      "text/plain": [
       "           name  \\\n",
       "0       3-D Man   \n",
       "2        A-Bomb   \n",
       "3            Aa   \n",
       "4    Aaron Cash   \n",
       "5  Aayla Secura   \n",
       "\n",
       "                                                                                          history_text  \\\n",
       "0  Delroy Garrett, Jr. grew up to become a track star and competed in the Olympic Games. After he t...   \n",
       "2   Richard \"Rick\" Jones was orphaned at a young age, and after being expelled from several orphana...   \n",
       "3  Aa is one of the more passive members of the Pumice People race of Stoneworld. When Hal Jordan a...   \n",
       "4  Aaron Cash is the head of security at Arkham Asylum. He has a hook for a hand after his real han...   \n",
       "5  ayla Secura was a Rutian Twi'lek Jedi Knight (and onetime apprentice to Quinlan Vos) who served ...   \n",
       "\n",
       "         creator alignment  \\\n",
       "0  Marvel Comics      Good   \n",
       "2  Marvel Comics      Good   \n",
       "3      DC Comics      Good   \n",
       "4      DC Comics      Good   \n",
       "5   George Lucas      Good   \n",
       "\n",
       "                                                                                         history_clean  \n",
       "0  [delroy, garrett, jr, grew, become, track, star, competed, olympic, game, tested, positive, ster...  \n",
       "2  [, richard, rick, jones, orphaned, young, age, expelled, several, orphanage, disciplinary, reaso...  \n",
       "3  [aa, one, passive, member, pumice, people, race, stoneworld, hal, jordan, attempted, restart, gr...  \n",
       "4           [aaron, cash, head, security, arkham, asylum, hook, hand, real, hand, eaten, killer, croc]  \n",
       "5  [ayla, secura, rutian, twilek, jedi, knight, onetime, apprentice, quinlan, vos, served, clone, w...  "
      ]
     },
     "execution_count": 8,
     "metadata": {},
     "output_type": "execute_result"
    }
   ],
   "source": [
    "df.head()"
   ]
  },
  {
   "cell_type": "markdown",
   "metadata": {},
   "source": [
    "## Vectorizing History Text: TF-IDF"
   ]
  },
  {
   "cell_type": "code",
   "execution_count": 9,
   "metadata": {
    "ExecuteTime": {
     "end_time": "2021-01-07T20:10:25.428205Z",
     "start_time": "2021-01-07T20:10:21.939188Z"
    }
   },
   "outputs": [
    {
     "name": "stdout",
     "output_type": "stream",
     "text": [
      "(1167, 33977)\n",
      "['', '0', '002', '0068', '01', '03', '030', '071', '08', '084', '09', '1', '10', '100', '1000', '10000', '100000', '1000000', '1000000000', '100feet', '100thfloor', '100year', '101', '1014', '103', '105', '107th', '1090', '10ft', '10th', '10yearold', '11', '1165', '117', '118', '1191', '11th', '11yearold', '12', '120', '1200', '12000', '121', '122', '1257', '12th', '13', '132', '1383', '13foot', '13th', '14', '1400', '1417', '142', '145', '1459', '1476', '1479', '14yearsold', '15', '150', '1500', '15000', '1503', '1513', '152', '1524', '154600706', '1576', '1591', '15yearold', '16', '1600s', '1602', '1610', '1630', '1666', '167', '168', '1691', '1692', '1698', '16bit', '16th', '17', '170000', '170000Year', '1748', '1792', '1797', '17th', '17thcentury', '18', '18000', '1800s', '180degree', '180lbs', '1820s', '183', '1839', '183rd', '1854', '1860s', '1865', '1868', '1872', '1873', '1880', '1880s', '1882', '1888', '1890s', '1892', '1895', '1897', '1899', '18th', '19', '1900s', '1901', '1902', '1908', '1910', '1910s', '1912', '1913', '1914', '1915', '1916', '1917', '1920', '1920and', '1920s', '1920x1200', '1921', '1925', '1926', '1928', '1929', '1930', '1930s', '1932', '1933', '1934', '1935', '1936', '1937', '1938', '1939', '1940', '1940s', '1941', '1941when', '1942', '1943', '1944', '1945', '1946', '1947', '1948', '194858', '1949', '1950s', '1951', '1952', '1953', '1954', '1955', '1956', '1957', '1958', '1959', '195s', '1960', '1960s', '1961', '1962', '1963', '1964', '1965', '1967', '1967s', '1968', '1969', '1970', '1970s', '1971', '1972', '1973', '1974', '1975', '1976', '1977', '1978', '1979', '198', '1980s', '1981', '1982', '1983', '1984', '1985', '1986', '1987', '1988', '1989', '1990s', '1991', '1992', '1993', '1995', '1996', '19961997', '1997', '1998', '19982003', '1999', '199X', '19th', '1After', '1P', '1jpg', '1st', '2', '20', '200', '2000', '20000', '200000', '2000s', '2001', '2002', '2003', '20032009', '2004', '2005', '2005hbi', '2006', '2006Edit', '2007', '2009', '2010', '2010s', '2011', '2012', '2012hbi', '2013', '2014', '2015', '2016', '20160622', '2017', '2018', '2020', '2023', '2027', '2029', '2044', '206', '2091', '2099', '20th', '21', '210', '2151', '2166', '21XX', '21st', '22', '221B', '2256', '22nd', '23', '2336', '2338', '2341', '2345', '2348', '2360', '23rd', '24', '240', '242', '245000', '246', '2463', '25', '250', '25th', '26', '27', '2730', '276', '27th', '28000', '281', '2813', '2814', '2828', '29', '2920', '2930', '2931', '2950', '297', '29th', '2Edit', '2hbi', '2nd', '3', '30', '300', '3000', '300story', '300th', '3019', '3035', '3052', '30th', '31st', '32', '3235', '327th', '3306', '34', '343', '344', '34th', '3500', '35000', '35th', '36', '3601', '360degree', '3653', '366', '369', '3952', '3D', '3Edit', '3X29YZ4A', '3hbi', '4', '40', '400', '4000', '40000', '40th', '40thcentury', '41', '42', '42nd', '43', '438', '44', '45', '450', '459', '45s', '46', '48', '489', '49', '4Edit', '4th', '4x4', '5', '50', '500', '5000', '50000000', '50State', '51', '52', '520', '53', '54', '544', '56', '5882', '5dimensional', '5th', '6', '60', '600', '60searly', '615', '616', '616s', '617', '62', '62Diana', '63', '63100', '64000', '64th', '65', '650', '657', '66', '666', '6700', '6th', '7', '70', '700', '7000', '72', '72Diana', '73', '74', '75', '75th', '76', '7677', '7734', '7Eleven', '7th', '8', '80', '800', '80hour', '82', '83', '850', '85300', '853rd', '879', '88', '89100', '893', '89P13', '8bit', '8th', '9', '90', '900', '9000000000', '9010', '904', '908', '91', '910', '911', '914', '95', '97', '98', '99', '99minute', '9However', '9th', 'A', 'AAB', 'ABIS', 'ABY', 'ABomb', 'AC', 'ACP', 'AChiltarians', 'AClass', 'AD', 'ADA', 'ADAM', 'ADaire', 'AHARD1', 'AI', 'AIDS', 'AIM', 'AIMs', 'AIs', 'AJ', 'AKA', 'ALL', 'ALars', 'AM', 'AMAZO', 'AMKA', 'ARGUS', 'ARK', 'AS', 'ASIS', 'ASai', 'ASais', 'ATCU', 'ATM', 'ATOM', 'AWC', 'Aa', 'Aakon', 'Aan', 'Aaron', 'Aaronson', 'Aas', 'Abandoned', 'Abandoning', 'Abandonment', 'Abattoir', 'Abbatoir', 'Abbott', 'Abby', 'Abbys', 'Abccd', 'Abcess', 'Abdol', 'Abdols', 'Abe', 'Abel', 'Abeloth', 'Aberforth', 'Abes', 'Abigail', 'Abilisk', 'Abilities', 'Ability', 'Abin', 'Abins', 'Abira', 'Able', 'Ablo', 'Abner', 'Aboard', 'Abominable', 'Abomination', 'Abominations', 'Abonsam', 'About', 'Above', 'Abra', 'Abraham', 'Abrahamic', 'Abraxas', 'Absconding', 'Absolute', 'Absorbing', 'Absorption', 'Abu', 'Abuse', 'Abyss', 'Academy', 'Acanti', 'Acceding', 'Accepting', 'Accessing', 'Accidentally', 'Accompanied', 'Accompanying', 'According', 'Accordingly', 'Accords', 'Accounts', 'Accursed', 'Accuser', 'Ace', 'Achebes', 'Acheron', 'Achille', 'Achilles', 'Achmed', 'Acidia', 'Aclin', 'Acolyte', 'Acolytes', 'Acorn', 'Acropolis', 'Across', 'Act', 'Acting', 'Action', 'Activating', 'Activities', 'Actor', 'Acts', 'Actually', 'Actuator', 'AdMs', 'Ada', 'Adam', 'Adamantium', 'Adamantiumlaced', 'Adams', 'Adaptoid', 'Adaptold', 'Added', 'Adder', 'Adding', 'Additionally', 'Adeline', 'Adelines', 'Adg', 'Adhering', 'Adhesive', 'Adirondack', 'Adler', 'Administration', 'AdministrationLex', 'Admiral', 'Adolf', 'Adopting', 'Adrian', 'Adriana', 'Adrianna', 'Adriannas', 'Adrienne', 'Adult', 'Advance', 'Advanced', 'Advancehbi', 'Advent', 'Advents', 'Adventure', 'AdventureEdit', 'Adventurehbi', 'Adventures', 'Adversary', 'Advertisement', 'Advisor', 'Aegaeon', 'Aegis', 'Aelfyre', 'Aelkh', 'Aentaros', 'Aeona', 'Aerie', 'Aero', 'Aeronautical', 'Aerospace', 'Aerys', 'Aesir', 'Aether', 'Aetherpronounced', 'Affair', 'Affairs', 'Affected', 'Affiliation', 'Afghani', 'Afghanistan', 'Afraid', 'Africa', 'African', 'AfricanAmerican', 'AfricanAmericans', 'After', 'Afterimage', 'Afterlife', 'Aftershock', 'Afterward', 'Afterwards', 'Afterwhich', 'Afterwords', 'Aftewards', 'Again', 'Against', 'Againwhich', 'Agamemno', 'Agamemnon', 'Agamotto', 'Agarashima', 'Agartha', 'Agatha', 'Age', 'Agemotto', 'Agency', 'Agenda', 'Agendas', 'Agent', 'Agents', 'Agers', 'Ages', 'Aggamon', 'Agon', 'Agony', 'Agreeing', 'Agricultural', 'Agua', 'Aguila', 'Agwel', 'Ahab', 'AhchTo', 'Ahkton', 'Ahktons', 'Ahmet', 'Aickman', 'Aida', 'Aidas', 'Aided', 'Aiguille', 'AileVent', 'Aiming', 'Ainet', 'Ainur', 'Air', 'AirWalker', 'Airborne', 'Aircraft', 'Airi', 'Airmen', 'Airport', 'Airways', 'Ajax', 'Ajaxs', 'AkVar', 'Akahiro', 'Akator', 'Akatsuki', 'Akiba', 'Akihira', 'Akihiro', 'Akiko', 'Akikos', 'Akira', 'Akiras', 'Akita', 'Akkaba', 'Akkabas', 'Al', 'Alabama', 'Aladon', 'Alamogordo', 'Alamos', 'Alan', 'Alani', 'Alanis', 'Alanna', 'Alas', 'Alaska', 'Alaskan', 'Alaskanbased', 'Alastair', 'Albany', 'Albatross', 'Albeit', 'Albert', 'Alberta', 'Alberto', 'Albus', 'Alcatraz', 'Alchemax', 'Alchemaxs', 'Alchemy', 'Alcoholics', 'Alderaan', 'Aldo', 'Aldrich', 'Aldrif', 'Aldus', 'Alec', 'Alecs', 'Alecto', 'Aleister', 'Alejandra', 'Aleksander', 'Aleksei', 'Alekseis', 'Alert', 'Alerts', 'Aletheia', 'Aletheias', 'Alex', 'Alexander', 'Alexanders', 'Alexandra', 'Alexandre', 'Alexandria', 'Alexandrova', 'Alexi', 'Alexia', 'Alexs', 'Alf', 'Alfeo', 'Alfred', 'Alfreds', 'Algeria', 'Algrim', 'Ali', 'Alia', 'Alias', 'Aliases', 'Alice', 'Alicia', 'Alien', 'Alienated', 'Alignment', 'Alioth', 'Alison', 'Alisons', 'Alistaire', 'Aliya', 'Alkali', 'Alkhema', 'All', 'AllAmerican', 'AllDifferent', 'AllEnding', 'AllFather', 'AllGod', 'AllNew', 'AllStar', 'AllStars', 'AllWinners', 'Allan', 'Allatou', 'Allatous', 'Allegedly', 'Allegra', 'Allen', 'AllenThawne', 'AllenThe', 'Allens', 'Allerdyce', 'Alley', 'Alliance', 'AllianceHe', 'Alliances', 'Allied', 'Allies', 'Allison', 'Allowing', 'Allred', 'Allsion', 'Allura', 'Alluras', 'Allying', 'Almanian', 'Almerac', 'Almeracs', 'Almost', 'Alomar', 'AlonGin', 'Alone', 'Along', 'Alongside', 'Alonzo', 'Aloysius', 'Alpha', 'Alphans', 'Alphonso', 'Alps', 'Alqualondë', 'Alraune', 'Alraunes', 'Already', 'Als', 'Alsibar', 'Also', 'Altamonte', 'Altar', 'Altaïr', 'Alternate', 'Alternative', 'Alternatively', 'Althea', 'Although', 'Altin', 'Alucard', 'Alura', 'Aluras', 'Alveus', 'Alvin', 'Always', 'Alyosha', 'Alzheimer', 'Alzheimers', 'Alís', 'Am', 'Amadeus', 'Amahl', 'Amalgam', 'Aman', 'Amanda', 'Amans', 'Amanwe', 'Amaquelin', 'AmatsuMikaboshi', 'Amaya', 'Amazed', 'Amazing', 'Amazingly', 'Amazo', 'Amazon', 'AmazonAtlantean', 'Amazonian', 'Amazons', 'Amazonsbut', 'Amazos', 'Amber', 'Ambitious', 'Ambra', 'Ambur', 'Ambush', 'Ambushed', 'Ambushing', 'Amegakure', 'Amelia', 'Amendment', 'Amenhotep', 'AmerTek', 'AmerTeks', 'America', 'America14', 'America2', 'American', 'Americanbased', 'Americans', 'Americas', 'Amethyst', 'Amiba', 'Amid', 'Amidala', 'Amidst', 'Amik', 'Amiko', 'Amikos', 'Amir', 'Ammo', 'Ammor', 'Ammos', 'Amnesty', 'Amon', 'Among', 'Amons', 'Amora', 'Amoras', 'Amore', 'Amores', 'Amos', 'Amras', 'Amrod', 'Amsterdam', 'Amulet', 'Amundsen', 'Amusement', 'Amy', 'Amygdala', 'Amys', 'An', 'Ana', 'Anachronauts', 'Anaconda', 'Anahid', 'Anakin', 'Analysis', 'Analyzer', 'Analyzing', 'Anansi', 'Anarky', 'Anarkys', 'Anastas', 'Anatoli', 'Anbu', 'Anchorage', 'Ancient', 'Ancients', 'And', 'Anders', 'Anderson', 'Anderssen', 'Andes', 'Ando', 'Andor', 'Andrea', 'Andreas', 'Andrew', 'Andrews', 'Android', 'Andromeda', 'Andy', 'Andys', 'Angar', 'Angband', 'Angel', 'Angela', 'Angelas', 'Angeles', 'Angelface', 'Angelic', 'Angelica', 'Angelicas', 'Angelo', 'Angels', 'Angelus', 'Angered', 'Angle', 'Anglia', 'Angmar', 'Angmo', 'Angrily', 'Angry', 'Angstrom', 'Angstroms', 'Anguished', 'AniMate', 'AniMates', 'AniMator', 'AniMen', 'Anihiluss', 'Aniihilus', 'Anima', 'Animal', 'Animals', 'Animated', 'Animator', 'Aningan', 'Ankh', 'Ann', 'Anna', 'Annalee', 'Annataz', 'Anne', 'Annette', 'Annex', 'Annexation', 'Annie', 'Annies', 'Annihilating', 'Annihilation', 'Annihilator', 'Annihilators', 'Annihilus', 'Annoyed', 'Anns', 'Annual', 'Annunake', 'Annunaki', 'Anomaly', 'Anonymous', 'Anor', 'Another', 'Anskar', 'AntMan', 'Antagon', 'Antarctic', 'Antarctica', 'Anthiteses', 'Anthony', 'Anthro', 'Anthropomorpho', 'AntiCap', 'AntiDemon', 'AntiLife', 'AntiMatter', 'AntiMonitor', 'AntiMonitorTthe', 'AntiMonitors', 'AntiMutant', 'AntiNew', 'AntiSigma', 'AntiSpawn', 'AntiTerrorism', 'AntiTitans', 'AntiUmbrella', 'AntiVenoms', 'Antibody', 'Antichrist', 'Antiguo', 'Antimatter', 'Antimuse', 'Antiope', 'Antiopes', 'Antiquities', 'Antithesis', 'Antoinette', 'Anton', 'Antonio', 'Antons', 'Anu', 'Anubis', 'Anung', 'Anvil', 'Anvils', 'Anwar', 'Any', 'Anya', 'AoA', 'Apache', 'Apaches', 'Ape', 'ApeMan', 'Aphrodite', 'Apocalypse', 'Apocalypses', 'Apokolips', 'Apokolipsthe', 'Apokoliptian', 'Apokoliptic', 'Apollo', 'Apollos', 'Apostle', 'Apostles', 'Apotos', 'App', 'Appalled', 'Apparates', 'Apparently', 'Appearance', 'Appellaxians', 'Applaxians', 'Apple', 'Applegate', 'Appleton', 'Appreciating', 'Apprehended', 'Appropriating', 'Approximately', 'Aprhodite', 'April', 'Aqua', 'Aquababy', 'Aquababys', 'Aquacave', 'Aquadog', 'Aquagirl', 'Aqualad', 'Aquaman', 'Aquamans', 'Aquaria', 'Aquarian', 'Aquarium', 'Aquatic', 'Aquawar', 'Aqueos', 'Aquista', 'Aquistas', 'Aquon', 'Arab', 'Arabian', 'Arabic', 'Arabs', 'Aracely', 'Arachnaughts', 'Arachne', 'Aragorn', 'Aragoth', 'Araki', 'Aramilla', 'Arataz', 'Arathaza', 'Arathorn', 'Araña', 'Arbiter', 'Arbogast', 'Arby', 'Arc', 'Arcade', 'Arcades', 'Arcadia', 'Arcadian', 'Arcadians', 'Arcadias', 'Arcane', 'Arcanes', 'Archangel', 'Archangels', 'Archenemy', 'Archer', 'Archie', 'Archimedes', 'Archives', 'Arclight', 'Arcology', 'Arctic', 'Arcturus', 'Arda', 'Ardeen', 'Ardina', 'Are', 'Area', 'Areas', 'Arena', 'Ares', 'AresBefore', 'AresDonna', 'Aresevil', 'Aress', 'Argent', 'Argentina', 'Argo', 'Argonauts', 'Argor', 'Argosy', 'Arguably', 'Arguing', 'Ari', 'Ariana', 'Arianna', 'Ariel', 'Ariels', 'Arin', 'Arins', 'Arion', 'Aris', 'Arisen', 'Arishem', 'Arisia', 'Aristotle', 'Arize', 'Arizecreated', 'Arizona', 'Ark', 'Arkadin', 'Arkady', 'Arkham', 'Arkhamites', 'Arkhams', 'Arkillo', 'Arkillos', 'Arklay', 'Arkon', 'Arks', 'Arlington', 'Arm', 'Armadillo', 'Armageddon', 'Armagh', 'Armaments', 'Armand', 'Armando', 'Armbruster', 'Armbrusters', 'Armed', 'Armenian', 'Armitage', 'Armivolkoff', 'Armor', 'Armored', 'Armorer', 'Armorlike', 'Armorr', 'Armory', 'Armour', 'Arms', 'ArmsTech', 'Armstrong', 'ArmstrongNow', 'Armstrongs', 'Army', 'Armys', 'Arnim', 'Arno', 'Arnold', 'Arnolds', 'Arnor', 'Arnos', 'Arnus', 'Aron', 'Arondight', 'Arons', 'Around', 'Arrested', 'Arrivalsonic', 'Arrived', 'Arriving', 'Arrogantly', 'Arrow', 'ArrowBlack', 'Arrowcave', 'Arrowette', 'Arrows', 'Arroyo', 'Arryn', 'Arsenal', 'Arsenals', 'Art', 'Artemis', 'Artemison', 'Artemiss', 'Arthros', 'Arthur', 'Arthurs', 'Artic', 'Artie', 'Artificial', 'Artoo', 'Arts', 'ArtysGran', 'ArtysGrans', 'Aryan', 'As', 'Ascended', 'Ascension', 'Asgard', 'Asgardian', 'Asgardians', 'Asgards', 'Ash', 'Ashake', 'Ashalanti', 'Ashamed', 'Ashara', 'Ashbury', 'Ashe', 'Ashema', 'Ashes', 'Ashfordowned', 'Ashfords', 'Ashley', 'Ashleys', 'Ashwood', 'Asia', 'Asian', 'Asias', 'Askani', 'AskaniSon', 'Askari', 'Askew', 'Asking', 'Asmodeus', 'Asmund', 'Asp', 'Asparagus', 'Asquith', 'Assassin', 'Assassins', 'Assault', 'Assembly', 'Assigned', 'Assistant', 'Associates', 'Association', 'Assuming', 'Astaroth', 'Asteroid', 'Asteroth', 'Astirh', 'Astonishingly', 'Astra', 'Astral', 'Astrild', 'Astrilds', 'Astronomy', 'Astrovic', 'Astrovik', 'Asuka', 'Asuma', 'Asylum', 'AsylumAmygdala', 'AsylumSome', 'At', 'Ater', 'Athena', 'Athenas', 'Athenian', 'Athletic', 'Atillan', 'Atlan', 'Atlanna', 'Atlanson', 'Atlanta', 'Atlantean', 'AtlanteanAmazon', 'Atlanteans', 'Atlanterra', 'Atlantic', 'Atlantis', 'Atlantiss', 'Atlas', 'Atlasdecides', 'Atlass', 'Atlena', 'Atleza', 'Atom', 'AtomSmasher', 'AtomSmashers', 'Atomic', 'Atomica', 'Atoms', 'Aton', 'Atop', 'Atrocitus', 'Atrocituss', 'Atsuko', 'Attack', 'Attacked', 'Attacking', 'Attacks', 'Attaining', 'Attempting', 'Attendant', 'Attending', 'Attention', 'Attilan', 'Attilans', 'Attorney', 'Attorneys', 'Attracted', 'Attuma', 'Attumas', 'Aubrey', 'Aubreys', 'Auditore', 'Audmilla', 'Aug', 'August', 'Auguste', 'Augustine', 'Augustyne', 'Aulin', 'Aulë', 'Aunt', 'Auntie', 'Aurans', 'Auron', 'Aurora', 'Auroras', 'Aurra', 'Auschwitz', 'Austin', 'Australia', 'Australian', 'Australians', 'Austria', 'Austrian', 'Authority', 'Autobots', 'Autopsy', 'Autumn', 'Autumns', 'Availing', 'Avalanche', 'Avalanches', 'Avalon', 'Avalons', 'Avarrish', 'Avatar', 'Avatars', 'Avathar', 'Ave', 'Avenger', 'Avengers', 'AvengersDefenders', 'AvengersHAMMER', 'AvengersShe', 'AvengersXMen', 'Avenges', 'Avenging', 'Avenues', 'Avernus', 'Avery', 'Avia', 'Aviles', 'Avnegers', 'Avram', 'Avril', 'Awakened', 'Awakening', 'Aware', 'Awareness', 'Awed', 'Awesome', 'Axe', 'Axel', 'Axell', 'Axeman', 'Axis', 'Axiscreated', 'Axl', 'Axlon', 'Axlons', 'Axls', 'Axmans', 'AxonnKarr', 'Aydin', 'Ayesha', 'Ayla', 'Aylas', 'AzBats', 'Azarath', 'Azazel', 'Azbrian', 'Azeuz', 'Azimuth', 'Azkaban', 'Azmodus', 'Azrael', 'Azraels', 'Aztar', 'Aztecs', 'Azur', 'B', 'B00M', 'B12s', 'B13', 'B4', 'B52', 'BAD', 'BAE', 'BATMAN', 'BB', 'BB8', 'BBY', 'BC', 'BClass', 'BFF', 'BG60', 'BLOOD', 'BOW', 'BOWs', 'BPRD', 'BRNC', 'BSAA', 'BW', 'Ba', 'Baa', 'Baal', 'Baba', 'BabaYaga', 'Babbage', 'Babe', 'Babel', 'Babidi', 'Babidis', 'Babies', 'Baby', 'Babylon', 'Bach', 'Bachelor', 'Back', 'Backed', 'Background', 'Backing', 'Backslide', 'Backslides', 'Backup', 'Bad', 'Badly', 'Badnik', 'Badniks', 'Badoon', 'Badoons', 'Baelish', 'Baffler', 'Bagalia', 'Baggins', 'Baghdad', 'Bahamas', 'Bailey', 'Bailiff', 'Bain', 'Baker', 'Bakuto', 'Balancing', 'Balazo', 'Balder', 'Baldwin', 'BaldwinSpeedball', 'Baldwins', 'Baldy', 'Balgravia', 'Baligiest', 'Balkan', 'Balkans', 'Balkatar', 'Ball', 'Ballard', 'Ballistic', 'Balls', 'Balrog', 'Balrogs', 'Baltag', 'Baluur', 'Bambi', 'Bamfs', 'Bana', 'BanaMighdall', 'BanaMishdall', 'Banapur', 'Banas', 'Bancon', 'Banding', 'Bandit', 'Bando', 'Bands', 'Bane', 'Banes', 'Bang', 'Bangda', 'Banis', 'Banishing', 'Bank', 'Banks', 'Banner', 'Bannermain', 'Banners', 'Bannister', 'Banshee', 'Banshees', 'Bantam', 'Banter', 'Baphomet', 'Bar', 'Baraba', 'Baraka', 'Baran', 'Baratheon', 'Baratheons', 'Barb', 'Barbara', 'Barbaras', 'Barbarian', 'Barbarians', 'Barbary', 'Barbera', 'Barberas', 'Barbie', 'Bard', 'Barda', 'Bardas', 'Bardock', 'Bards', 'Baredo', 'Barim', 'Barlowe', 'Barlowes', 'Barnacle', 'Barnell', 'Barnes', 'Barnett', 'Barney', 'Baron', 'Baroncitation', 'Baroness', 'Barons', 'Barracuda', 'Barri', 'Barrington', 'Barristan', 'Barry', 'Barrys', 'Barsalini', 'Bart', 'Bartino', 'Bartinos', 'Bartley', 'Barton', 'Barts', 'Base', 'Based', 'Bash', 'Basic', 'Basically', 'Basics', 'Basil', 'Basilia', 'Basiliaand', 'Basin', 'Basket', 'Bass', 'BassDrake', 'Bassnium', 'Basss', 'Bast', 'Bastards', 'Bastion', 'Bastions', 'Bat', 'BatBunker', 'BatCow', 'BatCows', 'BatFamily', 'BatLash', 'BatMan', 'BatMite', 'BatRocket', 'BatRockets', 'BatSignal', 'BatVehicles', 'Batarang', 'Batarangs', 'Batcave', 'Batclan', 'Batfamily', 'Batfamilys', 'Batgirl', 'Bathed', 'Batman', 'Batmanbatpng', 'Batmans', 'Batmen', 'Batmobile', 'Batplane', 'Batroc', 'Batrocs', 'Bats', 'BatsI', 'Batson', 'Batsons', 'Batsuit', 'Battalion', 'Battery', 'Battle', 'BattleAxe', 'Battleaxe', 'Battlehbi', 'Battleship', 'Battlestar', 'Battleworld', 'Battling', 'Batwing', 'Batwoman', 'Batwomans', 'Bauer', 'Bavarian', 'Baxter', 'Bay', 'Baz', 'Bazin', 'Bazins', 'Be', 'Bea', 'Beach', 'Beak', 'Beaks', 'Beale', 'Beales', 'Beam', 'Beams', 'Bear', 'Beasely', 'Beast', 'Beasts', 'Beating', 'Beatrice', 'Beatriz', 'Beaubier', 'Beaubiers', 'Beaumont', 'Beautia', 'Beauty', 'Because', 'Beck', 'Beckett', 'Becketts', 'Beckman', 'Becks', 'Becky', 'Becoming', 'Bedlam', 'Bee', 'Beehive', 'Beelzeboul', 'Beelzebub', 'Beetle', 'Beetles', 'Before', 'Befriended', 'Begging', 'Beginning', 'Beginnings', 'Begrudgingly', 'Behind', 'Being', 'Beings', 'Bekka', 'Beks', 'Belasco', 'Belem', 'Beleriand', 'Belgium', 'Believed', 'Believers', 'Believing', 'Belinskya', 'Bell', 'Bella', 'Bellatrix', 'Belle', 'Belles', 'Bellevue', 'Bellinger', 'Belloc', 'Bellona', 'Belmonde', 'Belmont', 'Belmonts', 'Belnades', 'Beloit', 'Belova', 'Below', 'Belt', 'Beltane', 'Ben', 'Bench', 'Bend', 'Bender', 'Bending', 'Bendix', 'Benedicto', 'Benetech', 'Bengal', 'Benjamin', 'Benjy', 'Bennet', 'Bennett', 'Bennetts', 'Bens', 'Benson', 'Bensons', 'Bent', 'Bentley', 'Benton', 'Berets', 'Beric', 'Bering', 'Berkana', 'Berkhart', 'Berkshire', 'Berlin', 'Bermuda', 'Bernadeth', 'Bernard', 'Bernhard', 'Bernie', 'Berra', 'Berserk', 'Berserker', 'Berserkers', 'Bertha', 'Berthold', 'Bertinelli', 'Bertrand', 'Bertron', 'Bertrons', 'Beside', 'Besides', 'Best', 'BestFrozone', 'Besting', 'Bestla', 'Bestman', 'Bestys', 'Bet', 'Beta', 'Beth', 'Bethany', 'Bethlehem', 'Bethmora', 'Betrayal', 'Betsy', 'Betsys', 'Bette', 'Bettes', 'Betty', 'Bettys', 'Between', 'Bevan', 'Beverly', 'Beyond', 'Beyonder', 'Beyonders', 'Bgtzlian', 'Bhutan', 'BiBeast', 'Bialya', 'Bianca', 'Bibbo', 'Bibbow', 'Bibbowski', 'Bible', 'Biblical', 'Bicycle', 'Bidor', 'Bifrost', 'Big', 'BigDaddy', 'BigDaddys', 'Bigfoot', 'Biggs', 'Bill', 'BillHe', 'Billboy', 'Billions', 'Bills', 'Billy', 'Billys', 'Binary', 'Binks', 'BioRestorative', 'BioStasis', 'BioTech', 'Biobelt', 'Biochem', 'Biography', 'Biohazard', 'Biolizard', 'Biological', 'Biometal', 'Biometals', 'Bionic', 'Bioscience', 'Bioshop', 'Biot', 'Biotech', 'Bird', 'BirdBrain', 'BirdMan', 'Birdboy', 'Birdgirl', 'Birdman', 'Birdmans', 'Birds', 'Birdy', 'Birkin', 'Birkins', 'Birmingham', 'Birth', 'Birthday', 'Birthing', 'Bishop', 'Bishops', 'Bison', 'Bitten', 'Bivolo', 'Bizarro', 'BizarroBrainiac', 'BizarroGirl', 'BizarroJLA', 'BizarroLuthor', 'Bizarrogirl', 'Bizarrogirls', 'Bizarros', 'Bizzaro', 'Bl', 'Black', 'Blackagar', 'Blackbeard', 'Blackbird', 'Blackest', 'Blackfire', 'Blackfoot', 'Blackfyre', 'Blackgate', 'Blackguard', 'Blackguards', 'Blackhawk', 'Blackheart', 'Blackhearts', 'Blackheath', 'Blackhole', 'Blackie', 'Blacklash', 'Blacklight', 'Blackmailing', 'Blackout', 'Blacks', 'Blacksmith', 'Blacksnake', 'Blackwatch', 'Blackwell', 'Blackwing', 'Blade', 'Blades', 'Blaire', 'Blak', 'Blake', 'Blamed', 'Blaming', 'Blanco', 'Blanding', 'Blaquesmith', 'Blart', 'Blast', 'Blastaar', 'Blastaars', 'Blastarr', 'Blasted', 'Blaster', 'Blasts', 'Blaze', 'Blazes', 'Bleeding', 'Bleez', 'Blessed', 'Bletchley', 'Blight', 'Blind', 'Blinded', 'Blindfold', 'Blindspot', 'Bling', 'Blink', 'Blinks', 'Blitz', 'Blitzkrieg', 'Blitzschlag', 'Blizzack', 'Blizzard', 'Blizzards', 'Blob', 'Bloch', 'Blockade', 'Blockades', 'Blockbuster', 'Blocked', 'Blond', 'Blonsky', 'Blood', 'Bloodaxe', 'Bloodaxes', 'Bloodhawk', 'Bloodlines', 'Bloods', 'Bloodsport', 'Bloodstone', 'Bloodstorm', 'Bloodthirst', 'Bloodthirsty', 'Bloodtox', 'Bloodwraith', 'Bloodwynd', 'Bloody', 'Bloom', 'Bludhaven', 'Blue', 'Bluebird', 'Blur', 'Bly', 'Blüdhaven', 'Bnee', 'Board', 'Boardman', 'Boasting', 'Boat', 'Bob', 'Bobbi', 'Bobbie', 'Bobbis', 'Bobby', 'Bobbys', 'Bobo', 'Bobs', 'Bochs', 'Bodog', 'Body', 'Bodyguard', 'Bogan', 'Bogans', 'Bohusk', 'Boi', 'Boil', 'Bokk', 'Bokks', 'Bold', 'Boldly', 'Bolivar', 'Bolland', 'Bollands', 'Bollarator', 'Bolovax', 'Bolovaxian', 'Bolovaxs', 'Bolt', 'Boltagon', 'Bolts', 'Bomb', 'Bombay', 'Bombs', 'Bombshell', 'Bombshells', 'Bond', 'Bonding', 'Bonds', 'Bone', 'Bones', 'Boness', 'Bonettes', 'Bong', 'Bongs', 'Bonneter', 'Boo', 'Boodikka', 'Book', 'Boom', 'BoomBoom', 'BoomTube', 'Boomer', 'Boomerang', 'Boone', 'Boos', 'Boost', 'Booster', 'Boosters', 'Boots', 'Bor', 'Bora', 'Borazzon', 'Bordeaux', 'Border', 'BorderLine', 'Boreal', 'Boreas', 'Borg', 'Borgia', 'Boris', 'Born', 'Boros', 'Bors', 'Boschelli', 'Boshtok', 'Bosnia', 'Bosqueverde', 'Boss', 'Bosses', 'Bosss', 'Boston', 'Botanical', 'Both', 'Bottle', 'Bottoms', 'Boudreaux', 'Boulder', 'BoulderCrusher', 'Bound', 'Bounty', 'Bova', 'Bovo', 'Bow', 'Bowen', 'Bows', 'Bowser', 'Bowsers', 'Box', 'Boxbot', 'Boxes', 'Boxs', 'Boy', 'BoyFlamebird', 'Boyd', 'Boyle', 'Boylen', 'Boys', 'Boysearch', 'Braal', 'Braavos', 'Braavosi', 'Braavosthough', 'Brad', 'Bradbury', 'Braddock', 'Braddocks', 'Bradley', 'Bradleys', 'Braeden', 'Brain', 'Brainchild', 'Brainiac', 'Brainiacs', 'Brains', 'Brainwash', 'Brainwashed', 'Brainwashing', 'Brainwave', 'Brainy', 'Brainys', 'Bran', 'Branchs', 'Brand', 'Brandenberg', 'Brandon', 'Brandt', 'Brandy', 'Brandybuck', 'Brannon', 'Brant', 'Branwill', 'Brashear', 'Brass', 'Bratpack', 'Brauner', 'Brauners', 'Brave', 'Braverman', 'Bravo', 'Brawl', 'Brawn', 'Brazen', 'Brazil', 'Brazilian', 'Breach', 'Bread', 'Break', 'Breaker', 'Breaking', 'Breakworld', 'Breakworlders', 'Breakworlds', 'Breath', 'Bree', 'Brenda', 'Brendan', 'Brendans', 'Brent', 'Brentwood', 'Bres', 'Brethren', 'Brevlov', 'Brian', 'Brians', 'Brice', 'Brickman', 'Bricksters', 'Bride', 'Brides', 'Bridge', 'Bridgeman', 'Bridle', 'Briefed', 'Briefly', 'Briefs', 'Brien', 'Brienne', 'Brig', 'Brigade', 'Brigadier', 'Bright', 'Brightest', 'Brightwater', 'Brightwaters', 'Brightwind', 'Brigid', 'Brigids', 'Brik', 'Brimstone', 'Brine', 'Bringer', 'Brion', 'Brisbane', 'Bristol', 'Britain', 'Britains', 'Britania', 'Britanic', 'Britannia', 'British', 'Britishbased', 'Britishborn', 'Briton', 'Britons', 'Brittan', 'Brix', 'Brize', 'Bro', 'BroDee', 'Broadcasters', 'Broadway', 'Brock', 'Brocks', 'Brockton', 'Broderick', 'Broen', 'Broken', 'Broker', 'Brokers', 'Brokk', 'Brolin', 'Brollin', 'Bromfields', 'Bromhead', 'Bromwich', 'Bronx', 'Bronze', 'Broo', 'Brood', 'Broods', 'Brooklyn', 'Brooks', 'Bros', 'Brother', 'Brotherhood', 'BrotherhoodEdit', 'Brotherhoods', 'Brothers', 'Brought', 'Brown', 'Browns', 'Broxton', 'Brubaker', 'Bruce', 'Bruces', 'Bruckner', 'Brujeria', 'Brujería', 'Brukner', 'Brunnhilda', 'Brunnhildas', 'Brunnhilde', 'Brunnhildes', 'Bruno', 'Brushfire', 'Brussels', 'Brutaal', 'Brute', 'Bruttenholm', 'Brutus', 'Bryant', 'Bub', 'Bubastis', 'Bubble', 'Buchanan', 'Buck', 'Buckies', 'Bucklen', 'Buckman', 'Bucky', 'Buckys', 'Bud', 'Buddhism', 'Buddhist', 'Buddy', 'Buddys', 'Buffalo', 'Buffalos', 'Buffy', 'Buffys', 'Buffyverse', 'Buford', 'Bug', 'BugEyed', 'Bugala', 'Bugle', 'Bugman', 'Builders', 'Building', 'Buildings', 'Bukharin', 'Bulgaria', 'Bulk', 'Bull', 'Bullet', 'Bulletman', 'Bullets', 'Bullied', 'Bullit', 'Bullock', 'Bullocks', 'Bullseye', 'Bullseyes', 'Bulma', 'Bum', 'Bumblebee', 'Bumblebees', 'Bumbleboy', 'Bureau', 'Bureaus', 'Burgess', 'Burglar', 'Buri', 'Buried', 'Burke', 'Burkes', 'Burlow', 'Burman', 'Burner', 'Burning', 'Burnside', 'Burr', 'Burroughs', 'Burrs', 'Burstein', 'Bursteins', 'Burt', 'Burton', 'Burtons', 'Burtram', 'Bus', 'Buscema', 'Bushido', 'Bushman', 'Bushmans', 'Bushmaster', 'Bushmasters', 'Bushwhacker', 'Business', 'Buster', 'Busters', 'But', 'Butch', 'Butcher', 'Butcherredpng', 'Butler', 'Butterball', 'Buu', 'Buus', 'Buying', 'Buzz', 'Bwana', 'By', 'Bylan', 'Byrne', 'Byrnes', 'Byron', 'Byrrah', 'Byth', 'BzzkJoh', 'Bzzkjoh', 'C', 'C3PO', 'C4', 'CA', 'CB', 'CBI', 'CC', 'CCI', 'CCPD', 'CD', 'CEO', 'CIA', 'CIAs', 'CIAsponsored', 'CID', 'CIEL', 'CLOC', 'CLOCs', 'COE', 'CPA', 'CPO', 'CPR', 'CPU', 'CQC', 'CSA', 'CSAs', 'CSIS', 'CSynthesizer', 'CTE', 'CVcitation', 'CVirus', 'Cabal', 'Cabba', 'Cabbas', 'Cabe', 'Cable', 'Cables', 'Cabrini', 'Cacophonic', 'Cadaver', 'Cadmus', 'Cadre', 'Caedus', 'Caesar', 'Caesarlike', 'Cafe', 'Cage', 'Cages', 'Caiera', 'Cain', 'Cains', 'Cairn', 'Cairns', 'Cairo', 'Caitlin', 'Caitlyn', 'Cajun', 'Cal', 'Calabraxis', 'Calabrese', 'Calabria', 'Calaton', 'Calatonian', 'Calculator', 'Calculators', 'Calcuttan', 'Caldecott', 'Calder', 'Caldwell', 'Caleb', 'Calendar', 'Calgary', 'Caliban', 'Caliber', 'Caliburn', 'Caliburns', 'California', 'Californiabased', 'Californian', 'Caligula', 'Calisto', 'Callasantos', 'Called', 'Callie', 'Calling', 'Calliope', 'Callisto', 'Callistos', 'Callosantos', 'Calogero', 'Calrissian', 'Calsyee', 'Calvary', 'Calvert', 'Calvin', 'Calvins', 'Calypso', 'Calypsos', 'Cambodia', 'Cambridge', 'Camelot', 'Cameo', 'Cameras', 'Cameron', 'Camerons', 'Cammi', 'Camp', 'Campbell', 'Campbells', 'Canaan', 'Canada', 'Canadas', 'Canadaís', 'Canadian', 'Canarsie', 'Canary', 'CanaryCaptain', 'Canarys', 'Canaveral', 'Cancer', 'Cancerverse', 'Cancerverses', 'Candace', 'Candler', 'Candoras', 'Candy', 'Candys', 'Canis', 'Cannon', 'Cannonball', 'Cannonballs', 'Cannons', 'Canticus', 'Canton', 'Cantor', 'Cantwell', 'Canyon', 'Cap', 'Cap13', 'CapZemo', 'Capable', 'Capain', 'Capax', 'Cape', 'Caped', 'Caper', 'Capillary', 'Capistan', 'Capitalizing', 'Capitol', 'Capitán', 'Capone', 'Cappy', 'Caps', 'Capsule', 'Captain', 'Captains', 'Capturebots', 'Captured', 'Capturing', 'Caputo', 'Car', 'Caraka', 'Caramanga', 'Caranthir', 'Carapax', 'Caravan', 'Carbide', 'Carbonadium', 'Carbone', 'Carboni', 'Card', 'Cardinal', 'Care', 'Carelius', 'Carezzi', 'Cargg', 'Cargill', 'Cargills', 'Caribbean', 'Carina', 'Carl', 'Carla', 'Carle', 'Carlie', 'Carlin', 'Carling', 'Carlings', 'Carls', 'Carlton', 'Carlyle', 'Carlysle', 'Carmen', 'Carmichael', 'Carmilla', 'Carmine', 'Carmonti', 'Carnage', 'Carnages', 'Carnegie', 'Carnival', 'Carol', 'Carolina', 'Carolinas', 'Caroline', 'Carols', 'Carolyn', 'Carosella', 'Carp', 'Carpassia', 'Carpathian', 'Carpenter', 'Carpet', 'Carr', 'Carradine', 'Carrie', 'Carrier', 'Carriers', 'Carrion', 'Carrolls', 'Carrot', 'Carrying', 'Carson', 'Cartel', 'Carter', 'Carters', 'Cartman', 'Case', 'Casebook', 'Cash', 'Casino', 'Casinopolis', 'Casiolena', 'Casiolenas', 'Casket', 'Casque', 'Cassamento', 'Cassandra', 'Cassandras', 'Cassera', 'Casseras', 'Cassian', 'Cassidy', 'Cassidys', 'Cassie', 'Cassiemaking', 'Cassies', 'Cassiopeia', 'Cassius', 'Casterly', 'Castiel', 'Castiglione', 'Castle', 'Castles', 'Castlevania', 'Castlevanias', 'Castor', 'Cat', 'CatMan', 'CatPeople', 'Cataclysm', 'Catalytic', 'Cataphylaxis', 'Catastrophe', 'Catching', 'Catelyn', 'Caterpillar', 'Catfishs', 'Catgirl', 'Cathedral', 'Catherine', 'Catholic', 'Catiana', 'Catman', 'Cats', 'Catseye', 'Catwoman', 'Catwomans', 'Catwomen', 'Caucasian', 'Caucasians', 'Caucasus', 'Caught', 'Caul', 'Caulder', 'Cauldron', 'Caulfila', 'Caulifla', 'Cauliflas', 'Cauls', 'Cavalier', 'Cavallo', 'Cave', 'Cavendish', 'CavernX', 'Caves', 'Cavorite', 'Cayden', 'Ccil', 'Cebulski', 'Cecilia', 'Cedric', 'Celegorm', 'Celestial', 'Celestials', 'Cell', 'Cells', 'Celsius', 'Celtic', 'Cemetery', 'Centennial', 'Center', 'Centerville', 'Centipede', 'Central', 'Centre', 'Centuries', 'Centurion', 'Centurions', 'Centurious', 'Century', 'Cerberus', 'Cerdia', 'Cerdian', 'Cerdias', 'Cerebra', 'Cerebro', 'Cerebros', 'Cerebrus', 'Ceremony', 'Cerise', 'Cersei', 'Cervantez', 'Cetewayo', 'Cetewayos', 'Chain', 'ChainsWonder', 'Chainsaws', 'Chair', 'Chairman', 'Chairperson', 'Chairwoman', 'Chak', 'Chaka', 'Chakra', 'Chalice', 'Challenge', 'Challengers', 'Challenges', 'Challenging', 'Chamber', 'Chamberlins', 'Chambers', 'Chameleon', 'Champ', 'Champa', 'Champas', 'Champion', 'Championpool', 'Champions', 'Champjet', 'Chan', 'Chance', 'Chancellor', 'Chances', 'Chandilar', 'Chandler', 'Chandlers', 'Chandra', 'Chang', 'Change', 'Changed', 'Changeling', 'Changing', 'Channel', 'Channeling', 'Chantinelle', 'Chantinelles', 'Chao', 'Chaos', 'Chaotix', 'Chapel', 'Chapman', 'Chapter', 'Character', 'Characteristics', 'Characteristics82', 'Characters', 'Charaxas', 'Charaxes', 'Charcoal', 'Charger', 'Charges', 'Charging', 'Chariots', 'Charity', 'Charlemagne', 'Charles', 'Charless', 'Charlie', 'Charlies', 'Charlotte', 'Charlottes', 'Charlton', 'Charmain', 'Charteris', 'Charyb', 'Charybdis', 'Chas', 'Chase', 'Chased', 'Chaselon', 'Chases', 'Chasing', 'Chaste', 'Chastising', 'Chato', 'Chauvenist', 'ChayAra', 'ChayAras', 'Che', 'Cheater', 'Checkmate', 'Checkmates', 'Chee', 'Cheese', 'Cheetah', 'Cheetahalthough', 'Cheetahs', 'Chekhov', 'Chelsea', 'Chemical', 'Chemistro', 'Chemistry', 'Chemo', 'Chemos', 'Chen', 'Cheney', 'Cheneys', 'Cherryh', 'Cherubims', 'Cheryl', 'Chesapeake', 'Cheshire', 'Cheshires', 'Chessmen', 'Chestburster', 'Chestbursters', 'Chester', 'Chesterfield', 'Chevaliers', 'Chew', 'Chewbacca', 'Cheyenne', 'Chi', 'ChiChi', 'Chiantang', 'Chiantangs', 'Chiaotzu', 'Chicago', 'Chicagos', 'Chicksands', 'Chief', 'Chiefs', 'Chieftain', 'Child', 'Childhood', 'Children', 'Childrens', 'Chili', 'Chill', 'Chillblaine', 'Chiller', 'Chimera', 'Chimp', 'China', 'Chinas', 'Chinese', 'ChineseAmerican', 'Ching', 'Chip', 'Chipmunk', 'Chips', 'Chitauri', 'Cho', 'Chocos', 'Chod', 'Choi', 'Choir', 'Choke', 'Chondu', 'Chondus', 'Choosers', 'Choosing', 'Chos', 'Chosen', 'Chow', 'Chp', 'Chris', 'Chrissie', 'Christ', 'Christian', 'Christianity', 'Christians', 'Christina', 'Christinaemploying', 'Christine', 'Christmas', 'Christmason', 'Christoph', 'Christopher', 'Christopher2', 'Christophers', 'Christs', 'Chroma', 'Chromos', 'Chronexus', 'Chronicles', 'Chronomancer', 'Chronopolis', 'Chronos', 'Chronosteel', 'Chronus', 'Chthon', 'Chu', 'Chuck', 'Chuma', 'Chumas', 'Chun', 'Chunk', 'Church', 'Churchill', 'Churchs', 'Chyre', 'Chō', 'Ciel', 'Ciels', 'Cimarron', 'Cin', 'Cindy', 'Cindys', 'Cipher', 'Circa', 'Circe', 'CirceDonna', 'Circes', 'Circle', 'CircleWhile', 'Circles', 'Circuits', 'Circumstances', 'Circus', 'Cisco', 'Ciscos', 'Cissie', 'Citadel', 'Citadels', 'Cities', 'Citizen', 'CitizenVs', 'Citizenship', 'City', 'Citys', 'Civic', 'Civil', 'Clad', 'Claiming', 'Claims', 'Claire', 'Claires', 'Clairvoyant', 'Clan', 'ClanDestine', 'Clanmate', 'Clans', 'Clare', 'Claremont', 'Clarence', 'Clarice', 'Claridge', 'Clarion', 'Clariss', 'Clarity', 'Clark', 'Clarke', 'Clarks', 'Clash', 'Class', 'Classic', 'Classical', 'Classification', 'Classified', 'Claude', 'Claudette', 'Claudia', 'Claudio', 'Claus', 'Claw', 'Claws', 'Clay', 'Clayface', 'Clayfaces', 'Clayton', 'Clea', 'Clear', 'ClearEye', 'Cleared', 'Clearly', 'Clegane', 'Cleito', 'Clement', 'Clench', 'Cleric', 'Cleveland', 'Cliff', 'Clifford', 'Clifton', 'Climbing', 'Clint', 'Clinton', 'Clints', 'Clive', 'Cloak', 'Cloaks', 'Clock', 'Clocks', 'Clone', 'Close', 'Cloth', 'Clothing', 'Cloud', 'Clown', 'ClownPrince', 'Clowns', 'Club', 'Clubs', 'Cluemaster', 'Cluemasters', 'Clyde', 'Clytemnestra', 'Co', 'Coach', 'Coal', 'Coalition', 'Coast', 'Cobalt', 'Cobb', 'Cobblepot', 'Cobler', 'Cobra', 'Cochrane', 'Cockroach', 'Coconut', 'Cocotte', 'Code', 'CodeOn', 'Codec', 'Codex', 'Cody', 'Coffin', 'Cog', 'Cogliostro', 'Cogliostros', 'Cohen', 'Coin', 'Coincidentally', 'Coinciding', 'Col', 'Colcord', 'Colcords', 'Cold', 'Coldcast', 'Coldfire', 'Coldfires', 'Coldheart', 'Colds', 'Cole', 'Coles', 'Colin', 'Coll', 'Collapsing', 'Collection', 'Collective', 'CollectiveXorn', 'Collector', 'Collectors', 'Colleen', 'College', 'Colleges', 'Collin', 'Collins', 'Colombia', 'Colombian', 'Colonel', 'Colonels', 'Colonial', 'Colonizer', 'Colonizers', 'Colony', 'Colonys', 'Color', 'Colorado', 'Colors', 'ColorsEdit', 'Colossal', 'Colossus', 'Colt', 'Colu', 'Coluan', 'Columbia', 'Columbus', 'Colussus', 'Comanche', 'Combating', 'Combattre', 'Combine', 'Combined', 'Combining', 'Come', 'Comedian', 'Comedians', 'Comes', 'Comet', 'Cometbi', 'Comics', 'Coming', 'Comissioner', 'Commanche', 'Command', 'Commander', 'Commanders', 'Commanding', 'Commando', 'Commandos', 'Commands', 'Commerce', 'Commisioner', 'Commission', 'Commissioner', 'Commissions', 'Committee', 'Committees', 'Communications', 'Communing', 'Communist', 'Communists', 'Community', 'Commuter', 'Company', 'Compass', 'Competition', 'Completely', 'Completing', 'Complex', 'Complicating', 'Composed', 'Compound', 'Computer', 'ComputerDuring', 'Computing', 'Comrade', 'Conal', 'Conan', 'Concentrating', 'Concerned', 'Conch', 'Conclave', 'Concluding', 'Concord', 'Concurrently', 'Condemned', 'Condiment', 'Condren', 'Conduit', 'Confederacy', 'Confederate', 'Confederation', 'Confessor', 'Confident', 'Confined', 'Conflict', 'Confronted', 'Confronting', 'Confused', 'Cong', 'Conglomerate', 'Conglomerates', 'Congo', 'Congorilla', 'Congress', 'Congressman', 'Connecticut', 'Connections', 'Connelly', 'Conner', 'Conners', 'Connie', 'Connor', 'Connors', 'ConquerLord', 'Conquering', 'Conqueror', 'Conquest', 'Conscience', 'Consequently', 'Considered', 'Considering', 'Consistently', 'Consolidated', 'Constance', 'Constantine', 'Constantines', 'Constantinople', 'Constantly', 'Constellation', 'Constitution', 'Constrictor', 'Consulting', 'Consumed', 'Consuming', 'Consumption', 'Containment', 'Contemplating', 'Contemplator', 'Contemplators', 'Content', 'Contentsshow', 'Contessa', 'Contest', 'ContestArtemis', 'ContestHippolyta', 'Contestand', 'Context', 'Continually', 'Continuing', 'Continuum', 'Contrary', 'Contraxia', 'Contraxian', 'Contraxians', 'Contraxias', 'Control', 'Controlled', 'Controller', 'Conundrum', 'Convergence', 'Conversely', 'Converter', 'Convinced', 'Convincing', 'Convoy', 'Conway', 'Cookie', 'Coon', 'Cooper', 'Coopers', 'Cooperstown', 'Coping', 'Copperhead', 'Copperheads', 'Copy', 'Copycat', 'Copycats', 'Coral', 'Corbeau', 'Corben', 'Corbens', 'Corbray', 'Cord', 'Core', 'Corellia', 'Corellian', 'Cork', 'Cornelius', 'Cornwall', 'Corona', 'Corp', 'Corporal', 'Corporation', 'Corporations', 'Corporeals', 'Corps', 'Corps2', 'Corpsmen', 'Corpswomen', 'Correction', 'Corrigan', 'Corrupted', 'Corsair', 'Corsairs', 'Corsi', 'Cortana', 'Cortanas', 'Cortex', 'Cortez', 'Cortezs', 'Cortés', 'Coruscant', 'CoruscantIdentified', 'Corvette', 'Corvin', 'Corvus', 'Cosmic', 'Cosmo', 'Cosmonaut', 'Cosmos', 'Costa', 'Costume', 'Cotati', 'Coterie', 'Cottonmouth', 'Cottonmouths', 'Coulson', 'Coulsons', 'Council', 'Councillor', 'Councilor', 'Councils', 'Count', 'Countdown', 'Counter', 'CounterEarth', 'CounterEarths', 'Counterpart', 'Counterstrike', 'Counterterrorism', 'Countess', 'Countless', 'Country', 'Counts', 'County', 'Coupled', 'Courier', 'Court', 'Courtley', 'Courtney', 'Courtneys', 'Cove', 'Covenant', 'Cover', 'Covered', 'Covert', 'Cow', 'Cowl', 'Cowls', 'Cox', 'Coxs', 'Coy', 'Coyote', 'Coys', 'Crabmeat', 'Crabrante', 'Crabrantes', 'Crackajack', 'Cracked', 'Crackerjack', 'Crackle', 'Cradle', 'Craft', 'Craig', 'Craigslist', 'Crane', 'CranePennyworth', 'Crashing', 'Crashlanding', 'Crater', 'Crawfishs', 'Crawford', 'Crawler', 'Crawley', 'Cray', 'Crays', 'Crazy', 'Crea', 'Cream', 'Created', 'Creating', 'Creation', 'Creation3', 'Creator', 'Creators', 'Creature', 'Credit', 'Creed', 'Creeds', 'Creee', 'Creek', 'Creel', 'Creels', 'Creeper', 'Creote', 'Crescent', 'Cressens', 'Crew', 'Cribi', 'Crichton', 'Crichtons', 'Crime', 'CrimeMaster', 'CrimeMasters', 'Crimebusters', 'Crimefighting', 'Crimelord', 'Crimes', 'Criminally', 'Crimson', 'Crippled', 'Crisis', 'Critics', 'Critters', 'CroMagnons', 'Crobeau', 'Croc', 'Crock', 'Crocodile', 'Crocs', 'Croix', 'Cromwell', 'Cron', 'Cronal', 'Cronals', 'Crone', 'Cronos', 'Cronqvist', 'Cronus', 'Crooks', 'Cross', 'Cross5', 'CrossTime', 'Crossbones', 'Crossfire', 'Crossing', 'Crossmoor', 'Crossmore', 'Crossover', 'Crossroads', 'Crouch', 'Crouchs', 'Crow', 'Crowbar', 'Crowley', 'Crown', 'Croydens', 'Crucible', 'Cruisers', 'Crunch', 'Crusade', 'Crusader', 'Crusades', 'Crush', 'Crushed', 'Crusher', 'Crushstone', 'Cruz', 'Cry', 'Crying', 'Crystal', 'Crystalia', 'Crystals', 'Csection', 'Cuba', 'Cuban', 'Cube', 'Cubes', 'Cubot', 'Cuckoo', 'Cuckoos', 'Cujo', 'Cul', 'Cull', 'Culloden', 'Culp', 'Cult', 'Cultist', 'Cults', 'Culver', 'Cum', 'Cup', 'Cupid', 'Curie', 'Curious', 'Current', 'Currently', 'Curry', 'Currys', 'Curse', 'Cursed', 'Curses', 'Cursing', 'Curt', 'Curtis', 'Curtiss', 'Curufin', 'Custer', 'Cut', 'Cutler', 'Cutter', 'Cutthroat', 'Cutting', 'CyGor', 'CyGors', 'Cyan', 'Cyber', 'CyberHarness', 'Cyberdyne', 'Cyberelf', 'Cyberface', 'Cyberion', 'Cybermancer', 'Cybersamurai', 'Cyberspace', 'Cybertek', 'Cyborg', 'Cyborgs', 'Cyclone', 'Cyclops', 'Cyclopss', 'Cygnus', 'Cynosure', 'Cynthia', 'Cypher', 'Cyphers', 'Cyprus', 'Cyrax', 'Cyrus', 'Cython', 'Cythons', 'Cytorrak', 'Cyttorak', 'Cyttoraks', 'Czar', 'Czarnia', 'Czarnian', 'Czarnians', 'Czech', 'Czechoslovakia', 'Czonk', 'D', 'DA', 'DARPA', 'DAncanto', 'DAramis', 'DBari', 'DC', 'DCU', 'DCUs', 'DCand', 'DCnU', 'DCs', 'DDI', 'DDay', 'DECEPTION', 'DEO', 'DH', 'DHs', 'DI', 'DID', 'DJ', 'DKen', 'DKens', 'DL', 'DLite', 'DMZ', 'DMan', 'DNA', 'DNA7', 'DNAlien', 'DP', 'DR', 'DRC', 'DSpayre', 'DUI', 'DVon', 'DVorah', 'DW', 'DaSilva', 'Daala', 'Daap', 'Daddy', 'Daddys', 'Dads', 'Daedalus', 'Daemian', 'Daemonite', 'Daemos', 'Daenerys', 'Dagger', 'Daggers', 'Dagobah', 'DagornuinGiliath', 'Dai', 'Daily', 'Daimio', 'Daimios', 'Daimon', 'Daimons', 'Dairy', 'Daisy', 'Daisys', 'Daken', 'Dakens', 'Dakimh', 'Dakimhs', 'Dakota', 'Dale', 'Dallas', 'Dalton', 'Daltry', 'Dam', 'Dama', 'Damage', 'Damaged', 'Damashi', 'Damask', 'Damballah', 'Damballahs', 'Damek', 'Damian', 'Damians', 'Damien', 'Damiens', 'Damion', 'Damnation', 'Damned', 'Damocles', 'Damon', 'Dan', 'Dana', 'Danann', 'Dance', 'Dandesh', 'Dane', 'Danes', 'Danger', 'Dangers', 'Dani', 'Daniel', 'Danielle', 'Danielles', 'Daniels', 'Dankos', 'Danny', 'Dannys', 'Dans', 'Dante', 'Dantes', 'Danvers', 'DanversSupergirl', 'Danzan', 'Danzō', 'Daoine', 'Daphne', 'Dare', 'Daredevil', 'Daredevill', 'Daredevils', 'Dares', 'Dareth', 'Dargin', 'Dargo', 'Darhk', 'Dark', 'Darkchilde', 'Darkchylde', 'Darkest', 'Darkforce', 'Darkhawk', 'Darkhawks', 'Darkhold', 'Darkholds', 'Darkholme', 'Darklighter', 'Darkling', 'Darklings', 'Darklord', 'Darklove', 'Darklyte', 'Darkman', 'Darkmoor', 'Darkness', 'Darkoth', 'Darkseid', 'Darkseids', 'Darkson', 'Darksoul', 'Darkspine', 'Darkstar', 'Darkstars', 'Darkwolf', 'Darkworld', 'Darla', 'Darling', 'Darlings', 'Darrel', 'Darren', 'Darrens', 'Darrion', 'Dart', 'Darth', 'Darwin', 'Darwins', 'Dascylla', 'Dash', 'Dashiell', 'Dashs', 'Data', 'Database', 'Datas', 'Dathomir', 'Dathomirian', 'Daughter', 'Dava', 'Davan', 'Dave', 'Davenport', 'Daves', 'Daviano', 'David', 'Davids', 'Davies', 'Davis', 'Davos', 'Davoss', 'Davy', 'Dawg', 'Dawn', 'Dawnsilk', 'Dawson', 'Dax', 'Daxam', 'Daxamite', 'Daximite', 'Day', 'Daydreamers', 'Dayne', 'Days', 'Dayspring', 'Dayton', 'Daytons', 'Daytrippers', 'Dazed', 'Dazzler', 'Dazzlers', 'De', 'DeHaviland', 'DeMara', 'DeMaras', 'DePaolo', 'DeSaad', 'DeSoto', 'DeVoe', 'DeWitt', 'Deacon', 'Dead', 'Deadline', 'Deadly', 'Deadman', 'Deadpool', 'Deadpools', 'Deadpoolís', 'Deadshot', 'Deadshots', 'Dealer', 'Dealers', 'Dean', 'Deans', 'Deapdool', 'Dearden', 'Death', 'DeathArchangel', 'DeathStalker', 'Deathangel', 'Deathbird', 'Deathbirds', 'Deathcard', 'Deathcry', 'Deathless', 'Deathlock', 'Deathlok', 'Deathloks', 'Deathly', 'Deaths', 'Deathspawn', 'Deathstorm', 'Deathstrike', 'Deathstrikes', 'Deathstroke', 'Deathstrokes', 'Deathurge', 'Deathurges', 'Deathwalkers', 'Deathís', 'Deauxma', 'Deauxmas', 'Debates', 'Debbi', 'Debbie', 'Debbis', 'Deborah', 'Debrii', 'Decades', 'Decay', 'Deceit', 'December', 'Decency', 'Decepticons', 'Deception', 'Deceptions', 'Deciding', 'Decimation', 'Deck', 'Declan', 'Declaration', 'Declaring', 'Decoy', 'Deducing', 'Deegan', 'Deep', 'Deeply', 'Deer', 'Deerfield', 'Defeated', 'Defeating', 'Defence', 'Defender', 'Defenders', 'DefendersDoctor', 'DefendersMisty', 'Defense', 'Deficit', 'Defying', 'Degaton', 'Degatons', 'Deimos', 'Deirdre', 'Deirdres', 'Deke', 'Delacroix', 'Deladier', 'Delayne', 'Delegate', 'Delfino', 'Delft', 'Delgado', 'Delia', 'Deliberately', 'Delilah', 'Delinquent', 'Delirium', 'Deliverer', 'Delivering', 'Delivery', 'Dell', 'Delos', 'Delphi', 'Delphine', 'Delroy', 'Delta', 'Deltite', 'Deluge', 'Dementors', 'Demeter', 'Demiurge', 'Demiurgos', 'Democratic', 'Demogoblin', 'Demogorge', 'Demolition', 'DemolitionMan', 'Demon', 'DemonSteeds', 'Demonicus', 'Demons', 'Demoralized', 'Demos', 'Denied', 'Denis', 'Denizens', 'Denning', 'Dennis', 'Dent', 'Dents', 'Denver', 'Deodato', 'Deodatos', 'Departed', 'Department', 'Departments', 'Depres', 'Depression', 'Depressionera', 'Depths', 'Deputy', 'Derek', 'Derry', 'Desaad', 'Desak', 'Descendants', 'Descending', 'Descent', 'Described', 'Desdemona', 'Desert', 'Design', 'Designate', 'Designating', 'Desipte', 'Desire', 'Desiring', 'Desmond', 'Despair', 'Despairing', 'Despairs', 'Desperate', 'Despero', 'Desperos', 'Despisable', 'Despite', 'Despondent', 'Despotellis', 'Destination', 'Destine', 'Destined', 'Destiny', 'Destinys', 'Destroyer', 'Destroyers', 'Destroyerís', 'Destroying', 'Destruction', 'Destructions', 'Details', 'Detecting', 'Detection', 'Detective', 'Detectives', 'Detector', 'Detention', 'Determine', 'Determined', 'Deterrence', 'Detroit', 'Detsroyer', 'Devarim', 'Devastating', 'Devastation', 'Devastator', 'Development', 'Developments', 'Devem', 'Deviant', 'Deviants', 'Device', 'Devil', 'DevilHulk', 'DevilSlayer', 'Devilance', 'Devilman', 'Devilmen', 'Devils', 'Devine', 'Devlin', 'Devlins', 'Devlor', 'Devos', 'Devourers', 'Dex', 'Dexter', 'Dez', 'Dhabar', 'Dharkons', 'Dhasha', 'Dherain', 'DhuTsien', 'DiBacco', 'DiBaccos', 'Diablo', 'Diablon', 'Diablos', 'Diamond', 'Diamondback', 'Diamondhead', 'Dian', 'Diana', 'DianaArtemis', 'DianaBoston', 'Dianahaving', 'Dianas', 'Dianathe', 'Diane', 'Diaries', 'Diaz', 'Dibney', 'Dibny', 'Dibnys', 'Dice', 'Dick', 'Dickas', 'Dickerson', 'Dicks', 'Die', 'Diego', 'Diegos', 'Differences', 'Dig', 'Digger', 'Digging', 'Diggle', 'Diggory', 'Dilby', 'Dillard', 'Dillon', 'Dimension', 'Dimensional', 'Dimensions', 'Dimitri', 'Dimly', 'Dimple', 'Dinah', 'Dinahs', 'Dino', 'Dinosaur', 'Diogenes', 'Dione', 'Dionysus', 'Dippers', 'Dippershaped', 'Dire', 'Direct', 'Directive', 'Director', 'Directorate', 'Directors', 'Dirge', 'Dirk', 'Dirt', 'Disapparates', 'Disappointed', 'Disassemblement', 'Disaster', 'Disasters', 'Disbanded', 'Discharge', 'Disciplinarian', 'Discord', 'Discovered', 'Discovering', 'Discus', 'Disguised', 'Disguising', 'Disgusted', 'Disheartened', 'Disillusioned', 'Disk', 'Disney', 'Disorder', 'Displaced', 'Display', 'Displaying', 'Dissatisfied', 'Dissociative', 'Distracted', 'Distracting', 'Distraught', 'District', 'Disturbance', 'Disturbed', 'Ditkovich', 'Dividing', 'Divine', 'Diving', 'Divining', 'Division', 'Dix', 'Django', 'Djinn', 'Dken', 'Dkens', 'Dmitri', 'Dnedia', 'Do', 'Doc', 'Doctor', 'Doctors', 'Dodds', 'Dodge', 'Dodgson', 'Dodon', 'Dodson', 'Doe', 'Doelamale', 'Doesnt', 'Dog', 'Dogpool', 'Dogs', 'Doing', 'Dolan', 'Doll', 'Dollar', 'Dollmaker', 'Dollmakers', 'Dollotron', 'Dollotrons', 'Dolls', 'Dolores', 'Dolphin', 'Dolphins', 'Dom', 'Domain', 'Domaine', 'Domaines', 'Dominant', 'Dominator', 'Dominators', 'Domingo', 'Dominic', 'Domino', 'Dominos', 'Dominus', 'Domitian', 'Domo', 'Domos', 'Doms', 'Domu', 'Don', 'Donalbain', 'Donalbains', 'Donald', 'Dondarrion', 'Dondo', 'Donkey', 'Donna', 'Donnas', 'Donner', 'Donnie', 'Donning', 'Donovan', 'Dons', 'Dont', 'DontAskDontTell', 'Dontrell', 'Dooku', 'Dookus', 'Dooleys', 'Doom', 'Doombot', 'Doomlike', 'Dooms', 'Doomsday', 'Doomsdaylike', 'Doomsdays', 'Doop', 'Doops', 'Doorman', 'Doorway', 'Doppelganger', 'Doppelgangers', 'Doppler', 'Dopplers', 'Dora', 'Dorado', 'Dorian', 'Doris', 'Dorma', 'Dormammu', 'Dormammus', 'Dormitory', 'Dorothy', 'Dorrance', 'Dorrie', 'DosuRoku', 'DosuRokus', 'Double', 'Doug', 'Douglas', 'Douglass', 'Dougs', 'Doused', 'Dove', 'Doves', 'Dowd', 'Down', 'Downing', 'Downtown', 'Dox', 'Doyles', 'Dozens', 'Dr', 'DrMargaretAlexandra', 'Draaga', 'Draagas', 'Draco', 'Dracula', 'Draculas', 'Drago', 'Dragon', 'Dragoncat', 'Dragonmekas', 'Dragons', 'Dragonstone', 'Dragoon', 'Drained', 'Drak', 'Drake', 'Drakes', 'Drakillers', 'Drakon', 'Drakonmegas', 'Dran', 'Dran21', 'Drano', 'Draper', 'Drawing', 'Drawn', 'Drax', 'Draxs', 'Dread', 'Dreadnaught', 'Dreadnoughts', 'Dreadpool', 'Dream', 'Dreaming', 'Dreamqueen', 'Dreams', 'Dreamstone', 'Dreamtime', 'Drebin', 'Dregz', 'Dreiberg', 'DreibergNite', 'Dreibergs', 'Drenkov', 'Dresden', 'Dressed', 'Drew', 'Drews', 'Drill', 'Drin', 'Drink', 'Drive', 'Driven', 'Driver', 'Driving', 'Drkhawk', 'Drolta', 'Dromedan', 'Droom', 'Drop', 'Dropping', 'Drowned', 'Drowning', 'Drs', 'Druek', 'Druid', 'Drumms', 'Drunkenly', 'Dry', 'Drydock', 'Dryminextes', 'Dspayre', 'Du', 'Dual', 'Duane', 'Dubai', 'Dubbed', 'Dubbilex', 'Dubbilexs', 'Dubbing', 'Dublin', 'Dubrovna', 'Ducard', 'Ducasse', 'Duchamp', 'Duchess', 'Duck', 'Duckworld', 'Dudley', 'Dudleys', 'Due', 'Duela', 'Dugan', 'Dukes', 'Dum', 'Dumas', 'Dumbledore', 'Dumbledores', 'Dummys', 'Dumpty', 'Dunamis', 'Duncan', 'Dunstan', 'Dunwitch', 'Duo', 'Dupin', 'Duponts', 'Dupree', 'Duquesne', 'Durant', 'Durgo', 'Durham', 'During', 'Durlans', 'Duro', 'Dust', 'Duster', 'Dusting', 'Dusts', 'Dusty', 'Dutch', 'Dutchman', 'Duty', 'Dvon', 'Dwarfstar', 'Dwarves', 'Dweller', 'DwellerinDarkness', 'Dwellers', 'Dwight', 'Dx1118', 'Dyam', 'Dybbuk', 'Dyer', 'Dying', 'Dykkors', 'DynaMite', 'DynaMites', 'Dynamic', 'Dynamo', 'Dynasty', 'Dyne', 'Dynes', 'Dyson', 'Dyspo', 'Dyspos', 'Dyvyne', 'Dyvynities', 'Dzerchenko', 'Dúnedain', 'E', 'E001', 'E10000', 'E10000B', 'E102', 'E121', 'E123', 'EDIT', 'EGG', 'EITC', 'EMP', 'ERG1', 'ERG1s', 'ESU', 'EVA', 'EX', 'EXTECHOP', 'Each', 'Eager', 'Eagle', 'Eagles', 'Earlier', 'Early', 'Earning', 'Earrings', 'Earth', 'Earth001', 'Earth1', 'Earth111', 'Earth11113', 'Earth1116', 'Earth1191', 'Earth12101', 'Earth15', 'Earth1610', 'Earth19', 'Earth2', 'Earth21205', 'Earth22', 'Earth247', 'Earth295', 'Earth3', 'Earth311', 'Earth3145', 'Earth4290001', 'Earth4935', 'Earth51', 'Earth616', 'Earth616s', 'Earth6311', 'Earth6706', 'Earth689', 'Earth691', 'Earth7', 'Earth712', 'Earth7528', 'Earth8', 'Earth833', 'Earth8810', 'Earth982', 'Earth998', 'EarthFour', 'EarthMars', 'EarthOne', 'EarthPrime', 'EarthRealm', 'EarthS', 'EarthTRN640', 'EarthThree', 'EarthThreePower', 'EarthThrees', 'EarthTwo', 'EarthTwos', 'EarthX', 'Earthafter', 'Earthbased', 'Earthborn', 'Earthbound', 'Earthboundagents', 'Earthgov', 'Earthgovs', 'Earthling', 'Earthlings', 'Earthly', 'Earthmade', 'Earthmover', 'Earthrealm', 'Earthrealmjpg', 'Earthrealms', 'Earths', 'Earthto', 'Earthwards', 'Easily', 'East', 'Easter', 'Eastern', 'Easts', 'EastwatchbytheSea', 'Eater', 'Eaters', 'Eazy', 'Ebersol', 'Eblis', 'Ebola', 'Ebolabased', 'Ebony', 'Ecclesia', 'Ecclesias', 'Echh', 'Echidna', 'Echo', 'EchoUS', 'Ecks', 'Eclipse', 'Eclipso', 'Eclipsos', 'Ecliptic', 'Ecological', 'Ecstacy', 'Ecstasy', 'Ed', 'Eddard', 'Eddie', 'Eddies', 'Eden', 'EdenJones', 'Edenlike', 'Edgar', 'Edge', 'Edgerton', 'Edgy', 'Edison', 'Edith', 'Editor', 'EditorinChief', 'Edmond', 'Edmonds', 'Edmure', 'Edna', 'Edonia', 'Education', 'Edward', 'Edwards', 'Edwin', 'Eekway', 'Eel', 'Eels', 'Effect', 'Effectively', 'Effex', 'Effort', 'Efforts', 'Egg', 'EggRobo', 'Egghead', 'Eggheads', 'Eggman', 'Eggmanland', 'Eggmans', 'Eggpawns', 'Eggrobo', 'Eggs', 'Ego', 'EgoPrime', 'Egos', 'Egotistical', 'Egypt', 'Egyptian', 'Egypts', 'Ehr', 'Eidolon', 'Eidolons', 'Eiffel', 'Eight', 'EightTails', 'Eighth', 'Eileen', 'Eiling', 'Eilings', 'Einherjar', 'Eisendorf', 'Eisenhardt', 'Eisley', 'Either', 'Eitri', 'Ekaterina', 'Ekron', 'El', 'Elaine', 'Elaines', 'ElastiGirl', 'Elastigirl', 'Elba', 'Elbas', 'Elbe', 'Elbola', 'Eldaliéva', 'Eldar', 'Elder', 'Elders', 'Eldest', 'Electing', 'ElectornGyro', 'Electric', 'Electro', 'Electrocutioner', 'Electron', 'Electronics', 'Electros', 'Elektra', 'Elektras', 'Elektro', 'Element', 'Elemental', 'Elementals', 'Elementary', 'Elements', 'Elena', 'Elf', 'Elfqueen', 'Elgos', 'Eli', 'Elias', 'Eliass', 'Elihas', 'Elihu', 'Elijah', 'Elisa', 'Elisabetha', 'Elise', 'Elises', 'Elite', 'Elixir', 'Eliza', 'Elizabeth', 'Elizabethanera', 'Elizabeths', 'Elkin', 'Ella', 'Elle', 'Ellen', 'Ellens', 'Ellery', 'Ellie', 'Ellies', 'Elliot', 'Elliott', 'Ellis', 'Ellsworth', 'Elm', 'Elmo', 'Elongated', 'Elpis', 'Elpizo', 'Elpizos', 'Elsa', 'ElsieDee', 'Elspeth', 'Elua', 'Elves', 'Elvis', 'Elysion', 'Elysium', 'Elysius', 'Embassy', 'Ember', 'Embers', 'Embittered', 'Emboldened', 'Embrey', 'Emerald', 'Emeralds', 'Emergencies', 'Emergency', 'Emerging', 'Emerl', 'Emerls', 'Emerson', 'Emersons', 'Emery', 'Emil', 'Emile', 'Emilio', 'Emily', 'Emirate', 'Emissaries', 'Emissary', 'Emma', 'Emmanuel', 'Emmas', 'Emmerich', 'Emmett', 'Emotion', 'EmotionCharger', 'Emotional', 'Emotionally', 'Empath', 'Empathosaur', 'Empaths', 'Emperor', 'Emperors', 'Empire', 'Empires', 'Emplate', 'Emplates', 'Employing', 'Emporium', 'Empowered', 'Empress', 'Empyrean', 'En', 'Enamoured', 'Enchanted', 'Enchanter', 'Enchantress', 'Enclave', 'Encompassing', 'Encountering', 'Encouraged', 'End', 'Ended', 'Endgame', 'Ending', 'Ending87878png', 'Endless', 'Endo', 'Endor', 'Endsong', 'Endurance', 'Enemies', 'Enemy', 'Energy', 'Energys', 'Enervator', 'Enfants', 'Enforcement', 'Enforcers', 'Engine', 'Engineering', 'England', 'Englands', 'English', 'Englishborn', 'Englishman', 'Enhancement', 'Enid', 'Enid1', 'Enigma', 'Enlightened', 'Enlightenment', 'Enlisting', 'Enoch', 'Enraged', 'Enrico', 'Ensabahnur', 'Ensahabnur', 'Ensuring', 'Enter', 'Entering', 'Enterprise', 'Enterprises', 'Enterprisesowned', 'Enthralled', 'Entity', 'Entitys', 'Entropic', 'Entropy', 'Envious', 'Eobar', 'Eobard', 'Eobards', 'Eobars', 'Eon', 'Eons', 'Epic', 'Epicís', 'Epione', 'Episode', 'Epoch', 'Equation', 'Equations', 'Equinox', 'Equipment', 'Equipped', 'Equity', 'Equus', 'Era', 'Eradicator', 'Eradicators', 'Erasure', 'Erazor', 'Erazors', 'Ercole', 'Erdel', 'Erdels', 'Ereshkigal', 'Ergo', 'Eric', 'Erica', 'Erich', 'Erichs', 'Erics', 'Erik', 'Eriks', 'Eris', 'Erista', 'Erlanger', 'Ermac', 'Ermacs', 'Ermey', 'Ernest', 'Ernie', 'Eros', 'Errol', 'Erron', 'Erskine', 'Erskines', 'Erso', 'Erthold', 'Eru', 'Ervil', 'Erwin', 'Erwins', 'Erynys', 'Es', 'Escape', 'Escaped', 'Escaping', 'Escarlata', 'Eskimo', 'Esme', 'Espa', 'Especially', 'Espio', 'Espionage', 'Essart', 'Essen', 'Essence', 'Essex', 'Esso', 'Estaban', 'Estate', 'Esther', 'Esva', 'Esvas', 'Eta', 'Eternal', 'Eternally', 'Eternals', 'Eternia', 'Eternity', 'Eternitys', 'Ethan', 'Ethereals', 'Ethically', 'Ethiopia', 'Eton', 'Etrigan', 'Etrigans', 'Etta', 'Euboea', 'Eudia', 'Eugene', 'Eugenes', 'Eugenix', 'Eulogies', 'Euphorian', 'Eurasia', 'Eurasias', 'Eurayle', 'Eurocirque', 'Europe', 'EuropeAmerica', 'European', 'Europes', 'Eurth', 'Eurus', 'Euthanasia', 'Eva', 'Evading', 'Evan', 'Evangeline', 'Evangelist', 'Evaniercitation', 'Evans', 'EvanstonIllinois', 'Eve', 'Eveline', 'Evelyn', 'Even', 'Event', 'Events', 'Eventually', 'Ever', 'Everett', 'Everglades', 'Evers', 'Every', 'Everyday', 'Everyman', 'Everyone', 'Everyones', 'Everything', 'Evie', 'Evil', 'Evil16', 'EvilFor', 'EvilUnder', 'Evilhawk', 'EvilhawkDarkhawks', 'Evilsupermanpng', 'Evolution', 'Evolutionaries', 'Evolutionary', 'Evolutionarys', 'Evolved', 'Ewok', 'Exactly', 'Excalibur', 'Excaliburs', 'Excalibursonicv13', 'Exceeded', 'Exceeding', 'Excella', 'Excellent', 'Excello', 'Excelsior', 'Exchanging', 'Excited', 'Executioner', 'Executive', 'Exemplar', 'Exemplars', 'Exeter', 'Exhausted', 'Exhumes', 'Exile', 'Exiled', 'Exiles', 'Existence', 'Exitar', 'Exitars', 'Exobiology', 'Exodus', 'Exotica', 'Expansion', 'Expecting', 'Experience', 'Experiencing', 'Experiments', 'Explaining', 'Exploring', 'Explosive', 'Expo', 'Exposed', 'Exposing', 'Express', 'Extant', 'Extended', 'Extermination', 'Exterminator', 'Exterminators', 'External', 'Extinction', 'Extinguisher', 'Extirpia', 'Extractor', 'Extranormal', 'Extraordinary', 'Extreme', 'Extremely', 'Extremis', 'Extremisenhanced', 'Eyam', 'Eyams', 'Eye', 'Eyes', 'Ezekiel', 'Ezekiels', 'Ezili', 'Ezio', 'Eä', 'F', 'F014', 'FBI', 'FBIs', 'FEAR', 'FF', 'FFs', 'FOXALIVE', 'FOXDIE', 'FOXHOUND', 'FOXHOUNDs', 'FREEDOM', 'Fa', 'Fabian', 'Facade', 'Face', 'FaceCamo', 'Faced', 'Facehugger', 'Faceless', 'Faces', 'Facility', 'Facing', 'Fact', 'Factor', 'Factory', 'Faerie', 'Fahrenheit', 'Failed', 'Failing', 'Fair', 'Fairbairn', 'Fairchild', 'Faith', 'Faizul', 'Faizuls', 'Falcon', 'Falcone', 'Falcones', 'Falcons', 'Fall', 'Fallen', 'Falling', 'Falls', 'Fallville', 'False', 'Falsely', 'Falsworth', 'Falsworths', 'Faltine', 'Famed', 'Family', 'Familys', 'Famine', 'Famous', 'Fan', 'Fandral', 'Fandrals', 'Fang', 'Fanletamen', 'Fantasma', 'Fantastic', 'Fantasticar', 'Fantastics', 'Fantomex', 'Fantomexes', 'Fantomexs', 'Faora', 'Far', 'Faraday', 'Farley', 'Faroe', 'Farouk', 'Farouks', 'Farpoint', 'Farrell', 'Faruka', 'Fasaud', 'Fasauds', 'Fascinated', 'Fashima', 'Fast', 'Fastforward', 'Fatale', 'Fate', 'FateChild', 'Fates', 'Fatgirl', 'Father', 'Fathers', 'Fatman', 'Fatmans', 'Fault', 'Faust', 'Faustus', 'Fawcett', 'Fay', 'FaÁade', 'Fear', 'Fearing', 'Fearless', 'Fearsome', 'Feathered', 'Feathers', 'Features', 'Feb', 'February', 'Federal', 'Federation', 'Federico', 'Feedback', 'Feeling', 'Fefnir', 'Feigning', 'Feitherans', 'Felicia', 'Felicias', 'Felicity', 'Felicitys', 'Felix', 'Felled', 'Fellow', 'Fellowship', 'Felon', 'Felucia', 'Female', 'Femizonia', 'Femizons', 'Femme', 'Fen', 'FengTu', 'Fenris', 'Fens', 'Fenwick', 'FerPorr', 'Fera', 'Feral', 'Fergusion', 'Fermin', 'Fernus', 'Ferrari', 'Ferrell', 'Ferrett', 'Ferris', 'Ferro', 'Ferrouz', 'Ferrouzs', 'Festival', 'Fetison', 'Fett', 'Fettes', 'Fetts', 'Fey', 'Feys', 'Fi', 'Fiddler', 'Field', 'Fields', 'Fieldston', 'Fiend', 'Fiends', 'Fifteen', 'Fifth', 'Fight', 'Fighter', 'Fighters', 'Fighting', 'Figure', 'Figuring', 'Files', 'Filled', 'Fillians', 'Film', 'Fin', 'Final', 'Finales', 'Finalhazard', 'Finality', 'Finally', 'Finarfin', 'Finding', 'Findis', 'Fine', 'Fines', 'Finest', 'Finger', 'Fingered', 'Fingers', 'Fingolfin', 'Fingolfins', 'Fingon', 'Finish', 'Finn', 'Finwë', 'Finwës', 'Fiona', 'Fionas', 'Fire', 'FireIt', 'Firebird', 'Firebrand', 'Fired', 'Firefist', 'Firefly', 'Firehawk', 'Fireheart', 'Firelord', 'Firelords', 'Firenze', 'Fires', 'Firestar', 'Firestom', 'Firestorm', 'Firestorms', 'Firestrike', 'Firm', 'Firma', 'First', 'Firtf', 'Fischer', 'Fish', 'FishGod', 'Fisher', 'Fisherman', 'Fishermans', 'Fishermen', 'Fisk', 'Fisks', 'Fist', 'Fisto', 'Fists', 'Fitz', 'Fitzgerald', 'Fitzroy', 'Fitzroys', 'Fitzs', 'Five', 'Fixer', 'Fixit', 'Fiyero', 'Flag', 'Flagboy', 'Flagg', 'Flags', 'Flagsmasher', 'Flame', 'Flamebird', 'Flamel', 'Flamemeiser', 'Flames', 'Flamingo', 'Flare', 'Flarkin', 'Flash', 'FlashDoctor', 'FlashSavageSavitarKobra', 'Flashes', 'Flashpoint', 'Flashs', 'Flashthey', 'Flass', 'Flats', 'Flavia', 'Fleck', 'Fleeing', 'Fleet', 'Fleischtung', 'Flerken', 'Fletcher', 'Flicker', 'Flickers', 'Flickey', 'Flickies', 'Flicky', 'Flight', 'Flights', 'Flint', 'Flood', 'Flooded', 'Floodgate', 'Flora', 'Floral', 'Florence', 'Florent', 'Florentine', 'Flores', 'Florida', 'Florist', 'Floronic', 'Flowlight', 'Floyd', 'Floyds', 'Fluid', 'Flush', 'Flushing', 'Fly', 'Flyer', 'Flying', 'Flynn', 'Flynns', 'Flyover', 'Flyx', 'Foam', 'Focusing', 'Foe', 'Foes', 'Foggy', 'Foiled', 'Fold', 'Folding', 'Foley', 'Following', 'Fomor', 'FonTi', 'Fong', 'Fongji', 'Fontaine', 'Food', 'Fool', 'Foolkiller', 'Foom', 'Fooms', 'For', 'Forbidden', 'Forbush', 'Force', 'ForceJinn', 'Forcea', 'Forceattuned', 'Forced', 'Forceenergy', 'Forceonly', 'Forces', 'ForcesEdit', 'Forcesensitive', 'Forcesensitives', 'Forcesensitivity', 'Forcibly', 'Forcing', 'Forearm', 'Foreck', 'Foreign', 'Foreigner', 'Foreigners', 'Foremost', 'Forerunner', 'Forerunners', 'Foreshadowing', 'Forest', 'Forever', 'Forge', 'Forged', 'Forgemaster', 'Forgemasters', 'Forgery', 'Forges', 'Forgotten', 'Form', 'Formenos', 'Former', 'Formerly', 'Forming', 'Formless', 'Formling', 'Formlings', 'Formula', 'Forrest', 'Forrester', 'Forson', 'Fort', 'Fortress', 'Fortressbi', 'Fortresss', 'Fortunately', 'Fortunato', 'Fortune', 'Foster', 'Fosters', 'Foswell', 'Foswells', 'Found', 'Foundation', 'Foundations', 'Foundlings', 'Foundry', 'Fountain', 'Fountainhead', 'Four', 'Four27', 'FourThe', 'Fourarms', 'Fours', 'Foursaken', 'Fourth', 'Fox', 'Foxs', 'Foxx', 'Foxxs', 'Fragile', 'Frames', 'Framework', 'Fran', 'France', 'Frances', 'Francie', 'Francine', 'Francis', 'Francisco', 'Franco', 'Frank', 'Frankenstein', 'Frankensteins', 'Frankie', 'Franklin', 'Franklins', 'Franklinís', 'Franks', 'Fransisco', 'Fraser', 'Fraternity', 'Frazier', 'Freak', 'Freakshow', 'Fred', 'Fredd', 'Freddie', 'Freddy', 'Frederick', 'Free', 'Freed', 'Freedom', 'Freedoms', 'Freehold', 'Freeing', 'Freelance', 'Freelancer', 'Freeman', 'Freemasons', 'Frees', 'Freeza', 'Freezarealized', 'Freezas', 'Freeze', 'Freezes', 'French', 'FrenchAlgerian', 'Frenchie', 'Frenzied', 'Frenzy', 'Frenzys', 'Frequently', 'Freyja', 'Fricke', 'Frickett', 'Friday', 'Friedlander', 'Friedman', 'Friedrich', 'Friendly', 'Friends', 'Fries', 'Frieza', 'Frigga', 'Fright', 'Frightened', 'Frightful', 'Fritz', 'Frodo', 'Frodos', 'Frog', 'FrogMan', 'FrogMans', 'Froggy', 'Frogs', 'From', 'Front', 'Frontier', 'Frontiersman', 'Frontières', 'Frost', 'Frosts', 'Frozone', 'Frustrated', 'Frye', 'Fu', 'Fubukis', 'Fudge', 'Fudo', 'Fueled', 'Fuhrers', 'Fujikawa', 'Full', 'Fulton', 'Fun', 'Funaro', 'Funk', 'Funnest', 'Furies', 'Furious', 'Furiously', 'Furniss', 'Further', 'Furthermore', 'Fury', 'FuryDemigod', 'Furye', 'Furys', 'Fusion', 'Future', 'Fuwa', 'Fëanor', 'FëanorSee', 'Fëanors', 'Führer', 'G', 'GCPD', 'GENTEK', 'GI', 'GL', 'GLC', 'GLs', 'GNort', 'GODS', 'GRU', 'GUN', 'GUNs', 'GVW', 'GW', 'Gaara', 'Gaaz', 'Gabe', 'Gabi', 'Gabriel', 'Gabrielle', 'Gabriels', 'Gadget', 'Gadgetbi', 'Gadreel', 'Gaea', 'Gaeas', 'Gaelic', 'GageRadcliffe', 'Gahck', 'Gaia', 'Gaias', 'Gaining', 'Gakidou', 'Galactiac', 'Galactic', 'Galactipool', 'Galactipools', 'Galactus', 'Galactuslike', 'Galactuss', 'Galador', 'Galadorian', 'Galatine', 'Galatus', 'Galavan', 'Galaxy', 'Galeem', 'GalenKor', 'Galin', 'Gallagher', 'Galleria', 'Gallery', 'Gallows', 'Gambit', 'Gambits', 'Game', 'Gamemaster', 'Gamemnae', 'Gamemnaes', 'Games', 'Gamesman', 'Gamesmaster', 'Gamma', 'Gammapowered', 'Gammenon', 'Gamora', 'Gamoras', 'Gand', 'Gandalf', 'Gandolfi', 'Gang', 'Gangbuster', 'Gann', 'Ganondorf', 'Ganthet', 'Ganymed', 'Ganymede', 'Ganymedes', 'Ganyrog', 'Gar', 'Garamdon', 'Garbed', 'Garden', 'Gardendale', 'Gardener', 'Gardens', 'Gardner', 'Gareth', 'Garfield', 'Gargan', 'Gargans', 'Gargantus', 'Gargoyle', 'Garland', 'Garma', 'Garmadon', 'Garmadons', 'Garmas', 'Garner', 'Garokk', 'Garrett', 'Garretts', 'Garrick', 'Garricks', 'Garrington', 'Garringtons', 'Garrison', 'Garrok', 'Garryn', 'Gars', 'Gart', 'Garth', 'Garths', 'Gary', 'Garys', 'Garzon', 'Gate', 'Gatecrasher', 'Gates', 'Gateway', 'Gateways', 'Gatewaywith', 'Gath', 'Gathered', 'Gatherer', 'Gathering', 'Gaunt', 'Gauntlet', 'Gauntlets', 'Gauntletwielding', 'Gavin', 'Gavyn', 'Gawain', 'Gawains', 'Gay', 'Gayle', 'Gazette', 'Gazing', 'Gazzo', 'Gear', 'GearJockey', 'Gearhead', 'Gears', 'Geech', 'Gehenna', 'Gehennas', 'Geist', 'Geists', 'Gekko', 'Gellert', 'Gem', 'Gemini', 'Gemma', 'Gems', 'Gena', 'Gender', 'Gene', 'GeneBatch', 'Genecide', 'Genegineer', 'General', 'Generally', 'Generals', 'Generation', 'Generations', 'GenerationsEdit', 'Generator', 'Genesis', 'Genesisian', 'Genetic', 'Genetically', 'Genetics', 'Genetix', 'Geneva', 'Genevieve', 'Genis', 'GenisVell', 'GenisVells', 'Genius', 'Geniuss', 'Genocide', 'Genome', 'Genosha', 'Genoshan', 'Genoshas', 'Genovese', 'Genoveses', 'Gentek', 'Gentle', 'Gentleman', 'Gentlemen', 'GeoForce', 'GeoForces', 'Geoff', 'Geoffrey', 'Geonosis', 'Geordi', 'Georg', 'George', 'Georges', 'Georgi', 'Georgia', 'Geotroniks', 'Geptun', 'Gerald', 'Gerard', 'Gerber', 'Gerde', 'German', 'Germanic', 'Germanoccupied', 'Germans', 'Germany', 'Gerold', 'Gestapo', 'Getaway', 'Getting', 'Getty', 'Ghaur', 'Ghaurs', 'Ghazakhanian', 'Ghelmer', 'Ghetto', 'Ghost', 'Ghostfreak', 'Ghosts', 'Ghul', 'Ghuls', 'Gi', 'Giant', 'GiantMan', 'Giantess', 'Giants', 'Giardi', 'Gibbons', 'Gibár', 'Giddy', 'Gideon', 'Gideons', 'Gifted', 'Gifting', 'Giga', 'Gigan', 'Giganta', 'Gigantas', 'Giganto', 'Gigantrix', 'Gigi', 'Gijimu', 'GijimuAdded', 'GilDishpan', 'Gila', 'Gilbert', 'Gilded', 'Giles', 'Gill', 'Gillen', 'Gillian', 'Gilmore', 'Gilmour', 'Gilotina', 'Gilraen', 'Gilzean', 'Gim', 'Gims', 'Ginetta', 'Ginger', 'Gingo', 'Gingold', 'Ginny', 'Ginnys', 'Ginyu', 'Gionne', 'Girder', 'Girdle', 'Girescu', 'Girl', 'GirlDiana', 'Girls', 'GirlsBrewer', 'Giurescu', 'Given', 'Giving', 'Giza', 'Gizoid', 'Glades', 'Gladiator', 'Gladiators', 'Gladiatrix', 'Glaive', 'Glamor', 'Glasgow', 'Glass', 'Glastonbury', 'Glencoe', 'Glenda', 'Glenn', 'Glenville', 'Glider', 'Glob', 'Global', 'Globe', 'Globules', 'Gloria', 'Glorian', 'Glorious', 'Glove', 'Glow', 'Glum', 'Glums', 'Glyphs', 'Gmerl', 'Gmerls', 'Go', 'Goading', 'GoatDemon', 'Goatboy', 'Gobi', 'Goblet', 'Goblin', 'Goblins', 'Goblyin', 'Goblyn', 'God', 'Godbe', 'Goddess', 'Godfrey', 'Gods', 'GodsIn', 'GodsThe', 'Godseye', 'Godship', 'Godslayer', 'Godwatch', 'Godwave', 'Godwaves', 'Godworld', 'Godzilla', 'Gog', 'Gogs', 'Gohan', 'Gohans', 'Gohen', 'Going', 'Goku', 'Gokus', 'Golan', 'Gold', 'Goldbug', 'Golden', 'GoldenBlade', 'Goldenblade', 'Goldeneye', 'Golds', 'Goldstar', 'Golem', 'Golgotha', 'Goliath', 'Goliaths', 'Gomez', 'Gomi', 'Gomorrah', 'Gomurr', 'Gon', 'Gondor', 'Gone', 'Gonshi', 'Gonzales', 'GooGoo', 'Good', 'Goodman', 'Goodness', 'Goodnesss', 'Googam', 'Goose', 'Gordon', 'Gordons', 'Gordski', 'Gorgilla', 'Gorgon', 'Gorilla', 'Gorillas', 'Gorjoon', 'Gormuu', 'Gorn', 'Gorns', 'Goro', 'Gosamyr', 'Goshasei', 'Gossets', 'Gossett', 'Goten', 'Gotham', 'Gothams', 'Gothic', 'Gothmog', 'Gotterdamerung', 'Government', 'Gozzl', 'Grabbing', 'Grace', 'Graces', 'Graczia', 'Grade', 'Gradually', 'Graham', 'Grail', 'Granby', 'Grand', 'Grandfather', 'Grandmaster', 'Grandmasters', 'Grandpa', 'Granger', 'Grangers', 'Granny', 'Grannys', 'Grant', 'Grapplers', 'Grateful', 'Grave', 'Gravemind', 'Graverobber', 'Graves', 'Graveyard', 'Graviton', 'Gravitonium', 'Gravitons', 'Gravity', 'GravityEdit', 'Gravitys', 'Graxos', 'Gray', 'Graydon', 'Graydons', 'Graymalkin', 'Grayskull', 'Grayson', 'Graysons', 'Grayven', 'Great', 'Greater', 'Greatest', 'Greatly', 'Greece', 'Greedly', 'Greedo', 'Greedy', 'Greek', 'Greeks', 'Green', 'GreenBlue', 'Greene', 'Greens', 'Greenskyn', 'Greentown', 'Greenwich', 'Greenworld', 'Greer', 'Greers', 'Greg', 'Gregor', 'Gregorivich', 'Greithoth', 'Grell', 'Gremlin', 'Greta', 'Gretchen', 'Gretl', 'Gretls', 'Grey', 'GreyAshe', 'Greys', 'Greystone', 'Grid', 'Grids', 'Grieve', 'Grieving', 'Griffin', 'Griffith', 'Grifter', 'Grigori', 'Grille', 'Grim', 'Grimm', 'Grimorium', 'Grimorum', 'Grin', 'Grindelwald', 'Grinding', 'Grip', 'Grizzly', 'Grobe', 'Grodd', 'Grogg', 'Groot', 'Groots', 'Grotesk', 'Grotto', 'Grottu', 'Ground', 'Grounded', 'Groundhog', 'Group', 'Grove', 'Groves', 'Growing', 'Growth', 'Gruler', 'Grumech', 'Grundy', 'GrundyPNG', 'Grundys', 'Grunkle', 'Gryaznova', 'Gryaznovas', 'Gryffindor', 'Gryphon', 'Gs', 'Gsptlsnz', 'Guantanamo', 'Guard', 'Guardian', 'Guardians', 'Guards', 'Guardsman', 'Guardsmen', 'Guarino', 'Guatemala', 'Guessing', 'Guevaralike', 'Guided', 'Guido', 'Guild', 'Guilds', 'Guilt', 'Guiltridden', 'Guilty', 'Gulf', 'Gulka', 'Gulltown', 'Gulyadkin', 'Gun', 'Gunan', 'Gungan', 'Gunn', 'Gunners', 'Gunshot', 'Gunthers', 'Gurlukovich', 'Gurthrie', 'Gustav', 'Gustava', 'Guthrie', 'Guthry', 'Guy', 'Guys', 'Gwen', 'Gwendolyn', 'Gwens', 'Gymnasium', 'Gymnast', 'Gypsies', 'Gypsy', 'Gypsys', 'Gyrich', 'Gyrichs', 'H', 'HAAA', 'HAMMER', 'HAMMERs', 'HATE', 'HBR', 'HC', 'HCF', 'HCFs', 'HF', 'HFH', 'HG', 'HIV', 'HIVE', 'HIVEs', 'HMS', 'HQ', 'HR', 'HR421', 'HUAC', 'HWeapon', 'HYDRA', 'HYDRAAbteilung', 'HYDRAs', 'Haan', 'Haazareth', 'Habits', 'Hacienda', 'Hackett', 'Had', 'Haddad', 'Hadded', 'Hademar', 'Hades', 'Hady', 'Haelar', 'Hagen', 'Hagens', 'Hager', 'Hagg', 'Hagoromo', 'Hagreeves', 'Haifa', 'Haiku', 'Hailed', 'Hailing', 'Hair', 'Haithian', 'Haiti', 'Haitian', 'Haitians', 'Hakuba', 'Hal', 'Hala', 'Halas', 'Haldor', 'Haldors', 'Hale', 'Haleena', 'Hales', 'Haley', 'Half', 'HalfBlood', 'Halfghanagan', 'Halftrack', 'Halfworld', 'Halfworlders', 'Hall', 'Hallaile', 'Haller', 'Hallesy', 'Halley', 'Hallie', 'Hallies', 'Halloween', 'Hallows', 'Halls', 'Halo', 'Hals', 'Halwan', 'Haly', 'Halys', 'Hamburg', 'Hamill', 'Hamilton', 'Hamiltons', 'Hamir', 'Hamman', 'Hammer', 'Hammerhead', 'Hammerheads', 'Hammers', 'Hammond', 'Hampshire', 'Hampstead', 'Hampton', 'Hamura', 'Han', 'Hancock', 'Hancocks', 'Hand', 'Handcuffed', 'Hands', 'Handsome', 'Hang', 'Hangman', 'Hank', 'Hanks', 'Hannes', 'Hannibal', 'Hans', 'Hanscom', 'Hanumachine', 'Hanzo', 'Hapgood', 'Happened', 'Happersen', 'Happy', 'Happys', 'Harada', 'Harbin', 'Harbinger', 'Harbor', 'Hard', 'Hardball', 'Hardcore', 'Hardline', 'Hardware', 'Hardy', 'Hargrove', 'Harken', 'Harker', 'Harkness', 'Harlan', 'Harleen', 'Harleens', 'Harlem', 'Harlequin', 'Harley', 'Harleys', 'Harmless', 'Harmon', 'Harmony', 'Harness', 'Harnisch', 'Harold', 'Harper', 'Harpers', 'Harpies', 'Harpoon', 'Harpuia', 'Harpuias', 'Harrald', 'Harralds', 'Harras', 'Harrenhal', 'Harridan', 'Harrier', 'Harrierclass', 'Harriers', 'Harriet', 'Harris', 'Harrison', 'Harry', 'Harrys', 'Hart', 'Hartley', 'Hartleys', 'Harts', 'Hartwig', 'Harvard', 'Harvest', 'Harvester', 'Harvey', 'Harveys', 'Has', 'Hasashi', 'Hashirama', 'Hashiramas', 'Hashshashins', 'Hastings', 'Hatake', 'HatchetMan', 'Hate', 'HateMonger', 'HathSetVandal', 'Hating', 'Hatter', 'Hatters', 'Hatut', 'Haukins', 'Haukka', 'Haunt', 'Hauntbi', 'Haunted', 'Haupenstein', 'Haupstein', 'Havania', 'Haven', 'Havenrock', 'Having', 'Havok', 'Havokled', 'Havoks', 'Hawaii', 'Hawk', 'Hawke', 'Hawkeye', 'HawkeyeasGoliath', 'Hawkeyes', 'Hawkgirl', 'Hawkgirls', 'Hawkins', 'Hawkman', 'Hawkmans', 'Hawks', 'Hawkwoman', 'Hawley', 'Hayden', 'Haydens', 'Hayes', 'Haynes', 'Haywire', 'Hazard', 'Haze', 'Hazmat', 'Hbomb', 'He', 'HeMan', 'Head', 'Headbanger', 'Headhunter', 'Heading', 'Headlok', 'Headloks', 'Headmaster', 'Headmen', 'Headmens', 'Headmistress', 'Headpool', 'Headquarters', 'Headset', 'Headsman', 'Healer', 'Healing', 'Health', 'Hearing', 'Heart', 'HeartShaped', 'Heartbroken', 'Hearts', 'Heat', 'Heatblast', 'Heather', 'Heatwave', 'Heaven', 'Heavenly', 'Heavens', 'Heavenspan', 'Heavy', 'Hecate', 'Hecates', 'Hecatomb', 'HecatombWith', 'Hecatonchires', 'Hecht', 'Hector', 'Hedgehog', 'Hedgehoghbi', 'Hedy', 'Heeding', 'Heel', 'Heffner', 'Hegeman', 'Heggra', 'Heggras', 'Heidelberg', 'Height', 'Heights', 'Heike', 'Heimdall', 'Heinlein', 'Heinrich', 'Heist', 'Hel', 'Hela', 'Helas', 'Helcaraxë', 'Helen', 'Helena', 'Helenas', 'Helenes', 'Helens', 'Helfern', 'Helga', 'Helicarrier', 'Helicarriers', 'Heliopic', 'Helios', 'Helium', 'Hell', 'HellLord', 'HellLords', 'Hellblazer', 'Hellboy', 'Hellboys', 'Hellcarrier', 'Hellcat', 'Hellene', 'Heller', 'Hellfern', 'Hellfire', 'Hellgranted', 'Hellhouse', 'Hellion', 'Hellions', 'Helllord', 'Helllords', 'Hellman', 'Hello', 'Hellphyr', 'Hellphyrpossessed', 'Hells', 'Hellscout', 'Hellsing', 'Hellspawn', 'Hellstorm', 'Hellstrom', 'Hellstroms', 'Hellverine', 'Helmet', 'Helmut', 'Helmuth', 'Helmuts', 'Helmy1', 'Help', 'HelpBaron', 'Helping', 'Helsing', 'Helsings', 'Helzinger', 'Helzingers', 'Hem', 'Hemingway', 'Hemisphere', 'Hence', 'Henceforth', 'Henchmen', 'Hendry', 'Henri', 'Henry', 'Henshaw', 'Henshaws', 'Hephaestus', 'Hephaestuss', 'Hephestus', 'Hepzibah', 'Her', 'Hera', 'Heracles', 'Herald', 'HeraldExpress', 'Heralds', 'Heras', 'Herb', 'Herbert', 'Hercules', 'Here', 'Heres', 'Heretic', 'Herman', 'Hermann', 'Hermes', 'Hermeswho', 'Hermione', 'Hermit', 'Hermonia', 'Hero', 'Heroes', 'Heroeshbi', 'Heroic', 'Heros', 'Herrera', 'Herself', 'Heru', 'Hes', 'Hesita', 'Hestia', 'Hetacomb', 'Heven', 'Hex', 'Hexapus', 'Hexapuses', 'Heywood', 'Hezlet', 'HiTech', 'Hicks', 'Hidalgo', 'Hidden', 'Hideaway', 'Hideki', 'Higgins', 'High', 'HighCommand', 'HighKing', 'HighTech', 'Higher', 'Highest', 'Highfather', 'Highfathers', 'Highgarden', 'Highland', 'Highlands', 'Highmasters', 'Hightower', 'Highwater', 'Highway', 'Highwaybi', 'Highwayman', 'Hijacker', 'Hijacking', 'Hilda', 'Hill', 'Hilliard', 'Hills', 'Him', 'Himalayan', 'Himalayas', 'Himon', 'Himself', 'Hinata', 'Hindsight', 'Hindu', 'Hinduism', 'Hines', 'Hippolyta', 'Hippolytas', 'Hippoylta', 'Hiram', 'Hirano', 'Hire', 'Hired', 'Hiring', 'Hiro', 'HiroAmin', 'HiroKala', 'Hiroim', 'Hiros', 'Hiroshima', 'Hiroshis', 'Hiruzen', 'His', 'Hisako', 'Hispanic', 'History', 'Hit', 'HitGirl', 'HitGirls', 'HitMonkey', 'HitMonkeys', 'Hitler', 'Hitlers', 'Hits', 'Hive', 'Hives', 'Hiyshi', 'Hlythri', 'Ho', 'Hoan', 'Hobart', 'Hobbit', 'Hobbits', 'Hobgoblin', 'Hobs', 'Hodge', 'Hodges', 'Hodomur', 'Hoffman', 'Hogan', 'Hogans', 'Hogarth', 'Hogarths', 'Hoggish', 'Hogun', 'Hogwarts', 'Hokage', 'Hokum', 'Hokuto', 'Hol', 'Holcroft', 'Holden', 'Holding', 'Hole', 'Holiday', 'Holland', 'Hollands', 'Hollenbeck', 'Holliday', 'Hollis', 'Holliway', 'Hollow', 'HollowPenance', 'Holly', 'Hollys', 'Hollywood', 'Holmes', 'Holmess', 'Holocaust', 'Holt', 'Holy', 'Home', 'Homeland', 'Homeless', 'Homeworld', 'Homo', 'Homosapiens', 'Homunculus', 'Honan', 'Hondo', 'Hong', 'HongKong', 'Honor', 'Hood', 'Hooded', 'Hoods', 'Hooper', 'Hooty', 'Hoover', 'Hooverville', 'Hope', 'Hopefully', 'Hopes', 'Hoping', 'Hopscotch', 'Horace', 'Horde', 'Hordes', 'Horgan', 'Horizon', 'Hormone', 'HormoneHer', 'Horn', 'Horne', 'Hornet', 'Horrible', 'Horribles', 'Horribly', 'Horrified', 'Horse', 'Horselike', 'Horseman', 'Horsemen', 'Horstbaden', 'Horton', 'Horus', 'Hoshi', 'Hoshigaki', 'Hoshis', 'Hoskins', 'Hospice', 'Hospiceís', 'Hospital', 'Host', 'Hoster', 'Hosters', 'Hostilities', 'Hot', 'Hotel', 'Hoth', 'Hotline', 'Hound', 'Hounds', 'Hour', 'HourMan', 'Hourman', 'Hours', 'House', 'Houses', 'Houston', 'How', 'Howard', 'Howards', 'However', 'Howland', 'Howlers', 'Howlett', 'Howletts', 'Howling', 'Howver', 'Hrimhari', 'Hronmeers', 'Hroth', 'Hs', 'Hsu', 'Hsuin', 'Htrae', 'HuUl', 'Huang', 'Hub', 'Hubert', 'Huberts', 'Hubs', 'Hudson', 'Hudsons', 'Hugh', 'Hughes', 'Hugo', 'Hulk', 'HulkBuster', 'Hulkbuster', 'HulkedOut', 'Hulkless', 'Hulklike', 'Hulkling', 'Hulkpool', 'Hulks', 'Human', 'HumanAtlantean', 'Humanity', 'Humanitys', 'Humans', 'Humber', 'Humbug', 'Humiliation', 'Humpty', 'Humus', 'Hunan', 'Hundreds', 'Hungan', 'Hungarian', 'Hungary', 'Hunger', 'Hunk', 'Hunkel', 'Hunkels', 'Hunt', 'Huntara', 'Hunte', 'Hunted', 'Hunter', 'HunterGatherers', 'HunterPrey', 'Hunters', 'Hunting', 'Huntress', 'Huntsman', 'Huph', 'Huron', 'Hurricane', 'Hurt', 'Hurts', 'Hurut', 'Hush', 'Hushs', 'Husk', 'Husks', 'Hutt', 'Hutts', 'HyBrasil', 'Hyalt', 'Hyalts', 'Hyatt', 'Hyborean', 'Hyborian', 'Hybrid', 'Hybrids', 'Hyde', 'Hydes', 'Hydra', 'Hydras', 'HydroMan', 'HydroMans', 'Hyena', 'Hylthri', 'Hylthris', 'Hyoh', 'Hyper', 'Hyperactivity', 'Hyperbolic', 'Hyperborean', 'Hyperboreans', 'Hyperboreas', 'Hyperclan', 'Hypergoon', 'Hyperion', 'Hypersensitized', 'Hypothesis', 'Hyppokri', 'Hyūga', 'Hyūgas', 'Hōō', 'I', 'IChing', 'ID', 'IDlocked', 'IEdit', 'II', 'IIEdit', 'III', 'III4', 'IIs', 'IL', 'ILL', 'ILord', 'IN', 'INC', 'INVASION', 'IQ', 'ISAAC', 'ISAACs', 'IT', 'IV', 'IX', 'Ian', 'Iblis', 'IbnLaAhad', 'Icarus', 'Ice', 'IceMan', 'Iceberg', 'Iceman', 'Icemans', 'Ichiki', 'Ichirō', 'Icicle', 'Id', 'Idaho', 'Idea', 'Identity', 'Idie', 'Idiot', 'Iditarod', 'Ids', 'Idylist', 'Idylists', 'Idyllists', 'Iera', 'If', 'Ifrit', 'Ifrits', 'Igle', 'Ignition', 'Ignoring', 'Igor', 'Ikaris', 'Ikor', 'Ikors', 'Ikthalon', 'Il', 'Ilaney', 'Illinois', 'Illumina', 'Illuminas', 'Illuminati', 'Illuminatis', 'Illyana', 'Illyanas', 'Ilona', 'Ilsa', 'Iluminados', 'Iluthin', 'Ilúvatar', 'Im', 'Image', 'Imagine', 'Imaya', 'Imbuing', 'Imei', 'Imeis', 'Immediately', 'Immersed', 'Immortal', 'Immortalis', 'Immortals', 'Immortus', 'Imogen', 'Imp', 'Impact', 'Impactbi', 'Imperative', 'Imperator', 'Imperfect', 'Imperial', 'Imperieces', 'Imperiex', 'Imperiexprobe', 'Imperiexs', 'Imperium', 'Imperliaist', 'Impluse', 'Impossible', 'Impostor', 'Impress', 'Impressed', 'Impressively', 'Imprisoning', 'Impulse', 'Impulses', 'Imra', 'In', 'InBetweener', 'Inafune', 'Inanna', 'Inc', 'Incan', 'Incand', 'Incandescent', 'Incapable', 'Incapacitated', 'Incarcerated', 'Incarceration', 'Incident', 'Including', 'Incorporated', 'Increasing', 'Increasingly', 'Incredible', 'Incredibles', 'Incredibly', 'Incubus', 'Incursion', 'Incursions', 'Indebted', 'Indeed', 'Indelicato', 'Indelicatos', 'Independence', 'Independent', 'Index', 'India', 'Indian', 'Indiana', 'Indians', 'Indies', 'Indigo', 'Indigo1', 'Indigos', 'Indis', 'Indonesia', 'Indries', 'Industrial', 'Industrialist', 'Industries', 'Indy', 'Indys', 'Inedible', 'Inertia', 'Inertias', 'Inevitably', 'Inexplicably', 'Infantry', 'Infectia', 'Infernal', 'Inferno', 'Inferno42', 'Infiltrator', 'Infiltrators', 'Infinite', 'Infinites', 'Infinities', 'Infinity', 'InfinityMan', 'Informationsilk', 'Infuriated', 'Inhabitants', 'Inheritor', 'Inheritors', 'Inhuman', 'Inhumans', 'Initially', 'Initiative', 'Initiatives', 'Injecting', 'Injured', 'Injuries', 'Injustice', 'Ink', 'Inkose', 'Inn', 'Inner', 'Innovations', 'Ino', 'Inquisition', 'Inquisitor', 'Inquisitors', 'Insane', 'Insanity', 'Insect', 'Insectivorid', 'Insectovorids', 'Inside', 'Insider', 'Insiders', 'Insight', 'Insisting', 'Inspect', 'Inspector', 'Inspired', 'Instant', 'Instead', 'Instinct', 'Institute', 'Instructed', 'Insulted', 'Insurgency', 'Insurgencys', 'Insurgents', 'Insuricare', 'Integrated', 'Intel', 'Intelligence', 'Intelligences', 'Intelligencia', 'Intelligencias', 'Intensity', 'Intent', 'InterNation', 'Intercepting', 'Interestingly', 'Intergang', 'Interloper', 'Internal', 'International', 'Internationals', 'Internet', 'Interogating', 'Interpol', 'Interpreter', 'Interrupted', 'Interstellar', 'Intervention', 'Intiative', 'Intolerance', 'Intranet', 'Intrigued', 'Introduced', 'Introducing', 'Intrude', 'Intuiting', 'Inuit', 'Inundated', 'Inupiat', 'Invader', 'Invaders', 'Invasion', 'Investigating', 'Investigation', 'Investigations', 'Investigative', 'Investigators', 'Invincible', 'Invisibility', 'Invisible', 'Invunche', 'Inwudu', 'Inza', 'Iolande', 'Ion', 'Iosif', 'Iowa', 'Ipod', 'Iqula', 'Iran', 'Iraq', 'Iraqi', 'Ireland', 'Irena', 'Irene', 'Irey', 'Irimë', 'Iris', 'Irish', 'Iriss', 'Iron', 'Ironclad', 'Ironheart', 'Ironically', 'Irons', 'Ironss', 'Iroquois', 'Iruka', 'Irving', 'Irvings', 'Irwin', 'Is', 'Isaac', 'Isaacs', 'Isabella', 'Isabelle', 'Ishima', 'Isildur', 'Isis', 'Isiss', 'Iskelior', 'Isla', 'Island', 'Islands', 'Islandshe', 'Isle', 'Isles', 'Isley', 'Islington', 'Iso8', 'Isotope', 'Israel', 'Israeli', 'Issue', 'Istanbul', 'Istari', 'It', 'Itachi', 'Itachis', 'Italian', 'Italy', 'Ithicon', 'Its', 'Itsu', 'Itsus', 'Ivan', 'Ivanov', 'Ivanova', 'Ive', 'Ives', 'Ivo', 'Ivos', 'Ivy', 'Ivys', 'Iwantsex', 'Ix', 'Ixion', 'Ixs', 'Izaya', 'Izayas', 'Izumi', 'Izzy', 'J', 'J586', 'JD', 'JE', 'JFK', 'JJ', 'JJonah', 'JLA', 'JLAJSA', 'JLAs', 'JLE', 'JLI', 'JOnn', 'JRR', 'JSA', 'JSAs', 'JT', 'Jabari', 'Jabba', 'Jace', 'Jacen', 'Jack', 'JackJack', 'JackJacks', 'Jackal', 'Jackals', 'Jackdaw', 'Jackie', 'Jackies', 'Jacks', 'Jackson', 'Jacksons', 'Jacob', 'Jacobi', 'Jacobis', 'Jacobs', 'Jacqueline', 'Jacquelines', 'Jacques', 'Jade', 'Jaeger', 'Jaffar', 'Jagi', 'Jaguar', 'Jah', 'Jahad', 'Jahads', 'Jahf', 'Jai', 'Jaime', 'Jaimes', 'Jaina', 'Jaine', 'Jais', 'Jake', 'Jakeem', 'Jakes', 'Jakku', 'Jakob', 'Jakou', 'Jallakuntilliokan', 'Jallakuntilliokans', 'Jamaane', 'Jamaanes', 'Jamaica', 'Jamal', 'Jambo', 'James', 'Jameson', 'Jamesons', 'Jamess', 'Jamie', 'Jamies', 'Jane', 'Janeiro', 'Janes', 'Janet', 'Janets', 'Janeway', 'Janey', 'Janeys', 'Jango', 'Janice', 'Janine', 'Jankos', 'Jans', 'Jansen', 'January', 'Janus', 'Japan', 'Japanese', 'Japans', 'Jar', 'Jardine', 'Jared', 'Jarella', 'Jarlson', 'Jarlsons', 'Jarnbjorn', 'Jarrod', 'Jarvis', 'Jasmine', 'Jason', 'Jasons', 'Jaspers', 'Java', 'Javelins', 'Javier', 'Jawa', 'Jawas', 'Jax', 'JaxUr', 'JaxUrs', 'Jay', 'Jayna', 'Jays', 'Jealous', 'Jean', 'JeanLuc', 'JeanPaul', 'JeanPauls', 'Jeanette', 'Jeanne', 'JeanneMarie', 'Jeannette', 'Jeans', 'Jeb', 'Jedi', 'Jeff', 'Jefferson', 'Jeffrey', 'Jeffries', 'Jehan', 'Jekyll', 'Jellyfish', 'Jemma', 'Jenkins', 'Jenni', 'Jennie', 'Jennifer', 'Jennifers', 'Jennis', 'Jenny', 'Jensen', 'Jenskot', 'Jeremiah', 'Jeremiahs', 'Jeremy', 'Jericho', 'Jerichos', 'Jerold', 'Jerome', 'Jeromes', 'Jerry', 'Jerrys', 'Jersey', 'Jervis', 'Jeryn', 'Jess', 'Jesse', 'Jesses', 'Jessica', 'Jessicas', 'Jessán', 'Jesuit', 'Jesus', 'Jet', 'Jets', 'Jew', 'Jewel', 'Jeweled', 'Jewelius', 'Jewels', 'Jewish', 'Jews', 'Jeyne', 'Jiaying', 'Jiayings', 'Jigsaw', 'Jigsaws', 'Jihad', 'Jihads', 'Jill', 'Jillian', 'Jills', 'Jim', 'Jim6', 'Jimaine', 'Jimeze', 'Jimmy', 'Jimmybut', 'Jimmys', 'Jims', 'Jinchurikis', 'Jinmen', 'Jinmens', 'Jinn', 'Jip', 'Jips', 'Jiraiya', 'Jiren', 'Jitter', 'Jitters', 'Jiwe', 'JiweVixen', 'Jiwes', 'Joan', 'Joanna', 'Joanne', 'Joanthan', 'Job', 'Jocasta', 'Jocastas', 'Joe', 'Joey', 'Johann', 'Johannesburg', 'Johanns', 'John', 'Johnathan', 'Johnny', 'Johnnys', 'Johns', 'Johnsmeyer', 'Johnsmeyers', 'Johnson', 'Johnsons', 'Joined', 'Joining', 'Joint', 'Joker', 'Jokerize', 'Jokerized', 'Jokers', 'Jokerwho', 'Jokerworld', 'Jolt', 'Jolts', 'Jon', 'Jonah', 'Jonahs', 'Jonas', 'Jonathan', 'Jonathans', 'Jonathon', 'Jones', 'Joness', 'Joneswas', 'Jonin', 'Jonn', 'Jonns', 'Jono', 'Jonothan', 'Jonothon', 'Jons', 'Jonson', 'Jonsons', 'Jonzz', 'Joon', 'Joost', 'JorEl', 'JorEls', 'Jordan', 'Jordans', 'Jorgenson', 'Jormungand', 'Jose', 'Josef', 'Joseph', 'Josephs', 'Josh', 'Joshs', 'Joshua', 'Josiah', 'Josin', 'Jost', 'Joto', 'Jotunheim', 'Journey', 'Jove', 'Joy', 'Joyboy', 'Joyce', 'Joystick', 'Jr', 'JrOn', 'Jrs', 'Json', 'Juan', 'Jubilation', 'Jubilee', 'Judas', 'Judd', 'Judds', 'Jude', 'Judge', 'Judgement', 'Judges', 'Judgment', 'Judith', 'Judomaster', 'Judomasters', 'Judson', 'Judsons', 'Judy', 'Juggernaut', 'Juggernauts', 'Juilana', 'Jujitsu', 'Jukei', 'Julia', 'Julian', 'Juliana', 'Julie', 'Julien', 'Julies', 'Juliet', 'Julius', 'July', 'Jump', 'Jun', 'Jundland', 'June', 'Jungle', 'Junichiro', 'Junior', 'Juniper', 'Junkpile', 'Junkyard', 'Juns', 'Junzo', 'Jupiter', 'Jury', 'Juspeczyk', 'Just', 'Juste', 'Justice', 'Justices', 'Justifier', 'Justifiers', 'Justin', 'Justine', 'Justines', 'Justins', 'Juvenile', 'Juyo', 'Jyn', 'K', 'K2SO', 'KAHN', 'KAHNS', 'KBEL', 'KCPD', 'KGB', 'KGBeast', 'KIA', 'KID', 'KING', 'KOMBAT', 'KRuel', 'KT', 'KaZar', 'Kaa', 'Kaballah', 'Kabuto', 'Kaczmarek', 'KadMon', 'Kadabra', 'Kadabras', 'Kadar', 'Kade', 'Kaecilius', 'Kafka', 'Kaga', 'Kage', 'Kageumbra', 'Kaguya', 'Kahina', 'Kahinas', 'Kahn', 'Kahndaq', 'Kahns', 'Kahseral', 'Kai', 'Kaim', 'Kaine', 'Kaines', 'Kaio', 'Kaioh', 'Kaioken', 'Kais', 'Kaishek', 'Kaisheks', 'Kakalios', 'Kakaranatharian', 'Kakaranthara', 'Kakarot', 'Kakarotto', 'Kakarrot', 'Kakashi', 'Kako', 'Kakos', 'Kakosy', 'Kal', 'KalEl', 'KalEls', 'KalL', 'KalLs', 'Kalamari', 'Kale', 'Kales', 'Kali', 'Kalibak', 'Kaliklak', 'Kaliph', 'Kalista', 'Kalistas', 'Kallark', 'Kallig', 'Kalmaku', 'Kalthea', 'Kaluu', 'Kaluus', 'Kamar', 'KamarTaj', 'Kamara', 'Kamehameha', 'Kamek', 'Kamekeri', 'Kamikaze', 'Kamo', 'Kampuchea', 'Kamuu', 'Kan', 'Kanassa', 'Kanata', 'Kanatas', 'Kancer', 'Kandor', 'Kandorians', 'Kane', 'Kanes', 'Kang', 'KangNebula', 'Kangnow', 'Kangs', 'KanjarRo', 'Kannit', 'Kano', 'Kansas', 'Kanto', 'Kantos', 'Kapateles', 'Kapatelis', 'Kapeteliss', 'Kapitalist', 'Kaptain', 'Kar', 'Kara', 'KaraKai', 'KarammJeev', 'Karas', 'Karate', 'Karathen', 'Karen', 'Kari', 'Karia', 'Karima', 'Karin', 'Karindu', 'Karkas', 'Karkull', 'Karl', 'Karla', 'Karlas', 'Karls', 'Karma', 'Karn', 'Karnak', 'Karnilla', 'Karnillas', 'Karoccan', 'Karpov', 'Karpovs', 'Karras', 'Karshon', 'Kasatka', 'Kase', 'Kasius', 'Kaslak', 'Kasler', 'Kasper', 'Kasumi', 'Kat', 'Katana', 'Katar', 'Katarina', 'Katarr', 'Katarthan', 'Katarthans', 'Kataru', 'Kate', 'Kates', 'Katha', 'Katharta', 'Katherine', 'Kathleen', 'Kathryn', 'Katie', 'Katma', 'Kato', 'Katopesla', 'Katos', 'Katsuyori', 'Katsyu', 'Kavita', 'Kawamoto', 'Kay', 'KayTuesso', 'Kaytoo', 'Kazar', 'Kazekage', 'KeHaan', 'Kearson', 'Keaton', 'Keatons', 'Keene', 'Keener', 'Keep', 'Keeper', 'Keepers', 'Keeping', 'Keewazi', 'Keeyah', 'Kefla', 'Keflas', 'Keith', 'Keldor', 'Kelex', 'Kelexs', 'Kell', 'Keller', 'Kelley', 'Kelly', 'Kellys', 'Kelsey', 'Kem', 'KemL', 'Kemp', 'Kempt', 'Ken', 'KenOh', 'Kendall', 'Kendra', 'Kendras', 'Kenji', 'Kennedy', 'Kennedys', 'Kennescook', 'Kenneth', 'Kenny', 'Kenobi', 'Kenojuak', 'Kensaku', 'Kenshiro', 'Kenshiros', 'Kenshirō', 'Kenskau', 'Kent', 'Kents', 'Kentucky', 'Kenway', 'Kenya', 'Kerlsil', 'Kerma', 'Kerridge', 'Kesels', 'Kessler', 'Kestrel', 'Ket', 'Ketch', 'Kets', 'Kettol', 'Kettols', 'Kevin', 'Kevins', 'Kevlar', 'Key', 'Keyes', 'Keystone', 'Keystonebased', 'KhLΘG', 'KhaTaar', 'Khadir', 'Khan', 'Khandaq', 'Khandaqs', 'Khanpng', 'Khans', 'KhemAdam', 'Khiron', 'Khonshu', 'Khonshus', 'Khordes', 'Khufu', 'Khund', 'Khundia', 'Khundian', 'Khunds', 'Khym', 'KiAdiMundi', 'Kia', 'Kick', 'KickAss', 'KickAsss', 'Kickass', 'Kickboxing', 'Kid', 'Kidders', 'Kiden', 'Kidens', 'Kidpool', 'Kids', 'Kierrok', 'Kig', 'Kijujuan', 'Kildare', 'Kilgore', 'Kilgrave', 'Kilgraves', 'Kiligrave', 'Kilimanjaro', 'Kill', 'Killbrew', 'Killebrew', 'Killebrews', 'Killed', 'Killer', 'Killers', 'Killgrave', 'Killgraves', 'Killian', 'Killians', 'Killing', 'Killmonger', 'Killmongers', 'Killpower', 'Kills', 'Killteam', 'Kilowatt', 'Kilowog', 'Kilowogs', 'Kim', 'Kimball', 'Kimiyo', 'Kimora', 'Kims', 'Kimura', 'Kimyo', 'Kincaid', 'Kincaids', 'Kinder', 'Kinder20', 'Kindly', 'King', 'King1', 'KingJones', 'KingLater', 'Kingdom', 'Kingdoms', 'Kingpin', 'Kingpins', 'Kingpinís', 'Kings', 'Kingsguard', 'Kingslayer', 'Kingston', 'Kingswood', 'Kinney', 'Kinross', 'Kinslaying', 'Kinsolving', 'Kintaro', 'Kinvara', 'Kio', 'Kira', 'Kiras', 'Kirby', 'Kirbyinspired', 'Kirbys', 'Kirigakures', 'Kirinos', 'Kirk', 'Kirke', 'Kisame', 'Kischine', 'Kismet', 'Kit', 'Kitana', 'Kitanas', 'Kitchen', 'Kits', 'Kittihawk', 'Kitty', 'Kittys', 'Kitzb', 'Kiwi', 'Kiyo', 'Klarion', 'Klaue', 'Klaus', 'Klaw', 'Klaws', 'Klaww', 'Klein', 'Kleinenshvitz', 'Kleinstock', 'Klempt', 'Klonus', 'Kltpzyxm', 'Klum', 'Klums', 'Knife', 'Knifes', 'Knight', 'KnightEdit', 'KnightThey', 'Knightfall', 'Knightress', 'Knights', 'Knightwing', 'Knives', 'Knocked', 'Knocking', 'Knockout', 'Knot', 'KnotTop', 'KnowMan', 'Knowhere', 'Knowhere6', 'Knowing', 'Knowledge', 'Knowles', 'Known', 'Knox', 'Knuckles', 'Knuckless', 'Knyazev', 'Kobald', 'Kobayashi', 'Kobik', 'Kobra', 'Kobras', 'Koenig', 'Koi', 'Koitsukai', 'Kojima', 'Koko', 'KolinsIn', 'Koliseum', 'Kollector', 'Komandr', 'Komandrs', 'Kombat', 'Kometes', 'Komodo', 'KonEl', 'Konan', 'Kong', 'Konieczni', 'Konoha', 'Konohagakure', 'Konohagakures', 'Konohamaru', 'Konohas', 'Konquest', 'Koo', 'Kooch', 'Kooky', 'Koopa', 'Koopalings', 'Kopetski', 'Kopski', 'Kor', 'KorathThanos', 'Korbal', 'Korbinite', 'Korbinites', 'Korbonite', 'Kord', 'Kordax', 'Kordaxs', 'Korea', 'Korean', 'KoreanAmerican', 'Korel', 'Korg', 'Koriandr', 'Korrek', 'Korriban', 'Korugans', 'Korugar', 'Korvac', 'Korvus', 'Korvuss', 'Kory', 'Koryak', 'Koshchei', 'Koshū', 'Kosmos', 'Kosmosian', 'Kotal', 'Kotals', 'Koth', 'Kouriers', 'Kouta', 'Kovacs', 'Kovacss', 'Kozo', 'Kozu', 'Kozus', 'Krag', 'Krahn', 'Krahns', 'Kraken', 'Krakoa', 'Krakor', 'Kramer', 'Krang', 'Krann', 'Kratos', 'Kraus', 'Krauser', 'Krausers', 'Kraven', 'KravenLater', 'Kravens', 'Kravinoff', 'Kravinoffs', 'Kray', 'Krays', 'Kree', 'KreeLar', 'KreeShiar', 'KreeSkrull', 'KreeWarrior', 'Krees', 'Kreon', 'Kril', 'Krillin', 'Kro', 'Kroenen', 'Kroenens', 'Krokwel', 'Krol', 'Kron', 'Krona', 'Kronan', 'Kronas', 'Kronika', 'Kronos', 'Kropp', 'Krosakis', 'Krowler', 'Krueger', 'Kruen', 'Krugarr', 'Kruun', 'Krux', 'Kruxs', 'Krypto', 'Krypton', 'Kryptonian', 'KryptonianHuman', 'Kryptonians', 'Kryptonite', 'Kryptonitetipped', 'Kryptons', 'Kryptos', 'Kryptzarros', 'Krystalin', 'Kryze', 'Kthara', 'Ktor', 'KuanYin', 'Kuasa', 'Kubik', 'Kubrick', 'Kubricks', 'Kucharski', 'Kuei', 'Kulan', 'Kulla', 'Kumogakure', 'Kun', 'KunLun', 'KunLuns', 'Kung', 'Kungs', 'Kunshi', 'Kuomintang', 'Kuragari', 'Kurfurstendamm', 'Kurios', 'Kurrth', 'Kurrumburra', 'Kurse', 'Kurt', 'Kurtis', 'Kurtiss', 'Kurts', 'Kurtz', 'KurtzJesse', 'Kurtzberg', 'Kush', 'Kushna', 'Kuttler', 'Kuurth', 'Kuurths', 'Kuwait', 'Kvch', 'Kwame', 'Kwang', 'Kwannon', 'Kwannons', 'Kwesi', 'Kwesis', 'Kworri', 'Kyle', 'Kyles', 'Kyllian', 'Kyln', 'Kylo', 'Kymaera', 'Kymellian', 'Kyodai', 'Kyoto', 'Kís', 'L', 'LA', 'LAPD', 'LAW', 'LCD', 'LEGION', 'LEGO', 'LMD', 'LMDs', 'LOA', 'LR', 'LRon', 'LRons', 'LSD', 'LSH', 'LSV', 'LSVs', 'LWS', 'LWSs', 'La', 'LaCoste', 'LaForge', 'LaFroyge', 'LaNiege', 'LaRone', 'LaVeau', 'Lab', 'Labeled', 'Laboratories', 'Laboratory', 'Laboratorys', 'Labs', 'Labyrinth', 'Lacaroo', 'Lachaise', 'Lacking', 'Lacy', 'Lad', 'Lads', 'Lady', 'Laforge', 'Lago', 'Lagoon', 'Lagos', 'Laguz', 'Lagzia', 'Lair', 'Laira', 'Lairas', 'Lake', 'Lakes', 'Lal', 'Lallor', 'Lama', 'Lamar', 'Lamars', 'Lamas', 'Lambert', 'Lammoth', 'Lan', 'Lana', 'Lanas', 'Lance', 'Lancelot', 'Lances', 'Land', 'LandMasters', 'Landau', 'Landers', 'Landing', 'Lando', 'Landon', 'Landos', 'Lands', 'Lane', 'LaneKent', 'Lanes', 'Lang', 'Langdon', 'Lange', 'Langkowski', 'Langley', 'Langowki', 'Langowski', 'Langram', 'Langs', 'Langstrom', 'Langstroms', 'Languages', 'Lannister', 'Lanothians', 'Lans', 'Lansinar', 'Lansing', 'Lantern', 'LanternHelp', 'LanternSilver', 'Lanterns', 'Lanthians', 'Lao', 'Lar', 'Lara', 'LaraEl', 'LaraPerez', 'Lardner', 'Larfleeze', 'Larkhill', 'Larry', 'Larsen', 'Larsens', 'Larva', 'Las', 'Laser', 'Lasers', 'Lashina', 'Lass', 'Lasses', 'Lasso', 'Last', 'Lastly', 'Latching', 'Lately', 'Later', 'Latex', 'Latino', 'Latnern', 'Latveria', 'Latverian', 'Laude', 'Laufey', 'Laugh', 'Laughed', 'Laughing', 'Laughs', 'Launch', 'Laura', 'Laurel', 'Lauren', 'Laurence', 'Laurences', 'Laurie', 'Lauries', 'Lava', 'Laveau', 'Lavecchia', 'Lavecchias', 'Lavoisin', 'Law', 'Lawenforcement', 'Lawless', 'Lawns', 'Lawrence', 'Lawson', 'Lawton', 'Lawyers', 'Layer', 'Layla', 'Laynia', 'Laynias', 'Lazaer', 'Lazaers', 'Lazar', 'Lazara', 'Lazars', 'Lazarus', 'Lazaruss', 'Lazerfist', 'Le', 'LeBeau', 'LeQuare', 'Leach', 'Lead', 'Leader', 'Leaders', 'Leading', 'Leaf', 'League', 'Leaguer', 'Leaguers', 'Leagues', 'Leah', 'Leaning', 'Leaper', 'Learning', 'Leather', 'Leavens', 'Leaves', 'Leaving', 'Lebanon', 'Lecarde', 'Led', 'Lee', 'Leech', 'Leechs', 'Leeds', 'Leena', 'Lees', 'Left', 'Legacy', 'Legal', 'Legally', 'Legault', 'Legend', 'Legendary', 'Legends', 'Legion', 'Legionnaires', 'Legionnires', 'Legions', 'Lego', 'Legolas', 'Lehigh', 'Lehnsherr', 'Lehnsherrs', 'Lei', 'Leia', 'Leiabut', 'Leias', 'Leibowitz', 'Leigh', 'Leiko', 'Leila', 'Leipzig', 'Leir', 'Leloup', 'Lemar', 'Lemaris', 'Lemmon', 'Lemnos', 'Lemuel', 'Lemuria', 'Lemurian', 'Lemurias', 'Lena', 'LenaBrainiac', 'Leni', 'Leniac', 'Leningrad', 'Lennox', 'Lensherr', 'Lentz', 'Lenz', 'Leo', 'Leodis', 'Leon', 'Leonard', 'Leonards', 'Leons', 'Leopold', 'Leper', 'Leria', 'Leron', 'Leroy', 'Les', 'Lesbian', 'Leslie', 'Less', 'Lester', 'Lestrange', 'Let', 'Lethal', 'Letsshake', 'Letters', 'Levantine', 'Level', 'Leviathan', 'Lew', 'Lewis', 'Lex', 'LexBots', 'LexCorp', 'LexCorps', 'Lexcorp', 'Lexcorps', 'Lexs', 'Leyline', 'Li', 'Liam', 'Lian', 'Lianna', 'Lians', 'Liantha', 'Liberation', 'Liberator', 'Liberators', 'Liberties', 'Liberty', 'Libido', 'Libra', 'Library', 'Libras', 'Libya', 'Libyan', 'Libération', 'Lieber', 'Liefeld', 'Lieutenant', 'Life', 'LifeModel', 'Lifeguard', 'Lifers', 'Lifesaver', 'Lifeseed', 'Lifestone', 'Lifeweb', 'Lifter', 'Light', 'Lightbringer', 'Lightchilde', 'Lighthouse', 'Lightmaster', 'Lightning', 'Lightray', 'Lights', 'Lightspeed', 'Like', 'Likely', 'Likewise', 'Lil', 'Lila', 'Lilandra', 'Lilandras', 'Lilas', 'Lilin', 'Lilith', 'Liliths', 'Lillian', 'Lilliman', 'Lily', 'Limbo', 'Limbs', 'Limehouse', 'Limitations', 'Limits', 'Lin', 'Lincoln', 'Lincolns', 'Linda', 'LindaKara', 'Lindas', 'Lindel', 'Linderman', 'Lindsay', 'Lindsey', 'Lindy', 'Line', 'Lineage', 'Liner', 'Lines', 'Link', 'Linka', 'Lionel', 'Lipton', 'Liptons', 'Liquid', 'Liquids', 'Lisa', 'Lisas', 'List', 'Listener', 'Literally', 'Literature', 'Litharge', 'Litterbug', 'Little', 'Littlefinger', 'Littlefingers', 'Littletrees', 'Liu', 'Liuchow', 'Liverpool', 'Livewire', 'Living', 'Liz', 'Lizard', 'Lizardform', 'Lizardlike', 'Lizards', 'Lizewski', 'Lizs', 'Lkz', 'Llan', 'Llewellyn', 'Lloyd', 'Lloyds', 'Llyra', 'Llyron', 'Lo', 'Loa', 'Lobe', 'Lobes', 'Lobo', 'Lobos', 'Lobster', 'Loc', 'Locating', 'Loch', 'LockUp', 'Locke', 'Locked', 'Lockhart', 'Lockhaven', 'Lockheed', 'Lockjaw', 'Lockjaws', 'Lockley', 'Locomotive', 'Locos', 'Locus', 'Locust', 'Lodestone', 'Lodge', 'Loeb', 'Loebs', 'Logan', 'Logans', 'Logarra', 'Logistics', 'Logomancer', 'Logos', 'Lois', 'Loiss', 'Loiswhich', 'Loki', 'Lokipossessed', 'Lokis', 'Lokiwas', 'Lokiís', 'Lomas', 'Lomass', 'Lombard', 'Lomerate', 'London', 'LondonAlisons', 'Loners', 'Lonestar', 'Long', 'Longbottom', 'Longing', 'Longo', 'Longos', 'Longshot', 'Longshots', 'Lonnie', 'Look', 'Looking', 'Loom', 'Loomworld', 'Loonies', 'Loont', 'Lopez', 'LorVan', 'LorZod', 'Lord', 'Lords', 'Lore', 'Lorelei', 'Loren', 'Lorena', 'Lori', 'Lorina', 'Loring', 'Lorna', 'Lornas', 'Lorz', 'Los', 'Losers', 'Losgar', 'Losing', 'Loss', 'Lost', 'Lot', 'Lotho', 'Lothos', 'Lotus', 'Lou', 'Louis', 'Louise', 'Louisiana', 'Lounge', 'Loup', 'Lousiana', 'Louvre', 'Love', 'Lovecraftian', 'Lovosno', 'Low', 'Lowell', 'Lowlies', 'Loyal', 'Loyd', 'Loyds', 'Lt', 'Ltd', 'Lubisch', 'Lucas', 'Lucass', 'Luchino', 'Lucia', 'Luciano', 'Lucias', 'Lucifer', 'Lucifers', 'Lucius', 'Luck', 'Luckily', 'Luckman', 'Lucky', 'Lucy', 'Ludwig', 'Lugman', 'Lugmans', 'Luigi', 'Luigis', 'Luke', 'Lukes', 'Lukin', 'Lukins', 'Lukus', 'Luma', 'Lumas', 'Lumina', 'Luminals', 'Lumiya', 'Lumley', 'Lumpkin', 'Lun', 'Luna', 'Lunaire', 'Lunar', 'Lunas', 'Lunatic', 'Lunatica', 'Lunatik', 'Luornu', 'Lupe', 'Lupin', 'Lupine', 'Lured', 'Luring', 'Lurker', 'Lurkers', 'Lurmen', 'Luther', 'Luthor', 'Luthorcorp', 'Luthors', 'Lux', 'Lyanna', 'Lydie', 'Lying', 'Lyja', 'Lykos', 'Lyla', 'Lyle', 'Lylla', 'Lymphoma', 'Lynaugh', 'Lynx', 'Lynxs', 'Lyons', 'Lyra', 'Lysa', 'Lysandra', 'Lysandras', 'Lysas', 'Lyssa', 'Lytton', 'M', 'M1shawhan', 'M1shawhanAdded', 'M4', 'M9', 'MACH', 'MACH1', 'MACH3', 'MACH4', 'MACHI', 'MACHIV', 'MAZE', 'MBA', 'MBaku', 'MCU', 'MChanga', 'MDay', 'MENTION', 'MGH', 'MGHharvesting', 'MI13', 'MI5', 'MI6', 'MIA', 'MIG', 'MILITIA', 'MIT', 'MJ', 'MK', 'MK11', 'MK9png', 'MKD', 'MKII', 'MKSMjpg', 'MKraan', 'MKrann', 'MKvDCUjpg', 'MLF', 'MMZ', 'MMZ2', 'MNagalah', 'MNagalahs', 'MO', 'MODAM', 'MODOK', 'MODOKs', 'MORTAL', 'MPH', 'MPlate', 'MRI', 'MRinn', 'MRinns', 'MSX', 'MURDER', 'MUTANT', 'MVP', 'MY', 'Ma', 'MaTi', 'Maaldoria', 'Maalecaandra', 'Maalefaak', 'Maarzon', 'Mabel', 'Mac', 'MacGargan', 'MacLain', 'MacPherran', 'MacTaggart', 'MacTaggert', 'MacTaggerts', 'Macabre', 'Macau', 'Macbeth', 'Mace', 'Macendale', 'Macendales', 'Maces', 'Mach', 'Machin', 'Machine', 'Machines', 'Machinesmith', 'Macho', 'Machus', 'Mack', 'Mackenzie', 'Mackenzies', 'Macon', 'Macready', 'Macro', 'Mad', 'MadDog', 'Madam', 'Madame', 'Madara', 'Madaras', 'Madcap', 'Madden', 'Maddened', 'Maddicks', 'Maddie', 'Maddies', 'Maddox', 'Maddy', 'Made', 'Madeleine', 'Madeline', 'Madelyn', 'Madelyne', 'Madelynes', 'Madison', 'Madisons', 'Madman', 'Madmen', 'Madnar', 'Madness', 'Madonna', 'Madonnas', 'Madras', 'Madre', 'Madripoor', 'Madripoors', 'Madrox', 'Madroxes', 'Madroxs', 'Maedhros', 'Maelstrom', 'Maelstroms', 'Maelys', 'Maester', 'Maestro', 'Maeve', 'Maeves', 'Mafia', 'Mafiamade', 'Mafias', 'Magala', 'Magan', 'Magda', 'Magdala', 'Magdalena', 'Magdas', 'Mageddon', 'Magellanic', 'Maggia', 'MaggiaFaction', 'Maggie', 'Maggies', 'Maggott', 'Magi', 'Magic', 'Magican', 'Magician', 'Magicians', 'Magicianso', 'Magicicada', 'Magik', 'Magiks', 'Maginaryworld', 'Magique', 'Magister', 'Magistrate', 'Magistrates', 'Magistrati', 'Magistrum', 'Maglor', 'Magma', 'Magnetism', 'Magneto', 'Magnetofather', 'Magnetoimpostor', 'Magnetos', 'Magnetrix', 'Magnum', 'Magnus', 'Magnuss', 'Magnusson', 'Magog', 'Magpie', 'Magus', 'Maguss', 'Maha', 'Mahapralaya', 'Mahkizmo', 'Mahtan', 'Mahtans', 'Mahunter', 'Main', 'Maine', 'Mainframe', 'Maintaining', 'Majestor', 'Majestors', 'Majestrix', 'Majesty', 'Majestys', 'Majin', 'Major', 'Makaniks', 'Makasai', 'Make', 'Maker', 'Makers', 'Maki', 'Makimura', 'Makimuras', 'Making', 'Makkari', 'Makluan', 'Makluans', 'Makluantrained', 'Maksai', 'Makulans', 'Malachi', 'Malachor', 'Malaya', 'Malcolm', 'Malden', 'Male', 'Malebolgia', 'Malebolgias', 'Malekith', 'Malekiths', 'Malfoy', 'Malibu', 'Malice', 'MalicePolaris', 'Malices', 'Malick', 'Malicks', 'Malignancy', 'Mall', 'Mallah', 'Mallen', 'Mallone', 'Mallory', 'Mallus', 'Malone', 'Malrey', 'Malus', 'Maluss', 'Mama', 'Mamba', 'Mamiya', 'Mammomax', 'Mammon', 'Mammons', 'Mammoth', 'Man', 'ManBat', 'ManBatlike', 'ManBats', 'ManBeast', 'ManBeasts', 'ManBull', 'ManKiller', 'ManThing', 'ManThings', 'ManThingshaped', 'ManWolf', 'ManWolfs', 'Manadrin', 'Manager', 'Managing', 'Mancha', 'Manchester', 'Manchu', 'Mandalore', 'Mandalorian', 'Mandalorians', 'Mandarin', 'Mandarins', 'Mandeja', 'Mander', 'ManderAzur', 'Mandos', 'Mandoss', 'Mandragora', 'Mandy', 'Mandys', 'Manelli', 'Manfredi', 'Manga', 'Mangel', 'Mangler', 'Mangles', 'Mangog', 'Mangogs', 'Manh', 'Manhattan', 'Manhattanite', 'Manhattans', 'Manhunter', 'ManhunterKiller', 'Manhunters', 'Manhunterwork', 'Manifestations', 'Manifester', 'Manipulated', 'Manipulating', 'Manipulator', 'Manitou', 'Manitowoc', 'Mankind', 'Mann', 'Manners', 'Manning', 'Mannites', 'Manny', 'Manor', 'Mans', 'Mansion', 'Manslaughter', 'Manslayer', 'Manstalker', 'Manta', 'Mantas', 'Mantis', 'Manuel', 'Manuscripts', 'Many', 'ManyFaced', 'Map', 'Mapleleaf', 'Mapmakers', 'Mar', 'MarVel', 'MarVell', 'MarVells', 'MarVels', 'Mara', 'Maranis', 'Marauder', 'Marauders', 'Marble', 'Marc', 'Marcello', 'March', 'Marcie', 'Marco', 'Marcos', 'Marcus', 'Marcy', 'Mardon', 'Marduk', 'Margali', 'Margalis', 'Margaret', 'Marge', 'Marges', 'Mari', 'Maria', 'Mariah', 'Marian', 'Mariana', 'Marianas', 'Marianna', 'Marianne', 'Marias', 'Marie', 'Maries', 'Marietta', 'Mariko', 'Marikos', 'Marilla', 'Marin', 'Marina', 'Marine', 'Marines', 'Marini', 'Mario', 'Marion', 'Marios', 'Maris', 'Marital', 'Maritanis', 'Maritorn', 'Maritza', 'Marius', 'Marj', 'Marjorie', 'Mark', 'Marketing', 'Marketingplan', 'Marko', 'Markos', 'Markov', 'Markovia', 'Markovian', 'Marksman', 'Markus', 'Marla', 'Marlene', 'Marlenes', 'Marlize', 'Marlo', 'Marly', 'Marmoragard', 'Marnot', 'Maroni', 'Maronis', 'Marov', 'Marovs', 'Marquez', 'Marr', 'Marrina', 'Marrow', 'Marrows', 'Marrying', 'Mars', 'Marsailles', 'Marsha', 'Marshall', 'Marshalls', 'Marston', 'Marstons', 'Martain', 'Martha', 'Martial', 'Martian', 'Martians', 'MartiansIt', 'Martin', 'Martina', 'Martinique', 'Martins', 'Marty', 'Martynec', 'Martyr', 'Maru', 'Marv', 'Marvel', 'Marvell', 'Marvels', 'Marvin', 'Marvs', 'Mary', 'MaryJanes', 'Marya', 'Maryland', 'Marylin', 'Marys', 'Masa', 'Masahashi', 'Masako', 'Masami', 'Masamune', 'Mask', 'Masked', 'Masks', 'Mason', 'Masque', 'Masquerade', 'Masques', 'Mass', 'Massachusetts', 'MassachusettsAcademy', 'Massacre', 'Massimos', 'Master', 'Mastered', 'Mastermind', 'Masterminds', 'Masters', 'Masterson', 'Mastodon', 'Mastodons', 'Masyaf', 'MatTi', 'Matango', 'Matangos', 'Matani', 'Match', 'Matches', 'Matchs', 'Mateo', 'Materializing', 'Materials', 'Math', 'Mathew', 'Mathias', 'Mathiass', 'Matrix', 'Matsu', 'Matsumoto', 'Matsuo', 'Matsuya', 'Matt', 'Matteo', 'Matter', 'Matters', 'Matthew', 'Matthews', 'Matthos', 'Mattie', 'Matties', 'Matto', 'Matts', 'Maul', 'Maura', 'Maureen', 'Mauvais', 'Maverick', 'MaverickSigma', 'Mavericks', 'Maveth', 'Maw', 'Max', 'Maxam', 'Maxie', 'Maxilin', 'Maxim', 'Maxima', 'Maximoff', 'Maximoffs', 'Maxims', 'Maximum', 'Maximus', 'Maximusdesigned', 'Maximuss', 'Maxine', 'Maxs', 'Maxwell', 'Maxx', 'May', 'Maya', 'Mayans', 'Maybe', 'Maybell', 'Mayday', 'Mayer', 'Mayersomeone', 'Mayfair', 'Mayfield', 'Mayfly', 'Mayflybut', 'Mayhem', 'Mayland', 'Mayor', 'Mays', 'Maz', 'Maze', 'Mazuri', 'Maître', 'Mbangawi', 'McBride', 'McCabe', 'McCabes', 'McCaffrey', 'McCarran', 'McCarthy', 'McCoy', 'McCoys', 'McCulloch', 'McDonald', 'McDougal', 'McDougals', 'McDowell', 'McGee', 'McGill', 'McGinnis', 'McGraw', 'McIver', 'McKeen', 'McKenzie', 'McKenzies', 'McMurdo', 'McNee', 'McNider', 'McNiders', 'McVey', 'Meachum', 'MeachumColleen', 'Meachums', 'Meadowlake', 'Meanstreak', 'Meanwhile', 'Mears', 'Meatmarket', 'Mech', 'Mecha', 'MechaRhino', 'Mechadoom', 'Mechadooms', 'Mechamage', 'Mechanic', 'Mechanical', 'Mechanics', 'Mechaniloid', 'Mechaniloids', 'Medallion', 'Medermade', 'Media', 'Medical', 'Medina', 'Mediterranean', 'Medlab', 'Medphyll', 'Medusa', 'Medusalith', 'Meeting', 'Meetra', 'Meg', 'Mega', 'MegaMerged', 'Megacruiser', 'Megacrusier', 'Megaera', 'Megalo', 'Megan', 'Megans', 'Megatak', 'Meggan', 'Mehen', 'MeiLing', 'Meister', 'Mekano', 'Mekt', 'Mekts', 'Meland', 'Melanie', 'Melee', 'Melinda', 'Melisandre', 'Melissa', 'Melita', 'Melkor', 'Melkors', 'Melody', 'Meloni', 'Meltdown', 'Melter', 'Member', 'Members', 'Memorial', 'Memoriam', 'Memories', 'Memory', 'Men', 'Menace', 'Menalippe', 'Mendel', 'Mendez', 'Mendoza', 'Mengelesque', 'Mens', 'Mental', 'Mentallo', 'Mentallopossessed', 'Mentallos', 'Mento', 'Mentor', 'Mentors', 'Menu', 'Meowser', 'Meowthra', 'Mephiles', 'Mephista', 'Mephisto', 'Mephistos', 'Mephitisoid', 'Mera', 'Meranno', 'Meras', 'Merc', 'Mercantile', 'Merced', 'Mercedes', 'Mercenaries', 'Mercenary', 'Mercer', 'Mercers', 'Mercs', 'Mercury', 'Mercuryinfused', 'Mercurys', 'Mercy', 'Mere', 'Meredith', 'Merged', 'Meriadoc', 'Meridian', 'MerikenJo', 'Merlin', 'Merlina', 'Merlinas', 'Merlins', 'Merlyn', 'Merlyns', 'Merrick', 'Merriem', 'Merro', 'Merryweather', 'Merton', 'Meryl', 'Mesmerized', 'Mesmero', 'Meson', 'Mesopotamian', 'Messiah', 'Messiahs', 'Messianic', 'Messina', 'MessnerLoebs', 'Metagene', 'Metahuman', 'Metal', 'Metalhead', 'Metallic', 'Metallo', 'Metallos', 'Metamorph', 'Metamorpho', 'Metaphysical', 'Metellus', 'MeteoTech', 'Meteor', 'MeteorTech', 'Meteorite', 'Methiop', 'Method', 'Metro', 'Metron', 'Metrons', 'Metropolis', 'Metropolisand', 'Metropoliss', 'Metroville', 'Mettle', 'Mexican', 'Mexico', 'Meyer', 'Meyers', 'Mgann', 'Mganns', 'Mhuruuks', 'Mia', 'Miago', 'Miami', 'Miamis', 'Micah', 'Micahs', 'Michael', 'Michaels', 'Michelangelo', 'Michelle', 'Michigan', 'Mick', 'Mickey', 'Micro', 'Microbe', 'Microforce', 'Micronauts', 'Microns', 'Microverse', 'Microverses', 'MidAtlantic', 'MidNite', 'MidNites', 'MidWest', 'Midas', 'Middle', 'MiddleEarth', 'Middleearth', 'Midgard', 'MidgardEarth', 'Midguard', 'Midland', 'Midlands', 'Midnight', 'Midnite', 'Midtown', 'Midway', 'Midwest', 'Midwestern', 'Midwesternbased', 'Miek', 'Might', 'Mightiest', 'Mighty', 'MightyAdam', 'Migration', 'Miguel', 'Miguels', 'Mikaal', 'Mikaboshi', 'Mikal', 'Mikalek', 'Mikaleks', 'Mike', 'Mikel', 'Mikhail', 'Mikhails', 'Miki', 'Mikiko', 'Mikis', 'Mikos', 'Milaje', 'Milan', 'Milbury', 'Mile', 'Mileena', 'Miles', 'Military', 'Milky', 'Millbrook', 'Millenium', 'Millennia', 'Millennium', 'Miller', 'Millers', 'Millie', 'Milligan', 'Million', 'Milo', 'Milton', 'MilwaukeeChicago', 'Mimi', 'Mimic', 'Mimics', 'Mina', 'Minas', 'Minato', 'Mind', 'Mindee', 'Mindfire', 'Mindless', 'Mindon', 'Mindor', 'Mindorians', 'Mindstar', 'Mindwiped', 'Mindy', 'Minerva', 'Minervas', 'Minette', 'Minion', 'Minions', 'Minister', 'Ministry', 'Minor', 'Minorus', 'Minuteman', 'Minutemen', 'Minutemens', 'Minutes', 'Minvera', 'Minveras', 'Mira', 'Miracle', 'Miracles', 'Miraclo', 'Miracloinduced', 'Miraculously', 'Mirage', 'Mirakuruenhanced', 'Miraluka', 'Miranda', 'Mirandas', 'Miriam', 'Mirror', 'Mirthful', 'Mischief', 'Misfit', 'Misfits', 'Miss', 'Missile', 'Missing', 'Mission', 'MissionEdit', 'Missions', 'Mississippi', 'Missouri', 'Mist', 'Mistake', 'Mistaking', 'Mister', 'Mistress', 'Mistrusted', 'Mists', 'Misty', 'Mistys', 'Mitchell', 'Mithrandir', 'Mithras', 'Mithrim', 'Miyagi', 'Mizen', 'Mjolnir', 'Mjölnir', 'Mk', 'Mkrann', 'Mnagalah', 'Mnemosyne', 'Mob', 'Mobile', 'Mobius', 'Mocked', 'Mockingbird', 'Mockingbirds', 'Mod', 'Mode', 'Model', 'Modern', 'Modifying', 'Modred', 'Modt', 'Module', 'Mogo', 'Mogol', 'Mogos', 'Mohawk', 'Mohinder', 'Mohinders', 'Moira', 'Moiras', 'Mojave', 'Mojo', 'MojoWorld', 'Mojos', 'Mojoverse', 'Mojoworld', 'Mokk', 'Mold', 'Molds', 'Mole', 'Molecule', 'Molecules', 'Molly', 'Moloch', 'Moloids', 'Molten', 'Mom', 'Moments', 'Mon', 'MonEl', 'Mona', 'Monaco', 'Monaghan', 'Monarch', 'Monarchs', 'Monastery', 'Monday', 'Mondo', 'Mondu', 'Monet', 'Money', 'Monger', 'Mongrain', 'Mongrel', 'Mongrels', 'Mongul', 'Monguls', 'Monica', 'Monique', 'Monitor', 'Monitors', 'Monk', 'MonkeyKing', 'Monks', 'Monna', 'Monolith', 'Monopole', 'Monroe', 'Monsieur', 'Monster', 'Monsters', 'Monstrobot', 'Monstroid', 'Montana', 'Montenegro', 'Monteriggioni', 'Montesi', 'Montez', 'Montezuma', 'Montgomery', 'Months', 'Montoya', 'Montoyas', 'Montreal', 'Monty', 'Moodragon', 'Moomji', 'Moon', 'MoonBoy', 'Mooncopter', 'Moondragon', 'Moondragons', 'Moone', 'Mooney', 'Moons', 'Moonshade', 'Moonshades', 'Moonstar', 'Moonstars', 'Moonstone', 'Moord', 'Moore', 'Moores', 'Morakov', 'Morality', 'Moran', 'Morbidly', 'Morbius', 'Mordecai', 'Morder', 'Mordo', 'Mordor', 'Mordos', 'Mordred', 'Mordru', 'More', 'Moreau', 'Moreover', 'Morg', 'Morgaine', 'Morgan', 'Morgana', 'Morgans', 'Morganton', 'Morgoth', 'Morgoths', 'Morgue', 'Mori', 'Moria', 'Moriarty', 'Moriartys', 'Morley', 'Morlock', 'Morlocks', 'Morlun', 'Morluns', 'Morning', 'Morningstar', 'Morocco', 'Morph', 'Morpheus', 'Morphine', 'Morphogenetic', 'Morphs', 'Morrat', 'Morrell', 'Morrigan', 'Morris', 'Morrison', 'Morrisons', 'Morro', 'Morrow', 'Morse', 'Mort', 'Mortak', 'Mortal', 'Mortally', 'Morte', 'Morticoccus', 'Mortimer', 'Morty', 'Mos', 'Moscow', 'Moses', 'Mosquito', 'Mosquitus', 'Mossad', 'Most', 'Motaro', 'Motel', 'Moth', 'Mother', 'Mothership', 'Mothma', 'Moths', 'Motier', 'Motion', 'Motivated', 'Motorcycle', 'Motorhead', 'Motors', 'Mound', 'Mount', 'Mountain', 'Mountains', 'Mountjoy', 'Mountjoys', 'Mourning', 'Mouth', 'Moved', 'Movement', 'Mover', 'Movers', 'Movie', 'Moving', 'Moxon', 'Mozart', 'Mr', 'MrCharles', 'Mrs', 'Ms', 'Mt', 'Much', 'Muggleborn', 'Mugglesupporting', 'Mugwump', 'Muir', 'Muller', 'Multiple', 'Multiplex', 'Multivac', 'Multiversal', 'Multiverse', 'Multiverses', 'Multiversesaving', 'Mumbai', 'Mummy', 'Munich', 'Munitions', 'Munni', 'Munroe', 'Murakamis', 'Muramasa', 'Muramasas', 'Murder', 'Murderwold', 'Murderworld', 'Murdock', 'Murdocks', 'Murkatesh', 'Murphy', 'Murphys', 'Murray', 'Musashis', 'Muscular', 'Musenda', 'Muses', 'Museum', 'Mushroom', 'Music', 'Muslims', 'Musou', 'Muspel', 'Mutant', 'Mutantes', 'Mutants', 'Mutantsupremacist', 'Mutate', 'Mutated', 'Mutates', 'Mutation', 'Mutha', 'Muto', 'Mutt', 'Muz', 'Muñoz', 'Mxy', 'Mxys', 'Mxyzptlk', 'Mxyzptlks', 'Mxyztplk', 'My', 'Myandr', 'Mycroft', 'Myer', 'Myndi', 'Myndian', 'Myr', 'Myra', 'Myras', 'Myriah', 'Myrnn', 'Myron', 'MysTech', 'Myspace', 'Mysteries', 'Mysterio', 'Mysterion', 'Mysterios', 'Mysterious', 'Mystery', 'Mystic', 'Mystique', 'Mystiques', 'Mystral', 'Míriels', 'N', 'N1', 'N2', 'N313', 'NASA', 'NASAs', 'NATO', 'NAstirh', 'NDaré', 'NEMESIS', 'NEST', 'NEWT', 'NExplorers', 'NGO', 'NGarai', 'NGassi', 'NJadaka', 'NJadakas', 'NJobu', 'NKVDemon', 'NORAD', 'NOW', 'NOWHERE', 'NSA', 'NY', 'NYC', 'NYPD', 'Na', 'Naboo', 'NabooHe', 'Naboos', 'Nabu', 'Nada', 'Nadas', 'Nadeem', 'Nadia', 'Nagan', 'Nagans', 'Nagasaki', 'Nagato', 'Naiad', 'Naiads', 'Naively', 'Nakamura', 'Nakamuras', 'Naked', 'Nales', 'Name', 'Named', 'Namek', 'Nameless', 'Names', 'Namikaze', 'Naming', 'Namor', 'Namora', 'Namoras', 'Namorita', 'Namors', 'Nanda', 'Nanny', 'Nannys', 'Nanto', 'Naomi', 'Nap', 'Napapa', 'Napier', 'Napoleon', 'Napoleonic', 'Nappa', 'Nara', 'Narrowly', 'Naruto', 'Narutos', 'Narutothe', 'Narwhal', 'Narya', 'Naryas', 'Nastasha', 'Nastirh', 'Nastraed', 'Nasty', 'Natalia', 'Natas', 'Natasha', 'Natasi', 'Natchios', 'Nate', 'Nates', 'Nathan', 'Nathaniel', 'Nathaniels', 'Nathans', 'Nation', 'National', 'Nations', 'Native', 'Natsumi', 'Natu', 'Natual', 'Natural', 'Naturally', 'Nature', 'Natus', 'Nautilus', 'Navajo', 'Naval', 'Navy', 'Navys', 'Nayland', 'NaylorBaldwin', 'Nazareth', 'Naze', 'NazeAdversary', 'Nazgûl', 'Nazi', 'Nazis', 'Ndipaya', 'Neal', 'Near', 'Nearly', 'Neat', 'Nebraska', 'NebraskaColorado', 'Nebula', 'Nebulas', 'Nebulon', 'Necrom', 'Necromancer', 'Necromancess', 'Necromon', 'Necroplasm', 'Necropolis', 'Necropsy', 'Necrosha', 'Ned', 'Need', 'Needed', 'Needham', 'Needhams', 'Needing', 'Needless', 'Nefaria', 'Nefarias', 'Nega', 'NegaBands', 'NegaBomb', 'NegaMan', 'NegaWisp', 'Negas', 'Negasonic', 'Negative', 'Neige', 'Neil', 'Neither', 'Neji', 'Nekoboh', 'NekobohAlison', 'Nekra', 'Nekron', 'Nekrons', 'Nels', 'Nelson', 'Nelsons', 'Nelvanna', 'Nemesis', 'Nemesiss', 'Nemo', 'Neo', 'NeoCrusaders', 'Neon', 'Neophyte', 'Nepal', 'Neptune', 'Neptunes', 'Neptunia', 'Neramani', 'Nerdanel', 'Nereel', 'Nereus', 'Nergal', 'Nergals', 'Nerkkod', 'Nero', 'Neron', 'Nerons', 'Nervous', 'Ness', 'Nest', 'Net', 'NetherLord', 'NetherSpawn', 'Netherlands', 'Netherspawn', 'Netherworlds', 'Network', 'Neutralizer', 'Neutron', 'Neuvo', 'Nevada', 'Never', 'Neverland', 'Nevermind', 'Nevertheless', 'Neville', 'New', 'Newcastle', 'Newell', 'Newly', 'Newmark', 'News', 'Newstime', 'Next', 'NextGeneration', 'Nextwave', 'Nexus', 'Nexuscreated', 'Nezhno', 'Ngarai', 'Ngoc', 'Nguyen', 'Niall', 'NicK', 'Nicaragua', 'Nichayko', 'Nicholas', 'Nichols', 'Nick', 'Nicks', 'Nicodemus', 'Nicolas', 'Nicole', 'Nicolosi', 'Nicolosis', 'Niels', 'Niffiehelm', 'Niffleheim', 'Niganda', 'Nigel', 'Night', 'NightSlayer', 'Nightbrother', 'Nightcrawler', 'Nightgaunts', 'Nighthawk', 'Nighthawks', 'Nightmare', 'Nightmaremanipulated', 'Nightmares', 'Nights', 'Nightshade', 'NightshadeShe', 'Nightshades', 'Nightside', 'Nightsisters', 'Nightwing', 'Nightwings', 'Nightwolf', 'Nigrisshi', 'Nigtcrawler', 'Nihilist', 'Nihilists', 'Nihilus', 'Niima', 'Nijo', 'Nike', 'Niki', 'Nil', 'NilRat', 'Nile', 'Niles', 'Nimrod', 'NimrodSeries', 'Nimrods', 'Nimue', 'Nimues', 'Nina', 'Ninas', 'Nine', 'NineTailed', 'NineTails', 'Ninepenny', 'Nineteen', 'Ninja', 'Ninjago', 'Ninjas', 'Nisanti', 'Nite', 'NiteOwl', 'Nitro', 'Nitroburn', 'Nitumbe', 'Nivena', 'Nixon', 'Nixons', 'Njadaka', 'No', 'NoName', 'NoPrize', 'Noah', 'Noahs', 'Nobel', 'Noble', 'Nobody', 'Nobu', 'Noburo', 'Nocturna', 'Nocturne', 'Nocturnus', 'Nohm', 'Noir', 'Nok', 'Nolan', 'Noleski', 'Nomad', 'Nomads', 'Nomanisan', 'Non', 'None', 'Nonetheless', 'Noonien', 'Nor', 'Nora', 'Noras', 'Norbert', 'Nord', 'Nordic', 'Normal', 'Normally', 'Norman', 'Normandy', 'Normans', 'Normie', 'Norn', 'Nornheim', 'Norrin', 'Norriss', 'Norrisss', 'Norse', 'Norsefire', 'North', 'Northern', 'Northfield', 'Northstar', 'Northwest', 'Norton', 'Norvell', 'Norway', 'Norwegian', 'Nostromo', 'Not', 'Notably', 'Note', 'Nothing', 'Notice', 'Noticing', 'Notified', 'Noting', 'Nottinghamshire', 'Nova', 'Novacontrolled', 'Novas', 'November', 'Now', 'Nowlan', 'Nox', 'Nr', 'Nth', 'Nuada', 'Nuadas', 'Nuclear', 'Nuidis', 'Nuke', 'Nuliajuk', 'Null', 'Nullifier', 'Nullitor', 'Number', 'Numero', 'Numerous', 'Nur', 'Nural', 'Nuremberg', 'Nurs', 'Nurse', 'Nursing', 'Nuso', 'Nuwa', 'Nuwas', 'Nxt', 'Nya', 'Nyas', 'Nyglar', 'Nykonn', 'Nyssa', 'Nyssa1', 'Nyssas', 'Nyx', 'Númenórean', 'O', 'OBrian', 'OConnell', 'ODiamonds', 'ODonnell', 'OES', 'OESs', 'OF', 'OFlynn', 'OGrady', 'OGs', 'OHara', 'OHirn', 'OIA', 'OILIX', 'OK', 'OMAC', 'OMACs', 'OMACsThere', 'ONE', 'ONEs', 'ONI', 'OPENING', 'OR', 'OReilly', 'OReillys', 'OSS', 'OX', 'OZ', 'Oa', 'Oan', 'Oannes', 'Oans', 'Oas', 'Oath', 'Obadiah', 'Obatala', 'Obeah', 'Obedience', 'Obelisk', 'Oberhauser', 'Oberon', 'ObiWan', 'Obito', 'Objective', 'Obliging', 'Oblivion', 'Observatory', 'Observing', 'Obsessed', 'Obsidian', 'ObsidianFolk', 'Obtaining', 'Obviously', 'Occasionally', 'Occipital', 'Occlumency', 'Occult', 'Occupation', 'Ocean', 'Oceanid', 'Oceans', 'Ocelot', 'Ocelots', 'Ock', 'Ocks', 'Ocsh', 'OctNov', 'Octavius', 'Octaviuss', 'Octavuss', 'OctoCamo', 'October', 'Octopus', 'Octopuss', 'Oddly', 'Odekirk', 'Odessa', 'Odin', 'OdinForce', 'Odinforce', 'Odinpower', 'Odins', 'Odinsdottir', 'Odinsleep', 'Odinson', 'Odinsword', 'Odinís', 'Odym', 'Odyssey', 'Of', 'Off', 'Offenders', 'Offensive', 'Offered', 'Office', 'Officer', 'Officers', 'Offices', 'Officially', 'Offspring', 'Often', 'Ogdru', 'OgdruJahad', 'Oge', 'Ogilvy', 'Ognats', 'Ogre', 'Ogun', 'Oguns', 'Oheimer', 'Oheimers', 'Ohio', 'Ohnaka', 'Oil', 'Okaara', 'Okamura', 'Okinawa', 'Oklahoma', 'Okoye', 'Olasz', 'Old', 'Older', 'Oldest', 'Oldstrong', 'Olga', 'Olgas', 'Oliver', 'Olivers', 'Olivia', 'Olivias', 'Olivier', 'Ollerus', 'Ollie', 'Ollies', 'Olnar', 'Olsen', 'Olsens', 'Olson', 'Olsons', 'Olwë', 'Olympia', 'Olympian', 'Olympic', 'Olympiclevel', 'Olympics', 'Olympus', 'Olórin', 'Omaha', 'Omaka', 'Omar', 'Omega', 'OmegaHe', 'Omegaclass', 'Omegadrome', 'Omegas', 'Omen', 'Omicron', 'Omni', 'OmniMan', 'Omnidroid', 'Omniscient', 'Omnitrix', 'Omniversal', 'Omniversals', 'Omochao', 'Omphalus', 'On', 'Onaga', 'Onboard', 'Once', 'One', 'OneAboveAll', 'OneAboveAlls', 'OneEye', 'OneNineFourZero', 'OneShot', 'OneTailed', 'Onedimensional', 'Ones', 'Ongulians', 'Oni', 'Onimi', 'Onlookers', 'Only', 'Onslaught', 'OnslaughtasXavier', 'Onslaughts', 'Onus', 'Onyx', 'Oolong', 'Opal', 'Open', 'Opening', 'Operating', 'Operation', 'Operations', 'Operative', 'Operatives', 'Oppo', 'Opposed', 'Opress', 'Ops', 'Optimus', 'Optitron', 'Optitrons', 'Or', 'Oracle', 'Oracles', 'Orange', 'Orb', 'Orbot', 'Orca', 'Orchid', 'Orcs', 'Ord', 'Order', 'Orders', 'Ordinance', 'Ordinarily', 'Ords', 'Org', 'Organa', 'Organisation', 'Organization', 'Organizer', 'Organizers', 'Orient', 'Oriental', 'Origin', 'Original', 'Originally', 'Originating', 'Origins', 'Orikal', 'Orin', 'Orini', 'Orins', 'Orion', 'Orions', 'Orishas', 'Orka', 'Orkos', 'Orleans', 'Orm', 'Orms', 'Orochimaru', 'Ororo', 'Ororos', 'Orphan', 'OrphanMaker', 'Orphanage', 'Orphanages', 'Orphaned', 'Orpheus', 'Orrgo', 'Orson', 'Ortega', 'Orthodox', 'Orthography', 'Orvax', 'Orville', 'Osborn', 'Osborne', 'Osbornes', 'Osborns', 'Osch', 'Oscorp', 'Oscorps', 'Osgood', 'Oshtekks', 'Osiris', 'Osito', 'Ossë', 'Osterman', 'Ostermans', 'Oswald', 'Oswell', 'Otacon', 'Otacons', 'Other', 'OtherEarth', 'OtherRealm', 'OtherRealmwas', 'Others', 'Otherworld', 'Otmus', 'Ottawa', 'Otto', 'Ottos', 'Oumland', 'Our', 'Ouroborous', 'Out', 'Outback', 'Outbreak', 'Outer', 'Outfought', 'Outlaw', 'Outnumbered', 'Outpost', 'Outraged', 'Outrider', 'Outriders', 'Outside', 'Outsider', 'Outsiders', 'Outworld', 'Outworlds', 'Oval', 'Over', 'OverAfter', 'Overall', 'Overcome', 'Overcoming', 'Overgirl', 'Overhawk', 'Overhearing', 'Overjoyed', 'Overkill', 'Overlooked', 'Overlord', 'Overlords', 'Overmaster', 'Overmind', 'Overnight', 'Overrider', 'Overseeing', 'OvertKill', 'OvertKills', 'Overwhelmed', 'Ovin', 'Ovoid', 'Ovoidian', 'Ovoids', 'Owen', 'Owens', 'Owl', 'Owlman', 'Owls', 'Own', 'Owned', 'Oxford', 'Oxley', 'Oya', 'Oyakata', 'Oyakatas', 'Oyama', 'Oysnas', 'Oz', 'Ozarks', 'Ozymandias', 'PC', 'PD', 'PE', 'PEGASUS', 'PG67AW', 'PI', 'PIXAL', 'PJ', 'PLATO', 'PMC', 'PMCs', 'PR', 'PRIME', 'PRIMEs', 'PSP', 'PTSD', 'PTah', 'PTahs', 'Pa', 'Pacific', 'Pack', 'Packers', 'Packs', 'Paco', 'Pacos', 'Pact', 'Padawan', 'Paddington', 'Pagan', 'Page', 'Paibok', 'Paige', 'Pain', 'Paine', 'Paintings', 'Paji', 'Pakistan', 'Pakistanis', 'Palace', 'Paladin', 'Palamas', 'Palermo', 'Pallis', 'Palmer', 'Palmers', 'Palpatine', 'Palpatines', 'Pamela', 'Pamelas', 'Pan', 'PanGalactic', 'Panchia', 'Pandemic', 'Pandemonium', 'Pandemoniums', 'Pandora', 'Pandoras', 'Panessa', 'Panic', 'Panicking', 'Panoptichron', 'Panshin', 'Pantha', 'Pantheon', 'Pantheons', 'Panther', 'Panthers', 'Panya', 'Papa', 'Papanoida', 'Paper', 'Papers', 'Parachute', 'Parademon', 'Parademons', 'Paradise', 'Paradox', 'Paradoxs', 'Paragon', 'Parallax', 'Parallaxpossessed', 'Paramedics', 'Paramount', 'Paramounts', 'Paranormal', 'Parasite', 'Parasites', 'Parbat', 'Pardoned', 'Pardoner', 'Pare', 'Parents', 'Paretti', 'Pariah', 'Pariahs', 'Paris', 'Parisi', 'Parisians', 'Parisis', 'Park', 'Parker', 'Parkers', 'Parkerss', 'Parkman', 'Parliament', 'Parliaments', 'Parnell', 'Parnells', 'Parr', 'ParrElastigirl', 'ParrMr', 'Parrington', 'Parrs', 'Part', 'Participating', 'Particle', 'Particles', 'Particularly', 'Parting', 'Partly', 'Partner', 'Partnership', 'Parts', 'Party', 'Partyhbi', 'Pas', 'Paso', 'Pasos', 'Passed', 'Passing', 'Passy', 'Past', 'Pastor', 'Pastors', 'Pasty', 'Pat', 'Patane', 'Patch', 'Patchs', 'Path', 'Patricia', 'Patrick', 'Patricks', 'Patriot', 'Patriots', 'Patrol', 'Patronus', 'Pats', 'Patsy', 'Patsys', 'Patterson', 'Pattersons', 'Patty', 'Pattys', 'Paul', 'Paula', 'Paulie', 'Pauline', 'Paulo', 'Pauls', 'Paulson', 'Pavlovs', 'Pawn', 'Pawns', 'Paxton', 'Payge', 'Peace', 'Peacekeeper', 'Peacemaker', 'Peach', 'Peachs', 'Peaks', 'Pearl', 'Peels', 'Peeper', 'Peg', 'Pegasus', 'Peggy', 'Peggys', 'Pel', 'Pelagia', 'Pelagians', 'Pelennor', 'Peliali', 'Pelican', 'Pembertons', 'Penance', 'Penances', 'Penetraitor', 'Penetraitorís', 'Penguin', 'Penguins', 'Penitente', 'Penitentiary', 'Penitentiarys', 'Penitraitor', 'Penn', 'Pennsylvania', 'Penny', 'Pennyworth', 'Pens', 'Pentagon', 'Pentagonguided', 'Penthesileia', 'Penthesleia', 'People', 'Peoples', 'Pepper', 'Peppers', 'Per', 'Perceiving', 'Percival', 'Percivals', 'Percy', 'Perez', 'Perezs', 'Perfect', 'Perfection', 'Perhaps', 'Perilous', 'Pernell', 'Perry', 'Perrys', 'Pers', 'Persephone', 'Persia', 'Persian', 'Person', 'Personality', 'Personification', 'Persuaded', 'Persuader', 'Persuasion', 'Pestilance', 'Pestilence', 'Pestilencepossessed', 'Pet', 'Pete', 'Peter', 'Peters', 'Peterson', 'Petes', 'Petra', 'Petrelli', 'Petrellis', 'Petrovna', 'Petruccio', 'Pettigrew', 'Pettigrews', 'Pettit', 'Pettrovich', 'Petty', 'Petyr', 'Petyrs', 'Peyton', 'Pezzini', 'Peña', 'Pfeiffers', 'Ph', 'PhD', 'PhDsFollowing', 'Phaedra', 'Phaethon', 'Phages', 'Phalanx', 'Phalanxs', 'Phalkon', 'Phantazia', 'Phantom', 'Phantominfested', 'Phantompossessed', 'Phantoms', 'Pharaoh', 'Pharaohs', 'Pharaonic', 'Pharmaceuticals', 'Phase', 'Phenomenon', 'Phi', 'Phil', 'Philadelphia', 'Philanthropy', 'Philip', 'Philippus', 'Philips', 'Phillip', 'Phillipe', 'Phillips', 'Phillipus', 'Phillipusincluding', 'Philly', 'Philosophers', 'Phils', 'Phimister', 'Phineas', 'Phlebiac', 'Phobos', 'Phoebe', 'Phoenix', 'Phoenix2', 'Phoenixes', 'Phoenixlike', 'Phoenixpossessed', 'Phoenixs', 'Photon', 'Phyffe', 'Phyla', 'PhylaVell', 'Phyllis', 'Physics', 'Physique', 'Phytia', 'Phyzzon', 'Pi', 'Picard', 'Piccolo', 'Picking', 'Pickle', 'Pico', 'Picture', 'Pie', 'Piecemeal', 'Pied', 'Pieface', 'Pierce', 'Pierces', 'Pierrot', 'Pierto', 'Pieter', 'Pietro', 'Pietros', 'Piggy', 'Pike', 'Piko', 'Pilgrim', 'Pilgrims', 'Pillar', 'Pilot', 'Pinball', 'Pineda', 'Pinehearst', 'Pinehearsts', 'Pines', 'Pinkerton', 'Pino', 'Piotr', 'Piotrs', 'Pip', 'Pipe', 'Piper', 'Pipers', 'Pips', 'Piranha', 'Pirate', 'Pirates', 'Pirina', 'Pisa', 'Pit', 'Pitiful', 'Pits', 'Pittsburgh', 'Pixie', 'Pizad', 'Place', 'Placed', 'Placement', 'Plaga', 'Plageosaurs', 'Plague', 'Plagueosau', 'Plain', 'Plains', 'Plan', 'Plane', 'Planet', 'Planeteers', 'Planetkiller', 'Planets', 'Planners', 'Planning', 'Plant', 'PlantMan', 'Plantation', 'Planteers', 'Plantman', 'Plantmans', 'Plants', 'Plas', 'Plastex', 'Plastic', 'Plastique', 'Plastomorph', 'Platform', 'Platz', 'Play', 'Plaza', 'Pleased', 'Pletus', 'Plieades', 'Pliskin', 'Pliskins', 'Plissken', 'Plodex', 'Plokta', 'Plotting', 'Plummeting', 'Plunder', 'Plunderer', 'Plus', 'Pluto', 'Plutos', 'Plymouth', 'Po', 'Pocket', 'Poindexter', 'Point', 'Poirsenus', 'Poison', 'Pokolistan', 'Pokolistanian', 'Poland', 'Polar', 'Polaris', 'PolarisMalice', 'Polariss', 'Pole', 'Polemachus', 'Polestar', 'Police', 'Polish', 'Pollution', 'Pollux', 'Polly', 'Poln', 'Polygon', 'Polynesia', 'Pool', 'Poole', 'Porcupine', 'Porker', 'Porm', 'Porsche', 'Port', 'Portal', 'Porte', 'Porter', 'Portugal', 'Poseidon', 'Poseidonis', 'Poseidons', 'Posing', 'Posse', 'Possessed', 'Possessing', 'Possession', 'Possessor', 'Possessors', 'Possibly', 'Post', 'PostCivil', 'PostCrisis', 'Postal', 'Postman', 'Potara', 'Potential', 'Potomac', 'Pots', 'Potsdammer', 'Potter', 'Potts', 'Pouncy', 'Pounding', 'Pouring', 'PowR8', 'Powell', 'Power', 'Powerhouse', 'Powerless', 'Powerlord', 'Powers', 'Pownal', 'Pozhar', 'Praetor', 'Prairie', 'Pralaya', 'Prashard', 'Pratt', 'Praxagora', 'Praxeum', 'Prayer', 'Praying', 'Pre', 'PreCrisis', 'Prea', 'Precariously', 'Precinct', 'Precioustone', 'Precioustones', 'Precisely', 'Precocious', 'Predalien', 'Predator', 'Predators', 'Preeminent', 'Prefecture', 'Prenatal', 'Prentiss', 'Prentisss', 'Prepared', 'Preparing', 'Presbyterian', 'Presence', 'Presences', 'Present', 'Presents', 'Preserver', 'Presidency', 'President', 'Presidential', 'Presidents', 'Presley', 'Press', 'Prester', 'Presumably', 'Pretenders', 'Pretending', 'Pretorious', 'Pretty', 'Prevented', 'Previous', 'Previously', 'Prey', 'Preys', 'Preyy', 'Prez', 'Price', 'Prices', 'Pricilla', 'Pride', 'Prides', 'Priest', 'Priestess', 'Priests', 'Primary', 'Primatech', 'Prime', 'Primes', 'Primitives', 'Primotur', 'Primrose', 'Primus', 'Primuss', 'Prince', 'Princes', 'Princess', 'Princesses', 'Princeton', 'Principalities', 'Print', 'Prior', 'Prisca', 'Priscilla', 'Priscillas', 'Prison', 'Prisoner', 'PrisonerofWar', 'Prisoners', 'Pritchett', 'Private', 'Prix', 'Priya', 'Prize', 'Prizewinning', 'ProRata', 'ProRegistration', 'Probe', 'Problem', 'Processing', 'Proclaiming', 'Proctor', 'Prodigy', 'Products', 'Prof', 'Professor', 'Professors', 'Proffet', 'Progene', 'Progenitor', 'Progenitorenhanced', 'Program', 'Progressively', 'Prohibition', 'Project', 'Projectors', 'Proletarian', 'Prom', 'Prometheus', 'Promise', 'Promised', 'Promisess', 'Promising', 'Promontory', 'Promoted', 'Prophet', 'Prophets', 'Proposition', 'Prosh', 'Proshs', 'Prosilicans', 'Prosilicus', 'Protected', 'Protector', 'Protectorate', 'Protests', 'Proteus', 'Proteuss', 'Prothero', 'Proto', 'Protocol', 'Protocols', 'Proudstar', 'Proudstars', 'Providence', 'Province', 'Provincial', 'Proving', 'Prower', 'Proxima', 'Pru', 'Prudence', 'Pryde', 'Prydes', 'Pryor', 'PryorSummers', 'Prysm', 'Pscyhobut', 'Pseudoderm', 'Psi', 'PsiBorg', 'PsiBorgs', 'PsiWar', 'Psijudges', 'Psimon', 'Psion', 'Psionex', 'Psions', 'Psis', 'Psyche', 'Psychemagnitron', 'Psychiatric', 'Psychiatrist', 'Psychiatry', 'Psychic', 'Psycho', 'PsychoMan', 'PsychoPirate', 'Psychological', 'Psychologist', 'Psychopomp', 'Psylocke', 'Psylockes', 'Puar', 'Public', 'Puceanu', 'Puck', 'PuckLater', 'Puckett', 'Pucks', 'Puddin', 'Puente', 'Puerto', 'Puffurle', 'Puishannt', 'Pull', 'Pulsar', 'Pulse', 'Puma', 'Pumas', 'Pumice', 'PumicePeople', 'Puncher', 'Punches', 'Punisher', 'Punishers', 'Puppet', 'Puppy', 'Purcell', 'Purchasing', 'Purge', 'Purifier', 'Purifiers', 'Puritan', 'Purity', 'Purple', 'Pursued', 'Pursuer', 'Pursuing', 'Pursuit', 'Pursuits', 'Pushkin', 'Put', 'Putting', 'Puzzled', 'Puzzlers', 'Pycelle', 'Pyg', 'Pyko', 'Pym', 'Pyms', 'Pyramid', 'Pyramids', 'Pyreus', 'Pyro', 'Pyroplasm', 'Pyrotechnics', 'Pythagoras', 'Pythia', 'Père', 'Pérez', 'Q', 'QUEEN', 'Quad', 'Quadrant', 'Quaithe', 'Quake', 'Quan', 'QuanStar', 'Quanhooga', 'Quantum', 'Quantums', 'Quark', 'Quartermain', 'Quartermains', 'Quartermaster', 'Quartet', 'Quasar', 'Quashi', 'Quasimodo', 'Quatermain', 'Quebec', 'Queen', 'QueenGreen', 'QueenThe', 'Queens', 'Queequeg', 'Quelin', 'Quentin', 'Querl', 'Query', 'Quest', 'Question', 'Questioned', 'Questioning', 'Questions', 'QuexUl', 'QuiGon', 'Quick', 'Quickly', 'Quicks', 'Quicksilver', 'Quicksilvers', 'Quidditch', 'Quietly', 'Quill', 'Quiller', 'Quills', 'Quilt', 'Quincey', 'Quincy', 'Quincys', 'Quinjet', 'Quinjets', 'Quinlan', 'Quinn', 'Quinns', 'Quintets', 'Quinzel', 'Quire', 'Quislet', 'Quisp', 'Quiver', 'Quiz', 'Quon', 'Quote', 'Quote1', 'Quote2', 'Qurac', 'Québec', 'Qward', 'Qwardian', 'Qwerty', 'Qwsp', 'Qyre', 'Qyres', 'R', 'R2D2', 'RAIDEN', 'RAY', 'RCMP', 'RCX', 'RD', 'REBELS', 'RED', 'REX', 'REX2000', 'REXs', 'RISE', 'RKill', 'RNR', 'ROM', 'RPD', 'RPG', 'RPG7', 'RRH', 'RS150', 'Ra', 'Raatko', 'Rabbi', 'Rabbit', 'Raccoon', 'Race', 'Racer', 'Rachel', 'Rachels', 'Racing', 'Rackham', 'Radames', 'Radar', 'Radcliffe', 'Radcliffes', 'Radd', 'Radds', 'Radiant', 'Radiation', 'Radio', 'RadioActivity', 'Radioactive', 'Radiohead', 'Raditz', 'Rae', 'Rafael', 'Rafe', 'Raft', 'Rag', 'Rage', 'Raging', 'Ragland', 'Ragman', 'Ragna', 'Ragnarock', 'Ragnarok', 'Ragnaroks', 'Ragnarök', 'Rahne', 'Rahnes', 'Rahul', 'Raiden', 'Raidens', 'Raider', 'Raiders', 'Raikage', 'Rail', 'Railroad', 'Raina', 'Rainbow', 'Rains', 'Rainuma', 'Rainumas', 'Raise', 'Raised', 'Rajah', 'Rajak', 'Rajaki', 'Rakagore', 'Rakk', 'Ralf', 'Rallying', 'Ralph', 'Ralphs', 'Ralston', 'Rama', 'RamaTut', 'RamaTuts', 'Ramades', 'Rambeau', 'Rameses', 'Ramirez', 'Ramon', 'Ramonda', 'Rampage', 'Ramrod', 'Ramses', 'Ramsey', 'Ramseys', 'Ranark', 'Rancisis', 'Ranck', 'Rand', 'RandKai', 'RandMeachum', 'Randall', 'Randolph', 'Random', 'Randor', 'Rands', 'Rangda', 'Ranger', 'Rangers', 'Rankin', 'Rankins', 'Rann', 'RannThanagar', 'Rannian', 'Rannians', 'Ranns', 'Ranx', 'Ranzz', 'Rao', 'Raobomb', 'Raof', 'Raoh', 'Raohs', 'Raoul', 'Raphael', 'Rapid', 'Rapidly', 'Raptor', 'Raptors', 'Rapture', 'Ras', 'Rasa', 'Rasber', 'Rasbers', 'Raskine', 'Rasputin', 'Rasputins', 'Rat', 'Ratcatcher', 'Rath', 'Ratha', 'Rathas', 'Rathaway', 'Rather', 'Ratonhnhakéton', 'Rattled', 'Ravage', 'Ravager', 'Ravagers', 'Ravan', 'Raven', 'Ravenclaw', 'Ravencroft', 'Ravenous', 'Ravens', 'Ravenwood', 'Ravenwoods', 'Ravonna', 'Rawhide', 'Rawlins', 'Raxalus', 'Raxton', 'Ray', 'Raya', 'Raye', 'Raymond', 'RaymondArkadin', 'Raymonde', 'Raymonds', 'Rayner', 'Rayners', 'Rays', 'Raza', 'Razer', 'Razor', 'RazorFist', 'Razorback', 'Razorfist', 'Raʾs', 'Rbutton', 'Reach', 'Reaching', 'Reachs', 'Reacting', 'Reactivating', 'Reactor', 'Reactron', 'Reactrons', 'Reading', 'Real', 'Realities', 'Reality', 'Realizing', 'Realm', 'RealmDream', 'Realms', 'Reaper', 'Reapers', 'Reardon', 'Reassured', 'Reassuring', 'Reaver', 'Reavers', 'Reb', 'Rebecca', 'Rebel', 'Rebellion', 'Rebels', 'Rebirth', 'Rebuffing', 'Rebuilding', 'Recalled', 'Recent', 'Recently', 'Recieved', 'Reclaimer', 'Recognizing', 'Recoil', 'Reconciling', 'Reconnaissance', 'Recorder', 'Recorders', 'Records', 'Recovered', 'Recovering', 'Recreated', 'Recruited', 'Recruiting', 'Recuperating', 'Red', 'RedBlue', 'Redbird', 'Redd', 'Reddy', 'Redeemer', 'Redeemers', 'RedesignRecently', 'Redfield', 'Redips', 'Redshirt', 'Reduced', 'Redwing', 'Reece', 'Reed', 'Reeds', 'Reef', 'Reeling', 'Reena', 'Reese', 'Reeses', 'Reestablishing', 'Reeva', 'Reexamining', 'Reflecting', 'Refocusing', 'Reform', 'Reforming', 'Refuge', 'Refusing', 'Regaining', 'Regan', 'Regarding', 'Regardless', 'Regency', 'Regime', 'Regiment', 'Reginald', 'Registered', 'Registration', 'Regret', 'Rei', 'Reich', 'Reichskristallnacht', 'Reichsmen', 'Reichsmens', 'Reichsminister', 'Reichsrail', 'Reid', 'Reids', 'Reign', 'Reignfire', 'Reilly', 'Reillys', 'Reinhardt', 'Reis', 'Reiterating', 'Rejected', 'Rejecting', 'Rejects', 'Rejoining', 'Relations', 'Relationships', 'Relative', 'Relatives', 'Release', 'Released', 'Religion', 'Relishing', 'Relocating', 'Reluctantly', 'Remaining', 'Reman', 'Remasking', 'Rematch', 'Remember', 'Remembering', 'Reminding', 'Remont', 'Remorath', 'Removing', 'Remowa', 'Remus', 'Remy', 'Remys', 'Ren', 'Rena', 'Renaissance', 'Renaissanceera', 'Renaming', 'Renata', 'Rene', 'Renee', 'Renegade', 'Renegades', 'Renewed', 'Renkitōza', 'Renly', 'Renlys', 'Reno', 'Renouncing', 'Renso', 'René', 'Renée', 'Repelled', 'Replaying', 'Replica', 'Replicant', 'Repliforce', 'Repliforces', 'Reploid', 'Reploids', 'Reporter', 'Reporters', 'Representing', 'Reptile', 'Reptiles', 'Republic', 'Republican', 'Republics', 'Repulsor', 'Requiem', 'Required', 'Requirement', 'Requiring', 'Rescue', 'Rescued', 'Rescuing', 'Research', 'Resentful', 'Resenting', 'Reserve', 'Reserves', 'Resettlement', 'Residence', 'Residing', 'Resilient', 'Resist', 'Resistance', 'Resistances', 'Resistant', 'Resistants', 'Resiting', 'Resolving', 'Resort', 'Respawn', 'Respecting', 'Responding', 'Response', 'Responsible', 'Restorations', 'Restore', 'Restored', 'Restoring', 'Restwell', 'Resuming', 'Resurfacing', 'Resurrected', 'Resurrecting', 'Resurrection', 'Retaining', 'Retaking', 'Retirement', 'Retiring', 'Retreating', 'Retrieved', 'Retrieving', 'Retroverse', 'Return', 'Returned', 'Returning', 'Returns', 'Reuben', 'Reunion', 'Reunited', 'Reuniting', 'Rev', 'Rev9', 'Reva', 'Revanche', 'Reve', 'Revealed', 'Revealing', 'Revel', 'Revel7', 'Revell', 'Revello', 'Revenge', 'Revengers', 'Reverand', 'Reverb', 'Reverbium', 'Reverend', 'Reverse', 'ReverseFlash', 'Reverted', 'Revitalized', 'Revived', 'Revivesonic', 'Revolted', 'Revolution', 'Revolutionary', 'Revolver', 'Rex', 'Rexs', 'Rexton', 'Rey', 'Reyes', 'Reynolds', 'Reys', 'Rhaegar', 'Rhane', 'Rhapsody', 'Rhapsodys', 'Rhea', 'Rhine', 'Rhino', 'Rhinos', 'Rhllor', 'Rhllors', 'Rhode', 'Rhodes', 'Rhodey', 'Rhonda', 'Ribbon', 'Ricans', 'Ricardo', 'Rice', 'Rices', 'Rich', 'Richard', 'Richards', 'RichardsStorm', 'Richardson', 'Richmond', 'Richmonds', 'Richochet', 'Richter', 'Richters', 'Rick', 'Ricker', 'Ricks', 'Ricky', 'Rickys', 'Rico', 'Ricochet', 'Ricochets', 'Rictor', 'Rictors', 'Riddled', 'Riddler', 'Riddlers', 'Ride', 'Rider', 'Riders', 'RidersEdit', 'Ridiculed', 'Ridilin', 'Riding', 'Rigel', 'Rigel3', 'Rigellian', 'Rigellians', 'Rigger', 'Right', 'Righteous', 'Rights', 'Riker', 'Rikers', 'Rikki', 'Rikkis', 'Riley', 'Rim', 'Rimworld', 'Rinaldo', 'Rinehart', 'Ring', 'Ringer', 'Ringmaster', 'Rings', 'RingsEdit', 'Ringwraiths', 'Rintrah', 'Rio', 'Riot', 'Rip', 'Ripcord', 'Ripjaws', 'Ripper', 'Rips', 'Riptide', 'Riptides', 'Risant', 'Rise', 'Rises', 'Rising', 'Risk', 'Risking', 'Risks', 'Risque', 'Rita', 'Ritchie', 'Ritchies', 'Ritual', 'Rival', 'Rivals', 'RivalsEdit', 'Rivendell', 'River', 'Riverrun', 'Rivers', 'Road', 'Roadblock', 'Roadrunner', 'Roanoke', 'Roarke', 'Roarshack', 'Rob', 'Robbed', 'Robberies', 'Robbie', 'Robbies', 'Robbins', 'Robern', 'Robert', 'Roberta', 'Robertaland', 'Roberto', 'Robertos', 'Roberts', 'Robertson', 'Robertss', 'Robin', 'Robins', 'Robinson', 'Robinsons', 'Robo', 'Robomower', 'Robot', 'Robotman', 'Robotmans', 'Robotnik', 'Robotnikland', 'Robotniks', 'Robots', 'Rocca', 'Roccas', 'Roch', 'Roche', 'Roches', 'Rock', 'RockPaperScissors', 'Rocket', 'Rocketed', 'Rockets', 'Rockfort', 'Rockies', 'Rockman', 'Rocks', 'Rockwell', 'Rocky', 'Rod', 'Roddenberry', 'Roderick', 'Rodgers', 'Rodian', 'Rodor', 'Rodrigo', 'Rodriguez', 'Rodriguezs', 'Rods', 'Rodunn', 'Roerich', 'Roger', 'Rogers', 'Rogue', 'Rogues', 'Rohkar', 'Rohkars', 'Rok', 'Roland', 'Role', 'RolePlaying', 'Rolls', 'Rom', 'Roma', 'Roman', 'RomanGreek', 'Romanenko', 'Romania', 'Romanoff', 'Romanoffs', 'Romanov', 'Romantically', 'Romany', 'Romas', 'Rome', 'Romeo', 'Rommbu', 'Romulus', 'Ron', 'Ronald', 'Ronan', 'Ronans', 'Rond', 'Ronin', 'Ronins', 'Ronnie', 'Ronnies', 'Rons', 'Rook', 'Rookshir', 'Rookshirs', 'Room', 'Room1', 'Roosevelt', 'Root', 'Rorschach', 'Rorschachs', 'Rory', 'Rorys', 'Rosa', 'Rosalie', 'Rosalina', 'Rosalind', 'Rosalinda', 'Rosas', 'Roscoe', 'Rose', 'Rosemary', 'Rosenberg', 'Roses', 'Rosewell', 'Rosewood', 'Rosewoods', 'Roshi', 'Roshis', 'Rosie', 'Ross', 'Rosss', 'Rosushido', 'Rotatatron', 'Rotatatrons', 'Roth', 'Rothstein', 'Rottwell', 'Rotwell', 'Rotwells', 'Rouge', 'Rouges', 'Roughouse', 'Roulette', 'Round', 'Rourke', 'Route', 'Rovo', 'Rowena', 'Rowland', 'Roxxon', 'RoxxonHeather', 'Roxy', 'Roy', 'Royal', 'Royce', 'Roys', 'Rozz', 'Rs', 'Ruby', 'Rubys', 'Ruch', 'Rudolph', 'Rudolpho', 'Rudy', 'Ruffer', 'Ruffers', 'Ruin', 'Ruins', 'Ruinsbi', 'Rule', 'Ruler', 'Rules', 'Rumekistan', 'Rumiko', 'Rumors', 'Run', 'Runaways', 'Rundine', 'Rune', 'Runestaff', 'Runners', 'RunnersEdit', 'Running', 'Rupe', 'Rupert', 'Ruprect', 'Rupture', 'Rus', 'Rusch', 'Rush', 'RushEdit', 'Rushing', 'Rushmore', 'Rusk', 'Russ', 'Russel', 'Russell', 'Russells', 'Russia', 'Russian', 'Russians', 'Russias', 'Russo', 'Russoti', 'Rustam', 'Rusty', 'Ruthless', 'Ruthven', 'Rutian', 'Rutland', 'Ruvé', 'Ryan', 'Ryans', 'Rybik', 'Rydinger', 'Ryhnos', 'Rykers', 'Ryking', 'Rynda', 'Ryo', 'Ryos', 'Ryu', 'Ryuken', 'Ryukens', 'Ryuko', 'Ryukos', 'Ryut', 'Ryutski', 'Rúmil', 'S', 'S3', 'S300', 'SADHD', 'SANDS', 'SAS', 'SBS', 'SC3', 'SCRGPs', 'SCRHD', 'SEAL', 'SEALS', 'SEALs', 'SFPD', 'SFU', 'SHAO', 'SHARE', 'SHAZAM', 'SHDB', 'SHE', 'SHIELD', 'SHIELDlicensed', 'SHIELDs', 'SHOCKED', 'SHPD', 'SILENT', 'SIM', 'SIMIAN', 'SIS', 'SKIN', 'SLW', 'SMILE', 'SO2', 'SOAK', 'SOCOM', 'SOP', 'SOS', 'SRZGcs', 'SS', 'SS8', 'SSR', 'SSRs', 'SSSV', 'SShieldscarred', 'STAKEs', 'STAR', 'STARCORE', 'STARS', 'STB', 'STRIKE', 'STRIPE', 'STU', 'SWAT', 'SWORD', 'Saanxi', 'Saarek', 'Sabah', 'Sabahnur', 'Sabbath', 'Saber', 'Sabina', 'Sable', 'Sables', 'Saboteurs', 'Sabra', 'Sabre', 'Sabretooth', 'Sabretooths', 'Sachiko', 'Sachikos', 'Sack', 'Sacorria', 'Sacorrian', 'Sacorrias', 'Sacred', 'Sacrificing', 'Sadat', 'Sadie', 'Sadly', 'SaduHem', 'Saga', 'Sage', 'SageThe', 'Sages', 'Sagesse', 'Sahara', 'Saher', 'Sai', 'Said', 'Saigon', 'Saiko', 'Saint', 'SainteAnnedeBeaupré', 'SainteCloud', 'Saints', 'Saitama', 'Saitamas', 'Saiyajin', 'Saiyan', 'Saiyans', 'Sakaar', 'Sakaars', 'Sakki', 'Sakura', 'Sakutia', 'Sal', 'Salak', 'Salakk', 'Salamander', 'Salamandra', 'Salamndra', 'Salazar', 'Salem', 'Saligia', 'Sallis', 'Salliss', 'Sally', 'Sallys', 'Salome', 'Salomes', 'Saloon', 'Salt', 'Salvadore', 'Salvage', 'Salvaje', 'Salvation', 'Sam', 'Samantha', 'Samaritan', 'Samaritans', 'Samedar', 'Samedi', 'Samira', 'Sammy', 'Samothrace', 'Samothraceian', 'Sampson', 'Sampsons', 'Sams', 'Samson', 'Samsons', 'Samuel', 'Samurai', 'San', 'Sanatorium', 'Sanchez', 'Sanctions', 'Sanctorum', 'Sanctuary', 'Sanctum', 'Sand', 'SandCreature', 'Sandalphon', 'Sandals', 'Sander', 'Sanders', 'Sandi', 'Sandis', 'Sandiís', 'Sandman', 'Sandor', 'Sandoval', 'Sandovals', 'Sandra', 'Sands', 'Sandsmark', 'Sandy', 'Sangtree', 'Sanity', 'Sanjit', 'Sankara', 'Sankser', 'Sannin', 'Sans', 'Sansker', 'Santa', 'Santana', 'Santiago', 'Santo', 'Saonel', 'Sapien', 'Sapiens', 'Sapper', 'Sapph', 'Sapphire', 'Sapphires', 'Sara', 'Saracon', 'Sarah', 'Sarahs', 'Sarasaland', 'Sarcastic', 'Sarcee', 'Sardath', 'Sarga', 'Sarge', 'Sargon', 'Saripha', 'Saroyan', 'Sartor', 'Saruman', 'Sarutobi', 'Sasaki', 'Sasha', 'Saskatchewan', 'Sasquatch', 'Sasuke', 'Satan', 'Satana', 'Satanas', 'Satanic', 'Satanist', 'Satannish', 'Satannishs', 'Satans', 'Satanus', 'Satellite', 'Satine', 'Satisfied', 'Satsu', 'Sattelite', 'Saturday', 'Saturn', 'Saturns', 'Saturnyne', 'Saugerties', 'Saul', 'Saunders', 'Saurians', 'Saurid', 'Sauron', 'Saurons', 'Savage', 'Savages', 'Savannah', 'Savant', 'Savate', 'Save', 'Saved', 'Savin', 'Saving', 'Savior', 'Savitar', 'Savitars', 'Savoth', 'Savothians', 'Saw', 'Sawyer', 'Sayian', 'Sayōnara', 'Sazae', 'Sazia', 'Sborscs', 'Scalding', 'Scaling', 'Scandia', 'Scanner', 'Scar', 'Scarab', 'Scarabs', 'Scarcrow', 'Scarebeast', 'Scarecrow', 'Scarecrowit', 'Scarecrows', 'Scared', 'Scarface', 'Scarfe', 'Scarlatti', 'Scarlet', 'Scarlett', 'Scary', 'Scatter', 'Scavenger', 'Scavengers', 'Scepter', 'Scepters', 'Sceptre', 'Schaeffer', 'Schamballah', 'Scharf', 'Scharfs', 'Schaub', 'Schematic', 'Scheming', 'Schexnayder', 'Schism', 'Schist', 'Schists', 'Schlichting', 'Schmidt', 'Schmidts', 'Schmitt', 'Schneider', 'School', 'SchoolDennis', 'SchoolGateway', 'Schools', 'Schorr', 'Schott', 'Schotts', 'Schuffler', 'Schultz', 'Schultzes', 'Schultzs', 'Schutzstaffel', 'Schuyler', 'SciTech', 'Science', 'Sciencell', 'Sciences', 'Scientific', 'Scientist', 'Scientists', 'Scimitar', 'Scintilla', 'Scoobies', 'Scooby', 'Scooping', 'Scorch', 'Scorpia', 'Scorpias', 'Scorpio', 'Scorpion', 'Scotland', 'Scotswoman', 'Scott', 'Scottie', 'Scotties', 'Scottish', 'Scotts', 'Scotty', 'Scourge', 'Scout', 'Scramble', 'Scrambles', 'Scrapes', 'Scrapper', 'Scratch', 'Scratchs', 'Scream', 'Screamer', 'Screaming', 'Screen1png', 'Screenshhot', 'Scribe', 'Scrier', 'Scudder', 'Scyar', 'Scyars', 'Scylla', 'SeAL', 'Sea', 'Seagate', 'Seal', 'Sealy', 'Seamus', 'Sean', 'Seans', 'Searching', 'Sears', 'Seas', 'Season', 'Seattle', 'Seaworth', 'Sebastian', 'Second', 'Secondary', 'Seconds', 'Secret', 'Secretary', 'Secretly', 'Secrets', 'Sect', 'Sector', 'Secura', 'Security', 'Sedona', 'Seduced', 'See', 'Seed', 'Seedy', 'Seeing', 'Seeker', 'Seekers', 'Seeking', 'Seeming', 'Seemingly', 'Seen', 'Seer', 'Seera', 'Sefton', 'SegaSonic', 'Seghetti', 'Seige', 'Seismoharmonic', 'Seized', 'Seizing', 'Sekot', 'Sektor', 'Selach', 'Selbe', 'Selby', 'Select', 'Selects', 'Selena', 'Selene', 'Selenes', 'SelfSustaining', 'Selfish', 'Selima', 'Selina', 'Selinas', 'Selinda', 'Selmy', 'Selvig', 'Selyse', 'Selyses', 'Semper', 'Semtex', 'SenYu', 'Senate', 'Senator', 'Senators', 'Send', 'Sendai', 'Senior', 'Senju', 'Sensational', 'Sensei', 'Sensia', 'Sensing', 'Sent', 'Sentient', 'Sentinel', 'Sentinels', 'SentinelturnedMagneto', 'Sentry', 'Sentrys', 'Separated', 'Separating', 'Separator', 'Sept', 'September', 'Sepulchre', 'Sequoia', 'Ser', 'Serafina', 'Seraph', 'Seraphs', 'Serbia', 'Serbian', 'Serengeti', 'Sergeant', 'Sergei', 'Serges', 'Series', 'Serious', 'Seriously', 'Seronotal', 'Serpent', 'SerpentShe', 'Serpentina', 'Serpentine', 'Serpents', 'Sersi', 'Sersis', 'Serum', 'SerumBelieving', 'Serval', 'Service', 'Services', 'Serving', 'Seryan', 'Set', 'Seth', 'Sets', 'Sett', 'Setting', 'Settling', 'Sev', 'Seven', 'SevenPointed', 'Sevenfaced', 'Seventeen', 'Several', 'Severely', 'Severing', 'Severtes', 'Severus', 'Seville', 'Seward', 'Sex', 'Sexton', 'Sexy', 'SeygEl', 'SeygEls', 'Seymour', 'Sgt', 'Sha', 'ShaHarAZath', 'Shaara', 'Shackles', 'Shackleton', 'Shade', 'Shades', 'Shado', 'Shadow', 'Shadowcat', 'ShadowcatColossus', 'Shadowcats', 'Shadower', 'Shadowkeep', 'Shadowknight', 'Shadowland', 'Shadowlands', 'Shadowpact', 'Shadowqueen', 'Shadowqueens', 'Shadows', 'Shadowspawn', 'Shadowspawns', 'Shadowstorm', 'Shaffran', 'Shaft', 'Shafts', 'Shahra', 'Shaitan', 'Shakani', 'Shakari', 'Shakaris', 'Shaken', 'Shakti', 'ShallaBal', 'Shallot', 'Sham', 'Shaman', 'Shamans', 'Shamus', 'Shang', 'ShangChi', 'ShangChis', 'ShangChiís', 'Shanghai', 'Shango', 'Shangos', 'Shannon', 'Shannonwho', 'Shanoa', 'Shanoas', 'Shanti', 'Shanzar', 'Shao', 'ShaoLaos', 'Shaolin', 'Shapandar', 'Shapanka', 'Shapankas', 'Shaper', 'Shapiro', 'Sharaman', 'Shard', 'Shards', 'Sharing', 'Sharingan', 'Shark', 'Sharks', 'Sharon', 'Sharons', 'Sharp', 'Sharpe', 'Sharra', 'Sharras', 'Shasheen', 'Shatter', 'Shattered', 'Shattering', 'Shatterstar', 'Shatterstars', 'Shaw', 'Shaws', 'Shayera', 'Shayeris', 'Shazam', 'Shazams', 'She', 'SheBat', 'SheDragon', 'SheHulk', 'SheHulks', 'Sheen', 'Sheenarian', 'Sheenarians', 'Sheeva', 'Sheila', 'Shell', 'Shelley', 'Shelleys', 'Shelly', 'Shelter', 'Shelters', 'Shen', 'Shepards', 'Shepherd', 'Sherawat', 'Sheridan', 'Sheriff', 'Sherlock', 'Sherlocks', 'Sherman', 'Sherwood', 'Shes', 'Shetani', 'Sheva', 'Shi', 'ShiAr', 'Shialmar', 'Shiar', 'Shiars', 'Shield', 'Shiera', 'Shieras', 'Shift', 'Shifts', 'Shigamatsu', 'Shika', 'Shikamaru', 'Shima', 'Shimmer', 'Shimrra', 'Shimtar', 'Shimura', 'Shin', 'Shine', 'Shingen', 'Shingens', 'Shinhan', 'Shining', 'Shinkansen', 'Shinkansens', 'Shinken', 'Shinnok', 'Shinnoks', 'Shinobi', 'Shins', 'Shinto', 'Ship', 'Shipment', 'Ships', 'Shire', 'Shireen', 'Shireens', 'Shirlee', 'Shirlees', 'Shirrair', 'Shiruta', 'Shiv', 'Shiva', 'Shivas', 'Shlottman', 'Shmidt', 'Shocked', 'Shocker', 'Shockers', 'Shogun', 'Shokan', 'Shola', 'Shomron', 'Shondra', 'Shore', 'Short', 'Shortly', 'Shostakov', 'Shot', 'Shotgun', 'ShouLao', 'ShouLaos', 'Should', 'Shox', 'Shriek', 'Shrieks', 'Shrike', 'Shrine', 'Shrinking', 'Shrinks', 'Shron', 'Shroud', 'Shrunken', 'Shu', 'Shuffle', 'Shufflehbi', 'Shujinko', 'Shukaku', 'ShumaGorath', 'ShumaGoraths', 'Shura', 'Shuri', 'Shus', 'Shuttle', 'Si', 'SiFan', 'Siberforce', 'Siberia', 'Siciliano', 'Sicily', 'Sicilys', 'Sickle', 'Side', 'Sides', 'Sidewinder', 'Sidge', 'Sidhe', 'Sidious', 'Sidle', 'Sidles', 'Sidney', 'Sidri', 'Siege', 'Siegel', 'Siegfried', 'Sieglinde', 'Siegmund', 'Siegmunds', 'Sierra', 'Sif', 'Sifs', 'Sigma', 'Sigmas', 'Sign', 'Signalman', 'Signas', 'Significantly', 'Signing', 'Sigourney', 'Sigurd', 'Silas', 'Silence', 'SilenceSilence', 'Silent', 'Silently', 'Silhouette', 'Silicon', 'Silk', 'Silke', 'Silmaril', 'Silmarils', 'Silver', 'SilverEye', 'Silverburgh', 'Silverclaw', 'Silverhand', 'Silvermane', 'Silvermanes', 'Silvio', 'Simbel', 'Similar', 'Similarly', 'Simmon', 'Simmons', 'Simogyn', 'Simon', 'Simone', 'Simons', 'Simply', 'Simposons', 'Simpson', 'Sims', 'Sin', 'SinCong', 'SinEater', 'SinShe', 'Since', 'Sinclair', 'Sinclairs', 'Sindarin', 'Sindel', 'Sindella', 'Sindels', 'Sinestos', 'Sinestro', 'Sinestros', 'SingUltimately', 'Singapore', 'Singer', 'Singh', 'Single', 'Sinifer', 'Sinister', 'Sinisters', 'Sins', 'Sinte', 'Sinthea', 'Siobhan', 'Sion', 'Sir', 'Siredam', 'Siren', 'Sirene', 'Sirenes', 'Siri', 'Siridar', 'Sirius', 'Siryn', 'Sister', 'Sisterhood', 'Sisterhoods', 'Sisters', 'Sit', 'Sith', 'Sivana', 'Sivanaborn', 'Sivanas', 'Six', 'SixFingered', 'Sixteen', 'Sixth', 'Skaar', 'Skaarn', 'Skaarns', 'Skaars', 'Skach', 'Skadi', 'Skardon', 'Skarlet', 'Skartheim', 'Skeeter', 'Skeets', 'Skeevers', 'Skeleton', 'Skeletor', 'Skeptical', 'Skewer', 'Skids', 'Skill', 'Skin', 'Skinless', 'Skinner', 'Skip', 'Skoll', 'Skornheim', 'Skornn', 'Skornn6', 'Skornns', 'Skreet', 'Skrull', 'Skrullpregnancy', 'Skrulls', 'Skull', 'Skull1112', 'SkullLukin', 'Skullface', 'Skullfire', 'Skulls', 'SkunkBear', 'Skurge', 'Skurges', 'Skuttlebutt', 'Sky', 'Skybolt', 'Skycharger', 'Skye', 'Skyfall', 'Skyman', 'Skymans', 'Skynet', 'Skynets', 'Skywalker', 'Skywalkers', 'Slab', 'Slabside', 'Slade', 'Slades', 'Slain', 'Slam', 'Slamming', 'Slapstick', 'Slasher', 'Slater', 'Slattery', 'Slaughter', 'Slave', 'Slay', 'Slayback', 'Slayer', 'Slayers', 'Slaymaster', 'Sleazoid', 'Sledge', 'Sleep', 'Sleeper', 'Sleeping', 'Sleepwalker', 'Sleez', 'Slideways', 'Slingers', 'Slingshot', 'Slipping', 'Slipstream', 'Slither', 'Slix', 'Slizzath', 'Sloan', 'Sloane', 'Sloanes', 'Slorenia', 'Slorenian', 'Slovakian', 'Slowly', 'Slug', 'Sluggo', 'Sluj', 'Slum', 'Slums', 'Slyfox', 'Slyly', 'Slym', 'Slytherin', 'Small', 'Smallville', 'Smallvilles', 'Smart', 'Smartest', 'Smash', 'Smasher', 'Smashtroll', 'Smiley', 'SmileyFace', 'SmileyFaces', 'Smiling', 'Smite', 'Smith', 'Smithers', 'Smiths', 'Smitty', 'Smittys', 'Smoak', 'Smoke', 'Smythe', 'Smythes', 'Snake', 'SnakeEyes', 'Snakeroot', 'Snakes', 'Snakey', 'Snap', 'Snape', 'Snapper', 'Snart', 'SnartCaptain', 'Snarts', 'Sneakers', 'Sniper', 'Snoopy', 'Snow', 'Snowbird', 'Snowbirds', 'Snowbirdwas', 'Snowflake', 'Snowmans', 'Snug', 'So', 'Soars', 'Sobbing', 'Sobek', 'Sobeks', 'Sobel', 'Sobibor', 'Social', 'Socialist', 'Society', 'Societys', 'Socko', 'Socus', 'Sodam', 'Sodom', 'Soeur', 'Sofen', 'Sofia', 'Soft', 'Sokovia', 'Sokovian', 'Sol', 'Solar', 'Solaris', 'Solarr', 'Soldier', 'Soldiers', 'Soleada', 'Soleanna', 'Soleannas', 'Soleil', 'Soleiyu', 'Solid', 'Solidus', 'Solis', 'Soliton', 'Solitude', 'Soliz', 'Solly', 'Solo', 'Solomon', 'Solos', 'Solovar', 'Sols', 'Solutions', 'Soma', 'Somalia', 'Somalian', 'Sombre', 'Sombrero', 'Some', 'Somehow', 'Someone', 'Somers', 'Something', 'Sometime', 'Sometimes', 'Somewhat', 'Somewhere', 'Sominus', 'Somnambulist', 'Somon', 'Son', 'Sonar', 'Sonars', 'Sonderkommando', 'Sondheim', 'Sondran', 'Song', 'Songa', 'Songbird', 'Sonia', 'Sonic', 'Soniccn', 'Sonics', 'Sonicvsblaze', 'Sonny', 'Sons', 'Sonus', 'Sonya', 'Soon', 'Soong', 'Soongs', 'Soongtype', 'Sophia', 'Sophie', 'Sora', 'Soranik', 'Sorcerer', 'Sorcerers', 'Sorceress', 'Sorceror', 'Sorcessess', 'Sorenson', 'Soria', 'Sorrow', 'Sorrows', 'Sorry', 'Sorted', 'Soteira', 'Soul', 'Soulfire', 'Soulgem', 'Soulless', 'Souls', 'Soulsword', 'Soultaker', 'Sound', 'Source', 'Sources', 'South', 'SouthThe', 'Southeast', 'Southeastern', 'Souther', 'Southern', 'Southers', 'Southwest', 'Sovereign', 'Soviet', 'Sovietera', 'Soviets', 'Space', 'Spacehog', 'Spaceknights', 'Spaceport', 'Spacewheel', 'Spades', 'Spagonia', 'Spain', 'Spains', 'Spalding', 'Spaniard', 'Spanish', 'Sparda', 'Spark', 'Sparks', 'Sparky', 'Sparrow', 'Sparta', 'Spartan', 'Spartans', 'Spartax', 'Spartaxs', 'Spartoi', 'Spawn', 'Spawns', 'Speak', 'Spear', 'Special', 'Specialist', 'Species', 'Specific', 'Spectator', 'Spector', 'Spectorcorp', 'Spectors', 'Spectral', 'Spectre', 'Spectres', 'Spectrum', 'Speed', 'Speedball', 'Speedballlike', 'Speedboyz', 'Speedfreak', 'Speedfreek', 'Speeding', 'Speedster', 'Speedway', 'Speedy', 'Speedys', 'Spence', 'Spencer', 'Spencers', 'Spending', 'Sphere', 'Spheres', 'Sphinx', 'Spider', 'SpiderArmy', 'SpiderGirl', 'SpiderGwen', 'SpiderIsland', 'SpiderKid', 'SpiderMan', 'SpiderMan28', 'SpiderManThey', 'SpiderMans', 'SpiderMen', 'SpiderSense', 'SpiderSenses', 'SpiderSlayers', 'SpiderTotems', 'SpiderTracer', 'SpiderUK', 'SpiderUKs', 'SpiderVerse', 'SpiderVillains', 'SpiderWoman', 'SpiderWomans', 'SpiderWomen', 'Spidercide', 'Spiderclones', 'Spiderman', 'Spidermans', 'Spidermanx', 'Spiders', 'Spidey', 'Spideys', 'Spike', 'Spilled', 'Spin', 'Spinebender', 'Spineless', 'Spiner', 'Spinjitzu', 'Spinner', 'Spinning', 'Spinosa', 'Spiral', 'Spiraling', 'Spirals', 'Spire', 'Spirit', 'Spirits', 'Spiritus', 'Spitefully', 'Spitfire', 'Spitting', 'Spivot', 'Splash', 'Splasher', 'Splice', 'Splinter', 'Split', 'Splitlip', 'Spock', 'Spoiler', 'Spokane', 'Spook', 'Sport', 'Sportsmaster', 'Spoughtthe', 'Spragg', 'Sprang', 'Spring', 'Springdale', 'Springs', 'Sprite', 'Sprites', 'Sprixie', 'Sprout', 'Spy', 'Spyder', 'Spyders', 'Spying', 'Spyke', 'Spymaster', 'Spyros', 'Squad', 'Squadron', 'Squads', 'Square', 'Squares', 'Squidboy', 'Squidboys', 'Squire', 'Squirrel', 'Sr', 'Srank', 'Sreng', 'SroHimm', 'Srs', 'Ss03', 'Ssangyong', 'Ssangyongs', 'Sshieldwearing', 'Sssesthugar', 'St', 'Stack', 'Stacks', 'Stacy', 'Stadium', 'Staff', 'Stage', 'Stages', 'Stagg', 'Staggroff', 'Staggs', 'Staine', 'Stalker', 'Stalkers', 'Stalking', 'Stamford', 'Stamina', 'Stan', 'Stancioff', 'Stand', 'Standing', 'Stane', 'Stanes', 'Stanford', 'Stanley', 'Stannis', 'Stanniss', 'Star', 'StarLord', 'StarLords', 'StarSpangled', 'Starband', 'Starbit', 'Starblood', 'Starbolt', 'Starbrand', 'Starbreaker', 'Starbucks', 'Starcracker', 'Stardust', 'Starfall', 'Starfire', 'Starfires', 'Starfleet', 'Starforce', 'Starfox', 'Stargirl', 'Stargod', 'Stargods', 'Stargrave', 'Starhawk', 'Starhawks', 'Staring', 'Starjammer', 'Starjammers', 'StarjammersAfter', 'Stark', 'StarkFujikawa', 'Starkağr', 'Starkiller', 'Starks', 'Starlight', 'Starling', 'Starlord', 'Starlords', 'Starman', 'Starmans', 'Starr', 'Starro', 'Stars', 'Starseed', 'Starshark', 'Starship', 'Starsmore', 'Starsmores', 'Start', 'Startled', 'State', 'Stated', 'States', 'Statesman', 'Static', 'Station', 'Staton', 'Statue', 'Statuepng', 'Stature', 'Status', 'Staves', 'Stavros', 'Stay', 'Staythe', 'Steadily', 'Steal', 'Stealing', 'Stealth', 'Steel', 'Steelat', 'Steelcorps', 'Steele', 'Steelhawk', 'Steeljacket', 'Steels', 'Steelworks', 'Stefan', 'Stefans', 'Stein', 'SteinmanHans', 'Steins', 'Stel', 'Stellarax', 'Stellaraxs', 'Stellarium', 'Stem', 'Stepbrother', 'Stepford', 'Steph', 'Stephanie', 'Stephanies', 'Stephany', 'Stephen', 'Stephens', 'Steppenwolf', 'Steppenwolfs', 'Stepping', 'Sterano', 'Sterling', 'Sternberg', 'Sterns', 'Steve', 'Steven', 'Stevens', 'Steves', 'Stevie', 'Stevies', 'Stewart', 'Stick', 'Sticker', 'Sticks', 'Stiletto', 'Still', 'Stillman', 'Stillmans', 'Stillwell', 'StiltMan', 'Sting', 'Stingaree', 'StingareeCaptain', 'Stingray', 'Stinkfly', 'Stirk', 'Stokes', 'Stokess', 'Stompas', 'Stone', 'Stonechat', 'Stonehenge', 'Stonekeeper', 'Stoner', 'Stones', 'Stonewall', 'Stoneworld', 'Stoneworlds', 'Stonians', 'Stooges', 'Stoop', 'Stopping', 'Stored', 'Stories', 'Stork', 'Storm', 'StormDaughter', 'Stormblüd', 'Stormbreaker', 'Stormcaster', 'Stormhappened', 'Storms', 'Stormy', 'Story', 'Storybi', 'Storybook', 'Straaten', 'Strack', 'Strain', 'Strait', 'Stranded', 'Strange', 'Strangely', 'Stranger', 'Strangers', 'Stranges', 'Strasse', 'Strategic', 'Stratojet', 'Strauss', 'Streaky', 'Stream', 'Street', 'Streetlevel', 'Strength', 'Strengthened', 'Stricken', 'Stricker', 'Strike', 'Strikeforce', 'Striker', 'Strikes', 'Striking', 'Stripesy', 'Strobe', 'Strom', 'Stromm', 'Stromms', 'Strong', 'Strontia', 'Strontian', 'Strontians', 'Strontias', 'Stroud', 'Strucker', 'Struckers', 'Struggling', 'Strung', 'Strut', 'Stryfe', 'Stryfes', 'Stryfetroopers', 'Stryker', 'Strykers', 'Stuart', 'Student', 'Students', 'Studies', 'Studio', 'Studying', 'Stuff', 'Stumbling', 'Stunned', 'Stunner', 'Sturmabteilung', 'Sturmbannführer', 'Stuttgart', 'Styker', 'Styx', 'Suanders', 'Suarez', 'Sub', 'SubAtomica', 'SubManner', 'SubMariner', 'SubMariners', 'SubZero', 'Subcon', 'Subcons', 'Subject', 'Subjected', 'Subjugation', 'Sublime', 'Sublimes', 'Submariner', 'Suboro', 'Subsequent', 'Subsequently', 'Subspace', 'Subway', 'Succeeding', 'Successfully', 'Succumbing', 'Such', 'Sudan', 'Suddenly', 'Sue', 'Sues', 'Sugar', 'Suggesting', 'SuiSan', 'Suicide', 'Suit', 'Sulfur', 'Sullivan', 'Sulphur', 'SumaKet', 'Sumerians', 'Summa', 'Summer', 'Summers', 'Summit', 'Summoned', 'Summoning', 'Sun', 'SunEater', 'SunEaters', 'SunStealer', 'Suna', 'Sunagakure', 'Sunas', 'Sundance', 'Sundari', 'Sunday', 'Sunder', 'Sunderland', 'Sunderlands', 'Sundown', 'Sunfire', 'Sunfires', 'Sung', 'Sunless', 'Sunny', 'Sunnydale', 'Sunnydales', 'Sunset', 'Sunspot', 'Sunspots', 'Sunstone', 'Sunstones', 'Sunstreak', 'Super', 'SuperAdaptoid', 'SuperAdaptoida', 'SuperAgents', 'SuperApes', 'SuperBanshee', 'SuperDog', 'SuperHero', 'SuperHeroes', 'SuperHuman', 'SuperMarine', 'SuperPatriot', 'SuperPatriots', 'SuperPills', 'SuperPowered', 'SuperSentry', 'SuperSkrull', 'SuperSkrullLangkowski', 'SuperSkrulls', 'SuperSoldier', 'SuperSoldiers', 'SuperSquad', 'SuperTough', 'SuperVillains', 'SuperWoman', 'Superboy', 'SuperboyPrime', 'SuperboyPrimes', 'Superboys', 'Superboyss', 'Superconducting', 'Supergirl', 'Supergirls', 'Superguardian', 'Superhero', 'Superheroes', 'Superhuman', 'Superia', 'Superias', 'Superintendent', 'Superior', 'Superman', 'Superman2', 'SupermanBatman', 'SupermanPrime', 'SupermanTwo', 'Supermanlike', 'Supermans', 'Supermen', 'Supernatural', 'Supernova', 'Superpower', 'Superprison', 'Supers', 'Superstitious', 'Supertown', 'Supervillains', 'Supervising', 'Superwoman', 'Superwomans', 'Supplied', 'Supporting', 'Supposed', 'Supra', 'Supreme', 'Sur', 'Suresh', 'Sureshot', 'Surfer', 'SurferEdit', 'Surfers', 'Surferto', 'Surge', 'Surgeon', 'Surik', 'Surprised', 'Surprisingly', 'Surreptitiously', 'Surridge', 'Surrounded', 'Surs', 'Surtur', 'SurturWhen', 'Surturs', 'Surveillance', 'Survivalists', 'Surviving', 'Susan', 'Susans', 'Susie', 'Suspecting', 'Suspensor', 'Suspensors', 'Suspicious', 'Sussurrata', 'Sutter', 'Sutton', 'Suwan', 'Suwans', 'Suzanna', 'Suzi', 'Suzy', 'Suzys', 'Svartalfheim', 'Sven', 'Swabada', 'Swagman', 'Swainsville', 'Swallow', 'Swamp', 'Swan', 'Swann', 'Swanís', 'Swarm', 'Swarms', 'Sway', 'Swearing', 'Sweeney', 'Swift', 'Swiftly', 'Swimmer', 'Swimming', 'Swiss', 'Switchblade', 'Switzerland', 'Switzler', 'Sword', 'Swordman', 'Swordsman', 'Swordsmans', 'Swordsmen', 'Sworn', 'Sybil', 'Sydney', 'Sylar', 'Sylars', 'Sylbert', 'Sylvania', 'Sylvester', 'Sym', 'Symbioship', 'Symbiote', 'Symbiotes', 'Symbol', 'Sympathetic', 'Syms', 'Synch', 'Syndicate', 'Syndicates', 'Syndrome', 'Syndromes', 'Synge', 'Synnar', 'Synne', 'Synnes', 'Synraith', 'Synthesizer', 'Sypha', 'Syphon', 'Syphonn', 'Syphons', 'System', 'Systems', 'Sytsevich', 'Szardos', 'Szasz', 'Szgany', 'Sōke', 'T', 'T002', 'T1000', 'T1001', 'T1001s', 'T800', 'T800s', 'T850', 'T850s', 'TA', 'TALOS', 'TAO', 'TCL', 'TChaila', 'TChaka', 'TChakas', 'TChalla', 'TChallas', 'TE', 'TELOS', 'TESS1', 'TESSOne', 'THE', 'THEM', 'THESE', 'THRONE', 'TKorr', 'TO', 'TRay', 'TRays', 'TShirt', 'TV', 'TVs', 'TX', 'TX55', 'TXs', 'Taanu', 'Tabitha', 'Tabithas', 'Table', 'Taboo', 'Tabula', 'Tabur', 'Taburs', 'Tabuu', 'Tachyon', 'TacoWhiz', 'TacoWhizDiana', 'Tactical', 'Tactics', 'Tactigon', 'Taggert', 'Tagging', 'Tahuantinsuyu', 'Tai', 'Tail', 'Tails', 'Tainted', 'Taiseiden', 'Taiwanese', 'Takahama', 'Takashi', 'Taken', 'Takes', 'Taki', 'Takiguchi', 'Taking', 'Takion', 'Takions', 'Takodana', 'TakronGaltos', 'Tal', 'Talan', 'Talbot', 'Talbots', 'Talia', 'Talias', 'Taliban', 'Talisman', 'Talk', 'Talon', 'Talons', 'Talzin', 'Tam', 'TamBor', 'Tamalpais', 'Tamara', 'Tamaran', 'Tamaranean', 'Tamaranian', 'Tamarans', 'Tamareanian', 'Tamarind', 'Tana', 'Tanaka', 'Tanami', 'Tanaraq', 'Tancredo', 'Tandy', 'Tandys', 'Taneleer', 'Tanghal', 'Tangier', 'Tangiers', 'Tania', 'Tank', 'Tanktop', 'Tanner', 'Tanners', 'Tanooki', 'Tantu', 'Tantus', 'Tanuki', 'Tanukis', 'Tanya', 'Tapeworm', 'Tar', 'Tara', 'Tarakis', 'Tarantula', 'Taras', 'Tare', 'Taren', 'Tarene', 'Tarenes', 'Targaryen', 'Targets', 'Tarianna', 'Tarkata', 'Tarkatan', 'Tartarus', 'Tarth', 'Taryn', 'Tasha', 'Task', 'Taskmaster', 'Taskmasters', 'Tasky', 'Tatanga', 'Tatangas', 'Tatooine', 'Tatsu', 'Tatsuo', 'Tattoo', 'Tattoobut', 'Tattooed', 'Taylor', 'Tazza', 'Tchalla', 'Tcheru', 'Teague', 'Team', 'TeamUp', 'TeamX', 'Teaming', 'Teams', 'Tearing', 'Tears', 'Teasdale', 'Teban', 'Teben', 'Tech', 'TechCom', 'Technarch', 'Technarchy', 'Technet', 'Technical', 'Technique', 'Technis', 'Techno', 'TechnoOrganic', 'Technological', 'Technologies', 'Technology', 'Techs', 'Techtronics', 'Ted', 'Teddy', 'Teds', 'Teekl', 'Teen', 'Teenage', 'Teenager', 'Teetering', 'Tef', 'Tefé', 'Telekinesis', 'Teleport', 'Teleported', 'Teleporting', 'Teleri', 'Televised', 'Telling', 'Tellus', 'Telos', 'Tempest', 'Templar', 'Templars', 'Template', 'Temple', 'Temples', 'Temptress', 'Tempus', 'Temugin', 'Temujin', 'Ten', 'TenEyed', 'TenTails', 'Tendra', 'Tenebrae', 'Teng', 'Tengu', 'Tengwar', 'Tennessee', 'Tennet', 'Tennyson', 'Tennysons', 'Tensei', 'Tensions', 'Tentatively', 'Tenzil', 'Teptow', 'Terdu', 'Termids', 'Terminal', 'Terminator', 'Terminators', 'Terminatrix', 'Termineus', 'Terminus', 'TerminusMachine', 'Termite', 'Terra', 'Terran', 'Terrance', 'Terras', 'Terrax', 'Terrence', 'Terri', 'Terrible', 'Terribles', 'Terribly', 'Terrific', 'Terrified', 'Terrigen', 'Terrigenesis', 'Terrills', 'Territories', 'Terror', 'Terrordome', 'Terrorist', 'Terrorists', 'Terry', 'Tessa', 'Tesseract', 'Test', 'Testing', 'Tetch', 'TethAdam', 'Tevat', 'Texan', 'Texas', 'Thaddeus', 'Thadeus', 'Thahn', 'Thakorr', 'Thal', 'Thames', 'Thanagar', 'Thanagarian', 'Thanagarians', 'Thanaton', 'Thanatos', 'Thane', 'Thankfully', 'Thanks', 'Thanksgiving', 'Thanos', 'ThanosThanos', 'Thanosi', 'Thanoss', 'Thanotopsia', 'Thar', 'Thara', 'Tharnn', 'That', 'Thats', 'Thawne', 'ThawneReverseFlash', 'Thawnes', 'Thayer', 'The', 'TheOneAboveAll', 'Thea', 'Theas', 'Theater', 'Theatre', 'Their', 'Thelma', 'Themyscara', 'Themyscira', 'Themysciradisrupted', 'Themysciran', 'Themyscirian', 'Then', 'Thena', 'Thenceforth', 'Theo', 'Theodore', 'Theory', 'There', 'Therea', 'Thereafter', 'Thereby', 'Therefore', 'Theres', 'Theresa', 'Thermodynamic', 'Theron', 'Theroux', 'These', 'Theseus', 'Thesily', 'Thessaly', 'Theta', 'Thetas', 'They', 'Theyre', 'Thief', 'Thiena', 'Thierna', 'Thieves', 'Thing', 'Things', 'Think', 'Thinker', 'Thinkers', 'Thinking', 'Third', 'Thirst', 'Thirsts', 'Thirteen', 'Thirteens', 'Thirty', 'This', 'Thog', 'Thomas', 'Thomass', 'Thompkins', 'Thompson', 'Thor', 'Thoran', 'Thorazine', 'Thornn', 'Thornton', 'Thorny', 'Thoros', 'Thorpe', 'Thors', 'Thorís', 'Those', 'Though', 'Thousand', 'Thousands', 'Thrall', 'Thrasher', 'Three', 'Threepio', 'Threepios', 'Threes', 'Threnody', 'Thrilled', 'Throne', 'Throneworld', 'Throneworlds', 'Throttle', 'Through', 'Throughout', 'Throw', 'Throwing', 'Thule', 'Thules', 'Thunder', 'Thunderball', 'Thunderbird', 'Thunderbolt', 'Thunderbolts', 'Thunderclap', 'Thunderer', 'Thunderers', 'Thunderider', 'Thunders', 'Thunderstrike', 'Thunderstrikes', 'Thundra', 'Thundras', 'Thurian', 'Thurman', 'Thurmans', 'Thursday', 'Thus', 'Thuviskaroth', 'Thwarted', 'Thyphoid', 'Théoden', 'Thögal', 'Tiamat', 'Tiana', 'Tiara', 'Tibet', 'Tibetan', 'Tien', 'TienShinhan', 'Tienamen', 'Tier', 'Tiger', 'Tigers', 'Tigorr', 'Tigra', 'Tigras', 'Tigre', 'Tigris', 'Tijuana', 'Tikal', 'Tiki', 'Tilby', 'Tilda', 'Tim', 'Timandra', 'Timber', 'Timbers', 'Time', 'TimeKeepers', 'TimeSkip', 'Timebroker', 'Timeline', 'Timely', 'Timelys', 'Timepoint', 'Times', 'Timeslip', 'Timeslips', 'Timespinner', 'Timestream', 'Timothy', 'Timper', 'Tims', 'Timwhenever', 'Tina', 'Tinkerer', 'Tinya', 'Tired', 'Tirgoviste', 'Tiring', 'Tirion', 'Tisiphone', 'Titan', 'Titania', 'Titanian', 'Titanians', 'Titanium', 'Titanomechs', 'Titans', 'Title', 'Tito', 'Titus', 'Tivan', 'Tiwaz', 'Tiwazs', 'Tlano', 'To', 'Toad', 'Toadies', 'Toadland', 'Toadmen', 'Toads', 'Toadstool', 'Toadsworth', 'Toastmaster', 'Tobi', 'Tobias', 'Tobirama', 'Toby', 'Tockman', 'Tod', 'Today', 'Todd', 'Todds', 'Toddy', 'Together', 'Toki', 'Tokyo', 'Tolerance', 'Tolkiens', 'Tolliver', 'Tollivers', 'Tolliverís', 'Tom', 'Tomahawk', 'Tomar', 'TomarRe', 'Tomars', 'Tomas', 'Tomaz', 'Tomb', 'Tombstone', 'Tome', 'Tommy', 'Tomorrow', 'Tompkins', 'Toms', 'Tomás', 'Tong', 'Tongues', 'Tony', 'Tonys', 'Too', 'Tooks', 'Toomes', 'Top', 'TopMan', 'TopMans', 'Topaz', 'Topo', 'Toppo', 'Tops', 'Tor', 'Torch', 'Torchs', 'Tores', 'Tork', 'Torment', 'Torn', 'Tornado', 'Tornado1', 'Tornado11', 'Tornados', 'Toro', 'Toronto', 'Torres', 'Torture', 'Tot', 'Total', 'Totem', 'Totems', 'Toth', 'Touch', 'Touched', 'Touching', 'Tourmenet', 'Tournament', 'Tourney', 'Toward', 'Towards', 'Tower', 'TowerAvengers', 'Towers', 'Town', 'Towns', 'Toxin', 'Toxins', 'Toxxin', 'Toy', 'Toyboy', 'Toymakers', 'Toyman', 'Toynbee', 'Toynbees', 'Toyne', 'Toys', 'Traci', 'Tracing', 'Tracker', 'Tracking', 'Tracy', 'Trade', 'Trader', 'Trading', 'Tragedy', 'Tragg', 'Tragically', 'Trago', 'Train', 'Trained', 'Trainer', 'Trainers', 'Training', 'Traitor', 'Traitors', 'Tran', 'Trance', 'Trances', 'Transbelvia', 'Transceptor', 'Transcontinental', 'Transfiguration', 'Transformation', 'Transformed', 'Transformers', 'Transforming', 'Transia', 'Transian', 'Transigen', 'Transmission', 'Transmode', 'Transmuter', 'Transylvania', 'Trantoul', 'Trapper', 'Trappers', 'Trapster', 'Trask', 'Trasks', 'Trauma', 'Traumas', 'Traumatized', 'Traveler', 'Traveling', 'Traveller', 'Travelling', 'Traversing', 'Travis', 'Traya', 'Trayce', 'Traynor', 'Trayus', 'Treadmill', 'Treasure', 'Treblinka', 'Tree', 'Trees', 'Trek', 'Tremayne', 'Tremont', 'Tremor', 'Trench', 'TrenchAfter', 'Trenchcoat', 'Trenchs', 'Trepidation', 'Trevis', 'Trevor', 'Trevors', 'TriSentinel', 'TriSentinels', 'Triad', 'Trials', 'Triangle', 'Triathlon', 'Tribal', 'Tribb', 'Tribe', 'Tribepeople', 'Tribes', 'Tribunal', 'Tribunals', 'Tricell', 'Tricking', 'Trickshot', 'Trickster', 'Tricksters', 'Trieste', 'Trigger', 'Trigon', 'Trigons', 'Trikon', 'Trilogy', 'Trina', 'Trini', 'Trinis', 'Trinity', 'Trio', 'Triple', 'Triplicate', 'Tripoli', 'Trish', 'Triskele', 'Triskelion', 'Tristan', 'Tristess', 'Tristians', 'Triton', 'Tritonanger', 'Tritonians', 'Tritonis', 'Tritonisall', 'Tritons', 'Triumvirate', 'Triune', 'Triwizard', 'Trixie', 'Trogg', 'Troi', 'Troia', 'Trojan', 'Troll', 'Trollbridge', 'Trolls', 'Tromette', 'Trooper', 'Troopers', 'Troops', 'Troopsbi', 'Trophy', 'Tropical', 'Trouble', 'Troubled', 'Troupe', 'Trovaya', 'Troy', 'Troyjans', 'Troys', 'Truax', 'True', 'Truffaut', 'Trujillo', 'Truly', 'Truman', 'Trumans', 'Trunks', 'Trust', 'Trusting', 'Truth', 'Truths', 'Try', 'Trying', 'Tshirts', 'TsuZana', 'Tsunade', 'Tsunami', 'Tsung', 'Tsungs', 'Tsurayaba', 'Tsuringrad', 'Tuan', 'Tuans', 'Tuatha', 'Tube', 'Tubes', 'Tucson', 'Tui', 'Tuko', 'Tula', 'Tulip', 'Tulkas', 'Tully', 'Tulpa7', 'Tulsa', 'Tumbalt', 'Tumolo', 'Tumolos', 'Tumulo', 'Tundra', 'Tung', 'Tunisia', 'Tunnel', 'Tunnels', 'Tupper', 'Turbine', 'Turbines', 'Turbo', 'Turbulent', 'Turgenev', 'Turgenevs', 'Turhan', 'Turkey', 'Turkish', 'Turnbull', 'Turnbulls', 'Turned', 'Turner', 'Turning', 'Turnpike', 'Turpin', 'Turtle', 'Turtles', 'Tuscan', 'Tuskegee', 'Tusken', 'Tuskens', 'TutAkMun', 'Tuuru', 'Twain', 'Twains', 'Twelve', 'Twilek', 'Twilight', 'Twin', 'Twins', 'Twist', 'Twister', 'Twists', 'Twitch', 'Two', 'TwoFace', 'TwoFaces', 'TwoGun', 'Twoyoungmen', 'Tyannan', 'Tyannans', 'Tyconria', 'Tyger', 'Tygers', 'Tyler', 'Tyme', 'Type', 'TypeS', 'Typeface', 'Typhoid', 'Typhon', 'Typhoon', 'Tyrannosaur', 'Tyrannosaurus', 'Tyrannus', 'Tyrant', 'Tyrants', 'Tyrell', 'Tyrion', 'Tyrk', 'Tyrmean', 'Tyro', 'Tyrone', 'Tyrones', 'Tywin', 'Tzadqiel', 'Tzu', 'Tzuentes', 'Tzus', 'U', 'UAE', 'UAW', 'UBCS', 'UCLA', 'UGo', 'UK', 'UKs', 'UMF013', 'UMF013s', 'UMan', 'UMen', 'UN', 'UNMOVIC', 'UNSC', 'UNSCOM', 'UNSCs', 'UNs', 'UNsponsored', 'US', 'USA', 'USAgent', 'USCanadian', 'USMC', 'USMCs', 'USS', 'USSR', 'USSRs', 'Ualac', 'Uatu', 'Uatus', 'Uber', 'Ubu', 'Uchiha', 'Udonta', 'Udontas', 'Uggha', 'Ukiyoe', 'Ukraine', 'Ula', 'Ulik', 'Ultimate', 'Ultimately', 'Ultimates', 'Ultimaton', 'Ultimatum', 'Ultimo', 'Ultimos', 'Ultra', 'UltraGirl', 'UltraHumanite', 'Ultraa', 'Ultraconductor', 'Ultraforce', 'UltragirlGroot', 'Ultraman', 'Ultramarine', 'Ultraverse', 'Ultron', 'Ultrons', 'Ultronvirus', 'Ulysses', 'Umar', 'Umars', 'Umbrella', 'Umbrellas', 'Umbridge', 'Umbridged', 'Umino', 'Un', 'UnEarth', 'UnMen', 'Una', 'Unabated', 'Unable', 'Unas', 'Unaware', 'Unbeknown', 'Unbeknownst', 'Uncegila', 'Uncle', 'Uncontrolled', 'Uncreated', 'Undaunted', 'Undead', 'Under', 'Underchild', 'Underground', 'Undergrounds', 'Underminer', 'Undersea', 'Understandably', 'Understanding', 'Undertaking', 'Underwater', 'Underworld', 'Underworlders', 'Undeterred', 'Undoubtedly', 'Undying', 'Unexpectedly', 'Unfazed', 'Unfortunately', 'Unfortunatly', 'Ungara', 'Ungaran', 'Ungoliant', 'Unhappy', 'Unholy', 'UniMind', 'UniPower', 'Unicorn', 'Unicron', 'Unicrons', 'Unified', 'Unifier', 'Unimpressed', 'Uninjured', 'Unintentionally', 'Uninterested', 'Union', 'Unipar', 'Unit', 'Unitarian', 'United', 'Units', 'Unity', 'Universal', 'Universe', 'Universes', 'University', 'Universitys', 'Universo', 'Unknown', 'Unleashed', 'UnleashedEdit', 'Unleashedshe', 'Unless', 'Unlight', 'Unlike', 'Unlimited', 'Unliving', 'Unmasked', 'Unmasking', 'Unnamed', 'Unnoticed', 'Unnthinnk', 'Uno', 'Unoccupied', 'Unscathed', 'Unseen', 'Unshaken', 'Unspoken', 'Unstable', 'Unsuccessfully', 'Unsure', 'Unsurprised', 'Unternet', 'Until', 'Untold', 'Untouchable', 'Unus', 'Unuscione', 'Unusual', 'Unwilling', 'Unwittingly', 'Uorboros', 'Upgrade', 'Upon', 'Uprising', 'Upset', 'Upstarts', 'Ural', 'Urass', 'Urban', 'Uriah', 'Urich', 'Urichs', 'Uriel', 'Uriels', 'Uroboros', 'Uroborus', 'Urrulians', 'Ursa', 'Ursula', 'Urthona', 'Uru', 'Uruguay', 'Urzkartaga', 'Urzkartagan', 'Urzkartagans', 'Us', 'UsEdit', 'Using', 'Usng', 'UstOrdynski', 'Usually', 'Utah', 'UtgardLoki', 'Utopia', 'Utopian', 'Utopians', 'Utopias', 'Utsugi', 'Uub', 'Uuh', 'Uzbekistan', 'Uzumaki', 'Uzumakiis', 'Uzumakis', 'V', 'V3', 'VACATE', 'VBattalion', 'VBattalions', 'VI', 'VII', 'VJ', 'VULTURE', 'Vaapad', 'Vachon', 'Vader', 'Vaders', 'Vagabond', 'Val', 'Vala', 'Valachia', 'Valar', 'Valdez', 'Valdezs', 'Valdimir', 'Vale', 'Valencia', 'Valentina', 'Valentine', 'Valentines', 'Valeria', 'Valerie', 'Vales', 'Valeska', 'Valestra', 'Valhalla', 'Validus', 'Valinor', 'Valka', 'Valkryie', 'Valkyrie', 'Valkyries', 'Valkyrior', 'Valle', 'Valley', 'Valor', 'Valve', 'Valyrian', 'Vamp', 'Vampire', 'VampireCorvinus', 'Vampires', 'Vampiric', 'Vamps', 'Van', 'Vanaheim', 'Vance', 'Vances', 'Vancouver', 'Vandal', 'Vandar', 'Vandooms', 'Vanessa', 'Vanessas', 'Vanguard', 'Vanguards', 'Vanilla', 'Vanir', 'Vanisher', 'Vanishers', 'Vanishing', 'Vanko', 'Vankos', 'Vanya', 'Vargas', 'Variance', 'Variant', 'Various', 'Varnae', 'Varykino', 'Varys', 'Varyss', 'Vasily', 'Vastor', 'Vatican', 'Vaud', 'Vault', 'Vaults', 'Vayla', 'Ve', 'Vector', 'Vega', 'Vegas', 'Vegeta', 'Vegetas', 'Vegito', 'Vehicles', 'Veidt', 'Veidts', 'Velasquez', 'Vell', 'Vells', 'Velocipods', 'Velocity', 'Vengeance', 'Vengeful', 'Venice', 'Venom', 'Venomm', 'Venoms', 'VentAiles', 'Venting', 'Ventriloquist', 'Vents', 'Ventura', 'Venus', 'Venusian', 'Ver', 'Vera', 'Veranke', 'Verde', 'Vergil', 'Vermin', 'Vermis', 'Vermont', 'Verna', 'Vernet', 'Vernichtungslager', 'Vernon', 'Veronica', 'Vers', 'Verses', 'Vertigo', 'Vertigos', 'Verum', 'Very', 'Vess', 'Vessel', 'Vessí', 'Vestin', 'Vestri', 'Veteran', 'Veterans', 'Veterinary', 'Vex', 'Vibe', 'Vibes', 'Vibranium', 'Vibraniumalloy', 'Vibro', 'Vic', 'Vice', 'Viceroy', 'Vicious', 'Vickers', 'Vicki', 'Vicky', 'Victor', 'Victoria', 'Victorian', 'Victorias', 'Victorious', 'Victorius', 'Victors', 'Victory', 'Vidar', 'Vidars', 'Video', 'Viderdoom', 'Viderdooms', 'Vienna', 'Viet', 'Vietnam', 'Vietnamese', 'Vigilante', 'Vigma', 'Vigmas', 'Vik', 'Viking', 'Vikings', 'Viktor', 'Vile', 'Viles', 'Vilgax', 'Vili', 'Villa', 'Village', 'Villain', 'Villains', 'Villainss', 'Villainy', 'Viltrumite', 'Viltrumites', 'Vince', 'Vincent', 'Vindicator', 'Vinnitsa', 'Vinny', 'Vinson', 'Violator', 'ViolatorClown', 'Violators', 'Violence', 'Violent', 'Violet', 'Violets', 'Viper', 'Vipers', 'Virago', 'Viragos', 'Virgil', 'Virginia', 'Virginians', 'Virman', 'Virtually', 'Virus', 'Virusprogram', 'Visalia', 'Visas', 'Viscount', 'Viseryss', 'Vishanti', 'Vision', 'Visions', 'Visiting', 'Vista', 'Vitae', 'Vitana', 'Vito', 'Vivian', 'Vixen', 'Vizier', 'Vizsla', 'Vlad', 'Vladimir', 'Vladimirs', 'Vladivostok', 'Vlana', 'Vlatava', 'Vlava', 'Vlavas', 'Vlc', 'Vodun', 'Voght', 'Voi', 'Voice', 'Void', 'Voids', 'Vol', 'Vol2', 'Volantis', 'Volcanic', 'Volcano', 'Volcanum', 'Vold', 'Voldemort', 'Voldemorts', 'Volds', 'Volker', 'Voll', 'Volstagg', 'Volstaggs', 'Volt', 'Volthoom', 'Voltzmann', 'Volume', 'Voluntarily', 'Von', 'Vong', 'Voodoo', 'Vore', 'Vormir', 'Vortex', 'Vortuma', 'Vos', 'Vostok', 'Vowing', 'Voyage', 'Voyager', 'Vrax', 'Vril', 'Vs', 'Vulcan', 'Vulcann', 'Vulcans', 'Vulko', 'Vulkos', 'Vultan', 'Vulture', 'Vulturions', 'Vundabar', 'Vung', 'Vungs', 'Vuon', 'Vyrra', 'W', 'WAR', 'WCA', 'WHO', 'WITH', 'WMDs', 'WOMAN', 'WONDER', 'WW', 'WWBTV', 'WWII', 'WWIII', 'WWIIera', 'Wade', 'Wades', 'Wagner', 'Wagners', 'Wai', 'Wainscroft', 'Wait', 'Waiting', 'Wakanda', 'Wakandan', 'Wakandans', 'Wakandas', 'Wake', 'Waking', 'Wal', 'Waldo', 'Wales', 'Walk', 'Walker', 'Walkers', 'Walking', 'Wall', 'Wallace', 'Waller', 'Wallers', 'Wally', 'Wallyboth', 'Wallys', 'Walrus', 'Walsh', 'Walter', 'Walters', 'Walton', 'Wand', 'Wanda', 'Wandas', 'Wanderer', 'Wanderers', 'Wandering', 'Wannabees', 'Wanted', 'Wanting', 'War', 'WarCriminal', 'WarThe', 'WarUltra', 'Warbird', 'Warbirds', 'Warbound', 'Warbow', 'Warclones', 'Ward', 'Warden', 'Wards', 'Warera', 'Warfare', 'Warhawk', 'Warhead', 'Warissue', 'Warkiller', 'Warlock', 'Warlocks', 'Warlord', 'Warlords', 'Warly', 'Warned', 'Warning', 'Warp', 'Warpath', 'Warpies', 'Warrant', 'Warren', 'Warrens', 'Warrior', 'Warriors', 'Wars', 'WarsEdit', 'Warsaw', 'Warskrulls', 'Warstar', 'Wart', 'Waru', 'Warwear', 'Warwolds', 'Warwolf', 'Warwolves', 'Warworld', 'Warworlds', 'Was', 'Washing', 'Washington', 'Washout', 'Washouts', 'Wasp', 'Waste', 'Wasteland', 'Wastes', 'Watch', 'Watchdogs', 'Watcher', 'Watchers', 'Watching', 'Watchmen', 'Watchmenverse', 'Watchs', 'Watchtower', 'Watchtowers', 'Water', 'Waterbearer', 'Waterbearers', 'Waterfront', 'Waters', 'Watkins', 'Watson', 'Watsons', 'Watts', 'Wauer', 'Wave', 'Waverider', 'Waveriders', 'Waves', 'Way', 'WayOpener', 'Wayfarer', 'Wayfinder', 'Wayfinders', 'Waylon', 'Wayne', 'WaynePowers', 'Waynes', 'Wayward', 'Wayword', 'Wazzo', 'We', 'Weak', 'Weakened', 'Wealthy', 'Weapon', 'Weaponeers', 'Weaponers', 'Weapons', 'Wearing', 'Weary', 'Weasel', 'Weasels', 'Weasley', 'Weather', 'Weathertop', 'Weaver', 'Weavers', 'Web', 'WebHead', 'WebShooters', 'WebSlinger', 'Webb', 'Webs', 'Webster', 'Websters', 'Wedding', 'Week', 'Weeks', 'Weeping', 'Weight', 'Weil', 'Weils', 'Weird', 'Weisbogg', 'Weisman', 'Welcome', 'Welfare', 'Well', 'Wellington', 'Wells', 'Wellss', 'Welshborn', 'Welvath', 'Wench', 'Wendell', 'Wendi', 'Wendigo', 'Wendigos', 'Wendy', 'Weng', 'Were', 'Werehog', 'Werewolf', 'Werner', 'Wes', 'Wesell', 'Wesker', 'Weskers', 'Wesley', 'Wesleys', 'West', 'WestAllen', 'WestThe', 'Westchester', 'Westenra', 'Wester', 'Westerlands', 'Western', 'Westeros', 'Westfield', 'Westlake', 'WestlakeDarkman', 'Westlakes', 'Westopolis', 'Westopolisbi', 'Wests', 'Wexus', 'Weying', 'Weyland', 'What', 'Whatever', 'Whats', 'Whatsisname', 'Wheel', 'Wheeler', 'When', 'Whenever', 'Whent', 'Where', 'Whereas', 'Wherever', 'Whether', 'Which', 'While', 'Whip', 'Whiplash', 'Whirldemons', 'Whirlwind', 'Whisker', 'Whisper', 'Whisperers', 'Whispering', 'Whistler', 'Whitby', 'White', 'WhiteHot', 'Whitecloud', 'Whiteclouds', 'Whitehall', 'Whitemane', 'Whites', 'Whith', 'Whitman', 'Whitmans', 'Whitmore', 'Whitney', 'Whizzer', 'Who', 'Whoberis', 'Whos', 'Whose', 'Whosoever', 'Why', 'Wiccan', 'Wicked', 'Wicker', 'WideAwake', 'Wideawake', 'Widget', 'Widow', 'Widowed', 'Widower', 'Widows', 'Wield', 'Wielding', 'Wight', 'Wights', 'Wii', 'Wiki', 'Wild', 'Wildboys', 'Wildcat', 'Wilde', 'Wildebeest', 'Wildebots', 'Wildfire', 'Wildheart', 'Wildhearts', 'Wildmutt', 'Wildpride', 'Wildside', 'Wildstar', 'Wildstorm', 'Wildways', 'Wiles', 'Wilhelm', 'Wilkins', 'Will', 'WillOTheWisp', 'Willam', 'William', 'Williams', 'Williamsburg', 'Willie', 'Willies', 'Willing', 'Willis', 'Willow', 'Willowdale', 'Wills', 'Wilma', 'Wilson', 'Wilsons', 'Wilsonís', 'Wily', 'Wilys', 'Winath', 'Winathians', 'Winchester', 'Wind', 'Winda', 'Winds', 'Windshed', 'Windsor', 'Windward', 'Wing', 'Wingate', 'Wingers', 'Wingfoot', 'Wingman', 'Wings', 'Wingspan', 'Winks', 'Winn', 'Wins', 'Winslow', 'Winston', 'Winter', 'Winterfell', 'Wintergreen', 'Wintergreens', 'Winters', 'Winumbers', 'Winzeldorf', 'Wipeout', 'Wire', 'Wisconsin', 'Wisdom', 'Wisdoms', 'Wise', 'Wisemens', 'Wishing', 'Wisp', 'Wisps', 'Witch', 'WitchBoy', 'Witchblade', 'Witchcraft', 'Witches', 'Witchking', 'Witchs', 'With', 'Withersppon', 'Within', 'Without', 'Witness', 'Witnessing', 'Witter', 'Witters', 'Wittman', 'Wiz', 'Wizard', 'Wizarding', 'Wizardry', 'Wizards', 'Wizengamot', 'Wladyslav', 'Wobbles', 'Wolf', 'Wolfe', 'Wolfgang', 'Wolflings', 'Wolfman', 'Wolfs', 'Wolfsbane', 'Wolfsbanes', 'Wolverine', 'Wolverinelike', 'Wolverines', 'Woman', 'Womanrestored', 'Womans', 'Womanthat', 'Womb', 'Women', 'Womens', 'Wonde', 'Wonder', 'Wonderland', 'Wonders', 'Wong', 'WongChu', 'WongChus', 'Wongs', 'Woo', 'Woodrue', 'Woodrues', 'Woodstock', 'Woos', 'Woozy', 'Word', 'Wordsworth', 'Worf', 'Worhty', 'Working', 'Works', 'Workshop', 'World', 'WorldEdit', 'Worldmind', 'Worlds', 'Worldship', 'Worldwatch', 'Worm', 'Worms', 'Worried', 'Worse', 'Worth', 'Worthington', 'Worthingtons', 'Worthy', 'Wounded', 'Wracked', 'Wraith', 'Wraiths', 'Wraithworld', 'Wrap', 'Wrath', 'Wrecker', 'Wrecking', 'Wrestling', 'Wright', 'Ws', 'Wu', 'WuSan', 'Wulfric', 'Wundagore', 'Wundarr', 'Wunderkinder', 'Wus', 'Wyatt', 'Wyatts', 'Wye', 'Wyern', 'Wylie', 'Wyndham', 'Wyndhams', 'Wyngarde', 'Wynn', 'Wynns', 'Wyvern', 'X', 'X1', 'X23', 'X233PAR', 'X23s', 'X4', 'X5', 'X51', 'X5Edit', 'X5anime251', 'X6', 'X6Edit', 'X7', 'X7Edit', 'X8Edit', 'XAllies', 'XBabies', 'XBrig', 'XCell', 'XClub', 'XClubs', 'XCorp', 'XCorporation', 'XCorps', 'XCutioner', 'XDay', 'XElement', 'XFactor', 'XFactors', 'XForce', 'XForcers', 'XForces', 'XGene', 'XHoss', 'XHumed', 'XHunters', 'XII', 'XJet', 'XK8', 'XKids', 'XLR8', 'XLab', 'XMan', 'XManThe', 'XMans', 'XMansion', 'XMen', 'XMenDazzler', 'XMenLongshot', 'XMens', 'XNation', 'XRanch', 'XS', 'XSE', 'XSEs', 'XStatix', 'XTerminators', 'XTernals', 'XTreme', 'XUE', 'XWing', 'XWomen', 'XXIII', 'XXIV', 'XXX', 'XZone', 'Xakku', 'Xan', 'Xanadu', 'Xandar', 'Xandarian', 'Xandars', 'Xander', 'Xantharian', 'Xaos', 'Xartans', 'Xarus', 'Xauron', 'Xavier', 'XavierMarko', 'Xaviers', 'Xebel', 'Xenomorph', 'Xenomorphs', 'Xerxes', 'Xforce', 'Xi', 'Xian', 'Xians', 'Xixabangma', 'Xmansion', 'Xmen', 'Xmens', 'Xorn', 'Xorneto', 'Xorns', 'Xray', 'Xs', 'Xshaped', 'Xtitles', 'Xtreme', 'Xudar', 'Xís', 'Y', 'Y2K', 'YMen', 'YOUR', 'YaWara', 'YaWaras', 'Yacker', 'Yackers', 'Yaga', 'Yagzan', 'Yahiko', 'Yahikos', 'Yahweh', 'Yahwehs', 'Yakushi', 'Yakuza', 'Yamanaka', 'Yamashiro', 'Yamcha', 'Yandroth', 'Yandroths', 'Yang', 'Yangsi', 'Yangtze', 'Yann', 'YaoFei', 'Yar', 'Yarva', 'Yashida', 'Yashidas', 'Yat', 'Yats', 'Yautja', 'Yavanna', 'Yavin', 'Year', 'Year3', 'Years', 'Yee', 'Yelena', 'Yellow', 'Yellowjacket', 'Yellowjackets', 'Yes', 'Yet', 'Yeti', 'Yggdrasil', 'Yin', 'YinYang', 'Yinsen', 'Yinsens', 'Ymir', 'YoYo', 'Yod', 'Yoda', 'Yodas', 'Yoga', 'Yogi', 'YonRogg', 'YonRoggs', 'Yondaime', 'Yondu', 'York', 'York29', 'Yorkbased', 'Yorkin', 'Yorks', 'Yoru', 'Yorus', 'Yoshi', 'Yoshioka', 'Yoshiokas', 'Yoshis', 'You', 'Youll', 'Young', 'Youngblood', 'Younghunt', 'Youngsters', 'Youre', 'Youth', 'Ypres', 'Ysmault', 'Yu', 'YuTi', 'YuTis', 'Yuan', 'Yuans', 'Yuc', 'Yuga', 'Yugoslavian', 'Yukio', 'Yukios', 'Yukon', 'Yule', 'Yuri', 'Yuria', 'Yuriko', 'Yurrd', 'Yuuzhan', 'Yverdonm', 'Yvette', 'Yyou', 'Z', 'Z2', 'Z3', 'Z3079', 'Z9', 'Z95', 'ZBuster', 'ZCity', 'ZERO', 'ZEUS', 'ZEnergy', 'ZFighters', 'ZNox', 'ZSaber', 'ZX', 'Zabrak', 'Zach', 'Zaffer', 'Zahgurim', 'Zail', 'Zaire', 'Zaitsev', 'Zaladane', 'Zaladanes', 'Zam', 'Zamaron', 'Zamaronianpng', 'Zambesi', 'Zambesiborn', 'Zander', 'Zandia', 'Zandt', 'Zane', 'Zanes', 'Zaniac', 'Zann', 'Zanns', 'Zano', 'Zanzibar', 'Zapper', 'Zaran', 'Zarathos', 'Zarek', 'Zarrko', 'Zartra', 'Zatanna', 'Zatannas', 'Zatara', 'Zataras', 'Zath', 'Zator', 'Zators', 'Zauber', 'Zauriel', 'Zavok', 'Zavoks', 'Zazz', 'Zead', 'Zealand', 'Zealots', 'Zebediah', 'Zebra', 'Zed', 'Zedd', 'Zeena', 'Zehoberei', 'Zehuti', 'Zeitkrieg', 'Zeke', 'Zekes', 'Zelda', 'Zemo', 'Zemo22', 'Zemos', 'Zen', 'ZenWhoberis', 'Zenn', 'ZennLa', 'Zennon', 'Zennons', 'Zeno', 'Zenos', 'Zeraze', 'Zero', 'ZeroEdit', 'ZeroMr', 'ZeroSome', 'Zeros', 'Zeta', 'ZetaBeam', 'Zeti', 'Zeulniz', 'Zeus', 'Zeuss', 'Zfighters', 'Zhang', 'Zhao', 'Zharan', 'ZheredNa', 'ZheredNas', 'Zhutanian', 'Zik', 'Zillo', 'Zinco', 'Zinda', 'Znox', 'Zo', 'Zoanne', 'Zod', 'Zodiac', 'Zoe', 'Zohar', 'Zoiray', 'Zola', 'Zolas', 'Zolomon', 'ZolomonZoom', 'Zolomons', 'Zom', 'Zoma', 'Zombie', 'Zombies', 'Zombified', 'Zomom', 'Zoms', 'Zonama', 'Zone', 'Zoners', 'Zones', 'Zoo', 'Zoom', 'Zooms', 'Zor', 'ZorEl', 'ZorEls', 'ZorL', 'Zoran', 'Zota', 'Zoumas', 'Zs', 'Zsaji', 'Zsasz', 'Zsaszs', 'Zucco', 'Zuccos', 'Zuel', 'Zuels', 'Zuggernaut', 'Zugir', 'Zumac', 'ZurEnArrh', 'Zuras', 'ZurrEnArrh', 'Zyx', 'Zzzax', 'Zzzaxs', 'aback', 'abandon', 'abandoned', 'abandoning', 'abandonment', 'abated', 'abattoir', 'abbatoir', 'abdicate', 'abdicated', 'abdicates', 'abdomen', 'abduct', 'abducted', 'abductees', 'abducting', 'abduction', 'abductor', 'abducts', 'aberration', 'aberrationcreated', 'abetting', 'abhorred', 'abhors', 'abide', 'abided', 'abilitiesattacked', 'ability', 'abject', 'ablaze', 'able', 'ablebodied', 'abnormal', 'abnormally', 'aboard', 'abode', 'abombs', 'abominable', 'abomination', 'aborigine', 'abort', 'aborted', 'abortion', 'abounding', 'aboveaverage', 'abovehuman', 'abroad', 'abrupt', 'abruptly', 'absconded', 'absence', 'absenceHippolyta', 'absent', 'absently', 'absolute', 'absolutely', 'absolution', 'absolving', 'absorb', 'absorbed', 'absorbing', 'absorbs', 'absorption', 'abstract', 'abundant', 'abuse', 'abused', 'abusing', 'abusive', 'abysmal', 'abyss', 'academia', 'academic', 'academically', 'academy', 'accedes', 'accelerate', 'accelerated', 'accelerating', 'accelerator', 'accept', 'acceptable', 'acceptance', 'accepted', 'acceptedBefore', 'accepting', 'accepts', 'acceptsErik', 'access', 'accessed', 'accessible', 'accessing', 'accessory', 'accident', 'accidental', 'accidentally', 'accidentially', 'accidently', 'acclaimed', 'acclimating', 'accommodate', 'accommodation', 'accompained', 'accompanied', 'accompanies', 'accompany', 'accompanying', 'accomplice', 'accomplish', 'accomplished', 'accomplishes', 'accomplishing', 'accomplishment', 'accord', 'accordance', 'according', 'accordingly', 'accosted', 'account', 'accountant', 'accounted', 'accreditation', 'accumulated', 'accumulating', 'accumulation', 'accuracy', 'accurate', 'accurately', 'accusation', 'accuse', 'accused', 'accuses', 'accusing', 'accustomed', 'ace', 'ache', 'achieve', 'achieveWhile', 'achieved', 'achievement', 'achieves', 'achieving', 'acid', 'acidic', 'acidresistant', 'acknowledge', 'acknowledged', 'acknowledgement', 'acknowledges', 'acknowledging', 'acolyte', 'acquaintance', 'acquainted', 'acquiesce', 'acquire', 'acquired', 'acquirement', 'acquires', 'acquiring', 'acquisition', 'acquittal', 'acquitted', 'acquitting', 'acre', 'acrimoniously', 'acrobat', 'acrobatic', 'acrobatics', 'acronym', 'acrophobia', 'across', 'act', 'acted', 'acting', 'action', 'actionoriented', 'activate', 'activated', 'activates', 'activating', 'activation', 'active', 'actively', 'activism', 'activist', 'activity', 'actor', 'actress', 'actual', 'actuality', 'actually', 'acuity', 'acumen', 'acute', 'ad', 'adamant', 'adamantium', 'adamantly', 'adapt', 'adaptation', 'adapted', 'adapting', 'add', 'added', 'addict', 'addicted', 'addiction', 'addictive', 'adding', 'addition', 'additional', 'additionally', 'addled', 'address', 'addressed', 'addtional', 'ade', 'adept', 'adequate', 'adequately', 'adhered', 'adheres', 'adhoc', 'adjacent', 'adjust', 'adjusted', 'adjusting', 'adjustment', 'administer', 'administered', 'administering', 'administration', 'administrative', 'administrator', 'admirable', 'admirably', 'admiration', 'admire', 'admired', 'admirer', 'admires', 'admiring', 'admiringly', 'admission', 'admit', 'admited', 'admits', 'admitted', 'admittedly', 'admitting', 'admonishing', 'ado', 'adolescence', 'adolescent', 'adopt', 'adopted', 'adopting', 'adoption', 'adoptive', 'adopts', 'adored', 'adoring', 'adorning', 'adrenal', 'adrenaline', 'adressed', 'adrift', 'adulation', 'adult', 'adulthood', 'adultlooking', 'advance', 'advanced', 'advancement', 'advancing', 'advantage', 'advantageous', 'adventure', 'adventured', 'adventurer', 'adventurerHe', 'adventuring', 'adventurist', 'adventurous', 'adversarial', 'adversary', 'adversely', 'advertisement', 'advertising', 'advice', 'advise', 'advised', 'adviser', 'advises', 'advising', 'advisor', 'advisorfamily', 'advocate', 'advocated', 'aerial', 'aerialist', 'aerially', 'aerobics', 'aeronautics', 'aeroplane', 'aerospace', 'aesthetic', 'afar', 'affair', 'affect', 'affected', 'affecting', 'affection', 'affectionate', 'affectionately', 'affiliate', 'affiliated', 'affinity', 'affirmative', 'affirmatively', 'affixed', 'affliation', 'afflicted', 'affliction', 'afflicts', 'affluent', 'afford', 'afforded', 'affording', 'aficionado', 'aflame', 'aforementioned', 'afoul', 'afraid', 'aftereffect', 'afterlife', 'aftermath', 'afternoon', 'aftershock', 'afterward', 'afterwards', 'afterword', 'afterwords', 'againJessicas', 'againoff', 'againor', 'agains', 'againsth', 'age', 'ageHis', 'aged', 'ageless', 'agency', 'agenda', 'agent', 'agentbut', 'ageold', 'agesold', 'aggravated', 'aggravating', 'aggregate', 'aggregation', 'aggression', 'aggressive', 'aggressor', 'agile', 'agility', 'aging', 'agitate', 'agitated', 'ago', 'agony', 'agoraphobia', 'agree', 'agreed', 'agreedupon', 'agreeing', 'agreement', 'agrees', 'agricultural', 'ahead', 'ahold', 'ai', 'aid', 'aidLater', 'aide', 'aided', 'aidedecamp', 'aiding', 'ailing', 'ailment', 'aim', 'aimed', 'aiming', 'aimless', 'aimlessly', 'air', 'airbase', 'airborne', 'aircraft', 'aired', 'airgun', 'airlifted', 'airlifting', 'airlock', 'airman', 'airplane', 'airport', 'airship', 'airwalker', 'airworthy', 'aisle', 'aka', 'akin', 'al', 'alarm', 'alarmed', 'albeit', 'albino', 'album', 'alchemical', 'alchemist', 'alchemy', 'alcohol', 'alcoholic', 'alcoholism', 'alcove', 'alert', 'alerted', 'alerting', 'alex', 'algorithm', 'alias', 'alibi', 'alien', 'alienate', 'alienated', 'alienating', 'alienation', 'alienborn', 'alienlike', 'alienmachine', 'align', 'aligned', 'alignment', 'alike', 'alins', 'alive', 'allAmerican', 'allDormammu', 'allboys', 'allconsuming', 'allege', 'alleged', 'allegedly', 'allegiance', 'allergic', 'alleviate', 'alleviated', 'alley', 'alleyway', 'allfemale', 'allhearing', 'alliance', 'allied', 'alligator', 'alligatorlike', 'allin', 'allmighty', 'allnew', 'allocated', 'allot', 'allout', 'allow', 'allowance', 'allowed', 'allowing', 'allows', 'allowsing', 'alloy', 'allpowerful', 'allseeing', 'alltime', 'alluded', 'allure', 'allusion', 'allvillain', 'allwater', 'allwomen', 'ally', 'allying', 'alma', 'almighty', 'almost', 'almosthuman', 'alone', 'along', 'alongside', 'aloof', 'alot', 'aloud', 'alows', 'alpha', 'already', 'alreadygrowing', 'alreadyincreased', 'alright', 'also', 'alsopowerless', 'altar', 'alter', 'alteration', 'altercation', 'altered', 'alterego', 'altering', 'alternate', 'alternated', 'alternately', 'alternating', 'alternative', 'alternatively', 'alternativereality', 'alters', 'although', 'altogether', 'altruism', 'altruistic', 'alumnus', 'always', 'alĠūl', 'amalgam', 'amalgamation', 'amass', 'amassed', 'amassing', 'amateur', 'amazed', 'amazement', 'amazing', 'amazingly', 'amazon', 'ambassador', 'amber', 'ambient', 'ambiguity', 'ambiguous', 'ambition', 'ambitious', 'ambulance', 'ambush', 'ambushed', 'amelioration', 'amended', 'amends', 'american', 'amiable', 'amicable', 'amicably', 'amid', 'amidst', 'amiss', 'ammunition', 'amnesia', 'amnesiac', 'amnesic', 'amnesty', 'amok', 'among', 'amongst', 'amoral', 'amorous', 'amount', 'amounted', 'amped', 'amphibian', 'amphibious', 'amphitheater', 'amphora', 'amplification', 'amplified', 'amplifier', 'amplify', 'amplifying', 'amply', 'amputated', 'amputatedDespondent', 'amputation', 'amputee', 'amuk', 'amulet', 'amused', 'amusement', 'amygdala', 'anachronism', 'anagram', 'analog', 'analysis', 'analyst', 'analytical', 'analyze', 'analyzed', 'analyzes', 'analyzing', 'anarchist', 'anarchy', 'anathema', 'anatomically', 'anatomy', 'ancestor', 'ancestory', 'ancestral', 'ancestry', 'anchor', 'ancient', 'andor', 'android', 'anemic', 'anesthetic', 'aneurysm', 'anew', 'angel', 'angeldust', 'angelhuman', 'angelic', 'anger', 'angered', 'angering', 'angle', 'anglicised', 'angrier', 'angrily', 'angry', 'angst', 'anguish', 'anguished', 'animal', 'animalbased', 'animalistic', 'animallike', 'animalmen', 'animate', 'animated', 'animating', 'animation', 'anime', 'animosity', 'ankhshaped', 'ankle', 'annexed', 'annihilated', 'annihilation', 'anniversary', 'announce', 'announced', 'announcement', 'announcer', 'announces', 'announcing', 'annoy', 'annoyance', 'annoyed', 'annoying', 'annual', 'annually', 'annulled', 'anomalous', 'anomaly', 'anonymity', 'anonymous', 'another', 'anothers', 'answer', 'answerable', 'answered', 'answering', 'ant', 'antagonism', 'antagonist', 'antagonistic', 'antagonizing', 'antebellum', 'antenna', 'anther', 'anthill', 'anthropologist', 'anthropomorphic', 'anti', 'antiApocalypse', 'antiBOW', 'antiHero', 'antiJedi', 'antiMetal', 'antiMutant', 'antiPhalanx', 'antiReach', 'antiSuperman', 'antialien', 'antibiohazard', 'antibiotic', 'antibody', 'antic', 'anticipate', 'anticipated', 'anticipates', 'anticipating', 'anticipation', 'anticlimactic', 'anticoagulant', 'antidemon', 'antidote', 'antielectron', 'antigay', 'antigravity', 'antihero', 'antiheroic', 'antihuman', 'antimatter', 'antimetal', 'antimutant', 'antiparticle', 'antipathy', 'antique', 'antiquity', 'antireality', 'antiregistration', 'antisocial', 'antisuper', 'antisuperhero', 'antisuperhuman', 'antiterrorism', 'antitoxin', 'antitrust', 'antivenom', 'antiviral', 'antivirus', 'antiwar', 'anus', 'anxiety', 'anxious', 'anybody', 'anymore', 'anyone', 'anyones', 'anything', 'anytime', 'anyway', 'anywhen', 'anywhere', 'apart', 'apartheid', 'apartment', 'apathetic', 'apathy', 'ape', 'aperture', 'apiculture', 'apocalypse', 'apocalyptic', 'apocryphal', 'apologetic', 'apologised', 'apologize', 'apologized', 'apologizes', 'apologizing', 'apology', 'app', 'appalled', 'apparantly', 'apparatus', 'apparel', 'apparent', 'apparently', 'apparentlyresurrected', 'apparition', 'apparnetly', 'appeal', 'appealed', 'appealing', 'appear', 'appearance', 'appearancea', 'appeared', 'appearing', 'appears', 'appease', 'appeasement', 'appellation', 'appendage', 'apperance', 'appetite', 'applaud', 'apple', 'applicant', 'application', 'applied', 'apply', 'applying', 'appointed', 'appointing', 'appointment', 'appreciate', 'appreciated', 'appreciation', 'apprehend', 'apprehended', 'apprehending', 'apprehensive', 'apprentice', 'apprenticeship', 'approach', 'approachable', 'approached', 'approaching', 'appropriate', 'appropriated', 'appropriation', 'approval', 'approve', 'approved', 'approving', 'approximate', 'approximately', 'approximation', 'apt', 'aptitude', 'aptly', 'aquarium', 'aquatic', 'ar', 'arachnid', 'arachnidlike', 'arc', 'arcade', 'arcane', 'arch', 'archaeologist', 'archaeology', 'archangel', 'archbishop', 'archenemies', 'archenemy', 'archeological', 'archeology', 'archer', 'archery', 'archfoe', 'architecht', 'architect', 'archival', 'archive', 'archnemesis', 'archrival', 'archvillain', 'arcology', 'arctic', 'ardant', 'ardent', 'arduous', 'area', 'arena', 'arent', 'arguably', 'argue', 'argued', 'argues', 'arguing', 'argument', 'arid', 'arise', 'arisen', 'arises', 'arising', 'arive', 'ark', 'arm', 'armada', 'armadillotype', 'armament', 'armed', 'arming', 'armor', 'armorHowever', 'armorbound', 'armored', 'armorplated', 'armorwielder', 'armory', 'armour', 'armoured', 'armrest', 'armsdealing', 'army', 'arose', 'around', 'aroused', 'arousing', 'arraignment', 'arrange', 'arranged', 'arrangement', 'arranges', 'arranging', 'array', 'arrempted', 'arrest', 'arrested', 'arresting', 'arrival', 'arrive', 'arrived', 'arrives', 'arriving', 'arrogance', 'arrogant', 'arrogantly', 'arrow', 'arrowheaded', 'arsenal', 'arson', 'art', 'artbook', 'arthritic', 'artic', 'article', 'articleno', 'articulated', 'artifact', 'artifical', 'artificial', 'artificially', 'artificiallydesigned', 'artisan', 'artist', 'artistic', 'artwork', 'as', 'asbestos', 'ascend', 'ascendance', 'ascended', 'ascension', 'ascertaining', 'asexually', 'ash', 'ashamed', 'ashore', 'ashram', 'aside', 'ask', 'asked', 'asking', 'asks', 'asleep', 'asneeded', 'aspect', 'aspiration', 'aspired', 'aspiring', 'assail', 'assailant', 'assailed', 'assassin', 'assassinate', 'assassinated', 'assassinating', 'assassination', 'assassinlone', 'assault', 'assaulted', 'assaulting', 'assemblage', 'assemble', 'assembled', 'assembles', 'assembling', 'assert', 'asserted', 'asserting', 'assertion', 'assertive', 'asserts', 'assessed', 'assessment', 'asset', 'assigned', 'assignment', 'assigns', 'assimilate', 'assimilated', 'assimilating', 'assist', 'assistance', 'assistant', 'assisted', 'assisting', 'associate', 'associated', 'associating', 'association', 'assorted', 'assortment', 'assuage', 'assume', 'assumed', 'assumes', 'assuming', 'assumption', 'assurance', 'assure', 'assured', 'assures', 'assuring', 'asteroid', 'asthmatic', 'astonished', 'astonishing', 'astonishment', 'astounding', 'astral', 'astromech', 'astronaut', 'astronomer', 'astronomical', 'astronomy', 'astrophysicist', 'astrophysics', 'asylum', 'atagonistic', 'ate', 'atheism', 'atheist', 'athlete', 'athletic', 'athletics', 'atmogun', 'atmosphere', 'atmospheric', 'atoll', 'atom', 'atomic', 'atomized', 'atomizes', 'atomizing', 'atone', 'atoned', 'atonement', 'atop', 'atrium', 'atrocity', 'attach', 'attache', 'attached', 'attaching', 'attachment', 'attack', 'attacked', 'attacker', 'attacking', 'attain', 'attained', 'attaining', 'attempt', 'attempted', 'attempting', 'attemptthis', 'attend', 'attendance', 'attendant', 'attended', 'attendee', 'attending', 'attends', 'attenting', 'attention', 'attentionAmygdala', 'attentionwhore', 'attentive', 'attire', 'attitude', 'attorney', 'attract', 'attracted', 'attracting', 'attraction', 'attractive', 'attracts', 'attribute', 'attributed', 'attuned', 'atypically', 'auction', 'auctioned', 'audacious', 'audacity', 'audience', 'audio', 'audition', 'auditioned', 'auditorium', 'auditory', 'augment', 'augmentation', 'augmented', 'augmenting', 'aunt', 'aura', 'aurora', 'auspex', 'authentic', 'authenticity', 'author', 'authored', 'authority', 'authorized', 'autistic', 'auto', 'autobiographical', 'autobiography', 'autogenocidal', 'autograph', 'automated', 'automatic', 'automatically', 'automaton', 'automechanic', 'automobile', 'autonomous', 'autonomously', 'autonomy', 'autopsy', 'avail', 'available', 'availed', 'avalanche', 'avarice', 'avatar', 'avenge', 'avenged', 'avenges', 'avenging', 'avenue', 'average', 'aversion', 'avert', 'averted', 'aviation', 'aviator', 'avid', 'avidly', 'aving', 'avoid', 'avoidable', 'avoided', 'avoiding', 'avoids', 'await', 'awaited', 'awaiting', 'awake', 'awaken', 'awakened', 'awakening', 'awakens', 'awakes', 'award', 'awarded', 'aware', 'awareness', 'awash', 'away', 'awe', 'awed', 'awesome', 'awestruck', 'awful', 'awhile', 'awkward', 'awkwardly', 'awkwardness', 'awoke', 'awoken', 'awry', 'ax', 'axe', 'ayla', 'b', 'babble', 'babciu', 'babe', 'baby', 'babysat', 'babysit', 'babysitter', 'babysitting', 'bachelorette', 'back', 'backbone', 'backchannel', 'backed', 'backend', 'backer', 'backfire', 'backfired', 'backfiring', 'background', 'backhand', 'backhanded', 'backing', 'backlash', 'backpages', 'backplotting', 'backseat', 'backstage', 'backstory', 'backup', 'backward', 'backwards', 'backwater', 'bacteria', 'bacterial', 'bad', 'badboy', 'bade', 'badge', 'badly', 'badmouthing', 'bag', 'baggage', 'bagged', 'bail', 'bailed', 'bait', 'baited', 'baked', 'balance', 'balanced', 'balancing', 'balcony', 'bald', 'baldness', 'balk', 'balked', 'ball', 'ballcatches', 'ballerina', 'ballistic', 'balloon', 'ballostro', 'ban', 'banana', 'band', 'bandage', 'bandaged', 'banded', 'bandit', 'bang', 'banish', 'banished', 'banishes', 'banishing', 'banishment', 'bank', 'banker', 'banking', 'bankrolled', 'bankrupt', 'bankruptcy', 'banned', 'banner', 'banquet', 'banter', 'bar', 'barbarian', 'barbaric', 'barbaricscientific', 'barbed', 'bare', 'barely', 'barest', 'bargain', 'bargainbasement', 'bargained', 'bargaining', 'barge', 'barged', 'baring', 'barista', 'bark', 'barrage', 'barraged', 'barred', 'barrel', 'barren', 'barrier', 'barring', 'bartender', 'bartered', 'baryon', 'base', 'baseball', 'based', 'baseline', 'basement', 'bashed', 'bashing', 'basic', 'basically', 'basilisk', 'basin', 'basing', 'basis', 'basketball', 'bastard', 'bat', 'batarang', 'batcave', 'batch', 'batgod', 'bath', 'bathe', 'bathed', 'bathing', 'bathroom', 'batlike', 'batrope', 'battalion', 'batter', 'battered', 'batteredbut', 'battering', 'battery', 'batterypowered', 'batterytransformer', 'batting', 'battle', 'battled', 'battlefield', 'battlefront', 'battleground', 'battleravaged', 'battleship', 'battlesuit', 'battlesuits', 'battletothedeath', 'battling', 'bay', 'bayonet', 'bayou', 'beach', 'beachhead', 'beacon', 'beak', 'beaker', 'beam', 'beamed', 'bean', 'bear', 'bearable', 'beard', 'bearded', 'bearer', 'bearing', 'beast', 'beastial', 'beastly', 'beastmen', 'beat', 'beatdown', 'beaten', 'beating', 'beatup', 'beau', 'beautiful', 'beauty', 'beaver', 'became', 'becamecitation', 'beckoned', 'beckons', 'become', 'become1', 'becomes', 'becoming', 'bed', 'bedevil', 'bedridden', 'bedrock', 'bedroom', 'bedside', 'bee', 'beef', 'beeline', 'beeping', 'beer', 'befall', 'befallen', 'befell', 'beforeAlison', 'beforehand', 'befriend', 'befriended', 'befriending', 'befriends', 'beg', 'began', 'beggar', 'begged', 'begging', 'begin', 'beginner', 'beginning', 'begrudgingly', 'begs', 'begun', 'behalf', 'behave', 'behavior', 'behavioral', 'behaviour', 'beheaded', 'beheading', 'beheads', 'behemoth', 'behest', 'behind', 'behold', 'beholden', 'being', 'beingsHowever', 'belatedly', 'beleaguered', 'belied', 'belief', 'believe', 'believed', 'believing', 'belittled', 'bell', 'bellhop', 'bellow', 'belly', 'belong', 'belonged', 'belonging', 'belongs', 'beloved', 'belt', 'benchpressing', 'bend', 'bending', 'beneath', 'benefactor', 'beneficial', 'benefit', 'benefited', 'benefiting', 'benevolent', 'benevolently', 'benign', 'bent', 'bequeath', 'bequeathed', 'berate', 'berated', 'berates', 'berating', 'bereaved', 'bereft', 'berserk', 'berserker', 'berzerker', 'beseeched', 'beset', 'beside', 'besides', 'besieged', 'beskar', 'best', 'bested', 'bestfriend', 'bestial', 'bestiamorph', 'besting', 'bestow', 'bestowed', 'bestows', 'bestselling', 'bet', 'betray', 'betrayal', 'betrayed', 'betrayer', 'betraying', 'betrays', 'betrothal', 'betrothed', 'betrothing', 'better', 'bettered', 'bettering', 'betterment', 'bevy', 'bewildered', 'bewilderment', 'bewitched', 'beyond', 'bible', 'biblical', 'bicker', 'bickering', 'bid', 'bidder', 'bidding', 'bide', 'bided', 'biding', 'bidonville', 'big', 'bigger', 'biggest', 'bigot', 'bigoted', 'bigotry', 'bigtime', 'bike', 'biker', 'bikers', 'bill', 'billboard', 'billed', 'billion', 'billionaire', 'billiondollar', 'billionth', 'billiontoone', 'bin', 'binary', 'bind', 'binding', 'binge', 'bio', 'bioSentinels', 'biobelt', 'biobelts', 'biochemical', 'biochemicals', 'biochemist', 'biochemistry', 'biochip', 'biodefense', 'bioelectric', 'bioelectrically', 'bioelectricity', 'bioenergy', 'bioengineered', 'bioengineering', 'biographical', 'biography', 'biohazard', 'biological', 'biologically', 'biologist', 'biology', 'biomedical', 'biomolecular', 'bionic', 'bionically', 'bionics', 'biophysics', 'bioplasm', 'bioplast', 'biopsy', 'biorestorative', 'bioshop', 'biosphere', 'biotech', 'biotechnology', 'bioware', 'biowarfare', 'bioweapon', 'bipedal', 'bird', 'birdlike', 'birdshaped', 'birth', 'birthday', 'birthgiven', 'birthing', 'birthmark', 'birthplace', 'birthright', 'bishop', 'bison', 'bist', 'bit', 'bite', 'biting', 'bitten', 'bitter', 'bitterly', 'bitterness', 'bittersweet', 'bizarre', 'black', 'blackandwhite', 'blacked', 'blackedout', 'blackened', 'blackguard', 'blacking', 'blacklight', 'blacklist', 'blacklisted', 'blackmail', 'blackmailed', 'blackmailer', 'blackmailing', 'blackmarket', 'blackness', 'blackops', 'blackout', 'blacksmith', 'blacksuited', 'bladder', 'blade', 'bladed', 'blame', 'blamed', 'blameless', 'blaming', 'blanc', 'blank', 'blanked', 'blanket', 'blasphemy', 'blast', 'blasted', 'blaster', 'blasting', 'blastsite', 'blatant', 'blaze', 'blazing', 'bleach', 'bleak', 'bleed', 'bleeding', 'blend', 'blended', 'bless', 'blessed', 'blessing', 'blew', 'blight', 'blimp', 'blind', 'blinded', 'blindfolded', 'blinding', 'blindly', 'blindness', 'blindside', 'blink', 'blinkbomb', 'blinkbombs', 'bliss', 'blistering', 'blizzard', 'bloated', 'bloc', 'block', 'blockbuster', 'blocked', 'blocker', 'blocking', 'blond', 'blonde', 'blondhaired', 'blood', 'bloodbrother', 'bloodcrazed', 'bloodfilled', 'bloodied', 'bloodline', 'bloodlust', 'bloodlusting', 'bloodshed', 'bloodstone', 'bloodsucker', 'bloodthirsty', 'bloody', 'blossom', 'blossomed', 'blossoming', 'blow', 'blowing', 'blown', 'blowout', 'blubbery', 'bludgeon', 'bludgeoned', 'blue', 'blueprint', 'blueskinned', 'bluewhite', 'bluff', 'bluffing', 'bluish', 'blunder', 'blunt', 'blunted', 'blur', 'blurring', 'blurry', 'bo', 'board', 'boarded', 'boarder', 'boarding', 'boast', 'boasted', 'boasting', 'boat', 'boathouse', 'boatload', 'bode', 'bodily', 'bodkin', 'body', 'bodybenders', 'bodybuilder', 'bodybuilding', 'bodyguard', 'bodyguarding', 'bodyslide', 'bodysuit', 'bodyswap', 'bodywide', 'bog', 'bogus', 'boil', 'boiling', 'bokor', 'bold', 'bolster', 'bolstered', 'bolt', 'boltengraved', 'bomb', 'bombarded', 'bombardment', 'bombed', 'bomber', 'bombing', 'bond', 'bonded', 'bonding', 'bondsman', 'bone', 'boneplates', 'bonfire', 'bonusI', 'booby', 'boobytrap', 'boobytrapped', 'boogeyman', 'book', 'bookburning', 'bookish', 'bookkeeper', 'boom', 'boomed', 'boomerang', 'booming', 'boon', 'boost', 'boosted', 'boot', 'booth', 'bootleg', 'boozing', 'border', 'bordered', 'borderline', 'bore', 'borealis', 'bored', 'boredom', 'boring', 'born', 'borrow', 'borrowed', 'borrows', 'bos', 'boss', 'bossman', 'bostaff', 'bot', 'botanical', 'botanist', 'botched', 'bother', 'bothered', 'bothering', 'bottle', 'bottom', 'bottomless', 'boudoir', 'bought', 'boulder', 'bounce', 'bounced', 'bouncer', 'bouncing', 'bouncy', 'bound', 'boundary', 'boundless', 'bounty', 'bountyhunting', 'bout', 'bow', 'bowed', 'bowel', 'bowery', 'bowing', 'bowl', 'bowling', 'box', 'boxed', 'boxer', 'boxing', 'boy', 'boyfriend', 'boyhood', 'bracelet', 'braclets', 'brag', 'bragging', 'brain', 'braincase', 'braindamaged', 'braindead', 'brainless', 'brainpan', 'brainpower', 'brainstorm', 'brainwash', 'brainwashed', 'brainwashes', 'brainwashing', 'brainwave', 'brake', 'branch', 'branched', 'brand', 'branded', 'branding', 'brandishing', 'brandnew', 'brash', 'brashly', 'brat', 'bravado', 'brave', 'braved', 'bravely', 'bravery', 'brawl', 'brawled', 'brawn', 'brazier', 'breach', 'breached', 'breacher', 'breaching', 'breachspace', 'break', 'breakdown', 'breaker', 'breakfast', 'breakin', 'breaking', 'breakout', 'breakthrough', 'breakup', 'breast', 'breath', 'breathe', 'breathed', 'breather', 'breathing', 'bred', 'breed', 'breeding', 'brevet', 'brew', 'brewed', 'brewing', 'bribe', 'bribed', 'bribing', 'brick', 'bride', 'bridge', 'brief', 'briefcase', 'briefed', 'briefing', 'briefly', 'brigand', 'bright', 'brilliance', 'brilliant', 'brim', 'brine', 'bring', 'bringer', 'bringing', 'brings', 'brink', 'brittle', 'broad', 'broadcast', 'broadcasted', 'broadcaster', 'broadcasting', 'broader', 'broadsword', 'broke', 'broken', 'brokenhearted', 'brokeout', 'broker', 'brokered', 'bronze', 'brooch', 'brood', 'brooding', 'broom', 'brothel', 'brother', 'brotherinlaw', 'brotherly', 'brothersinarms', 'brought', 'broughtout', 'brouhaha', 'brow', 'brown', 'brownhaired', 'brownish', 'brownstone', 'bruise', 'bruised', 'bruising', 'brunette', 'brunt', 'brush', 'brushed', 'brutal', 'brutality', 'brutalize', 'brutalized', 'brutalizing', 'brutally', 'brutallyoppressed', 'brute', 'brutish', 'bubble', 'bubonic', 'buckle', 'budding', 'buddy', 'buff', 'buffer', 'buffoonery', 'bug', 'build', 'builder', 'building', 'buildup', 'built', 'builtin', 'builtup', 'bulb', 'bulk', 'bulkier', 'bulky', 'bull', 'bulldog', 'bullet', 'bulletfiring', 'bulletin', 'bulletproof', 'bulletproofvest', 'bullied', 'bullseye', 'bully', 'bullying', 'bum', 'bumbling', 'bump', 'bumped', 'bunch', 'bundle', 'bunked', 'bunker', 'buoyed', 'burden', 'bureau', 'bureaucrat', 'burg', 'burgeoning', 'burger', 'burglar', 'burglary', 'burial', 'buried', 'buries', 'burlesque', 'burn', 'burned', 'burnedout', 'burning', 'burnt', 'burrow', 'burst', 'bursted', 'bursting', 'bury', 'burying', 'bus', 'bushido', 'business', 'businessman', 'businessmen', 'businesswoman', 'bust', 'busted', 'buster', 'busting', 'busty', 'busy', 'busying', 'butcher', 'butchered', 'butchering', 'butler', 'butt', 'butte', 'buttingin', 'button', 'buy', 'buyer', 'buying', 'buyout', 'buzzer', 'bypass', 'bypassed', 'byproduct', 'bystander', 'c', 'c19663', 'cab', 'cabal', 'cabbie', 'cabin', 'cabinet', 'cable', 'cache', 'cad', 'cadet', 'cadre', 'caduceus', 'cafe', 'cafeteria', 'cage', 'caged', 'cairn', 'cake', 'caketrying', 'calamitous', 'calamity', 'calcification', 'calculate', 'calculated', 'calculating', 'calculation', 'calendar', 'caliber', 'calibrated', 'calibration', 'call', 'called', 'callgirl', 'calling', 'callingref', 'callous', 'callously', 'callsign', 'calm', 'calmed', 'calmer', 'calmly', 'camaraderie', 'came', 'cameo', 'camera', 'cameto', 'camouflage', 'camp', 'campaign', 'camped', 'camping', 'campsite', 'campssome', 'campus', 'campy', 'canal', 'canary', 'cancel', 'canceled', 'canceling', 'cancellation', 'cancelled', 'cancer', 'cancerous', 'cancerridden', 'candidacy', 'candidate', 'candle', 'candy', 'cane', 'canid', 'canine', 'canister', 'cannibalized', 'cannon', 'cannot', 'canon', 'canonically', 'cant', 'canvas', 'canyon', 'canít', 'cap', 'capability', 'capable', 'capably', 'capacity', 'cape', 'capeless', 'caper', 'capital', 'capitalize', 'capitalized', 'capitol', 'capsule', 'captain', 'captive', 'captivity', 'captor', 'capture', 'captureBatman', 'captureWhen', 'captured', 'capturing', 'car', 'caravan', 'carbine', 'carbon', 'carbonadium', 'carcinogenic', 'carcrash', 'carcrusher', 'card', 'cardboard', 'cardiac', 'care', 'cared', 'career', 'careerAt', 'careerif', 'carefree', 'careful', 'carefully', 'carefullyplaced', 'careless', 'carelessly', 'carelessness', 'caretaker', 'cargo', 'caricature', 'caring', 'carjack', 'carjacker', 'carjackers', 'carnage', 'carnal', 'carnival', 'carnivore', 'carnivorous', 'carried', 'carrier', 'carry', 'carrying', 'carted', 'cartel', 'cartoon', 'cartoonist', 'cartridge', 'carve', 'carved', 'carving', 'cascading', 'case', 'cased', 'cash', 'cashed', 'cashier', 'casing', 'casino', 'casket', 'cast', 'castaway', 'caste', 'castebound', 'casted', 'casting', 'castingbut', 'castle', 'castlelike', 'casual', 'casualty', 'cat', 'cataclysm', 'cataclysmic', 'catacomb', 'cataloging', 'catalyzed', 'catalyzing', 'catamaran', 'catapulted', 'catastrophe', 'catastrophic', 'catastrophically', 'catatonic', 'catch', 'catching', 'categorized', 'catering', 'cathedral', 'cathexis', 'catholic', 'catlike', 'catmask', 'catshead', 'catsoul', 'catspaw', 'catspaws', 'catsuit', 'cattle', 'caucasian', 'caught', 'cause', 'caused', 'causing', 'cauterize', 'cauterized', 'cauterizes', 'caution', 'cautionary', 'cautioned', 'cautioning', 'cautious', 'cautiously', 'cavalier', 'cave', 'caveat', 'cavedwelling', 'cavein', 'cavern', 'cavernous', 'cavity', 'cease', 'ceased', 'ceasefire', 'ceasing', 'ceded', 'cedes', 'ceiling', 'celebrate', 'celebrated', 'celebrates', 'celebrating', 'celebration', 'celebrity', 'celestial', 'cell', 'cellar', 'cellblock', 'cellmate', 'cello', 'cellphone', 'cellular', 'cement', 'cemented', 'cementing', 'cemetary', 'cemetery', 'centaurian', 'center', 'centered', 'central', 'centre', 'centurieslong', 'centuriesold', 'century', 'ceramic', 'cerebral', 'cerement', 'ceremonial', 'ceremony', 'certain', 'certainly', 'certainty', 'certificate', 'certification', 'cesspit', 'cesspool', 'cesti', 'chafed', 'chaffeur', 'chagrin', 'chagrined', 'chain', 'chained', 'chainsaw', 'chair', 'chairlike', 'chairman', 'chairmanship', 'chairperson', 'chairwoman', 'chakra', 'chalkboard', 'challenge', 'challenged', 'challenger', 'challenging', 'chamber', 'champ', 'champion', 'championship', 'chance', 'chanced', 'chancellor', 'chandelier', 'change', 'changed', 'changing', 'channel', 'channeled', 'channeling', 'chanted', 'chanteuse', 'chaos', 'chaosbringer', 'chaotic', 'chaperone', 'chaperoning', 'chapter', 'character', 'characteristic', 'characteristically', 'characterization', 'characterized', 'charade', 'charge', 'charged', 'charging', 'chariot', 'charismatic', 'charitable', 'charity', 'charm', 'charmed', 'charming', 'charred', 'charring', 'charted', 'charter', 'chase', 'chased', 'chasing', 'chasm', 'chassis', 'chastise', 'chastised', 'chat', 'chauffeur', 'chauvinistic', 'che', 'cheap', 'cheat', 'cheated', 'cheating', 'check', 'checked', 'checkedon', 'checkin', 'checking', 'cheek', 'cheer', 'cheered', 'cheerfully', 'cheering', 'cheerleader', 'cheese', 'cheetah', 'chef', 'chemical', 'chemically', 'chemist', 'chemistry', 'chemo', 'chess', 'chest', 'chestplate', 'chestthe', 'chewed', 'chi', 'chicken', 'chided', 'chiding', 'chief', 'chiefly', 'chieftain', 'child', 'childAfter', 'childThey', 'childbirth', 'childhood', 'childish', 'childishly', 'childless', 'childlike', 'children23', 'childrens', 'childslaver', 'chili', 'chimichanga', 'chimpanzee', 'chin', 'chinese', 'chip', 'chipped', 'chivalry', 'chlorokinetic', 'chocolate', 'choice', 'choke', 'choked', 'choker', 'choking', 'choose', 'chooses', 'choosing', 'chop', 'chopped', 'chopper', 'chore', 'chorus', 'chose', 'chosen', 'christened', 'christening', 'chromed', 'chromesteel', 'chromosome', 'chronal', 'chronic', 'chronicle', 'chronicled', 'chronicler', 'chronicling', 'chronoflash', 'chronological', 'chronologically', 'chronosphere', 'chronoton', 'chrysalis', 'chuckle', 'chunk', 'church', 'churchyard', 'chute', 'cigarette', 'cinematic', 'circa', 'circle', 'circled', 'circling', 'circuit', 'circuitry', 'circular', 'circulate', 'circulated', 'circulation', 'circulators', 'circulatory', 'circumstance', 'circumstantial', 'circumvent', 'circumventing', 'circus', 'citadel', 'citation', 'cite', 'cited', 'citing', 'citizen', 'citizenry', 'citizenship', 'city', 'cityshrinking', 'citystate', 'civil', 'civilains', 'civilian', 'civilization', 'civilizationbut', 'clad', 'claim', 'claimant', 'claimed', 'claiming', 'clairvoyant', 'clamber', 'clambered', 'clan', 'clandestine', 'clandestinely', 'clanging', 'clapper', 'clarifying', 'clash', 'clashed', 'clashing', 'clasped', 'class', 'classic', 'classical', 'classified', 'classmate', 'classroom', 'claustrophobia', 'claw', 'clawed', 'clawhook', 'clawlike', 'clawwielding', 'clay', 'clean', 'cleaned', 'cleaner', 'cleaning', 'cleanliness', 'cleanse', 'cleansed', 'cleanshaven', 'cleanup', 'clear', 'clearance', 'cleared', 'clearing', 'clearly', 'cleaver', 'cleft', 'cleftchinned', 'cleric', 'clerk', 'clever', 'cleverly', 'cleverness', 'cliche', 'click', 'client', 'clientele', 'cliff', 'cliffhanger', 'climactic', 'climate', 'climatic', 'climatron', 'climax', 'climaxed', 'climb', 'climbed', 'climbing', 'cling', 'clinic', 'clinical', 'clique', 'cloak', 'cloaked', 'cloaking', 'clobberin', 'clock', 'clone', 'cloned', 'cloning', 'close', 'closecontact', 'closed', 'closedcircuit', 'closely', 'closeness', 'closer', 'closest', 'closet', 'closeup', 'closey', 'closing', 'closure', 'clothes', 'clotheslined', 'clothing', 'cloud', 'clouded', 'clouding', 'clown', 'club', 'clue', 'clued', 'clumsy', 'cluster', 'clutch', 'clutched', 'clutching', 'clutter', 'cm', 'co', 'coWhite', 'coach', 'coagulating', 'coal', 'coalescing', 'coalition', 'coast', 'coastal', 'coat', 'coated', 'coax', 'coaxed', 'cobbled', 'cocaine', 'cockpit', 'cockroach', 'cocky', 'coconspirator', 'cocoon', 'cocreation', 'code', 'codebreaker', 'coded', 'codename', 'codenamed', 'codenames', 'codenumbers', 'codeveloped', 'coding', 'coeponymous', 'coerce', 'coerced', 'coerces', 'coercion', 'coexist', 'coexistence', 'coexists', 'coffee', 'coffer', 'coffin', 'cofounder', 'cognitive', 'cohabitation', 'coheadmaster', 'coherence', 'cohesion', 'cohesive', 'cohort', 'coin', 'coincide', 'coincided', 'coincidence', 'coincidentally', 'coincidently', 'coincides', 'coined', 'coinflip', 'cold', 'coldblooded', 'coldgenerating', 'coldly', 'coldproducing', 'coleader', 'coleaders', 'collaborate', 'collaborated', 'collaborating', 'collaboration', 'collaboratorfriend', 'collapse', 'collapsed', 'collapsible', 'collapsing', 'collar', 'colleague', 'collect', 'collected', 'collectible', 'collecting', 'collection', 'collective', 'collectively', 'collector', 'college', 'collegelevel', 'collide', 'collided', 'collider', 'colliding', 'collision', 'colloquially', 'cologne', 'colonel', 'colonist', 'colony', 'color', 'colorful', 'colorfully', 'colorless', 'colossal', 'colossus', 'colour', 'colourful', 'column', 'columnist', 'coma', 'comalike', 'comatose', 'combat', 'combatDuring', 'combatNot', 'combatant', 'combated', 'combatgarb', 'combating', 'combination', 'combine', 'combined', 'combining', 'combo', 'combusting', 'combusts', 'come', 'comeback', 'comence', 'comer', 'comet', 'comfort', 'comfortable', 'comfortably', 'comforted', 'comforting', 'comic', 'comical', 'comin', 'coming', 'comingling', 'comlink', 'command', 'commandant', 'commanded', 'commandeer', 'commandeered', 'commandeering', 'commandeers', 'commander', 'commanding', 'commandment', 'commando', 'commandostyle', 'commemorate', 'commemorating', 'commenced', 'commences', 'commendation', 'commended', 'commends', 'comment', 'commented', 'commenting', 'commercial', 'commingling', 'commiserates', 'commissary', 'commission', 'commissioned', 'commissioner', 'commissioning', 'commit', 'commitment', 'commits', 'committed', 'committedMadison', 'committee', 'committing', 'commlinks', 'common', 'commonlaw', 'commonly', 'commotion', 'communal', 'commune', 'communicate', 'communicates', 'communicating', 'communication', 'communicator', 'communing', 'communion', 'communiqu', 'communist', 'community', 'communityrelatively', 'commuted', 'compact', 'companion', 'companionship', 'company', 'comparable', 'comparative', 'compare', 'compared', 'comparing', 'comparison', 'compartment', 'compass', 'compassion', 'compassionate', 'compatible', 'compatriot', 'compel', 'compelled', 'compelling', 'compels', 'compensate', 'compensated', 'compensation', 'compete', 'competed', 'competent', 'competing', 'competition', 'competitive', 'competitiveness', 'competitor', 'compile', 'complacency', 'complacent', 'complain', 'complained', 'complaining', 'complains', 'complaint', 'complemented', 'complete', 'completed', 'completely', 'completes', 'completing', 'completion', 'complex', 'compliance', 'compliant', 'complicate', 'complicated', 'complication', 'complicity', 'complied', 'complies', 'compliment', 'complimented', 'comply', 'component', 'composed', 'composer', 'composite', 'composition', 'composure', 'compound', 'compounded', 'comprehend', 'comprehends', 'comprehension', 'comprehensive', 'comprehensively', 'compress', 'comprised', 'compromise', 'compromised', 'compromisedAlisons', 'compromising', 'compulsion', 'compulsory', 'compunction', 'computer', 'computerfilled', 'computerized', 'computerlike', 'comrade', 'conceal', 'concealed', 'concealing', 'concede', 'conceded', 'conceding', 'conceited', 'conceive', 'conceived', 'conceiving', 'concentrate', 'concentrated', 'concentrating', 'concentration', 'concept', 'conception', 'conceptphysical', 'concern', 'concerned', 'concerning', 'concert', 'conch', 'concierge', 'conclude', 'concluded', 'concludes', 'concluding', 'conclusion', 'conclusive', 'concoct', 'concocted', 'concrete', 'concubine', 'concurrent', 'concussion', 'concussive', 'condemn', 'condemned', 'condescending', 'condition', 'conditioned', 'conditioning', 'condone', 'conduct', 'conducted', 'conducting', 'conductive', 'conduit', 'confederacy', 'confederate', 'conference', 'conferred', 'confers', 'confess', 'confessed', 'confesses', 'confessing', 'confession', 'confidant', 'confidante', 'confided', 'confidence', 'confident', 'confidently', 'confides', 'confined', 'confinement', 'confines', 'confirm', 'confirmation', 'confirmed', 'confirming', 'confirms', 'confiscate', 'confiscated', 'confiscation', 'conflict', 'conflicted', 'conflicting', 'confluence', 'confound', 'confront', 'confrontation', 'confronted', 'confronting', 'confronts', 'confuse', 'confused', 'confusing', 'confusion', 'congenital', 'conglomerate', 'conglomeration', 'congratulated', 'congratulates', 'congregation', 'congressional', 'conjoined', 'conjunction', 'conjured', 'connect', 'connected', 'connecting', 'connection', 'conned', 'conquer', 'conquered', 'conquering', 'conqueror', 'conquers', 'conquest', 'conquring', 'conscience', 'conscious', 'consciously', 'consciousness', 'conscript', 'conscripted', 'conscripting', 'consensual', 'consent', 'consented', 'consequence', 'consequently', 'conservation', 'consider', 'considerable', 'considerably', 'consideration', 'considered', 'considering', 'considers', 'consigned', 'consist', 'consisted', 'consistency', 'consistent', 'consistently', 'consisting', 'consists', 'console', 'consoled', 'consort', 'conspiracy', 'conspirator', 'conspired', 'conspires', 'conspiring', 'constabulary', 'constant', 'constantly', 'constituent', 'constitution', 'constrained', 'constraint', 'construct', 'constructed', 'constructing', 'construction', 'constructive', 'constructsMetallo', 'construed', 'consult', 'consultant', 'consultation', 'consulted', 'consulting', 'consume', 'consumed', 'consumes', 'consuming', 'consummated', 'consummating', 'consumption', 'consumptive', 'contact', 'contacted', 'contacting', 'contagion', 'contagious', 'contain', 'contained', 'containedpulverized', 'container', 'containing', 'containment', 'contains', 'contaminate', 'contaminated', 'contemplated', 'contemplates', 'contemplating', 'contemplation', 'contemplative', 'contemporary', 'contempt', 'contemptuously', 'contend', 'contended', 'contender', 'content', 'contented', 'contention', 'contest', 'contesta', 'contestant', 'contested', 'contient', 'continent', 'contingency', 'contingent', 'continual', 'continually', 'continue', 'continued', 'continues', 'continuing', 'continuity', 'continuous', 'continuously', 'continuum', 'contortionist', 'contract', 'contracted', 'contracting', 'contractor', 'contradiction', 'contrail', 'contraption', 'contrary', 'contrast', 'contribute', 'contributed', 'contributing', 'contribution', 'contrite', 'contriving', 'control', 'controllable', 'controlled', 'controller', 'controlling', 'controlsgoverns', 'controversial', 'controversy', 'convalesced', 'convalescence', 'convalescing', 'convene', 'convened', 'convenience', 'conveniently', 'convent', 'convention', 'conventional', 'converge', 'convergence', 'conversation', 'converse', 'conversion', 'convert', 'converted', 'converter', 'converting', 'convey', 'conveys', 'convict', 'convicted', 'conviction', 'convince', 'convinced', 'convinces', 'convincing', 'convocation', 'convoy', 'convulsion', 'cook', 'cookiecutter', 'cooking', 'cool', 'coolant', 'cooled', 'cooler', 'coolheadedness', 'cooly', 'coopedup', 'cooperate', 'cooperated', 'cooperating', 'cooperation', 'coopted', 'coordinate', 'coordinated', 'coordination', 'coowner', 'cop', 'cope', 'copied', 'copiedAt', 'copilot', 'coping', 'copper', 'copperjacketed', 'copy', 'copying', 'copyrighting', 'cord', 'cordial', 'core', 'corned', 'corner', 'cornered', 'coronation', 'coroner', 'corp', 'corporal', 'corporate', 'corporation', 'corporeal', 'corps', 'corpse', 'corpsmen', 'corralled', 'correct', 'corrected', 'correcting', 'correctional', 'correctly', 'corrects', 'correlating', 'correspond', 'correspondence', 'corresponding', 'corrosive', 'corrupt', 'corrupted', 'corrupting', 'corruption', 'corruptive', 'corrupts', 'cortenide', 'cortex', 'corule', 'coruled', 'corules', 'cosmaspur', 'cosmaspurs', 'cosmetic', 'cosmic', 'cosmically', 'cosmicallyempowered', 'cosmiclevel', 'cosmicpowered', 'cosmology', 'cosmos', 'cosmosshaking', 'cospecies', 'cost', 'costing', 'costly', 'costume', 'costumed', 'cotton', 'cottonmouth', 'couch', 'cough', 'coughing', 'could', 'couldnt', 'council', 'counsel', 'counseled', 'counseling', 'counselingcounseling', 'counsellor', 'counselor', 'count', 'countdown', 'counted', 'counter', 'counteract', 'counteracting', 'counteraction', 'counterattack', 'counterattacked', 'countered', 'counterexample', 'counterfeit', 'counterfeiting', 'countering', 'counterintelligence', 'countermeasure', 'countermove', 'counterpart', 'counterproductive', 'counterstrike', 'counterteam', 'counterterrorist', 'counting', 'countless', 'country', 'countryside', 'countrywoman', 'county', 'coup', 'coupdegrace', 'coupe', 'couple', 'coupled', 'coupling', 'courage', 'courageous', 'courageously', 'courier', 'course', 'coursework', 'coursing', 'court', 'courted', 'courtesy', 'courthouse', 'courting', 'courtroom', 'courtship', 'courtyard', 'cousin', 'coven', 'cover', 'coverage', 'covered', 'coveredup', 'covering', 'covert', 'covertly', 'covertoperations', 'coverup', 'covet', 'coveted', 'covetous', 'cow', 'coward', 'cowardice', 'cowardly', 'cowboy', 'cower', 'cowered', 'cowering', 'cowgirl', 'cowl', 'coworker', 'coworkers', 'coyote', 'cr', 'crack', 'crackdown', 'cracked', 'cracker', 'crackersDinah', 'cracking', 'crackle', 'cradled', 'craft', 'crafted', 'crafting', 'craftsman', 'craftsmanship', 'crafty', 'cramp', 'crane', 'cranial', 'cranium', 'crank', 'crap', 'crash', 'crashed', 'crashing', 'crashland', 'crashlanded', 'crashlanding', 'crate', 'crater', 'crave', 'craved', 'craves', 'crawl', 'crawled', 'crawler', 'crawling', 'crazed', 'crazy', 'crazyIm', 'crazyWhen', 'cream', 'create', 'created', 'createmutants', 'creates', 'creating', 'creation', 'creation1', 'creative', 'creator', 'creature', 'credential', 'credibility', 'credit', 'credited', 'credo', 'creep', 'creeped', 'creepy', 'cremated', 'cremates', 'crescent', 'crest', 'crevasse', 'crevice', 'crew', 'crewman', 'crewmate', 'crewmates', 'crib', 'cried', 'crime', 'crimeIntrigued', 'crimeboss', 'crimefighter', 'crimefighters', 'crimefighting', 'crimeinfested', 'crimelord', 'crimelords', 'crimepurge', 'crimerelated', 'crimeshe', 'crimetighter', 'criminal', 'criminally', 'criminalsyndicate', 'criminologist', 'criminology', 'crimson', 'cripple', 'crippled', 'crippling', 'crisis', 'critical', 'critically', 'criticism', 'criticize', 'criticized', 'criticizes', 'critter', 'crmininals', 'crocodile', 'crony', 'crook', 'crop', 'cross', 'crosscountry', 'crossed', 'crossexamined', 'crossfire', 'crossing', 'crossmatched', 'crossover', 'crossreality', 'crossspecies', 'crow', 'crowbar', 'crowd', 'crowded', 'crown', 'crowned', 'crucial', 'crucified', 'crucifixion', 'crude', 'cruel', 'cruelly', 'cruelty', 'cruise', 'cruiser', 'crumble', 'crumbled', 'crumbling', 'crummy', 'crunch', 'crusade', 'crusadeAnd', 'crusaded', 'crusader', 'crusading', 'crush', 'crushed', 'crushing', 'crust', 'crustacean', 'cry', 'cryo', 'cryochest', 'cryogenic', 'cryogenically', 'cryogenics', 'cryokinetic', 'cryonic', 'cryosleep', 'cryostasis', 'crypt', 'cryptic', 'cryptically', 'crystal', 'crystalline', 'crystallography', 'crystl', 'crèche', 'cub', 'cube', 'cubic', 'cue', 'cuffed', 'cull', 'culled', 'culminate', 'culminated', 'culminates', 'culminating', 'culmination', 'culprit', 'cult', 'cultist', 'cultivate', 'cultivated', 'cultivating', 'cultleader', 'culture', 'cultured', 'cumbersome', 'cunning', 'cuold', 'cup', 'curare', 'curated', 'curative', 'curator', 'curb', 'curbed', 'cure', 'cured', 'curfew', 'curing', 'curio', 'curiosity', 'curious', 'curiously', 'curl', 'curled', 'current', 'currently', 'curse', 'cursed', 'cursing', 'cursory', 'curtail', 'curtailed', 'curtly', 'curve', 'custodian', 'custody', 'custom', 'customary', 'customer', 'customized', 'custommade', 'customtailored', 'cut', 'cutback', 'cutdown', 'cutlas', 'cutscene', 'cutscenes', 'cutting', 'cutup', 'cyanidebased', 'cyber', 'cybermorph', 'cybernetic', 'cybernetically', 'cyberneticallyenhanced', 'cyberneticnanotech', 'cybernetics', 'cyberpathic', 'cyberspace', 'cybiote', 'cyborg', 'cycle', 'cyclical', 'cyclotron', 'cylinder', 'cynical', 'cynically', 'cynicism', 'czar', 'dAramis', 'dArc', 'da', 'dabbled', 'dabbler', 'dabbling', 'dad', 'daemonicus', 'dagger', 'daily', 'dairy', 'dallying', 'daltonic', 'dam', 'damage', 'damaged', 'damaging', 'dammit', 'damn', 'damnation', 'damned', 'damning', 'dampen', 'dampened', 'dampener', 'dance', 'danced', 'dancer', 'dancing', 'danger', 'dangerous', 'dangerously', 'dangled', 'dare', 'dared', 'daredevil', 'daring', 'dark', 'darkclothed', 'darken', 'darkened', 'darker', 'darkest', 'darkforce', 'darkly', 'darkness', 'darkwithin', 'dart', 'dashed', 'dashing', 'data', 'databanks', 'database', 'datahub', 'date', 'dated', 'dating', 'daughter', 'daugther', 'daunted', 'dawn', 'dawned', 'dawning', 'day', 'daydream', 'daydreaming', 'daylight', 'daysa', 'daysold', 'daytoday', 'dazed', 'dazzling', 'de', 'deactivate', 'deactivated', 'deactivates', 'deactivating', 'deactivation', 'dead', 'deadend', 'deadliest', 'deadly', 'deadnot', 'deadpan', 'deadpool', 'deadwhile', 'deaf', 'deafened', 'deafening', 'deage', 'deaged', 'deal', 'dealer', 'dealing', 'dealt', 'dear', 'dearest', 'dearly', 'death', 'death4', 'deathGoku', 'deathHe', 'deathbed', 'deathblow', 'deathgods', 'deathgrin', 'deathinspired', 'deathlike', 'deathly', 'deathmark', 'deathray', 'deaththroes', 'deathtrap', 'deathworshiping', 'debacle', 'debate', 'debated', 'debating', 'debaucherous', 'debilitated', 'debilitating', 'debilitation', 'debried', 'debriefed', 'debriefing', 'debris', 'debt', 'debunked', 'debut', 'debutante', 'debuted', 'debuting', 'decade', 'decapitate', 'decapitated', 'decapitates', 'decapitating', 'decapitation', 'decathlon', 'decay', 'decaying', 'deceased', 'deceased7', 'deceaseduntil', 'decedent', 'deceit', 'deceived', 'deceiving', 'decency', 'decent', 'deception', 'deceptions8', 'deceptive', 'decide', 'decided', 'decideed', 'decides', 'deciding', 'decimate', 'decimated', 'decimating', 'decipher', 'deciphered', 'deciphering', 'deciphers', 'decision', 'decisionthere', 'decisively', 'deck', 'decking', 'declaration', 'declare', 'declared', 'declares', 'declaring', 'declassified', 'decline', 'declined', 'declining', 'decode', 'decommission', 'decommissioned', 'decommissioning', 'decomposes', 'deconstructed', 'decorated', 'decorative', 'decourum', 'decoy', 'decrease', 'decreased', 'decreasing', 'decree', 'decreed', 'decreeing', 'decryption', 'decypher', 'dedicate', 'dedicated', 'dedicates', 'dedication', 'deduce', 'deduced', 'deduces', 'deducing', 'deduction', 'deductive', 'deed', 'deemed', 'deeming', 'deep', 'deepdish', 'deepen', 'deepened', 'deeper', 'deepest', 'deeply', 'deepspace', 'deer', 'deface', 'default', 'defeat', 'defeat1', 'defeat17', 'defeated', 'defeatedMaxima', 'defeating', 'defect', 'defected', 'defecting', 'defection', 'defective', 'defector', 'defence', 'defend', 'defended', 'defender', 'defending', 'defends', 'defense', 'defenseless', 'defensely', 'defensetraining', 'defensive', 'defensively', 'deference', 'defeted', 'defiance', 'defiant', 'defiantly', 'defibrillator', 'defied', 'define', 'defined', 'defines', 'definite', 'definitely', 'definition', 'deflect', 'deflected', 'deflecting', 'deform', 'deformed', 'deformity', 'defunct', 'defunctatthattime', 'defuse', 'defused', 'defy', 'defying', 'degenerate', 'degenerated', 'degeneration', 'degenerative', 'degens', 'degradation', 'degrade', 'degree', 'dehydrated', 'deitiesdid', 'deity', 'dejected', 'delay', 'delayed', 'delaying', 'delegate', 'delegated', 'delegation', 'delete', 'deleted', 'deliberately', 'deliberation', 'delicate', 'delicious', 'delight', 'delighted', 'delightedly', 'delinquent', 'delirious', 'deliver', 'delivered', 'delivering', 'delivers', 'delivery', 'deluded', 'delusion', 'delusional', 'delusionally', 'delved', 'demand', 'demanded', 'demanding', 'demeaning', 'demeanor', 'demeanour', 'demension', 'demented', 'demerit', 'demigod', 'demise', 'demiseIron', 'democracy', 'democratic', 'demographic', 'demolished', 'demolishing', 'demolition', 'demon', 'demonand', 'demoness', 'demonfather', 'demonfilled', 'demongod', 'demonhunter', 'demonic', 'demoninfested', 'demonize', 'demonlike', 'demonologist', 'demonology', 'demonsAt', 'demonspawn', 'demonstrate', 'demonstrated', 'demonstrates', 'demonstrating', 'demonstration', 'demonworshiping', 'demoted', 'demotion', 'den', 'dendrite', 'deniable', 'denial', 'denied', 'denigrated', 'denizen', 'denounce', 'denounced', 'denouncement', 'denouncing', 'dense', 'density', 'dent', 'dental', 'dented', 'dentist', 'denunciation', 'deny', 'denying', 'depart', 'departed', 'departing', 'department', 'departs', 'departure', 'depature', 'depend', 'dependence', 'dependency', 'dependent', 'depending', 'depends', 'depicted', 'depicting', 'depiction', 'deplete', 'depleted', 'depleting', 'deplored', 'deploy', 'deployed', 'deploying', 'deployment', 'deport', 'deportation', 'deported', 'depose', 'deposed', 'deposes', 'deposing', 'deposit', 'deposited', 'depositing', 'depot', 'depower', 'depowered', 'depowering', 'depowerment', 'depowers', 'depressed', 'depressing', 'depression', 'deprivation', 'deprive', 'deprived', 'deprogrammed', 'depth', 'deputize', 'deputy', 'deranged', 'derby', 'derelict', 'dereliction', 'derided', 'derivation', 'derivative', 'derived', 'derives', 'derogatory', 'descend', 'descendant', 'descended', 'descendent', 'descending', 'descends', 'descent', 'describe', 'described', 'describes', 'describing', 'description', 'desecrated', 'desert', 'deserted', 'deserter', 'deserting', 'deserve', 'deserved', 'deserves', 'desiccation', 'design', 'designated', 'designation', 'designed', 'designer', 'designing', 'desintegrated', 'desire', 'desired', 'desiring', 'desk', 'desolate', 'despair', 'despaired', 'desperate', 'desperately', 'desperation', 'desperatly', 'despisable', 'despise', 'despised', 'despises', 'despite', 'despondency', 'despondent', 'despot', 'despotic', 'dessert', 'dessicated', 'destabilize', 'destabilized', 'destabilizes', 'destination', 'destined', 'destining', 'destiny', 'destitute', 'destroy', 'destroyed', 'destroyedit', 'destroyer', 'destroying', 'destroys', 'destruct', 'destruction', 'destructive', 'detach', 'detached', 'detachment', 'detail', 'detailed', 'detailing', 'detained', 'detainee', 'detat', 'detect', 'detected', 'detecting', 'detection', 'detective', 'detector', 'detects', 'detention', 'deter', 'deteriorate', 'deteriorated', 'deteriorating', 'deterioration', 'determination', 'determine', 'determined', 'determines', 'determining', 'deterministic', 'deterred', 'dethrone', 'dethroned', 'detonate', 'detonated', 'detonates', 'detonating', 'detonation', 'detonator', 'detrimental', 'detritus', 'devastate', 'devastated', 'devastating', 'devastation', 'develop', 'developed', 'developer', 'developing', 'development', 'develops', 'device', 'devil', 'devilish', 'devilspawn', 'devious', 'devise', 'devised', 'devising', 'devoid', 'devolve', 'devolved', 'devote', 'devoted', 'devotee', 'devoting', 'devotion', 'devour', 'devoured', 'devourer', 'devouring', 'devours', 'devout', 'devoutly', 'dexterity', 'dexterous', 'dhaven', 'diable', 'diabolic', 'diabolical', 'diagnose', 'diagnosed', 'diagnosis', 'dialing', 'dialog', 'dialogue', 'diametrical', 'diamond', 'diamondMassachusetts', 'diamondlike', 'diary', 'diatribe', 'dichotomy', 'dictated', 'dictator', 'dictatorship', 'didnt', 'die', 'die21', 'died', 'diet', 'dietwice', 'differ', 'difference', 'differencesTempest', 'different', 'differentiate', 'differently', 'differentsex', 'differing', 'differs', 'difficult', 'difficulty', 'diffident', 'diffuse', 'diffusion', 'dig', 'digest', 'digesting', 'digging', 'digital', 'digitized', 'dignitary', 'dignity', 'dilapidated', 'dilated', 'dilemma', 'dilettante', 'diligent', 'diluted', 'dimension', 'dimensional', 'dimensionally', 'dimensionallydisplaced', 'dimensionhopper', 'dimensionhopping', 'dimensiontravelling', 'diminish', 'diminished', 'diminishing', 'diminutive', 'dimunitive', 'dimwitted', 'diner', 'dinner', 'dinos', 'dinosaur', 'diode', 'dip', 'diplomat', 'diplomatic', 'diplomatically', 'dire', 'direct', 'directed', 'directing', 'direction', 'directive', 'directly', 'directlythat', 'director', 'directorEven', 'directorship', 'dirt', 'dirty', 'disability', 'disable', 'disabled', 'disables', 'disabling', 'disabused', 'disaffected', 'disagree', 'disagreed', 'disagreeing', 'disagreement', 'disagrees', 'disallowed', 'disallowing', 'disallows', 'disappear', 'disappearance', 'disappeared', 'disappearing', 'disappears', 'disappointed', 'disappointing', 'disappointment', 'disapproval', 'disapproved', 'disapproves', 'disarm', 'disarmed', 'disarming', 'disarms', 'disarray', 'disassemble', 'disassembled', 'disassociated', 'disaster', 'disasterously', 'disastrous', 'disavowed', 'disband', 'disbanded', 'disbanding', 'disbandment', 'disbands', 'disbelief', 'disc', 'disca', 'discarded', 'discarding', 'discern', 'discerning', 'discharge', 'discharged', 'discharging', 'disciple', 'disciplinary', 'discipline', 'disciplined', 'disciplining', 'disclose', 'discloses', 'disclosure', 'discolored', 'discolosed', 'discomfort', 'disconcerting', 'disconnect', 'disconnected', 'disconnecting', 'disconsolate', 'discontent', 'discord', 'discordant', 'discorporate', 'discorporated', 'discotheque', 'discover', 'discovered', 'discoverer', 'discovering', 'discovers', 'discovery', 'discredit', 'discrete', 'discretion', 'discriminate', 'discriminated', 'discus', 'discussed', 'discussing', 'discussion', 'disdain', 'disdained', 'disease', 'disembark', 'disembodied', 'disenchanted', 'disenfranchised', 'disentegrated', 'disfigured', 'disfigurement', 'disfiguring', 'disgrace', 'disgraced', 'disgruntled', 'disguise', 'disguised', 'disguising', 'disgusises', 'disgust', 'disgusted', 'disgusting', 'dish', 'disheartened', 'dishonor', 'dishonored', 'disillusion', 'disillusioned', 'disillusionment', 'disinherit', 'disintegrate', 'disintegrated', 'disintegrating', 'disintegration', 'disintegrator', 'disinterest', 'disinterested', 'disk', 'dislike', 'disliked', 'disliking', 'dislodged', 'dismal', 'dismantle', 'dismantled', 'dismantling', 'dismay', 'dismayed', 'dismember', 'dismembered', 'dismissal', 'dismissed', 'dismisses', 'dismissing', 'disobedience', 'disobey', 'disobeyed', 'disobeying', 'disobeys', 'disolved', 'disorder', 'disordered', 'disorient', 'disorientated', 'disoriented', 'disown', 'disowned', 'disparaged', 'disparaging', 'disparate', 'disparity', 'dispatch', 'dispatched', 'dispatching', 'dispeled', 'dispelling', 'dispels', 'dispense', 'dispensing', 'dispersal', 'disperse', 'dispersed', 'disperses', 'dispersing', 'dispersion', 'displace', 'displaced', 'displacement', 'displacing', 'display', 'displayed', 'displaying', 'displeased', 'displeasure', 'disposal', 'dispose', 'disposed', 'disposing', 'disposition', 'disproved', 'dispute', 'disputed', 'disqualified', 'disregard', 'disregarded', 'disreputable', 'disrespect', 'disrupt', 'disrupted', 'disrupter', 'disrupting', 'disruption', 'dissapeared', 'dissappears', 'dissatified', 'dissatisfaction', 'dissatisfied', 'dissect', 'dissected', 'dissection', 'dissension', 'dissent', 'dissident', 'dissipate', 'dissipated', 'dissipating', 'dissolution', 'dissolve', 'dissolved', 'dissuade', 'distance', 'distanced', 'distant', 'distantly', 'distaste', 'distemper', 'distinct', 'distinction', 'distinctive', 'distinctively', 'distinguish', 'distinguished', 'distinguishes', 'distinguishing', 'distort', 'distorted', 'distorting', 'distortion', 'distorts', 'distract', 'distracted', 'distracting', 'distraction', 'distracts', 'distraught', 'distress', 'distressed', 'distressing', 'distributed', 'distributes', 'distributor', 'district', 'distrust', 'distrusted', 'distrustful', 'distrusting', 'disturbance', 'disturbed', 'disturbing', 'disunity', 'disuse', 'disused', 'ditch', 'ditched', 'ditzy', 'diva', 'dive', 'dived', 'diver', 'diverge', 'diverged', 'divergence', 'divergencecounterpart', 'divergent', 'divergenttimestream', 'diverging', 'diverse', 'diversion', 'divert', 'diverted', 'diverting', 'divide', 'divided', 'dividing', 'divine', 'diving', 'divinity', 'division', 'divorce', 'divorced', 'divulged', 'divulging', 'dizzy', 'dizzying', 'djinn', 'dock', 'docked', 'docket', 'doctor', 'doctorate', 'doctrine', 'document', 'documentation', 'documented', 'dodge', 'dodged', 'dodging', 'doesnt', 'dog', 'dogsled', 'dohaeris', 'doing7', 'doings', 'dole', 'doling', 'doll', 'dollar', 'dolllike', 'dolphin', 'domain', 'dome', 'domed', 'domestic', 'dominance', 'dominant', 'dominate', 'dominated', 'dominates', 'dominating', 'domination', 'dominatrix', 'dominion', 'domino', 'dominoshaped', 'don', 'donate', 'donated', 'donating', 'donation', 'done', 'donned', 'donning', 'donor', 'dont', 'doofus', 'doom', 'doomed', 'dooming', 'doomsday', 'door', 'doorbell', 'doorstep', 'doorway', 'doppelanger', 'doppelganger', 'doppelgänger', 'doppelgängers', 'doppleganger', 'dorm', 'dormancy', 'dormant', 'dormitory', 'dos', 'dosage', 'dose', 'dosed', 'dotted', 'double', 'doubleagent', 'doublecrossed', 'doublecrosses', 'doubled', 'doubleedged', 'doublemajor', 'doubleshift', 'doublesided', 'doubling', 'doubt', 'doubted', 'doubting', 'doubtless', 'dough', 'doused', 'dousing', 'dove', 'down', 'downed', 'downfall', 'downhowever', 'download', 'downloadable', 'downloaded', 'downloading', 'downplayed', 'downplays', 'downpour', 'downright', 'downstairs', 'downtime', 'downtoearth', 'downtown', 'downtrodden', 'downward', 'downwards', 'dowry', 'dowsed', 'dozen', 'draft', 'drafted', 'drag', 'dragged', 'dragging', 'dragon', 'dragonglass', 'dragonlike', 'dragout', 'drain', 'drained', 'draining', 'drama', 'dramatic', 'dramatically', 'dramatization', 'drank', 'drastic', 'drastically', 'draw', 'drawback', 'drawer', 'drawing', 'drawn', 'drawout', 'dread', 'dreaded', 'dreadful', 'dreadnought', 'dream', 'dreamHe', 'dreamdemon', 'dreamed', 'dreamer', 'dreaming', 'dreamless', 'dreamlike', 'dreamscape', 'dreamt', 'dreamworld', 'dreary', 'drenched', 'drenching', 'dress', 'dressed', 'dressing', 'drew', 'drift', 'drifted', 'drifter', 'drifting', 'drill', 'drilled', 'drilling', 'drink', 'drinkable', 'drinking', 'drip', 'dripping', 'drive', 'drivel', 'driven', 'driver', 'driving', 'droid', 'droids', 'drone', 'drop', 'droped', 'dropped', 'dropping', 'dropship', 'dropships', 'drought', 'drove', 'drown', 'drowned', 'drowning', 'drownings', 'drug', 'drugaddict', 'drugdealer', 'drugdealers', 'drugdealing', 'drugged', 'drugging', 'druglord', 'drugs1', 'drugsmuggling', 'drum', 'drunk', 'drunkard', 'drunken', 'drunkenness', 'dry', 'dryer', 'dryly', 'du', 'dual', 'duality', 'dubbed', 'dubbing', 'dubious', 'duck', 'ducking', 'ducttapes', 'dud', 'due', 'duel', 'dueled', 'dueling', 'duffel', 'dug', 'dull', 'dulled', 'dumb', 'dumbest', 'dummy', 'dump', 'dumped', 'dumpling', 'dumpster', 'dungeon', 'duo', 'dupe', 'duped', 'duping', 'duplicate', 'duplicated', 'duplicating', 'duplication', 'duplicator', 'duplicity', 'durability', 'durable', 'duranium', 'durasteel', 'duration', 'duress', 'dust', 'dutiful', 'dutifully', 'duty', 'dwarf', 'dwarfish', 'dwarven', 'dwell', 'dwelled', 'dweller', 'dwellerAtlantean', 'dwelling', 'dwindled', 'dwindling', 'dy', 'dyed', 'dying', 'dynamic', 'dynamite', 'dynamo', 'dynasty', 'dysfunction', 'dysfunctional', 'dyslexia', 'dystopia', 'dystopian', 'dystopic', 'e', 'eager', 'eagerly', 'eagerness', 'eagle', 'ear', 'eared', 'earlier', 'earliest', 'early', 'early2003', 'earlymid', 'earn', 'earned', 'earning', 'earnings', 'earns', 'earring', 'earth', 'earthThe', 'earthborn', 'earthbound', 'earthbut', 'earthly', 'earthquake', 'earthshaking', 'earthshattering', 'earthspirit', 'ease', 'eased', 'easier', 'easiest', 'easily', 'east', 'eastAsian', 'eastern', 'easternEuropean', 'easy', 'easygoing', 'eat', 'eaten', 'eater', 'eating', 'eats', 'eavesdropping', 'ebb', 'ebony', 'eccentric', 'echidna', 'echo', 'echoed', 'echoing', 'echolocation', 'eclipse', 'ecological', 'economic', 'economics', 'economy', 'ecosystem', 'ecoterrorist', 'ecoterrorists', 'ecstatic', 'ectoplasm', 'ectoplasmic', 'edge', 'edged', 'edgy', 'edict', 'edition', 'editor', 'editorial', 'editorinchief', 'educate', 'educated', 'educating', 'education', 'eel', 'eerie', 'eether', 'effect', 'effective', 'effectively', 'effectiveness', 'effectives', 'effectivly', 'effectwas', 'efficiency', 'efficient', 'efficiently', 'effort', 'effortlessly', 'effrontery', 'eg', 'egan', 'egg', 'ego', 'eh', 'eidetic', 'eight', 'eighteen', 'eighteenth', 'eighth', 'eightissue', 'eighty', 'either', 'eject', 'ejected', 'ejecting', 'ejects', 'el', 'elaborate', 'elaborated', 'elaborates', 'elaborating', 'elapsed', 'elastic', 'elasticity', 'elatedher', 'elbow', 'elder', 'elderly', 'eldest', 'eldrich', 'eldritch', 'elect', 'elected', 'electing', 'election', 'electric', 'electrical', 'electrically', 'electricallycharged', 'electricity', 'electricitybased', 'electricuted', 'electrified', 'electrocuted', 'electrocuting', 'electrocution', 'electromagnet', 'electromagnetic', 'electronic', 'electronics', 'electropsionic', 'electroshock', 'electrostatic', 'elegantly', 'element', 'elemental', 'elementals', 'elementary', 'elephant', 'elevated', 'elevator', 'eleven', 'eleventh', 'elf', 'elflike', 'elicit', 'elicited', 'eliminante', 'eliminate', 'eliminated', 'eliminates', 'eliminating', 'elimination', 'elite', 'elitist', 'elixir', 'elmut', 'elongate', 'elongated', 'eloped', 'else', 'elsewhere', 'elude', 'eluded', 'eludes', 'eluding', 'elusive', 'emaciated', 'email', 'emanated', 'emanating', 'emanation', 'emancipated', 'embark', 'embarked', 'embarking', 'embarks', 'embarrassed', 'embarrassing', 'embarrassment', 'embassy', 'embasy', 'embattled', 'embedded', 'embellished', 'embezzle', 'embezzled', 'embezzlement', 'embittered', 'emblazoned', 'emblem', 'embodies', 'embodiment', 'embody', 'embodying', 'embrace', 'embraced', 'embracehis', 'embracing', 'embroiled', 'embryo', 'emeged', 'emerald', 'emerge', 'emerged', 'emergence', 'emergency', 'emerges', 'emerging', 'emigrate', 'emigrated', 'emigration', 'emissary', 'emit', 'emits', 'emitted', 'emma', 'emmissary', 'emotion', 'emotional', 'emotionally', 'emotionless', 'emotionmanipulating', 'empaneled', 'empath', 'empathetic', 'empathic', 'empathy', 'emperor', 'emphatically', 'empire', 'employ', 'employed', 'employee', 'employer', 'employing', 'employment', 'emporium', 'empower', 'empowered', 'empoweredarmor', 'empowering', 'empress', 'emptied', 'empty', 'emptyhanded', 'emptying', 'emulate', 'emulating', 'en', 'enable', 'enabled', 'enables', 'enabling', 'enact', 'enacted', 'enacting', 'enamored', 'enamoured', 'encampment', 'encapsulated', 'encase', 'encased', 'encasing', 'enchanted', 'enchantment', 'enclave', 'enclosed', 'encloses', 'enclosing', 'encoded', 'encounter', 'encountered', 'encountering', 'encourage', 'encouraged', 'encouragement', 'encourages', 'encouraging', 'encroaching', 'encrypted', 'encyclopedic', 'end', 'endanger', 'endangered', 'endangering', 'endangerment', 'endear', 'endearment', 'endeavor', 'endeavored', 'endeavour', 'ended', 'endedup', 'endgame', 'ending', 'endless', 'endlessly', 'endorsed', 'endorsement', 'endorses', 'endoskeletal', 'endoskeleton', 'endoskeletonbased', 'endow', 'endowed', 'endows', 'endurance', 'endure', 'endured', 'enduring', 'enemiesJeffries', 'enemy', 'energetically', 'energize', 'energized', 'energy', 'energya', 'energybased', 'energybeings', 'energyblasting', 'energyduplicate', 'energyentities', 'energyflux', 'energyform', 'energyharnessing', 'energyhis', 'energymanipulative', 'energymass', 'energyregulating', 'enforce', 'enforced', 'enforcement', 'enforcer', 'enforcerhitman', 'engage', 'engaged', 'engagement', 'engagementan', 'engages', 'engaging', 'engendered', 'engimatically', 'engine', 'engineer', 'engineered', 'engineering', 'engraved', 'engrossed', 'engulf', 'engulfed', 'engulfing', 'engulfs', 'enhance', 'enhanced', 'enhancement', 'enhancer', 'enhancing', 'enigmatic', 'enigmatically', 'enjoy', 'enjoyed', 'enjoying', 'enjoyment', 'enjoymentout', 'enjoys', 'enlarged', 'enlightenment', 'enlist', 'enlisted', 'enlisting', 'enlistment', 'enlists', 'enmity', 'enormous', 'enormously', 'enough', 'enraged', 'enrages', 'enraging', 'enroll', 'enrolled', 'enrolling', 'ensign', 'enslave', 'enslaved', 'enslavement', 'enslaving', 'ensnared', 'ensorcelled', 'ensued', 'ensues', 'ensuing', 'ensure', 'ensured', 'ensures', 'ensuring', 'entail', 'entailed', 'entangled', 'entanglement', 'enter', 'entered', 'entering', 'enterprise', 'enterprising', 'enters', 'entertain', 'entertained', 'entertainer', 'entertainment', 'enthralled', 'enthusiasm', 'enthusiast', 'enthusiastic', 'enthusiastically', 'entice', 'enticed', 'entire', 'entirely', 'entirety', 'entitled', 'entity', 'entombed', 'entombing', 'entombment', 'entomologist', 'entourage', 'entrails', 'entrance', 'entranced', 'entrap', 'entrapped', 'entreated', 'entrenched', 'entrepreneur', 'entrepreneurial', 'entriesKeep', 'entropy', 'entrpeneur', 'entrust', 'entrusted', 'entrusting', 'entry', 'enucleated', 'envelope', 'enveloped', 'enveloping', 'envelops', 'envied', 'envious', 'environment', 'environmental', 'environmentalist', 'environmentally', 'environmentallyfriendly', 'envisioned', 'envy', 'eon', 'ephemeral', 'epic', 'epicentre', 'epidermold', 'epilogue', 'epiphany', 'episode', 'episodic', 'epitaph', 'epoch', 'eponymous', 'epower', 'equal', 'equaled', 'equality', 'equally', 'equation', 'equatorial', 'equipment', 'equipped', 'equipping', 'equivalent', 'era', 'eraEdit', 'eradicate', 'eradicated', 'eradicating', 'eraly', 'erase', 'erased', 'erasing', 'erasure', 'erected', 'erection', 'eroded', 'eroding', 'errand', 'errant', 'erratic', 'erred', 'error', 'errupted', 'erstaz', 'erstwhile', 'erupt', 'erupted', 'erupting', 'eruption', 'erupts', 'escalate', 'escalated', 'escalating', 'escapade', 'escape', 'escapeHe', 'escaped', 'escapee', 'escaping', 'eschewed', 'escort', 'escorted', 'escorting', 'eskimo', 'esophagus', 'especially', 'espionage', 'espouses', 'essay', 'essence', 'essential', 'essentially', 'establish', 'established', 'establishes', 'establishing', 'establishment', 'estate', 'esteem', 'estimate', 'estimated', 'estranged', 'estrangement', 'etc', 'etched', 'eternal', 'eternally', 'eternity', 'ethereal', 'ethic', 'ethical', 'ethnic', 'ethnicity', 'etiquette', 'etrigan', 'eugenics', 'euphoria', 'euphoric', 'euthanized', 'evacuate', 'evacuated', 'evacuating', 'evacuation', 'evacuee', 'evade', 'evaded', 'evades', 'evading', 'evaluation', 'evaporate', 'evaporating', 'evasion', 'evasive', 'eve', 'even', 'evening', 'evenly', 'event', 'eventaully', 'eventful', 'eventual', 'eventuality', 'eventually', 'ever', 'everexpanding', 'everflustered', 'evergrowing', 'everincreasing', 'everoptimistic', 'everpresent', 'every', 'everybody', 'everybodys', 'everyday', 'everyone', 'everyones', 'everything', 'everytime', 'everywhere', 'evidence', 'evidenced', 'evidense', 'evident', 'evidently', 'evil', 'evildoer', 'evildoing', 'evilly', 'evoked', 'evokers', 'evokes', 'evolution', 'evolutionary', 'evolve', 'evolved', 'evolves', 'evolving', 'ex', 'exFury', 'exGreen', 'exKGB', 'exMasters', 'exThunderbolts', 'exUmbrella', 'exWCAers', 'exacerbate', 'exacerbated', 'exacerbates', 'exacerbating', 'exact', 'exacted', 'exacting', 'exactly', 'exacts', 'exaggerated', 'exam', 'examination', 'examine', 'examined', 'examines', 'examining', 'example', 'exasperated', 'exboxer', 'exboyfriend', 'excall', 'excavated', 'excavating', 'excavation', 'exceeded', 'exceeding', 'exceedingly', 'excel', 'excelled', 'excellent', 'excelling', 'except', 'excepted', 'excepting', 'exception', 'exceptional', 'exceptionally', 'excerpt', 'excess', 'excessive', 'exchange', 'exchanged', 'exchanging', 'excited', 'excitement', 'exciting', 'exclaims', 'excluded', 'excluding', 'exclusive', 'exclusively', 'excommunicated', 'excon', 'excop', 'excrewman', 'excruciating', 'excursion', 'excuse', 'execute', 'executed', 'executes', 'executing', 'execution', 'executioner', 'executionerAmerica', 'executive', 'exempted', 'exercise', 'exercised', 'exert', 'exerted', 'exerting', 'exertion', 'exfiancee', 'exfiancée', 'exgirlfriend', 'exgirlfriends', 'exgovernment', 'exhaust', 'exhausted', 'exhaustion', 'exheavyweight', 'exhibit', 'exhibited', 'exhibiting', 'exhibition', 'exhilarated', 'exhiled', 'exhorts', 'exhumed', 'exhusband', 'exile', 'exiled', 'exiling', 'exist', 'existed', 'existence', 'existenceDinah', 'existential', 'existing', 'exists', 'exit', 'exited', 'exiting', 'exleader', 'exlover', 'exmember', 'exmutants', 'exoarmored', 'exodus', 'exonerate', 'exonerated', 'exorcise', 'exorcised', 'exorcism', 'exorcist', 'exorcized', 'exoskeletal', 'exoskeleton', 'exosuit', 'exotic', 'expand', 'expanded', 'expanding', 'expanse', 'expartner', 'expartnerincrime', 'expect', 'expectation', 'expected', 'expecting', 'expects', 'expedition', 'expel', 'expelled', 'expelling', 'expendable', 'expended', 'expending', 'expense', 'expensive', 'experience', 'experienced', 'experiencing', 'experiment', 'experimental', 'experimentation', 'experimented', 'experimentee', 'experimenting', 'expert', 'expertise', 'expertly', 'expired', 'explain', 'explainable', 'explained', 'explaing', 'explaining', 'explains', 'explanation', 'explicitly', 'explicitlystated', 'explode', 'explodeall', 'exploded', 'explodes', 'exploding', 'exploit', 'exploitation', 'exploited', 'exploiting', 'exploration', 'exploratory', 'explore', 'explored', 'explorer', 'explorership', 'explores', 'exploring', 'explosion', 'explosionand', 'explosive', 'expo', 'exponentially', 'exported', 'expose', 'exposed', 'exposing', 'exposure', 'express', 'expressed', 'expressing', 'expression', 'expressly', 'expulsion', 'expunge', 'expunged', 'exsecret', 'exsidekick', 'exsoldier', 'exspy', 'exteammate', 'exteammates', 'exteenagesuperheros', 'extend', 'extended', 'extending', 'extends', 'extension', 'extensive', 'extensively', 'extensiveshe', 'extent', 'exterior', 'exterminate', 'exterminated', 'exterminating', 'extermination', 'external', 'extinct', 'extinction', 'extinctionlevel', 'extinguish', 'extinguished', 'extort', 'extorted', 'extorting', 'extortion', 'extra', 'extract', 'extracted', 'extracting', 'extraction', 'extracurricular', 'extradimensional', 'extradimensionally', 'extradimentional', 'extradite', 'extradited', 'extragalactic', 'extraordinarily', 'extraordinary', 'extrapolate', 'extrapowered', 'extraterrestrial', 'extreme', 'extremely', 'extremelyelderly', 'extremist', 'extrovert', 'extroverted', 'exudes', 'exwife', 'eye', 'eyebeams', 'eyeblasts', 'eyebrow', 'eyepatch', 'eyesight', 'eyetoeye', 'fable', 'fabled', 'fabric', 'fabricate', 'fabricated', 'fabrication', 'facade', 'face', 'faceBeetle', 'facecovering', 'faced', 'facedoff', 'faceoff', 'facepainted', 'facet', 'facetoface', 'facial', 'facilitate', 'facilitated', 'facilitates', 'facilitating', 'facility', 'facing', 'faclility', 'facsimile', 'fact', 'faction', 'facto', 'factor', 'factory', 'faculty', 'fade', 'faded', 'fading', 'fail', 'failed', 'failing', 'fails', 'failsafe', 'failure', 'faint', 'fainted', 'faintly', 'fair', 'faired', 'fairground', 'fairing', 'fairly', 'fairlyOdin', 'fairness', 'faith', 'faithful', 'faithfully', 'faithhealer', 'fake', 'faked', 'fakeexplosive', 'fakeout', 'faking', 'falcon', 'fall', 'fallen', 'falling', 'fallout', 'false', 'falsely', 'falsified', 'faltered', 'faltering', 'fame', 'famed', 'familial', 'familiar', 'familiarity', 'familiarlooking', 'family', 'familyFrancine', 'famine', 'famous', 'famously', 'fan', 'fanatic', 'fanatical', 'fanatically', 'fanaticism', 'fanboy', 'fanboyishness', 'fancier', 'fancy', 'fandom', 'fang', 'fanged', 'fanning', 'fantasize', 'fantasized', 'fantastic', 'fantasy', 'far', 'fare', 'fared', 'farewell', 'farflung', 'faring', 'farm', 'farmed', 'farmer', 'farmhouse', 'farming', 'farmland', 'faroff', 'farther', 'farthest', 'fascinated', 'fascination', 'fascism', 'fascist', 'fashion', 'fashioned', 'fashioning', 'fasion', 'fast', 'faster', 'fastest', 'fasting', 'fasttracked', 'fat', 'fatal', 'fatality', 'fatally', 'fate', 'fated', 'fateful', 'father', 'father1', 'father242526', 'father8', 'fatherAtlan', 'fatherMagneto', 'fatherdaughter', 'fathered', 'fatherfigure', 'fathering', 'fatherinlaw', 'fatherís', 'fathom', 'fatigue', 'fault', 'faulty', 'faux', 'favor', 'favorable', 'favored', 'favorite', 'favour', 'favourite', 'fealty', 'fear', 'feared', 'fearful', 'fearing', 'fearless', 'fearmongers', 'fearmonster', 'fearsome', 'fearsuppressing', 'feasible', 'feast', 'feat', 'feather', 'feathered', 'feature', 'featured', 'featureless', 'featuring', 'fed', 'federal', 'federation', 'fedup', 'fee', 'feed', 'feedback', 'feeding', 'feel', 'feeling', 'feelinga', 'feelingsEventually', 'feign', 'feigned', 'feigning', 'feigns', 'feisty', 'feline', 'felinehumanoid', 'fell', 'felled', 'fellow', 'fellowmutant', 'felon', 'felony', 'felt', 'female', 'feminine', 'feminist', 'fence', 'fencer', 'fencing', 'fend', 'fended', 'fending', 'fends', 'feral', 'ferallike', 'ferocious', 'ferociously', 'ferocity', 'ferret', 'ferreted', 'ferry', 'ferrying', 'fertile', 'fervor', 'festering', 'festival', 'festivity', 'fetch', 'fetish', 'fetus', 'feud', 'fever', 'feverishly', 'fewer', 'fianc', 'fiance', 'fiancé', 'fiancée', 'fiasco', 'fiber', 'fibrification', 'fiction', 'fictional', 'fictionalized', 'field', 'fieldbased', 'fiend', 'fiendish', 'fierce', 'fiercely', 'fiercest', 'fiery', 'fieryhead', 'fierytempered', 'fifteen', 'fifth', 'fifty', 'fight', 'fightand', 'fightbattle', 'fighter', 'fighting', 'fightorflight', 'figment', 'figuratively', 'figure', 'figured', 'figurehead', 'figurine', 'figuring', 'file', 'filed', 'filing', 'fill', 'filled', 'filling', 'film', 'filmed', 'filming', 'final', 'finale', 'finality', 'finalizes', 'finally', 'finance', 'financial', 'financially', 'financials', 'financier', 'financing', 'find', 'finding', 'fine', 'finely', 'finer', 'finest', 'fing', 'finger', 'fingered', 'fingernail', 'fingerprint', 'fingertip', 'finish', 'finished', 'finishing', 'fire', 'firearm', 'fireball', 'fired', 'firefight', 'firefighter', 'firefighting', 'firefights', 'firefly', 'fireman', 'firepower', 'firestorm', 'firewatcher', 'firework', 'firing', 'firm', 'firmer', 'firmly', 'first', 'firstborn', 'firsthand', 'firsttime', 'firstyear', 'fish', 'fisherman', 'fishing', 'fishy', 'fission', 'fissure', 'fist', 'fistfight', 'fisticuffs', 'fit', 'fitted', 'fitting', 'five', 'fivestar', 'fivethousand', 'fiveyear', 'fix', 'fixated', 'fixation', 'fixed', 'fixing', 'fixture', 'flabbergasted', 'flag', 'flagship', 'flail', 'flailed', 'flailing', 'flake', 'flame', 'flameretardant', 'flamethrower', 'flamewielding', 'flaming', 'flapping', 'flare', 'flared', 'flaring', 'flash', 'flashback', 'flashburn', 'flashfrozen', 'flashy', 'flask', 'flat', 'flatly', 'flattened', 'flattening', 'flatware', 'flaw', 'flawed', 'flawless', 'flawlessly', 'fled', 'fledged', 'fledgling', 'flee', 'fleeing', 'flees', 'fleet', 'flesh', 'fleshaltering', 'fleshshaping', 'fleshy', 'flew', 'flexibility', 'flexible', 'flick', 'flicker', 'flickering', 'flier', 'flight', 'flinch', 'flinching', 'fling', 'flinging', 'flip', 'flipped', 'flirt', 'flirtation', 'flirtatious', 'flirted', 'flirting', 'flitting', 'float', 'floated', 'floating', 'flocked', 'flood', 'flooded', 'flooding', 'floor', 'flop', 'flophouse', 'flora', 'floral', 'floundered', 'flourish', 'flow', 'flowed', 'flower', 'flowing', 'flown', 'flu', 'fluctuate', 'fluctuated', 'fluctuation', 'fluent', 'fluid', 'fluke', 'flung', 'flunked', 'flunky', 'flush', 'flushed', 'flustered', 'flux', 'fly', 'fly1', 'flying', 'flyingoff', 'foam', 'focal', 'focus', 'focused', 'focusing', 'focussed', 'fodder', 'foe', 'foesIn', 'fogged', 'foggy', 'foil', 'foiled', 'foiling', 'fold', 'folder', 'folding', 'folk', 'folklore', 'folley', 'folliage', 'follow', 'followed', 'follower', 'following', 'follows', 'folly', 'fom', 'foment', 'fomenting', 'fond', 'fondest', 'fondness', 'font', 'food', 'fool', 'fooled', 'fooling', 'foolish', 'foolishly', 'foosball', 'foosteps', 'foot', 'footage', 'footageNathan', 'football', 'foothold', 'footing', 'footprint', 'footstep', 'foray', 'forbad', 'forbade', 'forbearers', 'forbid', 'forbidden', 'forbidding', 'forbids', 'force', 'forced', 'forcefed', 'forcefield', 'forceful', 'forcefully', 'forceopen', 'forcibly', 'forcing', 'fore', 'forearm', 'foreboding', 'forecast', 'foreclosure', 'forefront', 'forego', 'forehead', 'foreign', 'foreigner', 'foreman', 'foremost', 'forensics', 'foreseeable', 'foreseen', 'foreshadowed', 'foreshadowing', 'foreshadows', 'foresightedly', 'foreskin', 'forest', 'forestall', 'forested', 'foretell', 'foretelling', 'foretells', 'forethought', 'foretold', 'forever', 'forevermore', 'forfeit', 'forfeited', 'forfeiting', 'forgave', 'forge', 'forged', 'forger', 'forgery', 'forget', 'forgets', 'forgetting', 'forging', 'forgive', 'forgiven', 'forgiveness', 'forgives', 'forgiving', 'forgot', 'forgotten', 'fork', 'form', 'formAlthough', 'formGiven', 'formal', 'formaldehyde', 'formally', 'formalwear', 'format', 'formation', 'formative', 'formed', 'former', 'formerly', 'formervillain', 'formidable', 'forming', 'formula', 'formulate', 'formulated', 'formulates', 'forsaken', 'forsaking', 'forseen', 'forsook', 'forth', 'forthcoming', 'fortified', 'fortify', 'fortress', 'fortressthe', 'fortuitous', 'fortunate', 'fortunately', 'fortune', 'fortuneteller', 'forty', 'forum', 'forward', 'fossil', 'fossilized', 'foster', 'fostered', 'fostering', 'fought', 'foughtoff', 'foul', 'found', 'foundation', 'founded', 'founder', 'founderleader', 'founding', 'foundout', 'fountain', 'four', 'fourheaded', 'foursome', 'fourteen', 'fourth', 'fouryearlong', 'fox', 'foxhunting', 'fractal', 'fraction', 'fractionalized', 'fracture', 'fractured', 'fragile', 'fragment', 'fragmented', 'frail', 'frailty', 'frame', 'framed', 'framework', 'framing', 'franchise', 'frankly', 'frantic', 'frantically', 'frat', 'fraternity', 'fraud', 'fraudulently', 'fray', 'fraying', 'freak', 'freaked', 'freakish', 'freaky', 'free', 'freeagent', 'freed', 'freedom', 'freefall', 'freeforall', 'freeing', 'freelance', 'freelancer', 'freely', 'freeman', 'freespirited', 'freeway', 'freewill', 'freeze', 'freezegun', 'freezer', 'freezing', 'freight', 'freighter', 'freinds', 'frenzy', 'frequency', 'frequent', 'frequenting', 'frequently', 'fresh', 'freshly', 'freshman', 'friction', 'fridge', 'fried', 'friend', 'friend1', 'friendly', 'friendship', 'fright', 'frighten', 'frightened', 'frightening', 'frighteningly', 'frigid', 'fringe', 'frivolity', 'frizzy', 'fro', 'frog', 'frogman', 'front', 'frontal', 'frontier', 'frontlines', 'frontpage', 'frontrow', 'frost', 'frostbitecrippled', 'frostbitten', 'frowned', 'froze', 'frozen', 'fruit', 'fruition', 'fruitless', 'fruitlessly', 'frustrated', 'frustrating', 'frustration', 'fry', 'frying', 'ft', 'fuck', 'fuel', 'fueled', 'fueling', 'fugitive', 'fulfill', 'fulfilled', 'fulfilling', 'fulfillment', 'fulfills', 'full', 'fuller', 'fullest', 'fullface', 'fullfledged', 'fullforce', 'fullgrown', 'fullmembership', 'fullon', 'fullretirement', 'fullscale', 'fulltime', 'fullwell', 'fully', 'fullygrown', 'fumbling', 'fume', 'fun', 'function', 'functional', 'functionally', 'functioned', 'functioning', 'fund', 'fundamental', 'fundamentalist', 'fundamentally', 'funded', 'funding', 'funeral', 'fungus', 'fungusbased', 'funhouse', 'funnel', 'funneled', 'funneling', 'funnier', 'funny', 'fur', 'furious', 'furiously', 'furlough', 'furnace', 'furnishing', 'furthered', 'furtherhard', 'furthering', 'furthermore', 'fury', 'fuse', 'fused', 'fusing', 'fusion', 'fustiged', 'futile', 'futilely', 'futility', 'future', 'futureWally', 'futurea', 'futurejust', 'futureself', 'futureteammates', 'futuristic', 'g', 'gadget', 'gadgetry', 'gag', 'gagged', 'gagging', 'gain', 'gained', 'gainful', 'gaining', 'gala', 'galactic', 'galaxy', 'galaxybut', 'galaxyclass', 'galaxywide', 'gallery', 'gallows', 'galvanized', 'gambit', 'gamble', 'gambled', 'gambler', 'gambling', 'game', 'gameplay', 'gamma', 'gammaboosted', 'gammaemitter', 'gammairradiated', 'gammamutated', 'gammapowered', 'gammaray', 'gammaspawned', 'gammatron', 'gang', 'ganged', 'gangfights', 'ganging', 'gangland', 'gangleaders', 'gangrene', 'gangrenous', 'gangster', 'gangwar', 'gap', 'gaping', 'garage', 'garb', 'garbage', 'garbed', 'garbled', 'garden', 'gardener', 'gardening', 'garish', 'garmadon', 'garment', 'garner', 'garnered', 'garnering', 'gas', 'gaseous', 'gasoline', 'gassed', 'gate', 'gateway', 'gather', 'gathered', 'gathering', 'gauge', 'gaunlet', 'gauntlet', 'gave', 'gay', 'gazing', 'gear', 'geek', 'gelatinous', 'gell', 'gem', 'gemstone', 'gender', 'gene', 'genefit', 'general', 'generally', 'generate', 'generated', 'generates', 'generating', 'generation', 'generationWhile', 'generator', 'generous', 'genesis', 'genetic', 'genetically', 'geneticallycreated', 'geneticallymodified', 'geneticist', 'genetics', 'genie', 'genius', 'geniusbuttimidandbankruptphysicist', 'geniuslevel', 'genocidal', 'genocide', 'genome', 'genotype', 'genre', 'gentle', 'gentleman', 'gentler', 'gently', 'gentrified', 'genuine', 'genuinely', 'geometric', 'geophysical', 'geophysicist', 'geophysics', 'geosynchronous', 'geothermal', 'germ', 'gestalt', 'gestating', 'gestation', 'gesture', 'get', 'getaway', 'getting', 'geyser', 'ghetto', 'ghost', 'ghostlike', 'ghostly', 'ghostphone', 'giant', 'giantess', 'giantsized', 'giddy', 'gift', 'gifted', 'gifting', 'giftto', 'gig', 'gigantic', 'gigawatt', 'gilatnus', 'gill', 'gimmick', 'girder', 'girdle', 'girl', 'girlfriend', 'give', 'given', 'giveup', 'giving', 'glacier', 'glad', 'gladiator', 'gladiatorial', 'gladiatorstyle', 'gladly', 'glamor', 'glamorous', 'glamour', 'glance', 'gland', 'glass', 'glassed', 'glassesmask', 'glasswalled', 'gleaned', 'gleefully', 'glide', 'glider', 'gliderwings', 'gliding', 'glimpse', 'glimpsed', 'glimpsing', 'glitch', 'glittering', 'gloat', 'gloated', 'gloating', 'global', 'globally', 'globe', 'globetrotting', 'gloomy', 'glorious', 'glory', 'glove', 'glow', 'glowing', 'gluing', 'glyph', 'go', 'goad', 'goaded', 'goading', 'goal', 'goalshe', 'goblet', 'goblin', 'goblinlike', 'god', 'goddess', 'gode', 'godfather', 'godfearing', 'godhood', 'godlike', 'godly', 'godson', 'gofer', 'goggles', 'going', 'goingson', 'gold', 'golden', 'golem', 'goliathIn', 'gone', 'gone24', 'good', 'goodaligned', 'goodand', 'goodbut', 'goodbye', 'goodintentioned', 'goodlooking', 'goodness', 'goodwill', 'goof', 'goofy', 'goon', 'goop', 'gored', 'gorilla', 'gory', 'got', 'gothic', 'goto', 'gotten', 'gouge', 'gouged', 'govenment', 'govern', 'governance', 'governed', 'governess', 'governing', 'government', 'governmental', 'governmentapproved', 'governmentchartered', 'governmentcontested', 'governmentcontrolled', 'governmentfunded', 'governmentregistered', 'governmentrun', 'governmentsanctioned', 'governmentsponsored', 'governmentsubsidized', 'governor', 'governs', 'gown', 'grab', 'grabbed', 'grabbing', 'grace', 'graciously', 'grade', 'gradual', 'gradually', 'graduate', 'graduated', 'graduating', 'graduation', 'graf', 'graffiti', 'graft', 'grafted', 'grain', 'grand', 'grandaunt', 'grandchild', 'granddaughter', 'grandfather', 'grandiose', 'grandmaster', 'grandmother', 'grandniece', 'grandparent', 'grandson', 'grandstanding', 'granite', 'grant', 'granted', 'granting', 'graphic', 'grapple', 'grappled', 'grasp', 'grasped', 'grasping', 'grassgreen', 'grata', 'grate', 'grated', 'grateful', 'gratefully', 'gratitude', 'grave', 'gravea', 'gravely', 'graven', 'graveyard', 'gravitated', 'gravitational', 'gravity', 'gravitydefying', 'gray', 'grazed', 'grazing', 'grease', 'greasiest', 'great', 'greater', 'greatest', 'greatgrandchildren', 'greatgrandfather', 'greatgrandson', 'greatgreatgrandson', 'greatgreatuncle', 'greatly', 'greatness', 'greatnieceof', 'greatsword', 'greed', 'greedy', 'green', 'greene', 'greenfaced', 'greenhaired', 'greenhouse', 'greenskinned', 'greet', 'greeted', 'greeting', 'greets', 'grenade', 'grevious', 'grew', 'grey', 'grid', 'gridwork', 'grief', 'grieffuelled', 'griefstricken', 'grievance', 'grieve', 'grieved', 'grieving', 'grievous', 'grievously', 'grill', 'grim', 'grimmer', 'grimoire', 'grin', 'grind', 'grinning', 'grip', 'gripped', 'grist', 'gritty', 'grocer', 'grocery', 'groggily', 'groggy', 'groom', 'grooming', 'groping', 'grossly', 'grotesque', 'ground', 'groundNo', 'groundbreaking', 'grounded', 'grounding', 'groundonly', 'groundskeeper', 'group', 'groupie', 'grouping', 'grow', 'growing', 'growl', 'growling', 'grown', 'grownup', 'grows', 'growth', 'grudge', 'grudging', 'grudgingly', 'grueling', 'gruelling', 'gruesome', 'gruff', 'guarantee', 'guaranteed', 'guarantor', 'guard', 'guarded', 'guardian', 'guardianship', 'guarding', 'guardsman', 'guerilla', 'guerrilla', 'guess', 'guessed', 'guessing', 'guest', 'guidance', 'guide', 'guided', 'guiding', 'guild', 'guile', 'guilt', 'guiltborne', 'guiltwracked', 'guilty', 'guinea', 'guise', 'guitar', 'gulf', 'gullible', 'gum', 'gun', 'gunfight', 'gunfighting', 'gunfire', 'gunman', 'gunned', 'gunning', 'gunpoint', 'gunrunner', 'gunrunning', 'gunship', 'gunshot', 'gunsized', 'gust', 'gut', 'gutted', 'gutter', 'gutting', 'guy', 'gym', 'gymnasium', 'gymnast', 'gymnastics', 'gypsy', 'habit', 'habitable', 'hack', 'hacked', 'hacker', 'hacking', 'hacksaw', 'hadnt', 'haggard', 'haggling', 'hail', 'hailed', 'hailing', 'hair', 'hairdryer', 'haired', 'hairless', 'hairsbreadth', 'hairy', 'half', 'halfCelestial', 'halfKree', 'halfbat', 'halfblood', 'halfbreed', 'halfbrother', 'halfbrothers', 'halfburied', 'halfcat', 'halfdemon', 'halfelves', 'halffunctional', 'halfgorilla', 'halfhearted', 'halfhoping', 'halfhuman', 'halfindustrial', 'halfjokingly', 'halflife', 'halfman', 'halfmemories', 'halfmountainlion', 'halfnaked', 'halfrhino', 'halfshirt', 'halfsiblings', 'halfsister', 'halfsisters', 'halftruths', 'halfverdant', 'halfwater', 'halfway', 'hall', 'hallmark', 'hallucinate', 'hallucinates', 'hallucinating', 'hallucination', 'hallucinogen', 'hallucinogenic', 'hallucinogensThey', 'hallway', 'halo', 'halt', 'halted', 'halting', 'ham', 'hamlet', 'hammer', 'hammock', 'hamper', 'hampered', 'hand', 'handblaster', 'handcuff', 'handcuffed', 'handed', 'handedly', 'handful', 'handgun', 'handheld', 'handicap', 'handily', 'handing', 'handiwork', 'handkerchief', 'handle', 'handled', 'handler', 'handling', 'handover', 'handprint', 'handpuppets', 'handsized', 'handsome', 'handtohand', 'handy', 'hang', 'hangar', 'hanged', 'hanger', 'hanging', 'hangman', 'hangout', 'haphazard', 'haphephobia', 'hapless', 'happen', 'happened', 'happeneda', 'happening', 'happens', 'happier', 'happiest', 'happily', 'happiness', 'happy', 'happygolucky', 'harassed', 'harassing', 'harbor', 'harbored', 'harboring', 'harbouring', 'hard', 'hardearned', 'harden', 'hardened', 'harder', 'hardest', 'hardline', 'hardly', 'hardnosed', 'hardofhearing', 'hardship', 'hardtoget', 'hardware', 'hardwater', 'hardworking', 'harebrained', 'harem', 'harm', 'harmed', 'harmful', 'harming', 'harmless', 'harmlessly', 'harmonious', 'harmony', 'harness', 'harnessed', 'harnessing', 'harper', 'harpoon', 'harpy', 'harpylike', 'harrowing', 'harsh', 'harsher', 'harshly', 'harvest', 'harvested', 'harvester', 'harvesting', 'hasbeen', 'hashave', 'hasnt', 'haste', 'hasten', 'hasty', 'hat', 'hatch', 'hatched', 'hatchet', 'hatching', 'hate', 'hated', 'hateful', 'hater', 'hateray', 'hating', 'hatred', 'haul', 'hauled', 'haunt', 'haunted', 'haunting', 'havent', 'havoc', 'havok', 'hawk', 'haywire', 'hazard', 'hazardous', 'haze', 'hazy', 'he', 'head', 'headLuke', 'headache', 'headband', 'headbutting', 'headed', 'headfirst', 'headgear', 'headhunter', 'heading', 'headline', 'headmaster', 'headmistress', 'headon', 'headphone', 'headquartered', 'headquarters', 'headset', 'headship', 'headstone', 'headstrong', 'headtohead', 'heal', 'healed', 'healed10', 'healer', 'healing', 'heals', 'health', 'healthier', 'healthy', 'heap', 'hear', 'heard', 'hearing', 'hears', 'heart', 'heartache', 'heartbeat', 'heartbreaking', 'heartbroken', 'heartland', 'heartless', 'heartshaped', 'heat', 'heated', 'heathen', 'heating', 'heatseeking', 'heatvision', 'heaven', 'heavenly', 'heavier', 'heavily', 'heavilyfortified', 'heavy', 'heavydrinking', 'heavyhanded', 'heavyhitter', 'heavyweight', 'hecatomb', 'hectic', 'hed', 'hedge', 'hedgehog', 'hedonistic', 'hee', 'heed', 'heeded', 'heel', 'hefty', 'height', 'heighten', 'heightened', 'heightening', 'heinous', 'heir', 'heiress', 'heiroglyphics', 'heist', 'hel', 'held', 'helicarrier', 'helicarriers', 'helicopter', 'heliport', 'helix', 'hell', 'hellbeast', 'hellbent', 'hellborn', 'hellbound', 'hellfire', 'hellish', 'hellraising', 'helm', 'helmet', 'helmetlike', 'help', 'helpTony', 'helpa', 'helped', 'helpful', 'helping', 'helpless', 'helplessly', 'helplessness', 'hemisphere', 'hence', 'henchman', 'henchwoman', 'henious', 'hepatitis', 'herLinda', 'herShortly', 'herald', 'heraldbut', 'heralded', 'heralding', 'heraldless', 'herb', 'herbal', 'herbut', 'hercitation', 'herd', 'herded', 'hereafter', 'hereditary', 'heresy', 'heretoforeunseen', 'heritage', 'herits', 'hermit', 'hernot', 'hero', 'heroesMachine', 'herohunting', 'heroic', 'heroically', 'heroin', 'heroine', 'heroing', 'heroism', 'heromonster', 'heroteam', 'herpersonal', 'herselves', 'herthe', 'hesitant', 'hesitantly', 'hesitate', 'hesitated', 'hesitates', 'hesitation', 'hex', 'hexcasting', 'heyday', 'hi', 'hiatus', 'hibernating', 'hibernation', 'hid', 'hidden', 'hide', 'hideaway', 'hidelike', 'hideous', 'hideously', 'hideout', 'hideoutBird', 'hiding', 'hierarchy', 'high', 'highaltitude', 'highcaliber', 'highclass', 'higher', 'higherlevel', 'higherups', 'highest', 'highestranked', 'highfrequency', 'highlevel', 'highlighting', 'highly', 'highpitch', 'highpowered', 'highranking', 'highschool', 'highsecurity', 'highspeed', 'hightech', 'highvoltage', 'highway', 'hijack', 'hijacked', 'hijacking', 'hiking', 'hilarious', 'him19', 'him2', 'him9', 'himAfter', 'himBesty', 'himHe', 'himand', 'himbut', 'himkills', 'himself11', 'himself3', 'himselfOrm', 'himselfsaying', 'himwho', 'hinder', 'hindered', 'hint', 'hinted', 'hinting', 'hip', 'hiphop', 'hire', 'hireWhile', 'hired', 'hiring', 'hisher', 'historian', 'historical', 'historically', 'history', 'historyincluding', 'hit', 'hitandrun', 'hitch', 'hitched', 'hitchhike', 'hitchhiked', 'hitchhiking', 'hitching', 'hitech', 'hitherto', 'hitlist', 'hitman', 'hitter', 'hitting', 'hitwoman', 'hive', 'hoarded', 'hoax', 'hobbit', 'hobby', 'hobo', 'hoc', 'hockey', 'hockeymask', 'hogtied', 'hokage', 'hold', 'holder', 'holding', 'hole', 'holed', 'holiday', 'holiest', 'hollow', 'holocamouflage', 'holocaust', 'holocron', 'holodrama', 'holoempathic', 'hologram', 'holographic', 'holonet', 'holorecording', 'holy', 'homage', 'home', 'homeAquagirl', 'homebase', 'homecoming', 'homegrown', 'homeland', 'homeless', 'homemade', 'homemaker', 'homeowner', 'homeroom', 'homesick', 'homestead', 'homesteader', 'hometown', 'homework', 'homeworld', 'homicidal', 'homicide', 'homing', 'homo', 'homonculus', 'homosexual', 'homosexuality', 'homunculus', 'hone', 'honed', 'honest', 'honestly', 'honesty', 'honeycombpatterned', 'honeymoon', 'honeymooning', 'honing', 'honor', 'honorable', 'honorary', 'honorbound', 'honored', 'honoring', 'honour', 'hood', 'hooded', 'hook', 'hooked', 'hooker', 'hope', 'hoped', 'hopeful', 'hopefully', 'hopeless', 'hopelessly', 'hoping', 'horcrux', 'horcruxes', 'horde', 'horizon', 'horizontally', 'hormone', 'horn', 'horrendous', 'horrible', 'horribly', 'horrid', 'horrific', 'horrified', 'horrifying', 'horror', 'horse', 'horseValinorand', 'horseman', 'horseracewatching', 'hortly', 'hose', 'hospice', 'hospital', 'hospitalanother', 'hospitality', 'hospitalization', 'hospitalized', 'hospitalizing', 'host', 'hostage', 'hosted', 'hostel', 'hostess', 'hostile', 'hostility', 'hosting', 'hot', 'hotel', 'hotheaded', 'hotload', 'hottempered', 'hottest', 'hound', 'hounded', 'hounding', 'houngan', 'hour', 'house', 'housed', 'household', 'housekeeper', 'housewife', 'housing', 'hoverboard', 'hoverchair', 'hovercraft', 'hovering', 'however', 'howeverDiana', 'howling', 'httpsvillainsfandomcomwikiTheDevastator', 'httpwwwmarvelcomuniverseNamorita', 'hubcap', 'hubris', 'huddled', 'huddling', 'hue', 'hug', 'huge', 'hugging', 'hulk', 'hulking', 'hull', 'human', 'humanalien', 'humane', 'humaniora', 'humanitarian', 'humanity', 'humanityprotected', 'humankind', 'humanlevel', 'humanlike', 'humanlooking', 'humanmutant', 'humanoid', 'humanside', 'humansized', 'humanthough', 'humble', 'humbled', 'humiliated', 'humiliating', 'humiliatingly', 'humiliation', 'humility', 'humor', 'humored', 'humorous', 'humour', 'hunch', 'hundred', 'hung', 'hunger', 'hungered', 'hungry', 'hunk', 'hunt', 'hunted', 'hunter', 'hunterís', 'hunting', 'huntress', 'hurl', 'hurled', 'hurling', 'hurricane', 'hurricaneforce', 'hurried', 'hurry', 'hurrying', 'hurt', 'hurtful', 'hurting', 'hurtled', 'hurtling', 'husband', 'hushhush', 'husk', 'husking', 'husky', 'hustler', 'hybrid', 'hydrant', 'hydraulic', 'hydraulics', 'hydrogen', 'hydrostatically', 'hyperadrenal', 'hyperaged', 'hyperalloy', 'hyperborean', 'hyperevolved', 'hyperextending', 'hyperkinesis', 'hyperreligious', 'hyperspace', 'hyperspeed', 'hypnosis', 'hypnotherapy', 'hypnotic', 'hypnotically', 'hypnotist', 'hypnotize', 'hypnotized', 'hypodermic', 'hypothesis', 'hypothesized', 'hypothesizing', 'hypothetical', 'hysteria', 'hysterical', 'hysterically', 'iPods', 'ice', 'icecap', 'iceform', 'icepowers', 'icon', 'iconic', 'iconography', 'icthyo', 'icy', 'id', 'idea', 'ideal', 'idealism', 'idealist', 'idealistic', 'idealized', 'idealizing', 'idendity', 'idenity', 'identical', 'identification', 'identified', 'identifies', 'identify', 'identifying', 'identity', 'identity10', 'ideological', 'ideology', 'idhistory', 'idirectly', 'idol', 'idolize', 'idolized', 'idolizes', 'idyllic', 'ie', 'ignite', 'ignited', 'ignites', 'ignition', 'ignoble', 'ignorance', 'ignorant', 'ignore', 'ignored', 'ignores', 'ignoring', 'ill', 'illconceived', 'illegal', 'illegalizing', 'illegally', 'illegitimate', 'illfated', 'illgotten', 'illicit', 'illiterate', 'illness', 'illogical', 'illprepared', 'illtempered', 'illusion', 'illusionary', 'illusionist', 'illusive', 'illusory', 'illustrate', 'illustrated', 'illustrator', 'image', 'imagery', 'imaginary', 'imagination', 'imagined', 'imaging', 'imbalance', 'imbecile', 'imbibed', 'imbue', 'imbued', 'imbuing', 'imitate', 'imitation', 'immanent', 'immature', 'immaturity', 'immeasurable', 'immeasurably', 'immediate', 'immediately', 'immemorial', 'immense', 'immensely', 'immerse', 'immersed', 'immigrant', 'immigrate', 'imminent', 'immobile', 'immobilize', 'immobilized', 'immobilizes', 'immobilizing', 'immolating', 'immorality', 'immortal', 'immortality', 'immune', 'immunity', 'imp', 'impact', 'impacting', 'impaired', 'impale', 'impaled', 'impales', 'impaling', 'imparts', 'impassable', 'impassioned', 'impatience', 'impatient', 'impatiently', 'impeachment', 'impeding', 'impending', 'impenetrable', 'imperative', 'imperfect', 'imperfection', 'imperfectly', 'imperial', 'imperiled', 'imperious', 'impersonal', 'impersonate', 'impersonated', 'impersonating', 'impersonation', 'impersonator', 'impervious', 'implacable', 'implant', 'implantation', 'implanted', 'implanting', 'implement', 'implementation', 'implemented', 'implementing', 'implicated', 'implicating', 'implication', 'implicitly', 'implied', 'implies', 'implike', 'impliying', 'implode', 'imploded', 'implore', 'implored', 'implores', 'imploring', 'implosion', 'imply', 'implying', 'importance', 'important', 'importantly', 'impose', 'imposed', 'impossible', 'impossibly', 'imposter', 'imposterin', 'impostor', 'imposture', 'impotent', 'impoverished', 'impractical', 'impregnate', 'impregnated', 'impregnating', 'impress', 'impressed', 'impressing', 'impression', 'impressive', 'impressively', 'imprint', 'imprinted', 'imprisioned', 'imprison', 'imprisoned', 'imprisoning', 'imprisonment', 'imprisons', 'improbable', 'impromptu', 'improve', 'improved', 'improvement', 'improving', 'improvised', 'impulse', 'impulsive', 'impulsively', 'impulsiveness', 'impunity', 'impure', 'impurity', 'inability', 'inactive', 'inactivity', 'inadequacy', 'inadequate', 'inadvertantly', 'inadvertently', 'inane', 'inanimate', 'inappropriately', 'inbattle', 'inbetween', 'inbound', 'incantation', 'incapable', 'incapacitate', 'incapacitated', 'incapacitates', 'incapacitating', 'incapacitation', 'incarcerated', 'incarceration', 'incarnation', 'incendiary', 'incensed', 'incentive', 'incessant', 'incestuous', 'inch', 'incharge', 'inched', 'incident', 'incident1', 'incidentally', 'incinerated', 'incinerates', 'incinerating', 'incinerator', 'incite', 'inclination', 'include', 'included', 'includes', 'including', 'inclusion', 'incognito', 'incoherent', 'income', 'incoming', 'incompatible', 'incompetence', 'incompetent', 'incomplete', 'incompleteness', 'incomprehensible', 'inconsiderate', 'inconsistency', 'inconsistent', 'inconspicously', 'inconvenienced', 'inconveniencing', 'incorporate', 'incorporated', 'incorporating', 'incorporation', 'incorporeal', 'incorrect', 'incorrectly', 'incostume', 'increase', 'increased', 'increasing', 'increasingly', 'incredible', 'incredibly', 'incriminating', 'incubated', 'incubation', 'inculcate', 'incursion', 'incursive', 'indebted', 'indecipherable', 'indecision', 'indeed', 'indefinitely', 'indelible', 'indelibly', 'indentation', 'independence', 'independent', 'independently', 'indepth', 'indestructable', 'indestructible', 'index', 'indicate', 'indicated', 'indicating', 'indication', 'indict', 'indicted', 'indictment', 'indifference', 'indifferent', 'indignant', 'indignantly', 'indignity', 'indirectly', 'indiscretion', 'indiscriminate', 'indiscriminately', 'indispensable', 'indistinguishable', 'individual', 'individuality', 'individualized', 'individually', 'indoctrinated', 'indoctrinating', 'indoctrination', 'indoors', 'induce', 'induced', 'inducer', 'inducing', 'induct', 'inducted', 'inducting', 'induction', 'indulge', 'indulged', 'indulgence', 'indulging', 'industrial', 'industrialist', 'industry', 'inebriated', 'ineffective', 'ineffectual', 'ineluctably', 'inept', 'inequality', 'inequity', 'inert', 'inertial', 'inevitable', 'inevitably', 'inexorably', 'inexperience', 'inexperienced', 'inexplicable', 'inexplicably', 'infact', 'infamous', 'infamy', 'infancy', 'infant', 'infatuated', 'infatuation', 'infect', 'infected', 'infecting', 'infection', 'infectious', 'infects', 'inferior', 'inferiority', 'infernal', 'inferno', 'infertile', 'infest', 'infestation', 'infested', 'infesting', 'infidelity', 'infighting', 'infiltrate', 'infiltrated', 'infiltrates', 'infiltrating', 'infiltration', 'infinite', 'infinitesmal', 'infirm', 'infirmary', 'inflamed', 'inflexible', 'inflict', 'inflicted', 'inflicting', 'inflicts', 'influence', 'influenced', 'influencing', 'influential', 'influx', 'info', 'inform', 'informal', 'informally', 'informant', 'information', 'informed', 'informing', 'informs', 'infrared', 'infrastructure', 'infulence', 'infuriated', 'infuriates', 'infuse', 'infused', 'infusing', 'infusion', 'ingame', 'ingenious', 'ingenuity', 'ingest', 'ingested', 'ingesting', 'ingrained', 'ingrate', 'ingratiate', 'ingratiated', 'ingredient', 'inhabit', 'inhabitable', 'inhabitant', 'inhabitants19', 'inhabited', 'inhabiting', 'inhalation', 'inhaler', 'inherent', 'inherit', 'inheritance', 'inherited', 'inheriting', 'inheritor', 'inheritoruntil', 'inherits', 'inhibited', 'inhibitor', 'inhuman', 'inhumane', 'inhumanity', 'inhumanly', 'initial', 'initially', 'initiate', 'initiated', 'initiating', 'initiation', 'initiative', 'inject', 'injected', 'injecting', 'injection', 'injector', 'injects', 'injunction', 'injure', 'injured', 'injures', 'injuring', 'injury', 'injustice', 'inkblot', 'inkling', 'inky', 'inlcuding', 'inlove', 'inmate', 'inn', 'innate', 'inner', 'innermost', 'innocence', 'innocent', 'innocentWild', 'innovation', 'innovative', 'innovator', 'innumerable', 'inoculated', 'inorder', 'inplace', 'input', 'inquire', 'inquired', 'inquiry', 'inring', 'insane', 'insanity', 'insatiable', 'inscribed', 'inscription', 'insect', 'insectlike', 'insectoid', 'insecure', 'insecurity', 'insemination', 'insensitive', 'inseparable', 'inserted', 'inserting', 'insertion', 'inside', 'insideout', 'insidious', 'insight', 'insightful', 'insignia', 'insignificant', 'insinuated', 'insist', 'insisted', 'insistence', 'insisting', 'insists', 'insolence', 'inspecting', 'inspection', 'inspector', 'inspiration', 'inspire', 'inspired', 'inspires', 'inspiring', 'instability', 'install', 'installation', 'installed', 'instance', 'instant', 'instantaneously', 'instantly', 'instated', 'instating', 'instead', 'instigate', 'instigated', 'instigating', 'instigation', 'instill', 'instilled', 'instilling', 'instinct', 'instinctive', 'instinctively', 'instinctually', 'institute', 'instituted', 'institution', 'institutionalized', 'instruct', 'instructed', 'instructing', 'instruction', 'instructor', 'instructs', 'instrument', 'instrumental', 'insubordination', 'insues', 'insufficient', 'insufficiently', 'insulated', 'insulation', 'insult', 'insulted', 'insulting', 'insurance', 'insuranceprotection', 'insure', 'insured', 'insurgence', 'insurgency', 'insurgent', 'insuring', 'intact', 'intake', 'intangibility', 'intangible', 'intangibly', 'integral', 'integrate', 'integrated', 'integrity', 'intel', 'intellect', 'intellectual', 'intellectually', 'intelligence', 'intelligenceregulating', 'intelligent', 'intelligible', 'intend', 'intended', 'intending', 'intends', 'intense', 'intensely', 'intensified', 'intensify', 'intensity', 'intensive', 'intent', 'intention', 'intentional', 'intentionally', 'inter', 'interaced', 'interact', 'interacted', 'interacting', 'interaction', 'interagency', 'interbreeding', 'interceded', 'intercept', 'intercepted', 'intercepting', 'intercourse', 'interdiction', 'interdimensional', 'interest', 'interested', 'interestedin', 'interesting', 'interface', 'interfaced', 'interfacing', 'interfere', 'interfered', 'interference', 'interferes', 'interfering', 'intergalactic', 'intergalactically', 'intergang', 'interim', 'interior', 'interlaced', 'interlock', 'interlocked', 'interloper', 'intermingled', 'intermingling', 'intermittent', 'intermural', 'intern', 'internal', 'international', 'internationally', 'internationallyrenowned', 'interned', 'internet', 'interning', 'internment', 'internship', 'interpersonal', 'interplanetary', 'interpret', 'interpretation', 'interpreted', 'interred', 'interrogate', 'interrogated', 'interrogating', 'interrogation', 'interrogator', 'interrupt', 'interrupted', 'interrupting', 'interruption', 'intersect', 'intersection', 'interspecies', 'interstellar', 'intertwined', 'interuniversal', 'interuption', 'interval', 'intervene', 'intervened', 'intervenes', 'intervening', 'intervention', 'interview', 'interviewed', 'interviewing', 'intervines', 'inteview', 'intimacy', 'intimate', 'intime', 'intimidate', 'intimidated', 'intimidating', 'intimidation', 'intimitely', 'intolerable', 'intolerant', 'intoxicated', 'intoxication', 'intricate', 'intrigue', 'intrigued', 'intriguing', 'intrinsic', 'introduce', 'introduced', 'introduces', 'introducing', 'introduction', 'introductory', 'introspection', 'introvert', 'introverted', 'intrude', 'intruded', 'intruder', 'intuitive', 'intuitively', 'inundated', 'inutero', 'invade', 'invaded', 'invader', 'invades', 'invading', 'invalid', 'invaluable', 'invariably', 'invasion', 'invasive', 'invasively', 'invented', 'inventing', 'invention', 'inventive', 'inventor', 'inventory', 'invents', 'inversion', 'inverted', 'inverting', 'invest', 'invested', 'investigate', 'investigateWhen', 'investigated', 'investigates', 'investigating', 'investigation', 'investigative', 'investigator', 'investment', 'invests', 'invincible', 'invisibility', 'invisibilty', 'invisible', 'invisibly', 'invitation', 'invite', 'invited', 'inviting', 'invoke', 'invoked', 'involuntarily', 'involuntary', 'involve', 'involved', 'involvement', 'involves', 'involving', 'invulnerability', 'invulnerable', 'inward', 'inwardly', 'ion', 'ionic', 'ionically', 'irate', 'ire', 'iris', 'irked', 'iron', 'ironic', 'ironically', 'irony', 'irradiate', 'irradiated', 'irrational', 'irrationality', 'irrationally', 'irrefutable', 'irregular', 'irregularity', 'irrelevant', 'irremovable', 'irreparable', 'irresistible', 'irresponsibility', 'irresponsible', 'irreversible', 'irrevocably', 'irrigation', 'irritated', 'irritation', 'island', 'islandProvidence', 'islandbeing', 'islander', 'islandif', 'islandnation', 'isle', 'isnt', 'isolated', 'isolates', 'isolation', 'isolationist', 'isotope', 'issue', 'issued', 'itd', 'item', 'iteration', 'itthis', 'iwht', 'jabbing', 'jacked', 'jacket', 'jade', 'jail', 'jailbreak', 'jailed', 'jailer', 'jailtime', 'jam', 'jammed', 'jammer', 'janitor', 'jar', 'jargon', 'jarred', 'jaunt', 'javelin', 'jaw', 'jawdropping', 'jazz', 'jealous', 'jealously', 'jealousy', 'jean', 'jeep', 'jellyfish', 'jellyfishlike', 'jeopardized', 'jeopardy', 'jester', 'jet', 'jetpack', 'jettison', 'jettisoned', 'jettisons', 'jewel', 'jewelry', 'jigsaw', 'jilted', 'jinchūriki', 'jinx', 'jitter', 'jiujitsu', 'job', 'jobless', 'jobsHer', 'jobsOne', 'jock', 'jog', 'join', 'joined', 'joining', 'joint', 'jointly', 'joke', 'joked', 'jokerized', 'joking', 'jokingly', 'journal', 'journalism', 'journalist', 'journalistdetective', 'journalistic', 'journey', 'journeyed', 'journeying', 'joy', 'joyful', 'joyously', 'joyride', 'judge', 'judged', 'judging', 'judgment', 'judo', 'juggernaut', 'juggle', 'juggling', 'jumble', 'jumbled', 'jump', 'jumped', 'jumper', 'jumping', 'jumpstart', 'jumpstarted', 'jumpstarting', 'jumpsuit', 'juncture', 'jungle', 'junior', 'junk', 'jurisdiction', 'juror', 'jury', 'justice', 'justifiable', 'justified', 'justify', 'justing', 'justreturned', 'jutsu', 'jutting', 'juvenile', 'juxtaposed', 'jōnin', 'kamikaze', 'katana', 'keen', 'keep', 'keeper', 'keeping', 'keepsake', 'kept', 'kethanol', 'key', 'keyboard', 'keychain', 'keyed', 'keypad', 'keyword', 'kg', 'khaki', 'ki', 'kiboshed', 'kick', 'kicked', 'kicking', 'kickstart', 'kickstarting', 'kid', 'kidnap', 'kidnaping', 'kidnapped', 'kidnapper', 'kidnapping', 'kidnaps', 'kidney', 'kill', 'killassassinate', 'killed', 'killer', 'killeronly', 'killing', 'kilo', 'kilogram', 'kin', 'kind', 'kindergarten', 'kindhearted', 'kindle', 'kindled', 'kindles', 'kindly', 'kindness', 'kindred', 'kinetic', 'king', 'kingdom', 'kingpin', 'kingship', 'kingswood', 'kinship', 'kinsman', 'kische', 'kiss', 'kissed', 'kissing', 'kitchen', 'kite', 'km', 'knee', 'kneecap', 'kneehigh', 'kneeled', 'kneeling', 'kneesFiona', 'knelt', 'knew', 'knife', 'knight', 'knighted', 'knighthood', 'knock', 'knockdown', 'knocked', 'knockedout', 'knocking', 'knockknock', 'knockout', 'knot', 'know', 'knowhow', 'knowing', 'knowitalls', 'knowledge', 'knowledgeable', 'known', 'knownSavitar', 'knuckle', 'knucklebones', 'kowtow', 'kravinnof', 'krill', 'kryptonite', 'kryptoniteencrusted', 'kungfu', 'kunoichi', 'la', 'lab', 'labeled', 'labeling', 'labor', 'laboratory', 'labored', 'laborer', 'labour', 'labyrinth', 'laced', 'lack', 'lacked', 'lackey', 'lacking', 'lackluster', 'lacquer', 'lad', 'ladder', 'lady', 'lagoon', 'laid', 'laidback', 'lain', 'lair', 'lake', 'laks', 'lame', 'lament', 'lamenting', 'lamp', 'lance', 'land', 'landed', 'landholding', 'landing', 'landlady', 'landlord', 'landmark', 'landmine', 'landowner', 'landscape', 'language', 'languished', 'lantern', 'lap', 'lapdog', 'lapping', 'lapse', 'lapsed', 'large', 'largely', 'larger', 'largerscale', 'largescale', 'largest', 'lariat', 'laser', 'lasercannon', 'lasersunfortunately', 'lash', 'lashed', 'lashing', 'lasso', 'last', 'lastditch', 'lasted', 'lasting', 'lasvegasnikicom', 'latched', 'latching', 'late', 'late2002', 'lately', 'lateness', 'latent', 'later', 'latest', 'latex', 'latter', 'laugh', 'laughed', 'laughing', 'laughingstock', 'laughter', 'launch', 'launched', 'launcher', 'launching', 'laundered', 'launderer', 'laundromat', 'laureate', 'lava', 'lavafilled', 'law', 'lawabiding', 'lawbreaker', 'lawenforcement', 'lawful', 'lawless', 'lawman', 'lawn', 'lawsuit', 'lawyer', 'laxity', 'lay', 'layer', 'laying', 'laylow', 'lazerfist', 'lazy', 'lb', 'le', 'lead', 'leader', 'leadership', 'leading', 'leaf', 'league', 'leak', 'leaked', 'leaking', 'lean', 'leaned', 'leaning', 'leap', 'leaped', 'leaping', 'leapt', 'learn', 'learned', 'learning', 'learns', 'learnt', 'lease', 'leash', 'least', 'leather', 'leatherclad', 'leathery', 'leave', 'leaving', 'lecture', 'lectured', 'lecturer', 'led', 'ledge', 'ledger', 'leech', 'leeched', 'leechedoff', 'leeching', 'left', 'leftbehind', 'leftover', 'leftwing', 'leg', 'legacy', 'legal', 'legally', 'legend', 'legendary', 'legion', 'legislature', 'legitimacy', 'legitimate', 'legitimize', 'leisure', 'leisurely', 'lemming', 'lemon', 'lemonade', 'lend', 'lending', 'lends', 'length', 'lengthen', 'lengthened', 'lengthy', 'lens', 'lent', 'leopard', 'leper', 'lesbian', 'lesscosmic', 'lessened', 'lessening', 'lesser', 'lesson', 'lesspowerful', 'lest', 'let', 'lethal', 'lethally', 'lethargy', 'letout', 'letter', 'letting', 'leukemia', 'level', 'leveled', 'levelheaded', 'leveling', 'leverage', 'leveraged', 'leviathan', 'ley', 'liability', 'liaison', 'liar', 'libation', 'liberalthinking', 'liberate', 'liberated', 'liberates', 'liberating', 'liberation', 'liberty', 'librarian', 'library', 'license', 'licensed', 'lick', 'licking', 'lid', 'lie', 'lieKaras', 'lied', 'lieu', 'lieutenant', 'life', 'lifeShe', 'lifealtering', 'lifeambition', 'lifebearer', 'lifeboat', 'lifecycle', 'lifedraining', 'lifeenergy', 'lifeforce', 'lifeform', 'lifeforms', 'lifeit', 'lifeless', 'lifelike', 'lifelong', 'lifeloving', 'lifepod', 'lifesaving', 'lifespan', 'lifestyle', 'lifesupport', 'lifesustaining', 'lifethe', 'lifethreatening', 'lifetime', 'lifewitch', 'lift', 'lifted', 'lifting', 'light', 'light2', 'lightbased', 'lighted', 'lighten', 'lighter', 'lighthearted', 'lighthouse', 'lighting', 'lightly', 'lightning', 'lightningcharged', 'lightpowered', 'lightpowers', 'lightsaber', 'lightweight', 'lightyears', 'likable', 'like', 'liked', 'likelihood', 'likely', 'likeminded', 'likened', 'likeness', 'likening', 'likewise', 'liking', 'lily', 'limb', 'limbo', 'limbolike', 'limborealm', 'limelight', 'limit', 'limitation', 'limited', 'limiting', 'limitless', 'limo', 'limousine', 'limpet', 'limping', 'linage', 'linchpin', 'line', 'lineage', 'lined', 'lineman', 'lineup', 'linger', 'lingerie', 'lingering', 'linguist', 'linguistics', 'link', 'linkage', 'linked', 'linking', 'lion', 'lip', 'lipstick', 'liquefy', 'liquefying', 'liquid', 'liquor', 'list', 'listed', 'listen', 'listened', 'listener', 'listening', 'lit', 'litany', 'literal', 'literally', 'literature', 'lithium', 'little', 'liuetenants', 'live', 'liveaction', 'lived', 'liver', 'livid', 'living', 'lizard', 'lizardhybrid', 'lizardmen', 'llama', 'lnternational', 'load', 'loaded', 'loading', 'loan', 'loaned', 'loathed', 'lobbed', 'lobby', 'lobotomised', 'lobotomized', 'lobotomizes', 'lobotomizing', 'lobotomy', 'lobster', 'local', 'locale', 'localized', 'locally', 'locate', 'located', 'locates', 'locating', 'locatiobns', 'location', 'lock', 'locked', 'locker', 'locket', 'locking', 'locomotive', 'lodge', 'lodged', 'lodger', 'lodging', 'loft', 'log', 'logged', 'logic', 'logical', 'logo', 'lol', 'lone', 'loneliness', 'lonely', 'loner', 'lonesome', 'long', 'longa', 'longassociates', 'longdead', 'longdeserved', 'longdestroyed', 'longdistance', 'longdormant', 'longed', 'longer', 'longest', 'longevity', 'longheld', 'longing', 'longlived', 'longlost', 'longrange', 'longranged', 'longsince', 'longstanding', 'longsuppressed', 'longterm', 'longthought', 'longtime', 'longunrequited', 'look', 'lookalike', 'looked', 'looking', 'lookout', 'loop', 'loophole', 'loose', 'loosed', 'looseknit', 'loosely', 'looser', 'loosing', 'loot', 'looted', 'looter', 'looting', 'lord', 'lordship', 'lore', 'lose', 'loser', 'loses', 'losing', 'loss', 'lost', 'lot', 'lotion', 'lottery', 'lotus', 'loud', 'louder', 'loudly', 'loudmouthed', 'louse', 'lousy', 'love', 'loveFor', 'loveable', 'loved', 'lovehate', 'loveinterest', 'loveless', 'lovely', 'lover', 'loverturnedenemy', 'lovewith', 'loving', 'low', 'lowdown', 'lower', 'lowered', 'lowest', 'lowlevel', 'lowlies', 'lowly', 'loworder', 'lowpaid', 'lowprofile', 'lowranking', 'loyal', 'loyalist', 'loyally', 'loyalty', 'lubricant', 'lubrication', 'lucid', 'lucidity', 'luck', 'luckily', 'luckless', 'lucky', 'lucrative', 'luggage', 'luminary', 'luminescence', 'lunar', 'lunartriggered', 'lunatic', 'lunch', 'lung', 'lunge', 'lure', 'lured', 'luring', 'lurked', 'lurking', 'lurks', 'lush', 'lust', 'lusted', 'luxury', 'lycan', 'lying', 'lynch', 'macaque', 'mace', 'machete', 'machination', 'machine', 'machinery', 'machinist', 'mad', 'maddened', 'madder', 'made', 'madeunaware', 'madman', 'madness', 'madness5', 'madwoman', 'maelstrom', 'maester', 'mafia', 'mafioso', 'mafiososbut', 'magazine', 'mage', 'mages', 'maggot', 'magic', 'magicabsorbing', 'magical', 'magically', 'magician', 'magick', 'magicks', 'magicmetas', 'magicusers', 'magistrate', 'magma', 'magnate', 'magnesium', 'magnet', 'magnetic', 'magnetically', 'magneticallypolarized', 'magneticallypowered', 'magnetism', 'magnetized', 'magnetizing', 'magnetosphere', 'magnificent', 'magnified', 'magnify', 'magnitude', 'magus', 'maid', 'maiden', 'mail', 'mailbox', 'mailed', 'mailman', 'mailroom', 'maim', 'maimed', 'maiming', 'main', 'mainframe', 'mainland', 'mainlined', 'mainly', 'mainstay', 'mainstream', 'maintain', 'maintained', 'maintaining', 'maintains', 'maintenance', 'majesty', 'major', 'majored', 'majority', 'make', 'maker', 'makeshift', 'makeup', 'making', 'malady', 'malcontent', 'male', 'malevolence', 'malevolent', 'malfunction', 'malfunctioned', 'malfunctioning', 'malice', 'malicious', 'malignant', 'mall', 'malleable', 'malt', 'mammal', 'mammoth', 'man', 'manacle', 'manage', 'managed', 'management', 'manager', 'manages', 'managing', 'manbeast', 'mancrafted', 'mandate', 'mandated', 'mandatory', 'maneuver', 'maneuverability', 'maneuvering', 'manga', 'mangle', 'mangled', 'manhater', 'manhole', 'manhood', 'manhunt', 'manhunting', 'manhuntress', 'mania', 'maniac', 'maniacal', 'maniacally', 'manic', 'manifest', 'manifestation', 'manifested', 'manifesting', 'manipulate', 'manipulated', 'manipulates', 'manipulating', 'manipulation', 'manipulative', 'manipulator', 'mankind', 'manlizard', 'manned', 'mannequin', 'manner', 'mannerism', 'manor', 'manpower', 'manservant', 'mansion', 'manslaughter', 'manta', 'mantaining', 'mantalike', 'mantel', 'mantle', 'mantra', 'manual', 'manually', 'manufacture', 'manufactured', 'manufacturer', 'manufacturere', 'manufacturing', 'many', 'map', 'mapped', 'marauder', 'march', 'marched', 'marginalized', 'marginally', 'marijuana', 'marine', 'mariner', 'marionette', 'marital', 'mark', 'marked', 'marker', 'market', 'marketing', 'marking', 'marksman', 'marksmanship', 'maroon', 'marred', 'marriage', 'married', 'marries', 'marry', 'marrying', 'marsh', 'martial', 'martian', 'martyr', 'marvel', 'marveling', 'mascot', 'mask', 'maskactivating', 'masked', 'maskhunter', 'masking', 'masonry', 'masquerade', 'masqueraded', 'masquerading', 'mass', 'massacre', 'massacred', 'massacring', 'massage', 'massaging', 'masse', 'masshallucination', 'massive', 'massively', 'massproduced', 'mast', 'master', 'mastered', 'masterful', 'mastering', 'mastermind', 'masterminded', 'masterpiece', 'mastery', 'match', 'matched', 'matching', 'mate', 'mated', 'mater', 'material', 'materialist', 'materialize', 'materialized', 'materializes', 'materializing', 'maternal', 'math', 'mathematical', 'mathematics', 'mating', 'matriarch', 'matriculated', 'matrix', 'matron', 'matronly', 'matt', 'matter', 'mattered', 'mattermanipulation', 'mattertransforming', 'maturation', 'mature', 'matured', 'maturing', 'maturity', 'maul', 'mauling', 'maverick', 'max', 'maximize', 'maximum', 'maximumsecurity', 'may', 'maybe', 'mayhem', 'mayor', 'mayoralty', 'maze', 'meager', 'meal', 'mean', 'meandered', 'meandering', 'meaning', 'meaningful', 'meaningless', 'meant', 'meantime', 'meanwhile', 'measure', 'measuring', 'meat', 'mech', 'mechanic', 'mechanical', 'mechanically', 'mechaniloid', 'mechanism', 'mechanized', 'mechansim', 'mechs', 'med', 'medal', 'medallion', 'meddling', 'mediafriendly', 'mediasavvy', 'mediator', 'medic', 'medical', 'medicallyinduced', 'medicalnin', 'medicated', 'medicinal', 'medicine', 'medieval', 'meditating', 'meditation', 'meditative', 'medium', 'meek', 'meening', 'meet', 'meeting', 'mega', 'megalomaniacal', 'megapowerful', 'meglomanical', 'melancholy', 'meld', 'melded', 'melee', 'mellow', 'melt', 'meltdown', 'melted', 'melting', 'meltmassif', 'member', 'membership', 'memento', 'memoir', 'memorabilia', 'memorable', 'memorial', 'memoriesfled', 'memory', 'men', 'menace', 'menaced', 'menacing', 'mend', 'mended', 'mending', 'menial', 'mental', 'mentalist', 'mentality', 'mentall', 'mentally', 'mentallycontrolled', 'mentallyinfluenced', 'mentiod', 'mention', 'mentioned', 'mentioning', 'mentor', 'mentored', 'mentoring', 'mentorship', 'mentorteacher', 'mentorís', 'menu', 'merc', 'mercanaries', 'mercantile', 'mercenary', 'mercenaryforhire', 'merchandise', 'merchandising', 'merchant', 'merciful', 'mercifully', 'merciless', 'mercilessly', 'mercury', 'mercwithamouth', 'mercy', 'mercykill', 'mercykilling', 'merdoc', 'mere', 'merely', 'merge', 'merged', 'merger', 'merges', 'merging', 'merit', 'mermaid', 'mermenlike', 'mesh', 'mesmeric', 'mesmerize', 'mesmerized', 'mess', 'message', 'messaged', 'messed', 'messedup', 'messenger', 'messiah', 'messianic', 'messing', 'messy', 'met', 'met1', 'meta', 'metabolism', 'metabolized', 'metagene', 'metagorilla', 'metahuman', 'metahumanity', 'metahumans', 'metal', 'metaldisintegrating', 'metallic', 'metallo', 'metallurgy', 'metamophosis', 'metamorph', 'metamorphed', 'metamorphs', 'metaphor', 'metaphysical', 'metaplague', 'metas', 'meteor', 'meteoric', 'meteorite', 'meter', 'meth', 'method', 'methodology', 'metor', 'metropolitan', 'mettle', 'mewlings', 'mexico', 'micro', 'microbe', 'microchip', 'microscale', 'microscannerInvited', 'microscopic', 'microtransistor', 'microverse', 'microverses', 'microwave', 'microwavebased', 'mid', 'mid1920s', 'mid1930s', 'mid1950s', 'mid1980s', 'mid19th', 'mid30th', 'midair', 'midclass', 'middle', 'middleaged', 'middleschool', 'midflight', 'midlate', 'midlife', 'midnight', 'midprocedure', 'midst', 'midway', 'midwestern', 'midwife', 'midwifery', 'might', 'mightiest', 'mighty', 'migraine', 'migrated', 'migrating', 'migration', 'migratory', 'mild', 'mildly', 'mildmannered', 'mile', 'milicious', 'militant', 'militaristic', 'militarized', 'military', 'militia', 'militiaman', 'milk', 'mill', 'millenia', 'millennialong', 'millenniaold', 'millennium', 'million', 'millionaire', 'millionare', 'mimetic', 'mimic', 'mimicing', 'mimicked', 'mimicking', 'mind', 'mindaltering', 'mindcontrol', 'mindcontrolled', 'mindcontrolling', 'mindcontrols', 'minddomination', 'minded', 'mindinfluencing', 'mindless', 'mindprobed', 'mindreading', 'mindset', 'mindtransfer', 'mindwipe', 'mindwiped', 'mindwiping', 'mine', 'miner', 'mineral', 'mini', 'miniature', 'miniaturize', 'miniaturized', 'minicape', 'minimal', 'minimize', 'minimum', 'minineutron', 'mining', 'minion', 'miniseries', 'minister', 'miniteleporter', 'miniwar', 'minor', 'minority', 'minus', 'minute', 'miracle', 'miraclo', 'miraculous', 'miraculously', 'mire', 'mirror', 'mirrorKeystone', 'mirrored', 'mirroring', 'miscalculated', 'miscalculation', 'miscarriage', 'miscarried', 'miscast', 'mischief', 'mischievous', 'misconception', 'misconduct', 'miscreant', 'misdeed', 'misdeeds26', 'misdiagnosed', 'misdirection', 'miserable', 'miserably', 'miserly', 'misery', 'misfit', 'misfortune', 'misgiving', 'misguided', 'mishap', 'misinformation', 'misinterpreting', 'misjudged', 'mislead', 'misled', 'misplaced', 'misread', 'miss', 'missed', 'missile', 'missing', 'missingnin', 'missingthe', 'mission', 'missionary', 'missions7', 'missionsso', 'misspoke', 'mist', 'mistake', 'mistaken', 'mistakenly', 'mistaking', 'mistook', 'mistreated', 'mistreatment', 'mistress', 'mistrust', 'mistrusted', 'mistrustful', 'misty', 'misunderstanding', 'misunderstood', 'misuse', 'misused', 'mitigated', 'mitochondrial', 'mix', 'mixed', 'mixing', 'mixmatched', 'mixture', 'mkII', 'mm', 'mnemonic', 'mob', 'mobile', 'mobilize', 'mobilized', 'mobster', 'mock', 'mocked', 'mocking', 'mockingly', 'mocktrial', 'mode', 'model', 'modeled', 'modeling', 'moderate', 'moderator', 'modern', 'modernday', 'modernera', 'moderntime', 'modest', 'modesty', 'modification', 'modified', 'modify', 'modifying', 'module', 'modus', 'mogul', 'moistened', 'moisture', 'mold', 'molded', 'molding', 'mole', 'molecular', 'molecularly', 'molecule', 'molest', 'molestation', 'molested', 'molester', 'molted', 'molten', 'molybdenumcobalt', 'mom', 'moment', 'momentarily', 'momentary', 'momentum', 'mommy', 'monarch', 'monarchy', 'monastery', 'monetary', 'money', 'moneyhungry', 'mongrel', 'monicker', 'moniker', 'monitor', 'monitored', 'monitoring', 'monk', 'monkey', 'monomania', 'monomaniacal', 'monopolize', 'monopolized', 'monopoly', 'monorail', 'monotonous', 'monotony', 'monster', 'monsterbut', 'monstersIt', 'monstrosity', 'monstrous', 'montage', 'month', 'monthly', 'months30', 'monthslong', 'monument', 'monumental', 'mood', 'moodshifts', 'moody', 'moon', 'moonlighted', 'moonlighting', 'moonlit', 'moonsized', 'moonstone', 'mooring', 'moped', 'moping', 'mopup', 'moral', 'morale', 'moralist', 'morality', 'morally', 'morass', 'moreadvanced', 'moreover', 'morghulis', 'morgue', 'morlock', 'morn', 'morning', 'morose', 'morph', 'morphed', 'morphing', 'morphogenetic', 'morphs', 'mort', 'mortal', 'mortality', 'mortally', 'mortgaged', 'mortified', 'mosaic', 'mosque', 'mosquito', 'mostly', 'mostlyabandoned', 'motel', 'mother', 'motherKatherines', 'motherfigure', 'mothering', 'mothership', 'mothersister', 'motherwho', 'motif', 'motion', 'motivated', 'motivating', 'motivation', 'motivational', 'motive', 'motley', 'motor', 'motorbike', 'motorcycle', 'motorcycleriding', 'motto', 'mould', 'mound', 'mount', 'mountain', 'mountainous', 'mounted', 'mounting', 'mourn', 'mourned', 'mourning', 'mourns', 'mouse', 'mousePhantom', 'mouth', 'mouthtomouth', 'move', 'moved', 'movement', 'movie', 'moving', 'mowing', 'mph', 'much', 'muchaco', 'muchdeserved', 'muchloathed', 'muchneeded', 'mucus', 'mud', 'mudbeing', 'mudthing', 'muffled', 'mugged', 'mugger', 'mugging', 'mule', 'mullet', 'multiarmed', 'multibillion', 'multibillionaire', 'multifaceted', 'multifront', 'multihero', 'multilayered', 'multimillionaire', 'multinational', 'multipart', 'multiple', 'multiplied', 'multiply', 'multisensory', 'multispecies', 'multistory', 'multitude', 'multiversal', 'multiverse', 'multiverses', 'mummer', 'mummy', 'mundane', 'munition', 'mural', 'muramasai', 'murder', 'murdered', 'murderer', 'murdering', 'murderous', 'murderuous', 'muscle', 'musclebound', 'muscled', 'muscular', 'musculature', 'mused', 'museum', 'museumworlds', 'mushing', 'mushroom', 'music', 'musical', 'musically', 'musician', 'musing', 'must', 'muster', 'mustered', 'mustve', 'mutagenic', 'mutant', 'mutantdetecting', 'mutantdominated', 'mutantfriendly', 'mutantharvesting', 'mutanthaters', 'mutanthood', 'mutanthuman', 'mutanthunter', 'mutanthunting', 'mutantkilling', 'mutantkind', 'mutantrelated', 'mutantthemed', 'mutate', 'mutated', 'mutates', 'mutating', 'mutation', 'mute', 'muted', 'mutie', 'mutilated', 'mutilation', 'mutinied', 'mutter', 'mutual', 'mutually', 'myostatin', 'myriad', 'myspace', 'mysterious', 'mysteriously', 'mystery', 'mysterymen', 'mystic', 'mystical', 'mystically', 'mysticallyempowered', 'mysticism', 'myth', 'mythic', 'mythological', 'ménage', 'n', 'nabbing', 'nadir', 'nagging', 'nail', 'nailed', 'naive', 'naively', 'naivety', 'naked', 'name', 'nameSlayerInterruptedSlayer', 'named', 'nameless', 'namely', 'namesake', 'naming', 'naniteinfected', 'nanitemutated', 'nanites', 'nannites', 'nanny', 'nanobots', 'nanocellular', 'nanofibers', 'nanomachines', 'nanonytes', 'nanotech', 'nanotechnology', 'nanovirus', 'nap', 'napalm', 'napping', 'narcissism', 'narcoleptic', 'narcotic', 'narrated', 'narrative', 'narrator', 'narrow', 'narrowed', 'narrowly', 'nascent', 'nasty', 'nation', 'national', 'nationalist', 'nationality', 'nationwide', 'native', 'natural', 'naturally', 'nature', 'natured', 'naught', 'naval', 'navel', 'navigate', 'navigated', 'navigation', 'navigator', 'navy', 'naysayer', 'naïve', 'naďve', 'nd', 'near', 'nearanimal', 'nearby', 'nearcatatonia', 'nearconstant', 'nearcosmic', 'neardeath', 'neardestruction', 'neared', 'nearer', 'nearest', 'nearfatal', 'nearfatally', 'nearferal', 'nearfever', 'nearfoster', 'nearimmortal', 'nearimmortality', 'nearinescapable', 'nearinfinite', 'nearing', 'nearinvulnerable', 'nearlight', 'nearly', 'nearlydestroyed', 'nearmad', 'nearmindless', 'nearperfection', 'nearsuperhuman', 'neartakeover', 'nearunbreakable', 'nearunstoppable', 'nearvegetable', 'nebula', 'necessarily', 'necessary', 'necessitated', 'necessity', 'neck', 'necklace', 'necktoneck', 'necromancy', 'necroplasm', 'necroplasmic', 'necropolis', 'necropolitans', 'necrotic', 'necrotoxin', 'need', 'needed', 'neededWhile', 'needing', 'needle', 'needtoknow', 'needy', 'nefarious', 'negabands', 'negate', 'negated', 'negating', 'negation', 'negative', 'negatively', 'negator', 'neglect', 'neglected', 'neglectful', 'neglecting', 'negligence', 'negligent', 'negotiate', 'negotiated', 'negotiates', 'negotiating', 'negotiation', 'neighbor', 'neighbored', 'neighborhood', 'neighboring', 'neither', 'neithers', 'nemesis', 'neoNazi', 'neoNazis', 'neon', 'neophyte', 'nephew', 'nerve', 'nervous', 'nervously', 'nervousness', 'nest', 'nestled', 'net', 'nether', 'netherworld', 'netherworldly', 'network', 'neural', 'neuraldisruptive', 'neuralnet', 'neurodegenerative', 'neurogas', 'neurologyexempt', 'neurosis', 'neurosurgeon', 'neurosurgery', 'neurotechnology', 'neurotic', 'neurotoxin', 'neutral', 'neutralize', 'neutralized', 'neutralizers', 'neutralizes', 'neutralizing', 'neutromist', 'never', 'neverending', 'nevertheless', 'new', 'newFirestorm', 'newagers', 'newborn', 'newcomer', 'newer', 'newest', 'newfound', 'newhero', 'newly', 'newlyactivated', 'newlybuilt', 'newlycreated', 'newlyempowered', 'newlyformed', 'newlyfounded', 'newlyfreed', 'newlygained', 'newlyinducted', 'newlypowerful', 'newlyrebuilt', 'newlyrefurbished', 'newlyregrown', 'newlyrestored', 'newlyresurrected', 'newlyrevived', 'newlystarted', 'newlywed', 'news', 'newscaster', 'newspaper', 'next', 'nextdoorneighbor', 'nexus', 'nice', 'nicely', 'nick', 'nickname', 'nicknamed', 'nicknaming', 'niece', 'nigh', 'nighmystic', 'night', 'night23', 'nightbut', 'nightclub', 'nightly', 'nightmare', 'nightmaresdreams', 'nightmarish', 'nightspot', 'nighttime', 'nighuncontainable', 'nihilism', 'nihilistic', 'nihilisticfeeling', 'nil', 'nine', 'nineteen', 'nineteenth', 'ninety', 'ninja', 'ninjalord', 'ninjitsu', 'ninth', 'nirvana', 'nitrogen', 'nix', 'nixed', 'nn', 'nobility', 'noble', 'nobleborn', 'nobleman', 'nobody', 'nocturnal', 'nohitter', 'noir', 'noise', 'nokill', 'nolonger', 'nom', 'nomad', 'nomadic', 'nominal', 'nominally', 'nominated', 'non', 'nonEuropeans', 'nonInhumans', 'nonMaggia', 'nonPatriot', 'nonaggression', 'nonbelief', 'noncanon', 'nonconstructive', 'noncontemporary', 'none', 'nonetheless', 'nonexistence', 'nonexistent', 'nonfounding', 'nonfunctional', 'nonheroic', 'noninterference', 'nonlethal', 'nonlinear', 'nonmanipulated', 'nonmasked', 'nonmember', 'nonmutant', 'nonmystic', 'nonnatural', 'nonnetworked', 'nonorganic', 'nonpowered', 'nonprofit', 'nonrequisition', 'nonsense', 'nonstop', 'nonsuperhero', 'nonteam', 'nonteammates', 'nonviolence', 'noone', 'noones', 'noose', 'norm', 'normal', 'normalcy', 'normality', 'normallooking', 'normally', 'normalsized', 'north', 'northbut', 'northeast', 'northeastern', 'northern', 'northward', 'nose', 'nosebleed', 'noshows', 'nostalgia', 'notable', 'notably', 'notch', 'note', 'notebook', 'noted', 'noteworthy', 'nothing', 'nothingness', 'notice', 'noticeably', 'noticed', 'noticing', 'notified', 'notify', 'noting', 'notion', 'notoriety', 'notorious', 'notoriousity', 'nourishing', 'nova', 'novel', 'novelist', 'novelty', 'novice', 'novitiate', 'nowabandoned', 'nowdead', 'nowdefunct', 'nowempty', 'nowenhanced', 'nowenlightened', 'nowestranged', 'nowgigantic', 'nowgrown', 'nowhere', 'nowliquid', 'nowmindless', 'nowpowerful', 'nowpowerless', 'nowraw', 'nowredeemed', 'nowrenegade', 'nowrogue', 'nowsavage', 'nowsignature', 'nowvegetative', 'nowwithered', 'nox', 'nuclear', 'nucleararmed', 'nuclearsafe', 'nucleus', 'nude', 'nudge', 'nudged', 'nuisance', 'nuke', 'nuked', 'nuking', 'null', 'nullified', 'nullifier', 'nullify', 'nullifying', 'numb', 'number', 'numbered', 'numeral', 'numerous', 'nuptials', 'nurse', 'nurseassistant', 'nursed', 'nursephysical', 'nursery', 'nursing', 'nut', 'nutrient', 'nutrition', 'nutritionist', 'nymphlike', 'oafish', 'oath', 'obedience', 'obedient', 'obese', 'obesity', 'obey', 'obeyed', 'object', 'objected', 'objection', 'objective', 'objectively', 'obligated', 'obligation', 'obliged', 'obliges', 'obliterate', 'obliterated', 'obliterates', 'obliterating', 'oblivion', 'oblivious', 'obnoxious', 'obnoxiousness', 'obscenity', 'obscure', 'obscured', 'obscuring', 'obscurity', 'observation', 'observatory', 'observe', 'observed', 'observes', 'observing', 'obsessed', 'obsession', 'obsessive', 'obsessiveness', 'obsolete', 'obssessed', 'obstacle', 'obstinate', 'obstination', 'obstructed', 'obtain', 'obtained', 'obtaining', 'obtains', 'obvious', 'obviously', 'occasion', 'occasional', 'occasionally', 'occassion', 'occult', 'occultism', 'occultist', 'occupant', 'occupation', 'occupied', 'occupiedUnited', 'occupies', 'occupying', 'occur', 'occured', 'occurred', 'occurrence', 'occurring', 'occurs', 'ocean', 'oceandwelling', 'oceangoing', 'oceanographer', 'oceanous', 'oclock', 'octopus', 'odd', 'odds', 'odyssey', 'ofVolstagg', 'offcourse', 'offended', 'offender', 'offense', 'offensive', 'offer', 'offered', 'offering', 'offguard', 'offhand', 'office', 'officer', 'official', 'officially', 'offlimit', 'offlimits', 'offline', 'offplanet', 'offscreen', 'offset', 'offshoot', 'offshore', 'offspring', 'often', 'oftenbizarre', 'ogranisms', 'oil', 'oilrich', 'okay', 'ol', 'old', 'older', 'oldest', 'oldher', 'omega', 'ominous', 'omit', 'omitting', 'omnicidal', 'omnipotence', 'omnipotent', 'omniscient', 'omniwave', 'onandoff', 'onboard', 'oncampus', 'oncefamous', 'oncemembers', 'oncemore', 'oncenotorious', 'oncepacified', 'oncologist', 'oncoming', 'one', 'onedimensionaltemporal', 'oneera', 'onehundred', 'oneman', 'onenight', 'oneonone', 'onepercenters', 'oneseater', 'oneshot', 'onesided', 'onethird', 'onetime', 'onetrack', 'oneup', 'oneway', 'onewoman', 'oneyear', 'oneís', 'onfoot', 'ongoing', 'online', 'onlooker', 'onomatopoeia', 'onpanel', 'onscreen', 'onset', 'onslaught', 'onstage', 'onto', 'onward', 'ooze', 'open', 'openarms', 'opencircuit', 'opened', 'opening', 'openly', 'openness', 'opera', 'operandi', 'operate', 'operated', 'operates', 'operating', 'operation', 'operational', 'operationsAs', 'operative', 'operator', 'opinion', 'opium', 'opponants', 'opponent', 'opportune', 'opportunist', 'opportunity', 'oppose', 'opposed', 'opposing', 'opposite', 'opposition', 'oppress', 'oppressed', 'oppression', 'oppressive', 'oppressor', 'ops', 'opt', 'opted', 'optic', 'optimism', 'optimistic', 'optimum', 'opting', 'option', 'optional', 'optioned', 'opts', 'opulence', 'opulent', 'oracle', 'orange', 'orangeandblue', 'orangecostumed', 'oratory', 'orb', 'orbit', 'orbital', 'orbited', 'orbiting', 'orchestrate', 'orchestrated', 'orchestrating', 'orcs', 'ordained', 'ordeal', 'ordealhad', 'order', 'ordered', 'ordering', 'orderly', 'ordinary', 'ordnance', 'organ', 'organic', 'organisation', 'organised', 'organises', 'organism', 'organization', 'organizational', 'organizationís', 'organize', 'organized', 'organizer', 'organizes', 'organizing', 'orginal', 'orientation', 'oriented', 'origan', 'origin', 'origina', 'original', 'originally', 'originate', 'originated', 'originating', 'orignally', 'ornament', 'ornithological', 'orphan', 'orphanage', 'orphaned', 'oscillotron', 'ossification', 'ostenisbly', 'ostensibly', 'ostracized', 'ot', 'otherdimension', 'otherdimensional', 'otherdimertsional', 'others', 'otherwise', 'otherwiseinvulnerable', 'otherworldly', 'otter', 'ought', 'ounce', 'oust', 'ousted', 'ousting', 'outDiana', 'outage', 'outback', 'outbidding', 'outboard', 'outbreak', 'outburst', 'outcast', 'outclassed', 'outclassing', 'outcome', 'outcry', 'outdated', 'outdone', 'outdoor', 'outed', 'outer', 'outerspace', 'outfit', 'outfitted', 'outfitting', 'outflew', 'outfought', 'outgoing', 'outgrew', 'outgrow', 'outing', 'outlasting', 'outlaw', 'outlawed', 'outlawing', 'outlet', 'outlined', 'outlived', 'outlook', 'outmaneuver', 'outmaneuvers', 'outmatched', 'outnumbered', 'outnumbers', 'outofcontrol', 'outoftown', 'outofwhack', 'outpost', 'outrace', 'outraced', 'outrage', 'outraged', 'outrageous', 'outraging', 'outranked', 'outreach', 'outright', 'outrun', 'outruns', 'outset', 'outside', 'outsider', 'outskirt', 'outsmart', 'outsmarted', 'outspoken', 'outstanding', 'outstretched', 'outstretching', 'outward', 'outwardly', 'outweighed', 'outwitted', 'outworld', 'oven', 'overall', 'overambitious', 'overand', 'overarching', 'overbearing', 'overboard', 'overcame', 'overcharged', 'overcome', 'overcomes', 'overcoming', 'overcompensate', 'overdose', 'overdosed', 'overdosing', 'overeager', 'overexertion', 'overexerts', 'overflowing', 'overgrown', 'overgrowth', 'overhead', 'overheard', 'overhearing', 'overhears', 'overheated', 'overjoyed', 'overlap', 'overlapped', 'overload', 'overloaded', 'overloading', 'overlook', 'overlooked', 'overlooking', 'overlord', 'overly', 'overnight', 'overpatriotic', 'overpower', 'overpowered', 'overpowered18', 'overpowering', 'overpowers', 'overprotective', 'overprotectiveness', 'overran', 'overrated', 'overridden', 'override', 'overriding', 'overrode', 'overruled', 'overruling', 'overrun', 'overrunning', 'oversaw', 'overseas', 'oversee', 'overseeing', 'overseen', 'overshadowing', 'oversight', 'oversized', 'overstayed', 'overstepped', 'overtake', 'overtaken', 'overthrew', 'overthrow', 'overthrowing', 'overthrown', 'overtime', 'overtly', 'overtone', 'overture', 'overturning', 'overuse', 'overweight', 'overwhelm', 'overwhelmed', 'overwhelming', 'overworked', 'overworld', 'overwritten', 'overwrote', 'overzealous', 'owe', 'owed', 'owing', 'owl', 'owlshaped', 'owned', 'owner', 'ownership', 'owning', 'owns', 'ox', 'oxygen', 'pace', 'pacemaker', 'pacemakerlike', 'pachyceph', 'pacifist', 'pacifistic', 'pacify', 'pack', 'package', 'packaging', 'packed', 'packet', 'packing', 'pact', 'padded', 'paedophile', 'pagan', 'page', 'paid', 'pain', 'pained', 'painful', 'painfully', 'painlessly', 'paint', 'painted', 'painter', 'painting', 'pair', 'paired', 'pal', 'palace', 'pale', 'palm', 'pandemic', 'pandemonium', 'panel', 'pangalactic', 'panic', 'panicked', 'panicking', 'panicky', 'panoramic', 'pant', 'pantheon', 'panther', 'paper', 'paperwork', 'parachute', 'parachuted', 'parachuting', 'parade', 'parademons', 'paradise', 'paradiselike', 'paradox', 'parallel', 'paralysis', 'paralyze', 'paralyzed', 'paralyzer', 'paralyzing', 'paramedic', 'paramesh', 'parameshed', 'parameter', 'paramilitary', 'paramour', 'paranoia', 'paranoid', 'paranormal', 'parapalegic', 'parapelegic', 'paraphernalia', 'paraplegic', 'parapsychology', 'parasite', 'parasitesShe', 'parasitic', 'parasychology', 'paratrooper', 'parcel', 'pardon', 'pardoned', 'parent', 'parentage', 'parental', 'parenting', 'parentsHowever', 'pariah', 'parishioner', 'park', 'parkup', 'parlaying', 'parley', 'parliament', 'parlor', 'parlour', 'parody', 'parole', 'paroled', 'parrot', 'part', 'partake', 'parted', 'partial', 'partially', 'participant', 'participate', 'participated', 'participates', 'participating', 'participation', 'particle', 'particular', 'particularly', 'particulate', 'partied', 'partiers', 'parting', 'partly', 'partner', 'partnered', 'partnerincrime', 'partnering', 'partnership', 'partook', 'parttime', 'partvampire', 'party', 'partyThe', 'partygoer', 'pas', 'pass', 'passable', 'passage', 'passcodes', 'passed', 'passenger', 'passing', 'passingout', 'passion', 'passionate', 'passionately', 'passive', 'passively', 'passivity', 'passport', 'password', 'past', 'past8', 'pastiche', 'pastor', 'patch', 'patched', 'patching', 'patent', 'patented', 'paternal', 'paternity', 'path', 'pathetic', 'pathetically', 'pathogen', 'pathological', 'pathway', 'patience', 'patient', 'patiently', 'patientsA', 'patriarch', 'patriotic', 'patrioticthemed', 'patrol', 'patrolled', 'patrolling', 'patrolman', 'patron', 'patronage', 'patroned', 'patronized', 'pattern', 'pause', 'paused', 'paved', 'paving', 'pawn', 'pawned', 'pay', 'payback', 'paycheck', 'payed', 'paying', 'payload', 'payment', 'payroll', 'peace', 'peaceful', 'peacefully', 'peacekeeper', 'peacekeeping', 'peaceloving', 'peacemaker', 'peak', 'peasant', 'peculiarlooking', 'pederast', 'pedophile', 'peel', 'peer', 'peeved', 'pelican', 'pellet', 'pelted', 'pelvis', 'pen', 'penal', 'penance', 'penchant', 'pendant', 'pending', 'penetrate', 'penetrated', 'penetrates', 'penetrating', 'penetration', 'penguin', 'penicillin', 'peninsula', 'penitent', 'penitentiary', 'pennance', 'penniless', 'pentagram', 'pentagramshaped', 'penthouse', 'penultimate', 'people', 'pep', 'peppered', 'per', 'perceive', 'perceived', 'perceives', 'percent', 'perception', 'percieve', 'perennial', 'perfect', 'perfected', 'perfection', 'perfectly', 'perform', 'performance', 'performanceenhancing', 'performed', 'performer', 'performing', 'performs', 'perfuming', 'perhaps', 'peril', 'perilous', 'perilously', 'perimeter', 'period', 'periodic', 'periodically', 'perish', 'perished', 'perishes', 'perjure', 'permanant', 'permanately', 'permanent', 'permanently', 'permission', 'permit', 'permitted', 'permitting', 'permutation', 'perpetrated', 'perpetrator', 'perpetual', 'perpetually', 'perpetuallydepressed', 'perpetuated', 'perpetuating', 'perpetuity', 'perplexed', 'persecute', 'persecuted', 'persecution', 'persecutor', 'perseverance', 'persevered', 'persist', 'persisted', 'persistence', 'persistent', 'persistently', 'person', 'persona', 'personal', 'personality', 'personalityWaller', 'personally', 'personifcation', 'personification', 'personified', 'personnel', 'personís', 'perspective', 'persuade', 'persuaded', 'persuades', 'persuading', 'persuasion', 'pertains', 'peruse', 'perverse', 'pervert', 'pestering', 'pestilence', 'pet', 'petabyte', 'petitioned', 'petitioning', 'petrified', 'petrol', 'petty', 'phalanx', 'phantom', 'pharaoh', 'pharmaceutical', 'phase', 'phased', 'phasing', 'phenomenal', 'phenomenon', 'pheromone', 'philandering', 'philanthropic', 'philanthropist', 'philosopher', 'philosophical', 'philosophy', 'phobics', 'phoenix', 'phone', 'phoned', 'phony', 'photo', 'photograph', 'photographer', 'photographic', 'photography', 'photojournalist', 'phrase', 'phrased', 'physic', 'physical', 'physicality', 'physically', 'physician', 'physicist', 'physiological', 'physiology', 'physique', 'piano', 'pick', 'picked', 'picking', 'pickpocket', 'picnic', 'picture', 'pictured', 'pie', 'piece', 'pier', 'pierce', 'pierced', 'pig', 'pigeon', 'piggybacking', 'pigtail', 'pike', 'pile', 'pileup', 'pilfered', 'pilgrimage', 'piling', 'pill', 'pillage', 'pillaged', 'pillar', 'pilot', 'piloted', 'piloting', 'pimp', 'pin', 'pink', 'pinky', 'pinned', 'pinning', 'pinpoint', 'pinup', 'pioneer', 'pipe', 'pique', 'piquing', 'piracy', 'piranha', 'pirate', 'piratethemed', 'piss', 'pistol', 'pit', 'pitch', 'pitched', 'pitcher', 'pitching', 'pitted', 'pitting', 'pity', 'pitying', 'pivot', 'pivotal', 'pizza', 'place', 'placed', 'placeholder', 'placeit', 'placement', 'placing', 'plague', 'plagued', 'plaguing', 'plain', 'plainclothes', 'plaintiff', 'plan', 'planPNG', 'plane', 'plane64', 'planeride', 'planet', 'planetFileAcotilletta2WWHulkjpg', 'planetary', 'planetaryscale', 'planetdestroying', 'planetdevourer', 'planetmoving', 'planetoid', 'planetside', 'planetsized', 'planetwide', 'planetís', 'planned', 'planning', 'plansStating', 'plant', 'plantation', 'plantbased', 'plantbeing', 'plantbeings', 'plantbody', 'planted', 'planthuman', 'planting', 'plantlife', 'plantlike', 'plantmonsters', 'plantreplicas', 'plantwide', 'plaque', 'plasma', 'plastic', 'plastique', 'plate', 'plateau', 'platform', 'platinum', 'platoon', 'plausible', 'play', 'playable', 'playboy', 'played', 'player', 'playful', 'playfully', 'playground', 'playing', 'playmate', 'plaything', 'plea', 'plead', 'pleaded', 'pleading', 'pleads', 'pleasant', 'pleasantly', 'pleasantry', 'please', 'pleased', 'pleasure', 'pled', 'pledge', 'pledged', 'pledging', 'plethora', 'pliable', 'plied', 'plight', 'plodding', 'plot', 'plotted', 'plotter', 'plotting', 'ploy', 'pluck', 'plucked', 'plucking', 'plug', 'plugged', 'plugging', 'plumber', 'plummet', 'plummeted', 'plummeting', 'plumper', 'plunder', 'plundering', 'plunge', 'plunged', 'plunging', 'plus', 'plush', 'plying', 'pm', 'pneumonia', 'poacher', 'pocket', 'pocketdimension', 'pod', 'podium', 'poem', 'poignant', 'point', 'pointblank', 'pointed', 'pointedly', 'pointer', 'pointing', 'pointless', 'pointy', 'poised', 'poison', 'poisoned', 'poisoner', 'poisoning', 'poisonous', 'poke', 'poking', 'polar', 'polarity', 'pole', 'police', 'policeman', 'policy', 'policymaking', 'polish', 'politely', 'political', 'politically', 'politician', 'politicized', 'politics', 'pollutant', 'pollute', 'polluted', 'polluting', 'pollution', 'polyalloy', 'polyalloys', 'polyester', 'polymath', 'polymimetic', 'polywater', 'pond', 'ponder', 'pondered', 'pondering', 'pool', 'pooled', 'pooling', 'poor', 'poorhouse', 'poorly', 'poozers', 'pop', 'popcorn', 'popped', 'populace', 'popular', 'popularity', 'populate', 'populated', 'population', 'populist', 'porch', 'pore', 'poring', 'pornographic', 'port', 'portal', 'portent', 'portentously', 'portion', 'portly', 'portrait', 'portrayed', 'portrays', 'pose', 'posed', 'posh', 'posing', 'position', 'positioned', 'positive', 'positively', 'positivematter', 'positronic', 'posse', 'possesed', 'possessed', 'possessing', 'possession', 'possessor', 'possessorís', 'possibility', 'possible', 'possiblefuture', 'possibly', 'possiblyresurrected', 'possum', 'post', 'post911', 'postBatman', 'postCrisis', 'postDoom', 'postDragon', 'postWWII', 'postapocalyptic', 'postapocalypticdystopian', 'postchildbirth', 'postcredit', 'posted', 'poster', 'postgraduate', 'posthumous', 'posthumously', 'posthypnotic', 'postinferno', 'posting', 'postmodern', 'postpone', 'postretirement', 'posture', 'posturing', 'postwar', 'pot', 'potara', 'potent', 'potential', 'potentially', 'potion', 'potionmaking', 'pouch', 'pound', 'pounded', 'pounding', 'pour', 'poured', 'pouring', 'poverty', 'povertystricken', 'powder', 'powdered', 'power', 'powerTo', 'powerabsorbing', 'powerbase', 'powercopying', 'powerdampening', 'powered', 'powerenhancing', 'powerful', 'powerfully', 'powerheightening', 'powerhouse', 'powerhungry', 'powering', 'powerless', 'powerlock', 'powermad', 'powerneutralizing', 'powernot', 'powerobject', 'powerone', 'powers1', 'powers15', 'powerseeking', 'powerset', 'powerup', 'pox', 'practical', 'practically', 'practice', 'practiced', 'practicing', 'practising', 'practitioner', 'praise', 'praised', 'praising', 'prank', 'pray', 'prayed', 'prayer', 'prayersDiana', 'praying', 'prays', 'preCataclysmic', 'preCrisis', 'preFlashpoint', 'preWorld', 'preach', 'preached', 'preacher', 'preaching', 'preadolescent', 'prebuilt', 'precarious', 'precaution', 'preceded', 'preceding', 'precinct', 'precious', 'precipitated', 'precise', 'precisely', 'precision', 'precocious', 'precognitive', 'precursor', 'predated', 'predating', 'predator', 'predatory', 'predecessor', 'predestination', 'predestined', 'predetermined', 'predicament', 'predict', 'predictable', 'predictably', 'predicted', 'prediction', 'predictive', 'predicts', 'predominantly', 'preemptive', 'preemptively', 'preexisting', 'prefer', 'preferable', 'prefered', 'preference', 'preferred', 'preferring', 'prefers', 'pregnancy', 'pregnant', 'prehensile', 'prehistoric', 'prehistory', 'preinstalled', 'prejudice', 'preluded', 'premature', 'prematurely', 'premed', 'premier', 'premiere', 'premise', 'premonition', 'preoccupied', 'preordered', 'prep', 'preparation', 'preparatory', 'prepare', 'prepared', 'prepares', 'preparing', 'prepped', 'prepping', 'preprogrammed', 'prepubescent', 'prequel', 'prescribed', 'prescription', 'presence', 'present', 'presentation', 'presentday', 'presented', 'presenting', 'presently', 'preservation', 'preserve', 'preserved', 'preserving', 'presided', 'presidency', 'president', 'presidential', 'presiding', 'press', 'pressed', 'pressing', 'pressure', 'pressured', 'pressuring', 'prestigious', 'presumable', 'presumably', 'presumed', 'preteen', 'pretence', 'pretend', 'pretended', 'pretender', 'pretending', 'pretense', 'pretension', 'preternatural', 'pretext', 'pretty', 'prevail', 'prevailed', 'prevent', 'prevented', 'preventing', 'prevention', 'prevents', 'previous', 'previously', 'previouslyseen', 'prey', 'preyed', 'price', 'priceless', 'pride', 'prided', 'prideful', 'pried', 'priest', 'priestCisco', 'priestess', 'priestlord', 'prim', 'primal', 'primarily', 'primarilyyellow', 'primary', 'prime', 'primer', 'primeval', 'primitive', 'primordial', 'prince', 'princess', 'principal', 'principally', 'principle', 'print', 'printed', 'prior', 'prioritize', 'prioritizing', 'priority', 'prism', 'prison', 'prisoner', 'privacy', 'private', 'privatefunded', 'privateinvestigation', 'privately', 'privilege', 'privileged', 'privy', 'prize', 'prized', 'pro', 'proactive', 'proactively', 'probability', 'probable', 'probably', 'probationary', 'probe', 'probed', 'problem', 'problematic', 'problemridden', 'probono', 'proccess', 'proceded', 'procedure', 'proceed', 'proceeded', 'proceeding', 'proceeds', 'process', 'processThe', 'processWaller', 'processing', 'procession', 'processor', 'proclaim', 'proclaimed', 'proclaimes', 'proclaiming', 'proclaims', 'proclamation', 'procure', 'procured', 'procuring', 'prod', 'prodded', 'prodding', 'prodigious', 'prodigy', 'produce', 'produced', 'producer', 'producing', 'product', 'production', 'productive', 'producttest', 'prof', 'professed', 'professes', 'professing', 'profession', 'profession19', 'professional', 'professor', 'professorFirestorms', 'professorship', 'proficiency', 'proficient', 'proficieny', 'profile', 'profiler', 'profit', 'profitable', 'profound', 'profusely', 'progenitor', 'progeny', 'program', 'programed', 'programme', 'programmed', 'programmer', 'programming', 'progress', 'progressed', 'progressing', 'progression', 'progressive', 'progressively', 'prohibitionclothing', 'prohumanity', 'project', 'projectable', 'projected', 'projectile', 'projecting', 'projection', 'projector', 'prolong', 'prolonged', 'prominence', 'prominent', 'prominently', 'promiscuity', 'promise', 'promised', 'promising', 'promote', 'promoted', 'promoter', 'promotion', 'prompt', 'prompted', 'prompting', 'promptly', 'promutant', 'prone', 'prong', 'pronounce', 'pronounced', 'pronouncing', 'proof', 'proofed', 'propaganda', 'propagate', 'propel', 'propelled', 'propelling', 'propensity', 'proper', 'properly', 'property', 'prophecy', 'prophesied', 'prophesized', 'prophesy', 'prophet', 'prophetess', 'prophetic', 'proportion', 'proportionate', 'proposal', 'propose', 'proposed', 'proposes', 'proposing', 'proposition', 'propositioned', 'propped', 'proprietor', 'proprietorship', 'propulsion', 'proregistration', 'prosecuted', 'prosecution', 'prosecutionCage', 'prosecutor', 'prospect', 'prospective', 'prosperity', 'prosperous', 'prosthesis', 'prosthetic', 'prostitute', 'prostitution', 'prot', 'protagonist', 'protect', 'protected', 'protecting', 'protection', 'protective', 'protector', 'protectress', 'protects', 'protege', 'protein', 'protest', 'protestation', 'protested', 'protester', 'protestor', 'protestors', 'protocol', 'proton', 'prototype', 'protracted', 'protruding', 'protégé', 'protégée', 'protégés', 'proud', 'proudly', 'prove', 'proved', 'proven', 'proverbial', 'provide', 'provided', 'provides', 'providing', 'province', 'proving', 'provision', 'provocation', 'provoke', 'provoked', 'provoking', 'prowess', 'prowl', 'prowled', 'prowling', 'proximity', 'proxy', 'pry', 'prying', 'pseudoHulk', 'pseudonym', 'pseudonymous', 'pseudovampire', 'psi', 'psiblocks', 'psionic', 'psionically', 'psipowers', 'psishielded', 'psishields', 'psiwave', 'psyche', 'psychedelic', 'psycheglobe', 'psychiatric', 'psychiatrist', 'psychic', 'psychically', 'psychicknife', 'psycho', 'psychological', 'psychologically', 'psychologist', 'psychology', 'psychopath', 'psychopathic', 'psychoprism', 'psychosis', 'psychosomatic', 'psychotherapy', 'psychotic', 'pterodactyl', 'pub', 'puberty', 'public', 'publically', 'publication', 'publicist', 'publicity', 'publicizing', 'publicly', 'published', 'publisher', 'publishes', 'publishing', 'puddle', 'puff', 'pull', 'pulled', 'pulling', 'pulp', 'pulse', 'pulsewave', 'pulverized', 'pummel', 'pummeled', 'pummeling', 'pummels', 'pump', 'pumped', 'pumpkin', 'pun', 'punch', 'punched', 'punching', 'punchline', 'puncturing', 'punish', 'punishable', 'punished', 'punishes', 'punishing', 'punishment', 'punitive', 'punk', 'punkchic', 'punt', 'pup', 'pupil', 'puppet', 'puppy', 'purchase', 'purchased', 'purchaser', 'purchasing', 'pure', 'purely', 'purgatory', 'purge', 'purged', 'purging', 'purified', 'purify', 'purifying', 'puritan', 'purity', 'purple', 'purplehaired', 'purplesuited', 'purpose', 'purposeful', 'purposefully', 'purposeless', 'purposely', 'purse', 'pursed', 'pursue', 'pursued', 'pursuer', 'pursues', 'pursuied', 'pursuing', 'pursuit', 'push', 'pushed', 'pushing', 'pushup', 'put', 'putting', 'puttylike', 'puzzle', 'pyramid', 'pyre', 'pyrokinesis', 'pyrokinetic', 'pyromania', 'pyromaniac', 'quadrant', 'quadrillion', 'quadruple', 'quadruplet', 'quake', 'qualification', 'qualified', 'qualify', 'quality', 'qualm', 'quantity', 'quantum', 'quarantine', 'quarantined', 'quarrel', 'quarreled', 'quarry', 'quarter', 'quartet', 'quartz', 'quasiRenaissance', 'quasiheroic', 'quasiindependent', 'quasiofficial', 'quasipriests', 'quasisonic', 'quasistellar', 'queen', 'quell', 'quelled', 'quest', 'question', 'questionable', 'questioned', 'questioning', 'queue', 'quick', 'quicker', 'quickest', 'quickly', 'quickness', 'quicksand', 'quiet', 'quietly', 'quintopartner', 'quirk', 'quit', 'quite', 'quits', 'quitting', 'quiver', 'quivering', 'quiz', 'quo', 'quod', 'quota', 'quoting', 'rabbi', 'rabbit', 'rabblerousing', 'rabid', 'race', 'racecar', 'racecars', 'raced', 'racer', 'racetrack', 'racial', 'racially', 'racing', 'racism', 'racist', 'rack', 'racket', 'racketeer', 'racketeering', 'radar', 'radiant', 'radiate', 'radiated', 'radiating', 'radiation', 'radiationproof', 'radical', 'radically', 'radio', 'radioactive', 'radioactivity', 'radiologist', 'radion', 'radiosilencer', 'radius', 'rag', 'rage', 'raged', 'ragged', 'raging', 'ragtag', 'raid', 'raidbut', 'raided', 'raiding', 'rail', 'railed', 'railing', 'railroad', 'rain', 'rainbow', 'raincoat', 'rainy', 'raise', 'raised', 'raising', 'raking', 'rallied', 'rally', 'rallying', 'ram', 'rambling', 'ramification', 'ramming', 'rampage', 'rampaged', 'rampaging', 'rampant', 'ran', 'rance', 'ranch', 'random', 'randomly', 'rang', 'range', 'ranged', 'ranger', 'rangeweapons', 'ranging', 'rank', 'ranked', 'ranking', 'rankled', 'ranksunbeknown', 'ransack', 'ransacked', 'ransacking', 'ransom', 'rant', 'ranting', 'rap', 'rape', 'raped', 'rapid', 'rapidfire', 'rapidly', 'rapidlydeteriorating', 'raping', 'rapist', 'rapport', 'rare', 'rarely', 'rasa', 'rash', 'rashly', 'raspy', 'rat', 'rate', 'rated', 'rather', 'rating', 'ratio', 'ration', 'rational', 'rationality', 'rationalized', 'rationalizing', 'rattled', 'rattling', 'ravaged', 'ravager', 'ravaging', 'raved', 'raven', 'ravenous', 'ravine', 'raving', 'raw', 'ray', 'raygun', 'rayrelated', 'raze', 'razed', 'razes', 'razing', 'razor', 'razorblade', 'reabsorbed', 'reacclimated', 'reach', 'reached', 'reaching', 'reacquire', 'reacquired', 'reacquiring', 'react', 'reacted', 'reacting', 'reaction', 'reactionary', 'reactivate', 'reactivated', 'reactor', 'reacts', 'read', 'reader', 'readied', 'readily', 'reading', 'readjusting', 'readmit', 'ready', 'readying', 'reaffirmed', 'reaged', 'reaging', 'real', 'realise', 'realised', 'realises', 'realising', 'realistic', 'realistically', 'reality', 'realityTV', 'realityThe', 'realityaltering', 'realityfixing', 'realityhopping', 'realitymanipulating', 'realityreshaping', 'realitywarper', 'realitywarping', 'realization', 'realize', 'realized', 'realizes', 'realizing', 'reallife', 'really', 'realm', 'realtime', 'realty', 'reanimate', 'reanimated', 'reap', 'reappear', 'reappearance', 'reappeared', 'reappearing', 'reappears', 'rear', 'reared', 'rearing', 'rearrange', 'reason', 'reasonable', 'reasoned', 'reasoning', 'reassemble', 'reassembled', 'reassembling', 'reassert', 'reasserted', 'reasserting', 'reassigned', 'reassigning', 'reassignment', 'reassigns', 'reassimilate', 'reassimilated', 'reassumed', 'reassurance', 'reassure', 'reassures', 'reattach', 'reattached', 'reawaken', 'reawakened', 'reawakening', 'rebar', 'rebel', 'rebelious', 'rebelled', 'rebelling', 'rebellion', 'rebellious', 'rebirth', 'rebonding', 'reboot', 'rebooted', 'rebooting', 'reboots', 'reborn', 'rebottles', 'rebound', 'rebranded', 'rebranding', 'rebuff', 'rebuffed', 'rebuild', 'rebuilding', 'rebuilds', 'rebuilt', 'rebuked', 'recalibrated', 'recalibration', 'recall', 'recalled', 'recalling', 'recanted', 'recap', 'recapitulation', 'recapture', 'recaptured', 'recapturing', 'receive', 'received', 'received1', 'receiver', 'receives', 'receiving', 'recent', 'recently', 'recentlyescaped', 'recentlyformed', 'recentlyraised', 'recentlyreactivated', 'recentlyrejuvenated', 'receptacle', 'reception', 'receptor', 'recess', 'recessive', 'rechanneled', 'recharce', 'recharge', 'recharged', 'rechristened', 'recieved', 'recieves', 'recipe', 'recipient', 'reciprocate', 'reciprocated', 'reciprocates', 'recite', 'recited', 'reciting', 'reckless', 'recklessly', 'recklessness', 'reckoning', 'reclaim', 'reclaimed', 'reclaiming', 'recluse', 'reclusive', 'recognise', 'recognised', 'recognition', 'recognizance', 'recognize', 'recognizeable', 'recognized', 'recognizes', 'recognizing', 'recollect', 'recollected', 'recollection', 'recombined', 'recommend', 'recommendation', 'recommended', 'recommends', 'recon', 'reconcile', 'reconciled', 'reconciliation', 'reconciliatory', 'reconciling', 'reconfigured', 'reconfiguring', 'reconfirmed', 'reconnaissance', 'reconnect', 'reconnected', 'reconnecting', 'reconsider', 'reconsidered', 'reconsiders', 'reconstitute', 'reconstituted', 'reconstruct', 'reconstructed', 'reconstructing', 'reconstruction', 'reconstructive', 'reconvened', 'recooperated', 'record', 'recorded', 'recording', 'recount', 'recounted', 'recoup', 'recover', 'recovered', 'recoveredDuring', 'recovering', 'recovers', 'recovery', 'recreate', 'recreated', 'recreates', 'recreating', 'recreation', 'recruit', 'recruited', 'recruiter', 'recruiting', 'recruitment', 'rectify', 'recuperate', 'recuperated', 'recuperating', 'recuperation', 'recurrent', 'recurring', 'recycling', 'red', 'redandblue', 'redandyellow', 'redbreasted', 'redcostumed', 'reddish', 'rededicated', 'rededicating', 'rededication', 'redeem', 'redeemed', 'redemption', 'redesign', 'redesigned', 'redesigning', 'redhaired', 'redhanded', 'redhead', 'redheaded', 'redirect', 'redirected', 'redirection', 'redirrect', 'rediscover', 'rediscovered', 'rediscovery', 'redress', 'redsun', 'redubbed', 'reduce', 'reduced', 'reducing', 'reduction', 'redundant', 'reeducation', 'reeeeally', 'reelected', 'reemerge', 'reemerged', 'reemergence', 'reemerges', 'reemerging', 'reempowered', 'reempowerment', 'reenacting', 'reenactment', 'reenacts', 'reencountered', 'reenergized', 'reenlarge', 'reenlisted', 'reenlisting', 'reenrolled', 'reenter', 'reentered', 'reentry', 'reestablish', 'reestablished', 'reestablishment', 'reexert', 'refer', 'refered', 'reference', 'referenced', 'referencing', 'referred', 'referring', 'refers', 'refined', 'refinement', 'refining', 'reflect', 'reflected', 'reflecting', 'reflection', 'reflective', 'reflects', 'reflex', 'reflexive', 'reflexively', 'refocused', 'reform', 'reformation', 'reformed', 'reforming', 'refrain', 'refrained', 'refrigerated', 'refrigerating', 'refuge', 'refugee', 'refusal', 'refuse', 'refused', 'refusing', 'refuting', 'regain', 'regained', 'regaining', 'regains', 'regaled', 'regard', 'regarded', 'regarding', 'regardless', 'regathered', 'regency', 'regenerate', 'regenerated', 'regenerates', 'regenerating', 'regeneration', 'regenerative', 'regent', 'regime', 'regimen', 'regiment', 'regimented', 'region', 'regional', 'register', 'registered', 'registering', 'registration', 'regressed', 'regressing', 'regret', 'regretful', 'regretfully', 'regretted', 'regretting', 'regrew', 'regroup', 'regrouped', 'regrow', 'regrown', 'regular', 'regularly', 'regulate', 'regulation', 'regulator', 'regurgitated', 'rehabilitate', 'rehabilitated', 'rehabilitation', 'rehired', 'rehiring', 'reign', 'reigned', 'reigning', 'reignite', 'reignited', 'reigniting', 'reimagine', 'reimprisoned', 'rein', 'reincarcerated', 'reincarnated', 'reincarnation', 'reinforce', 'reinforced', 'reinforcement', 'reinhabited', 'reinjured', 'reinstate', 'reinstated', 'reintegrated', 'reintegrates', 'reintegration', 'reinvent', 'reinvented', 'reinverted', 'reinvigorated', 'reiterated', 'reiteration', 'reject', 'rejected', 'rejecting', 'rejection', 'rejoin', 'rejoined', 'rejoining', 'rejoins', 'rejuvenated', 'rejuvenation', 'rekindle', 'rekindled', 'rekindling', 'relapse', 'relate', 'related', 'relating', 'relation', 'relationship', 'relationship1', 'relative', 'relatively', 'relativity', 'relaunch', 'relax', 'relaxed', 'relaxing', 'relay', 'release', 'released', 'releasing', 'relegated', 'relented', 'relentless', 'relents', 'relevant', 'reliable', 'reliant', 'relic', 'relied', 'relief', 'relies', 'relieve', 'relieved', 'religion', 'religious', 'religiously', 'relinquish', 'relinquished', 'relinquishing', 'relish', 'relished', 'relive', 'reliving', 'relocate', 'relocated', 'relocates', 'relocating', 'relocation', 'reluctance', 'reluctant', 'reluctantly', 'rely', 'relying', 'remade', 'remain', 'remainder', 'remained', 'remaining', 'remains', 'remainsshe', 'remake', 'remaking', 'remanded', 'remanifest', 'remark', 'remarkable', 'remarkably', 'remarked', 'remarking', 'remarried', 'rematch', 'rematerialized', 'remedial', 'remedy', 'remember', 'remembered', 'remembering', 'remembers', 'remembrance', 'remerge', 'remerged', 'remind', 'reminded', 'reminder', 'reminding', 'reminds', 'reminisce', 'reminisced', 'reminiscent', 'reminisces', 'remission', 'remnant', 'remodeled', 'remorse', 'remorseful', 'remorseless', 'remote', 'remotely', 'remotelykidnapped', 'removable', 'removal', 'remove', 'removed', 'removeed', 'removing', 'renamed', 'renaming', 'render', 'renderd', 'rendered', 'rendering', 'rendezvous', 'rendezvoused', 'rendition', 'renegade', 'renege', 'reneged', 'reneging', 'renew', 'renewable', 'renewed', 'renewing', 'renews', 'renounce', 'renounced', 'renouncing', 'renovated', 'renown', 'renowned', 'rent', 'rented', 'renting', 'reoccurring', 'reopen', 'reopened', 'reopening', 'reorganization', 'reorganize', 'reorganized', 'reorganizing', 'reoutfitted', 'rep', 'repaid', 'repair', 'repaired', 'repairing', 'repairman', 'repare', 'repatriated', 'repay', 'repealed', 'repeat', 'repeated', 'repeatedly', 'repeater', 'repeating', 'repel', 'repellant', 'repelled', 'repelling', 'repels', 'repent', 'repentance', 'repentant', 'repented', 'repercussion', 'repetitive', 'replace', 'replaced', 'replacement', 'replaces', 'replacing', 'replenish', 'replenishes', 'replica', 'replicate', 'replicated', 'replicates', 'replied', 'reply', 'repopulate', 'repopulated', 'report', 'reported', 'reportedly', 'reporter', 'reporting', 'repositioned', 'repower', 'repowered', 'repowering', 'reprehensible', 'represent', 'representation', 'representative', 'represented', 'representing', 'represents', 'repress', 'repressed', 'represses', 'repressing', 'repressive', 'reprimand', 'reprimanded', 'reprisal', 'reprise', 'reproduce', 'reproducing', 'reproduction', 'reproductive', 'reprogram', 'reprogrammed', 'reprogramming', 'reptile', 'reptilian', 'reptilianhumanoid', 'repulse', 'repulsed', 'repulsive', 'repulsor', 'repulsors', 'repurposed', 'reputable', 'reputation', 'repute', 'reputed', 'request', 'requested', 'requesting', 'require', 'required', 'requirement', 'requires', 'requiring', 'requite', 'rerecruited', 'rescinded', 'rescue', 'rescued', 'rescuer', 'rescuing', 'resealing', 'research', 'researched', 'researcher', 'researching', 'resemblance', 'resemble', 'resembled', 'resembles', 'resembling', 'resent', 'resented', 'resentful', 'resentfully', 'resentment', 'resents', 'reservation', 'reserve', 'reserved', 'reservist', 'reservoir', 'reset', 'reshape', 'reshaped', 'reshaping', 'resheathed', 'reside', 'resided', 'residence', 'residency', 'resident', 'residential', 'residing', 'residual', 'residue', 'resign', 'resignation', 'resigned', 'resigning', 'resigns', 'resilience', 'resilient', 'resist', 'resistance', 'resistant', 'resisted', 'resisting', 'resists', 'resizes', 'resolution', 'resolve', 'resolved', 'resolvedMere', 'resolving', 'resonant', 'resonate', 'resonator', 'resort', 'resorted', 'resorting', 'resounding', 'resource', 'resourceful', 'resourcefulness', 'respark', 'respawn', 'respect', 'respectability', 'respectable', 'respected', 'respectevery', 'respectful', 'respectfully', 'respective', 'respectively', 'respite', 'respond', 'responded', 'responder', 'responding', 'responds', 'response', 'responsibility', 'responsible', 'responsibly', 'ressources', 'ressurrected', 'rest', 'restart', 'restarted', 'restationed', 'restaurant', 'rested', 'resting', 'restless', 'restoration', 'restore', 'restored', 'restores', 'restoring', 'restrain', 'restrained', 'restraining', 'restrains', 'restraint', 'restricted', 'restriction', 'restrictive', 'restroom', 'restructure', 'restructured', 'restructures', 'restructuring', 'result', 'resultant', 'resulted', 'resulting', 'resume', 'resumed', 'resuming', 'resumption', 'resurface', 'resurfaced', 'resurfaces', 'resurfacing', 'resurgence', 'resurgent', 'resurrect', 'resurrected', 'resurrecting', 'resurrection', 'resurrects', 'resuscitate', 'resuscitated', 'retail', 'retain', 'retained', 'retainer', 'retaining', 'retains', 'retake', 'retaken', 'retaliate', 'retaliated', 'retaliates', 'retaliating', 'retaliation', 'retarded', 'retarding', 'retconned', 'retell', 'retellings', 'retells', 'rethink', 'rethinking', 'reticent', 'retina', 'retire', 'retired', 'retirement', 'retiring', 'retook', 'retooled', 'retort', 'retrace', 'retract', 'retractable', 'retracts', 'retraining', 'retreat', 'retreated', 'retreating', 'retribution', 'retrieval', 'retrieve', 'retrieved', 'retrieves', 'retrieving', 'retroactively', 'retrograde', 'return', 'returned', 'returning', 'returnsAqualad', 'reuinted', 'reunified', 'reunion', 'reunite', 'reunited', 'reunites', 'reuniting', 'reusable', 'reuse', 'revamp', 'revamped', 'revamps', 'reveal', 'revealed', 'reveales', 'revealing', 'reveals', 'revel', 'revelation', 'revelry', 'revenge', 'revengeseeking', 'revenue', 'reverberation', 'reverbium', 'revere', 'revered', 'reversal', 'reverse', 'reversed', 'reverseengineer', 'reverseguardians', 'reversehe', 'reversing', 'revert', 'reverted', 'reverting', 'reverts', 'review', 'reviewing', 'revise', 'revised', 'revisit', 'revisited', 'revitalized', 'revival', 'revivaland', 'revive', 'revived', 'revives', 'reviving', 'revoked', 'revolt', 'revolted', 'revolution', 'revolutionary', 'revolutionaryterrorist', 'revolutionize', 'revolved', 'revolver', 'revolves', 'revolving', 'revulsion', 'reward', 'rewardWith', 'rewarded', 'reweaves', 'rewind', 'rewipe', 'rewire', 'rewiring', 'rewrite', 'rewriting', 'rewritten', 'rewrote', 'rhetoric', 'rhino', 'rhinoceros', 'rhyme', 'rhyming', 'rib', 'ribbing', 'ribcage', 'rice', 'rich', 'richer', 'richest', 'ricocheting', 'rid', 'ridding', 'riddle', 'riddled', 'ride', 'rider', 'ridge', 'ridicule', 'ridiculed', 'ridiculous', 'riding', 'rife', 'rifle', 'rifled', 'rift', 'rigged', 'rigging', 'right', 'righteous', 'righteousness', 'rightextremist', 'rightful', 'rightfully', 'righthand', 'righting', 'rightly', 'rightness', 'rightwing', 'rigidly', 'rigor', 'rigorous', 'ring', 'ringed', 'ringing', 'ringleader', 'ringless', 'ringname', 'riot', 'rioter', 'rioting', 'rip', 'ripcord', 'ripe', 'ripped', 'ripping', 'ripple', 'rise', 'risen', 'rising', 'risk', 'riskand', 'risked', 'risking', 'risky', 'rite', 'ritual', 'ritually', 'rival', 'rivaled', 'rivaling', 'rivalry', 'river', 'river2', 'riverapparently', 'rivet', 'roach', 'road', 'roadside', 'roam', 'roamed', 'roaming', 'roams', 'roar', 'roarer', 'rob', 'robbed', 'robber', 'robberiesWhile', 'robbery', 'robbing', 'robe', 'robed', 'robomechanics', 'robot', 'robotic', 'roboticist', 'roboticize', 'roboticlike', 'robotics', 'robs', 'rock', 'rocked', 'rocker', 'rocket', 'rocketed', 'rocketenhanced', 'rocketing', 'rocketpropelled', 'rocklike', 'rockstar', 'rocky', 'rod', 'rode', 'rodent', 'rogue', 'roguish', 'role', 'roll', 'rolled', 'rollercoaster', 'rollercoasters', 'romance', 'romanced', 'romancing', 'romantic', 'romantically', 'roof', 'rooftop', 'rooftopsBooster', 'rookie', 'room', 'roomed', 'rooming', 'roommate', 'root', 'rooted', 'rootless', 'rope', 'roped', 'rose', 'roster', 'rot', 'rotating', 'rotation', 'rotting', 'rouge', 'rough', 'roughly', 'roulette', 'round', 'rounded', 'roundedup', 'rouse', 'roused', 'roustabout', 'route', 'routine', 'routinely', 'roving', 'row', 'rowdy', 'royal', 'royalty', 'rub', 'rubber', 'rubble', 'rube', 'ruby', 'ruckus', 'rude', 'rudimentary', 'rug', 'ruin', 'ruined', 'ruining', 'ruinsKoryak', 'rule', 'ruled', 'ruler', 'rulersall', 'rulership', 'ruling', 'rumble', 'rummaging', 'rumor', 'rumored', 'run', 'runaway', 'rundown', 'rune', 'runin', 'runins', 'runner', 'running', 'runoff', 'rupture', 'ruptured', 'rupturing', 'rural', 'ruse', 'rush', 'rushed', 'rushing', 'rusty', 'rut', 'ruthless', 'ruthlessly', 'ruthlessness', 'saber', 'sabotage', 'sabotaged', 'sabotaging', 'saboteur', 'sack', 'sacked', 'sacking', 'sacrament', 'sacred', 'sacrficed', 'sacrifice', 'sacrificed', 'sacrificial', 'sacrificing', 'sacrilegious', 'sad', 'sadden', 'saddened', 'sadist', 'sadistic', 'sadistically', 'sadly', 'sadness', 'safari', 'safe', 'safeguard', 'safeguarded', 'safeguarding', 'safehouse', 'safehouseLuke', 'safehouses', 'safekeeping', 'safely', 'safer', 'safest', 'safety', 'saftely', 'saga', 'sai', 'said', 'sail', 'sailed', 'sailor', 'saint', 'saintly', 'sais', 'saiyajin', 'saiyins', 'sake', 'salary', 'sale', 'saline', 'saliva', 'salon', 'saloon', 'salt', 'saltwater', 'salvage', 'salvaged', 'salvagedbut', 'salvation', 'sama', 'samas', 'samemuch', 'sample', 'sampled', 'samurai', 'samuraitrained', 'sanction', 'sanctioned', 'sanctity', 'sanctuary', 'sanctum', 'sand', 'sandal', 'sandstorm', 'sandwater', 'sandy', 'sane', 'sanest', 'sanitarium', 'sanity', 'sank', 'sans', 'sap', 'sapien', 'sapiens', 'sapped', 'sarcastic', 'sarcastically', 'sarcophogus', 'sardonic', 'sasquatch', 'sassed', 'sassy', 'sat', 'satanic', 'sate', 'sated', 'satellite', 'satiate', 'satisfaction', 'satisfactory', 'satisfied', 'satisfy', 'satisfying', 'saturated', 'satyr', 'saucer', 'sauntered', 'savage', 'savagely', 'savagery', 'save', 'saved', 'saving', 'savior', 'savvy', 'saw', 'saw14', 'sawedoff', 'say', 'saying', 'scabbard', 'scale', 'scaled', 'scaledback', 'scalegeography', 'scalpel', 'scaly', 'scam', 'scammed', 'scan', 'scandal', 'scanned', 'scanning', 'scapegoat', 'scar', 'scarab', 'scarce', 'scare', 'scarecrow', 'scared', 'scaring', 'scarlet', 'scarred', 'scarring', 'scary', 'scathing', 'scatter', 'scattered', 'scattering', 'scavenged', 'scavenger', 'scenario', 'scene', 'scene04', 'scent', 'scepter', 'sceptical', 'schedule', 'scheduled', 'schematic', 'scheme', 'scheme25', 'schemed', 'schemes24', 'scheming', 'schizophrenia', 'schizophrenic', 'scholar', 'scholarly', 'scholarship', 'scholastic', 'school', 'schooled', 'schoolhouse', 'schooling', 'schoolmate', 'schoolteacher', 'schoolyard', 'science', 'scientific', 'scientist', 'scientistturnedlizard', 'scifi', 'scissors', 'scoff', 'scoffed', 'scold', 'scolded', 'scolding', 'scoop', 'scooped', 'scooter', 'scope', 'scorched', 'score', 'scorn', 'scorned', 'scorning', 'scorpion', 'scorpionlike', 'scoundrel', 'scour', 'scourge', 'scourged', 'scouring', 'scout', 'scouted', 'scoutship', 'scrambled', 'scrambler', 'scrambling', 'scrap', 'scraping', 'scrapped', 'scrapper', 'scratch', 'scratched', 'scratchedside', 'scrawny', 'scream', 'screamed', 'screaming', 'screen', 'screened', 'screening', 'screenwriter', 'screw', 'screwdriver', 'screwed', 'screwup', 'script', 'scroll', 'scrolled', 'scrolling', 'scrounger', 'scrutiny', 'scrying', 'scuffle', 'sculpt', 'sculptress', 'sculpture', 'scum', 'scurrying', 'scurvy', 'scuttling', 'scythe', 'sea', 'seabed', 'seaboard', 'seacoast', 'seadweller', 'seafaring', 'seaize', 'seaking', 'seal', 'sealed', 'sealevel', 'sealife', 'sealing', 'seance', 'search', 'searched', 'searching', 'seasnake', 'season', 'seasoned', 'seat', 'seated', 'seceded', 'secession', 'secluded', 'seclusion', 'second', 'secondary', 'seconded', 'secondgeneration', 'secondguess', 'secondguessing', 'secondincommand', 'secondlongest', 'secondoldest', 'secondstringers', 'secondyoungest', 'secrecy', 'secret', 'secretary', 'secrete', 'secretely', 'secretive', 'secretly', 'sect', 'section', 'sector', 'secure', 'secured', 'securely', 'secures', 'securing', 'security', 'sedated', 'sedation', 'sedative', 'seduce', 'seduced', 'seduces', 'seducing', 'seduction', 'seductive', 'see', 'seed', 'seeded', 'seeding', 'seedling', 'seeing', 'seek', 'seeker', 'seeking', 'seem', 'seemed', 'seeming', 'seemingly', 'seemly', 'seems', 'seen', 'seeping', 'seer', 'seething', 'segment', 'seismic', 'seize', 'seized', 'seizes', 'seizing', 'seizure', 'seldom', 'select', 'selected', 'selecting', 'selection', 'selects', 'self', 'selfabuse', 'selfaggrandizing', 'selfappointed', 'selfawareness', 'selfbuilt', 'selfcentered', 'selfconfidence', 'selfconfidently', 'selfconscious', 'selfcontrol', 'selfdeclared', 'selfdefense', 'selfdestruct', 'selfdestruction', 'selfdestructive', 'selfdestructs', 'selfdetonated', 'selfdiscipline', 'selfdiscovery', 'selfdoubt', 'selfdoubts', 'selfelected', 'selfexile', 'selfhelp', 'selfhood', 'selfimage', 'selfimposed', 'selfish', 'selfishly', 'selfishness', 'selfless', 'selflessly', 'selfmutilation', 'selfmutilative', 'selfproclaimed', 'selfprofessed', 'selfrepairing', 'selfrespect', 'selfsabotaging', 'selfsacrifice', 'selfsatisfaction', 'selfserving', 'selfstyled', 'selfteleportation', 'selftitled', 'selfworth', 'sell', 'selling', 'sellsword', 'semblance', 'semester', 'semiactive', 'semicanon', 'semidemonic', 'semifinal', 'semihumanoidleonine', 'semipopular', 'semiregular', 'semiretired', 'semiretirement', 'semisentient', 'semiserious', 'semitrance', 'semivisible', 'senator', 'send', 'sender', 'sending', 'sends', 'senior', 'seniority', 'sens', 'sensation', 'sensational', 'sense', 'sensed', 'sensei', 'senseless', 'sensing', 'sensitive', 'sensitivity', 'sensor', 'sensory', 'sensu', 'sensuous', 'sent', 'sentence', 'sentenced', 'sentencing', 'sentience', 'sentienceRecently', 'sentient', 'sentiment', 'sentinel', 'sentry', 'separate', 'separated', 'separately', 'separating', 'separation', 'separatist', 'seperate', 'sequence', 'sequestered', 'sequestering', 'ser', 'serenity', 'serf', 'sergeant', 'serial', 'series', 'seriesEdit', 'serious', 'seriously', 'seriousminded', 'seriousness', 'sermon', 'serpent', 'serpentine', 'serum', 'servant', 'serve', 'served', 'server', 'service', 'servile', 'serving', 'servitor', 'servitude', 'session', 'set', 'setback', 'setoff', 'setter', 'setting', 'settingup', 'settle', 'settled', 'settlement', 'settling', 'setup', 'seven', 'sevenfoot', 'seventeen', 'seventeenThey', 'seventhdimensional', 'seventy', 'seventyeight', 'sevenyear', 'sevenyearold', 'sever', 'several', 'severe', 'severed', 'severely', 'severing', 'severity', 'severly', 'severs', 'sew', 'sewage', 'sewed', 'sewer', 'sewing', 'sex', 'sexism', 'sexual', 'sexuality', 'sexualized', 'sexually', 'shack', 'shackle', 'shackled', 'shade', 'shadier', 'shadiest', 'shadow', 'shadowdemons', 'shadowed', 'shadowing', 'shadowlunatic', 'shadowmanipulating', 'shadowy', 'shady', 'shaft', 'shaggy', 'shake', 'shakedown', 'shaken', 'shakey', 'shaking', 'shaky', 'shall', 'shallow', 'sham', 'shaman', 'shamanic', 'shamble', 'shambling', 'shame', 'shamed', 'shameful', 'shamefully', 'shaming', 'shanghaied', 'shantytown', 'shape', 'shapechanger', 'shapechanging', 'shaped', 'shapeless', 'shaper', 'shapeshifted', 'shapeshifter', 'shapeshifting', 'shapeshifts', 'shaping', 'shard', 'share', 'shared', 'sharing', 'shark', 'sharkgirl', 'sharp', 'sharpening', 'shatter', 'shattered', 'shattering', 'shatters', 'shave', 'shaved', 'shaver', 'shear', 'sheared', 'sheath', 'sheathe', 'shed', 'shedding', 'shedemon', 'sheep', 'sheeprocket', 'sheer', 'sheet', 'sheeting', 'sheild', 'shelf', 'shell', 'shellshock', 'shellshocked', 'shelter', 'sheltered', 'shemes', 'shenanigan', 'shepherded', 'sheriff', 'shes', 'shied', 'shield', 'shielded', 'shielding', 'shift', 'shifted', 'shifting', 'shine', 'shining', 'shinobi', 'ship', 'shipment', 'shipped', 'shipping', 'shipw', 'shipwrecked', 'shipwright', 'shirking', 'shirt', 'shit', 'shiver', 'shivering', 'shock', 'shocked', 'shocking', 'shockingly', 'shockwave', 'shoe', 'shoehorned', 'shone', 'shook', 'shoot', 'shooter', 'shootfirst', 'shooting', 'shootout', 'shop', 'shopper', 'shopping', 'shore', 'shorn', 'short', 'shortage', 'shortcircuit', 'shortcircuited', 'shortcircuiting', 'shortcoming', 'shorted', 'shortened', 'shortening', 'shorter', 'shorthanded', 'shorting', 'shortlived', 'shortly', 'shorttempered', 'shot', 'shotdown', 'shotgun', 'shoulder', 'shoulderlength', 'shouldnt', 'shouldve', 'shout', 'shouted', 'shouting', 'shove', 'shoved', 'shoving', 'show', 'showcase', 'showdown', 'showed', 'showedup', 'shower', 'showered', 'showgirl', 'showing', 'shown', 'shownAfter', 'shrank', 'shrapnel', 'shred', 'shredded', 'shredding', 'shrewish', 'shriek', 'shrieking', 'shrine', 'shrink', 'shrinking', 'shriveled', 'shroud', 'shrouded', 'shrug', 'shrugged', 'shrunk', 'shrunken', 'shuffled', 'shuffling', 'shun', 'shunned', 'shunt', 'shunted', 'shuriken', 'shurikens', 'shut', 'shutoff', 'shuts', 'shutting', 'shuttle', 'shy', 'shyly', 'shyness', 'siamese', 'sibling', 'siblinglike', 'sick', 'sick3', 'sickbed', 'sickened', 'sickly', 'sickness', 'side', 'sidearm', 'sidebyside', 'sided', 'sideeffect', 'sideeffects', 'sidekick', 'sideline', 'sidelined', 'sidelining', 'sidereal', 'sideshow', 'sidestepped', 'sidestepping', 'sidetracked', 'siding', 'siege', 'sigh', 'sight', 'sighted', 'sighting', 'sigil', 'sign', 'signal', 'signaled', 'signaling', 'signature', 'signed', 'significance', 'significant', 'significantly', 'signified', 'signing', 'signpole', 'silence', 'silenced', 'silencer', 'silencing', 'silent', 'silently', 'silhouette', 'silicon', 'silkcuts', 'silkspinner', 'silly', 'silo', 'silver', 'silverback', 'simian', 'similar', 'similarity', 'similarlooking', 'similarly', 'similiar', 'simple', 'simpler', 'simplicity', 'simplified', 'simply', 'simulacrum', 'simulate', 'simulator', 'simuloids', 'simultaneous', 'simultaneously', 'sin', 'since', 'sincerely', 'sincerity', 'sinful', 'sing', 'singed', 'singer', 'singersongwriter', 'singing', 'single', 'singled', 'singlehandedly', 'singleminded', 'singularity', 'sinister', 'sink', 'sinking', 'sinner', 'siphon', 'siphoned', 'siphonedoff', 'siphoning', 'sire', 'sired', 'siredam', 'siren', 'siring', 'sister', 'sisterhood', 'sisterinlaw', 'sit', 'sitcom', 'site', 'sits', 'sitting', 'situated', 'situation', 'situps', 'six', 'sixarmed', 'sixstory', 'sixteen', 'sixteenyearold', 'sixteenyearsold', 'sixth', 'sixthdimensional', 'sixty', 'sixtysix', 'sixtytrillion', 'sixyearold', 'sizable', 'size', 'sizeAbandoning', 'sizealtering', 'sizechanging', 'sized', 'skateboard', 'skateboarding', 'skater', 'skating', 'skeletal', 'skeleton', 'skeletonheaded', 'skeptical', 'skepticism', 'sketch', 'sketchy', 'skewed', 'skewered', 'skiing', 'skill', 'skilled', 'skillful', 'skillfully', 'skimask', 'skimpy', 'skin', 'skincontrolling', 'skinlike', 'skinned', 'skinning', 'skinonskin', 'skintight', 'skip', 'skipped', 'skiptracing', 'skirmish', 'skirmished', 'skirted', 'skrulls', 'skull', 'skullheaded', 'skullship', 'sky', 'skyblue', 'skycraft', 'skydiving', 'skyline', 'skyrise', 'skyscraper', 'slab', 'slag', 'slain', 'slam', 'slammed', 'slamming', 'slanderous', 'slang', 'slanted', 'slap', 'slapped', 'slash', 'slashed', 'slasher', 'slate', 'slated', 'slaughter', 'slaughtered', 'slaughterhouse', 'slaughtering', 'slave', 'slaver', 'slavery', 'slay', 'slayed', 'slayer', 'slaying', 'slays', 'sledgehammer', 'sleep', 'sleeper', 'sleeping', 'sleeve', 'sleeved', 'slender', 'slept', 'slew', 'slice', 'sliced', 'slickest', 'slickness', 'slid', 'slide', 'slideshow', 'sliding', 'slight', 'slighted', 'slightly', 'slim', 'slime', 'sling', 'slinger', 'slinging', 'slip', 'slipped', 'slipping', 'slipshod', 'slit', 'slither', 'slithered', 'sliver', 'slob', 'slot', 'slow', 'slowed', 'slower', 'slowest', 'slowing', 'slowly', 'slowness', 'slowwitted', 'slugsnakelike', 'slum', 'slumber', 'slumming', 'slumped', 'slung', 'slur', 'smack', 'smacking', 'small', 'smalle', 'smaller', 'smallerHe', 'smallersized', 'smallest', 'smallfolk', 'smalltime', 'smalltown', 'smart', 'smarter', 'smartest', 'smartmouth', 'smartphone', 'smash', 'smashed', 'smashing', 'smear', 'smell', 'smelled', 'smelling', 'smile', 'smiled', 'smiling', 'smirk', 'smith', 'smithereens', 'smitten', 'smog', 'smoke', 'smokeinducing', 'smokescreen', 'smokestack', 'smoking', 'smoky', 'smoldering', 'smooch', 'smooth', 'smothered', 'smuggle', 'smuggled', 'smuggler', 'smuggling', 'snack', 'snag', 'snagJenni', 'snagged', 'snake', 'snakethemed', 'snakeworm', 'snap', 'snapped', 'snapping', 'snare', 'snark', 'snatched', 'snatching', 'sneak', 'sneaked', 'sneaking', 'sneaky', 'sneer', 'sneering', 'sniper', 'snipping', 'snitch', 'snobbery', 'snobby', 'snooper', 'snow', 'snowdrift', 'snowman', 'snowmanlike', 'snowstorm', 'snowy', 'snuck', 'snuff', 'snuffed', 'soaked', 'soaking', 'soap', 'soar', 'soared', 'soaring', 'sobriety', 'sobut', 'socalled', 'soccer', 'social', 'socialism', 'socialite', 'socialize', 'socially', 'societal', 'society', 'societyHer', 'sociologist', 'sociopath', 'sociopathic', 'sock', 'socket', 'soda', 'soft', 'softball', 'softened', 'softening', 'software', 'soggy', 'soil', 'soiled', 'soiling', 'sojourn', 'solace', 'solar', 'sold', 'soldier', 'soldierforhire', 'sole', 'solely', 'solemn', 'solesurviving', 'solid', 'solider', 'solidification', 'solidified', 'solidifying', 'solidity', 'solidvision', 'solitary', 'solitude', 'solo', 'solution', 'solve', 'solved', 'solvent', 'solving', 'somatic', 'somber', 'somebody', 'somecitation', 'someday', 'somehow', 'someone', 'somersault', 'something', 'sometime', 'sometimegirlfriend', 'sometimes', 'someway', 'somewhat', 'somewhere', 'somnambulator', 'son', 'sonar', 'song', 'sonic', 'sonicforce', 'sonics', 'sonicscreaming', 'soon', 'sooner', 'soontobe', 'soontobedestroyed', 'sooth', 'soothe', 'soothing', 'soothingly', 'sophisticated', 'sorcerer', 'sorcererking', 'sorceress', 'sorceror', 'sorcerous', 'sorcery', 'sorceryrelated', 'sordid', 'sore', 'sorrow', 'sorrowfully', 'sorry', 'sort', 'sorted', 'sorting', 'sortof', 'soso', 'sothought', 'sought', 'soul', 'soulgem', 'soulless', 'soulmates', 'soulsearching', 'soulself', 'soulstealing', 'soulsword', 'sound', 'soundbody', 'sounded', 'soundly', 'soundproofed', 'soundtransducing', 'sour', 'source', 'sourcebooks', 'sourced', 'soured', 'south', 'southeast', 'southern', 'southernmost', 'souvenir', 'sovereign', 'sovereignty', 'sow', 'sowed', 'spa', 'space', 'space1', 'spaceAs', 'spaceClaurice', 'spacebending', 'spacecraft', 'spacedolphins', 'spacefaring', 'spacehog', 'spaceknight', 'spacelost', 'spaceman', 'spacer', 'spaceship', 'spacestation', 'spacesuit', 'spacetime', 'spaceways', 'spacialbending', 'spade', 'span', 'spanish', 'spanned', 'spanning', 'spar', 'spare', 'spared', 'sparing', 'sparingly', 'spark', 'sparked', 'sparking', 'sparkle', 'sparkling', 'sparring', 'sparse', 'spat', 'spatial', 'spawn', 'spawned', 'spawning', 'speak', 'speaking', 'speaks', 'spear', 'speared', 'spearheaded', 'special', 'specialeffects', 'specialist', 'specialized', 'specializes', 'specializing', 'specially', 'speciallydesigned', 'speciallyformulated', 'speciallytrained', 'specialty', 'specie', 'specific', 'specifically', 'specification', 'specimen', 'spectacular', 'spectacularly', 'spectator', 'specter', 'spectral', 'spectre', 'spectrum', 'speculate', 'speculated', 'speculating', 'speculation', 'sped', 'speech', 'speechless', 'speed', 'speedacolyte', 'speedblitz', 'speedboat', 'speedenhanced', 'speeder', 'speedier', 'speeding', 'speedlending', 'speedninjas', 'speedstealing', 'speedster', 'speedsterdeliveryman', 'speedsters', 'speedstream', 'speedsuit', 'speedtype', 'speedy', 'spell', 'spelled', 'spelling', 'spelunking', 'spend', 'spending', 'spends', 'spent', 'sphere', 'spherical', 'sphinx', 'sphinxshaped', 'spice', 'spider', 'spiderhuman', 'spiderinfested', 'spiderlike', 'spiderpowers', 'spidersense', 'spidertotem', 'spidertotems', 'spidertracer', 'spied', 'spike', 'spiked', 'spiky', 'spill', 'spilled', 'spillgates', 'spilling', 'spin', 'spinal', 'spine', 'spineless', 'spinner', 'spinning', 'spinoff', 'spinoffs', 'spiraled', 'spiraling', 'spire', 'spirit', 'spirited', 'spiriting', 'spiritual', 'spiritualist', 'spiritually', 'spirituallyattuned', 'spiritualmystical', 'spirtual', 'spit', 'spite', 'spiteful', 'spitting', 'splatter', 'splattered', 'spliced', 'splicing', 'splinter', 'splintered', 'split', 'splitting', 'splitup', 'spoil', 'spoiled', 'spoiler', 'spoke', 'spoken', 'spokesmodel', 'spongy', 'sponsor', 'sponsored', 'sponsorship', 'spontaneously', 'spooked', 'spool', 'spoor', 'sporadically', 'spore', 'sport', 'sported', 'sporthunting', 'sporting', 'sportsmanship', 'spot', 'spotlight', 'spotted', 'spotting', 'spouse', 'spouting', 'sprained', 'sprang', 'sprawled', 'spray', 'sprayed', 'spraying', 'spraypainting', 'spread', 'spreading', 'spree', 'spreekilling', 'spring', 'sprinkler', 'sprint', 'sprintbut', 'sprinted', 'sprite', 'sprout', 'sprouted', 'sprouting', 'sprung', 'spry', 'spun', 'spur', 'spurned', 'spurning', 'spurred', 'spy', 'spying', 'squabbled', 'squabbling', 'squad', 'squadron', 'squalid', 'squalor', 'squandered', 'square', 'squared', 'squarely', 'squarking', 'squat', 'squatter', 'squawk', 'squeeze', 'squeezed', 'squelch', 'squid', 'squire', 'squirt', 'squishing', 'src', 'stab', 'stabbed', 'stabbing', 'stabilised', 'stability', 'stabilize', 'stabilized', 'stabilizer', 'stabilizes', 'stable', 'stadium', 'staff', 'staffed', 'staffmembers', 'stage', 'staged', 'staggering', 'staging', 'stagnant', 'stagnation', 'stained', 'stair', 'staircase', 'stairwell', 'stake', 'staking', 'stalagmite', 'stalemate', 'stalk', 'stalked', 'stalker', 'stalking', 'stall', 'stalled', 'stalling', 'stalwart', 'stamen', 'stamp', 'stampede', 'stance', 'stand', 'standalone', 'standard', 'standby', 'standing', 'standoff', 'standoffish', 'standstill', 'star', 'starbolt', 'starbolts', 'starburst', 'stardom', 'stardrive', 'stare', 'stared', 'stargazing', 'staring', 'stark', 'starlet', 'starliner', 'starred', 'starring', 'starship', 'starspanning', 'starsuit', 'start', 'started', 'starting', 'startled', 'startling', 'starvation', 'starve', 'starving', 'stasis', 'state', 'stated', 'stated8', 'statement', 'stateof', 'stateoftheart', 'stateside', 'statesman', 'static', 'stating', 'station', 'stationed', 'statistically', 'stats', 'statue', 'statuesFinding', 'statuesby', 'stature', 'status', 'staunch', 'stave', 'stay', 'stayed', 'staying', 'stayon', 'stayout', 'stayput', 'stead', 'steadfast', 'steadfastly', 'steadily', 'steady', 'steak', 'steal', 'stealing', 'stealth', 'stealthily', 'stealthiness', 'stealthy', 'steam', 'steed', 'steel', 'steelshod', 'steelworker', 'steer', 'steered', 'steering', 'stellar', 'stellarium', 'stem', 'stemmed', 'step', 'stepbrother', 'stepdad', 'stepdaughter', 'stepfather', 'stepmother', 'stepped', 'steppedin', 'stepping', 'stepsister', 'stepson', 'stereo', 'stereotype', 'stereotypical', 'sterile', 'sterilityinducing', 'sterilization', 'sterilizing', 'stern', 'sternly', 'steroid', 'stewardship', 'stick', 'stickball', 'sticker', 'stickfigure', 'sticking', 'sticky', 'stifling', 'stigma', 'still', 'stillborn', 'stillfrozen', 'stillgrieving', 'stillliving', 'stillpowerless', 'stimulate', 'stimulated', 'stimulator', 'stimulus', 'sting', 'stinger', 'stinging', 'stint', 'stipulation', 'stir', 'stirred', 'stirring', 'stock', 'stockbroker', 'stockholder', 'stockpile', 'stockpiling', 'stoic', 'stole', 'stolen', 'stomach', 'stomp', 'stomping', 'stone', 'stoneall', 'stonelike', 'stonewalled', 'stony', 'stood', 'stoolie', 'stoop', 'stop', 'stopped', 'stopping', 'storage', 'store', 'stored', 'storehouse', 'storing', 'stork', 'storm', 'stormed', 'stormtrooper', 'stormtroopers', 'stormy', 'story', 'storyline', 'storyteller', 'storywise', 'stow', 'stowaway', 'stowed', 'stowing', 'straddling', 'straggling', 'straight', 'straighten', 'straightened', 'straightens', 'straighter', 'strain', 'strained', 'straining', 'strand', 'stranded', 'stranding', 'strange', 'strangely', 'stranger', 'strangest', 'strangle', 'strangled', 'strangler', 'strangling', 'strap', 'strapped', 'strategic', 'strategically', 'strategist', 'strategy', 'stratosphere', 'straw', 'stray', 'strayed', 'streak', 'streaked', 'stream', 'streaming', 'streamlined', 'street', 'streetgang', 'streetlevel', 'streetsmart', 'streetwise', 'strength', 'strengthaugmenting', 'strengthen', 'strengthened', 'strengthening', 'strenuous', 'stress', 'stressed', 'stressful', 'stressing', 'stretch', 'stretched', 'stretching', 'strewn', 'stricken', 'strict', 'strictly', 'stride', 'striding', 'strife', 'strike', 'strikeIt', 'striked', 'striking', 'string', 'stringing', 'strip', 'stripOne', 'stripped', 'stripper', 'stripping', 'striving', 'stroke', 'stroking', 'stroll', 'strolled', 'strolling', 'strong', 'strongarm', 'stronger', 'strongest', 'strongestbelieving', 'stronghold', 'strongly', 'strongman', 'strongwilled', 'strontium', 'strove', 'struck', 'structure', 'structured', 'struggle', 'struggled', 'struggling', 'strung', 'strut', 'stubborn', 'stubbornly', 'stubbornness', 'stubbornnever', 'stuck', 'studded', 'student', 'studie', 'studied', 'studio', 'studious', 'study', 'studying', 'stuff', 'stuffed', 'stumble', 'stumbled', 'stumbling', 'stump', 'stun', 'stungun', 'stunned', 'stunning', 'stunt', 'stunted', 'stuntman', 'stuntmen', 'stuntwoman', 'stupendous', 'stupid', 'stupidity', 'stupor', 'sturdier', 'stutter', 'stuttering', 'style', 'stylish', 'stylized', 'suave', 'sub', 'subUp', 'subatomic', 'subbasement', 'subboss', 'subcommittee', 'subconscious', 'subconsciously', 'subcutaneous', 'subdivision', 'subdue', 'subdued', 'subdues', 'subduing', 'subhuman', 'subhypnotic', 'subject', 'subjected', 'subjecting', 'subjugate', 'subjugated', 'subjugating', 'subjugation', 'sublimated', 'sublimating', 'subliminal', 'subliminally', 'submachine', 'submarine', 'submerged', 'submerges', 'submerging', 'submersed', 'submicroscopic', 'submission', 'submissive', 'submit', 'submits', 'submitted', 'submitting', 'subordinate', 'subplot', 'subplots', 'subprojects', 'subroutine', 'subscribes', 'subsequent', 'subsequently', 'subservient', 'subset', 'subsided', 'subsidiary', 'subsidize', 'subsist', 'subspace', 'subspecies', 'substance', 'substandard', 'substantial', 'substantially', 'substitute', 'substituting', 'substitution', 'subsumed', 'subsupersonic', 'subterfuge', 'subterranean', 'subtle', 'subtly', 'suburb', 'subversive', 'subvert', 'subverted', 'subverting', 'subway', 'subzero', 'succeed', 'succeeded', 'succeeding', 'succeeds', 'succesful', 'success', 'successful', 'successfully', 'succession', 'successive', 'successor', 'succubus', 'succumb', 'succumbed', 'succumbing', 'succumbs', 'suck', 'sucked', 'sucker', 'suckerpunched', 'sucking', 'suctionfingered', 'sudden', 'suddenly', 'sudy', 'sue', 'sued', 'suffer', 'suffered', 'sufferer', 'suffering', 'suffers', 'sufficient', 'sufficiently', 'suffocating', 'suffocation', 'suffused', 'suggest', 'suggested', 'suggesting', 'suggestion', 'suggests', 'suicidal', 'suicidally', 'suicide', 'suicidebycop', 'suit', 'suitable', 'suitably', 'suite', 'suited', 'sully', 'sum', 'summarily', 'summarized', 'summary', 'summer', 'summerlong', 'summit', 'summon', 'summoned', 'summoning', 'summons', 'sumo', 'sumowrestling', 'sun', 'sunbathe', 'sunbathing', 'sundered', 'sundown', 'sunglass', 'sunk', 'sunken', 'sunlight', 'sunny', 'sunrise', 'sunset', 'sunstone', 'sup', 'super', 'superagent', 'superagents', 'superb', 'superbeing', 'superbeings', 'supercanine', 'supercharged', 'supercharging', 'supercollider', 'supercomputer', 'superconcentrated', 'supercorp', 'supercrime', 'supercriminal', 'supercriminals', 'superdestroyer', 'supereffect', 'superficially', 'superfine', 'superfluous', 'superfreaks', 'superfunctionary', 'supergangs', 'supergenius', 'supergroup', 'superhealing', 'superhero', 'superheroes', 'superheroic', 'superheroics', 'superheroine', 'superheroing', 'superheroism', 'superheroregistration', 'superheros', 'superhuman', 'superhumanly', 'superhumanoriented', 'superhumans', 'superintendent', 'superior', 'superiority', 'supermax', 'supermetabolized', 'superminds', 'supernatural', 'supernaturally', 'supernaturallytinged', 'superoperative', 'superpower', 'superpowered', 'superpowerful', 'superprison', 'supersaturated', 'supersciencemagic', 'superseded', 'superserum', 'supersoldier', 'supersoldiers', 'supersonic', 'superspeed', 'superspeedpowered', 'superspeedrelated', 'superspy', 'superstition', 'superstitious', 'superstrength', 'superstrong', 'supersuit', 'supersuits', 'supertanker', 'superteam', 'superteams', 'superthugs', 'supervillain', 'supervillains', 'supervillains1', 'supervillian', 'supervillians', 'supervise', 'supervised', 'supervising', 'supervision', 'supervisor', 'superweapon', 'suposedly', 'supplant', 'supplanted', 'supplanting', 'supple', 'supplement', 'supplemented', 'suppleness', 'supplication', 'supplied', 'supplier', 'supply', 'supplying', 'support', 'supportThe', 'supported', 'supporter', 'supporting', 'supportive', 'suppose', 'supposed', 'supposedly', 'suppress', 'suppressant', 'suppressed', 'suppressing', 'suppression', 'supremacist', 'supremacy', 'supreme', 'supremely', 'suprise', 'suprised', 'sure', 'surely', 'surety', 'surface', 'surfaceThe', 'surfaced', 'surfacedwellers', 'surfacedwelling', 'surfacing', 'surfboard', 'surge', 'surged', 'surgeon', 'surgery', 'surgical', 'surgically', 'surivors', 'surly', 'surmised', 'surname', 'surpassed', 'surpassing', 'surplus', 'surprise', 'surprised', 'surprising', 'surprisingly', 'surreal', 'surrender', 'surrendered', 'surrendering', 'surreptitiously', 'surrogate', 'surround', 'surrounded', 'surrounding', 'surroundings', 'surveillance', 'surveyed', 'surveying', 'survival', 'survive', 'survived', 'survives', 'surviving', 'survivor', 'survivour', 'susceptibility', 'susceptible', 'suspect', 'suspected', 'suspecting', 'suspend', 'suspended', 'suspends', 'suspense', 'suspension', 'suspicion', 'suspicious', 'sustain', 'sustainable', 'sustained', 'sustaining', 'sustains', 'sutained', 'swallow', 'swallowed', 'swallowing', 'swam', 'swamp', 'swampland', 'swan', 'swap', 'swapped', 'swarm', 'swarming', 'swashbuckler', 'swatted', 'swatting', 'sway', 'swayed', 'swaying', 'swear', 'swearing', 'swears', 'sweat', 'sweatshop', 'sweep', 'sweeping', 'sweet', 'sweeten', 'sweetened', 'sweetheart', 'sweettalked', 'swell', 'swelling', 'swept', 'swerved', 'swerving', 'swift', 'swiftflying', 'swiftly', 'swiftness', 'swim', 'swimmer', 'swimmercanoeist', 'swimming', 'swimsuit', 'swindled', 'swindling', 'swine', 'swing', 'swinging', 'swirlies', 'swirling', 'switch', 'switched', 'switching', 'swoop', 'swoopIn', 'sword', 'swordfight', 'swordmaster', 'swordplay', 'swordsmith', 'swordwielding', 'swore', 'sworn', 'swung', 'symbiosis', 'symbiote', 'symbioteinfected', 'symbiotes', 'symbiotic', 'symbol', 'symbolic', 'symbolize', 'symbolizing', 'symmetrical', 'sympathetic', 'sympathetically', 'sympathize', 'sympathized', 'sympathizer', 'sympathy', 'symptom', 'synapsis', 'synaptic', 'synched', 'syndicate', 'syndromelike', 'synesthete', 'synonymous', 'synthesis', 'synthesize', 'synthesized', 'synthesizer', 'synthesizing', 'synthetic', 'synthetically', 'synthezoid', 'synthezoids', 'synthoid', 'synthosteed', 'synthosteeds', 'synthozoid', 'synthozoids', 'system', 'systematic', 'systematically', 'systematized', 'tAbyss', 'tVeronica', 'tVirus', 'tab', 'table', 'tablet', 'tabloid', 'tabula', 'tachyon', 'tack', 'tackle', 'tackled', 'tackling', 'tactful', 'tactic', 'tactical', 'tactician', 'tag', 'tagged', 'tagging', 'taijutsu', 'tail', 'tailed', 'tailor', 'tailored', 'taint', 'tainted', 'tainting', 'take', 'taken', 'takenin', 'takeoff', 'takeover', 'taking', 'tale', 'talent', 'talented', 'talentthe', 'talisman', 'talk', 'talked', 'talking', 'tall', 'taller', 'tally', 'talon', 'tame', 'tamper', 'tampered', 'tampering', 'tandem', 'tangible', 'tangled', 'tank', 'tanker', 'tanned', 'tantamount', 'tantrum', 'tantu', 'tap', 'tapcaf', 'tape', 'taped', 'taping', 'tapped', 'tar', 'tarantulalike', 'target', 'targeted', 'targeting', 'tarnishing', 'tarot', 'tartflavored', 'taser', 'tasered', 'task', 'tasked', 'taskforce', 'taskmaster', 'taste', 'tasted', 'tasty', 'tat', 'tatter', 'tattered', 'tatto', 'tattoo', 'tattooed', 'taught', 'taughtlearned', 'taunt', 'taunted', 'taunting', 'tavern', 'tax', 'taxi', 'taxidermy', 'tea', 'teach', 'teacher', 'teaching', 'team', 'teamed', 'teamedup', 'teaming', 'teammate', 'teamup', 'teamups', 'teamwork', 'tear', 'tearful', 'tearing', 'tease', 'teased', 'teasing', 'tech', 'technical', 'technicality', 'technically', 'technician', 'technique', 'techno', 'technoanarchist', 'technoform', 'technological', 'technologically', 'technologicallyadvanced', 'technologist', 'technology', 'technologyEarth', 'technologywhich', 'technomage', 'technomagical', 'technomagick', 'technoorganic', 'technopathy', 'technopsycho', 'technosmith', 'technovirus', 'techonlogy', 'techosmith', 'techtheme', 'techthemed', 'tectonic', 'teddy', 'teeming', 'teen', 'teenage', 'teenaged', 'teenager', 'teenhero', 'teetering', 'teeth', 'telecast', 'telecom', 'telecommunication', 'telegram', 'telekinesis', 'telekinetic', 'telekinetically', 'telemetrically', 'telepath', 'telepathic', 'telepathically', 'telepaths', 'telepathy', 'telephone', 'teleport', 'teleportation', 'teleportational', 'teleportationcapable', 'teleported', 'teleporter', 'teleporters', 'teleporting', 'teleports', 'telepresence', 'telescope', 'televised', 'television', 'televisionserial', 'tell', 'teller', 'telling', 'telltale', 'temp', 'temped', 'temper', 'temperament', 'temperamental', 'temperarily', 'temperature', 'template', 'temple', 'temporal', 'temporallydisplaced', 'temporarily', 'temporary', 'tempt', 'temptation', 'tempted', 'tempting', 'tempts', 'ten', 'tenacity', 'tenant', 'tend', 'tended', 'tendency', 'tender', 'tendering', 'tendril', 'tenement', 'tenfold', 'tennis', 'tense', 'tension', 'tensionfilled', 'tent', 'tentacle', 'tentacled', 'tentatively', 'tenth', 'tentimes', 'tenure', 'tepid', 'term', 'terminal', 'terminally', 'terminate', 'terminated', 'terminating', 'termination', 'terminology', 'termite', 'terraform', 'terraforming', 'terrain', 'terrestrial', 'terrible', 'terribly', 'terrific', 'terrified', 'terrifiedwith', 'terrifying', 'terrigenesis', 'territory', 'terror', 'terrorism', 'terrorist', 'terroristic', 'terrorize', 'terrorized', 'terrorizing', 'terrorrists', 'tertiary', 'tesseract', 'test', 'testament', 'tested', 'testfiring', 'testicle', 'testified', 'testify', 'testimony', 'testing', 'testtube', 'tether', 'tetraplegic', 'text', 'th', 'thank', 'thanked', 'thankful', 'thankfully', 'thanking', 'thanks', 'thankyou', 'thanos', 'thats', 'thaw', 'thawed', 'thawing', 'theart', 'theater', 'theatrical', 'theatrically', 'theft', 'theif', 'theme', 'themed', 'themselve', 'themso', 'thenCEO', 'thenHunter', 'thenWhite', 'thenally', 'thenboyfriend', 'thencompany', 'thencrippled', 'thencurrent', 'theneditor', 'thengirlfriend', 'thenheadmaster', 'thenhuman', 'theninebriated', 'thenleader', 'thenlover', 'thenmaster', 'thenpatriarch', 'thenreformed', 'thenteenage', 'theoretical', 'theoretically', 'theorized', 'theorizes', 'theorizing', 'theory', 'theorya', 'therapeutic', 'therapist', 'therapy', 'there', 'thereThis', 'thereafter', 'thereby', 'therefore', 'thermodynamics', 'thermonuclear', 'thermostat', 'thesis', 'theyd', 'theyll', 'theyre', 'theyve', 'thick', 'thickness', 'thickrimmed', 'thief', 'thier', 'thievery', 'thieving', 'thigh', 'thin', 'thing', 'think', 'thinker', 'thinking', 'thinktank', 'thinly', 'thinner', 'third', 'thirdparty', 'thirdstory', 'thirdyear', 'thirst', 'thirsted', 'thirteen', 'thirteenth', 'thirteenyearold', 'thirtieth', 'thirty', 'thirtysix', 'thirtythree', 'thorn', 'thorough', 'thoroughly', 'though', 'thought', 'thoughtful', 'thoughtfully', 'thousand', 'thousandfold', 'thrall', 'thrash', 'thrashed', 'thrawrting', 'thread', 'threat', 'threateing', 'threaten', 'threatened', 'threatening', 'threatens', 'three', 'threedimensional', 'threehit', 'threehundred', 'threesome', 'threetailed', 'threeway', 'threeyear', 'threshold', 'threw', 'thrice', 'thrill', 'thrilled', 'thrillkills', 'thrive', 'thrived', 'throat', 'throe', 'throne', 'thronelike', 'throneworld', 'throng', 'throttle', 'throttled', 'throughout', 'throw', 'throwdown', 'throwing', 'thrown', 'thrust', 'thug', 'thuggish', 'thumb', 'thunder', 'thunderclap', 'thunderstorm', 'thus', 'thusly', 'thwart', 'thwarted', 'thwarting', 'thyroid', 'tiara', 'tick', 'ticked', 'ticket', 'ticking', 'tickled', 'tickling', 'tidal', 'tide', 'tie', 'tied', 'tiedup', 'tiein', 'tier', 'tight', 'tightens', 'tighter', 'tightly', 'tile', 'till', 'time', 'time36', 'timeIn', 'timeTime', 'timecontrolling', 'timed', 'timedisplaced', 'timeframe', 'timeintensive', 'timejump', 'timejumped', 'timeline', 'timeloop', 'timely', 'timemanipulating', 'timeoff', 'timeout', 'timepool', 'timeportal', 'timer', 'timeshifted', 'timeship', 'timesliding', 'timeslip', 'timeslips', 'timespace', 'timestream', 'timetossed', 'timetravel', 'timetraveled', 'timetraveler', 'timetravelers', 'timetraveling', 'timetraveller', 'timetravelling', 'timetripper', 'timid', 'timing', 'tinglylike', 'tinkered', 'tinkering', 'tiny', 'tip', 'tipoff', 'tipped', 'tipping', 'tire', 'tired', 'tirelessly', 'tiring', 'tissue', 'titan', 'titanic', 'titanium', 'title', 'titled', 'toJean', 'toad', 'toast', 'today', 'todayAfter', 'toddler', 'toddleraged', 'toe', 'together', 'toiler', 'toilet', 'token', 'told', 'tolerance', 'tolerate', 'tolerated', 'tolerates', 'toll', 'tomb', 'tombstone', 'tome', 'tommyguns', 'ton', 'tone', 'tong', 'tongue', 'took', 'tookover', 'tool', 'tooling', 'tooth', 'toothless', 'top', 'topic', 'toplevel', 'topline', 'topple', 'toppled', 'toppling', 'topranking', 'topsecret', 'torch', 'torched', 'tore', 'torment', 'tormented', 'tormenting', 'tormentor', 'torn', 'tornado', 'torpedo', 'torrent', 'torso', 'tortoise', 'torture', 'tortured', 'torturing', 'torturous', 'toss', 'tossed', 'tossing', 'total', 'totalitarian', 'totally', 'totem', 'totemic', 'totum', 'touch', 'touched', 'touching', 'tough', 'toughened', 'toughest', 'toughness', 'tour', 'touring', 'tourist', 'tournament', 'tourney', 'tow', 'toward', 'towards', 'tower', 'towering', 'towing', 'town', 'townhouse', 'townsfolk', 'townspeople', 'toxic', 'toxicity', 'toxin', 'toy', 'toying', 'toystore', 'tp', 'trace', 'traced', 'tracer', 'tracing', 'track', 'trackdown', 'tracked', 'tracker', 'tracking', 'tractor', 'trade', 'traded', 'trademark', 'trademarked', 'trader', 'trading', 'tradition', 'traditional', 'traditionally', 'traffic', 'trafficker', 'trafficking', 'tragedy', 'tragic', 'tragically', 'trail', 'trailed', 'trailer', 'train', 'trained', 'trainee', 'trainer', 'training', 'trait', 'traitor', 'traitorous', 'trajectory', 'trampling', 'trance', 'tranformed', 'tranquility', 'tranquilizer', 'transaction', 'transcends', 'transdimensional', 'transducer', 'transfer', 'transferals', 'transfered', 'transference', 'transfering', 'transferred', 'transferring', 'transform', 'transformation', 'transformed', 'transformer', 'transforming', 'transforms', 'transfusion', 'transgression', 'transistorized', 'transit', 'transition', 'transitional', 'transitioned', 'translate', 'translated', 'translating', 'translation', 'translator', 'transliteration', 'translucent', 'transmission', 'transmitted', 'transmitter', 'transmitting', 'transmode', 'transmutating', 'transmutation', 'transmute', 'transmuted', 'transmuting', 'transnormal', 'transparent', 'transpired', 'transplant', 'transplanted', 'transplanting', 'transponder', 'transport', 'transportation', 'transported', 'transporter', 'transporting', 'transposed', 'transspacial', 'transtemporal', 'trap', 'trap9', 'trapeze', 'trapped', 'trapping', 'trash', 'trashed', 'trashtalk', 'trashtalking', 'trauma', 'traumatic', 'traumatized', 'traumatizing', 'travel', 'traveled', 'traveler', 'traveling', 'travelled', 'traveller', 'travelling', 'traverse', 'traversing', 'travesty', 'tray', 'treacherous', 'treachery', 'treading', 'treadmill', 'treason', 'treasonous', 'treasure', 'treasury', 'treat', 'treatable', 'treated', 'treating', 'treatment', 'treaty', 'tree', 'treealong', 'treeroots', 'trek', 'trekked', 'tremble', 'tremendous', 'trench', 'trenchcoat', 'trespasser', 'tress', 'trestle', 'trial', 'triangle', 'tribal', 'tribe', 'tribesman', 'tribunal', 'tribute', 'trick', 'tricked', 'trickery', 'tricking', 'trickster', 'tricycleriding', 'trident', 'tridentArthur', 'tried', 'trigger', 'triggered', 'triggering', 'trillion', 'trim', 'trinket', 'trio', 'trip', 'triple', 'tripleheaded', 'triplet', 'tripline', 'tripolymer', 'tripped', 'tripping', 'tripwires', 'tritium', 'triumph', 'triumphant', 'triumphed', 'triumphing', 'triumvirate', 'trivial', 'trois', 'trojan', 'troll', 'trolley', 'trolling', 'troop', 'trooper', 'troops2', 'trophy', 'tropical', 'trouble', 'troubled', 'troublemaker', 'troublethe', 'troubling', 'trounced', 'trouncing', 'troupe', 'trove', 'truce', 'truck', 'trucker', 'truckerturnedspace', 'truckmounted', 'true', 'truest', 'truies', 'trully', 'truly', 'trump', 'trumpetplaying', 'trunk', 'trust', 'trusted', 'trustee', 'trusting', 'trustworthy', 'trusty', 'truth', 'try', 'trying', 'tryout', 'tryst', 'tshirt', 'tshirts', 'tub', 'tube', 'tuber', 'tubing', 'tuition', 'tumble', 'tumor', 'tumorscarring', 'tumultuous', 'tune', 'tunic', 'tuning', 'tunnel', 'turbine', 'turbulent', 'turf', 'turkey', 'turmoil', 'turn', 'turncoat', 'turned', 'turnedout', 'turning', 'turningpoint', 'turnofthecentury', 'turtle', 'tussle', 'tussled', 'tutelage', 'tutor', 'tutored', 'tutoring', 'tuxedo', 'tweaked', 'twelfth', 'twelve', 'twelveyear', 'twelveyearold', 'twentieth', 'twentiethcentury', 'twenty', 'twentyfirst', 'twentyfour', 'twentysecond', 'twentythree', 'twice', 'twicenamed', 'twig', 'twin', 'twirl', 'twist', 'twisted', 'twister', 'twisting', 'twitch', 'two', 'twoMarVell', 'twocenturyold', 'twofifths', 'twofold', 'twoheaded', 'twoman', 'twomonth', 'twoontwo', 'twotailed', 'tycoon', 'tying', 'type', 'typed', 'typhoon', 'typical', 'typically', 'typological', 'tyrannical', 'tyranny', 'tyrant', 'u', 'uemeur', 'ugliness', 'ugly', 'uh', 'ulterior', 'ultimate', 'ultimately', 'ultimatum', 'ultra', 'ultrahigh', 'ultrasonic', 'ultrasound', 'ultraspeed', 'ultrastereotypical', 'ultraviolet', 'umbilical', 'umbrella', 'unable', 'unacceptable', 'unaccounted', 'unaccustomed', 'unaffected', 'unaffiliated', 'unaging', 'unanimous', 'unanswered', 'unapologetically', 'unappreciative', 'unattended', 'unauthorised', 'unauthorized', 'unaware', 'unawares', 'unbalance', 'unbalanced', 'unbeatable', 'unbeknown', 'unbeknownst', 'unbelievable', 'unbeliever', 'unborn', 'unbrainwash', 'unbreakable', 'unbridgeable', 'uncanny', 'uncaptured', 'uncaring', 'uncertain', 'uncertainty', 'unchallenged', 'unchanged', 'uncharacteristic', 'uncharacteristically', 'uncharted', 'unchecked', 'uncivil', 'uncle', 'unclear', 'uncleinlaw', 'uncomfortable', 'uncomfortably', 'uncommon', 'unconcious', 'unconditional', 'unconfirmed', 'unconnected', 'unconscious', 'unconscious3', 'unconsciousShortly', 'unconsciously', 'unconsciousness', 'unconsummated', 'uncontrollable', 'uncontrollably', 'uncontrolled', 'unconventional', 'unconvinced', 'uncorrupted', 'uncover', 'uncovered', 'uncovering', 'uncovers', 'uncreation', 'undamaged', 'undaunted', 'undead', 'undeniable', 'underage', 'underappreciated', 'underconstruction', 'undercover', 'underdeveloped', 'underestimate', 'underestimated', 'underestimation', 'underfunded', 'undergo', 'undergoes', 'undergoing', 'undergone', 'undergraduate', 'underground', 'underling', 'underlining', 'underlying', 'undermine', 'underneath', 'undersea', 'understand', 'understandably', 'understanding', 'understands', 'understood', 'undertake', 'undertaken', 'undertakes', 'undertaking', 'undertook', 'underwater', 'underway', 'underwear', 'underwent', 'underworld', 'undeserving', 'undesirable', 'undetermined', 'undeterred', 'undeveloped', 'undid', 'undisclosed', 'undisguised', 'undistinguished', 'undisturbed', 'undo', 'undocumented', 'undoes', 'undoing', 'undone', 'undress', 'undying', 'unearth', 'unearthly', 'unease', 'uneasiness', 'uneasy', 'unemployed', 'unemployment', 'unending', 'unethical', 'unexpected', 'unexpectedly', 'unexplainable', 'unexplained', 'unexplored', 'unfair', 'unfairly', 'unfaithful', 'unfamiliar', 'unfathomable', 'unfavorably', 'unfazed', 'unfeeling', 'unfinished', 'unfit', 'unfold', 'unfolded', 'unfolding', 'unforeseeable', 'unforeseen', 'unfortunate', 'unfortunately', 'unfreeze', 'unfreezes', 'unfriendly', 'unfulfilled', 'ungodly', 'ungrateful', 'ungrounded', 'unhappily', 'unhappy', 'unharmed', 'unhindered', 'unhinged', 'unholy', 'unhurt', 'unhypnotized', 'unidentifiable', 'unidentified', 'unification', 'unified', 'uniform', 'uniformly', 'unify', 'unifying', 'unimaginable', 'unimpressive', 'uninfected', 'uninhabitable', 'uninhabited', 'uninhibited', 'uninspired', 'unintended', 'unintentionally', 'uninterested', 'uninteresting', 'union', 'unique', 'unit', 'unite', 'united', 'unites', 'uniting', 'unitl', 'universal', 'universe', 'universemenacing', 'universewide', 'university', 'unjust', 'unjustly', 'unkillable', 'unknowing', 'unknowingly', 'unknown', 'unknownsourced', 'unleash', 'unleashed', 'unleashes', 'unleashing', 'unless', 'unlike', 'unlikely', 'unlimited', 'unliving', 'unloading', 'unlock', 'unlockable', 'unlocked', 'unlocking', 'unloving', 'unmade', 'unmarked', 'unmarried', 'unmask', 'unmasked', 'unmasking', 'unmasks', 'unmatched', 'unmerge', 'unmolested', 'unmovable', 'unmoved', 'unmoving', 'unnamed', 'unnatural', 'unnaturally', 'unnoticed', 'unoccupied', 'unofficial', 'unofficially', 'unopposed', 'unordinary', 'unorganized', 'unorthodox', 'unpaid', 'unparalleled', 'unpleasant', 'unpopular', 'unprecedented', 'unpredictability', 'unpredictable', 'unpredictably', 'unprepared', 'unpronouncable', 'unprotected', 'unprovoked', 'unpunished', 'unquestioning', 'unquestioningly', 'unrated', 'unravel', 'unraveled', 'unraveling', 'unravelling', 'unreachable', 'unrealistic', 'unreasonable', 'unrecognizable', 'unrecorded', 'unregistered', 'unrelated', 'unrelenting', 'unremarkable', 'unrepentant', 'unreported', 'unrequited', 'unresolved', 'unrest', 'unrestored', 'unretired', 'unrevealed', 'unrivaled', 'unsatisfactory', 'unsatisfied', 'unsatisfying', 'unscarred', 'unscathed', 'unscheduled', 'unscratched', 'unscrupulous', 'unsecured', 'unseen', 'unselfish', 'unshaken', 'unsheathed', 'unshielded', 'unskilled', 'unsmasked', 'unsolved', 'unsophisticated', 'unspeakable', 'unspecified', 'unspoken', 'unstable', 'unsteady', 'unstoppable', 'unsuccessful', 'unsuccessfully', 'unsucessfully', 'unsuited', 'unsure', 'unsurprisingly', 'unsuspecting', 'untainted', 'untapped', 'untested', 'unthinkable', 'untidy', 'untie', 'untill', 'untimely', 'unto', 'untold', 'untouchable', 'untouched', 'untraceable', 'untrained', 'untrue', 'unusable', 'unused', 'unusual', 'unusually', 'unveil', 'unveiled', 'unveiling', 'unveils', 'unwanted', 'unwarranted', 'unwilling', 'unwillingly', 'unwillingness', 'unwitting', 'unwittingly', 'unworldly', 'unworthy', 'unyielding', 'up1', 'upandcoming', 'upbeat', 'upbringing', 'upcoming', 'update', 'updated', 'upgrade', 'upgraded', 'upgrading', 'upheaval', 'uphold', 'upholding', 'upload', 'uploaded', 'uploading', 'upon', 'upped', 'upper', 'uppercut', 'upperhand', 'uprising', 'uproot', 'uprooted', 'ups', 'upset', 'upsetting', 'upshot', 'upside', 'upstage', 'upstaged', 'upstairs', 'upstate', 'upturned', 'upward', 'uranium', 'urban', 'urchin', 'urge', 'urged', 'urgent', 'urging', 'us', 'usable', 'usage', 'use', 'useable', 'used', 'useful', 'usefulness', 'useless', 'user', 'userfriendly', 'usher', 'ushered', 'ushering', 'using', 'usual', 'usually', 'usurp', 'usurpation', 'usurped', 'usurper', 'usurping', 'usurps', 'utero', 'uterus', 'utilitarian', 'utility', 'utilize', 'utilized', 'utilizes', 'utilizing', 'utopia', 'utter', 'uttered', 'uttering', 'utterly', 'utters', 'v', 'v10', 'vacant', 'vacate', 'vacated', 'vacation', 'vacationing', 'vaccination', 'vaccine', 'vacillate', 'vacuum', 'vagrancy', 'vagrant', 'vague', 'vaguely', 'vagueness', 'vain', 'vainly', 'valar', 'valet', 'valiant', 'valid', 'validate', 'validity', 'valley', 'valuable', 'value', 'valued', 'vampire', 'vampiresthe', 'vampirewithasoul', 'vampiric', 'vampirism', 'vampirized', 'van', 'vandalism', 'vandalize', 'vandalized', 'vandalizing', 'vanguard', 'vanish', 'vanished', 'vanishes', 'vanishing', 'vanity', 'vanquish', 'vanquished', 'vanquishing', 'vapor', 'vaporized', 'vaporizes', 'vaporizing', 'vaporsealed', 'variable', 'variant', 'variation', 'varied', 'varies', 'variety', 'various', 'variously', 'vary', 'varying', 'vase', 'vast', 'vastly', 'vat', 'vatgrown', 'vaudeville', 'vault', 'vaulted', 'veered', 'vegetarian', 'vegetarianism', 'vegetation', 'vegetative', 'vehemently', 'vehicle', 'veiled', 'vein', 'velocibiology', 'venality', 'vendetta', 'vendettalevel', 'vendor', 'venerable', 'vengeance', 'vengeanceseeking', 'vengeful', 'vengefully', 'vengence', 'venom', 'venomous', 'vent', 'vented', 'ventriloquist', 'venture', 'ventured', 'venturing', 'venue', 'verbal', 'verbally', 'verdict', 'verge', 'verified', 'verify', 'veritable', 'vermin', 'version', 'vertically', 'vertigo', 'verve', 'vessel', 'vest', 'vestige', 'veteran', 'veterinary', 'vexes', 'via', 'viable', 'vial', 'vibed', 'vibranium', 'vibrate', 'vibrated', 'vibrates', 'vibrating', 'vibration', 'vibrational', 'vibrationally', 'vibrationallycharged', 'vibratory', 'vica', 'vice', 'viceversa', 'vicinity', 'vicious', 'viciously', 'viciousness', 'victim', 'victimless', 'victimís', 'victor', 'victorious', 'victoriously', 'victory', 'vide', 'video', 'videotape', 'videotaped', 'vied', 'view', 'viewed', 'viewer', 'viewing', 'viewpoint', 'vigil', 'vigilance', 'vigilante', 'vigilantehero', 'vigilantism', 'vigorhe', 'vigorous', 'vile', 'villa', 'village', 'villager', 'villain', 'villainess', 'villainous', 'villainy', 'villanous', 'villian', 'villians', 'vindicate', 'vindictive', 'vine', 'vintage', 'violate', 'violated', 'violates', 'violation', 'violence', 'violent', 'violently', 'viral', 'virgin', 'virology', 'virtual', 'virtually', 'virtue', 'virus', 'visa', 'visage', 'viscous', 'viscously', 'visible', 'vision', 'visionary', 'visit', 'visitation', 'visited', 'visiting', 'visitor', 'visor', 'visored', 'visting', 'visual', 'vita', 'vital', 'vitality', 'vitals', 'vitamin', 'vivid', 'vivisected', 'vivisection', 'vocal', 'vocally', 'voice', 'voicecitation', 'voiced', 'voiceturning', 'voicing', 'void', 'voidnaut', 'vol', 'volatile', 'volcanic', 'volcano', 'voltage', 'volume', 'voluntarily', 'voluntary', 'volunteer', 'volunteered', 'voluptuous', 'vomit', 'vomited', 'von', 'voodoo', 'voodoosorcerer', 'voraciously', 'vortex', 'vote', 'voted', 'vouched', 'vow', 'vowed', 'vowes', 'vowing', 'voyaged', 'vulnerability', 'vulnerable', 'vying', 'wa', 'waLayla', 'waddle', 'waded', 'wage', 'waged', 'wager', 'wagered', 'waging', 'wail', 'waist', 'wait', 'waited', 'waiting', 'waitress', 'wake', 'wakefulness', 'waking', 'walk', 'walkabout', 'walked', 'walkedin', 'walker', 'walking', 'wall', 'wallcrawler', 'wallet', 'wallonly', 'wallowing', 'wallsonly', 'wand', 'wander', 'wandered', 'wanderer', 'wandering', 'wanderlust', 'waning', 'wannabe', 'want', 'wanted', 'wanting', 'war', 'ward', 'warded', 'warden', 'wardrobe', 'wardrobeIt', 'warehouse', 'warfare', 'warhead', 'warlike', 'warlock', 'warlord', 'warm', 'warmed', 'warmly', 'warmup', 'warn', 'warned', 'warning', 'warns', 'warp', 'warpath', 'warped', 'warpedoff', 'warpies', 'warping', 'warrant', 'warranted', 'warred', 'warren', 'warring', 'warrior', 'warriorgoddess', 'warship', 'wartime', 'wartorn', 'wary', 'warzone', 'warzones', 'wash', 'washed', 'washing', 'washout', 'wasnt', 'wasp', 'waste', 'wasted', 'wasteland', 'wasting', 'watch', 'watchband', 'watchdog', 'watched', 'watchedon', 'watchedover', 'watcher', 'watchful', 'watching', 'watchlike', 'watchmaker', 'watchmaking', 'water', 'waterbearer', 'waterbike', 'waterbreathing', 'waterfall', 'waterfowl', 'waterfront', 'watering', 'watery', 'wave', 'waved', 'wavefront', 'waving', 'wax', 'way', 'waylaid', 'waylay', 'weak', 'weaken', 'weakened', 'weakening', 'weakens', 'weaker', 'weakest', 'weakly', 'weakness', 'wealth', 'wealthiest', 'wealthy', 'weaned', 'weapon', 'weaponbut', 'weaponize', 'weaponized', 'weaponry', 'weaponwielding', 'wear', 'wearer', 'wearied', 'wearing', 'weary', 'weaseled', 'weather', 'weathercontrolling', 'weathermanipulating', 'weaving', 'web', 'webbed', 'webbing', 'webcam', 'webdummy', 'webfluid', 'webheads', 'webline', 'webshooter', 'website', 'webslinger', 'webslingers', 'webslinging', 'webspinners', 'wed', 'wedded', 'wedding', 'wedge', 'wedlock', 'weed', 'week', 'weekend', 'weekendsonly', 'weeklong', 'weekly', 'weeksHowever', 'weened', 'weep', 'weeps', 'weigh', 'weighing', 'weighs', 'weight', 'weird', 'weirder', 'weirdness', 'welcome', 'welcomed', 'welcoming', 'welfare', 'well', 'wellShe', 'wellbalanced', 'wellbeing', 'welldeserved', 'welldocumented', 'welled', 'wellintentioned', 'wellknown', 'wellmeaning', 'wellorganized', 'wellplanned', 'wellreceived', 'wellrespected', 'went', 'wentoff', 'wenton', 'wentthrough', 'wept', 'wereThis', 'werehog', 'werejaguar', 'werent', 'werewolf', 'west', 'western', 'wet', 'wetting', 'whacked', 'whacking', 'whackjob', 'whale', 'whalelike', 'whaler', 'whatever', 'whats', 'whatsoever', 'wheel', 'wheelchair', 'wheelchairbound', 'whence', 'whenever', 'whereabouts', 'whereas', 'whereby', 'wherein', 'whereupon', 'wherever', 'whether', 'whichever', 'whilst', 'whim', 'whimper', 'whimsically', 'whip', 'whipped', 'whirled', 'whirling', 'whirlwind', 'whisked', 'whispered', 'whistle', 'white', 'whiteandblackstriped', 'whitehot', 'whiterobed', 'whittled', 'who', 'whoever', 'whole', 'wholeheartedly', 'wholesale', 'wholl', 'wholly', 'whore', 'whose', 'whwheres', 'wicca', 'wicked', 'wickedly', 'wickedness', 'wide', 'widely', 'widened', 'widespread', 'widow', 'widowed', 'wield', 'wielded', 'wielder', 'wielders', 'wielding', 'wields', 'wife', 'wifelater', 'wifetobe', 'wig', 'wiggle', 'wight', 'wild', 'wildcard', 'wilderness', 'wildfire', 'wildlife', 'wildly', 'will', 'willed', 'willful', 'willfully', 'willing', 'willingly', 'willingness', 'willpower', 'willsapping', 'wimp', 'win', 'wind', 'windfall', 'windflight', 'winding', 'window', 'windowless', 'windshield', 'windswept', 'wine', 'wing', 'winged', 'wingman', 'wink', 'winner', 'winning', 'winter', 'wintry', 'wipe', 'wiped', 'wiping', 'wire', 'wired', 'wireless', 'wiring', 'wisdom', 'wise', 'wisecrack', 'wisecracking', 'wised', 'wisely', 'wiser', 'wish', 'wished', 'wishing', 'wit', 'witch', 'witchcraft', 'witchqueen', 'withdraw', 'withdrawing', 'withdrawn', 'withdraws', 'withdrew', 'withered', 'withheld', 'withhis', 'withhold', 'within', 'without', 'withstand', 'withstanding', 'withstood', 'witht', 'witness', 'witnessed', 'witnessing', 'witty', 'wizard', 'wizarding', 'wizardry', 'woke', 'woken', 'wolf', 'wolfbeing', 'wolflike', 'woman', 'womb', 'wonder', 'wondered', 'wonderfully', 'wondering', 'wont', 'wood', 'woodcarver', 'wooden', 'woodland', 'wooed', 'woolly', 'word', 'worded', 'wordlessly', 'wore', 'work', 'workaholic', 'workaround', 'worked', 'worker', 'working', 'workload', 'workman', 'workone', 'workout', 'workplace', 'workshop', 'workweek', 'world', 'world8', 'worldYou', 'worlda', 'worldconsumer', 'worlddestroying', 'worlddevourer', 'worlddevouring', 'worldeater', 'worldfamous', 'worldly', 'worldrenowned', 'worldsaving', 'worldshattering', 'worldship', 'worldships', 'worldview', 'worldviews', 'worldwide', 'worm', 'wormhole', 'worn', 'worried', 'worry', 'worrying', 'worse', 'worsen', 'worsened', 'worsening', 'worship', 'worshiped', 'worshiper', 'worshiping', 'worshipped', 'worshipper', 'worshipping', 'worst', 'worth', 'worthiness', 'worthless', 'worthwhile', 'worthy', 'worthyofnote', 'would', 'wouldbe', 'wouldnt', 'wouldnít', 'wouldve', 'wouldwouldnt', 'wound', 'wounded', 'woundedShe', 'wounding', 'woven', 'wp', 'wracked', 'wraith', 'wraithform', 'wraithforms', 'wraithlike', 'wrap', 'wrapped', 'wrapping', 'wrath', 'wreak', 'wreaked', 'wreaking', 'wreck', 'wreckage', 'wrecked', 'wrecking', 'wrenched', 'wrest', 'wrested', 'wrestle', 'wrestled', 'wrestler', 'wrestling', 'wrist', 'write', 'writein', 'writeoff', 'writer', 'writing', 'written', 'wrong', 'wrongdoer', 'wrongdoing', 'wronged', 'wrongful', 'wrongly', 'wrongwhatever', 'wrote', 'wrought', 'wry', 'wtih', 'wunderkind', 'xFactor', 'xavier', 'xelement', 'xenomorphs', 'xenophobia', 'xfactor', 'xray', 'yacht', 'yang', 'yanked', 'yard', 'yarva', 'year', 'yearalthough', 'yearlong', 'yearly', 'yearned', 'yearning', 'yearold', 'yearsMonths', 'yearsold', 'yell', 'yelled', 'yelling', 'yellow', 'yellowringed', 'yen', 'yes', 'yesterday', 'yet', 'yetilike', 'yield', 'yielded', 'yielding', 'ying', 'ym', 'yolk', 'youd', 'youll', 'young', 'younger', 'youngest', 'youngster', 'youth', 'youthey', 'youthful', 'youtube', 'youve', 'yoyo', 'zeal', 'zealot', 'zealous', 'zero', 'zeropoint', 'zeropose', 'zetabeam', 'zigzagging', 'zombie', 'zombielike', 'zone', 'zoning', 'zoo', 'zoologist', 'zoology', 'zoom', 'zoomed', 'Éowyn', 'Ñoldor', 'Ñoldors', 'Ākādo', 'Ďkidí', 'Ōtsutsuki', 'Ţepeş', 'ǣmortal', 'ˈnaɪəlɨs', 'Σ', 'ε', 'Звезда', 'Крылова', 'Ланья', 'Петровна', 'Сергеевна', 'Тёмная', 'الساحر', 'الغول', 'رأس', 'アーカード', '拳王', '駄犬']\n"
     ]
    }
   ],
   "source": [
    "tfidf_vect = TfidfVectorizer(analyzer=clean_history)\n",
    "X_tfidf = tfidf_vect.fit_transform(df['history_text'])\n",
    "print(X_tfidf.shape)\n",
    "print(tfidf_vect.get_feature_names())"
   ]
  },
  {
   "cell_type": "markdown",
   "metadata": {},
   "source": [
    "#### Vectorizers output sparse matrices\n",
    "\n",
    "_**Sparse Matrix**: A matrix in which most entries are 0. In the interest of efficient storage, a sparse matrix will be stored by only storing the locations of the non-zero elements._"
   ]
  },
  {
   "cell_type": "code",
   "execution_count": 10,
   "metadata": {
    "ExecuteTime": {
     "end_time": "2021-01-07T20:10:25.549511Z",
     "start_time": "2021-01-07T20:10:25.429689Z"
    }
   },
   "outputs": [
    {
     "data": {
      "text/html": [
       "<div>\n",
       "<style scoped>\n",
       "    .dataframe tbody tr th:only-of-type {\n",
       "        vertical-align: middle;\n",
       "    }\n",
       "\n",
       "    .dataframe tbody tr th {\n",
       "        vertical-align: top;\n",
       "    }\n",
       "\n",
       "    .dataframe thead th {\n",
       "        text-align: right;\n",
       "    }\n",
       "</style>\n",
       "<table border=\"1\" class=\"dataframe\">\n",
       "  <thead>\n",
       "    <tr style=\"text-align: right;\">\n",
       "      <th></th>\n",
       "      <th></th>\n",
       "      <th>0</th>\n",
       "      <th>002</th>\n",
       "      <th>0068</th>\n",
       "      <th>01</th>\n",
       "      <th>03</th>\n",
       "      <th>030</th>\n",
       "      <th>071</th>\n",
       "      <th>08</th>\n",
       "      <th>084</th>\n",
       "      <th>...</th>\n",
       "      <th>Ланья</th>\n",
       "      <th>Петровна</th>\n",
       "      <th>Сергеевна</th>\n",
       "      <th>Тёмная</th>\n",
       "      <th>الساحر</th>\n",
       "      <th>الغول</th>\n",
       "      <th>رأس</th>\n",
       "      <th>アーカード</th>\n",
       "      <th>拳王</th>\n",
       "      <th>駄犬</th>\n",
       "    </tr>\n",
       "  </thead>\n",
       "  <tbody>\n",
       "    <tr>\n",
       "      <th>0</th>\n",
       "      <td>0.000000</td>\n",
       "      <td>0.0</td>\n",
       "      <td>0.0</td>\n",
       "      <td>0.0</td>\n",
       "      <td>0.0</td>\n",
       "      <td>0.0</td>\n",
       "      <td>0.0</td>\n",
       "      <td>0.0</td>\n",
       "      <td>0.0</td>\n",
       "      <td>0.0</td>\n",
       "      <td>...</td>\n",
       "      <td>0.0</td>\n",
       "      <td>0.0</td>\n",
       "      <td>0.0</td>\n",
       "      <td>0.0</td>\n",
       "      <td>0.0</td>\n",
       "      <td>0.0</td>\n",
       "      <td>0.0</td>\n",
       "      <td>0.0</td>\n",
       "      <td>0.0</td>\n",
       "      <td>0.0</td>\n",
       "    </tr>\n",
       "    <tr>\n",
       "      <th>1</th>\n",
       "      <td>0.014109</td>\n",
       "      <td>0.0</td>\n",
       "      <td>0.0</td>\n",
       "      <td>0.0</td>\n",
       "      <td>0.0</td>\n",
       "      <td>0.0</td>\n",
       "      <td>0.0</td>\n",
       "      <td>0.0</td>\n",
       "      <td>0.0</td>\n",
       "      <td>0.0</td>\n",
       "      <td>...</td>\n",
       "      <td>0.0</td>\n",
       "      <td>0.0</td>\n",
       "      <td>0.0</td>\n",
       "      <td>0.0</td>\n",
       "      <td>0.0</td>\n",
       "      <td>0.0</td>\n",
       "      <td>0.0</td>\n",
       "      <td>0.0</td>\n",
       "      <td>0.0</td>\n",
       "      <td>0.0</td>\n",
       "    </tr>\n",
       "    <tr>\n",
       "      <th>2</th>\n",
       "      <td>0.000000</td>\n",
       "      <td>0.0</td>\n",
       "      <td>0.0</td>\n",
       "      <td>0.0</td>\n",
       "      <td>0.0</td>\n",
       "      <td>0.0</td>\n",
       "      <td>0.0</td>\n",
       "      <td>0.0</td>\n",
       "      <td>0.0</td>\n",
       "      <td>0.0</td>\n",
       "      <td>...</td>\n",
       "      <td>0.0</td>\n",
       "      <td>0.0</td>\n",
       "      <td>0.0</td>\n",
       "      <td>0.0</td>\n",
       "      <td>0.0</td>\n",
       "      <td>0.0</td>\n",
       "      <td>0.0</td>\n",
       "      <td>0.0</td>\n",
       "      <td>0.0</td>\n",
       "      <td>0.0</td>\n",
       "    </tr>\n",
       "    <tr>\n",
       "      <th>3</th>\n",
       "      <td>0.000000</td>\n",
       "      <td>0.0</td>\n",
       "      <td>0.0</td>\n",
       "      <td>0.0</td>\n",
       "      <td>0.0</td>\n",
       "      <td>0.0</td>\n",
       "      <td>0.0</td>\n",
       "      <td>0.0</td>\n",
       "      <td>0.0</td>\n",
       "      <td>0.0</td>\n",
       "      <td>...</td>\n",
       "      <td>0.0</td>\n",
       "      <td>0.0</td>\n",
       "      <td>0.0</td>\n",
       "      <td>0.0</td>\n",
       "      <td>0.0</td>\n",
       "      <td>0.0</td>\n",
       "      <td>0.0</td>\n",
       "      <td>0.0</td>\n",
       "      <td>0.0</td>\n",
       "      <td>0.0</td>\n",
       "    </tr>\n",
       "    <tr>\n",
       "      <th>4</th>\n",
       "      <td>0.000000</td>\n",
       "      <td>0.0</td>\n",
       "      <td>0.0</td>\n",
       "      <td>0.0</td>\n",
       "      <td>0.0</td>\n",
       "      <td>0.0</td>\n",
       "      <td>0.0</td>\n",
       "      <td>0.0</td>\n",
       "      <td>0.0</td>\n",
       "      <td>0.0</td>\n",
       "      <td>...</td>\n",
       "      <td>0.0</td>\n",
       "      <td>0.0</td>\n",
       "      <td>0.0</td>\n",
       "      <td>0.0</td>\n",
       "      <td>0.0</td>\n",
       "      <td>0.0</td>\n",
       "      <td>0.0</td>\n",
       "      <td>0.0</td>\n",
       "      <td>0.0</td>\n",
       "      <td>0.0</td>\n",
       "    </tr>\n",
       "  </tbody>\n",
       "</table>\n",
       "<p>5 rows × 33977 columns</p>\n",
       "</div>"
      ],
      "text/plain": [
       "               0  002  0068   01   03  030  071   08  084 ...   Ланья  \\\n",
       "0  0.000000  0.0  0.0   0.0  0.0  0.0  0.0  0.0  0.0  0.0 ...     0.0   \n",
       "1  0.014109  0.0  0.0   0.0  0.0  0.0  0.0  0.0  0.0  0.0 ...     0.0   \n",
       "2  0.000000  0.0  0.0   0.0  0.0  0.0  0.0  0.0  0.0  0.0 ...     0.0   \n",
       "3  0.000000  0.0  0.0   0.0  0.0  0.0  0.0  0.0  0.0  0.0 ...     0.0   \n",
       "4  0.000000  0.0  0.0   0.0  0.0  0.0  0.0  0.0  0.0  0.0 ...     0.0   \n",
       "\n",
       "   Петровна  Сергеевна  Тёмная  الساحر  الغول  رأس  アーカード   拳王   駄犬  \n",
       "0       0.0        0.0     0.0     0.0    0.0  0.0    0.0  0.0  0.0  \n",
       "1       0.0        0.0     0.0     0.0    0.0  0.0    0.0  0.0  0.0  \n",
       "2       0.0        0.0     0.0     0.0    0.0  0.0    0.0  0.0  0.0  \n",
       "3       0.0        0.0     0.0     0.0    0.0  0.0    0.0  0.0  0.0  \n",
       "4       0.0        0.0     0.0     0.0    0.0  0.0    0.0  0.0  0.0  \n",
       "\n",
       "[5 rows x 33977 columns]"
      ]
     },
     "execution_count": 10,
     "metadata": {},
     "output_type": "execute_result"
    }
   ],
   "source": [
    "X_tfidf_df = pd.DataFrame(X_tfidf.toarray())\n",
    "X_tfidf_df.columns = tfidf_vect.get_feature_names()\n",
    "X_tfidf_df.head()"
   ]
  },
  {
   "cell_type": "markdown",
   "metadata": {},
   "source": [
    "## Feature Engineering "
   ]
  },
  {
   "cell_type": "code",
   "execution_count": 11,
   "metadata": {
    "ExecuteTime": {
     "end_time": "2021-01-07T20:10:25.566409Z",
     "start_time": "2021-01-07T20:10:25.551140Z"
    }
   },
   "outputs": [
    {
     "name": "stdout",
     "output_type": "stream",
     "text": [
      "<class 'pandas.core.frame.DataFrame'>\n",
      "Int64Index: 1167 entries, 0 to 1449\n",
      "Data columns (total 6 columns):\n",
      "name             1167 non-null object\n",
      "history_text     1167 non-null object\n",
      "creator          1167 non-null object\n",
      "alignment        1167 non-null object\n",
      "history_clean    1167 non-null object\n",
      "history_len      1167 non-null int64\n",
      "dtypes: int64(1), object(5)\n",
      "memory usage: 63.8+ KB\n"
     ]
    }
   ],
   "source": [
    "df['history_len'] = df['history_text'].apply(lambda x: len(x) - x.count(\" \")) #subtracting whitespace\n",
    "df.info()\n"
   ]
  },
  {
   "cell_type": "code",
   "execution_count": 12,
   "metadata": {
    "ExecuteTime": {
     "end_time": "2021-01-07T20:10:26.080504Z",
     "start_time": "2021-01-07T20:10:25.568067Z"
    }
   },
   "outputs": [
    {
     "name": "stderr",
     "output_type": "stream",
     "text": [
      "/Users/amberyandow/anaconda3/envs/learn-env/lib/python3.6/site-packages/matplotlib/axes/_axes.py:6521: MatplotlibDeprecationWarning: \n",
      "The 'normed' kwarg was deprecated in Matplotlib 2.1 and will be removed in 3.1. Use 'density' instead.\n",
      "  alternative=\"'density'\", removal=\"3.1\")\n"
     ]
    },
    {
     "data": {
      "image/png": "[encoded data removed]",
      "text/plain": [
       "<Figure size 432x288 with 1 Axes>"
      ]
     },
     "metadata": {
      "needs_background": "light"
     },
     "output_type": "display_data"
    }
   ],
   "source": [
    "bins = np.linspace(0, 5000, 100)\n",
    "pyplot.hist(df[df['alignment'] == 'Good']['history_len'], bins, alpha=0.5, normed=True, label='Good')\n",
    "pyplot.hist(df[df['alignment'] == 'Bad']['history_len'], bins, alpha=0.5, normed=True, label='Bad')\n",
    "pyplot.hist(df[df['alignment'] == 'Neutral']['history_len'], bins, alpha=0.5, normed=True, label='Neutral')\n",
    "pyplot.legend(loc='upper right')\n",
    "pyplot.show()"
   ]
  },
  {
   "cell_type": "code",
   "execution_count": 13,
   "metadata": {
    "ExecuteTime": {
     "end_time": "2021-01-07T20:10:26.402930Z",
     "start_time": "2021-01-07T20:10:26.083229Z"
    }
   },
   "outputs": [
    {
     "data": {
      "text/html": [
       "<div>\n",
       "<style scoped>\n",
       "    .dataframe tbody tr th:only-of-type {\n",
       "        vertical-align: middle;\n",
       "    }\n",
       "\n",
       "    .dataframe tbody tr th {\n",
       "        vertical-align: top;\n",
       "    }\n",
       "\n",
       "    .dataframe thead th {\n",
       "        text-align: right;\n",
       "    }\n",
       "</style>\n",
       "<table border=\"1\" class=\"dataframe\">\n",
       "  <thead>\n",
       "    <tr style=\"text-align: right;\">\n",
       "      <th></th>\n",
       "      <th>name</th>\n",
       "      <th>history_text</th>\n",
       "      <th>creator</th>\n",
       "      <th>alignment</th>\n",
       "      <th>history_clean</th>\n",
       "      <th>history_len</th>\n",
       "      <th>percent_punct</th>\n",
       "    </tr>\n",
       "  </thead>\n",
       "  <tbody>\n",
       "    <tr>\n",
       "      <th>0</th>\n",
       "      <td>3-D Man</td>\n",
       "      <td>Delroy Garrett, Jr. grew up to become a track star and competed in the Olympic Games. After he t...</td>\n",
       "      <td>Marvel Comics</td>\n",
       "      <td>Good</td>\n",
       "      <td>[delroy, garrett, jr, grew, become, track, star, competed, olympic, game, tested, positive, ster...</td>\n",
       "      <td>426</td>\n",
       "      <td>3.5</td>\n",
       "    </tr>\n",
       "    <tr>\n",
       "      <th>2</th>\n",
       "      <td>A-Bomb</td>\n",
       "      <td>Richard \"Rick\" Jones was orphaned at a young age, and after being expelled from several orphana...</td>\n",
       "      <td>Marvel Comics</td>\n",
       "      <td>Good</td>\n",
       "      <td>[, richard, rick, jones, orphaned, young, age, expelled, several, orphanage, disciplinary, reaso...</td>\n",
       "      <td>4849</td>\n",
       "      <td>3.0</td>\n",
       "    </tr>\n",
       "    <tr>\n",
       "      <th>3</th>\n",
       "      <td>Aa</td>\n",
       "      <td>Aa is one of the more passive members of the Pumice People race of Stoneworld. When Hal Jordan a...</td>\n",
       "      <td>DC Comics</td>\n",
       "      <td>Good</td>\n",
       "      <td>[aa, one, passive, member, pumice, people, race, stoneworld, hal, jordan, attempted, restart, gr...</td>\n",
       "      <td>4933</td>\n",
       "      <td>3.0</td>\n",
       "    </tr>\n",
       "    <tr>\n",
       "      <th>4</th>\n",
       "      <td>Aaron Cash</td>\n",
       "      <td>Aaron Cash is the head of security at Arkham Asylum. He has a hook for a hand after his real han...</td>\n",
       "      <td>DC Comics</td>\n",
       "      <td>Good</td>\n",
       "      <td>[aaron, cash, head, security, arkham, asylum, hook, hand, real, hand, eaten, killer, croc]</td>\n",
       "      <td>98</td>\n",
       "      <td>2.0</td>\n",
       "    </tr>\n",
       "    <tr>\n",
       "      <th>5</th>\n",
       "      <td>Aayla Secura</td>\n",
       "      <td>ayla Secura was a Rutian Twi'lek Jedi Knight (and onetime apprentice to Quinlan Vos) who served ...</td>\n",
       "      <td>George Lucas</td>\n",
       "      <td>Good</td>\n",
       "      <td>[ayla, secura, rutian, twilek, jedi, knight, onetime, apprentice, quinlan, vos, served, clone, w...</td>\n",
       "      <td>637</td>\n",
       "      <td>2.2</td>\n",
       "    </tr>\n",
       "  </tbody>\n",
       "</table>\n",
       "</div>"
      ],
      "text/plain": [
       "           name  \\\n",
       "0       3-D Man   \n",
       "2        A-Bomb   \n",
       "3            Aa   \n",
       "4    Aaron Cash   \n",
       "5  Aayla Secura   \n",
       "\n",
       "                                                                                          history_text  \\\n",
       "0  Delroy Garrett, Jr. grew up to become a track star and competed in the Olympic Games. After he t...   \n",
       "2   Richard \"Rick\" Jones was orphaned at a young age, and after being expelled from several orphana...   \n",
       "3  Aa is one of the more passive members of the Pumice People race of Stoneworld. When Hal Jordan a...   \n",
       "4  Aaron Cash is the head of security at Arkham Asylum. He has a hook for a hand after his real han...   \n",
       "5  ayla Secura was a Rutian Twi'lek Jedi Knight (and onetime apprentice to Quinlan Vos) who served ...   \n",
       "\n",
       "         creator alignment  \\\n",
       "0  Marvel Comics      Good   \n",
       "2  Marvel Comics      Good   \n",
       "3      DC Comics      Good   \n",
       "4      DC Comics      Good   \n",
       "5   George Lucas      Good   \n",
       "\n",
       "                                                                                         history_clean  \\\n",
       "0  [delroy, garrett, jr, grew, become, track, star, competed, olympic, game, tested, positive, ster...   \n",
       "2  [, richard, rick, jones, orphaned, young, age, expelled, several, orphanage, disciplinary, reaso...   \n",
       "3  [aa, one, passive, member, pumice, people, race, stoneworld, hal, jordan, attempted, restart, gr...   \n",
       "4           [aaron, cash, head, security, arkham, asylum, hook, hand, real, hand, eaten, killer, croc]   \n",
       "5  [ayla, secura, rutian, twilek, jedi, knight, onetime, apprentice, quinlan, vos, served, clone, w...   \n",
       "\n",
       "   history_len  percent_punct  \n",
       "0          426            3.5  \n",
       "2         4849            3.0  \n",
       "3         4933            3.0  \n",
       "4           98            2.0  \n",
       "5          637            2.2  "
      ]
     },
     "execution_count": 13,
     "metadata": {},
     "output_type": "execute_result"
    }
   ],
   "source": [
    "def count_punct(text):\n",
    "    count = sum([1 for char in text if char in string.punctuation])\n",
    "    return round(count/(len(text) - text.count(\" \")), 3) * 100\n",
    "\n",
    "df['percent_punct'] = df['history_text'].apply(lambda x: count_punct(x))\n",
    "df.head()"
   ]
  },
  {
   "cell_type": "code",
   "execution_count": 14,
   "metadata": {
    "ExecuteTime": {
     "end_time": "2021-01-07T20:10:26.747653Z",
     "start_time": "2021-01-07T20:10:26.404669Z"
    }
   },
   "outputs": [
    {
     "name": "stderr",
     "output_type": "stream",
     "text": [
      "/Users/amberyandow/anaconda3/envs/learn-env/lib/python3.6/site-packages/matplotlib/axes/_axes.py:6521: MatplotlibDeprecationWarning: \n",
      "The 'normed' kwarg was deprecated in Matplotlib 2.1 and will be removed in 3.1. Use 'density' instead.\n",
      "  alternative=\"'density'\", removal=\"3.1\")\n"
     ]
    },
    {
     "data": {
      "image/png": "[encoded data removed]",
      "text/plain": [
       "<Figure size 432x288 with 1 Axes>"
      ]
     },
     "metadata": {
      "needs_background": "light"
     },
     "output_type": "display_data"
    }
   ],
   "source": [
    "bins = np.linspace(0, 10, 60)\n",
    "pyplot.hist(df[df['alignment'] == 'Good']['percent_punct'], bins, alpha=0.5, normed=True, label='Good')\n",
    "pyplot.hist(df[df['alignment'] == 'Bad']['percent_punct'], bins, alpha=0.5, normed=True, label='Bad')\n",
    "pyplot.hist(df[df['alignment'] == 'Neutral']['percent_punct'], bins, alpha=0.5, normed=True, label='Neutral')\n",
    "pyplot.legend(loc='upper right')\n",
    "pyplot.show()"
   ]
  },
  {
   "cell_type": "code",
   "execution_count": 15,
   "metadata": {
    "ExecuteTime": {
     "end_time": "2021-01-07T20:10:26.917663Z",
     "start_time": "2021-01-07T20:10:26.749481Z"
    }
   },
   "outputs": [
    {
     "data": {
      "image/png": "[encoded data removed]",
      "text/plain": [
       "<Figure size 432x288 with 1 Axes>"
      ]
     },
     "metadata": {
      "needs_background": "light"
     },
     "output_type": "display_data"
    }
   ],
   "source": [
    "bins = np.linspace(0, 4000, 50)\n",
    "\n",
    "pyplot.hist(df['history_len'], bins)\n",
    "pyplot.title(\"History Length Distribution\")\n",
    "pyplot.show()"
   ]
  },
  {
   "cell_type": "code",
   "execution_count": 16,
   "metadata": {
    "ExecuteTime": {
     "end_time": "2021-01-07T20:10:27.076078Z",
     "start_time": "2021-01-07T20:10:26.919539Z"
    }
   },
   "outputs": [
    {
     "data": {
      "image/png": "[encoded data removed]",
      "text/plain": [
       "<Figure size 432x288 with 1 Axes>"
      ]
     },
     "metadata": {
      "needs_background": "light"
     },
     "output_type": "display_data"
    }
   ],
   "source": [
    "bins = np.linspace(0, 10, 50)\n",
    "\n",
    "pyplot.hist(df['percent_punct'], bins)\n",
    "pyplot.title(\"History Length Distribution\")\n",
    "pyplot.show()"
   ]
  },
  {
   "cell_type": "code",
   "execution_count": 17,
   "metadata": {
    "ExecuteTime": {
     "end_time": "2021-01-07T20:10:27.857430Z",
     "start_time": "2021-01-07T20:10:27.077493Z"
    }
   },
   "outputs": [
    {
     "data": {
      "image/png": "[encoded data removed]",
      "text/plain": [
       "<Figure size 432x288 with 1 Axes>"
      ]
     },
     "metadata": {
      "needs_background": "light"
     },
     "output_type": "display_data"
    },
    {
     "data": {
      "image/png": "[encoded data removed]",
      "text/plain": [
       "<Figure size 432x288 with 1 Axes>"
      ]
     },
     "metadata": {
      "needs_background": "light"
     },
     "output_type": "display_data"
    },
    {
     "data": {
      "image/png": "[encoded data removed]",
      "text/plain": [
       "<Figure size 432x288 with 1 Axes>"
      ]
     },
     "metadata": {
      "needs_background": "light"
     },
     "output_type": "display_data"
    },
    {
     "data": {
      "image/png": "[encoded data removed]",
      "text/plain": [
       "<Figure size 432x288 with 1 Axes>"
      ]
     },
     "metadata": {
      "needs_background": "light"
     },
     "output_type": "display_data"
    },
    {
     "data": {
      "image/png": "[encoded data removed]",
      "text/plain": [
       "<Figure size 432x288 with 1 Axes>"
      ]
     },
     "metadata": {
      "needs_background": "light"
     },
     "output_type": "display_data"
    }
   ],
   "source": [
    "for i in [1, 2, 3, 4, 5]:\n",
    "    pyplot.hist((df['history_len'])**(1/i), bins=50)\n",
    "    pyplot.title(\"Transformation: 1/{}\".format(str(i)))\n",
    "    pyplot.show()"
   ]
  },
  {
   "cell_type": "code",
   "execution_count": 18,
   "metadata": {
    "ExecuteTime": {
     "end_time": "2021-01-07T20:10:27.861612Z",
     "start_time": "2021-01-07T20:10:27.858806Z"
    }
   },
   "outputs": [],
   "source": [
    "df['history_len'] = round(df['history_len']**(1/i), 2)"
   ]
  },
  {
   "cell_type": "code",
   "execution_count": 19,
   "metadata": {
    "ExecuteTime": {
     "end_time": "2021-01-07T20:10:27.866826Z",
     "start_time": "2021-01-07T20:10:27.863251Z"
    }
   },
   "outputs": [],
   "source": [
    "new_features_df = df[['history_len', 'percent_punct', 'alignment']]"
   ]
  },
  {
   "cell_type": "code",
   "execution_count": 20,
   "metadata": {
    "ExecuteTime": {
     "end_time": "2021-01-07T20:10:27.870400Z",
     "start_time": "2021-01-07T20:10:27.868466Z"
    }
   },
   "outputs": [],
   "source": [
    "alignment_dict = {'Good': 0, 'Bad': 1, 'Neutral': 2}"
   ]
  },
  {
   "cell_type": "code",
   "execution_count": 21,
   "metadata": {
    "ExecuteTime": {
     "end_time": "2021-01-07T20:10:28.003713Z",
     "start_time": "2021-01-07T20:10:27.871921Z"
    }
   },
   "outputs": [
    {
     "name": "stderr",
     "output_type": "stream",
     "text": [
      "/Users/amberyandow/anaconda3/envs/learn-env/lib/python3.6/site-packages/ipykernel_launcher.py:1: SettingWithCopyWarning: \n",
      "A value is trying to be set on a copy of a slice from a DataFrame.\n",
      "Try using .loc[row_indexer,col_indexer] = value instead\n",
      "\n",
      "See the caveats in the documentation: http://pandas.pydata.org/pandas-docs/stable/indexing.html#indexing-view-versus-copy\n",
      "  \"\"\"Entry point for launching an IPython kernel.\n"
     ]
    }
   ],
   "source": [
    "new_features_df['alignment'] = [alignment_dict[item] for item in new_features_df.alignment]"
   ]
  },
  {
   "cell_type": "code",
   "execution_count": 22,
   "metadata": {
    "ExecuteTime": {
     "end_time": "2021-01-07T20:10:28.008092Z",
     "start_time": "2021-01-07T20:10:28.005588Z"
    }
   },
   "outputs": [],
   "source": [
    "X_tfidf_df.reset_index(drop=True, inplace=True)\n",
    "new_features_df.reset_index(drop=True, inplace=True)"
   ]
  },
  {
   "cell_type": "code",
   "execution_count": 23,
   "metadata": {
    "ExecuteTime": {
     "end_time": "2021-01-07T20:10:28.375578Z",
     "start_time": "2021-01-07T20:10:28.012787Z"
    }
   },
   "outputs": [
    {
     "data": {
      "text/html": [
       "<div>\n",
       "<style scoped>\n",
       "    .dataframe tbody tr th:only-of-type {\n",
       "        vertical-align: middle;\n",
       "    }\n",
       "\n",
       "    .dataframe tbody tr th {\n",
       "        vertical-align: top;\n",
       "    }\n",
       "\n",
       "    .dataframe thead th {\n",
       "        text-align: right;\n",
       "    }\n",
       "</style>\n",
       "<table border=\"1\" class=\"dataframe\">\n",
       "  <thead>\n",
       "    <tr style=\"text-align: right;\">\n",
       "      <th></th>\n",
       "      <th>history_len</th>\n",
       "      <th>percent_punct</th>\n",
       "      <th>alignment</th>\n",
       "      <th></th>\n",
       "      <th>0</th>\n",
       "      <th>002</th>\n",
       "      <th>0068</th>\n",
       "      <th>01</th>\n",
       "      <th>03</th>\n",
       "      <th>030</th>\n",
       "      <th>...</th>\n",
       "      <th>Ланья</th>\n",
       "      <th>Петровна</th>\n",
       "      <th>Сергеевна</th>\n",
       "      <th>Тёмная</th>\n",
       "      <th>الساحر</th>\n",
       "      <th>الغول</th>\n",
       "      <th>رأس</th>\n",
       "      <th>アーカード</th>\n",
       "      <th>拳王</th>\n",
       "      <th>駄犬</th>\n",
       "    </tr>\n",
       "  </thead>\n",
       "  <tbody>\n",
       "    <tr>\n",
       "      <th>0</th>\n",
       "      <td>3.36</td>\n",
       "      <td>3.5</td>\n",
       "      <td>0</td>\n",
       "      <td>0.000000</td>\n",
       "      <td>0.0</td>\n",
       "      <td>0.0</td>\n",
       "      <td>0.0</td>\n",
       "      <td>0.0</td>\n",
       "      <td>0.0</td>\n",
       "      <td>0.0</td>\n",
       "      <td>...</td>\n",
       "      <td>0.0</td>\n",
       "      <td>0.0</td>\n",
       "      <td>0.0</td>\n",
       "      <td>0.0</td>\n",
       "      <td>0.0</td>\n",
       "      <td>0.0</td>\n",
       "      <td>0.0</td>\n",
       "      <td>0.0</td>\n",
       "      <td>0.0</td>\n",
       "      <td>0.0</td>\n",
       "    </tr>\n",
       "    <tr>\n",
       "      <th>1</th>\n",
       "      <td>5.46</td>\n",
       "      <td>3.0</td>\n",
       "      <td>0</td>\n",
       "      <td>0.014109</td>\n",
       "      <td>0.0</td>\n",
       "      <td>0.0</td>\n",
       "      <td>0.0</td>\n",
       "      <td>0.0</td>\n",
       "      <td>0.0</td>\n",
       "      <td>0.0</td>\n",
       "      <td>...</td>\n",
       "      <td>0.0</td>\n",
       "      <td>0.0</td>\n",
       "      <td>0.0</td>\n",
       "      <td>0.0</td>\n",
       "      <td>0.0</td>\n",
       "      <td>0.0</td>\n",
       "      <td>0.0</td>\n",
       "      <td>0.0</td>\n",
       "      <td>0.0</td>\n",
       "      <td>0.0</td>\n",
       "    </tr>\n",
       "    <tr>\n",
       "      <th>2</th>\n",
       "      <td>5.48</td>\n",
       "      <td>3.0</td>\n",
       "      <td>0</td>\n",
       "      <td>0.000000</td>\n",
       "      <td>0.0</td>\n",
       "      <td>0.0</td>\n",
       "      <td>0.0</td>\n",
       "      <td>0.0</td>\n",
       "      <td>0.0</td>\n",
       "      <td>0.0</td>\n",
       "      <td>...</td>\n",
       "      <td>0.0</td>\n",
       "      <td>0.0</td>\n",
       "      <td>0.0</td>\n",
       "      <td>0.0</td>\n",
       "      <td>0.0</td>\n",
       "      <td>0.0</td>\n",
       "      <td>0.0</td>\n",
       "      <td>0.0</td>\n",
       "      <td>0.0</td>\n",
       "      <td>0.0</td>\n",
       "    </tr>\n",
       "    <tr>\n",
       "      <th>3</th>\n",
       "      <td>2.50</td>\n",
       "      <td>2.0</td>\n",
       "      <td>0</td>\n",
       "      <td>0.000000</td>\n",
       "      <td>0.0</td>\n",
       "      <td>0.0</td>\n",
       "      <td>0.0</td>\n",
       "      <td>0.0</td>\n",
       "      <td>0.0</td>\n",
       "      <td>0.0</td>\n",
       "      <td>...</td>\n",
       "      <td>0.0</td>\n",
       "      <td>0.0</td>\n",
       "      <td>0.0</td>\n",
       "      <td>0.0</td>\n",
       "      <td>0.0</td>\n",
       "      <td>0.0</td>\n",
       "      <td>0.0</td>\n",
       "      <td>0.0</td>\n",
       "      <td>0.0</td>\n",
       "      <td>0.0</td>\n",
       "    </tr>\n",
       "    <tr>\n",
       "      <th>4</th>\n",
       "      <td>3.64</td>\n",
       "      <td>2.2</td>\n",
       "      <td>0</td>\n",
       "      <td>0.000000</td>\n",
       "      <td>0.0</td>\n",
       "      <td>0.0</td>\n",
       "      <td>0.0</td>\n",
       "      <td>0.0</td>\n",
       "      <td>0.0</td>\n",
       "      <td>0.0</td>\n",
       "      <td>...</td>\n",
       "      <td>0.0</td>\n",
       "      <td>0.0</td>\n",
       "      <td>0.0</td>\n",
       "      <td>0.0</td>\n",
       "      <td>0.0</td>\n",
       "      <td>0.0</td>\n",
       "      <td>0.0</td>\n",
       "      <td>0.0</td>\n",
       "      <td>0.0</td>\n",
       "      <td>0.0</td>\n",
       "    </tr>\n",
       "  </tbody>\n",
       "</table>\n",
       "<p>5 rows × 33980 columns</p>\n",
       "</div>"
      ],
      "text/plain": [
       "   history_len  percent_punct  alignment              0  002  0068   01   03  \\\n",
       "0         3.36            3.5          0  0.000000  0.0  0.0   0.0  0.0  0.0   \n",
       "1         5.46            3.0          0  0.014109  0.0  0.0   0.0  0.0  0.0   \n",
       "2         5.48            3.0          0  0.000000  0.0  0.0   0.0  0.0  0.0   \n",
       "3         2.50            2.0          0  0.000000  0.0  0.0   0.0  0.0  0.0   \n",
       "4         3.64            2.2          0  0.000000  0.0  0.0   0.0  0.0  0.0   \n",
       "\n",
       "   030 ...   Ланья  Петровна  Сергеевна  Тёмная  الساحر  الغول  رأس  アーカード  \\\n",
       "0  0.0 ...     0.0       0.0        0.0     0.0     0.0    0.0  0.0    0.0   \n",
       "1  0.0 ...     0.0       0.0        0.0     0.0     0.0    0.0  0.0    0.0   \n",
       "2  0.0 ...     0.0       0.0        0.0     0.0     0.0    0.0  0.0    0.0   \n",
       "3  0.0 ...     0.0       0.0        0.0     0.0     0.0    0.0  0.0    0.0   \n",
       "4  0.0 ...     0.0       0.0        0.0     0.0     0.0    0.0  0.0    0.0   \n",
       "\n",
       "    拳王   駄犬  \n",
       "0  0.0  0.0  \n",
       "1  0.0  0.0  \n",
       "2  0.0  0.0  \n",
       "3  0.0  0.0  \n",
       "4  0.0  0.0  \n",
       "\n",
       "[5 rows x 33980 columns]"
      ]
     },
     "execution_count": 23,
     "metadata": {},
     "output_type": "execute_result"
    }
   ],
   "source": [
    "X = pd.concat([new_features_df, X_tfidf_df], axis=1)\n",
    "X.head()"
   ]
  },
  {
   "cell_type": "code",
   "execution_count": null,
   "metadata": {},
   "outputs": [],
   "source": []
  },
  {
   "cell_type": "code",
   "execution_count": 30,
   "metadata": {
    "ExecuteTime": {
     "end_time": "2021-01-07T20:16:47.918754Z",
     "start_time": "2021-01-07T20:16:47.753944Z"
    }
   },
   "outputs": [],
   "source": [
    "X.drop(['alignment'], axis=1, inplace=True)"
   ]
  },
  {
   "cell_type": "code",
   "execution_count": 31,
   "metadata": {
    "ExecuteTime": {
     "end_time": "2021-01-07T20:16:52.481104Z",
     "start_time": "2021-01-07T20:16:52.244249Z"
    }
   },
   "outputs": [],
   "source": [
    "X_train, X_test, y_train, y_test = train_test_split(X, new_features_df['alignment'], test_size=0.3)"
   ]
  },
  {
   "cell_type": "code",
   "execution_count": 32,
   "metadata": {
    "ExecuteTime": {
     "end_time": "2021-01-07T20:16:53.957690Z",
     "start_time": "2021-01-07T20:16:53.738419Z"
    }
   },
   "outputs": [],
   "source": [
    "rf = RandomForestClassifier(class_weight='balanced', n_estimators=50, max_depth=20, n_jobs=-1)\n",
    "rf_model = rf.fit(X_train, y_train)"
   ]
  },
  {
   "cell_type": "code",
   "execution_count": 33,
   "metadata": {
    "ExecuteTime": {
     "end_time": "2021-01-07T20:16:54.959468Z",
     "start_time": "2021-01-07T20:16:54.794307Z"
    }
   },
   "outputs": [
    {
     "data": {
      "text/plain": [
       "0.9803921568627451"
      ]
     },
     "execution_count": 33,
     "metadata": {},
     "output_type": "execute_result"
    }
   ],
   "source": [
    "rf_model.score(X_train, y_train)"
   ]
  },
  {
   "cell_type": "code",
   "execution_count": 35,
   "metadata": {
    "ExecuteTime": {
     "end_time": "2021-01-07T20:18:24.313503Z",
     "start_time": "2021-01-07T20:18:24.161534Z"
    }
   },
   "outputs": [
    {
     "data": {
      "text/plain": [
       "0.6068376068376068"
      ]
     },
     "execution_count": 35,
     "metadata": {},
     "output_type": "execute_result"
    }
   ],
   "source": [
    "rf_model.score(X_test, y_test)"
   ]
  },
  {
   "cell_type": "code",
   "execution_count": 36,
   "metadata": {
    "ExecuteTime": {
     "end_time": "2021-01-07T20:59:41.816457Z",
     "start_time": "2021-01-07T20:59:40.997861Z"
    }
   },
   "outputs": [],
   "source": [
    "import gensim "
   ]
  },
  {
   "cell_type": "code",
   "execution_count": 37,
   "metadata": {
    "ExecuteTime": {
     "end_time": "2021-01-07T20:59:48.797158Z",
     "start_time": "2021-01-07T20:59:48.458280Z"
    }
   },
   "outputs": [],
   "source": [
    "w2v_model = gensim.models.Word2Vec(X_train,\n",
    "                                   size=100,\n",
    "                                   window=5,\n",
    "                                   min_count=2)"
   ]
  },
  {
   "cell_type": "code",
   "execution_count": 69,
   "metadata": {
    "ExecuteTime": {
     "end_time": "2021-01-07T23:44:36.549282Z",
     "start_time": "2021-01-07T23:44:36.510618Z"
    }
   },
   "outputs": [
    {
     "ename": "KeyError",
     "evalue": "\"word '002' not in vocabulary\"",
     "output_type": "error",
     "traceback": [
      "\u001b[0;31m---------------------------------------------------------------------------\u001b[0m",
      "\u001b[0;31mKeyError\u001b[0m                                  Traceback (most recent call last)",
      "\u001b[0;32m<ipython-input-69-63cdc68621ba>\u001b[0m in \u001b[0;36m<module>\u001b[0;34m()\u001b[0m\n\u001b[0;32m----> 1\u001b[0;31m \u001b[0mw2v_model\u001b[0m\u001b[0;34m.\u001b[0m\u001b[0mwv\u001b[0m\u001b[0;34m.\u001b[0m\u001b[0mmost_similar\u001b[0m\u001b[0;34m(\u001b[0m\u001b[0;34m'002'\u001b[0m\u001b[0;34m)\u001b[0m\u001b[0;34m\u001b[0m\u001b[0m\n\u001b[0m",
      "\u001b[0;32m~/anaconda3/envs/learn-env/lib/python3.6/site-packages/gensim/models/keyedvectors.py\u001b[0m in \u001b[0;36mmost_similar\u001b[0;34m(self, positive, negative, topn, restrict_vocab, indexer)\u001b[0m\n\u001b[1;32m    363\u001b[0m                 \u001b[0mmean\u001b[0m\u001b[0;34m.\u001b[0m\u001b[0mappend\u001b[0m\u001b[0;34m(\u001b[0m\u001b[0mweight\u001b[0m \u001b[0;34m*\u001b[0m \u001b[0mword\u001b[0m\u001b[0;34m)\u001b[0m\u001b[0;34m\u001b[0m\u001b[0m\n\u001b[1;32m    364\u001b[0m             \u001b[0;32melse\u001b[0m\u001b[0;34m:\u001b[0m\u001b[0;34m\u001b[0m\u001b[0m\n\u001b[0;32m--> 365\u001b[0;31m                 \u001b[0mmean\u001b[0m\u001b[0;34m.\u001b[0m\u001b[0mappend\u001b[0m\u001b[0;34m(\u001b[0m\u001b[0mweight\u001b[0m \u001b[0;34m*\u001b[0m \u001b[0mself\u001b[0m\u001b[0;34m.\u001b[0m\u001b[0mword_vec\u001b[0m\u001b[0;34m(\u001b[0m\u001b[0mword\u001b[0m\u001b[0;34m,\u001b[0m \u001b[0muse_norm\u001b[0m\u001b[0;34m=\u001b[0m\u001b[0;32mTrue\u001b[0m\u001b[0;34m)\u001b[0m\u001b[0;34m)\u001b[0m\u001b[0;34m\u001b[0m\u001b[0m\n\u001b[0m\u001b[1;32m    366\u001b[0m                 \u001b[0;32mif\u001b[0m \u001b[0mword\u001b[0m \u001b[0;32min\u001b[0m \u001b[0mself\u001b[0m\u001b[0;34m.\u001b[0m\u001b[0mvocab\u001b[0m\u001b[0;34m:\u001b[0m\u001b[0;34m\u001b[0m\u001b[0m\n\u001b[1;32m    367\u001b[0m                     \u001b[0mall_words\u001b[0m\u001b[0;34m.\u001b[0m\u001b[0madd\u001b[0m\u001b[0;34m(\u001b[0m\u001b[0mself\u001b[0m\u001b[0;34m.\u001b[0m\u001b[0mvocab\u001b[0m\u001b[0;34m[\u001b[0m\u001b[0mword\u001b[0m\u001b[0;34m]\u001b[0m\u001b[0;34m.\u001b[0m\u001b[0mindex\u001b[0m\u001b[0;34m)\u001b[0m\u001b[0;34m\u001b[0m\u001b[0m\n",
      "\u001b[0;32m~/anaconda3/envs/learn-env/lib/python3.6/site-packages/gensim/models/keyedvectors.py\u001b[0m in \u001b[0;36mword_vec\u001b[0;34m(self, word, use_norm)\u001b[0m\n\u001b[1;32m    272\u001b[0m             \u001b[0;32mreturn\u001b[0m \u001b[0mresult\u001b[0m\u001b[0;34m\u001b[0m\u001b[0m\n\u001b[1;32m    273\u001b[0m         \u001b[0;32melse\u001b[0m\u001b[0;34m:\u001b[0m\u001b[0;34m\u001b[0m\u001b[0m\n\u001b[0;32m--> 274\u001b[0;31m             \u001b[0;32mraise\u001b[0m \u001b[0mKeyError\u001b[0m\u001b[0;34m(\u001b[0m\u001b[0;34m\"word '%s' not in vocabulary\"\u001b[0m \u001b[0;34m%\u001b[0m \u001b[0mword\u001b[0m\u001b[0;34m)\u001b[0m\u001b[0;34m\u001b[0m\u001b[0m\n\u001b[0m\u001b[1;32m    275\u001b[0m \u001b[0;34m\u001b[0m\u001b[0m\n\u001b[1;32m    276\u001b[0m     \u001b[0;32mdef\u001b[0m \u001b[0mget_vector\u001b[0m\u001b[0;34m(\u001b[0m\u001b[0mself\u001b[0m\u001b[0;34m,\u001b[0m \u001b[0mword\u001b[0m\u001b[0;34m)\u001b[0m\u001b[0;34m:\u001b[0m\u001b[0;34m\u001b[0m\u001b[0m\n",
      "\u001b[0;31mKeyError\u001b[0m: \"word '002' not in vocabulary\""
     ]
    }
   ],
   "source": [
    "w2v_model.wv.most_similar('002')"
   ]
  },
  {
   "cell_type": "markdown",
   "metadata": {},
   "source": [
    "## RNNs \n",
    "\n",
    "#### TF-IDF\n",
    "\n",
    "![](https://image.slidesharecdn.com/9bc43139-1398-4c31-a9cf-ed08dd37ef13-150521205535-lva1-app6891/95/text-mining-association-rules-and-decision-tree-learning-26-638.jpg?cb=1432241853)\n",
    "\n",
    "#### Word-to-Vec\n",
    "![](https://cdn.analyticsvidhya.com/wp-content/uploads/2019/07/img_8.png)\n",
    "\n",
    "#### Recurrent Neural Networks \n",
    "![](https://www.nexmo.com/wp-content/uploads/2020/10/Recurrent-neural-network.png)"
   ]
  },
  {
   "cell_type": "code",
   "execution_count": 55,
   "metadata": {
    "ExecuteTime": {
     "end_time": "2021-01-07T21:57:48.432440Z",
     "start_time": "2021-01-07T21:57:48.428350Z"
    }
   },
   "outputs": [],
   "source": [
    "from keras.utils import np_utils\n",
    "from sklearn.preprocessing import LabelEncoder\n",
    "# encode class values as integers\n",
    "encoder = LabelEncoder()\n",
    "encoder.fit(new_features_df['alignment'])\n",
    "encoded_Y = encoder.transform(new_features_df['alignment'])\n",
    "# convert integers to dummy variables (i.e. one hot encoded)\n",
    "dummy_y = np_utils.to_categorical(encoded_Y)"
   ]
  },
  {
   "cell_type": "code",
   "execution_count": 56,
   "metadata": {
    "ExecuteTime": {
     "end_time": "2021-01-07T21:58:04.876372Z",
     "start_time": "2021-01-07T21:58:04.872290Z"
    }
   },
   "outputs": [],
   "source": [
    "rnn_X_train, rnn_X_test, rnn_y_train, rnn_y_test = train_test_split(df['history_text'],\n",
    "                                                                    dummy_y,\n",
    "                                                                    test_size=0.3)"
   ]
  },
  {
   "cell_type": "code",
   "execution_count": 42,
   "metadata": {
    "ExecuteTime": {
     "end_time": "2021-01-07T21:28:57.770845Z",
     "start_time": "2021-01-07T21:28:52.027800Z"
    }
   },
   "outputs": [
    {
     "name": "stderr",
     "output_type": "stream",
     "text": [
      "Using TensorFlow backend.\n"
     ]
    }
   ],
   "source": [
    "from keras.preprocessing.text import Tokenizer #clean and tokenize the data \n",
    "from keras.preprocessing.sequence import pad_sequences"
   ]
  },
  {
   "cell_type": "markdown",
   "metadata": {},
   "source": [
    "This will clean and tokenize our dataset. Also, it will build a vocabulary of all of the words in our training set and assign it an index. "
   ]
  },
  {
   "cell_type": "code",
   "execution_count": 57,
   "metadata": {
    "ExecuteTime": {
     "end_time": "2021-01-07T21:58:19.702354Z",
     "start_time": "2021-01-07T21:58:19.270398Z"
    }
   },
   "outputs": [],
   "source": [
    "# Initialize and fit the tokenizer\n",
    "tokenizer = Tokenizer()\n",
    "tokenizer.fit_on_texts(rnn_X_train)"
   ]
  },
  {
   "cell_type": "code",
   "execution_count": 58,
   "metadata": {
    "ExecuteTime": {
     "end_time": "2021-01-07T21:58:21.138512Z",
     "start_time": "2021-01-07T21:58:20.657959Z"
    }
   },
   "outputs": [],
   "source": [
    "X_train_seq = tokenizer.texts_to_sequences(rnn_X_train)\n",
    "X_test_seq = tokenizer.texts_to_sequences(rnn_X_test)"
   ]
  },
  {
   "cell_type": "code",
   "execution_count": 59,
   "metadata": {
    "ExecuteTime": {
     "end_time": "2021-01-07T21:58:21.496203Z",
     "start_time": "2021-01-07T21:58:21.489769Z"
    }
   },
   "outputs": [
    {
     "data": {
      "text/plain": [
       "[1,\n",
       " 291,\n",
       " 4,\n",
       " 26,\n",
       " 2780,\n",
       " 39,\n",
       " 3,\n",
       " 5,\n",
       " 2265,\n",
       " 180,\n",
       " 16841,\n",
       " 16842,\n",
       " 7,\n",
       " 3101,\n",
       " 2781,\n",
       " 8,\n",
       " 1732,\n",
       " 4,\n",
       " 12,\n",
       " 1520,\n",
       " 1578,\n",
       " 51,\n",
       " 12,\n",
       " 540,\n",
       " 7170,\n",
       " 2781,\n",
       " 993,\n",
       " 2,\n",
       " 1,\n",
       " 2406,\n",
       " 6497,\n",
       " 7171,\n",
       " 10,\n",
       " 12,\n",
       " 105,\n",
       " 3,\n",
       " 69,\n",
       " 5,\n",
       " 10629,\n",
       " 4,\n",
       " 1578,\n",
       " 5,\n",
       " 369,\n",
       " 118,\n",
       " 43,\n",
       " 2781,\n",
       " 3,\n",
       " 12,\n",
       " 105,\n",
       " 2700,\n",
       " 2,\n",
       " 5,\n",
       " 7172,\n",
       " 2598,\n",
       " 3,\n",
       " 32,\n",
       " 7173,\n",
       " 28,\n",
       " 2406,\n",
       " 7,\n",
       " 2502,\n",
       " 2503,\n",
       " 31,\n",
       " 2265,\n",
       " 1007,\n",
       " 8,\n",
       " 10630,\n",
       " 8007,\n",
       " 1427,\n",
       " 2782,\n",
       " 1,\n",
       " 7174,\n",
       " 2780,\n",
       " 662,\n",
       " 4798,\n",
       " 2,\n",
       " 5,\n",
       " 8008,\n",
       " 12844,\n",
       " 3,\n",
       " 12,\n",
       " 105,\n",
       " 140,\n",
       " 12,\n",
       " 628,\n",
       " 191,\n",
       " 4285,\n",
       " 433,\n",
       " 808,\n",
       " 18,\n",
       " 3,\n",
       " 12,\n",
       " 105,\n",
       " 84,\n",
       " 2,\n",
       " 6497,\n",
       " 2406,\n",
       " 60,\n",
       " 8,\n",
       " 540,\n",
       " 8009,\n",
       " 1,\n",
       " 16843,\n",
       " 585,\n",
       " 2265,\n",
       " 682,\n",
       " 237,\n",
       " 13,\n",
       " 16844,\n",
       " 855,\n",
       " 1842,\n",
       " 2406,\n",
       " 8,\n",
       " 554,\n",
       " 4,\n",
       " 4046,\n",
       " 205,\n",
       " 8007,\n",
       " 105,\n",
       " 1578,\n",
       " 3,\n",
       " 2781,\n",
       " 100,\n",
       " 1100,\n",
       " 19,\n",
       " 855,\n",
       " 3,\n",
       " 6,\n",
       " 9124,\n",
       " 2781,\n",
       " 328,\n",
       " 2,\n",
       " 4513,\n",
       " 1578,\n",
       " 19,\n",
       " 778,\n",
       " 279,\n",
       " 1,\n",
       " 2783,\n",
       " 4,\n",
       " 29,\n",
       " 1520,\n",
       " 16845,\n",
       " 3,\n",
       " 249,\n",
       " 2265,\n",
       " 682,\n",
       " 14,\n",
       " 1,\n",
       " 16846,\n",
       " 240,\n",
       " 16847,\n",
       " 3,\n",
       " 1,\n",
       " 317,\n",
       " 4047,\n",
       " 9125,\n",
       " 19,\n",
       " 12,\n",
       " 80,\n",
       " 18,\n",
       " 1613,\n",
       " 10,\n",
       " 1,\n",
       " 12845,\n",
       " 59,\n",
       " 4,\n",
       " 16848,\n",
       " 12846,\n",
       " 16849,\n",
       " 3,\n",
       " 68,\n",
       " 1364,\n",
       " 8,\n",
       " 12847,\n",
       " 2781,\n",
       " 638,\n",
       " 26,\n",
       " 2780,\n",
       " 39,\n",
       " 174,\n",
       " 8010,\n",
       " 30,\n",
       " 98,\n",
       " 289,\n",
       " 262,\n",
       " 1,\n",
       " 4799,\n",
       " 4,\n",
       " 1,\n",
       " 12848,\n",
       " 963,\n",
       " 1929,\n",
       " 8,\n",
       " 12849,\n",
       " 2781,\n",
       " 144,\n",
       " 1,\n",
       " 52,\n",
       " 19,\n",
       " 98,\n",
       " 4,\n",
       " 29,\n",
       " 778,\n",
       " 49,\n",
       " 12,\n",
       " 1579,\n",
       " 10,\n",
       " 8010,\n",
       " 69,\n",
       " 4286,\n",
       " 28,\n",
       " 236,\n",
       " 2,\n",
       " 12,\n",
       " 1878,\n",
       " 868,\n",
       " 18,\n",
       " 7,\n",
       " 434,\n",
       " 2,\n",
       " 2599,\n",
       " 349,\n",
       " 8,\n",
       " 670,\n",
       " 16850,\n",
       " 2781,\n",
       " 2701,\n",
       " 1,\n",
       " 2504,\n",
       " 2780,\n",
       " 671,\n",
       " 12850,\n",
       " 2,\n",
       " 5500,\n",
       " 12,\n",
       " 10,\n",
       " 26,\n",
       " 1580,\n",
       " 5123,\n",
       " 9126,\n",
       " 4514,\n",
       " 12,\n",
       " 2,\n",
       " 129,\n",
       " 1803,\n",
       " 8,\n",
       " 10631,\n",
       " 2781,\n",
       " 1383,\n",
       " 1,\n",
       " 963,\n",
       " 1929,\n",
       " 19,\n",
       " 5,\n",
       " 227,\n",
       " 452,\n",
       " 68,\n",
       " 128,\n",
       " 47,\n",
       " 252,\n",
       " 12,\n",
       " 2,\n",
       " 1,\n",
       " 948,\n",
       " 4,\n",
       " 3372,\n",
       " 390,\n",
       " 3854,\n",
       " 6498,\n",
       " 184,\n",
       " 18,\n",
       " 1686,\n",
       " 2,\n",
       " 285,\n",
       " 6,\n",
       " 133,\n",
       " 4,\n",
       " 141,\n",
       " 773,\n",
       " 541,\n",
       " 18,\n",
       " 2984,\n",
       " 15,\n",
       " 8,\n",
       " 1,\n",
       " 2784,\n",
       " 4,\n",
       " 1,\n",
       " 191,\n",
       " 701,\n",
       " 7175,\n",
       " 5978,\n",
       " 8,\n",
       " 1,\n",
       " 2877,\n",
       " 108,\n",
       " 21,\n",
       " 2781,\n",
       " 267,\n",
       " 883,\n",
       " 2,\n",
       " 12,\n",
       " 291,\n",
       " 3237,\n",
       " 86,\n",
       " 35,\n",
       " 38,\n",
       " 1578,\n",
       " 114,\n",
       " 936,\n",
       " 21,\n",
       " 5,\n",
       " 2505,\n",
       " 10,\n",
       " 1,\n",
       " 5501,\n",
       " 1733,\n",
       " 2781,\n",
       " 3373,\n",
       " 16,\n",
       " 15,\n",
       " 2,\n",
       " 117,\n",
       " 5979,\n",
       " 8,\n",
       " 12851,\n",
       " 2781,\n",
       " 3,\n",
       " 12,\n",
       " 187,\n",
       " 82,\n",
       " 2406,\n",
       " 16,\n",
       " 1,\n",
       " 2598,\n",
       " 4,\n",
       " 16851,\n",
       " 108,\n",
       " 808,\n",
       " 8010,\n",
       " 7,\n",
       " 87,\n",
       " 8,\n",
       " 26,\n",
       " 3102,\n",
       " 652,\n",
       " 949,\n",
       " 3,\n",
       " 2781,\n",
       " 100,\n",
       " 29,\n",
       " 311,\n",
       " 2,\n",
       " 555,\n",
       " 8,\n",
       " 10632,\n",
       " 21,\n",
       " 217,\n",
       " 118,\n",
       " 18,\n",
       " 69,\n",
       " 1977,\n",
       " 2,\n",
       " 12852,\n",
       " 1687,\n",
       " 12853,\n",
       " 683,\n",
       " 12,\n",
       " 1521,\n",
       " 1,\n",
       " 64,\n",
       " 684,\n",
       " 9127,\n",
       " 2,\n",
       " 2785,\n",
       " 12,\n",
       " 2781,\n",
       " 7,\n",
       " 362,\n",
       " 2,\n",
       " 91,\n",
       " 295,\n",
       " 48,\n",
       " 3237,\n",
       " 7,\n",
       " 5,\n",
       " 3238,\n",
       " 4800,\n",
       " 480,\n",
       " 26,\n",
       " 2985,\n",
       " 3854,\n",
       " 6498,\n",
       " 7,\n",
       " 481,\n",
       " 87,\n",
       " 8,\n",
       " 1546,\n",
       " 97,\n",
       " 1,\n",
       " 4287,\n",
       " 4515,\n",
       " 2329,\n",
       " 6,\n",
       " 426,\n",
       " 3,\n",
       " 16852,\n",
       " 13,\n",
       " 6,\n",
       " 154,\n",
       " 639,\n",
       " 8,\n",
       " 1,\n",
       " 16853,\n",
       " 3854,\n",
       " 6498,\n",
       " 3,\n",
       " 6,\n",
       " 639,\n",
       " 101,\n",
       " 1,\n",
       " 554,\n",
       " 16,\n",
       " 1,\n",
       " 4287,\n",
       " 4515,\n",
       " 5124,\n",
       " 3,\n",
       " 1,\n",
       " 191,\n",
       " 701,\n",
       " 12854,\n",
       " 11,\n",
       " 2781,\n",
       " 7,\n",
       " 2407,\n",
       " 137,\n",
       " 511,\n",
       " 2330,\n",
       " 8,\n",
       " 5,\n",
       " 5502,\n",
       " 166,\n",
       " 1,\n",
       " 2214,\n",
       " 2266,\n",
       " 29,\n",
       " 1734,\n",
       " 2331,\n",
       " 5,\n",
       " 1493,\n",
       " 977,\n",
       " 4,\n",
       " 3239,\n",
       " 2600,\n",
       " 16854,\n",
       " 3,\n",
       " 24,\n",
       " 32,\n",
       " 329,\n",
       " 13,\n",
       " 1,\n",
       " 701,\n",
       " 23,\n",
       " 172,\n",
       " 2,\n",
       " 12855,\n",
       " 2781,\n",
       " 20,\n",
       " 12,\n",
       " 8011,\n",
       " 10633,\n",
       " 14,\n",
       " 5,\n",
       " 2265,\n",
       " 12856,\n",
       " 2780,\n",
       " 1878,\n",
       " 8007,\n",
       " 92,\n",
       " 17,\n",
       " 1767,\n",
       " 1,\n",
       " 2785,\n",
       " 3,\n",
       " 71,\n",
       " 471,\n",
       " 2,\n",
       " 37,\n",
       " 1131,\n",
       " 4801,\n",
       " 2781,\n",
       " 9128,\n",
       " 12,\n",
       " 3103,\n",
       " 2,\n",
       " 29,\n",
       " 822,\n",
       " 3,\n",
       " 24,\n",
       " 85,\n",
       " 5503,\n",
       " 1,\n",
       " 675,\n",
       " 4,\n",
       " 1,\n",
       " 4515,\n",
       " 47,\n",
       " 7,\n",
       " 237,\n",
       " 13,\n",
       " 16855,\n",
       " 4802,\n",
       " 1,\n",
       " 1156,\n",
       " 1047,\n",
       " 1,\n",
       " 1156,\n",
       " 1047,\n",
       " 12857,\n",
       " 112,\n",
       " 4,\n",
       " 1,\n",
       " 4515,\n",
       " 2,\n",
       " 3854,\n",
       " 23,\n",
       " 8012,\n",
       " 6,\n",
       " 5980,\n",
       " 2,\n",
       " 120,\n",
       " 249,\n",
       " 2786,\n",
       " 16,\n",
       " 1,\n",
       " 16856,\n",
       " 4,\n",
       " 1,\n",
       " 78,\n",
       " 9,\n",
       " 2781,\n",
       " 3,\n",
       " 1,\n",
       " 68,\n",
       " 541,\n",
       " 4,\n",
       " 4287,\n",
       " 41,\n",
       " 129,\n",
       " 5,\n",
       " 5504,\n",
       " 103,\n",
       " 16,\n",
       " 402]"
      ]
     },
     "execution_count": 59,
     "metadata": {},
     "output_type": "execute_result"
    }
   ],
   "source": [
    "# What do these sequences look like? Each integer represents a word in the first text history, this is the 1st text history\n",
    "X_train_seq[0]"
   ]
  },
  {
   "cell_type": "code",
   "execution_count": 60,
   "metadata": {
    "ExecuteTime": {
     "end_time": "2021-01-07T21:58:25.829654Z",
     "start_time": "2021-01-07T21:58:25.816747Z"
    }
   },
   "outputs": [],
   "source": [
    "# Pad the sequences so each sequence is the same length\n",
    "\n",
    "X_train_seq_padded = pad_sequences(X_train_seq, 50) \n",
    "X_test_seq_padded = pad_sequences(X_test_seq, 50) "
   ]
  },
  {
   "cell_type": "code",
   "execution_count": 61,
   "metadata": {
    "ExecuteTime": {
     "end_time": "2021-01-07T21:58:28.187795Z",
     "start_time": "2021-01-07T21:58:28.184791Z"
    }
   },
   "outputs": [
    {
     "data": {
      "text/plain": [
       "array([    1,  4515,    47,     7,   237,    13, 16855,  4802,     1,\n",
       "        1156,  1047,     1,  1156,  1047, 12857,   112,     4,     1,\n",
       "        4515,     2,  3854,    23,  8012,     6,  5980,     2,   120,\n",
       "         249,  2786,    16,     1, 16856,     4,     1,    78,     9,\n",
       "        2781,     3,     1,    68,   541,     4,  4287,    41,   129,\n",
       "           5,  5504,   103,    16,   402], dtype=int32)"
      ]
     },
     "execution_count": 61,
     "metadata": {},
     "output_type": "execute_result"
    }
   ],
   "source": [
    "# What do these padded sequences look like?\n",
    "X_train_seq_padded[0]"
   ]
  },
  {
   "cell_type": "code",
   "execution_count": 62,
   "metadata": {
    "ExecuteTime": {
     "end_time": "2021-01-07T21:58:30.782382Z",
     "start_time": "2021-01-07T21:58:30.778424Z"
    }
   },
   "outputs": [],
   "source": [
    "# Import the tools needed from keras and define functions to calculate recall and precision\n",
    "import keras.backend as K\n",
    "from keras.layers import Dense, Embedding, LSTM\n",
    "from keras.models import Sequential\n",
    "\n",
    "def recall_m(y_true, y_pred):\n",
    "        true_positives = K.sum(K.round(K.clip(y_true * y_pred, 0, 1)))\n",
    "        possible_positives = K.sum(K.round(K.clip(y_true, 0, 1)))\n",
    "        recall = true_positives / (possible_positives + K.epsilon())\n",
    "        return recall\n",
    "\n",
    "def precision_m(y_true, y_pred):\n",
    "        true_positives = K.sum(K.round(K.clip(y_true * y_pred, 0, 1)))\n",
    "        predicted_positives = K.sum(K.round(K.clip(y_pred, 0, 1)))\n",
    "        precision = true_positives / (predicted_positives + K.epsilon())\n",
    "        return precision"
   ]
  },
  {
   "cell_type": "code",
   "execution_count": 66,
   "metadata": {
    "ExecuteTime": {
     "end_time": "2021-01-07T22:00:56.517419Z",
     "start_time": "2021-01-07T22:00:56.355372Z"
    }
   },
   "outputs": [
    {
     "name": "stdout",
     "output_type": "stream",
     "text": [
      "Model: \"sequential_3\"\n",
      "_________________________________________________________________\n",
      "Layer (type)                 Output Shape              Param #   \n",
      "=================================================================\n",
      "embedding_3 (Embedding)      (None, None, 32)          866624    \n",
      "_________________________________________________________________\n",
      "lstm_3 (LSTM)                (None, 32)                8320      \n",
      "_________________________________________________________________\n",
      "dense_5 (Dense)              (None, 32)                1056      \n",
      "_________________________________________________________________\n",
      "dense_6 (Dense)              (None, 3)                 99        \n",
      "=================================================================\n",
      "Total params: 876,099\n",
      "Trainable params: 876,099\n",
      "Non-trainable params: 0\n",
      "_________________________________________________________________\n"
     ]
    }
   ],
   "source": [
    "# Construct a simple RNN model\n",
    "model = Sequential()\n",
    "\n",
    "model.add(Embedding(len(tokenizer.index_word)+1, 32))\n",
    "model.add(LSTM(32, dropout=0, recurrent_dropout=0))\n",
    "model.add(Dense(32, activation='relu'))\n",
    "model.add(Dense(3, activation='softmax')) \n",
    "model.summary()"
   ]
  },
  {
   "cell_type": "code",
   "execution_count": 67,
   "metadata": {
    "ExecuteTime": {
     "end_time": "2021-01-07T22:00:58.112709Z",
     "start_time": "2021-01-07T22:00:58.028717Z"
    }
   },
   "outputs": [],
   "source": [
    "# Compile the model\n",
    "model.compile(optimizer='adam',\n",
    "              loss='categorical_crossentropy',\n",
    "              metrics=['accuracy', precision_m, recall_m])"
   ]
  },
  {
   "cell_type": "code",
   "execution_count": 68,
   "metadata": {
    "ExecuteTime": {
     "end_time": "2021-01-07T22:01:08.311937Z",
     "start_time": "2021-01-07T22:00:58.957319Z"
    }
   },
   "outputs": [
    {
     "name": "stderr",
     "output_type": "stream",
     "text": [
      "/Users/amberyandow/anaconda3/envs/learn-env/lib/python3.6/site-packages/tensorflow/python/framework/indexed_slices.py:353: UserWarning: Converting sparse IndexedSlices to a dense Tensor of unknown shape. This may consume a large amount of memory.\n",
      "  \"Converting sparse IndexedSlices to a dense Tensor of unknown shape. \"\n"
     ]
    },
    {
     "name": "stdout",
     "output_type": "stream",
     "text": [
      "Train on 816 samples, validate on 351 samples\n",
      "Epoch 1/10\n",
      "816/816 [==============================] - 2s 2ms/step - loss: 1.0329 - accuracy: 0.5809 - precision_m: 0.0711 - recall_m: 0.0601 - val_loss: 0.9070 - val_accuracy: 0.5926 - val_precision_m: 0.5926 - val_recall_m: 0.5926\n",
      "Epoch 2/10\n",
      "816/816 [==============================] - 1s 1ms/step - loss: 0.8906 - accuracy: 0.5907 - precision_m: 0.5958 - recall_m: 0.5889 - val_loss: 0.8770 - val_accuracy: 0.5926 - val_precision_m: 0.5926 - val_recall_m: 0.5926\n",
      "Epoch 3/10\n",
      "816/816 [==============================] - 1s 885us/step - loss: 0.8233 - accuracy: 0.5907 - precision_m: 0.5995 - recall_m: 0.5938 - val_loss: 0.8677 - val_accuracy: 0.5926 - val_precision_m: 0.5892 - val_recall_m: 0.5812\n",
      "Epoch 4/10\n",
      "816/816 [==============================] - 1s 820us/step - loss: 0.6268 - accuracy: 0.6397 - precision_m: 0.7508 - recall_m: 0.5841 - val_loss: 0.9133 - val_accuracy: 0.6211 - val_precision_m: 0.6846 - val_recall_m: 0.4214\n",
      "Epoch 5/10\n",
      "816/816 [==============================] - 1s 861us/step - loss: 0.4434 - accuracy: 0.8591 - precision_m: 0.9585 - recall_m: 0.5829 - val_loss: 0.9273 - val_accuracy: 0.6097 - val_precision_m: 0.6852 - val_recall_m: 0.4187\n",
      "Epoch 6/10\n",
      "816/816 [==============================] - 1s 841us/step - loss: 0.3623 - accuracy: 0.9093 - precision_m: 0.9681 - recall_m: 0.7079 - val_loss: 1.1681 - val_accuracy: 0.6040 - val_precision_m: 0.6367 - val_recall_m: 0.5696\n",
      "Epoch 7/10\n",
      "816/816 [==============================] - 1s 801us/step - loss: 0.2623 - accuracy: 0.9154 - precision_m: 0.9171 - recall_m: 0.9171 - val_loss: 1.3616 - val_accuracy: 0.5954 - val_precision_m: 0.5998 - val_recall_m: 0.5897\n",
      "Epoch 8/10\n",
      "816/816 [==============================] - 1s 962us/step - loss: 0.1935 - accuracy: 0.9154 - precision_m: 0.9147 - recall_m: 0.9135 - val_loss: 1.5760 - val_accuracy: 0.5271 - val_precision_m: 0.5300 - val_recall_m: 0.5270\n",
      "Epoch 9/10\n",
      "816/816 [==============================] - 1s 938us/step - loss: 0.1128 - accuracy: 0.9449 - precision_m: 0.9470 - recall_m: 0.9447 - val_loss: 1.7453 - val_accuracy: 0.5641 - val_precision_m: 0.5640 - val_recall_m: 0.5640\n",
      "Epoch 10/10\n",
      "816/816 [==============================] - 1s 974us/step - loss: 0.0427 - accuracy: 0.9902 - precision_m: 0.9880 - recall_m: 0.9880 - val_loss: 2.4335 - val_accuracy: 0.4729 - val_precision_m: 0.4726 - val_recall_m: 0.4726\n"
     ]
    }
   ],
   "source": [
    "# Fit the RNN model\n",
    "history = model.fit(X_train_seq_padded, rnn_y_train, \n",
    "                    batch_size=32, epochs=10,\n",
    "                    validation_data=(X_test_seq_padded, rnn_y_test))"
   ]
  },
  {
   "cell_type": "code",
   "execution_count": null,
   "metadata": {},
   "outputs": [],
   "source": []
  }
 ],
 "metadata": {
  "kernelspec": {
   "display_name": "learn-env",
   "language": "python",
   "name": "learn-env"
  },
  "language_info": {
   "codemirror_mode": {
    "name": "ipython",
    "version": 3
   },
   "file_extension": ".py",
   "mimetype": "text/x-python",
   "name": "python",
   "nbconvert_exporter": "python",
   "pygments_lexer": "ipython3",
   "version": "3.6.6"
  },
  "toc": {
   "base_numbering": 1,
   "nav_menu": {},
   "number_sections": true,
   "sideBar": true,
   "skip_h1_title": true,
   "title_cell": "Table of Contents",
   "title_sidebar": "Contents",
   "toc_cell": false,
   "toc_position": {},
   "toc_section_display": true,
   "toc_window_display": false
  }
 },
 "nbformat": 4,
 "nbformat_minor": 2
}
