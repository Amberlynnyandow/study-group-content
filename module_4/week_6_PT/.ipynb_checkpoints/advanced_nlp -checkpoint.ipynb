{
 "cells": [
  {
   "cell_type": "markdown",
   "metadata": {},
   "source": [
    "# NLP Modeling \n",
    "\n",
    "1. Get your raw text into a pandas dataframe\n",
    "2. Tokenize the text - splitting a phrase, sentence, paragraph, or an entire text document into smaller units, such as individual words or terms. Each of these smaller units are called tokens. \n",
    "3. Clean the text - this includes removing stopwords, punctuation and stems or lemmatizing \n",
    "4. Vectorize the text - convert the text to numeric form \n",
    "5. Fit/train an ML and/or deep learning model \n"
   ]
  },
  {
   "cell_type": "code",
   "execution_count": null,
   "metadata": {
    "ExecuteTime": {
     "end_time": "2020-12-21T21:33:51.527366Z",
     "start_time": "2020-12-21T21:33:50.374673Z"
    }
   },
   "outputs": [],
   "source": [
    "import numpy as np \n",
    "import pandas as pd \n",
    "pd.set_option('display.max_colwidth', 100)\n",
    "\n",
    "from matplotlib import pyplot\n",
    "import numpy as np\n",
    "%matplotlib inline\n",
    "\n",
    "import re\n",
    "import string\n",
    "import nltk\n",
    "\n",
    "from sklearn.feature_extraction.text import CountVectorizer\n",
    "from sklearn.feature_extraction.text import TfidfVectorizer\n",
    "\n",
    "from sklearn.ensemble import RandomForestClassifier\n",
    "from sklearn.model_selection import KFold, cross_val_score\n",
    "from sklearn.model_selection import train_test_split\n",
    "\n",
    "\n",
    "df = pd.read_csv(\"/Users/amberyandow/Downloads/superheroes_nlp_dataset.csv\")\n",
    "df.head()"
   ]
  },
  {
   "cell_type": "code",
   "execution_count": null,
   "metadata": {
    "ExecuteTime": {
     "end_time": "2020-12-21T21:33:51.541122Z",
     "start_time": "2020-12-21T21:33:51.529228Z"
    }
   },
   "outputs": [],
   "source": [
    "print(df.info())"
   ]
  },
  {
   "cell_type": "code",
   "execution_count": null,
   "metadata": {
    "ExecuteTime": {
     "end_time": "2020-12-21T21:33:51.550796Z",
     "start_time": "2020-12-21T21:33:51.543035Z"
    }
   },
   "outputs": [],
   "source": [
    "df = df[['name', 'history_text', 'creator', 'alignment']]\n",
    "df.head()"
   ]
  },
  {
   "cell_type": "code",
   "execution_count": null,
   "metadata": {
    "ExecuteTime": {
     "end_time": "2020-12-21T21:33:51.603159Z",
     "start_time": "2020-12-21T21:33:51.553197Z"
    }
   },
   "outputs": [],
   "source": [
    "df.dropna(inplace=True)\n",
    "df.info()"
   ]
  },
  {
   "cell_type": "code",
   "execution_count": null,
   "metadata": {
    "ExecuteTime": {
     "end_time": "2020-12-21T21:33:51.610006Z",
     "start_time": "2020-12-21T21:33:51.604995Z"
    }
   },
   "outputs": [],
   "source": [
    "df.alignment.value_counts()"
   ]
  },
  {
   "cell_type": "markdown",
   "metadata": {},
   "source": [
    "## Create a pipeline to clean our text \n",
    "\n",
    "1. Remove punctuation\n",
    "2. Tokenization\n",
    "3. Remove stopwords\n",
    "4. Lemmatize/Stem"
   ]
  },
  {
   "cell_type": "code",
   "execution_count": null,
   "metadata": {
    "ExecuteTime": {
     "end_time": "2020-12-21T21:33:51.617127Z",
     "start_time": "2020-12-21T21:33:51.611884Z"
    }
   },
   "outputs": [],
   "source": [
    "stopwords = nltk.corpus.stopwords.words('english')\n",
    "ps = nltk.PorterStemmer()\n",
    "string.punctuation"
   ]
  },
  {
   "cell_type": "code",
   "execution_count": null,
   "metadata": {
    "ExecuteTime": {
     "end_time": "2020-12-21T21:34:00.659801Z",
     "start_time": "2020-12-21T21:33:51.618600Z"
    }
   },
   "outputs": [],
   "source": [
    "def clean_history(history):\n",
    "    history = \"\".join([word for word in history if word not in string.punctuation])\n",
    "    tokens = re.split('\\W+', history)\n",
    "    history = [ps.stem(word) for word in tokens if word not in stopwords]\n",
    "    return history\n",
    "\n",
    "df['history_clean'] = df['history_text'].apply(lambda x: clean_history(x.lower()))\n",
    "\n"
   ]
  },
  {
   "cell_type": "code",
   "execution_count": null,
   "metadata": {
    "ExecuteTime": {
     "end_time": "2020-12-21T21:34:00.676524Z",
     "start_time": "2020-12-21T21:34:00.663113Z"
    }
   },
   "outputs": [],
   "source": [
    "df.head()"
   ]
  },
  {
   "cell_type": "markdown",
   "metadata": {},
   "source": [
    "## Vectorizing History Text: TF-IDF"
   ]
  },
  {
   "cell_type": "code",
   "execution_count": null,
   "metadata": {
    "ExecuteTime": {
     "end_time": "2020-12-21T21:34:10.318563Z",
     "start_time": "2020-12-21T21:34:00.678342Z"
    }
   },
   "outputs": [],
   "source": [
    "tfidf_vect = TfidfVectorizer(analyzer=clean_history)\n",
    "X_tfidf = tfidf_vect.fit_transform(df['history_text'])\n",
    "print(X_tfidf.shape)\n",
    "print(tfidf_vect.get_feature_names())"
   ]
  },
  {
   "cell_type": "markdown",
   "metadata": {},
   "source": [
    "#### Vectorizers output sparse matrices\n",
    "\n",
    "_**Sparse Matrix**: A matrix in which most entries are 0. In the interest of efficient storage, a sparse matrix will be stored by only storing the locations of the non-zero elements._"
   ]
  },
  {
   "cell_type": "code",
   "execution_count": null,
   "metadata": {
    "ExecuteTime": {
     "end_time": "2020-12-21T21:34:51.609758Z",
     "start_time": "2020-12-21T21:34:51.484506Z"
    }
   },
   "outputs": [],
   "source": [
    "X_tfidf_df = pd.DataFrame(X_tfidf.toarray())\n",
    "X_tfidf_df.columns = tfidf_vect.get_feature_names()\n",
    "X_tfidf_df.head()"
   ]
  },
  {
   "cell_type": "markdown",
   "metadata": {},
   "source": [
    "## Feature Engineering "
   ]
  },
  {
   "cell_type": "code",
   "execution_count": null,
   "metadata": {
    "ExecuteTime": {
     "end_time": "2020-12-21T21:35:04.937616Z",
     "start_time": "2020-12-21T21:35:04.911973Z"
    }
   },
   "outputs": [],
   "source": [
    "df['history_len'] = df['history_text'].apply(lambda x: len(x) - x.count(\" \")) #subtracting whitespace\n",
    "df.head()"
   ]
  },
  {
   "cell_type": "code",
   "execution_count": null,
   "metadata": {
    "ExecuteTime": {
     "end_time": "2020-12-21T21:35:06.534274Z",
     "start_time": "2020-12-21T21:35:06.193301Z"
    }
   },
   "outputs": [],
   "source": [
    "bins = np.linspace(0, 5000, 100)\n",
    "pyplot.hist(df[df['alignment'] == 'Good']['history_len'], bins, alpha=0.5, normed=True, label='Good')\n",
    "pyplot.hist(df[df['alignment'] == 'Bad']['history_len'], bins, alpha=0.5, normed=True, label='Bad')\n",
    "pyplot.legend(loc='upper right')\n",
    "pyplot.show()"
   ]
  },
  {
   "cell_type": "code",
   "execution_count": null,
   "metadata": {
    "ExecuteTime": {
     "end_time": "2020-12-21T21:35:09.089512Z",
     "start_time": "2020-12-21T21:35:08.778852Z"
    }
   },
   "outputs": [],
   "source": [
    "def count_punct(text):\n",
    "    count = sum([1 for char in text if char in string.punctuation])\n",
    "    return round(count/(len(text) - text.count(\" \")), 3) * 100\n",
    "\n",
    "df['percent_punct'] = df['history_text'].apply(lambda x: count_punct(x))\n",
    "df.head()"
   ]
  },
  {
   "cell_type": "code",
   "execution_count": null,
   "metadata": {
    "ExecuteTime": {
     "end_time": "2020-12-21T21:35:09.995043Z",
     "start_time": "2020-12-21T21:35:09.756969Z"
    }
   },
   "outputs": [],
   "source": [
    "bins = np.linspace(0, 10, 60)\n",
    "pyplot.hist(df[df['alignment'] == 'Good']['percent_punct'], bins, alpha=0.5, normed=True, label='Good')\n",
    "pyplot.hist(df[df['alignment'] == 'Bad']['percent_punct'], bins, alpha=0.5, normed=True, label='Bad')\n",
    "pyplot.legend(loc='upper right')\n",
    "pyplot.show()"
   ]
  },
  {
   "cell_type": "code",
   "execution_count": null,
   "metadata": {
    "ExecuteTime": {
     "end_time": "2020-12-21T21:35:17.099178Z",
     "start_time": "2020-12-21T21:35:16.936394Z"
    }
   },
   "outputs": [],
   "source": [
    "bins = np.linspace(0, 4000, 50)\n",
    "\n",
    "pyplot.hist(df['history_len'], bins)\n",
    "pyplot.title(\"History Length Distribution\")\n",
    "pyplot.show()"
   ]
  },
  {
   "cell_type": "code",
   "execution_count": null,
   "metadata": {
    "ExecuteTime": {
     "end_time": "2020-12-21T21:35:18.020500Z",
     "start_time": "2020-12-21T21:35:17.870491Z"
    }
   },
   "outputs": [],
   "source": [
    "bins = np.linspace(0, 10, 50)\n",
    "\n",
    "pyplot.hist(df['percent_punct'], bins)\n",
    "pyplot.title(\"History Length Distribution\")\n",
    "pyplot.show()"
   ]
  },
  {
   "cell_type": "code",
   "execution_count": null,
   "metadata": {
    "ExecuteTime": {
     "end_time": "2020-12-21T21:35:21.148396Z",
     "start_time": "2020-12-21T21:35:20.374629Z"
    }
   },
   "outputs": [],
   "source": [
    "for i in [1, 2, 3, 4, 5]:\n",
    "    pyplot.hist((df['history_len'])**(1/i), bins=50)\n",
    "    pyplot.title(\"Transformation: 1/{}\".format(str(i)))\n",
    "    pyplot.show()"
   ]
  },
  {
   "cell_type": "code",
   "execution_count": null,
   "metadata": {
    "ExecuteTime": {
     "end_time": "2020-12-21T21:35:24.751453Z",
     "start_time": "2020-12-21T21:35:24.747675Z"
    }
   },
   "outputs": [],
   "source": [
    "df['history_len'] = round(df['history_len']**(1/i), 2)"
   ]
  },
  {
   "cell_type": "code",
   "execution_count": null,
   "metadata": {
    "ExecuteTime": {
     "end_time": "2020-12-21T21:36:12.314899Z",
     "start_time": "2020-12-21T21:36:11.683995Z"
    }
   },
   "outputs": [],
   "source": [
    "X_tfidf_df.info()"
   ]
  },
  {
   "cell_type": "code",
   "execution_count": null,
   "metadata": {
    "ExecuteTime": {
     "end_time": "2020-12-21T21:39:48.484648Z",
     "start_time": "2020-12-21T21:39:47.942575Z"
    }
   },
   "outputs": [],
   "source": [
    "X = pd.concat([df['history_len'], df['percent_punct'], X_tfidf_df], axis=1)\n",
    "X.head()"
   ]
  },
  {
   "cell_type": "code",
   "execution_count": null,
   "metadata": {
    "ExecuteTime": {
     "end_time": "2020-12-21T21:40:02.942791Z",
     "start_time": "2020-12-21T21:40:02.373926Z"
    }
   },
   "outputs": [],
   "source": [
    "X.isna().sum()"
   ]
  },
  {
   "cell_type": "code",
   "execution_count": null,
   "metadata": {
    "ExecuteTime": {
     "end_time": "2020-12-21T21:43:59.343155Z",
     "start_time": "2020-12-21T21:43:56.633302Z"
    }
   },
   "outputs": [],
   "source": [
    "rf = RandomForestClassifier(n_jobs=-1)\n",
    "k_fold = KFold(n_splits=5)\n",
    "cross_val_score(rf, X_tfidf_df, df['alignment'], cv=k_fold, scoring='accuracy', n_jobs=-1)"
   ]
  },
  {
   "cell_type": "markdown",
   "metadata": {},
   "source": [
    "## RNNs \n",
    "\n",
    "#### TF-IDF\n",
    "\n",
    "![](https://image.slidesharecdn.com/9bc43139-1398-4c31-a9cf-ed08dd37ef13-150521205535-lva1-app6891/95/text-mining-association-rules-and-decision-tree-learning-26-638.jpg?cb=1432241853)\n",
    "\n",
    "#### Word-to-Vec\n",
    "![](https://cdn.analyticsvidhya.com/wp-content/uploads/2019/07/img_8.png)\n",
    "\n",
    "#### Recurrent Neural Networks \n",
    "![](https://www.nexmo.com/wp-content/uploads/2020/10/Recurrent-neural-network.png)"
   ]
  },
  {
   "cell_type": "code",
   "execution_count": null,
   "metadata": {},
   "outputs": [],
   "source": []
  }
 ],
 "metadata": {
  "kernelspec": {
   "display_name": "learn-env",
   "language": "python",
   "name": "learn-env"
  },
  "language_info": {
   "codemirror_mode": {
    "name": "ipython",
    "version": 3
   },
   "file_extension": ".py",
   "mimetype": "text/x-python",
   "name": "python",
   "nbconvert_exporter": "python",
   "pygments_lexer": "ipython3",
   "version": "3.6.6"
  },
  "toc": {
   "base_numbering": 1,
   "nav_menu": {},
   "number_sections": true,
   "sideBar": true,
   "skip_h1_title": true,
   "title_cell": "Table of Contents",
   "title_sidebar": "Contents",
   "toc_cell": false,
   "toc_position": {},
   "toc_section_display": true,
   "toc_window_display": false
  }
 },
 "nbformat": 4,
 "nbformat_minor": 2
}
