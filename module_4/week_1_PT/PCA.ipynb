{
 "cells": [
  {
   "cell_type": "markdown",
   "metadata": {},
   "source": [
    "# Principal Component Analysis\n",
    "\n",
    "Think of the predictors in your dataset as dimensions in what we can usefully call \"feature space\". If we're predicting house prices, then we might have a 'square feet' dimension or a 'number of bathrooms' dimension, etc. Then each record (of a house or a house sale, say) would be represented as a point (or vector) in this feature space. Some would score higher on the 'latitude' dimension or lower on the 'number of bedrooms' dimension, or whatever.\n",
    "\n",
    "One difficulty is that, despite our working nomenclature, these things aren't really _dimensions_ in the truest sense, since they're not independent of each other. When we talk about the x-, y-, and z-dimensions of Euclidean 3-space, for example, one important feature is that values of x have no bearing (per se) on values of y or of z. I can move three units along the x-dimension without changing my y- or z-position.\n",
    "\n",
    "But the analogous thing is generally not true for datasets. When I increase my position along the 'number of bedrooms' dimension--or, better, _direction_, I also tend to increase my position along, say, the 'square feet' direction as well.\n",
    "\n",
    "This is problematic for a couple reasons: One is that my model could be in effect \"double-counting\" certain features of my signal, which can lead to overfit models. And if my goal is inference or explanation, then I'm going to have a very hard time distinguishing between the idea that the number of bedrooms is what's _really_ predictive of housing  prices and the idea that the number of square feet is what's really so predictive.\n",
    "\n",
    "The idea behind PCA is to transform our dataset into something more useful for building models. What we want to do is to build new dimensions (predictors) out of the dimensions we are given in such a way that:\n",
    "\n",
    "(1) each dimension we draw captures as much of the remaining variance among our predictors as possible; and <br/>\n",
    "(2) each dimension we draw is orthogonal to the ones we've already drawn.\n",
    "\n",
    "## Motivation\n",
    "\n",
    "Think back to multiple linear regression for a moment.\n",
    "\n",
    "The fundamental idea is that I can get a better prediction for my dependent variable by considering a *linear combination of my predictors* than I can get by considering any one predictor by itself.\n",
    "\n",
    "$\\rightarrow$ **PCA insight**: If the combinations of predictors work better than the predictors themselves, then let's just treat the combinations as our primary dimensions!\n",
    "\n",
    "But one problem with having lots of predictors is that it raises the chance that some will be nearly *collinear*.\n",
    "\n",
    "$\\rightarrow$ **PCA insight**: Since we're reconstructing our dimensions anyway, let's make sure that the dimensions we construct are mutually orthogonal! <br/>\n",
    "$\\rightarrow$ **PCA insight**: Moreover, since we'll be capturing much of the variance among our predictors in the first few dimensions we construct, we'll be able in effect to *reduce  the dimensionality* of our problem. Thus PCA is a fundamental tool in *dimensionality reduction*."
   ]
  },
  {
   "cell_type": "code",
   "execution_count": null,
   "metadata": {
    "ExecuteTime": {
     "end_time": "2020-11-18T17:51:18.959321Z",
     "start_time": "2020-11-18T17:51:17.978826Z"
    }
   },
   "outputs": [],
   "source": [
    "import pandas as pd\n",
    "import numpy as np\n",
    "import seaborn as sns\n",
    "import matplotlib.pyplot as plt\n",
    "%matplotlib inline\n",
    "\n",
    "from sklearn.preprocessing import StandardScaler\n",
    "from sklearn.model_selection import train_test_split\n",
    "from sklearn.linear_model import LinearRegression\n",
    "from sklearn.decomposition import PCA"
   ]
  },
  {
   "cell_type": "code",
   "execution_count": null,
   "metadata": {
    "ExecuteTime": {
     "end_time": "2020-11-18T17:51:36.182104Z",
     "start_time": "2020-11-18T17:51:35.841561Z"
    }
   },
   "outputs": [],
   "source": [
    "cars = pd.read_csv('https://raw.githubusercontent.com/Amberlynnyandow/principal_component_analysis_seattle-ds/master/cars.csv')"
   ]
  },
  {
   "cell_type": "code",
   "execution_count": null,
   "metadata": {
    "ExecuteTime": {
     "end_time": "2020-11-18T17:51:42.471473Z",
     "start_time": "2020-11-18T17:51:42.457425Z"
    }
   },
   "outputs": [],
   "source": [
    "cars.head()"
   ]
  },
  {
   "cell_type": "code",
   "execution_count": null,
   "metadata": {
    "ExecuteTime": {
     "end_time": "2020-11-18T20:15:09.334822Z",
     "start_time": "2020-11-18T20:15:09.332278Z"
    }
   },
   "outputs": [],
   "source": [
    "features = ['mpg', 'cylinders', 'cubicinches', 'hp', 'weightlbs', 'time_to_60', 'year', 'brand']"
   ]
  },
  {
   "cell_type": "code",
   "execution_count": null,
   "metadata": {
    "ExecuteTime": {
     "end_time": "2020-11-18T18:08:45.247519Z",
     "start_time": "2020-11-18T18:08:45.242869Z"
    }
   },
   "outputs": [],
   "source": [
    "X_train, X_test, y_train, y_test = train_test_split(cars.drop('mpg', axis=1),\n",
    "                                                    cars['mpg'],\n",
    "                                                   random_state=20)"
   ]
  },
  {
   "cell_type": "code",
   "execution_count": null,
   "metadata": {
    "ExecuteTime": {
     "end_time": "2020-11-18T18:08:46.080925Z",
     "start_time": "2020-11-18T18:08:46.016708Z"
    }
   },
   "outputs": [],
   "source": [
    "X_train[' cubicinches'].replace(' ', np.nan, inplace=True)\n",
    "X_train[' cubicinches'] = X_train[' cubicinches'].map(float)\n",
    "X_train[' cubicinches'].fillna(X_train[' cubicinches'].mean(skipna=True), inplace=True)"
   ]
  },
  {
   "cell_type": "code",
   "execution_count": null,
   "metadata": {
    "ExecuteTime": {
     "end_time": "2020-11-18T18:08:46.641440Z",
     "start_time": "2020-11-18T18:08:46.636965Z"
    }
   },
   "outputs": [],
   "source": [
    "X_train[' weightlbs'].replace(' ', np.nan, inplace=True)\n",
    "X_train[' weightlbs'] = X_train[' weightlbs'].map(float)\n",
    "X_train[' weightlbs'].fillna(X_train[' weightlbs'].mean(), inplace=True)"
   ]
  },
  {
   "cell_type": "code",
   "execution_count": null,
   "metadata": {
    "ExecuteTime": {
     "end_time": "2020-11-18T18:08:47.110130Z",
     "start_time": "2020-11-18T18:08:47.105388Z"
    }
   },
   "outputs": [],
   "source": [
    "X_train[' cylinders'] = X_train[' cylinders'].map(float)\n",
    "X_train[' hp'] = X_train[' hp'].map(float)\n",
    "X_train[' time-to-60'] = X_train[' time-to-60'].map(float)\n",
    "X_train[' year'] = X_train[' year'].map(float)"
   ]
  },
  {
   "cell_type": "code",
   "execution_count": null,
   "metadata": {
    "ExecuteTime": {
     "end_time": "2020-11-18T18:08:47.608128Z",
     "start_time": "2020-11-18T18:08:47.605836Z"
    }
   },
   "outputs": [],
   "source": [
    "# Scaling\n",
    "ss = StandardScaler()"
   ]
  },
  {
   "cell_type": "code",
   "execution_count": null,
   "metadata": {
    "ExecuteTime": {
     "end_time": "2020-11-18T18:08:49.631855Z",
     "start_time": "2020-11-18T18:08:49.626511Z"
    }
   },
   "outputs": [],
   "source": [
    "# Scale-transforming\n",
    "X_tr_sc = ss.fit_transform(X_train.drop(' brand', axis=1))"
   ]
  },
  {
   "cell_type": "code",
   "execution_count": null,
   "metadata": {
    "ExecuteTime": {
     "end_time": "2020-11-18T18:08:50.167675Z",
     "start_time": "2020-11-18T18:08:50.156749Z"
    }
   },
   "outputs": [],
   "source": [
    "# Let's construct a linear regression\n",
    "lr = LinearRegression().fit(X_tr_sc, y_train)\n",
    "\n",
    "# Score on train\n",
    "lr.score(X_tr_sc, y_train)"
   ]
  },
  {
   "cell_type": "code",
   "execution_count": null,
   "metadata": {
    "ExecuteTime": {
     "end_time": "2020-11-18T18:08:50.996045Z",
     "start_time": "2020-11-18T18:08:50.993151Z"
    }
   },
   "outputs": [],
   "source": [
    "def clean(df):\n",
    "    for col in [' cubicinches', ' weightlbs']:\n",
    "        df[col].replace(' ', np.nan, inplace=True)\n",
    "        df[col] = df[col].map(float)\n",
    "        df[col].replace(np.nan, df[col].mean(), inplace=True)\n",
    "    return df"
   ]
  },
  {
   "cell_type": "code",
   "execution_count": null,
   "metadata": {
    "ExecuteTime": {
     "end_time": "2020-11-18T18:08:51.775681Z",
     "start_time": "2020-11-18T18:08:51.772637Z"
    }
   },
   "outputs": [],
   "source": [
    "def to_float(df):\n",
    "    for col in [' cylinders', ' hp', ' time-to-60', ' year']:\n",
    "        df[col] = df[col].map(float)\n",
    "    return df"
   ]
  },
  {
   "cell_type": "code",
   "execution_count": null,
   "metadata": {
    "ExecuteTime": {
     "end_time": "2020-11-18T18:08:52.366665Z",
     "start_time": "2020-11-18T18:08:52.364177Z"
    }
   },
   "outputs": [],
   "source": [
    "def drop(df):\n",
    "    return df.drop(' brand', axis=1)"
   ]
  },
  {
   "cell_type": "code",
   "execution_count": null,
   "metadata": {
    "ExecuteTime": {
     "end_time": "2020-11-18T18:08:54.304487Z",
     "start_time": "2020-11-18T18:08:54.302394Z"
    }
   },
   "outputs": [],
   "source": [
    "def scale(df):\n",
    "    return ss.transform(df)"
   ]
  },
  {
   "cell_type": "code",
   "execution_count": null,
   "metadata": {
    "ExecuteTime": {
     "end_time": "2020-11-18T18:08:54.851284Z",
     "start_time": "2020-11-18T18:08:54.785632Z"
    }
   },
   "outputs": [],
   "source": [
    "test_cleaned = clean(X_test)\n",
    "test_floated = to_float(test_cleaned)\n",
    "test_dropped = drop(test_floated)\n",
    "test_scaled = scale(test_dropped)"
   ]
  },
  {
   "cell_type": "code",
   "execution_count": null,
   "metadata": {
    "ExecuteTime": {
     "end_time": "2020-11-18T18:08:55.415199Z",
     "start_time": "2020-11-18T18:08:55.411213Z"
    }
   },
   "outputs": [],
   "source": [
    "# Score on test\n",
    "lr.score(test_scaled, y_test)"
   ]
  },
  {
   "cell_type": "code",
   "execution_count": null,
   "metadata": {
    "ExecuteTime": {
     "end_time": "2020-11-18T18:08:56.025788Z",
     "start_time": "2020-11-18T18:08:56.022095Z"
    }
   },
   "outputs": [],
   "source": [
    "# Get the coefficients of the best-fit hyperplane\n",
    "lr.coef_"
   ]
  },
  {
   "cell_type": "markdown",
   "metadata": {},
   "source": [
    "Thus, our best-fit hyperplane is given by:\n",
    "\n",
    "$-1.409\\times cyl + 0.681\\times in^3 - 0.480\\times hp - 4.658\\times lbs. -  0.176\\times time_{60} + 2.427\\times yr$"
   ]
  },
  {
   "cell_type": "markdown",
   "metadata": {},
   "source": [
    "## Eigenvalues and Eigenvectors\n",
    "\n",
    "The key idea is to diagonalize (i.e. find the eigendecomposition of) the covariance matrix. The decomposition will produce a set of orthogonal vectors that explain as much of the remaining variance as possible. These are our [principal components](https://math.stackexchange.com/questions/23596/why-is-the-eigenvector-of-a-covariance-matrix-equal-to-a-principal-component).\n",
    "\n",
    "Let's say a word about eigenvalues and eigenvectors. It turns out that eigenvalues and -vectors have a dizzying number of applications. But the basic idea is that, if we can split a bunch of vectors (i.e. a matrix) into a set of mutually orthogonal vectors, then we can isolate the force of the bunch into discrete bits, each of which by itself acts like a simple linear transformation.\n",
    "\n",
    "That's why the definition of an eigenvector is as it is: $\\vec{x}$ is an eigenvector of the matrix $A$ if $A\\vec{x} = \\lambda\\vec{x}$, for some scalar $\\lambda$. That is, the vector is oriented in just such a direction that multiplying the matrix by it serves only to lengthen or shorten it.\n",
    "\n",
    "Suppose we have the matrix\n",
    "$A =\n",
    "\\begin{bmatrix}\n",
    "a_{11} & a_{12} \\\\\n",
    "a_{21} & a_{22} \\\\\n",
    "\\end{bmatrix}\n",
    "$.\n",
    "\n",
    "![](https://miro.medium.com/max/620/1*cTfEBqBYfLXcgZeBXIFX3Q.png)\n",
    "![](https://builtin.com/sites/default/files/styles/ckeditor_optimize/public/inline-images/Principal%20Component%20Analysis%20Covariance%20Matrix.png)\n",
    "\n",
    "Let's calculate the eigendecomposition of this matrix.\n",
    "\n",
    "In order to do this, we set $(A - \\lambda I)\\vec{x} = 0$. One trivial solution is $\\vec{x} = \\vec{0}$, but if there are more interesting solutions, then it must be that $|A - \\lambda I| = 0$, which is to say that some column vector in $A - \\lambda I$ must be expressible as a linear combination of the other columns. (Otherwise, there would be no way to \"undo\" the multiplicative effect of a column vector on $\\vec{x}$!) For more on this point, see [this page](https://en.wikipedia.org/wiki/Characteristic_polynomial).\n",
    "\n",
    "So we have:\n",
    "\n",
    "$\\begin{vmatrix}\n",
    "a_{11} - \\lambda & a_{12} \\\\\n",
    "a_{21} & a_{22} - \\lambda\n",
    "\\end{vmatrix} = 0$\n",
    "\n",
    "$(a_{11} - \\lambda)(a_{22} - \\lambda) - a_{12}a_{21} = 0$\n",
    "\n",
    "$\\lambda^2 - (a_{11} + a_{22})\\lambda + a_{11}a_{22} - a_{12}a_{21}$\n",
    "\n",
    "$\\lambda = \\frac{a_{11} + a_{22}\\pm\\sqrt{(a_{11} + a_{22})^2 + 4(a_{12}a_{21} - a_{11}a_{22})}}{2}$\n",
    "\n",
    "Suppose e.g. we had\n",
    "\n",
    "$A = \\begin{bmatrix}\n",
    "5 & 3 \\\\\n",
    "3 & 5\n",
    "\\end{bmatrix}$.\n",
    "\n",
    "We can use the equation we just derived to solve for the eigenvalues of this matrix. Then we can plug *those* into our eigenvector definition to solve for the eigenvectors:\n",
    "\n",
    "So:\n",
    "\n",
    "### Eigenvalues\n",
    "\n",
    "$\\lambda = \\frac{5+5\\pm\\sqrt{(5+5)^2+4(3\\times 3 - 5\\times 5)}}{2} = 5\\pm\\frac{\\sqrt{36}}{2} = 2, 8$.\n",
    "\n",
    "### Eigenvectors\n",
    "\n",
    "Now we can plug those in. If we plug in $\\lambda = 8$, then we get:\n",
    "\n",
    "$\\begin{bmatrix}\n",
    "5-8 & 3 \\\\\n",
    "3 & 5-8\n",
    "\\end{bmatrix}\n",
    "\\begin{bmatrix}\n",
    "x_1 \\\\\n",
    "x_2\n",
    "\\end{bmatrix}\n",
    "=\n",
    "\\begin{bmatrix}\n",
    "-3 & 3 \\\\\n",
    "3 & -3\n",
    "\\end{bmatrix}\n",
    "\\begin{bmatrix}\n",
    "x_1 \\\\\n",
    "x_2\n",
    "\\end{bmatrix} = 0.$\n",
    "\n",
    "So:\n",
    "\n",
    "$-3x_1 + 3x_2 = 0$ (or $3x_1 - 3x_2 = 0$)\n",
    "\n",
    "$x_1 = x_2$.\n",
    "\n",
    "It is standard to scale eigenvectors to a magnitude of 1, and so we would write this eigenvector as\n",
    "$\\begin{bmatrix}\n",
    "\\sqrt\\frac{1}{2} \\\\\n",
    "\\sqrt\\frac{1}{2}\n",
    "\\end{bmatrix}$.\n",
    "\n",
    "If we plug in $\\lambda = 2$, we find a second eigenvector equal to\n",
    "$\\begin{bmatrix}\n",
    "-\\sqrt\\frac{1}{2} \\\\\n",
    "\\sqrt\\frac{1}{2}\n",
    "\\end{bmatrix}$. "
   ]
  },
  {
   "cell_type": "markdown",
   "metadata": {},
   "source": [
    "## Applying PCA by Hand"
   ]
  },
  {
   "cell_type": "code",
   "execution_count": null,
   "metadata": {
    "ExecuteTime": {
     "end_time": "2020-11-18T18:10:39.404532Z",
     "start_time": "2020-11-18T18:10:39.399159Z"
    }
   },
   "outputs": [],
   "source": [
    "# We'll start by producing the covariance matrix for the columns of X_tr_sc.\n",
    "\n",
    "cov_mat = np.cov(X_tr_sc, rowvar=False)\n",
    "cov_mat.shape"
   ]
  },
  {
   "cell_type": "code",
   "execution_count": null,
   "metadata": {
    "ExecuteTime": {
     "end_time": "2020-11-18T18:59:46.523157Z",
     "start_time": "2020-11-18T18:59:46.518029Z"
    }
   },
   "outputs": [],
   "source": [
    "cov_mat"
   ]
  },
  {
   "cell_type": "code",
   "execution_count": null,
   "metadata": {
    "ExecuteTime": {
     "end_time": "2020-11-18T19:00:01.080026Z",
     "start_time": "2020-11-18T19:00:01.073967Z"
    }
   },
   "outputs": [],
   "source": [
    "#Compute the eigenvalues and right eigenvectors of a square array.\n",
    "np.linalg.eig(cov_mat)"
   ]
  },
  {
   "cell_type": "code",
   "execution_count": null,
   "metadata": {
    "ExecuteTime": {
     "end_time": "2020-11-18T19:20:23.385969Z",
     "start_time": "2020-11-18T19:20:23.383357Z"
    }
   },
   "outputs": [],
   "source": [
    "# Let's assign the results of eig(cov_mat) to a double of variables.\n",
    "eigvals, eigvecs = np.linalg.eig(cov_mat)"
   ]
  },
  {
   "cell_type": "code",
   "execution_count": null,
   "metadata": {
    "ExecuteTime": {
     "end_time": "2020-11-18T19:21:22.281318Z",
     "start_time": "2020-11-18T19:21:22.277263Z"
    }
   },
   "outputs": [],
   "source": [
    "# The columns of \"eigvecs\" are the eigenvectors!\n",
    "eigvecs"
   ]
  },
  {
   "cell_type": "code",
   "execution_count": null,
   "metadata": {
    "ExecuteTime": {
     "end_time": "2020-11-18T19:22:16.747573Z",
     "start_time": "2020-11-18T19:22:16.744748Z"
    }
   },
   "outputs": [],
   "source": [
    "# The eigenvectors of the covariance matrix are our principal components.\n",
    "# Let's look at the first three.\n",
    "pcabh = np.vstack([row[:3].reshape(1, 3) for row in eigvecs])"
   ]
  },
  {
   "cell_type": "markdown",
   "metadata": {},
   "source": [
    "Now, to transform our data points into the space defined by the principal components, we simply need to compute the dot-product of X_tr_sc with those principal components.\n",
    "\n",
    "Why? Think about what this matrix product looks like:\n",
    "\n",
    "We take a row of X_tr_sc and multiply it by a column of pcabh, pairwise. The row of X_tr_sc represents the values for the columns in the original space. The column of pcabh represents the weights we need on each of the original columns in order to transform a value into principal-component space. And so the product of these two matrices will be each row, transformed into principal-component space!"
   ]
  },
  {
   "cell_type": "code",
   "execution_count": null,
   "metadata": {
    "ExecuteTime": {
     "end_time": "2020-11-18T19:23:08.082566Z",
     "start_time": "2020-11-18T19:23:08.078003Z"
    }
   },
   "outputs": [],
   "source": [
    "X_tr_sc[:5, :]"
   ]
  },
  {
   "cell_type": "code",
   "execution_count": null,
   "metadata": {
    "ExecuteTime": {
     "end_time": "2020-11-18T19:23:40.821074Z",
     "start_time": "2020-11-18T19:23:40.816765Z"
    }
   },
   "outputs": [],
   "source": [
    "X_tr_sc.dot(pcabh)[:5, :]"
   ]
  },
  {
   "cell_type": "code",
   "execution_count": null,
   "metadata": {
    "ExecuteTime": {
     "end_time": "2020-11-18T19:24:12.678512Z",
     "start_time": "2020-11-18T19:24:12.666969Z"
    }
   },
   "outputs": [],
   "source": [
    "# Naturally, sklearn has a shortcut for this!\n",
    "\n",
    "pca = PCA(n_components=3)           # Check out how `n_components` works\n",
    "\n",
    "X_train_new = pca.fit_transform(X_tr_sc)\n",
    "\n",
    "X_train_new"
   ]
  },
  {
   "cell_type": "code",
   "execution_count": null,
   "metadata": {
    "ExecuteTime": {
     "end_time": "2020-11-18T19:24:28.478309Z",
     "start_time": "2020-11-18T19:24:28.474529Z"
    }
   },
   "outputs": [],
   "source": [
    "# Let's check out the explained variance\n",
    "pca.explained_variance_"
   ]
  },
  {
   "cell_type": "code",
   "execution_count": null,
   "metadata": {
    "ExecuteTime": {
     "end_time": "2020-11-18T19:27:07.171794Z",
     "start_time": "2020-11-18T19:27:07.167941Z"
    }
   },
   "outputs": [],
   "source": [
    "# The ratio is often more informative\n",
    "pca.explained_variance_ratio_"
   ]
  },
  {
   "cell_type": "code",
   "execution_count": null,
   "metadata": {
    "ExecuteTime": {
     "end_time": "2020-11-18T19:27:21.005239Z",
     "start_time": "2020-11-18T19:27:21.001208Z"
    }
   },
   "outputs": [],
   "source": [
    "# We can also check out the Principal Components themselves\n",
    "pca.components_"
   ]
  },
  {
   "cell_type": "code",
   "execution_count": null,
   "metadata": {
    "ExecuteTime": {
     "end_time": "2020-11-18T19:27:35.314420Z",
     "start_time": "2020-11-18T19:27:35.310247Z"
    }
   },
   "outputs": [],
   "source": [
    "# Recall the columns of cars\n",
    "cars.columns"
   ]
  },
  {
   "cell_type": "markdown",
   "metadata": {},
   "source": [
    "The results of our PCA are as follows:\n",
    "\n",
    "**PC1** = 0.454 * cylinders + 0.470 * cubicinches + 0.462 * hp + 0.440 * weightlbs - 0.357 * time-to-60 - 0.196 * year\n",
    "\n",
    "**PC2** = -0.143 * cylinders - 0.110 * cubicinches - 0.023 * hp - 0.217 * weightlbs - 0.102 * time-to-60 - 0.954 * year\n",
    "\n",
    "**PC3** = 0.204 * cylinders + 0.153 * cubicinches - 0.129 * hp + 0.361 * weightlbs + 0.860 * time-to-60 - 0.219 * year"
   ]
  },
  {
   "cell_type": "markdown",
   "metadata": {
    "ExecuteTime": {
     "end_time": "2020-11-18T19:29:12.705644Z",
     "start_time": "2020-11-18T19:29:12.700669Z"
    }
   },
   "source": [
    "## Normality"
   ]
  },
  {
   "cell_type": "code",
   "execution_count": null,
   "metadata": {
    "ExecuteTime": {
     "end_time": "2020-11-18T19:30:21.464234Z",
     "start_time": "2020-11-18T19:30:21.458526Z"
    }
   },
   "outputs": [],
   "source": [
    "# These principal components should be normalized.\n",
    "# If they are, then the sum of the squares of the\n",
    "# loadings should be 1. Let's check!\n",
    "\n",
    "mag0 = 0\n",
    "for i in range(6):\n",
    "    mag0 += pca.components_[0][i]**2\n",
    "mag0"
   ]
  },
  {
   "cell_type": "code",
   "execution_count": null,
   "metadata": {
    "ExecuteTime": {
     "end_time": "2020-11-18T19:30:32.082243Z",
     "start_time": "2020-11-18T19:30:32.078176Z"
    }
   },
   "outputs": [],
   "source": [
    "np.linalg.norm(pca.components_[0])"
   ]
  },
  {
   "cell_type": "code",
   "execution_count": null,
   "metadata": {
    "ExecuteTime": {
     "end_time": "2020-11-18T19:30:39.976978Z",
     "start_time": "2020-11-18T19:30:39.973073Z"
    }
   },
   "outputs": [],
   "source": [
    "np.linalg.norm(pca.components_[1])"
   ]
  },
  {
   "cell_type": "code",
   "execution_count": null,
   "metadata": {
    "ExecuteTime": {
     "end_time": "2020-11-18T19:30:49.007697Z",
     "start_time": "2020-11-18T19:30:49.004263Z"
    }
   },
   "outputs": [],
   "source": [
    "np.linalg.norm(pca.components_[2])"
   ]
  },
  {
   "cell_type": "markdown",
   "metadata": {},
   "source": [
    "## Orthogonality"
   ]
  },
  {
   "cell_type": "code",
   "execution_count": null,
   "metadata": {
    "ExecuteTime": {
     "end_time": "2020-11-18T19:56:48.275883Z",
     "start_time": "2020-11-18T19:56:48.272292Z"
    }
   },
   "outputs": [],
   "source": [
    "# These principal components should also be\n",
    "# mutually orthogonal. If they are, then the\n",
    "# dot product of any two of them should be 0.\n",
    "# Let's check!\n",
    "\n",
    "dot_prod01 = 0\n",
    "for i in range(6):\n",
    "    dot_prod01 += pca.components_[0][i] * pca.components_[1][i]\n",
    "dot_prod01"
   ]
  },
  {
   "cell_type": "code",
   "execution_count": null,
   "metadata": {
    "ExecuteTime": {
     "end_time": "2020-11-18T19:58:01.586989Z",
     "start_time": "2020-11-18T19:58:01.583605Z"
    }
   },
   "outputs": [],
   "source": [
    "pca.components_[0].dot(pca.components_[1])"
   ]
  },
  {
   "cell_type": "code",
   "execution_count": null,
   "metadata": {
    "ExecuteTime": {
     "end_time": "2020-11-18T19:57:43.391703Z",
     "start_time": "2020-11-18T19:57:43.387521Z"
    }
   },
   "outputs": [],
   "source": [
    "pca.components_[0].dot(pca.components_[2])"
   ]
  },
  {
   "cell_type": "code",
   "execution_count": null,
   "metadata": {
    "ExecuteTime": {
     "end_time": "2020-11-18T19:57:51.026372Z",
     "start_time": "2020-11-18T19:57:51.022123Z"
    }
   },
   "outputs": [],
   "source": [
    "pca.components_[1].dot(pca.components_[2])"
   ]
  },
  {
   "cell_type": "markdown",
   "metadata": {},
   "source": [
    "## Modeling with New Dimensions\n",
    "Now that we have optimized our features, we can build a new model with them!"
   ]
  },
  {
   "cell_type": "code",
   "execution_count": null,
   "metadata": {
    "ExecuteTime": {
     "end_time": "2020-11-18T20:02:39.190697Z",
     "start_time": "2020-11-18T20:02:39.184813Z"
    }
   },
   "outputs": [],
   "source": [
    "lr_pca = LinearRegression()\n",
    "lr_pca.fit(X_train_new, y_train)\n",
    "lr_pca.score(X_train_new, y_train)"
   ]
  },
  {
   "cell_type": "code",
   "execution_count": null,
   "metadata": {
    "ExecuteTime": {
     "end_time": "2020-11-18T20:02:48.345525Z",
     "start_time": "2020-11-18T20:02:48.342633Z"
    }
   },
   "outputs": [],
   "source": [
    "X_test_new = pca.transform(test_scaled)"
   ]
  },
  {
   "cell_type": "code",
   "execution_count": null,
   "metadata": {
    "ExecuteTime": {
     "end_time": "2020-11-18T20:02:59.708973Z",
     "start_time": "2020-11-18T20:02:59.704738Z"
    }
   },
   "outputs": [],
   "source": [
    "lr_pca.score(X_test_new, y_test)"
   ]
  },
  {
   "cell_type": "code",
   "execution_count": null,
   "metadata": {
    "ExecuteTime": {
     "end_time": "2020-11-18T20:03:30.184021Z",
     "start_time": "2020-11-18T20:03:30.180022Z"
    }
   },
   "outputs": [],
   "source": [
    "lr_pca.coef_"
   ]
  },
  {
   "cell_type": "markdown",
   "metadata": {},
   "source": [
    "Thus, our best-fit hyperplane is given by:\n",
    "\n",
    "$-3.00\\times PC1 - 1.15\\times PC2 -2.49\\times PC3$\n",
    "\n",
    "Of course, since the principal components are just linear combinations of our original predictors, we could re-express this hyperplane in terms of those original predictors!\n",
    "\n",
    "And if the PCA was worth anything, we should expect the new linear model to be *different from* the first!\n",
    "\n",
    "Recall that we had:\n",
    "\n",
    "**PC1** = 0.454 * cylinders + 0.470 * cubicinches + 0.462 * hp + 0.440 * weightlbs - 0.357 * time-to-60 - 0.196 * year\n",
    "\n",
    "**PC2** = -0.143 * cylinders - 0.110 * cubicinches - 0.023 * hp - 0.217 * weightlbs - 0.102 * time-to-60 - 0.954 * year\n",
    "\n",
    "**PC3** = 0.204 * cylinders + 0.153 * cubicinches - 0.129 * hp + 0.361 * weightlbs + 0.860 * time-to-60 - 0.220 * year\n",
    "\n",
    "Therefore, our new PCA-made hyperplane can be expressed as:\n",
    "\n",
    "$-3.00\\times(0.454\\times cyl + 0.470\\times in^3 + 0.462\\times hp + 0.440\\times lbs. - 0.357\\times time_{60} - 0.196\\times yr)$ <br/> $- 1.15\\times(-0.143\\times cyl - 0.110\\times in^3 - 0.023\\times hp - 0.217\\times lbs. - 0.102\\times time_{60} - 0.954\\times yr)$ <br/> $- 2.49\\times(0.204\\times cyl + 0.153\\times in^3 - 0.129\\times hp + 0.361\\times lbs. + 0.860\\times time_{60} - 0.219\\times yr)$ <br/><br/> $= - 1.706\\times cyl - 1.664\\times in^3 -1.038\\times hp - 1.969\\times lbs. - 0.953\\times time_{60} + 2.230\\times yr$"
   ]
  },
  {
   "cell_type": "markdown",
   "metadata": {},
   "source": [
    "Our first linear regression model had:\n",
    "\n",
    "$-1.409\\times cyl + 0.681\\times in^3 - 0.480\\times hp - 4.658\\times lbs. -  0.176\\times time_{60} + 2.427\\times yr$,\n",
    "\n",
    "which is clearly a different hyperplane."
   ]
  },
  {
   "cell_type": "markdown",
   "metadata": {},
   "source": [
    "## Visualizations\n"
   ]
  },
  {
   "cell_type": "code",
   "execution_count": null,
   "metadata": {
    "ExecuteTime": {
     "end_time": "2020-11-18T20:07:50.011448Z",
     "start_time": "2020-11-18T20:07:49.893321Z"
    }
   },
   "outputs": [],
   "source": [
    "plt.plot(np.cumsum(pca.explained_variance_ratio_))\n",
    "plt.xlabel('number of components')\n",
    "plt.ylabel('cumulative explained variance');"
   ]
  },
  {
   "cell_type": "code",
   "execution_count": null,
   "metadata": {
    "ExecuteTime": {
     "end_time": "2020-11-18T20:28:58.378251Z",
     "start_time": "2020-11-18T20:28:58.231169Z"
    }
   },
   "outputs": [],
   "source": [
    "plt.figure(figsize=(12, 6))\n",
    "sns.heatmap(pca.components_, cmap='plasma')"
   ]
  },
  {
   "cell_type": "code",
   "execution_count": null,
   "metadata": {},
   "outputs": [],
   "source": []
  }
 ],
 "metadata": {
  "kernelspec": {
   "display_name": "learn-env",
   "language": "python",
   "name": "learn-env"
  },
  "language_info": {
   "codemirror_mode": {
    "name": "ipython",
    "version": 3
   },
   "file_extension": ".py",
   "mimetype": "text/x-python",
   "name": "python",
   "nbconvert_exporter": "python",
   "pygments_lexer": "ipython3",
   "version": "3.6.6"
  },
  "toc": {
   "base_numbering": 1,
   "nav_menu": {},
   "number_sections": true,
   "sideBar": true,
   "skip_h1_title": true,
   "title_cell": "Table of Contents",
   "title_sidebar": "Contents",
   "toc_cell": false,
   "toc_position": {},
   "toc_section_display": true,
   "toc_window_display": false
  }
 },
 "nbformat": 4,
 "nbformat_minor": 2
}
